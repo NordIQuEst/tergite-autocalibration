{
 "cells": [
  {
   "cell_type": "markdown",
   "metadata": {},
   "source": [
    "# Mixer correction"
   ]
  },
  {
   "cell_type": "markdown",
   "metadata": {},
   "source": [
    "Setup\n",
    "-----\n",
    "\n",
    "First, we are going to import the required packages."
   ]
  },
  {
   "cell_type": "code",
   "execution_count": 1,
   "metadata": {
    "tags": []
   },
   "outputs": [
    {
     "data": {
      "text/html": [
       "<style>.container { width:100% !important; }</style>"
      ],
      "text/plain": [
       "<IPython.core.display.HTML object>"
      ]
     },
     "metadata": {},
     "output_type": "display_data"
    }
   ],
   "source": [
    "# Import ipython widgets\n",
    "import json\n",
    "import math\n",
    "import os\n",
    "\n",
    "import ipywidgets as widgets\n",
    "import matplotlib.pyplot\n",
    "import numpy as np\n",
    "import rich\n",
    "import pandas as pd\n",
    "\n",
    "# Set up the environment.\n",
    "import scipy.signal\n",
    "from IPython.display import display\n",
    "from ipywidgets import fixed, interact, interact_manual, interactive\n",
    "\n",
    "from qblox_instruments import Cluster, PlugAndPlay, Pulsar\n",
    "from IPython.display import display, HTML\n",
    "display(HTML(\"<style>.container { width:100% !important; }</style>\"))"
   ]
  },
  {
   "cell_type": "code",
   "execution_count": 2,
   "metadata": {
    "tags": []
   },
   "outputs": [
    {
     "data": {
      "text/html": [
       "<div>\n",
       "<style scoped>\n",
       "    .dataframe tbody tr th:only-of-type {\n",
       "        vertical-align: middle;\n",
       "    }\n",
       "\n",
       "    .dataframe tbody tr th {\n",
       "        vertical-align: top;\n",
       "    }\n",
       "\n",
       "    .dataframe thead th {\n",
       "        text-align: right;\n",
       "    }\n",
       "</style>\n",
       "<table border=\"1\" class=\"dataframe\">\n",
       "  <thead>\n",
       "    <tr style=\"text-align: right;\">\n",
       "      <th></th>\n",
       "      <th>module</th>\n",
       "      <th>complex_output</th>\n",
       "      <th>sequencer index</th>\n",
       "      <th>lo_freq (Hz)</th>\n",
       "      <th>if (Hz)</th>\n",
       "      <th>dc_mixer_offset_I</th>\n",
       "      <th>dc_mixer_offset_Q</th>\n",
       "      <th>mixer_amp_ratio</th>\n",
       "      <th>mixer_phase_error_deg</th>\n",
       "    </tr>\n",
       "  </thead>\n",
       "  <tbody>\n",
       "  </tbody>\n",
       "</table>\n",
       "</div>"
      ],
      "text/plain": [
       "Empty DataFrame\n",
       "Columns: [module, complex_output, sequencer index, lo_freq (Hz), if (Hz), dc_mixer_offset_I, dc_mixer_offset_Q, mixer_amp_ratio, mixer_phase_error_deg]\n",
       "Index: []"
      ]
     },
     "execution_count": 2,
     "metadata": {},
     "output_type": "execute_result"
    }
   ],
   "source": [
    "# This is the table that we want to populate\n",
    "calibration = pd.DataFrame()\n",
    "calibration[\"module\"]  = []\n",
    "calibration[\"complex_output\"] = []\n",
    "calibration[\"sequencer index\"] = []\n",
    "calibration[\"lo_freq (Hz)\"] = []\n",
    "calibration[\"if (Hz)\"] = []\n",
    "calibration[\"dc_mixer_offset_I\"] = []\n",
    "calibration[\"dc_mixer_offset_Q\"] = []\n",
    "calibration[\"mixer_amp_ratio\"] = []\n",
    "calibration[\"mixer_phase_error_deg\"] = []\n",
    "calibration"
   ]
  },
  {
   "cell_type": "markdown",
   "metadata": {},
   "source": [
    "## Create Q1ASM program to play on the device"
   ]
  },
  {
   "cell_type": "code",
   "execution_count": 3,
   "metadata": {
    "tags": []
   },
   "outputs": [],
   "source": [
    "#Waveform dictionary (data will hold the samples and index will be used to select the waveforms in the instrument).\n",
    "waveforms = {\n",
    "             \"I\":     {\"data\": [], \"index\": 0},\n",
    "             \"Q\":     {\"data\": [], \"index\": 1}\n",
    "            }\n",
    "\n",
    "waveforms[\"I\"][\"data\"] = [0.8]*8000\n",
    "waveforms[\"Q\"][\"data\"] = [0.0]*8000\n",
    "\n",
    "#Sequence program.\n",
    "prog = f\"start: set_mrk 15 \\n play 0,1,1000\\n set_mrk 15 \\n play 0,1,1000\\njmp @start\"\n",
    "\n",
    "#Sequence program which stops.\n",
    "# prog = \"\"\"\n",
    "#         move 1250000, R0\n",
    "#         set_mrk    15\n",
    "# start:\n",
    "#         reset_ph\n",
    "#         upd_param  4\n",
    "#         play       0,1,4\n",
    "#         wait       7996\n",
    "#         loop       R0,@start\n",
    "#         set_mrk    0\n",
    "#         upd_param  4\n",
    "#         stop\n",
    "# \"\"\"\n",
    "\n",
    "#Reformat waveforms to lists if necessary.\n",
    "for name in waveforms:\n",
    "    if str(type(waveforms[name][\"data\"]).__name__) == \"ndarray\":\n",
    "        waveforms[name][\"data\"] = waveforms[name][\"data\"].tolist()  # JSON only supports lists\n",
    "\n",
    "#Add sequence program and waveforms to single dictionary and write to JSON file.\n",
    "wave_and_prog_dict = {\"waveforms\": waveforms, \"weights\": {}, \"acquisitions\": {}, \"program\": prog}\n",
    "with open(\"sequence.json\", 'w', encoding='utf-8') as file:\n",
    "    json.dump(wave_and_prog_dict, file, indent=4)\n",
    "    file.close()"
   ]
  },
  {
   "cell_type": "markdown",
   "metadata": {},
   "source": [
    "## Select Device\n",
    "\n",
    "We scan for the available devices connected via ethernet using the Plug & Play functionality of the Qblox Instruments package (see [Plug & Play](https://qblox-qblox-instruments.readthedocs-hosted.com/en/master/api_reference/pnp.html) for more info)."
   ]
  },
  {
   "cell_type": "code",
   "execution_count": 4,
   "metadata": {
    "tags": []
   },
   "outputs": [
    {
     "data": {
      "application/vnd.jupyter.widget-view+json": {
       "model_id": "9fd7412e0b674e07b7ffd58ec2bbc8ae",
       "version_major": 2,
       "version_minor": 0
      },
      "text/plain": [
       "Dropdown(description='Select Device', options=('192.0.2.141', '192.0.2.72', '192.0.2.143', '192.0.2.142'), val…"
      ]
     },
     "metadata": {},
     "output_type": "display_data"
    }
   ],
   "source": [
    "# Scan for available devices and display\n",
    "with PlugAndPlay() as p:\n",
    "    # get info of all devices\n",
    "    device_list = p.list_devices()\n",
    "    device_keys = list(device_list.keys())\n",
    "\n",
    "# rich.print(device_list)\n",
    "# create widget for names and ip addresses\n",
    "connect = widgets.Dropdown(\n",
    "    options=[(device_list[key][\"identity\"][\"ip\"]) for key in device_list.keys()],\n",
    "    description=\"Select Device\",\n",
    ")\n",
    "display(connect)"
   ]
  },
  {
   "cell_type": "code",
   "execution_count": 20,
   "metadata": {
    "tags": []
   },
   "outputs": [
    {
     "name": "stdout",
     "output_type": "stream",
     "text": [
      "loki_cluster connected at 192.0.2.141\n"
     ]
    }
   ],
   "source": [
    "# close all previous connections to the cluster\n",
    "Cluster.close_all()\n",
    "\n",
    "#device_name = \"pingu_cluster\"\n",
    "device_name = \"loki_cluster\"\n",
    "ip_address = connect.value\n",
    "\n",
    "# connect to the cluster and reset\n",
    "cluster = Cluster(device_name, ip_address)\n",
    "cluster.reset()\n",
    "print(f\"{device_name} connected at {ip_address}\")\n",
    "cluster.identify()"
   ]
  },
  {
   "cell_type": "markdown",
   "metadata": {},
   "source": [
    "## Select Module in Device"
   ]
  },
  {
   "cell_type": "code",
   "execution_count": 30,
   "metadata": {
    "tags": []
   },
   "outputs": [
    {
     "data": {
      "application/vnd.jupyter.widget-view+json": {
       "model_id": "9f75e7c911d040e68c21d51867c15e3e",
       "version_major": 2,
       "version_minor": 0
      },
      "text/plain": [
       "Dropdown(options=('module1', 'module2', 'module3', 'module4', 'module5', 'module6', 'module7', 'module8', 'mod…"
      ]
     },
     "metadata": {},
     "output_type": "display_data"
    }
   ],
   "source": [
    "# Find all QRM/QCM modules\n",
    "cluster.reset()\n",
    "available_slots = {}\n",
    "for module in cluster.modules:\n",
    "    # if module is currently present in stack\n",
    "    if cluster._get_modules_present(module.slot_idx):\n",
    "        # check if QxM is RF or baseband\n",
    "        if module.is_rf_type:\n",
    "            available_slots[f\"module{module.slot_idx}\"] = [\"QCM-RF\", \"QRM-RF\"][\n",
    "                module.is_qrm_type\n",
    "            ]\n",
    "        else:\n",
    "            available_slots[f\"module{module.slot_idx}\"] = [\"QCM\", \"QRM\"][\n",
    "                module.is_qrm_type\n",
    "            ]\n",
    "\n",
    "# List of all QxM modules present\n",
    "connect_qxm = widgets.Dropdown(options=[key for key in available_slots.keys()])\n",
    "display(connect_qxm)"
   ]
  },
  {
   "cell_type": "code",
   "execution_count": 52,
   "metadata": {
    "scrolled": true,
    "tags": []
   },
   "outputs": [
    {
     "name": "stdout",
     "output_type": "stream",
     "text": [
      "module17\n",
      "QRM-RF connected\n",
      "Status: OKAY, Flags: NONE, Slot flags: NONE\n"
     ]
    }
   ],
   "source": [
    "# Connect to the cluster QxM module\n",
    "module = connect_qxm.value\n",
    "print(module)\n",
    "qxm = getattr(cluster, module)\n",
    "print(f\"{available_slots[connect_qxm.value]} connected\")\n",
    "print(cluster.get_system_state())"
   ]
  },
  {
   "cell_type": "markdown",
   "metadata": {},
   "source": [
    "## Select complex output"
   ]
  },
  {
   "cell_type": "code",
   "execution_count": 53,
   "metadata": {
    "scrolled": true,
    "tags": []
   },
   "outputs": [
    {
     "data": {
      "application/vnd.jupyter.widget-view+json": {
       "model_id": "945fd5368ba64167941fb5e6ddd717c8",
       "version_major": 2,
       "version_minor": 0
      },
      "text/plain": [
       "Dropdown(options=('out0',), value='out0')"
      ]
     },
     "metadata": {},
     "output_type": "display_data"
    }
   ],
   "source": [
    "outputs = set(map(lambda i: i.split(\"_\")[0], filter(lambda k: \"out\" in k and (not k.startswith(\"_\")), dir(qxm))))\n",
    "select_out = widgets.Dropdown(options = [key for key in outputs])\n",
    "display(select_out)"
   ]
  },
  {
   "cell_type": "code",
   "execution_count": 24,
   "metadata": {
    "tags": []
   },
   "outputs": [
    {
     "name": "stdout",
     "output_type": "stream",
     "text": [
      "(0, 3793740000.0)\n",
      "(1, 3441770000.0)\n",
      "(2, 3666900000.0)\n",
      "(3, 3406770000.0)\n",
      "(4, 3952580000.0)\n",
      "(5, 3265590000.0)\n",
      "(6, 4006610000.0)\n",
      "(7, 3328310000.0)\n",
      "(8, 3994780000.0)\n",
      "(9, 3413040000.0)\n",
      "(10, 3848060000.0)\n",
      "(11, 3404090000.0)\n",
      "(12, 3986040000.0)\n",
      "(13, 3352940000.0)\n",
      "(14, 4081610000.0)\n"
     ]
    }
   ],
   "source": [
    "qb_freq = np.array([3.69374\t,3.34177\t,3.5669\t,3.30677\t,3.85258\t,3.16559\t,3.90661\t,3.22831\t,3.89478\t,3.31304,3.74806\t,3.30409\t,3.88604\t,3.25294\t,3.98161\n",
    "])*1e9\n",
    "lo = qb_freq + 100e6\n",
    "lo_list = [print(i) for i in enumerate(lo)]"
   ]
  },
  {
   "cell_type": "code",
   "execution_count": 54,
   "metadata": {
    "tags": []
   },
   "outputs": [
    {
     "name": "stdin",
     "output_type": "stream",
     "text": [
      "Enter desired LO frequency (Hz) for 'out0':  6.74e9\n"
     ]
    }
   ],
   "source": [
    "lo_frequency = float(input(f\"Enter desired LO frequency (Hz) for '{select_out.value}': \"))\n",
    "if qxm.module_type.name == \"QRM\":\n",
    "    # qrms only have one complex output\n",
    "    qxm.out0_in0_lo_en(True)\n",
    "    qxm.out0_in0_lo_freq(lo_frequency)\n",
    "else:\n",
    "    lo_en = getattr(qxm, f\"{select_out.value}_lo_en\")\n",
    "    lo_freq = getattr(qxm, f\"{select_out.value}_lo_freq\")\n",
    "    lo_en(True)\n",
    "    lo_freq(lo_frequency)"
   ]
  },
  {
   "cell_type": "markdown",
   "metadata": {},
   "source": [
    "## Select Sequencer in Module"
   ]
  },
  {
   "cell_type": "code",
   "execution_count": 55,
   "metadata": {
    "tags": []
   },
   "outputs": [
    {
     "data": {
      "application/vnd.jupyter.widget-view+json": {
       "model_id": "c351903be064489d88466b9f1e0da59f",
       "version_major": 2,
       "version_minor": 0
      },
      "text/plain": [
       "Dropdown(options=('sequencer0', 'sequencer1', 'sequencer2', 'sequencer3', 'sequencer4', 'sequencer5'), value='…"
      ]
     },
     "metadata": {},
     "output_type": "display_data"
    }
   ],
   "source": [
    "qxm.stop_sequencer()\n",
    "sequencers = { k : getattr(qxm, k) for k in filter(lambda a: a.startswith(\"sequencer\") and (a != \"sequencers\"), dir(qxm)) }\n",
    "select_seq = widgets.Dropdown(options = [key for key in sequencers.keys()])\n",
    "display(select_seq)"
   ]
  },
  {
   "cell_type": "markdown",
   "metadata": {},
   "source": [
    "## Upload program to sequencer"
   ]
  },
  {
   "cell_type": "code",
   "execution_count": 56,
   "metadata": {
    "tags": []
   },
   "outputs": [
    {
     "name": "stdin",
     "output_type": "stream",
     "text": [
      "ENTER IF:  -100e6\n"
     ]
    },
    {
     "name": "stdout",
     "output_type": "stream",
     "text": [
      "-100000000.0\n",
      "loki_cluster_module17_sequencer0\n"
     ]
    }
   ],
   "source": [
    "seq = sequencers[select_seq.value]\n",
    "seq.nco_freq(MY_IF := float(input(\"ENTER IF: \")))   # using 10 MHz IF\n",
    "seq.sequence(os.path.join(os.getcwd(), \"sequence.json\"))\n",
    "seq.mod_en_awg(True)\n",
    "print(MY_IF)\n",
    "print(seq.name)"
   ]
  },
  {
   "cell_type": "markdown",
   "metadata": {},
   "source": [
    "## Control sliders"
   ]
  },
  {
   "cell_type": "code",
   "execution_count": 57,
   "metadata": {
    "tags": []
   },
   "outputs": [
    {
     "data": {
      "text/html": [
       "<pre style=\"white-space:pre;overflow-x:auto;line-height:normal;font-family:Menlo,'DejaVu Sans Mono',consolas,'Courier New',monospace\"><span style=\"color: #008080; text-decoration-color: #008080; font-weight: bold\">1</span>.      Connect complex output <span style=\"color: #008000; text-decoration-color: #008000\">'out0'</span> of cluster <span style=\"color: #008000; text-decoration-color: #008000\">'loki_cluster'</span> module <span style=\"color: #008000; text-decoration-color: #008000\">'module17'</span> to a spectrum analyser.\n",
       "</pre>\n"
      ],
      "text/plain": [
       "\u001b[1;36m1\u001b[0m.      Connect complex output \u001b[32m'out0'\u001b[0m of cluster \u001b[32m'loki_cluster'\u001b[0m module \u001b[32m'module17'\u001b[0m to a spectrum analyser.\n"
      ]
     },
     "metadata": {},
     "output_type": "display_data"
    },
    {
     "data": {
      "text/html": [
       "<pre style=\"white-space:pre;overflow-x:auto;line-height:normal;font-family:Menlo,'DejaVu Sans Mono',consolas,'Courier New',monospace\"><span style=\"color: #008080; text-decoration-color: #008080; font-weight: bold\">2</span>.      In the spectrum analyser, set the center frequency to <span style=\"color: #008080; text-decoration-color: #008080; font-weight: bold\">6.74</span> GHz\n",
       "</pre>\n"
      ],
      "text/plain": [
       "\u001b[1;36m2\u001b[0m.      In the spectrum analyser, set the center frequency to \u001b[1;36m6.74\u001b[0m GHz\n"
      ]
     },
     "metadata": {},
     "output_type": "display_data"
    },
    {
     "data": {
      "text/html": [
       "<pre style=\"white-space:pre;overflow-x:auto;line-height:normal;font-family:Menlo,'DejaVu Sans Mono',consolas,'Courier New',monospace\"><span style=\"color: #008080; text-decoration-color: #008080; font-weight: bold\">3</span>.      Adjust the gain ratio and phase offset sliders until the LSB is gone.\n",
       "</pre>\n"
      ],
      "text/plain": [
       "\u001b[1;36m3\u001b[0m.      Adjust the gain ratio and phase offset sliders until the LSB is gone.\n"
      ]
     },
     "metadata": {},
     "output_type": "display_data"
    },
    {
     "data": {
      "text/html": [
       "<pre style=\"white-space:pre;overflow-x:auto;line-height:normal;font-family:Menlo,'DejaVu Sans Mono',consolas,'Courier New',monospace\"><span style=\"color: #008080; text-decoration-color: #008080; font-weight: bold\">4</span>.      Adjust the I and Q offsets until the LO peak dissapears.\n",
       "</pre>\n"
      ],
      "text/plain": [
       "\u001b[1;36m4\u001b[0m.      Adjust the I and Q offsets until the LO peak dissapears.\n"
      ]
     },
     "metadata": {},
     "output_type": "display_data"
    },
    {
     "data": {
      "text/html": [
       "<pre style=\"white-space:pre;overflow-x:auto;line-height:normal;font-family:Menlo,'DejaVu Sans Mono',consolas,'Courier New',monospace\"><span style=\"color: #008080; text-decoration-color: #008080; font-weight: bold\">5</span>.      When only RSB is visible in the spectrum analyser, save the calibration with the last cell.\n",
       "</pre>\n"
      ],
      "text/plain": [
       "\u001b[1;36m5\u001b[0m.      When only RSB is visible in the spectrum analyser, save the calibration with the last cell.\n"
      ]
     },
     "metadata": {},
     "output_type": "display_data"
    },
    {
     "data": {
      "application/vnd.jupyter.widget-view+json": {
       "model_id": "c64577af718641449b32d99d3de716e8",
       "version_major": 2,
       "version_minor": 0
      },
      "text/plain": [
       "interactive(children=(FloatSlider(value=0.0, description='offset_I', layout=Layout(width='95%'), max=20.0, min…"
      ]
     },
     "metadata": {},
     "output_type": "display_data"
    },
    {
     "data": {
      "application/vnd.jupyter.widget-view+json": {
       "model_id": "2f7f7e76a69249e0af3c132c25b15a10",
       "version_major": 2,
       "version_minor": 0
      },
      "text/plain": [
       "interactive(children=(FloatSlider(value=0.0, description='offset_Q', layout=Layout(width='95%'), max=20.0, min…"
      ]
     },
     "metadata": {},
     "output_type": "display_data"
    },
    {
     "data": {
      "application/vnd.jupyter.widget-view+json": {
       "model_id": "f12aaf9a0d994ecd94e4cb3e72e7a7e2",
       "version_major": 2,
       "version_minor": 0
      },
      "text/plain": [
       "interactive(children=(FloatSlider(value=0.9, description='gain_ratio', layout=Layout(width='95%'), max=1.2, mi…"
      ]
     },
     "metadata": {},
     "output_type": "display_data"
    },
    {
     "data": {
      "application/vnd.jupyter.widget-view+json": {
       "model_id": "7ae9e167260143dfba99d5a86cebb934",
       "version_major": 2,
       "version_minor": 0
      },
      "text/plain": [
       "interactive(children=(FloatSlider(value=0.0, description='phase_offset', layout=Layout(width='95%'), max=40.0,…"
      ]
     },
     "metadata": {},
     "output_type": "display_data"
    },
    {
     "data": {
      "text/plain": [
       "<function __main__.set_phase_offset(phase_offset)>"
      ]
     },
     "execution_count": 57,
     "metadata": {},
     "output_type": "execute_result"
    }
   ],
   "source": [
    "rich.print(f\"1.\\tConnect complex output '{select_out.value}' of cluster '{device_name}' module '{module}' to a spectrum analyser.\")\n",
    "rich.print(f\"2.\\tIn the spectrum analyser, set the center frequency to {lo_frequency/1e9} GHz\")\n",
    "rich.print(f\"3.\\tAdjust the gain ratio and phase offset sliders until the LSB is gone.\")\n",
    "rich.print(f\"4.\\tAdjust the I and Q offsets until the LO peak dissapears.\")\n",
    "rich.print(f\"5.\\tWhen only RSB is visible in the spectrum analyser, save the calibration with the last cell.\")\n",
    "\n",
    "calibrated_values = [0,0,0.5,0] if seq.seq_idx == 0 else calibration.loc[len(calibration)-1][-4:].values.tolist() # storage array\n",
    "#calibrated_values = [-0.004462799999999999*1000, -0.0097599*1000, 0.9824, -5.3845]\n",
    "\n",
    "def set_offset_I(offset_I):\n",
    "    if qxm.module_type.name == \"QRM\":\n",
    "        qxm.out0_offset_path0(offset_I) # qrm have only one output\n",
    "    else:\n",
    "        #print(f\"{select_out.value}_offset_path0\")\n",
    "        offset_path0 = getattr(qxm, f\"{select_out.value}_offset_path0\")\n",
    "        offset_path0(offset_I)\n",
    "\n",
    "    qxm.arm_sequencer(seq.seq_idx)\n",
    "    qxm.start_sequencer(seq.seq_idx)\n",
    "    calibrated_values[0] = offset_I\n",
    "\n",
    "def set_offset_Q(offset_Q):\n",
    "    if qxm.module_type.name == \"QRM\":\n",
    "        qxm.out0_offset_path1(offset_Q) # qrm have only one output\n",
    "    else:\n",
    "        offset_path1 = getattr(qxm, f\"{select_out.value}_offset_path1\")\n",
    "        offset_path1(offset_Q)\n",
    "        \n",
    "    qxm.arm_sequencer(seq.seq_idx)\n",
    "    qxm.start_sequencer(seq.seq_idx)\n",
    "    calibrated_values[1] = offset_Q\n",
    "\n",
    "def set_gain_ratio(gain_ratio):\n",
    "    seq.mixer_corr_gain_ratio(gain_ratio)\n",
    "    qxm.arm_sequencer(seq.seq_idx)\n",
    "    qxm.start_sequencer(seq.seq_idx)\n",
    "    calibrated_values[2] = gain_ratio\n",
    "\n",
    "def set_phase_offset(phase_offset):\n",
    "    seq.mixer_corr_phase_offset_degree(phase_offset)\n",
    "    qxm.arm_sequencer(seq.seq_idx)\n",
    "    qxm.start_sequencer(seq.seq_idx)\n",
    "    calibrated_values[3] = phase_offset\n",
    "\n",
    "interact(\n",
    "    set_offset_I, offset_I=widgets.FloatSlider(min=-20.0, max=20.0, step=0.0001, value=calibrated_values[0], readout_format='.4f', layout=widgets.Layout(width='95%' ))\n",
    ")\n",
    "interact(\n",
    "    set_offset_Q, offset_Q=widgets.FloatSlider(min=-20.0, max=20.0, step=0.0001, value=calibrated_values[1], readout_format='.4f', layout=widgets.Layout(width='95%' ))\n",
    ")\n",
    "interact(\n",
    "    set_gain_ratio,\n",
    "    gain_ratio=widgets.FloatSlider(min=0.9, max=1.2, step=0.0001, value=calibrated_values[2], readout_format='.4f', layout=widgets.Layout(width='95%' )),\n",
    ")\n",
    "interact(\n",
    "    set_phase_offset,\n",
    "    phase_offset=widgets.FloatSlider(min=-40.0, max=40.0, step=0.00001, value=calibrated_values[3], readout_format='.4f', layout=widgets.Layout(width='95%' )),\n",
    ")"
   ]
  },
  {
   "cell_type": "code",
   "execution_count": 58,
   "metadata": {
    "tags": []
   },
   "outputs": [
    {
     "data": {
      "text/html": [
       "<div>\n",
       "<style scoped>\n",
       "    .dataframe tbody tr th:only-of-type {\n",
       "        vertical-align: middle;\n",
       "    }\n",
       "\n",
       "    .dataframe tbody tr th {\n",
       "        vertical-align: top;\n",
       "    }\n",
       "\n",
       "    .dataframe thead th {\n",
       "        text-align: right;\n",
       "    }\n",
       "</style>\n",
       "<table border=\"1\" class=\"dataframe\">\n",
       "  <thead>\n",
       "    <tr style=\"text-align: right;\">\n",
       "      <th></th>\n",
       "      <th>module</th>\n",
       "      <th>complex_output</th>\n",
       "      <th>sequencer index</th>\n",
       "      <th>lo_freq (Hz)</th>\n",
       "      <th>if (Hz)</th>\n",
       "      <th>dc_mixer_offset_I</th>\n",
       "      <th>dc_mixer_offset_Q</th>\n",
       "      <th>mixer_amp_ratio</th>\n",
       "      <th>mixer_phase_error_deg</th>\n",
       "    </tr>\n",
       "  </thead>\n",
       "  <tbody>\n",
       "    <tr>\n",
       "      <th>0</th>\n",
       "      <td>module6</td>\n",
       "      <td>out0</td>\n",
       "      <td>0</td>\n",
       "      <td>3.793740e+09</td>\n",
       "      <td>-100000000.0</td>\n",
       "      <td>-8.9746</td>\n",
       "      <td>-0.0724</td>\n",
       "      <td>0.9844</td>\n",
       "      <td>-23.81146</td>\n",
       "    </tr>\n",
       "    <tr>\n",
       "      <th>1</th>\n",
       "      <td>module7</td>\n",
       "      <td>out0</td>\n",
       "      <td>0</td>\n",
       "      <td>3.441770e+09</td>\n",
       "      <td>-100000000.0</td>\n",
       "      <td>-10.3496</td>\n",
       "      <td>-7.2376</td>\n",
       "      <td>1.0111</td>\n",
       "      <td>-23.30484</td>\n",
       "    </tr>\n",
       "    <tr>\n",
       "      <th>2</th>\n",
       "      <td>module8</td>\n",
       "      <td>out0</td>\n",
       "      <td>0</td>\n",
       "      <td>3.666900e+09</td>\n",
       "      <td>-100000000.0</td>\n",
       "      <td>-10.3497</td>\n",
       "      <td>-2.4246</td>\n",
       "      <td>0.9955</td>\n",
       "      <td>-10.63916</td>\n",
       "    </tr>\n",
       "    <tr>\n",
       "      <th>3</th>\n",
       "      <td>module9</td>\n",
       "      <td>out0</td>\n",
       "      <td>0</td>\n",
       "      <td>3.406770e+09</td>\n",
       "      <td>-100000000.0</td>\n",
       "      <td>-10.6392</td>\n",
       "      <td>-10.1687</td>\n",
       "      <td>1.0188</td>\n",
       "      <td>-18.96232</td>\n",
       "    </tr>\n",
       "    <tr>\n",
       "      <th>4</th>\n",
       "      <td>module10</td>\n",
       "      <td>out0</td>\n",
       "      <td>0</td>\n",
       "      <td>3.952580e+09</td>\n",
       "      <td>-100000000.0</td>\n",
       "      <td>-5.4282</td>\n",
       "      <td>-1.0132</td>\n",
       "      <td>0.9860</td>\n",
       "      <td>-17.51481</td>\n",
       "    </tr>\n",
       "    <tr>\n",
       "      <th>5</th>\n",
       "      <td>module17</td>\n",
       "      <td>out0</td>\n",
       "      <td>0</td>\n",
       "      <td>6.740000e+09</td>\n",
       "      <td>-100000000.0</td>\n",
       "      <td>-7.3461</td>\n",
       "      <td>-6.3329</td>\n",
       "      <td>0.9000</td>\n",
       "      <td>0.00000</td>\n",
       "    </tr>\n",
       "  </tbody>\n",
       "</table>\n",
       "</div>"
      ],
      "text/plain": [
       "     module complex_output  sequencer index  lo_freq (Hz)      if (Hz)   \n",
       "0   module6           out0                0  3.793740e+09 -100000000.0  \\\n",
       "1   module7           out0                0  3.441770e+09 -100000000.0   \n",
       "2   module8           out0                0  3.666900e+09 -100000000.0   \n",
       "3   module9           out0                0  3.406770e+09 -100000000.0   \n",
       "4  module10           out0                0  3.952580e+09 -100000000.0   \n",
       "5  module17           out0                0  6.740000e+09 -100000000.0   \n",
       "\n",
       "   dc_mixer_offset_I  dc_mixer_offset_Q  mixer_amp_ratio   \n",
       "0            -8.9746            -0.0724           0.9844  \\\n",
       "1           -10.3496            -7.2376           1.0111   \n",
       "2           -10.3497            -2.4246           0.9955   \n",
       "3           -10.6392           -10.1687           1.0188   \n",
       "4            -5.4282            -1.0132           0.9860   \n",
       "5            -7.3461            -6.3329           0.9000   \n",
       "\n",
       "   mixer_phase_error_deg  \n",
       "0              -23.81146  \n",
       "1              -23.30484  \n",
       "2              -10.63916  \n",
       "3              -18.96232  \n",
       "4              -17.51481  \n",
       "5                0.00000  "
      ]
     },
     "execution_count": 58,
     "metadata": {},
     "output_type": "execute_result"
    }
   ],
   "source": [
    "calibration.loc[len(calibration)] = [module, select_out.value, seq.seq_idx, lo_frequency, MY_IF, *tuple(calibrated_values)]\n",
    "calibration"
   ]
  },
  {
   "cell_type": "code",
   "execution_count": 60,
   "metadata": {
    "tags": []
   },
   "outputs": [],
   "source": [
    "calibration.to_csv(\"mixercorrectionLokeB25QBC0.csv\")"
   ]
  },
  {
   "cell_type": "code",
   "execution_count": 61,
   "metadata": {
    "tags": []
   },
   "outputs": [],
   "source": [
    "cluster.reset()"
   ]
  },
  {
   "cell_type": "code",
   "execution_count": null,
   "metadata": {},
   "outputs": [],
   "source": []
  }
 ],
 "metadata": {
  "interpreter": {
   "hash": "31f2aee4e71d21fbe5cf8b01ff0e069b9275f58929596ceb00d14d90e3e16cd6"
  },
  "kernelspec": {
   "display_name": "Python 3 (ipykernel)",
   "language": "python",
   "name": "python3"
  },
  "language_info": {
   "codemirror_mode": {
    "name": "ipython",
    "version": 3
   },
   "file_extension": ".py",
   "mimetype": "text/x-python",
   "name": "python",
   "nbconvert_exporter": "python",
   "pygments_lexer": "ipython3",
   "version": "3.8.16"
  }
 },
 "nbformat": 4,
 "nbformat_minor": 4
}
