{
 "cells": [
  {
   "cell_type": "markdown",
   "metadata": {},
   "source": [
    "# Initilization"
   ]
  },
  {
   "cell_type": "markdown",
   "metadata": {},
   "source": [
    "## Cluster Connection"
   ]
  },
  {
   "cell_type": "code",
   "execution_count": 2,
   "metadata": {},
   "outputs": [
    {
     "data": {
      "text/html": [
       "<style>.container { width:100% !important; }</style>"
      ],
      "text/plain": [
       "<IPython.core.display.HTML object>"
      ]
     },
     "metadata": {},
     "output_type": "display_data"
    },
    {
     "name": "stdout",
     "output_type": "stream",
     "text": [
      "loki_cluster connected at 192.0.2.141\n"
     ]
    }
   ],
   "source": [
    "# Import ipython widgets\n",
    "import json\n",
    "import math\n",
    "import os\n",
    "\n",
    "import ipywidgets as widgets\n",
    "import matplotlib.pyplot\n",
    "import numpy as np\n",
    "import rich\n",
    "import pandas as pd\n",
    "\n",
    "# Set up the environment.\n",
    "import scipy.signal\n",
    "from IPython.display import display\n",
    "from ipywidgets import fixed, interact, interact_manual, interactive\n",
    "\n",
    "from qblox_instruments import Cluster, PlugAndPlay, Pulsar\n",
    "from IPython.display import display, HTML\n",
    "display(HTML(\"<style>.container { width:100% !important; }</style>\"))\n",
    "\n",
    "# close all previous connections to the cluster\n",
    "Cluster.close_all()\n",
    "\n",
    "#device_name = \"pingu_cluster\"\n",
    "device_name = \"loki_cluster\"\n",
    "ip_address = '192.0.2.141'\n",
    "# connect to the cluster and reset\n",
    "cluster = Cluster(device_name, ip_address)\n",
    "cluster.reset()\n",
    "print(f\"{device_name} connected at {ip_address}\")"
   ]
  },
  {
   "cell_type": "code",
   "execution_count": 15,
   "metadata": {},
   "outputs": [],
   "source": [
    "# Cluster.close_all()\n",
    "\n",
    "cluster.reset()"
   ]
  },
  {
   "cell_type": "code",
   "execution_count": 11,
   "metadata": {},
   "outputs": [],
   "source": [
    "cluster.reboot()"
   ]
  },
  {
   "cell_type": "markdown",
   "metadata": {},
   "source": [
    "## SPI"
   ]
  },
  {
   "cell_type": "code",
   "execution_count": 42,
   "metadata": {},
   "outputs": [
    {
     "name": "stdout",
     "output_type": "stream",
     "text": [
      "Connected to: Qblox SPI Rack (serial:None, firmware:{'device': 'v1.6 - May 10 2019 - mt', 'driver': {'version': '0.11.1', 'build': '18/09/2023-09:00:54', 'hash': '977377ad', 'dirty': False}}) in 0.00s\n"
     ]
    }
   ],
   "source": [
    "from workers.hardware_utils import SpiDAC\n",
    "spi = SpiDAC()"
   ]
  },
  {
   "cell_type": "code",
   "execution_count": 43,
   "metadata": {},
   "outputs": [],
   "source": [
    "# spi.set_dacs_zero()"
   ]
  },
  {
   "cell_type": "code",
   "execution_count": 44,
   "metadata": {},
   "outputs": [
    {
     "name": "stdout",
     "output_type": "stream",
     "text": [
      " spi_mod_number = 3\n",
      " dac_name = 'dac1'\n",
      " spi_mod_number = 2\n",
      " dac_name = 'dac2'\n"
     ]
    }
   ],
   "source": [
    "dac0 = spi.create_spi_dac('q21_q22')\n",
    "dac1 = spi.create_spi_dac('q16_q21')\n",
    "# dac = spi.create_spi_dac('q13_q14')"
   ]
  },
  {
   "cell_type": "code",
   "execution_count": 45,
   "metadata": {},
   "outputs": [
    {
     "data": {
      "text/plain": [
       "(0.0010398864746093764, 0.0)"
      ]
     },
     "execution_count": 45,
     "metadata": {},
     "output_type": "execute_result"
    }
   ],
   "source": [
    "dac0.current(),dac1.current()"
   ]
  },
  {
   "cell_type": "code",
   "execution_count": 13,
   "metadata": {},
   "outputs": [
    {
     "name": "stdout",
     "output_type": "stream",
     "text": [
      "ramping 0.0005498886108398424\n",
      "ramping 0.0005317687988281236\n",
      "ramping 0.0005117416381835924\n",
      "ramping 0.0004926681518554674\n",
      "ramping 0.00047359466552734236\n",
      "ramping 0.0004535675048828111\n",
      "ramping 0.00043468475341796806\n",
      "ramping 0.0004146575927734368\n",
      "ramping 0.0003955841064453118\n",
      "ramping 0.00037555694580078056\n",
      "ramping 0.00035648345947265556\n",
      "ramping 0.0003364562988281243\n",
      "ramping 0.0003173828124999993\n",
      "ramping 0.00029735565185546806\n",
      "ramping 0.00027828216552734306\n",
      "ramping 0.0002582550048828118\n",
      "ramping 0.00023937225341796875\n",
      "ramping 0.0002193450927734375\n",
      "ramping 0.0002002716064453125\n",
      "ramping 0.00018024444580078125\n",
      "ramping 0.00016117095947265625\n",
      "ramping 0.000141143798828125\n",
      "ramping 0.0001220703125\n",
      "ramping 0.00010204315185546875\n",
      "ramping 8.296966552734375e-05\n",
      "ramping 6.29425048828125e-05\n",
      "ramping 4.4059753417969444e-05\n",
      "ramping 2.4032592773438194e-05\n",
      "ramping 4.959106445313194e-06\n",
      "Finished ramping\n",
      " parking_current = 0.0\n",
      " dac.current() = 0.0\n"
     ]
    }
   ],
   "source": [
    "parking_current = 0e-6\n",
    "spi.set_dac_current(dac0, parking_current)"
   ]
  },
  {
   "cell_type": "code",
   "execution_count": 50,
   "metadata": {},
   "outputs": [
    {
     "name": "stdout",
     "output_type": "stream",
     "text": [
      "ramping 0.0010419845581054674\n",
      "Finished ramping\n",
      " parking_current = 0.001039\n",
      " dac.current() = 0.0010389328002929701\n"
     ]
    }
   ],
   "source": [
    "parking_current = 1039e-6\n",
    "spi.set_dac_current(dac0, parking_current)"
   ]
  },
  {
   "cell_type": "code",
   "execution_count": 33,
   "metadata": {},
   "outputs": [
    {
     "name": "stdout",
     "output_type": "stream",
     "text": [
      "ramping 0.0005998611450195312\n",
      "ramping 0.0005998611450195312\n",
      "ramping 0.0005790710449218757\n",
      "ramping 0.0005584716796874986\n",
      "ramping 0.0005376815795898431\n",
      "ramping 0.0005170822143554694\n",
      "ramping 0.0004962921142578139\n",
      "ramping 0.0004756927490234368\n",
      "ramping 0.00045490264892578125\n",
      "ramping 0.00043430328369140764\n",
      "ramping 0.0004135131835937486\n",
      "ramping 0.000392913818359375\n",
      "ramping 0.0003723144531250014\n",
      "ramping 0.00035152435302734236\n",
      "ramping 0.00033092498779296875\n",
      "ramping 0.0003101348876953132\n",
      "ramping 0.0002895355224609361\n",
      "ramping 0.00026874542236328056\n",
      "ramping 0.00024814605712890694\n",
      "ramping 0.0002273559570312514\n",
      "ramping 0.0002067565917968743\n",
      "ramping 0.0001861572265625007\n",
      "ramping 0.00016536712646484514\n",
      "ramping 0.00014476776123046806\n",
      "ramping 0.0001239776611328125\n",
      "ramping 0.00010337829589843889\n",
      "ramping 8.258819580077986e-05\n",
      "ramping 6.198883056640625e-05\n",
      "ramping 4.1198730468750694e-05\n",
      "ramping 2.0599365234373612e-05\n",
      "Finished ramping\n",
      " parking_current = 0\n",
      " dac.current() = 0.0\n",
      "Finished ramping\n",
      " parking_current = 0\n",
      " dac.current() = 0.0\n"
     ]
    },
    {
     "name": "stderr",
     "output_type": "stream",
     "text": [
      "/home/loke-c/anaconda3/envs/tac/lib/python3.9/site-packages/qblox_instruments/native/spi_rack_modules/s4g_module.py:407: RuntimeWarning: invalid value encountered in scalar divide\n",
      "  dt = np.abs(val_begin - val) / self._ramp_rate / num_steps\n"
     ]
    }
   ],
   "source": [
    "spi.set_dac_current(dac0, 0)\n",
    "spi.set_dac_current(dac1, 0)"
   ]
  },
  {
   "cell_type": "code",
   "execution_count": 20,
   "metadata": {},
   "outputs": [
    {
     "name": "stdout",
     "output_type": "stream",
     "text": [
      "Coupler parameters q21_q22:\n",
      "parking_current: 0\n"
     ]
    }
   ],
   "source": [
    "import redis\n",
    "redis_connection = redis.Redis(decode_responses=True)\n",
    "# couplers = [ 'q13_q14']\n",
    "couplers = [ 'q21_q22']\n",
    "for coupler in couplers: \n",
    "    print(f\"Coupler parameters {coupler}:\")\n",
    "    redis_config = redis_connection.hgetall(f\"transmons:{coupler}\")\n",
    "    # Print the redis config line by line\n",
    "    for key, value in redis_config.items():\n",
    "        print(f\"{key}: {value}\")"
   ]
  },
  {
   "cell_type": "code",
   "execution_count": 8,
   "metadata": {},
   "outputs": [],
   "source": [
    "# coupler = 'q13_q14'\n",
    "coupler = 'q21_q22'\n",
    "transmon_parameter = 'parking_current'\n",
    "# parking_current = 775e-6\n",
    "# parking_current = 750e-6\n",
    "# parking_current = 700e-6\n",
    "for coupler in couplers: \n",
    "    redis_connection.hset(f\"transmons:{coupler}\", f\"{transmon_parameter}\",parking_current)\n",
    "parking_current = float(redis_connection.hget(f'transmons:{coupler}', 'parking_current'))\n",
    "print(parking_current)"
   ]
  },
  {
   "cell_type": "markdown",
   "metadata": {},
   "source": [
    "# TAC Calibration"
   ]
  },
  {
   "cell_type": "code",
   "execution_count": 13,
   "metadata": {},
   "outputs": [
    {
     "name": "stdout",
     "output_type": "stream",
     "text": [
      " remove_node = 'all'\n"
     ]
    }
   ],
   "source": [
    "!python reset_redis.py all"
   ]
  },
  {
   "cell_type": "code",
   "execution_count": 60,
   "metadata": {},
   "outputs": [
    {
     "name": "stdout",
     "output_type": "stream",
     "text": [
      " remove_node = 'cz_calibration_ssro'\n"
     ]
    }
   ],
   "source": [
    "# !python reset_redis.py 'resonator_spectroscopy'\n",
    "# !python reset_redis.py 'qubit_01_spectroscopy_multidim'\n",
    "# !python reset_redis.py 'rabi_oscillations'\n",
    "# !python reset_redis.py 'ramsey_correction'\n",
    "# !python reset_redis.py 'motzoi_parameter'\n",
    "# !python reset_redis.py 'T1'\n",
    "# !python reset_redis.py 'T2'\n",
    "# !python reset_redis.py 'T2_echo'\n",
    "# !python reset_redis.py 'n_rabi_oscillations'\n",
    "# !python reset_redis.py 'resonator_spectroscopy_1'\n",
    "# !python reset_redis.py 'qubit_12_spectroscopy_multidim'\n",
    "# !python reset_redis.py 'rabi_oscillations_12'\n",
    "# !python reset_redis.py 'ramsey_correction_12'\n",
    "# !python reset_redis.py 'resonator_spectroscopy_2'\n",
    "# !python reset_redis.py 'coupler_spectroscopy'\n",
    "# !python reset_redis.py 'cz_chevron'\n",
    "# !python reset_redis.py 'cz_calibration'\n",
    "!python reset_redis.py 'cz_calibration_ssro'\n",
    "# !python reset_redis.py 'cz_dynamic_phase'\n",
    "# !python reset_redis.py 'ro_frequency_optimization_gef'\n",
    "# !python reset_redis.py 'ro_amplitude_optimization_gef'"
   ]
  },
  {
   "cell_type": "code",
   "execution_count": 61,
   "metadata": {},
   "outputs": [
    {
     "name": "stdout",
     "output_type": "stream",
     "text": [
      "clusterA_module13_att:40dB\n",
      "clusterA_module17_att:6dB\n",
      "2024-01-23 12:24:40,965 ◆ calibration_supervisor.py ◆ Starting System Calibration\n",
      "╔════════════════════════════════════════════════════════════════════════════════════════════════════════════════════════════════════════════════════════════════════════════════════════════════════════════════════════╗\n",
      "║ Qubits: 10                                                                                                                                                                                                             ║\n",
      "║↪ resonator_spectroscopy                                                                                                                                                                                                ║\n",
      "║           ↪ qubit_01_spectroscopy_multidim                                                                                                                                                                             ║\n",
      "║                          ↪ rabi_oscillations                                                                                                                                                                           ║\n",
      "║                                  ↪ T1                                                                                                                                                                                  ║\n",
      "║                                   ↪ T2                                                                                                                                                                                 ║\n",
      "║                                    ↪ T2_echo                                                                                                                                                                           ║\n",
      "║                                       ↪ ramsey_correction                                                                                                                                                              ║\n",
      "║                                               ↪ motzoi_parameter                                                                                                                                                       ║\n",
      "║                                                       ↪ n_rabi_oscillations                                                                                                                                            ║\n",
      "║                                                                ↪ resonator_spectroscopy_1                                                                                                                              ║\n",
      "║                                                                            ↪ qubit_12_spectroscopy_multidim                                                                                                            ║\n",
      "║                                                                                           ↪ rabi_oscillations_12                                                                                                       ║\n",
      "║                                                                                                     ↪ ramsey_correction_12                                                                                             ║\n",
      "║                                                                                                               ↪ resonator_spectroscopy_2                                                                               ║\n",
      "║                                                                                                                           ↪ ro_frequency_optimization_gef                                                              ║\n",
      "║                                                                                                                                         ↪ ro_amplitude_optimization_gef                                                ║\n",
      "║                                                                                                                                                       ↪ cz_chevron                                                     ║\n",
      "║                                                                                                                                                            ↪ cz_calibration                                            ║\n",
      "║                                                                                                                                                                   ↪ cz_calibration_ssro                                ║\n",
      "╚════════════════════════════════════════════════════════════════════════════════════════════════════════════════════════════════════════════════════════════════════════════════════════════════════════════════════════╝\n",
      "2024-01-23 12:24:41,024 ◆ calibration_supervisor.py ◆ Inspecting node resonator_spectroscopy\n",
      " ✔  Node resonator_spectroscopy in spec\n",
      "2024-01-23 12:24:41,026 ◆ calibration_supervisor.py ◆ resonator_spectroscopy node is completed\n",
      "2024-01-23 12:24:41,026 ◆ calibration_supervisor.py ◆ Inspecting node qubit_01_spectroscopy_multidim\n",
      " ✔  Node qubit_01_spectroscopy_multidim in spec\n",
      "2024-01-23 12:24:41,027 ◆ calibration_supervisor.py ◆ qubit_01_spectroscopy_multidim node is completed\n",
      "2024-01-23 12:24:41,027 ◆ calibration_supervisor.py ◆ Inspecting node rabi_oscillations\n",
      " ✔  Node rabi_oscillations in spec\n",
      "2024-01-23 12:24:41,029 ◆ calibration_supervisor.py ◆ rabi_oscillations node is completed\n",
      "2024-01-23 12:24:41,029 ◆ calibration_supervisor.py ◆ Inspecting node T1\n",
      " ✔  Node T1 in spec\n",
      "2024-01-23 12:24:41,031 ◆ calibration_supervisor.py ◆ T1 node is completed\n",
      "2024-01-23 12:24:41,031 ◆ calibration_supervisor.py ◆ Inspecting node T2\n",
      " ✔  Node T2 in spec\n",
      "2024-01-23 12:24:41,033 ◆ calibration_supervisor.py ◆ T2 node is completed\n",
      "2024-01-23 12:24:41,033 ◆ calibration_supervisor.py ◆ Inspecting node T2_echo\n",
      " ✔  Node T2_echo in spec\n",
      "2024-01-23 12:24:41,035 ◆ calibration_supervisor.py ◆ T2_echo node is completed\n",
      "2024-01-23 12:24:41,035 ◆ calibration_supervisor.py ◆ Inspecting node ramsey_correction\n",
      " ✔  Node ramsey_correction in spec\n",
      "2024-01-23 12:24:41,036 ◆ calibration_supervisor.py ◆ ramsey_correction node is completed\n",
      "2024-01-23 12:24:41,036 ◆ calibration_supervisor.py ◆ Inspecting node motzoi_parameter\n",
      " ✔  Node motzoi_parameter in spec\n",
      "2024-01-23 12:24:41,038 ◆ calibration_supervisor.py ◆ motzoi_parameter node is completed\n",
      "2024-01-23 12:24:41,038 ◆ calibration_supervisor.py ◆ Inspecting node n_rabi_oscillations\n",
      " ✔  Node n_rabi_oscillations in spec\n",
      "2024-01-23 12:24:41,040 ◆ calibration_supervisor.py ◆ n_rabi_oscillations node is completed\n",
      "2024-01-23 12:24:41,040 ◆ calibration_supervisor.py ◆ Inspecting node resonator_spectroscopy_1\n",
      " ✔  Node resonator_spectroscopy_1 in spec\n",
      "2024-01-23 12:24:41,041 ◆ calibration_supervisor.py ◆ resonator_spectroscopy_1 node is completed\n",
      "2024-01-23 12:24:41,041 ◆ calibration_supervisor.py ◆ Inspecting node qubit_12_spectroscopy_multidim\n",
      " ✔  Node qubit_12_spectroscopy_multidim in spec\n",
      "2024-01-23 12:24:41,043 ◆ calibration_supervisor.py ◆ qubit_12_spectroscopy_multidim node is completed\n",
      "2024-01-23 12:24:41,043 ◆ calibration_supervisor.py ◆ Inspecting node rabi_oscillations_12\n",
      " ✔  Node rabi_oscillations_12 in spec\n",
      "2024-01-23 12:24:41,045 ◆ calibration_supervisor.py ◆ rabi_oscillations_12 node is completed\n",
      "2024-01-23 12:24:41,045 ◆ calibration_supervisor.py ◆ Inspecting node ramsey_correction_12\n",
      " ✔  Node ramsey_correction_12 in spec\n",
      "2024-01-23 12:24:41,046 ◆ calibration_supervisor.py ◆ ramsey_correction_12 node is completed\n",
      "2024-01-23 12:24:41,046 ◆ calibration_supervisor.py ◆ Inspecting node resonator_spectroscopy_2\n",
      " ✔  Node resonator_spectroscopy_2 in spec\n",
      "2024-01-23 12:24:41,048 ◆ calibration_supervisor.py ◆ resonator_spectroscopy_2 node is completed\n",
      "2024-01-23 12:24:41,048 ◆ calibration_supervisor.py ◆ Inspecting node ro_frequency_optimization_gef\n",
      " ✔  Node ro_frequency_optimization_gef in spec\n",
      "2024-01-23 12:24:41,050 ◆ calibration_supervisor.py ◆ ro_frequency_optimization_gef node is completed\n",
      "2024-01-23 12:24:41,050 ◆ calibration_supervisor.py ◆ Inspecting node ro_amplitude_optimization_gef\n",
      " ✔  Node ro_amplitude_optimization_gef in spec\n",
      "2024-01-23 12:24:41,051 ◆ calibration_supervisor.py ◆ ro_amplitude_optimization_gef node is completed\n",
      "2024-01-23 12:24:41,052 ◆ calibration_supervisor.py ◆ Inspecting node cz_chevron\n",
      " ✔  Node cz_chevron in spec\n",
      "2024-01-23 12:24:41,052 ◆ calibration_supervisor.py ◆ cz_chevron node is completed\n",
      "2024-01-23 12:24:41,052 ◆ calibration_supervisor.py ◆ Inspecting node cz_calibration\n",
      " ✔  Node cz_calibration in spec\n",
      "2024-01-23 12:24:41,052 ◆ calibration_supervisor.py ◆ cz_calibration node is completed\n",
      "2024-01-23 12:24:41,052 ◆ calibration_supervisor.py ◆ Inspecting node cz_calibration_ssro\n",
      "⚑⚑⚑ Calibration required for Node cz_calibration_ssro\n",
      "2024-01-23 12:24:41,053 ◆ calibration_supervisor.py ◆ Calibrating node cz_calibration_ssro\n",
      " kwargs = {'couplers': ['q21_q22']}\n",
      "cz_pulse_frequency = {'q21_q22': 216120088.58646688}\n",
      "cz_pulse_duration = {'q21_q22': 3.8382015076688496e-07}\n",
      "cz_pulse_amplitude = {'q21_q22': 0.15}\n",
      "2024-01-23 12:24:41,213 ◆ compilation_worker.py ◆ Starting Compiling\n",
      "Traceback (most recent call last):\n",
      "  File \"/home/loke-c/anaconda3/envs/tac/lib/python3.9/site-packages/quantify_scheduler/backends/qblox/helpers.py\", line 617, in assign_pulse_and_acq_info_to_devices\n",
      "    _ = to_grid_time(pulse_start_time)\n",
      "  File \"/home/loke-c/anaconda3/envs/tac/lib/python3.9/site-packages/quantify_scheduler/backends/qblox/helpers.py\", line 253, in to_grid_time\n",
      "    raise ValueError(\n",
      "ValueError: Attempting to use a time value of 13707435.323919907 ns. Please ensure that the durations of operations and wait times between operations are multiples of 4 ns (tolerance: 1e-03 ns).\n",
      "\n",
      "The above exception was the direct cause of the following exception:\n",
      "\n",
      "Traceback (most recent call last):\n",
      "  File \"/home/loke-c/tergite-autocalibration-lite/workers/calibration_supervisor.py\", line 246, in <module>\n",
      "    calibrate_system()\n",
      "  File \"/home/loke-c/tergite-autocalibration-lite/workers/calibration_supervisor.py\", line 157, in calibrate_system\n",
      "    inspect_node(calibration_node)\n",
      "  File \"/home/loke-c/tergite-autocalibration-lite/workers/calibration_supervisor.py\", line 213, in inspect_node\n",
      "    calibrate_node(node)\n",
      "  File \"/home/loke-c/tergite-autocalibration-lite/workers/calibration_supervisor.py\", line 230, in calibrate_node\n",
      "    compiled_schedule = precompile(node, bin_mode=bin_mode, repetitions=repetitions)\n",
      "  File \"/home/loke-c/tergite-autocalibration-lite/workers/compilation_worker.py\", line 222, in precompile\n",
      "    compiled_schedule = compiler.compile(schedule=schedule, config=compilation_config)\n",
      "  File \"/home/loke-c/anaconda3/envs/tac/lib/python3.9/site-packages/quantify_scheduler/backends/graph_compilation.py\", line 409, in compile\n",
      "    return self._compilation_func(schedule=schedule, config=config)\n",
      "  File \"/home/loke-c/anaconda3/envs/tac/lib/python3.9/site-packages/quantify_scheduler/backends/graph_compilation.py\", line 561, in _compilation_func\n",
      "    schedule = node.compile(\n",
      "  File \"/home/loke-c/anaconda3/envs/tac/lib/python3.9/site-packages/quantify_scheduler/backends/graph_compilation.py\", line 298, in compile\n",
      "    return self._compilation_func(schedule=schedule, config=config)\n",
      "  File \"/home/loke-c/anaconda3/envs/tac/lib/python3.9/site-packages/quantify_scheduler/backends/graph_compilation.py\", line 336, in _compilation_func\n",
      "    return self.compilation_func(schedule=schedule, config=config)\n",
      "  File \"/home/loke-c/anaconda3/envs/tac/lib/python3.9/site-packages/quantify_scheduler/backends/qblox_backend.py\", line 253, in hardware_compile\n",
      "    helpers.assign_pulse_and_acq_info_to_devices(\n",
      "  File \"/home/loke-c/anaconda3/envs/tac/lib/python3.9/site-packages/quantify_scheduler/backends/qblox/helpers.py\", line 619, in assign_pulse_and_acq_info_to_devices\n",
      "    raise ValueError(\n",
      "ValueError: An operation start time of 13707435.323919907 ns does not align with a grid time of 4 ns. Please make sure the start time of all operations is a multiple of 4 ns.\n",
      "\n",
      "Offending operation:\n",
      "{'name': 'IdlePulse', 'gate_info': {}, 'pulse_info': [{'wf_func': None, 't0': 0, 'duration': 1.6e-08, 'clock': 'cl0.baseband', 'port': None}], 'acquisition_info': [], 'logic_info': {}}.\n"
     ]
    }
   ],
   "source": [
    "!python workers/calibration_supervisor.py"
   ]
  },
  {
   "cell_type": "code",
   "execution_count": 6,
   "metadata": {},
   "outputs": [
    {
     "name": "stdout",
     "output_type": "stream",
     "text": [
      "--------------------------------------------\n",
      "parking_current = 0.0010299999999999999\n",
      "--------------------------------------------\n",
      "ramping 0.0010398864746093764\n",
      "Finished ramping\n",
      " parking_current = 0.0010299999999999999\n",
      " dac.current() = 0.00102996826171875\n",
      " remove_node = 'cz_chevron'\n",
      "clusterA_module13_att:40dB\n",
      "clusterA_module17_att:6dB\n",
      "2024-01-22 22:43:09,558 ◆ calibration_supervisor.py ◆ Starting System Calibration\n",
      "╔════════════════════════════════════════════════════════════════════════════════════════════════════════════════════════════════════════════════════════════════════╗\n",
      "║ Qubits: 10                                                                                                                                                         ║\n",
      "║↪ resonator_spectroscopy                                                                                                                                            ║\n",
      "║           ↪ qubit_01_spectroscopy_multidim                                                                                                                         ║\n",
      "║                          ↪ rabi_oscillations                                                                                                                       ║\n",
      "║                                  ↪ T1                                                                                                                              ║\n",
      "║                                   ↪ T2                                                                                                                             ║\n",
      "║                                    ↪ T2_echo                                                                                                                       ║\n",
      "║                                       ↪ ramsey_correction                                                                                                          ║\n",
      "║                                               ↪ motzoi_parameter                                                                                                   ║\n",
      "║                                                       ↪ n_rabi_oscillations                                                                                        ║\n",
      "║                                                                ↪ resonator_spectroscopy_1                                                                          ║\n",
      "║                                                                            ↪ qubit_12_spectroscopy_multidim                                                        ║\n",
      "║                                                                                           ↪ rabi_oscillations_12                                                   ║\n",
      "║                                                                                                     ↪ ramsey_correction_12                                         ║\n",
      "║                                                                                                               ↪ resonator_spectroscopy_2                           ║\n",
      "║                                                                                                                           ↪ cz_chevron                             ║\n",
      "╚════════════════════════════════════════════════════════════════════════════════════════════════════════════════════════════════════════════════════════════════════╝\n",
      "2024-01-22 22:43:09,618 ◆ calibration_supervisor.py ◆ Inspecting node resonator_spectroscopy\n",
      " ✔  \u001b[32m\u001b[1mNode resonator_spectroscopy in spec\u001b[0m\n",
      "2024-01-22 22:43:09,620 ◆ calibration_supervisor.py ◆ resonator_spectroscopy node is completed\n",
      "2024-01-22 22:43:09,620 ◆ calibration_supervisor.py ◆ Inspecting node qubit_01_spectroscopy_multidim\n",
      " ✔  \u001b[32m\u001b[1mNode qubit_01_spectroscopy_multidim in spec\u001b[0m\n",
      "2024-01-22 22:43:09,622 ◆ calibration_supervisor.py ◆ qubit_01_spectroscopy_multidim node is completed\n",
      "2024-01-22 22:43:09,622 ◆ calibration_supervisor.py ◆ Inspecting node rabi_oscillations\n",
      " ✔  \u001b[32m\u001b[1mNode rabi_oscillations in spec\u001b[0m\n",
      "2024-01-22 22:43:09,624 ◆ calibration_supervisor.py ◆ rabi_oscillations node is completed\n",
      "2024-01-22 22:43:09,624 ◆ calibration_supervisor.py ◆ Inspecting node T1\n",
      " ✔  \u001b[32m\u001b[1mNode T1 in spec\u001b[0m\n",
      "2024-01-22 22:43:09,625 ◆ calibration_supervisor.py ◆ T1 node is completed\n",
      "2024-01-22 22:43:09,625 ◆ calibration_supervisor.py ◆ Inspecting node T2\n",
      " ✔  \u001b[32m\u001b[1mNode T2 in spec\u001b[0m\n",
      "2024-01-22 22:43:09,627 ◆ calibration_supervisor.py ◆ T2 node is completed\n",
      "2024-01-22 22:43:09,627 ◆ calibration_supervisor.py ◆ Inspecting node T2_echo\n",
      " ✔  \u001b[32m\u001b[1mNode T2_echo in spec\u001b[0m\n",
      "2024-01-22 22:43:09,629 ◆ calibration_supervisor.py ◆ T2_echo node is completed\n",
      "2024-01-22 22:43:09,629 ◆ calibration_supervisor.py ◆ Inspecting node ramsey_correction\n",
      " ✔  \u001b[32m\u001b[1mNode ramsey_correction in spec\u001b[0m\n",
      "2024-01-22 22:43:09,630 ◆ calibration_supervisor.py ◆ ramsey_correction node is completed\n",
      "2024-01-22 22:43:09,630 ◆ calibration_supervisor.py ◆ Inspecting node motzoi_parameter\n",
      " ✔  \u001b[32m\u001b[1mNode motzoi_parameter in spec\u001b[0m\n",
      "2024-01-22 22:43:09,632 ◆ calibration_supervisor.py ◆ motzoi_parameter node is completed\n",
      "2024-01-22 22:43:09,632 ◆ calibration_supervisor.py ◆ Inspecting node n_rabi_oscillations\n",
      " ✔  \u001b[32m\u001b[1mNode n_rabi_oscillations in spec\u001b[0m\n",
      "2024-01-22 22:43:09,634 ◆ calibration_supervisor.py ◆ n_rabi_oscillations node is completed\n",
      "2024-01-22 22:43:09,634 ◆ calibration_supervisor.py ◆ Inspecting node resonator_spectroscopy_1\n",
      " ✔  \u001b[32m\u001b[1mNode resonator_spectroscopy_1 in spec\u001b[0m\n",
      "2024-01-22 22:43:09,636 ◆ calibration_supervisor.py ◆ resonator_spectroscopy_1 node is completed\n",
      "2024-01-22 22:43:09,636 ◆ calibration_supervisor.py ◆ Inspecting node qubit_12_spectroscopy_multidim\n",
      " ✔  \u001b[32m\u001b[1mNode qubit_12_spectroscopy_multidim in spec\u001b[0m\n",
      "2024-01-22 22:43:09,637 ◆ calibration_supervisor.py ◆ qubit_12_spectroscopy_multidim node is completed\n",
      "2024-01-22 22:43:09,637 ◆ calibration_supervisor.py ◆ Inspecting node rabi_oscillations_12\n",
      " ✔  \u001b[32m\u001b[1mNode rabi_oscillations_12 in spec\u001b[0m\n",
      "2024-01-22 22:43:09,639 ◆ calibration_supervisor.py ◆ rabi_oscillations_12 node is completed\n",
      "2024-01-22 22:43:09,639 ◆ calibration_supervisor.py ◆ Inspecting node ramsey_correction_12\n",
      " ✔  \u001b[32m\u001b[1mNode ramsey_correction_12 in spec\u001b[0m\n",
      "2024-01-22 22:43:09,641 ◆ calibration_supervisor.py ◆ ramsey_correction_12 node is completed\n",
      "2024-01-22 22:43:09,641 ◆ calibration_supervisor.py ◆ Inspecting node resonator_spectroscopy_2\n",
      " ✔  \u001b[32m\u001b[1mNode resonator_spectroscopy_2 in spec\u001b[0m\n",
      "2024-01-22 22:43:09,642 ◆ calibration_supervisor.py ◆ resonator_spectroscopy_2 node is completed\n",
      "2024-01-22 22:43:09,642 ◆ calibration_supervisor.py ◆ Inspecting node cz_chevron\n",
      "⚑⚑⚑ \u001b[31m\u001b[1mCalibration required for Node cz_chevron\u001b[0m\n",
      "2024-01-22 22:43:09,643 ◆ calibration_supervisor.py ◆ Calibrating node cz_chevron\n",
      " kwargs = {'couplers': ['q21_q22']}\n",
      " ac_freq/1e6 = 217.31774355165672 MHz\n",
      " self.coupled_qubits = ['q21', 'q22']\n",
      "cz_pulse_amplitude = {'q21_q22': 0.15}\n",
      "2024-01-22 22:43:09,957 ◆ compilation_worker.py ◆ Starting Compiling\n",
      "2024-01-22 22:43:10,390 ◆ measurement_utils.py ◆ Starting measurement\n",
      " schedule_duration = 181.7361694719992\n",
      "CZ_chevron: 100%|\u001b[34m█████████████████████████████\u001b[0m| 908/908 [03:02<00:00,  4.99it/s]\u001b[0m\n",
      "2024-01-22 22:46:15,382 ◆ measurement_utils.py ◆ Raw dataset acquired\n",
      "2024-01-22 22:46:15,398 ◆ execution_worker.py ◆ Finished measurement\n",
      "2024-01-22 22:46:15,398 ◆ calibration_supervisor.py ◆ measurement completed\n",
      "You should probably enlarge your sweep range. The optimial point is not in the current range.\n",
      "You should probably enlarge your sweep range. The optimial point is not in the current range.\n",
      "2024-01-22 22:46:21,239 ◆ calibration_supervisor.py ◆ analysis completed\n",
      "2024-01-22 22:46:21,239 ◆ calibration_supervisor.py ◆ cz_chevron node is completed\n",
      "\u001b[0m--------------------------------------------\n",
      "parking_current = 0.001032\n",
      "--------------------------------------------\n",
      "ramping 0.00102996826171875\n",
      "Finished ramping\n",
      " parking_current = 0.001032\n",
      " dac.current() = 0.0010318756103515625\n",
      " remove_node = 'cz_chevron'\n",
      "clusterA_module13_att:40dB\n",
      "clusterA_module17_att:6dB\n",
      "2024-01-22 22:46:26,961 ◆ calibration_supervisor.py ◆ Starting System Calibration\n",
      "╔════════════════════════════════════════════════════════════════════════════════════════════════════════════════════════════════════════════════════════════════════╗\n",
      "║ Qubits: 10                                                                                                                                                         ║\n",
      "║↪ resonator_spectroscopy                                                                                                                                            ║\n",
      "║           ↪ qubit_01_spectroscopy_multidim                                                                                                                         ║\n",
      "║                          ↪ rabi_oscillations                                                                                                                       ║\n",
      "║                                  ↪ T1                                                                                                                              ║\n",
      "║                                   ↪ T2                                                                                                                             ║\n",
      "║                                    ↪ T2_echo                                                                                                                       ║\n",
      "║                                       ↪ ramsey_correction                                                                                                          ║\n",
      "║                                               ↪ motzoi_parameter                                                                                                   ║\n",
      "║                                                       ↪ n_rabi_oscillations                                                                                        ║\n",
      "║                                                                ↪ resonator_spectroscopy_1                                                                          ║\n",
      "║                                                                            ↪ qubit_12_spectroscopy_multidim                                                        ║\n",
      "║                                                                                           ↪ rabi_oscillations_12                                                   ║\n",
      "║                                                                                                     ↪ ramsey_correction_12                                         ║\n",
      "║                                                                                                               ↪ resonator_spectroscopy_2                           ║\n",
      "║                                                                                                                           ↪ cz_chevron                             ║\n",
      "╚════════════════════════════════════════════════════════════════════════════════════════════════════════════════════════════════════════════════════════════════════╝\n",
      "2024-01-22 22:46:27,020 ◆ calibration_supervisor.py ◆ Inspecting node resonator_spectroscopy\n",
      " ✔  \u001b[32m\u001b[1mNode resonator_spectroscopy in spec\u001b[0m\n",
      "2024-01-22 22:46:27,022 ◆ calibration_supervisor.py ◆ resonator_spectroscopy node is completed\n",
      "2024-01-22 22:46:27,022 ◆ calibration_supervisor.py ◆ Inspecting node qubit_01_spectroscopy_multidim\n",
      " ✔  \u001b[32m\u001b[1mNode qubit_01_spectroscopy_multidim in spec\u001b[0m\n",
      "2024-01-22 22:46:27,024 ◆ calibration_supervisor.py ◆ qubit_01_spectroscopy_multidim node is completed\n",
      "2024-01-22 22:46:27,024 ◆ calibration_supervisor.py ◆ Inspecting node rabi_oscillations\n",
      " ✔  \u001b[32m\u001b[1mNode rabi_oscillations in spec\u001b[0m\n",
      "2024-01-22 22:46:27,025 ◆ calibration_supervisor.py ◆ rabi_oscillations node is completed\n",
      "2024-01-22 22:46:27,025 ◆ calibration_supervisor.py ◆ Inspecting node T1\n",
      " ✔  \u001b[32m\u001b[1mNode T1 in spec\u001b[0m\n",
      "2024-01-22 22:46:27,027 ◆ calibration_supervisor.py ◆ T1 node is completed\n",
      "2024-01-22 22:46:27,027 ◆ calibration_supervisor.py ◆ Inspecting node T2\n",
      " ✔  \u001b[32m\u001b[1mNode T2 in spec\u001b[0m\n",
      "2024-01-22 22:46:27,029 ◆ calibration_supervisor.py ◆ T2 node is completed\n",
      "2024-01-22 22:46:27,029 ◆ calibration_supervisor.py ◆ Inspecting node T2_echo\n",
      " ✔  \u001b[32m\u001b[1mNode T2_echo in spec\u001b[0m\n",
      "2024-01-22 22:46:27,030 ◆ calibration_supervisor.py ◆ T2_echo node is completed\n",
      "2024-01-22 22:46:27,031 ◆ calibration_supervisor.py ◆ Inspecting node ramsey_correction\n",
      " ✔  \u001b[32m\u001b[1mNode ramsey_correction in spec\u001b[0m\n",
      "2024-01-22 22:46:27,032 ◆ calibration_supervisor.py ◆ ramsey_correction node is completed\n",
      "2024-01-22 22:46:27,032 ◆ calibration_supervisor.py ◆ Inspecting node motzoi_parameter\n",
      " ✔  \u001b[32m\u001b[1mNode motzoi_parameter in spec\u001b[0m\n",
      "2024-01-22 22:46:27,034 ◆ calibration_supervisor.py ◆ motzoi_parameter node is completed\n",
      "2024-01-22 22:46:27,034 ◆ calibration_supervisor.py ◆ Inspecting node n_rabi_oscillations\n",
      " ✔  \u001b[32m\u001b[1mNode n_rabi_oscillations in spec\u001b[0m\n",
      "2024-01-22 22:46:27,036 ◆ calibration_supervisor.py ◆ n_rabi_oscillations node is completed\n",
      "2024-01-22 22:46:27,036 ◆ calibration_supervisor.py ◆ Inspecting node resonator_spectroscopy_1\n",
      " ✔  \u001b[32m\u001b[1mNode resonator_spectroscopy_1 in spec\u001b[0m\n",
      "2024-01-22 22:46:27,037 ◆ calibration_supervisor.py ◆ resonator_spectroscopy_1 node is completed\n",
      "2024-01-22 22:46:27,037 ◆ calibration_supervisor.py ◆ Inspecting node qubit_12_spectroscopy_multidim\n",
      " ✔  \u001b[32m\u001b[1mNode qubit_12_spectroscopy_multidim in spec\u001b[0m\n",
      "2024-01-22 22:46:27,039 ◆ calibration_supervisor.py ◆ qubit_12_spectroscopy_multidim node is completed\n",
      "2024-01-22 22:46:27,039 ◆ calibration_supervisor.py ◆ Inspecting node rabi_oscillations_12\n",
      " ✔  \u001b[32m\u001b[1mNode rabi_oscillations_12 in spec\u001b[0m\n",
      "2024-01-22 22:46:27,041 ◆ calibration_supervisor.py ◆ rabi_oscillations_12 node is completed\n",
      "2024-01-22 22:46:27,041 ◆ calibration_supervisor.py ◆ Inspecting node ramsey_correction_12\n",
      " ✔  \u001b[32m\u001b[1mNode ramsey_correction_12 in spec\u001b[0m\n",
      "2024-01-22 22:46:27,042 ◆ calibration_supervisor.py ◆ ramsey_correction_12 node is completed\n",
      "2024-01-22 22:46:27,042 ◆ calibration_supervisor.py ◆ Inspecting node resonator_spectroscopy_2\n",
      " ✔  \u001b[32m\u001b[1mNode resonator_spectroscopy_2 in spec\u001b[0m\n",
      "2024-01-22 22:46:27,044 ◆ calibration_supervisor.py ◆ resonator_spectroscopy_2 node is completed\n",
      "2024-01-22 22:46:27,044 ◆ calibration_supervisor.py ◆ Inspecting node cz_chevron\n",
      "⚑⚑⚑ \u001b[31m\u001b[1mCalibration required for Node cz_chevron\u001b[0m\n",
      "2024-01-22 22:46:27,044 ◆ calibration_supervisor.py ◆ Calibrating node cz_chevron\n",
      " kwargs = {'couplers': ['q21_q22']}\n",
      " ac_freq/1e6 = 217.31774355165672 MHz\n",
      " self.coupled_qubits = ['q21', 'q22']\n",
      "cz_pulse_amplitude = {'q21_q22': 0.15}\n",
      "2024-01-22 22:46:27,350 ◆ compilation_worker.py ◆ Starting Compiling\n",
      "2024-01-22 22:46:27,781 ◆ measurement_utils.py ◆ Starting measurement\n",
      " schedule_duration = 181.7361694719992\n",
      "CZ_chevron: 100%|\u001b[34m█████████████████████████████\u001b[0m| 908/908 [03:02<00:00,  4.99it/s]\u001b[0m\n",
      "2024-01-22 22:49:32,861 ◆ measurement_utils.py ◆ Raw dataset acquired\n",
      "2024-01-22 22:49:32,876 ◆ execution_worker.py ◆ Finished measurement\n",
      "2024-01-22 22:49:32,877 ◆ calibration_supervisor.py ◆ measurement completed\n",
      "No enough available points. Please resweep once again or enlarge sweep range.\n",
      "np.min(coupling_strength): 0.001530911971867283\n",
      "np.min(data_fit): 0.0017457354922482142\n",
      "We use the raw measured data.\n",
      "2024-01-22 22:49:38,733 ◆ calibration_supervisor.py ◆ analysis completed\n",
      "2024-01-22 22:49:38,733 ◆ calibration_supervisor.py ◆ cz_chevron node is completed\n",
      "\u001b[0m--------------------------------------------\n",
      "parking_current = 0.001034\n",
      "--------------------------------------------\n",
      "ramping 0.0010318756103515625\n",
      "Finished ramping\n",
      " parking_current = 0.001034\n",
      " dac.current() = 0.001033973693847657\n",
      " remove_node = 'cz_chevron'\n",
      "clusterA_module13_att:40dB\n",
      "clusterA_module17_att:6dB\n",
      "2024-01-22 22:49:44,429 ◆ calibration_supervisor.py ◆ Starting System Calibration\n",
      "╔════════════════════════════════════════════════════════════════════════════════════════════════════════════════════════════════════════════════════════════════════╗\n",
      "║ Qubits: 10                                                                                                                                                         ║\n",
      "║↪ resonator_spectroscopy                                                                                                                                            ║\n",
      "║           ↪ qubit_01_spectroscopy_multidim                                                                                                                         ║\n",
      "║                          ↪ rabi_oscillations                                                                                                                       ║\n",
      "║                                  ↪ T1                                                                                                                              ║\n",
      "║                                   ↪ T2                                                                                                                             ║\n",
      "║                                    ↪ T2_echo                                                                                                                       ║\n",
      "║                                       ↪ ramsey_correction                                                                                                          ║\n",
      "║                                               ↪ motzoi_parameter                                                                                                   ║\n",
      "║                                                       ↪ n_rabi_oscillations                                                                                        ║\n",
      "║                                                                ↪ resonator_spectroscopy_1                                                                          ║\n",
      "║                                                                            ↪ qubit_12_spectroscopy_multidim                                                        ║\n",
      "║                                                                                           ↪ rabi_oscillations_12                                                   ║\n",
      "║                                                                                                     ↪ ramsey_correction_12                                         ║\n",
      "║                                                                                                               ↪ resonator_spectroscopy_2                           ║\n",
      "║                                                                                                                           ↪ cz_chevron                             ║\n",
      "╚════════════════════════════════════════════════════════════════════════════════════════════════════════════════════════════════════════════════════════════════════╝\n",
      "2024-01-22 22:49:44,489 ◆ calibration_supervisor.py ◆ Inspecting node resonator_spectroscopy\n",
      " ✔  \u001b[32m\u001b[1mNode resonator_spectroscopy in spec\u001b[0m\n",
      "2024-01-22 22:49:44,491 ◆ calibration_supervisor.py ◆ resonator_spectroscopy node is completed\n",
      "2024-01-22 22:49:44,491 ◆ calibration_supervisor.py ◆ Inspecting node qubit_01_spectroscopy_multidim\n",
      " ✔  \u001b[32m\u001b[1mNode qubit_01_spectroscopy_multidim in spec\u001b[0m\n",
      "2024-01-22 22:49:44,492 ◆ calibration_supervisor.py ◆ qubit_01_spectroscopy_multidim node is completed\n",
      "2024-01-22 22:49:44,492 ◆ calibration_supervisor.py ◆ Inspecting node rabi_oscillations\n",
      " ✔  \u001b[32m\u001b[1mNode rabi_oscillations in spec\u001b[0m\n",
      "2024-01-22 22:49:44,494 ◆ calibration_supervisor.py ◆ rabi_oscillations node is completed\n",
      "2024-01-22 22:49:44,494 ◆ calibration_supervisor.py ◆ Inspecting node T1\n",
      " ✔  \u001b[32m\u001b[1mNode T1 in spec\u001b[0m\n",
      "2024-01-22 22:49:44,496 ◆ calibration_supervisor.py ◆ T1 node is completed\n",
      "2024-01-22 22:49:44,496 ◆ calibration_supervisor.py ◆ Inspecting node T2\n",
      " ✔  \u001b[32m\u001b[1mNode T2 in spec\u001b[0m\n",
      "2024-01-22 22:49:44,497 ◆ calibration_supervisor.py ◆ T2 node is completed\n",
      "2024-01-22 22:49:44,497 ◆ calibration_supervisor.py ◆ Inspecting node T2_echo\n",
      " ✔  \u001b[32m\u001b[1mNode T2_echo in spec\u001b[0m\n",
      "2024-01-22 22:49:44,499 ◆ calibration_supervisor.py ◆ T2_echo node is completed\n",
      "2024-01-22 22:49:44,499 ◆ calibration_supervisor.py ◆ Inspecting node ramsey_correction\n",
      " ✔  \u001b[32m\u001b[1mNode ramsey_correction in spec\u001b[0m\n",
      "2024-01-22 22:49:44,501 ◆ calibration_supervisor.py ◆ ramsey_correction node is completed\n",
      "2024-01-22 22:49:44,501 ◆ calibration_supervisor.py ◆ Inspecting node motzoi_parameter\n",
      " ✔  \u001b[32m\u001b[1mNode motzoi_parameter in spec\u001b[0m\n",
      "2024-01-22 22:49:44,503 ◆ calibration_supervisor.py ◆ motzoi_parameter node is completed\n",
      "2024-01-22 22:49:44,503 ◆ calibration_supervisor.py ◆ Inspecting node n_rabi_oscillations\n",
      " ✔  \u001b[32m\u001b[1mNode n_rabi_oscillations in spec\u001b[0m\n",
      "2024-01-22 22:49:44,505 ◆ calibration_supervisor.py ◆ n_rabi_oscillations node is completed\n",
      "2024-01-22 22:49:44,505 ◆ calibration_supervisor.py ◆ Inspecting node resonator_spectroscopy_1\n",
      " ✔  \u001b[32m\u001b[1mNode resonator_spectroscopy_1 in spec\u001b[0m\n",
      "2024-01-22 22:49:44,506 ◆ calibration_supervisor.py ◆ resonator_spectroscopy_1 node is completed\n",
      "2024-01-22 22:49:44,506 ◆ calibration_supervisor.py ◆ Inspecting node qubit_12_spectroscopy_multidim\n",
      " ✔  \u001b[32m\u001b[1mNode qubit_12_spectroscopy_multidim in spec\u001b[0m\n",
      "2024-01-22 22:49:44,508 ◆ calibration_supervisor.py ◆ qubit_12_spectroscopy_multidim node is completed\n",
      "2024-01-22 22:49:44,508 ◆ calibration_supervisor.py ◆ Inspecting node rabi_oscillations_12\n",
      " ✔  \u001b[32m\u001b[1mNode rabi_oscillations_12 in spec\u001b[0m\n",
      "2024-01-22 22:49:44,509 ◆ calibration_supervisor.py ◆ rabi_oscillations_12 node is completed\n",
      "2024-01-22 22:49:44,509 ◆ calibration_supervisor.py ◆ Inspecting node ramsey_correction_12\n",
      " ✔  \u001b[32m\u001b[1mNode ramsey_correction_12 in spec\u001b[0m\n",
      "2024-01-22 22:49:44,511 ◆ calibration_supervisor.py ◆ ramsey_correction_12 node is completed\n",
      "2024-01-22 22:49:44,511 ◆ calibration_supervisor.py ◆ Inspecting node resonator_spectroscopy_2\n",
      " ✔  \u001b[32m\u001b[1mNode resonator_spectroscopy_2 in spec\u001b[0m\n",
      "2024-01-22 22:49:44,513 ◆ calibration_supervisor.py ◆ resonator_spectroscopy_2 node is completed\n",
      "2024-01-22 22:49:44,513 ◆ calibration_supervisor.py ◆ Inspecting node cz_chevron\n",
      "⚑⚑⚑ \u001b[31m\u001b[1mCalibration required for Node cz_chevron\u001b[0m\n",
      "2024-01-22 22:49:44,513 ◆ calibration_supervisor.py ◆ Calibrating node cz_chevron\n",
      " kwargs = {'couplers': ['q21_q22']}\n",
      " ac_freq/1e6 = 217.31774355165672 MHz\n",
      " self.coupled_qubits = ['q21', 'q22']\n",
      "cz_pulse_amplitude = {'q21_q22': 0.15}\n",
      "2024-01-22 22:49:44,818 ◆ compilation_worker.py ◆ Starting Compiling\n",
      "2024-01-22 22:49:45,243 ◆ measurement_utils.py ◆ Starting measurement\n",
      " schedule_duration = 181.7361694719992\n",
      "CZ_chevron: 100%|\u001b[34m█████████████████████████████\u001b[0m| 908/908 [03:02<00:00,  4.99it/s]\u001b[0m\n",
      "2024-01-22 22:52:50,381 ◆ measurement_utils.py ◆ Raw dataset acquired\n",
      "2024-01-22 22:52:50,395 ◆ execution_worker.py ◆ Finished measurement\n",
      "2024-01-22 22:52:50,395 ◆ calibration_supervisor.py ◆ measurement completed\n",
      "You should probably enlarge your sweep range. The optimial point is not in the current range.\n",
      "np.min(coupling_strength): 0.001983010613167734\n",
      "np.min(data_fit): 0.0020205821075516776\n",
      "We use the raw measured data.\n",
      "2024-01-22 22:52:56,252 ◆ calibration_supervisor.py ◆ analysis completed\n",
      "2024-01-22 22:52:56,252 ◆ calibration_supervisor.py ◆ cz_chevron node is completed\n",
      "\u001b[0m--------------------------------------------\n",
      "parking_current = 0.001036\n",
      "--------------------------------------------\n",
      "ramping 0.001033973693847657\n",
      "Finished ramping\n",
      " parking_current = 0.001036\n",
      " dac.current() = 0.0010358810424804694\n",
      " remove_node = 'cz_chevron'\n",
      "clusterA_module13_att:40dB\n",
      "clusterA_module17_att:6dB\n",
      "2024-01-22 22:53:01,952 ◆ calibration_supervisor.py ◆ Starting System Calibration\n",
      "╔════════════════════════════════════════════════════════════════════════════════════════════════════════════════════════════════════════════════════════════════════╗\n",
      "║ Qubits: 10                                                                                                                                                         ║\n",
      "║↪ resonator_spectroscopy                                                                                                                                            ║\n",
      "║           ↪ qubit_01_spectroscopy_multidim                                                                                                                         ║\n",
      "║                          ↪ rabi_oscillations                                                                                                                       ║\n",
      "║                                  ↪ T1                                                                                                                              ║\n",
      "║                                   ↪ T2                                                                                                                             ║\n",
      "║                                    ↪ T2_echo                                                                                                                       ║\n",
      "║                                       ↪ ramsey_correction                                                                                                          ║\n",
      "║                                               ↪ motzoi_parameter                                                                                                   ║\n",
      "║                                                       ↪ n_rabi_oscillations                                                                                        ║\n",
      "║                                                                ↪ resonator_spectroscopy_1                                                                          ║\n",
      "║                                                                            ↪ qubit_12_spectroscopy_multidim                                                        ║\n",
      "║                                                                                           ↪ rabi_oscillations_12                                                   ║\n",
      "║                                                                                                     ↪ ramsey_correction_12                                         ║\n",
      "║                                                                                                               ↪ resonator_spectroscopy_2                           ║\n",
      "║                                                                                                                           ↪ cz_chevron                             ║\n",
      "╚════════════════════════════════════════════════════════════════════════════════════════════════════════════════════════════════════════════════════════════════════╝\n",
      "2024-01-22 22:53:02,010 ◆ calibration_supervisor.py ◆ Inspecting node resonator_spectroscopy\n",
      " ✔  \u001b[32m\u001b[1mNode resonator_spectroscopy in spec\u001b[0m\n",
      "2024-01-22 22:53:02,012 ◆ calibration_supervisor.py ◆ resonator_spectroscopy node is completed\n",
      "2024-01-22 22:53:02,012 ◆ calibration_supervisor.py ◆ Inspecting node qubit_01_spectroscopy_multidim\n",
      " ✔  \u001b[32m\u001b[1mNode qubit_01_spectroscopy_multidim in spec\u001b[0m\n",
      "2024-01-22 22:53:02,014 ◆ calibration_supervisor.py ◆ qubit_01_spectroscopy_multidim node is completed\n",
      "2024-01-22 22:53:02,014 ◆ calibration_supervisor.py ◆ Inspecting node rabi_oscillations\n",
      " ✔  \u001b[32m\u001b[1mNode rabi_oscillations in spec\u001b[0m\n",
      "2024-01-22 22:53:02,015 ◆ calibration_supervisor.py ◆ rabi_oscillations node is completed\n",
      "2024-01-22 22:53:02,015 ◆ calibration_supervisor.py ◆ Inspecting node T1\n",
      " ✔  \u001b[32m\u001b[1mNode T1 in spec\u001b[0m\n",
      "2024-01-22 22:53:02,017 ◆ calibration_supervisor.py ◆ T1 node is completed\n",
      "2024-01-22 22:53:02,017 ◆ calibration_supervisor.py ◆ Inspecting node T2\n",
      " ✔  \u001b[32m\u001b[1mNode T2 in spec\u001b[0m\n",
      "2024-01-22 22:53:02,019 ◆ calibration_supervisor.py ◆ T2 node is completed\n",
      "2024-01-22 22:53:02,019 ◆ calibration_supervisor.py ◆ Inspecting node T2_echo\n",
      " ✔  \u001b[32m\u001b[1mNode T2_echo in spec\u001b[0m\n",
      "2024-01-22 22:53:02,021 ◆ calibration_supervisor.py ◆ T2_echo node is completed\n",
      "2024-01-22 22:53:02,021 ◆ calibration_supervisor.py ◆ Inspecting node ramsey_correction\n",
      " ✔  \u001b[32m\u001b[1mNode ramsey_correction in spec\u001b[0m\n",
      "2024-01-22 22:53:02,023 ◆ calibration_supervisor.py ◆ ramsey_correction node is completed\n",
      "2024-01-22 22:53:02,023 ◆ calibration_supervisor.py ◆ Inspecting node motzoi_parameter\n",
      " ✔  \u001b[32m\u001b[1mNode motzoi_parameter in spec\u001b[0m\n",
      "2024-01-22 22:53:02,024 ◆ calibration_supervisor.py ◆ motzoi_parameter node is completed\n",
      "2024-01-22 22:53:02,024 ◆ calibration_supervisor.py ◆ Inspecting node n_rabi_oscillations\n",
      " ✔  \u001b[32m\u001b[1mNode n_rabi_oscillations in spec\u001b[0m\n",
      "2024-01-22 22:53:02,026 ◆ calibration_supervisor.py ◆ n_rabi_oscillations node is completed\n",
      "2024-01-22 22:53:02,026 ◆ calibration_supervisor.py ◆ Inspecting node resonator_spectroscopy_1\n",
      " ✔  \u001b[32m\u001b[1mNode resonator_spectroscopy_1 in spec\u001b[0m\n",
      "2024-01-22 22:53:02,028 ◆ calibration_supervisor.py ◆ resonator_spectroscopy_1 node is completed\n",
      "2024-01-22 22:53:02,028 ◆ calibration_supervisor.py ◆ Inspecting node qubit_12_spectroscopy_multidim\n",
      " ✔  \u001b[32m\u001b[1mNode qubit_12_spectroscopy_multidim in spec\u001b[0m\n",
      "2024-01-22 22:53:02,029 ◆ calibration_supervisor.py ◆ qubit_12_spectroscopy_multidim node is completed\n",
      "2024-01-22 22:53:02,029 ◆ calibration_supervisor.py ◆ Inspecting node rabi_oscillations_12\n",
      " ✔  \u001b[32m\u001b[1mNode rabi_oscillations_12 in spec\u001b[0m\n",
      "2024-01-22 22:53:02,031 ◆ calibration_supervisor.py ◆ rabi_oscillations_12 node is completed\n",
      "2024-01-22 22:53:02,031 ◆ calibration_supervisor.py ◆ Inspecting node ramsey_correction_12\n",
      " ✔  \u001b[32m\u001b[1mNode ramsey_correction_12 in spec\u001b[0m\n",
      "2024-01-22 22:53:02,033 ◆ calibration_supervisor.py ◆ ramsey_correction_12 node is completed\n",
      "2024-01-22 22:53:02,033 ◆ calibration_supervisor.py ◆ Inspecting node resonator_spectroscopy_2\n",
      " ✔  \u001b[32m\u001b[1mNode resonator_spectroscopy_2 in spec\u001b[0m\n",
      "2024-01-22 22:53:02,035 ◆ calibration_supervisor.py ◆ resonator_spectroscopy_2 node is completed\n",
      "2024-01-22 22:53:02,035 ◆ calibration_supervisor.py ◆ Inspecting node cz_chevron\n",
      "⚑⚑⚑ \u001b[31m\u001b[1mCalibration required for Node cz_chevron\u001b[0m\n",
      "2024-01-22 22:53:02,035 ◆ calibration_supervisor.py ◆ Calibrating node cz_chevron\n",
      " kwargs = {'couplers': ['q21_q22']}\n",
      " ac_freq/1e6 = 217.31774355165672 MHz\n",
      " self.coupled_qubits = ['q21', 'q22']\n",
      "cz_pulse_amplitude = {'q21_q22': 0.15}\n",
      "2024-01-22 22:53:02,337 ◆ compilation_worker.py ◆ Starting Compiling\n",
      "2024-01-22 22:53:02,761 ◆ measurement_utils.py ◆ Starting measurement\n",
      " schedule_duration = 181.7361694719992\n",
      "CZ_chevron: 100%|\u001b[34m█████████████████████████████\u001b[0m| 908/908 [03:02<00:00,  4.99it/s]\u001b[0m\n",
      "2024-01-22 22:56:07,898 ◆ measurement_utils.py ◆ Raw dataset acquired\n",
      "2024-01-22 22:56:07,913 ◆ execution_worker.py ◆ Finished measurement\n",
      "2024-01-22 22:56:07,913 ◆ calibration_supervisor.py ◆ measurement completed\n",
      "/home/loke-c/anaconda3/envs/tac/lib/python3.9/site-packages/scipy/optimize/_minpack_py.py:494: RuntimeWarning: Number of calls to function has reached maxfev = 1000.\n",
      "  warnings.warn(errors[info][0], RuntimeWarning)\n",
      "np.min(coupling_strength): 0.0017762497747472801\n",
      "np.min(data_fit): 0.0017794066472086095\n",
      "We use the raw measured data.\n",
      "np.min(coupling_strength): 0.002089770746198844\n",
      "np.min(data_fit): 0.0021845163804430716\n",
      "We use the raw measured data.\n",
      "2024-01-22 22:56:13,736 ◆ calibration_supervisor.py ◆ analysis completed\n",
      "2024-01-22 22:56:13,736 ◆ calibration_supervisor.py ◆ cz_chevron node is completed\n",
      "\u001b[0m--------------------------------------------\n",
      "parking_current = 0.0010379999999999999\n",
      "--------------------------------------------\n",
      "ramping 0.0010358810424804694\n",
      "Finished ramping\n",
      " parking_current = 0.0010379999999999999\n",
      " dac.current() = 0.0010379791259765639\n",
      " remove_node = 'cz_chevron'\n",
      "clusterA_module13_att:40dB\n",
      "clusterA_module17_att:6dB\n",
      "2024-01-22 22:56:19,476 ◆ calibration_supervisor.py ◆ Starting System Calibration\n",
      "╔════════════════════════════════════════════════════════════════════════════════════════════════════════════════════════════════════════════════════════════════════╗\n",
      "║ Qubits: 10                                                                                                                                                         ║\n",
      "║↪ resonator_spectroscopy                                                                                                                                            ║\n",
      "║           ↪ qubit_01_spectroscopy_multidim                                                                                                                         ║\n",
      "║                          ↪ rabi_oscillations                                                                                                                       ║\n",
      "║                                  ↪ T1                                                                                                                              ║\n",
      "║                                   ↪ T2                                                                                                                             ║\n",
      "║                                    ↪ T2_echo                                                                                                                       ║\n",
      "║                                       ↪ ramsey_correction                                                                                                          ║\n",
      "║                                               ↪ motzoi_parameter                                                                                                   ║\n",
      "║                                                       ↪ n_rabi_oscillations                                                                                        ║\n",
      "║                                                                ↪ resonator_spectroscopy_1                                                                          ║\n",
      "║                                                                            ↪ qubit_12_spectroscopy_multidim                                                        ║\n",
      "║                                                                                           ↪ rabi_oscillations_12                                                   ║\n",
      "║                                                                                                     ↪ ramsey_correction_12                                         ║\n",
      "║                                                                                                               ↪ resonator_spectroscopy_2                           ║\n",
      "║                                                                                                                           ↪ cz_chevron                             ║\n",
      "╚════════════════════════════════════════════════════════════════════════════════════════════════════════════════════════════════════════════════════════════════════╝\n",
      "2024-01-22 22:56:19,536 ◆ calibration_supervisor.py ◆ Inspecting node resonator_spectroscopy\n",
      " ✔  \u001b[32m\u001b[1mNode resonator_spectroscopy in spec\u001b[0m\n",
      "2024-01-22 22:56:19,538 ◆ calibration_supervisor.py ◆ resonator_spectroscopy node is completed\n",
      "2024-01-22 22:56:19,538 ◆ calibration_supervisor.py ◆ Inspecting node qubit_01_spectroscopy_multidim\n",
      " ✔  \u001b[32m\u001b[1mNode qubit_01_spectroscopy_multidim in spec\u001b[0m\n",
      "2024-01-22 22:56:19,539 ◆ calibration_supervisor.py ◆ qubit_01_spectroscopy_multidim node is completed\n",
      "2024-01-22 22:56:19,539 ◆ calibration_supervisor.py ◆ Inspecting node rabi_oscillations\n",
      " ✔  \u001b[32m\u001b[1mNode rabi_oscillations in spec\u001b[0m\n",
      "2024-01-22 22:56:19,541 ◆ calibration_supervisor.py ◆ rabi_oscillations node is completed\n",
      "2024-01-22 22:56:19,541 ◆ calibration_supervisor.py ◆ Inspecting node T1\n",
      " ✔  \u001b[32m\u001b[1mNode T1 in spec\u001b[0m\n",
      "2024-01-22 22:56:19,543 ◆ calibration_supervisor.py ◆ T1 node is completed\n",
      "2024-01-22 22:56:19,543 ◆ calibration_supervisor.py ◆ Inspecting node T2\n",
      " ✔  \u001b[32m\u001b[1mNode T2 in spec\u001b[0m\n",
      "2024-01-22 22:56:19,544 ◆ calibration_supervisor.py ◆ T2 node is completed\n",
      "2024-01-22 22:56:19,544 ◆ calibration_supervisor.py ◆ Inspecting node T2_echo\n",
      " ✔  \u001b[32m\u001b[1mNode T2_echo in spec\u001b[0m\n",
      "2024-01-22 22:56:19,546 ◆ calibration_supervisor.py ◆ T2_echo node is completed\n",
      "2024-01-22 22:56:19,546 ◆ calibration_supervisor.py ◆ Inspecting node ramsey_correction\n",
      " ✔  \u001b[32m\u001b[1mNode ramsey_correction in spec\u001b[0m\n",
      "2024-01-22 22:56:19,548 ◆ calibration_supervisor.py ◆ ramsey_correction node is completed\n",
      "2024-01-22 22:56:19,548 ◆ calibration_supervisor.py ◆ Inspecting node motzoi_parameter\n",
      " ✔  \u001b[32m\u001b[1mNode motzoi_parameter in spec\u001b[0m\n",
      "2024-01-22 22:56:19,549 ◆ calibration_supervisor.py ◆ motzoi_parameter node is completed\n",
      "2024-01-22 22:56:19,549 ◆ calibration_supervisor.py ◆ Inspecting node n_rabi_oscillations\n",
      " ✔  \u001b[32m\u001b[1mNode n_rabi_oscillations in spec\u001b[0m\n",
      "2024-01-22 22:56:19,551 ◆ calibration_supervisor.py ◆ n_rabi_oscillations node is completed\n",
      "2024-01-22 22:56:19,551 ◆ calibration_supervisor.py ◆ Inspecting node resonator_spectroscopy_1\n",
      " ✔  \u001b[32m\u001b[1mNode resonator_spectroscopy_1 in spec\u001b[0m\n",
      "2024-01-22 22:56:19,552 ◆ calibration_supervisor.py ◆ resonator_spectroscopy_1 node is completed\n",
      "2024-01-22 22:56:19,552 ◆ calibration_supervisor.py ◆ Inspecting node qubit_12_spectroscopy_multidim\n",
      " ✔  \u001b[32m\u001b[1mNode qubit_12_spectroscopy_multidim in spec\u001b[0m\n",
      "2024-01-22 22:56:19,554 ◆ calibration_supervisor.py ◆ qubit_12_spectroscopy_multidim node is completed\n",
      "2024-01-22 22:56:19,554 ◆ calibration_supervisor.py ◆ Inspecting node rabi_oscillations_12\n",
      " ✔  \u001b[32m\u001b[1mNode rabi_oscillations_12 in spec\u001b[0m\n",
      "2024-01-22 22:56:19,556 ◆ calibration_supervisor.py ◆ rabi_oscillations_12 node is completed\n",
      "2024-01-22 22:56:19,556 ◆ calibration_supervisor.py ◆ Inspecting node ramsey_correction_12\n",
      " ✔  \u001b[32m\u001b[1mNode ramsey_correction_12 in spec\u001b[0m\n",
      "2024-01-22 22:56:19,558 ◆ calibration_supervisor.py ◆ ramsey_correction_12 node is completed\n",
      "2024-01-22 22:56:19,558 ◆ calibration_supervisor.py ◆ Inspecting node resonator_spectroscopy_2\n",
      " ✔  \u001b[32m\u001b[1mNode resonator_spectroscopy_2 in spec\u001b[0m\n",
      "2024-01-22 22:56:19,559 ◆ calibration_supervisor.py ◆ resonator_spectroscopy_2 node is completed\n",
      "2024-01-22 22:56:19,559 ◆ calibration_supervisor.py ◆ Inspecting node cz_chevron\n",
      "⚑⚑⚑ \u001b[31m\u001b[1mCalibration required for Node cz_chevron\u001b[0m\n",
      "2024-01-22 22:56:19,560 ◆ calibration_supervisor.py ◆ Calibrating node cz_chevron\n",
      " kwargs = {'couplers': ['q21_q22']}\n",
      " ac_freq/1e6 = 217.31774355165672 MHz\n",
      " self.coupled_qubits = ['q21', 'q22']\n",
      "cz_pulse_amplitude = {'q21_q22': 0.15}\n",
      "2024-01-22 22:56:19,864 ◆ compilation_worker.py ◆ Starting Compiling\n",
      "2024-01-22 22:56:20,287 ◆ measurement_utils.py ◆ Starting measurement\n",
      " schedule_duration = 181.7361694719992\n",
      "CZ_chevron: 100%|\u001b[34m█████████████████████████████\u001b[0m| 908/908 [03:02<00:00,  4.99it/s]\u001b[0m\n",
      "2024-01-22 22:59:25,370 ◆ measurement_utils.py ◆ Raw dataset acquired\n",
      "2024-01-22 22:59:25,385 ◆ execution_worker.py ◆ Finished measurement\n",
      "2024-01-22 22:59:25,385 ◆ calibration_supervisor.py ◆ measurement completed\n",
      "You should probably enlarge your sweep range. The optimial point is not in the current range.\n",
      "np.min(coupling_strength): 0.0026201630863654777\n",
      "np.min(data_fit): 0.002601715442859223\n",
      "2024-01-22 22:59:31,238 ◆ calibration_supervisor.py ◆ analysis completed\n",
      "2024-01-22 22:59:31,238 ◆ calibration_supervisor.py ◆ cz_chevron node is completed\n",
      "\u001b[0m--------------------------------------------\n",
      "parking_current = 0.00104\n",
      "--------------------------------------------\n",
      "ramping 0.0010379791259765639\n",
      "Finished ramping\n",
      " parking_current = 0.00104\n",
      " dac.current() = 0.0010398864746093764\n",
      " remove_node = 'cz_chevron'\n",
      "clusterA_module13_att:40dB\n",
      "clusterA_module17_att:6dB\n",
      "2024-01-22 22:59:36,949 ◆ calibration_supervisor.py ◆ Starting System Calibration\n",
      "╔════════════════════════════════════════════════════════════════════════════════════════════════════════════════════════════════════════════════════════════════════╗\n",
      "║ Qubits: 10                                                                                                                                                         ║\n",
      "║↪ resonator_spectroscopy                                                                                                                                            ║\n",
      "║           ↪ qubit_01_spectroscopy_multidim                                                                                                                         ║\n",
      "║                          ↪ rabi_oscillations                                                                                                                       ║\n",
      "║                                  ↪ T1                                                                                                                              ║\n",
      "║                                   ↪ T2                                                                                                                             ║\n",
      "║                                    ↪ T2_echo                                                                                                                       ║\n",
      "║                                       ↪ ramsey_correction                                                                                                          ║\n",
      "║                                               ↪ motzoi_parameter                                                                                                   ║\n",
      "║                                                       ↪ n_rabi_oscillations                                                                                        ║\n",
      "║                                                                ↪ resonator_spectroscopy_1                                                                          ║\n",
      "║                                                                            ↪ qubit_12_spectroscopy_multidim                                                        ║\n",
      "║                                                                                           ↪ rabi_oscillations_12                                                   ║\n",
      "║                                                                                                     ↪ ramsey_correction_12                                         ║\n",
      "║                                                                                                               ↪ resonator_spectroscopy_2                           ║\n",
      "║                                                                                                                           ↪ cz_chevron                             ║\n",
      "╚════════════════════════════════════════════════════════════════════════════════════════════════════════════════════════════════════════════════════════════════════╝\n",
      "2024-01-22 22:59:37,008 ◆ calibration_supervisor.py ◆ Inspecting node resonator_spectroscopy\n",
      " ✔  \u001b[32m\u001b[1mNode resonator_spectroscopy in spec\u001b[0m\n",
      "2024-01-22 22:59:37,009 ◆ calibration_supervisor.py ◆ resonator_spectroscopy node is completed\n",
      "2024-01-22 22:59:37,009 ◆ calibration_supervisor.py ◆ Inspecting node qubit_01_spectroscopy_multidim\n",
      " ✔  \u001b[32m\u001b[1mNode qubit_01_spectroscopy_multidim in spec\u001b[0m\n",
      "2024-01-22 22:59:37,011 ◆ calibration_supervisor.py ◆ qubit_01_spectroscopy_multidim node is completed\n",
      "2024-01-22 22:59:37,011 ◆ calibration_supervisor.py ◆ Inspecting node rabi_oscillations\n",
      " ✔  \u001b[32m\u001b[1mNode rabi_oscillations in spec\u001b[0m\n",
      "2024-01-22 22:59:37,013 ◆ calibration_supervisor.py ◆ rabi_oscillations node is completed\n",
      "2024-01-22 22:59:37,013 ◆ calibration_supervisor.py ◆ Inspecting node T1\n",
      " ✔  \u001b[32m\u001b[1mNode T1 in spec\u001b[0m\n",
      "2024-01-22 22:59:37,014 ◆ calibration_supervisor.py ◆ T1 node is completed\n",
      "2024-01-22 22:59:37,014 ◆ calibration_supervisor.py ◆ Inspecting node T2\n",
      " ✔  \u001b[32m\u001b[1mNode T2 in spec\u001b[0m\n",
      "2024-01-22 22:59:37,016 ◆ calibration_supervisor.py ◆ T2 node is completed\n",
      "2024-01-22 22:59:37,016 ◆ calibration_supervisor.py ◆ Inspecting node T2_echo\n",
      " ✔  \u001b[32m\u001b[1mNode T2_echo in spec\u001b[0m\n",
      "2024-01-22 22:59:37,018 ◆ calibration_supervisor.py ◆ T2_echo node is completed\n",
      "2024-01-22 22:59:37,018 ◆ calibration_supervisor.py ◆ Inspecting node ramsey_correction\n",
      " ✔  \u001b[32m\u001b[1mNode ramsey_correction in spec\u001b[0m\n",
      "2024-01-22 22:59:37,020 ◆ calibration_supervisor.py ◆ ramsey_correction node is completed\n",
      "2024-01-22 22:59:37,020 ◆ calibration_supervisor.py ◆ Inspecting node motzoi_parameter\n",
      " ✔  \u001b[32m\u001b[1mNode motzoi_parameter in spec\u001b[0m\n",
      "2024-01-22 22:59:37,021 ◆ calibration_supervisor.py ◆ motzoi_parameter node is completed\n",
      "2024-01-22 22:59:37,021 ◆ calibration_supervisor.py ◆ Inspecting node n_rabi_oscillations\n",
      " ✔  \u001b[32m\u001b[1mNode n_rabi_oscillations in spec\u001b[0m\n",
      "2024-01-22 22:59:37,023 ◆ calibration_supervisor.py ◆ n_rabi_oscillations node is completed\n",
      "2024-01-22 22:59:37,023 ◆ calibration_supervisor.py ◆ Inspecting node resonator_spectroscopy_1\n",
      " ✔  \u001b[32m\u001b[1mNode resonator_spectroscopy_1 in spec\u001b[0m\n",
      "2024-01-22 22:59:37,025 ◆ calibration_supervisor.py ◆ resonator_spectroscopy_1 node is completed\n",
      "2024-01-22 22:59:37,025 ◆ calibration_supervisor.py ◆ Inspecting node qubit_12_spectroscopy_multidim\n",
      " ✔  \u001b[32m\u001b[1mNode qubit_12_spectroscopy_multidim in spec\u001b[0m\n",
      "2024-01-22 22:59:37,026 ◆ calibration_supervisor.py ◆ qubit_12_spectroscopy_multidim node is completed\n",
      "2024-01-22 22:59:37,026 ◆ calibration_supervisor.py ◆ Inspecting node rabi_oscillations_12\n",
      " ✔  \u001b[32m\u001b[1mNode rabi_oscillations_12 in spec\u001b[0m\n",
      "2024-01-22 22:59:37,028 ◆ calibration_supervisor.py ◆ rabi_oscillations_12 node is completed\n",
      "2024-01-22 22:59:37,028 ◆ calibration_supervisor.py ◆ Inspecting node ramsey_correction_12\n",
      " ✔  \u001b[32m\u001b[1mNode ramsey_correction_12 in spec\u001b[0m\n",
      "2024-01-22 22:59:37,030 ◆ calibration_supervisor.py ◆ ramsey_correction_12 node is completed\n",
      "2024-01-22 22:59:37,030 ◆ calibration_supervisor.py ◆ Inspecting node resonator_spectroscopy_2\n",
      " ✔  \u001b[32m\u001b[1mNode resonator_spectroscopy_2 in spec\u001b[0m\n",
      "2024-01-22 22:59:37,031 ◆ calibration_supervisor.py ◆ resonator_spectroscopy_2 node is completed\n",
      "2024-01-22 22:59:37,031 ◆ calibration_supervisor.py ◆ Inspecting node cz_chevron\n",
      "⚑⚑⚑ \u001b[31m\u001b[1mCalibration required for Node cz_chevron\u001b[0m\n",
      "2024-01-22 22:59:37,032 ◆ calibration_supervisor.py ◆ Calibrating node cz_chevron\n",
      " kwargs = {'couplers': ['q21_q22']}\n",
      " ac_freq/1e6 = 217.31774355165672 MHz\n",
      " self.coupled_qubits = ['q21', 'q22']\n",
      "cz_pulse_amplitude = {'q21_q22': 0.15}\n",
      "2024-01-22 22:59:37,335 ◆ compilation_worker.py ◆ Starting Compiling\n",
      "2024-01-22 22:59:37,755 ◆ measurement_utils.py ◆ Starting measurement\n",
      " schedule_duration = 181.7361694719992\n",
      "CZ_chevron: 100%|\u001b[34m█████████████████████████████\u001b[0m| 908/908 [03:02<00:00,  4.99it/s]\u001b[0m\n",
      "2024-01-22 23:02:42,849 ◆ measurement_utils.py ◆ Raw dataset acquired\n",
      "2024-01-22 23:02:42,864 ◆ execution_worker.py ◆ Finished measurement\n",
      "2024-01-22 23:02:42,864 ◆ calibration_supervisor.py ◆ measurement completed\n",
      "You should probably enlarge your sweep range. The optimial point is not in the current range.\n",
      "np.min(coupling_strength): 0.0028366414356528454\n",
      "np.min(data_fit): 0.002917965223397044\n",
      "We use the raw measured data.\n",
      "2024-01-22 23:02:48,703 ◆ calibration_supervisor.py ◆ analysis completed\n",
      "2024-01-22 23:02:48,703 ◆ calibration_supervisor.py ◆ cz_chevron node is completed\n",
      "\u001b[0m--------------------------------------------\n",
      "parking_current = 0.001042\n",
      "--------------------------------------------\n",
      "ramping 0.0010398864746093764\n",
      "Finished ramping\n",
      " parking_current = 0.001042\n",
      " dac.current() = 0.0010419845581054674\n",
      " remove_node = 'cz_chevron'\n",
      "clusterA_module13_att:40dB\n",
      "clusterA_module17_att:6dB\n",
      "2024-01-22 23:02:54,430 ◆ calibration_supervisor.py ◆ Starting System Calibration\n",
      "╔════════════════════════════════════════════════════════════════════════════════════════════════════════════════════════════════════════════════════════════════════╗\n",
      "║ Qubits: 10                                                                                                                                                         ║\n",
      "║↪ resonator_spectroscopy                                                                                                                                            ║\n",
      "║           ↪ qubit_01_spectroscopy_multidim                                                                                                                         ║\n",
      "║                          ↪ rabi_oscillations                                                                                                                       ║\n",
      "║                                  ↪ T1                                                                                                                              ║\n",
      "║                                   ↪ T2                                                                                                                             ║\n",
      "║                                    ↪ T2_echo                                                                                                                       ║\n",
      "║                                       ↪ ramsey_correction                                                                                                          ║\n",
      "║                                               ↪ motzoi_parameter                                                                                                   ║\n",
      "║                                                       ↪ n_rabi_oscillations                                                                                        ║\n",
      "║                                                                ↪ resonator_spectroscopy_1                                                                          ║\n",
      "║                                                                            ↪ qubit_12_spectroscopy_multidim                                                        ║\n",
      "║                                                                                           ↪ rabi_oscillations_12                                                   ║\n",
      "║                                                                                                     ↪ ramsey_correction_12                                         ║\n",
      "║                                                                                                               ↪ resonator_spectroscopy_2                           ║\n",
      "║                                                                                                                           ↪ cz_chevron                             ║\n",
      "╚════════════════════════════════════════════════════════════════════════════════════════════════════════════════════════════════════════════════════════════════════╝\n",
      "2024-01-22 23:02:54,489 ◆ calibration_supervisor.py ◆ Inspecting node resonator_spectroscopy\n",
      " ✔  \u001b[32m\u001b[1mNode resonator_spectroscopy in spec\u001b[0m\n",
      "2024-01-22 23:02:54,491 ◆ calibration_supervisor.py ◆ resonator_spectroscopy node is completed\n",
      "2024-01-22 23:02:54,491 ◆ calibration_supervisor.py ◆ Inspecting node qubit_01_spectroscopy_multidim\n",
      " ✔  \u001b[32m\u001b[1mNode qubit_01_spectroscopy_multidim in spec\u001b[0m\n",
      "2024-01-22 23:02:54,493 ◆ calibration_supervisor.py ◆ qubit_01_spectroscopy_multidim node is completed\n",
      "2024-01-22 23:02:54,493 ◆ calibration_supervisor.py ◆ Inspecting node rabi_oscillations\n",
      " ✔  \u001b[32m\u001b[1mNode rabi_oscillations in spec\u001b[0m\n",
      "2024-01-22 23:02:54,495 ◆ calibration_supervisor.py ◆ rabi_oscillations node is completed\n",
      "2024-01-22 23:02:54,495 ◆ calibration_supervisor.py ◆ Inspecting node T1\n",
      " ✔  \u001b[32m\u001b[1mNode T1 in spec\u001b[0m\n",
      "2024-01-22 23:02:54,496 ◆ calibration_supervisor.py ◆ T1 node is completed\n",
      "2024-01-22 23:02:54,496 ◆ calibration_supervisor.py ◆ Inspecting node T2\n",
      " ✔  \u001b[32m\u001b[1mNode T2 in spec\u001b[0m\n",
      "2024-01-22 23:02:54,498 ◆ calibration_supervisor.py ◆ T2 node is completed\n",
      "2024-01-22 23:02:54,498 ◆ calibration_supervisor.py ◆ Inspecting node T2_echo\n",
      " ✔  \u001b[32m\u001b[1mNode T2_echo in spec\u001b[0m\n",
      "2024-01-22 23:02:54,499 ◆ calibration_supervisor.py ◆ T2_echo node is completed\n",
      "2024-01-22 23:02:54,500 ◆ calibration_supervisor.py ◆ Inspecting node ramsey_correction\n",
      " ✔  \u001b[32m\u001b[1mNode ramsey_correction in spec\u001b[0m\n",
      "2024-01-22 23:02:54,501 ◆ calibration_supervisor.py ◆ ramsey_correction node is completed\n",
      "2024-01-22 23:02:54,501 ◆ calibration_supervisor.py ◆ Inspecting node motzoi_parameter\n",
      " ✔  \u001b[32m\u001b[1mNode motzoi_parameter in spec\u001b[0m\n",
      "2024-01-22 23:02:54,503 ◆ calibration_supervisor.py ◆ motzoi_parameter node is completed\n",
      "2024-01-22 23:02:54,503 ◆ calibration_supervisor.py ◆ Inspecting node n_rabi_oscillations\n",
      " ✔  \u001b[32m\u001b[1mNode n_rabi_oscillations in spec\u001b[0m\n",
      "2024-01-22 23:02:54,505 ◆ calibration_supervisor.py ◆ n_rabi_oscillations node is completed\n",
      "2024-01-22 23:02:54,505 ◆ calibration_supervisor.py ◆ Inspecting node resonator_spectroscopy_1\n",
      " ✔  \u001b[32m\u001b[1mNode resonator_spectroscopy_1 in spec\u001b[0m\n",
      "2024-01-22 23:02:54,506 ◆ calibration_supervisor.py ◆ resonator_spectroscopy_1 node is completed\n",
      "2024-01-22 23:02:54,506 ◆ calibration_supervisor.py ◆ Inspecting node qubit_12_spectroscopy_multidim\n",
      " ✔  \u001b[32m\u001b[1mNode qubit_12_spectroscopy_multidim in spec\u001b[0m\n",
      "2024-01-22 23:02:54,508 ◆ calibration_supervisor.py ◆ qubit_12_spectroscopy_multidim node is completed\n",
      "2024-01-22 23:02:54,508 ◆ calibration_supervisor.py ◆ Inspecting node rabi_oscillations_12\n",
      " ✔  \u001b[32m\u001b[1mNode rabi_oscillations_12 in spec\u001b[0m\n",
      "2024-01-22 23:02:54,510 ◆ calibration_supervisor.py ◆ rabi_oscillations_12 node is completed\n",
      "2024-01-22 23:02:54,510 ◆ calibration_supervisor.py ◆ Inspecting node ramsey_correction_12\n",
      " ✔  \u001b[32m\u001b[1mNode ramsey_correction_12 in spec\u001b[0m\n",
      "2024-01-22 23:02:54,511 ◆ calibration_supervisor.py ◆ ramsey_correction_12 node is completed\n",
      "2024-01-22 23:02:54,511 ◆ calibration_supervisor.py ◆ Inspecting node resonator_spectroscopy_2\n",
      " ✔  \u001b[32m\u001b[1mNode resonator_spectroscopy_2 in spec\u001b[0m\n",
      "2024-01-22 23:02:54,513 ◆ calibration_supervisor.py ◆ resonator_spectroscopy_2 node is completed\n",
      "2024-01-22 23:02:54,513 ◆ calibration_supervisor.py ◆ Inspecting node cz_chevron\n",
      "⚑⚑⚑ \u001b[31m\u001b[1mCalibration required for Node cz_chevron\u001b[0m\n",
      "2024-01-22 23:02:54,513 ◆ calibration_supervisor.py ◆ Calibrating node cz_chevron\n",
      " kwargs = {'couplers': ['q21_q22']}\n",
      " ac_freq/1e6 = 217.31774355165672 MHz\n",
      " self.coupled_qubits = ['q21', 'q22']\n",
      "cz_pulse_amplitude = {'q21_q22': 0.15}\n",
      "2024-01-22 23:02:54,823 ◆ compilation_worker.py ◆ Starting Compiling\n",
      "2024-01-22 23:02:55,249 ◆ measurement_utils.py ◆ Starting measurement\n",
      " schedule_duration = 181.7361694719992\n",
      "CZ_chevron: 100%|\u001b[34m█████████████████████████████\u001b[0m| 908/908 [03:02<00:00,  4.99it/s]\u001b[0m\n",
      "2024-01-22 23:06:00,283 ◆ measurement_utils.py ◆ Raw dataset acquired\n",
      "2024-01-22 23:06:00,298 ◆ execution_worker.py ◆ Finished measurement\n",
      "2024-01-22 23:06:00,298 ◆ calibration_supervisor.py ◆ measurement completed\n",
      "You should probably enlarge your sweep range. The optimial point is not in the current range.\n",
      "np.min(coupling_strength): 0.0035085257994845608\n",
      "np.min(data_fit): 0.003553896298495127\n",
      "We use the raw measured data.\n",
      "2024-01-22 23:06:06,128 ◆ calibration_supervisor.py ◆ analysis completed\n",
      "2024-01-22 23:06:06,128 ◆ calibration_supervisor.py ◆ cz_chevron node is completed\n",
      "\u001b[0m--------------------------------------------\n",
      "parking_current = 0.001044\n",
      "--------------------------------------------\n",
      "ramping 0.0010419845581054674\n",
      "Finished ramping\n",
      " parking_current = 0.001044\n",
      " dac.current() = 0.0010438919067382799\n",
      " remove_node = 'cz_chevron'\n",
      "clusterA_module13_att:40dB\n",
      "clusterA_module17_att:6dB\n",
      "2024-01-22 23:06:11,837 ◆ calibration_supervisor.py ◆ Starting System Calibration\n",
      "╔════════════════════════════════════════════════════════════════════════════════════════════════════════════════════════════════════════════════════════════════════╗\n",
      "║ Qubits: 10                                                                                                                                                         ║\n",
      "║↪ resonator_spectroscopy                                                                                                                                            ║\n",
      "║           ↪ qubit_01_spectroscopy_multidim                                                                                                                         ║\n",
      "║                          ↪ rabi_oscillations                                                                                                                       ║\n",
      "║                                  ↪ T1                                                                                                                              ║\n",
      "║                                   ↪ T2                                                                                                                             ║\n",
      "║                                    ↪ T2_echo                                                                                                                       ║\n",
      "║                                       ↪ ramsey_correction                                                                                                          ║\n",
      "║                                               ↪ motzoi_parameter                                                                                                   ║\n",
      "║                                                       ↪ n_rabi_oscillations                                                                                        ║\n",
      "║                                                                ↪ resonator_spectroscopy_1                                                                          ║\n",
      "║                                                                            ↪ qubit_12_spectroscopy_multidim                                                        ║\n",
      "║                                                                                           ↪ rabi_oscillations_12                                                   ║\n",
      "║                                                                                                     ↪ ramsey_correction_12                                         ║\n",
      "║                                                                                                               ↪ resonator_spectroscopy_2                           ║\n",
      "║                                                                                                                           ↪ cz_chevron                             ║\n",
      "╚════════════════════════════════════════════════════════════════════════════════════════════════════════════════════════════════════════════════════════════════════╝\n",
      "2024-01-22 23:06:11,897 ◆ calibration_supervisor.py ◆ Inspecting node resonator_spectroscopy\n",
      " ✔  \u001b[32m\u001b[1mNode resonator_spectroscopy in spec\u001b[0m\n",
      "2024-01-22 23:06:11,899 ◆ calibration_supervisor.py ◆ resonator_spectroscopy node is completed\n",
      "2024-01-22 23:06:11,899 ◆ calibration_supervisor.py ◆ Inspecting node qubit_01_spectroscopy_multidim\n",
      " ✔  \u001b[32m\u001b[1mNode qubit_01_spectroscopy_multidim in spec\u001b[0m\n",
      "2024-01-22 23:06:11,900 ◆ calibration_supervisor.py ◆ qubit_01_spectroscopy_multidim node is completed\n",
      "2024-01-22 23:06:11,900 ◆ calibration_supervisor.py ◆ Inspecting node rabi_oscillations\n",
      " ✔  \u001b[32m\u001b[1mNode rabi_oscillations in spec\u001b[0m\n",
      "2024-01-22 23:06:11,902 ◆ calibration_supervisor.py ◆ rabi_oscillations node is completed\n",
      "2024-01-22 23:06:11,902 ◆ calibration_supervisor.py ◆ Inspecting node T1\n",
      " ✔  \u001b[32m\u001b[1mNode T1 in spec\u001b[0m\n",
      "2024-01-22 23:06:11,904 ◆ calibration_supervisor.py ◆ T1 node is completed\n",
      "2024-01-22 23:06:11,904 ◆ calibration_supervisor.py ◆ Inspecting node T2\n",
      " ✔  \u001b[32m\u001b[1mNode T2 in spec\u001b[0m\n",
      "2024-01-22 23:06:11,905 ◆ calibration_supervisor.py ◆ T2 node is completed\n",
      "2024-01-22 23:06:11,905 ◆ calibration_supervisor.py ◆ Inspecting node T2_echo\n",
      " ✔  \u001b[32m\u001b[1mNode T2_echo in spec\u001b[0m\n",
      "2024-01-22 23:06:11,907 ◆ calibration_supervisor.py ◆ T2_echo node is completed\n",
      "2024-01-22 23:06:11,907 ◆ calibration_supervisor.py ◆ Inspecting node ramsey_correction\n",
      " ✔  \u001b[32m\u001b[1mNode ramsey_correction in spec\u001b[0m\n",
      "2024-01-22 23:06:11,909 ◆ calibration_supervisor.py ◆ ramsey_correction node is completed\n",
      "2024-01-22 23:06:11,909 ◆ calibration_supervisor.py ◆ Inspecting node motzoi_parameter\n",
      " ✔  \u001b[32m\u001b[1mNode motzoi_parameter in spec\u001b[0m\n",
      "2024-01-22 23:06:11,910 ◆ calibration_supervisor.py ◆ motzoi_parameter node is completed\n",
      "2024-01-22 23:06:11,910 ◆ calibration_supervisor.py ◆ Inspecting node n_rabi_oscillations\n",
      " ✔  \u001b[32m\u001b[1mNode n_rabi_oscillations in spec\u001b[0m\n",
      "2024-01-22 23:06:11,912 ◆ calibration_supervisor.py ◆ n_rabi_oscillations node is completed\n",
      "2024-01-22 23:06:11,912 ◆ calibration_supervisor.py ◆ Inspecting node resonator_spectroscopy_1\n",
      " ✔  \u001b[32m\u001b[1mNode resonator_spectroscopy_1 in spec\u001b[0m\n",
      "2024-01-22 23:06:11,913 ◆ calibration_supervisor.py ◆ resonator_spectroscopy_1 node is completed\n",
      "2024-01-22 23:06:11,913 ◆ calibration_supervisor.py ◆ Inspecting node qubit_12_spectroscopy_multidim\n",
      " ✔  \u001b[32m\u001b[1mNode qubit_12_spectroscopy_multidim in spec\u001b[0m\n",
      "2024-01-22 23:06:11,915 ◆ calibration_supervisor.py ◆ qubit_12_spectroscopy_multidim node is completed\n",
      "2024-01-22 23:06:11,915 ◆ calibration_supervisor.py ◆ Inspecting node rabi_oscillations_12\n",
      " ✔  \u001b[32m\u001b[1mNode rabi_oscillations_12 in spec\u001b[0m\n",
      "2024-01-22 23:06:11,916 ◆ calibration_supervisor.py ◆ rabi_oscillations_12 node is completed\n",
      "2024-01-22 23:06:11,916 ◆ calibration_supervisor.py ◆ Inspecting node ramsey_correction_12\n",
      " ✔  \u001b[32m\u001b[1mNode ramsey_correction_12 in spec\u001b[0m\n",
      "2024-01-22 23:06:11,918 ◆ calibration_supervisor.py ◆ ramsey_correction_12 node is completed\n",
      "2024-01-22 23:06:11,918 ◆ calibration_supervisor.py ◆ Inspecting node resonator_spectroscopy_2\n",
      " ✔  \u001b[32m\u001b[1mNode resonator_spectroscopy_2 in spec\u001b[0m\n",
      "2024-01-22 23:06:11,920 ◆ calibration_supervisor.py ◆ resonator_spectroscopy_2 node is completed\n",
      "2024-01-22 23:06:11,920 ◆ calibration_supervisor.py ◆ Inspecting node cz_chevron\n",
      "⚑⚑⚑ \u001b[31m\u001b[1mCalibration required for Node cz_chevron\u001b[0m\n",
      "2024-01-22 23:06:11,920 ◆ calibration_supervisor.py ◆ Calibrating node cz_chevron\n",
      " kwargs = {'couplers': ['q21_q22']}\n",
      " ac_freq/1e6 = 217.31774355165672 MHz\n",
      " self.coupled_qubits = ['q21', 'q22']\n",
      "cz_pulse_amplitude = {'q21_q22': 0.15}\n",
      "2024-01-22 23:06:12,222 ◆ compilation_worker.py ◆ Starting Compiling\n",
      "2024-01-22 23:06:12,649 ◆ measurement_utils.py ◆ Starting measurement\n",
      " schedule_duration = 181.7361694719992\n",
      "CZ_chevron: 100%|\u001b[34m█████████████████████████████\u001b[0m| 908/908 [03:02<00:00,  4.99it/s]\u001b[0m\n",
      "2024-01-22 23:09:17,724 ◆ measurement_utils.py ◆ Raw dataset acquired\n",
      "2024-01-22 23:09:17,739 ◆ execution_worker.py ◆ Finished measurement\n",
      "2024-01-22 23:09:17,739 ◆ calibration_supervisor.py ◆ measurement completed\n",
      "You should probably enlarge your sweep range. The optimial point is not in the current range.\n",
      "/home/loke-c/anaconda3/envs/tac/lib/python3.9/site-packages/scipy/optimize/_minpack_py.py:494: RuntimeWarning: Number of calls to function has reached maxfev = 1000.\n",
      "  warnings.warn(errors[info][0], RuntimeWarning)\n",
      "/home/loke-c/anaconda3/envs/tac/lib/python3.9/site-packages/scipy/optimize/_minpack_py.py:494: RuntimeWarning: Number of calls to function has reached maxfev = 800.\n",
      "  warnings.warn(errors[info][0], RuntimeWarning)\n",
      "np.min(coupling_strength): 0.0010756849108738802\n",
      "np.min(data_fit): -0.0006266621368575254\n",
      "2024-01-22 23:09:23,614 ◆ calibration_supervisor.py ◆ analysis completed\n",
      "2024-01-22 23:09:23,614 ◆ calibration_supervisor.py ◆ cz_chevron node is completed\n",
      "\u001b[0m--------------------------------------------\n",
      "parking_current = 0.001046\n",
      "--------------------------------------------\n",
      "ramping 0.0010438919067382799\n",
      "Finished ramping\n",
      " parking_current = 0.001046\n",
      " dac.current() = 0.0010459899902343743\n",
      " remove_node = 'cz_chevron'\n",
      "clusterA_module13_att:40dB\n",
      "clusterA_module17_att:6dB\n",
      "2024-01-22 23:09:29,374 ◆ calibration_supervisor.py ◆ Starting System Calibration\n",
      "╔════════════════════════════════════════════════════════════════════════════════════════════════════════════════════════════════════════════════════════════════════╗\n",
      "║ Qubits: 10                                                                                                                                                         ║\n",
      "║↪ resonator_spectroscopy                                                                                                                                            ║\n",
      "║           ↪ qubit_01_spectroscopy_multidim                                                                                                                         ║\n",
      "║                          ↪ rabi_oscillations                                                                                                                       ║\n",
      "║                                  ↪ T1                                                                                                                              ║\n",
      "║                                   ↪ T2                                                                                                                             ║\n",
      "║                                    ↪ T2_echo                                                                                                                       ║\n",
      "║                                       ↪ ramsey_correction                                                                                                          ║\n",
      "║                                               ↪ motzoi_parameter                                                                                                   ║\n",
      "║                                                       ↪ n_rabi_oscillations                                                                                        ║\n",
      "║                                                                ↪ resonator_spectroscopy_1                                                                          ║\n",
      "║                                                                            ↪ qubit_12_spectroscopy_multidim                                                        ║\n",
      "║                                                                                           ↪ rabi_oscillations_12                                                   ║\n",
      "║                                                                                                     ↪ ramsey_correction_12                                         ║\n",
      "║                                                                                                               ↪ resonator_spectroscopy_2                           ║\n",
      "║                                                                                                                           ↪ cz_chevron                             ║\n",
      "╚════════════════════════════════════════════════════════════════════════════════════════════════════════════════════════════════════════════════════════════════════╝\n",
      "2024-01-22 23:09:29,433 ◆ calibration_supervisor.py ◆ Inspecting node resonator_spectroscopy\n",
      " ✔  \u001b[32m\u001b[1mNode resonator_spectroscopy in spec\u001b[0m\n",
      "2024-01-22 23:09:29,435 ◆ calibration_supervisor.py ◆ resonator_spectroscopy node is completed\n",
      "2024-01-22 23:09:29,435 ◆ calibration_supervisor.py ◆ Inspecting node qubit_01_spectroscopy_multidim\n",
      " ✔  \u001b[32m\u001b[1mNode qubit_01_spectroscopy_multidim in spec\u001b[0m\n",
      "2024-01-22 23:09:29,437 ◆ calibration_supervisor.py ◆ qubit_01_spectroscopy_multidim node is completed\n",
      "2024-01-22 23:09:29,437 ◆ calibration_supervisor.py ◆ Inspecting node rabi_oscillations\n",
      " ✔  \u001b[32m\u001b[1mNode rabi_oscillations in spec\u001b[0m\n",
      "2024-01-22 23:09:29,438 ◆ calibration_supervisor.py ◆ rabi_oscillations node is completed\n",
      "2024-01-22 23:09:29,438 ◆ calibration_supervisor.py ◆ Inspecting node T1\n",
      " ✔  \u001b[32m\u001b[1mNode T1 in spec\u001b[0m\n",
      "2024-01-22 23:09:29,440 ◆ calibration_supervisor.py ◆ T1 node is completed\n",
      "2024-01-22 23:09:29,440 ◆ calibration_supervisor.py ◆ Inspecting node T2\n",
      " ✔  \u001b[32m\u001b[1mNode T2 in spec\u001b[0m\n",
      "2024-01-22 23:09:29,442 ◆ calibration_supervisor.py ◆ T2 node is completed\n",
      "2024-01-22 23:09:29,442 ◆ calibration_supervisor.py ◆ Inspecting node T2_echo\n",
      " ✔  \u001b[32m\u001b[1mNode T2_echo in spec\u001b[0m\n",
      "2024-01-22 23:09:29,444 ◆ calibration_supervisor.py ◆ T2_echo node is completed\n",
      "2024-01-22 23:09:29,444 ◆ calibration_supervisor.py ◆ Inspecting node ramsey_correction\n",
      " ✔  \u001b[32m\u001b[1mNode ramsey_correction in spec\u001b[0m\n",
      "2024-01-22 23:09:29,445 ◆ calibration_supervisor.py ◆ ramsey_correction node is completed\n",
      "2024-01-22 23:09:29,445 ◆ calibration_supervisor.py ◆ Inspecting node motzoi_parameter\n",
      " ✔  \u001b[32m\u001b[1mNode motzoi_parameter in spec\u001b[0m\n",
      "2024-01-22 23:09:29,447 ◆ calibration_supervisor.py ◆ motzoi_parameter node is completed\n",
      "2024-01-22 23:09:29,447 ◆ calibration_supervisor.py ◆ Inspecting node n_rabi_oscillations\n",
      " ✔  \u001b[32m\u001b[1mNode n_rabi_oscillations in spec\u001b[0m\n",
      "2024-01-22 23:09:29,449 ◆ calibration_supervisor.py ◆ n_rabi_oscillations node is completed\n",
      "2024-01-22 23:09:29,449 ◆ calibration_supervisor.py ◆ Inspecting node resonator_spectroscopy_1\n",
      " ✔  \u001b[32m\u001b[1mNode resonator_spectroscopy_1 in spec\u001b[0m\n",
      "2024-01-22 23:09:29,450 ◆ calibration_supervisor.py ◆ resonator_spectroscopy_1 node is completed\n",
      "2024-01-22 23:09:29,451 ◆ calibration_supervisor.py ◆ Inspecting node qubit_12_spectroscopy_multidim\n",
      " ✔  \u001b[32m\u001b[1mNode qubit_12_spectroscopy_multidim in spec\u001b[0m\n",
      "2024-01-22 23:09:29,452 ◆ calibration_supervisor.py ◆ qubit_12_spectroscopy_multidim node is completed\n",
      "2024-01-22 23:09:29,452 ◆ calibration_supervisor.py ◆ Inspecting node rabi_oscillations_12\n",
      " ✔  \u001b[32m\u001b[1mNode rabi_oscillations_12 in spec\u001b[0m\n",
      "2024-01-22 23:09:29,454 ◆ calibration_supervisor.py ◆ rabi_oscillations_12 node is completed\n",
      "2024-01-22 23:09:29,454 ◆ calibration_supervisor.py ◆ Inspecting node ramsey_correction_12\n",
      " ✔  \u001b[32m\u001b[1mNode ramsey_correction_12 in spec\u001b[0m\n",
      "2024-01-22 23:09:29,455 ◆ calibration_supervisor.py ◆ ramsey_correction_12 node is completed\n",
      "2024-01-22 23:09:29,455 ◆ calibration_supervisor.py ◆ Inspecting node resonator_spectroscopy_2\n",
      " ✔  \u001b[32m\u001b[1mNode resonator_spectroscopy_2 in spec\u001b[0m\n",
      "2024-01-22 23:09:29,457 ◆ calibration_supervisor.py ◆ resonator_spectroscopy_2 node is completed\n",
      "2024-01-22 23:09:29,457 ◆ calibration_supervisor.py ◆ Inspecting node cz_chevron\n",
      "⚑⚑⚑ \u001b[31m\u001b[1mCalibration required for Node cz_chevron\u001b[0m\n",
      "2024-01-22 23:09:29,457 ◆ calibration_supervisor.py ◆ Calibrating node cz_chevron\n",
      " kwargs = {'couplers': ['q21_q22']}\n",
      " ac_freq/1e6 = 217.31774355165672 MHz\n",
      " self.coupled_qubits = ['q21', 'q22']\n",
      "cz_pulse_amplitude = {'q21_q22': 0.15}\n",
      "2024-01-22 23:09:29,765 ◆ compilation_worker.py ◆ Starting Compiling\n",
      "2024-01-22 23:09:30,194 ◆ measurement_utils.py ◆ Starting measurement\n",
      " schedule_duration = 181.7361694719992\n",
      "CZ_chevron: 100%|\u001b[34m█████████████████████████████\u001b[0m| 908/908 [03:02<00:00,  4.99it/s]\u001b[0m\n",
      "2024-01-22 23:12:35,211 ◆ measurement_utils.py ◆ Raw dataset acquired\n",
      "2024-01-22 23:12:35,226 ◆ execution_worker.py ◆ Finished measurement\n",
      "2024-01-22 23:12:35,226 ◆ calibration_supervisor.py ◆ measurement completed\n",
      "/home/loke-c/anaconda3/envs/tac/lib/python3.9/site-packages/scipy/optimize/_minpack_py.py:494: RuntimeWarning: Number of calls to function has reached maxfev = 1000.\n",
      "  warnings.warn(errors[info][0], RuntimeWarning)\n",
      "You should probably enlarge your sweep range. The optimial point is not in the current range.\n",
      "No enough available points. Please resweep once again or enlarge sweep range.\n",
      "2024-01-22 23:12:41,044 ◆ calibration_supervisor.py ◆ analysis completed\n",
      "2024-01-22 23:12:41,044 ◆ calibration_supervisor.py ◆ cz_chevron node is completed\n",
      "\u001b[0m--------------------------------------------\n",
      "parking_current = 0.0010479999999999999\n",
      "--------------------------------------------\n",
      "ramping 0.0010459899902343743\n",
      "Finished ramping\n",
      " parking_current = 0.0010479999999999999\n",
      " dac.current() = 0.0010478973388671868\n",
      " remove_node = 'cz_chevron'\n",
      "clusterA_module13_att:40dB\n",
      "clusterA_module17_att:6dB\n",
      "2024-01-22 23:12:46,770 ◆ calibration_supervisor.py ◆ Starting System Calibration\n",
      "╔════════════════════════════════════════════════════════════════════════════════════════════════════════════════════════════════════════════════════════════════════╗\n",
      "║ Qubits: 10                                                                                                                                                         ║\n",
      "║↪ resonator_spectroscopy                                                                                                                                            ║\n",
      "║           ↪ qubit_01_spectroscopy_multidim                                                                                                                         ║\n",
      "║                          ↪ rabi_oscillations                                                                                                                       ║\n",
      "║                                  ↪ T1                                                                                                                              ║\n",
      "║                                   ↪ T2                                                                                                                             ║\n",
      "║                                    ↪ T2_echo                                                                                                                       ║\n",
      "║                                       ↪ ramsey_correction                                                                                                          ║\n",
      "║                                               ↪ motzoi_parameter                                                                                                   ║\n",
      "║                                                       ↪ n_rabi_oscillations                                                                                        ║\n",
      "║                                                                ↪ resonator_spectroscopy_1                                                                          ║\n",
      "║                                                                            ↪ qubit_12_spectroscopy_multidim                                                        ║\n",
      "║                                                                                           ↪ rabi_oscillations_12                                                   ║\n",
      "║                                                                                                     ↪ ramsey_correction_12                                         ║\n",
      "║                                                                                                               ↪ resonator_spectroscopy_2                           ║\n",
      "║                                                                                                                           ↪ cz_chevron                             ║\n",
      "╚════════════════════════════════════════════════════════════════════════════════════════════════════════════════════════════════════════════════════════════════════╝\n",
      "2024-01-22 23:12:46,829 ◆ calibration_supervisor.py ◆ Inspecting node resonator_spectroscopy\n",
      " ✔  \u001b[32m\u001b[1mNode resonator_spectroscopy in spec\u001b[0m\n",
      "2024-01-22 23:12:46,831 ◆ calibration_supervisor.py ◆ resonator_spectroscopy node is completed\n",
      "2024-01-22 23:12:46,831 ◆ calibration_supervisor.py ◆ Inspecting node qubit_01_spectroscopy_multidim\n",
      " ✔  \u001b[32m\u001b[1mNode qubit_01_spectroscopy_multidim in spec\u001b[0m\n",
      "2024-01-22 23:12:46,833 ◆ calibration_supervisor.py ◆ qubit_01_spectroscopy_multidim node is completed\n",
      "2024-01-22 23:12:46,833 ◆ calibration_supervisor.py ◆ Inspecting node rabi_oscillations\n",
      " ✔  \u001b[32m\u001b[1mNode rabi_oscillations in spec\u001b[0m\n",
      "2024-01-22 23:12:46,835 ◆ calibration_supervisor.py ◆ rabi_oscillations node is completed\n",
      "2024-01-22 23:12:46,835 ◆ calibration_supervisor.py ◆ Inspecting node T1\n",
      " ✔  \u001b[32m\u001b[1mNode T1 in spec\u001b[0m\n",
      "2024-01-22 23:12:46,837 ◆ calibration_supervisor.py ◆ T1 node is completed\n",
      "2024-01-22 23:12:46,837 ◆ calibration_supervisor.py ◆ Inspecting node T2\n",
      " ✔  \u001b[32m\u001b[1mNode T2 in spec\u001b[0m\n",
      "2024-01-22 23:12:46,838 ◆ calibration_supervisor.py ◆ T2 node is completed\n",
      "2024-01-22 23:12:46,838 ◆ calibration_supervisor.py ◆ Inspecting node T2_echo\n",
      " ✔  \u001b[32m\u001b[1mNode T2_echo in spec\u001b[0m\n",
      "2024-01-22 23:12:46,840 ◆ calibration_supervisor.py ◆ T2_echo node is completed\n",
      "2024-01-22 23:12:46,840 ◆ calibration_supervisor.py ◆ Inspecting node ramsey_correction\n",
      " ✔  \u001b[32m\u001b[1mNode ramsey_correction in spec\u001b[0m\n",
      "2024-01-22 23:12:46,842 ◆ calibration_supervisor.py ◆ ramsey_correction node is completed\n",
      "2024-01-22 23:12:46,842 ◆ calibration_supervisor.py ◆ Inspecting node motzoi_parameter\n",
      " ✔  \u001b[32m\u001b[1mNode motzoi_parameter in spec\u001b[0m\n",
      "2024-01-22 23:12:46,843 ◆ calibration_supervisor.py ◆ motzoi_parameter node is completed\n",
      "2024-01-22 23:12:46,843 ◆ calibration_supervisor.py ◆ Inspecting node n_rabi_oscillations\n",
      " ✔  \u001b[32m\u001b[1mNode n_rabi_oscillations in spec\u001b[0m\n",
      "2024-01-22 23:12:46,845 ◆ calibration_supervisor.py ◆ n_rabi_oscillations node is completed\n",
      "2024-01-22 23:12:46,845 ◆ calibration_supervisor.py ◆ Inspecting node resonator_spectroscopy_1\n",
      " ✔  \u001b[32m\u001b[1mNode resonator_spectroscopy_1 in spec\u001b[0m\n",
      "2024-01-22 23:12:46,847 ◆ calibration_supervisor.py ◆ resonator_spectroscopy_1 node is completed\n",
      "2024-01-22 23:12:46,847 ◆ calibration_supervisor.py ◆ Inspecting node qubit_12_spectroscopy_multidim\n",
      " ✔  \u001b[32m\u001b[1mNode qubit_12_spectroscopy_multidim in spec\u001b[0m\n",
      "2024-01-22 23:12:46,848 ◆ calibration_supervisor.py ◆ qubit_12_spectroscopy_multidim node is completed\n",
      "2024-01-22 23:12:46,849 ◆ calibration_supervisor.py ◆ Inspecting node rabi_oscillations_12\n",
      " ✔  \u001b[32m\u001b[1mNode rabi_oscillations_12 in spec\u001b[0m\n",
      "2024-01-22 23:12:46,850 ◆ calibration_supervisor.py ◆ rabi_oscillations_12 node is completed\n",
      "2024-01-22 23:12:46,850 ◆ calibration_supervisor.py ◆ Inspecting node ramsey_correction_12\n",
      " ✔  \u001b[32m\u001b[1mNode ramsey_correction_12 in spec\u001b[0m\n",
      "2024-01-22 23:12:46,852 ◆ calibration_supervisor.py ◆ ramsey_correction_12 node is completed\n",
      "2024-01-22 23:12:46,852 ◆ calibration_supervisor.py ◆ Inspecting node resonator_spectroscopy_2\n",
      " ✔  \u001b[32m\u001b[1mNode resonator_spectroscopy_2 in spec\u001b[0m\n",
      "2024-01-22 23:12:46,853 ◆ calibration_supervisor.py ◆ resonator_spectroscopy_2 node is completed\n",
      "2024-01-22 23:12:46,854 ◆ calibration_supervisor.py ◆ Inspecting node cz_chevron\n",
      "⚑⚑⚑ \u001b[31m\u001b[1mCalibration required for Node cz_chevron\u001b[0m\n",
      "2024-01-22 23:12:46,854 ◆ calibration_supervisor.py ◆ Calibrating node cz_chevron\n",
      " kwargs = {'couplers': ['q21_q22']}\n",
      " ac_freq/1e6 = 217.31774355165672 MHz\n",
      " self.coupled_qubits = ['q21', 'q22']\n",
      "cz_pulse_amplitude = {'q21_q22': 0.15}\n",
      "2024-01-22 23:12:47,159 ◆ compilation_worker.py ◆ Starting Compiling\n",
      "2024-01-22 23:12:47,588 ◆ measurement_utils.py ◆ Starting measurement\n",
      " schedule_duration = 181.7361694719992\n",
      "CZ_chevron: 100%|\u001b[34m█████████████████████████████\u001b[0m| 908/908 [03:02<00:00,  4.99it/s]\u001b[0m\n",
      "2024-01-22 23:15:52,652 ◆ measurement_utils.py ◆ Raw dataset acquired\n",
      "2024-01-22 23:15:52,666 ◆ execution_worker.py ◆ Finished measurement\n",
      "2024-01-22 23:15:52,666 ◆ calibration_supervisor.py ◆ measurement completed\n",
      "/home/loke-c/anaconda3/envs/tac/lib/python3.9/site-packages/scipy/optimize/_minpack_py.py:494: RuntimeWarning: Number of calls to function has reached maxfev = 1000.\n",
      "  warnings.warn(errors[info][0], RuntimeWarning)\n",
      "You should probably enlarge your sweep range. The optimial point is not in the current range.\n",
      "No enough available points. Please resweep once again or enlarge sweep range.\n",
      "2024-01-22 23:15:58,504 ◆ calibration_supervisor.py ◆ analysis completed\n",
      "2024-01-22 23:15:58,504 ◆ calibration_supervisor.py ◆ cz_chevron node is completed\n",
      "\u001b[0m"
     ]
    }
   ],
   "source": [
    "# narrow sweep\n",
    "import numpy as np\n",
    "for parking_current in np.arange(1030,1050,2)*1e-6:\n",
    "    print('--------------------------------------------')\n",
    "    print(f'{parking_current = }')\n",
    "    print('--------------------------------------------')\n",
    "    spi.set_dac_current(dac0, parking_current)\n",
    "    !python reset_redis.py cz_chevron\n",
    "    !python workers/calibration_supervisor.py"
   ]
  },
  {
   "cell_type": "code",
   "execution_count": 9,
   "metadata": {},
   "outputs": [
    {
     "name": "stdout",
     "output_type": "stream",
     "text": [
      "--------------------------------------------\n",
      "parking_current = 0.00085\n",
      "--------------------------------------------\n",
      "ramping 0.0014999389648437493\n",
      "ramping 0.0014818191528320306\n",
      "ramping 0.0014617919921874993\n",
      "ramping 0.0014427185058593743\n",
      "ramping 0.001422691345214843\n",
      "ramping 0.001403617858886718\n",
      "ramping 0.0013835906982421868\n",
      "ramping 0.0013647079467773438\n",
      "ramping 0.0013446807861328125\n",
      "ramping 0.0013256072998046875\n",
      "ramping 0.0013055801391601562\n",
      "ramping 0.0012865066528320312\n",
      "ramping 0.0012664794921875\n",
      "ramping 0.001247406005859375\n",
      "ramping 0.0012273788452148438\n",
      "ramping 0.0012084960937500007\n",
      "ramping 0.0011884689331054694\n",
      "ramping 0.0011693954467773444\n",
      "ramping 0.0011493682861328132\n",
      "ramping 0.0011302947998046882\n",
      "ramping 0.001110267639160157\n",
      "ramping 0.001091194152832032\n",
      "ramping 0.0010711669921875007\n",
      "ramping 0.0010522842407226576\n",
      "ramping 0.0010322570800781264\n",
      "ramping 0.0010131835937500014\n",
      "ramping 0.0009931564331054701\n",
      "ramping 0.0009740829467773451\n",
      "ramping 0.0009540557861328139\n",
      "ramping 0.0009349822998046889\n",
      "ramping 0.0009149551391601576\n",
      "ramping 0.0008958816528320326\n",
      "ramping 0.0008758544921875014\n",
      "ramping 0.0008569717407226549\n",
      "Finished ramping\n",
      " parking_current = 0.00085\n",
      " dac.current() = 0.0008499145507812507\n",
      " remove_node = 'cz_chevron'\n",
      "clusterA_module13_att:40dB\n",
      "clusterA_module17_att:6dB\n",
      "2024-01-22 17:56:39,155 ◆ calibration_supervisor.py ◆ Starting System Calibration\n",
      "╔════════════════════════════════════════════════════════════════════════════════════════════════════════════════════════════════════════════════════════════════════╗\n",
      "║ Qubits: 10                                                                                                                                                         ║\n",
      "║↪ resonator_spectroscopy                                                                                                                                            ║\n",
      "║           ↪ qubit_01_spectroscopy_multidim                                                                                                                         ║\n",
      "║                          ↪ rabi_oscillations                                                                                                                       ║\n",
      "║                                  ↪ T1                                                                                                                              ║\n",
      "║                                   ↪ T2                                                                                                                             ║\n",
      "║                                    ↪ T2_echo                                                                                                                       ║\n",
      "║                                       ↪ ramsey_correction                                                                                                          ║\n",
      "║                                               ↪ motzoi_parameter                                                                                                   ║\n",
      "║                                                       ↪ n_rabi_oscillations                                                                                        ║\n",
      "║                                                                ↪ resonator_spectroscopy_1                                                                          ║\n",
      "║                                                                            ↪ qubit_12_spectroscopy_multidim                                                        ║\n",
      "║                                                                                           ↪ rabi_oscillations_12                                                   ║\n",
      "║                                                                                                     ↪ ramsey_correction_12                                         ║\n",
      "║                                                                                                               ↪ resonator_spectroscopy_2                           ║\n",
      "║                                                                                                                           ↪ cz_chevron                             ║\n",
      "╚════════════════════════════════════════════════════════════════════════════════════════════════════════════════════════════════════════════════════════════════════╝\n",
      "2024-01-22 17:56:39,214 ◆ calibration_supervisor.py ◆ Inspecting node resonator_spectroscopy\n",
      " ✔  \u001b[32m\u001b[1mNode resonator_spectroscopy in spec\u001b[0m\n",
      "2024-01-22 17:56:39,215 ◆ calibration_supervisor.py ◆ resonator_spectroscopy node is completed\n",
      "2024-01-22 17:56:39,215 ◆ calibration_supervisor.py ◆ Inspecting node qubit_01_spectroscopy_multidim\n",
      " ✔  \u001b[32m\u001b[1mNode qubit_01_spectroscopy_multidim in spec\u001b[0m\n",
      "2024-01-22 17:56:39,217 ◆ calibration_supervisor.py ◆ qubit_01_spectroscopy_multidim node is completed\n",
      "2024-01-22 17:56:39,217 ◆ calibration_supervisor.py ◆ Inspecting node rabi_oscillations\n",
      " ✔  \u001b[32m\u001b[1mNode rabi_oscillations in spec\u001b[0m\n",
      "2024-01-22 17:56:39,219 ◆ calibration_supervisor.py ◆ rabi_oscillations node is completed\n",
      "2024-01-22 17:56:39,219 ◆ calibration_supervisor.py ◆ Inspecting node T1\n",
      " ✔  \u001b[32m\u001b[1mNode T1 in spec\u001b[0m\n",
      "2024-01-22 17:56:39,220 ◆ calibration_supervisor.py ◆ T1 node is completed\n",
      "2024-01-22 17:56:39,220 ◆ calibration_supervisor.py ◆ Inspecting node T2\n",
      " ✔  \u001b[32m\u001b[1mNode T2 in spec\u001b[0m\n",
      "2024-01-22 17:56:39,222 ◆ calibration_supervisor.py ◆ T2 node is completed\n",
      "2024-01-22 17:56:39,222 ◆ calibration_supervisor.py ◆ Inspecting node T2_echo\n",
      " ✔  \u001b[32m\u001b[1mNode T2_echo in spec\u001b[0m\n",
      "2024-01-22 17:56:39,224 ◆ calibration_supervisor.py ◆ T2_echo node is completed\n",
      "2024-01-22 17:56:39,224 ◆ calibration_supervisor.py ◆ Inspecting node ramsey_correction\n",
      " ✔  \u001b[32m\u001b[1mNode ramsey_correction in spec\u001b[0m\n",
      "2024-01-22 17:56:39,225 ◆ calibration_supervisor.py ◆ ramsey_correction node is completed\n",
      "2024-01-22 17:56:39,226 ◆ calibration_supervisor.py ◆ Inspecting node motzoi_parameter\n",
      " ✔  \u001b[32m\u001b[1mNode motzoi_parameter in spec\u001b[0m\n",
      "2024-01-22 17:56:39,227 ◆ calibration_supervisor.py ◆ motzoi_parameter node is completed\n",
      "2024-01-22 17:56:39,227 ◆ calibration_supervisor.py ◆ Inspecting node n_rabi_oscillations\n",
      " ✔  \u001b[32m\u001b[1mNode n_rabi_oscillations in spec\u001b[0m\n",
      "2024-01-22 17:56:39,229 ◆ calibration_supervisor.py ◆ n_rabi_oscillations node is completed\n",
      "2024-01-22 17:56:39,229 ◆ calibration_supervisor.py ◆ Inspecting node resonator_spectroscopy_1\n",
      " ✔  \u001b[32m\u001b[1mNode resonator_spectroscopy_1 in spec\u001b[0m\n",
      "2024-01-22 17:56:39,231 ◆ calibration_supervisor.py ◆ resonator_spectroscopy_1 node is completed\n",
      "2024-01-22 17:56:39,231 ◆ calibration_supervisor.py ◆ Inspecting node qubit_12_spectroscopy_multidim\n",
      " ✔  \u001b[32m\u001b[1mNode qubit_12_spectroscopy_multidim in spec\u001b[0m\n",
      "2024-01-22 17:56:39,232 ◆ calibration_supervisor.py ◆ qubit_12_spectroscopy_multidim node is completed\n",
      "2024-01-22 17:56:39,232 ◆ calibration_supervisor.py ◆ Inspecting node rabi_oscillations_12\n",
      " ✔  \u001b[32m\u001b[1mNode rabi_oscillations_12 in spec\u001b[0m\n",
      "2024-01-22 17:56:39,234 ◆ calibration_supervisor.py ◆ rabi_oscillations_12 node is completed\n",
      "2024-01-22 17:56:39,234 ◆ calibration_supervisor.py ◆ Inspecting node ramsey_correction_12\n",
      " ✔  \u001b[32m\u001b[1mNode ramsey_correction_12 in spec\u001b[0m\n",
      "2024-01-22 17:56:39,236 ◆ calibration_supervisor.py ◆ ramsey_correction_12 node is completed\n",
      "2024-01-22 17:56:39,236 ◆ calibration_supervisor.py ◆ Inspecting node resonator_spectroscopy_2\n",
      " ✔  \u001b[32m\u001b[1mNode resonator_spectroscopy_2 in spec\u001b[0m\n",
      "2024-01-22 17:56:39,237 ◆ calibration_supervisor.py ◆ resonator_spectroscopy_2 node is completed\n",
      "2024-01-22 17:56:39,237 ◆ calibration_supervisor.py ◆ Inspecting node cz_chevron\n",
      "⚑⚑⚑ \u001b[31m\u001b[1mCalibration required for Node cz_chevron\u001b[0m\n",
      "2024-01-22 17:56:39,237 ◆ calibration_supervisor.py ◆ Calibrating node cz_chevron\n",
      " kwargs = {'couplers': ['q21_q22']}\n",
      " ac_freq/1e6 = 217.31774355165672 MHz\n",
      " self.coupled_qubits = ['q21', 'q22']\n",
      "cz_pulse_amplitude = {'q21_q22': 0.15}\n",
      "2024-01-22 17:56:39,543 ◆ compilation_worker.py ◆ Starting Compiling\n",
      "2024-01-22 17:56:39,970 ◆ measurement_utils.py ◆ Starting measurement\n",
      " schedule_duration = 181.7361694719992\n",
      "CZ_chevron: 100%|\u001b[34m█████████████████████████████\u001b[0m| 908/908 [03:02<00:00,  4.99it/s]\u001b[0m\n",
      "2024-01-22 17:59:44,956 ◆ measurement_utils.py ◆ Raw dataset acquired\n",
      "2024-01-22 17:59:44,970 ◆ execution_worker.py ◆ Finished measurement\n",
      "2024-01-22 17:59:44,970 ◆ calibration_supervisor.py ◆ measurement completed\n",
      "You should probably enlarge your sweep range. The optimial point is not in the current range.\n",
      "You should probably enlarge your sweep range. The optimial point is not in the current range.\n",
      "2024-01-22 17:59:50,822 ◆ calibration_supervisor.py ◆ analysis completed\n",
      "2024-01-22 17:59:50,823 ◆ calibration_supervisor.py ◆ cz_chevron node is completed\n",
      "\u001b[0m--------------------------------------------\n",
      "parking_current = 0.00095\n",
      "--------------------------------------------\n",
      "ramping 0.0008499145507812507\n",
      "ramping 0.0008678436279296875\n",
      "ramping 0.0008878707885742188\n",
      "ramping 0.0009069442749023438\n",
      "ramping 0.000926971435546875\n",
      "ramping 0.0009468078613281243\n",
      "Finished ramping\n",
      " parking_current = 0.00095\n",
      " dac.current() = 0.000949859619140625\n",
      " remove_node = 'cz_chevron'\n",
      "clusterA_module13_att:40dB\n",
      "clusterA_module17_att:6dB\n",
      "2024-01-22 18:00:01,556 ◆ calibration_supervisor.py ◆ Starting System Calibration\n",
      "╔════════════════════════════════════════════════════════════════════════════════════════════════════════════════════════════════════════════════════════════════════╗\n",
      "║ Qubits: 10                                                                                                                                                         ║\n",
      "║↪ resonator_spectroscopy                                                                                                                                            ║\n",
      "║           ↪ qubit_01_spectroscopy_multidim                                                                                                                         ║\n",
      "║                          ↪ rabi_oscillations                                                                                                                       ║\n",
      "║                                  ↪ T1                                                                                                                              ║\n",
      "║                                   ↪ T2                                                                                                                             ║\n",
      "║                                    ↪ T2_echo                                                                                                                       ║\n",
      "║                                       ↪ ramsey_correction                                                                                                          ║\n",
      "║                                               ↪ motzoi_parameter                                                                                                   ║\n",
      "║                                                       ↪ n_rabi_oscillations                                                                                        ║\n",
      "║                                                                ↪ resonator_spectroscopy_1                                                                          ║\n",
      "║                                                                            ↪ qubit_12_spectroscopy_multidim                                                        ║\n",
      "║                                                                                           ↪ rabi_oscillations_12                                                   ║\n",
      "║                                                                                                     ↪ ramsey_correction_12                                         ║\n",
      "║                                                                                                               ↪ resonator_spectroscopy_2                           ║\n",
      "║                                                                                                                           ↪ cz_chevron                             ║\n",
      "╚════════════════════════════════════════════════════════════════════════════════════════════════════════════════════════════════════════════════════════════════════╝\n",
      "2024-01-22 18:00:01,628 ◆ calibration_supervisor.py ◆ Inspecting node resonator_spectroscopy\n",
      " ✔  \u001b[32m\u001b[1mNode resonator_spectroscopy in spec\u001b[0m\n",
      "2024-01-22 18:00:01,631 ◆ calibration_supervisor.py ◆ resonator_spectroscopy node is completed\n",
      "2024-01-22 18:00:01,631 ◆ calibration_supervisor.py ◆ Inspecting node qubit_01_spectroscopy_multidim\n",
      " ✔  \u001b[32m\u001b[1mNode qubit_01_spectroscopy_multidim in spec\u001b[0m\n",
      "2024-01-22 18:00:01,633 ◆ calibration_supervisor.py ◆ qubit_01_spectroscopy_multidim node is completed\n",
      "2024-01-22 18:00:01,633 ◆ calibration_supervisor.py ◆ Inspecting node rabi_oscillations\n",
      " ✔  \u001b[32m\u001b[1mNode rabi_oscillations in spec\u001b[0m\n",
      "2024-01-22 18:00:01,635 ◆ calibration_supervisor.py ◆ rabi_oscillations node is completed\n",
      "2024-01-22 18:00:01,635 ◆ calibration_supervisor.py ◆ Inspecting node T1\n",
      " ✔  \u001b[32m\u001b[1mNode T1 in spec\u001b[0m\n",
      "2024-01-22 18:00:01,637 ◆ calibration_supervisor.py ◆ T1 node is completed\n",
      "2024-01-22 18:00:01,637 ◆ calibration_supervisor.py ◆ Inspecting node T2\n",
      " ✔  \u001b[32m\u001b[1mNode T2 in spec\u001b[0m\n",
      "2024-01-22 18:00:01,639 ◆ calibration_supervisor.py ◆ T2 node is completed\n",
      "2024-01-22 18:00:01,639 ◆ calibration_supervisor.py ◆ Inspecting node T2_echo\n",
      " ✔  \u001b[32m\u001b[1mNode T2_echo in spec\u001b[0m\n",
      "2024-01-22 18:00:01,640 ◆ calibration_supervisor.py ◆ T2_echo node is completed\n",
      "2024-01-22 18:00:01,640 ◆ calibration_supervisor.py ◆ Inspecting node ramsey_correction\n",
      " ✔  \u001b[32m\u001b[1mNode ramsey_correction in spec\u001b[0m\n",
      "2024-01-22 18:00:01,643 ◆ calibration_supervisor.py ◆ ramsey_correction node is completed\n",
      "2024-01-22 18:00:01,643 ◆ calibration_supervisor.py ◆ Inspecting node motzoi_parameter\n",
      " ✔  \u001b[32m\u001b[1mNode motzoi_parameter in spec\u001b[0m\n",
      "2024-01-22 18:00:01,645 ◆ calibration_supervisor.py ◆ motzoi_parameter node is completed\n",
      "2024-01-22 18:00:01,646 ◆ calibration_supervisor.py ◆ Inspecting node n_rabi_oscillations\n",
      " ✔  \u001b[32m\u001b[1mNode n_rabi_oscillations in spec\u001b[0m\n",
      "2024-01-22 18:00:01,648 ◆ calibration_supervisor.py ◆ n_rabi_oscillations node is completed\n",
      "2024-01-22 18:00:01,648 ◆ calibration_supervisor.py ◆ Inspecting node resonator_spectroscopy_1\n",
      " ✔  \u001b[32m\u001b[1mNode resonator_spectroscopy_1 in spec\u001b[0m\n",
      "2024-01-22 18:00:01,650 ◆ calibration_supervisor.py ◆ resonator_spectroscopy_1 node is completed\n",
      "2024-01-22 18:00:01,650 ◆ calibration_supervisor.py ◆ Inspecting node qubit_12_spectroscopy_multidim\n",
      " ✔  \u001b[32m\u001b[1mNode qubit_12_spectroscopy_multidim in spec\u001b[0m\n",
      "2024-01-22 18:00:01,653 ◆ calibration_supervisor.py ◆ qubit_12_spectroscopy_multidim node is completed\n",
      "2024-01-22 18:00:01,653 ◆ calibration_supervisor.py ◆ Inspecting node rabi_oscillations_12\n",
      " ✔  \u001b[32m\u001b[1mNode rabi_oscillations_12 in spec\u001b[0m\n",
      "2024-01-22 18:00:01,654 ◆ calibration_supervisor.py ◆ rabi_oscillations_12 node is completed\n",
      "2024-01-22 18:00:01,655 ◆ calibration_supervisor.py ◆ Inspecting node ramsey_correction_12\n",
      " ✔  \u001b[32m\u001b[1mNode ramsey_correction_12 in spec\u001b[0m\n",
      "2024-01-22 18:00:01,656 ◆ calibration_supervisor.py ◆ ramsey_correction_12 node is completed\n",
      "2024-01-22 18:00:01,656 ◆ calibration_supervisor.py ◆ Inspecting node resonator_spectroscopy_2\n",
      " ✔  \u001b[32m\u001b[1mNode resonator_spectroscopy_2 in spec\u001b[0m\n",
      "2024-01-22 18:00:01,658 ◆ calibration_supervisor.py ◆ resonator_spectroscopy_2 node is completed\n",
      "2024-01-22 18:00:01,658 ◆ calibration_supervisor.py ◆ Inspecting node cz_chevron\n",
      "⚑⚑⚑ \u001b[31m\u001b[1mCalibration required for Node cz_chevron\u001b[0m\n",
      "2024-01-22 18:00:01,659 ◆ calibration_supervisor.py ◆ Calibrating node cz_chevron\n",
      " kwargs = {'couplers': ['q21_q22']}\n",
      " ac_freq/1e6 = 217.31774355165672 MHz\n",
      " self.coupled_qubits = ['q21', 'q22']\n",
      "cz_pulse_amplitude = {'q21_q22': 0.15}\n",
      "2024-01-22 18:00:01,969 ◆ compilation_worker.py ◆ Starting Compiling\n",
      "2024-01-22 18:00:02,409 ◆ measurement_utils.py ◆ Starting measurement\n",
      " schedule_duration = 181.7361694719992\n",
      "CZ_chevron: 100%|\u001b[34m█████████████████████████████\u001b[0m| 908/908 [03:02<00:00,  4.99it/s]\u001b[0m\n",
      "2024-01-22 18:03:07,491 ◆ measurement_utils.py ◆ Raw dataset acquired\n",
      "2024-01-22 18:03:07,506 ◆ execution_worker.py ◆ Finished measurement\n",
      "2024-01-22 18:03:07,506 ◆ calibration_supervisor.py ◆ measurement completed\n",
      "No enough available points. Please resweep once again or enlarge sweep range.\n",
      "np.min(coupling_strength): 0.001002196288018321\n",
      "np.min(data_fit): 0.005209696803825239\n",
      "We use the raw measured data.\n",
      "2024-01-22 18:03:13,364 ◆ calibration_supervisor.py ◆ analysis completed\n",
      "2024-01-22 18:03:13,364 ◆ calibration_supervisor.py ◆ cz_chevron node is completed\n",
      "\u001b[0m--------------------------------------------\n",
      "parking_current = 0.00105\n",
      "--------------------------------------------\n",
      "ramping 0.000949859619140625\n",
      "ramping 0.0009677886962890618\n",
      "ramping 0.000987815856933593\n",
      "ramping 0.001006889343261718\n",
      "ramping 0.0010269165039062493\n",
      "ramping 0.0010469436645507806\n",
      "Finished ramping\n",
      " parking_current = 0.00105\n",
      " dac.current() = 0.0010499954223632812\n",
      " remove_node = 'cz_chevron'\n",
      "clusterA_module13_att:40dB\n",
      "clusterA_module17_att:6dB\n",
      "2024-01-22 18:03:24,091 ◆ calibration_supervisor.py ◆ Starting System Calibration\n",
      "╔════════════════════════════════════════════════════════════════════════════════════════════════════════════════════════════════════════════════════════════════════╗\n",
      "║ Qubits: 10                                                                                                                                                         ║\n",
      "║↪ resonator_spectroscopy                                                                                                                                            ║\n",
      "║           ↪ qubit_01_spectroscopy_multidim                                                                                                                         ║\n",
      "║                          ↪ rabi_oscillations                                                                                                                       ║\n",
      "║                                  ↪ T1                                                                                                                              ║\n",
      "║                                   ↪ T2                                                                                                                             ║\n",
      "║                                    ↪ T2_echo                                                                                                                       ║\n",
      "║                                       ↪ ramsey_correction                                                                                                          ║\n",
      "║                                               ↪ motzoi_parameter                                                                                                   ║\n",
      "║                                                       ↪ n_rabi_oscillations                                                                                        ║\n",
      "║                                                                ↪ resonator_spectroscopy_1                                                                          ║\n",
      "║                                                                            ↪ qubit_12_spectroscopy_multidim                                                        ║\n",
      "║                                                                                           ↪ rabi_oscillations_12                                                   ║\n",
      "║                                                                                                     ↪ ramsey_correction_12                                         ║\n",
      "║                                                                                                               ↪ resonator_spectroscopy_2                           ║\n",
      "║                                                                                                                           ↪ cz_chevron                             ║\n",
      "╚════════════════════════════════════════════════════════════════════════════════════════════════════════════════════════════════════════════════════════════════════╝\n",
      "2024-01-22 18:03:24,152 ◆ calibration_supervisor.py ◆ Inspecting node resonator_spectroscopy\n",
      " ✔  \u001b[32m\u001b[1mNode resonator_spectroscopy in spec\u001b[0m\n",
      "2024-01-22 18:03:24,153 ◆ calibration_supervisor.py ◆ resonator_spectroscopy node is completed\n",
      "2024-01-22 18:03:24,153 ◆ calibration_supervisor.py ◆ Inspecting node qubit_01_spectroscopy_multidim\n",
      " ✔  \u001b[32m\u001b[1mNode qubit_01_spectroscopy_multidim in spec\u001b[0m\n",
      "2024-01-22 18:03:24,155 ◆ calibration_supervisor.py ◆ qubit_01_spectroscopy_multidim node is completed\n",
      "2024-01-22 18:03:24,155 ◆ calibration_supervisor.py ◆ Inspecting node rabi_oscillations\n",
      " ✔  \u001b[32m\u001b[1mNode rabi_oscillations in spec\u001b[0m\n",
      "2024-01-22 18:03:24,157 ◆ calibration_supervisor.py ◆ rabi_oscillations node is completed\n",
      "2024-01-22 18:03:24,157 ◆ calibration_supervisor.py ◆ Inspecting node T1\n",
      " ✔  \u001b[32m\u001b[1mNode T1 in spec\u001b[0m\n",
      "2024-01-22 18:03:24,159 ◆ calibration_supervisor.py ◆ T1 node is completed\n",
      "2024-01-22 18:03:24,159 ◆ calibration_supervisor.py ◆ Inspecting node T2\n",
      " ✔  \u001b[32m\u001b[1mNode T2 in spec\u001b[0m\n",
      "2024-01-22 18:03:24,160 ◆ calibration_supervisor.py ◆ T2 node is completed\n",
      "2024-01-22 18:03:24,160 ◆ calibration_supervisor.py ◆ Inspecting node T2_echo\n",
      " ✔  \u001b[32m\u001b[1mNode T2_echo in spec\u001b[0m\n",
      "2024-01-22 18:03:24,162 ◆ calibration_supervisor.py ◆ T2_echo node is completed\n",
      "2024-01-22 18:03:24,162 ◆ calibration_supervisor.py ◆ Inspecting node ramsey_correction\n",
      " ✔  \u001b[32m\u001b[1mNode ramsey_correction in spec\u001b[0m\n",
      "2024-01-22 18:03:24,163 ◆ calibration_supervisor.py ◆ ramsey_correction node is completed\n",
      "2024-01-22 18:03:24,164 ◆ calibration_supervisor.py ◆ Inspecting node motzoi_parameter\n",
      " ✔  \u001b[32m\u001b[1mNode motzoi_parameter in spec\u001b[0m\n",
      "2024-01-22 18:03:24,165 ◆ calibration_supervisor.py ◆ motzoi_parameter node is completed\n",
      "2024-01-22 18:03:24,165 ◆ calibration_supervisor.py ◆ Inspecting node n_rabi_oscillations\n",
      " ✔  \u001b[32m\u001b[1mNode n_rabi_oscillations in spec\u001b[0m\n",
      "2024-01-22 18:03:24,167 ◆ calibration_supervisor.py ◆ n_rabi_oscillations node is completed\n",
      "2024-01-22 18:03:24,167 ◆ calibration_supervisor.py ◆ Inspecting node resonator_spectroscopy_1\n",
      " ✔  \u001b[32m\u001b[1mNode resonator_spectroscopy_1 in spec\u001b[0m\n",
      "2024-01-22 18:03:24,169 ◆ calibration_supervisor.py ◆ resonator_spectroscopy_1 node is completed\n",
      "2024-01-22 18:03:24,169 ◆ calibration_supervisor.py ◆ Inspecting node qubit_12_spectroscopy_multidim\n",
      " ✔  \u001b[32m\u001b[1mNode qubit_12_spectroscopy_multidim in spec\u001b[0m\n",
      "2024-01-22 18:03:24,171 ◆ calibration_supervisor.py ◆ qubit_12_spectroscopy_multidim node is completed\n",
      "2024-01-22 18:03:24,171 ◆ calibration_supervisor.py ◆ Inspecting node rabi_oscillations_12\n",
      " ✔  \u001b[32m\u001b[1mNode rabi_oscillations_12 in spec\u001b[0m\n",
      "2024-01-22 18:03:24,172 ◆ calibration_supervisor.py ◆ rabi_oscillations_12 node is completed\n",
      "2024-01-22 18:03:24,172 ◆ calibration_supervisor.py ◆ Inspecting node ramsey_correction_12\n",
      " ✔  \u001b[32m\u001b[1mNode ramsey_correction_12 in spec\u001b[0m\n",
      "2024-01-22 18:03:24,174 ◆ calibration_supervisor.py ◆ ramsey_correction_12 node is completed\n",
      "2024-01-22 18:03:24,174 ◆ calibration_supervisor.py ◆ Inspecting node resonator_spectroscopy_2\n",
      " ✔  \u001b[32m\u001b[1mNode resonator_spectroscopy_2 in spec\u001b[0m\n",
      "2024-01-22 18:03:24,176 ◆ calibration_supervisor.py ◆ resonator_spectroscopy_2 node is completed\n",
      "2024-01-22 18:03:24,176 ◆ calibration_supervisor.py ◆ Inspecting node cz_chevron\n",
      "⚑⚑⚑ \u001b[31m\u001b[1mCalibration required for Node cz_chevron\u001b[0m\n",
      "2024-01-22 18:03:24,176 ◆ calibration_supervisor.py ◆ Calibrating node cz_chevron\n",
      " kwargs = {'couplers': ['q21_q22']}\n",
      " ac_freq/1e6 = 217.31774355165672 MHz\n",
      " self.coupled_qubits = ['q21', 'q22']\n",
      "cz_pulse_amplitude = {'q21_q22': 0.15}\n",
      "2024-01-22 18:03:24,487 ◆ compilation_worker.py ◆ Starting Compiling\n",
      "2024-01-22 18:03:24,914 ◆ measurement_utils.py ◆ Starting measurement\n",
      " schedule_duration = 181.7361694719992\n",
      "CZ_chevron: 100%|\u001b[34m█████████████████████████████\u001b[0m| 908/908 [03:02<00:00,  4.99it/s]\u001b[0m\n",
      "2024-01-22 18:06:29,974 ◆ measurement_utils.py ◆ Raw dataset acquired\n",
      "2024-01-22 18:06:29,989 ◆ execution_worker.py ◆ Finished measurement\n",
      "2024-01-22 18:06:29,989 ◆ calibration_supervisor.py ◆ measurement completed\n",
      "You should probably enlarge your sweep range. The optimial point is not in the current range.\n",
      "You should probably enlarge your sweep range. The optimial point is not in the current range.\n",
      "2024-01-22 18:06:35,876 ◆ calibration_supervisor.py ◆ analysis completed\n",
      "2024-01-22 18:06:35,876 ◆ calibration_supervisor.py ◆ cz_chevron node is completed\n",
      "\u001b[0m--------------------------------------------\n",
      "parking_current = 0.00115\n",
      "--------------------------------------------\n",
      "ramping 0.0010499954223632812\n",
      "ramping 0.001067924499511718\n",
      "ramping 0.0010879516601562493\n",
      "ramping 0.0011079788208007806\n",
      "ramping 0.0011268615722656236\n",
      "ramping 0.0011468887329101549\n",
      "Finished ramping\n",
      " parking_current = 0.00115\n",
      " dac.current() = 0.0011499404907226556\n",
      " remove_node = 'cz_chevron'\n",
      "clusterA_module13_att:40dB\n",
      "clusterA_module17_att:6dB\n",
      "2024-01-22 18:06:46,714 ◆ calibration_supervisor.py ◆ Starting System Calibration\n",
      "╔════════════════════════════════════════════════════════════════════════════════════════════════════════════════════════════════════════════════════════════════════╗\n",
      "║ Qubits: 10                                                                                                                                                         ║\n",
      "║↪ resonator_spectroscopy                                                                                                                                            ║\n",
      "║           ↪ qubit_01_spectroscopy_multidim                                                                                                                         ║\n",
      "║                          ↪ rabi_oscillations                                                                                                                       ║\n",
      "║                                  ↪ T1                                                                                                                              ║\n",
      "║                                   ↪ T2                                                                                                                             ║\n",
      "║                                    ↪ T2_echo                                                                                                                       ║\n",
      "║                                       ↪ ramsey_correction                                                                                                          ║\n",
      "║                                               ↪ motzoi_parameter                                                                                                   ║\n",
      "║                                                       ↪ n_rabi_oscillations                                                                                        ║\n",
      "║                                                                ↪ resonator_spectroscopy_1                                                                          ║\n",
      "║                                                                            ↪ qubit_12_spectroscopy_multidim                                                        ║\n",
      "║                                                                                           ↪ rabi_oscillations_12                                                   ║\n",
      "║                                                                                                     ↪ ramsey_correction_12                                         ║\n",
      "║                                                                                                               ↪ resonator_spectroscopy_2                           ║\n",
      "║                                                                                                                           ↪ cz_chevron                             ║\n",
      "╚════════════════════════════════════════════════════════════════════════════════════════════════════════════════════════════════════════════════════════════════════╝\n",
      "2024-01-22 18:06:46,775 ◆ calibration_supervisor.py ◆ Inspecting node resonator_spectroscopy\n",
      " ✔  \u001b[32m\u001b[1mNode resonator_spectroscopy in spec\u001b[0m\n",
      "2024-01-22 18:06:46,777 ◆ calibration_supervisor.py ◆ resonator_spectroscopy node is completed\n",
      "2024-01-22 18:06:46,777 ◆ calibration_supervisor.py ◆ Inspecting node qubit_01_spectroscopy_multidim\n",
      " ✔  \u001b[32m\u001b[1mNode qubit_01_spectroscopy_multidim in spec\u001b[0m\n",
      "2024-01-22 18:06:46,779 ◆ calibration_supervisor.py ◆ qubit_01_spectroscopy_multidim node is completed\n",
      "2024-01-22 18:06:46,779 ◆ calibration_supervisor.py ◆ Inspecting node rabi_oscillations\n",
      " ✔  \u001b[32m\u001b[1mNode rabi_oscillations in spec\u001b[0m\n",
      "2024-01-22 18:06:46,780 ◆ calibration_supervisor.py ◆ rabi_oscillations node is completed\n",
      "2024-01-22 18:06:46,780 ◆ calibration_supervisor.py ◆ Inspecting node T1\n",
      " ✔  \u001b[32m\u001b[1mNode T1 in spec\u001b[0m\n",
      "2024-01-22 18:06:46,782 ◆ calibration_supervisor.py ◆ T1 node is completed\n",
      "2024-01-22 18:06:46,782 ◆ calibration_supervisor.py ◆ Inspecting node T2\n",
      " ✔  \u001b[32m\u001b[1mNode T2 in spec\u001b[0m\n",
      "2024-01-22 18:06:46,784 ◆ calibration_supervisor.py ◆ T2 node is completed\n",
      "2024-01-22 18:06:46,784 ◆ calibration_supervisor.py ◆ Inspecting node T2_echo\n",
      " ✔  \u001b[32m\u001b[1mNode T2_echo in spec\u001b[0m\n",
      "2024-01-22 18:06:46,786 ◆ calibration_supervisor.py ◆ T2_echo node is completed\n",
      "2024-01-22 18:06:46,786 ◆ calibration_supervisor.py ◆ Inspecting node ramsey_correction\n",
      " ✔  \u001b[32m\u001b[1mNode ramsey_correction in spec\u001b[0m\n",
      "2024-01-22 18:06:46,787 ◆ calibration_supervisor.py ◆ ramsey_correction node is completed\n",
      "2024-01-22 18:06:46,787 ◆ calibration_supervisor.py ◆ Inspecting node motzoi_parameter\n",
      " ✔  \u001b[32m\u001b[1mNode motzoi_parameter in spec\u001b[0m\n",
      "2024-01-22 18:06:46,789 ◆ calibration_supervisor.py ◆ motzoi_parameter node is completed\n",
      "2024-01-22 18:06:46,789 ◆ calibration_supervisor.py ◆ Inspecting node n_rabi_oscillations\n",
      " ✔  \u001b[32m\u001b[1mNode n_rabi_oscillations in spec\u001b[0m\n",
      "2024-01-22 18:06:46,791 ◆ calibration_supervisor.py ◆ n_rabi_oscillations node is completed\n",
      "2024-01-22 18:06:46,791 ◆ calibration_supervisor.py ◆ Inspecting node resonator_spectroscopy_1\n",
      " ✔  \u001b[32m\u001b[1mNode resonator_spectroscopy_1 in spec\u001b[0m\n",
      "2024-01-22 18:06:46,793 ◆ calibration_supervisor.py ◆ resonator_spectroscopy_1 node is completed\n",
      "2024-01-22 18:06:46,793 ◆ calibration_supervisor.py ◆ Inspecting node qubit_12_spectroscopy_multidim\n",
      " ✔  \u001b[32m\u001b[1mNode qubit_12_spectroscopy_multidim in spec\u001b[0m\n",
      "2024-01-22 18:06:46,795 ◆ calibration_supervisor.py ◆ qubit_12_spectroscopy_multidim node is completed\n",
      "2024-01-22 18:06:46,795 ◆ calibration_supervisor.py ◆ Inspecting node rabi_oscillations_12\n",
      " ✔  \u001b[32m\u001b[1mNode rabi_oscillations_12 in spec\u001b[0m\n",
      "2024-01-22 18:06:46,796 ◆ calibration_supervisor.py ◆ rabi_oscillations_12 node is completed\n",
      "2024-01-22 18:06:46,797 ◆ calibration_supervisor.py ◆ Inspecting node ramsey_correction_12\n",
      " ✔  \u001b[32m\u001b[1mNode ramsey_correction_12 in spec\u001b[0m\n",
      "2024-01-22 18:06:46,798 ◆ calibration_supervisor.py ◆ ramsey_correction_12 node is completed\n",
      "2024-01-22 18:06:46,798 ◆ calibration_supervisor.py ◆ Inspecting node resonator_spectroscopy_2\n",
      " ✔  \u001b[32m\u001b[1mNode resonator_spectroscopy_2 in spec\u001b[0m\n",
      "2024-01-22 18:06:46,800 ◆ calibration_supervisor.py ◆ resonator_spectroscopy_2 node is completed\n",
      "2024-01-22 18:06:46,800 ◆ calibration_supervisor.py ◆ Inspecting node cz_chevron\n",
      "⚑⚑⚑ \u001b[31m\u001b[1mCalibration required for Node cz_chevron\u001b[0m\n",
      "2024-01-22 18:06:46,800 ◆ calibration_supervisor.py ◆ Calibrating node cz_chevron\n",
      " kwargs = {'couplers': ['q21_q22']}\n",
      " ac_freq/1e6 = 217.31774355165672 MHz\n",
      " self.coupled_qubits = ['q21', 'q22']\n",
      "cz_pulse_amplitude = {'q21_q22': 0.15}\n",
      "2024-01-22 18:06:47,114 ◆ compilation_worker.py ◆ Starting Compiling\n",
      "2024-01-22 18:06:47,551 ◆ measurement_utils.py ◆ Starting measurement\n",
      " schedule_duration = 181.7361694719992\n",
      "CZ_chevron: 100%|\u001b[34m█████████████████████████████\u001b[0m| 908/908 [03:02<00:00,  4.99it/s]\u001b[0m\n",
      "2024-01-22 18:09:52,732 ◆ measurement_utils.py ◆ Raw dataset acquired\n",
      "2024-01-22 18:09:52,748 ◆ execution_worker.py ◆ Finished measurement\n",
      "2024-01-22 18:09:52,748 ◆ calibration_supervisor.py ◆ measurement completed\n",
      "/home/loke-c/anaconda3/envs/tac/lib/python3.9/site-packages/scipy/optimize/_minpack_py.py:494: RuntimeWarning: Number of calls to function has reached maxfev = 1000.\n",
      "  warnings.warn(errors[info][0], RuntimeWarning)\n",
      "You should probably enlarge your sweep range. The optimial point is not in the current range.\n",
      "You should probably enlarge your sweep range. The optimial point is not in the current range.\n",
      "2024-01-22 18:09:58,620 ◆ calibration_supervisor.py ◆ analysis completed\n",
      "2024-01-22 18:09:58,620 ◆ calibration_supervisor.py ◆ cz_chevron node is completed\n",
      "\u001b[0m--------------------------------------------\n",
      "parking_current = 0.00125\n",
      "--------------------------------------------\n",
      "ramping 0.0011499404907226556\n",
      "ramping 0.0011678695678710924\n",
      "ramping 0.0011878967285156236\n",
      "ramping 0.0012069702148437486\n",
      "ramping 0.0012268066406250014\n",
      "ramping 0.0012468338012695326\n",
      "Finished ramping\n",
      " parking_current = 0.00125\n",
      " dac.current() = 0.0012498855590820299\n",
      " remove_node = 'cz_chevron'\n",
      "clusterA_module13_att:40dB\n",
      "clusterA_module17_att:6dB\n",
      "2024-01-22 18:10:09,344 ◆ calibration_supervisor.py ◆ Starting System Calibration\n",
      "╔════════════════════════════════════════════════════════════════════════════════════════════════════════════════════════════════════════════════════════════════════╗\n",
      "║ Qubits: 10                                                                                                                                                         ║\n",
      "║↪ resonator_spectroscopy                                                                                                                                            ║\n",
      "║           ↪ qubit_01_spectroscopy_multidim                                                                                                                         ║\n",
      "║                          ↪ rabi_oscillations                                                                                                                       ║\n",
      "║                                  ↪ T1                                                                                                                              ║\n",
      "║                                   ↪ T2                                                                                                                             ║\n",
      "║                                    ↪ T2_echo                                                                                                                       ║\n",
      "║                                       ↪ ramsey_correction                                                                                                          ║\n",
      "║                                               ↪ motzoi_parameter                                                                                                   ║\n",
      "║                                                       ↪ n_rabi_oscillations                                                                                        ║\n",
      "║                                                                ↪ resonator_spectroscopy_1                                                                          ║\n",
      "║                                                                            ↪ qubit_12_spectroscopy_multidim                                                        ║\n",
      "║                                                                                           ↪ rabi_oscillations_12                                                   ║\n",
      "║                                                                                                     ↪ ramsey_correction_12                                         ║\n",
      "║                                                                                                               ↪ resonator_spectroscopy_2                           ║\n",
      "║                                                                                                                           ↪ cz_chevron                             ║\n",
      "╚════════════════════════════════════════════════════════════════════════════════════════════════════════════════════════════════════════════════════════════════════╝\n",
      "2024-01-22 18:10:09,402 ◆ calibration_supervisor.py ◆ Inspecting node resonator_spectroscopy\n",
      " ✔  \u001b[32m\u001b[1mNode resonator_spectroscopy in spec\u001b[0m\n",
      "2024-01-22 18:10:09,404 ◆ calibration_supervisor.py ◆ resonator_spectroscopy node is completed\n",
      "2024-01-22 18:10:09,404 ◆ calibration_supervisor.py ◆ Inspecting node qubit_01_spectroscopy_multidim\n",
      " ✔  \u001b[32m\u001b[1mNode qubit_01_spectroscopy_multidim in spec\u001b[0m\n",
      "2024-01-22 18:10:09,406 ◆ calibration_supervisor.py ◆ qubit_01_spectroscopy_multidim node is completed\n",
      "2024-01-22 18:10:09,406 ◆ calibration_supervisor.py ◆ Inspecting node rabi_oscillations\n",
      " ✔  \u001b[32m\u001b[1mNode rabi_oscillations in spec\u001b[0m\n",
      "2024-01-22 18:10:09,407 ◆ calibration_supervisor.py ◆ rabi_oscillations node is completed\n",
      "2024-01-22 18:10:09,407 ◆ calibration_supervisor.py ◆ Inspecting node T1\n",
      " ✔  \u001b[32m\u001b[1mNode T1 in spec\u001b[0m\n",
      "2024-01-22 18:10:09,409 ◆ calibration_supervisor.py ◆ T1 node is completed\n",
      "2024-01-22 18:10:09,409 ◆ calibration_supervisor.py ◆ Inspecting node T2\n",
      " ✔  \u001b[32m\u001b[1mNode T2 in spec\u001b[0m\n",
      "2024-01-22 18:10:09,411 ◆ calibration_supervisor.py ◆ T2 node is completed\n",
      "2024-01-22 18:10:09,411 ◆ calibration_supervisor.py ◆ Inspecting node T2_echo\n",
      " ✔  \u001b[32m\u001b[1mNode T2_echo in spec\u001b[0m\n",
      "2024-01-22 18:10:09,412 ◆ calibration_supervisor.py ◆ T2_echo node is completed\n",
      "2024-01-22 18:10:09,412 ◆ calibration_supervisor.py ◆ Inspecting node ramsey_correction\n",
      " ✔  \u001b[32m\u001b[1mNode ramsey_correction in spec\u001b[0m\n",
      "2024-01-22 18:10:09,414 ◆ calibration_supervisor.py ◆ ramsey_correction node is completed\n",
      "2024-01-22 18:10:09,414 ◆ calibration_supervisor.py ◆ Inspecting node motzoi_parameter\n",
      " ✔  \u001b[32m\u001b[1mNode motzoi_parameter in spec\u001b[0m\n",
      "2024-01-22 18:10:09,416 ◆ calibration_supervisor.py ◆ motzoi_parameter node is completed\n",
      "2024-01-22 18:10:09,416 ◆ calibration_supervisor.py ◆ Inspecting node n_rabi_oscillations\n",
      " ✔  \u001b[32m\u001b[1mNode n_rabi_oscillations in spec\u001b[0m\n",
      "2024-01-22 18:10:09,417 ◆ calibration_supervisor.py ◆ n_rabi_oscillations node is completed\n",
      "2024-01-22 18:10:09,417 ◆ calibration_supervisor.py ◆ Inspecting node resonator_spectroscopy_1\n",
      " ✔  \u001b[32m\u001b[1mNode resonator_spectroscopy_1 in spec\u001b[0m\n",
      "2024-01-22 18:10:09,419 ◆ calibration_supervisor.py ◆ resonator_spectroscopy_1 node is completed\n",
      "2024-01-22 18:10:09,419 ◆ calibration_supervisor.py ◆ Inspecting node qubit_12_spectroscopy_multidim\n",
      " ✔  \u001b[32m\u001b[1mNode qubit_12_spectroscopy_multidim in spec\u001b[0m\n",
      "2024-01-22 18:10:09,421 ◆ calibration_supervisor.py ◆ qubit_12_spectroscopy_multidim node is completed\n",
      "2024-01-22 18:10:09,421 ◆ calibration_supervisor.py ◆ Inspecting node rabi_oscillations_12\n",
      " ✔  \u001b[32m\u001b[1mNode rabi_oscillations_12 in spec\u001b[0m\n",
      "2024-01-22 18:10:09,423 ◆ calibration_supervisor.py ◆ rabi_oscillations_12 node is completed\n",
      "2024-01-22 18:10:09,423 ◆ calibration_supervisor.py ◆ Inspecting node ramsey_correction_12\n",
      " ✔  \u001b[32m\u001b[1mNode ramsey_correction_12 in spec\u001b[0m\n",
      "2024-01-22 18:10:09,425 ◆ calibration_supervisor.py ◆ ramsey_correction_12 node is completed\n",
      "2024-01-22 18:10:09,425 ◆ calibration_supervisor.py ◆ Inspecting node resonator_spectroscopy_2\n",
      " ✔  \u001b[32m\u001b[1mNode resonator_spectroscopy_2 in spec\u001b[0m\n",
      "2024-01-22 18:10:09,426 ◆ calibration_supervisor.py ◆ resonator_spectroscopy_2 node is completed\n",
      "2024-01-22 18:10:09,426 ◆ calibration_supervisor.py ◆ Inspecting node cz_chevron\n",
      "⚑⚑⚑ \u001b[31m\u001b[1mCalibration required for Node cz_chevron\u001b[0m\n",
      "2024-01-22 18:10:09,426 ◆ calibration_supervisor.py ◆ Calibrating node cz_chevron\n",
      " kwargs = {'couplers': ['q21_q22']}\n",
      " ac_freq/1e6 = 217.31774355165672 MHz\n",
      " self.coupled_qubits = ['q21', 'q22']\n",
      "cz_pulse_amplitude = {'q21_q22': 0.15}\n",
      "2024-01-22 18:10:09,727 ◆ compilation_worker.py ◆ Starting Compiling\n",
      "2024-01-22 18:10:10,140 ◆ measurement_utils.py ◆ Starting measurement\n",
      " schedule_duration = 181.7361694719992\n",
      "CZ_chevron: 100%|\u001b[34m█████████████████████████████\u001b[0m| 908/908 [03:02<00:00,  4.99it/s]\u001b[0m\n",
      "2024-01-22 18:13:15,188 ◆ measurement_utils.py ◆ Raw dataset acquired\n",
      "2024-01-22 18:13:15,202 ◆ execution_worker.py ◆ Finished measurement\n",
      "2024-01-22 18:13:15,202 ◆ calibration_supervisor.py ◆ measurement completed\n",
      "np.min(coupling_strength): 0.0011704190700800754\n",
      "np.min(data_fit): 0.0008322072140744178\n",
      "You should probably enlarge your sweep range. The optimial point is not in the current range.\n",
      "2024-01-22 18:13:21,097 ◆ calibration_supervisor.py ◆ analysis completed\n",
      "2024-01-22 18:13:21,097 ◆ calibration_supervisor.py ◆ cz_chevron node is completed\n",
      "\u001b[0m"
     ]
    }
   ],
   "source": [
    "# wide sweep\n",
    "import numpy as np\n",
    "for parking_current in np.arange(850,1350,100)*1e-6:\n",
    "    print('--------------------------------------------')\n",
    "    print(f'{parking_current = }')\n",
    "    print('--------------------------------------------')\n",
    "    spi.set_dac_current(dac0, parking_current)\n",
    "    !python reset_redis.py cz_chevron\n",
    "    !python workers/calibration_supervisor.py"
   ]
  },
  {
   "cell_type": "code",
   "execution_count": 6,
   "metadata": {},
   "outputs": [
    {
     "name": "stdout",
     "output_type": "stream",
     "text": [
      "--------------------------------------------\n",
      "parking_current = 0.0003\n",
      "--------------------------------------------\n",
      "ramping 0.0002998352050781264\n",
      "Finished ramping\n",
      " parking_current = 0.0003\n",
      " dac.current() = 0.0002998352050781264\n",
      " remove_node = 'all'\n",
      "clusterA_module13_att:40dB\n",
      "clusterA_module17_att:6dB\n",
      "2024-01-20 15:40:19,836 ◆ calibration_supervisor.py ◆ Starting System Calibration\n",
      "╔════════════════════════════════════════════════════════════════════════════════════════════════╗\n",
      "║ Qubits: 10                                                                                     ║\n",
      "║↪ resonator_spectroscopy                                                                        ║\n",
      "║           ↪ qubit_01_spectroscopy_multidim                                                     ║\n",
      "║                          ↪ rabi_oscillations                                                   ║\n",
      "║                                  ↪ resonator_spectroscopy_1                                    ║\n",
      "║                                              ↪ qubit_12_spectroscopy_multidim                  ║\n",
      "║                                                             ↪ rabi_oscillations_12             ║\n",
      "║                                                                       ↪ cz_chevron             ║\n",
      "╚════════════════════════════════════════════════════════════════════════════════════════════════╝\n",
      "2024-01-20 15:40:19,895 ◆ calibration_supervisor.py ◆ Inspecting node resonator_spectroscopy\n",
      "⚑⚑⚑ \u001b[31m\u001b[1mCalibration required for Node resonator_spectroscopy\u001b[0m\n",
      "2024-01-20 15:40:19,897 ◆ calibration_supervisor.py ◆ Calibrating node resonator_spectroscopy\n",
      " kwargs = {'couplers': ['q21_q22']}\n",
      "2024-01-20 15:40:20,192 ◆ compilation_worker.py ◆ Starting Compiling\n",
      "2024-01-20 15:40:20,396 ◆ measurement_utils.py ◆ Starting measurement\n",
      " schedule_duration = 5.3257912320000145\n",
      "multiplexed_resonator_spectroscopy: 100%|\u001b[34m███████\u001b[0m| 26/26 [00:05<00:00,  4.99it/s]\u001b[0m\n",
      "2024-01-20 15:40:29,153 ◆ measurement_utils.py ◆ Raw dataset acquired\n",
      "2024-01-20 15:40:29,179 ◆ execution_worker.py ◆ Finished measurement\n",
      "2024-01-20 15:40:29,179 ◆ calibration_supervisor.py ◆ measurement completed\n",
      "2024-01-20 15:40:37,182 ◆ calibration_supervisor.py ◆ analysis completed\n",
      "2024-01-20 15:40:37,182 ◆ calibration_supervisor.py ◆ resonator_spectroscopy node is completed\n",
      "2024-01-20 15:40:37,182 ◆ calibration_supervisor.py ◆ Inspecting node qubit_01_spectroscopy_multidim\n",
      "⚑⚑⚑ \u001b[31m\u001b[1mCalibration required for Node qubit_01_spectroscopy_multidim\u001b[0m\n",
      "2024-01-20 15:40:37,185 ◆ calibration_supervisor.py ◆ Calibrating node qubit_01_spectroscopy_multidim\n",
      " kwargs = {'couplers': ['q21_q22']}\n",
      "2024-01-20 15:40:37,514 ◆ compilation_worker.py ◆ Starting Compiling\n",
      "2024-01-20 15:40:38,100 ◆ measurement_utils.py ◆ Starting measurement\n",
      " schedule_duration = 19.51306547199993\n",
      "multiplexed_qubit_spec: 100%|\u001b[34m███████████████████\u001b[0m| 97/97 [00:19<00:00,  4.99it/s]\u001b[0m\n",
      "2024-01-20 15:41:00,314 ◆ measurement_utils.py ◆ Raw dataset acquired\n",
      "2024-01-20 15:41:00,340 ◆ execution_worker.py ◆ Finished measurement\n",
      "2024-01-20 15:41:00,340 ◆ calibration_supervisor.py ◆ measurement completed\n",
      "2024-01-20 15:41:08,125 ◆ calibration_supervisor.py ◆ analysis completed\n",
      "2024-01-20 15:41:08,126 ◆ calibration_supervisor.py ◆ qubit_01_spectroscopy_multidim node is completed\n",
      "2024-01-20 15:41:08,126 ◆ calibration_supervisor.py ◆ Inspecting node rabi_oscillations\n",
      "⚑⚑⚑ \u001b[31m\u001b[1mCalibration required for Node rabi_oscillations\u001b[0m\n",
      "2024-01-20 15:41:08,127 ◆ calibration_supervisor.py ◆ Calibrating node rabi_oscillations\n",
      " kwargs = {'couplers': ['q21_q22']}\n",
      "2024-01-20 15:41:08,277 ◆ compilation_worker.py ◆ Starting Compiling\n",
      "2024-01-20 15:41:08,521 ◆ measurement_utils.py ◆ Starting measurement\n",
      " schedule_duration = 30.120366079999997\n",
      "multiplexed_rabi_01: 100%|\u001b[34m████████████████████\u001b[0m| 150/150 [00:30<00:00,  4.99it/s]\u001b[0m\n",
      "2024-01-20 15:41:40,520 ◆ measurement_utils.py ◆ Raw dataset acquired\n",
      "2024-01-20 15:41:40,538 ◆ execution_worker.py ◆ Finished measurement\n",
      "2024-01-20 15:41:40,538 ◆ calibration_supervisor.py ◆ measurement completed\n",
      "2024-01-20 15:41:48,521 ◆ calibration_supervisor.py ◆ analysis completed\n",
      "2024-01-20 15:41:48,521 ◆ calibration_supervisor.py ◆ rabi_oscillations node is completed\n",
      "2024-01-20 15:41:48,522 ◆ calibration_supervisor.py ◆ Inspecting node resonator_spectroscopy_1\n",
      "⚑⚑⚑ \u001b[31m\u001b[1mCalibration required for Node resonator_spectroscopy_1\u001b[0m\n",
      "2024-01-20 15:41:48,524 ◆ calibration_supervisor.py ◆ Calibrating node resonator_spectroscopy_1\n",
      " kwargs = {'couplers': ['q21_q22']}\n",
      "2024-01-20 15:41:48,735 ◆ compilation_worker.py ◆ Starting Compiling\n",
      "2024-01-20 15:41:49,177 ◆ measurement_utils.py ◆ Starting measurement\n",
      " schedule_duration = 20.626010111999985\n",
      "multiplexed_resonator_spectroscopy: 100%|\u001b[34m█████\u001b[0m| 103/103 [00:20<00:00,  4.99it/s]\u001b[0m\n",
      "2024-01-20 15:42:11,773 ◆ measurement_utils.py ◆ Raw dataset acquired\n",
      "2024-01-20 15:42:11,791 ◆ execution_worker.py ◆ Finished measurement\n",
      "2024-01-20 15:42:11,791 ◆ calibration_supervisor.py ◆ measurement completed\n",
      "2024-01-20 15:42:19,780 ◆ calibration_supervisor.py ◆ analysis completed\n",
      "2024-01-20 15:42:19,780 ◆ calibration_supervisor.py ◆ resonator_spectroscopy_1 node is completed\n",
      "2024-01-20 15:42:19,780 ◆ calibration_supervisor.py ◆ Inspecting node qubit_12_spectroscopy_multidim\n",
      "⚑⚑⚑ \u001b[31m\u001b[1mCalibration required for Node qubit_12_spectroscopy_multidim\u001b[0m\n",
      "2024-01-20 15:42:19,781 ◆ calibration_supervisor.py ◆ Calibrating node qubit_12_spectroscopy_multidim\n",
      " kwargs = {'couplers': ['q21_q22']}\n",
      "2024-01-20 15:42:19,996 ◆ compilation_worker.py ◆ Starting Compiling\n",
      "2024-01-20 15:42:21,004 ◆ measurement_utils.py ◆ Starting measurement\n",
      " schedule_duration = 38.84088115200009\n",
      "multiplexed_qubit_spec: 100%|\u001b[34m█████████████████\u001b[0m| 194/194 [00:38<00:00,  4.99it/s]\u001b[0m\n",
      "2024-01-20 15:43:03,087 ◆ measurement_utils.py ◆ Raw dataset acquired\n",
      "2024-01-20 15:43:03,113 ◆ execution_worker.py ◆ Finished measurement\n",
      "2024-01-20 15:43:03,113 ◆ calibration_supervisor.py ◆ measurement completed\n",
      "2024-01-20 15:43:10,555 ◆ calibration_supervisor.py ◆ analysis completed\n",
      "2024-01-20 15:43:10,556 ◆ calibration_supervisor.py ◆ qubit_12_spectroscopy_multidim node is completed\n",
      "2024-01-20 15:43:10,556 ◆ calibration_supervisor.py ◆ Inspecting node rabi_oscillations_12\n",
      "⚑⚑⚑ \u001b[31m\u001b[1mCalibration required for Node rabi_oscillations_12\u001b[0m\n",
      "2024-01-20 15:43:10,557 ◆ calibration_supervisor.py ◆ Calibrating node rabi_oscillations_12\n",
      " kwargs = {'couplers': ['q21_q22']}\n",
      "2024-01-20 15:43:10,699 ◆ compilation_worker.py ◆ Starting Compiling\n",
      "2024-01-20 15:43:11,033 ◆ measurement_utils.py ◆ Starting measurement\n",
      " schedule_duration = 13.613301759999985\n",
      "multiplexed_rabi_12: 100%|\u001b[34m██████████████████████\u001b[0m| 68/68 [00:13<00:00,  4.99it/s]\u001b[0m\n",
      "2024-01-20 15:43:26,698 ◆ measurement_utils.py ◆ Raw dataset acquired\n",
      "2024-01-20 15:43:26,715 ◆ execution_worker.py ◆ Finished measurement\n",
      "2024-01-20 15:43:26,715 ◆ calibration_supervisor.py ◆ measurement completed\n",
      "2024-01-20 15:43:34,551 ◆ calibration_supervisor.py ◆ analysis completed\n",
      "2024-01-20 15:43:34,551 ◆ calibration_supervisor.py ◆ rabi_oscillations_12 node is completed\n",
      "2024-01-20 15:43:34,551 ◆ calibration_supervisor.py ◆ Inspecting node cz_chevron\n",
      "⚑⚑⚑ \u001b[31m\u001b[1mCalibration required for Node cz_chevron\u001b[0m\n",
      "2024-01-20 15:43:34,551 ◆ calibration_supervisor.py ◆ Calibrating node cz_chevron\n",
      " kwargs = {'couplers': ['q21_q22']}\n",
      " ac_freq/1e6 = 216.866666666667 MHz\n",
      " self.coupled_qubits = ['q21', 'q22']\n",
      "cz_pulse_amplitude = {'q21_q22': 0.3}\n",
      "2024-01-20 15:43:34,747 ◆ compilation_worker.py ◆ Starting Compiling\n",
      "2024-01-20 15:43:35,363 ◆ measurement_utils.py ◆ Starting measurement\n",
      " schedule_duration = 181.77131315199927\n",
      "CZ_chevron: 100%|\u001b[34m█████████████████████████████\u001b[0m| 908/908 [03:02<00:00,  4.99it/s]\u001b[0m\n",
      "2024-01-20 15:46:38,877 ◆ measurement_utils.py ◆ Raw dataset acquired\n",
      "2024-01-20 15:46:38,884 ◆ execution_worker.py ◆ Finished measurement\n",
      "2024-01-20 15:46:38,885 ◆ calibration_supervisor.py ◆ measurement completed\n",
      "No enough available points. Please resweep once again or enlarge sweep range.\n",
      "No enough available points. Please resweep once again or enlarge sweep range.\n",
      "2024-01-20 15:46:44,706 ◆ calibration_supervisor.py ◆ analysis completed\n",
      "2024-01-20 15:46:44,707 ◆ calibration_supervisor.py ◆ cz_chevron node is completed\n",
      "\u001b[0m--------------------------------------------\n",
      "parking_current = 0.00035\n",
      "--------------------------------------------\n",
      "ramping 0.0002998352050781264\n",
      "ramping 0.0003177642822265632\n",
      "ramping 0.00033779144287109444\n",
      "Finished ramping\n",
      " parking_current = 0.00035\n",
      " dac.current() = 0.00034999847412109375\n",
      " remove_node = 'all'\n",
      "clusterA_module13_att:40dB\n",
      "clusterA_module17_att:6dB\n",
      "2024-01-20 15:46:52,526 ◆ calibration_supervisor.py ◆ Starting System Calibration\n",
      "╔════════════════════════════════════════════════════════════════════════════════════════════════╗\n",
      "║ Qubits: 10                                                                                     ║\n",
      "║↪ resonator_spectroscopy                                                                        ║\n",
      "║           ↪ qubit_01_spectroscopy_multidim                                                     ║\n",
      "║                          ↪ rabi_oscillations                                                   ║\n",
      "║                                  ↪ resonator_spectroscopy_1                                    ║\n",
      "║                                              ↪ qubit_12_spectroscopy_multidim                  ║\n",
      "║                                                             ↪ rabi_oscillations_12             ║\n",
      "║                                                                       ↪ cz_chevron             ║\n",
      "╚════════════════════════════════════════════════════════════════════════════════════════════════╝\n",
      "2024-01-20 15:46:52,585 ◆ calibration_supervisor.py ◆ Inspecting node resonator_spectroscopy\n",
      "⚑⚑⚑ \u001b[31m\u001b[1mCalibration required for Node resonator_spectroscopy\u001b[0m\n",
      "2024-01-20 15:46:52,587 ◆ calibration_supervisor.py ◆ Calibrating node resonator_spectroscopy\n",
      " kwargs = {'couplers': ['q21_q22']}\n",
      "2024-01-20 15:46:52,881 ◆ compilation_worker.py ◆ Starting Compiling\n",
      "2024-01-20 15:46:53,083 ◆ measurement_utils.py ◆ Starting measurement\n",
      " schedule_duration = 5.3257912320000145\n",
      "multiplexed_resonator_spectroscopy: 100%|\u001b[34m███████\u001b[0m| 26/26 [00:05<00:00,  4.99it/s]\u001b[0m\n",
      "2024-01-20 15:47:01,885 ◆ measurement_utils.py ◆ Raw dataset acquired\n",
      "2024-01-20 15:47:01,911 ◆ execution_worker.py ◆ Finished measurement\n",
      "2024-01-20 15:47:01,911 ◆ calibration_supervisor.py ◆ measurement completed\n",
      "2024-01-20 15:47:09,868 ◆ calibration_supervisor.py ◆ analysis completed\n",
      "2024-01-20 15:47:09,868 ◆ calibration_supervisor.py ◆ resonator_spectroscopy node is completed\n",
      "2024-01-20 15:47:09,868 ◆ calibration_supervisor.py ◆ Inspecting node qubit_01_spectroscopy_multidim\n",
      "⚑⚑⚑ \u001b[31m\u001b[1mCalibration required for Node qubit_01_spectroscopy_multidim\u001b[0m\n",
      "2024-01-20 15:47:09,872 ◆ calibration_supervisor.py ◆ Calibrating node qubit_01_spectroscopy_multidim\n",
      " kwargs = {'couplers': ['q21_q22']}\n",
      "2024-01-20 15:47:10,188 ◆ compilation_worker.py ◆ Starting Compiling\n",
      "2024-01-20 15:47:10,783 ◆ measurement_utils.py ◆ Starting measurement\n",
      " schedule_duration = 19.51306547199993\n",
      "multiplexed_qubit_spec: 100%|\u001b[34m███████████████████\u001b[0m| 97/97 [00:19<00:00,  4.99it/s]\u001b[0m\n",
      "2024-01-20 15:47:32,991 ◆ measurement_utils.py ◆ Raw dataset acquired\n",
      "2024-01-20 15:47:33,017 ◆ execution_worker.py ◆ Finished measurement\n",
      "2024-01-20 15:47:33,017 ◆ calibration_supervisor.py ◆ measurement completed\n",
      "2024-01-20 15:47:41,216 ◆ calibration_supervisor.py ◆ analysis completed\n",
      "2024-01-20 15:47:41,216 ◆ calibration_supervisor.py ◆ qubit_01_spectroscopy_multidim node is completed\n",
      "2024-01-20 15:47:41,216 ◆ calibration_supervisor.py ◆ Inspecting node rabi_oscillations\n",
      "⚑⚑⚑ \u001b[31m\u001b[1mCalibration required for Node rabi_oscillations\u001b[0m\n",
      "2024-01-20 15:47:41,218 ◆ calibration_supervisor.py ◆ Calibrating node rabi_oscillations\n",
      " kwargs = {'couplers': ['q21_q22']}\n",
      "2024-01-20 15:47:41,362 ◆ compilation_worker.py ◆ Starting Compiling\n",
      "2024-01-20 15:47:41,608 ◆ measurement_utils.py ◆ Starting measurement\n",
      " schedule_duration = 30.120366079999997\n",
      "multiplexed_rabi_01: 100%|\u001b[34m████████████████████\u001b[0m| 150/150 [00:30<00:00,  4.99it/s]\u001b[0m\n",
      "2024-01-20 15:48:13,611 ◆ measurement_utils.py ◆ Raw dataset acquired\n",
      "2024-01-20 15:48:13,629 ◆ execution_worker.py ◆ Finished measurement\n",
      "2024-01-20 15:48:13,629 ◆ calibration_supervisor.py ◆ measurement completed\n",
      "2024-01-20 15:48:21,601 ◆ calibration_supervisor.py ◆ analysis completed\n",
      "2024-01-20 15:48:21,602 ◆ calibration_supervisor.py ◆ rabi_oscillations node is completed\n",
      "2024-01-20 15:48:21,602 ◆ calibration_supervisor.py ◆ Inspecting node resonator_spectroscopy_1\n",
      "⚑⚑⚑ \u001b[31m\u001b[1mCalibration required for Node resonator_spectroscopy_1\u001b[0m\n",
      "2024-01-20 15:48:21,604 ◆ calibration_supervisor.py ◆ Calibrating node resonator_spectroscopy_1\n",
      " kwargs = {'couplers': ['q21_q22']}\n",
      "2024-01-20 15:48:21,809 ◆ compilation_worker.py ◆ Starting Compiling\n",
      "2024-01-20 15:48:22,251 ◆ measurement_utils.py ◆ Starting measurement\n",
      " schedule_duration = 20.626010111999985\n",
      "multiplexed_resonator_spectroscopy: 100%|\u001b[34m█████\u001b[0m| 103/103 [00:20<00:00,  4.99it/s]\u001b[0m\n",
      "2024-01-20 15:48:44,846 ◆ measurement_utils.py ◆ Raw dataset acquired\n",
      "2024-01-20 15:48:44,863 ◆ execution_worker.py ◆ Finished measurement\n",
      "2024-01-20 15:48:44,863 ◆ calibration_supervisor.py ◆ measurement completed\n",
      "2024-01-20 15:48:52,858 ◆ calibration_supervisor.py ◆ analysis completed\n",
      "2024-01-20 15:48:52,859 ◆ calibration_supervisor.py ◆ resonator_spectroscopy_1 node is completed\n",
      "2024-01-20 15:48:52,859 ◆ calibration_supervisor.py ◆ Inspecting node qubit_12_spectroscopy_multidim\n",
      "⚑⚑⚑ \u001b[31m\u001b[1mCalibration required for Node qubit_12_spectroscopy_multidim\u001b[0m\n",
      "2024-01-20 15:48:52,860 ◆ calibration_supervisor.py ◆ Calibrating node qubit_12_spectroscopy_multidim\n",
      " kwargs = {'couplers': ['q21_q22']}\n",
      "2024-01-20 15:48:53,068 ◆ compilation_worker.py ◆ Starting Compiling\n",
      "2024-01-20 15:48:54,101 ◆ measurement_utils.py ◆ Starting measurement\n",
      " schedule_duration = 38.84088115200009\n",
      "multiplexed_qubit_spec: 100%|\u001b[34m█████████████████\u001b[0m| 194/194 [00:38<00:00,  4.99it/s]\u001b[0m\n",
      "2024-01-20 15:49:36,174 ◆ measurement_utils.py ◆ Raw dataset acquired\n",
      "2024-01-20 15:49:36,201 ◆ execution_worker.py ◆ Finished measurement\n",
      "2024-01-20 15:49:36,201 ◆ calibration_supervisor.py ◆ measurement completed\n",
      "2024-01-20 15:49:43,752 ◆ calibration_supervisor.py ◆ analysis completed\n",
      "2024-01-20 15:49:43,752 ◆ calibration_supervisor.py ◆ qubit_12_spectroscopy_multidim node is completed\n",
      "2024-01-20 15:49:43,752 ◆ calibration_supervisor.py ◆ Inspecting node rabi_oscillations_12\n",
      "⚑⚑⚑ \u001b[31m\u001b[1mCalibration required for Node rabi_oscillations_12\u001b[0m\n",
      "2024-01-20 15:49:43,754 ◆ calibration_supervisor.py ◆ Calibrating node rabi_oscillations_12\n",
      " kwargs = {'couplers': ['q21_q22']}\n",
      "2024-01-20 15:49:43,894 ◆ compilation_worker.py ◆ Starting Compiling\n",
      "2024-01-20 15:49:44,203 ◆ measurement_utils.py ◆ Starting measurement\n",
      " schedule_duration = 13.613301759999985\n",
      "multiplexed_rabi_12: 100%|\u001b[34m██████████████████████\u001b[0m| 68/68 [00:13<00:00,  4.99it/s]\u001b[0m\n",
      "2024-01-20 15:49:59,890 ◆ measurement_utils.py ◆ Raw dataset acquired\n",
      "2024-01-20 15:49:59,906 ◆ execution_worker.py ◆ Finished measurement\n",
      "2024-01-20 15:49:59,906 ◆ calibration_supervisor.py ◆ measurement completed\n",
      "2024-01-20 15:50:06,757 ◆ calibration_supervisor.py ◆ analysis completed\n",
      "2024-01-20 15:50:06,757 ◆ calibration_supervisor.py ◆ rabi_oscillations_12 node is completed\n",
      "2024-01-20 15:50:06,757 ◆ calibration_supervisor.py ◆ Inspecting node cz_chevron\n",
      "⚑⚑⚑ \u001b[31m\u001b[1mCalibration required for Node cz_chevron\u001b[0m\n",
      "2024-01-20 15:50:06,758 ◆ calibration_supervisor.py ◆ Calibrating node cz_chevron\n",
      " kwargs = {'couplers': ['q21_q22']}\n",
      " ac_freq/1e6 = 217.866666666667 MHz\n",
      " self.coupled_qubits = ['q21', 'q22']\n",
      "cz_pulse_amplitude = {'q21_q22': 0.3}\n",
      "2024-01-20 15:50:06,952 ◆ compilation_worker.py ◆ Starting Compiling\n",
      "2024-01-20 15:50:07,579 ◆ measurement_utils.py ◆ Starting measurement\n",
      " schedule_duration = 181.77131315199927\n",
      "CZ_chevron: 100%|\u001b[34m█████████████████████████████\u001b[0m| 908/908 [03:02<00:00,  4.99it/s]\u001b[0m\n",
      "2024-01-20 15:53:10,980 ◆ measurement_utils.py ◆ Raw dataset acquired\n",
      "2024-01-20 15:53:10,987 ◆ execution_worker.py ◆ Finished measurement\n",
      "2024-01-20 15:53:10,987 ◆ calibration_supervisor.py ◆ measurement completed\n",
      "No enough available points. Please resweep once again or enlarge sweep range.\n",
      "No enough available points. Please resweep once again or enlarge sweep range.\n",
      "2024-01-20 15:53:16,784 ◆ calibration_supervisor.py ◆ analysis completed\n",
      "2024-01-20 15:53:16,784 ◆ calibration_supervisor.py ◆ cz_chevron node is completed\n",
      "\u001b[0m--------------------------------------------\n",
      "parking_current = 0.00039999999999999996\n",
      "--------------------------------------------\n",
      "ramping 0.00034999847412109375\n",
      "ramping 0.00036792755126953056\n",
      "ramping 0.0003879547119140618\n",
      "Finished ramping\n",
      " parking_current = 0.00039999999999999996\n",
      " dac.current() = 0.00039997100830078264\n",
      " remove_node = 'all'\n",
      "clusterA_module13_att:40dB\n",
      "clusterA_module17_att:6dB\n",
      "2024-01-20 15:53:24,619 ◆ calibration_supervisor.py ◆ Starting System Calibration\n",
      "╔════════════════════════════════════════════════════════════════════════════════════════════════╗\n",
      "║ Qubits: 10                                                                                     ║\n",
      "║↪ resonator_spectroscopy                                                                        ║\n",
      "║           ↪ qubit_01_spectroscopy_multidim                                                     ║\n",
      "║                          ↪ rabi_oscillations                                                   ║\n",
      "║                                  ↪ resonator_spectroscopy_1                                    ║\n",
      "║                                              ↪ qubit_12_spectroscopy_multidim                  ║\n",
      "║                                                             ↪ rabi_oscillations_12             ║\n",
      "║                                                                       ↪ cz_chevron             ║\n",
      "╚════════════════════════════════════════════════════════════════════════════════════════════════╝\n",
      "2024-01-20 15:53:24,679 ◆ calibration_supervisor.py ◆ Inspecting node resonator_spectroscopy\n",
      "⚑⚑⚑ \u001b[31m\u001b[1mCalibration required for Node resonator_spectroscopy\u001b[0m\n",
      "2024-01-20 15:53:24,680 ◆ calibration_supervisor.py ◆ Calibrating node resonator_spectroscopy\n",
      " kwargs = {'couplers': ['q21_q22']}\n",
      "2024-01-20 15:53:24,976 ◆ compilation_worker.py ◆ Starting Compiling\n",
      "2024-01-20 15:53:25,199 ◆ measurement_utils.py ◆ Starting measurement\n",
      " schedule_duration = 5.3257912320000145\n",
      "multiplexed_resonator_spectroscopy: 100%|\u001b[34m███████\u001b[0m| 26/26 [00:05<00:00,  4.99it/s]\u001b[0m\n",
      "2024-01-20 15:53:33,990 ◆ measurement_utils.py ◆ Raw dataset acquired\n",
      "2024-01-20 15:53:34,017 ◆ execution_worker.py ◆ Finished measurement\n",
      "2024-01-20 15:53:34,017 ◆ calibration_supervisor.py ◆ measurement completed\n",
      "2024-01-20 15:53:41,965 ◆ calibration_supervisor.py ◆ analysis completed\n",
      "2024-01-20 15:53:41,965 ◆ calibration_supervisor.py ◆ resonator_spectroscopy node is completed\n",
      "2024-01-20 15:53:41,965 ◆ calibration_supervisor.py ◆ Inspecting node qubit_01_spectroscopy_multidim\n",
      "⚑⚑⚑ \u001b[31m\u001b[1mCalibration required for Node qubit_01_spectroscopy_multidim\u001b[0m\n",
      "2024-01-20 15:53:41,968 ◆ calibration_supervisor.py ◆ Calibrating node qubit_01_spectroscopy_multidim\n",
      " kwargs = {'couplers': ['q21_q22']}\n",
      "2024-01-20 15:53:42,295 ◆ compilation_worker.py ◆ Starting Compiling\n",
      "2024-01-20 15:53:42,851 ◆ measurement_utils.py ◆ Starting measurement\n",
      " schedule_duration = 19.51306547199993\n",
      "multiplexed_qubit_spec: 100%|\u001b[34m███████████████████\u001b[0m| 97/97 [00:19<00:00,  4.99it/s]\u001b[0m\n",
      "2024-01-20 15:54:05,092 ◆ measurement_utils.py ◆ Raw dataset acquired\n",
      "2024-01-20 15:54:05,118 ◆ execution_worker.py ◆ Finished measurement\n",
      "2024-01-20 15:54:05,118 ◆ calibration_supervisor.py ◆ measurement completed\n",
      "2024-01-20 15:54:13,089 ◆ calibration_supervisor.py ◆ analysis completed\n",
      "2024-01-20 15:54:13,089 ◆ calibration_supervisor.py ◆ qubit_01_spectroscopy_multidim node is completed\n",
      "2024-01-20 15:54:13,089 ◆ calibration_supervisor.py ◆ Inspecting node rabi_oscillations\n",
      "⚑⚑⚑ \u001b[31m\u001b[1mCalibration required for Node rabi_oscillations\u001b[0m\n",
      "2024-01-20 15:54:13,090 ◆ calibration_supervisor.py ◆ Calibrating node rabi_oscillations\n",
      " kwargs = {'couplers': ['q21_q22']}\n",
      "2024-01-20 15:54:13,240 ◆ compilation_worker.py ◆ Starting Compiling\n",
      "2024-01-20 15:54:13,478 ◆ measurement_utils.py ◆ Starting measurement\n",
      " schedule_duration = 30.120366079999997\n",
      "multiplexed_rabi_01: 100%|\u001b[34m████████████████████\u001b[0m| 150/150 [00:30<00:00,  4.99it/s]\u001b[0m\n",
      "2024-01-20 15:54:45,488 ◆ measurement_utils.py ◆ Raw dataset acquired\n",
      "2024-01-20 15:54:45,506 ◆ execution_worker.py ◆ Finished measurement\n",
      "2024-01-20 15:54:45,506 ◆ calibration_supervisor.py ◆ measurement completed\n",
      "2024-01-20 15:54:53,495 ◆ calibration_supervisor.py ◆ analysis completed\n",
      "2024-01-20 15:54:53,495 ◆ calibration_supervisor.py ◆ rabi_oscillations node is completed\n",
      "2024-01-20 15:54:53,495 ◆ calibration_supervisor.py ◆ Inspecting node resonator_spectroscopy_1\n",
      "⚑⚑⚑ \u001b[31m\u001b[1mCalibration required for Node resonator_spectroscopy_1\u001b[0m\n",
      "2024-01-20 15:54:53,498 ◆ calibration_supervisor.py ◆ Calibrating node resonator_spectroscopy_1\n",
      " kwargs = {'couplers': ['q21_q22']}\n",
      "2024-01-20 15:54:53,707 ◆ compilation_worker.py ◆ Starting Compiling\n",
      "2024-01-20 15:54:54,146 ◆ measurement_utils.py ◆ Starting measurement\n",
      " schedule_duration = 20.626010111999985\n",
      "multiplexed_resonator_spectroscopy: 100%|\u001b[34m█████\u001b[0m| 103/103 [00:20<00:00,  4.99it/s]\u001b[0m\n",
      "2024-01-20 15:55:16,770 ◆ measurement_utils.py ◆ Raw dataset acquired\n",
      "2024-01-20 15:55:16,787 ◆ execution_worker.py ◆ Finished measurement\n",
      "2024-01-20 15:55:16,787 ◆ calibration_supervisor.py ◆ measurement completed\n",
      "2024-01-20 15:55:24,785 ◆ calibration_supervisor.py ◆ analysis completed\n",
      "2024-01-20 15:55:24,785 ◆ calibration_supervisor.py ◆ resonator_spectroscopy_1 node is completed\n",
      "2024-01-20 15:55:24,785 ◆ calibration_supervisor.py ◆ Inspecting node qubit_12_spectroscopy_multidim\n",
      "⚑⚑⚑ \u001b[31m\u001b[1mCalibration required for Node qubit_12_spectroscopy_multidim\u001b[0m\n",
      "2024-01-20 15:55:24,786 ◆ calibration_supervisor.py ◆ Calibrating node qubit_12_spectroscopy_multidim\n",
      " kwargs = {'couplers': ['q21_q22']}\n",
      "2024-01-20 15:55:24,995 ◆ compilation_worker.py ◆ Starting Compiling\n",
      "2024-01-20 15:55:25,986 ◆ measurement_utils.py ◆ Starting measurement\n",
      " schedule_duration = 38.84088115200009\n",
      "multiplexed_qubit_spec: 100%|\u001b[34m█████████████████\u001b[0m| 194/194 [00:38<00:00,  4.99it/s]\u001b[0m\n",
      "2024-01-20 15:56:08,040 ◆ measurement_utils.py ◆ Raw dataset acquired\n",
      "2024-01-20 15:56:08,066 ◆ execution_worker.py ◆ Finished measurement\n",
      "2024-01-20 15:56:08,066 ◆ calibration_supervisor.py ◆ measurement completed\n",
      "2024-01-20 15:56:15,735 ◆ calibration_supervisor.py ◆ analysis completed\n",
      "2024-01-20 15:56:15,736 ◆ calibration_supervisor.py ◆ qubit_12_spectroscopy_multidim node is completed\n",
      "2024-01-20 15:56:15,736 ◆ calibration_supervisor.py ◆ Inspecting node rabi_oscillations_12\n",
      "⚑⚑⚑ \u001b[31m\u001b[1mCalibration required for Node rabi_oscillations_12\u001b[0m\n",
      "2024-01-20 15:56:15,737 ◆ calibration_supervisor.py ◆ Calibrating node rabi_oscillations_12\n",
      " kwargs = {'couplers': ['q21_q22']}\n",
      "2024-01-20 15:56:16,034 ◆ compilation_worker.py ◆ Starting Compiling\n",
      "2024-01-20 15:56:16,172 ◆ measurement_utils.py ◆ Starting measurement\n",
      " schedule_duration = 13.613301759999985\n",
      "multiplexed_rabi_12: 100%|\u001b[34m██████████████████████\u001b[0m| 68/68 [00:13<00:00,  4.99it/s]\u001b[0m\n",
      "2024-01-20 15:56:31,827 ◆ measurement_utils.py ◆ Raw dataset acquired\n",
      "2024-01-20 15:56:31,843 ◆ execution_worker.py ◆ Finished measurement\n",
      "2024-01-20 15:56:31,844 ◆ calibration_supervisor.py ◆ measurement completed\n",
      "2024-01-20 15:56:39,630 ◆ calibration_supervisor.py ◆ analysis completed\n",
      "2024-01-20 15:56:39,630 ◆ calibration_supervisor.py ◆ rabi_oscillations_12 node is completed\n",
      "2024-01-20 15:56:39,630 ◆ calibration_supervisor.py ◆ Inspecting node cz_chevron\n",
      "⚑⚑⚑ \u001b[31m\u001b[1mCalibration required for Node cz_chevron\u001b[0m\n",
      "2024-01-20 15:56:39,630 ◆ calibration_supervisor.py ◆ Calibrating node cz_chevron\n",
      " kwargs = {'couplers': ['q21_q22']}\n",
      " ac_freq/1e6 = 216.2 MHz\n",
      " self.coupled_qubits = ['q21', 'q22']\n",
      "cz_pulse_amplitude = {'q21_q22': 0.3}\n",
      "2024-01-20 15:56:39,827 ◆ compilation_worker.py ◆ Starting Compiling\n",
      "2024-01-20 15:56:40,431 ◆ measurement_utils.py ◆ Starting measurement\n",
      " schedule_duration = 181.77131315199927\n",
      "CZ_chevron: 100%|\u001b[34m█████████████████████████████\u001b[0m| 908/908 [03:02<00:00,  4.99it/s]\u001b[0m\n",
      "2024-01-20 15:59:43,836 ◆ measurement_utils.py ◆ Raw dataset acquired\n",
      "2024-01-20 15:59:43,843 ◆ execution_worker.py ◆ Finished measurement\n",
      "2024-01-20 15:59:43,843 ◆ calibration_supervisor.py ◆ measurement completed\n",
      "No enough available points. Please resweep once again or enlarge sweep range.\n",
      "/home/loke-c/anaconda3/envs/tac/lib/python3.9/site-packages/scipy/optimize/_minpack_py.py:494: RuntimeWarning: Number of calls to function has reached maxfev = 1000.\n",
      "  warnings.warn(errors[info][0], RuntimeWarning)\n",
      "You should probably enlarge your sweep range. The optimial point is not in the current range.\n",
      "2024-01-20 15:59:49,623 ◆ calibration_supervisor.py ◆ analysis completed\n",
      "2024-01-20 15:59:49,624 ◆ calibration_supervisor.py ◆ cz_chevron node is completed\n",
      "\u001b[0m--------------------------------------------\n",
      "parking_current = 0.00045\n",
      "--------------------------------------------\n",
      "ramping 0.00039997100830078264\n",
      "ramping 0.00041790008544921944\n",
      "ramping 0.0004379272460937507\n",
      "Finished ramping\n",
      " parking_current = 0.00045\n",
      " dac.current() = 0.00044994354248046806\n",
      " remove_node = 'all'\n",
      "clusterA_module13_att:40dB\n",
      "clusterA_module17_att:6dB\n",
      "2024-01-20 15:59:57,414 ◆ calibration_supervisor.py ◆ Starting System Calibration\n",
      "╔════════════════════════════════════════════════════════════════════════════════════════════════╗\n",
      "║ Qubits: 10                                                                                     ║\n",
      "║↪ resonator_spectroscopy                                                                        ║\n",
      "║           ↪ qubit_01_spectroscopy_multidim                                                     ║\n",
      "║                          ↪ rabi_oscillations                                                   ║\n",
      "║                                  ↪ resonator_spectroscopy_1                                    ║\n",
      "║                                              ↪ qubit_12_spectroscopy_multidim                  ║\n",
      "║                                                             ↪ rabi_oscillations_12             ║\n",
      "║                                                                       ↪ cz_chevron             ║\n",
      "╚════════════════════════════════════════════════════════════════════════════════════════════════╝\n",
      "2024-01-20 15:59:57,471 ◆ calibration_supervisor.py ◆ Inspecting node resonator_spectroscopy\n",
      "⚑⚑⚑ \u001b[31m\u001b[1mCalibration required for Node resonator_spectroscopy\u001b[0m\n",
      "2024-01-20 15:59:57,473 ◆ calibration_supervisor.py ◆ Calibrating node resonator_spectroscopy\n",
      " kwargs = {'couplers': ['q21_q22']}\n",
      "2024-01-20 15:59:57,767 ◆ compilation_worker.py ◆ Starting Compiling\n",
      "2024-01-20 15:59:57,973 ◆ measurement_utils.py ◆ Starting measurement\n",
      " schedule_duration = 5.3257912320000145\n",
      "multiplexed_resonator_spectroscopy: 100%|\u001b[34m███████\u001b[0m| 26/26 [00:05<00:00,  4.99it/s]\u001b[0m\n",
      "2024-01-20 16:00:06,763 ◆ measurement_utils.py ◆ Raw dataset acquired\n",
      "2024-01-20 16:00:06,788 ◆ execution_worker.py ◆ Finished measurement\n",
      "2024-01-20 16:00:06,788 ◆ calibration_supervisor.py ◆ measurement completed\n",
      "2024-01-20 16:00:14,748 ◆ calibration_supervisor.py ◆ analysis completed\n",
      "2024-01-20 16:00:14,748 ◆ calibration_supervisor.py ◆ resonator_spectroscopy node is completed\n",
      "2024-01-20 16:00:14,748 ◆ calibration_supervisor.py ◆ Inspecting node qubit_01_spectroscopy_multidim\n",
      "⚑⚑⚑ \u001b[31m\u001b[1mCalibration required for Node qubit_01_spectroscopy_multidim\u001b[0m\n",
      "2024-01-20 16:00:14,752 ◆ calibration_supervisor.py ◆ Calibrating node qubit_01_spectroscopy_multidim\n",
      " kwargs = {'couplers': ['q21_q22']}\n",
      "2024-01-20 16:00:15,070 ◆ compilation_worker.py ◆ Starting Compiling\n",
      "2024-01-20 16:00:15,627 ◆ measurement_utils.py ◆ Starting measurement\n",
      " schedule_duration = 19.51306547199993\n",
      "multiplexed_qubit_spec: 100%|\u001b[34m███████████████████\u001b[0m| 97/97 [00:19<00:00,  4.99it/s]\u001b[0m\n",
      "2024-01-20 16:00:37,835 ◆ measurement_utils.py ◆ Raw dataset acquired\n",
      "2024-01-20 16:00:37,861 ◆ execution_worker.py ◆ Finished measurement\n",
      "2024-01-20 16:00:37,861 ◆ calibration_supervisor.py ◆ measurement completed\n",
      "2024-01-20 16:00:45,671 ◆ calibration_supervisor.py ◆ analysis completed\n",
      "2024-01-20 16:00:45,671 ◆ calibration_supervisor.py ◆ qubit_01_spectroscopy_multidim node is completed\n",
      "2024-01-20 16:00:45,671 ◆ calibration_supervisor.py ◆ Inspecting node rabi_oscillations\n",
      "⚑⚑⚑ \u001b[31m\u001b[1mCalibration required for Node rabi_oscillations\u001b[0m\n",
      "2024-01-20 16:00:45,673 ◆ calibration_supervisor.py ◆ Calibrating node rabi_oscillations\n",
      " kwargs = {'couplers': ['q21_q22']}\n",
      "2024-01-20 16:00:45,820 ◆ compilation_worker.py ◆ Starting Compiling\n",
      "2024-01-20 16:00:46,063 ◆ measurement_utils.py ◆ Starting measurement\n",
      " schedule_duration = 30.120366079999997\n",
      "multiplexed_rabi_01: 100%|\u001b[34m████████████████████\u001b[0m| 150/150 [00:30<00:00,  4.99it/s]\u001b[0m\n",
      "2024-01-20 16:01:18,085 ◆ measurement_utils.py ◆ Raw dataset acquired\n",
      "2024-01-20 16:01:18,102 ◆ execution_worker.py ◆ Finished measurement\n",
      "2024-01-20 16:01:18,102 ◆ calibration_supervisor.py ◆ measurement completed\n",
      "2024-01-20 16:01:26,078 ◆ calibration_supervisor.py ◆ analysis completed\n",
      "2024-01-20 16:01:26,078 ◆ calibration_supervisor.py ◆ rabi_oscillations node is completed\n",
      "2024-01-20 16:01:26,078 ◆ calibration_supervisor.py ◆ Inspecting node resonator_spectroscopy_1\n",
      "⚑⚑⚑ \u001b[31m\u001b[1mCalibration required for Node resonator_spectroscopy_1\u001b[0m\n",
      "2024-01-20 16:01:26,081 ◆ calibration_supervisor.py ◆ Calibrating node resonator_spectroscopy_1\n",
      " kwargs = {'couplers': ['q21_q22']}\n",
      "2024-01-20 16:01:26,293 ◆ compilation_worker.py ◆ Starting Compiling\n",
      "2024-01-20 16:01:26,733 ◆ measurement_utils.py ◆ Starting measurement\n",
      " schedule_duration = 20.626010111999985\n",
      "multiplexed_resonator_spectroscopy: 100%|\u001b[34m█████\u001b[0m| 103/103 [00:20<00:00,  4.99it/s]\u001b[0m\n",
      "2024-01-20 16:01:49,340 ◆ measurement_utils.py ◆ Raw dataset acquired\n",
      "2024-01-20 16:01:49,358 ◆ execution_worker.py ◆ Finished measurement\n",
      "2024-01-20 16:01:49,358 ◆ calibration_supervisor.py ◆ measurement completed\n",
      "2024-01-20 16:01:57,384 ◆ calibration_supervisor.py ◆ analysis completed\n",
      "2024-01-20 16:01:57,384 ◆ calibration_supervisor.py ◆ resonator_spectroscopy_1 node is completed\n",
      "2024-01-20 16:01:57,384 ◆ calibration_supervisor.py ◆ Inspecting node qubit_12_spectroscopy_multidim\n",
      "⚑⚑⚑ \u001b[31m\u001b[1mCalibration required for Node qubit_12_spectroscopy_multidim\u001b[0m\n",
      "2024-01-20 16:01:57,386 ◆ calibration_supervisor.py ◆ Calibrating node qubit_12_spectroscopy_multidim\n",
      " kwargs = {'couplers': ['q21_q22']}\n",
      "2024-01-20 16:01:57,594 ◆ compilation_worker.py ◆ Starting Compiling\n",
      "2024-01-20 16:01:58,593 ◆ measurement_utils.py ◆ Starting measurement\n",
      " schedule_duration = 38.84088115200009\n",
      "multiplexed_qubit_spec: 100%|\u001b[34m█████████████████\u001b[0m| 194/194 [00:38<00:00,  4.99it/s]\u001b[0m\n",
      "2024-01-20 16:02:40,677 ◆ measurement_utils.py ◆ Raw dataset acquired\n",
      "2024-01-20 16:02:40,703 ◆ execution_worker.py ◆ Finished measurement\n",
      "2024-01-20 16:02:40,703 ◆ calibration_supervisor.py ◆ measurement completed\n",
      "2024-01-20 16:02:48,451 ◆ calibration_supervisor.py ◆ analysis completed\n",
      "2024-01-20 16:02:48,451 ◆ calibration_supervisor.py ◆ qubit_12_spectroscopy_multidim node is completed\n",
      "2024-01-20 16:02:48,451 ◆ calibration_supervisor.py ◆ Inspecting node rabi_oscillations_12\n",
      "⚑⚑⚑ \u001b[31m\u001b[1mCalibration required for Node rabi_oscillations_12\u001b[0m\n",
      "2024-01-20 16:02:48,453 ◆ calibration_supervisor.py ◆ Calibrating node rabi_oscillations_12\n",
      " kwargs = {'couplers': ['q21_q22']}\n",
      "2024-01-20 16:02:48,747 ◆ compilation_worker.py ◆ Starting Compiling\n",
      "2024-01-20 16:02:48,886 ◆ measurement_utils.py ◆ Starting measurement\n",
      " schedule_duration = 13.613301759999985\n",
      "multiplexed_rabi_12: 100%|\u001b[34m██████████████████████\u001b[0m| 68/68 [00:13<00:00,  4.99it/s]\u001b[0m\n",
      "2024-01-20 16:03:04,595 ◆ measurement_utils.py ◆ Raw dataset acquired\n",
      "2024-01-20 16:03:04,613 ◆ execution_worker.py ◆ Finished measurement\n",
      "2024-01-20 16:03:04,613 ◆ calibration_supervisor.py ◆ measurement completed\n",
      "2024-01-20 16:03:12,405 ◆ calibration_supervisor.py ◆ analysis completed\n",
      "2024-01-20 16:03:12,405 ◆ calibration_supervisor.py ◆ rabi_oscillations_12 node is completed\n",
      "2024-01-20 16:03:12,405 ◆ calibration_supervisor.py ◆ Inspecting node cz_chevron\n",
      "⚑⚑⚑ \u001b[31m\u001b[1mCalibration required for Node cz_chevron\u001b[0m\n",
      "2024-01-20 16:03:12,406 ◆ calibration_supervisor.py ◆ Calibrating node cz_chevron\n",
      " kwargs = {'couplers': ['q21_q22']}\n",
      " ac_freq/1e6 = 207.86666666666602 MHz\n",
      " self.coupled_qubits = ['q21', 'q22']\n",
      "cz_pulse_amplitude = {'q21_q22': 0.3}\n",
      "2024-01-20 16:03:12,752 ◆ compilation_worker.py ◆ Starting Compiling\n",
      "2024-01-20 16:03:13,185 ◆ measurement_utils.py ◆ Starting measurement\n",
      " schedule_duration = 181.77131315199927\n",
      "CZ_chevron: 100%|\u001b[34m█████████████████████████████\u001b[0m| 908/908 [03:02<00:00,  4.99it/s]\u001b[0m\n",
      "2024-01-20 16:06:16,561 ◆ measurement_utils.py ◆ Raw dataset acquired\n",
      "2024-01-20 16:06:16,568 ◆ execution_worker.py ◆ Finished measurement\n",
      "2024-01-20 16:06:16,568 ◆ calibration_supervisor.py ◆ measurement completed\n",
      "No enough available points. Please resweep once again or enlarge sweep range.\n",
      "You should probably enlarge your sweep range. The optimial point is not in the current range.\n",
      "2024-01-20 16:06:22,329 ◆ calibration_supervisor.py ◆ analysis completed\n",
      "2024-01-20 16:06:22,329 ◆ calibration_supervisor.py ◆ cz_chevron node is completed\n",
      "\u001b[0m--------------------------------------------\n",
      "parking_current = 0.0005\n",
      "--------------------------------------------\n",
      "ramping 0.00044994354248046806\n",
      "ramping 0.00046787261962890486\n",
      "ramping 0.0004878997802734361\n",
      "Finished ramping\n",
      " parking_current = 0.0005\n",
      " dac.current() = 0.0004999160766601569\n",
      " remove_node = 'all'\n",
      "clusterA_module13_att:40dB\n",
      "clusterA_module17_att:6dB\n",
      "2024-01-20 16:06:30,044 ◆ calibration_supervisor.py ◆ Starting System Calibration\n",
      "╔════════════════════════════════════════════════════════════════════════════════════════════════╗\n",
      "║ Qubits: 10                                                                                     ║\n",
      "║↪ resonator_spectroscopy                                                                        ║\n",
      "║           ↪ qubit_01_spectroscopy_multidim                                                     ║\n",
      "║                          ↪ rabi_oscillations                                                   ║\n",
      "║                                  ↪ resonator_spectroscopy_1                                    ║\n",
      "║                                              ↪ qubit_12_spectroscopy_multidim                  ║\n",
      "║                                                             ↪ rabi_oscillations_12             ║\n",
      "║                                                                       ↪ cz_chevron             ║\n",
      "╚════════════════════════════════════════════════════════════════════════════════════════════════╝\n",
      "2024-01-20 16:06:30,102 ◆ calibration_supervisor.py ◆ Inspecting node resonator_spectroscopy\n",
      "⚑⚑⚑ \u001b[31m\u001b[1mCalibration required for Node resonator_spectroscopy\u001b[0m\n",
      "2024-01-20 16:06:30,104 ◆ calibration_supervisor.py ◆ Calibrating node resonator_spectroscopy\n",
      " kwargs = {'couplers': ['q21_q22']}\n",
      "2024-01-20 16:06:30,398 ◆ compilation_worker.py ◆ Starting Compiling\n",
      "2024-01-20 16:06:30,603 ◆ measurement_utils.py ◆ Starting measurement\n",
      " schedule_duration = 5.3257912320000145\n",
      "multiplexed_resonator_spectroscopy: 100%|\u001b[34m███████\u001b[0m| 26/26 [00:05<00:00,  4.99it/s]\u001b[0m\n",
      "2024-01-20 16:06:39,419 ◆ measurement_utils.py ◆ Raw dataset acquired\n",
      "2024-01-20 16:06:39,445 ◆ execution_worker.py ◆ Finished measurement\n",
      "2024-01-20 16:06:39,445 ◆ calibration_supervisor.py ◆ measurement completed\n",
      "2024-01-20 16:06:47,406 ◆ calibration_supervisor.py ◆ analysis completed\n",
      "2024-01-20 16:06:47,406 ◆ calibration_supervisor.py ◆ resonator_spectroscopy node is completed\n",
      "2024-01-20 16:06:47,406 ◆ calibration_supervisor.py ◆ Inspecting node qubit_01_spectroscopy_multidim\n",
      "⚑⚑⚑ \u001b[31m\u001b[1mCalibration required for Node qubit_01_spectroscopy_multidim\u001b[0m\n",
      "2024-01-20 16:06:47,409 ◆ calibration_supervisor.py ◆ Calibrating node qubit_01_spectroscopy_multidim\n",
      " kwargs = {'couplers': ['q21_q22']}\n",
      "2024-01-20 16:06:47,741 ◆ compilation_worker.py ◆ Starting Compiling\n",
      "2024-01-20 16:06:48,333 ◆ measurement_utils.py ◆ Starting measurement\n",
      " schedule_duration = 19.51306547199993\n",
      "multiplexed_qubit_spec: 100%|\u001b[34m███████████████████\u001b[0m| 97/97 [00:19<00:00,  4.99it/s]\u001b[0m\n",
      "2024-01-20 16:07:10,560 ◆ measurement_utils.py ◆ Raw dataset acquired\n",
      "2024-01-20 16:07:10,586 ◆ execution_worker.py ◆ Finished measurement\n",
      "2024-01-20 16:07:10,586 ◆ calibration_supervisor.py ◆ measurement completed\n",
      "2024-01-20 16:07:18,467 ◆ calibration_supervisor.py ◆ analysis completed\n",
      "2024-01-20 16:07:18,467 ◆ calibration_supervisor.py ◆ qubit_01_spectroscopy_multidim node is completed\n",
      "2024-01-20 16:07:18,467 ◆ calibration_supervisor.py ◆ Inspecting node rabi_oscillations\n",
      "⚑⚑⚑ \u001b[31m\u001b[1mCalibration required for Node rabi_oscillations\u001b[0m\n",
      "2024-01-20 16:07:18,468 ◆ calibration_supervisor.py ◆ Calibrating node rabi_oscillations\n",
      " kwargs = {'couplers': ['q21_q22']}\n",
      "2024-01-20 16:07:18,619 ◆ compilation_worker.py ◆ Starting Compiling\n",
      "2024-01-20 16:07:18,858 ◆ measurement_utils.py ◆ Starting measurement\n",
      " schedule_duration = 30.120366079999997\n",
      "multiplexed_rabi_01: 100%|\u001b[34m████████████████████\u001b[0m| 150/150 [00:30<00:00,  4.99it/s]\u001b[0m\n",
      "2024-01-20 16:07:50,843 ◆ measurement_utils.py ◆ Raw dataset acquired\n",
      "2024-01-20 16:07:50,861 ◆ execution_worker.py ◆ Finished measurement\n",
      "2024-01-20 16:07:50,861 ◆ calibration_supervisor.py ◆ measurement completed\n",
      "2024-01-20 16:07:58,781 ◆ calibration_supervisor.py ◆ analysis completed\n",
      "2024-01-20 16:07:58,781 ◆ calibration_supervisor.py ◆ rabi_oscillations node is completed\n",
      "2024-01-20 16:07:58,781 ◆ calibration_supervisor.py ◆ Inspecting node resonator_spectroscopy_1\n",
      "⚑⚑⚑ \u001b[31m\u001b[1mCalibration required for Node resonator_spectroscopy_1\u001b[0m\n",
      "2024-01-20 16:07:58,784 ◆ calibration_supervisor.py ◆ Calibrating node resonator_spectroscopy_1\n",
      " kwargs = {'couplers': ['q21_q22']}\n",
      "2024-01-20 16:07:58,994 ◆ compilation_worker.py ◆ Starting Compiling\n",
      "2024-01-20 16:07:59,446 ◆ measurement_utils.py ◆ Starting measurement\n",
      " schedule_duration = 20.626010111999985\n",
      "multiplexed_resonator_spectroscopy: 100%|\u001b[34m█████\u001b[0m| 103/103 [00:20<00:00,  4.99it/s]\u001b[0m\n",
      "2024-01-20 16:08:22,043 ◆ measurement_utils.py ◆ Raw dataset acquired\n",
      "2024-01-20 16:08:22,060 ◆ execution_worker.py ◆ Finished measurement\n",
      "2024-01-20 16:08:22,060 ◆ calibration_supervisor.py ◆ measurement completed\n",
      "2024-01-20 16:08:30,076 ◆ calibration_supervisor.py ◆ analysis completed\n",
      "2024-01-20 16:08:30,076 ◆ calibration_supervisor.py ◆ resonator_spectroscopy_1 node is completed\n",
      "2024-01-20 16:08:30,076 ◆ calibration_supervisor.py ◆ Inspecting node qubit_12_spectroscopy_multidim\n",
      "⚑⚑⚑ \u001b[31m\u001b[1mCalibration required for Node qubit_12_spectroscopy_multidim\u001b[0m\n",
      "2024-01-20 16:08:30,078 ◆ calibration_supervisor.py ◆ Calibrating node qubit_12_spectroscopy_multidim\n",
      " kwargs = {'couplers': ['q21_q22']}\n",
      "2024-01-20 16:08:30,286 ◆ compilation_worker.py ◆ Starting Compiling\n",
      "2024-01-20 16:08:31,288 ◆ measurement_utils.py ◆ Starting measurement\n",
      " schedule_duration = 38.84088115200009\n",
      "multiplexed_qubit_spec: 100%|\u001b[34m█████████████████\u001b[0m| 194/194 [00:38<00:00,  4.99it/s]\u001b[0m\n",
      "2024-01-20 16:09:13,396 ◆ measurement_utils.py ◆ Raw dataset acquired\n",
      "2024-01-20 16:09:13,422 ◆ execution_worker.py ◆ Finished measurement\n",
      "2024-01-20 16:09:13,422 ◆ calibration_supervisor.py ◆ measurement completed\n",
      "2024-01-20 16:09:21,114 ◆ calibration_supervisor.py ◆ analysis completed\n",
      "2024-01-20 16:09:21,115 ◆ calibration_supervisor.py ◆ qubit_12_spectroscopy_multidim node is completed\n",
      "2024-01-20 16:09:21,115 ◆ calibration_supervisor.py ◆ Inspecting node rabi_oscillations_12\n",
      "⚑⚑⚑ \u001b[31m\u001b[1mCalibration required for Node rabi_oscillations_12\u001b[0m\n",
      "2024-01-20 16:09:21,116 ◆ calibration_supervisor.py ◆ Calibrating node rabi_oscillations_12\n",
      " kwargs = {'couplers': ['q21_q22']}\n",
      "2024-01-20 16:09:21,414 ◆ compilation_worker.py ◆ Starting Compiling\n",
      "2024-01-20 16:09:21,559 ◆ measurement_utils.py ◆ Starting measurement\n",
      " schedule_duration = 13.613301759999985\n",
      "multiplexed_rabi_12: 100%|\u001b[34m██████████████████████\u001b[0m| 68/68 [00:13<00:00,  4.99it/s]\u001b[0m\n",
      "2024-01-20 16:09:37,257 ◆ measurement_utils.py ◆ Raw dataset acquired\n",
      "2024-01-20 16:09:37,275 ◆ execution_worker.py ◆ Finished measurement\n",
      "2024-01-20 16:09:37,275 ◆ calibration_supervisor.py ◆ measurement completed\n",
      "2024-01-20 16:09:45,079 ◆ calibration_supervisor.py ◆ analysis completed\n",
      "2024-01-20 16:09:45,079 ◆ calibration_supervisor.py ◆ rabi_oscillations_12 node is completed\n",
      "2024-01-20 16:09:45,079 ◆ calibration_supervisor.py ◆ Inspecting node cz_chevron\n",
      "⚑⚑⚑ \u001b[31m\u001b[1mCalibration required for Node cz_chevron\u001b[0m\n",
      "2024-01-20 16:09:45,080 ◆ calibration_supervisor.py ◆ Calibrating node cz_chevron\n",
      " kwargs = {'couplers': ['q21_q22']}\n",
      " ac_freq/1e6 = 230.2 MHz\n",
      " self.coupled_qubits = ['q21', 'q22']\n",
      "cz_pulse_amplitude = {'q21_q22': 0.3}\n",
      "2024-01-20 16:09:45,278 ◆ compilation_worker.py ◆ Starting Compiling\n",
      "2024-01-20 16:09:45,870 ◆ measurement_utils.py ◆ Starting measurement\n",
      " schedule_duration = 181.77131315199927\n",
      "CZ_chevron: 100%|\u001b[34m█████████████████████████████\u001b[0m| 908/908 [03:02<00:00,  4.99it/s]\u001b[0m\n",
      "2024-01-20 16:12:49,275 ◆ measurement_utils.py ◆ Raw dataset acquired\n",
      "2024-01-20 16:12:49,282 ◆ execution_worker.py ◆ Finished measurement\n",
      "2024-01-20 16:12:49,282 ◆ calibration_supervisor.py ◆ measurement completed\n",
      "You should probably enlarge your sweep range. The optimial point is not in the current range.\n",
      "No enough available points. Please resweep once again or enlarge sweep range.\n",
      "2024-01-20 16:12:55,038 ◆ calibration_supervisor.py ◆ analysis completed\n",
      "2024-01-20 16:12:55,039 ◆ calibration_supervisor.py ◆ cz_chevron node is completed\n",
      "\u001b[0m--------------------------------------------\n",
      "parking_current = 0.0005499999999999999\n",
      "--------------------------------------------\n",
      "ramping 0.0004999160766601569\n",
      "ramping 0.0005178451538085938\n",
      "ramping 0.000537872314453125\n",
      "Finished ramping\n",
      " parking_current = 0.0005499999999999999\n",
      " dac.current() = 0.0005498886108398424\n",
      " remove_node = 'all'\n",
      "clusterA_module13_att:40dB\n",
      "clusterA_module17_att:6dB\n",
      "2024-01-20 16:13:02,765 ◆ calibration_supervisor.py ◆ Starting System Calibration\n",
      "╔════════════════════════════════════════════════════════════════════════════════════════════════╗\n",
      "║ Qubits: 10                                                                                     ║\n",
      "║↪ resonator_spectroscopy                                                                        ║\n",
      "║           ↪ qubit_01_spectroscopy_multidim                                                     ║\n",
      "║                          ↪ rabi_oscillations                                                   ║\n",
      "║                                  ↪ resonator_spectroscopy_1                                    ║\n",
      "║                                              ↪ qubit_12_spectroscopy_multidim                  ║\n",
      "║                                                             ↪ rabi_oscillations_12             ║\n",
      "║                                                                       ↪ cz_chevron             ║\n",
      "╚════════════════════════════════════════════════════════════════════════════════════════════════╝\n",
      "2024-01-20 16:13:02,824 ◆ calibration_supervisor.py ◆ Inspecting node resonator_spectroscopy\n",
      "⚑⚑⚑ \u001b[31m\u001b[1mCalibration required for Node resonator_spectroscopy\u001b[0m\n",
      "2024-01-20 16:13:02,826 ◆ calibration_supervisor.py ◆ Calibrating node resonator_spectroscopy\n",
      " kwargs = {'couplers': ['q21_q22']}\n",
      "2024-01-20 16:13:03,123 ◆ compilation_worker.py ◆ Starting Compiling\n",
      "2024-01-20 16:13:03,328 ◆ measurement_utils.py ◆ Starting measurement\n",
      " schedule_duration = 5.3257912320000145\n",
      "multiplexed_resonator_spectroscopy: 100%|\u001b[34m███████\u001b[0m| 26/26 [00:05<00:00,  4.99it/s]\u001b[0m\n",
      "2024-01-20 16:13:12,110 ◆ measurement_utils.py ◆ Raw dataset acquired\n",
      "2024-01-20 16:13:12,136 ◆ execution_worker.py ◆ Finished measurement\n",
      "2024-01-20 16:13:12,136 ◆ calibration_supervisor.py ◆ measurement completed\n",
      "2024-01-20 16:13:20,076 ◆ calibration_supervisor.py ◆ analysis completed\n",
      "2024-01-20 16:13:20,076 ◆ calibration_supervisor.py ◆ resonator_spectroscopy node is completed\n",
      "2024-01-20 16:13:20,076 ◆ calibration_supervisor.py ◆ Inspecting node qubit_01_spectroscopy_multidim\n",
      "⚑⚑⚑ \u001b[31m\u001b[1mCalibration required for Node qubit_01_spectroscopy_multidim\u001b[0m\n",
      "2024-01-20 16:13:20,079 ◆ calibration_supervisor.py ◆ Calibrating node qubit_01_spectroscopy_multidim\n",
      " kwargs = {'couplers': ['q21_q22']}\n",
      "2024-01-20 16:13:20,405 ◆ compilation_worker.py ◆ Starting Compiling\n",
      "2024-01-20 16:13:20,993 ◆ measurement_utils.py ◆ Starting measurement\n",
      " schedule_duration = 19.51306547199993\n",
      "multiplexed_qubit_spec: 100%|\u001b[34m███████████████████\u001b[0m| 97/97 [00:19<00:00,  4.99it/s]\u001b[0m\n",
      "2024-01-20 16:13:43,235 ◆ measurement_utils.py ◆ Raw dataset acquired\n",
      "2024-01-20 16:13:43,261 ◆ execution_worker.py ◆ Finished measurement\n",
      "2024-01-20 16:13:43,261 ◆ calibration_supervisor.py ◆ measurement completed\n",
      "2024-01-20 16:13:51,349 ◆ calibration_supervisor.py ◆ analysis completed\n",
      "2024-01-20 16:13:51,350 ◆ calibration_supervisor.py ◆ qubit_01_spectroscopy_multidim node is completed\n",
      "2024-01-20 16:13:51,350 ◆ calibration_supervisor.py ◆ Inspecting node rabi_oscillations\n",
      "⚑⚑⚑ \u001b[31m\u001b[1mCalibration required for Node rabi_oscillations\u001b[0m\n",
      "2024-01-20 16:13:51,351 ◆ calibration_supervisor.py ◆ Calibrating node rabi_oscillations\n",
      " kwargs = {'couplers': ['q21_q22']}\n",
      "2024-01-20 16:13:51,501 ◆ compilation_worker.py ◆ Starting Compiling\n",
      "2024-01-20 16:13:51,748 ◆ measurement_utils.py ◆ Starting measurement\n",
      " schedule_duration = 30.120366079999997\n",
      "multiplexed_rabi_01: 100%|\u001b[34m████████████████████\u001b[0m| 150/150 [00:30<00:00,  4.99it/s]\u001b[0m\n",
      "2024-01-20 16:14:23,747 ◆ measurement_utils.py ◆ Raw dataset acquired\n",
      "2024-01-20 16:14:23,764 ◆ execution_worker.py ◆ Finished measurement\n",
      "2024-01-20 16:14:23,764 ◆ calibration_supervisor.py ◆ measurement completed\n",
      "2024-01-20 16:14:31,731 ◆ calibration_supervisor.py ◆ analysis completed\n",
      "2024-01-20 16:14:31,732 ◆ calibration_supervisor.py ◆ rabi_oscillations node is completed\n",
      "2024-01-20 16:14:31,732 ◆ calibration_supervisor.py ◆ Inspecting node resonator_spectroscopy_1\n",
      "⚑⚑⚑ \u001b[31m\u001b[1mCalibration required for Node resonator_spectroscopy_1\u001b[0m\n",
      "2024-01-20 16:14:31,734 ◆ calibration_supervisor.py ◆ Calibrating node resonator_spectroscopy_1\n",
      " kwargs = {'couplers': ['q21_q22']}\n",
      "2024-01-20 16:14:31,945 ◆ compilation_worker.py ◆ Starting Compiling\n",
      "2024-01-20 16:14:32,390 ◆ measurement_utils.py ◆ Starting measurement\n",
      " schedule_duration = 20.626010111999985\n",
      "multiplexed_resonator_spectroscopy: 100%|\u001b[34m█████\u001b[0m| 103/103 [00:20<00:00,  4.99it/s]\u001b[0m\n",
      "2024-01-20 16:14:54,999 ◆ measurement_utils.py ◆ Raw dataset acquired\n",
      "2024-01-20 16:14:55,016 ◆ execution_worker.py ◆ Finished measurement\n",
      "2024-01-20 16:14:55,016 ◆ calibration_supervisor.py ◆ measurement completed\n",
      "2024-01-20 16:15:02,975 ◆ calibration_supervisor.py ◆ analysis completed\n",
      "2024-01-20 16:15:02,975 ◆ calibration_supervisor.py ◆ resonator_spectroscopy_1 node is completed\n",
      "2024-01-20 16:15:02,975 ◆ calibration_supervisor.py ◆ Inspecting node qubit_12_spectroscopy_multidim\n",
      "⚑⚑⚑ \u001b[31m\u001b[1mCalibration required for Node qubit_12_spectroscopy_multidim\u001b[0m\n",
      "2024-01-20 16:15:02,977 ◆ calibration_supervisor.py ◆ Calibrating node qubit_12_spectroscopy_multidim\n",
      " kwargs = {'couplers': ['q21_q22']}\n",
      "2024-01-20 16:15:03,194 ◆ compilation_worker.py ◆ Starting Compiling\n",
      "2024-01-20 16:15:04,195 ◆ measurement_utils.py ◆ Starting measurement\n",
      " schedule_duration = 38.84088115200009\n",
      "multiplexed_qubit_spec: 100%|\u001b[34m█████████████████\u001b[0m| 194/194 [00:38<00:00,  4.99it/s]\u001b[0m\n",
      "2024-01-20 16:15:46,317 ◆ measurement_utils.py ◆ Raw dataset acquired\n",
      "2024-01-20 16:15:46,344 ◆ execution_worker.py ◆ Finished measurement\n",
      "2024-01-20 16:15:46,344 ◆ calibration_supervisor.py ◆ measurement completed\n",
      "2024-01-20 16:15:54,157 ◆ calibration_supervisor.py ◆ analysis completed\n",
      "2024-01-20 16:15:54,157 ◆ calibration_supervisor.py ◆ qubit_12_spectroscopy_multidim node is completed\n",
      "2024-01-20 16:15:54,157 ◆ calibration_supervisor.py ◆ Inspecting node rabi_oscillations_12\n",
      "⚑⚑⚑ \u001b[31m\u001b[1mCalibration required for Node rabi_oscillations_12\u001b[0m\n",
      "2024-01-20 16:15:54,159 ◆ calibration_supervisor.py ◆ Calibrating node rabi_oscillations_12\n",
      " kwargs = {'couplers': ['q21_q22']}\n",
      "2024-01-20 16:15:54,297 ◆ compilation_worker.py ◆ Starting Compiling\n",
      "2024-01-20 16:15:54,603 ◆ measurement_utils.py ◆ Starting measurement\n",
      " schedule_duration = 13.613301759999985\n",
      "multiplexed_rabi_12: 100%|\u001b[34m██████████████████████\u001b[0m| 68/68 [00:13<00:00,  4.99it/s]\u001b[0m\n",
      "2024-01-20 16:16:10,309 ◆ measurement_utils.py ◆ Raw dataset acquired\n",
      "2024-01-20 16:16:10,327 ◆ execution_worker.py ◆ Finished measurement\n",
      "2024-01-20 16:16:10,327 ◆ calibration_supervisor.py ◆ measurement completed\n",
      "2024-01-20 16:16:18,163 ◆ calibration_supervisor.py ◆ analysis completed\n",
      "2024-01-20 16:16:18,163 ◆ calibration_supervisor.py ◆ rabi_oscillations_12 node is completed\n",
      "2024-01-20 16:16:18,163 ◆ calibration_supervisor.py ◆ Inspecting node cz_chevron\n",
      "⚑⚑⚑ \u001b[31m\u001b[1mCalibration required for Node cz_chevron\u001b[0m\n",
      "2024-01-20 16:16:18,163 ◆ calibration_supervisor.py ◆ Calibrating node cz_chevron\n",
      " kwargs = {'couplers': ['q21_q22']}\n",
      " ac_freq/1e6 = 218.2 MHz\n",
      " self.coupled_qubits = ['q21', 'q22']\n",
      "cz_pulse_amplitude = {'q21_q22': 0.3}\n",
      "2024-01-20 16:16:18,358 ◆ compilation_worker.py ◆ Starting Compiling\n",
      "2024-01-20 16:16:18,952 ◆ measurement_utils.py ◆ Starting measurement\n",
      " schedule_duration = 181.77131315199927\n",
      "CZ_chevron: 100%|\u001b[34m█████████████████████████████\u001b[0m| 908/908 [03:02<00:00,  4.99it/s]\u001b[0m\n",
      "2024-01-20 16:19:22,363 ◆ measurement_utils.py ◆ Raw dataset acquired\n",
      "2024-01-20 16:19:22,370 ◆ execution_worker.py ◆ Finished measurement\n",
      "2024-01-20 16:19:22,370 ◆ calibration_supervisor.py ◆ measurement completed\n",
      "You should probably enlarge your sweep range. The optimial point is not in the current range.\n",
      "You should probably enlarge your sweep range. The optimial point is not in the current range.\n",
      "2024-01-20 16:19:28,109 ◆ calibration_supervisor.py ◆ analysis completed\n",
      "2024-01-20 16:19:28,110 ◆ calibration_supervisor.py ◆ cz_chevron node is completed\n",
      "\u001b[0m--------------------------------------------\n",
      "parking_current = 0.0006\n",
      "--------------------------------------------\n",
      "ramping 0.0005498886108398424\n",
      "ramping 0.0005678176879882826\n",
      "ramping 0.0005878448486328139\n",
      "Finished ramping\n",
      " parking_current = 0.0006\n",
      " dac.current() = 0.0005998611450195312\n",
      " remove_node = 'all'\n",
      "clusterA_module13_att:40dB\n",
      "clusterA_module17_att:6dB\n",
      "2024-01-20 16:19:35,836 ◆ calibration_supervisor.py ◆ Starting System Calibration\n",
      "╔════════════════════════════════════════════════════════════════════════════════════════════════╗\n",
      "║ Qubits: 10                                                                                     ║\n",
      "║↪ resonator_spectroscopy                                                                        ║\n",
      "║           ↪ qubit_01_spectroscopy_multidim                                                     ║\n",
      "║                          ↪ rabi_oscillations                                                   ║\n",
      "║                                  ↪ resonator_spectroscopy_1                                    ║\n",
      "║                                              ↪ qubit_12_spectroscopy_multidim                  ║\n",
      "║                                                             ↪ rabi_oscillations_12             ║\n",
      "║                                                                       ↪ cz_chevron             ║\n",
      "╚════════════════════════════════════════════════════════════════════════════════════════════════╝\n",
      "2024-01-20 16:19:35,897 ◆ calibration_supervisor.py ◆ Inspecting node resonator_spectroscopy\n",
      "⚑⚑⚑ \u001b[31m\u001b[1mCalibration required for Node resonator_spectroscopy\u001b[0m\n",
      "2024-01-20 16:19:35,899 ◆ calibration_supervisor.py ◆ Calibrating node resonator_spectroscopy\n",
      " kwargs = {'couplers': ['q21_q22']}\n",
      "2024-01-20 16:19:36,199 ◆ compilation_worker.py ◆ Starting Compiling\n",
      "2024-01-20 16:19:36,405 ◆ measurement_utils.py ◆ Starting measurement\n",
      " schedule_duration = 5.3257912320000145\n",
      "multiplexed_resonator_spectroscopy: 100%|\u001b[34m███████\u001b[0m| 26/26 [00:05<00:00,  4.99it/s]\u001b[0m\n",
      "2024-01-20 16:19:45,241 ◆ measurement_utils.py ◆ Raw dataset acquired\n",
      "2024-01-20 16:19:45,267 ◆ execution_worker.py ◆ Finished measurement\n",
      "2024-01-20 16:19:45,267 ◆ calibration_supervisor.py ◆ measurement completed\n",
      "2024-01-20 16:19:53,204 ◆ calibration_supervisor.py ◆ analysis completed\n",
      "2024-01-20 16:19:53,204 ◆ calibration_supervisor.py ◆ resonator_spectroscopy node is completed\n",
      "2024-01-20 16:19:53,204 ◆ calibration_supervisor.py ◆ Inspecting node qubit_01_spectroscopy_multidim\n",
      "⚑⚑⚑ \u001b[31m\u001b[1mCalibration required for Node qubit_01_spectroscopy_multidim\u001b[0m\n",
      "2024-01-20 16:19:53,207 ◆ calibration_supervisor.py ◆ Calibrating node qubit_01_spectroscopy_multidim\n",
      " kwargs = {'couplers': ['q21_q22']}\n",
      "2024-01-20 16:19:53,528 ◆ compilation_worker.py ◆ Starting Compiling\n",
      "2024-01-20 16:19:54,113 ◆ measurement_utils.py ◆ Starting measurement\n",
      " schedule_duration = 19.51306547199993\n",
      "multiplexed_qubit_spec: 100%|\u001b[34m███████████████████\u001b[0m| 97/97 [00:19<00:00,  4.99it/s]\u001b[0m\n",
      "2024-01-20 16:20:16,323 ◆ measurement_utils.py ◆ Raw dataset acquired\n",
      "2024-01-20 16:20:16,348 ◆ execution_worker.py ◆ Finished measurement\n",
      "2024-01-20 16:20:16,348 ◆ calibration_supervisor.py ◆ measurement completed\n",
      "2024-01-20 16:20:24,319 ◆ calibration_supervisor.py ◆ analysis completed\n",
      "2024-01-20 16:20:24,319 ◆ calibration_supervisor.py ◆ qubit_01_spectroscopy_multidim node is completed\n",
      "2024-01-20 16:20:24,319 ◆ calibration_supervisor.py ◆ Inspecting node rabi_oscillations\n",
      "⚑⚑⚑ \u001b[31m\u001b[1mCalibration required for Node rabi_oscillations\u001b[0m\n",
      "2024-01-20 16:20:24,321 ◆ calibration_supervisor.py ◆ Calibrating node rabi_oscillations\n",
      " kwargs = {'couplers': ['q21_q22']}\n",
      "2024-01-20 16:20:24,467 ◆ compilation_worker.py ◆ Starting Compiling\n",
      "2024-01-20 16:20:24,712 ◆ measurement_utils.py ◆ Starting measurement\n",
      " schedule_duration = 30.120366079999997\n",
      "multiplexed_rabi_01: 100%|\u001b[34m████████████████████\u001b[0m| 150/150 [00:30<00:00,  4.99it/s]\u001b[0m\n",
      "2024-01-20 16:20:56,697 ◆ measurement_utils.py ◆ Raw dataset acquired\n",
      "2024-01-20 16:20:56,714 ◆ execution_worker.py ◆ Finished measurement\n",
      "2024-01-20 16:20:56,714 ◆ calibration_supervisor.py ◆ measurement completed\n",
      "2024-01-20 16:21:04,634 ◆ calibration_supervisor.py ◆ analysis completed\n",
      "2024-01-20 16:21:04,634 ◆ calibration_supervisor.py ◆ rabi_oscillations node is completed\n",
      "2024-01-20 16:21:04,634 ◆ calibration_supervisor.py ◆ Inspecting node resonator_spectroscopy_1\n",
      "⚑⚑⚑ \u001b[31m\u001b[1mCalibration required for Node resonator_spectroscopy_1\u001b[0m\n",
      "2024-01-20 16:21:04,636 ◆ calibration_supervisor.py ◆ Calibrating node resonator_spectroscopy_1\n",
      " kwargs = {'couplers': ['q21_q22']}\n",
      "2024-01-20 16:21:04,847 ◆ compilation_worker.py ◆ Starting Compiling\n",
      "2024-01-20 16:21:05,290 ◆ measurement_utils.py ◆ Starting measurement\n",
      " schedule_duration = 20.626010111999985\n",
      "multiplexed_resonator_spectroscopy: 100%|\u001b[34m█████\u001b[0m| 103/103 [00:20<00:00,  4.99it/s]\u001b[0m\n",
      "2024-01-20 16:21:27,876 ◆ measurement_utils.py ◆ Raw dataset acquired\n",
      "2024-01-20 16:21:27,893 ◆ execution_worker.py ◆ Finished measurement\n",
      "2024-01-20 16:21:27,893 ◆ calibration_supervisor.py ◆ measurement completed\n",
      "2024-01-20 16:21:35,839 ◆ calibration_supervisor.py ◆ analysis completed\n",
      "2024-01-20 16:21:35,839 ◆ calibration_supervisor.py ◆ resonator_spectroscopy_1 node is completed\n",
      "2024-01-20 16:21:35,839 ◆ calibration_supervisor.py ◆ Inspecting node qubit_12_spectroscopy_multidim\n",
      "⚑⚑⚑ \u001b[31m\u001b[1mCalibration required for Node qubit_12_spectroscopy_multidim\u001b[0m\n",
      "2024-01-20 16:21:35,841 ◆ calibration_supervisor.py ◆ Calibrating node qubit_12_spectroscopy_multidim\n",
      " kwargs = {'couplers': ['q21_q22']}\n",
      "2024-01-20 16:21:36,052 ◆ compilation_worker.py ◆ Starting Compiling\n",
      "2024-01-20 16:21:37,037 ◆ measurement_utils.py ◆ Starting measurement\n",
      " schedule_duration = 38.84088115200009\n",
      "multiplexed_qubit_spec: 100%|\u001b[34m█████████████████\u001b[0m| 194/194 [00:38<00:00,  4.99it/s]\u001b[0m\n",
      "2024-01-20 16:22:19,094 ◆ measurement_utils.py ◆ Raw dataset acquired\n",
      "2024-01-20 16:22:19,119 ◆ execution_worker.py ◆ Finished measurement\n",
      "2024-01-20 16:22:19,119 ◆ calibration_supervisor.py ◆ measurement completed\n",
      "2024-01-20 16:22:26,812 ◆ calibration_supervisor.py ◆ analysis completed\n",
      "2024-01-20 16:22:26,812 ◆ calibration_supervisor.py ◆ qubit_12_spectroscopy_multidim node is completed\n",
      "2024-01-20 16:22:26,812 ◆ calibration_supervisor.py ◆ Inspecting node rabi_oscillations_12\n",
      "⚑⚑⚑ \u001b[31m\u001b[1mCalibration required for Node rabi_oscillations_12\u001b[0m\n",
      "2024-01-20 16:22:26,814 ◆ calibration_supervisor.py ◆ Calibrating node rabi_oscillations_12\n",
      " kwargs = {'couplers': ['q21_q22']}\n",
      "2024-01-20 16:22:27,114 ◆ compilation_worker.py ◆ Starting Compiling\n",
      "2024-01-20 16:22:27,253 ◆ measurement_utils.py ◆ Starting measurement\n",
      " schedule_duration = 13.613301759999985\n",
      "multiplexed_rabi_12: 100%|\u001b[34m██████████████████████\u001b[0m| 68/68 [00:13<00:00,  4.99it/s]\u001b[0m\n",
      "2024-01-20 16:22:42,926 ◆ measurement_utils.py ◆ Raw dataset acquired\n",
      "2024-01-20 16:22:42,944 ◆ execution_worker.py ◆ Finished measurement\n",
      "2024-01-20 16:22:42,944 ◆ calibration_supervisor.py ◆ measurement completed\n",
      "2024-01-20 16:22:50,773 ◆ calibration_supervisor.py ◆ analysis completed\n",
      "2024-01-20 16:22:50,773 ◆ calibration_supervisor.py ◆ rabi_oscillations_12 node is completed\n",
      "2024-01-20 16:22:50,773 ◆ calibration_supervisor.py ◆ Inspecting node cz_chevron\n",
      "⚑⚑⚑ \u001b[31m\u001b[1mCalibration required for Node cz_chevron\u001b[0m\n",
      "2024-01-20 16:22:50,774 ◆ calibration_supervisor.py ◆ Calibrating node cz_chevron\n",
      " kwargs = {'couplers': ['q21_q22']}\n",
      " ac_freq/1e6 = 217.866666666667 MHz\n",
      " self.coupled_qubits = ['q21', 'q22']\n",
      "cz_pulse_amplitude = {'q21_q22': 0.3}\n",
      "2024-01-20 16:22:50,970 ◆ compilation_worker.py ◆ Starting Compiling\n",
      "2024-01-20 16:22:51,554 ◆ measurement_utils.py ◆ Starting measurement\n",
      " schedule_duration = 181.77131315199927\n",
      "CZ_chevron: 100%|\u001b[34m█████████████████████████████\u001b[0m| 908/908 [03:02<00:00,  4.99it/s]\u001b[0m\n",
      "2024-01-20 16:25:54,923 ◆ measurement_utils.py ◆ Raw dataset acquired\n",
      "2024-01-20 16:25:54,929 ◆ execution_worker.py ◆ Finished measurement\n",
      "2024-01-20 16:25:54,929 ◆ calibration_supervisor.py ◆ measurement completed\n",
      "No enough available points. Please resweep once again or enlarge sweep range.\n",
      "/home/loke-c/anaconda3/envs/tac/lib/python3.9/site-packages/scipy/optimize/_minpack_py.py:494: RuntimeWarning: Number of calls to function has reached maxfev = 1000.\n",
      "  warnings.warn(errors[info][0], RuntimeWarning)\n",
      "You should probably enlarge your sweep range. The optimial point is not in the current range.\n",
      "2024-01-20 16:26:00,707 ◆ calibration_supervisor.py ◆ analysis completed\n",
      "2024-01-20 16:26:00,707 ◆ calibration_supervisor.py ◆ cz_chevron node is completed\n",
      "\u001b[0m--------------------------------------------\n",
      "parking_current = 0.00065\n",
      "--------------------------------------------\n",
      "ramping 0.0005998611450195312\n",
      "ramping 0.0006177902221679681\n",
      "ramping 0.0006378173828124993\n",
      "Finished ramping\n",
      " parking_current = 0.00065\n",
      " dac.current() = 0.0006498336791992201\n",
      " remove_node = 'all'\n",
      "clusterA_module13_att:40dB\n",
      "clusterA_module17_att:6dB\n",
      "2024-01-20 16:26:08,352 ◆ calibration_supervisor.py ◆ Starting System Calibration\n",
      "╔════════════════════════════════════════════════════════════════════════════════════════════════╗\n",
      "║ Qubits: 10                                                                                     ║\n",
      "║↪ resonator_spectroscopy                                                                        ║\n",
      "║           ↪ qubit_01_spectroscopy_multidim                                                     ║\n",
      "║                          ↪ rabi_oscillations                                                   ║\n",
      "║                                  ↪ resonator_spectroscopy_1                                    ║\n",
      "║                                              ↪ qubit_12_spectroscopy_multidim                  ║\n",
      "║                                                             ↪ rabi_oscillations_12             ║\n",
      "║                                                                       ↪ cz_chevron             ║\n",
      "╚════════════════════════════════════════════════════════════════════════════════════════════════╝\n",
      "2024-01-20 16:26:08,412 ◆ calibration_supervisor.py ◆ Inspecting node resonator_spectroscopy\n",
      "⚑⚑⚑ \u001b[31m\u001b[1mCalibration required for Node resonator_spectroscopy\u001b[0m\n",
      "2024-01-20 16:26:08,413 ◆ calibration_supervisor.py ◆ Calibrating node resonator_spectroscopy\n",
      " kwargs = {'couplers': ['q21_q22']}\n",
      "2024-01-20 16:26:08,707 ◆ compilation_worker.py ◆ Starting Compiling\n",
      "2024-01-20 16:26:08,909 ◆ measurement_utils.py ◆ Starting measurement\n",
      " schedule_duration = 5.3257912320000145\n",
      "multiplexed_resonator_spectroscopy: 100%|\u001b[34m███████\u001b[0m| 26/26 [00:05<00:00,  4.99it/s]\u001b[0m\n",
      "2024-01-20 16:26:17,623 ◆ measurement_utils.py ◆ Raw dataset acquired\n",
      "2024-01-20 16:26:17,649 ◆ execution_worker.py ◆ Finished measurement\n",
      "2024-01-20 16:26:17,649 ◆ calibration_supervisor.py ◆ measurement completed\n",
      "2024-01-20 16:26:25,585 ◆ calibration_supervisor.py ◆ analysis completed\n",
      "2024-01-20 16:26:25,586 ◆ calibration_supervisor.py ◆ resonator_spectroscopy node is completed\n",
      "2024-01-20 16:26:25,586 ◆ calibration_supervisor.py ◆ Inspecting node qubit_01_spectroscopy_multidim\n",
      "⚑⚑⚑ \u001b[31m\u001b[1mCalibration required for Node qubit_01_spectroscopy_multidim\u001b[0m\n",
      "2024-01-20 16:26:25,589 ◆ calibration_supervisor.py ◆ Calibrating node qubit_01_spectroscopy_multidim\n",
      " kwargs = {'couplers': ['q21_q22']}\n",
      "2024-01-20 16:26:25,913 ◆ compilation_worker.py ◆ Starting Compiling\n",
      "2024-01-20 16:26:26,494 ◆ measurement_utils.py ◆ Starting measurement\n",
      " schedule_duration = 19.51306547199993\n",
      "multiplexed_qubit_spec: 100%|\u001b[34m███████████████████\u001b[0m| 97/97 [00:19<00:00,  4.99it/s]\u001b[0m\n",
      "2024-01-20 16:26:48,775 ◆ measurement_utils.py ◆ Raw dataset acquired\n",
      "2024-01-20 16:26:48,800 ◆ execution_worker.py ◆ Finished measurement\n",
      "2024-01-20 16:26:48,800 ◆ calibration_supervisor.py ◆ measurement completed\n",
      "2024-01-20 16:26:56,701 ◆ calibration_supervisor.py ◆ analysis completed\n",
      "2024-01-20 16:26:56,702 ◆ calibration_supervisor.py ◆ qubit_01_spectroscopy_multidim node is completed\n",
      "2024-01-20 16:26:56,702 ◆ calibration_supervisor.py ◆ Inspecting node rabi_oscillations\n",
      "⚑⚑⚑ \u001b[31m\u001b[1mCalibration required for Node rabi_oscillations\u001b[0m\n",
      "2024-01-20 16:26:56,703 ◆ calibration_supervisor.py ◆ Calibrating node rabi_oscillations\n",
      " kwargs = {'couplers': ['q21_q22']}\n",
      "2024-01-20 16:26:56,855 ◆ compilation_worker.py ◆ Starting Compiling\n",
      "2024-01-20 16:26:57,102 ◆ measurement_utils.py ◆ Starting measurement\n",
      " schedule_duration = 30.120366079999997\n",
      "multiplexed_rabi_01: 100%|\u001b[34m████████████████████\u001b[0m| 150/150 [00:30<00:00,  4.99it/s]\u001b[0m\n",
      "2024-01-20 16:27:29,091 ◆ measurement_utils.py ◆ Raw dataset acquired\n",
      "2024-01-20 16:27:29,108 ◆ execution_worker.py ◆ Finished measurement\n",
      "2024-01-20 16:27:29,109 ◆ calibration_supervisor.py ◆ measurement completed\n",
      "2024-01-20 16:27:37,025 ◆ calibration_supervisor.py ◆ analysis completed\n",
      "2024-01-20 16:27:37,025 ◆ calibration_supervisor.py ◆ rabi_oscillations node is completed\n",
      "2024-01-20 16:27:37,025 ◆ calibration_supervisor.py ◆ Inspecting node resonator_spectroscopy_1\n",
      "⚑⚑⚑ \u001b[31m\u001b[1mCalibration required for Node resonator_spectroscopy_1\u001b[0m\n",
      "2024-01-20 16:27:37,028 ◆ calibration_supervisor.py ◆ Calibrating node resonator_spectroscopy_1\n",
      " kwargs = {'couplers': ['q21_q22']}\n",
      "2024-01-20 16:27:37,242 ◆ compilation_worker.py ◆ Starting Compiling\n",
      "2024-01-20 16:27:37,684 ◆ measurement_utils.py ◆ Starting measurement\n",
      " schedule_duration = 20.626010111999985\n",
      "multiplexed_resonator_spectroscopy: 100%|\u001b[34m█████\u001b[0m| 103/103 [00:20<00:00,  4.99it/s]\u001b[0m\n",
      "2024-01-20 16:28:00,269 ◆ measurement_utils.py ◆ Raw dataset acquired\n",
      "2024-01-20 16:28:00,286 ◆ execution_worker.py ◆ Finished measurement\n",
      "2024-01-20 16:28:00,286 ◆ calibration_supervisor.py ◆ measurement completed\n",
      "2024-01-20 16:28:08,237 ◆ calibration_supervisor.py ◆ analysis completed\n",
      "2024-01-20 16:28:08,237 ◆ calibration_supervisor.py ◆ resonator_spectroscopy_1 node is completed\n",
      "2024-01-20 16:28:08,237 ◆ calibration_supervisor.py ◆ Inspecting node qubit_12_spectroscopy_multidim\n",
      "⚑⚑⚑ \u001b[31m\u001b[1mCalibration required for Node qubit_12_spectroscopy_multidim\u001b[0m\n",
      "2024-01-20 16:28:08,239 ◆ calibration_supervisor.py ◆ Calibrating node qubit_12_spectroscopy_multidim\n",
      " kwargs = {'couplers': ['q21_q22']}\n",
      "2024-01-20 16:28:08,451 ◆ compilation_worker.py ◆ Starting Compiling\n",
      "2024-01-20 16:28:09,461 ◆ measurement_utils.py ◆ Starting measurement\n",
      " schedule_duration = 38.84088115200009\n",
      "multiplexed_qubit_spec: 100%|\u001b[34m█████████████████\u001b[0m| 194/194 [00:38<00:00,  4.99it/s]\u001b[0m\n",
      "2024-01-20 16:28:51,566 ◆ measurement_utils.py ◆ Raw dataset acquired\n",
      "2024-01-20 16:28:51,592 ◆ execution_worker.py ◆ Finished measurement\n",
      "2024-01-20 16:28:51,592 ◆ calibration_supervisor.py ◆ measurement completed\n",
      "2024-01-20 16:28:59,306 ◆ calibration_supervisor.py ◆ analysis completed\n",
      "2024-01-20 16:28:59,307 ◆ calibration_supervisor.py ◆ qubit_12_spectroscopy_multidim node is completed\n",
      "2024-01-20 16:28:59,307 ◆ calibration_supervisor.py ◆ Inspecting node rabi_oscillations_12\n",
      "⚑⚑⚑ \u001b[31m\u001b[1mCalibration required for Node rabi_oscillations_12\u001b[0m\n",
      "2024-01-20 16:28:59,308 ◆ calibration_supervisor.py ◆ Calibrating node rabi_oscillations_12\n",
      " kwargs = {'couplers': ['q21_q22']}\n",
      "2024-01-20 16:28:59,618 ◆ compilation_worker.py ◆ Starting Compiling\n",
      "2024-01-20 16:28:59,758 ◆ measurement_utils.py ◆ Starting measurement\n",
      " schedule_duration = 13.613301759999985\n",
      "multiplexed_rabi_12: 100%|\u001b[34m██████████████████████\u001b[0m| 68/68 [00:13<00:00,  4.99it/s]\u001b[0m\n",
      "2024-01-20 16:29:15,451 ◆ measurement_utils.py ◆ Raw dataset acquired\n",
      "2024-01-20 16:29:15,468 ◆ execution_worker.py ◆ Finished measurement\n",
      "2024-01-20 16:29:15,468 ◆ calibration_supervisor.py ◆ measurement completed\n",
      "2024-01-20 16:29:23,270 ◆ calibration_supervisor.py ◆ analysis completed\n",
      "2024-01-20 16:29:23,270 ◆ calibration_supervisor.py ◆ rabi_oscillations_12 node is completed\n",
      "2024-01-20 16:29:23,270 ◆ calibration_supervisor.py ◆ Inspecting node cz_chevron\n",
      "⚑⚑⚑ \u001b[31m\u001b[1mCalibration required for Node cz_chevron\u001b[0m\n",
      "2024-01-20 16:29:23,271 ◆ calibration_supervisor.py ◆ Calibrating node cz_chevron\n",
      " kwargs = {'couplers': ['q21_q22']}\n",
      " ac_freq/1e6 = 217.2 MHz\n",
      " self.coupled_qubits = ['q21', 'q22']\n",
      "cz_pulse_amplitude = {'q21_q22': 0.3}\n",
      "2024-01-20 16:29:23,469 ◆ compilation_worker.py ◆ Starting Compiling\n",
      "2024-01-20 16:29:24,088 ◆ measurement_utils.py ◆ Starting measurement\n",
      " schedule_duration = 181.77131315199927\n",
      "CZ_chevron: 100%|\u001b[34m█████████████████████████████\u001b[0m| 908/908 [03:02<00:00,  4.99it/s]\u001b[0m\n",
      "2024-01-20 16:32:27,490 ◆ measurement_utils.py ◆ Raw dataset acquired\n",
      "2024-01-20 16:32:27,497 ◆ execution_worker.py ◆ Finished measurement\n",
      "2024-01-20 16:32:27,497 ◆ calibration_supervisor.py ◆ measurement completed\n",
      "You should probably enlarge your sweep range. The optimial point is not in the current range.\n",
      "You should probably enlarge your sweep range. The optimial point is not in the current range.\n",
      "2024-01-20 16:32:33,253 ◆ calibration_supervisor.py ◆ analysis completed\n",
      "2024-01-20 16:32:33,253 ◆ calibration_supervisor.py ◆ cz_chevron node is completed\n",
      "\u001b[0m--------------------------------------------\n",
      "parking_current = 0.0007\n",
      "--------------------------------------------\n",
      "ramping 0.0006498336791992201\n",
      "ramping 0.0006677627563476569\n",
      "ramping 0.0006877899169921882\n",
      "Finished ramping\n",
      " parking_current = 0.0007\n",
      " dac.current() = 0.0006999969482421875\n",
      " remove_node = 'all'\n",
      "clusterA_module13_att:40dB\n",
      "clusterA_module17_att:6dB\n",
      "2024-01-20 16:32:40,964 ◆ calibration_supervisor.py ◆ Starting System Calibration\n",
      "╔════════════════════════════════════════════════════════════════════════════════════════════════╗\n",
      "║ Qubits: 10                                                                                     ║\n",
      "║↪ resonator_spectroscopy                                                                        ║\n",
      "║           ↪ qubit_01_spectroscopy_multidim                                                     ║\n",
      "║                          ↪ rabi_oscillations                                                   ║\n",
      "║                                  ↪ resonator_spectroscopy_1                                    ║\n",
      "║                                              ↪ qubit_12_spectroscopy_multidim                  ║\n",
      "║                                                             ↪ rabi_oscillations_12             ║\n",
      "║                                                                       ↪ cz_chevron             ║\n",
      "╚════════════════════════════════════════════════════════════════════════════════════════════════╝\n",
      "2024-01-20 16:32:41,022 ◆ calibration_supervisor.py ◆ Inspecting node resonator_spectroscopy\n",
      "⚑⚑⚑ \u001b[31m\u001b[1mCalibration required for Node resonator_spectroscopy\u001b[0m\n",
      "2024-01-20 16:32:41,024 ◆ calibration_supervisor.py ◆ Calibrating node resonator_spectroscopy\n",
      " kwargs = {'couplers': ['q21_q22']}\n",
      "2024-01-20 16:32:41,316 ◆ compilation_worker.py ◆ Starting Compiling\n",
      "2024-01-20 16:32:41,517 ◆ measurement_utils.py ◆ Starting measurement\n",
      " schedule_duration = 5.3257912320000145\n",
      "multiplexed_resonator_spectroscopy: 100%|\u001b[34m███████\u001b[0m| 26/26 [00:05<00:00,  4.99it/s]\u001b[0m\n",
      "2024-01-20 16:32:50,229 ◆ measurement_utils.py ◆ Raw dataset acquired\n",
      "2024-01-20 16:32:50,255 ◆ execution_worker.py ◆ Finished measurement\n",
      "2024-01-20 16:32:50,255 ◆ calibration_supervisor.py ◆ measurement completed\n",
      "2024-01-20 16:32:58,148 ◆ calibration_supervisor.py ◆ analysis completed\n",
      "2024-01-20 16:32:58,148 ◆ calibration_supervisor.py ◆ resonator_spectroscopy node is completed\n",
      "2024-01-20 16:32:58,148 ◆ calibration_supervisor.py ◆ Inspecting node qubit_01_spectroscopy_multidim\n",
      "⚑⚑⚑ \u001b[31m\u001b[1mCalibration required for Node qubit_01_spectroscopy_multidim\u001b[0m\n",
      "2024-01-20 16:32:58,151 ◆ calibration_supervisor.py ◆ Calibrating node qubit_01_spectroscopy_multidim\n",
      " kwargs = {'couplers': ['q21_q22']}\n",
      "2024-01-20 16:32:58,478 ◆ compilation_worker.py ◆ Starting Compiling\n",
      "2024-01-20 16:32:59,086 ◆ measurement_utils.py ◆ Starting measurement\n",
      " schedule_duration = 19.51306547199993\n",
      "multiplexed_qubit_spec: 100%|\u001b[34m███████████████████\u001b[0m| 97/97 [00:19<00:00,  4.99it/s]\u001b[0m\n",
      "2024-01-20 16:33:21,295 ◆ measurement_utils.py ◆ Raw dataset acquired\n",
      "2024-01-20 16:33:21,320 ◆ execution_worker.py ◆ Finished measurement\n",
      "2024-01-20 16:33:21,320 ◆ calibration_supervisor.py ◆ measurement completed\n",
      "2024-01-20 16:33:29,521 ◆ calibration_supervisor.py ◆ analysis completed\n",
      "2024-01-20 16:33:29,521 ◆ calibration_supervisor.py ◆ qubit_01_spectroscopy_multidim node is completed\n",
      "2024-01-20 16:33:29,521 ◆ calibration_supervisor.py ◆ Inspecting node rabi_oscillations\n",
      "⚑⚑⚑ \u001b[31m\u001b[1mCalibration required for Node rabi_oscillations\u001b[0m\n",
      "2024-01-20 16:33:29,523 ◆ calibration_supervisor.py ◆ Calibrating node rabi_oscillations\n",
      " kwargs = {'couplers': ['q21_q22']}\n",
      "2024-01-20 16:33:29,672 ◆ compilation_worker.py ◆ Starting Compiling\n",
      "2024-01-20 16:33:29,923 ◆ measurement_utils.py ◆ Starting measurement\n",
      " schedule_duration = 30.120366079999997\n",
      "multiplexed_rabi_01: 100%|\u001b[34m████████████████████\u001b[0m| 150/150 [00:30<00:00,  4.99it/s]\u001b[0m\n",
      "2024-01-20 16:34:01,936 ◆ measurement_utils.py ◆ Raw dataset acquired\n",
      "2024-01-20 16:34:01,953 ◆ execution_worker.py ◆ Finished measurement\n",
      "2024-01-20 16:34:01,953 ◆ calibration_supervisor.py ◆ measurement completed\n",
      "2024-01-20 16:34:09,880 ◆ calibration_supervisor.py ◆ analysis completed\n",
      "2024-01-20 16:34:09,880 ◆ calibration_supervisor.py ◆ rabi_oscillations node is completed\n",
      "2024-01-20 16:34:09,880 ◆ calibration_supervisor.py ◆ Inspecting node resonator_spectroscopy_1\n",
      "⚑⚑⚑ \u001b[31m\u001b[1mCalibration required for Node resonator_spectroscopy_1\u001b[0m\n",
      "2024-01-20 16:34:09,882 ◆ calibration_supervisor.py ◆ Calibrating node resonator_spectroscopy_1\n",
      " kwargs = {'couplers': ['q21_q22']}\n",
      "2024-01-20 16:34:10,102 ◆ compilation_worker.py ◆ Starting Compiling\n",
      "2024-01-20 16:34:10,551 ◆ measurement_utils.py ◆ Starting measurement\n",
      " schedule_duration = 20.626010111999985\n",
      "multiplexed_resonator_spectroscopy: 100%|\u001b[34m█████\u001b[0m| 103/103 [00:20<00:00,  4.99it/s]\u001b[0m\n",
      "2024-01-20 16:34:33,115 ◆ measurement_utils.py ◆ Raw dataset acquired\n",
      "2024-01-20 16:34:33,132 ◆ execution_worker.py ◆ Finished measurement\n",
      "2024-01-20 16:34:33,132 ◆ calibration_supervisor.py ◆ measurement completed\n",
      "2024-01-20 16:34:41,069 ◆ calibration_supervisor.py ◆ analysis completed\n",
      "2024-01-20 16:34:41,070 ◆ calibration_supervisor.py ◆ resonator_spectroscopy_1 node is completed\n",
      "2024-01-20 16:34:41,070 ◆ calibration_supervisor.py ◆ Inspecting node qubit_12_spectroscopy_multidim\n",
      "⚑⚑⚑ \u001b[31m\u001b[1mCalibration required for Node qubit_12_spectroscopy_multidim\u001b[0m\n",
      "2024-01-20 16:34:41,071 ◆ calibration_supervisor.py ◆ Calibrating node qubit_12_spectroscopy_multidim\n",
      " kwargs = {'couplers': ['q21_q22']}\n",
      "2024-01-20 16:34:41,289 ◆ compilation_worker.py ◆ Starting Compiling\n",
      "2024-01-20 16:34:42,274 ◆ measurement_utils.py ◆ Starting measurement\n",
      " schedule_duration = 38.84088115200009\n",
      "multiplexed_qubit_spec: 100%|\u001b[34m█████████████████\u001b[0m| 194/194 [00:38<00:00,  4.99it/s]\u001b[0m\n",
      "2024-01-20 16:35:24,352 ◆ measurement_utils.py ◆ Raw dataset acquired\n",
      "2024-01-20 16:35:24,378 ◆ execution_worker.py ◆ Finished measurement\n",
      "2024-01-20 16:35:24,378 ◆ calibration_supervisor.py ◆ measurement completed\n",
      "2024-01-20 16:35:32,096 ◆ calibration_supervisor.py ◆ analysis completed\n",
      "2024-01-20 16:35:32,096 ◆ calibration_supervisor.py ◆ qubit_12_spectroscopy_multidim node is completed\n",
      "2024-01-20 16:35:32,096 ◆ calibration_supervisor.py ◆ Inspecting node rabi_oscillations_12\n",
      "⚑⚑⚑ \u001b[31m\u001b[1mCalibration required for Node rabi_oscillations_12\u001b[0m\n",
      "2024-01-20 16:35:32,098 ◆ calibration_supervisor.py ◆ Calibrating node rabi_oscillations_12\n",
      " kwargs = {'couplers': ['q21_q22']}\n",
      "2024-01-20 16:35:32,237 ◆ compilation_worker.py ◆ Starting Compiling\n",
      "2024-01-20 16:35:32,547 ◆ measurement_utils.py ◆ Starting measurement\n",
      " schedule_duration = 13.613301759999985\n",
      "multiplexed_rabi_12: 100%|\u001b[34m██████████████████████\u001b[0m| 68/68 [00:13<00:00,  4.99it/s]\u001b[0m\n",
      "2024-01-20 16:35:48,268 ◆ measurement_utils.py ◆ Raw dataset acquired\n",
      "2024-01-20 16:35:48,284 ◆ execution_worker.py ◆ Finished measurement\n",
      "2024-01-20 16:35:48,284 ◆ calibration_supervisor.py ◆ measurement completed\n",
      "2024-01-20 16:35:56,017 ◆ calibration_supervisor.py ◆ analysis completed\n",
      "2024-01-20 16:35:56,018 ◆ calibration_supervisor.py ◆ rabi_oscillations_12 node is completed\n",
      "2024-01-20 16:35:56,018 ◆ calibration_supervisor.py ◆ Inspecting node cz_chevron\n",
      "⚑⚑⚑ \u001b[31m\u001b[1mCalibration required for Node cz_chevron\u001b[0m\n",
      "2024-01-20 16:35:56,018 ◆ calibration_supervisor.py ◆ Calibrating node cz_chevron\n",
      " kwargs = {'couplers': ['q21_q22']}\n",
      " ac_freq/1e6 = 217.2 MHz\n",
      " self.coupled_qubits = ['q21', 'q22']\n",
      "cz_pulse_amplitude = {'q21_q22': 0.3}\n",
      "2024-01-20 16:35:56,229 ◆ compilation_worker.py ◆ Starting Compiling\n",
      "2024-01-20 16:35:56,810 ◆ measurement_utils.py ◆ Starting measurement\n",
      " schedule_duration = 181.77131315199927\n",
      "CZ_chevron: 100%|\u001b[34m█████████████████████████████\u001b[0m| 908/908 [03:02<00:00,  4.99it/s]\u001b[0m\n",
      "2024-01-20 16:39:00,202 ◆ measurement_utils.py ◆ Raw dataset acquired\n",
      "2024-01-20 16:39:00,208 ◆ execution_worker.py ◆ Finished measurement\n",
      "2024-01-20 16:39:00,209 ◆ calibration_supervisor.py ◆ measurement completed\n",
      "You should probably enlarge your sweep range. The optimial point is not in the current range.\n",
      "/home/loke-c/anaconda3/envs/tac/lib/python3.9/site-packages/scipy/optimize/_minpack_py.py:494: RuntimeWarning: Number of calls to function has reached maxfev = 1000.\n",
      "  warnings.warn(errors[info][0], RuntimeWarning)\n",
      "np.min(coupling_strength): 0.001190545372871826\n",
      "np.min(data_fit): 0.001174471935540705\n",
      "2024-01-20 16:39:05,898 ◆ calibration_supervisor.py ◆ analysis completed\n",
      "2024-01-20 16:39:05,898 ◆ calibration_supervisor.py ◆ cz_chevron node is completed\n",
      "\u001b[0m--------------------------------------------\n",
      "parking_current = 0.00075\n",
      "--------------------------------------------\n",
      "ramping 0.0006999969482421875\n",
      "ramping 0.0007179260253906243\n",
      "ramping 0.0007379531860351556\n",
      "Finished ramping\n",
      " parking_current = 0.00075\n",
      " dac.current() = 0.0007499694824218764\n",
      " remove_node = 'all'\n",
      "clusterA_module13_att:40dB\n",
      "clusterA_module17_att:6dB\n",
      "2024-01-20 16:39:13,548 ◆ calibration_supervisor.py ◆ Starting System Calibration\n",
      "╔════════════════════════════════════════════════════════════════════════════════════════════════╗\n",
      "║ Qubits: 10                                                                                     ║\n",
      "║↪ resonator_spectroscopy                                                                        ║\n",
      "║           ↪ qubit_01_spectroscopy_multidim                                                     ║\n",
      "║                          ↪ rabi_oscillations                                                   ║\n",
      "║                                  ↪ resonator_spectroscopy_1                                    ║\n",
      "║                                              ↪ qubit_12_spectroscopy_multidim                  ║\n",
      "║                                                             ↪ rabi_oscillations_12             ║\n",
      "║                                                                       ↪ cz_chevron             ║\n",
      "╚════════════════════════════════════════════════════════════════════════════════════════════════╝\n",
      "2024-01-20 16:39:13,609 ◆ calibration_supervisor.py ◆ Inspecting node resonator_spectroscopy\n",
      "⚑⚑⚑ \u001b[31m\u001b[1mCalibration required for Node resonator_spectroscopy\u001b[0m\n",
      "2024-01-20 16:39:13,611 ◆ calibration_supervisor.py ◆ Calibrating node resonator_spectroscopy\n",
      " kwargs = {'couplers': ['q21_q22']}\n",
      "2024-01-20 16:39:13,901 ◆ compilation_worker.py ◆ Starting Compiling\n",
      "2024-01-20 16:39:14,107 ◆ measurement_utils.py ◆ Starting measurement\n",
      " schedule_duration = 5.3257912320000145\n",
      "multiplexed_resonator_spectroscopy: 100%|\u001b[34m███████\u001b[0m| 26/26 [00:05<00:00,  4.99it/s]\u001b[0m\n",
      "2024-01-20 16:39:22,873 ◆ measurement_utils.py ◆ Raw dataset acquired\n",
      "2024-01-20 16:39:22,898 ◆ execution_worker.py ◆ Finished measurement\n",
      "2024-01-20 16:39:22,898 ◆ calibration_supervisor.py ◆ measurement completed\n",
      "2024-01-20 16:39:30,794 ◆ calibration_supervisor.py ◆ analysis completed\n",
      "2024-01-20 16:39:30,794 ◆ calibration_supervisor.py ◆ resonator_spectroscopy node is completed\n",
      "2024-01-20 16:39:30,794 ◆ calibration_supervisor.py ◆ Inspecting node qubit_01_spectroscopy_multidim\n",
      "⚑⚑⚑ \u001b[31m\u001b[1mCalibration required for Node qubit_01_spectroscopy_multidim\u001b[0m\n",
      "2024-01-20 16:39:30,797 ◆ calibration_supervisor.py ◆ Calibrating node qubit_01_spectroscopy_multidim\n",
      " kwargs = {'couplers': ['q21_q22']}\n",
      "2024-01-20 16:39:31,124 ◆ compilation_worker.py ◆ Starting Compiling\n",
      "2024-01-20 16:39:31,701 ◆ measurement_utils.py ◆ Starting measurement\n",
      " schedule_duration = 19.51306547199993\n",
      "multiplexed_qubit_spec: 100%|\u001b[34m███████████████████\u001b[0m| 97/97 [00:19<00:00,  4.99it/s]\u001b[0m\n",
      "2024-01-20 16:39:53,933 ◆ measurement_utils.py ◆ Raw dataset acquired\n",
      "2024-01-20 16:39:53,959 ◆ execution_worker.py ◆ Finished measurement\n",
      "2024-01-20 16:39:53,959 ◆ calibration_supervisor.py ◆ measurement completed\n",
      "2024-01-20 16:40:01,695 ◆ calibration_supervisor.py ◆ analysis completed\n",
      "2024-01-20 16:40:01,695 ◆ calibration_supervisor.py ◆ qubit_01_spectroscopy_multidim node is completed\n",
      "2024-01-20 16:40:01,696 ◆ calibration_supervisor.py ◆ Inspecting node rabi_oscillations\n",
      "⚑⚑⚑ \u001b[31m\u001b[1mCalibration required for Node rabi_oscillations\u001b[0m\n",
      "2024-01-20 16:40:01,697 ◆ calibration_supervisor.py ◆ Calibrating node rabi_oscillations\n",
      " kwargs = {'couplers': ['q21_q22']}\n",
      "2024-01-20 16:40:01,845 ◆ compilation_worker.py ◆ Starting Compiling\n",
      "2024-01-20 16:40:02,094 ◆ measurement_utils.py ◆ Starting measurement\n",
      " schedule_duration = 30.120366079999997\n",
      "multiplexed_rabi_01: 100%|\u001b[34m████████████████████\u001b[0m| 150/150 [00:30<00:00,  4.99it/s]\u001b[0m\n",
      "2024-01-20 16:40:34,089 ◆ measurement_utils.py ◆ Raw dataset acquired\n",
      "2024-01-20 16:40:34,106 ◆ execution_worker.py ◆ Finished measurement\n",
      "2024-01-20 16:40:34,106 ◆ calibration_supervisor.py ◆ measurement completed\n",
      "2024-01-20 16:40:41,996 ◆ calibration_supervisor.py ◆ analysis completed\n",
      "2024-01-20 16:40:41,997 ◆ calibration_supervisor.py ◆ rabi_oscillations node is completed\n",
      "2024-01-20 16:40:41,997 ◆ calibration_supervisor.py ◆ Inspecting node resonator_spectroscopy_1\n",
      "⚑⚑⚑ \u001b[31m\u001b[1mCalibration required for Node resonator_spectroscopy_1\u001b[0m\n",
      "2024-01-20 16:40:41,999 ◆ calibration_supervisor.py ◆ Calibrating node resonator_spectroscopy_1\n",
      " kwargs = {'couplers': ['q21_q22']}\n",
      "2024-01-20 16:40:42,220 ◆ compilation_worker.py ◆ Starting Compiling\n",
      "2024-01-20 16:40:42,662 ◆ measurement_utils.py ◆ Starting measurement\n",
      " schedule_duration = 20.626010111999985\n",
      "multiplexed_resonator_spectroscopy: 100%|\u001b[34m█████\u001b[0m| 103/103 [00:20<00:00,  4.99it/s]\u001b[0m\n",
      "2024-01-20 16:41:05,241 ◆ measurement_utils.py ◆ Raw dataset acquired\n",
      "2024-01-20 16:41:05,258 ◆ execution_worker.py ◆ Finished measurement\n",
      "2024-01-20 16:41:05,258 ◆ calibration_supervisor.py ◆ measurement completed\n",
      "2024-01-20 16:41:13,220 ◆ calibration_supervisor.py ◆ analysis completed\n",
      "2024-01-20 16:41:13,220 ◆ calibration_supervisor.py ◆ resonator_spectroscopy_1 node is completed\n",
      "2024-01-20 16:41:13,220 ◆ calibration_supervisor.py ◆ Inspecting node qubit_12_spectroscopy_multidim\n",
      "⚑⚑⚑ \u001b[31m\u001b[1mCalibration required for Node qubit_12_spectroscopy_multidim\u001b[0m\n",
      "2024-01-20 16:41:13,222 ◆ calibration_supervisor.py ◆ Calibrating node qubit_12_spectroscopy_multidim\n",
      " kwargs = {'couplers': ['q21_q22']}\n",
      "2024-01-20 16:41:13,437 ◆ compilation_worker.py ◆ Starting Compiling\n",
      "2024-01-20 16:41:14,418 ◆ measurement_utils.py ◆ Starting measurement\n",
      " schedule_duration = 38.84088115200009\n",
      "multiplexed_qubit_spec: 100%|\u001b[34m█████████████████\u001b[0m| 194/194 [00:38<00:00,  4.99it/s]\u001b[0m\n",
      "2024-01-20 16:41:56,525 ◆ measurement_utils.py ◆ Raw dataset acquired\n",
      "2024-01-20 16:41:56,551 ◆ execution_worker.py ◆ Finished measurement\n",
      "2024-01-20 16:41:56,551 ◆ calibration_supervisor.py ◆ measurement completed\n",
      "2024-01-20 16:42:04,213 ◆ calibration_supervisor.py ◆ analysis completed\n",
      "2024-01-20 16:42:04,214 ◆ calibration_supervisor.py ◆ qubit_12_spectroscopy_multidim node is completed\n",
      "2024-01-20 16:42:04,214 ◆ calibration_supervisor.py ◆ Inspecting node rabi_oscillations_12\n",
      "⚑⚑⚑ \u001b[31m\u001b[1mCalibration required for Node rabi_oscillations_12\u001b[0m\n",
      "2024-01-20 16:42:04,215 ◆ calibration_supervisor.py ◆ Calibrating node rabi_oscillations_12\n",
      " kwargs = {'couplers': ['q21_q22']}\n",
      "2024-01-20 16:42:04,519 ◆ compilation_worker.py ◆ Starting Compiling\n",
      "2024-01-20 16:42:04,660 ◆ measurement_utils.py ◆ Starting measurement\n",
      " schedule_duration = 13.613301759999985\n",
      "multiplexed_rabi_12: 100%|\u001b[34m██████████████████████\u001b[0m| 68/68 [00:13<00:00,  4.99it/s]\u001b[0m\n",
      "2024-01-20 16:42:20,328 ◆ measurement_utils.py ◆ Raw dataset acquired\n",
      "2024-01-20 16:42:20,345 ◆ execution_worker.py ◆ Finished measurement\n",
      "2024-01-20 16:42:20,345 ◆ calibration_supervisor.py ◆ measurement completed\n",
      "2024-01-20 16:42:28,135 ◆ calibration_supervisor.py ◆ analysis completed\n",
      "2024-01-20 16:42:28,135 ◆ calibration_supervisor.py ◆ rabi_oscillations_12 node is completed\n",
      "2024-01-20 16:42:28,135 ◆ calibration_supervisor.py ◆ Inspecting node cz_chevron\n",
      "⚑⚑⚑ \u001b[31m\u001b[1mCalibration required for Node cz_chevron\u001b[0m\n",
      "2024-01-20 16:42:28,135 ◆ calibration_supervisor.py ◆ Calibrating node cz_chevron\n",
      " kwargs = {'couplers': ['q21_q22']}\n",
      " ac_freq/1e6 = 217.2 MHz\n",
      " self.coupled_qubits = ['q21', 'q22']\n",
      "cz_pulse_amplitude = {'q21_q22': 0.3}\n",
      "2024-01-20 16:42:28,337 ◆ compilation_worker.py ◆ Starting Compiling\n",
      "2024-01-20 16:42:28,927 ◆ measurement_utils.py ◆ Starting measurement\n",
      " schedule_duration = 181.77131315199927\n",
      "CZ_chevron: 100%|\u001b[34m█████████████████████████████\u001b[0m| 908/908 [03:02<00:00,  4.99it/s]\u001b[0m\n",
      "2024-01-20 16:45:32,321 ◆ measurement_utils.py ◆ Raw dataset acquired\n",
      "2024-01-20 16:45:32,327 ◆ execution_worker.py ◆ Finished measurement\n",
      "2024-01-20 16:45:32,328 ◆ calibration_supervisor.py ◆ measurement completed\n",
      "/home/loke-c/anaconda3/envs/tac/lib/python3.9/site-packages/scipy/optimize/_minpack_py.py:494: RuntimeWarning: Number of calls to function has reached maxfev = 1000.\n",
      "  warnings.warn(errors[info][0], RuntimeWarning)\n",
      "You should probably enlarge your sweep range. The optimial point is not in the current range.\n",
      "You should probably enlarge your sweep range. The optimial point is not in the current range.\n",
      "2024-01-20 16:45:38,106 ◆ calibration_supervisor.py ◆ analysis completed\n",
      "2024-01-20 16:45:38,106 ◆ calibration_supervisor.py ◆ cz_chevron node is completed\n",
      "\u001b[0m--------------------------------------------\n",
      "parking_current = 0.0007999999999999999\n",
      "--------------------------------------------\n",
      "ramping 0.0007499694824218764\n",
      "ramping 0.0007678985595703132\n",
      "ramping 0.0007879257202148444\n",
      "Finished ramping\n",
      " parking_current = 0.0007999999999999999\n",
      " dac.current() = 0.0007999420166015618\n",
      " remove_node = 'all'\n",
      "clusterA_module13_att:40dB\n",
      "clusterA_module17_att:6dB\n",
      "2024-01-20 16:45:45,785 ◆ calibration_supervisor.py ◆ Starting System Calibration\n",
      "╔════════════════════════════════════════════════════════════════════════════════════════════════╗\n",
      "║ Qubits: 10                                                                                     ║\n",
      "║↪ resonator_spectroscopy                                                                        ║\n",
      "║           ↪ qubit_01_spectroscopy_multidim                                                     ║\n",
      "║                          ↪ rabi_oscillations                                                   ║\n",
      "║                                  ↪ resonator_spectroscopy_1                                    ║\n",
      "║                                              ↪ qubit_12_spectroscopy_multidim                  ║\n",
      "║                                                             ↪ rabi_oscillations_12             ║\n",
      "║                                                                       ↪ cz_chevron             ║\n",
      "╚════════════════════════════════════════════════════════════════════════════════════════════════╝\n",
      "2024-01-20 16:45:45,844 ◆ calibration_supervisor.py ◆ Inspecting node resonator_spectroscopy\n",
      "⚑⚑⚑ \u001b[31m\u001b[1mCalibration required for Node resonator_spectroscopy\u001b[0m\n",
      "2024-01-20 16:45:45,846 ◆ calibration_supervisor.py ◆ Calibrating node resonator_spectroscopy\n",
      " kwargs = {'couplers': ['q21_q22']}\n",
      "2024-01-20 16:45:46,141 ◆ compilation_worker.py ◆ Starting Compiling\n",
      "2024-01-20 16:45:46,340 ◆ measurement_utils.py ◆ Starting measurement\n",
      " schedule_duration = 5.3257912320000145\n",
      "multiplexed_resonator_spectroscopy: 100%|\u001b[34m███████\u001b[0m| 26/26 [00:05<00:00,  4.99it/s]\u001b[0m\n",
      "2024-01-20 16:45:55,116 ◆ measurement_utils.py ◆ Raw dataset acquired\n",
      "2024-01-20 16:45:55,142 ◆ execution_worker.py ◆ Finished measurement\n",
      "2024-01-20 16:45:55,142 ◆ calibration_supervisor.py ◆ measurement completed\n",
      "2024-01-20 16:46:03,068 ◆ calibration_supervisor.py ◆ analysis completed\n",
      "2024-01-20 16:46:03,068 ◆ calibration_supervisor.py ◆ resonator_spectroscopy node is completed\n",
      "2024-01-20 16:46:03,068 ◆ calibration_supervisor.py ◆ Inspecting node qubit_01_spectroscopy_multidim\n",
      "⚑⚑⚑ \u001b[31m\u001b[1mCalibration required for Node qubit_01_spectroscopy_multidim\u001b[0m\n",
      "2024-01-20 16:46:03,071 ◆ calibration_supervisor.py ◆ Calibrating node qubit_01_spectroscopy_multidim\n",
      " kwargs = {'couplers': ['q21_q22']}\n",
      "2024-01-20 16:46:03,397 ◆ compilation_worker.py ◆ Starting Compiling\n",
      "2024-01-20 16:46:03,959 ◆ measurement_utils.py ◆ Starting measurement\n",
      " schedule_duration = 19.51306547199993\n",
      "multiplexed_qubit_spec: 100%|\u001b[34m███████████████████\u001b[0m| 97/97 [00:19<00:00,  4.99it/s]\u001b[0m\n",
      "2024-01-20 16:46:26,175 ◆ measurement_utils.py ◆ Raw dataset acquired\n",
      "2024-01-20 16:46:26,200 ◆ execution_worker.py ◆ Finished measurement\n",
      "2024-01-20 16:46:26,200 ◆ calibration_supervisor.py ◆ measurement completed\n",
      "2024-01-20 16:46:34,106 ◆ calibration_supervisor.py ◆ analysis completed\n",
      "2024-01-20 16:46:34,106 ◆ calibration_supervisor.py ◆ qubit_01_spectroscopy_multidim node is completed\n",
      "2024-01-20 16:46:34,106 ◆ calibration_supervisor.py ◆ Inspecting node rabi_oscillations\n",
      "⚑⚑⚑ \u001b[31m\u001b[1mCalibration required for Node rabi_oscillations\u001b[0m\n",
      "2024-01-20 16:46:34,107 ◆ calibration_supervisor.py ◆ Calibrating node rabi_oscillations\n",
      " kwargs = {'couplers': ['q21_q22']}\n",
      "2024-01-20 16:46:34,265 ◆ compilation_worker.py ◆ Starting Compiling\n",
      "2024-01-20 16:46:34,514 ◆ measurement_utils.py ◆ Starting measurement\n",
      " schedule_duration = 30.120366079999997\n",
      "multiplexed_rabi_01: 100%|\u001b[34m████████████████████\u001b[0m| 150/150 [00:30<00:00,  4.99it/s]\u001b[0m\n",
      "2024-01-20 16:47:06,488 ◆ measurement_utils.py ◆ Raw dataset acquired\n",
      "2024-01-20 16:47:06,506 ◆ execution_worker.py ◆ Finished measurement\n",
      "2024-01-20 16:47:06,506 ◆ calibration_supervisor.py ◆ measurement completed\n",
      "2024-01-20 16:47:14,399 ◆ calibration_supervisor.py ◆ analysis completed\n",
      "2024-01-20 16:47:14,399 ◆ calibration_supervisor.py ◆ rabi_oscillations node is completed\n",
      "2024-01-20 16:47:14,399 ◆ calibration_supervisor.py ◆ Inspecting node resonator_spectroscopy_1\n",
      "⚑⚑⚑ \u001b[31m\u001b[1mCalibration required for Node resonator_spectroscopy_1\u001b[0m\n",
      "2024-01-20 16:47:14,402 ◆ calibration_supervisor.py ◆ Calibrating node resonator_spectroscopy_1\n",
      " kwargs = {'couplers': ['q21_q22']}\n",
      "2024-01-20 16:47:14,613 ◆ compilation_worker.py ◆ Starting Compiling\n",
      "2024-01-20 16:47:15,057 ◆ measurement_utils.py ◆ Starting measurement\n",
      " schedule_duration = 20.626010111999985\n",
      "multiplexed_resonator_spectroscopy: 100%|\u001b[34m█████\u001b[0m| 103/103 [00:20<00:00,  4.99it/s]\u001b[0m\n",
      "2024-01-20 16:47:37,612 ◆ measurement_utils.py ◆ Raw dataset acquired\n",
      "2024-01-20 16:47:37,628 ◆ execution_worker.py ◆ Finished measurement\n",
      "2024-01-20 16:47:37,628 ◆ calibration_supervisor.py ◆ measurement completed\n",
      "2024-01-20 16:47:45,620 ◆ calibration_supervisor.py ◆ analysis completed\n",
      "2024-01-20 16:47:45,620 ◆ calibration_supervisor.py ◆ resonator_spectroscopy_1 node is completed\n",
      "2024-01-20 16:47:45,620 ◆ calibration_supervisor.py ◆ Inspecting node qubit_12_spectroscopy_multidim\n",
      "⚑⚑⚑ \u001b[31m\u001b[1mCalibration required for Node qubit_12_spectroscopy_multidim\u001b[0m\n",
      "2024-01-20 16:47:45,622 ◆ calibration_supervisor.py ◆ Calibrating node qubit_12_spectroscopy_multidim\n",
      " kwargs = {'couplers': ['q21_q22']}\n",
      "2024-01-20 16:47:45,831 ◆ compilation_worker.py ◆ Starting Compiling\n",
      "2024-01-20 16:47:46,820 ◆ measurement_utils.py ◆ Starting measurement\n",
      " schedule_duration = 38.84088115200009\n",
      "multiplexed_qubit_spec: 100%|\u001b[34m█████████████████\u001b[0m| 194/194 [00:38<00:00,  4.99it/s]\u001b[0m\n",
      "2024-01-20 16:48:28,871 ◆ measurement_utils.py ◆ Raw dataset acquired\n",
      "2024-01-20 16:48:28,897 ◆ execution_worker.py ◆ Finished measurement\n",
      "2024-01-20 16:48:28,897 ◆ calibration_supervisor.py ◆ measurement completed\n",
      "2024-01-20 16:48:36,660 ◆ calibration_supervisor.py ◆ analysis completed\n",
      "2024-01-20 16:48:36,660 ◆ calibration_supervisor.py ◆ qubit_12_spectroscopy_multidim node is completed\n",
      "2024-01-20 16:48:36,660 ◆ calibration_supervisor.py ◆ Inspecting node rabi_oscillations_12\n",
      "⚑⚑⚑ \u001b[31m\u001b[1mCalibration required for Node rabi_oscillations_12\u001b[0m\n",
      "2024-01-20 16:48:36,662 ◆ calibration_supervisor.py ◆ Calibrating node rabi_oscillations_12\n",
      " kwargs = {'couplers': ['q21_q22']}\n",
      "2024-01-20 16:48:36,802 ◆ compilation_worker.py ◆ Starting Compiling\n",
      "2024-01-20 16:48:37,107 ◆ measurement_utils.py ◆ Starting measurement\n",
      " schedule_duration = 13.613301759999985\n",
      "multiplexed_rabi_12: 100%|\u001b[34m██████████████████████\u001b[0m| 68/68 [00:13<00:00,  4.99it/s]\u001b[0m\n",
      "2024-01-20 16:48:52,790 ◆ measurement_utils.py ◆ Raw dataset acquired\n",
      "2024-01-20 16:48:52,807 ◆ execution_worker.py ◆ Finished measurement\n",
      "2024-01-20 16:48:52,807 ◆ calibration_supervisor.py ◆ measurement completed\n",
      "2024-01-20 16:49:00,562 ◆ calibration_supervisor.py ◆ analysis completed\n",
      "2024-01-20 16:49:00,562 ◆ calibration_supervisor.py ◆ rabi_oscillations_12 node is completed\n",
      "2024-01-20 16:49:00,562 ◆ calibration_supervisor.py ◆ Inspecting node cz_chevron\n",
      "⚑⚑⚑ \u001b[31m\u001b[1mCalibration required for Node cz_chevron\u001b[0m\n",
      "2024-01-20 16:49:00,563 ◆ calibration_supervisor.py ◆ Calibrating node cz_chevron\n",
      " kwargs = {'couplers': ['q21_q22']}\n",
      " ac_freq/1e6 = 217.53333333333302 MHz\n",
      " self.coupled_qubits = ['q21', 'q22']\n",
      "cz_pulse_amplitude = {'q21_q22': 0.3}\n",
      "2024-01-20 16:49:00,760 ◆ compilation_worker.py ◆ Starting Compiling\n",
      "2024-01-20 16:49:01,352 ◆ measurement_utils.py ◆ Starting measurement\n",
      " schedule_duration = 181.77131315199927\n",
      "CZ_chevron: 100%|\u001b[34m█████████████████████████████\u001b[0m| 908/908 [03:02<00:00,  4.99it/s]\u001b[0m\n",
      "2024-01-20 16:52:04,757 ◆ measurement_utils.py ◆ Raw dataset acquired\n",
      "2024-01-20 16:52:04,763 ◆ execution_worker.py ◆ Finished measurement\n",
      "2024-01-20 16:52:04,763 ◆ calibration_supervisor.py ◆ measurement completed\n",
      "/home/loke-c/anaconda3/envs/tac/lib/python3.9/site-packages/scipy/optimize/_minpack_py.py:494: RuntimeWarning: Number of calls to function has reached maxfev = 1000.\n",
      "  warnings.warn(errors[info][0], RuntimeWarning)\n",
      "You should probably enlarge your sweep range. The optimial point is not in the current range.\n",
      "You should probably enlarge your sweep range. The optimial point is not in the current range.\n",
      "2024-01-20 16:52:10,463 ◆ calibration_supervisor.py ◆ analysis completed\n",
      "2024-01-20 16:52:10,464 ◆ calibration_supervisor.py ◆ cz_chevron node is completed\n",
      "\u001b[0m--------------------------------------------\n",
      "parking_current = 0.00085\n",
      "--------------------------------------------\n",
      "ramping 0.0007999420166015618\n",
      "ramping 0.0008178710937499986\n",
      "ramping 0.0008378982543945299\n",
      "Finished ramping\n",
      " parking_current = 0.00085\n",
      " dac.current() = 0.0008499145507812507\n",
      " remove_node = 'all'\n",
      "clusterA_module13_att:40dB\n",
      "clusterA_module17_att:6dB\n",
      "2024-01-20 16:52:18,166 ◆ calibration_supervisor.py ◆ Starting System Calibration\n",
      "╔════════════════════════════════════════════════════════════════════════════════════════════════╗\n",
      "║ Qubits: 10                                                                                     ║\n",
      "║↪ resonator_spectroscopy                                                                        ║\n",
      "║           ↪ qubit_01_spectroscopy_multidim                                                     ║\n",
      "║                          ↪ rabi_oscillations                                                   ║\n",
      "║                                  ↪ resonator_spectroscopy_1                                    ║\n",
      "║                                              ↪ qubit_12_spectroscopy_multidim                  ║\n",
      "║                                                             ↪ rabi_oscillations_12             ║\n",
      "║                                                                       ↪ cz_chevron             ║\n",
      "╚════════════════════════════════════════════════════════════════════════════════════════════════╝\n",
      "2024-01-20 16:52:18,226 ◆ calibration_supervisor.py ◆ Inspecting node resonator_spectroscopy\n",
      "⚑⚑⚑ \u001b[31m\u001b[1mCalibration required for Node resonator_spectroscopy\u001b[0m\n",
      "2024-01-20 16:52:18,228 ◆ calibration_supervisor.py ◆ Calibrating node resonator_spectroscopy\n",
      " kwargs = {'couplers': ['q21_q22']}\n",
      "2024-01-20 16:52:18,531 ◆ compilation_worker.py ◆ Starting Compiling\n",
      "2024-01-20 16:52:18,744 ◆ measurement_utils.py ◆ Starting measurement\n",
      " schedule_duration = 5.3257912320000145\n",
      "multiplexed_resonator_spectroscopy: 100%|\u001b[34m███████\u001b[0m| 26/26 [00:05<00:00,  4.99it/s]\u001b[0m\n",
      "2024-01-20 16:52:27,475 ◆ measurement_utils.py ◆ Raw dataset acquired\n",
      "2024-01-20 16:52:27,501 ◆ execution_worker.py ◆ Finished measurement\n",
      "2024-01-20 16:52:27,501 ◆ calibration_supervisor.py ◆ measurement completed\n",
      "2024-01-20 16:52:34,814 ◆ calibration_supervisor.py ◆ analysis completed\n",
      "2024-01-20 16:52:34,814 ◆ calibration_supervisor.py ◆ resonator_spectroscopy node is completed\n",
      "2024-01-20 16:52:34,814 ◆ calibration_supervisor.py ◆ Inspecting node qubit_01_spectroscopy_multidim\n",
      "⚑⚑⚑ \u001b[31m\u001b[1mCalibration required for Node qubit_01_spectroscopy_multidim\u001b[0m\n",
      "2024-01-20 16:52:34,817 ◆ calibration_supervisor.py ◆ Calibrating node qubit_01_spectroscopy_multidim\n",
      " kwargs = {'couplers': ['q21_q22']}\n",
      "2024-01-20 16:52:35,147 ◆ compilation_worker.py ◆ Starting Compiling\n",
      "2024-01-20 16:52:35,726 ◆ measurement_utils.py ◆ Starting measurement\n",
      " schedule_duration = 19.51306547199993\n",
      "multiplexed_qubit_spec: 100%|\u001b[34m███████████████████\u001b[0m| 97/97 [00:19<00:00,  4.99it/s]\u001b[0m\n",
      "2024-01-20 16:52:57,983 ◆ measurement_utils.py ◆ Raw dataset acquired\n",
      "2024-01-20 16:52:58,009 ◆ execution_worker.py ◆ Finished measurement\n",
      "2024-01-20 16:52:58,009 ◆ calibration_supervisor.py ◆ measurement completed\n",
      "2024-01-20 16:53:04,532 ◆ calibration_supervisor.py ◆ analysis completed\n",
      "2024-01-20 16:53:04,532 ◆ calibration_supervisor.py ◆ qubit_01_spectroscopy_multidim node is completed\n",
      "2024-01-20 16:53:04,532 ◆ calibration_supervisor.py ◆ Inspecting node rabi_oscillations\n",
      "⚑⚑⚑ \u001b[31m\u001b[1mCalibration required for Node rabi_oscillations\u001b[0m\n",
      "2024-01-20 16:53:04,534 ◆ calibration_supervisor.py ◆ Calibrating node rabi_oscillations\n",
      " kwargs = {'couplers': ['q21_q22']}\n",
      "2024-01-20 16:53:04,684 ◆ compilation_worker.py ◆ Starting Compiling\n",
      "2024-01-20 16:53:04,927 ◆ measurement_utils.py ◆ Starting measurement\n",
      " schedule_duration = 30.120366079999997\n",
      "multiplexed_rabi_01: 100%|\u001b[34m████████████████████\u001b[0m| 150/150 [00:30<00:00,  4.99it/s]\u001b[0m\n",
      "2024-01-20 16:53:36,956 ◆ measurement_utils.py ◆ Raw dataset acquired\n",
      "2024-01-20 16:53:36,974 ◆ execution_worker.py ◆ Finished measurement\n",
      "2024-01-20 16:53:36,974 ◆ calibration_supervisor.py ◆ measurement completed\n",
      "2024-01-20 16:53:45,009 ◆ calibration_supervisor.py ◆ analysis completed\n",
      "2024-01-20 16:53:45,010 ◆ calibration_supervisor.py ◆ rabi_oscillations node is completed\n",
      "2024-01-20 16:53:45,010 ◆ calibration_supervisor.py ◆ Inspecting node resonator_spectroscopy_1\n",
      "⚑⚑⚑ \u001b[31m\u001b[1mCalibration required for Node resonator_spectroscopy_1\u001b[0m\n",
      "2024-01-20 16:53:45,012 ◆ calibration_supervisor.py ◆ Calibrating node resonator_spectroscopy_1\n",
      " kwargs = {'couplers': ['q21_q22']}\n",
      "2024-01-20 16:53:45,240 ◆ compilation_worker.py ◆ Starting Compiling\n",
      "2024-01-20 16:53:45,536 ◆ measurement_utils.py ◆ Starting measurement\n",
      " schedule_duration = 20.626010111999985\n",
      "multiplexed_resonator_spectroscopy: 100%|\u001b[34m█████\u001b[0m| 103/103 [00:20<00:00,  4.99it/s]\u001b[0m\n",
      "2024-01-20 16:54:08,131 ◆ measurement_utils.py ◆ Raw dataset acquired\n",
      "2024-01-20 16:54:08,148 ◆ execution_worker.py ◆ Finished measurement\n",
      "2024-01-20 16:54:08,148 ◆ calibration_supervisor.py ◆ measurement completed\n",
      "2024-01-20 16:54:16,384 ◆ calibration_supervisor.py ◆ analysis completed\n",
      "2024-01-20 16:54:16,384 ◆ calibration_supervisor.py ◆ resonator_spectroscopy_1 node is completed\n",
      "2024-01-20 16:54:16,384 ◆ calibration_supervisor.py ◆ Inspecting node qubit_12_spectroscopy_multidim\n",
      "⚑⚑⚑ \u001b[31m\u001b[1mCalibration required for Node qubit_12_spectroscopy_multidim\u001b[0m\n",
      "2024-01-20 16:54:16,385 ◆ calibration_supervisor.py ◆ Calibrating node qubit_12_spectroscopy_multidim\n",
      " kwargs = {'couplers': ['q21_q22']}\n",
      "2024-01-20 16:54:16,594 ◆ compilation_worker.py ◆ Starting Compiling\n",
      "2024-01-20 16:54:17,608 ◆ measurement_utils.py ◆ Starting measurement\n",
      " schedule_duration = 38.84088115200009\n",
      "multiplexed_qubit_spec: 100%|\u001b[34m█████████████████\u001b[0m| 194/194 [00:38<00:00,  4.99it/s]\u001b[0m\n",
      "2024-01-20 16:54:59,698 ◆ measurement_utils.py ◆ Raw dataset acquired\n",
      "2024-01-20 16:54:59,724 ◆ execution_worker.py ◆ Finished measurement\n",
      "2024-01-20 16:54:59,724 ◆ calibration_supervisor.py ◆ measurement completed\n",
      "2024-01-20 16:55:06,604 ◆ calibration_supervisor.py ◆ analysis completed\n",
      "2024-01-20 16:55:06,604 ◆ calibration_supervisor.py ◆ qubit_12_spectroscopy_multidim node is completed\n",
      "2024-01-20 16:55:06,605 ◆ calibration_supervisor.py ◆ Inspecting node rabi_oscillations_12\n",
      "⚑⚑⚑ \u001b[31m\u001b[1mCalibration required for Node rabi_oscillations_12\u001b[0m\n",
      "2024-01-20 16:55:06,606 ◆ calibration_supervisor.py ◆ Calibrating node rabi_oscillations_12\n",
      " kwargs = {'couplers': ['q21_q22']}\n",
      "2024-01-20 16:55:06,753 ◆ compilation_worker.py ◆ Starting Compiling\n",
      "2024-01-20 16:55:06,896 ◆ measurement_utils.py ◆ Starting measurement\n",
      " schedule_duration = 13.613301759999985\n",
      "multiplexed_rabi_12: 100%|\u001b[34m██████████████████████\u001b[0m| 68/68 [00:13<00:00,  4.99it/s]\u001b[0m\n",
      "2024-01-20 16:55:22,601 ◆ measurement_utils.py ◆ Raw dataset acquired\n",
      "2024-01-20 16:55:22,619 ◆ execution_worker.py ◆ Finished measurement\n",
      "2024-01-20 16:55:22,619 ◆ calibration_supervisor.py ◆ measurement completed\n",
      "2024-01-20 16:55:30,261 ◆ calibration_supervisor.py ◆ analysis completed\n",
      "2024-01-20 16:55:30,261 ◆ calibration_supervisor.py ◆ rabi_oscillations_12 node is completed\n",
      "2024-01-20 16:55:30,261 ◆ calibration_supervisor.py ◆ Inspecting node cz_chevron\n",
      "⚑⚑⚑ \u001b[31m\u001b[1mCalibration required for Node cz_chevron\u001b[0m\n",
      "2024-01-20 16:55:30,261 ◆ calibration_supervisor.py ◆ Calibrating node cz_chevron\n",
      " kwargs = {'couplers': ['q21_q22']}\n",
      " ac_freq/1e6 = 217.2 MHz\n",
      " self.coupled_qubits = ['q21', 'q22']\n",
      "cz_pulse_amplitude = {'q21_q22': 0.3}\n",
      "2024-01-20 16:55:30,472 ◆ compilation_worker.py ◆ Starting Compiling\n",
      "2024-01-20 16:55:31,214 ◆ measurement_utils.py ◆ Starting measurement\n",
      " schedule_duration = 181.77131315199927\n",
      "CZ_chevron: 100%|\u001b[34m█████████████████████████████\u001b[0m| 908/908 [03:02<00:00,  4.99it/s]\u001b[0m\n",
      "2024-01-20 16:58:34,630 ◆ measurement_utils.py ◆ Raw dataset acquired\n",
      "2024-01-20 16:58:34,637 ◆ execution_worker.py ◆ Finished measurement\n",
      "2024-01-20 16:58:34,637 ◆ calibration_supervisor.py ◆ measurement completed\n",
      "You should probably enlarge your sweep range. The optimial point is not in the current range.\n",
      "You should probably enlarge your sweep range. The optimial point is not in the current range.\n",
      "2024-01-20 16:58:40,397 ◆ calibration_supervisor.py ◆ analysis completed\n",
      "2024-01-20 16:58:40,397 ◆ calibration_supervisor.py ◆ cz_chevron node is completed\n",
      "\u001b[0m"
     ]
    }
   ],
   "source": [
    "# wide sweep\n",
    "import numpy as np\n",
    "for parking_current in np.arange(300,900,50)*1e-6:\n",
    "    print('--------------------------------------------')\n",
    "    print(f'{parking_current = }')\n",
    "    print('--------------------------------------------')\n",
    "    spi.set_dac_current(dac0, parking_current)\n",
    "    !python reset_redis.py all\n",
    "    !python workers/calibration_supervisor.py"
   ]
  },
  {
   "cell_type": "markdown",
   "metadata": {},
   "source": [
    "## CMA-ES test"
   ]
  },
  {
   "cell_type": "code",
   "execution_count": 1,
   "metadata": {},
   "outputs": [
    {
     "name": "stdout",
     "output_type": "stream",
     "text": [
      "clusterA_module13_att:40dB\n",
      "clusterA_module17_att:6dB\n",
      "Qubits:\n",
      "    q16: cz_calibration_ssro: not_calibrated\n",
      "    q17: cz_calibration_ssro: not_calibrated\n",
      "    q18: cz_calibration_ssro: not_calibrated\n",
      "    q19: cz_calibration_ssro: not_calibrated\n",
      "    q20: cz_calibration_ssro: not_calibrated\n",
      "    q21: cz_calibration_ssro: not_calibrated\n",
      "    q22: cz_calibration_ssro: calibrated\n",
      "    q23: cz_calibration_ssro: not_calibrated\n",
      "    q24: cz_calibration_ssro: not_calibrated\n",
      "    q25: cz_calibration_ssro: not_calibrated\n",
      "-----------------------\n",
      "Couplers:\n",
      "    q21_q22: cz_calibration_ssro: calibrated\n"
     ]
    }
   ],
   "source": [
    "from config_TL import Monitor\n",
    "monitor = Monitor()\n",
    "monitor.node_status('cz_calibration_ssro')"
   ]
  },
  {
   "cell_type": "code",
   "execution_count": 2,
   "metadata": {},
   "outputs": [
    {
     "name": "stdout",
     "output_type": "stream",
     "text": [
      " remove_node = 'cz_calibration_ssro'\n"
     ]
    }
   ],
   "source": [
    "from utilities.reset_redis_node import ResetRedisNode\n",
    "reset_redis = ResetRedisNode()\n",
    "reset_redis.reset_node('cz_calibration_ssro')"
   ]
  },
  {
   "cell_type": "code",
   "execution_count": 17,
   "metadata": {},
   "outputs": [],
   "source": [
    "from utilities.user_input import qubits,couplers\n",
    "from config_TL import Monitor\n",
    "from utilities.reset_redis_node import ResetRedisNode\n",
    "import numpy as np\n",
    "import optuna\n",
    "\n",
    "class OptimizeNode:\n",
    "    def __init__(self, node):\n",
    "        self.monitor = Monitor()\n",
    "        self.reset_redis = ResetRedisNode()\n",
    "        self.node = node\n",
    "        self.qubits = qubits\n",
    "        self.couplers = couplers\n",
    "        sampler = optuna.samplers.CmaEsSampler(with_margin=True)\n",
    "        self.study = optuna.create_study(sampler=sampler)\n",
    "\n",
    "    def objective_cz(self,trial):\n",
    "        freqs = np.array([trial.suggest_float(\"freq\", -1, 1,step=0.01)])*1e6\n",
    "        times = np.array([trial.suggest_float(\"time\", -10, 10,step=0.1)])*1e-9\n",
    "        amps = np.array([trial.suggest_float(\"amp\", -0.01, 0.01,step=0.001)])\n",
    "        # self.reset_redis.reset_node(self.node)\n",
    "        self.monitor.calibrate_node(self.node, opt_cz_pulse_frequency = dict(zip(couplers,freqs)), \n",
    "                                                        opt_cz_pulse_duration = dict(zip(couplers,times)),\n",
    "                                                        opt_cz_pulse_amplitude = dict(zip(couplers,amps)))\n",
    "        results = self.monitor.get_results()\n",
    "        all_results = [results[coupler] for coupler in self.couplers]\n",
    "        all_costs = [ ((np.abs(res['cz_phase'])-180)/180)**2 + res['cz_pop_loss']**2+res['cz_leakage']**2 for res in all_results]\n",
    "        return sum(all_costs)\n",
    "\n",
    "    def optimize_node(self):\n",
    "        print(f\"Optimizing {self.node}\")\n",
    "        self.study.optimize(self.objective_cz, n_trials=50)\n",
    "        self.best_params = self.study.best_params\n",
    "        print(f\"Validating trail {self.study.best_trial.number} with params {self.best_params}\")\n",
    "        self.validate_cz()\n",
    "        print(f\"Optimization finished for {self.node}\")\n",
    "        return self.study\n",
    "    \n",
    "    def plot_optimization(self):\n",
    "        return optuna.visualization.plot_optimization_history(self.study)\n",
    "\n",
    "    def validate_cz(self,best_params = self.best_params):\n",
    "        freqs = np.array([best_params['freq']])*1e6\n",
    "        times = np.array([best_params['time']])*1e-9\n",
    "        amps = np.array([best_params['amp']])\n",
    "        self.monitor.calibrate_node('cz_calibration_ssro',opt_cz_pulse_frequency = dict(zip(couplers,freqs)), \n",
    "                                                        opt_cz_pulse_duration = dict(zip(couplers,times)),\n",
    "                                                        opt_cz_pulse_amplitude = dict(zip(couplers,amps)))\n",
    "        results = self.monitor.get_results()\n",
    "        print(results)\n",
    "        return results\n",
    "        "
   ]
  },
  {
   "cell_type": "code",
   "execution_count": 4,
   "metadata": {},
   "outputs": [
    {
     "name": "stderr",
     "output_type": "stream",
     "text": [
      "/home/loke-c/anaconda3/envs/tac/lib/python3.9/site-packages/optuna/samplers/_cmaes.py:316: ExperimentalWarning: `with_margin` option is an experimental feature. The interface can change in the future.\n",
      "  warnings.warn(\n",
      "[I 2024-01-23 12:38:38,402] A new study created in memory with name: no-name-602a116c-54da-4dc1-99b4-10bb90396c86\n",
      "2024-01-23 12:38:38,404 ◆ calibration_supervisor.py ◆ Calibrating node cz_calibration_ssro\n"
     ]
    },
    {
     "name": "stdout",
     "output_type": "stream",
     "text": [
      " kwargs = {'opt_cz_pulse_frequency': {'q21_q22': 110000.0000000001}, 'opt_cz_pulse_duration': {'q21_q22': -2e-09}, 'opt_cz_pulse_amplitude': {'q21_q22': -0.009000000000000001}, 'couplers': ['q21_q22']}\n",
      "cz_pulse_frequency = {'q21_q22': 216230088.58646688}\n",
      "cz_pulse_duration = {'q21_q22': 3.8182015076688497e-07}\n",
      "cz_pulse_amplitude = {'q21_q22': 0.141}\n"
     ]
    },
    {
     "name": "stderr",
     "output_type": "stream",
     "text": [
      "2024-01-23 12:38:38,567 ◆ compilation_worker.py ◆ Starting Compiling\n",
      "2024-01-23 12:38:38,619 ◆ measurement_utils.py ◆ Starting measurement\n"
     ]
    },
    {
     "name": "stdout",
     "output_type": "stream",
     "text": [
      " schedule_duration = 0.01370745599999998\n"
     ]
    },
    {
     "name": "stderr",
     "output_type": "stream",
     "text": [
      "CZ_calibration_ssro: 0it [00:00, ?it/s]\n",
      "/home/loke-c/anaconda3/envs/tac/lib/python3.9/site-packages/quantify_scheduler/instrument_coordinator/components/qblox.py:1209: FutureWarning: The format of acquisition data of looped measurements in APPEND mode will change in quantify-scheduler>=0.18.0\n",
      "  warnings.warn(\n",
      "2024-01-23 12:39:23,579 ◆ measurement_utils.py ◆ Raw dataset acquired\n",
      "2024-01-23 12:39:23,603 ◆ execution_worker.py ◆ Finished measurement\n",
      "2024-01-23 12:39:23,604 ◆ calibration_supervisor.py ◆ measurement completed\n",
      "2024-01-23 12:39:29,811 ◆ calibration_supervisor.py ◆ analysis completed\n",
      "[I 2024-01-23 12:39:29,812] Trial 0 finished with value: 0.20210278803889056 and parameters: {'freq': 0.1100000000000001, 'time': -2.0, 'amp': -0.009000000000000001}. Best is trial 0 with value: 0.20210278803889056.\n",
      "2024-01-23 12:39:29,817 ◆ calibration_supervisor.py ◆ Calibrating node cz_calibration_ssro\n"
     ]
    },
    {
     "name": "stdout",
     "output_type": "stream",
     "text": [
      " kwargs = {'opt_cz_pulse_frequency': {'q21_q22': -350000.0}, 'opt_cz_pulse_duration': {'q21_q22': 2.4000000000000004e-09}, 'opt_cz_pulse_amplitude': {'q21_q22': -0.003}, 'couplers': ['q21_q22']}\n",
      "cz_pulse_frequency = {'q21_q22': 215770088.58646688}\n",
      "cz_pulse_duration = {'q21_q22': 3.86220150766885e-07}\n",
      "cz_pulse_amplitude = {'q21_q22': 0.147}\n"
     ]
    },
    {
     "name": "stderr",
     "output_type": "stream",
     "text": [
      "2024-01-23 12:39:29,970 ◆ compilation_worker.py ◆ Starting Compiling\n",
      "2024-01-23 12:39:30,179 ◆ measurement_utils.py ◆ Starting measurement\n"
     ]
    },
    {
     "name": "stdout",
     "output_type": "stream",
     "text": [
      " schedule_duration = 0.013707559999999976\n"
     ]
    },
    {
     "name": "stderr",
     "output_type": "stream",
     "text": [
      "CZ_calibration_ssro: 0it [00:00, ?it/s]\n",
      "/home/loke-c/anaconda3/envs/tac/lib/python3.9/site-packages/quantify_scheduler/instrument_coordinator/components/qblox.py:1209: FutureWarning: The format of acquisition data of looped measurements in APPEND mode will change in quantify-scheduler>=0.18.0\n",
      "  warnings.warn(\n",
      "2024-01-23 12:40:13,154 ◆ measurement_utils.py ◆ Raw dataset acquired\n",
      "2024-01-23 12:40:13,167 ◆ execution_worker.py ◆ Finished measurement\n",
      "2024-01-23 12:40:13,167 ◆ calibration_supervisor.py ◆ measurement completed\n",
      "2024-01-23 12:40:19,314 ◆ calibration_supervisor.py ◆ analysis completed\n",
      "[I 2024-01-23 12:40:19,315] Trial 1 finished with value: 0.29201214530921926 and parameters: {'freq': -0.35, 'time': 2.4000000000000004, 'amp': -0.003}. Best is trial 0 with value: 0.20210278803889056.\n",
      "2024-01-23 12:40:19,318 ◆ calibration_supervisor.py ◆ Calibrating node cz_calibration_ssro\n"
     ]
    },
    {
     "name": "stdout",
     "output_type": "stream",
     "text": [
      " kwargs = {'opt_cz_pulse_frequency': {'q21_q22': 250000.0}, 'opt_cz_pulse_duration': {'q21_q22': 1.7000000000000012e-09}, 'opt_cz_pulse_amplitude': {'q21_q22': -0.003}, 'couplers': ['q21_q22']}\n",
      "cz_pulse_frequency = {'q21_q22': 216370088.58646688}\n",
      "cz_pulse_duration = {'q21_q22': 3.85520150766885e-07}\n",
      "cz_pulse_amplitude = {'q21_q22': 0.147}\n"
     ]
    },
    {
     "name": "stderr",
     "output_type": "stream",
     "text": [
      "2024-01-23 12:40:19,465 ◆ compilation_worker.py ◆ Starting Compiling\n",
      "2024-01-23 12:40:19,513 ◆ measurement_utils.py ◆ Starting measurement\n"
     ]
    },
    {
     "name": "stdout",
     "output_type": "stream",
     "text": [
      " schedule_duration = 0.013707559999999976\n"
     ]
    },
    {
     "name": "stderr",
     "output_type": "stream",
     "text": [
      "CZ_calibration_ssro: 0it [00:00, ?it/s]\n",
      "/home/loke-c/anaconda3/envs/tac/lib/python3.9/site-packages/quantify_scheduler/instrument_coordinator/components/qblox.py:1209: FutureWarning: The format of acquisition data of looped measurements in APPEND mode will change in quantify-scheduler>=0.18.0\n",
      "  warnings.warn(\n",
      "2024-01-23 12:41:02,287 ◆ measurement_utils.py ◆ Raw dataset acquired\n",
      "2024-01-23 12:41:02,299 ◆ execution_worker.py ◆ Finished measurement\n",
      "2024-01-23 12:41:02,300 ◆ calibration_supervisor.py ◆ measurement completed\n",
      "2024-01-23 12:41:08,449 ◆ calibration_supervisor.py ◆ analysis completed\n",
      "[I 2024-01-23 12:41:08,450] Trial 2 finished with value: 0.06825479378680027 and parameters: {'freq': 0.25, 'time': 1.700000000000001, 'amp': -0.003}. Best is trial 2 with value: 0.06825479378680027.\n",
      "2024-01-23 12:41:08,453 ◆ calibration_supervisor.py ◆ Calibrating node cz_calibration_ssro\n"
     ]
    },
    {
     "name": "stdout",
     "output_type": "stream",
     "text": [
      " kwargs = {'opt_cz_pulse_frequency': {'q21_q22': 10000.00000000001}, 'opt_cz_pulse_duration': {'q21_q22': -2.5e-09}, 'opt_cz_pulse_amplitude': {'q21_q22': 0.003000000000000001}, 'couplers': ['q21_q22']}\n",
      "cz_pulse_frequency = {'q21_q22': 216130088.58646688}\n",
      "cz_pulse_duration = {'q21_q22': 3.81320150766885e-07}\n",
      "cz_pulse_amplitude = {'q21_q22': 0.153}\n"
     ]
    },
    {
     "name": "stderr",
     "output_type": "stream",
     "text": [
      "2024-01-23 12:41:08,602 ◆ compilation_worker.py ◆ Starting Compiling\n",
      "2024-01-23 12:41:08,651 ◆ measurement_utils.py ◆ Starting measurement\n"
     ]
    },
    {
     "name": "stdout",
     "output_type": "stream",
     "text": [
      " schedule_duration = 0.01370745599999998\n"
     ]
    },
    {
     "name": "stderr",
     "output_type": "stream",
     "text": [
      "CZ_calibration_ssro: 0it [00:00, ?it/s]\n",
      "/home/loke-c/anaconda3/envs/tac/lib/python3.9/site-packages/quantify_scheduler/instrument_coordinator/components/qblox.py:1209: FutureWarning: The format of acquisition data of looped measurements in APPEND mode will change in quantify-scheduler>=0.18.0\n",
      "  warnings.warn(\n",
      "2024-01-23 12:41:51,622 ◆ measurement_utils.py ◆ Raw dataset acquired\n",
      "2024-01-23 12:41:51,634 ◆ execution_worker.py ◆ Finished measurement\n",
      "2024-01-23 12:41:51,635 ◆ calibration_supervisor.py ◆ measurement completed\n",
      "2024-01-23 12:41:57,899 ◆ calibration_supervisor.py ◆ analysis completed\n",
      "[I 2024-01-23 12:41:57,900] Trial 3 finished with value: 0.13291444417663145 and parameters: {'freq': 0.010000000000000009, 'time': -2.5, 'amp': 0.003000000000000001}. Best is trial 2 with value: 0.06825479378680027.\n",
      "2024-01-23 12:41:57,903 ◆ calibration_supervisor.py ◆ Calibrating node cz_calibration_ssro\n"
     ]
    },
    {
     "name": "stdout",
     "output_type": "stream",
     "text": [
      " kwargs = {'opt_cz_pulse_frequency': {'q21_q22': -250000.0}, 'opt_cz_pulse_duration': {'q21_q22': -5.999999999999997e-10}, 'opt_cz_pulse_amplitude': {'q21_q22': 0.002}, 'couplers': ['q21_q22']}\n",
      "cz_pulse_frequency = {'q21_q22': 215870088.58646688}\n",
      "cz_pulse_duration = {'q21_q22': 3.8322015076688497e-07}\n",
      "cz_pulse_amplitude = {'q21_q22': 0.152}\n"
     ]
    },
    {
     "name": "stderr",
     "output_type": "stream",
     "text": [
      "2024-01-23 12:41:58,053 ◆ compilation_worker.py ◆ Starting Compiling\n",
      "2024-01-23 12:41:58,101 ◆ measurement_utils.py ◆ Starting measurement\n"
     ]
    },
    {
     "name": "stdout",
     "output_type": "stream",
     "text": [
      " schedule_duration = 0.01370745599999998\n"
     ]
    },
    {
     "name": "stderr",
     "output_type": "stream",
     "text": [
      "CZ_calibration_ssro: 0it [00:00, ?it/s]\n",
      "/home/loke-c/anaconda3/envs/tac/lib/python3.9/site-packages/quantify_scheduler/instrument_coordinator/components/qblox.py:1209: FutureWarning: The format of acquisition data of looped measurements in APPEND mode will change in quantify-scheduler>=0.18.0\n",
      "  warnings.warn(\n",
      "2024-01-23 12:42:40,901 ◆ measurement_utils.py ◆ Raw dataset acquired\n",
      "2024-01-23 12:42:40,914 ◆ execution_worker.py ◆ Finished measurement\n",
      "2024-01-23 12:42:40,914 ◆ calibration_supervisor.py ◆ measurement completed\n",
      "2024-01-23 12:42:46,989 ◆ calibration_supervisor.py ◆ analysis completed\n",
      "[I 2024-01-23 12:42:46,990] Trial 4 finished with value: 0.06564854890643324 and parameters: {'freq': -0.25, 'time': -0.5999999999999996, 'amp': 0.002}. Best is trial 4 with value: 0.06564854890643324.\n",
      "2024-01-23 12:42:46,993 ◆ calibration_supervisor.py ◆ Calibrating node cz_calibration_ssro\n"
     ]
    },
    {
     "name": "stdout",
     "output_type": "stream",
     "text": [
      " kwargs = {'opt_cz_pulse_frequency': {'q21_q22': -209999.99999999997}, 'opt_cz_pulse_duration': {'q21_q22': 1.7000000000000012e-09}, 'opt_cz_pulse_amplitude': {'q21_q22': 0.006}, 'couplers': ['q21_q22']}\n",
      "cz_pulse_frequency = {'q21_q22': 215910088.58646688}\n",
      "cz_pulse_duration = {'q21_q22': 3.85520150766885e-07}\n",
      "cz_pulse_amplitude = {'q21_q22': 0.156}\n"
     ]
    },
    {
     "name": "stderr",
     "output_type": "stream",
     "text": [
      "2024-01-23 12:42:47,140 ◆ compilation_worker.py ◆ Starting Compiling\n",
      "2024-01-23 12:42:47,188 ◆ measurement_utils.py ◆ Starting measurement\n"
     ]
    },
    {
     "name": "stdout",
     "output_type": "stream",
     "text": [
      " schedule_duration = 0.013707559999999976\n"
     ]
    },
    {
     "name": "stderr",
     "output_type": "stream",
     "text": [
      "CZ_calibration_ssro: 0it [00:00, ?it/s]\n",
      "/home/loke-c/anaconda3/envs/tac/lib/python3.9/site-packages/quantify_scheduler/instrument_coordinator/components/qblox.py:1209: FutureWarning: The format of acquisition data of looped measurements in APPEND mode will change in quantify-scheduler>=0.18.0\n",
      "  warnings.warn(\n",
      "2024-01-23 12:43:30,169 ◆ measurement_utils.py ◆ Raw dataset acquired\n",
      "2024-01-23 12:43:30,182 ◆ execution_worker.py ◆ Finished measurement\n",
      "2024-01-23 12:43:30,182 ◆ calibration_supervisor.py ◆ measurement completed\n",
      "2024-01-23 12:43:36,485 ◆ calibration_supervisor.py ◆ analysis completed\n",
      "[I 2024-01-23 12:43:36,486] Trial 5 finished with value: 0.01606221254514057 and parameters: {'freq': -0.20999999999999996, 'time': 1.700000000000001, 'amp': 0.006}. Best is trial 5 with value: 0.01606221254514057.\n",
      "2024-01-23 12:43:36,488 ◆ calibration_supervisor.py ◆ Calibrating node cz_calibration_ssro\n"
     ]
    },
    {
     "name": "stdout",
     "output_type": "stream",
     "text": [
      " kwargs = {'opt_cz_pulse_frequency': {'q21_q22': -69999.99999999996}, 'opt_cz_pulse_duration': {'q21_q22': -2.3999999999999996e-09}, 'opt_cz_pulse_amplitude': {'q21_q22': -0.004}, 'couplers': ['q21_q22']}\n",
      "cz_pulse_frequency = {'q21_q22': 216050088.58646688}\n",
      "cz_pulse_duration = {'q21_q22': 3.8142015076688494e-07}\n",
      "cz_pulse_amplitude = {'q21_q22': 0.146}\n"
     ]
    },
    {
     "name": "stderr",
     "output_type": "stream",
     "text": [
      "2024-01-23 12:43:36,628 ◆ compilation_worker.py ◆ Starting Compiling\n",
      "2024-01-23 12:43:36,676 ◆ measurement_utils.py ◆ Starting measurement\n"
     ]
    },
    {
     "name": "stdout",
     "output_type": "stream",
     "text": [
      " schedule_duration = 0.01370745599999998\n"
     ]
    },
    {
     "name": "stderr",
     "output_type": "stream",
     "text": [
      "CZ_calibration_ssro: 0it [00:00, ?it/s]\n",
      "/home/loke-c/anaconda3/envs/tac/lib/python3.9/site-packages/quantify_scheduler/instrument_coordinator/components/qblox.py:1209: FutureWarning: The format of acquisition data of looped measurements in APPEND mode will change in quantify-scheduler>=0.18.0\n",
      "  warnings.warn(\n",
      "2024-01-23 12:44:19,642 ◆ measurement_utils.py ◆ Raw dataset acquired\n",
      "2024-01-23 12:44:19,654 ◆ execution_worker.py ◆ Finished measurement\n",
      "2024-01-23 12:44:19,655 ◆ calibration_supervisor.py ◆ measurement completed\n",
      "2024-01-23 12:44:25,711 ◆ calibration_supervisor.py ◆ analysis completed\n",
      "[I 2024-01-23 12:44:25,712] Trial 6 finished with value: 0.13545516772825392 and parameters: {'freq': -0.06999999999999995, 'time': -2.3999999999999995, 'amp': -0.004}. Best is trial 5 with value: 0.01606221254514057.\n",
      "2024-01-23 12:44:25,715 ◆ calibration_supervisor.py ◆ Calibrating node cz_calibration_ssro\n"
     ]
    },
    {
     "name": "stdout",
     "output_type": "stream",
     "text": [
      " kwargs = {'opt_cz_pulse_frequency': {'q21_q22': -79999.99999999996}, 'opt_cz_pulse_duration': {'q21_q22': 7.000000000000011e-10}, 'opt_cz_pulse_amplitude': {'q21_q22': -0.005}, 'couplers': ['q21_q22']}\n",
      "cz_pulse_frequency = {'q21_q22': 216040088.58646688}\n",
      "cz_pulse_duration = {'q21_q22': 3.8452015076688496e-07}\n",
      "cz_pulse_amplitude = {'q21_q22': 0.145}\n"
     ]
    },
    {
     "name": "stderr",
     "output_type": "stream",
     "text": [
      "2024-01-23 12:44:25,865 ◆ compilation_worker.py ◆ Starting Compiling\n",
      "2024-01-23 12:44:25,912 ◆ measurement_utils.py ◆ Starting measurement\n"
     ]
    },
    {
     "name": "stdout",
     "output_type": "stream",
     "text": [
      " schedule_duration = 0.013707559999999976\n"
     ]
    },
    {
     "name": "stderr",
     "output_type": "stream",
     "text": [
      "CZ_calibration_ssro: 0it [00:00, ?it/s]\n",
      "/home/loke-c/anaconda3/envs/tac/lib/python3.9/site-packages/quantify_scheduler/instrument_coordinator/components/qblox.py:1209: FutureWarning: The format of acquisition data of looped measurements in APPEND mode will change in quantify-scheduler>=0.18.0\n",
      "  warnings.warn(\n",
      "2024-01-23 12:45:08,899 ◆ measurement_utils.py ◆ Raw dataset acquired\n",
      "2024-01-23 12:45:08,911 ◆ execution_worker.py ◆ Finished measurement\n",
      "2024-01-23 12:45:08,912 ◆ calibration_supervisor.py ◆ measurement completed\n",
      "2024-01-23 12:45:15,034 ◆ calibration_supervisor.py ◆ analysis completed\n",
      "[I 2024-01-23 12:45:15,035] Trial 7 finished with value: 0.1477616914193582 and parameters: {'freq': -0.07999999999999996, 'time': 0.7000000000000011, 'amp': -0.005}. Best is trial 5 with value: 0.01606221254514057.\n",
      "2024-01-23 12:45:15,039 ◆ calibration_supervisor.py ◆ Calibrating node cz_calibration_ssro\n"
     ]
    },
    {
     "name": "stdout",
     "output_type": "stream",
     "text": [
      " kwargs = {'opt_cz_pulse_frequency': {'q21_q22': -130000.0}, 'opt_cz_pulse_duration': {'q21_q22': 6.600000000000002e-09}, 'opt_cz_pulse_amplitude': {'q21_q22': -0.0009999999999999992}, 'couplers': ['q21_q22']}\n",
      "cz_pulse_frequency = {'q21_q22': 215990088.58646688}\n",
      "cz_pulse_duration = {'q21_q22': 3.90420150766885e-07}\n",
      "cz_pulse_amplitude = {'q21_q22': 0.149}\n"
     ]
    },
    {
     "name": "stderr",
     "output_type": "stream",
     "text": [
      "2024-01-23 12:45:15,368 ◆ compilation_worker.py ◆ Starting Compiling\n",
      "2024-01-23 12:45:15,415 ◆ measurement_utils.py ◆ Starting measurement\n"
     ]
    },
    {
     "name": "stdout",
     "output_type": "stream",
     "text": [
      " schedule_duration = 0.013707663999999975\n"
     ]
    },
    {
     "name": "stderr",
     "output_type": "stream",
     "text": [
      "CZ_calibration_ssro: 0it [00:00, ?it/s]\n",
      "/home/loke-c/anaconda3/envs/tac/lib/python3.9/site-packages/quantify_scheduler/instrument_coordinator/components/qblox.py:1209: FutureWarning: The format of acquisition data of looped measurements in APPEND mode will change in quantify-scheduler>=0.18.0\n",
      "  warnings.warn(\n",
      "2024-01-23 12:45:58,399 ◆ measurement_utils.py ◆ Raw dataset acquired\n",
      "2024-01-23 12:45:58,411 ◆ execution_worker.py ◆ Finished measurement\n",
      "2024-01-23 12:45:58,412 ◆ calibration_supervisor.py ◆ measurement completed\n",
      "2024-01-23 12:46:04,484 ◆ calibration_supervisor.py ◆ analysis completed\n",
      "[I 2024-01-23 12:46:04,486] Trial 8 finished with value: 0.08714238512137189 and parameters: {'freq': -0.13, 'time': 6.600000000000001, 'amp': -0.0009999999999999992}. Best is trial 5 with value: 0.01606221254514057.\n",
      "2024-01-23 12:46:04,488 ◆ calibration_supervisor.py ◆ Calibrating node cz_calibration_ssro\n"
     ]
    },
    {
     "name": "stdout",
     "output_type": "stream",
     "text": [
      " kwargs = {'opt_cz_pulse_frequency': {'q21_q22': -380000.0}, 'opt_cz_pulse_duration': {'q21_q22': 2.1000000000000014e-09}, 'opt_cz_pulse_amplitude': {'q21_q22': 0.003000000000000001}, 'couplers': ['q21_q22']}\n",
      "cz_pulse_frequency = {'q21_q22': 215740088.58646688}\n",
      "cz_pulse_duration = {'q21_q22': 3.8592015076688496e-07}\n",
      "cz_pulse_amplitude = {'q21_q22': 0.153}\n"
     ]
    },
    {
     "name": "stderr",
     "output_type": "stream",
     "text": [
      "2024-01-23 12:46:04,635 ◆ compilation_worker.py ◆ Starting Compiling\n",
      "2024-01-23 12:46:04,684 ◆ measurement_utils.py ◆ Starting measurement\n"
     ]
    },
    {
     "name": "stdout",
     "output_type": "stream",
     "text": [
      " schedule_duration = 0.013707559999999976\n"
     ]
    },
    {
     "name": "stderr",
     "output_type": "stream",
     "text": [
      "CZ_calibration_ssro: 0it [00:00, ?it/s]\n",
      "/home/loke-c/anaconda3/envs/tac/lib/python3.9/site-packages/quantify_scheduler/instrument_coordinator/components/qblox.py:1209: FutureWarning: The format of acquisition data of looped measurements in APPEND mode will change in quantify-scheduler>=0.18.0\n",
      "  warnings.warn(\n",
      "2024-01-23 12:46:47,653 ◆ measurement_utils.py ◆ Raw dataset acquired\n",
      "2024-01-23 12:46:47,665 ◆ execution_worker.py ◆ Finished measurement\n",
      "2024-01-23 12:46:47,666 ◆ calibration_supervisor.py ◆ measurement completed\n",
      "2024-01-23 12:46:53,765 ◆ calibration_supervisor.py ◆ analysis completed\n",
      "[I 2024-01-23 12:46:53,766] Trial 9 finished with value: 0.06117562546884269 and parameters: {'freq': -0.38, 'time': 2.1000000000000014, 'amp': 0.003000000000000001}. Best is trial 5 with value: 0.01606221254514057.\n",
      "2024-01-23 12:46:53,768 ◆ calibration_supervisor.py ◆ Calibrating node cz_calibration_ssro\n"
     ]
    },
    {
     "name": "stdout",
     "output_type": "stream",
     "text": [
      " kwargs = {'opt_cz_pulse_frequency': {'q21_q22': -380000.0}, 'opt_cz_pulse_duration': {'q21_q22': 3.7000000000000013e-09}, 'opt_cz_pulse_amplitude': {'q21_q22': 0.007000000000000001}, 'couplers': ['q21_q22']}\n",
      "cz_pulse_frequency = {'q21_q22': 215740088.58646688}\n",
      "cz_pulse_duration = {'q21_q22': 3.87520150766885e-07}\n",
      "cz_pulse_amplitude = {'q21_q22': 0.157}\n"
     ]
    },
    {
     "name": "stderr",
     "output_type": "stream",
     "text": [
      "2024-01-23 12:46:54,086 ◆ compilation_worker.py ◆ Starting Compiling\n",
      "2024-01-23 12:46:54,137 ◆ measurement_utils.py ◆ Starting measurement\n"
     ]
    },
    {
     "name": "stdout",
     "output_type": "stream",
     "text": [
      " schedule_duration = 0.013707559999999976\n"
     ]
    },
    {
     "name": "stderr",
     "output_type": "stream",
     "text": [
      "CZ_calibration_ssro: 0it [00:00, ?it/s]\n",
      "/home/loke-c/anaconda3/envs/tac/lib/python3.9/site-packages/quantify_scheduler/instrument_coordinator/components/qblox.py:1209: FutureWarning: The format of acquisition data of looped measurements in APPEND mode will change in quantify-scheduler>=0.18.0\n",
      "  warnings.warn(\n",
      "2024-01-23 12:47:36,945 ◆ measurement_utils.py ◆ Raw dataset acquired\n",
      "2024-01-23 12:47:36,957 ◆ execution_worker.py ◆ Finished measurement\n",
      "2024-01-23 12:47:36,957 ◆ calibration_supervisor.py ◆ measurement completed\n",
      "2024-01-23 12:47:43,044 ◆ calibration_supervisor.py ◆ analysis completed\n",
      "[I 2024-01-23 12:47:43,046] Trial 10 finished with value: 0.018847668340758635 and parameters: {'freq': -0.38, 'time': 3.700000000000001, 'amp': 0.007000000000000001}. Best is trial 5 with value: 0.01606221254514057.\n",
      "2024-01-23 12:47:43,048 ◆ calibration_supervisor.py ◆ Calibrating node cz_calibration_ssro\n"
     ]
    },
    {
     "name": "stdout",
     "output_type": "stream",
     "text": [
      " kwargs = {'opt_cz_pulse_frequency': {'q21_q22': -99999.99999999997}, 'opt_cz_pulse_duration': {'q21_q22': -7.2e-09}, 'opt_cz_pulse_amplitude': {'q21_q22': 0.01}, 'couplers': ['q21_q22']}\n",
      "cz_pulse_frequency = {'q21_q22': 216020088.58646688}\n",
      "cz_pulse_duration = {'q21_q22': 3.7662015076688495e-07}\n",
      "cz_pulse_amplitude = {'q21_q22': 0.16}\n"
     ]
    },
    {
     "name": "stderr",
     "output_type": "stream",
     "text": [
      "2024-01-23 12:47:43,204 ◆ compilation_worker.py ◆ Starting Compiling\n",
      "2024-01-23 12:47:43,253 ◆ measurement_utils.py ◆ Starting measurement\n"
     ]
    },
    {
     "name": "stdout",
     "output_type": "stream",
     "text": [
      " schedule_duration = 0.013707351999999968\n"
     ]
    },
    {
     "name": "stderr",
     "output_type": "stream",
     "text": [
      "CZ_calibration_ssro: 0it [00:00, ?it/s]\n",
      "/home/loke-c/anaconda3/envs/tac/lib/python3.9/site-packages/quantify_scheduler/instrument_coordinator/components/qblox.py:1209: FutureWarning: The format of acquisition data of looped measurements in APPEND mode will change in quantify-scheduler>=0.18.0\n",
      "  warnings.warn(\n",
      "2024-01-23 12:48:26,255 ◆ measurement_utils.py ◆ Raw dataset acquired\n",
      "2024-01-23 12:48:26,268 ◆ execution_worker.py ◆ Finished measurement\n",
      "2024-01-23 12:48:26,268 ◆ calibration_supervisor.py ◆ measurement completed\n",
      "2024-01-23 12:48:32,416 ◆ calibration_supervisor.py ◆ analysis completed\n",
      "[I 2024-01-23 12:48:32,417] Trial 11 finished with value: 0.03803803611814659 and parameters: {'freq': -0.09999999999999998, 'time': -7.199999999999999, 'amp': 0.01}. Best is trial 5 with value: 0.01606221254514057.\n",
      "2024-01-23 12:48:32,420 ◆ calibration_supervisor.py ◆ Calibrating node cz_calibration_ssro\n"
     ]
    },
    {
     "name": "stdout",
     "output_type": "stream",
     "text": [
      " kwargs = {'opt_cz_pulse_frequency': {'q21_q22': -480000.0}, 'opt_cz_pulse_duration': {'q21_q22': 8e-09}, 'opt_cz_pulse_amplitude': {'q21_q22': 0.003000000000000001}, 'couplers': ['q21_q22']}\n",
      "cz_pulse_frequency = {'q21_q22': 215640088.58646688}\n",
      "cz_pulse_duration = {'q21_q22': 3.91820150766885e-07}\n",
      "cz_pulse_amplitude = {'q21_q22': 0.153}\n"
     ]
    },
    {
     "name": "stderr",
     "output_type": "stream",
     "text": [
      "2024-01-23 12:48:32,588 ◆ compilation_worker.py ◆ Starting Compiling\n",
      "2024-01-23 12:48:32,638 ◆ measurement_utils.py ◆ Starting measurement\n"
     ]
    },
    {
     "name": "stdout",
     "output_type": "stream",
     "text": [
      " schedule_duration = 0.013707663999999975\n"
     ]
    },
    {
     "name": "stderr",
     "output_type": "stream",
     "text": [
      "CZ_calibration_ssro: 0it [00:00, ?it/s]\n",
      "/home/loke-c/anaconda3/envs/tac/lib/python3.9/site-packages/quantify_scheduler/instrument_coordinator/components/qblox.py:1209: FutureWarning: The format of acquisition data of looped measurements in APPEND mode will change in quantify-scheduler>=0.18.0\n",
      "  warnings.warn(\n",
      "2024-01-23 12:49:15,619 ◆ measurement_utils.py ◆ Raw dataset acquired\n",
      "2024-01-23 12:49:15,631 ◆ execution_worker.py ◆ Finished measurement\n",
      "2024-01-23 12:49:15,632 ◆ calibration_supervisor.py ◆ measurement completed\n",
      "2024-01-23 12:49:21,910 ◆ calibration_supervisor.py ◆ analysis completed\n",
      "[I 2024-01-23 12:49:21,912] Trial 12 finished with value: 0.08662321730463346 and parameters: {'freq': -0.48, 'time': 8.0, 'amp': 0.003000000000000001}. Best is trial 5 with value: 0.01606221254514057.\n",
      "2024-01-23 12:49:21,914 ◆ calibration_supervisor.py ◆ Calibrating node cz_calibration_ssro\n"
     ]
    },
    {
     "name": "stdout",
     "output_type": "stream",
     "text": [
      " kwargs = {'opt_cz_pulse_frequency': {'q21_q22': -79999.99999999996}, 'opt_cz_pulse_duration': {'q21_q22': 2.5e-09}, 'opt_cz_pulse_amplitude': {'q21_q22': 0.0}, 'couplers': ['q21_q22']}\n",
      "cz_pulse_frequency = {'q21_q22': 216040088.58646688}\n",
      "cz_pulse_duration = {'q21_q22': 3.8632015076688494e-07}\n",
      "cz_pulse_amplitude = {'q21_q22': 0.15}\n"
     ]
    },
    {
     "name": "stderr",
     "output_type": "stream",
     "text": [
      "2024-01-23 12:49:22,067 ◆ compilation_worker.py ◆ Starting Compiling\n",
      "2024-01-23 12:49:22,115 ◆ measurement_utils.py ◆ Starting measurement\n"
     ]
    },
    {
     "name": "stdout",
     "output_type": "stream",
     "text": [
      " schedule_duration = 0.013707559999999976\n"
     ]
    },
    {
     "name": "stderr",
     "output_type": "stream",
     "text": [
      "CZ_calibration_ssro: 0it [00:00, ?it/s]\n",
      "/home/loke-c/anaconda3/envs/tac/lib/python3.9/site-packages/quantify_scheduler/instrument_coordinator/components/qblox.py:1209: FutureWarning: The format of acquisition data of looped measurements in APPEND mode will change in quantify-scheduler>=0.18.0\n",
      "  warnings.warn(\n",
      "2024-01-23 12:50:05,108 ◆ measurement_utils.py ◆ Raw dataset acquired\n",
      "2024-01-23 12:50:05,120 ◆ execution_worker.py ◆ Finished measurement\n",
      "2024-01-23 12:50:05,121 ◆ calibration_supervisor.py ◆ measurement completed\n",
      "2024-01-23 12:50:11,194 ◆ calibration_supervisor.py ◆ analysis completed\n",
      "[I 2024-01-23 12:50:11,195] Trial 13 finished with value: 0.04893336424693235 and parameters: {'freq': -0.07999999999999996, 'time': 2.5, 'amp': 0.0}. Best is trial 5 with value: 0.01606221254514057.\n",
      "2024-01-23 12:50:11,197 ◆ calibration_supervisor.py ◆ Calibrating node cz_calibration_ssro\n"
     ]
    },
    {
     "name": "stdout",
     "output_type": "stream",
     "text": [
      " kwargs = {'opt_cz_pulse_frequency': {'q21_q22': -219999.99999999997}, 'opt_cz_pulse_duration': {'q21_q22': -3.1999999999999993e-09}, 'opt_cz_pulse_amplitude': {'q21_q22': 0.008000000000000002}, 'couplers': ['q21_q22']}\n",
      "cz_pulse_frequency = {'q21_q22': 215900088.58646688}\n",
      "cz_pulse_duration = {'q21_q22': 3.80620150766885e-07}\n",
      "cz_pulse_amplitude = {'q21_q22': 0.158}\n"
     ]
    },
    {
     "name": "stderr",
     "output_type": "stream",
     "text": [
      "2024-01-23 12:50:11,351 ◆ compilation_worker.py ◆ Starting Compiling\n",
      "2024-01-23 12:50:11,400 ◆ measurement_utils.py ◆ Starting measurement\n"
     ]
    },
    {
     "name": "stdout",
     "output_type": "stream",
     "text": [
      " schedule_duration = 0.01370745599999998\n"
     ]
    },
    {
     "name": "stderr",
     "output_type": "stream",
     "text": [
      "CZ_calibration_ssro: 0it [00:00, ?it/s]\n",
      "/home/loke-c/anaconda3/envs/tac/lib/python3.9/site-packages/quantify_scheduler/instrument_coordinator/components/qblox.py:1209: FutureWarning: The format of acquisition data of looped measurements in APPEND mode will change in quantify-scheduler>=0.18.0\n",
      "  warnings.warn(\n",
      "2024-01-23 12:50:54,392 ◆ measurement_utils.py ◆ Raw dataset acquired\n",
      "2024-01-23 12:50:54,405 ◆ execution_worker.py ◆ Finished measurement\n",
      "2024-01-23 12:50:54,405 ◆ calibration_supervisor.py ◆ measurement completed\n",
      "2024-01-23 12:51:00,698 ◆ calibration_supervisor.py ◆ analysis completed\n",
      "[I 2024-01-23 12:51:00,699] Trial 14 finished with value: 0.012967458850531327 and parameters: {'freq': -0.21999999999999997, 'time': -3.1999999999999993, 'amp': 0.008000000000000002}. Best is trial 14 with value: 0.012967458850531327.\n",
      "2024-01-23 12:51:00,703 ◆ calibration_supervisor.py ◆ Calibrating node cz_calibration_ssro\n"
     ]
    },
    {
     "name": "stdout",
     "output_type": "stream",
     "text": [
      " kwargs = {'opt_cz_pulse_frequency': {'q21_q22': -350000.0}, 'opt_cz_pulse_duration': {'q21_q22': 5e-10}, 'opt_cz_pulse_amplitude': {'q21_q22': 0.008000000000000002}, 'couplers': ['q21_q22']}\n",
      "cz_pulse_frequency = {'q21_q22': 215770088.58646688}\n",
      "cz_pulse_duration = {'q21_q22': 3.8432015076688495e-07}\n",
      "cz_pulse_amplitude = {'q21_q22': 0.158}\n"
     ]
    },
    {
     "name": "stderr",
     "output_type": "stream",
     "text": [
      "2024-01-23 12:51:00,842 ◆ compilation_worker.py ◆ Starting Compiling\n",
      "2024-01-23 12:51:00,890 ◆ measurement_utils.py ◆ Starting measurement\n"
     ]
    },
    {
     "name": "stdout",
     "output_type": "stream",
     "text": [
      " schedule_duration = 0.013707559999999976\n"
     ]
    },
    {
     "name": "stderr",
     "output_type": "stream",
     "text": [
      "CZ_calibration_ssro: 0it [00:00, ?it/s]\n",
      "/home/loke-c/anaconda3/envs/tac/lib/python3.9/site-packages/quantify_scheduler/instrument_coordinator/components/qblox.py:1209: FutureWarning: The format of acquisition data of looped measurements in APPEND mode will change in quantify-scheduler>=0.18.0\n",
      "  warnings.warn(\n",
      "2024-01-23 12:51:43,869 ◆ measurement_utils.py ◆ Raw dataset acquired\n",
      "2024-01-23 12:51:43,881 ◆ execution_worker.py ◆ Finished measurement\n",
      "2024-01-23 12:51:43,881 ◆ calibration_supervisor.py ◆ measurement completed\n",
      "2024-01-23 12:51:49,934 ◆ calibration_supervisor.py ◆ analysis completed\n",
      "[I 2024-01-23 12:51:49,935] Trial 15 finished with value: 0.011525289115093696 and parameters: {'freq': -0.35, 'time': 0.5, 'amp': 0.008000000000000002}. Best is trial 15 with value: 0.011525289115093696.\n",
      "2024-01-23 12:51:49,937 ◆ calibration_supervisor.py ◆ Calibrating node cz_calibration_ssro\n"
     ]
    },
    {
     "name": "stdout",
     "output_type": "stream",
     "text": [
      " kwargs = {'opt_cz_pulse_frequency': {'q21_q22': -219999.99999999997}, 'opt_cz_pulse_duration': {'q21_q22': -4.6e-09}, 'opt_cz_pulse_amplitude': {'q21_q22': 0.007000000000000001}, 'couplers': ['q21_q22']}\n",
      "cz_pulse_frequency = {'q21_q22': 215900088.58646688}\n",
      "cz_pulse_duration = {'q21_q22': 3.79220150766885e-07}\n",
      "cz_pulse_amplitude = {'q21_q22': 0.157}\n"
     ]
    },
    {
     "name": "stderr",
     "output_type": "stream",
     "text": [
      "2024-01-23 12:51:50,089 ◆ compilation_worker.py ◆ Starting Compiling\n",
      "2024-01-23 12:51:50,138 ◆ measurement_utils.py ◆ Starting measurement\n"
     ]
    },
    {
     "name": "stdout",
     "output_type": "stream",
     "text": [
      " schedule_duration = 0.013707351999999968\n"
     ]
    },
    {
     "name": "stderr",
     "output_type": "stream",
     "text": [
      "CZ_calibration_ssro: 0it [00:00, ?it/s]\n",
      "/home/loke-c/anaconda3/envs/tac/lib/python3.9/site-packages/quantify_scheduler/instrument_coordinator/components/qblox.py:1209: FutureWarning: The format of acquisition data of looped measurements in APPEND mode will change in quantify-scheduler>=0.18.0\n",
      "  warnings.warn(\n",
      "2024-01-23 12:52:33,120 ◆ measurement_utils.py ◆ Raw dataset acquired\n",
      "2024-01-23 12:52:33,133 ◆ execution_worker.py ◆ Finished measurement\n",
      "2024-01-23 12:52:33,133 ◆ calibration_supervisor.py ◆ measurement completed\n",
      "2024-01-23 12:52:39,253 ◆ calibration_supervisor.py ◆ analysis completed\n",
      "[I 2024-01-23 12:52:39,254] Trial 16 finished with value: 0.06134817123126537 and parameters: {'freq': -0.21999999999999997, 'time': -4.6, 'amp': 0.007000000000000001}. Best is trial 15 with value: 0.011525289115093696.\n",
      "2024-01-23 12:52:39,257 ◆ calibration_supervisor.py ◆ Calibrating node cz_calibration_ssro\n"
     ]
    },
    {
     "name": "stdout",
     "output_type": "stream",
     "text": [
      " kwargs = {'opt_cz_pulse_frequency': {'q21_q22': -760000.0}, 'opt_cz_pulse_duration': {'q21_q22': -1.799999999999999e-09}, 'opt_cz_pulse_amplitude': {'q21_q22': 0.01}, 'couplers': ['q21_q22']}\n",
      "cz_pulse_frequency = {'q21_q22': 215360088.58646688}\n",
      "cz_pulse_duration = {'q21_q22': 3.82020150766885e-07}\n",
      "cz_pulse_amplitude = {'q21_q22': 0.16}\n"
     ]
    },
    {
     "name": "stderr",
     "output_type": "stream",
     "text": [
      "2024-01-23 12:52:39,584 ◆ compilation_worker.py ◆ Starting Compiling\n",
      "2024-01-23 12:52:39,636 ◆ measurement_utils.py ◆ Starting measurement\n"
     ]
    },
    {
     "name": "stdout",
     "output_type": "stream",
     "text": [
      " schedule_duration = 0.01370745599999998\n"
     ]
    },
    {
     "name": "stderr",
     "output_type": "stream",
     "text": [
      "CZ_calibration_ssro: 0it [00:00, ?it/s]\n",
      "/home/loke-c/anaconda3/envs/tac/lib/python3.9/site-packages/quantify_scheduler/instrument_coordinator/components/qblox.py:1209: FutureWarning: The format of acquisition data of looped measurements in APPEND mode will change in quantify-scheduler>=0.18.0\n",
      "  warnings.warn(\n",
      "2024-01-23 12:53:22,634 ◆ measurement_utils.py ◆ Raw dataset acquired\n",
      "2024-01-23 12:53:22,646 ◆ execution_worker.py ◆ Finished measurement\n",
      "2024-01-23 12:53:22,647 ◆ calibration_supervisor.py ◆ measurement completed\n",
      "2024-01-23 12:53:28,798 ◆ calibration_supervisor.py ◆ analysis completed\n",
      "[I 2024-01-23 12:53:28,800] Trial 17 finished with value: 0.03720273612367313 and parameters: {'freq': -0.76, 'time': -1.799999999999999, 'amp': 0.01}. Best is trial 15 with value: 0.011525289115093696.\n",
      "2024-01-23 12:53:28,802 ◆ calibration_supervisor.py ◆ Calibrating node cz_calibration_ssro\n"
     ]
    },
    {
     "name": "stdout",
     "output_type": "stream",
     "text": [
      " kwargs = {'opt_cz_pulse_frequency': {'q21_q22': -690000.0}, 'opt_cz_pulse_duration': {'q21_q22': -6.6e-09}, 'opt_cz_pulse_amplitude': {'q21_q22': 0.007000000000000001}, 'couplers': ['q21_q22']}\n",
      "cz_pulse_frequency = {'q21_q22': 215430088.58646688}\n",
      "cz_pulse_duration = {'q21_q22': 3.7722015076688494e-07}\n",
      "cz_pulse_amplitude = {'q21_q22': 0.157}\n"
     ]
    },
    {
     "name": "stderr",
     "output_type": "stream",
     "text": [
      "2024-01-23 12:53:28,955 ◆ compilation_worker.py ◆ Starting Compiling\n",
      "2024-01-23 12:53:29,006 ◆ measurement_utils.py ◆ Starting measurement\n"
     ]
    },
    {
     "name": "stdout",
     "output_type": "stream",
     "text": [
      " schedule_duration = 0.013707351999999968\n"
     ]
    },
    {
     "name": "stderr",
     "output_type": "stream",
     "text": [
      "CZ_calibration_ssro: 0it [00:00, ?it/s]\n",
      "/home/loke-c/anaconda3/envs/tac/lib/python3.9/site-packages/quantify_scheduler/instrument_coordinator/components/qblox.py:1209: FutureWarning: The format of acquisition data of looped measurements in APPEND mode will change in quantify-scheduler>=0.18.0\n",
      "  warnings.warn(\n",
      "2024-01-23 12:54:11,992 ◆ measurement_utils.py ◆ Raw dataset acquired\n",
      "2024-01-23 12:54:12,004 ◆ execution_worker.py ◆ Finished measurement\n",
      "2024-01-23 12:54:12,005 ◆ calibration_supervisor.py ◆ measurement completed\n",
      "2024-01-23 12:54:18,144 ◆ calibration_supervisor.py ◆ analysis completed\n",
      "[I 2024-01-23 12:54:18,145] Trial 18 finished with value: 0.06297686747149087 and parameters: {'freq': -0.69, 'time': -6.6, 'amp': 0.007000000000000001}. Best is trial 15 with value: 0.011525289115093696.\n",
      "2024-01-23 12:54:18,148 ◆ calibration_supervisor.py ◆ Calibrating node cz_calibration_ssro\n"
     ]
    },
    {
     "name": "stdout",
     "output_type": "stream",
     "text": [
      " kwargs = {'opt_cz_pulse_frequency': {'q21_q22': -740000.0}, 'opt_cz_pulse_duration': {'q21_q22': -3.4e-09}, 'opt_cz_pulse_amplitude': {'q21_q22': 0.004999999999999999}, 'couplers': ['q21_q22']}\n",
      "cz_pulse_frequency = {'q21_q22': 215380088.58646688}\n",
      "cz_pulse_duration = {'q21_q22': 3.8042015076688497e-07}\n",
      "cz_pulse_amplitude = {'q21_q22': 0.155}\n"
     ]
    },
    {
     "name": "stderr",
     "output_type": "stream",
     "text": [
      "2024-01-23 12:54:18,477 ◆ compilation_worker.py ◆ Starting Compiling\n",
      "2024-01-23 12:54:18,525 ◆ measurement_utils.py ◆ Starting measurement\n"
     ]
    },
    {
     "name": "stdout",
     "output_type": "stream",
     "text": [
      " schedule_duration = 0.01370745599999998\n"
     ]
    },
    {
     "name": "stderr",
     "output_type": "stream",
     "text": [
      "CZ_calibration_ssro: 0it [00:00, ?it/s]\n",
      "/home/loke-c/anaconda3/envs/tac/lib/python3.9/site-packages/quantify_scheduler/instrument_coordinator/components/qblox.py:1209: FutureWarning: The format of acquisition data of looped measurements in APPEND mode will change in quantify-scheduler>=0.18.0\n",
      "  warnings.warn(\n",
      "2024-01-23 12:55:01,504 ◆ measurement_utils.py ◆ Raw dataset acquired\n",
      "2024-01-23 12:55:01,517 ◆ execution_worker.py ◆ Finished measurement\n",
      "2024-01-23 12:55:01,518 ◆ calibration_supervisor.py ◆ measurement completed\n",
      "2024-01-23 12:55:07,636 ◆ calibration_supervisor.py ◆ analysis completed\n",
      "[I 2024-01-23 12:55:07,638] Trial 19 finished with value: 0.10951971121653875 and parameters: {'freq': -0.74, 'time': -3.3999999999999995, 'amp': 0.004999999999999999}. Best is trial 15 with value: 0.011525289115093696.\n",
      "2024-01-23 12:55:07,640 ◆ calibration_supervisor.py ◆ Calibrating node cz_calibration_ssro\n"
     ]
    },
    {
     "name": "stdout",
     "output_type": "stream",
     "text": [
      " kwargs = {'opt_cz_pulse_frequency': {'q21_q22': -30000.000000000025}, 'opt_cz_pulse_duration': {'q21_q22': 4.300000000000001e-09}, 'opt_cz_pulse_amplitude': {'q21_q22': 0.007000000000000001}, 'couplers': ['q21_q22']}\n",
      "cz_pulse_frequency = {'q21_q22': 216090088.58646688}\n",
      "cz_pulse_duration = {'q21_q22': 3.8812015076688497e-07}\n",
      "cz_pulse_amplitude = {'q21_q22': 0.157}\n"
     ]
    },
    {
     "name": "stderr",
     "output_type": "stream",
     "text": [
      "2024-01-23 12:55:07,797 ◆ compilation_worker.py ◆ Starting Compiling\n",
      "2024-01-23 12:55:07,848 ◆ measurement_utils.py ◆ Starting measurement\n"
     ]
    },
    {
     "name": "stdout",
     "output_type": "stream",
     "text": [
      " schedule_duration = 0.013707663999999975\n"
     ]
    },
    {
     "name": "stderr",
     "output_type": "stream",
     "text": [
      "CZ_calibration_ssro: 0it [00:00, ?it/s]\n",
      "/home/loke-c/anaconda3/envs/tac/lib/python3.9/site-packages/quantify_scheduler/instrument_coordinator/components/qblox.py:1209: FutureWarning: The format of acquisition data of looped measurements in APPEND mode will change in quantify-scheduler>=0.18.0\n",
      "  warnings.warn(\n",
      "2024-01-23 12:55:50,827 ◆ measurement_utils.py ◆ Raw dataset acquired\n",
      "2024-01-23 12:55:50,839 ◆ execution_worker.py ◆ Finished measurement\n",
      "2024-01-23 12:55:50,840 ◆ calibration_supervisor.py ◆ measurement completed\n",
      "2024-01-23 12:55:56,903 ◆ calibration_supervisor.py ◆ analysis completed\n",
      "[I 2024-01-23 12:55:56,904] Trial 20 finished with value: 0.021285919293647072 and parameters: {'freq': -0.030000000000000027, 'time': 4.300000000000001, 'amp': 0.007000000000000001}. Best is trial 15 with value: 0.011525289115093696.\n",
      "2024-01-23 12:55:56,907 ◆ calibration_supervisor.py ◆ Calibrating node cz_calibration_ssro\n"
     ]
    },
    {
     "name": "stdout",
     "output_type": "stream",
     "text": [
      " kwargs = {'opt_cz_pulse_frequency': {'q21_q22': 60000.00000000005}, 'opt_cz_pulse_duration': {'q21_q22': -3.899999999999999e-09}, 'opt_cz_pulse_amplitude': {'q21_q22': 0.002}, 'couplers': ['q21_q22']}\n",
      "cz_pulse_frequency = {'q21_q22': 216180088.58646688}\n",
      "cz_pulse_duration = {'q21_q22': 3.79920150766885e-07}\n",
      "cz_pulse_amplitude = {'q21_q22': 0.152}\n"
     ]
    },
    {
     "name": "stderr",
     "output_type": "stream",
     "text": [
      "2024-01-23 12:55:57,059 ◆ compilation_worker.py ◆ Starting Compiling\n",
      "2024-01-23 12:55:57,107 ◆ measurement_utils.py ◆ Starting measurement\n"
     ]
    },
    {
     "name": "stdout",
     "output_type": "stream",
     "text": [
      " schedule_duration = 0.013707351999999968\n"
     ]
    },
    {
     "name": "stderr",
     "output_type": "stream",
     "text": [
      "CZ_calibration_ssro: 0it [00:00, ?it/s]\n",
      "/home/loke-c/anaconda3/envs/tac/lib/python3.9/site-packages/quantify_scheduler/instrument_coordinator/components/qblox.py:1209: FutureWarning: The format of acquisition data of looped measurements in APPEND mode will change in quantify-scheduler>=0.18.0\n",
      "  warnings.warn(\n",
      "2024-01-23 12:56:40,104 ◆ measurement_utils.py ◆ Raw dataset acquired\n",
      "2024-01-23 12:56:40,116 ◆ execution_worker.py ◆ Finished measurement\n",
      "2024-01-23 12:56:40,117 ◆ calibration_supervisor.py ◆ measurement completed\n",
      "2024-01-23 12:56:46,408 ◆ calibration_supervisor.py ◆ analysis completed\n",
      "[I 2024-01-23 12:56:46,410] Trial 21 finished with value: 1.0044330879676586 and parameters: {'freq': 0.06000000000000005, 'time': -3.8999999999999995, 'amp': 0.002}. Best is trial 15 with value: 0.011525289115093696.\n",
      "2024-01-23 12:56:46,413 ◆ calibration_supervisor.py ◆ Calibrating node cz_calibration_ssro\n"
     ]
    },
    {
     "name": "stdout",
     "output_type": "stream",
     "text": [
      " kwargs = {'opt_cz_pulse_frequency': {'q21_q22': -420000.00000000006}, 'opt_cz_pulse_duration': {'q21_q22': 3.900000000000001e-09}, 'opt_cz_pulse_amplitude': {'q21_q22': 0.003000000000000001}, 'couplers': ['q21_q22']}\n",
      "cz_pulse_frequency = {'q21_q22': 215700088.58646688}\n",
      "cz_pulse_duration = {'q21_q22': 3.8772015076688494e-07}\n",
      "cz_pulse_amplitude = {'q21_q22': 0.153}\n"
     ]
    },
    {
     "name": "stderr",
     "output_type": "stream",
     "text": [
      "2024-01-23 12:56:46,561 ◆ compilation_worker.py ◆ Starting Compiling\n",
      "2024-01-23 12:56:46,611 ◆ measurement_utils.py ◆ Starting measurement\n"
     ]
    },
    {
     "name": "stdout",
     "output_type": "stream",
     "text": [
      " schedule_duration = 0.013707559999999976\n"
     ]
    },
    {
     "name": "stderr",
     "output_type": "stream",
     "text": [
      "CZ_calibration_ssro: 0it [00:00, ?it/s]\n",
      "/home/loke-c/anaconda3/envs/tac/lib/python3.9/site-packages/quantify_scheduler/instrument_coordinator/components/qblox.py:1209: FutureWarning: The format of acquisition data of looped measurements in APPEND mode will change in quantify-scheduler>=0.18.0\n",
      "  warnings.warn(\n",
      "2024-01-23 12:57:29,601 ◆ measurement_utils.py ◆ Raw dataset acquired\n",
      "2024-01-23 12:57:29,613 ◆ execution_worker.py ◆ Finished measurement\n",
      "2024-01-23 12:57:29,614 ◆ calibration_supervisor.py ◆ measurement completed\n",
      "2024-01-23 12:57:35,697 ◆ calibration_supervisor.py ◆ analysis completed\n",
      "[I 2024-01-23 12:57:35,698] Trial 22 finished with value: 0.006926086330154391 and parameters: {'freq': -0.42000000000000004, 'time': 3.9000000000000004, 'amp': 0.003000000000000001}. Best is trial 22 with value: 0.006926086330154391.\n",
      "2024-01-23 12:57:35,701 ◆ calibration_supervisor.py ◆ Calibrating node cz_calibration_ssro\n"
     ]
    },
    {
     "name": "stdout",
     "output_type": "stream",
     "text": [
      " kwargs = {'opt_cz_pulse_frequency': {'q21_q22': -490000.0}, 'opt_cz_pulse_duration': {'q21_q22': 1.7000000000000012e-09}, 'opt_cz_pulse_amplitude': {'q21_q22': 0.009}, 'couplers': ['q21_q22']}\n",
      "cz_pulse_frequency = {'q21_q22': 215630088.58646688}\n",
      "cz_pulse_duration = {'q21_q22': 3.85520150766885e-07}\n",
      "cz_pulse_amplitude = {'q21_q22': 0.159}\n"
     ]
    },
    {
     "name": "stderr",
     "output_type": "stream",
     "text": [
      "2024-01-23 12:57:35,859 ◆ compilation_worker.py ◆ Starting Compiling\n",
      "2024-01-23 12:57:35,913 ◆ measurement_utils.py ◆ Starting measurement\n"
     ]
    },
    {
     "name": "stdout",
     "output_type": "stream",
     "text": [
      " schedule_duration = 0.013707559999999976\n"
     ]
    },
    {
     "name": "stderr",
     "output_type": "stream",
     "text": [
      "CZ_calibration_ssro: 0it [00:00, ?it/s]\n",
      "/home/loke-c/anaconda3/envs/tac/lib/python3.9/site-packages/quantify_scheduler/instrument_coordinator/components/qblox.py:1209: FutureWarning: The format of acquisition data of looped measurements in APPEND mode will change in quantify-scheduler>=0.18.0\n",
      "  warnings.warn(\n",
      "2024-01-23 12:58:18,724 ◆ measurement_utils.py ◆ Raw dataset acquired\n",
      "2024-01-23 12:58:18,737 ◆ execution_worker.py ◆ Finished measurement\n",
      "2024-01-23 12:58:18,738 ◆ calibration_supervisor.py ◆ measurement completed\n",
      "2024-01-23 12:58:25,002 ◆ calibration_supervisor.py ◆ analysis completed\n",
      "[I 2024-01-23 12:58:25,004] Trial 23 finished with value: 0.053924129090046506 and parameters: {'freq': -0.49, 'time': 1.700000000000001, 'amp': 0.009}. Best is trial 22 with value: 0.006926086330154391.\n",
      "2024-01-23 12:58:25,007 ◆ calibration_supervisor.py ◆ Calibrating node cz_calibration_ssro\n"
     ]
    },
    {
     "name": "stdout",
     "output_type": "stream",
     "text": [
      " kwargs = {'opt_cz_pulse_frequency': {'q21_q22': -140000.0}, 'opt_cz_pulse_duration': {'q21_q22': 1e-09}, 'opt_cz_pulse_amplitude': {'q21_q22': 0.003000000000000001}, 'couplers': ['q21_q22']}\n",
      "cz_pulse_frequency = {'q21_q22': 215980088.58646688}\n",
      "cz_pulse_duration = {'q21_q22': 3.84820150766885e-07}\n",
      "cz_pulse_amplitude = {'q21_q22': 0.153}\n"
     ]
    },
    {
     "name": "stderr",
     "output_type": "stream",
     "text": [
      "2024-01-23 12:58:25,152 ◆ compilation_worker.py ◆ Starting Compiling\n",
      "2024-01-23 12:58:25,204 ◆ measurement_utils.py ◆ Starting measurement\n"
     ]
    },
    {
     "name": "stdout",
     "output_type": "stream",
     "text": [
      " schedule_duration = 0.013707559999999976\n"
     ]
    },
    {
     "name": "stderr",
     "output_type": "stream",
     "text": [
      "CZ_calibration_ssro: 0it [00:00, ?it/s]\n",
      "/home/loke-c/anaconda3/envs/tac/lib/python3.9/site-packages/quantify_scheduler/instrument_coordinator/components/qblox.py:1209: FutureWarning: The format of acquisition data of looped measurements in APPEND mode will change in quantify-scheduler>=0.18.0\n",
      "  warnings.warn(\n",
      "2024-01-23 12:59:08,006 ◆ measurement_utils.py ◆ Raw dataset acquired\n",
      "2024-01-23 12:59:08,019 ◆ execution_worker.py ◆ Finished measurement\n",
      "2024-01-23 12:59:08,019 ◆ calibration_supervisor.py ◆ measurement completed\n",
      "2024-01-23 12:59:14,115 ◆ calibration_supervisor.py ◆ analysis completed\n",
      "[I 2024-01-23 12:59:14,116] Trial 24 finished with value: 0.02149608004114214 and parameters: {'freq': -0.14, 'time': 1.0, 'amp': 0.003000000000000001}. Best is trial 22 with value: 0.006926086330154391.\n",
      "2024-01-23 12:59:14,118 ◆ calibration_supervisor.py ◆ Calibrating node cz_calibration_ssro\n"
     ]
    },
    {
     "name": "stdout",
     "output_type": "stream",
     "text": [
      " kwargs = {'opt_cz_pulse_frequency': {'q21_q22': -480000.0}, 'opt_cz_pulse_duration': {'q21_q22': -2.8e-09}, 'opt_cz_pulse_amplitude': {'q21_q22': 0.004}, 'couplers': ['q21_q22']}\n",
      "cz_pulse_frequency = {'q21_q22': 215640088.58646688}\n",
      "cz_pulse_duration = {'q21_q22': 3.8102015076688496e-07}\n",
      "cz_pulse_amplitude = {'q21_q22': 0.154}\n"
     ]
    },
    {
     "name": "stderr",
     "output_type": "stream",
     "text": [
      "2024-01-23 12:59:14,269 ◆ compilation_worker.py ◆ Starting Compiling\n",
      "2024-01-23 12:59:14,316 ◆ measurement_utils.py ◆ Starting measurement\n"
     ]
    },
    {
     "name": "stdout",
     "output_type": "stream",
     "text": [
      " schedule_duration = 0.01370745599999998\n"
     ]
    },
    {
     "name": "stderr",
     "output_type": "stream",
     "text": [
      "CZ_calibration_ssro: 0it [00:00, ?it/s]\n",
      "/home/loke-c/anaconda3/envs/tac/lib/python3.9/site-packages/quantify_scheduler/instrument_coordinator/components/qblox.py:1209: FutureWarning: The format of acquisition data of looped measurements in APPEND mode will change in quantify-scheduler>=0.18.0\n",
      "  warnings.warn(\n",
      "2024-01-23 12:59:57,292 ◆ measurement_utils.py ◆ Raw dataset acquired\n",
      "2024-01-23 12:59:57,305 ◆ execution_worker.py ◆ Finished measurement\n",
      "2024-01-23 12:59:57,306 ◆ calibration_supervisor.py ◆ measurement completed\n",
      "2024-01-23 13:00:03,439 ◆ calibration_supervisor.py ◆ analysis completed\n",
      "[I 2024-01-23 13:00:03,441] Trial 25 finished with value: 0.06932534520991901 and parameters: {'freq': -0.48, 'time': -2.8, 'amp': 0.004}. Best is trial 22 with value: 0.006926086330154391.\n",
      "2024-01-23 13:00:03,444 ◆ calibration_supervisor.py ◆ Calibrating node cz_calibration_ssro\n"
     ]
    },
    {
     "name": "stdout",
     "output_type": "stream",
     "text": [
      " kwargs = {'opt_cz_pulse_frequency': {'q21_q22': -219999.99999999997}, 'opt_cz_pulse_duration': {'q21_q22': -5e-09}, 'opt_cz_pulse_amplitude': {'q21_q22': 0.0009999999999999992}, 'couplers': ['q21_q22']}\n",
      "cz_pulse_frequency = {'q21_q22': 215900088.58646688}\n",
      "cz_pulse_duration = {'q21_q22': 3.7882015076688496e-07}\n",
      "cz_pulse_amplitude = {'q21_q22': 0.151}\n"
     ]
    },
    {
     "name": "stderr",
     "output_type": "stream",
     "text": [
      "2024-01-23 13:00:03,594 ◆ compilation_worker.py ◆ Starting Compiling\n",
      "2024-01-23 13:00:03,836 ◆ measurement_utils.py ◆ Starting measurement\n"
     ]
    },
    {
     "name": "stdout",
     "output_type": "stream",
     "text": [
      " schedule_duration = 0.013707351999999968\n"
     ]
    },
    {
     "name": "stderr",
     "output_type": "stream",
     "text": [
      "CZ_calibration_ssro: 0it [00:00, ?it/s]\n",
      "/home/loke-c/anaconda3/envs/tac/lib/python3.9/site-packages/quantify_scheduler/instrument_coordinator/components/qblox.py:1209: FutureWarning: The format of acquisition data of looped measurements in APPEND mode will change in quantify-scheduler>=0.18.0\n",
      "  warnings.warn(\n",
      "2024-01-23 13:00:46,833 ◆ measurement_utils.py ◆ Raw dataset acquired\n",
      "2024-01-23 13:00:46,846 ◆ execution_worker.py ◆ Finished measurement\n",
      "2024-01-23 13:00:46,847 ◆ calibration_supervisor.py ◆ measurement completed\n",
      "2024-01-23 13:00:52,880 ◆ calibration_supervisor.py ◆ analysis completed\n",
      "[I 2024-01-23 13:00:52,881] Trial 26 finished with value: 0.054108492277028845 and parameters: {'freq': -0.21999999999999997, 'time': -5.0, 'amp': 0.0009999999999999992}. Best is trial 22 with value: 0.006926086330154391.\n",
      "2024-01-23 13:00:52,884 ◆ calibration_supervisor.py ◆ Calibrating node cz_calibration_ssro\n"
     ]
    },
    {
     "name": "stdout",
     "output_type": "stream",
     "text": [
      " kwargs = {'opt_cz_pulse_frequency': {'q21_q22': -550000.0}, 'opt_cz_pulse_duration': {'q21_q22': 5e-10}, 'opt_cz_pulse_amplitude': {'q21_q22': 0.004999999999999999}, 'couplers': ['q21_q22']}\n",
      "cz_pulse_frequency = {'q21_q22': 215570088.58646688}\n",
      "cz_pulse_duration = {'q21_q22': 3.8432015076688495e-07}\n",
      "cz_pulse_amplitude = {'q21_q22': 0.155}\n"
     ]
    },
    {
     "name": "stderr",
     "output_type": "stream",
     "text": [
      "2024-01-23 13:00:53,036 ◆ compilation_worker.py ◆ Starting Compiling\n",
      "2024-01-23 13:00:53,087 ◆ measurement_utils.py ◆ Starting measurement\n"
     ]
    },
    {
     "name": "stdout",
     "output_type": "stream",
     "text": [
      " schedule_duration = 0.013707559999999976\n"
     ]
    },
    {
     "name": "stderr",
     "output_type": "stream",
     "text": [
      "CZ_calibration_ssro: 0it [00:00, ?it/s]\n",
      "/home/loke-c/anaconda3/envs/tac/lib/python3.9/site-packages/quantify_scheduler/instrument_coordinator/components/qblox.py:1209: FutureWarning: The format of acquisition data of looped measurements in APPEND mode will change in quantify-scheduler>=0.18.0\n",
      "  warnings.warn(\n",
      "2024-01-23 13:01:36,069 ◆ measurement_utils.py ◆ Raw dataset acquired\n",
      "2024-01-23 13:01:36,081 ◆ execution_worker.py ◆ Finished measurement\n",
      "2024-01-23 13:01:36,082 ◆ calibration_supervisor.py ◆ measurement completed\n",
      "2024-01-23 13:01:42,126 ◆ calibration_supervisor.py ◆ analysis completed\n",
      "[I 2024-01-23 13:01:42,127] Trial 27 finished with value: 0.06599394721159059 and parameters: {'freq': -0.55, 'time': 0.5, 'amp': 0.004999999999999999}. Best is trial 22 with value: 0.006926086330154391.\n",
      "2024-01-23 13:01:42,130 ◆ calibration_supervisor.py ◆ Calibrating node cz_calibration_ssro\n"
     ]
    },
    {
     "name": "stdout",
     "output_type": "stream",
     "text": [
      " kwargs = {'opt_cz_pulse_frequency': {'q21_q22': -679999.9999999999}, 'opt_cz_pulse_duration': {'q21_q22': -3.999999999999986e-10}, 'opt_cz_pulse_amplitude': {'q21_q22': 0.007000000000000001}, 'couplers': ['q21_q22']}\n",
      "cz_pulse_frequency = {'q21_q22': 215440088.58646688}\n",
      "cz_pulse_duration = {'q21_q22': 3.83420150766885e-07}\n",
      "cz_pulse_amplitude = {'q21_q22': 0.157}\n"
     ]
    },
    {
     "name": "stderr",
     "output_type": "stream",
     "text": [
      "2024-01-23 13:01:42,282 ◆ compilation_worker.py ◆ Starting Compiling\n",
      "2024-01-23 13:01:42,331 ◆ measurement_utils.py ◆ Starting measurement\n"
     ]
    },
    {
     "name": "stdout",
     "output_type": "stream",
     "text": [
      " schedule_duration = 0.01370745599999998\n"
     ]
    },
    {
     "name": "stderr",
     "output_type": "stream",
     "text": [
      "CZ_calibration_ssro: 0it [00:00, ?it/s]\n",
      "/home/loke-c/anaconda3/envs/tac/lib/python3.9/site-packages/quantify_scheduler/instrument_coordinator/components/qblox.py:1209: FutureWarning: The format of acquisition data of looped measurements in APPEND mode will change in quantify-scheduler>=0.18.0\n",
      "  warnings.warn(\n",
      "2024-01-23 13:02:25,311 ◆ measurement_utils.py ◆ Raw dataset acquired\n",
      "2024-01-23 13:02:25,323 ◆ execution_worker.py ◆ Finished measurement\n",
      "2024-01-23 13:02:25,324 ◆ calibration_supervisor.py ◆ measurement completed\n",
      "2024-01-23 13:02:31,606 ◆ calibration_supervisor.py ◆ analysis completed\n",
      "[I 2024-01-23 13:02:31,608] Trial 28 finished with value: 0.05475693108323608 and parameters: {'freq': -0.6799999999999999, 'time': -0.3999999999999986, 'amp': 0.007000000000000001}. Best is trial 22 with value: 0.006926086330154391.\n",
      "2024-01-23 13:02:31,611 ◆ calibration_supervisor.py ◆ Calibrating node cz_calibration_ssro\n"
     ]
    },
    {
     "name": "stdout",
     "output_type": "stream",
     "text": [
      " kwargs = {'opt_cz_pulse_frequency': {'q21_q22': -470000.0}, 'opt_cz_pulse_duration': {'q21_q22': -9.999999999999965e-11}, 'opt_cz_pulse_amplitude': {'q21_q22': 0.007000000000000001}, 'couplers': ['q21_q22']}\n",
      "cz_pulse_frequency = {'q21_q22': 215650088.58646688}\n",
      "cz_pulse_duration = {'q21_q22': 3.8372015076688496e-07}\n",
      "cz_pulse_amplitude = {'q21_q22': 0.157}\n"
     ]
    },
    {
     "name": "stderr",
     "output_type": "stream",
     "text": [
      "2024-01-23 13:02:31,754 ◆ compilation_worker.py ◆ Starting Compiling\n",
      "2024-01-23 13:02:31,804 ◆ measurement_utils.py ◆ Starting measurement\n"
     ]
    },
    {
     "name": "stdout",
     "output_type": "stream",
     "text": [
      " schedule_duration = 0.01370745599999998\n"
     ]
    },
    {
     "name": "stderr",
     "output_type": "stream",
     "text": [
      "CZ_calibration_ssro: 0it [00:00, ?it/s]\n",
      "/home/loke-c/anaconda3/envs/tac/lib/python3.9/site-packages/quantify_scheduler/instrument_coordinator/components/qblox.py:1209: FutureWarning: The format of acquisition data of looped measurements in APPEND mode will change in quantify-scheduler>=0.18.0\n",
      "  warnings.warn(\n",
      "2024-01-23 13:03:14,610 ◆ measurement_utils.py ◆ Raw dataset acquired\n",
      "2024-01-23 13:03:14,622 ◆ execution_worker.py ◆ Finished measurement\n",
      "2024-01-23 13:03:14,623 ◆ calibration_supervisor.py ◆ measurement completed\n",
      "2024-01-23 13:03:20,703 ◆ calibration_supervisor.py ◆ analysis completed\n",
      "[I 2024-01-23 13:03:20,705] Trial 29 finished with value: 0.03272980724020475 and parameters: {'freq': -0.47, 'time': -0.09999999999999964, 'amp': 0.007000000000000001}. Best is trial 22 with value: 0.006926086330154391.\n",
      "2024-01-23 13:03:20,707 ◆ calibration_supervisor.py ◆ Calibrating node cz_calibration_ssro\n"
     ]
    },
    {
     "name": "stdout",
     "output_type": "stream",
     "text": [
      " kwargs = {'opt_cz_pulse_frequency': {'q21_q22': -270000.0}, 'opt_cz_pulse_duration': {'q21_q22': -5e-09}, 'opt_cz_pulse_amplitude': {'q21_q22': 0.004999999999999999}, 'couplers': ['q21_q22']}\n",
      "cz_pulse_frequency = {'q21_q22': 215850088.58646688}\n",
      "cz_pulse_duration = {'q21_q22': 3.7882015076688496e-07}\n",
      "cz_pulse_amplitude = {'q21_q22': 0.155}\n"
     ]
    },
    {
     "name": "stderr",
     "output_type": "stream",
     "text": [
      "2024-01-23 13:03:20,859 ◆ compilation_worker.py ◆ Starting Compiling\n",
      "2024-01-23 13:03:20,917 ◆ measurement_utils.py ◆ Starting measurement\n"
     ]
    },
    {
     "name": "stdout",
     "output_type": "stream",
     "text": [
      " schedule_duration = 0.013707351999999968\n"
     ]
    },
    {
     "name": "stderr",
     "output_type": "stream",
     "text": [
      "CZ_calibration_ssro: 0it [00:00, ?it/s]\n",
      "/home/loke-c/anaconda3/envs/tac/lib/python3.9/site-packages/quantify_scheduler/instrument_coordinator/components/qblox.py:1209: FutureWarning: The format of acquisition data of looped measurements in APPEND mode will change in quantify-scheduler>=0.18.0\n",
      "  warnings.warn(\n",
      "2024-01-23 13:04:03,953 ◆ measurement_utils.py ◆ Raw dataset acquired\n",
      "2024-01-23 13:04:03,965 ◆ execution_worker.py ◆ Finished measurement\n",
      "2024-01-23 13:04:03,966 ◆ calibration_supervisor.py ◆ measurement completed\n",
      "2024-01-23 13:04:10,032 ◆ calibration_supervisor.py ◆ analysis completed\n",
      "[I 2024-01-23 13:04:10,033] Trial 30 finished with value: 0.023157688454634315 and parameters: {'freq': -0.27, 'time': -5.0, 'amp': 0.004999999999999999}. Best is trial 22 with value: 0.006926086330154391.\n",
      "2024-01-23 13:04:10,036 ◆ calibration_supervisor.py ◆ Calibrating node cz_calibration_ssro\n"
     ]
    },
    {
     "name": "stdout",
     "output_type": "stream",
     "text": [
      " kwargs = {'opt_cz_pulse_frequency': {'q21_q22': 20000.00000000002}, 'opt_cz_pulse_duration': {'q21_q22': 3.0000000000000004e-09}, 'opt_cz_pulse_amplitude': {'q21_q22': -0.002}, 'couplers': ['q21_q22']}\n",
      "cz_pulse_frequency = {'q21_q22': 216140088.58646688}\n",
      "cz_pulse_duration = {'q21_q22': 3.86820150766885e-07}\n",
      "cz_pulse_amplitude = {'q21_q22': 0.148}\n"
     ]
    },
    {
     "name": "stderr",
     "output_type": "stream",
     "text": [
      "2024-01-23 13:04:10,379 ◆ compilation_worker.py ◆ Starting Compiling\n",
      "2024-01-23 13:04:10,429 ◆ measurement_utils.py ◆ Starting measurement\n"
     ]
    },
    {
     "name": "stdout",
     "output_type": "stream",
     "text": [
      " schedule_duration = 0.013707559999999976\n"
     ]
    },
    {
     "name": "stderr",
     "output_type": "stream",
     "text": [
      "CZ_calibration_ssro: 0it [00:00, ?it/s]\n",
      "/home/loke-c/anaconda3/envs/tac/lib/python3.9/site-packages/quantify_scheduler/instrument_coordinator/components/qblox.py:1209: FutureWarning: The format of acquisition data of looped measurements in APPEND mode will change in quantify-scheduler>=0.18.0\n",
      "  warnings.warn(\n",
      "2024-01-23 13:04:53,419 ◆ measurement_utils.py ◆ Raw dataset acquired\n",
      "2024-01-23 13:04:53,432 ◆ execution_worker.py ◆ Finished measurement\n",
      "2024-01-23 13:04:53,433 ◆ calibration_supervisor.py ◆ measurement completed\n",
      "2024-01-23 13:04:59,478 ◆ calibration_supervisor.py ◆ analysis completed\n",
      "[I 2024-01-23 13:04:59,479] Trial 31 finished with value: 0.05310646138005321 and parameters: {'freq': 0.020000000000000018, 'time': 3.0, 'amp': -0.002}. Best is trial 22 with value: 0.006926086330154391.\n",
      "2024-01-23 13:04:59,481 ◆ calibration_supervisor.py ◆ Calibrating node cz_calibration_ssro\n"
     ]
    },
    {
     "name": "stdout",
     "output_type": "stream",
     "text": [
      " kwargs = {'opt_cz_pulse_frequency': {'q21_q22': -550000.0}, 'opt_cz_pulse_duration': {'q21_q22': -1.5999999999999996e-09}, 'opt_cz_pulse_amplitude': {'q21_q22': 0.008000000000000002}, 'couplers': ['q21_q22']}\n",
      "cz_pulse_frequency = {'q21_q22': 215570088.58646688}\n",
      "cz_pulse_duration = {'q21_q22': 3.8222015076688495e-07}\n",
      "cz_pulse_amplitude = {'q21_q22': 0.158}\n"
     ]
    },
    {
     "name": "stderr",
     "output_type": "stream",
     "text": [
      "2024-01-23 13:04:59,633 ◆ compilation_worker.py ◆ Starting Compiling\n",
      "2024-01-23 13:04:59,682 ◆ measurement_utils.py ◆ Starting measurement\n"
     ]
    },
    {
     "name": "stdout",
     "output_type": "stream",
     "text": [
      " schedule_duration = 0.01370745599999998\n"
     ]
    },
    {
     "name": "stderr",
     "output_type": "stream",
     "text": [
      "CZ_calibration_ssro: 0it [00:00, ?it/s]\n",
      "/home/loke-c/anaconda3/envs/tac/lib/python3.9/site-packages/quantify_scheduler/instrument_coordinator/components/qblox.py:1209: FutureWarning: The format of acquisition data of looped measurements in APPEND mode will change in quantify-scheduler>=0.18.0\n",
      "  warnings.warn(\n",
      "2024-01-23 13:05:42,767 ◆ measurement_utils.py ◆ Raw dataset acquired\n",
      "2024-01-23 13:05:42,779 ◆ execution_worker.py ◆ Finished measurement\n",
      "2024-01-23 13:05:42,780 ◆ calibration_supervisor.py ◆ measurement completed\n",
      "2024-01-23 13:05:48,861 ◆ calibration_supervisor.py ◆ analysis completed\n",
      "[I 2024-01-23 13:05:48,862] Trial 32 finished with value: 0.023778673853038557 and parameters: {'freq': -0.55, 'time': -1.5999999999999996, 'amp': 0.008000000000000002}. Best is trial 22 with value: 0.006926086330154391.\n",
      "2024-01-23 13:05:48,865 ◆ calibration_supervisor.py ◆ Calibrating node cz_calibration_ssro\n"
     ]
    },
    {
     "name": "stdout",
     "output_type": "stream",
     "text": [
      " kwargs = {'opt_cz_pulse_frequency': {'q21_q22': -470000.0}, 'opt_cz_pulse_duration': {'q21_q22': -2.3e-09}, 'opt_cz_pulse_amplitude': {'q21_q22': 0.009}, 'couplers': ['q21_q22']}\n",
      "cz_pulse_frequency = {'q21_q22': 215650088.58646688}\n",
      "cz_pulse_duration = {'q21_q22': 3.8152015076688495e-07}\n",
      "cz_pulse_amplitude = {'q21_q22': 0.159}\n"
     ]
    },
    {
     "name": "stderr",
     "output_type": "stream",
     "text": [
      "2024-01-23 13:05:49,197 ◆ compilation_worker.py ◆ Starting Compiling\n",
      "2024-01-23 13:05:49,246 ◆ measurement_utils.py ◆ Starting measurement\n"
     ]
    },
    {
     "name": "stdout",
     "output_type": "stream",
     "text": [
      " schedule_duration = 0.01370745599999998\n"
     ]
    },
    {
     "name": "stderr",
     "output_type": "stream",
     "text": [
      "CZ_calibration_ssro: 0it [00:00, ?it/s]\n",
      "/home/loke-c/anaconda3/envs/tac/lib/python3.9/site-packages/quantify_scheduler/instrument_coordinator/components/qblox.py:1209: FutureWarning: The format of acquisition data of looped measurements in APPEND mode will change in quantify-scheduler>=0.18.0\n",
      "  warnings.warn(\n",
      "2024-01-23 13:06:32,040 ◆ measurement_utils.py ◆ Raw dataset acquired\n",
      "2024-01-23 13:06:32,053 ◆ execution_worker.py ◆ Finished measurement\n",
      "2024-01-23 13:06:32,053 ◆ calibration_supervisor.py ◆ measurement completed\n",
      "2024-01-23 13:06:38,115 ◆ calibration_supervisor.py ◆ analysis completed\n",
      "[I 2024-01-23 13:06:38,116] Trial 33 finished with value: 0.03676525523866306 and parameters: {'freq': -0.47, 'time': -2.3, 'amp': 0.009}. Best is trial 22 with value: 0.006926086330154391.\n",
      "2024-01-23 13:06:38,119 ◆ calibration_supervisor.py ◆ Calibrating node cz_calibration_ssro\n"
     ]
    },
    {
     "name": "stdout",
     "output_type": "stream",
     "text": [
      " kwargs = {'opt_cz_pulse_frequency': {'q21_q22': -900000.0}, 'opt_cz_pulse_duration': {'q21_q22': -1.5000000000000002e-09}, 'opt_cz_pulse_amplitude': {'q21_q22': 0.006}, 'couplers': ['q21_q22']}\n",
      "cz_pulse_frequency = {'q21_q22': 215220088.58646688}\n",
      "cz_pulse_duration = {'q21_q22': 3.8232015076688496e-07}\n",
      "cz_pulse_amplitude = {'q21_q22': 0.156}\n"
     ]
    },
    {
     "name": "stderr",
     "output_type": "stream",
     "text": [
      "2024-01-23 13:06:38,271 ◆ compilation_worker.py ◆ Starting Compiling\n",
      "2024-01-23 13:06:38,319 ◆ measurement_utils.py ◆ Starting measurement\n"
     ]
    },
    {
     "name": "stdout",
     "output_type": "stream",
     "text": [
      " schedule_duration = 0.01370745599999998\n"
     ]
    },
    {
     "name": "stderr",
     "output_type": "stream",
     "text": [
      "CZ_calibration_ssro: 0it [00:00, ?it/s]\n",
      "/home/loke-c/anaconda3/envs/tac/lib/python3.9/site-packages/quantify_scheduler/instrument_coordinator/components/qblox.py:1209: FutureWarning: The format of acquisition data of looped measurements in APPEND mode will change in quantify-scheduler>=0.18.0\n",
      "  warnings.warn(\n",
      "2024-01-23 13:07:21,138 ◆ measurement_utils.py ◆ Raw dataset acquired\n",
      "2024-01-23 13:07:21,151 ◆ execution_worker.py ◆ Finished measurement\n",
      "2024-01-23 13:07:21,152 ◆ calibration_supervisor.py ◆ measurement completed\n",
      "2024-01-23 13:07:27,276 ◆ calibration_supervisor.py ◆ analysis completed\n",
      "[I 2024-01-23 13:07:27,278] Trial 34 finished with value: 1.023815159041442 and parameters: {'freq': -0.9, 'time': -1.5, 'amp': 0.006}. Best is trial 22 with value: 0.006926086330154391.\n",
      "2024-01-23 13:07:27,280 ◆ calibration_supervisor.py ◆ Calibrating node cz_calibration_ssro\n"
     ]
    },
    {
     "name": "stdout",
     "output_type": "stream",
     "text": [
      " kwargs = {'opt_cz_pulse_frequency': {'q21_q22': -390000.0}, 'opt_cz_pulse_duration': {'q21_q22': 8.800000000000001e-09}, 'opt_cz_pulse_amplitude': {'q21_q22': 0.01}, 'couplers': ['q21_q22']}\n",
      "cz_pulse_frequency = {'q21_q22': 215730088.58646688}\n",
      "cz_pulse_duration = {'q21_q22': 3.92620150766885e-07}\n",
      "cz_pulse_amplitude = {'q21_q22': 0.16}\n"
     ]
    },
    {
     "name": "stderr",
     "output_type": "stream",
     "text": [
      "2024-01-23 13:07:27,434 ◆ compilation_worker.py ◆ Starting Compiling\n",
      "2024-01-23 13:07:27,483 ◆ measurement_utils.py ◆ Starting measurement\n"
     ]
    },
    {
     "name": "stdout",
     "output_type": "stream",
     "text": [
      " schedule_duration = 0.01370776799999997\n"
     ]
    },
    {
     "name": "stderr",
     "output_type": "stream",
     "text": [
      "CZ_calibration_ssro: 0it [00:00, ?it/s]\n",
      "/home/loke-c/anaconda3/envs/tac/lib/python3.9/site-packages/quantify_scheduler/instrument_coordinator/components/qblox.py:1209: FutureWarning: The format of acquisition data of looped measurements in APPEND mode will change in quantify-scheduler>=0.18.0\n",
      "  warnings.warn(\n",
      "2024-01-23 13:08:10,477 ◆ measurement_utils.py ◆ Raw dataset acquired\n",
      "2024-01-23 13:08:10,490 ◆ execution_worker.py ◆ Finished measurement\n",
      "2024-01-23 13:08:10,491 ◆ calibration_supervisor.py ◆ measurement completed\n",
      "2024-01-23 13:08:16,819 ◆ calibration_supervisor.py ◆ analysis completed\n",
      "[I 2024-01-23 13:08:16,821] Trial 35 finished with value: 0.02379002435048682 and parameters: {'freq': -0.39, 'time': 8.8, 'amp': 0.01}. Best is trial 22 with value: 0.006926086330154391.\n",
      "2024-01-23 13:08:16,824 ◆ calibration_supervisor.py ◆ Calibrating node cz_calibration_ssro\n"
     ]
    },
    {
     "name": "stdout",
     "output_type": "stream",
     "text": [
      " kwargs = {'opt_cz_pulse_frequency': {'q21_q22': -530000.0}, 'opt_cz_pulse_duration': {'q21_q22': -4.9e-09}, 'opt_cz_pulse_amplitude': {'q21_q22': 0.007000000000000001}, 'couplers': ['q21_q22']}\n",
      "cz_pulse_frequency = {'q21_q22': 215590088.58646688}\n",
      "cz_pulse_duration = {'q21_q22': 3.7892015076688497e-07}\n",
      "cz_pulse_amplitude = {'q21_q22': 0.157}\n"
     ]
    },
    {
     "name": "stderr",
     "output_type": "stream",
     "text": [
      "2024-01-23 13:08:16,981 ◆ compilation_worker.py ◆ Starting Compiling\n",
      "2024-01-23 13:08:17,033 ◆ measurement_utils.py ◆ Starting measurement\n"
     ]
    },
    {
     "name": "stdout",
     "output_type": "stream",
     "text": [
      " schedule_duration = 0.013707351999999968\n"
     ]
    },
    {
     "name": "stderr",
     "output_type": "stream",
     "text": [
      "CZ_calibration_ssro: 0it [00:00, ?it/s]\n",
      "/home/loke-c/anaconda3/envs/tac/lib/python3.9/site-packages/quantify_scheduler/instrument_coordinator/components/qblox.py:1209: FutureWarning: The format of acquisition data of looped measurements in APPEND mode will change in quantify-scheduler>=0.18.0\n",
      "  warnings.warn(\n",
      "2024-01-23 13:09:00,024 ◆ measurement_utils.py ◆ Raw dataset acquired\n",
      "2024-01-23 13:09:00,036 ◆ execution_worker.py ◆ Finished measurement\n",
      "2024-01-23 13:09:00,037 ◆ calibration_supervisor.py ◆ measurement completed\n",
      "2024-01-23 13:09:06,178 ◆ calibration_supervisor.py ◆ analysis completed\n",
      "[I 2024-01-23 13:09:06,179] Trial 36 finished with value: 0.06531413441091288 and parameters: {'freq': -0.53, 'time': -4.8999999999999995, 'amp': 0.007000000000000001}. Best is trial 22 with value: 0.006926086330154391.\n",
      "2024-01-23 13:09:06,181 ◆ calibration_supervisor.py ◆ Calibrating node cz_calibration_ssro\n"
     ]
    },
    {
     "name": "stdout",
     "output_type": "stream",
     "text": [
      " kwargs = {'opt_cz_pulse_frequency': {'q21_q22': -270000.0}, 'opt_cz_pulse_duration': {'q21_q22': 1e-09}, 'opt_cz_pulse_amplitude': {'q21_q22': 0.0009999999999999992}, 'couplers': ['q21_q22']}\n",
      "cz_pulse_frequency = {'q21_q22': 215850088.58646688}\n",
      "cz_pulse_duration = {'q21_q22': 3.84820150766885e-07}\n",
      "cz_pulse_amplitude = {'q21_q22': 0.151}\n"
     ]
    },
    {
     "name": "stderr",
     "output_type": "stream",
     "text": [
      "2024-01-23 13:09:06,334 ◆ compilation_worker.py ◆ Starting Compiling\n",
      "2024-01-23 13:09:06,382 ◆ measurement_utils.py ◆ Starting measurement\n"
     ]
    },
    {
     "name": "stdout",
     "output_type": "stream",
     "text": [
      " schedule_duration = 0.013707559999999976\n"
     ]
    },
    {
     "name": "stderr",
     "output_type": "stream",
     "text": [
      "CZ_calibration_ssro: 0it [00:00, ?it/s]\n",
      "/home/loke-c/anaconda3/envs/tac/lib/python3.9/site-packages/quantify_scheduler/instrument_coordinator/components/qblox.py:1209: FutureWarning: The format of acquisition data of looped measurements in APPEND mode will change in quantify-scheduler>=0.18.0\n",
      "  warnings.warn(\n",
      "2024-01-23 13:09:49,356 ◆ measurement_utils.py ◆ Raw dataset acquired\n",
      "2024-01-23 13:09:49,369 ◆ execution_worker.py ◆ Finished measurement\n",
      "2024-01-23 13:09:49,370 ◆ calibration_supervisor.py ◆ measurement completed\n",
      "2024-01-23 13:09:55,600 ◆ calibration_supervisor.py ◆ analysis completed\n",
      "[I 2024-01-23 13:09:55,601] Trial 37 finished with value: 0.01215039496573934 and parameters: {'freq': -0.27, 'time': 1.0, 'amp': 0.0009999999999999992}. Best is trial 22 with value: 0.006926086330154391.\n",
      "2024-01-23 13:09:55,604 ◆ calibration_supervisor.py ◆ Calibrating node cz_calibration_ssro\n"
     ]
    },
    {
     "name": "stdout",
     "output_type": "stream",
     "text": [
      " kwargs = {'opt_cz_pulse_frequency': {'q21_q22': -470000.0}, 'opt_cz_pulse_duration': {'q21_q22': -1.999999999999993e-10}, 'opt_cz_pulse_amplitude': {'q21_q22': 0.004}, 'couplers': ['q21_q22']}\n",
      "cz_pulse_frequency = {'q21_q22': 215650088.58646688}\n",
      "cz_pulse_duration = {'q21_q22': 3.8362015076688495e-07}\n",
      "cz_pulse_amplitude = {'q21_q22': 0.154}\n"
     ]
    },
    {
     "name": "stderr",
     "output_type": "stream",
     "text": [
      "2024-01-23 13:09:55,747 ◆ compilation_worker.py ◆ Starting Compiling\n",
      "2024-01-23 13:09:55,797 ◆ measurement_utils.py ◆ Starting measurement\n"
     ]
    },
    {
     "name": "stdout",
     "output_type": "stream",
     "text": [
      " schedule_duration = 0.01370745599999998\n"
     ]
    },
    {
     "name": "stderr",
     "output_type": "stream",
     "text": [
      "CZ_calibration_ssro: 0it [00:00, ?it/s]\n",
      "/home/loke-c/anaconda3/envs/tac/lib/python3.9/site-packages/quantify_scheduler/instrument_coordinator/components/qblox.py:1209: FutureWarning: The format of acquisition data of looped measurements in APPEND mode will change in quantify-scheduler>=0.18.0\n",
      "  warnings.warn(\n",
      "2024-01-23 13:10:38,792 ◆ measurement_utils.py ◆ Raw dataset acquired\n",
      "2024-01-23 13:10:38,804 ◆ execution_worker.py ◆ Finished measurement\n",
      "2024-01-23 13:10:38,805 ◆ calibration_supervisor.py ◆ measurement completed\n",
      "2024-01-23 13:10:44,862 ◆ calibration_supervisor.py ◆ analysis completed\n",
      "[I 2024-01-23 13:10:44,863] Trial 38 finished with value: 0.06622785599178826 and parameters: {'freq': -0.47, 'time': -0.1999999999999993, 'amp': 0.004}. Best is trial 22 with value: 0.006926086330154391.\n",
      "2024-01-23 13:10:44,865 ◆ calibration_supervisor.py ◆ Calibrating node cz_calibration_ssro\n"
     ]
    },
    {
     "name": "stdout",
     "output_type": "stream",
     "text": [
      " kwargs = {'opt_cz_pulse_frequency': {'q21_q22': -30000.000000000025}, 'opt_cz_pulse_duration': {'q21_q22': 4.000000000000004e-10}, 'opt_cz_pulse_amplitude': {'q21_q22': 0.003000000000000001}, 'couplers': ['q21_q22']}\n",
      "cz_pulse_frequency = {'q21_q22': 216090088.58646688}\n",
      "cz_pulse_duration = {'q21_q22': 3.8422015076688494e-07}\n",
      "cz_pulse_amplitude = {'q21_q22': 0.153}\n"
     ]
    },
    {
     "name": "stderr",
     "output_type": "stream",
     "text": [
      "2024-01-23 13:10:45,016 ◆ compilation_worker.py ◆ Starting Compiling\n",
      "2024-01-23 13:10:45,063 ◆ measurement_utils.py ◆ Starting measurement\n"
     ]
    },
    {
     "name": "stdout",
     "output_type": "stream",
     "text": [
      " schedule_duration = 0.013707559999999976\n"
     ]
    },
    {
     "name": "stderr",
     "output_type": "stream",
     "text": [
      "CZ_calibration_ssro: 0it [00:00, ?it/s]\n",
      "/home/loke-c/anaconda3/envs/tac/lib/python3.9/site-packages/quantify_scheduler/instrument_coordinator/components/qblox.py:1209: FutureWarning: The format of acquisition data of looped measurements in APPEND mode will change in quantify-scheduler>=0.18.0\n",
      "  warnings.warn(\n",
      "2024-01-23 13:11:28,052 ◆ measurement_utils.py ◆ Raw dataset acquired\n",
      "2024-01-23 13:11:28,064 ◆ execution_worker.py ◆ Finished measurement\n",
      "2024-01-23 13:11:28,065 ◆ calibration_supervisor.py ◆ measurement completed\n",
      "2024-01-23 13:11:34,141 ◆ calibration_supervisor.py ◆ analysis completed\n",
      "[I 2024-01-23 13:11:34,143] Trial 39 finished with value: 0.14029636867144993 and parameters: {'freq': -0.030000000000000027, 'time': 0.40000000000000036, 'amp': 0.003000000000000001}. Best is trial 22 with value: 0.006926086330154391.\n",
      "2024-01-23 13:11:34,145 ◆ calibration_supervisor.py ◆ Calibrating node cz_calibration_ssro\n"
     ]
    },
    {
     "name": "stdout",
     "output_type": "stream",
     "text": [
      " kwargs = {'opt_cz_pulse_frequency': {'q21_q22': -510000.0}, 'opt_cz_pulse_duration': {'q21_q22': -5.8e-09}, 'opt_cz_pulse_amplitude': {'q21_q22': -0.0009999999999999992}, 'couplers': ['q21_q22']}\n",
      "cz_pulse_frequency = {'q21_q22': 215610088.58646688}\n",
      "cz_pulse_duration = {'q21_q22': 3.7802015076688495e-07}\n",
      "cz_pulse_amplitude = {'q21_q22': 0.149}\n"
     ]
    },
    {
     "name": "stderr",
     "output_type": "stream",
     "text": [
      "2024-01-23 13:11:34,481 ◆ compilation_worker.py ◆ Starting Compiling\n",
      "2024-01-23 13:11:34,532 ◆ measurement_utils.py ◆ Starting measurement\n"
     ]
    },
    {
     "name": "stdout",
     "output_type": "stream",
     "text": [
      " schedule_duration = 0.013707351999999968\n"
     ]
    },
    {
     "name": "stderr",
     "output_type": "stream",
     "text": [
      "CZ_calibration_ssro: 0it [00:00, ?it/s]\n",
      "/home/loke-c/anaconda3/envs/tac/lib/python3.9/site-packages/quantify_scheduler/instrument_coordinator/components/qblox.py:1209: FutureWarning: The format of acquisition data of looped measurements in APPEND mode will change in quantify-scheduler>=0.18.0\n",
      "  warnings.warn(\n",
      "2024-01-23 13:12:17,518 ◆ measurement_utils.py ◆ Raw dataset acquired\n",
      "2024-01-23 13:12:17,530 ◆ execution_worker.py ◆ Finished measurement\n",
      "2024-01-23 13:12:17,531 ◆ calibration_supervisor.py ◆ measurement completed\n",
      "2024-01-23 13:12:23,655 ◆ calibration_supervisor.py ◆ analysis completed\n",
      "[I 2024-01-23 13:12:23,657] Trial 40 finished with value: 0.1771363109209008 and parameters: {'freq': -0.51, 'time': -5.8, 'amp': -0.0009999999999999992}. Best is trial 22 with value: 0.006926086330154391.\n",
      "2024-01-23 13:12:23,659 ◆ calibration_supervisor.py ◆ Calibrating node cz_calibration_ssro\n"
     ]
    },
    {
     "name": "stdout",
     "output_type": "stream",
     "text": [
      " kwargs = {'opt_cz_pulse_frequency': {'q21_q22': 110000.0000000001}, 'opt_cz_pulse_duration': {'q21_q22': -4.0999999999999995e-09}, 'opt_cz_pulse_amplitude': {'q21_q22': 0.01}, 'couplers': ['q21_q22']}\n",
      "cz_pulse_frequency = {'q21_q22': 216230088.58646688}\n",
      "cz_pulse_duration = {'q21_q22': 3.7972015076688497e-07}\n",
      "cz_pulse_amplitude = {'q21_q22': 0.16}\n"
     ]
    },
    {
     "name": "stderr",
     "output_type": "stream",
     "text": [
      "2024-01-23 13:12:23,814 ◆ compilation_worker.py ◆ Starting Compiling\n",
      "2024-01-23 13:12:23,863 ◆ measurement_utils.py ◆ Starting measurement\n"
     ]
    },
    {
     "name": "stdout",
     "output_type": "stream",
     "text": [
      " schedule_duration = 0.013707351999999968\n"
     ]
    },
    {
     "name": "stderr",
     "output_type": "stream",
     "text": [
      "CZ_calibration_ssro: 0it [00:00, ?it/s]\n",
      "/home/loke-c/anaconda3/envs/tac/lib/python3.9/site-packages/quantify_scheduler/instrument_coordinator/components/qblox.py:1209: FutureWarning: The format of acquisition data of looped measurements in APPEND mode will change in quantify-scheduler>=0.18.0\n",
      "  warnings.warn(\n",
      "2024-01-23 13:13:06,680 ◆ measurement_utils.py ◆ Raw dataset acquired\n",
      "2024-01-23 13:13:06,692 ◆ execution_worker.py ◆ Finished measurement\n",
      "2024-01-23 13:13:06,693 ◆ calibration_supervisor.py ◆ measurement completed\n",
      "2024-01-23 13:13:12,825 ◆ calibration_supervisor.py ◆ analysis completed\n",
      "[I 2024-01-23 13:13:12,826] Trial 41 finished with value: 0.0237545004345815 and parameters: {'freq': 0.1100000000000001, 'time': -4.1, 'amp': 0.01}. Best is trial 22 with value: 0.006926086330154391.\n",
      "2024-01-23 13:13:12,829 ◆ calibration_supervisor.py ◆ Calibrating node cz_calibration_ssro\n"
     ]
    },
    {
     "name": "stdout",
     "output_type": "stream",
     "text": [
      " kwargs = {'opt_cz_pulse_frequency': {'q21_q22': -740000.0}, 'opt_cz_pulse_duration': {'q21_q22': 0.0}, 'opt_cz_pulse_amplitude': {'q21_q22': 0.009}, 'couplers': ['q21_q22']}\n",
      "cz_pulse_frequency = {'q21_q22': 215380088.58646688}\n",
      "cz_pulse_duration = {'q21_q22': 3.8382015076688496e-07}\n",
      "cz_pulse_amplitude = {'q21_q22': 0.159}\n"
     ]
    },
    {
     "name": "stderr",
     "output_type": "stream",
     "text": [
      "2024-01-23 13:13:12,981 ◆ compilation_worker.py ◆ Starting Compiling\n",
      "2024-01-23 13:13:13,030 ◆ measurement_utils.py ◆ Starting measurement\n"
     ]
    },
    {
     "name": "stdout",
     "output_type": "stream",
     "text": [
      " schedule_duration = 0.01370745599999998\n"
     ]
    },
    {
     "name": "stderr",
     "output_type": "stream",
     "text": [
      "CZ_calibration_ssro: 0it [00:00, ?it/s]\n",
      "/home/loke-c/anaconda3/envs/tac/lib/python3.9/site-packages/quantify_scheduler/instrument_coordinator/components/qblox.py:1209: FutureWarning: The format of acquisition data of looped measurements in APPEND mode will change in quantify-scheduler>=0.18.0\n",
      "  warnings.warn(\n",
      "2024-01-23 13:13:56,009 ◆ measurement_utils.py ◆ Raw dataset acquired\n",
      "2024-01-23 13:13:56,021 ◆ execution_worker.py ◆ Finished measurement\n",
      "2024-01-23 13:13:56,022 ◆ calibration_supervisor.py ◆ measurement completed\n",
      "2024-01-23 13:14:02,348 ◆ calibration_supervisor.py ◆ analysis completed\n",
      "[I 2024-01-23 13:14:02,349] Trial 42 finished with value: 0.0461754109344191 and parameters: {'freq': -0.74, 'time': 0.0, 'amp': 0.009}. Best is trial 22 with value: 0.006926086330154391.\n",
      "2024-01-23 13:14:02,353 ◆ calibration_supervisor.py ◆ Calibrating node cz_calibration_ssro\n"
     ]
    },
    {
     "name": "stdout",
     "output_type": "stream",
     "text": [
      " kwargs = {'opt_cz_pulse_frequency': {'q21_q22': -59999.99999999994}, 'opt_cz_pulse_duration': {'q21_q22': 3.4000000000000007e-09}, 'opt_cz_pulse_amplitude': {'q21_q22': 0.004999999999999999}, 'couplers': ['q21_q22']}\n",
      "cz_pulse_frequency = {'q21_q22': 216060088.58646688}\n",
      "cz_pulse_duration = {'q21_q22': 3.8722015076688495e-07}\n",
      "cz_pulse_amplitude = {'q21_q22': 0.155}\n"
     ]
    },
    {
     "name": "stderr",
     "output_type": "stream",
     "text": [
      "2024-01-23 13:14:02,505 ◆ compilation_worker.py ◆ Starting Compiling\n",
      "2024-01-23 13:14:02,555 ◆ measurement_utils.py ◆ Starting measurement\n"
     ]
    },
    {
     "name": "stdout",
     "output_type": "stream",
     "text": [
      " schedule_duration = 0.013707559999999976\n"
     ]
    },
    {
     "name": "stderr",
     "output_type": "stream",
     "text": [
      "CZ_calibration_ssro: 0it [00:00, ?it/s]\n",
      "/home/loke-c/anaconda3/envs/tac/lib/python3.9/site-packages/quantify_scheduler/instrument_coordinator/components/qblox.py:1209: FutureWarning: The format of acquisition data of looped measurements in APPEND mode will change in quantify-scheduler>=0.18.0\n",
      "  warnings.warn(\n",
      "2024-01-23 13:14:45,542 ◆ measurement_utils.py ◆ Raw dataset acquired\n",
      "2024-01-23 13:14:45,555 ◆ execution_worker.py ◆ Finished measurement\n",
      "2024-01-23 13:14:45,555 ◆ calibration_supervisor.py ◆ measurement completed\n",
      "2024-01-23 13:14:51,682 ◆ calibration_supervisor.py ◆ analysis completed\n",
      "[I 2024-01-23 13:14:51,684] Trial 43 finished with value: 0.008019281637177128 and parameters: {'freq': -0.05999999999999994, 'time': 3.4000000000000004, 'amp': 0.004999999999999999}. Best is trial 22 with value: 0.006926086330154391.\n",
      "2024-01-23 13:14:51,686 ◆ calibration_supervisor.py ◆ Calibrating node cz_calibration_ssro\n"
     ]
    },
    {
     "name": "stdout",
     "output_type": "stream",
     "text": [
      " kwargs = {'opt_cz_pulse_frequency': {'q21_q22': -350000.0}, 'opt_cz_pulse_duration': {'q21_q22': 4.200000000000001e-09}, 'opt_cz_pulse_amplitude': {'q21_q22': 0.008000000000000002}, 'couplers': ['q21_q22']}\n",
      "cz_pulse_frequency = {'q21_q22': 215770088.58646688}\n",
      "cz_pulse_duration = {'q21_q22': 3.8802015076688496e-07}\n",
      "cz_pulse_amplitude = {'q21_q22': 0.158}\n"
     ]
    },
    {
     "name": "stderr",
     "output_type": "stream",
     "text": [
      "2024-01-23 13:14:51,844 ◆ compilation_worker.py ◆ Starting Compiling\n",
      "2024-01-23 13:14:51,895 ◆ measurement_utils.py ◆ Starting measurement\n"
     ]
    },
    {
     "name": "stdout",
     "output_type": "stream",
     "text": [
      " schedule_duration = 0.013707663999999975\n"
     ]
    },
    {
     "name": "stderr",
     "output_type": "stream",
     "text": [
      "CZ_calibration_ssro: 0it [00:00, ?it/s]\n",
      "/home/loke-c/anaconda3/envs/tac/lib/python3.9/site-packages/quantify_scheduler/instrument_coordinator/components/qblox.py:1209: FutureWarning: The format of acquisition data of looped measurements in APPEND mode will change in quantify-scheduler>=0.18.0\n",
      "  warnings.warn(\n",
      "2024-01-23 13:15:34,876 ◆ measurement_utils.py ◆ Raw dataset acquired\n",
      "2024-01-23 13:15:34,889 ◆ execution_worker.py ◆ Finished measurement\n",
      "2024-01-23 13:15:34,889 ◆ calibration_supervisor.py ◆ measurement completed\n",
      "2024-01-23 13:15:41,175 ◆ calibration_supervisor.py ◆ analysis completed\n",
      "[I 2024-01-23 13:15:41,176] Trial 44 finished with value: 0.0263711430173373 and parameters: {'freq': -0.35, 'time': 4.200000000000001, 'amp': 0.008000000000000002}. Best is trial 22 with value: 0.006926086330154391.\n",
      "2024-01-23 13:15:41,178 ◆ calibration_supervisor.py ◆ Calibrating node cz_calibration_ssro\n"
     ]
    },
    {
     "name": "stdout",
     "output_type": "stream",
     "text": [
      " kwargs = {'opt_cz_pulse_frequency': {'q21_q22': 80000.00000000007}, 'opt_cz_pulse_duration': {'q21_q22': -2.0999999999999998e-09}, 'opt_cz_pulse_amplitude': {'q21_q22': 0.004}, 'couplers': ['q21_q22']}\n",
      "cz_pulse_frequency = {'q21_q22': 216200088.58646688}\n",
      "cz_pulse_duration = {'q21_q22': 3.8172015076688496e-07}\n",
      "cz_pulse_amplitude = {'q21_q22': 0.154}\n"
     ]
    },
    {
     "name": "stderr",
     "output_type": "stream",
     "text": [
      "2024-01-23 13:15:41,322 ◆ compilation_worker.py ◆ Starting Compiling\n",
      "2024-01-23 13:15:41,372 ◆ measurement_utils.py ◆ Starting measurement\n"
     ]
    },
    {
     "name": "stdout",
     "output_type": "stream",
     "text": [
      " schedule_duration = 0.01370745599999998\n"
     ]
    },
    {
     "name": "stderr",
     "output_type": "stream",
     "text": [
      "CZ_calibration_ssro: 0it [00:00, ?it/s]\n",
      "/home/loke-c/anaconda3/envs/tac/lib/python3.9/site-packages/quantify_scheduler/instrument_coordinator/components/qblox.py:1209: FutureWarning: The format of acquisition data of looped measurements in APPEND mode will change in quantify-scheduler>=0.18.0\n",
      "  warnings.warn(\n",
      "2024-01-23 13:16:24,348 ◆ measurement_utils.py ◆ Raw dataset acquired\n",
      "2024-01-23 13:16:24,360 ◆ execution_worker.py ◆ Finished measurement\n",
      "2024-01-23 13:16:24,361 ◆ calibration_supervisor.py ◆ measurement completed\n",
      "2024-01-23 13:16:30,519 ◆ calibration_supervisor.py ◆ analysis completed\n",
      "[I 2024-01-23 13:16:30,520] Trial 45 finished with value: 0.015840502347513517 and parameters: {'freq': 0.08000000000000007, 'time': -2.0999999999999996, 'amp': 0.004}. Best is trial 22 with value: 0.006926086330154391.\n",
      "2024-01-23 13:16:30,523 ◆ calibration_supervisor.py ◆ Calibrating node cz_calibration_ssro\n"
     ]
    },
    {
     "name": "stdout",
     "output_type": "stream",
     "text": [
      " kwargs = {'opt_cz_pulse_frequency': {'q21_q22': -459999.99999999994}, 'opt_cz_pulse_duration': {'q21_q22': -7.6e-09}, 'opt_cz_pulse_amplitude': {'q21_q22': 0.01}, 'couplers': ['q21_q22']}\n",
      "cz_pulse_frequency = {'q21_q22': 215660088.58646688}\n",
      "cz_pulse_duration = {'q21_q22': 3.76220150766885e-07}\n",
      "cz_pulse_amplitude = {'q21_q22': 0.16}\n"
     ]
    },
    {
     "name": "stderr",
     "output_type": "stream",
     "text": [
      "2024-01-23 13:16:30,674 ◆ compilation_worker.py ◆ Starting Compiling\n",
      "2024-01-23 13:16:30,722 ◆ measurement_utils.py ◆ Starting measurement\n"
     ]
    },
    {
     "name": "stdout",
     "output_type": "stream",
     "text": [
      " schedule_duration = 0.013707351999999968\n"
     ]
    },
    {
     "name": "stderr",
     "output_type": "stream",
     "text": [
      "CZ_calibration_ssro: 0it [00:00, ?it/s]\n",
      "/home/loke-c/anaconda3/envs/tac/lib/python3.9/site-packages/quantify_scheduler/instrument_coordinator/components/qblox.py:1209: FutureWarning: The format of acquisition data of looped measurements in APPEND mode will change in quantify-scheduler>=0.18.0\n",
      "  warnings.warn(\n",
      "2024-01-23 13:17:13,703 ◆ measurement_utils.py ◆ Raw dataset acquired\n",
      "2024-01-23 13:17:13,716 ◆ execution_worker.py ◆ Finished measurement\n",
      "2024-01-23 13:17:13,717 ◆ calibration_supervisor.py ◆ measurement completed\n",
      "2024-01-23 13:17:19,829 ◆ calibration_supervisor.py ◆ analysis completed\n",
      "[I 2024-01-23 13:17:19,830] Trial 46 finished with value: 0.016720570049883914 and parameters: {'freq': -0.45999999999999996, 'time': -7.6, 'amp': 0.01}. Best is trial 22 with value: 0.006926086330154391.\n",
      "2024-01-23 13:17:19,832 ◆ calibration_supervisor.py ◆ Calibrating node cz_calibration_ssro\n"
     ]
    },
    {
     "name": "stdout",
     "output_type": "stream",
     "text": [
      " kwargs = {'opt_cz_pulse_frequency': {'q21_q22': 150000.00000000015}, 'opt_cz_pulse_duration': {'q21_q22': 7.000000000000011e-10}, 'opt_cz_pulse_amplitude': {'q21_q22': 0.004999999999999999}, 'couplers': ['q21_q22']}\n",
      "cz_pulse_frequency = {'q21_q22': 216270088.58646688}\n",
      "cz_pulse_duration = {'q21_q22': 3.8452015076688496e-07}\n",
      "cz_pulse_amplitude = {'q21_q22': 0.155}\n"
     ]
    },
    {
     "name": "stderr",
     "output_type": "stream",
     "text": [
      "2024-01-23 13:17:20,177 ◆ compilation_worker.py ◆ Starting Compiling\n",
      "2024-01-23 13:17:20,227 ◆ measurement_utils.py ◆ Starting measurement\n"
     ]
    },
    {
     "name": "stdout",
     "output_type": "stream",
     "text": [
      " schedule_duration = 0.013707559999999976\n"
     ]
    },
    {
     "name": "stderr",
     "output_type": "stream",
     "text": [
      "CZ_calibration_ssro: 0it [00:00, ?it/s]\n",
      "/home/loke-c/anaconda3/envs/tac/lib/python3.9/site-packages/quantify_scheduler/instrument_coordinator/components/qblox.py:1209: FutureWarning: The format of acquisition data of looped measurements in APPEND mode will change in quantify-scheduler>=0.18.0\n",
      "  warnings.warn(\n",
      "2024-01-23 13:18:03,212 ◆ measurement_utils.py ◆ Raw dataset acquired\n",
      "2024-01-23 13:18:03,224 ◆ execution_worker.py ◆ Finished measurement\n",
      "2024-01-23 13:18:03,225 ◆ calibration_supervisor.py ◆ measurement completed\n",
      "2024-01-23 13:18:09,264 ◆ calibration_supervisor.py ◆ analysis completed\n",
      "[I 2024-01-23 13:18:09,265] Trial 47 finished with value: 0.026438513912092773 and parameters: {'freq': 0.15000000000000013, 'time': 0.7000000000000011, 'amp': 0.004999999999999999}. Best is trial 22 with value: 0.006926086330154391.\n",
      "2024-01-23 13:18:09,268 ◆ calibration_supervisor.py ◆ Calibrating node cz_calibration_ssro\n"
     ]
    },
    {
     "name": "stdout",
     "output_type": "stream",
     "text": [
      " kwargs = {'opt_cz_pulse_frequency': {'q21_q22': -40000.00000000004}, 'opt_cz_pulse_duration': {'q21_q22': -2.6999999999999994e-09}, 'opt_cz_pulse_amplitude': {'q21_q22': 0.0009999999999999992}, 'couplers': ['q21_q22']}\n",
      "cz_pulse_frequency = {'q21_q22': 216080088.58646688}\n",
      "cz_pulse_duration = {'q21_q22': 3.8112015076688497e-07}\n",
      "cz_pulse_amplitude = {'q21_q22': 0.151}\n"
     ]
    },
    {
     "name": "stderr",
     "output_type": "stream",
     "text": [
      "2024-01-23 13:18:09,418 ◆ compilation_worker.py ◆ Starting Compiling\n",
      "2024-01-23 13:18:09,466 ◆ measurement_utils.py ◆ Starting measurement\n"
     ]
    },
    {
     "name": "stdout",
     "output_type": "stream",
     "text": [
      " schedule_duration = 0.01370745599999998\n"
     ]
    },
    {
     "name": "stderr",
     "output_type": "stream",
     "text": [
      "CZ_calibration_ssro: 0it [00:00, ?it/s]\n",
      "/home/loke-c/anaconda3/envs/tac/lib/python3.9/site-packages/quantify_scheduler/instrument_coordinator/components/qblox.py:1209: FutureWarning: The format of acquisition data of looped measurements in APPEND mode will change in quantify-scheduler>=0.18.0\n",
      "  warnings.warn(\n",
      "2024-01-23 13:18:52,436 ◆ measurement_utils.py ◆ Raw dataset acquired\n",
      "2024-01-23 13:18:52,449 ◆ execution_worker.py ◆ Finished measurement\n",
      "2024-01-23 13:18:52,449 ◆ calibration_supervisor.py ◆ measurement completed\n",
      "2024-01-23 13:18:58,585 ◆ calibration_supervisor.py ◆ analysis completed\n",
      "[I 2024-01-23 13:18:58,586] Trial 48 finished with value: 0.029259786878224805 and parameters: {'freq': -0.040000000000000036, 'time': -2.6999999999999993, 'amp': 0.0009999999999999992}. Best is trial 22 with value: 0.006926086330154391.\n",
      "2024-01-23 13:18:58,589 ◆ calibration_supervisor.py ◆ Calibrating node cz_calibration_ssro\n"
     ]
    },
    {
     "name": "stdout",
     "output_type": "stream",
     "text": [
      " kwargs = {'opt_cz_pulse_frequency': {'q21_q22': -49999.999999999935}, 'opt_cz_pulse_duration': {'q21_q22': 2.4000000000000004e-09}, 'opt_cz_pulse_amplitude': {'q21_q22': -0.0009999999999999992}, 'couplers': ['q21_q22']}\n",
      "cz_pulse_frequency = {'q21_q22': 216070088.58646688}\n",
      "cz_pulse_duration = {'q21_q22': 3.86220150766885e-07}\n",
      "cz_pulse_amplitude = {'q21_q22': 0.149}\n"
     ]
    },
    {
     "name": "stderr",
     "output_type": "stream",
     "text": [
      "2024-01-23 13:18:58,742 ◆ compilation_worker.py ◆ Starting Compiling\n",
      "2024-01-23 13:18:58,976 ◆ measurement_utils.py ◆ Starting measurement\n"
     ]
    },
    {
     "name": "stdout",
     "output_type": "stream",
     "text": [
      " schedule_duration = 0.013707559999999976\n"
     ]
    },
    {
     "name": "stderr",
     "output_type": "stream",
     "text": [
      "CZ_calibration_ssro: 0it [00:00, ?it/s]\n",
      "/home/loke-c/anaconda3/envs/tac/lib/python3.9/site-packages/quantify_scheduler/instrument_coordinator/components/qblox.py:1209: FutureWarning: The format of acquisition data of looped measurements in APPEND mode will change in quantify-scheduler>=0.18.0\n",
      "  warnings.warn(\n",
      "2024-01-23 13:19:41,949 ◆ measurement_utils.py ◆ Raw dataset acquired\n",
      "2024-01-23 13:19:41,961 ◆ execution_worker.py ◆ Finished measurement\n",
      "2024-01-23 13:19:41,962 ◆ calibration_supervisor.py ◆ measurement completed\n",
      "2024-01-23 13:19:48,094 ◆ calibration_supervisor.py ◆ analysis completed\n",
      "[I 2024-01-23 13:19:48,095] Trial 49 finished with value: 0.054681114255020785 and parameters: {'freq': -0.04999999999999993, 'time': 2.4000000000000004, 'amp': -0.0009999999999999992}. Best is trial 22 with value: 0.006926086330154391.\n"
     ]
    },
    {
     "name": "stdout",
     "output_type": "stream",
     "text": [
      "{'freq': -0.42000000000000004, 'time': 3.9000000000000004, 'amp': 0.003000000000000001}\n"
     ]
    },
    {
     "name": "stderr",
     "output_type": "stream",
     "text": [
      "2024-01-23 13:19:48,098 ◆ calibration_supervisor.py ◆ Calibrating node cz_calibration_ssro\n"
     ]
    },
    {
     "name": "stdout",
     "output_type": "stream",
     "text": [
      " kwargs = {'opt_cz_pulse_frequency': {'q21_q22': -420000.00000000006}, 'opt_cz_pulse_duration': {'q21_q22': 3.900000000000001e-09}, 'opt_cz_pulse_amplitude': {'q21_q22': 0.003000000000000001}, 'couplers': ['q21_q22']}\n",
      "cz_pulse_frequency = {'q21_q22': 215700088.58646688}\n",
      "cz_pulse_duration = {'q21_q22': 3.8772015076688494e-07}\n",
      "cz_pulse_amplitude = {'q21_q22': 0.153}\n"
     ]
    },
    {
     "name": "stderr",
     "output_type": "stream",
     "text": [
      "2024-01-23 13:19:48,256 ◆ compilation_worker.py ◆ Starting Compiling\n",
      "2024-01-23 13:19:48,307 ◆ measurement_utils.py ◆ Starting measurement\n"
     ]
    },
    {
     "name": "stdout",
     "output_type": "stream",
     "text": [
      " schedule_duration = 0.013707559999999976\n"
     ]
    },
    {
     "name": "stderr",
     "output_type": "stream",
     "text": [
      "CZ_calibration_ssro: 0it [00:00, ?it/s]\n",
      "/home/loke-c/anaconda3/envs/tac/lib/python3.9/site-packages/quantify_scheduler/instrument_coordinator/components/qblox.py:1209: FutureWarning: The format of acquisition data of looped measurements in APPEND mode will change in quantify-scheduler>=0.18.0\n",
      "  warnings.warn(\n",
      "2024-01-23 13:20:31,103 ◆ measurement_utils.py ◆ Raw dataset acquired\n",
      "2024-01-23 13:20:31,116 ◆ execution_worker.py ◆ Finished measurement\n",
      "2024-01-23 13:20:31,116 ◆ calibration_supervisor.py ◆ measurement completed\n",
      "2024-01-23 13:20:37,200 ◆ calibration_supervisor.py ◆ analysis completed\n"
     ]
    },
    {
     "name": "stdout",
     "output_type": "stream",
     "text": [
      "{'q21_q22': {'cz_phase': 139.46611419022932, 'cz_pop_loss': 0.09835031007287398, 'cz_leakage': -0.027519029399999992}, 'q22': {'cz_phase': 0, 'cz_pop_loss': 0.0, 'cz_leakage': 0.0020277796461538452}}\n"
     ]
    }
   ],
   "source": [
    "optimize = OptimizeNode('cz_calibration_ssro')\n",
    "optimize_results = optimize.optimize_node()"
   ]
  },
  {
   "cell_type": "code",
   "execution_count": 29,
   "metadata": {},
   "outputs": [
    {
     "data": {
      "text/plain": [
       "22"
      ]
     },
     "execution_count": 29,
     "metadata": {},
     "output_type": "execute_result"
    }
   ],
   "source": [
    "optimize_results.best_trial.number"
   ]
  },
  {
   "cell_type": "code",
   "execution_count": 5,
   "metadata": {},
   "outputs": [
    {
     "data": {
      "text/plain": [
       "(FrozenTrial(number=22, state=TrialState.COMPLETE, values=[0.006926086330154391], datetime_start=datetime.datetime(2024, 1, 23, 12, 56, 46, 411158), datetime_complete=datetime.datetime(2024, 1, 23, 12, 57, 35, 698591), params={'freq': -0.42000000000000004, 'time': 3.9000000000000004, 'amp': 0.003000000000000001}, user_attrs={}, system_attrs={'cmawm:optimizer:0': '800495fd540000000000008c0c636d6165732e5f636d61776d948c05434d41774d9493942981947d94288c045f636d61948c0a636d6165732e5f636d61948c03434d419493942981947d94288c065f6e5f64696d944b038c085f706f7073697a65944b078c035f6d75944b038c075f6d755f656666948c156e756d70792e636f72652e6d756c74696172726179948c067363616c61729493948c056e756d7079948c0564747970659493948c02663894898887945294284b038c013c944e4e4e4affffffff4affffffff4b007494624308e4aa647ddc09024094869452948c035f6363946811681743083e39d84fb3e1e13f94869452948c035f6331946811681743088785f23a4daeb83f94869452948c045f636d75946811681743089026bdad883caa3f94869452948c085f635f7369676d61946811681743089c0fa27bde8dda3f94869452948c085f645f7369676d6194681168174308e783e89e77a3f63f94869452948c035f636d944b018c065f6368695f6e94473ff98ccf7402d8f78c085f7765696768747394680f8c0c5f7265636f6e73747275637494939468128c076e6461727261799493944b0085944301629487945294284b014b07859468148c02663894898887945294284b0368184e4e4e4affffffff4affffffff4b0074946289433838b370ce9abde23f38b370ce9abdd23f5a99b752be1cbf3f00000000000000004c692454e524dbbf45162a4f47a9e8bf0a807be2bc04f1bf947494628c085f705f7369676d6194683568374b008594683987945294284b014b03859468178943182676c2d17025f63f024beb9bb70be1bfc23f163d9f4ada3f947494628c035f706394683568374b008594683987945294284b014b0385946817894318b498ef7a71aeef3fe0a987940049debff6ec3515f070e23f947494628c055f6d65616e94683568374b008594683987945294284b014b038594683f894318e76e705aa0c2ec3fc9c2840fc915d63f4846a5b65e15e23f947494628c065f7369676d61946811681743089d4b6a618eccc93f94869452948c025f44944e8c025f42944e8c075f626f756e647394683568374b008594683987945294284b014b034b028694683f8943300000000000000000000000000000f03f0000000000000000000000000000f03f0000000000000000000000000000f03f947494628c115f6e5f6d61785f726573616d706c696e67944b1e8c025f67944b038c095f6c725f616461707494898c065f616c70686194473ff66666666666668c0a5f626574615f6d65616e94473fb999999999999a8c0b5f626574615f5369676d6194473f9eb851eb851eb88c065f67616d6d6194473fb999999999999a8c065f456d65616e94683568374b008594683987945294284b014b034b018694683f89431', 'cmawm:optimizer:1': '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', 'cmawm:optimizer:2': '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', 'cmawm:optimizer:3': '000f03f000000000000f03f000000000000f03f000000000000f03f000000000000f03f000000000000f03f000000000000f03f000000000000f03f000000000000f03f000000000000f03f000000000000f03f000000000000f03f000000000000f03f000000000000f03f000000000000f03f000000000000f03f000000000000f03f000000000000f03f000000000000f03f000000000000f03f000000000000f03f000000000000f03f000000000000f03f000000000000f03f000000000000f03f000000000000f03f000000000000f03f000000000000f03f000000000000f03f000000000000f03f000000000000f03f000000000000f03f000000000000f03f000000000000f03f000000000000f03f000000000000f03f000000000000f03f000000000000f03f000000000000f03f000000000000f03f000000000000f03f000000000000f03f000000000000f03f000000000000f03f000000000000f03f000000000000f03f000000000000f03f000000000000f03f000000000000f03f000000000000f03f000000000000f03f000000000000f03f000000000000f03f000000000000f03f000000000000f03f000000000000f03f000000000000f03f000000000000f03f000000000000f03f000000000000f03f000000000000f03f000000000000f03f000000000000f03f000000000000f03f000000000000f03f000000000000f03f000000000000f03f000000000000f03f000000000000f03f000000000000f03f000000000000f03f000000000000f03f000000000000f03f000000000000f03f000000000000f03f000000000000f03f000000000000f03f000000000000f03f000000000000f03f000000000000f03f000000000000f03f000000000000f03f000000000000f03f000000000000f03f000000000000f03f000000000000f03f000000000000f03f000000000000f03f00000000000000007b14ae47e17a743f7b14ae47e17a843fb81e85eb51b88e3f7b14ae47e17a943f9a9999999999993fb81e85eb51b89e3fec51b81e85eba13f7b14ae47e17aa43f0ad7a3703d0aa73f9a9999999999a93f295c8fc2f528ac3fb81e85eb51b8ae3fa4703d0ad7a3b03fec51b81e85ebb13f333333333333b33f7b14ae47e17ab43fc3f5285c8fc2b53f0ad7a3703d0ab73f52b81e85eb51b83f9a9999999999b93fe17a14ae47e1ba3f295c8fc2f528bc3f713d0ad7a370bd3fb81e85eb51b8be3f000000000000c03fa4703d0ad7a3c03f48e17a14ae47c13fec51b81e85ebc13f8fc2f5285c8fc23f333333333333c33fd7a3703d0ad7c33f7b14ae47e17ac43f1f85eb51b81ec53fc3f5285c8fc2c53f676666666666c63f0ad7a3703d0ac73fae47e17a14aec73f52b81e85eb51c83ff6285c8fc2f5c83f9a9999', 'cmawm:optimizer:4': '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', 'cmawm:optimizer:5': 'a14ae47e1ea3f0ad7a3703d0aeb3f333333333333eb3f5c8fc2f5285ceb3f85eb51b81e85eb3fae47e17a14aeeb3fd7a3703d0ad7eb3f000000000000ec3f295c8fc2f528ec3f52b81e85eb51ec3f7b14ae47e17aec3fa4703d0ad7a3ec3fcdccccccccccec3ff6285c8fc2f5ec3f1f85eb51b81eed3f48e17a14ae47ed3f713d0ad7a370ed3f9a9999999999ed3fc3f5285c8fc2ed3fec51b81e85ebed3f15ae47e17a14ee3f3e0ad7a3703dee3f676666666666ee3f90c2f5285c8fee3fb81e85eb51b8ee3fe17a14ae47e1ee3f0ad7a3703d0aef3f333333333333ef3f5c8fc2f5285cef3f85eb51b81e85ef3fae47e17a14aeef3fd7a3703d0ad7ef3f000000000000f03f00000000000000007b14ae47e17a743f7b14ae47e17a843fb81e85eb51b88e3f7b14ae47e17a943f9a9999999999993fb81e85eb51b89e3fec51b81e85eba13f7b14ae47e17aa43f0ad7a3703d0aa73f9a9999999999a93f295c8fc2f528ac3fb81e85eb51b8ae3fa4703d0ad7a3b03fec51b81e85ebb13f333333333333b33f7b14ae47e17ab43fc3f5285c8fc2b53f0ad7a3703d0ab73f52b81e85eb51b83f9a9999999999b93fe17a14ae47e1ba3f295c8fc2f528bc3f713d0ad7a370bd3fb81e85eb51b8be3f000000000000c03fa4703d0ad7a3c03f48e17a14ae47c13fec51b81e85ebc13f8fc2f5285c8fc23f333333333333c33fd7a3703d0ad7c33f7b14ae47e17ac43f1f85eb51b81ec53fc3f5285c8fc2c53f676666666666c63f0ad7a3703d0ac73fae47e17a14aec73f52b81e85eb51c83ff6285c8fc2f5c83f9a9999999999c93f3e0ad7a3703dca3fe17a14ae47e1ca3f85eb51b81e85cb3f295c8fc2f528cc3fcdcccccccccccc3f713d0ad7a370cd3f15ae47e17a14ce3fb81e85eb51b8ce3f5c8fc2f5285ccf3f000000000000d03f52b81e85eb51d03fa4703d0ad7a3d03ff6285c8fc2f5d03f48e17a14ae47d13f9a9999999999d13fec51b81e85ebd13f3e0ad7a3703dd23f8fc2f5285c8fd23fe17a14ae47e1d23f333333333333d33f85eb51b81e85d33fd7a3703d0ad7d33f295c8fc2f528d43f7b14ae47e17ad43fcdccccccccccd43f1f85eb51b81ed53f713d0ad7a370d53fc3f5285c8fc2d53f15ae47e17a14d63f676666666666d63fb81e85eb51b8d63f0ad7a3703d0ad73f5c8fc2f5285cd73fae47e17a14aed73f000000000000d83f52b81e85eb51d83fa4703d0ad7a3d83ff6285c8fc2f5d83f48e17a14ae47d93f9a9999999999d93fec51b81e85ebd93f3e0ad7a3703dda3f90c2f5285c8fda3fe17a14ae47e1da3f333333333333db3f85eb51b81e85db3fd7a3703d0ad7db3f295c8fc2f528dc3f7b14ae47e17adc3fcdccccccccccdc3f1f85eb51b81edd3f713d0ad7a370dd3fc3f5285c8fc2dd3f15ae47e17a14de3f', 'cmawm:optimizer:6': '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', 'cmawm:optimizer:7': '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', 'cmawm:optimizer:8': '33333333ef3f343333333333ef3f343333333333ef3f343333333333ef3f343333333333ef3f343333333333ef3f343333333333ef3f343333333333ef3f343333333333ef3f343333333333ef3f343333333333ef3f343333333333ef3f343333333333ef3f343333333333ef3f343333333333ef3f343333333333ef3f343333333333ef3f343333333333ef3f343333333333ef3f343333333333ef3f343333333333ef3f343333333333ef3f343333333333ef3f343333333333ef3f343333333333ef3f343333333333ef3f343333333333ef3f343333333333ef3f343333333333ef3f343333333333ef3f343333333333ef3f343333333333ef3f343333333333ef3f343333333333ef3f343333333333ef3f343333333333ef3f343333333333ef3f343333333333ef3f343333333333ef3f343333333333ef3f343333333333ef3f343333333333ef3f343333333333ef3f343333333333ef3f343333333333ef3f343333333333ef3f343333333333ef3f343333333333ef3f343333333333ef3f343333333333ef3f343333333333ef3f343333333333ef3f343333333333ef3f343333333333ef3f343333333333ef3f343333333333ef3f7b14ae47e17a643fb81e85eb51b87e3f9a9999999999893fec51b81e85eb913f0ad7a3703d0a973f295c8fc2f5289c3fa4703d0ad7a3a03f343333333333a33fc2f5285c8fc2a53f52b81e85eb51a83fe27a14ae47e1aa3f703d0ad7a370ad3f000000000000b03f48e17a14ae47b13f90c2f5285c8fb23fd7a3703d0ad7b33f1f85eb51b81eb53f666666666666b63fae47e17a14aeb73ff6285c8fc2f5b83f3e0ad7a3703dba3f85eb51b81e85bb3fcdccccccccccbc3f14ae47e17a14be3f5c8fc2f5285cbf3f52b81e85eb51c03ff6285c8fc2f5c03f9a9999999999c13f3e0ad7a3703dc23fe17a14ae47e1c23f85eb51b81e85c33f295c8fc2f528c43fcdccccccccccc43f713d0ad7a370c53f15ae47e17a14c63fb81e85eb51b8c63f5c8fc2f5285cc73f000000000000c83fa4703d0ad7a3c83f48e17a14ae47c93fec51b81e85ebc93f90c2f5285c8fca3f333333333333cb3fd7a3703d0ad7cb3f7b14ae47e17acc3f1f85eb51b81ecd3fc3f5285c8fc2cd3f666666666666ce3f0ad7a3703d0acf3fae47e17a14aecf3f295c8fc2f528d03f7b14ae47e17ad03fcdccccccccccd03f1f85eb51b81ed13f713d0ad7a370d13fc3f5285c8fc2d13f15ae47e17a14d23f666666666666d23fb81e85eb51b8d23f0ad7a3703d0ad33f5c8fc2f5285cd33fae47e17a14aed33f000000000000d43f52b81e85eb51d43fa4703d0ad7a3d43ff6285c8fc2f5d43f48e17a14ae47d53f9a9999999999d53fec51b81e85ebd53f3e0ad7a3703dd63f90c2f5285c8fd63fe17a14ae47e1d63f3', 'cmawm:optimizer:9': '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', 'cmawm:optimizer:10': '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', 'cmawm:optimizer:11': '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', 'cmawm:optimizer:12': '33ef3f343333333333ef3f343333333333ef3f343333333333ef3f343333333333ef3f343333333333ef3f343333333333ef3f343333333333ef3f343333333333ef3f343333333333ef3f343333333333ef3f343333333333ef3f343333333333ef3f343333333333ef3f343333333333ef3f343333333333ef3f343333333333ef3f343333333333ef3f343333333333ef3f343333333333ef3f343333333333ef3f343333333333ef3f343333333333ef3f343333333333ef3f343333333333ef3f343333333333ef3f343333333333ef3f343333333333ef3f343333333333ef3f343333333333ef3f343333333333ef3f343333333333ef3f343333333333ef3f343333333333ef3f343333333333ef3f343333333333ef3f343333333333ef3f343333333333ef3f343333333333ef3f343333333333ef3f343333333333ef3f343333333333ef3f343333333333ef3f343333333333ef3f343333333333ef3f343333333333ef3f343333333333ef3f343333333333ef3f343333333333ef3f343333333333ef3f343333333333ef3f343333333333ef3f343333333333ef3f343333333333ef3f343333333333ef3f343333333333ef3f343333333333ef3f343333333333ef3f343333333333ef3f343333333333ef3f343333333333ef3f343333333333ef3f343333333333ef3f343333333333ef3f343333333333ef3f343333333333ef3f343333333333ef3f343333333333ef3f343333333333ef3f343333333333ef3f343333333333ef3f343333333333ef3f343333333333ef3f343333333333ef3f343333333333ef3f343333333333ef3f343333333333ef3f343333333333ef3f343333333333ef3f343333333333ef3f343333333333ef3f343333333333ef3f343333333333ef3f343333333333ef3f343333333333ef3f343333333333ef3f343333333333ef3f343333333333ef3f343333333333ef3f343333333333ef3f343333333333ef3f343333333333ef3f343333333333ef3f343333333333ef3f343333333333ef3f343333333333ef3f343333333333ef3f343333333333ef3f343333333333ef3f343333333333ef3f343333333333ef3f343333333333ef3f343333333333ef3f343333333333ef3f343333333333ef3f343333333333ef3f343333333333ef3f343333333333ef3f343333333333ef3f343333333333ef3f343333333333ef3f343333333333ef3f343333333333ef3f343333333333ef3f343333333333ef3f343333333333ef3f343333333333ef3f343333333333ef3f343333333333ef3f343333333333ef3f343333333333ef3f343333333333ef3f343333333333ef3f343333333333ef3f343333333333ef3f343333333333ef3f343333333333ef3f343333333333ef3f3433333', 'cmawm:optimizer:13': '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', 'cmawm:optimizer:14': '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', 'cmawm:optimizer:15': '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', 'cmawm:optimizer:16': '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', 'cmawm:optimizer:17': 'f343333333333ef3f343333333333ef3f343333333333ef3f343333333333ef3f343333333333ef3f343333333333ef3f343333333333ef3f343333333333ef3f343333333333ef3f343333333333ef3f343333333333ef3f343333333333ef3f343333333333ef3f343333333333ef3f343333333333ef3f343333333333ef3f343333333333ef3f343333333333ef3f343333333333ef3f343333333333ef3f343333333333ef3f343333333333ef3f343333333333ef3f343333333333ef3f343333333333ef3f343333333333ef3f343333333333ef3f343333333333ef3f343333333333ef3f343333333333ef3f343333333333ef3f343333333333ef3f343333333333ef3f343333333333ef3f343333333333ef3f343333333333ef3f343333333333ef3f343333333333ef3f343333333333ef3f343333333333ef3f343333333333ef3f343333333333ef3f343333333333ef3f343333333333ef3f343333333333ef3f343333333333ef3f343333333333ef3f343333333333ef3f343333333333ef3f343333333333ef3f343333333333ef3f343333333333ef3f343333333333ef3f343333333333ef3f343333333333ef3f343333333333ef3f343333333333ef3f343333333333ef3f343333333333ef3f343333333333ef3f343333333333ef3f343333333333ef3f343333333333ef3f343333333333ef3f343333333333ef3f343333333333ef3f343333333333ef3f343333333333ef3f343333333333ef3f343333333333ef3f343333333333ef3f343333333333ef3f343333333333ef3f343333333333ef3f343333333333ef3f343333333333ef3f343333333333ef3f343333333333ef3f343333333333ef3f343333333333ef3f343333333333ef3f343333333333ef3f343333333333ef3f343333333333ef3f343333333333ef3f343333333333ef3f343333333333ef3f343333333333ef3f343333333333ef3f343333333333ef3f343333333333ef3f343333333333ef3f343333333333ef3f343333333333ef3f343333333333ef3f343333333333ef3f343333333333ef3f343333333333ef3f343333333333ef3f343333333333ef3f343333333333ef3f343333333333ef3f343333333333ef3f343333333333ef3f343333333333ef3f343333333333ef3f343333333333ef3f343333333333ef3f343333333333ef3f343333333333ef3f343333333333ef3f343333333333ef3f343333333333ef3f343333333333ef3f343333333333ef3f343333333333ef3f343333333333ef3f343333333333ef3f343333333333ef3f343333333333ef3f343333333333ef3f7b14ae47e17a643fb81e85eb51b87e3f9a9999999999893fec51b81e85eb913f0ad7a3703d0a973f295c8fc2f5289c3fa4703d0ad7a3', 'cmawm:optimizer:18': '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', 'cmawm:optimizer:19': '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', 'cmawm:optimizer:20': '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', 'cmawm:optimizer:21': '81e85eb51ee3f7c14ae47e17aee3fa4703d0ad7a3ee3fccccccccccccee3ff6285c8fc2f5ee3f1e85eb51b81eef3f48e17a14ae47ef3f703d0ad7a370ef3f9a9999999999ef3fc2f5285c8fc2ef3fec51b81e85ebef3fec51b81e85ebef3f947494628c0b6d5f7a5f6c696d5f6c6f7794683568374b008594683987945294284b014b0385946817894318000000000000ec3fec51b81e85ebd53f000000000000e23f947494628c0a6d5f7a5f6c696d5f757094683568374b008594683987945294284b014b03859468178943189a9999999999ed3f3e0ad7a3703dd63f2a5c8fc2f528e23f947494628c025f4194683568374b008594683987945294284b014b038594683f894318070000000000f03f1e0000000000f03f050000000000f03f9474946275622e', 'x_for_tell': [0.6521225617234683, 0.28986911950993666, 0.6942431977388442], 'cmawm:generation': 3, 'cmawm:popsize': 7, 'cmawm:n_restarts': 0, 'cmawm:n_restarts_with_large': 0, 'cmawm:poptype': 'small', 'cmawm:small_n_eval': 0, 'cmawm:large_n_eval': 0}, intermediate_values={}, distributions={'freq': FloatDistribution(high=1.0, log=False, low=-1.0, step=0.01), 'time': FloatDistribution(high=10.0, log=False, low=-10.0, step=0.1), 'amp': FloatDistribution(high=0.01, log=False, low=-0.01, step=0.001)}, trial_id=22, value=None),\n",
       " {'freq': -0.42000000000000004,\n",
       "  'time': 3.9000000000000004,\n",
       "  'amp': 0.003000000000000001})"
      ]
     },
     "execution_count": 5,
     "metadata": {},
     "output_type": "execute_result"
    }
   ],
   "source": [
    "optimize_results.best_trial,optimize_results.best_params"
   ]
  },
  {
   "cell_type": "code",
   "execution_count": 27,
   "metadata": {},
   "outputs": [
    {
     "data": {
      "application/vnd.plotly.v1+json": {
       "config": {
        "plotlyServerURL": "https://plot.ly"
       },
       "data": [
        {
         "mode": "markers",
         "name": "Objective Value",
         "type": "scatter",
         "x": [
          0,
          1,
          2,
          3,
          4,
          5,
          6,
          7,
          8,
          9,
          10,
          11,
          12,
          13,
          14,
          15,
          16,
          17,
          18,
          19,
          20,
          21,
          22,
          23,
          24,
          25,
          26,
          27,
          28,
          29,
          30,
          31,
          32,
          33,
          34,
          35,
          36,
          37,
          38,
          39,
          40,
          41,
          42,
          43,
          44,
          45,
          46,
          47,
          48,
          49
         ],
         "y": [
          0.20210278803889056,
          0.29201214530921926,
          0.06825479378680027,
          0.13291444417663145,
          0.06564854890643324,
          0.01606221254514057,
          0.13545516772825392,
          0.1477616914193582,
          0.08714238512137189,
          0.06117562546884269,
          0.018847668340758635,
          0.03803803611814659,
          0.08662321730463346,
          0.04893336424693235,
          0.012967458850531327,
          0.011525289115093696,
          0.06134817123126537,
          0.03720273612367313,
          0.06297686747149087,
          0.10951971121653875,
          0.021285919293647072,
          1.0044330879676586,
          0.006926086330154391,
          0.053924129090046506,
          0.02149608004114214,
          0.06932534520991901,
          0.054108492277028845,
          0.06599394721159059,
          0.05475693108323608,
          0.03272980724020475,
          0.023157688454634315,
          0.05310646138005321,
          0.023778673853038557,
          0.03676525523866306,
          1.023815159041442,
          0.02379002435048682,
          0.06531413441091288,
          0.01215039496573934,
          0.06622785599178826,
          0.14029636867144993,
          0.1771363109209008,
          0.0237545004345815,
          0.0461754109344191,
          0.008019281637177128,
          0.0263711430173373,
          0.015840502347513517,
          0.016720570049883914,
          0.026438513912092773,
          0.029259786878224805,
          0.054681114255020785
         ]
        },
        {
         "mode": "lines",
         "name": "Best Value",
         "type": "scatter",
         "x": [
          0,
          1,
          2,
          3,
          4,
          5,
          6,
          7,
          8,
          9,
          10,
          11,
          12,
          13,
          14,
          15,
          16,
          17,
          18,
          19,
          20,
          21,
          22,
          23,
          24,
          25,
          26,
          27,
          28,
          29,
          30,
          31,
          32,
          33,
          34,
          35,
          36,
          37,
          38,
          39,
          40,
          41,
          42,
          43,
          44,
          45,
          46,
          47,
          48,
          49
         ],
         "y": [
          0.20210278803889056,
          0.20210278803889056,
          0.06825479378680027,
          0.06825479378680027,
          0.06564854890643324,
          0.01606221254514057,
          0.01606221254514057,
          0.01606221254514057,
          0.01606221254514057,
          0.01606221254514057,
          0.01606221254514057,
          0.01606221254514057,
          0.01606221254514057,
          0.01606221254514057,
          0.012967458850531327,
          0.011525289115093696,
          0.011525289115093696,
          0.011525289115093696,
          0.011525289115093696,
          0.011525289115093696,
          0.011525289115093696,
          0.011525289115093696,
          0.006926086330154391,
          0.006926086330154391,
          0.006926086330154391,
          0.006926086330154391,
          0.006926086330154391,
          0.006926086330154391,
          0.006926086330154391,
          0.006926086330154391,
          0.006926086330154391,
          0.006926086330154391,
          0.006926086330154391,
          0.006926086330154391,
          0.006926086330154391,
          0.006926086330154391,
          0.006926086330154391,
          0.006926086330154391,
          0.006926086330154391,
          0.006926086330154391,
          0.006926086330154391,
          0.006926086330154391,
          0.006926086330154391,
          0.006926086330154391,
          0.006926086330154391,
          0.006926086330154391,
          0.006926086330154391,
          0.006926086330154391,
          0.006926086330154391,
          0.006926086330154391
         ]
        },
        {
         "marker": {
          "color": "#cccccc"
         },
         "mode": "markers",
         "name": "Infeasible Trial",
         "showlegend": false,
         "type": "scatter",
         "x": [],
         "y": []
        }
       ],
       "layout": {
        "template": {
         "data": {
          "bar": [
           {
            "error_x": {
             "color": "#2a3f5f"
            },
            "error_y": {
             "color": "#2a3f5f"
            },
            "marker": {
             "line": {
              "color": "#E5ECF6",
              "width": 0.5
             },
             "pattern": {
              "fillmode": "overlay",
              "size": 10,
              "solidity": 0.2
             }
            },
            "type": "bar"
           }
          ],
          "barpolar": [
           {
            "marker": {
             "line": {
              "color": "#E5ECF6",
              "width": 0.5
             },
             "pattern": {
              "fillmode": "overlay",
              "size": 10,
              "solidity": 0.2
             }
            },
            "type": "barpolar"
           }
          ],
          "carpet": [
           {
            "aaxis": {
             "endlinecolor": "#2a3f5f",
             "gridcolor": "white",
             "linecolor": "white",
             "minorgridcolor": "white",
             "startlinecolor": "#2a3f5f"
            },
            "baxis": {
             "endlinecolor": "#2a3f5f",
             "gridcolor": "white",
             "linecolor": "white",
             "minorgridcolor": "white",
             "startlinecolor": "#2a3f5f"
            },
            "type": "carpet"
           }
          ],
          "choropleth": [
           {
            "colorbar": {
             "outlinewidth": 0,
             "ticks": ""
            },
            "type": "choropleth"
           }
          ],
          "contour": [
           {
            "colorbar": {
             "outlinewidth": 0,
             "ticks": ""
            },
            "colorscale": [
             [
              0,
              "#0d0887"
             ],
             [
              0.1111111111111111,
              "#46039f"
             ],
             [
              0.2222222222222222,
              "#7201a8"
             ],
             [
              0.3333333333333333,
              "#9c179e"
             ],
             [
              0.4444444444444444,
              "#bd3786"
             ],
             [
              0.5555555555555556,
              "#d8576b"
             ],
             [
              0.6666666666666666,
              "#ed7953"
             ],
             [
              0.7777777777777778,
              "#fb9f3a"
             ],
             [
              0.8888888888888888,
              "#fdca26"
             ],
             [
              1,
              "#f0f921"
             ]
            ],
            "type": "contour"
           }
          ],
          "contourcarpet": [
           {
            "colorbar": {
             "outlinewidth": 0,
             "ticks": ""
            },
            "type": "contourcarpet"
           }
          ],
          "heatmap": [
           {
            "colorbar": {
             "outlinewidth": 0,
             "ticks": ""
            },
            "colorscale": [
             [
              0,
              "#0d0887"
             ],
             [
              0.1111111111111111,
              "#46039f"
             ],
             [
              0.2222222222222222,
              "#7201a8"
             ],
             [
              0.3333333333333333,
              "#9c179e"
             ],
             [
              0.4444444444444444,
              "#bd3786"
             ],
             [
              0.5555555555555556,
              "#d8576b"
             ],
             [
              0.6666666666666666,
              "#ed7953"
             ],
             [
              0.7777777777777778,
              "#fb9f3a"
             ],
             [
              0.8888888888888888,
              "#fdca26"
             ],
             [
              1,
              "#f0f921"
             ]
            ],
            "type": "heatmap"
           }
          ],
          "heatmapgl": [
           {
            "colorbar": {
             "outlinewidth": 0,
             "ticks": ""
            },
            "colorscale": [
             [
              0,
              "#0d0887"
             ],
             [
              0.1111111111111111,
              "#46039f"
             ],
             [
              0.2222222222222222,
              "#7201a8"
             ],
             [
              0.3333333333333333,
              "#9c179e"
             ],
             [
              0.4444444444444444,
              "#bd3786"
             ],
             [
              0.5555555555555556,
              "#d8576b"
             ],
             [
              0.6666666666666666,
              "#ed7953"
             ],
             [
              0.7777777777777778,
              "#fb9f3a"
             ],
             [
              0.8888888888888888,
              "#fdca26"
             ],
             [
              1,
              "#f0f921"
             ]
            ],
            "type": "heatmapgl"
           }
          ],
          "histogram": [
           {
            "marker": {
             "pattern": {
              "fillmode": "overlay",
              "size": 10,
              "solidity": 0.2
             }
            },
            "type": "histogram"
           }
          ],
          "histogram2d": [
           {
            "colorbar": {
             "outlinewidth": 0,
             "ticks": ""
            },
            "colorscale": [
             [
              0,
              "#0d0887"
             ],
             [
              0.1111111111111111,
              "#46039f"
             ],
             [
              0.2222222222222222,
              "#7201a8"
             ],
             [
              0.3333333333333333,
              "#9c179e"
             ],
             [
              0.4444444444444444,
              "#bd3786"
             ],
             [
              0.5555555555555556,
              "#d8576b"
             ],
             [
              0.6666666666666666,
              "#ed7953"
             ],
             [
              0.7777777777777778,
              "#fb9f3a"
             ],
             [
              0.8888888888888888,
              "#fdca26"
             ],
             [
              1,
              "#f0f921"
             ]
            ],
            "type": "histogram2d"
           }
          ],
          "histogram2dcontour": [
           {
            "colorbar": {
             "outlinewidth": 0,
             "ticks": ""
            },
            "colorscale": [
             [
              0,
              "#0d0887"
             ],
             [
              0.1111111111111111,
              "#46039f"
             ],
             [
              0.2222222222222222,
              "#7201a8"
             ],
             [
              0.3333333333333333,
              "#9c179e"
             ],
             [
              0.4444444444444444,
              "#bd3786"
             ],
             [
              0.5555555555555556,
              "#d8576b"
             ],
             [
              0.6666666666666666,
              "#ed7953"
             ],
             [
              0.7777777777777778,
              "#fb9f3a"
             ],
             [
              0.8888888888888888,
              "#fdca26"
             ],
             [
              1,
              "#f0f921"
             ]
            ],
            "type": "histogram2dcontour"
           }
          ],
          "mesh3d": [
           {
            "colorbar": {
             "outlinewidth": 0,
             "ticks": ""
            },
            "type": "mesh3d"
           }
          ],
          "parcoords": [
           {
            "line": {
             "colorbar": {
              "outlinewidth": 0,
              "ticks": ""
             }
            },
            "type": "parcoords"
           }
          ],
          "pie": [
           {
            "automargin": true,
            "type": "pie"
           }
          ],
          "scatter": [
           {
            "fillpattern": {
             "fillmode": "overlay",
             "size": 10,
             "solidity": 0.2
            },
            "type": "scatter"
           }
          ],
          "scatter3d": [
           {
            "line": {
             "colorbar": {
              "outlinewidth": 0,
              "ticks": ""
             }
            },
            "marker": {
             "colorbar": {
              "outlinewidth": 0,
              "ticks": ""
             }
            },
            "type": "scatter3d"
           }
          ],
          "scattercarpet": [
           {
            "marker": {
             "colorbar": {
              "outlinewidth": 0,
              "ticks": ""
             }
            },
            "type": "scattercarpet"
           }
          ],
          "scattergeo": [
           {
            "marker": {
             "colorbar": {
              "outlinewidth": 0,
              "ticks": ""
             }
            },
            "type": "scattergeo"
           }
          ],
          "scattergl": [
           {
            "marker": {
             "colorbar": {
              "outlinewidth": 0,
              "ticks": ""
             }
            },
            "type": "scattergl"
           }
          ],
          "scattermapbox": [
           {
            "marker": {
             "colorbar": {
              "outlinewidth": 0,
              "ticks": ""
             }
            },
            "type": "scattermapbox"
           }
          ],
          "scatterpolar": [
           {
            "marker": {
             "colorbar": {
              "outlinewidth": 0,
              "ticks": ""
             }
            },
            "type": "scatterpolar"
           }
          ],
          "scatterpolargl": [
           {
            "marker": {
             "colorbar": {
              "outlinewidth": 0,
              "ticks": ""
             }
            },
            "type": "scatterpolargl"
           }
          ],
          "scatterternary": [
           {
            "marker": {
             "colorbar": {
              "outlinewidth": 0,
              "ticks": ""
             }
            },
            "type": "scatterternary"
           }
          ],
          "surface": [
           {
            "colorbar": {
             "outlinewidth": 0,
             "ticks": ""
            },
            "colorscale": [
             [
              0,
              "#0d0887"
             ],
             [
              0.1111111111111111,
              "#46039f"
             ],
             [
              0.2222222222222222,
              "#7201a8"
             ],
             [
              0.3333333333333333,
              "#9c179e"
             ],
             [
              0.4444444444444444,
              "#bd3786"
             ],
             [
              0.5555555555555556,
              "#d8576b"
             ],
             [
              0.6666666666666666,
              "#ed7953"
             ],
             [
              0.7777777777777778,
              "#fb9f3a"
             ],
             [
              0.8888888888888888,
              "#fdca26"
             ],
             [
              1,
              "#f0f921"
             ]
            ],
            "type": "surface"
           }
          ],
          "table": [
           {
            "cells": {
             "fill": {
              "color": "#EBF0F8"
             },
             "line": {
              "color": "white"
             }
            },
            "header": {
             "fill": {
              "color": "#C8D4E3"
             },
             "line": {
              "color": "white"
             }
            },
            "type": "table"
           }
          ]
         },
         "layout": {
          "annotationdefaults": {
           "arrowcolor": "#2a3f5f",
           "arrowhead": 0,
           "arrowwidth": 1
          },
          "autotypenumbers": "strict",
          "coloraxis": {
           "colorbar": {
            "outlinewidth": 0,
            "ticks": ""
           }
          },
          "colorscale": {
           "diverging": [
            [
             0,
             "#8e0152"
            ],
            [
             0.1,
             "#c51b7d"
            ],
            [
             0.2,
             "#de77ae"
            ],
            [
             0.3,
             "#f1b6da"
            ],
            [
             0.4,
             "#fde0ef"
            ],
            [
             0.5,
             "#f7f7f7"
            ],
            [
             0.6,
             "#e6f5d0"
            ],
            [
             0.7,
             "#b8e186"
            ],
            [
             0.8,
             "#7fbc41"
            ],
            [
             0.9,
             "#4d9221"
            ],
            [
             1,
             "#276419"
            ]
           ],
           "sequential": [
            [
             0,
             "#0d0887"
            ],
            [
             0.1111111111111111,
             "#46039f"
            ],
            [
             0.2222222222222222,
             "#7201a8"
            ],
            [
             0.3333333333333333,
             "#9c179e"
            ],
            [
             0.4444444444444444,
             "#bd3786"
            ],
            [
             0.5555555555555556,
             "#d8576b"
            ],
            [
             0.6666666666666666,
             "#ed7953"
            ],
            [
             0.7777777777777778,
             "#fb9f3a"
            ],
            [
             0.8888888888888888,
             "#fdca26"
            ],
            [
             1,
             "#f0f921"
            ]
           ],
           "sequentialminus": [
            [
             0,
             "#0d0887"
            ],
            [
             0.1111111111111111,
             "#46039f"
            ],
            [
             0.2222222222222222,
             "#7201a8"
            ],
            [
             0.3333333333333333,
             "#9c179e"
            ],
            [
             0.4444444444444444,
             "#bd3786"
            ],
            [
             0.5555555555555556,
             "#d8576b"
            ],
            [
             0.6666666666666666,
             "#ed7953"
            ],
            [
             0.7777777777777778,
             "#fb9f3a"
            ],
            [
             0.8888888888888888,
             "#fdca26"
            ],
            [
             1,
             "#f0f921"
            ]
           ]
          },
          "colorway": [
           "#636efa",
           "#EF553B",
           "#00cc96",
           "#ab63fa",
           "#FFA15A",
           "#19d3f3",
           "#FF6692",
           "#B6E880",
           "#FF97FF",
           "#FECB52"
          ],
          "font": {
           "color": "#2a3f5f"
          },
          "geo": {
           "bgcolor": "white",
           "lakecolor": "white",
           "landcolor": "#E5ECF6",
           "showlakes": true,
           "showland": true,
           "subunitcolor": "white"
          },
          "hoverlabel": {
           "align": "left"
          },
          "hovermode": "closest",
          "mapbox": {
           "style": "light"
          },
          "paper_bgcolor": "white",
          "plot_bgcolor": "#E5ECF6",
          "polar": {
           "angularaxis": {
            "gridcolor": "white",
            "linecolor": "white",
            "ticks": ""
           },
           "bgcolor": "#E5ECF6",
           "radialaxis": {
            "gridcolor": "white",
            "linecolor": "white",
            "ticks": ""
           }
          },
          "scene": {
           "xaxis": {
            "backgroundcolor": "#E5ECF6",
            "gridcolor": "white",
            "gridwidth": 2,
            "linecolor": "white",
            "showbackground": true,
            "ticks": "",
            "zerolinecolor": "white"
           },
           "yaxis": {
            "backgroundcolor": "#E5ECF6",
            "gridcolor": "white",
            "gridwidth": 2,
            "linecolor": "white",
            "showbackground": true,
            "ticks": "",
            "zerolinecolor": "white"
           },
           "zaxis": {
            "backgroundcolor": "#E5ECF6",
            "gridcolor": "white",
            "gridwidth": 2,
            "linecolor": "white",
            "showbackground": true,
            "ticks": "",
            "zerolinecolor": "white"
           }
          },
          "shapedefaults": {
           "line": {
            "color": "#2a3f5f"
           }
          },
          "ternary": {
           "aaxis": {
            "gridcolor": "white",
            "linecolor": "white",
            "ticks": ""
           },
           "baxis": {
            "gridcolor": "white",
            "linecolor": "white",
            "ticks": ""
           },
           "bgcolor": "#E5ECF6",
           "caxis": {
            "gridcolor": "white",
            "linecolor": "white",
            "ticks": ""
           }
          },
          "title": {
           "x": 0.05
          },
          "xaxis": {
           "automargin": true,
           "gridcolor": "white",
           "linecolor": "white",
           "ticks": "",
           "title": {
            "standoff": 15
           },
           "zerolinecolor": "white",
           "zerolinewidth": 2
          },
          "yaxis": {
           "automargin": true,
           "gridcolor": "white",
           "linecolor": "white",
           "ticks": "",
           "title": {
            "standoff": 15
           },
           "zerolinecolor": "white",
           "zerolinewidth": 2
          }
         }
        },
        "title": {
         "text": "Optimization History Plot"
        },
        "xaxis": {
         "title": {
          "text": "Trial"
         }
        },
        "yaxis": {
         "title": {
          "text": "Objective Value"
         }
        }
       }
      },
      "text/html": [
       "<div>                            <div id=\"aedf255e-9222-4750-9d20-76eb75ea17d5\" class=\"plotly-graph-div\" style=\"height:525px; width:100%;\"></div>            <script type=\"text/javascript\">                require([\"plotly\"], function(Plotly) {                    window.PLOTLYENV=window.PLOTLYENV || {};                                    if (document.getElementById(\"aedf255e-9222-4750-9d20-76eb75ea17d5\")) {                    Plotly.newPlot(                        \"aedf255e-9222-4750-9d20-76eb75ea17d5\",                        [{\"mode\":\"markers\",\"name\":\"Objective Value\",\"x\":[0,1,2,3,4,5,6,7,8,9,10,11,12,13,14,15,16,17,18,19,20,21,22,23,24,25,26,27,28,29,30,31,32,33,34,35,36,37,38,39,40,41,42,43,44,45,46,47,48,49],\"y\":[0.20210278803889056,0.29201214530921926,0.06825479378680027,0.13291444417663145,0.06564854890643324,0.01606221254514057,0.13545516772825392,0.1477616914193582,0.08714238512137189,0.06117562546884269,0.018847668340758635,0.03803803611814659,0.08662321730463346,0.04893336424693235,0.012967458850531327,0.011525289115093696,0.06134817123126537,0.03720273612367313,0.06297686747149087,0.10951971121653875,0.021285919293647072,1.0044330879676586,0.006926086330154391,0.053924129090046506,0.02149608004114214,0.06932534520991901,0.054108492277028845,0.06599394721159059,0.05475693108323608,0.03272980724020475,0.023157688454634315,0.05310646138005321,0.023778673853038557,0.03676525523866306,1.023815159041442,0.02379002435048682,0.06531413441091288,0.01215039496573934,0.06622785599178826,0.14029636867144993,0.1771363109209008,0.0237545004345815,0.0461754109344191,0.008019281637177128,0.0263711430173373,0.015840502347513517,0.016720570049883914,0.026438513912092773,0.029259786878224805,0.054681114255020785],\"type\":\"scatter\"},{\"mode\":\"lines\",\"name\":\"Best Value\",\"x\":[0,1,2,3,4,5,6,7,8,9,10,11,12,13,14,15,16,17,18,19,20,21,22,23,24,25,26,27,28,29,30,31,32,33,34,35,36,37,38,39,40,41,42,43,44,45,46,47,48,49],\"y\":[0.20210278803889056,0.20210278803889056,0.06825479378680027,0.06825479378680027,0.06564854890643324,0.01606221254514057,0.01606221254514057,0.01606221254514057,0.01606221254514057,0.01606221254514057,0.01606221254514057,0.01606221254514057,0.01606221254514057,0.01606221254514057,0.012967458850531327,0.011525289115093696,0.011525289115093696,0.011525289115093696,0.011525289115093696,0.011525289115093696,0.011525289115093696,0.011525289115093696,0.006926086330154391,0.006926086330154391,0.006926086330154391,0.006926086330154391,0.006926086330154391,0.006926086330154391,0.006926086330154391,0.006926086330154391,0.006926086330154391,0.006926086330154391,0.006926086330154391,0.006926086330154391,0.006926086330154391,0.006926086330154391,0.006926086330154391,0.006926086330154391,0.006926086330154391,0.006926086330154391,0.006926086330154391,0.006926086330154391,0.006926086330154391,0.006926086330154391,0.006926086330154391,0.006926086330154391,0.006926086330154391,0.006926086330154391,0.006926086330154391,0.006926086330154391],\"type\":\"scatter\"},{\"marker\":{\"color\":\"#cccccc\"},\"mode\":\"markers\",\"name\":\"Infeasible Trial\",\"showlegend\":false,\"x\":[],\"y\":[],\"type\":\"scatter\"}],                        {\"title\":{\"text\":\"Optimization History Plot\"},\"xaxis\":{\"title\":{\"text\":\"Trial\"}},\"yaxis\":{\"title\":{\"text\":\"Objective Value\"}},\"template\":{\"data\":{\"histogram2dcontour\":[{\"type\":\"histogram2dcontour\",\"colorbar\":{\"outlinewidth\":0,\"ticks\":\"\"},\"colorscale\":[[0.0,\"#0d0887\"],[0.1111111111111111,\"#46039f\"],[0.2222222222222222,\"#7201a8\"],[0.3333333333333333,\"#9c179e\"],[0.4444444444444444,\"#bd3786\"],[0.5555555555555556,\"#d8576b\"],[0.6666666666666666,\"#ed7953\"],[0.7777777777777778,\"#fb9f3a\"],[0.8888888888888888,\"#fdca26\"],[1.0,\"#f0f921\"]]}],\"choropleth\":[{\"type\":\"choropleth\",\"colorbar\":{\"outlinewidth\":0,\"ticks\":\"\"}}],\"histogram2d\":[{\"type\":\"histogram2d\",\"colorbar\":{\"outlinewidth\":0,\"ticks\":\"\"},\"colorscale\":[[0.0,\"#0d0887\"],[0.1111111111111111,\"#46039f\"],[0.2222222222222222,\"#7201a8\"],[0.3333333333333333,\"#9c179e\"],[0.4444444444444444,\"#bd3786\"],[0.5555555555555556,\"#d8576b\"],[0.6666666666666666,\"#ed7953\"],[0.7777777777777778,\"#fb9f3a\"],[0.8888888888888888,\"#fdca26\"],[1.0,\"#f0f921\"]]}],\"heatmap\":[{\"type\":\"heatmap\",\"colorbar\":{\"outlinewidth\":0,\"ticks\":\"\"},\"colorscale\":[[0.0,\"#0d0887\"],[0.1111111111111111,\"#46039f\"],[0.2222222222222222,\"#7201a8\"],[0.3333333333333333,\"#9c179e\"],[0.4444444444444444,\"#bd3786\"],[0.5555555555555556,\"#d8576b\"],[0.6666666666666666,\"#ed7953\"],[0.7777777777777778,\"#fb9f3a\"],[0.8888888888888888,\"#fdca26\"],[1.0,\"#f0f921\"]]}],\"heatmapgl\":[{\"type\":\"heatmapgl\",\"colorbar\":{\"outlinewidth\":0,\"ticks\":\"\"},\"colorscale\":[[0.0,\"#0d0887\"],[0.1111111111111111,\"#46039f\"],[0.2222222222222222,\"#7201a8\"],[0.3333333333333333,\"#9c179e\"],[0.4444444444444444,\"#bd3786\"],[0.5555555555555556,\"#d8576b\"],[0.6666666666666666,\"#ed7953\"],[0.7777777777777778,\"#fb9f3a\"],[0.8888888888888888,\"#fdca26\"],[1.0,\"#f0f921\"]]}],\"contourcarpet\":[{\"type\":\"contourcarpet\",\"colorbar\":{\"outlinewidth\":0,\"ticks\":\"\"}}],\"contour\":[{\"type\":\"contour\",\"colorbar\":{\"outlinewidth\":0,\"ticks\":\"\"},\"colorscale\":[[0.0,\"#0d0887\"],[0.1111111111111111,\"#46039f\"],[0.2222222222222222,\"#7201a8\"],[0.3333333333333333,\"#9c179e\"],[0.4444444444444444,\"#bd3786\"],[0.5555555555555556,\"#d8576b\"],[0.6666666666666666,\"#ed7953\"],[0.7777777777777778,\"#fb9f3a\"],[0.8888888888888888,\"#fdca26\"],[1.0,\"#f0f921\"]]}],\"surface\":[{\"type\":\"surface\",\"colorbar\":{\"outlinewidth\":0,\"ticks\":\"\"},\"colorscale\":[[0.0,\"#0d0887\"],[0.1111111111111111,\"#46039f\"],[0.2222222222222222,\"#7201a8\"],[0.3333333333333333,\"#9c179e\"],[0.4444444444444444,\"#bd3786\"],[0.5555555555555556,\"#d8576b\"],[0.6666666666666666,\"#ed7953\"],[0.7777777777777778,\"#fb9f3a\"],[0.8888888888888888,\"#fdca26\"],[1.0,\"#f0f921\"]]}],\"mesh3d\":[{\"type\":\"mesh3d\",\"colorbar\":{\"outlinewidth\":0,\"ticks\":\"\"}}],\"scatter\":[{\"fillpattern\":{\"fillmode\":\"overlay\",\"size\":10,\"solidity\":0.2},\"type\":\"scatter\"}],\"parcoords\":[{\"type\":\"parcoords\",\"line\":{\"colorbar\":{\"outlinewidth\":0,\"ticks\":\"\"}}}],\"scatterpolargl\":[{\"type\":\"scatterpolargl\",\"marker\":{\"colorbar\":{\"outlinewidth\":0,\"ticks\":\"\"}}}],\"bar\":[{\"error_x\":{\"color\":\"#2a3f5f\"},\"error_y\":{\"color\":\"#2a3f5f\"},\"marker\":{\"line\":{\"color\":\"#E5ECF6\",\"width\":0.5},\"pattern\":{\"fillmode\":\"overlay\",\"size\":10,\"solidity\":0.2}},\"type\":\"bar\"}],\"scattergeo\":[{\"type\":\"scattergeo\",\"marker\":{\"colorbar\":{\"outlinewidth\":0,\"ticks\":\"\"}}}],\"scatterpolar\":[{\"type\":\"scatterpolar\",\"marker\":{\"colorbar\":{\"outlinewidth\":0,\"ticks\":\"\"}}}],\"histogram\":[{\"marker\":{\"pattern\":{\"fillmode\":\"overlay\",\"size\":10,\"solidity\":0.2}},\"type\":\"histogram\"}],\"scattergl\":[{\"type\":\"scattergl\",\"marker\":{\"colorbar\":{\"outlinewidth\":0,\"ticks\":\"\"}}}],\"scatter3d\":[{\"type\":\"scatter3d\",\"line\":{\"colorbar\":{\"outlinewidth\":0,\"ticks\":\"\"}},\"marker\":{\"colorbar\":{\"outlinewidth\":0,\"ticks\":\"\"}}}],\"scattermapbox\":[{\"type\":\"scattermapbox\",\"marker\":{\"colorbar\":{\"outlinewidth\":0,\"ticks\":\"\"}}}],\"scatterternary\":[{\"type\":\"scatterternary\",\"marker\":{\"colorbar\":{\"outlinewidth\":0,\"ticks\":\"\"}}}],\"scattercarpet\":[{\"type\":\"scattercarpet\",\"marker\":{\"colorbar\":{\"outlinewidth\":0,\"ticks\":\"\"}}}],\"carpet\":[{\"aaxis\":{\"endlinecolor\":\"#2a3f5f\",\"gridcolor\":\"white\",\"linecolor\":\"white\",\"minorgridcolor\":\"white\",\"startlinecolor\":\"#2a3f5f\"},\"baxis\":{\"endlinecolor\":\"#2a3f5f\",\"gridcolor\":\"white\",\"linecolor\":\"white\",\"minorgridcolor\":\"white\",\"startlinecolor\":\"#2a3f5f\"},\"type\":\"carpet\"}],\"table\":[{\"cells\":{\"fill\":{\"color\":\"#EBF0F8\"},\"line\":{\"color\":\"white\"}},\"header\":{\"fill\":{\"color\":\"#C8D4E3\"},\"line\":{\"color\":\"white\"}},\"type\":\"table\"}],\"barpolar\":[{\"marker\":{\"line\":{\"color\":\"#E5ECF6\",\"width\":0.5},\"pattern\":{\"fillmode\":\"overlay\",\"size\":10,\"solidity\":0.2}},\"type\":\"barpolar\"}],\"pie\":[{\"automargin\":true,\"type\":\"pie\"}]},\"layout\":{\"autotypenumbers\":\"strict\",\"colorway\":[\"#636efa\",\"#EF553B\",\"#00cc96\",\"#ab63fa\",\"#FFA15A\",\"#19d3f3\",\"#FF6692\",\"#B6E880\",\"#FF97FF\",\"#FECB52\"],\"font\":{\"color\":\"#2a3f5f\"},\"hovermode\":\"closest\",\"hoverlabel\":{\"align\":\"left\"},\"paper_bgcolor\":\"white\",\"plot_bgcolor\":\"#E5ECF6\",\"polar\":{\"bgcolor\":\"#E5ECF6\",\"angularaxis\":{\"gridcolor\":\"white\",\"linecolor\":\"white\",\"ticks\":\"\"},\"radialaxis\":{\"gridcolor\":\"white\",\"linecolor\":\"white\",\"ticks\":\"\"}},\"ternary\":{\"bgcolor\":\"#E5ECF6\",\"aaxis\":{\"gridcolor\":\"white\",\"linecolor\":\"white\",\"ticks\":\"\"},\"baxis\":{\"gridcolor\":\"white\",\"linecolor\":\"white\",\"ticks\":\"\"},\"caxis\":{\"gridcolor\":\"white\",\"linecolor\":\"white\",\"ticks\":\"\"}},\"coloraxis\":{\"colorbar\":{\"outlinewidth\":0,\"ticks\":\"\"}},\"colorscale\":{\"sequential\":[[0.0,\"#0d0887\"],[0.1111111111111111,\"#46039f\"],[0.2222222222222222,\"#7201a8\"],[0.3333333333333333,\"#9c179e\"],[0.4444444444444444,\"#bd3786\"],[0.5555555555555556,\"#d8576b\"],[0.6666666666666666,\"#ed7953\"],[0.7777777777777778,\"#fb9f3a\"],[0.8888888888888888,\"#fdca26\"],[1.0,\"#f0f921\"]],\"sequentialminus\":[[0.0,\"#0d0887\"],[0.1111111111111111,\"#46039f\"],[0.2222222222222222,\"#7201a8\"],[0.3333333333333333,\"#9c179e\"],[0.4444444444444444,\"#bd3786\"],[0.5555555555555556,\"#d8576b\"],[0.6666666666666666,\"#ed7953\"],[0.7777777777777778,\"#fb9f3a\"],[0.8888888888888888,\"#fdca26\"],[1.0,\"#f0f921\"]],\"diverging\":[[0,\"#8e0152\"],[0.1,\"#c51b7d\"],[0.2,\"#de77ae\"],[0.3,\"#f1b6da\"],[0.4,\"#fde0ef\"],[0.5,\"#f7f7f7\"],[0.6,\"#e6f5d0\"],[0.7,\"#b8e186\"],[0.8,\"#7fbc41\"],[0.9,\"#4d9221\"],[1,\"#276419\"]]},\"xaxis\":{\"gridcolor\":\"white\",\"linecolor\":\"white\",\"ticks\":\"\",\"title\":{\"standoff\":15},\"zerolinecolor\":\"white\",\"automargin\":true,\"zerolinewidth\":2},\"yaxis\":{\"gridcolor\":\"white\",\"linecolor\":\"white\",\"ticks\":\"\",\"title\":{\"standoff\":15},\"zerolinecolor\":\"white\",\"automargin\":true,\"zerolinewidth\":2},\"scene\":{\"xaxis\":{\"backgroundcolor\":\"#E5ECF6\",\"gridcolor\":\"white\",\"linecolor\":\"white\",\"showbackground\":true,\"ticks\":\"\",\"zerolinecolor\":\"white\",\"gridwidth\":2},\"yaxis\":{\"backgroundcolor\":\"#E5ECF6\",\"gridcolor\":\"white\",\"linecolor\":\"white\",\"showbackground\":true,\"ticks\":\"\",\"zerolinecolor\":\"white\",\"gridwidth\":2},\"zaxis\":{\"backgroundcolor\":\"#E5ECF6\",\"gridcolor\":\"white\",\"linecolor\":\"white\",\"showbackground\":true,\"ticks\":\"\",\"zerolinecolor\":\"white\",\"gridwidth\":2}},\"shapedefaults\":{\"line\":{\"color\":\"#2a3f5f\"}},\"annotationdefaults\":{\"arrowcolor\":\"#2a3f5f\",\"arrowhead\":0,\"arrowwidth\":1},\"geo\":{\"bgcolor\":\"white\",\"landcolor\":\"#E5ECF6\",\"subunitcolor\":\"white\",\"showland\":true,\"showlakes\":true,\"lakecolor\":\"white\"},\"title\":{\"x\":0.05},\"mapbox\":{\"style\":\"light\"}}}},                        {\"responsive\": true}                    ).then(function(){\n",
       "                            \n",
       "var gd = document.getElementById('aedf255e-9222-4750-9d20-76eb75ea17d5');\n",
       "var x = new MutationObserver(function (mutations, observer) {{\n",
       "        var display = window.getComputedStyle(gd).display;\n",
       "        if (!display || display === 'none') {{\n",
       "            console.log([gd, 'removed!']);\n",
       "            Plotly.purge(gd);\n",
       "            observer.disconnect();\n",
       "        }}\n",
       "}});\n",
       "\n",
       "// Listen for the removal of the full notebook cells\n",
       "var notebookContainer = gd.closest('#notebook-container');\n",
       "if (notebookContainer) {{\n",
       "    x.observe(notebookContainer, {childList: true});\n",
       "}}\n",
       "\n",
       "// Listen for the clearing of the current output cell\n",
       "var outputEl = gd.closest('.output');\n",
       "if (outputEl) {{\n",
       "    x.observe(outputEl, {childList: true});\n",
       "}}\n",
       "\n",
       "                        })                };                });            </script>        </div>"
      ]
     },
     "metadata": {},
     "output_type": "display_data"
    }
   ],
   "source": [
    "optuna.visualization.plot_optimization_history(optimize_results)"
   ]
  },
  {
   "cell_type": "code",
   "execution_count": 19,
   "metadata": {},
   "outputs": [
    {
     "data": {
      "text/plain": [
       "{'freq': -0.05999999999999994,\n",
       " 'time': 3.4000000000000004,\n",
       " 'amp': 0.004999999999999999}"
      ]
     },
     "execution_count": 19,
     "metadata": {},
     "output_type": "execute_result"
    }
   ],
   "source": [
    "optimize_results.get_trials()[43].params"
   ]
  },
  {
   "cell_type": "code",
   "execution_count": 18,
   "metadata": {},
   "outputs": [
    {
     "name": "stderr",
     "output_type": "stream",
     "text": [
      "2024-01-23 14:05:25,199 ◆ calibration_supervisor.py ◆ Calibrating node cz_calibration_ssro\n"
     ]
    },
    {
     "name": "stdout",
     "output_type": "stream",
     "text": [
      " kwargs = {'opt_cz_pulse_frequency': {'q21_q22': -420000.00000000006}, 'opt_cz_pulse_duration': {'q21_q22': 3.900000000000001e-09}, 'opt_cz_pulse_amplitude': {'q21_q22': 0.003000000000000001}, 'couplers': ['q21_q22']}\n",
      "cz_pulse_frequency = {'q21_q22': 215700088.58646688}\n",
      "cz_pulse_duration = {'q21_q22': 3.8772015076688494e-07}\n",
      "cz_pulse_amplitude = {'q21_q22': 0.153}\n"
     ]
    },
    {
     "name": "stderr",
     "output_type": "stream",
     "text": [
      "2024-01-23 14:05:25,343 ◆ compilation_worker.py ◆ Starting Compiling\n",
      "2024-01-23 14:05:25,391 ◆ measurement_utils.py ◆ Starting measurement\n"
     ]
    },
    {
     "name": "stdout",
     "output_type": "stream",
     "text": [
      " schedule_duration = 0.013707559999999976\n"
     ]
    },
    {
     "name": "stderr",
     "output_type": "stream",
     "text": [
      "CZ_calibration_ssro: 0it [00:00, ?it/s]\n",
      "/home/loke-c/anaconda3/envs/tac/lib/python3.9/site-packages/quantify_scheduler/instrument_coordinator/components/qblox.py:1209: FutureWarning:\n",
      "\n",
      "The format of acquisition data of looped measurements in APPEND mode will change in quantify-scheduler>=0.18.0\n",
      "\n",
      "2024-01-23 14:06:08,222 ◆ measurement_utils.py ◆ Raw dataset acquired\n",
      "2024-01-23 14:06:08,235 ◆ execution_worker.py ◆ Finished measurement\n",
      "2024-01-23 14:06:08,236 ◆ calibration_supervisor.py ◆ measurement completed\n",
      "2024-01-23 14:06:14,327 ◆ calibration_supervisor.py ◆ analysis completed\n"
     ]
    },
    {
     "name": "stdout",
     "output_type": "stream",
     "text": [
      "{'q21_q22': {'cz_phase': 135.67059938605962, 'cz_pop_loss': 0.09209620748041969, 'cz_leakage': -0.025750414300000003}, 'q22': {'cz_phase': 0, 'cz_pop_loss': 0.0, 'cz_leakage': 0.00807985089230769}}\n"
     ]
    },
    {
     "data": {
      "text/plain": [
       "{'q21_q22': {'cz_phase': 135.67059938605962,\n",
       "  'cz_pop_loss': 0.09209620748041969,\n",
       "  'cz_leakage': -0.025750414300000003},\n",
       " 'q22': {'cz_phase': 0, 'cz_pop_loss': 0.0, 'cz_leakage': 0.00807985089230769}}"
      ]
     },
     "execution_count": 18,
     "metadata": {},
     "output_type": "execute_result"
    }
   ],
   "source": [
    "optimize.validate_cz()"
   ]
  },
  {
   "cell_type": "code",
   "execution_count": 21,
   "metadata": {},
   "outputs": [],
   "source": [
    "# best_params = optimize_results.best_params\n",
    "# best_params = {'freq': 0.20000000000000018, 'time': -16.0, 'amp': 0.07}\n",
    "best_params = optimize_results.get_trials()[43].params\n",
    "freqs = np.array([best_params['freq']])*1e6\n",
    "times = np.array([best_params['time']])*1e-9\n",
    "amps = np.array([best_params['amp']])"
   ]
  },
  {
   "cell_type": "code",
   "execution_count": 22,
   "metadata": {},
   "outputs": [],
   "source": [
    "# cz_pulse_frequency = {'q21_q22': 216327101.23576328}\n",
    "# cz_pulse_duration = {'q21_q22': 4.56e-07}\n",
    "# cz_pulse_amplitude = {'q21_q22': 0.15}"
   ]
  },
  {
   "cell_type": "code",
   "execution_count": 23,
   "metadata": {},
   "outputs": [
    {
     "name": "stdout",
     "output_type": "stream",
     "text": [
      " remove_node = 'cz_calibration_ssro'\n"
     ]
    },
    {
     "name": "stderr",
     "output_type": "stream",
     "text": [
      "2024-01-23 14:09:26,208 ◆ calibration_supervisor.py ◆ Calibrating node cz_calibration_ssro\n"
     ]
    },
    {
     "name": "stdout",
     "output_type": "stream",
     "text": [
      " kwargs = {'opt_cz_pulse_frequency': {'q21_q22': -59999.99999999994}, 'opt_cz_pulse_duration': {'q21_q22': 3.4000000000000007e-09}, 'opt_cz_pulse_amplitude': {'q21_q22': 0.004999999999999999}, 'couplers': ['q21_q22']}\n",
      "cz_pulse_frequency = {'q21_q22': 216060088.58646688}\n",
      "cz_pulse_duration = {'q21_q22': 3.8722015076688495e-07}\n",
      "cz_pulse_amplitude = {'q21_q22': 0.155}\n"
     ]
    },
    {
     "name": "stderr",
     "output_type": "stream",
     "text": [
      "2024-01-23 14:09:26,351 ◆ compilation_worker.py ◆ Starting Compiling\n",
      "2024-01-23 14:09:26,399 ◆ measurement_utils.py ◆ Starting measurement\n"
     ]
    },
    {
     "name": "stdout",
     "output_type": "stream",
     "text": [
      " schedule_duration = 0.013707559999999976\n"
     ]
    },
    {
     "name": "stderr",
     "output_type": "stream",
     "text": [
      "CZ_calibration_ssro: 0it [00:00, ?it/s]\n",
      "/home/loke-c/anaconda3/envs/tac/lib/python3.9/site-packages/quantify_scheduler/instrument_coordinator/components/qblox.py:1209: FutureWarning:\n",
      "\n",
      "The format of acquisition data of looped measurements in APPEND mode will change in quantify-scheduler>=0.18.0\n",
      "\n",
      "2024-01-23 14:10:09,202 ◆ measurement_utils.py ◆ Raw dataset acquired\n",
      "2024-01-23 14:10:09,215 ◆ execution_worker.py ◆ Finished measurement\n",
      "2024-01-23 14:10:09,216 ◆ calibration_supervisor.py ◆ measurement completed\n",
      "2024-01-23 14:10:15,487 ◆ calibration_supervisor.py ◆ analysis completed\n"
     ]
    },
    {
     "data": {
      "text/plain": [
       "{'q21_q22': {'cz_phase': 178.24381967635458,\n",
       "  'cz_pop_loss': 0.1127411062353143,\n",
       "  'cz_leakage': -0.029000304223076923},\n",
       " 'q22': {'cz_phase': 0,\n",
       "  'cz_pop_loss': 0.0,\n",
       "  'cz_leakage': -0.014717963846153847}}"
      ]
     },
     "execution_count": 23,
     "metadata": {},
     "output_type": "execute_result"
    }
   ],
   "source": [
    "reset_redis.reset_node('cz_calibration_ssro')\n",
    "monitor.calibrate_node('cz_calibration_ssro',opt_cz_pulse_frequency = dict(zip(couplers,freqs)), \n",
    "                                                        opt_cz_pulse_duration = dict(zip(couplers,times)),\n",
    "                                                        opt_cz_pulse_amplitude = dict(zip(couplers,amps)))\n",
    "monitor.get_results()"
   ]
  },
  {
   "cell_type": "markdown",
   "metadata": {},
   "source": [
    "# Analysis"
   ]
  },
  {
   "cell_type": "markdown",
   "metadata": {},
   "source": [
    "## Reset"
   ]
  },
  {
   "cell_type": "code",
   "execution_count": 227,
   "metadata": {},
   "outputs": [
    {
     "name": "stdout",
     "output_type": "stream",
     "text": [
      "20240102-123256-751-ead3d1-cz_chevron_20_fixedTime\n"
     ]
    }
   ],
   "source": [
    "%matplotlib inline\n",
    "import numpy as np\n",
    "import matplotlib.pyplot as plt\n",
    "from xarray import load_dataset\n",
    "from workers.post_processing_worker import Multiplexed_Analysis\n",
    "import redis\n",
    "import xarray as xr\n",
    "from sklearn.discriminant_analysis import LinearDiscriminantAnalysis\n",
    "from sklearn.metrics import confusion_matrix,ConfusionMatrixDisplay\n",
    "import matplotlib.pyplot as plt\n",
    "from scipy.linalg import norm\n",
    "from scipy.optimize import minimize\n",
    "from numpy.linalg import inv\n",
    "\n",
    "\n",
    "# dp = r\"data_directory/20231106/20231106-155442-755-1ff0de-cz_chevron/dataset.hdf5\"\n",
    "# name = '20231226-17`5522-736-99b290-cz_calibration_ssro'\n",
    "\n",
    "from os import listdir\n",
    "date = '20240102'\n",
    "path = f'data_directory/{date}'\n",
    "names = np.sort(listdir(path))\n",
    "name = names[-3]\n",
    "# name = '20231231-121410-941-404eaf-cz_calibration_ssro'\n",
    "print(name)\n",
    "dp = f'data_directory/{date}/{name}/dataset.hdf5'\n",
    "ds = load_dataset(dp)"
   ]
  },
  {
   "cell_type": "code",
   "execution_count": 228,
   "metadata": {},
   "outputs": [
    {
     "name": "stdout",
     "output_type": "stream",
     "text": [
      "71\n"
     ]
    }
   ],
   "source": [
    "dataset = ds\n",
    "qubit = 'q14'\n",
    "x = dataset[f'cz_pulse_frequencies_sweep{qubit}'].values # MHz\n",
    "y = dataset[f'cz_pulse_durations{qubit}'].values # ns\n",
    "\n",
    "qubit = 'q14'\n",
    "magnitudes0 = np.array([[np.linalg.norm(u) for u in v] for v in dataset[f'y{qubit}']])\n",
    "qubit = 'q15'\n",
    "magnitudes1 = np.array([[np.linalg.norm(u) for u in v] for v in dataset[f'y{qubit}']])\n",
    "total_magnitude = (magnitudes0+magnitudes1)/2\n",
    "sum_list =[]\n",
    "for mag in total_magnitude.T:\n",
    "    sum_list.append(np.sum(mag))\n",
    "min_index = np.argmin(sum_list)\n",
    "print(min_index)"
   ]
  },
  {
   "cell_type": "code",
   "execution_count": 229,
   "metadata": {},
   "outputs": [],
   "source": [
    "plt.figure(figsize=(5,5))\n",
    "plt.plot(y, magnitudes0.T[min_index],'-r')\n",
    "plt.plot(y, magnitudes1.T[min_index],'-b')\n",
    "plt.plot(y, total_magnitude.T[min_index],'--k')\n",
    "plt.show()"
   ]
  },
  {
   "cell_type": "code",
   "execution_count": 230,
   "metadata": {},
   "outputs": [],
   "source": [
    "plt.imshow(magnitudes0, aspect='auto',extent =[x.min(), x.max(), y.min(), y.max()],  origin ='lower')\n",
    "plt.vlines(x[min_index], y.min(), y.max(), linestyles='dashed' ,colors='r')\n",
    "plt.colorbar()\n",
    "plt.show()\n",
    "plt.imshow(magnitudes1, aspect='auto',extent =[x.min(), x.max(), y.min(), y.max()],  origin ='lower')\n",
    "plt.vlines(x[min_index], y.min(), y.max(), linestyles='dashed' ,colors='r')\n",
    "plt.colorbar()\n",
    "plt.show()\n",
    "plt.imshow(total_magnitude, aspect='auto',extent =[x.min(), x.max(), y.min(), y.max()],  origin ='lower')\n",
    "plt.vlines(x[min_index], y.min(), y.max(), linestyles='dashed' ,colors='r')\n",
    "plt.colorbar()\n",
    "plt.show()"
   ]
  },
  {
   "cell_type": "code",
   "execution_count": 231,
   "metadata": {},
   "outputs": [
    {
     "ename": "NameError",
     "evalue": "name 'state_coord' is not defined",
     "output_type": "error",
     "traceback": [
      "\u001b[0;31m---------------------------------------------------------------------------\u001b[0m",
      "\u001b[0;31mNameError\u001b[0m                                 Traceback (most recent call last)",
      "Cell \u001b[0;32mIn[231], line 43\u001b[0m\n\u001b[1;32m     40\u001b[0m     \u001b[38;5;28;01melif\u001b[39;00m \u001b[38;5;124m'\u001b[39m\u001b[38;5;124mshot\u001b[39m\u001b[38;5;124m'\u001b[39m \u001b[38;5;129;01min\u001b[39;00m \u001b[38;5;28mstr\u001b[39m(coord):\n\u001b[1;32m     41\u001b[0m         shot_coord \u001b[38;5;241m=\u001b[39m coord\n\u001b[0;32m---> 43\u001b[0m independents \u001b[38;5;241m=\u001b[39m dataset[\u001b[43mstate_coord\u001b[49m]\u001b[38;5;241m.\u001b[39mvalues[:\u001b[38;5;241m-\u001b[39m\u001b[38;5;241m3\u001b[39m]\n\u001b[1;32m     44\u001b[0m calibs \u001b[38;5;241m=\u001b[39m dataset[state_coord]\u001b[38;5;241m.\u001b[39mvalues[\u001b[38;5;241m-\u001b[39m\u001b[38;5;241m3\u001b[39m:]\n\u001b[1;32m     45\u001b[0m sweeps \u001b[38;5;241m=\u001b[39m dataset\u001b[38;5;241m.\u001b[39mcoords[sweep_coord]\n",
      "\u001b[0;31mNameError\u001b[0m: name 'state_coord' is not defined"
     ]
    }
   ],
   "source": [
    "%matplotlib inline\n",
    "\n",
    "import numpy as np\n",
    "import redis\n",
    "import xarray as xr\n",
    "from sklearn.discriminant_analysis import LinearDiscriminantAnalysis\n",
    "from sklearn.metrics import confusion_matrix,ConfusionMatrixDisplay\n",
    "import matplotlib.pyplot as plt\n",
    "from scipy.linalg import norm\n",
    "from scipy.optimize import minimize\n",
    "from numpy.linalg import inv\n",
    "\n",
    "def mitigate(v,cm_inv):\n",
    "    u = np.dot(v,cm_inv)\n",
    "    # print(u,np.sum(u))\n",
    "    def m(t):\n",
    "        return norm(u-np.array(t))\n",
    "    def con(t):\n",
    "        return t[0]+t[1]+t[2]-1\n",
    "    cons = ({'type': 'eq', 'fun': con},\n",
    "            {'type': 'ineq', 'fun': lambda t: t[0]},\n",
    "            {'type': 'ineq', 'fun': lambda t: t[1]},\n",
    "            {'type': 'ineq', 'fun': lambda t: t[2]})\n",
    "    result = minimize(m, v, method='SLSQP', constraints=cons)\n",
    "    w = np.abs(np.round(result.x,10))\n",
    "    # print(w)\n",
    "    return w\n",
    "\n",
    "dataset = ds\n",
    "for qubit in ['q13']:\n",
    "# for qubit in ['q13','q14']:\n",
    "# qubit = 'q13'\n",
    "    data_var = f'y{qubit}'\n",
    "\n",
    "    for coord in dataset.coords:\n",
    "        if f'control_ons{qubit}' in str(coord):\n",
    "            sweep_coord = coord\n",
    "        elif f'ramsey_phases{qubit}' in str(coord):\n",
    "            state_coord = coord\n",
    "        elif 'shot' in str(coord):\n",
    "            shot_coord = coord\n",
    "\n",
    "    independents = dataset[state_coord].values[:-3]\n",
    "    calibs = dataset[state_coord].values[-3:]\n",
    "    sweeps = dataset.coords[sweep_coord]\n",
    "    shots = len(dataset[shot_coord].values)\n",
    "    magnitudes = []\n",
    "    for indx, _ in enumerate(sweeps):\n",
    "        # indx = 0\n",
    "        # print(f'{indx = }')\n",
    "        # print(f'{ro_amplitude.values = }')\n",
    "        y = np.repeat(calibs,shots)\n",
    "        IQ_complex = np.array([])\n",
    "        for state, _ in enumerate(calibs):\n",
    "            IQ_complex_0 = dataset[data_var].isel({sweep_coord:indx,state_coord:-3+state})\n",
    "            IQ_complex = np.append(IQ_complex,IQ_complex_0)\n",
    "        # IQ = np.array([I,Q]).T\n",
    "        IQ = IQ_complex.reshape(-1,2)\n",
    "        lda = LinearDiscriminantAnalysis(solver = \"svd\", store_covariance=True)\n",
    "        # breakpoint()\n",
    "        # print(IQ)\n",
    "        cla = lda.fit(IQ,y)\n",
    "        y_pred = cla.predict(IQ)\n",
    "\n",
    "        cm = confusion_matrix(y,y_pred)\n",
    "        cm_norm = confusion_matrix(y,y_pred,normalize='true')\n",
    "        cm_inv = inv(cm_norm)\n",
    "        assignment = np.trace(cm_norm)/len(calibs)\n",
    "        print(f'{assignment = }')\n",
    "\n",
    "        # disp = ConfusionMatrixDisplay(confusion_matrix=cm_norm)\n",
    "        # disp.plot()\n",
    "        # plt.show()\n",
    "\n",
    "        raw_data = dataset[data_var].isel({sweep_coord:indx}).values\n",
    "        raw_shape = raw_data.shape\n",
    "        data_y_pred = cla.predict(raw_data.reshape(-1,2))\n",
    "        data_y_pred = np.transpose(data_y_pred.reshape(raw_shape[:-1]))\n",
    "        # print(data_y_pred.shape)\n",
    "        # print(data_y_pred)\n",
    "        data_res_shape = list(data_y_pred.shape[:-1])\n",
    "        data_res_shape.append(len(calibs))\n",
    "\n",
    "        data_res = np.array([])\n",
    "        for index_2, sweep_2 in enumerate(data_y_pred):\n",
    "            uniques, counts = np.unique(sweep_2, return_counts=True)\n",
    "            raw_prob = counts/len(sweep_2)\n",
    "            # print(raw_prob)\n",
    "            mitigate_prob = mitigate(raw_prob,cm_inv)\n",
    "            data_res = np.append(data_res,mitigate_prob)\n",
    "            # print(mitigate_prob)\n",
    "        data_res = data_res.reshape(data_res_shape)\n",
    "        magnitudes.append(data_res)\n",
    "    magnitudes = np.array(magnitudes)\n",
    "    marker = ['-','--']\n",
    "    legend = ['off','on']\n",
    "    x = range(4)\n",
    "    # colors = plt.get_cmap('RdBu_r')(np.linspace(0.2, 0.8, len(x)))\n",
    "    # colors = plt.get_cmap('RdYlGn')(np.linspace(0.2, 0.8, 2))\n",
    "    colors = plt.get_cmap('tab20c')\n",
    "    for index,magnitude in enumerate(magnitudes):\n",
    "        plt.plot(independents,magnitude[:-3,0],f'{marker[index]}',c=colors(1),label=f'0_{legend[index]}')\n",
    "        plt.plot(independents,magnitude[:-3,1],f'{marker[index]}',c=colors(1+4),label=f'1_{legend[index]}')\n",
    "        plt.plot(independents,magnitude[:-3,2],f'{marker[index]}',c=colors(1+4*2),label=f'2_{legend[index]}')\n",
    "        plt.ylim(-0.01,1.01)\n",
    "        plt.legend(loc = 'upper right')\n",
    "        # plt.xlim(np.min(independents),np.max(independents))\n",
    "    plt.title(f'cz_calibration_ssro_{qubit}')\n",
    "    plt.savefig(f'{path}/{name}/cz_calibration_ssro_{qubit}.png')\n",
    "    plt.show()"
   ]
  },
  {
   "cell_type": "markdown",
   "metadata": {},
   "source": [
    "## CZ_calibration Data Broswing"
   ]
  },
  {
   "cell_type": "code",
   "execution_count": null,
   "metadata": {},
   "outputs": [
    {
     "name": "stdout",
     "output_type": "stream",
     "text": [
      "20231231-121410-941-404eaf-cz_calibration_ssro\n"
     ]
    }
   ],
   "source": [
    "import numpy as np\n",
    "import matplotlib.pyplot as plt\n",
    "from xarray import load_dataset\n",
    "from workers.post_processing_worker import Multiplexed_Analysis\n",
    "# dp = r\"data_directory/20231106/20231106-155442-755-1ff0de-cz_chevron/dataset.hdf5\"\n",
    "# name = '20231226-17`5522-736-99b290-cz_calibration_ssro'\n",
    "\n",
    "from os import listdir\n",
    "date = '20231231'\n",
    "path = f'data_directory/{date}'\n",
    "names = np.sort(listdir(path))\n",
    "name = names[-1]\n",
    "name = '20231231-121410-941-404eaf-cz_calibration_ssro'\n",
    "print(name)\n",
    "dp = f'data_directory/{date}/{name}/dataset.hdf5'\n",
    "ds = load_dataset(dp)"
   ]
  },
  {
   "cell_type": "code",
   "execution_count": null,
   "metadata": {},
   "outputs": [
    {
     "name": "stdout",
     "output_type": "stream",
     "text": [
      "assignment = 0.6695963541666666\n",
      "assignment = 0.6549479166666666\n"
     ]
    },
    {
     "data": {
      "image/png": "[encoded data removed]",
      "text/plain": [
       "<Figure size 640x480 with 1 Axes>"
      ]
     },
     "metadata": {},
     "output_type": "display_data"
    }
   ],
   "source": [
    "%matplotlib inline\n",
    "\n",
    "import numpy as np\n",
    "import redis\n",
    "import xarray as xr\n",
    "from sklearn.discriminant_analysis import LinearDiscriminantAnalysis\n",
    "from sklearn.metrics import confusion_matrix,ConfusionMatrixDisplay\n",
    "import matplotlib.pyplot as plt\n",
    "from scipy.linalg import norm\n",
    "from scipy.optimize import minimize\n",
    "from numpy.linalg import inv\n",
    "\n",
    "def mitigate(v,cm_inv):\n",
    "    u = np.dot(v,cm_inv)\n",
    "    # print(u,np.sum(u))\n",
    "    def m(t):\n",
    "        return norm(u-np.array(t))\n",
    "    def con(t):\n",
    "        return t[0]+t[1]+t[2]-1\n",
    "    cons = ({'type': 'eq', 'fun': con},\n",
    "            {'type': 'ineq', 'fun': lambda t: t[0]},\n",
    "            {'type': 'ineq', 'fun': lambda t: t[1]},\n",
    "            {'type': 'ineq', 'fun': lambda t: t[2]})\n",
    "    result = minimize(m, v, method='SLSQP', constraints=cons)\n",
    "    w = np.abs(np.round(result.x,10))\n",
    "    # print(w)\n",
    "    return w\n",
    "\n",
    "dataset = ds\n",
    "for qubit in ['q13']:\n",
    "# for qubit in ['q13','q14']:\n",
    "# qubit = 'q13'\n",
    "    data_var = f'y{qubit}'\n",
    "\n",
    "    for coord in dataset.coords:\n",
    "        if f'control_ons{qubit}' in str(coord):\n",
    "            sweep_coord = coord\n",
    "        elif f'ramsey_phases{qubit}' in str(coord):\n",
    "            state_coord = coord\n",
    "        elif 'shot' in str(coord):\n",
    "            shot_coord = coord\n",
    "\n",
    "    independents = dataset[state_coord].values[:-3]\n",
    "    calibs = dataset[state_coord].values[-3:]\n",
    "    sweeps = dataset.coords[sweep_coord]\n",
    "    shots = len(dataset[shot_coord].values)\n",
    "    magnitudes = []\n",
    "    for indx, _ in enumerate(sweeps):\n",
    "        # indx = 0\n",
    "        # print(f'{indx = }')\n",
    "        # print(f'{ro_amplitude.values = }')\n",
    "        y = np.repeat(calibs,shots)\n",
    "        IQ_complex = np.array([])\n",
    "        for state, _ in enumerate(calibs):\n",
    "            IQ_complex_0 = dataset[data_var].isel({sweep_coord:indx,state_coord:-3+state})\n",
    "            IQ_complex = np.append(IQ_complex,IQ_complex_0)\n",
    "        # IQ = np.array([I,Q]).T\n",
    "        IQ = IQ_complex.reshape(-1,2)\n",
    "        lda = LinearDiscriminantAnalysis(solver = \"svd\", store_covariance=True)\n",
    "        # breakpoint()\n",
    "        # print(IQ)\n",
    "        cla = lda.fit(IQ,y)\n",
    "        y_pred = cla.predict(IQ)\n",
    "\n",
    "        cm = confusion_matrix(y,y_pred)\n",
    "        cm_norm = confusion_matrix(y,y_pred,normalize='true')\n",
    "        cm_inv = inv(cm_norm)\n",
    "        assignment = np.trace(cm_norm)/len(calibs)\n",
    "        print(f'{assignment = }')\n",
    "\n",
    "        # disp = ConfusionMatrixDisplay(confusion_matrix=cm_norm)\n",
    "        # disp.plot()\n",
    "        # plt.show()\n",
    "\n",
    "        raw_data = dataset[data_var].isel({sweep_coord:indx}).values\n",
    "        raw_shape = raw_data.shape\n",
    "        data_y_pred = cla.predict(raw_data.reshape(-1,2))\n",
    "        data_y_pred = np.transpose(data_y_pred.reshape(raw_shape[:-1]))\n",
    "        # print(data_y_pred.shape)\n",
    "        # print(data_y_pred)\n",
    "        data_res_shape = list(data_y_pred.shape[:-1])\n",
    "        data_res_shape.append(len(calibs))\n",
    "\n",
    "        data_res = np.array([])\n",
    "        for index_2, sweep_2 in enumerate(data_y_pred):\n",
    "            uniques, counts = np.unique(sweep_2, return_counts=True)\n",
    "            raw_prob = counts/len(sweep_2)\n",
    "            # print(raw_prob)\n",
    "            mitigate_prob = mitigate(raw_prob,cm_inv)\n",
    "            data_res = np.append(data_res,mitigate_prob)\n",
    "            # print(mitigate_prob)\n",
    "        data_res = data_res.reshape(data_res_shape)\n",
    "        magnitudes.append(data_res)\n",
    "    magnitudes = np.array(magnitudes)\n",
    "    marker = ['-','--']\n",
    "    legend = ['off','on']\n",
    "    x = range(4)\n",
    "    # colors = plt.get_cmap('RdBu_r')(np.linspace(0.2, 0.8, len(x)))\n",
    "    # colors = plt.get_cmap('RdYlGn')(np.linspace(0.2, 0.8, 2))\n",
    "    colors = plt.get_cmap('tab20c')\n",
    "    for index,magnitude in enumerate(magnitudes):\n",
    "        plt.plot(independents,magnitude[:-3,0],f'{marker[index]}',c=colors(1),label=f'0_{legend[index]}')\n",
    "        plt.plot(independents,magnitude[:-3,1],f'{marker[index]}',c=colors(1+4),label=f'1_{legend[index]}')\n",
    "        plt.plot(independents,magnitude[:-3,2],f'{marker[index]}',c=colors(1+4*2),label=f'2_{legend[index]}')\n",
    "        plt.ylim(-0.01,1.01)\n",
    "        plt.legend(loc = 'upper right')\n",
    "        # plt.xlim(np.min(independents),np.max(independents))\n",
    "    plt.title(f'cz_calibration_ssro_{qubit}')\n",
    "    plt.savefig(f'{path}/{name}/cz_calibration_ssro_{qubit}.png')\n",
    "    plt.show()"
   ]
  },
  {
   "cell_type": "code",
   "execution_count": null,
   "metadata": {},
   "outputs": [
    {
     "data": {
      "text/plain": [
       "array([0.])"
      ]
     },
     "execution_count": 18,
     "metadata": {},
     "output_type": "execute_result"
    }
   ],
   "source": [
    "np.diff(np.mean(magnitudes[:,:-3,2],axis = 1))"
   ]
  },
  {
   "cell_type": "code",
   "execution_count": null,
   "metadata": {},
   "outputs": [
    {
     "name": "stdout",
     "output_type": "stream",
     "text": [
      "[0.4        0.74117647 0.38823529 1.        ]\n"
     ]
    }
   ],
   "source": [
    "colors = plt.get_cmap('RdYlGn')(np.linspace(0.2, 0.8, 2))\n",
    "print(colors[1])"
   ]
  },
  {
   "cell_type": "code",
   "execution_count": null,
   "metadata": {},
   "outputs": [
    {
     "name": "stdout",
     "output_type": "stream",
     "text": [
      "<matplotlib.colors.ListedColormap object at 0x7f35694fba60>\n"
     ]
    }
   ],
   "source": [
    "print(colors)"
   ]
  },
  {
   "cell_type": "code",
   "execution_count": null,
   "metadata": {},
   "outputs": [
    {
     "data": {
      "text/plain": [
       "array([[0.95328687, 1.        , 0.97489076, 0.98119963, 0.95625897,\n",
       "        0.97826324, 0.97291053, 0.99195332, 0.96982418, 1.        ,\n",
       "        0.95966036, 0.95933393, 0.95112348, 0.99720885, 0.9554089 ,\n",
       "        0.98439055, 0.93278169, 0.99826859, 1.        , 0.98239483,\n",
       "        0.96128176, 0.93895345, 0.96381981, 0.98376218, 0.91227093,\n",
       "        0.95988543, 0.95262008, 0.96938914, 0.97041375, 0.9554089 ,\n",
       "        0.9835155 ],\n",
       "       [0.57196983, 0.62658829, 0.55304507, 0.57090802, 0.56681152,\n",
       "        0.57872153, 0.57781171, 0.55342449, 0.55171574, 0.56521868,\n",
       "        0.57140295, 0.55482668, 0.53874458, 0.57462524, 0.63326385,\n",
       "        0.51777045, 0.58888649, 0.56366518, 0.59009961, 0.56085663,\n",
       "        0.57303289, 0.56764709, 0.57985954, 0.55793859, 0.61847084,\n",
       "        0.53434505, 0.56776091, 0.55990903, 0.54272767, 0.61843364,\n",
       "        0.58206046]])"
      ]
     },
     "execution_count": 1770,
     "metadata": {},
     "output_type": "execute_result"
    }
   ],
   "source": [
    "magnitudes[:,:-3,0]"
   ]
  },
  {
   "cell_type": "code",
   "execution_count": null,
   "metadata": {},
   "outputs": [],
   "source": [
    "# %matplotlib inline\n",
    "# qubit = 'q13'\n",
    "# ds0 = ds[f'y{qubit}']\n",
    "# ds0 = (ds0.values).reshape(1024*34*2,2)\n",
    "# # print(ds0)\n",
    "# plt.plot(ds0[:,0],ds0[:,1],'.r')\n",
    "# plt.show()\n",
    "\n",
    "# qubit = 'q14'\n",
    "# ds0 = ds[f'y{qubit}']\n",
    "# ds0 = (ds0.values).reshape(1024*34*2,2)\n",
    "# # print(ds0)\n",
    "# plt.plot(ds0[:,0],ds0[:,1],'.b')\n",
    "# plt.show()"
   ]
  },
  {
   "cell_type": "code",
   "execution_count": null,
   "metadata": {},
   "outputs": [],
   "source": [
    "# %matplotlib inline\n",
    "# qubit = 'q13'\n",
    "\n",
    "# ds0 = ds[f'y{qubit}'].sel(ramsey_phasesq13='c0',control_onsq13=False )\n",
    "# ds1 = ds[f'y{qubit}'].sel(ramsey_phasesq13='c1',control_onsq13=False )\n",
    "# ds2 = ds[f'y{qubit}'].sel(ramsey_phasesq13='c2',control_onsq13=False )\n",
    "\n",
    "# plt.plot(ds0[:,0].values,ds0[:,1].values,'.r')\n",
    "# plt.plot(ds1[:,0].values,ds1[:,1].values,'.b')\n",
    "# plt.plot(ds2[:,0].values,ds2[:,1].values,'.g')\n",
    "# plt.show()\n",
    "\n",
    "# %matplotlib inline\n",
    "# qubit = 'q14'\n",
    "\n",
    "# ds0 = ds[f'y{qubit}'].sel(ramsey_phasesq14='c0',control_onsq14=False )\n",
    "# ds1 = ds[f'y{qubit}'].sel(ramsey_phasesq14='c1',control_onsq14=False )\n",
    "# ds2 = ds[f'y{qubit}'].sel(ramsey_phasesq14='c2',control_onsq14=False )\n",
    "\n",
    "# plt.plot(ds0[:,0].values,ds0[:,1].values,'.r')\n",
    "# plt.plot(ds1[:,0].values,ds1[:,1].values,'.b')\n",
    "# plt.plot(ds2[:,0].values,ds2[:,1].values,'.g')\n",
    "# plt.show()"
   ]
  },
  {
   "cell_type": "code",
   "execution_count": null,
   "metadata": {},
   "outputs": [],
   "source": [
    "# nested join using join()\n",
    "my_string = \",\".join(str(element) for element in list(cm_inv.flatten()))\n",
    "print(my_string)"
   ]
  },
  {
   "cell_type": "code",
   "execution_count": null,
   "metadata": {},
   "outputs": [
    {
     "name": "stdout",
     "output_type": "stream",
     "text": [
      "[[ 1.36277471 -0.15911288 -0.20366183]\n",
      " [-0.29625934  1.42344841 -0.12718907]\n",
      " [-0.14756231 -0.02953404  1.17709634]]\n"
     ]
    }
   ],
   "source": [
    "my_list = my_string.split(\",\")\n",
    "size = int(len(my_list)**0.5)\n",
    "my_list = np.array([float(i) for i in my_list]).reshape(size,size)\n",
    "\n",
    "print(my_list)"
   ]
  },
  {
   "cell_type": "markdown",
   "metadata": {},
   "source": [
    "## ro_amplitude_optimization_gef Data Broswing"
   ]
  },
  {
   "cell_type": "code",
   "execution_count": null,
   "metadata": {},
   "outputs": [],
   "source": [
    "import numpy as np\n",
    "import matplotlib.pyplot as plt\n",
    "from xarray import load_dataset\n",
    "from workers.post_processing_worker import Multiplexed_Analysis\n",
    "# dp = r\"data_directory/20231106/20231106-155442-755-1ff0de-cz_chevron/dataset.hdf5\"\n",
    "name = '20231225-165135-093-09e0cd-cz_calibration_ssro'\n",
    "dp = f'data_directory/{name[:8]}/{name}/dataset.hdf5'"
   ]
  },
  {
   "cell_type": "code",
   "execution_count": null,
   "metadata": {},
   "outputs": [
    {
     "data": {
      "text/html": [
       "<div><svg style=\"position: absolute; width: 0; height: 0; overflow: hidden\">\n",
       "<defs>\n",
       "<symbol id=\"icon-database\" viewBox=\"0 0 32 32\">\n",
       "<path d=\"M16 0c-8.837 0-16 2.239-16 5v4c0 2.761 7.163 5 16 5s16-2.239 16-5v-4c0-2.761-7.163-5-16-5z\"></path>\n",
       "<path d=\"M16 17c-8.837 0-16-2.239-16-5v6c0 2.761 7.163 5 16 5s16-2.239 16-5v-6c0 2.761-7.163 5-16 5z\"></path>\n",
       "<path d=\"M16 26c-8.837 0-16-2.239-16-5v6c0 2.761 7.163 5 16 5s16-2.239 16-5v-6c0 2.761-7.163 5-16 5z\"></path>\n",
       "</symbol>\n",
       "<symbol id=\"icon-file-text2\" viewBox=\"0 0 32 32\">\n",
       "<path d=\"M28.681 7.159c-0.694-0.947-1.662-2.053-2.724-3.116s-2.169-2.030-3.116-2.724c-1.612-1.182-2.393-1.319-2.841-1.319h-15.5c-1.378 0-2.5 1.121-2.5 2.5v27c0 1.378 1.122 2.5 2.5 2.5h23c1.378 0 2.5-1.122 2.5-2.5v-19.5c0-0.448-0.137-1.23-1.319-2.841zM24.543 5.457c0.959 0.959 1.712 1.825 2.268 2.543h-4.811v-4.811c0.718 0.556 1.584 1.309 2.543 2.268zM28 29.5c0 0.271-0.229 0.5-0.5 0.5h-23c-0.271 0-0.5-0.229-0.5-0.5v-27c0-0.271 0.229-0.5 0.5-0.5 0 0 15.499-0 15.5 0v7c0 0.552 0.448 1 1 1h7v19.5z\"></path>\n",
       "<path d=\"M23 26h-14c-0.552 0-1-0.448-1-1s0.448-1 1-1h14c0.552 0 1 0.448 1 1s-0.448 1-1 1z\"></path>\n",
       "<path d=\"M23 22h-14c-0.552 0-1-0.448-1-1s0.448-1 1-1h14c0.552 0 1 0.448 1 1s-0.448 1-1 1z\"></path>\n",
       "<path d=\"M23 18h-14c-0.552 0-1-0.448-1-1s0.448-1 1-1h14c0.552 0 1 0.448 1 1s-0.448 1-1 1z\"></path>\n",
       "</symbol>\n",
       "</defs>\n",
       "</svg>\n",
       "<style>/* CSS stylesheet for displaying xarray objects in jupyterlab.\n",
       " *\n",
       " */\n",
       "\n",
       ":root {\n",
       "  --xr-font-color0: var(--jp-content-font-color0, rgba(0, 0, 0, 1));\n",
       "  --xr-font-color2: var(--jp-content-font-color2, rgba(0, 0, 0, 0.54));\n",
       "  --xr-font-color3: var(--jp-content-font-color3, rgba(0, 0, 0, 0.38));\n",
       "  --xr-border-color: var(--jp-border-color2, #e0e0e0);\n",
       "  --xr-disabled-color: var(--jp-layout-color3, #bdbdbd);\n",
       "  --xr-background-color: var(--jp-layout-color0, white);\n",
       "  --xr-background-color-row-even: var(--jp-layout-color1, white);\n",
       "  --xr-background-color-row-odd: var(--jp-layout-color2, #eeeeee);\n",
       "}\n",
       "\n",
       "html[theme=dark],\n",
       "body[data-theme=dark],\n",
       "body.vscode-dark {\n",
       "  --xr-font-color0: rgba(255, 255, 255, 1);\n",
       "  --xr-font-color2: rgba(255, 255, 255, 0.54);\n",
       "  --xr-font-color3: rgba(255, 255, 255, 0.38);\n",
       "  --xr-border-color: #1F1F1F;\n",
       "  --xr-disabled-color: #515151;\n",
       "  --xr-background-color: #111111;\n",
       "  --xr-background-color-row-even: #111111;\n",
       "  --xr-background-color-row-odd: #313131;\n",
       "}\n",
       "\n",
       ".xr-wrap {\n",
       "  display: block !important;\n",
       "  min-width: 300px;\n",
       "  max-width: 700px;\n",
       "}\n",
       "\n",
       ".xr-text-repr-fallback {\n",
       "  /* fallback to plain text repr when CSS is not injected (untrusted notebook) */\n",
       "  display: none;\n",
       "}\n",
       "\n",
       ".xr-header {\n",
       "  padding-top: 6px;\n",
       "  padding-bottom: 6px;\n",
       "  margin-bottom: 4px;\n",
       "  border-bottom: solid 1px var(--xr-border-color);\n",
       "}\n",
       "\n",
       ".xr-header > div,\n",
       ".xr-header > ul {\n",
       "  display: inline;\n",
       "  margin-top: 0;\n",
       "  margin-bottom: 0;\n",
       "}\n",
       "\n",
       ".xr-obj-type,\n",
       ".xr-array-name {\n",
       "  margin-left: 2px;\n",
       "  margin-right: 10px;\n",
       "}\n",
       "\n",
       ".xr-obj-type {\n",
       "  color: var(--xr-font-color2);\n",
       "}\n",
       "\n",
       ".xr-sections {\n",
       "  padding-left: 0 !important;\n",
       "  display: grid;\n",
       "  grid-template-columns: 150px auto auto 1fr 20px 20px;\n",
       "}\n",
       "\n",
       ".xr-section-item {\n",
       "  display: contents;\n",
       "}\n",
       "\n",
       ".xr-section-item input {\n",
       "  display: none;\n",
       "}\n",
       "\n",
       ".xr-section-item input + label {\n",
       "  color: var(--xr-disabled-color);\n",
       "}\n",
       "\n",
       ".xr-section-item input:enabled + label {\n",
       "  cursor: pointer;\n",
       "  color: var(--xr-font-color2);\n",
       "}\n",
       "\n",
       ".xr-section-item input:enabled + label:hover {\n",
       "  color: var(--xr-font-color0);\n",
       "}\n",
       "\n",
       ".xr-section-summary {\n",
       "  grid-column: 1;\n",
       "  color: var(--xr-font-color2);\n",
       "  font-weight: 500;\n",
       "}\n",
       "\n",
       ".xr-section-summary > span {\n",
       "  display: inline-block;\n",
       "  padding-left: 0.5em;\n",
       "}\n",
       "\n",
       ".xr-section-summary-in:disabled + label {\n",
       "  color: var(--xr-font-color2);\n",
       "}\n",
       "\n",
       ".xr-section-summary-in + label:before {\n",
       "  display: inline-block;\n",
       "  content: '►';\n",
       "  font-size: 11px;\n",
       "  width: 15px;\n",
       "  text-align: center;\n",
       "}\n",
       "\n",
       ".xr-section-summary-in:disabled + label:before {\n",
       "  color: var(--xr-disabled-color);\n",
       "}\n",
       "\n",
       ".xr-section-summary-in:checked + label:before {\n",
       "  content: '▼';\n",
       "}\n",
       "\n",
       ".xr-section-summary-in:checked + label > span {\n",
       "  display: none;\n",
       "}\n",
       "\n",
       ".xr-section-summary,\n",
       ".xr-section-inline-details {\n",
       "  padding-top: 4px;\n",
       "  padding-bottom: 4px;\n",
       "}\n",
       "\n",
       ".xr-section-inline-details {\n",
       "  grid-column: 2 / -1;\n",
       "}\n",
       "\n",
       ".xr-section-details {\n",
       "  display: none;\n",
       "  grid-column: 1 / -1;\n",
       "  margin-bottom: 5px;\n",
       "}\n",
       "\n",
       ".xr-section-summary-in:checked ~ .xr-section-details {\n",
       "  display: contents;\n",
       "}\n",
       "\n",
       ".xr-array-wrap {\n",
       "  grid-column: 1 / -1;\n",
       "  display: grid;\n",
       "  grid-template-columns: 20px auto;\n",
       "}\n",
       "\n",
       ".xr-array-wrap > label {\n",
       "  grid-column: 1;\n",
       "  vertical-align: top;\n",
       "}\n",
       "\n",
       ".xr-preview {\n",
       "  color: var(--xr-font-color3);\n",
       "}\n",
       "\n",
       ".xr-array-preview,\n",
       ".xr-array-data {\n",
       "  padding: 0 5px !important;\n",
       "  grid-column: 2;\n",
       "}\n",
       "\n",
       ".xr-array-data,\n",
       ".xr-array-in:checked ~ .xr-array-preview {\n",
       "  display: none;\n",
       "}\n",
       "\n",
       ".xr-array-in:checked ~ .xr-array-data,\n",
       ".xr-array-preview {\n",
       "  display: inline-block;\n",
       "}\n",
       "\n",
       ".xr-dim-list {\n",
       "  display: inline-block !important;\n",
       "  list-style: none;\n",
       "  padding: 0 !important;\n",
       "  margin: 0;\n",
       "}\n",
       "\n",
       ".xr-dim-list li {\n",
       "  display: inline-block;\n",
       "  padding: 0;\n",
       "  margin: 0;\n",
       "}\n",
       "\n",
       ".xr-dim-list:before {\n",
       "  content: '(';\n",
       "}\n",
       "\n",
       ".xr-dim-list:after {\n",
       "  content: ')';\n",
       "}\n",
       "\n",
       ".xr-dim-list li:not(:last-child):after {\n",
       "  content: ',';\n",
       "  padding-right: 5px;\n",
       "}\n",
       "\n",
       ".xr-has-index {\n",
       "  font-weight: bold;\n",
       "}\n",
       "\n",
       ".xr-var-list,\n",
       ".xr-var-item {\n",
       "  display: contents;\n",
       "}\n",
       "\n",
       ".xr-var-item > div,\n",
       ".xr-var-item label,\n",
       ".xr-var-item > .xr-var-name span {\n",
       "  background-color: var(--xr-background-color-row-even);\n",
       "  margin-bottom: 0;\n",
       "}\n",
       "\n",
       ".xr-var-item > .xr-var-name:hover span {\n",
       "  padding-right: 5px;\n",
       "}\n",
       "\n",
       ".xr-var-list > li:nth-child(odd) > div,\n",
       ".xr-var-list > li:nth-child(odd) > label,\n",
       ".xr-var-list > li:nth-child(odd) > .xr-var-name span {\n",
       "  background-color: var(--xr-background-color-row-odd);\n",
       "}\n",
       "\n",
       ".xr-var-name {\n",
       "  grid-column: 1;\n",
       "}\n",
       "\n",
       ".xr-var-dims {\n",
       "  grid-column: 2;\n",
       "}\n",
       "\n",
       ".xr-var-dtype {\n",
       "  grid-column: 3;\n",
       "  text-align: right;\n",
       "  color: var(--xr-font-color2);\n",
       "}\n",
       "\n",
       ".xr-var-preview {\n",
       "  grid-column: 4;\n",
       "}\n",
       "\n",
       ".xr-index-preview {\n",
       "  grid-column: 2 / 5;\n",
       "  color: var(--xr-font-color2);\n",
       "}\n",
       "\n",
       ".xr-var-name,\n",
       ".xr-var-dims,\n",
       ".xr-var-dtype,\n",
       ".xr-preview,\n",
       ".xr-attrs dt {\n",
       "  white-space: nowrap;\n",
       "  overflow: hidden;\n",
       "  text-overflow: ellipsis;\n",
       "  padding-right: 10px;\n",
       "}\n",
       "\n",
       ".xr-var-name:hover,\n",
       ".xr-var-dims:hover,\n",
       ".xr-var-dtype:hover,\n",
       ".xr-attrs dt:hover {\n",
       "  overflow: visible;\n",
       "  width: auto;\n",
       "  z-index: 1;\n",
       "}\n",
       "\n",
       ".xr-var-attrs,\n",
       ".xr-var-data,\n",
       ".xr-index-data {\n",
       "  display: none;\n",
       "  background-color: var(--xr-background-color) !important;\n",
       "  padding-bottom: 5px !important;\n",
       "}\n",
       "\n",
       ".xr-var-attrs-in:checked ~ .xr-var-attrs,\n",
       ".xr-var-data-in:checked ~ .xr-var-data,\n",
       ".xr-index-data-in:checked ~ .xr-index-data {\n",
       "  display: block;\n",
       "}\n",
       "\n",
       ".xr-var-data > table {\n",
       "  float: right;\n",
       "}\n",
       "\n",
       ".xr-var-name span,\n",
       ".xr-var-data,\n",
       ".xr-index-name div,\n",
       ".xr-index-data,\n",
       ".xr-attrs {\n",
       "  padding-left: 25px !important;\n",
       "}\n",
       "\n",
       ".xr-attrs,\n",
       ".xr-var-attrs,\n",
       ".xr-var-data,\n",
       ".xr-index-data {\n",
       "  grid-column: 1 / -1;\n",
       "}\n",
       "\n",
       "dl.xr-attrs {\n",
       "  padding: 0;\n",
       "  margin: 0;\n",
       "  display: grid;\n",
       "  grid-template-columns: 125px auto;\n",
       "}\n",
       "\n",
       ".xr-attrs dt,\n",
       ".xr-attrs dd {\n",
       "  padding: 0;\n",
       "  margin: 0;\n",
       "  float: left;\n",
       "  padding-right: 10px;\n",
       "  width: auto;\n",
       "}\n",
       "\n",
       ".xr-attrs dt {\n",
       "  font-weight: normal;\n",
       "  grid-column: 1;\n",
       "}\n",
       "\n",
       ".xr-attrs dt:hover span {\n",
       "  display: inline-block;\n",
       "  background: var(--xr-background-color);\n",
       "  padding-right: 10px;\n",
       "}\n",
       "\n",
       ".xr-attrs dd {\n",
       "  grid-column: 2;\n",
       "  white-space: pre-wrap;\n",
       "  word-break: break-all;\n",
       "}\n",
       "\n",
       ".xr-icon-database,\n",
       ".xr-icon-file-text2,\n",
       ".xr-no-icon {\n",
       "  display: inline-block;\n",
       "  vertical-align: middle;\n",
       "  width: 1em;\n",
       "  height: 1.5em !important;\n",
       "  stroke-width: 0;\n",
       "  stroke: currentColor;\n",
       "  fill: currentColor;\n",
       "}\n",
       "</style><pre class='xr-text-repr-fallback'>&lt;xarray.Dataset&gt;\n",
       "Dimensions:           (shot: 1024, ramsey_phasesq14: 34, control_onsq14: 2,\n",
       "                       ReIm: 2, ramsey_phasesq13: 34, control_onsq13: 2)\n",
       "Coordinates:\n",
       "  * shot              (shot) int32 0 1 2 3 4 5 ... 1018 1019 1020 1021 1022 1023\n",
       "  * ramsey_phasesq14  (ramsey_phasesq14) object &#x27;0.0&#x27; &#x27;24.0&#x27; &#x27;48.0&#x27; ... &#x27;e&#x27; &#x27;f&#x27;\n",
       "  * ramsey_phasesq13  (ramsey_phasesq13) object &#x27;0.0&#x27; &#x27;24.0&#x27; &#x27;48.0&#x27; ... &#x27;e&#x27; &#x27;f&#x27;\n",
       "  * control_onsq14    (control_onsq14) bool False True\n",
       "  * control_onsq13    (control_onsq13) bool False True\n",
       "Dimensions without coordinates: ReIm\n",
       "Data variables:\n",
       "    yq14              (shot, ramsey_phasesq14, control_onsq14, ReIm) float64 ...\n",
       "    yq13              (shot, ramsey_phasesq13, control_onsq13, ReIm) float64 ...\n",
       "Attributes:\n",
       "    name:     cz_calibration_ssro\n",
       "    tuid:     20231225-165135-093</pre><div class='xr-wrap' style='display:none'><div class='xr-header'><div class='xr-obj-type'>xarray.Dataset</div></div><ul class='xr-sections'><li class='xr-section-item'><input id='section-6f782309-2c63-4ef5-ab79-8bca8a7ac934' class='xr-section-summary-in' type='checkbox' disabled ><label for='section-6f782309-2c63-4ef5-ab79-8bca8a7ac934' class='xr-section-summary'  title='Expand/collapse section'>Dimensions:</label><div class='xr-section-inline-details'><ul class='xr-dim-list'><li><span class='xr-has-index'>shot</span>: 1024</li><li><span class='xr-has-index'>ramsey_phasesq14</span>: 34</li><li><span class='xr-has-index'>control_onsq14</span>: 2</li><li><span>ReIm</span>: 2</li><li><span class='xr-has-index'>ramsey_phasesq13</span>: 34</li><li><span class='xr-has-index'>control_onsq13</span>: 2</li></ul></div><div class='xr-section-details'></div></li><li class='xr-section-item'><input id='section-d95ea4ad-b033-4c42-842c-8b5a2c99dd6f' class='xr-section-summary-in' type='checkbox'  checked><label for='section-d95ea4ad-b033-4c42-842c-8b5a2c99dd6f' class='xr-section-summary' >Coordinates: <span>(5)</span></label><div class='xr-section-inline-details'></div><div class='xr-section-details'><ul class='xr-var-list'><li class='xr-var-item'><div class='xr-var-name'><span class='xr-has-index'>shot</span></div><div class='xr-var-dims'>(shot)</div><div class='xr-var-dtype'>int32</div><div class='xr-var-preview xr-preview'>0 1 2 3 4 ... 1020 1021 1022 1023</div><input id='attrs-79b877f8-8bd4-47d5-9e90-c744db1cf12b' class='xr-var-attrs-in' type='checkbox' ><label for='attrs-79b877f8-8bd4-47d5-9e90-c744db1cf12b' title='Show/Hide attributes'><svg class='icon xr-icon-file-text2'><use xlink:href='#icon-file-text2'></use></svg></label><input id='data-076cf85f-a2f8-4bd3-b5f8-6223cdc3ee3d' class='xr-var-data-in' type='checkbox'><label for='data-076cf85f-a2f8-4bd3-b5f8-6223cdc3ee3d' title='Show/Hide data repr'><svg class='icon xr-icon-database'><use xlink:href='#icon-database'></use></svg></label><div class='xr-var-attrs'><dl class='xr-attrs'><dt><span>qubit :</span></dt><dd>q14</dd><dt><span>long_name :</span></dt><dd>shot</dd><dt><span>units :</span></dt><dd>NA</dd></dl></div><div class='xr-var-data'><pre>array([   0,    1,    2, ..., 1021, 1022, 1023], dtype=int32)</pre></div></li><li class='xr-var-item'><div class='xr-var-name'><span class='xr-has-index'>ramsey_phasesq14</span></div><div class='xr-var-dims'>(ramsey_phasesq14)</div><div class='xr-var-dtype'>object</div><div class='xr-var-preview xr-preview'>&#x27;0.0&#x27; &#x27;24.0&#x27; &#x27;48.0&#x27; ... &#x27;g&#x27; &#x27;e&#x27; &#x27;f&#x27;</div><input id='attrs-4ea6214e-b88a-44cb-b146-8a78707a1665' class='xr-var-attrs-in' type='checkbox' ><label for='attrs-4ea6214e-b88a-44cb-b146-8a78707a1665' title='Show/Hide attributes'><svg class='icon xr-icon-file-text2'><use xlink:href='#icon-file-text2'></use></svg></label><input id='data-f1e68ad3-331b-4575-ac30-56aa0b697dc2' class='xr-var-data-in' type='checkbox'><label for='data-f1e68ad3-331b-4575-ac30-56aa0b697dc2' title='Show/Hide data repr'><svg class='icon xr-icon-database'><use xlink:href='#icon-database'></use></svg></label><div class='xr-var-attrs'><dl class='xr-attrs'><dt><span>qubit :</span></dt><dd>q14</dd><dt><span>long_name :</span></dt><dd>ramsey_phasesq14</dd><dt><span>units :</span></dt><dd>NA</dd></dl></div><div class='xr-var-data'><pre>array([&#x27;0.0&#x27;, &#x27;24.0&#x27;, &#x27;48.0&#x27;, &#x27;72.0&#x27;, &#x27;96.0&#x27;, &#x27;120.0&#x27;, &#x27;144.0&#x27;, &#x27;168.0&#x27;,\n",
       "       &#x27;192.0&#x27;, &#x27;216.0&#x27;, &#x27;240.0&#x27;, &#x27;264.0&#x27;, &#x27;288.0&#x27;, &#x27;312.0&#x27;, &#x27;336.0&#x27;, &#x27;360.0&#x27;,\n",
       "       &#x27;384.0&#x27;, &#x27;408.0&#x27;, &#x27;432.0&#x27;, &#x27;456.0&#x27;, &#x27;480.0&#x27;, &#x27;504.0&#x27;, &#x27;528.0&#x27;, &#x27;552.0&#x27;,\n",
       "       &#x27;576.0&#x27;, &#x27;600.0&#x27;, &#x27;624.0&#x27;, &#x27;648.0&#x27;, &#x27;672.0&#x27;, &#x27;696.0&#x27;, &#x27;720.0&#x27;, &#x27;g&#x27;, &#x27;e&#x27;,\n",
       "       &#x27;f&#x27;], dtype=object)</pre></div></li><li class='xr-var-item'><div class='xr-var-name'><span class='xr-has-index'>ramsey_phasesq13</span></div><div class='xr-var-dims'>(ramsey_phasesq13)</div><div class='xr-var-dtype'>object</div><div class='xr-var-preview xr-preview'>&#x27;0.0&#x27; &#x27;24.0&#x27; &#x27;48.0&#x27; ... &#x27;g&#x27; &#x27;e&#x27; &#x27;f&#x27;</div><input id='attrs-d82b6a47-884f-490d-a9dc-97fd3c932edb' class='xr-var-attrs-in' type='checkbox' ><label for='attrs-d82b6a47-884f-490d-a9dc-97fd3c932edb' title='Show/Hide attributes'><svg class='icon xr-icon-file-text2'><use xlink:href='#icon-file-text2'></use></svg></label><input id='data-b21b37a5-2d73-47d7-b450-2cfa73a55ca8' class='xr-var-data-in' type='checkbox'><label for='data-b21b37a5-2d73-47d7-b450-2cfa73a55ca8' title='Show/Hide data repr'><svg class='icon xr-icon-database'><use xlink:href='#icon-database'></use></svg></label><div class='xr-var-attrs'><dl class='xr-attrs'><dt><span>qubit :</span></dt><dd>q13</dd><dt><span>long_name :</span></dt><dd>ramsey_phasesq13</dd><dt><span>units :</span></dt><dd>NA</dd></dl></div><div class='xr-var-data'><pre>array([&#x27;0.0&#x27;, &#x27;24.0&#x27;, &#x27;48.0&#x27;, &#x27;72.0&#x27;, &#x27;96.0&#x27;, &#x27;120.0&#x27;, &#x27;144.0&#x27;, &#x27;168.0&#x27;,\n",
       "       &#x27;192.0&#x27;, &#x27;216.0&#x27;, &#x27;240.0&#x27;, &#x27;264.0&#x27;, &#x27;288.0&#x27;, &#x27;312.0&#x27;, &#x27;336.0&#x27;, &#x27;360.0&#x27;,\n",
       "       &#x27;384.0&#x27;, &#x27;408.0&#x27;, &#x27;432.0&#x27;, &#x27;456.0&#x27;, &#x27;480.0&#x27;, &#x27;504.0&#x27;, &#x27;528.0&#x27;, &#x27;552.0&#x27;,\n",
       "       &#x27;576.0&#x27;, &#x27;600.0&#x27;, &#x27;624.0&#x27;, &#x27;648.0&#x27;, &#x27;672.0&#x27;, &#x27;696.0&#x27;, &#x27;720.0&#x27;, &#x27;g&#x27;, &#x27;e&#x27;,\n",
       "       &#x27;f&#x27;], dtype=object)</pre></div></li><li class='xr-var-item'><div class='xr-var-name'><span class='xr-has-index'>control_onsq14</span></div><div class='xr-var-dims'>(control_onsq14)</div><div class='xr-var-dtype'>bool</div><div class='xr-var-preview xr-preview'>False True</div><input id='attrs-f8212acd-4607-46b0-89f3-60dc56661da5' class='xr-var-attrs-in' type='checkbox' ><label for='attrs-f8212acd-4607-46b0-89f3-60dc56661da5' title='Show/Hide attributes'><svg class='icon xr-icon-file-text2'><use xlink:href='#icon-file-text2'></use></svg></label><input id='data-cd2d8ab9-bbaa-4187-b0af-42cbaff34103' class='xr-var-data-in' type='checkbox'><label for='data-cd2d8ab9-bbaa-4187-b0af-42cbaff34103' title='Show/Hide data repr'><svg class='icon xr-icon-database'><use xlink:href='#icon-database'></use></svg></label><div class='xr-var-attrs'><dl class='xr-attrs'><dt><span>qubit :</span></dt><dd>q14</dd><dt><span>long_name :</span></dt><dd>control_onsq14</dd><dt><span>units :</span></dt><dd>NA</dd></dl></div><div class='xr-var-data'><pre>array([False,  True])</pre></div></li><li class='xr-var-item'><div class='xr-var-name'><span class='xr-has-index'>control_onsq13</span></div><div class='xr-var-dims'>(control_onsq13)</div><div class='xr-var-dtype'>bool</div><div class='xr-var-preview xr-preview'>False True</div><input id='attrs-f2736eff-5729-4fa3-a1d7-6463494f08d0' class='xr-var-attrs-in' type='checkbox' ><label for='attrs-f2736eff-5729-4fa3-a1d7-6463494f08d0' title='Show/Hide attributes'><svg class='icon xr-icon-file-text2'><use xlink:href='#icon-file-text2'></use></svg></label><input id='data-b82641ee-b1f3-4dbf-b22c-0f660f7f2b08' class='xr-var-data-in' type='checkbox'><label for='data-b82641ee-b1f3-4dbf-b22c-0f660f7f2b08' title='Show/Hide data repr'><svg class='icon xr-icon-database'><use xlink:href='#icon-database'></use></svg></label><div class='xr-var-attrs'><dl class='xr-attrs'><dt><span>qubit :</span></dt><dd>q13</dd><dt><span>long_name :</span></dt><dd>control_onsq13</dd><dt><span>units :</span></dt><dd>NA</dd></dl></div><div class='xr-var-data'><pre>array([False,  True])</pre></div></li></ul></div></li><li class='xr-section-item'><input id='section-9be36b5b-bf7e-4548-95d7-ab13dd12d838' class='xr-section-summary-in' type='checkbox'  checked><label for='section-9be36b5b-bf7e-4548-95d7-ab13dd12d838' class='xr-section-summary' >Data variables: <span>(2)</span></label><div class='xr-section-inline-details'></div><div class='xr-section-details'><ul class='xr-var-list'><li class='xr-var-item'><div class='xr-var-name'><span>yq14</span></div><div class='xr-var-dims'>(shot, ramsey_phasesq14, control_onsq14, ReIm)</div><div class='xr-var-dtype'>float64</div><div class='xr-var-preview xr-preview'>0.008901 0.001136 ... 0.001367</div><input id='attrs-9000728d-d8a6-4348-bb35-60200f2ed241' class='xr-var-attrs-in' type='checkbox' ><label for='attrs-9000728d-d8a6-4348-bb35-60200f2ed241' title='Show/Hide attributes'><svg class='icon xr-icon-file-text2'><use xlink:href='#icon-file-text2'></use></svg></label><input id='data-961d0855-547e-4f56-9cf3-b1b08964da6d' class='xr-var-data-in' type='checkbox'><label for='data-961d0855-547e-4f56-9cf3-b1b08964da6d' title='Show/Hide data repr'><svg class='icon xr-icon-database'><use xlink:href='#icon-database'></use></svg></label><div class='xr-var-attrs'><dl class='xr-attrs'><dt><span>qubit :</span></dt><dd>q14</dd><dt><span>long_name :</span></dt><dd>yq14</dd><dt><span>units :</span></dt><dd>NA</dd></dl></div><div class='xr-var-data'><pre>array([[[[0.00890064, 0.00113571],\n",
       "         [0.00819306, 0.00049731]],\n",
       "\n",
       "        [[0.00911597, 0.00183937],\n",
       "         [0.0087703 , 0.00138994]],\n",
       "\n",
       "        [[0.00794724, 0.00159062],\n",
       "         [0.00828999, 0.00154509]],\n",
       "\n",
       "        ...,\n",
       "\n",
       "        [[0.00817196, 0.00151383],\n",
       "         [0.00888422, 0.00214577]],\n",
       "\n",
       "        [[0.00819424, 0.00184016],\n",
       "         [0.00827181, 0.00207093]],\n",
       "\n",
       "        [[0.00836268, 0.00166957],\n",
       "         [0.00869155, 0.00177723]]],\n",
       "\n",
       "...\n",
       "\n",
       "       [[[0.00840899, 0.00205882],\n",
       "         [0.00883322, 0.00117088]],\n",
       "\n",
       "        [[0.00836365, 0.00175828],\n",
       "         [0.00878085, 0.00255281]],\n",
       "\n",
       "        [[0.00886917, 0.00302394],\n",
       "         [0.00904211, 0.00230249]],\n",
       "\n",
       "        ...,\n",
       "\n",
       "        [[0.00803791, 0.00119941],\n",
       "         [0.00882814, 0.00141593]],\n",
       "\n",
       "        [[0.00881466, 0.00198222],\n",
       "         [0.00875564, 0.00101534]],\n",
       "\n",
       "        [[0.00899384, 0.00187513],\n",
       "         [0.00788999, 0.00136727]]]])</pre></div></li><li class='xr-var-item'><div class='xr-var-name'><span>yq13</span></div><div class='xr-var-dims'>(shot, ramsey_phasesq13, control_onsq13, ReIm)</div><div class='xr-var-dtype'>float64</div><div class='xr-var-preview xr-preview'>0.008901 0.001136 ... 0.001367</div><input id='attrs-b295209d-56d0-4583-ac6e-0fcf26f08964' class='xr-var-attrs-in' type='checkbox' ><label for='attrs-b295209d-56d0-4583-ac6e-0fcf26f08964' title='Show/Hide attributes'><svg class='icon xr-icon-file-text2'><use xlink:href='#icon-file-text2'></use></svg></label><input id='data-7adf84d1-1a2c-440d-ac86-4f0cbee7dc8d' class='xr-var-data-in' type='checkbox'><label for='data-7adf84d1-1a2c-440d-ac86-4f0cbee7dc8d' title='Show/Hide data repr'><svg class='icon xr-icon-database'><use xlink:href='#icon-database'></use></svg></label><div class='xr-var-attrs'><dl class='xr-attrs'><dt><span>qubit :</span></dt><dd>q13</dd><dt><span>long_name :</span></dt><dd>yq13</dd><dt><span>units :</span></dt><dd>NA</dd></dl></div><div class='xr-var-data'><pre>array([[[[0.00890064, 0.00113571],\n",
       "         [0.00819306, 0.00049731]],\n",
       "\n",
       "        [[0.00911597, 0.00183937],\n",
       "         [0.0087703 , 0.00138994]],\n",
       "\n",
       "        [[0.00794724, 0.00159062],\n",
       "         [0.00828999, 0.00154509]],\n",
       "\n",
       "        ...,\n",
       "\n",
       "        [[0.00817196, 0.00151383],\n",
       "         [0.00888422, 0.00214577]],\n",
       "\n",
       "        [[0.00819424, 0.00184016],\n",
       "         [0.00827181, 0.00207093]],\n",
       "\n",
       "        [[0.00836268, 0.00166957],\n",
       "         [0.00869155, 0.00177723]]],\n",
       "\n",
       "...\n",
       "\n",
       "       [[[0.00840899, 0.00205882],\n",
       "         [0.00883322, 0.00117088]],\n",
       "\n",
       "        [[0.00836365, 0.00175828],\n",
       "         [0.00878085, 0.00255281]],\n",
       "\n",
       "        [[0.00886917, 0.00302394],\n",
       "         [0.00904211, 0.00230249]],\n",
       "\n",
       "        ...,\n",
       "\n",
       "        [[0.00803791, 0.00119941],\n",
       "         [0.00882814, 0.00141593]],\n",
       "\n",
       "        [[0.00881466, 0.00198222],\n",
       "         [0.00875564, 0.00101534]],\n",
       "\n",
       "        [[0.00899384, 0.00187513],\n",
       "         [0.00788999, 0.00136727]]]])</pre></div></li></ul></div></li><li class='xr-section-item'><input id='section-1571bbb4-14bc-496e-b9c6-a4d0d8808fcf' class='xr-section-summary-in' type='checkbox'  ><label for='section-1571bbb4-14bc-496e-b9c6-a4d0d8808fcf' class='xr-section-summary' >Indexes: <span>(5)</span></label><div class='xr-section-inline-details'></div><div class='xr-section-details'><ul class='xr-var-list'><li class='xr-var-item'><div class='xr-index-name'><div>shot</div></div><div class='xr-index-preview'>PandasIndex</div><div></div><input id='index-a69e7bc2-ad19-4de3-a8df-de5c60dc283c' class='xr-index-data-in' type='checkbox'/><label for='index-a69e7bc2-ad19-4de3-a8df-de5c60dc283c' title='Show/Hide index repr'><svg class='icon xr-icon-database'><use xlink:href='#icon-database'></use></svg></label><div class='xr-index-data'><pre>PandasIndex(Index([   0,    1,    2,    3,    4,    5,    6,    7,    8,    9,\n",
       "       ...\n",
       "       1014, 1015, 1016, 1017, 1018, 1019, 1020, 1021, 1022, 1023],\n",
       "      dtype=&#x27;int32&#x27;, name=&#x27;shot&#x27;, length=1024))</pre></div></li><li class='xr-var-item'><div class='xr-index-name'><div>ramsey_phasesq14</div></div><div class='xr-index-preview'>PandasIndex</div><div></div><input id='index-9d72b968-0af7-4903-8540-8a1dfa4e73e5' class='xr-index-data-in' type='checkbox'/><label for='index-9d72b968-0af7-4903-8540-8a1dfa4e73e5' title='Show/Hide index repr'><svg class='icon xr-icon-database'><use xlink:href='#icon-database'></use></svg></label><div class='xr-index-data'><pre>PandasIndex(Index([&#x27;0.0&#x27;, &#x27;24.0&#x27;, &#x27;48.0&#x27;, &#x27;72.0&#x27;, &#x27;96.0&#x27;, &#x27;120.0&#x27;, &#x27;144.0&#x27;, &#x27;168.0&#x27;,\n",
       "       &#x27;192.0&#x27;, &#x27;216.0&#x27;, &#x27;240.0&#x27;, &#x27;264.0&#x27;, &#x27;288.0&#x27;, &#x27;312.0&#x27;, &#x27;336.0&#x27;, &#x27;360.0&#x27;,\n",
       "       &#x27;384.0&#x27;, &#x27;408.0&#x27;, &#x27;432.0&#x27;, &#x27;456.0&#x27;, &#x27;480.0&#x27;, &#x27;504.0&#x27;, &#x27;528.0&#x27;, &#x27;552.0&#x27;,\n",
       "       &#x27;576.0&#x27;, &#x27;600.0&#x27;, &#x27;624.0&#x27;, &#x27;648.0&#x27;, &#x27;672.0&#x27;, &#x27;696.0&#x27;, &#x27;720.0&#x27;, &#x27;g&#x27;, &#x27;e&#x27;,\n",
       "       &#x27;f&#x27;],\n",
       "      dtype=&#x27;object&#x27;, name=&#x27;ramsey_phasesq14&#x27;))</pre></div></li><li class='xr-var-item'><div class='xr-index-name'><div>ramsey_phasesq13</div></div><div class='xr-index-preview'>PandasIndex</div><div></div><input id='index-f59d9009-32af-4a27-b5f8-68f8920fb571' class='xr-index-data-in' type='checkbox'/><label for='index-f59d9009-32af-4a27-b5f8-68f8920fb571' title='Show/Hide index repr'><svg class='icon xr-icon-database'><use xlink:href='#icon-database'></use></svg></label><div class='xr-index-data'><pre>PandasIndex(Index([&#x27;0.0&#x27;, &#x27;24.0&#x27;, &#x27;48.0&#x27;, &#x27;72.0&#x27;, &#x27;96.0&#x27;, &#x27;120.0&#x27;, &#x27;144.0&#x27;, &#x27;168.0&#x27;,\n",
       "       &#x27;192.0&#x27;, &#x27;216.0&#x27;, &#x27;240.0&#x27;, &#x27;264.0&#x27;, &#x27;288.0&#x27;, &#x27;312.0&#x27;, &#x27;336.0&#x27;, &#x27;360.0&#x27;,\n",
       "       &#x27;384.0&#x27;, &#x27;408.0&#x27;, &#x27;432.0&#x27;, &#x27;456.0&#x27;, &#x27;480.0&#x27;, &#x27;504.0&#x27;, &#x27;528.0&#x27;, &#x27;552.0&#x27;,\n",
       "       &#x27;576.0&#x27;, &#x27;600.0&#x27;, &#x27;624.0&#x27;, &#x27;648.0&#x27;, &#x27;672.0&#x27;, &#x27;696.0&#x27;, &#x27;720.0&#x27;, &#x27;g&#x27;, &#x27;e&#x27;,\n",
       "       &#x27;f&#x27;],\n",
       "      dtype=&#x27;object&#x27;, name=&#x27;ramsey_phasesq13&#x27;))</pre></div></li><li class='xr-var-item'><div class='xr-index-name'><div>control_onsq14</div></div><div class='xr-index-preview'>PandasIndex</div><div></div><input id='index-e716f99c-e949-4163-a429-46dfc20f26f7' class='xr-index-data-in' type='checkbox'/><label for='index-e716f99c-e949-4163-a429-46dfc20f26f7' title='Show/Hide index repr'><svg class='icon xr-icon-database'><use xlink:href='#icon-database'></use></svg></label><div class='xr-index-data'><pre>PandasIndex(Index([False, True], dtype=&#x27;bool&#x27;, name=&#x27;control_onsq14&#x27;))</pre></div></li><li class='xr-var-item'><div class='xr-index-name'><div>control_onsq13</div></div><div class='xr-index-preview'>PandasIndex</div><div></div><input id='index-b045219b-f840-43d0-8daf-d5301a59d1ec' class='xr-index-data-in' type='checkbox'/><label for='index-b045219b-f840-43d0-8daf-d5301a59d1ec' title='Show/Hide index repr'><svg class='icon xr-icon-database'><use xlink:href='#icon-database'></use></svg></label><div class='xr-index-data'><pre>PandasIndex(Index([False, True], dtype=&#x27;bool&#x27;, name=&#x27;control_onsq13&#x27;))</pre></div></li></ul></div></li><li class='xr-section-item'><input id='section-bd29f957-ffea-4427-8056-88eb01f0e32a' class='xr-section-summary-in' type='checkbox'  checked><label for='section-bd29f957-ffea-4427-8056-88eb01f0e32a' class='xr-section-summary' >Attributes: <span>(2)</span></label><div class='xr-section-inline-details'></div><div class='xr-section-details'><dl class='xr-attrs'><dt><span>name :</span></dt><dd>cz_calibration_ssro</dd><dt><span>tuid :</span></dt><dd>20231225-165135-093</dd></dl></div></li></ul></div></div>"
      ],
      "text/plain": [
       "<xarray.Dataset>\n",
       "Dimensions:           (shot: 1024, ramsey_phasesq14: 34, control_onsq14: 2,\n",
       "                       ReIm: 2, ramsey_phasesq13: 34, control_onsq13: 2)\n",
       "Coordinates:\n",
       "  * shot              (shot) int32 0 1 2 3 4 5 ... 1018 1019 1020 1021 1022 1023\n",
       "  * ramsey_phasesq14  (ramsey_phasesq14) object '0.0' '24.0' '48.0' ... 'e' 'f'\n",
       "  * ramsey_phasesq13  (ramsey_phasesq13) object '0.0' '24.0' '48.0' ... 'e' 'f'\n",
       "  * control_onsq14    (control_onsq14) bool False True\n",
       "  * control_onsq13    (control_onsq13) bool False True\n",
       "Dimensions without coordinates: ReIm\n",
       "Data variables:\n",
       "    yq14              (shot, ramsey_phasesq14, control_onsq14, ReIm) float64 ...\n",
       "    yq13              (shot, ramsey_phasesq13, control_onsq13, ReIm) float64 ...\n",
       "Attributes:\n",
       "    name:     cz_calibration_ssro\n",
       "    tuid:     20231225-165135-093"
      ]
     },
     "execution_count": 159,
     "metadata": {},
     "output_type": "execute_result"
    }
   ],
   "source": [
    "ds = load_dataset(dp)\n",
    "ds"
   ]
  },
  {
   "cell_type": "code",
   "execution_count": null,
   "metadata": {},
   "outputs": [
    {
     "name": "stdout",
     "output_type": "stream",
     "text": [
      "0.091\n"
     ]
    },
    {
     "data": {
      "image/png": "[encoded data removed]",
      "text/plain": [
       "<Figure size 640x480 with 1 Axes>"
      ]
     },
     "metadata": {},
     "output_type": "display_data"
    }
   ],
   "source": [
    "%matplotlib inline\n",
    "# select the data with ro_amplitudesq12 = 0.051\n",
    "amp = ds.ro_amplitudesq12.values[5]\n",
    "# for amp in ds.ro_amplitudesq12.values:\n",
    "print(amp)\n",
    "qubit = 'q130'\n",
    "ds0 = ds[f'y{qubit}'].sel(ro_amplitudesq13=amp ,state = 0 )\n",
    "ds1 = ds[f'y{qubit}'].sel(ro_amplitudesq13=amp ,state = 1 )\n",
    "ds2 = ds[f'y{qubit}'].sel(ro_amplitudesq13=amp ,state = 2 )\n",
    "# ds0 = (ds0.values).reshape(4096*3,2)\n",
    "# ds1 = (ds1.values).reshape(4096*3,2)\n",
    "# ds2 = (ds2.values).reshape(4096*3,2)\n",
    "\n",
    "cut0 = 0\n",
    "cut1 = 15\n",
    "plt.plot(ds0[:,0].values,ds0[:,1].values,'.r')\n",
    "# plt.plot(ds1[:,0].values,ds1[:,1].values,'.b')\n",
    "# plt.plot(ds1[cut0::cut1,0].values,ds1[cut0::cut1,1].values,'*')\n",
    "# plt.plot(ds2[:,0].values,ds2[:,1].values,'.g')\n",
    "plt.show()"
   ]
  },
  {
   "cell_type": "code",
   "execution_count": null,
   "metadata": {},
   "outputs": [
    {
     "name": "stdout",
     "output_type": "stream",
     "text": [
      "assignment = 0.8388671875\n"
     ]
    },
    {
     "data": {
      "image/png": "[encoded data removed]",
      "text/plain": [
       "<Figure size 640x480 with 2 Axes>"
      ]
     },
     "metadata": {},
     "output_type": "display_data"
    }
   ],
   "source": [
    "import numpy as np\n",
    "import redis\n",
    "import xarray as xr\n",
    "from sklearn.discriminant_analysis import LinearDiscriminantAnalysis\n",
    "from sklearn.metrics import confusion_matrix,ConfusionMatrixDisplay\n",
    "import matplotlib.pyplot as plt\n",
    "\n",
    "dataset = ds\n",
    "qubit = 'q12'\n",
    "data_var = f'y{qubit}0'\n",
    "\n",
    "for coord in dataset.coords:\n",
    "    if f'amplitudes{qubit}' in str(coord):\n",
    "        amplitude_coord = coord\n",
    "    elif 'state' in str(coord):\n",
    "        state_coord = coord\n",
    "    elif 'shot' in str(coord):\n",
    "        shot_coord = coord\n",
    "\n",
    "independents = dataset[state_coord].values\n",
    "amplitudes = dataset.coords[amplitude_coord]\n",
    "shots = len(dataset[shot_coord].values)\n",
    "fit_results = {}\n",
    "# for indx, ro_amplitude in enumerate(amplitudes):\n",
    "indx = 3\n",
    "# print(f'{indx = }')\n",
    "# print(f'{ro_amplitude.values = }')\n",
    "y = np.repeat(independents,shots)\n",
    "IQ_complex = np.array([])\n",
    "for state in independents:\n",
    "    IQ_complex_0 = dataset[data_var].isel({amplitude_coord:[indx],state_coord:state})\n",
    "    IQ_complex = np.append(IQ_complex,IQ_complex_0)\n",
    "# I = IQ_complex.real.flatten()\n",
    "# Q = IQ_complex.imag.flatten()\n",
    "# IQ = np.array([I,Q]).T\n",
    "IQ = IQ_complex.reshape(-1,2)\n",
    "lda = LinearDiscriminantAnalysis(solver = \"svd\", store_covariance=True)\n",
    "# breakpoint()\n",
    "# print(IQ)\n",
    "y_pred = lda.fit(IQ,y).predict(IQ)\n",
    "\n",
    "cm = confusion_matrix(y,y_pred)\n",
    "cm_norm = confusion_matrix(y,y_pred,normalize='true')\n",
    "# assignment = 1 - 1/2 * (err_wr_0 + err_wr_1)\n",
    "assignment = np.trace(cm_norm)/len(independents)\n",
    "print(f'{assignment = }')\n",
    "\n",
    "disp = ConfusionMatrixDisplay(confusion_matrix=cm_norm)\n",
    "disp.plot()\n",
    "plt.show()"
   ]
  },
  {
   "cell_type": "code",
   "execution_count": null,
   "metadata": {},
   "outputs": [
    {
     "name": "stdout",
     "output_type": "stream",
     "text": [
      "[[0.86425781 0.11132812 0.02441406]\n",
      " [0.12890625 0.83496094 0.03613281]\n",
      " [0.12011719 0.0625     0.81738281]]\n",
      "[[ 1.18425448 -0.1557683  -0.02848618]\n",
      " [-0.17588313  1.22477137 -0.04888825]\n",
      " [-0.16058158 -0.0707597   1.23134128]]\n",
      "[[ 1.00000000e+00 -4.40186082e-17 -8.83285957e-18]\n",
      " [ 3.78725371e-17  1.00000000e+00  8.53131584e-18]\n",
      " [ 2.47198095e-17  0.00000000e+00  1.00000000e+00]]\n"
     ]
    }
   ],
   "source": [
    "from numpy.linalg import inv\n",
    "print(cm_norm)\n",
    "cm_inv = inv(cm_norm)\n",
    "print(cm_inv)\n",
    "print(np.dot(cm_inv,cm_norm))"
   ]
  },
  {
   "cell_type": "code",
   "execution_count": null,
   "metadata": {},
   "outputs": [
    {
     "name": "stdout",
     "output_type": "stream",
     "text": [
      "[0.87, 0.11, 0.020000000000000004]\n"
     ]
    }
   ],
   "source": [
    "v = [0.87,0.11,1-0.87-0.11]\n",
    "print(v)"
   ]
  },
  {
   "cell_type": "code",
   "execution_count": null,
   "metadata": {},
   "outputs": [
    {
     "ename": "TypeError",
     "evalue": "mitigated() missing 2 required positional arguments: 'a0' and 'a1'",
     "output_type": "error",
     "traceback": [
      "\u001b[0;31m---------------------------------------------------------------------------\u001b[0m",
      "\u001b[0;31mTypeError\u001b[0m                                 Traceback (most recent call last)",
      "\u001b[1;32m/home/loke-c/tergite-autocalibration-lite/calib_test.ipynb Cell 17\u001b[0m line \u001b[0;36m4\n\u001b[1;32m      <a href='vscode-notebook-cell://wsl%2Bubuntu/home/loke-c/tergite-autocalibration-lite/calib_test.ipynb#X50sdnNjb2RlLXJlbW90ZQ%3D%3D?line=1'>2</a>\u001b[0m \u001b[39mdef\u001b[39;00m \u001b[39mmitigated\u001b[39m(v,a0,a1):\n\u001b[1;32m      <a href='vscode-notebook-cell://wsl%2Bubuntu/home/loke-c/tergite-autocalibration-lite/calib_test.ipynb#X50sdnNjb2RlLXJlbW90ZQ%3D%3D?line=2'>3</a>\u001b[0m     \u001b[39mreturn\u001b[39;00m np\u001b[39m.\u001b[39mdot(cm_inv,v)\u001b[39m-\u001b[39m[a0,a1,\u001b[39m1\u001b[39m\u001b[39m-\u001b[39ma0\u001b[39m-\u001b[39ma1]\n\u001b[0;32m----> <a href='vscode-notebook-cell://wsl%2Bubuntu/home/loke-c/tergite-autocalibration-lite/calib_test.ipynb#X50sdnNjb2RlLXJlbW90ZQ%3D%3D?line=3'>4</a>\u001b[0m res \u001b[39m=\u001b[39m least_squares(mitigated, v)\n",
      "File \u001b[0;32m~/anaconda3/envs/tac/lib/python3.9/site-packages/scipy/optimize/_lsq/least_squares.py:830\u001b[0m, in \u001b[0;36mleast_squares\u001b[0;34m(fun, x0, jac, bounds, method, ftol, xtol, gtol, x_scale, loss, f_scale, diff_step, tr_solver, tr_options, jac_sparsity, max_nfev, verbose, args, kwargs)\u001b[0m\n\u001b[1;32m    827\u001b[0m \u001b[39mdef\u001b[39;00m \u001b[39mfun_wrapped\u001b[39m(x):\n\u001b[1;32m    828\u001b[0m     \u001b[39mreturn\u001b[39;00m np\u001b[39m.\u001b[39matleast_1d(fun(x, \u001b[39m*\u001b[39margs, \u001b[39m*\u001b[39m\u001b[39m*\u001b[39mkwargs))\n\u001b[0;32m--> 830\u001b[0m f0 \u001b[39m=\u001b[39m fun_wrapped(x0)\n\u001b[1;32m    832\u001b[0m \u001b[39mif\u001b[39;00m f0\u001b[39m.\u001b[39mndim \u001b[39m!=\u001b[39m \u001b[39m1\u001b[39m:\n\u001b[1;32m    833\u001b[0m     \u001b[39mraise\u001b[39;00m \u001b[39mValueError\u001b[39;00m(\u001b[39m\"\u001b[39m\u001b[39m`fun` must return at most 1-d array_like. \u001b[39m\u001b[39m\"\u001b[39m\n\u001b[1;32m    834\u001b[0m                      \u001b[39m\"\u001b[39m\u001b[39mf0.shape: \u001b[39m\u001b[39m{}\u001b[39;00m\u001b[39m\"\u001b[39m\u001b[39m.\u001b[39mformat(f0\u001b[39m.\u001b[39mshape))\n",
      "File \u001b[0;32m~/anaconda3/envs/tac/lib/python3.9/site-packages/scipy/optimize/_lsq/least_squares.py:828\u001b[0m, in \u001b[0;36mleast_squares.<locals>.fun_wrapped\u001b[0;34m(x)\u001b[0m\n\u001b[1;32m    827\u001b[0m \u001b[39mdef\u001b[39;00m \u001b[39mfun_wrapped\u001b[39m(x):\n\u001b[0;32m--> 828\u001b[0m     \u001b[39mreturn\u001b[39;00m np\u001b[39m.\u001b[39matleast_1d(fun(x, \u001b[39m*\u001b[39;49margs, \u001b[39m*\u001b[39;49m\u001b[39m*\u001b[39;49mkwargs))\n",
      "\u001b[0;31mTypeError\u001b[0m: mitigated() missing 2 required positional arguments: 'a0' and 'a1'"
     ]
    }
   ],
   "source": [
    "def mitigated(v,a0,a1):\n",
    "    return np.dot(cm_inv,v)-[a0,a1,1-a0-a1]\n",
    "res = minimize(mitigated, v)\n"
   ]
  },
  {
   "cell_type": "code",
   "execution_count": null,
   "metadata": {},
   "outputs": [
    {
     "name": "stdout",
     "output_type": "stream",
     "text": [
      "[0.8, 0.05, 0.14999999999999997] [ 0.93534224 -0.08680117  0.05269794] 0.9012390169552309\n"
     ]
    }
   ],
   "source": [
    "a,b = 0.8,0.1\n",
    "v = [a,b,1-a-b]\n",
    "u = np.dot(cm_inv,v)\n",
    "print(v,u,np.sum(u))"
   ]
  },
  {
   "cell_type": "code",
   "execution_count": null,
   "metadata": {},
   "outputs": [],
   "source": [
    "# Define the function to be minimized\n",
    "from scipy.linalg import norm\n",
    "def m(t):\n",
    "    return norm(u-np.array(t))"
   ]
  },
  {
   "cell_type": "code",
   "execution_count": null,
   "metadata": {},
   "outputs": [],
   "source": [
    "# Define the constraints\n",
    "def con(t):\n",
    "   return t[0]+t[1]+t[2]-1\n",
    "# Define the constraints in the form required by the minimize function\n",
    "cons = ({'type': 'eq', 'fun': con},\n",
    "        {'type': 'ineq', 'fun': lambda t: t[0]},\n",
    "        {'type': 'ineq', 'fun': lambda t: t[1]},\n",
    "        {'type': 'ineq', 'fun': lambda t: t[2]})"
   ]
  },
  {
   "cell_type": "code",
   "execution_count": null,
   "metadata": {},
   "outputs": [
    {
     "name": "stdout",
     "output_type": "stream",
     "text": [
      "[0.94132282 0.         0.05867718]\n"
     ]
    }
   ],
   "source": [
    "from scipy.optimize import minimize\n",
    "result = minimize(m, v, method='SLSQP', constraints=cons)\n",
    "print(np.abs(np.round(result.x,10)))"
   ]
  },
  {
   "cell_type": "code",
   "execution_count": null,
   "metadata": {},
   "outputs": [
    {
     "data": {
      "text/plain": [
       "array([[ 1.18425448, -0.1557683 , -0.02848618],\n",
       "       [-0.17588313,  1.22477137, -0.04888825],\n",
       "       [-0.16058158, -0.0707597 ,  1.23134128]])"
      ]
     },
     "execution_count": 211,
     "metadata": {},
     "output_type": "execute_result"
    }
   ],
   "source": [
    "cm_inv"
   ]
  },
  {
   "cell_type": "code",
   "execution_count": null,
   "metadata": {},
   "outputs": [
    {
     "name": "stdout",
     "output_type": "stream",
     "text": [
      "1.1842544812150915,-0.15576829843331808,-0.028486182781773627,-0.1758831264569345,1.2247713733537886,-0.04888824689685401,-0.1605815783706242,-0.07075969795381643,1.2313412763244407\n"
     ]
    }
   ],
   "source": [
    "# nested join using join()\n",
    "my_string = \",\".join(str(element) for element in list(cm_inv.flatten()))\n",
    "print(my_string)"
   ]
  },
  {
   "cell_type": "code",
   "execution_count": null,
   "metadata": {},
   "outputs": [
    {
     "name": "stdout",
     "output_type": "stream",
     "text": [
      "[[ 1.18425448 -0.1557683  -0.02848618]\n",
      " [-0.17588313  1.22477137 -0.04888825]\n",
      " [-0.16058158 -0.0707597   1.23134128]]\n"
     ]
    }
   ],
   "source": [
    "my_list = my_string.split(\",\")\n",
    "size = int(len(my_list)**0.5)\n",
    "my_list = np.array([float(i) for i in my_list]).reshape(size,size)\n",
    "\n",
    "print(my_list)"
   ]
  },
  {
   "cell_type": "markdown",
   "metadata": {},
   "source": [
    "## Redis Parameters"
   ]
  },
  {
   "cell_type": "code",
   "execution_count": 63,
   "metadata": {},
   "outputs": [
    {
     "name": "stdout",
     "output_type": "stream",
     "text": [
      "Qubit parameters q21:\n",
      "not_calibrated\n",
      "Qubit parameters q22:\n",
      "not_calibrated\n",
      "Qubit parameters q21_q22:\n",
      "not_calibrated\n"
     ]
    }
   ],
   "source": [
    "import redis\n",
    "redis_connection = redis.Redis(decode_responses=True)\n",
    "node = 'cz_chevron'\n",
    "qubits = ['q21','q22','q21_q22']\n",
    "for qubit in qubits: \n",
    "    print(f\"Qubit parameters {qubit}:\")\n",
    "    redis_config = redis_connection.hgetall(f\"cs:{qubit}\")\n",
    "    # Print the redis config line by line\n",
    "    print(redis_config['cz_chevron'])\n",
    "    # for key, value in redis_config.items():\n",
    "    #     print(f\"{key}: {value}\")"
   ]
  },
  {
   "cell_type": "code",
   "execution_count": 65,
   "metadata": {},
   "outputs": [
    {
     "name": "stdout",
     "output_type": "stream",
     "text": [
      "Qubit parameters q21_q22:\n",
      "ro_acq_delay: nan\n",
      "ro_freq: nan\n",
      "ro_freq_1: nan\n",
      "ro_freq_2: nan\n",
      "ro_freq_opt: nan\n",
      "ro_ampl_opt: nan\n",
      "freq_01: nan\n",
      "freq_12: nan\n",
      "anharmonicity: nan\n",
      "mw_amp180: nan\n",
      "mw_motzoi: nan\n",
      "mw_ef_amp180: nan\n",
      "fidelity: nan\n",
      "discriminator: nan\n",
      "t1_time: nan\n",
      "selectivity: nan\n",
      "ro_ampl: nan\n",
      "parking_current: nan\n",
      "cz_pulse_frequency: nan\n",
      "cz_pulse_amplitude: nan\n",
      "cz_pulse_duration: nan\n",
      "cz_pulse_width: nan\n",
      "dc_flux: nan\n",
      "dc_flux_offset: nan\n",
      "dc_flux_0: nan\n",
      "cz_phase: nan\n",
      "resonator_flux_quantum: nan\n",
      "ro_pulse_delay: nan\n",
      "ro_pulse_duration: nan\n",
      "ro_acq_integration_time: nan\n",
      "mw_pulse_duration: nan\n",
      "init_duration: nan\n",
      "min_calibration_point: nan\n",
      "max_calibration_point: nan\n",
      "spec_pulse_duration: nan\n",
      "spec_amp: nan\n",
      "att: nan\n",
      "cz_pop_loss: nan\n",
      "cz_leakage: nan\n",
      "coupler_dynamic_phase: nan\n",
      "inv_cm_opt: nan\n"
     ]
    }
   ],
   "source": [
    "import redis\n",
    "redis_connection = redis.Redis(decode_responses=True)\n",
    "# qubits = ['q13','q14']\n",
    "qubits = ['q21_q22']\n",
    "for qubit in qubits: \n",
    "    print(f\"Qubit parameters {qubit}:\")\n",
    "    redis_config = redis_connection.hgetall(f\"couplers:{qubit}\")\n",
    "    # Print the redis config line by line\n",
    "    for key, value in redis_config.items():\n",
    "        print(f\"{key}: {value}\")\n",
    "    # print(redis_config['cz_pulse_frequency'])\n",
    "    # print(redis_config['cz_pulse_duration'])\n",
    "    # print(redis_config['cz_pulse_amplitude'])\n",
    "    # print(redis_config['cz_phase'])\n",
    "    # print(redis_config['cz_pop_loss'])\n",
    "    # print(redis_config['cz_leakage'])"
   ]
  },
  {
   "cell_type": "code",
   "execution_count": 67,
   "metadata": {},
   "outputs": [
    {
     "name": "stdout",
     "output_type": "stream",
     "text": [
      "Qubit parameters q21:\n",
      "nan\n",
      "nan\n",
      "nan\n",
      "Qubit parameters q22:\n",
      "nan\n",
      "nan\n",
      "nan\n"
     ]
    }
   ],
   "source": [
    "import redis\n",
    "redis_connection = redis.Redis(decode_responses=True)\n",
    "qubits = [ 'q21','q22']\n",
    "for qubit in qubits: \n",
    "    print(f\"Qubit parameters {qubit}:\")\n",
    "    redis_config = redis_connection.hgetall(f\"transmons:{qubit}\")\n",
    "    # Print the redis config line by line\n",
    "    # for key, value in redis_config.items():\n",
    "        # print(f\"{key}: {value}\")\n",
    "    print(redis_config['cz_pulse_frequency'])\n",
    "    print(redis_config['cz_pulse_duration'])\n",
    "    print(redis_config['cz_pulse_amplitude'])\n",
    "    # print(redis_config['cz_phase'])\n",
    "    # print(redis_config['cz_pop_loss'])\n",
    "    # print(redis_config['cz_leakage'])"
   ]
  },
  {
   "cell_type": "code",
   "execution_count": null,
   "metadata": {},
   "outputs": [
    {
     "name": "stdout",
     "output_type": "stream",
     "text": [
      "Qubit parameters q12:\n",
      "3366985350.8172603\n",
      "3173745577.505435\n",
      "Qubit parameters q13:\n",
      "3583392807.127604\n",
      "3344617330.110173\n",
      "Qubit parameters q14:\n",
      "3333262125.7570114\n",
      "3133075732.4790416\n",
      "Qubit parameters q15:\n",
      "3872762251.21086\n",
      "3631663526.956842\n"
     ]
    }
   ],
   "source": [
    "import redis\n",
    "redis_connection = redis.Redis(decode_responses=True)\n",
    "qubits = [ 'q12','q13','q14','q15']\n",
    "for qubit in qubits: \n",
    "    print(f\"Qubit parameters {qubit}:\")\n",
    "    redis_config = redis_connection.hgetall(f\"transmons:{qubit}\")\n",
    "    # Print the redis config line by line\n",
    "    print(redis_config['freq_01'])\n",
    "    print(redis_config['freq_12'])\n",
    "    # for key, value in redis_config.items():\n",
    "    #     print(f\"{key}: {value}\")"
   ]
  },
  {
   "cell_type": "markdown",
   "metadata": {},
   "source": [
    "## Save VNA values"
   ]
  },
  {
   "cell_type": "code",
   "execution_count": 340,
   "metadata": {},
   "outputs": [
    {
     "name": "stdout",
     "output_type": "stream",
     "text": [
      "Qubit parameters q16:\n",
      "6489739796.816151\n",
      "3189000000.0\n",
      "2993400000.0\n",
      "Qubit parameters q17:\n",
      "7059399869.2122345\n",
      "3932200000.0\n",
      "3699800000.0\n",
      "Qubit parameters q18:\n",
      "6712742151.173621\n",
      "3254000000.0\n",
      "3057400000.0\n",
      "Qubit parameters q19:\n",
      "6818362148.027776\n",
      "3914600000.0\n",
      "3681600000.0\n",
      "Qubit parameters q20:\n",
      "6494839241.529742\n",
      "3333200000.0\n",
      "3132200000.0\n",
      "Qubit parameters q21:\n",
      "6752736342.162048\n",
      "3772200000.0\n",
      "3543000000.0\n",
      "Qubit parameters q22:\n",
      "6476748475.479722\n",
      "3325800000.0\n",
      "3130400000.0\n",
      "Qubit parameters q23:\n",
      "7051822087.369359\n",
      "3910400000.0\n",
      "3674200000.0\n",
      "Qubit parameters q24:\n",
      "6583576730.713829\n",
      "3271000000.0\n",
      "3072400000.0\n",
      "Qubit parameters q25:\n",
      "6852972354.877701\n",
      "4008800000.0\n",
      "3769200000.0\n"
     ]
    }
   ],
   "source": [
    "import redis\n",
    "redis_connection = redis.Redis(decode_responses=True)\n",
    "# qubits = [ 'q12','q13','q14','q15']\n",
    "qubits = ['q16','q17','q18','q19','q20','q21','q22','q23','q24','q25']\n",
    "qubit_freq_01_list,qubit_freq_ro_list,qubit_freq_12_list = {},{},{}\n",
    "for qubit in qubits: \n",
    "    print(f\"Qubit parameters {qubit}:\")\n",
    "    redis_config = redis_connection.hgetall(f\"transmons:{qubit}\")\n",
    "    # Print the redis config line by line\n",
    "    # for key, value in redis_config.items():\n",
    "    #     print(f\"{key}: {value}\")\n",
    "    print(redis_config['ro_freq'])\n",
    "    print(redis_config['freq_01'])\n",
    "    print(redis_config['freq_12'])\n",
    "    qubit_freq_ro_list[qubit] = redis_config['ro_freq']\n",
    "    qubit_freq_01_list[qubit] = redis_config['freq_01']\n",
    "    qubit_freq_12_list[qubit] = redis_config['freq_12']"
   ]
  },
  {
   "cell_type": "code",
   "execution_count": 333,
   "metadata": {},
   "outputs": [
    {
     "name": "stdout",
     "output_type": "stream",
     "text": [
      "307.3397968161507\n",
      "-572.6001307877655\n",
      "401.3421511736212\n",
      "-777.8378519722243\n",
      "29.43924152974224\n",
      "-562.4636578379517\n",
      "20.548475479722022\n",
      "-532.777912630641\n",
      "240.17673071382904\n",
      "-925.0276451222992\n"
     ]
    }
   ],
   "source": [
    "for qubit in qubits:\n",
    "    d = float(qubit_freq_ro_list[qubit]) - (float(qubit_freq_01_list[qubit])+float(qubit_freq_12_list[qubit]))\n",
    "    print(d/1e6)"
   ]
  },
  {
   "cell_type": "code",
   "execution_count": 338,
   "metadata": {},
   "outputs": [
    {
     "data": {
      "text/plain": [
       "['q16', 'q17', 'q18', 'q19', 'q20', 'q21', 'q22', 'q23', 'q24', 'q25']"
      ]
     },
     "execution_count": 338,
     "metadata": {},
     "output_type": "execute_result"
    }
   ],
   "source": [
    "qubits"
   ]
  },
  {
   "cell_type": "code",
   "execution_count": 341,
   "metadata": {},
   "outputs": [],
   "source": [
    "from config_files.VNA_values import VNA_resonator_frequencies, VNA_qubit_frequencies, VNA_f12_frequencies\n",
    "for qubit in qubits:\n",
    "    VNA_resonator_frequencies[qubit] = float(qubit_freq_ro_list[qubit])\n",
    "    VNA_qubit_frequencies[qubit] = float(qubit_freq_01_list[qubit])\n",
    "    VNA_f12_frequencies[qubit] = float(qubit_freq_12_list[qubit])\n",
    "# rewrite the VNA_values.py file\n",
    "with open('config_files/VNA_values.py', 'w') as f:\n",
    "    f.write(f\"VNA_resonator_frequencies = {VNA_resonator_frequencies}\\n\")\n",
    "    f.write(f\"VNA_qubit_frequencies = {VNA_qubit_frequencies}\\n\")\n",
    "    f.write(f\"VNA_f12_frequencies = {VNA_f12_frequencies}\\n\")"
   ]
  },
  {
   "cell_type": "code",
   "execution_count": 342,
   "metadata": {},
   "outputs": [
    {
     "name": "stdout",
     "output_type": "stream",
     "text": [
      "{'q16': 6489739796.816151, 'q17': 7059399869.2122345, 'q18': 6712742151.173621, 'q19': 6818362148.027776, 'q20': 6494839241.529742, 'q21': 6752736342.162048, 'q22': 6476748475.479722, 'q23': 7051822087.369359, 'q24': 6583576730.713829, 'q25': 6852972354.877701, 'q11': 6934503303.198933}\n",
      "{'q16': 3189000000.0, 'q17': 3932200000.0, 'q18': 3254000000.0, 'q19': 3914600000.0, 'q20': 3333200000.0, 'q21': 3772200000.0, 'q22': 3325800000.0, 'q23': 3910400000.0, 'q24': 3271000000.0, 'q25': 4008800000.0}\n",
      "{'q16': 2993400000.0, 'q17': 3699800000.0, 'q18': 3057400000.0, 'q19': 3681600000.0, 'q20': 3132200000.0, 'q21': 3543000000.0, 'q22': 3130400000.0, 'q23': 3674200000.0, 'q24': 3072400000.0, 'q25': 3769200000.0}\n",
      "[-195.6 -232.4 -196.6 -233.  -201.  -229.2 -195.4 -236.2 -198.6 -239.6]\n"
     ]
    }
   ],
   "source": [
    "import numpy as np\n",
    "print(VNA_resonator_frequencies)\n",
    "print(VNA_qubit_frequencies)\n",
    "print(VNA_f12_frequencies)\n",
    "anahar = (np.array(list(VNA_f12_frequencies.values()))-np.array(list(VNA_qubit_frequencies.values()))) / 1e6\n",
    "print(anahar)"
   ]
  },
  {
   "cell_type": "code",
   "execution_count": null,
   "metadata": {},
   "outputs": [],
   "source": [
    "# VNA_resonator_frequencies = {'q11': 6934572785.610347, 'q12': 6606753684.764918, 'q13': 6688313321.558435, 'q14': 6331351280.923618, 'q15': 6933698139.447023, 'q16': 6491000000.0, 'q17': 7059000000.0, 'q18': 6712000000.0, 'q19': 6818000000.0, 'q20': 6494000000.0, 'q21': 6751000000.0, 'q22': 6477000000.0, 'q23': 7052000000.0, 'q24': 6583000000.0, 'q25': 6853000000.0}\n",
    "# VNA_qubit_frequencies = {'q11': 3714895945.38633, 'q12': 3366961177.836733, 'q13': 3585016857.038436, 'q14': 3334060710.6204877, 'q15': 3872936707.280074, 'q16': 3189000000.0, 'q17': 3932000000.0, 'q18': 3254000000.0, 'q19': 3921000000.0, 'q20': 3333000000.0, 'q21': 3773000000.0, 'q22': 3326000000.0, 'q23': 3911000000.0, 'q24': 3271000000.0, 'q25': 4009000000.0}\n",
    "# VNA_f12_frequencies = {'q11': 3480306890.6912713, 'q12': 3174059567.052809, 'q13': 3343386697.937837, 'q14': 3133224381.376709, 'q15': 3631763299.7146664, 'q16': 2993000000.0, 'q17': 3699000000.0, 'q18': 3154000000.0, 'q19': 3682000000.0, 'q20': 3233000000.0, 'q21': 3542000000.0, 'q22': 3131000000.0, 'q23': 3674000000.0, 'q24': 3171000000.0, 'q25': 3770000000.0}\n"
   ]
  }
 ],
 "metadata": {
  "kernelspec": {
   "display_name": "tac",
   "language": "python",
   "name": "python3"
  },
  "language_info": {
   "codemirror_mode": {
    "name": "ipython",
    "version": 3
   },
   "file_extension": ".py",
   "mimetype": "text/x-python",
   "name": "python",
   "nbconvert_exporter": "python",
   "pygments_lexer": "ipython3",
   "version": "3.9.18"
  },
  "orig_nbformat": 4
 },
 "nbformat": 4,
 "nbformat_minor": 2
}
