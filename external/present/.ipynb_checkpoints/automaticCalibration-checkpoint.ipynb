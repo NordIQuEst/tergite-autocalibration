{
 "cells": [
  {
   "cell_type": "raw",
   "id": "ca0a2602",
   "metadata": {},
   "source": [
    "---\n",
    "title: Automatic Calibration of a QPU\n",
    "format: html\n",
    "---"
   ]
  },
  {
   "cell_type": "markdown",
   "id": "9a8156c5",
   "metadata": {},
   "source": [
    "## Overview"
   ]
  },
  {
   "cell_type": "markdown",
   "id": "34c87f5b",
   "metadata": {},
   "source": [
    "![](calibration_overview.svg)"
   ]
  },
  {
   "cell_type": "markdown",
   "id": "edc4ab7a",
   "metadata": {},
   "source": [
    "## From schedules to measurements"
   ]
  },
  {
   "cell_type": "markdown",
   "id": "7b9ca5aa",
   "metadata": {},
   "source": [
    ":::: {.columns}\n",
    "\n",
    "::: {.column width=\"33%\"}\n",
    "##### Quantify Core (QCodes-style)\n",
    ":::\n",
    "\n",
    "::: {.column width=\"33%\"}\n",
    "##### Quantify Scheduler\n",
    ":::\n",
    "\n",
    "::: {.column width=\"33%\"}\n",
    "##### Q1ASM FPGA instructions\n",
    ":::\n",
    "\n",
    "::::"
   ]
  },
  {
   "cell_type": "markdown",
   "id": "13cb3f87",
   "metadata": {},
   "source": [
    "## Calibration as a Directed Acyclic Graph"
   ]
  },
  {
   "cell_type": "code",
   "execution_count": null,
   "id": "12c75172",
   "metadata": {},
   "outputs": [],
   "source": []
  }
 ],
 "metadata": {
  "kernelspec": {
   "display_name": "Python 3 (ipykernel)",
   "language": "python",
   "name": "python3"
  },
  "language_info": {
   "codemirror_mode": {
    "name": "ipython",
    "version": 3
   },
   "file_extension": ".py",
   "mimetype": "text/x-python",
   "name": "python",
   "nbconvert_exporter": "python",
   "pygments_lexer": "ipython3",
   "version": "3.9.13"
  }
 },
 "nbformat": 4,
 "nbformat_minor": 5
}
