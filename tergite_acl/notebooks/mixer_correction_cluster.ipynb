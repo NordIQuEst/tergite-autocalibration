{
 "cells": [
  {
   "cell_type": "markdown",
   "metadata": {},
   "source": [
    "# Mixer correction"
   ]
  },
  {
   "cell_type": "markdown",
   "metadata": {},
   "source": [
    "Setup\n",
    "-----\n",
    "\n",
    "First, we are going to import the required packages."
   ]
  },
  {
   "cell_type": "code",
   "execution_count": 52,
   "metadata": {
    "tags": []
   },
   "outputs": [
    {
     "data": {
      "text/html": [
       "<style>.container { width:100% !important; }</style>"
      ],
      "text/plain": [
       "<IPython.core.display.HTML object>"
      ]
     },
     "metadata": {},
     "output_type": "display_data"
    }
   ],
   "source": [
    "# Import ipython widgets\n",
    "import json\n",
    "import math\n",
    "import os\n",
    "\n",
    "import ipywidgets as widgets\n",
    "import matplotlib.pyplot\n",
    "import numpy as np\n",
    "import rich\n",
    "import pandas as pd\n",
    "\n",
    "# Set up the environment.\n",
    "import scipy.signal\n",
    "from IPython.display import display\n",
    "from ipywidgets import fixed, interact, interact_manual, interactive\n",
    "\n",
    "from qblox_instruments import Cluster, PlugAndPlay, Pulsar\n",
    "from IPython.display import display, HTML\n",
    "display(HTML(\"<style>.container { width:100% !important; }</style>\"))"
   ]
  },
  {
   "cell_type": "code",
   "execution_count": 53,
   "metadata": {
    "tags": []
   },
   "outputs": [
    {
     "data": {
      "text/html": [
       "<div>\n",
       "<style scoped>\n",
       "    .dataframe tbody tr th:only-of-type {\n",
       "        vertical-align: middle;\n",
       "    }\n",
       "\n",
       "    .dataframe tbody tr th {\n",
       "        vertical-align: top;\n",
       "    }\n",
       "\n",
       "    .dataframe thead th {\n",
       "        text-align: right;\n",
       "    }\n",
       "</style>\n",
       "<table border=\"1\" class=\"dataframe\">\n",
       "  <thead>\n",
       "    <tr style=\"text-align: right;\">\n",
       "      <th></th>\n",
       "      <th>module</th>\n",
       "      <th>complex_output</th>\n",
       "      <th>sequencer index</th>\n",
       "      <th>lo_freq (Hz)</th>\n",
       "      <th>if (Hz)</th>\n",
       "      <th>dc_mixer_offset_I</th>\n",
       "      <th>dc_mixer_offset_Q</th>\n",
       "      <th>mixer_amp_ratio</th>\n",
       "      <th>mixer_phase_error_deg</th>\n",
       "    </tr>\n",
       "  </thead>\n",
       "  <tbody>\n",
       "  </tbody>\n",
       "</table>\n",
       "</div>"
      ],
      "text/plain": [
       "Empty DataFrame\n",
       "Columns: [module, complex_output, sequencer index, lo_freq (Hz), if (Hz), dc_mixer_offset_I, dc_mixer_offset_Q, mixer_amp_ratio, mixer_phase_error_deg]\n",
       "Index: []"
      ]
     },
     "execution_count": 53,
     "metadata": {},
     "output_type": "execute_result"
    }
   ],
   "source": [
    "# This is the table that we want to populate\n",
    "calibration = pd.DataFrame()\n",
    "calibration[\"module\"]  = []\n",
    "calibration[\"complex_output\"] = []\n",
    "calibration[\"sequencer index\"] = []\n",
    "calibration[\"lo_freq (Hz)\"] = []\n",
    "calibration[\"if (Hz)\"] = []\n",
    "calibration[\"dc_mixer_offset_I\"] = []\n",
    "calibration[\"dc_mixer_offset_Q\"] = []\n",
    "calibration[\"mixer_amp_ratio\"] = []\n",
    "calibration[\"mixer_phase_error_deg\"] = []\n",
    "calibration"
   ]
  },
  {
   "cell_type": "markdown",
   "metadata": {},
   "source": [
    "## Create Q1ASM program to play on the device"
   ]
  },
  {
   "cell_type": "code",
   "execution_count": 54,
   "metadata": {
    "tags": []
   },
   "outputs": [],
   "source": [
    "#Waveform dictionary (data will hold the samples and index will be used to select the waveforms in the instrument).\n",
    "waveforms = {\n",
    "             \"I\":     {\"data\": [], \"index\": 0},\n",
    "             \"Q\":     {\"data\": [], \"index\": 1}\n",
    "            }\n",
    "\n",
    "waveforms[\"I\"][\"data\"] = [0.4]*8000\n",
    "waveforms[\"Q\"][\"data\"] = [0.0]*8000\n",
    "\n",
    "#Sequence program.\n",
    "prog = f\"start: set_mrk 15 \\n play 0,1,1000\\n set_mrk 15 \\n play 0,1,1000\\njmp @start\"\n",
    "\n",
    "#Sequence program which stops.\n",
    "# prog = \"\"\"\n",
    "#         move 1250000, R0\n",
    "#         set_mrk    15\n",
    "# start:\n",
    "#         reset_ph\n",
    "#         upd_param  4\n",
    "#         play       0,1,4\n",
    "#         wait       7996\n",
    "#         loop       R0,@start\n",
    "#         set_mrk    0\n",
    "#         upd_param  4\n",
    "#         stop\n",
    "# \"\"\"\n",
    "\n",
    "#Reformat waveforms to lists if necessary.\n",
    "for name in waveforms:\n",
    "    if str(type(waveforms[name][\"data\"]).__name__) == \"ndarray\":\n",
    "        waveforms[name][\"data\"] = waveforms[name][\"data\"].tolist()  # JSON only supports lists\n",
    "\n",
    "#Add sequence program and waveforms to single dictionary and write to JSON file.\n",
    "wave_and_prog_dict = {\"waveforms\": waveforms, \"weights\": {}, \"acquisitions\": {}, \"program\": prog}\n",
    "with open(\"sequence.json\", 'w', encoding='utf-8') as file:\n",
    "    json.dump(wave_and_prog_dict, file, indent=4)\n",
    "    file.close()"
   ]
  },
  {
   "cell_type": "markdown",
   "metadata": {},
   "source": [
    "## Select Device\n",
    "\n",
    "We scan for the available devices connected via ethernet using the Plug & Play functionality of the Qblox Instruments package (see [Plug & Play](https://qblox-qblox-instruments.readthedocs-hosted.com/en/master/api_reference/pnp.html) for more info)."
   ]
  },
  {
   "cell_type": "code",
   "execution_count": 4,
   "metadata": {
    "tags": []
   },
   "outputs": [
    {
     "data": {
      "application/vnd.jupyter.widget-view+json": {
       "model_id": "da9e0a38a4924695995f5bbfe20469ef",
       "version_major": 2,
       "version_minor": 0
      },
      "text/plain": [
       "Dropdown(description='Select Device', options=(), value=None)"
      ]
     },
     "metadata": {},
     "output_type": "display_data"
    }
   ],
   "source": [
    "# Scan for available devices and display\n",
    "# with PlugAndPlay() as p:\n",
    "#     # get info of all devices\n",
    "#     device_list = p.list_devices()\n",
    "#     device_keys = list(device_list.keys())\n",
    "\n",
    "# # rich.print(device_list)\n",
    "# # create widget for names and ip addresses\n",
    "# connect = widgets.Dropdown(\n",
    "#     options=[(device_list[key][\"identity\"][\"ip\"]) for key in device_list.keys()],\n",
    "#     description=\"Select Device\",\n",
    "# )\n",
    "# display(connect)"
   ]
  },
  {
   "cell_type": "code",
   "execution_count": 55,
   "metadata": {
    "tags": []
   },
   "outputs": [
    {
     "name": "stdout",
     "output_type": "stream",
     "text": [
      "loki_cluster connected at 192.0.2.72\n"
     ]
    }
   ],
   "source": [
    "# close all previous connections to the cluster\n",
    "Cluster.close_all()\n",
    "\n",
    "#device_name = \"pingu_cluster\"\n",
    "device_name = \"loki_cluster\"\n",
    "# ip_address = connect.v./alue\n",
    "ip_address = '192.0.2.72'\n",
    "# connect to the cluster and reset\n",
    "cluster = Cluster(device_name, ip_address)\n",
    "cluster.reset()\n",
    "print(f\"{device_name} connected at {ip_address}\")\n",
    "# cluster.identify()"
   ]
  },
  {
   "cell_type": "markdown",
   "metadata": {},
   "source": [
    "## Select Module in Device"
   ]
  },
  {
   "cell_type": "code",
   "execution_count": 153,
   "metadata": {
    "tags": []
   },
   "outputs": [
    {
     "data": {
      "application/vnd.jupyter.widget-view+json": {
       "model_id": "f359787201fb4feaac6a8f63e5119c5e",
       "version_major": 2,
       "version_minor": 0
      },
      "text/plain": [
       "Dropdown(options=('module1', 'module2', 'module3', 'module4', 'module5', 'module6', 'module7', 'module8', 'mod…"
      ]
     },
     "metadata": {},
     "output_type": "display_data"
    }
   ],
   "source": [
    "# Find all QRM/QCM modules\n",
    "cluster.reset()\n",
    "available_slots = {}\n",
    "for module in cluster.modules:\n",
    "    # if module is currently present in stack\n",
    "    if cluster._get_modules_present(module.slot_idx):\n",
    "        # check if QxM is RF or baseband\n",
    "        if module.is_rf_type:\n",
    "            available_slots[f\"module{module.slot_idx}\"] = [\"QCM-RF\", \"QRM-RF\"][\n",
    "                module.is_qrm_type\n",
    "            ]\n",
    "        else:\n",
    "            available_slots[f\"module{module.slot_idx}\"] = [\"QCM\", \"QRM\"][\n",
    "                module.is_qrm_type\n",
    "            ]\n",
    "\n",
    "# List of all QxM modules present\n",
    "connect_qxm = widgets.Dropdown(options=[key for key in available_slots.keys()])\n",
    "display(connect_qxm)"
   ]
  },
  {
   "cell_type": "code",
   "execution_count": 193,
   "metadata": {
    "scrolled": true,
    "tags": []
   },
   "outputs": [
    {
     "name": "stdout",
     "output_type": "stream",
     "text": [
      "module17\n",
      "QRM-RF connected\n",
      "Status: CRITICAL, Flags: TEMPERATURE_OUT_OF_RANGE, Slot flags: NONE\n"
     ]
    }
   ],
   "source": [
    "# Connect to the cluster QxM module\n",
    "module = connect_qxm.value\n",
    "print(module)\n",
    "qxm = getattr(cluster, module)\n",
    "print(f\"{available_slots[connect_qxm.value]} connected\")\n",
    "print(cluster.get_system_state())"
   ]
  },
  {
   "cell_type": "code",
   "execution_count": 194,
   "metadata": {},
   "outputs": [],
   "source": [
    "qxm.out0_att(0)"
   ]
  },
  {
   "cell_type": "markdown",
   "metadata": {},
   "source": [
    "## Select complex output"
   ]
  },
  {
   "cell_type": "code",
   "execution_count": 195,
   "metadata": {
    "scrolled": true,
    "tags": []
   },
   "outputs": [
    {
     "data": {
      "application/vnd.jupyter.widget-view+json": {
       "model_id": "02c77a6ce9504ca993289cedc4f062cf",
       "version_major": 2,
       "version_minor": 0
      },
      "text/plain": [
       "Dropdown(options=('out0', 'disconnect'), value='out0')"
      ]
     },
     "metadata": {},
     "output_type": "display_data"
    }
   ],
   "source": [
    "outputs = set(map(lambda i: i.split(\"_\")[0], filter(lambda k: \"out\" in k and (not k.startswith(\"_\")), dir(qxm))))\n",
    "select_out = widgets.Dropdown(options = [key for key in outputs])\n",
    "display(select_out)"
   ]
  },
  {
   "cell_type": "code",
   "execution_count": 196,
   "metadata": {
    "tags": []
   },
   "outputs": [
    {
     "data": {
      "text/plain": [
       "{'q16': 4250250000.0,\n",
       " 'q17': 5416500000.0,\n",
       " 'q18': 4837500000.0,\n",
       " 'q19': 5146000000.0,\n",
       " 'q20': 4400250000.0,\n",
       " 'q21': 5214750000.0,\n",
       " 'q22': 4722750000.0,\n",
       " 'q23': 5277166670.0,\n",
       " 'q24': 4633500000.0,\n",
       " 'q25': 5312750000.0}"
      ]
     },
     "execution_count": 196,
     "metadata": {},
     "output_type": "execute_result"
    }
   ],
   "source": [
    "qubits = ['q16','q17','q18','q19','q20','q21','q22','q23','q24','q25']\n",
    "lo_list = [4.25025000e+09, 5.41650000e+09, 4.83750000e+09, 5.14600000e+09,\n",
    "       4.40025000e+09, 5.21475000e+09, 4.72275000e+09, 5.27716667e+09,\n",
    "       4.63350000e+09, 5.31275000e+09]\n",
    "qubit_lo = dict(zip(qubits, lo_list))\n",
    "qubit_lo"
   ]
  },
  {
   "cell_type": "code",
   "execution_count": 197,
   "metadata": {
    "tags": []
   },
   "outputs": [
    {
     "name": "stdout",
     "output_type": "stream",
     "text": [
      "6804000000\n"
     ]
    }
   ],
   "source": [
    "# lo_frequency = float(input(f\"Enter desired LO frequency (Hz) for '{select_out.value}': \"))\n",
    "# lo_frequency = qubit_lo['q25']\n",
    "# lo_frequency = 6793000000\n",
    "lo_frequency = 6804000000\n",
    "if qxm.module_type.name == \"QRM\":\n",
    "    # qrms only have one complex output\n",
    "    qxm.out0_in0_lo_en(True)\n",
    "    qxm.out0_in0_lo_freq(lo_frequency)\n",
    "else:\n",
    "    lo_en = getattr(qxm, f\"{select_out.value}_lo_en\")\n",
    "    lo_freq = getattr(qxm, f\"{select_out.value}_lo_freq\")\n",
    "    lo_en(True)\n",
    "    lo_freq(lo_frequency)\n",
    "print(lo_frequency)"
   ]
  },
  {
   "cell_type": "markdown",
   "metadata": {},
   "source": [
    "## Select Sequencer in Module"
   ]
  },
  {
   "cell_type": "code",
   "execution_count": 198,
   "metadata": {
    "tags": []
   },
   "outputs": [
    {
     "data": {
      "application/vnd.jupyter.widget-view+json": {
       "model_id": "fbeec89e016445cd8b2fefe37c85d2c5",
       "version_major": 2,
       "version_minor": 0
      },
      "text/plain": [
       "Dropdown(options=('sequencer0', 'sequencer1', 'sequencer2', 'sequencer3', 'sequencer4', 'sequencer5'), value='…"
      ]
     },
     "metadata": {},
     "output_type": "display_data"
    }
   ],
   "source": [
    "qxm.stop_sequencer()\n",
    "sequencers = { k : getattr(qxm, k) for k in filter(lambda a: a.startswith(\"sequencer\") and (a != \"sequencers\"), dir(qxm)) }\n",
    "select_seq = widgets.Dropdown(options = [key for key in sequencers.keys()])\n",
    "display(select_seq)"
   ]
  },
  {
   "cell_type": "markdown",
   "metadata": {},
   "source": [
    "## Upload program to sequencer"
   ]
  },
  {
   "cell_type": "code",
   "execution_count": 199,
   "metadata": {
    "tags": []
   },
   "outputs": [],
   "source": [
    "seq = sequencers[select_seq.value]\n",
    "# cz = 500\n",
    "# MY_IF = (500-cz)*1e6\n",
    "MY_IF = -100e6\n",
    "seq.nco_freq(MY_IF)\n",
    "# seq.nco_freq(MY_IF := float(input(\"ENTER IF: \")))   # using 10 MHz IF"
   ]
  },
  {
   "cell_type": "code",
   "execution_count": 200,
   "metadata": {},
   "outputs": [
    {
     "name": "stdout",
     "output_type": "stream",
     "text": [
      "-100000000.0\n",
      "loki_cluster_module17_sequencer0\n"
     ]
    }
   ],
   "source": [
    "seq.sequence(os.path.join(os.getcwd(), \"sequence.json\"))\n",
    "seq.mod_en_awg(True)\n",
    "print(MY_IF)\n",
    "print(seq.name)"
   ]
  },
  {
   "cell_type": "markdown",
   "metadata": {},
   "source": [
    "## Control sliders"
   ]
  },
  {
   "cell_type": "code",
   "execution_count": 201,
   "metadata": {
    "tags": []
   },
   "outputs": [
    {
     "data": {
      "text/html": [
       "<pre style=\"white-space:pre;overflow-x:auto;line-height:normal;font-family:Menlo,'DejaVu Sans Mono',consolas,'Courier New',monospace\"><span style=\"color: #008080; text-decoration-color: #008080; font-weight: bold\">1</span>.      Connect complex output <span style=\"color: #008000; text-decoration-color: #008000\">'out0'</span> of cluster <span style=\"color: #008000; text-decoration-color: #008000\">'loki_cluster'</span> module <span style=\"color: #008000; text-decoration-color: #008000\">'module17'</span> to a spectrum analyser.\n",
       "</pre>\n"
      ],
      "text/plain": [
       "\u001b[1;36m1\u001b[0m.      Connect complex output \u001b[32m'out0'\u001b[0m of cluster \u001b[32m'loki_cluster'\u001b[0m module \u001b[32m'module17'\u001b[0m to a spectrum analyser.\n"
      ]
     },
     "metadata": {},
     "output_type": "display_data"
    },
    {
     "data": {
      "text/html": [
       "<pre style=\"white-space:pre;overflow-x:auto;line-height:normal;font-family:Menlo,'DejaVu Sans Mono',consolas,'Courier New',monospace\"><span style=\"color: #008080; text-decoration-color: #008080; font-weight: bold\">2</span>.      In the spectrum analyser, set the center frequency to <span style=\"color: #008080; text-decoration-color: #008080; font-weight: bold\">6.804</span> GHz\n",
       "</pre>\n"
      ],
      "text/plain": [
       "\u001b[1;36m2\u001b[0m.      In the spectrum analyser, set the center frequency to \u001b[1;36m6.804\u001b[0m GHz\n"
      ]
     },
     "metadata": {},
     "output_type": "display_data"
    },
    {
     "data": {
      "text/html": [
       "<pre style=\"white-space:pre;overflow-x:auto;line-height:normal;font-family:Menlo,'DejaVu Sans Mono',consolas,'Courier New',monospace\"><span style=\"color: #008080; text-decoration-color: #008080; font-weight: bold\">3</span>.      Adjust the gain ratio and phase offset sliders until the LSB is gone.\n",
       "</pre>\n"
      ],
      "text/plain": [
       "\u001b[1;36m3\u001b[0m.      Adjust the gain ratio and phase offset sliders until the LSB is gone.\n"
      ]
     },
     "metadata": {},
     "output_type": "display_data"
    },
    {
     "data": {
      "text/html": [
       "<pre style=\"white-space:pre;overflow-x:auto;line-height:normal;font-family:Menlo,'DejaVu Sans Mono',consolas,'Courier New',monospace\"><span style=\"color: #008080; text-decoration-color: #008080; font-weight: bold\">4</span>.      Adjust the I and Q offsets until the LO peak dissapears.\n",
       "</pre>\n"
      ],
      "text/plain": [
       "\u001b[1;36m4\u001b[0m.      Adjust the I and Q offsets until the LO peak dissapears.\n"
      ]
     },
     "metadata": {},
     "output_type": "display_data"
    },
    {
     "data": {
      "text/html": [
       "<pre style=\"white-space:pre;overflow-x:auto;line-height:normal;font-family:Menlo,'DejaVu Sans Mono',consolas,'Courier New',monospace\"><span style=\"color: #008080; text-decoration-color: #008080; font-weight: bold\">5</span>.      When only RSB is visible in the spectrum analyser, save the calibration with the last cell.\n",
       "</pre>\n"
      ],
      "text/plain": [
       "\u001b[1;36m5\u001b[0m.      When only RSB is visible in the spectrum analyser, save the calibration with the last cell.\n"
      ]
     },
     "metadata": {},
     "output_type": "display_data"
    },
    {
     "name": "stdout",
     "output_type": "stream",
     "text": [
      "6804000000\n"
     ]
    },
    {
     "data": {
      "application/vnd.jupyter.widget-view+json": {
       "model_id": "fe528f1e514b459489b810a53ba0e247",
       "version_major": 2,
       "version_minor": 0
      },
      "text/plain": [
       "interactive(children=(FloatSlider(value=0.0, description='offset_I', layout=Layout(width='95%'), max=25.0, min…"
      ]
     },
     "metadata": {},
     "output_type": "display_data"
    },
    {
     "data": {
      "application/vnd.jupyter.widget-view+json": {
       "model_id": "9d9be05b55fc4ecb884f9f8733ff273c",
       "version_major": 2,
       "version_minor": 0
      },
      "text/plain": [
       "interactive(children=(FloatSlider(value=0.0, description='offset_Q', layout=Layout(width='95%'), max=25.0, min…"
      ]
     },
     "metadata": {},
     "output_type": "display_data"
    },
    {
     "data": {
      "application/vnd.jupyter.widget-view+json": {
       "model_id": "962c15c16193413f9f83b3e63fb5cd00",
       "version_major": 2,
       "version_minor": 0
      },
      "text/plain": [
       "interactive(children=(FloatSlider(value=0.5, description='gain_ratio', layout=Layout(width='95%'), max=2.0, mi…"
      ]
     },
     "metadata": {},
     "output_type": "display_data"
    },
    {
     "data": {
      "application/vnd.jupyter.widget-view+json": {
       "model_id": "59824d77cd52412dbc3b13fc6267cf7a",
       "version_major": 2,
       "version_minor": 0
      },
      "text/plain": [
       "interactive(children=(FloatSlider(value=0.0, description='phase_offset', layout=Layout(width='95%'), max=45.0,…"
      ]
     },
     "metadata": {},
     "output_type": "display_data"
    },
    {
     "data": {
      "text/plain": [
       "<function __main__.set_phase_offset(phase_offset)>"
      ]
     },
     "execution_count": 201,
     "metadata": {},
     "output_type": "execute_result"
    }
   ],
   "source": [
    "rich.print(f\"1.\\tConnect complex output '{select_out.value}' of cluster '{device_name}' module '{module}' to a spectrum analyser.\")\n",
    "rich.print(f\"2.\\tIn the spectrum analyser, set the center frequency to {lo_frequency/1e9} GHz\")\n",
    "rich.print(f\"3.\\tAdjust the gain ratio and phase offset sliders until the LSB is gone.\")\n",
    "rich.print(f\"4.\\tAdjust the I and Q offsets until the LO peak dissapears.\")\n",
    "rich.print(f\"5.\\tWhen only RSB is visible in the spectrum analyser, save the calibration with the last cell.\")\n",
    "\n",
    "calibrated_values = [0,0,0.5,0] if seq.seq_idx == 0 else calibration.loc[len(calibration)-1][-4:].values.tolist() # storage array\n",
    "#calibrated_values = [-0.004462799999999999*1000, -0.0097599*1000, 0.9824, -5.3845]\n",
    "print(lo_frequency)\n",
    "def set_offset_I(offset_I):\n",
    "    if qxm.module_type.name == \"QRM\":\n",
    "        qxm.out0_offset_path0(offset_I) # qrm have only one output\n",
    "    else:\n",
    "        #print(f\"{select_out.value}_offset_path0\")\n",
    "        offset_path0 = getattr(qxm, f\"{select_out.value}_offset_path0\")\n",
    "        offset_path0(offset_I)\n",
    "\n",
    "    qxm.arm_sequencer(seq.seq_idx)\n",
    "    qxm.start_sequencer(seq.seq_idx)\n",
    "    calibrated_values[0] = offset_I\n",
    "\n",
    "def set_offset_Q(offset_Q):\n",
    "    if qxm.module_type.name == \"QRM\":\n",
    "        qxm.out0_offset_path1(offset_Q) # qrm have only one output\n",
    "    else:\n",
    "        offset_path1 = getattr(qxm, f\"{select_out.value}_offset_path1\")\n",
    "        offset_path1(offset_Q)\n",
    "        \n",
    "    qxm.arm_sequencer(seq.seq_idx)\n",
    "    qxm.start_sequencer(seq.seq_idx)\n",
    "    calibrated_values[1] = offset_Q\n",
    "\n",
    "def set_gain_ratio(gain_ratio):\n",
    "    seq.mixer_corr_gain_ratio(gain_ratio)\n",
    "    qxm.arm_sequencer(seq.seq_idx)\n",
    "    qxm.start_sequencer(seq.seq_idx)\n",
    "    calibrated_values[2] = gain_ratio\n",
    "\n",
    "def set_phase_offset(phase_offset):\n",
    "    seq.mixer_corr_phase_offset_degree(phase_offset)\n",
    "    qxm.arm_sequencer(seq.seq_idx)\n",
    "    qxm.start_sequencer(seq.seq_idx)\n",
    "    calibrated_values[3] = phase_offset\n",
    "\n",
    "interact(\n",
    "    set_offset_I, offset_I=widgets.FloatSlider(min=-25.0, max=25.0, step=0.0001, value=calibrated_values[0], readout_format='.4f', layout=widgets.Layout(width='95%' ))\n",
    ")\n",
    "interact(\n",
    "    set_offset_Q, offset_Q=widgets.FloatSlider(min=-25.0, max=25.0, step=0.0001, value=calibrated_values[1], readout_format='.4f', layout=widgets.Layout(width='95%' ))\n",
    ")\n",
    "interact(\n",
    "    set_gain_ratio,\n",
    "    gain_ratio=widgets.FloatSlider(min=0.5, max=2.0, step=0.0001, value=calibrated_values[2], readout_format='.4f', layout=widgets.Layout(width='95%' )),\n",
    ")\n",
    "interact(\n",
    "    set_phase_offset,\n",
    "    phase_offset=widgets.FloatSlider(min=-45.0, max=45.0, step=0.00001, value=calibrated_values[3], readout_format='.4f', layout=widgets.Layout(width='95%' )),\n",
    ")"
   ]
  },
  {
   "cell_type": "code",
   "execution_count": 202,
   "metadata": {
    "tags": []
   },
   "outputs": [
    {
     "data": {
      "text/html": [
       "<div>\n",
       "<style scoped>\n",
       "    .dataframe tbody tr th:only-of-type {\n",
       "        vertical-align: middle;\n",
       "    }\n",
       "\n",
       "    .dataframe tbody tr th {\n",
       "        vertical-align: top;\n",
       "    }\n",
       "\n",
       "    .dataframe thead th {\n",
       "        text-align: right;\n",
       "    }\n",
       "</style>\n",
       "<table border=\"1\" class=\"dataframe\">\n",
       "  <thead>\n",
       "    <tr style=\"text-align: right;\">\n",
       "      <th></th>\n",
       "      <th>module</th>\n",
       "      <th>complex_output</th>\n",
       "      <th>sequencer index</th>\n",
       "      <th>lo_freq (Hz)</th>\n",
       "      <th>if (Hz)</th>\n",
       "      <th>dc_mixer_offset_I</th>\n",
       "      <th>dc_mixer_offset_Q</th>\n",
       "      <th>mixer_amp_ratio</th>\n",
       "      <th>mixer_phase_error_deg</th>\n",
       "    </tr>\n",
       "  </thead>\n",
       "  <tbody>\n",
       "    <tr>\n",
       "      <th>0</th>\n",
       "      <td>module3</td>\n",
       "      <td>out0</td>\n",
       "      <td>0</td>\n",
       "      <td>4.837500e+09</td>\n",
       "      <td>-100000000.0</td>\n",
       "      <td>-10.1431</td>\n",
       "      <td>-10.6007</td>\n",
       "      <td>0.9751</td>\n",
       "      <td>-24.26763</td>\n",
       "    </tr>\n",
       "    <tr>\n",
       "      <th>1</th>\n",
       "      <td>module4</td>\n",
       "      <td>out0</td>\n",
       "      <td>0</td>\n",
       "      <td>5.146000e+09</td>\n",
       "      <td>-100000000.0</td>\n",
       "      <td>-11.4242</td>\n",
       "      <td>-5.0180</td>\n",
       "      <td>0.9805</td>\n",
       "      <td>-17.29633</td>\n",
       "    </tr>\n",
       "    <tr>\n",
       "      <th>2</th>\n",
       "      <td>module5</td>\n",
       "      <td>out0</td>\n",
       "      <td>0</td>\n",
       "      <td>4.400250e+09</td>\n",
       "      <td>-100000000.0</td>\n",
       "      <td>-4.6043</td>\n",
       "      <td>2.8827</td>\n",
       "      <td>0.9784</td>\n",
       "      <td>-18.85781</td>\n",
       "    </tr>\n",
       "    <tr>\n",
       "      <th>3</th>\n",
       "      <td>module6</td>\n",
       "      <td>out0</td>\n",
       "      <td>0</td>\n",
       "      <td>5.214750e+09</td>\n",
       "      <td>-100000000.0</td>\n",
       "      <td>-12.1181</td>\n",
       "      <td>-0.4186</td>\n",
       "      <td>0.9565</td>\n",
       "      <td>-12.61191</td>\n",
       "    </tr>\n",
       "    <tr>\n",
       "      <th>4</th>\n",
       "      <td>module7</td>\n",
       "      <td>out0</td>\n",
       "      <td>0</td>\n",
       "      <td>4.722750e+09</td>\n",
       "      <td>-100000000.0</td>\n",
       "      <td>-11.6910</td>\n",
       "      <td>-7.6339</td>\n",
       "      <td>0.9764</td>\n",
       "      <td>-25.34393</td>\n",
       "    </tr>\n",
       "    <tr>\n",
       "      <th>5</th>\n",
       "      <td>module8</td>\n",
       "      <td>out0</td>\n",
       "      <td>0</td>\n",
       "      <td>5.277167e+09</td>\n",
       "      <td>-100000000.0</td>\n",
       "      <td>-8.5414</td>\n",
       "      <td>-2.3489</td>\n",
       "      <td>0.9545</td>\n",
       "      <td>-21.62042</td>\n",
       "    </tr>\n",
       "    <tr>\n",
       "      <th>6</th>\n",
       "      <td>module9</td>\n",
       "      <td>out0</td>\n",
       "      <td>0</td>\n",
       "      <td>4.633500e+09</td>\n",
       "      <td>-100000000.0</td>\n",
       "      <td>-20.0189</td>\n",
       "      <td>-8.5023</td>\n",
       "      <td>0.9725</td>\n",
       "      <td>-23.90258</td>\n",
       "    </tr>\n",
       "    <tr>\n",
       "      <th>7</th>\n",
       "      <td>module10</td>\n",
       "      <td>out0</td>\n",
       "      <td>0</td>\n",
       "      <td>5.312750e+09</td>\n",
       "      <td>-100000000.0</td>\n",
       "      <td>-8.4079</td>\n",
       "      <td>-6.4061</td>\n",
       "      <td>0.9444</td>\n",
       "      <td>-23.06178</td>\n",
       "    </tr>\n",
       "    <tr>\n",
       "      <th>8</th>\n",
       "      <td>module16</td>\n",
       "      <td>out0</td>\n",
       "      <td>0</td>\n",
       "      <td>6.793000e+09</td>\n",
       "      <td>-100000000.0</td>\n",
       "      <td>-7.0733</td>\n",
       "      <td>0.7848</td>\n",
       "      <td>1.0046</td>\n",
       "      <td>9.96941</td>\n",
       "    </tr>\n",
       "    <tr>\n",
       "      <th>9</th>\n",
       "      <td>module17</td>\n",
       "      <td>out0</td>\n",
       "      <td>0</td>\n",
       "      <td>6.804000e+09</td>\n",
       "      <td>-100000000.0</td>\n",
       "      <td>-4.9380</td>\n",
       "      <td>1.7005</td>\n",
       "      <td>1.0305</td>\n",
       "      <td>4.20397</td>\n",
       "    </tr>\n",
       "  </tbody>\n",
       "</table>\n",
       "</div>"
      ],
      "text/plain": [
       "     module complex_output  sequencer index  lo_freq (Hz)      if (Hz)  \\\n",
       "0   module3           out0                0  4.837500e+09 -100000000.0   \n",
       "1   module4           out0                0  5.146000e+09 -100000000.0   \n",
       "2   module5           out0                0  4.400250e+09 -100000000.0   \n",
       "3   module6           out0                0  5.214750e+09 -100000000.0   \n",
       "4   module7           out0                0  4.722750e+09 -100000000.0   \n",
       "5   module8           out0                0  5.277167e+09 -100000000.0   \n",
       "6   module9           out0                0  4.633500e+09 -100000000.0   \n",
       "7  module10           out0                0  5.312750e+09 -100000000.0   \n",
       "8  module16           out0                0  6.793000e+09 -100000000.0   \n",
       "9  module17           out0                0  6.804000e+09 -100000000.0   \n",
       "\n",
       "   dc_mixer_offset_I  dc_mixer_offset_Q  mixer_amp_ratio  \\\n",
       "0           -10.1431           -10.6007           0.9751   \n",
       "1           -11.4242            -5.0180           0.9805   \n",
       "2            -4.6043             2.8827           0.9784   \n",
       "3           -12.1181            -0.4186           0.9565   \n",
       "4           -11.6910            -7.6339           0.9764   \n",
       "5            -8.5414            -2.3489           0.9545   \n",
       "6           -20.0189            -8.5023           0.9725   \n",
       "7            -8.4079            -6.4061           0.9444   \n",
       "8            -7.0733             0.7848           1.0046   \n",
       "9            -4.9380             1.7005           1.0305   \n",
       "\n",
       "   mixer_phase_error_deg  \n",
       "0              -24.26763  \n",
       "1              -17.29633  \n",
       "2              -18.85781  \n",
       "3              -12.61191  \n",
       "4              -25.34393  \n",
       "5              -21.62042  \n",
       "6              -23.90258  \n",
       "7              -23.06178  \n",
       "8                9.96941  \n",
       "9                4.20397  "
      ]
     },
     "execution_count": 202,
     "metadata": {},
     "output_type": "execute_result"
    }
   ],
   "source": [
    "calibration.loc[len(calibration)] = [module, select_out.value, seq.seq_idx, lo_frequency, MY_IF, *tuple(calibrated_values)]\n",
    "calibration"
   ]
  },
  {
   "cell_type": "code",
   "execution_count": 203,
   "metadata": {
    "tags": []
   },
   "outputs": [],
   "source": [
    "calibration.to_csv(\"mixercorrectionLokeB.csv\")"
   ]
  },
  {
   "cell_type": "code",
   "execution_count": 204,
   "metadata": {
    "tags": []
   },
   "outputs": [],
   "source": [
    "cluster.reset()"
   ]
  },
  {
   "cell_type": "code",
   "execution_count": 69,
   "metadata": {},
   "outputs": [
    {
     "data": {
      "text/plain": [
       "{2:     module complex_output  sequencer index  lo_freq (Hz)      if (Hz)  \\\n",
       " 0  module1           out0                0  4.250250e+09 -100000000.0   \n",
       " 1  module2           out0                0  5.416500e+09 -100000000.0   \n",
       " \n",
       "    dc_mixer_offset_I  dc_mixer_offset_Q  mixer_amp_ratio  \\\n",
       " 0            -7.2516             2.8716           0.9871   \n",
       " 1            -9.4730            -2.6162           0.9578   \n",
       " \n",
       "    mixer_phase_error_deg  \n",
       " 0              -21.58270  \n",
       " 1              -17.96838  ,\n",
       " 11: {'q16': 4250250000.0,\n",
       "  'q17': 5416500000.0,\n",
       "  'q18': 4837500000.0,\n",
       "  'q19': 5146000000.0,\n",
       "  'q20': 4400250000.0,\n",
       "  'q21': 5214750000.0,\n",
       "  'q22': 4722750000.0,\n",
       "  'q23': 5277166670.0,\n",
       "  'q24': 4633500000.0,\n",
       "  'q25': 5312750000.0},\n",
       " 17: <function __main__.set_phase_offset(phase_offset)>,\n",
       " 18: <function __main__.set_phase_offset(phase_offset)>,\n",
       " 23: {'q16': 4250250000.0,\n",
       "  'q17': 5416500000.0,\n",
       "  'q18': 4837500000.0,\n",
       "  'q19': 5146000000.0,\n",
       "  'q20': 4400250000.0,\n",
       "  'q21': 5214750000.0,\n",
       "  'q22': 4722750000.0,\n",
       "  'q23': 5277166670.0,\n",
       "  'q24': 4633500000.0,\n",
       "  'q25': 5312750000.0},\n",
       " 29: <function __main__.set_phase_offset(phase_offset)>,\n",
       " 30:     module complex_output  sequencer index  lo_freq (Hz)      if (Hz)  \\\n",
       " 0  module1           out0                0  4.250250e+09 -100000000.0   \n",
       " 1  module2           out0                0  5.416500e+09 -100000000.0   \n",
       " \n",
       "    dc_mixer_offset_I  dc_mixer_offset_Q  mixer_amp_ratio  \\\n",
       " 0            -7.2516             2.8716           0.9871   \n",
       " 1            -9.4730            -2.6162           0.9578   \n",
       " \n",
       "    mixer_phase_error_deg  \n",
       " 0              -21.58270  \n",
       " 1              -17.96838  ,\n",
       " 34: {'q16': 4250250000.0,\n",
       "  'q17': 5416500000.0,\n",
       "  'q18': 4837500000.0,\n",
       "  'q19': 5146000000.0,\n",
       "  'q20': 4400250000.0,\n",
       "  'q21': 5214750000.0,\n",
       "  'q22': 4722750000.0,\n",
       "  'q23': 5277166670.0,\n",
       "  'q24': 4633500000.0,\n",
       "  'q25': 5312750000.0},\n",
       " 39: <function __main__.set_phase_offset(phase_offset)>,\n",
       " 45: {'q16': 4250250000.0,\n",
       "  'q17': 5416500000.0,\n",
       "  'q18': 4837500000.0,\n",
       "  'q19': 5146000000.0,\n",
       "  'q20': 4400250000.0,\n",
       "  'q21': 5214750000.0,\n",
       "  'q22': 4722750000.0,\n",
       "  'q23': 5277166670.0,\n",
       "  'q24': 4633500000.0,\n",
       "  'q25': 5312750000.0},\n",
       " 50: <function __main__.set_phase_offset(phase_offset)>,\n",
       " 51:     module complex_output  sequencer index  lo_freq (Hz)      if (Hz)  \\\n",
       " 0  module1           out0                0  4.250250e+09 -100000000.0   \n",
       " 1  module2           out0                0  5.416500e+09 -100000000.0   \n",
       " \n",
       "    dc_mixer_offset_I  dc_mixer_offset_Q  mixer_amp_ratio  \\\n",
       " 0            -7.2516             2.8716           0.9871   \n",
       " 1            -9.4730            -2.6162           0.9578   \n",
       " \n",
       "    mixer_phase_error_deg  \n",
       " 0              -21.58270  \n",
       " 1              -17.96838  ,\n",
       " 53:     module complex_output  sequencer index  lo_freq (Hz)      if (Hz)  \\\n",
       " 0  module3           out0                0  4.837500e+09 -100000000.0   \n",
       " \n",
       "    dc_mixer_offset_I  dc_mixer_offset_Q  mixer_amp_ratio  \\\n",
       " 0           -10.1431           -10.6007           0.9751   \n",
       " \n",
       "    mixer_phase_error_deg  \n",
       " 0              -24.26763  ,\n",
       " 60: {'q16': 4250250000.0,\n",
       "  'q17': 5416500000.0,\n",
       "  'q18': 4837500000.0,\n",
       "  'q19': 5146000000.0,\n",
       "  'q20': 4400250000.0,\n",
       "  'q21': 5214750000.0,\n",
       "  'q22': 4722750000.0,\n",
       "  'q23': 5277166670.0,\n",
       "  'q24': 4633500000.0,\n",
       "  'q25': 5312750000.0},\n",
       " 65: <function __main__.set_phase_offset(phase_offset)>,\n",
       " 66:     module complex_output  sequencer index  lo_freq (Hz)      if (Hz)  \\\n",
       " 0  module3           out0                0  4.837500e+09 -100000000.0   \n",
       " \n",
       "    dc_mixer_offset_I  dc_mixer_offset_Q  mixer_amp_ratio  \\\n",
       " 0           -10.1431           -10.6007           0.9751   \n",
       " \n",
       "    mixer_phase_error_deg  \n",
       " 0              -24.26763  ,\n",
       " 67:     module complex_output  sequencer index  lo_freq (Hz)      if (Hz)  \\\n",
       " 0  module3           out0                0  4.837500e+09 -100000000.0   \n",
       " \n",
       "    dc_mixer_offset_I  dc_mixer_offset_Q  mixer_amp_ratio  \\\n",
       " 0           -10.1431           -10.6007           0.9751   \n",
       " \n",
       "    mixer_phase_error_deg  \n",
       " 0              -24.26763  }"
      ]
     },
     "execution_count": 69,
     "metadata": {},
     "output_type": "execute_result"
    }
   ],
   "source": [
    "Out"
   ]
  },
  {
   "cell_type": "code",
   "execution_count": 213,
   "metadata": {},
   "outputs": [
    {
     "name": "stdout",
     "output_type": "stream",
     "text": [
      "4837500000.0\n",
      "5146000000.0\n",
      "4400250000.0\n",
      "5214750000.0\n",
      "4722750000.0\n",
      "5277166670.0\n",
      "4633500000.0\n",
      "5312750000.0\n",
      "6793000000.0\n",
      "6804000000.0\n"
     ]
    },
    {
     "data": {
      "text/plain": [
       "[None, None, None, None, None, None, None, None, None, None]"
      ]
     },
     "execution_count": 213,
     "metadata": {},
     "output_type": "execute_result"
    }
   ],
   "source": [
    "[print(val) for val in calibration['lo_freq (Hz)'].values]"
   ]
  },
  {
   "cell_type": "code",
   "execution_count": 215,
   "metadata": {},
   "outputs": [
    {
     "name": "stdout",
     "output_type": "stream",
     "text": [
      "-0.010143099999999999\n",
      "-0.0114242\n",
      "-0.0046043\n",
      "-0.012118099999999998\n",
      "-0.011691\n",
      "-0.008541400000000001\n",
      "-0.0200189\n",
      "-0.008407899999999998\n",
      "-0.0070733\n",
      "-0.004937999999999999\n"
     ]
    },
    {
     "data": {
      "text/plain": [
       "[None, None, None, None, None, None, None, None, None, None]"
      ]
     },
     "execution_count": 215,
     "metadata": {},
     "output_type": "execute_result"
    }
   ],
   "source": [
    "[print(val*1e-3) for val in calibration['dc_mixer_offset_I'].values]"
   ]
  },
  {
   "cell_type": "code",
   "execution_count": 218,
   "metadata": {},
   "outputs": [
    {
     "name": "stdout",
     "output_type": "stream",
     "text": [
      "-0.0106007\n",
      "-0.0050180000000000025\n",
      "0.0028826999999999998\n",
      "-0.00041860000000000145\n",
      "-0.007633899999999999\n",
      "-0.0023489000000000006\n",
      "-0.008502299999999999\n",
      "-0.006406099999999999\n",
      "0.0007848000000000006\n",
      "0.0017005000000000017\n"
     ]
    },
    {
     "data": {
      "text/plain": [
       "[None, None, None, None, None, None, None, None, None, None]"
      ]
     },
     "execution_count": 218,
     "metadata": {},
     "output_type": "execute_result"
    }
   ],
   "source": [
    "[print(val*1e-3) for val in calibration['dc_mixer_offset_Q'].values]"
   ]
  },
  {
   "cell_type": "code",
   "execution_count": 222,
   "metadata": {},
   "outputs": [
    {
     "name": "stdout",
     "output_type": "stream",
     "text": [
      "0.9751000000000001\n",
      "0.9805000000000001\n",
      "0.9784\n",
      "0.9564999999999999\n",
      "0.9763999999999999\n",
      "0.9545\n",
      "0.9725000000000001\n",
      "0.9444000000000001\n",
      "1.0046\n",
      "1.0305\n"
     ]
    },
    {
     "data": {
      "text/plain": [
       "[None, None, None, None, None, None, None, None, None, None]"
      ]
     },
     "execution_count": 222,
     "metadata": {},
     "output_type": "execute_result"
    }
   ],
   "source": [
    "[print(val) for val in calibration['mixer_amp_ratio'].values]"
   ]
  },
  {
   "cell_type": "code",
   "execution_count": 223,
   "metadata": {},
   "outputs": [
    {
     "name": "stdout",
     "output_type": "stream",
     "text": [
      "-24.26763\n",
      "-17.296329999999998\n",
      "-18.85781\n",
      "-12.611909999999995\n",
      "-25.343929999999997\n",
      "-21.62042\n",
      "-23.902579999999997\n",
      "-23.06178\n",
      "9.969409999999996\n",
      "4.203970000000005\n"
     ]
    },
    {
     "data": {
      "text/plain": [
       "[None, None, None, None, None, None, None, None, None, None]"
      ]
     },
     "execution_count": 223,
     "metadata": {},
     "output_type": "execute_result"
    }
   ],
   "source": [
    "[print(val) for val in calibration['mixer_phase_error_deg'].values]"
   ]
  },
  {
   "cell_type": "code",
   "execution_count": 216,
   "metadata": {},
   "outputs": [
    {
     "data": {
      "text/plain": [
       "4250250000.0"
      ]
     },
     "execution_count": 216,
     "metadata": {},
     "output_type": "execute_result"
    }
   ],
   "source": [
    "4.250250e+09"
   ]
  },
  {
   "cell_type": "code",
   "execution_count": 217,
   "metadata": {},
   "outputs": [
    {
     "data": {
      "text/plain": [
       "5416500000.0"
      ]
     },
     "execution_count": 217,
     "metadata": {},
     "output_type": "execute_result"
    }
   ],
   "source": [
    "5.416500e+09"
   ]
  },
  {
   "cell_type": "code",
   "execution_count": null,
   "metadata": {},
   "outputs": [],
   "source": [
    "module complex_output  sequencer index  lo_freq (Hz)      if (Hz)  \\\n",
    " 0  module1           out0                0  4.250250e+09 -100000000.0   \n",
    " 1  module2           out0                0  5.416500e+09 -100000000.0   \n",
    " \n",
    "    dc_mixer_offset_I  dc_mixer_offset_Q  mixer_amp_ratio  \\\n",
    " 0            -7.2516             2.8716           0.9871   \n",
    " 1            -9.4730            -2.6162           0.9578  \n",
    "\n",
    "     mixer_phase_error_deg  \n",
    " 0              -21.58270  \n",
    " 1              -17.96838  ,"
   ]
  }
 ],
 "metadata": {
  "interpreter": {
   "hash": "31f2aee4e71d21fbe5cf8b01ff0e069b9275f58929596ceb00d14d90e3e16cd6"
  },
  "kernelspec": {
   "display_name": "Python 3 (ipykernel)",
   "language": "python",
   "name": "python3"
  },
  "language_info": {
   "codemirror_mode": {
    "name": "ipython",
    "version": 3
   },
   "file_extension": ".py",
   "mimetype": "text/x-python",
   "name": "python",
   "nbconvert_exporter": "python",
   "pygments_lexer": "ipython3",
   "version": "3.9.19"
  }
 },
 "nbformat": 4,
 "nbformat_minor": 4
}
