{
 "cells": [
  {
   "cell_type": "markdown",
   "metadata": {},
   "source": [
    "# Cabled Mixer Calibration"
   ]
  },
  {
   "cell_type": "markdown",
   "metadata": {},
   "source": [
    "The Cluster RF Modules (QCM-RF and QRM-RF) are equipped with integrated IQ mixers to perform up convert and downconvert RF signals. The output IQ mixers use a local oscillator (LO) with a frequency $\\omega_{LO}$ to upconvert signals from the I and Q paths of frequency $\\omega_{NCO}$ to output a signal at $\\omega_{LO} + \\omega_{NCO}$. However, since IQ mixers are inherently mathematically imperfect, the output also contains signal of frequency $\\omega_{LO}$ (called leakage) and $\\omega_{LO} - \\omega_{NCO}$ (undesired sideband). With the firmware version `v0.7.0`, Qblox provides the capability to calibrate the output mixers of the RF modules using an input channel of a QRM-RF to suppress the LO leakage and undesired sideband. This eliminates the need for an external instrument (such as a spectrum analyzer).\n",
    "\n",
    "Typical suppression of -35 dBc (compared to the desired sideband) up to 10 GHz can be achieved for inter module calibration.\n",
    "\n",
    "Before proceeding, please make sure you have the following requirements satisfied:\n",
    "\n",
    "#### Software Requirements\n",
    "1. Cluster firmware version : v0.7.0 \n",
    "2. `qblox-instruments` driver version : v0.12.0\n",
    "3. `cma` Python package is installed in your Python environment via `pip install cma`\n",
    "4. `mixer_calibration_utils.py` : This notebook assumes this file exists in the same directory as the notebook or is added to the Python import path accordingly. \n",
    "\n",
    "#### Hardware Requirements\n",
    "\n",
    "1. Please make sure that all the individual modules slots are occupied (either with the module or a metallic flowblocker provided during delivery).\n",
    "2. For each module and flowblocker, please tighten both the top screw and the bottom screw below the white clip to ensure effective grounding of the modules to the Cluster mainframe ground.  \n",
    "\n",
    "# Setup\n",
    "\n",
    "1. Please connect the output channel of a QCM-RF or a QRM-RF that you want to calibrate to a QRM-RF input channel via a RF cable. If you are calibrating a QRM-RF output channel, we recommend using the input channel of a different QRM-RF to achieve the typical suppression quoted above. It is possible to calibrate the output channel of a QRM-RF with its own input channel, however typical suppression is not guaranteed.\n",
    "2. You could use a directional coupler to split the output to your device under test and to the input of a QRM-RF. \n",
    "\n",
    "# Imports\n",
    "\n",
    "We import three functions from the `mixer_calibration_utils.py` :\n",
    "\n",
    "1. `calibrate_lo` : Function used to calibrate the LO leakage for a particular output.\n",
    "2. `calibrate_sideband` : Function used to calibrate the sideband leakage for a particular output and an associated sequencer with an NCO frequency.\n",
    "3. `mixer_cal` : Wrapper function which calls both the above functions to achieve a full calibration for a particular set of output and sequencer."
   ]
  },
  {
   "cell_type": "code",
   "execution_count": 1,
   "metadata": {},
   "outputs": [],
   "source": [
    "from mixer_calibration_utils import (\n",
    "    calibrate_lo,\n",
    "    calibrate_sideband,\n",
    "    mixer_cal,\n",
    ")"
   ]
  },
  {
   "cell_type": "markdown",
   "metadata": {},
   "source": [
    "# Connect to Instrument"
   ]
  },
  {
   "cell_type": "code",
   "execution_count": 2,
   "metadata": {},
   "outputs": [
    {
     "ename": "ConnectionRefusedError",
     "evalue": "[Errno 111] Connection refused",
     "output_type": "error",
     "traceback": [
      "\u001b[0;31m---------------------------------------------------------------------------\u001b[0m",
      "\u001b[0;31mConnectionRefusedError\u001b[0m                    Traceback (most recent call last)",
      "Cell \u001b[0;32mIn[2], line 5\u001b[0m\n\u001b[1;32m      1\u001b[0m \u001b[38;5;28;01mfrom\u001b[39;00m \u001b[38;5;21;01mqblox_instruments\u001b[39;00m \u001b[38;5;28;01mimport\u001b[39;00m Cluster, ClusterType\n\u001b[1;32m      3\u001b[0m ip_address \u001b[38;5;241m=\u001b[39m \u001b[38;5;124m\"\u001b[39m\u001b[38;5;124m192.0.2.72\u001b[39m\u001b[38;5;124m\"\u001b[39m \u001b[38;5;66;03m# \"192.168.0.2\"\u001b[39;00m\n\u001b[0;32m----> 5\u001b[0m cluster \u001b[38;5;241m=\u001b[39m \u001b[43mCluster\u001b[49m\u001b[43m(\u001b[49m\u001b[38;5;124;43m\"\u001b[39;49m\u001b[38;5;124;43mcluster\u001b[39;49m\u001b[38;5;124;43m\"\u001b[39;49m\u001b[43m,\u001b[49m\u001b[43m \u001b[49m\u001b[43midentifier\u001b[49m\u001b[38;5;241;43m=\u001b[39;49m\u001b[43mip_address\u001b[49m\u001b[43m)\u001b[49m\n\u001b[1;32m      7\u001b[0m cluster\u001b[38;5;241m.\u001b[39mreset()\n\u001b[1;32m      8\u001b[0m \u001b[38;5;66;03m# cluster.get_system_status()\u001b[39;00m\n",
      "File \u001b[0;32m~/miniforge3/envs/tac/lib/python3.9/site-packages/qcodes/instrument/instrument_meta.py:36\u001b[0m, in \u001b[0;36mInstrumentMeta.__call__\u001b[0;34m(cls, *args, **kwargs)\u001b[0m\n\u001b[1;32m     31\u001b[0m \u001b[38;5;28;01mdef\u001b[39;00m \u001b[38;5;21m__call__\u001b[39m(\u001b[38;5;28mcls\u001b[39m, \u001b[38;5;241m*\u001b[39margs: Any, \u001b[38;5;241m*\u001b[39m\u001b[38;5;241m*\u001b[39mkwargs: Any) \u001b[38;5;241m-\u001b[39m\u001b[38;5;241m>\u001b[39m Any:\n\u001b[1;32m     32\u001b[0m \u001b[38;5;250m    \u001b[39m\u001b[38;5;124;03m\"\"\"\u001b[39;00m\n\u001b[1;32m     33\u001b[0m \u001b[38;5;124;03m    Overloads `type.__call__` to add code that runs only if __init__ completes\u001b[39;00m\n\u001b[1;32m     34\u001b[0m \u001b[38;5;124;03m    successfully.\u001b[39;00m\n\u001b[1;32m     35\u001b[0m \u001b[38;5;124;03m    \"\"\"\u001b[39;00m\n\u001b[0;32m---> 36\u001b[0m     new_inst \u001b[38;5;241m=\u001b[39m \u001b[38;5;28;43msuper\u001b[39;49m\u001b[43m(\u001b[49m\u001b[43m)\u001b[49m\u001b[38;5;241;43m.\u001b[39;49m\u001b[38;5;21;43m__call__\u001b[39;49m\u001b[43m(\u001b[49m\u001b[38;5;241;43m*\u001b[39;49m\u001b[43margs\u001b[49m\u001b[43m,\u001b[49m\u001b[43m \u001b[49m\u001b[38;5;241;43m*\u001b[39;49m\u001b[38;5;241;43m*\u001b[39;49m\u001b[43mkwargs\u001b[49m\u001b[43m)\u001b[49m\n\u001b[1;32m     37\u001b[0m     is_abstract \u001b[38;5;241m=\u001b[39m new_inst\u001b[38;5;241m.\u001b[39m_is_abstract()\n\u001b[1;32m     38\u001b[0m     \u001b[38;5;28;01mif\u001b[39;00m is_abstract:\n",
      "File \u001b[0;32m~/miniforge3/envs/tac/lib/python3.9/site-packages/qblox_instruments/qcodes_drivers/cluster.py:69\u001b[0m, in \u001b[0;36mCluster.__init__\u001b[0;34m(self, name, identifier, port, debug, dummy_cfg)\u001b[0m\n\u001b[1;32m     67\u001b[0m \u001b[38;5;28;01mif\u001b[39;00m identifier \u001b[38;5;129;01mis\u001b[39;00m \u001b[38;5;28;01mNone\u001b[39;00m:\n\u001b[1;32m     68\u001b[0m     identifier \u001b[38;5;241m=\u001b[39m name\n\u001b[0;32m---> 69\u001b[0m \u001b[38;5;28;43msuper\u001b[39;49m\u001b[43m(\u001b[49m\u001b[43m)\u001b[49m\u001b[38;5;241;43m.\u001b[39;49m\u001b[38;5;21;43m__init__\u001b[39;49m\u001b[43m(\u001b[49m\u001b[43midentifier\u001b[49m\u001b[43m,\u001b[49m\u001b[43m \u001b[49m\u001b[43mport\u001b[49m\u001b[43m,\u001b[49m\u001b[43m \u001b[49m\u001b[43mdebug\u001b[49m\u001b[43m,\u001b[49m\u001b[43m \u001b[49m\u001b[43mdummy_cfg\u001b[49m\u001b[43m)\u001b[49m\n\u001b[1;32m     70\u001b[0m Instrument\u001b[38;5;241m.\u001b[39m\u001b[38;5;21m__init__\u001b[39m(\u001b[38;5;28mself\u001b[39m, name)\n\u001b[1;32m     72\u001b[0m \u001b[38;5;66;03m# Set number of slots\u001b[39;00m\n",
      "File \u001b[0;32m~/miniforge3/envs/tac/lib/python3.9/site-packages/qblox_instruments/native/cluster.py:97\u001b[0m, in \u001b[0;36mCluster.__init__\u001b[0;34m(self, identifier, port, debug, dummy_cfg)\u001b[0m\n\u001b[1;32m     95\u001b[0m \u001b[38;5;28;01mif\u001b[39;00m port \u001b[38;5;129;01mis\u001b[39;00m \u001b[38;5;28;01mNone\u001b[39;00m:\n\u001b[1;32m     96\u001b[0m     port \u001b[38;5;241m=\u001b[39m addr_info\u001b[38;5;241m.\u001b[39mscpi_port\n\u001b[0;32m---> 97\u001b[0m \u001b[38;5;28mself\u001b[39m\u001b[38;5;241m.\u001b[39m_transport \u001b[38;5;241m=\u001b[39m \u001b[43mIpTransport\u001b[49m\u001b[43m(\u001b[49m\u001b[43mhost\u001b[49m\u001b[38;5;241;43m=\u001b[39;49m\u001b[43mhost\u001b[49m\u001b[43m,\u001b[49m\u001b[43m \u001b[49m\u001b[43mport\u001b[49m\u001b[38;5;241;43m=\u001b[39;49m\u001b[43mport\u001b[49m\u001b[43m)\u001b[49m\n\u001b[1;32m     98\u001b[0m \u001b[38;5;28;01mif\u001b[39;00m debug \u001b[38;5;129;01mis\u001b[39;00m \u001b[38;5;28;01mNone\u001b[39;00m:\n\u001b[1;32m     99\u001b[0m     debug \u001b[38;5;241m=\u001b[39m \u001b[38;5;241m0\u001b[39m\n",
      "File \u001b[0;32m~/miniforge3/envs/tac/lib/python3.9/site-packages/qblox_instruments/ieee488_2/ip_transport.py:64\u001b[0m, in \u001b[0;36mIpTransport.__init__\u001b[0;34m(self, host, port, timeout, snd_buf_size)\u001b[0m\n\u001b[1;32m     62\u001b[0m \u001b[38;5;28mself\u001b[39m\u001b[38;5;241m.\u001b[39m_socket\u001b[38;5;241m.\u001b[39msetsockopt(socket\u001b[38;5;241m.\u001b[39mIPPROTO_TCP, socket\u001b[38;5;241m.\u001b[39mTCP_NODELAY, \u001b[38;5;241m1\u001b[39m)\n\u001b[1;32m     63\u001b[0m \u001b[38;5;28mself\u001b[39m\u001b[38;5;241m.\u001b[39m_set_keepalive()\n\u001b[0;32m---> 64\u001b[0m \u001b[38;5;28;43mself\u001b[39;49m\u001b[38;5;241;43m.\u001b[39;49m\u001b[43m_socket\u001b[49m\u001b[38;5;241;43m.\u001b[39;49m\u001b[43mconnect\u001b[49m\u001b[43m(\u001b[49m\u001b[43m(\u001b[49m\u001b[43mhost\u001b[49m\u001b[43m,\u001b[49m\u001b[43m \u001b[49m\u001b[43mport\u001b[49m\u001b[43m)\u001b[49m\u001b[43m)\u001b[49m\n\u001b[1;32m     66\u001b[0m \u001b[38;5;66;03m# Timeout after connecting\u001b[39;00m\n\u001b[1;32m     67\u001b[0m \u001b[38;5;28mself\u001b[39m\u001b[38;5;241m.\u001b[39m_socket\u001b[38;5;241m.\u001b[39msettimeout(timeout)\n",
      "\u001b[0;31mConnectionRefusedError\u001b[0m: [Errno 111] Connection refused"
     ]
    }
   ],
   "source": [
    "from qblox_instruments import Cluster, ClusterType\n",
    "\n",
    "ip_address = \"192.0.2.72\" # \"192.168.0.2\"\n",
    "\n",
    "cluster = Cluster(\"cluster\", identifier=ip_address)\n",
    "\n",
    "cluster.reset()\n",
    "# cluster.get_system_status()"
   ]
  },
  {
   "cell_type": "code",
   "execution_count": 3,
   "metadata": {},
   "outputs": [],
   "source": [
    "# cluster.reboot()"
   ]
  },
  {
   "cell_type": "markdown",
   "metadata": {},
   "source": [
    "# Calibration Procedure\n",
    "\n",
    "Choose the module whose output needs to be calibrated and the QRM-RF whose input channel is used."
   ]
  },
  {
   "cell_type": "code",
   "execution_count": 4,
   "metadata": {},
   "outputs": [],
   "source": [
    "output_module = cluster.module1\n",
    "input_module = cluster.module17"
   ]
  },
  {
   "cell_type": "markdown",
   "metadata": {},
   "source": [
    "## Setting Output Attenuation\n",
    "\n",
    "Before running the mixer calibration, ensure that there is 30 dB attenuation on the output. This can be achieved by setting `out{x}_att(30)` on the relevant output."
   ]
  },
  {
   "cell_type": "code",
   "execution_count": 5,
   "metadata": {},
   "outputs": [],
   "source": [
    "output_module.out0_att(30)"
   ]
  },
  {
   "cell_type": "markdown",
   "metadata": {},
   "source": [
    "## LO Leakage Calibration\n",
    "\n",
    "As mentioned above, we will use the function `calibrate_lo` to suppress the LO leakage. Please have a look at the docstring of this function in the `mixer_calibration_utils.py` file for descriptions of the keyword arguments.\n",
    "\n",
    "The `lo_freq` is used to set the LO frequency of the output channel and the `lo_mismatch` keyword argument is used to set the LO frequency of the input (QRM-RF) module. QRM-RF input LO frequency would be \n",
    "\n",
    "$\\omega_{LO_{QRM-RF}} = $ `lo_mismatch` $+ \\omega_{LO}$   \n",
    "\n",
    "The default LO mismatch of 77 MHz was chosen to avoid interference from common frequencies. However, you may change this if you have a 77 MHz signal that may interfere with the calibration.\n",
    "\n",
    "If the `lo_freq` is not given or is specified as `None`, the function will query the LO frequency from the `module.out{x}_lo_freq` for QCM-RF or `module.out0_in0_lo_freq()` for QRM-RF.    \n",
    "\n",
    "The mixer calibration parameters corresponding to the LO leakage suppresion namely `module.out{x}_offset_path0()`, `module.out{x}_offset_path1()`  are automatically set to the optimized values by the function.\n",
    "\n",
    "**PLEASE NOTE** : `calibrate_lo` uses the SYNQ network (`wait_sync` command). Therefore please ensure that `sync_en` is set to `False` for all the sequencers. We use the `cluster.reset()` command to achieve this."
   ]
  },
  {
   "cell_type": "code",
   "execution_count": 6,
   "metadata": {},
   "outputs": [],
   "source": [
    "cluster.reset()"
   ]
  },
  {
   "cell_type": "code",
   "execution_count": 7,
   "metadata": {},
   "outputs": [
    {
     "data": {
      "text/plain": [
       "{'q16': 4250250000.0,\n",
       " 'q17': 5416500000.0,\n",
       " 'q18': 4837500000.0,\n",
       " 'q19': 5146000000.0,\n",
       " 'q20': 4400250000.0,\n",
       " 'q21': 5214750000.0,\n",
       " 'q22': 4722750000.0,\n",
       " 'q23': 5277166670.0,\n",
       " 'q24': 4633500000.0,\n",
       " 'q25': 5312750000.0}"
      ]
     },
     "execution_count": 7,
     "metadata": {},
     "output_type": "execute_result"
    }
   ],
   "source": [
    "qubits = ['q16','q17','q18','q19','q20','q21','q22','q23','q24','q25']\n",
    "lo_list = [4.25025000e+09, 5.41650000e+09, 4.83750000e+09, 5.14600000e+09,\n",
    "       4.40025000e+09, 5.21475000e+09, 4.72275000e+09, 5.27716667e+09,\n",
    "       4.63350000e+09, 5.31275000e+09]\n",
    "qubit_lo = dict(zip(qubits, lo_list))\n",
    "qubit_lo"
   ]
  },
  {
   "cell_type": "code",
   "execution_count": 8,
   "metadata": {},
   "outputs": [
    {
     "ename": "RuntimeError",
     "evalue": "('\"Undefined header;SLOT17:LO:SH:ENA 1 \"', 'setting cluster_module1_out0_lo_en to True')",
     "output_type": "error",
     "traceback": [
      "\u001b[0;31m---------------------------------------------------------------------------\u001b[0m",
      "\u001b[0;31mRuntimeError\u001b[0m                              Traceback (most recent call last)",
      "Cell \u001b[0;32mIn[8], line 1\u001b[0m\n\u001b[0;32m----> 1\u001b[0m offset_I, offset_Q \u001b[38;5;241m=\u001b[39m \u001b[43mcalibrate_lo\u001b[49m\u001b[43m(\u001b[49m\n\u001b[1;32m      2\u001b[0m \u001b[43m    \u001b[49m\u001b[43mcal_module\u001b[49m\u001b[38;5;241;43m=\u001b[39;49m\u001b[43moutput_module\u001b[49m\u001b[43m,\u001b[49m\u001b[43m   \u001b[49m\u001b[38;5;66;43;03m# Module to calibrate\u001b[39;49;00m\n\u001b[1;32m      3\u001b[0m \u001b[43m    \u001b[49m\u001b[43mcal_output\u001b[49m\u001b[38;5;241;43m=\u001b[39;49m\u001b[38;5;241;43m0\u001b[39;49m\u001b[43m,\u001b[49m\u001b[43m                  \u001b[49m\u001b[38;5;66;43;03m# Output to calibrate\u001b[39;49;00m\n\u001b[1;32m      4\u001b[0m \u001b[43m    \u001b[49m\u001b[43minput_module\u001b[49m\u001b[38;5;241;43m=\u001b[39;49m\u001b[43minput_module\u001b[49m\u001b[43m,\u001b[49m\u001b[43m  \u001b[49m\u001b[38;5;66;43;03m# Module to use for measurement\u001b[39;49;00m\n\u001b[1;32m      5\u001b[0m \u001b[43m    \u001b[49m\u001b[43mlo_freq\u001b[49m\u001b[38;5;241;43m=\u001b[39;49m\u001b[38;5;28;43;01mNone\u001b[39;49;00m\u001b[43m,\u001b[49m\u001b[43m                \u001b[49m\u001b[38;5;66;43;03m# (Default `None`) LO frequency to calibrate. Omit or use `None` to get from hardware.\u001b[39;49;00m\n\u001b[1;32m      6\u001b[0m \u001b[43m    \u001b[49m\u001b[43minput_sequencer\u001b[49m\u001b[38;5;241;43m=\u001b[39;49m\u001b[38;5;241;43m0\u001b[39;49m\u001b[43m,\u001b[49m\u001b[43m             \u001b[49m\u001b[38;5;66;43;03m# (Default 0) One of two sequencers in the input module that should be used to calibrate.\u001b[39;49;00m\n\u001b[1;32m      7\u001b[0m \u001b[43m    \u001b[49m\u001b[43minput_sequencer2\u001b[49m\u001b[38;5;241;43m=\u001b[39;49m\u001b[38;5;241;43m1\u001b[39;49m\u001b[43m,\u001b[49m\u001b[43m            \u001b[49m\u001b[38;5;66;43;03m# (Default 1) The second of two sequencers in the input module that should be used to calibrate.\u001b[39;49;00m\n\u001b[1;32m      8\u001b[0m \u001b[43m    \u001b[49m\u001b[43mlo_mismatch\u001b[49m\u001b[38;5;241;43m=\u001b[39;49m\u001b[38;5;241;43m77e6\u001b[39;49m\u001b[43m,\u001b[49m\u001b[43m              \u001b[49m\u001b[38;5;66;43;03m# (Default 77e6) The difference between the LO of the `input module` and mixer that is being calibrated.\u001b[39;49;00m\n\u001b[1;32m      9\u001b[0m \u001b[43m    \u001b[49m\u001b[43mverbose\u001b[49m\u001b[38;5;241;43m=\u001b[39;49m\u001b[38;5;28;43;01mTrue\u001b[39;49;00m\u001b[43m,\u001b[49m\u001b[43m                  \u001b[49m\u001b[38;5;66;43;03m# (Default False) Displays the measurement results during calibration and optimal values after calibration.\u001b[39;49;00m\n\u001b[1;32m     10\u001b[0m \u001b[43m)\u001b[49m\n\u001b[1;32m     12\u001b[0m \u001b[38;5;28mprint\u001b[39m(\u001b[38;5;124mf\u001b[39m\u001b[38;5;124m\"\u001b[39m\u001b[38;5;124mBest DC offsets : \u001b[39m\u001b[38;5;132;01m{\u001b[39;00moffset_I\u001b[38;5;132;01m}\u001b[39;00m\u001b[38;5;124m, \u001b[39m\u001b[38;5;132;01m{\u001b[39;00moffset_Q\u001b[38;5;132;01m}\u001b[39;00m\u001b[38;5;124m\"\u001b[39m \u001b[38;5;241m+\u001b[39m \u001b[38;5;124m\"\u001b[39m\u001b[38;5;124m \u001b[39m\u001b[38;5;124m\"\u001b[39m\u001b[38;5;241m*\u001b[39m\u001b[38;5;241m100\u001b[39m)\n",
      "File \u001b[0;32m~/tergite-acl-lokic/tergite_acl/notebooks/mixer_calibration_utils.py:464\u001b[0m, in \u001b[0;36mcalibrate_lo\u001b[0;34m(cal_module, cal_output, input_module, lo_freq, input_sequencer, input_sequencer2, lo_mismatch, verbose)\u001b[0m\n\u001b[1;32m    420\u001b[0m \u001b[38;5;28;01mdef\u001b[39;00m \u001b[38;5;21mcalibrate_lo\u001b[39m(\n\u001b[1;32m    421\u001b[0m     cal_module,\n\u001b[1;32m    422\u001b[0m     cal_output,\n\u001b[0;32m   (...)\u001b[0m\n\u001b[1;32m    428\u001b[0m     verbose\u001b[38;5;241m=\u001b[39m\u001b[38;5;28;01mFalse\u001b[39;00m,\n\u001b[1;32m    429\u001b[0m ):\n\u001b[1;32m    430\u001b[0m \u001b[38;5;250m    \u001b[39m\u001b[38;5;124mr\u001b[39m\u001b[38;5;124;03m\"\"\"Suppress LO leakage.\u001b[39;00m\n\u001b[1;32m    431\u001b[0m \n\u001b[1;32m    432\u001b[0m \u001b[38;5;124;03m    Suppress LO leakage of the mixer in `cal_module` indexed by `cal_output`\u001b[39;00m\n\u001b[0;32m   (...)\u001b[0m\n\u001b[1;32m    462\u001b[0m \u001b[38;5;124;03m        The optimal DC offset Q.\u001b[39;00m\n\u001b[1;32m    463\u001b[0m \u001b[38;5;124;03m    \"\"\"\u001b[39;00m\n\u001b[0;32m--> 464\u001b[0m     \u001b[38;5;28;01mwith\u001b[39;00m _LeakageCalibrationContextManager(\n\u001b[1;32m    465\u001b[0m         lo_freq\u001b[38;5;241m=\u001b[39mlo_freq,\n\u001b[1;32m    466\u001b[0m         cal_module\u001b[38;5;241m=\u001b[39mcal_module,\n\u001b[1;32m    467\u001b[0m         cal_output\u001b[38;5;241m=\u001b[39mcal_output,\n\u001b[1;32m    468\u001b[0m         input_module\u001b[38;5;241m=\u001b[39minput_module,\n\u001b[1;32m    469\u001b[0m         input_sequencer\u001b[38;5;241m=\u001b[39minput_sequencer,\n\u001b[1;32m    470\u001b[0m         input_sequencer2\u001b[38;5;241m=\u001b[39minput_sequencer2,\n\u001b[1;32m    471\u001b[0m         lo_mismatch\u001b[38;5;241m=\u001b[39mlo_mismatch,\n\u001b[1;32m    472\u001b[0m         verbose\u001b[38;5;241m=\u001b[39mverbose,\n\u001b[1;32m    473\u001b[0m     ) \u001b[38;5;28;01mas\u001b[39;00m leakage:\n\u001b[1;32m    474\u001b[0m         cma_options \u001b[38;5;241m=\u001b[39m {\n\u001b[1;32m    475\u001b[0m             \u001b[38;5;124m\"\u001b[39m\u001b[38;5;124mbounds\u001b[39m\u001b[38;5;124m\"\u001b[39m: [(\u001b[38;5;241m-\u001b[39m\u001b[38;5;241m84.0\u001b[39m, \u001b[38;5;241m-\u001b[39m\u001b[38;5;241m84.0\u001b[39m), (\u001b[38;5;241m73.0\u001b[39m, \u001b[38;5;241m73.0\u001b[39m)],\n\u001b[1;32m    476\u001b[0m             \u001b[38;5;124m\"\u001b[39m\u001b[38;5;124mcma_stds\u001b[39m\u001b[38;5;124m\"\u001b[39m: [\u001b[38;5;241m5\u001b[39m, \u001b[38;5;241m5\u001b[39m],\n\u001b[0;32m   (...)\u001b[0m\n\u001b[1;32m    480\u001b[0m             \u001b[38;5;124m\"\u001b[39m\u001b[38;5;124mftarget\u001b[39m\u001b[38;5;124m\"\u001b[39m: \u001b[38;5;241m100\u001b[39m,\n\u001b[1;32m    481\u001b[0m         }\n\u001b[1;32m    483\u001b[0m         result_leakage \u001b[38;5;241m=\u001b[39m cma\u001b[38;5;241m.\u001b[39mfmin(\n\u001b[1;32m    484\u001b[0m             \u001b[38;5;28;01mNone\u001b[39;00m,\n\u001b[1;32m    485\u001b[0m             parallel_objective\u001b[38;5;241m=\u001b[39mleakage,\n\u001b[0;32m   (...)\u001b[0m\n\u001b[1;32m    488\u001b[0m             options\u001b[38;5;241m=\u001b[39mcma_options,\n\u001b[1;32m    489\u001b[0m         )\n",
      "File \u001b[0;32m~/tergite-acl-lokic/tergite_acl/notebooks/mixer_calibration_utils.py:104\u001b[0m, in \u001b[0;36m_LeakageCalibrationContextManager.__enter__\u001b[0;34m(self)\u001b[0m\n\u001b[1;32m     99\u001b[0m \u001b[38;5;28;01melse\u001b[39;00m:\n\u001b[1;32m    100\u001b[0m     \u001b[38;5;28mself\u001b[39m\u001b[38;5;241m.\u001b[39minput_module\u001b[38;5;241m.\u001b[39mparent\u001b[38;5;241m.\u001b[39m_write(\n\u001b[1;32m    101\u001b[0m         \u001b[38;5;124mf\u001b[39m\u001b[38;5;124m\"\u001b[39m\u001b[38;5;124mSLOT\u001b[39m\u001b[38;5;132;01m{\u001b[39;00m\u001b[38;5;28mself\u001b[39m\u001b[38;5;241m.\u001b[39minput_module\u001b[38;5;241m.\u001b[39m_slot_idx\u001b[38;5;132;01m}\u001b[39;00m\u001b[38;5;124m:LO:SH:ENA 1\u001b[39m\u001b[38;5;124m\"\u001b[39m\n\u001b[1;32m    102\u001b[0m     )\n\u001b[0;32m--> 104\u001b[0m     \u001b[43mout_lo_enable_param\u001b[49m\u001b[43m(\u001b[49m\u001b[38;5;28;43;01mTrue\u001b[39;49;00m\u001b[43m)\u001b[49m\n\u001b[1;32m    105\u001b[0m     \u001b[38;5;28mself\u001b[39m\u001b[38;5;241m.\u001b[39minput_module\u001b[38;5;241m.\u001b[39mout0_in0_lo_freq(\u001b[38;5;28mself\u001b[39m\u001b[38;5;241m.\u001b[39mlo_freq \u001b[38;5;241m+\u001b[39m \u001b[38;5;28mself\u001b[39m\u001b[38;5;241m.\u001b[39mlo_mismatch)\n\u001b[1;32m    106\u001b[0m \u001b[38;5;28mself\u001b[39m\u001b[38;5;241m.\u001b[39minput_module\u001b[38;5;241m.\u001b[39mout0_in0_lo_en(\u001b[38;5;28;01mTrue\u001b[39;00m)\n",
      "File \u001b[0;32m~/miniforge3/envs/tac/lib/python3.9/site-packages/qcodes/parameters/parameter_base.py:375\u001b[0m, in \u001b[0;36mParameterBase.__call__\u001b[0;34m(self, *args, **kwargs)\u001b[0m\n\u001b[1;32m    373\u001b[0m \u001b[38;5;28;01melse\u001b[39;00m:\n\u001b[1;32m    374\u001b[0m     \u001b[38;5;28;01mif\u001b[39;00m \u001b[38;5;28mself\u001b[39m\u001b[38;5;241m.\u001b[39msettable:\n\u001b[0;32m--> 375\u001b[0m         \u001b[38;5;28;43mself\u001b[39;49m\u001b[38;5;241;43m.\u001b[39;49m\u001b[43mset\u001b[49m\u001b[43m(\u001b[49m\u001b[38;5;241;43m*\u001b[39;49m\u001b[43margs\u001b[49m\u001b[43m,\u001b[49m\u001b[43m \u001b[49m\u001b[38;5;241;43m*\u001b[39;49m\u001b[38;5;241;43m*\u001b[39;49m\u001b[43mkwargs\u001b[49m\u001b[43m)\u001b[49m\n\u001b[1;32m    376\u001b[0m         \u001b[38;5;28;01mreturn\u001b[39;00m \u001b[38;5;28;01mNone\u001b[39;00m\n\u001b[1;32m    377\u001b[0m     \u001b[38;5;28;01melse\u001b[39;00m:\n",
      "File \u001b[0;32m~/miniforge3/envs/tac/lib/python3.9/site-packages/qcodes/parameters/parameter_base.py:638\u001b[0m, in \u001b[0;36mParameterBase._wrap_set.<locals>.set_wrapper\u001b[0;34m(value, **kwargs)\u001b[0m\n\u001b[1;32m    636\u001b[0m \u001b[38;5;28;01mexcept\u001b[39;00m \u001b[38;5;167;01mException\u001b[39;00m \u001b[38;5;28;01mas\u001b[39;00m e:\n\u001b[1;32m    637\u001b[0m     e\u001b[38;5;241m.\u001b[39margs \u001b[38;5;241m=\u001b[39m e\u001b[38;5;241m.\u001b[39margs \u001b[38;5;241m+\u001b[39m (\u001b[38;5;124mf\u001b[39m\u001b[38;5;124m\"\u001b[39m\u001b[38;5;124msetting \u001b[39m\u001b[38;5;132;01m{\u001b[39;00m\u001b[38;5;28mself\u001b[39m\u001b[38;5;132;01m}\u001b[39;00m\u001b[38;5;124m to \u001b[39m\u001b[38;5;132;01m{\u001b[39;00mvalue\u001b[38;5;132;01m}\u001b[39;00m\u001b[38;5;124m\"\u001b[39m,)\n\u001b[0;32m--> 638\u001b[0m     \u001b[38;5;28;01mraise\u001b[39;00m e\n",
      "File \u001b[0;32m~/miniforge3/envs/tac/lib/python3.9/site-packages/qcodes/parameters/parameter_base.py:623\u001b[0m, in \u001b[0;36mParameterBase._wrap_set.<locals>.set_wrapper\u001b[0;34m(value, **kwargs)\u001b[0m\n\u001b[1;32m    620\u001b[0m \u001b[38;5;66;03m# Start timer to measure execution time of set_function\u001b[39;00m\n\u001b[1;32m    621\u001b[0m t0 \u001b[38;5;241m=\u001b[39m time\u001b[38;5;241m.\u001b[39mperf_counter()\n\u001b[0;32m--> 623\u001b[0m \u001b[43mset_function\u001b[49m\u001b[43m(\u001b[49m\u001b[43mraw_val_step\u001b[49m\u001b[43m,\u001b[49m\u001b[43m \u001b[49m\u001b[38;5;241;43m*\u001b[39;49m\u001b[38;5;241;43m*\u001b[39;49m\u001b[43mkwargs\u001b[49m\u001b[43m)\u001b[49m\n\u001b[1;32m    625\u001b[0m \u001b[38;5;66;03m# Update last set time (used for calculating delays)\u001b[39;00m\n\u001b[1;32m    626\u001b[0m \u001b[38;5;28mself\u001b[39m\u001b[38;5;241m.\u001b[39m_t_last_set \u001b[38;5;241m=\u001b[39m time\u001b[38;5;241m.\u001b[39mperf_counter()\n",
      "File \u001b[0;32m~/miniforge3/envs/tac/lib/python3.9/site-packages/qcodes/parameters/command.py:209\u001b[0m, in \u001b[0;36mCommand.__call__\u001b[0;34m(self, *args)\u001b[0m\n\u001b[1;32m    207\u001b[0m \u001b[38;5;28;01mif\u001b[39;00m \u001b[38;5;28mlen\u001b[39m(args) \u001b[38;5;241m!=\u001b[39m \u001b[38;5;28mself\u001b[39m\u001b[38;5;241m.\u001b[39marg_count:\n\u001b[1;32m    208\u001b[0m     \u001b[38;5;28;01mraise\u001b[39;00m \u001b[38;5;167;01mTypeError\u001b[39;00m(\u001b[38;5;124mf\u001b[39m\u001b[38;5;124m\"\u001b[39m\u001b[38;5;124mcommand takes exactly \u001b[39m\u001b[38;5;132;01m{\u001b[39;00m\u001b[38;5;28mself\u001b[39m\u001b[38;5;241m.\u001b[39marg_count\u001b[38;5;132;01m}\u001b[39;00m\u001b[38;5;124m args\u001b[39m\u001b[38;5;124m\"\u001b[39m)\n\u001b[0;32m--> 209\u001b[0m \u001b[38;5;28;01mreturn\u001b[39;00m \u001b[38;5;28;43mself\u001b[39;49m\u001b[38;5;241;43m.\u001b[39;49m\u001b[43mexec_function\u001b[49m\u001b[43m(\u001b[49m\u001b[38;5;241;43m*\u001b[39;49m\u001b[43margs\u001b[49m\u001b[43m)\u001b[49m\n",
      "File \u001b[0;32m~/miniforge3/envs/tac/lib/python3.9/site-packages/qblox_instruments/scpi/cluster.py:56\u001b[0m, in \u001b[0;36mscpi_error_check.<locals>.decorator_wrapper\u001b[0;34m(*args, **kwargs)\u001b[0m\n\u001b[1;32m     54\u001b[0m     args[\u001b[38;5;241m0\u001b[39m]\u001b[38;5;241m.\u001b[39m_check_error_queue(err)\n\u001b[1;32m     55\u001b[0m \u001b[38;5;28;01mfinally\u001b[39;00m:\n\u001b[0;32m---> 56\u001b[0m     \u001b[43margs\u001b[49m\u001b[43m[\u001b[49m\u001b[38;5;241;43m0\u001b[39;49m\u001b[43m]\u001b[49m\u001b[38;5;241;43m.\u001b[39;49m\u001b[43m_check_error_queue\u001b[49m\u001b[43m(\u001b[49m\u001b[43m)\u001b[49m\n",
      "File \u001b[0;32m~/miniforge3/envs/tac/lib/python3.9/site-packages/qblox_instruments/scpi/cluster.py:6168\u001b[0m, in \u001b[0;36mCluster._check_error_queue\u001b[0;34m(self, err)\u001b[0m\n\u001b[1;32m   6166\u001b[0m \u001b[38;5;28;01melse\u001b[39;00m:\n\u001b[1;32m   6167\u001b[0m     err_type \u001b[38;5;241m=\u001b[39m \u001b[38;5;167;01mRuntimeError\u001b[39;00m\n\u001b[0;32m-> 6168\u001b[0m \u001b[38;5;28;01mraise\u001b[39;00m err_type(\u001b[38;5;124m'\u001b[39m\u001b[38;5;130;01m\\n\u001b[39;00m\u001b[38;5;124m'\u001b[39m\u001b[38;5;241m.\u001b[39mjoin(errors))\u001b[38;5;241m.\u001b[39mwith_traceback(sys\u001b[38;5;241m.\u001b[39mexc_info()[\u001b[38;5;241m2\u001b[39m]) \u001b[38;5;28;01mfrom\u001b[39;00m \u001b[38;5;28;01mNone\u001b[39;00m\n",
      "\u001b[0;31mRuntimeError\u001b[0m: ('\"Undefined header;SLOT17:LO:SH:ENA 1 \"', 'setting cluster_module1_out0_lo_en to True')"
     ]
    }
   ],
   "source": [
    "offset_I, offset_Q = calibrate_lo(\n",
    "    cal_module=output_module,   # Module to calibrate\n",
    "    cal_output=0,                  # Output to calibrate\n",
    "    input_module=input_module,  # Module to use for measurement\n",
    "    lo_freq=None,                # (Default `None`) LO frequency to calibrate. Omit or use `None` to get from hardware.\n",
    "    input_sequencer=0,             # (Default 0) One of two sequencers in the input module that should be used to calibrate.\n",
    "    input_sequencer2=1,            # (Default 1) The second of two sequencers in the input module that should be used to calibrate.\n",
    "    lo_mismatch=77e6,              # (Default 77e6) The difference between the LO of the `input module` and mixer that is being calibrated.\n",
    "    verbose=True,                  # (Default False) Displays the measurement results during calibration and optimal values after calibration.\n",
    ")\n",
    "\n",
    "print(f\"Best DC offsets : {offset_I}, {offset_Q}\" + \" \"*100)"
   ]
  },
  {
   "cell_type": "markdown",
   "metadata": {},
   "source": [
    "## Undesired Sideband Suppression\n",
    "\n",
    "As mentioned in the Imports section, we will use the function `calibrate_sideband` to suppress the undesired sideband. Please have a look at the docstring of this function in the `mixer_calibration_utils.py` file for descriptions of the keyword arguments.\n",
    "\n",
    "Please make sure that the value of `cal_sequencer` is different from the `input_sequencer` and `input_sequencer2` since the former is the sequencer that will be calibrated and the latter two sequencers will be used to calibrate the `cal_sequencer`.\n",
    "\n",
    "The `cal_freq` is the total frequency $\\omega_{LO} + \\omega_{NCO}$ of the output signal. If specified, the function will query the LO frequency from the `module.out{x}_lo_freq` for QCM-RF or `module.out0_in0_lo_freq()` for QRM-RF and set the NCO frequency as the difference of the `cal_freq` and LO frequency.\n",
    "\n",
    "If `cal_freq` is not specified or is `None`, $\\omega_{NCO}$ is retrieved from the `cal_sequencer`.\n",
    "\n",
    "Please follow the same rule when setting the `lo_mismatch` value as in `calibrate_lo`.  \n",
    "\n",
    "The mixer calibration parameters corresponding to the undesired sideband suppresion namely `module.sequencer{x}.mixer_corr_gain_ratio()`, `module.sequencer{x}.mixer_corr_phase_offset_degree()`  are automatically set to the optimized values by the function."
   ]
  },
  {
   "cell_type": "code",
   "execution_count": null,
   "metadata": {},
   "outputs": [],
   "source": [
    "amp_ratio, phase_offset = calibrate_sideband(\n",
    "    cal_module=output_module,   # Module to calibrate\n",
    "    cal_output=0,                  # Output to calibrate\n",
    "    input_module=input_module,  # Module to use for measurement\n",
    "    cal_freq=4.422661e9,           # (Default `None`) Desired sideband frequency to calibrate. Omit or use `None` to get from hardware.\n",
    "    cal_sequencer=2,               # (Default 2) One of two sequencers in the input module that should be used to calibrate.\n",
    "    input_sequencer=0,             # (Default 0) One of two sequencers in the input module that should be used to calibrate.\n",
    "    input_sequencer2=1,            # (Default 1) The second of two sequencers in the input module that should be used to calibrate.\n",
    "    lo_mismatch=77e6,              # (Default 77e6) The difference between the LO of the `input module` and mixer that is being calibrated.\n",
    "    verbose=True,                  # (Default False) Displays the measurement results during calibration and optimal values after calibration.\n",
    ")\n",
    "\n",
    "print(f\"Best amplitude ratio and phase offset : {amp_ratio}, {phase_offset}\" + \" \"*100)"
   ]
  },
  {
   "cell_type": "markdown",
   "metadata": {},
   "source": [
    "## Wrapper Function for Full Mixer Calibration\n",
    "\n",
    "Using the convenience function `mixer_calibration_utils.mixer_cal` one can calibrate the LO leakage and suppress the undesired sideband together. The keyword arguments for this are the same as for the respective arguments of  `calibrate_lo` and `calibrate_sideband`."
   ]
  },
  {
   "cell_type": "code",
   "execution_count": 9,
   "metadata": {},
   "outputs": [],
   "source": [
    "#Reset cluster to disable sync_en()\n",
    "cluster.reset() "
   ]
  },
  {
   "cell_type": "code",
   "execution_count": 10,
   "metadata": {},
   "outputs": [
    {
     "ename": "RuntimeError",
     "evalue": "('\"Undefined header;SLOT17:LO:SH:ENA 1 \"', 'setting cluster_module1_out0_lo_en to True')",
     "output_type": "error",
     "traceback": [
      "\u001b[0;31m---------------------------------------------------------------------------\u001b[0m",
      "\u001b[0;31mRuntimeError\u001b[0m                              Traceback (most recent call last)",
      "Cell \u001b[0;32mIn[10], line 1\u001b[0m\n\u001b[0;32m----> 1\u001b[0m offset_I, offset_Q, amp_ratio, phase_offset \u001b[38;5;241m=\u001b[39m \u001b[43mmixer_cal\u001b[49m\u001b[43m(\u001b[49m\n\u001b[1;32m      2\u001b[0m \u001b[43m    \u001b[49m\u001b[43mcal_module\u001b[49m\u001b[38;5;241;43m=\u001b[39;49m\u001b[43mcluster\u001b[49m\u001b[38;5;241;43m.\u001b[39;49m\u001b[43mmodule1\u001b[49m\u001b[43m,\u001b[49m\n\u001b[1;32m      3\u001b[0m \u001b[43m    \u001b[49m\u001b[43mcal_output\u001b[49m\u001b[38;5;241;43m=\u001b[39;49m\u001b[38;5;241;43m0\u001b[39;49m\u001b[43m,\u001b[49m\n\u001b[1;32m      4\u001b[0m \u001b[43m    \u001b[49m\u001b[43minput_module\u001b[49m\u001b[38;5;241;43m=\u001b[39;49m\u001b[43mcluster\u001b[49m\u001b[38;5;241;43m.\u001b[39;49m\u001b[43mmodule17\u001b[49m\u001b[43m,\u001b[49m\n\u001b[1;32m      5\u001b[0m \u001b[43m)\u001b[49m\n\u001b[1;32m      7\u001b[0m \u001b[38;5;28mprint\u001b[39m(\u001b[38;5;124mf\u001b[39m\u001b[38;5;124m\"\u001b[39m\u001b[38;5;124mBest DC offsets : \u001b[39m\u001b[38;5;132;01m{\u001b[39;00moffset_I\u001b[38;5;132;01m}\u001b[39;00m\u001b[38;5;124m, \u001b[39m\u001b[38;5;132;01m{\u001b[39;00moffset_Q\u001b[38;5;132;01m}\u001b[39;00m\u001b[38;5;124m\"\u001b[39m \u001b[38;5;241m+\u001b[39m \u001b[38;5;124m\"\u001b[39m\u001b[38;5;124m \u001b[39m\u001b[38;5;124m\"\u001b[39m\u001b[38;5;241m*\u001b[39m\u001b[38;5;241m100\u001b[39m)\n\u001b[1;32m      8\u001b[0m \u001b[38;5;28mprint\u001b[39m(\u001b[38;5;124mf\u001b[39m\u001b[38;5;124m\"\u001b[39m\u001b[38;5;124mBest amplitude ratio and phase offset : \u001b[39m\u001b[38;5;132;01m{\u001b[39;00mamp_ratio\u001b[38;5;132;01m}\u001b[39;00m\u001b[38;5;124m, \u001b[39m\u001b[38;5;132;01m{\u001b[39;00mphase_offset\u001b[38;5;132;01m}\u001b[39;00m\u001b[38;5;124m\"\u001b[39m \u001b[38;5;241m+\u001b[39m \u001b[38;5;124m\"\u001b[39m\u001b[38;5;124m \u001b[39m\u001b[38;5;124m\"\u001b[39m\u001b[38;5;241m*\u001b[39m\u001b[38;5;241m100\u001b[39m)\n",
      "File \u001b[0;32m~/tergite-acl-lokic/tergite_acl/notebooks/mixer_calibration_utils.py:648\u001b[0m, in \u001b[0;36mmixer_cal\u001b[0;34m(cal_module, cal_output, input_module, cal_freq, lo_freq, cal_sequencer, input_sequencer, input_sequencer2, lo_mismatch, verbose)\u001b[0m\n\u001b[1;32m    588\u001b[0m \u001b[38;5;28;01mdef\u001b[39;00m \u001b[38;5;21mmixer_cal\u001b[39m(\n\u001b[1;32m    589\u001b[0m     cal_module,\n\u001b[1;32m    590\u001b[0m     cal_output,\n\u001b[0;32m   (...)\u001b[0m\n\u001b[1;32m    598\u001b[0m     verbose\u001b[38;5;241m=\u001b[39m\u001b[38;5;28;01mFalse\u001b[39;00m,\n\u001b[1;32m    599\u001b[0m ):\n\u001b[1;32m    600\u001b[0m \u001b[38;5;250m    \u001b[39m\u001b[38;5;124mr\u001b[39m\u001b[38;5;124;03m\"\"\"Calibrate to suppress both the LO leakage and the undesired sideband.\u001b[39;00m\n\u001b[1;32m    601\u001b[0m \n\u001b[1;32m    602\u001b[0m \u001b[38;5;124;03m    Calibrate DC offset I, DC offset Q, amplitude ratio and phase offset\u001b[39;00m\n\u001b[0;32m   (...)\u001b[0m\n\u001b[1;32m    645\u001b[0m \u001b[38;5;124;03m        The optimal phase offset.\u001b[39;00m\n\u001b[1;32m    646\u001b[0m \u001b[38;5;124;03m    \"\"\"\u001b[39;00m\n\u001b[0;32m--> 648\u001b[0m     offset_I, offset_Q \u001b[38;5;241m=\u001b[39m \u001b[43mcalibrate_lo\u001b[49m\u001b[43m(\u001b[49m\n\u001b[1;32m    649\u001b[0m \u001b[43m        \u001b[49m\u001b[43mlo_freq\u001b[49m\u001b[38;5;241;43m=\u001b[39;49m\u001b[43mlo_freq\u001b[49m\u001b[43m,\u001b[49m\n\u001b[1;32m    650\u001b[0m \u001b[43m        \u001b[49m\u001b[43mcal_module\u001b[49m\u001b[38;5;241;43m=\u001b[39;49m\u001b[43mcal_module\u001b[49m\u001b[43m,\u001b[49m\n\u001b[1;32m    651\u001b[0m \u001b[43m        \u001b[49m\u001b[43mcal_output\u001b[49m\u001b[38;5;241;43m=\u001b[39;49m\u001b[43mcal_output\u001b[49m\u001b[43m,\u001b[49m\n\u001b[1;32m    652\u001b[0m \u001b[43m        \u001b[49m\u001b[43minput_module\u001b[49m\u001b[38;5;241;43m=\u001b[39;49m\u001b[43minput_module\u001b[49m\u001b[43m,\u001b[49m\n\u001b[1;32m    653\u001b[0m \u001b[43m        \u001b[49m\u001b[43minput_sequencer\u001b[49m\u001b[38;5;241;43m=\u001b[39;49m\u001b[43minput_sequencer\u001b[49m\u001b[43m,\u001b[49m\n\u001b[1;32m    654\u001b[0m \u001b[43m        \u001b[49m\u001b[43minput_sequencer2\u001b[49m\u001b[38;5;241;43m=\u001b[39;49m\u001b[43minput_sequencer2\u001b[49m\u001b[43m,\u001b[49m\n\u001b[1;32m    655\u001b[0m \u001b[43m        \u001b[49m\u001b[43mlo_mismatch\u001b[49m\u001b[38;5;241;43m=\u001b[39;49m\u001b[43mlo_mismatch\u001b[49m\u001b[43m,\u001b[49m\n\u001b[1;32m    656\u001b[0m \u001b[43m        \u001b[49m\u001b[43mverbose\u001b[49m\u001b[38;5;241;43m=\u001b[39;49m\u001b[43mverbose\u001b[49m\u001b[43m,\u001b[49m\n\u001b[1;32m    657\u001b[0m \u001b[43m    \u001b[49m\u001b[43m)\u001b[49m\n\u001b[1;32m    659\u001b[0m     amp_ratio, phase_offset \u001b[38;5;241m=\u001b[39m calibrate_sideband(\n\u001b[1;32m    660\u001b[0m         cal_freq\u001b[38;5;241m=\u001b[39mcal_freq,\n\u001b[1;32m    661\u001b[0m         cal_module\u001b[38;5;241m=\u001b[39mcal_module,\n\u001b[0;32m   (...)\u001b[0m\n\u001b[1;32m    668\u001b[0m         verbose\u001b[38;5;241m=\u001b[39mverbose,\n\u001b[1;32m    669\u001b[0m     )\n\u001b[1;32m    671\u001b[0m     \u001b[38;5;28;01mif\u001b[39;00m verbose:\n",
      "File \u001b[0;32m~/tergite-acl-lokic/tergite_acl/notebooks/mixer_calibration_utils.py:464\u001b[0m, in \u001b[0;36mcalibrate_lo\u001b[0;34m(cal_module, cal_output, input_module, lo_freq, input_sequencer, input_sequencer2, lo_mismatch, verbose)\u001b[0m\n\u001b[1;32m    420\u001b[0m \u001b[38;5;28;01mdef\u001b[39;00m \u001b[38;5;21mcalibrate_lo\u001b[39m(\n\u001b[1;32m    421\u001b[0m     cal_module,\n\u001b[1;32m    422\u001b[0m     cal_output,\n\u001b[0;32m   (...)\u001b[0m\n\u001b[1;32m    428\u001b[0m     verbose\u001b[38;5;241m=\u001b[39m\u001b[38;5;28;01mFalse\u001b[39;00m,\n\u001b[1;32m    429\u001b[0m ):\n\u001b[1;32m    430\u001b[0m \u001b[38;5;250m    \u001b[39m\u001b[38;5;124mr\u001b[39m\u001b[38;5;124;03m\"\"\"Suppress LO leakage.\u001b[39;00m\n\u001b[1;32m    431\u001b[0m \n\u001b[1;32m    432\u001b[0m \u001b[38;5;124;03m    Suppress LO leakage of the mixer in `cal_module` indexed by `cal_output`\u001b[39;00m\n\u001b[0;32m   (...)\u001b[0m\n\u001b[1;32m    462\u001b[0m \u001b[38;5;124;03m        The optimal DC offset Q.\u001b[39;00m\n\u001b[1;32m    463\u001b[0m \u001b[38;5;124;03m    \"\"\"\u001b[39;00m\n\u001b[0;32m--> 464\u001b[0m     \u001b[38;5;28;01mwith\u001b[39;00m _LeakageCalibrationContextManager(\n\u001b[1;32m    465\u001b[0m         lo_freq\u001b[38;5;241m=\u001b[39mlo_freq,\n\u001b[1;32m    466\u001b[0m         cal_module\u001b[38;5;241m=\u001b[39mcal_module,\n\u001b[1;32m    467\u001b[0m         cal_output\u001b[38;5;241m=\u001b[39mcal_output,\n\u001b[1;32m    468\u001b[0m         input_module\u001b[38;5;241m=\u001b[39minput_module,\n\u001b[1;32m    469\u001b[0m         input_sequencer\u001b[38;5;241m=\u001b[39minput_sequencer,\n\u001b[1;32m    470\u001b[0m         input_sequencer2\u001b[38;5;241m=\u001b[39minput_sequencer2,\n\u001b[1;32m    471\u001b[0m         lo_mismatch\u001b[38;5;241m=\u001b[39mlo_mismatch,\n\u001b[1;32m    472\u001b[0m         verbose\u001b[38;5;241m=\u001b[39mverbose,\n\u001b[1;32m    473\u001b[0m     ) \u001b[38;5;28;01mas\u001b[39;00m leakage:\n\u001b[1;32m    474\u001b[0m         cma_options \u001b[38;5;241m=\u001b[39m {\n\u001b[1;32m    475\u001b[0m             \u001b[38;5;124m\"\u001b[39m\u001b[38;5;124mbounds\u001b[39m\u001b[38;5;124m\"\u001b[39m: [(\u001b[38;5;241m-\u001b[39m\u001b[38;5;241m84.0\u001b[39m, \u001b[38;5;241m-\u001b[39m\u001b[38;5;241m84.0\u001b[39m), (\u001b[38;5;241m73.0\u001b[39m, \u001b[38;5;241m73.0\u001b[39m)],\n\u001b[1;32m    476\u001b[0m             \u001b[38;5;124m\"\u001b[39m\u001b[38;5;124mcma_stds\u001b[39m\u001b[38;5;124m\"\u001b[39m: [\u001b[38;5;241m5\u001b[39m, \u001b[38;5;241m5\u001b[39m],\n\u001b[0;32m   (...)\u001b[0m\n\u001b[1;32m    480\u001b[0m             \u001b[38;5;124m\"\u001b[39m\u001b[38;5;124mftarget\u001b[39m\u001b[38;5;124m\"\u001b[39m: \u001b[38;5;241m100\u001b[39m,\n\u001b[1;32m    481\u001b[0m         }\n\u001b[1;32m    483\u001b[0m         result_leakage \u001b[38;5;241m=\u001b[39m cma\u001b[38;5;241m.\u001b[39mfmin(\n\u001b[1;32m    484\u001b[0m             \u001b[38;5;28;01mNone\u001b[39;00m,\n\u001b[1;32m    485\u001b[0m             parallel_objective\u001b[38;5;241m=\u001b[39mleakage,\n\u001b[0;32m   (...)\u001b[0m\n\u001b[1;32m    488\u001b[0m             options\u001b[38;5;241m=\u001b[39mcma_options,\n\u001b[1;32m    489\u001b[0m         )\n",
      "File \u001b[0;32m~/tergite-acl-lokic/tergite_acl/notebooks/mixer_calibration_utils.py:104\u001b[0m, in \u001b[0;36m_LeakageCalibrationContextManager.__enter__\u001b[0;34m(self)\u001b[0m\n\u001b[1;32m     99\u001b[0m \u001b[38;5;28;01melse\u001b[39;00m:\n\u001b[1;32m    100\u001b[0m     \u001b[38;5;28mself\u001b[39m\u001b[38;5;241m.\u001b[39minput_module\u001b[38;5;241m.\u001b[39mparent\u001b[38;5;241m.\u001b[39m_write(\n\u001b[1;32m    101\u001b[0m         \u001b[38;5;124mf\u001b[39m\u001b[38;5;124m\"\u001b[39m\u001b[38;5;124mSLOT\u001b[39m\u001b[38;5;132;01m{\u001b[39;00m\u001b[38;5;28mself\u001b[39m\u001b[38;5;241m.\u001b[39minput_module\u001b[38;5;241m.\u001b[39m_slot_idx\u001b[38;5;132;01m}\u001b[39;00m\u001b[38;5;124m:LO:SH:ENA 1\u001b[39m\u001b[38;5;124m\"\u001b[39m\n\u001b[1;32m    102\u001b[0m     )\n\u001b[0;32m--> 104\u001b[0m     \u001b[43mout_lo_enable_param\u001b[49m\u001b[43m(\u001b[49m\u001b[38;5;28;43;01mTrue\u001b[39;49;00m\u001b[43m)\u001b[49m\n\u001b[1;32m    105\u001b[0m     \u001b[38;5;28mself\u001b[39m\u001b[38;5;241m.\u001b[39minput_module\u001b[38;5;241m.\u001b[39mout0_in0_lo_freq(\u001b[38;5;28mself\u001b[39m\u001b[38;5;241m.\u001b[39mlo_freq \u001b[38;5;241m+\u001b[39m \u001b[38;5;28mself\u001b[39m\u001b[38;5;241m.\u001b[39mlo_mismatch)\n\u001b[1;32m    106\u001b[0m \u001b[38;5;28mself\u001b[39m\u001b[38;5;241m.\u001b[39minput_module\u001b[38;5;241m.\u001b[39mout0_in0_lo_en(\u001b[38;5;28;01mTrue\u001b[39;00m)\n",
      "File \u001b[0;32m~/miniforge3/envs/tac/lib/python3.9/site-packages/qcodes/parameters/parameter_base.py:375\u001b[0m, in \u001b[0;36mParameterBase.__call__\u001b[0;34m(self, *args, **kwargs)\u001b[0m\n\u001b[1;32m    373\u001b[0m \u001b[38;5;28;01melse\u001b[39;00m:\n\u001b[1;32m    374\u001b[0m     \u001b[38;5;28;01mif\u001b[39;00m \u001b[38;5;28mself\u001b[39m\u001b[38;5;241m.\u001b[39msettable:\n\u001b[0;32m--> 375\u001b[0m         \u001b[38;5;28;43mself\u001b[39;49m\u001b[38;5;241;43m.\u001b[39;49m\u001b[43mset\u001b[49m\u001b[43m(\u001b[49m\u001b[38;5;241;43m*\u001b[39;49m\u001b[43margs\u001b[49m\u001b[43m,\u001b[49m\u001b[43m \u001b[49m\u001b[38;5;241;43m*\u001b[39;49m\u001b[38;5;241;43m*\u001b[39;49m\u001b[43mkwargs\u001b[49m\u001b[43m)\u001b[49m\n\u001b[1;32m    376\u001b[0m         \u001b[38;5;28;01mreturn\u001b[39;00m \u001b[38;5;28;01mNone\u001b[39;00m\n\u001b[1;32m    377\u001b[0m     \u001b[38;5;28;01melse\u001b[39;00m:\n",
      "File \u001b[0;32m~/miniforge3/envs/tac/lib/python3.9/site-packages/qcodes/parameters/parameter_base.py:638\u001b[0m, in \u001b[0;36mParameterBase._wrap_set.<locals>.set_wrapper\u001b[0;34m(value, **kwargs)\u001b[0m\n\u001b[1;32m    636\u001b[0m \u001b[38;5;28;01mexcept\u001b[39;00m \u001b[38;5;167;01mException\u001b[39;00m \u001b[38;5;28;01mas\u001b[39;00m e:\n\u001b[1;32m    637\u001b[0m     e\u001b[38;5;241m.\u001b[39margs \u001b[38;5;241m=\u001b[39m e\u001b[38;5;241m.\u001b[39margs \u001b[38;5;241m+\u001b[39m (\u001b[38;5;124mf\u001b[39m\u001b[38;5;124m\"\u001b[39m\u001b[38;5;124msetting \u001b[39m\u001b[38;5;132;01m{\u001b[39;00m\u001b[38;5;28mself\u001b[39m\u001b[38;5;132;01m}\u001b[39;00m\u001b[38;5;124m to \u001b[39m\u001b[38;5;132;01m{\u001b[39;00mvalue\u001b[38;5;132;01m}\u001b[39;00m\u001b[38;5;124m\"\u001b[39m,)\n\u001b[0;32m--> 638\u001b[0m     \u001b[38;5;28;01mraise\u001b[39;00m e\n",
      "File \u001b[0;32m~/miniforge3/envs/tac/lib/python3.9/site-packages/qcodes/parameters/parameter_base.py:623\u001b[0m, in \u001b[0;36mParameterBase._wrap_set.<locals>.set_wrapper\u001b[0;34m(value, **kwargs)\u001b[0m\n\u001b[1;32m    620\u001b[0m \u001b[38;5;66;03m# Start timer to measure execution time of set_function\u001b[39;00m\n\u001b[1;32m    621\u001b[0m t0 \u001b[38;5;241m=\u001b[39m time\u001b[38;5;241m.\u001b[39mperf_counter()\n\u001b[0;32m--> 623\u001b[0m \u001b[43mset_function\u001b[49m\u001b[43m(\u001b[49m\u001b[43mraw_val_step\u001b[49m\u001b[43m,\u001b[49m\u001b[43m \u001b[49m\u001b[38;5;241;43m*\u001b[39;49m\u001b[38;5;241;43m*\u001b[39;49m\u001b[43mkwargs\u001b[49m\u001b[43m)\u001b[49m\n\u001b[1;32m    625\u001b[0m \u001b[38;5;66;03m# Update last set time (used for calculating delays)\u001b[39;00m\n\u001b[1;32m    626\u001b[0m \u001b[38;5;28mself\u001b[39m\u001b[38;5;241m.\u001b[39m_t_last_set \u001b[38;5;241m=\u001b[39m time\u001b[38;5;241m.\u001b[39mperf_counter()\n",
      "File \u001b[0;32m~/miniforge3/envs/tac/lib/python3.9/site-packages/qcodes/parameters/command.py:209\u001b[0m, in \u001b[0;36mCommand.__call__\u001b[0;34m(self, *args)\u001b[0m\n\u001b[1;32m    207\u001b[0m \u001b[38;5;28;01mif\u001b[39;00m \u001b[38;5;28mlen\u001b[39m(args) \u001b[38;5;241m!=\u001b[39m \u001b[38;5;28mself\u001b[39m\u001b[38;5;241m.\u001b[39marg_count:\n\u001b[1;32m    208\u001b[0m     \u001b[38;5;28;01mraise\u001b[39;00m \u001b[38;5;167;01mTypeError\u001b[39;00m(\u001b[38;5;124mf\u001b[39m\u001b[38;5;124m\"\u001b[39m\u001b[38;5;124mcommand takes exactly \u001b[39m\u001b[38;5;132;01m{\u001b[39;00m\u001b[38;5;28mself\u001b[39m\u001b[38;5;241m.\u001b[39marg_count\u001b[38;5;132;01m}\u001b[39;00m\u001b[38;5;124m args\u001b[39m\u001b[38;5;124m\"\u001b[39m)\n\u001b[0;32m--> 209\u001b[0m \u001b[38;5;28;01mreturn\u001b[39;00m \u001b[38;5;28;43mself\u001b[39;49m\u001b[38;5;241;43m.\u001b[39;49m\u001b[43mexec_function\u001b[49m\u001b[43m(\u001b[49m\u001b[38;5;241;43m*\u001b[39;49m\u001b[43margs\u001b[49m\u001b[43m)\u001b[49m\n",
      "File \u001b[0;32m~/miniforge3/envs/tac/lib/python3.9/site-packages/qblox_instruments/scpi/cluster.py:56\u001b[0m, in \u001b[0;36mscpi_error_check.<locals>.decorator_wrapper\u001b[0;34m(*args, **kwargs)\u001b[0m\n\u001b[1;32m     54\u001b[0m     args[\u001b[38;5;241m0\u001b[39m]\u001b[38;5;241m.\u001b[39m_check_error_queue(err)\n\u001b[1;32m     55\u001b[0m \u001b[38;5;28;01mfinally\u001b[39;00m:\n\u001b[0;32m---> 56\u001b[0m     \u001b[43margs\u001b[49m\u001b[43m[\u001b[49m\u001b[38;5;241;43m0\u001b[39;49m\u001b[43m]\u001b[49m\u001b[38;5;241;43m.\u001b[39;49m\u001b[43m_check_error_queue\u001b[49m\u001b[43m(\u001b[49m\u001b[43m)\u001b[49m\n",
      "File \u001b[0;32m~/miniforge3/envs/tac/lib/python3.9/site-packages/qblox_instruments/scpi/cluster.py:6168\u001b[0m, in \u001b[0;36mCluster._check_error_queue\u001b[0;34m(self, err)\u001b[0m\n\u001b[1;32m   6166\u001b[0m \u001b[38;5;28;01melse\u001b[39;00m:\n\u001b[1;32m   6167\u001b[0m     err_type \u001b[38;5;241m=\u001b[39m \u001b[38;5;167;01mRuntimeError\u001b[39;00m\n\u001b[0;32m-> 6168\u001b[0m \u001b[38;5;28;01mraise\u001b[39;00m err_type(\u001b[38;5;124m'\u001b[39m\u001b[38;5;130;01m\\n\u001b[39;00m\u001b[38;5;124m'\u001b[39m\u001b[38;5;241m.\u001b[39mjoin(errors))\u001b[38;5;241m.\u001b[39mwith_traceback(sys\u001b[38;5;241m.\u001b[39mexc_info()[\u001b[38;5;241m2\u001b[39m]) \u001b[38;5;28;01mfrom\u001b[39;00m \u001b[38;5;28;01mNone\u001b[39;00m\n",
      "\u001b[0;31mRuntimeError\u001b[0m: ('\"Undefined header;SLOT17:LO:SH:ENA 1 \"', 'setting cluster_module1_out0_lo_en to True')"
     ]
    }
   ],
   "source": [
    "offset_I, offset_Q, amp_ratio, phase_offset = mixer_cal(\n",
    "    cal_module=cluster.module1,\n",
    "    cal_output=0,\n",
    "    input_module=cluster.module17,\n",
    ")\n",
    "\n",
    "print(f\"Best DC offsets : {offset_I}, {offset_Q}\" + \" \"*100)\n",
    "print(f\"Best amplitude ratio and phase offset : {amp_ratio}, {phase_offset}\" + \" \"*100)"
   ]
  },
  {
   "cell_type": "code",
   "execution_count": null,
   "metadata": {},
   "outputs": [],
   "source": [
    "# stop all sequencers and close the cluster connection \n",
    "cluster.stop_sequencer()\n",
    "cluster.close()"
   ]
  }
 ],
 "metadata": {
  "kernelspec": {
   "display_name": "Python 3 (ipykernel)",
   "language": "python",
   "name": "python3"
  },
  "language_info": {
   "codemirror_mode": {
    "name": "ipython",
    "version": 3
   },
   "file_extension": ".py",
   "mimetype": "text/x-python",
   "name": "python",
   "nbconvert_exporter": "python",
   "pygments_lexer": "ipython3",
   "version": "3.9.19"
  }
 },
 "nbformat": 4,
 "nbformat_minor": 4
}
