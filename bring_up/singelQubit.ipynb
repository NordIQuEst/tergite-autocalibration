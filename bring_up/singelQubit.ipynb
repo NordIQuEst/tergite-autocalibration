{
 "cells": [
  {
   "cell_type": "code",
   "execution_count": 1,
   "metadata": {},
   "outputs": [],
   "source": [
    "# The basic routines to bring up single qubit using Quantify\n",
    "# @authors Tong Liu\n",
    "\n",
    "# import tools in quantify\n",
    "from quantify_core.data import handling as dh\n",
    "from quantify_core.measurement.control import MeasurementControl\n",
    "from quantify_scheduler.instrument_coordinator import InstrumentCoordinator\n",
    "from quantify_scheduler.device_under_test.quantum_device import QuantumDevice\n",
    "\n",
    "measc = MeasurementControl(\"measurement_control\")\n",
    "insc = InstrumentCoordinator(\"instrument_coordinator\")"
   ]
  },
  {
   "cell_type": "code",
   "execution_count": 2,
   "metadata": {},
   "outputs": [
    {
     "name": "stdout",
     "output_type": "stream",
     "text": [
      "The current data saving path is  /home/loki-a/tergite-autocalibration-lite/bring_up/bring_up_data\n"
     ]
    }
   ],
   "source": [
    "# cd to dataset path\n",
    "from pathlib import Path\n",
    "\n",
    "dataset_path = Path(\"./bring_up_data/\")\n",
    "dh.set_datadir(str(dataset_path.absolute()))\n",
    "print(\"The current data saving path is \", dh.get_datadir())"
   ]
  },
  {
   "cell_type": "code",
   "execution_count": 3,
   "metadata": {},
   "outputs": [],
   "source": [
    "# load registry parameters stored in redis and toml\n",
    "import redis\n",
    "import toml\n",
    "redis_connection = redis.Redis(decode_responses=True)\n",
    "\n",
    "# wiring\n",
    "from load_wiring import get_device"
   ]
  },
  {
   "cell_type": "code",
   "execution_count": 4,
   "metadata": {},
   "outputs": [],
   "source": [
    "qubits = [\"q16\"]\n",
    "device, transmons = get_device(qubits)"
   ]
  },
  {
   "cell_type": "code",
   "execution_count": 12,
   "metadata": {},
   "outputs": [
    {
     "data": {
      "text/plain": [
       "DeviceCompilationConfig(backend=<function _compile_circuit_to_device at 0x7f59eb93e040>, clocks={'q16.01': 3189058870.808564, 'q16.12': 2993433333.3333335, 'q16.ro': 6488699022.244046, 'q16.ro1': 6489340000.0, 'q16.ro_opt': 6489651754.385965}, elements={'q16': {'reset': OperationCompilationConfig(factory_func=<class 'quantify_scheduler.operations.pulse_library.IdlePulse'>, factory_kwargs={'duration': 6e-05}, gate_info_factory_kwargs=None), 'Rxy': OperationCompilationConfig(factory_func=<function rxy_drag_pulse at 0x7f59eb7b5f70>, factory_kwargs={'amp180': 0.14056793611531268, 'motzoi': -0.2, 'port': 'q16:mw', 'clock': 'q16.01', 'duration': 2e-08, 'reference_magnitude': None}, gate_info_factory_kwargs=['theta', 'phi']), 'Rz': OperationCompilationConfig(factory_func=<function phase_shift at 0x7f5a4aca75e0>, factory_kwargs={'clock': 'q16.01'}, gate_info_factory_kwargs=['theta']), 'measure': OperationCompilationConfig(factory_func=<function dispersive_measurement at 0x7f59eb93e1f0>, factory_kwargs={'port': 'q16:res', 'clock': 'q16.ro', 'pulse_type': 'SquarePulse', 'pulse_amp': 0.2, 'pulse_duration': 3e-06, 'acq_delay': 2e-07, 'acq_duration': 2.5e-06, 'acq_channel': 0, 'acq_protocol_default': 'SSBIntegrationComplex', 'reset_clock_phase': True, 'reference_magnitude': None, 'acq_weights_a': None, 'acq_weights_b': None, 'acq_weights_sampling_rate': None, 'acq_rotation': 0, 'acq_threshold': 0}, gate_info_factory_kwargs=['acq_index', 'bin_mode', 'acq_protocol']), 'measure_1': OperationCompilationConfig(factory_func=<function dispersive_measurement at 0x7f59eb93e1f0>, factory_kwargs={'port': 'q16:res', 'clock': 'q16.ro1', 'pulse_type': 'SquarePulse', 'pulse_amp': 0.2, 'pulse_duration': 3e-06, 'acq_delay': 2e-07, 'acq_duration': 2.5e-06, 'acq_channel': 0, 'acq_protocol_default': 'SSBIntegrationComplex', 'reset_clock_phase': True, 'reference_magnitude': None, 'acq_weights_a': None, 'acq_weights_b': None, 'acq_weights_sampling_rate': None}, gate_info_factory_kwargs=['acq_index', 'bin_mode', 'acq_protocol']), 'measure_opt': OperationCompilationConfig(factory_func=<function dispersive_measurement at 0x7f59eb93e1f0>, factory_kwargs={'port': 'q16:res', 'clock': 'q16.ro_opt', 'pulse_type': 'SquarePulse', 'pulse_amp': 0.2, 'pulse_duration': 3e-06, 'acq_delay': 2e-07, 'acq_duration': 2.5e-06, 'acq_channel': 0, 'acq_protocol_default': 'SSBIntegrationComplex', 'reset_clock_phase': True, 'reference_magnitude': None, 'acq_weights_a': None, 'acq_weights_b': None, 'acq_weights_sampling_rate': None}, gate_info_factory_kwargs=['acq_index', 'bin_mode', 'acq_protocol']), 'r12': OperationCompilationConfig(factory_func=<function rxy_drag_pulse at 0x7f59eb7b5f70>, factory_kwargs={'ef_amp180': 0.07211113393507988, 'port': 'q16:mw', 'clock': 'q16.12'}, gate_info_factory_kwargs=['theta', 'phi']), 'spec': OperationCompilationConfig(factory_func=<function rxy_drag_pulse at 0x7f59eb7b5f70>, factory_kwargs={'spec_amp': 0.0003, 'spec_duration': 5e-06}, gate_info_factory_kwargs=['theta', 'phi'])}}, edges={}, scheduling_strategy='asap')"
      ]
     },
     "execution_count": 12,
     "metadata": {},
     "output_type": "execute_result"
    }
   ],
   "source": [
    "device.generate_device_config()"
   ]
  },
  {
   "cell_type": "code",
   "execution_count": null,
   "metadata": {},
   "outputs": [
    {
     "data": {
      "text/plain": [
       "'./bring_up_data/'"
      ]
     },
     "execution_count": 7,
     "metadata": {},
     "output_type": "execute_result"
    }
   ],
   "source": [
    "s.config = ['q16']\n",
    "\n",
    "# Device parameters\n",
    "ACQ_DELAY = 100e-9\n",
    "FREQ_01 = 4e9\n",
    "READOUT_AMP = 0.1\n",
    "READOUT_FREQ = 4.3e9\n",
    "PI_PULSE_AMP = 0.15\n",
    "LO_FREQ_QUBIT = 3.9e9\n",
    "LO_FREQ_READOUT = 4.5e9"
   ]
  },
  {
   "cell_type": "code",
   "execution_count": null,
   "metadata": {},
   "outputs": [],
   "source": [
    "from quantify_scheduler.device_under_test.quantum_device import QuantumDevice\n",
    "from quantify_scheduler.device_under_test.transmon_element import BasicTransmonElement"
   ]
  }
 ],
 "metadata": {
  "kernelspec": {
   "display_name": "tac",
   "language": "python",
   "name": "python3"
  },
  "language_info": {
   "codemirror_mode": {
    "name": "ipython",
    "version": 3
   },
   "file_extension": ".py",
   "mimetype": "text/x-python",
   "name": "python",
   "nbconvert_exporter": "python",
   "pygments_lexer": "ipython3",
   "version": "3.9.17"
  }
 },
 "nbformat": 4,
 "nbformat_minor": 2
}
