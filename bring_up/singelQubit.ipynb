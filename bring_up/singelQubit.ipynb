{
 "cells": [
  {
   "cell_type": "code",
   "execution_count": 21,
   "metadata": {},
   "outputs": [
    {
     "ename": "KeyError",
     "evalue": "'Another instrument has the name: measurement_control'",
     "output_type": "error",
     "traceback": [
      "\u001b[1;31m---------------------------------------------------------------------------\u001b[0m",
      "\u001b[1;31mKeyError\u001b[0m                                  Traceback (most recent call last)",
      "Cell \u001b[1;32mIn[21], line 10\u001b[0m\n\u001b[0;32m      7\u001b[0m \u001b[38;5;28;01mfrom\u001b[39;00m \u001b[38;5;21;01mquantify_scheduler\u001b[39;00m\u001b[38;5;21;01m.\u001b[39;00m\u001b[38;5;21;01minstrument_coordinator\u001b[39;00m \u001b[38;5;28;01mimport\u001b[39;00m InstrumentCoordinator\n\u001b[0;32m      8\u001b[0m \u001b[38;5;28;01mfrom\u001b[39;00m \u001b[38;5;21;01mquantify_scheduler\u001b[39;00m\u001b[38;5;21;01m.\u001b[39;00m\u001b[38;5;21;01mdevice_under_test\u001b[39;00m\u001b[38;5;21;01m.\u001b[39;00m\u001b[38;5;21;01mquantum_device\u001b[39;00m \u001b[38;5;28;01mimport\u001b[39;00m QuantumDevice\n\u001b[1;32m---> 10\u001b[0m measc \u001b[38;5;241m=\u001b[39m \u001b[43mMeasurementControl\u001b[49m\u001b[43m(\u001b[49m\u001b[38;5;124;43m\"\u001b[39;49m\u001b[38;5;124;43mmeasurement_control\u001b[39;49m\u001b[38;5;124;43m\"\u001b[39;49m\u001b[43m)\u001b[49m\n\u001b[0;32m     11\u001b[0m insc \u001b[38;5;241m=\u001b[39m InstrumentCoordinator(\u001b[38;5;124m\"\u001b[39m\u001b[38;5;124minstrument_coordinator\u001b[39m\u001b[38;5;124m\"\u001b[39m)\n",
      "File \u001b[1;32mc:\\Users\\liuto\\AppData\\Local\\miniconda3\\envs\\tergite\\lib\\site-packages\\qcodes\\instrument\\instrument_meta.py:45\u001b[0m, in \u001b[0;36mInstrumentMeta.__call__\u001b[1;34m(cls, *args, **kwargs)\u001b[0m\n\u001b[0;32m     39\u001b[0m     new_inst\u001b[38;5;241m.\u001b[39mclose()\n\u001b[0;32m     40\u001b[0m     \u001b[38;5;28;01mraise\u001b[39;00m \u001b[38;5;167;01mNotImplementedError\u001b[39;00m(\n\u001b[0;32m     41\u001b[0m         \u001b[38;5;124mf\u001b[39m\u001b[38;5;124m\"\u001b[39m\u001b[38;5;132;01m{\u001b[39;00mnew_inst\u001b[38;5;132;01m}\u001b[39;00m\u001b[38;5;124m has un-implemented Abstract Parameter \u001b[39m\u001b[38;5;124m\"\u001b[39m\n\u001b[0;32m     42\u001b[0m         \u001b[38;5;124mf\u001b[39m\u001b[38;5;124m\"\u001b[39m\u001b[38;5;124mand cannot be initialized\u001b[39m\u001b[38;5;124m\"\u001b[39m\n\u001b[0;32m     43\u001b[0m     )\n\u001b[1;32m---> 45\u001b[0m \u001b[43mnew_inst\u001b[49m\u001b[38;5;241;43m.\u001b[39;49m\u001b[43mrecord_instance\u001b[49m\u001b[43m(\u001b[49m\u001b[43mnew_inst\u001b[49m\u001b[43m)\u001b[49m\n\u001b[0;32m     46\u001b[0m \u001b[38;5;28;01mreturn\u001b[39;00m new_inst\n",
      "File \u001b[1;32mc:\\Users\\liuto\\AppData\\Local\\miniconda3\\envs\\tergite\\lib\\site-packages\\qcodes\\instrument\\instrument.py:216\u001b[0m, in \u001b[0;36mInstrument.record_instance\u001b[1;34m(cls, instance)\u001b[0m\n\u001b[0;32m    214\u001b[0m existing_instr \u001b[38;5;241m=\u001b[39m \u001b[38;5;28mcls\u001b[39m\u001b[38;5;241m.\u001b[39m_all_instruments\u001b[38;5;241m.\u001b[39mget(name)\n\u001b[0;32m    215\u001b[0m \u001b[38;5;28;01mif\u001b[39;00m existing_instr:\n\u001b[1;32m--> 216\u001b[0m     \u001b[38;5;28;01mraise\u001b[39;00m \u001b[38;5;167;01mKeyError\u001b[39;00m(\u001b[38;5;124mf\u001b[39m\u001b[38;5;124m\"\u001b[39m\u001b[38;5;124mAnother instrument has the name: \u001b[39m\u001b[38;5;132;01m{\u001b[39;00mname\u001b[38;5;132;01m}\u001b[39;00m\u001b[38;5;124m\"\u001b[39m)\n\u001b[0;32m    218\u001b[0m \u001b[38;5;28mcls\u001b[39m\u001b[38;5;241m.\u001b[39m_all_instruments[name] \u001b[38;5;241m=\u001b[39m instance\n\u001b[0;32m    220\u001b[0m \u001b[38;5;66;03m# Then add it to the record for this specific subclass, using ``_type``\u001b[39;00m\n\u001b[0;32m    221\u001b[0m \u001b[38;5;66;03m# to make sure we're not recording it in a base class instance list\u001b[39;00m\n",
      "\u001b[1;31mKeyError\u001b[0m: 'Another instrument has the name: measurement_control'"
     ]
    }
   ],
   "source": [
    "# The basic routines to bring up single qubit using Quantify\n",
    "# @authors Tong Liu\n",
    "\n",
    "# import tools in quantify\n",
    "from quantify_core.data import handling as dh\n",
    "from quantify_core.measurement.control import MeasurementControl\n",
    "from quantify_scheduler.instrument_coordinator import InstrumentCoordinator\n",
    "from quantify_scheduler.device_under_test.quantum_device import QuantumDevice\n",
    "\n",
    "measc = MeasurementControl(\"measurement_control\")\n",
    "insc = InstrumentCoordinator(\"instrument_coordinator\")"
   ]
  },
  {
   "cell_type": "code",
   "execution_count": 11,
   "metadata": {},
   "outputs": [
    {
     "name": "stdout",
     "output_type": "stream",
     "text": [
      "The current data saving path is  c:\\Users\\liuto\\Documents\\Project\\autocali\\tergite-automatic-calibration\\bring_up\\bring_up_data\n"
     ]
    }
   ],
   "source": [
    "# cd to dataset path\n",
    "from pathlib import Path\n",
    "\n",
    "dataset_path = Path(\"./bring_up_data/\")\n",
    "dh.set_datadir(str(dataset_path.absolute()))\n",
    "print(\"The current data saving path is \", dh.get_datadir())"
   ]
  },
  {
   "cell_type": "code",
   "execution_count": 12,
   "metadata": {},
   "outputs": [
    {
     "data": {
      "text/plain": [
       "<module 'singleQubit' from 'c:\\\\Users\\\\liuto\\\\Documents\\\\Project\\\\autocali\\\\tergite-automatic-calibration\\\\bring_up\\\\singleQubit.py'>"
      ]
     },
     "execution_count": 12,
     "metadata": {},
     "output_type": "execute_result"
    }
   ],
   "source": [
    "# wiring\n",
    "from importlib import reload\n",
    "import singleQubit as sq\n",
    "reload(sq)"
   ]
  },
  {
   "cell_type": "code",
   "execution_count": 14,
   "metadata": {},
   "outputs": [],
   "source": [
    "qubits = [\"q16\"]\n",
    "dev = sq.load_redis_device_config(qubits, device_name='test')"
   ]
  },
  {
   "cell_type": "code",
   "execution_count": 5,
   "metadata": {},
   "outputs": [],
   "source": [
    "qubits = sq.load_qubits(dev)"
   ]
  },
  {
   "cell_type": "code",
   "execution_count": 18,
   "metadata": {},
   "outputs": [
    {
     "data": {
      "text/plain": [
       "['IDN',\n",
       " '__abstractmethods__',\n",
       " '__annotations__',\n",
       " '__class__',\n",
       " '__del__',\n",
       " '__delattr__',\n",
       " '__dict__',\n",
       " '__dir__',\n",
       " '__doc__',\n",
       " '__eq__',\n",
       " '__format__',\n",
       " '__ge__',\n",
       " '__getattr__',\n",
       " '__getattribute__',\n",
       " '__getitem__',\n",
       " '__getstate__',\n",
       " '__gt__',\n",
       " '__hash__',\n",
       " '__init__',\n",
       " '__init_subclass__',\n",
       " '__le__',\n",
       " '__lt__',\n",
       " '__module__',\n",
       " '__ne__',\n",
       " '__new__',\n",
       " '__reduce__',\n",
       " '__reduce_ex__',\n",
       " '__repr__',\n",
       " '__setattr__',\n",
       " '__setstate__',\n",
       " '__sizeof__',\n",
       " '__str__',\n",
       " '__subclasshook__',\n",
       " '__weakref__',\n",
       " '_abc_impl',\n",
       " '_all_instruments',\n",
       " '_channel_lists',\n",
       " '_deserialized_instruments',\n",
       " '_get_component_by_name',\n",
       " '_instances',\n",
       " '_is_abstract',\n",
       " '_is_valid_identifier',\n",
       " '_label',\n",
       " '_meta_attrs',\n",
       " '_name',\n",
       " '_replace_hyphen',\n",
       " '_short_name',\n",
       " '_t0',\n",
       " '_type',\n",
       " 'add_edge',\n",
       " 'add_element',\n",
       " 'add_function',\n",
       " 'add_parameter',\n",
       " 'add_submodule',\n",
       " 'ancestors',\n",
       " 'ask',\n",
       " 'ask_raw',\n",
       " 'call',\n",
       " 'cfg_sched_repetitions',\n",
       " 'close',\n",
       " 'close_all',\n",
       " 'connect_message',\n",
       " 'delegate_attr_dicts',\n",
       " 'delegate_attr_objects',\n",
       " 'edges',\n",
       " 'elements',\n",
       " 'exist',\n",
       " 'find_instrument',\n",
       " 'from_json',\n",
       " 'from_json_file',\n",
       " 'full_name',\n",
       " 'functions',\n",
       " 'generate_compilation_config',\n",
       " 'generate_device_config',\n",
       " 'generate_hardware_compilation_config',\n",
       " 'generate_hardware_config',\n",
       " 'get',\n",
       " 'get_component',\n",
       " 'get_edge',\n",
       " 'get_element',\n",
       " 'get_idn',\n",
       " 'hardware_config',\n",
       " 'instances',\n",
       " 'instr_instrument_coordinator',\n",
       " 'instr_measurement_control',\n",
       " 'instrument_modules',\n",
       " 'invalidate_cache',\n",
       " 'is_valid',\n",
       " 'keep_original_schedule',\n",
       " 'label',\n",
       " 'load_metadata',\n",
       " 'log',\n",
       " 'metadata',\n",
       " 'name',\n",
       " 'name_parts',\n",
       " 'omit_delegate_attrs',\n",
       " 'parameters',\n",
       " 'parent',\n",
       " 'print_readable_snapshot',\n",
       " 'record_instance',\n",
       " 'remove_edge',\n",
       " 'remove_element',\n",
       " 'remove_instance',\n",
       " 'root_instrument',\n",
       " 'scheduling_strategy',\n",
       " 'set',\n",
       " 'short_name',\n",
       " 'snapshot',\n",
       " 'snapshot_base',\n",
       " 'submodules',\n",
       " 'to_json',\n",
       " 'to_json_file',\n",
       " 'validate_status',\n",
       " 'write',\n",
       " 'write_raw']"
      ]
     },
     "execution_count": 18,
     "metadata": {},
     "output_type": "execute_result"
    }
   ],
   "source": [
    "dir(dev)"
   ]
  },
  {
   "cell_type": "code",
   "execution_count": 20,
   "metadata": {},
   "outputs": [
    {
     "data": {
      "text/plain": [
       "{}"
      ]
     },
     "execution_count": 20,
     "metadata": {},
     "output_type": "execute_result"
    }
   ],
   "source": [
    "dev.instrument_modules"
   ]
  },
  {
   "cell_type": "code",
   "execution_count": null,
   "metadata": {},
   "outputs": [],
   "source": []
  }
 ],
 "metadata": {
  "kernelspec": {
   "display_name": "tac",
   "language": "python",
   "name": "python3"
  },
  "language_info": {
   "codemirror_mode": {
    "name": "ipython",
    "version": 3
   },
   "file_extension": ".py",
   "mimetype": "text/x-python",
   "name": "python",
   "nbconvert_exporter": "python",
   "pygments_lexer": "ipython3",
   "version": "3.9.18"
  }
 },
 "nbformat": 4,
 "nbformat_minor": 2
}
