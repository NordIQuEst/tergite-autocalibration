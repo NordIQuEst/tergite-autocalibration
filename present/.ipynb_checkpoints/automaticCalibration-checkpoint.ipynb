{
 "cells": [
  {
   "cell_type": "raw",
   "id": "ca0a2602",
   "metadata": {},
   "source": [
    "---\n",
    "title: Automatic Calibration of a QPU\n",
    "format: \n",
    "  html:\n",
    "    page-layout: full\n",
    "---"
   ]
  },
  {
   "cell_type": "markdown",
   "id": "9de656de",
   "metadata": {},
   "source": [
    "## Motivation\n",
    "### Manual calibration of a Quantum device, even for a handful of qubits is a tedius and error-prone procedure\n",
    "\n",
    "\n",
    "###  For a QPU automatic calibration is necessary.\n",
    "\n",
    "#### This effort in automating the QPU calibration starts with minimal information on the system (typical VNA frequency values and some reasonable assumptions) \n",
    "\n",
    "#### Returns a serial description of the system with zero minimal user supervison / interference to the presicion that is desired/ is possible\n",
    "\n",
    "#### It is best suited for stable and 'predictable' devices"
   ]
  },
  {
   "cell_type": "markdown",
   "id": "9a8156c5",
   "metadata": {},
   "source": [
    "## Overview"
   ]
  },
  {
   "cell_type": "markdown",
   "id": "34c87f5b",
   "metadata": {},
   "source": [
    "![](calibration_overview.svg)"
   ]
  },
  {
   "cell_type": "markdown",
   "id": "edc4ab7a",
   "metadata": {},
   "source": [
    "## From schedules to measurements"
   ]
  },
  {
   "cell_type": "markdown",
   "id": "7b9ca5aa",
   "metadata": {},
   "source": [
    "* The *Quantify-Scheduler* allows easy to compose schedules to be compiled to FPGA instructions.\n",
    "\n",
    ":::: {.columns}\n",
    "\n",
    "::: {.column width=\"33%\"}\n",
    "##### Quantify Core (QCodes-style)\n",
    "```r\n",
    "# Configure the gettable\n",
    "gettable = ScheduleGettable(\n",
    "    quantum_device=single_qubit_device,\n",
    "    schedule_function=t1_sched,\n",
    "    schedule_kwargs={\"times\": time},\n",
    "    batched=True\n",
    ")\n",
    "\n",
    "# Configure MeasurementControl\n",
    "measurement_control.settables(time)\n",
    "measurement_control.setpoints(times)\n",
    "measurement_control.gettables(gettable)\n",
    "measurement_control.run()\n",
    "```\n",
    ":::\n",
    "\n",
    "::: {.column width=\"33%\" .border}\n",
    "##### Quantify Scheduler\n",
    "```python\n",
    "def qubit_spectroscopy_schedule():\n",
    "    schedule = Schedule('qubit_spectroscopy', repetitions=1024)\n",
    "\n",
    "    for qubit_frequency in frequencies:\n",
    "        schedule.add(Reset('q12'))\n",
    "        \n",
    "        schedule.add(\n",
    "            SoftSquarePulse(\n",
    "                duration=2e-6,\n",
    "                amp=6e-4,\n",
    "                port='q12:mw',\n",
    "                clock='q12.01'\n",
    "            )\n",
    "        )\n",
    "\n",
    "        ro = schedule.add(\n",
    "            SquarePulse(\n",
    "                duration=3e-6,\n",
    "                amp=3e-3,\n",
    "                port='q12:res',\n",
    "                clock='q12.ro'\n",
    "            )\n",
    "        )\n",
    "\n",
    "        schedule.add(\n",
    "            SSBIntegrationComplex(\n",
    "                duration=2.8e-6,\n",
    "                port='q12:res',\n",
    "                clock='q12.ro',\n",
    "            ),\n",
    "            ref_op=ro,\n",
    "            ref_pt=\"start\",\n",
    "            rel_time=200e-9\n",
    "        )\n",
    "    return schedule\n",
    "```\n",
    ":::\n",
    "\n",
    "::: {.column width=\"33%\"}\n",
    "##### Q1ASM FPGA instructions\n",
    "```\n",
    "      move      1,R0\n",
    "      nop\n",
    "\n",
    "loop: set_mrk   R0\n",
    "      upd_param 1000\n",
    "      asl       R0,1,R0\n",
    "      nop\n",
    "      jlt       R0,16,@loop\n",
    "\n",
    "      set_mrk   0\n",
    "      upd_param 4\n",
    "      stop\n",
    "```\n",
    "\n",
    ":::\n",
    "\n",
    "::::"
   ]
  },
  {
   "cell_type": "markdown",
   "id": "13cb3f87",
   "metadata": {},
   "source": [
    "## Calibration as a Directed Acyclic Graph"
   ]
  },
  {
   "cell_type": "markdown",
   "id": "fb42c6c0",
   "metadata": {},
   "source": [
    "![](graph.svg)"
   ]
  },
  {
   "cell_type": "markdown",
   "id": "0bcc4618",
   "metadata": {},
   "source": [
    "## Demo 1: the calibration path!\n",
    "\n",
    "{{< pagebreak >}}\n",
    "\n",
    "* From resonator spectroscopy to CZ chevron"
   ]
  },
  {
   "cell_type": "markdown",
   "id": "79ea351f",
   "metadata": {},
   "source": [
    "## Parallelized operations\n",
    "\n",
    "#### A redundant Reset operation serves as anchor for each qubit sequence\n",
    "![](parallel.svg)"
   ]
  },
  {
   "cell_type": "markdown",
   "id": "dcef5776-322e-442b-ada4-bdb00e9dc953",
   "metadata": {},
   "source": [
    "\n",
    "## CZ Calibration\n",
    "\n",
    "::: {layout-nrow=2}\n",
    "\n",
    "![chevron](cz_chevron.png)\n",
    "\n",
    "![cz](cz_calibration_ssro_cmaes.png)\n",
    "\n",
    "CZ\n",
    "::: "
   ]
  },
  {
   "cell_type": "markdown",
   "id": "4929a8a4",
   "metadata": {},
   "source": [
    "## Demo 2: the characterization path!"
   ]
  },
  {
   "cell_type": "markdown",
   "id": "f1f13650",
   "metadata": {},
   "source": [
    "## Faster Calibration?\n",
    "\n",
    "The calibration path required ~11 minutes:\n",
    "\n",
    "Two are the major contributoors to the execution time\n",
    "\n",
    "* Number of averages ~1000\n",
    "  + Chi?: ![chi](chi.svg)\n",
    "  + Reduce average only to desired precission\n",
    "\n",
    "* Reset time. For example in a Rabi measurement ~99% is spent on reseting\n",
    "  + Active reset?: ![chi](reset.png)\n",
    "\n",
    "[Conditional Reset On the Quantify sceduler](https://quantify-os.org/docs/quantify-scheduler/dev/reference/conditional_playback.html#conditional-reset)\n"
   ]
  },
  {
   "cell_type": "markdown",
   "id": "9dd07839",
   "metadata": {},
   "source": [
    "## Acknowledgments\n",
    "\n",
    "* Liangyu for composing multiple measurements on RO optimization and CZ gate calibration and general advising.\n",
    "* Tong, Steffan, Michelle for fresh ideas and contributions"
   ]
  }
 ],
 "metadata": {
  "kernelspec": {
   "display_name": "Python 3 (ipykernel)",
   "language": "python",
   "name": "python3"
  },
  "language_info": {
   "codemirror_mode": {
    "name": "ipython",
    "version": 3
   },
   "file_extension": ".py",
   "mimetype": "text/x-python",
   "name": "python",
   "nbconvert_exporter": "python",
   "pygments_lexer": "ipython3",
   "version": "3.9.18"
  }
 },
 "nbformat": 4,
 "nbformat_minor": 5
}
