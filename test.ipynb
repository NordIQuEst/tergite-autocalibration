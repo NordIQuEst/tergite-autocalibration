{
 "cells": [
  {
   "cell_type": "code",
   "execution_count": 84,
   "metadata": {},
   "outputs": [
    {
     "name": "stdout",
     "output_type": "stream",
     "text": [
      "╔════════════════════════════════════════════════════════════════════════════════════════════════════════════════════════════════════════════════╗\n",
      "║ Qubits: 5                                                                                                                                      ║\n",
      "║⮡ resonator_spectroscopy                                                                                                                        ║\n",
      "║           ⮡ qubit_01_spectroscopy_pulsed                                                                                                       ║\n",
      "║                         ⮡ rabi_oscillations                                                                                                    ║\n",
      "║                                 ⮡ ramsey_correction                                                                                            ║\n",
      "║                                         ⮡ motzoi_parameter                                                                                     ║\n",
      "║                                                 ⮡ n_rabi_oscillations                                                                          ║\n",
      "║                                                          ⮡ resonator_spectroscopy_1                                                            ║\n",
      "║                                                                      ⮡ qubit_12_spectroscopy_pulsed                                            ║\n",
      "║                                                                                    ⮡ rabi_oscillations_12                                      ║\n",
      "║                                                                                              ⮡ ramsey_correction_12                            ║\n",
      "║                                                                                                        ⮡ resonator_spectroscopy_2              ║\n",
      "╚════════════════════════════════════════════════════════════════════════════════════════════════════════════════════════════════════════════════╝\n",
      " remove_node = 'rabi_oscillations'\n",
      "╔════════════════════════════════════════════════════════════════════════════════════════════════════════════════════════════════════════════════╗\n",
      "║ Qubits: 5                                                                                                                                      ║\n",
      "║⮡ resonator_spectroscopy                                                                                                                        ║\n",
      "║           ⮡ qubit_01_spectroscopy_pulsed                                                                                                       ║\n",
      "║                         ⮡ rabi_oscillations                                                                                                    ║\n",
      "║                                 ⮡ ramsey_correction                                                                                            ║\n",
      "║                                         ⮡ motzoi_parameter                                                                                     ║\n",
      "║                                                 ⮡ n_rabi_oscillations                                                                          ║\n",
      "║                                                          ⮡ resonator_spectroscopy_1                                                            ║\n",
      "║                                                                      ⮡ qubit_12_spectroscopy_pulsed                                            ║\n",
      "║                                                                                    ⮡ rabi_oscillations_12                                      ║\n",
      "║                                                                                              ⮡ ramsey_correction_12                            ║\n",
      "║                                                                                                        ⮡ resonator_spectroscopy_2              ║\n",
      "╚════════════════════════════════════════════════════════════════════════════════════════════════════════════════════════════════════════════════╝\n",
      " remove_node = 'motzoi_parameter'\n",
      "╔════════════════════════════════════════════════════════════════════════════════════════════════════════════════════════════════════════════════╗\n",
      "║ Qubits: 5                                                                                                                                      ║\n",
      "║⮡ resonator_spectroscopy                                                                                                                        ║\n",
      "║           ⮡ qubit_01_spectroscopy_pulsed                                                                                                       ║\n",
      "║                         ⮡ rabi_oscillations                                                                                                    ║\n",
      "║                                 ⮡ ramsey_correction                                                                                            ║\n",
      "║                                         ⮡ motzoi_parameter                                                                                     ║\n",
      "║                                                 ⮡ n_rabi_oscillations                                                                          ║\n",
      "║                                                          ⮡ resonator_spectroscopy_1                                                            ║\n",
      "║                                                                      ⮡ qubit_12_spectroscopy_pulsed                                            ║\n",
      "║                                                                                    ⮡ rabi_oscillations_12                                      ║\n",
      "║                                                                                              ⮡ ramsey_correction_12                            ║\n",
      "║                                                                                                        ⮡ resonator_spectroscopy_2              ║\n",
      "╚════════════════════════════════════════════════════════════════════════════════════════════════════════════════════════════════════════════════╝\n",
      " remove_node = 'n_rabi_oscillations'\n"
     ]
    }
   ],
   "source": [
    "# !python reset_redis.py 'qubit_01_spectroscopy_pulsed'\n",
    "!python reset_redis.py 'rabi_oscillations'\n",
    "!python reset_redis.py 'motzoi_parameter'\n",
    "!python reset_redis.py 'n_rabi_oscillations'"
   ]
  },
  {
   "cell_type": "code",
   "execution_count": 88,
   "metadata": {},
   "outputs": [
    {
     "name": "stdout",
     "output_type": "stream",
     "text": [
      "╔════════════════════════════════════════════════════════════════════════════════════════════════════════════════════════════════════════════════╗\n",
      "║ Qubits: 5                                                                                                                                      ║\n",
      "║⮡ resonator_spectroscopy                                                                                                                        ║\n",
      "║           ⮡ qubit_01_spectroscopy_pulsed                                                                                                       ║\n",
      "║                         ⮡ rabi_oscillations                                                                                                    ║\n",
      "║                                 ⮡ ramsey_correction                                                                                            ║\n",
      "║                                         ⮡ motzoi_parameter                                                                                     ║\n",
      "║                                                 ⮡ n_rabi_oscillations                                                                          ║\n",
      "║                                                          ⮡ resonator_spectroscopy_1                                                            ║\n",
      "║                                                                      ⮡ qubit_12_spectroscopy_pulsed                                            ║\n",
      "║                                                                                    ⮡ rabi_oscillations_12                                      ║\n",
      "║                                                                                              ⮡ ramsey_correction_12                            ║\n",
      "║                                                                                                        ⮡ resonator_spectroscopy_2              ║\n",
      "╚════════════════════════════════════════════════════════════════════════════════════════════════════════════════════════════════════════════════╝\n",
      " remove_node = 'resonator_spectroscopy_2'\n"
     ]
    }
   ],
   "source": [
    "!python reset_redis.py 'resonator_spectroscopy_2'"
   ]
  },
  {
   "cell_type": "code",
   "execution_count": 82,
   "metadata": {},
   "outputs": [
    {
     "name": "stdout",
     "output_type": "stream",
     "text": [
      "╔════════════════════════════════════════════════════════════════════════════════════════════════════════════════════════════════════════════════╗\n",
      "║ Qubits: 5                                                                                                                                      ║\n",
      "║⮡ resonator_spectroscopy                                                                                                                        ║\n",
      "║           ⮡ qubit_01_spectroscopy_pulsed                                                                                                       ║\n",
      "║                         ⮡ rabi_oscillations                                                                                                    ║\n",
      "║                                 ⮡ ramsey_correction                                                                                            ║\n",
      "║                                         ⮡ motzoi_parameter                                                                                     ║\n",
      "║                                                 ⮡ n_rabi_oscillations                                                                          ║\n",
      "║                                                          ⮡ resonator_spectroscopy_1                                                            ║\n",
      "║                                                                      ⮡ qubit_12_spectroscopy_pulsed                                            ║\n",
      "║                                                                                    ⮡ rabi_oscillations_12                                      ║\n",
      "║                                                                                              ⮡ ramsey_correction_12                            ║\n",
      "║                                                                                                        ⮡ resonator_spectroscopy_2              ║\n",
      "╚════════════════════════════════════════════════════════════════════════════════════════════════════════════════════════════════════════════════╝\n",
      " remove_node = 'all'\n"
     ]
    }
   ],
   "source": [
    "!python reset_redis.py all"
   ]
  },
  {
   "cell_type": "code",
   "execution_count": 89,
   "metadata": {},
   "outputs": [
    {
     "name": "stdout",
     "output_type": "stream",
     "text": [
      "╔════════════════════════════════════════════════════════════════════════════════════════════════════════════════════════════════════════════════╗\n",
      "║ Qubits: 5                                                                                                                                      ║\n",
      "║⮡ resonator_spectroscopy                                                                                                                        ║\n",
      "║           ⮡ qubit_01_spectroscopy_pulsed                                                                                                       ║\n",
      "║                         ⮡ rabi_oscillations                                                                                                    ║\n",
      "║                                 ⮡ ramsey_correction                                                                                            ║\n",
      "║                                         ⮡ motzoi_parameter                                                                                     ║\n",
      "║                                                 ⮡ n_rabi_oscillations                                                                          ║\n",
      "║                                                          ⮡ resonator_spectroscopy_1                                                            ║\n",
      "║                                                                      ⮡ qubit_12_spectroscopy_pulsed                                            ║\n",
      "║                                                                                    ⮡ rabi_oscillations_12                                      ║\n",
      "║                                                                                              ⮡ ramsey_correction_12                            ║\n",
      "║                                                                                                        ⮡ resonator_spectroscopy_2              ║\n",
      "╚════════════════════════════════════════════════════════════════════════════════════════════════════════════════════════════════════════════════╝\n",
      "2023-10-02 16:10:49,584 ◆ calibration_supervisor.py ◆ Starting System Calibration\n",
      "2023-10-02 16:10:49,638 ◆ calibration_supervisor.py ◆ Inspecting node resonator_spectroscopy\n",
      " ✅ \u001b[32m\u001b[1mNode resonator_spectroscopy in spec\u001b[0m\n",
      "2023-10-02 16:10:49,648 ◆ calibration_supervisor.py ◆ resonator_spectroscopy node is completed\n",
      "2023-10-02 16:10:49,648 ◆ calibration_supervisor.py ◆ Inspecting node qubit_01_spectroscopy_pulsed\n",
      " ✅ \u001b[32m\u001b[1mNode qubit_01_spectroscopy_pulsed in spec\u001b[0m\n",
      "2023-10-02 16:10:49,660 ◆ calibration_supervisor.py ◆ qubit_01_spectroscopy_pulsed node is completed\n",
      "2023-10-02 16:10:49,660 ◆ calibration_supervisor.py ◆ Inspecting node rabi_oscillations\n",
      " ✅ \u001b[32m\u001b[1mNode rabi_oscillations in spec\u001b[0m\n",
      "2023-10-02 16:10:49,669 ◆ calibration_supervisor.py ◆ rabi_oscillations node is completed\n",
      "2023-10-02 16:10:49,669 ◆ calibration_supervisor.py ◆ Inspecting node ramsey_correction\n",
      " ✅ \u001b[32m\u001b[1mNode ramsey_correction in spec\u001b[0m\n",
      "2023-10-02 16:10:49,681 ◆ calibration_supervisor.py ◆ ramsey_correction node is completed\n",
      "2023-10-02 16:10:49,681 ◆ calibration_supervisor.py ◆ Inspecting node motzoi_parameter\n",
      " ✅ \u001b[32m\u001b[1mNode motzoi_parameter in spec\u001b[0m\n",
      "2023-10-02 16:10:49,690 ◆ calibration_supervisor.py ◆ motzoi_parameter node is completed\n",
      "2023-10-02 16:10:49,690 ◆ calibration_supervisor.py ◆ Inspecting node n_rabi_oscillations\n",
      " ✅ \u001b[32m\u001b[1mNode n_rabi_oscillations in spec\u001b[0m\n",
      "2023-10-02 16:10:49,696 ◆ calibration_supervisor.py ◆ n_rabi_oscillations node is completed\n",
      "2023-10-02 16:10:49,697 ◆ calibration_supervisor.py ◆ Inspecting node resonator_spectroscopy_1\n",
      " ✅ \u001b[32m\u001b[1mNode resonator_spectroscopy_1 in spec\u001b[0m\n",
      "2023-10-02 16:10:49,703 ◆ calibration_supervisor.py ◆ resonator_spectroscopy_1 node is completed\n",
      "2023-10-02 16:10:49,703 ◆ calibration_supervisor.py ◆ Inspecting node qubit_12_spectroscopy_pulsed\n",
      " ✅ \u001b[32m\u001b[1mNode qubit_12_spectroscopy_pulsed in spec\u001b[0m\n",
      "2023-10-02 16:10:49,710 ◆ calibration_supervisor.py ◆ qubit_12_spectroscopy_pulsed node is completed\n",
      "2023-10-02 16:10:49,711 ◆ calibration_supervisor.py ◆ Inspecting node rabi_oscillations_12\n",
      " ✅ \u001b[32m\u001b[1mNode rabi_oscillations_12 in spec\u001b[0m\n",
      "2023-10-02 16:10:49,716 ◆ calibration_supervisor.py ◆ rabi_oscillations_12 node is completed\n",
      "2023-10-02 16:10:49,716 ◆ calibration_supervisor.py ◆ Inspecting node ramsey_correction_12\n",
      " ✅ \u001b[32m\u001b[1mNode ramsey_correction_12 in spec\u001b[0m\n",
      "2023-10-02 16:10:49,724 ◆ calibration_supervisor.py ◆ ramsey_correction_12 node is completed\n",
      "2023-10-02 16:10:49,724 ◆ calibration_supervisor.py ◆ Inspecting node resonator_spectroscopy_2\n",
      "⚑⚑⚑ \u001b[31m\u001b[1mCalibration required for Node resonator_spectroscopy_2\u001b[0m\n",
      "2023-10-02 16:10:49,732 ◆ calibration_supervisor.py ◆ Calibrating node resonator_spectroscopy_2\n",
      "2023-10-02 16:10:49,734 ◆ calibration_supervisor.py ◆ Sending to precompile\n",
      "2023-10-02 16:10:49,834 ◆ compilation_worker.py ◆ Starting Compiling\n",
      "/home/loke/anaconda3/envs/tac/lib/python3.9/site-packages/quantify_scheduler/schedules/schedule.py:499: FutureWarning: The behavior of DataFrame concatenation with empty or all-NA entries is deprecated. In a future version, this will no longer exclude empty or all-NA columns when determining the result dtypes. To retain the old behavior, exclude the relevant entries before the concat operation.\n",
      "  timing_table = pd.concat(timing_table_list, ignore_index=True)\n",
      "2023-10-02 16:10:51,417 ◆ compilation_worker.py ◆ Finished Compiling\n",
      "2023-10-02 16:10:51,418 ◆ execution_worker.py ◆ Starting measurement\n",
      "\u001b[34m\u001b[1mMeasuring node: resonator_spectroscopy_2 , duration: 13.02s\u001b[0m\n",
      "resonator_spectroscopy_2: 100%|\u001b[34m█████████████████\u001b[0m| 65/65 [00:13<00:00,  4.97it/s]\u001b[0m\n",
      "2023-10-02 16:11:09,423 ◆ execution_worker.py ◆ Raw dataset acquired\n",
      "2023-10-02 16:11:09,423 ◆ execution_worker.py ◆ Configuring Dataset\n",
      "2023-10-02 16:11:09,779 ◆ execution_worker.py ◆ Finished measurement\n",
      "2023-10-02 16:11:09,780 ◆ calibration_supervisor.py ◆ measurement completed\n",
      "2023-10-02 16:16:04,652 ◆ calibration_supervisor.py ◆ analysis completed\n",
      "2023-10-02 16:16:04,654 ◆ calibration_supervisor.py ◆ resonator_spectroscopy_2 node is completed\n",
      "\u001b[0m"
     ]
    }
   ],
   "source": [
    "!python workers/calibration_supervisor.py"
   ]
  },
  {
   "cell_type": "code",
   "execution_count": 55,
   "metadata": {},
   "outputs": [
    {
     "name": "stdout",
     "output_type": "stream",
     "text": [
      "Qubit parameters q15:\n",
      "ro_acq_delay: 2e-07\n",
      "ro_freq: 6933724417.911314\n",
      "ro_freq_1: nan\n",
      "ro_freq_2: nan\n",
      "ro_freq_opt: nan\n",
      "ro_ampl_opt: nan\n",
      "ro_pulse_amp_opt: nan\n",
      "freq_01: 3876538190.0898204\n",
      "freq_12: nan\n",
      "anharmonicity: nan\n",
      "mw_amp180: 0.16040453951942293\n",
      "mw_motzoi: 0.21666666666666667\n",
      "mw_ef_amp180: nan\n",
      "fidelity: nan\n",
      "discriminator: nan\n",
      "t1_time: nan\n",
      "selectivity: nan\n",
      "ro_ampl: nan\n",
      "ro_pulse_delay: 4e-09\n",
      "ro_pulse_duration: 3e-06\n",
      "ro_acq_integration_time: 2.5e-06\n",
      "mw_pulse_duration: 4e-08\n",
      "init_duration: 0.0003\n",
      "min_calibration_point: 0\n",
      "max_calibration_point: 0\n",
      "spec_pulse_duration: 5e-06\n",
      "spec_amp: 0.0003\n",
      "att: 0\n",
      "ro_pulse_amp: 0.01\n",
      "artificial_detuning: nan\n"
     ]
    }
   ],
   "source": [
    "import redis\n",
    "redis_connection = redis.Redis(decode_responses=True)\n",
    "# qubits = [ 'q11','q12','q13','q14','q15']\n",
    "qubits = [ 'q15']\n",
    "qubit_freq_01_list,qubit_freq_ro_list = {},{}\n",
    "for qubit in qubits: \n",
    "    print(f\"Qubit parameters {qubit}:\")\n",
    "    redis_config = redis_connection.hgetall(f\"transmons:{qubit}\")\n",
    "    # Print the redis config line by line\n",
    "    for key, value in redis_config.items():\n",
    "        print(f\"{key}: {value}\")\n",
    "    # print(f\"mw_amp180: {redis_config['mw_amp180']}\")"
   ]
  },
  {
   "cell_type": "code",
   "execution_count": 17,
   "metadata": {},
   "outputs": [
    {
     "name": "stdout",
     "output_type": "stream",
     "text": [
      "Qubit parameters q11:\n",
      "mw_amp180: 0.2177010735233154\n",
      "Qubit parameters q12:\n",
      "mw_amp180: 0.16059760191535363\n",
      "Qubit parameters q13:\n",
      "mw_amp180: 0.1753838972113743\n",
      "Qubit parameters q14:\n",
      "mw_amp180: 0.1592242773752178\n",
      "Qubit parameters q15:\n",
      "mw_amp180: 0.3129405468061462\n"
     ]
    }
   ],
   "source": [
    "import redis\n",
    "redis_connection = redis.Redis(decode_responses=True)\n",
    "qubits = [ 'q11','q12','q13','q14','q15']\n",
    "qubit_freq_01_list,qubit_freq_ro_list = {},{}\n",
    "for qubit in qubits: \n",
    "    print(f\"Qubit parameters {qubit}:\")\n",
    "    redis_config = redis_connection.hgetall(f\"transmons:{qubit}\")\n",
    "    # Print the redis config line by line\n",
    "    # for key, value in redis_config.items():\n",
    "        # print(f\"{key}: {value}\")\n",
    "    print(f\"mw_amp180: {redis_config['mw_amp180']}\")"
   ]
  },
  {
   "cell_type": "code",
   "execution_count": 90,
   "metadata": {},
   "outputs": [
    {
     "name": "stdout",
     "output_type": "stream",
     "text": [
      "Qubit parameters q11:\n",
      "6934504476.646809\n",
      "3714558467.3201423\n",
      "3480457993.2735066\n",
      "Qubit parameters q12:\n",
      "6606609220.428778\n",
      "3366895721.7858844\n",
      "3366826390.4494734\n",
      "Qubit parameters q13:\n",
      "6688253960.392702\n",
      "3585346638.5170655\n",
      "3343398596.696546\n",
      "Qubit parameters q14:\n",
      "6331415387.80599\n",
      "3334069475.311321\n",
      "3133208529.886354\n",
      "Qubit parameters q15:\n",
      "6933714078.35588\n",
      "3873856199.736202\n",
      "3632485279.910738\n"
     ]
    }
   ],
   "source": [
    "import redis\n",
    "redis_connection = redis.Redis(decode_responses=True)\n",
    "qubits = [ 'q11','q12','q13','q14','q15']\n",
    "qubit_freq_01_list,qubit_freq_ro_list,qubit_freq_12_list = {},{},{}\n",
    "for qubit in qubits: \n",
    "    print(f\"Qubit parameters {qubit}:\")\n",
    "    redis_config = redis_connection.hgetall(f\"transmons:{qubit}\")\n",
    "    # Print the redis config line by line\n",
    "    # for key, value in redis_config.items():\n",
    "    #     print(f\"{key}: {value}\")\n",
    "    print(redis_config['ro_freq'])\n",
    "    print(redis_config['freq_01'])\n",
    "    print(redis_config['freq_12'])\n",
    "    qubit_freq_ro_list[qubit] = redis_config['ro_freq']\n",
    "    qubit_freq_01_list[qubit] = redis_config['freq_01']\n",
    "    qubit_freq_12_list[qubit] = redis_config['freq_12']"
   ]
  },
  {
   "cell_type": "code",
   "execution_count": 92,
   "metadata": {},
   "outputs": [],
   "source": [
    "from config_files.VNA_values import VNA_resonator_frequencies, VNA_f01_frequencies, VNA_f12_frequencies\n",
    "for qubit in qubits:\n",
    "    VNA_resonator_frequencies[qubit] = float(qubit_freq_ro_list[qubit])\n",
    "    VNA_f01_frequencies[qubit] = float(qubit_freq_01_list[qubit])\n",
    "    VNA_f12_frequencies[qubit] = float(qubit_freq_12_list[qubit])\n",
    "# rewrite the VNA_values.py file\n",
    "with open('config_files/VNA_values.py', 'w') as f:\n",
    "    f.write(f\"VNA_resonator_frequencies = {VNA_resonator_frequencies}\\n\")\n",
    "    f.write(f\"VNA_f01_frequencies = {VNA_f01_frequencies}\\n\")\n",
    "    f.write(f\"VNA_f12_frequencies = {VNA_f12_frequencies}\\n\")"
   ]
  },
  {
   "cell_type": "code",
   "execution_count": 93,
   "metadata": {},
   "outputs": [
    {
     "data": {
      "text/plain": [
       "{'q11': 6934504476.646809,\n",
       " 'q12': 6606609220.428778,\n",
       " 'q13': 6688253960.392702,\n",
       " 'q14': 6331415387.80599,\n",
       " 'q15': 6933714078.35588,\n",
       " 'q16': 6491000000.0,\n",
       " 'q17': 7059000000.0,\n",
       " 'q18': 6712000000.0,\n",
       " 'q19': 6818000000.0,\n",
       " 'q20': 6494000000.0,\n",
       " 'q21': 6751000000.0,\n",
       " 'q22': 6477000000.0,\n",
       " 'q23': 7052000000.0,\n",
       " 'q24': 6583000000.0,\n",
       " 'q25': 6853000000.0}"
      ]
     },
     "execution_count": 93,
     "metadata": {},
     "output_type": "execute_result"
    }
   ],
   "source": [
    "VNA_resonator_frequencies"
   ]
  },
  {
   "cell_type": "code",
   "execution_count": 94,
   "metadata": {},
   "outputs": [
    {
     "data": {
      "text/plain": [
       "{'q11': 3480457993.2735066,\n",
       " 'q12': 3366826390.4494734,\n",
       " 'q13': 3343398596.696546,\n",
       " 'q14': 3133208529.886354,\n",
       " 'q15': 3632485279.910738,\n",
       " 'q16': 2993000000.0,\n",
       " 'q17': 3699000000.0,\n",
       " 'q18': 3154000000.0,\n",
       " 'q19': 3682000000.0,\n",
       " 'q20': 3233000000.0,\n",
       " 'q21': 3542000000.0,\n",
       " 'q22': 3131000000.0,\n",
       " 'q23': 3674000000.0,\n",
       " 'q24': 3171000000.0,\n",
       " 'q25': 3770000000.0}"
      ]
     },
     "execution_count": 94,
     "metadata": {},
     "output_type": "execute_result"
    }
   ],
   "source": [
    "VNA_f12_frequencies"
   ]
  },
  {
   "cell_type": "code",
   "execution_count": 95,
   "metadata": {},
   "outputs": [
    {
     "data": {
      "text/plain": [
       "{'q11': 3480457993.2735066,\n",
       " 'q12': 3366826390.4494734,\n",
       " 'q13': 3343398596.696546,\n",
       " 'q14': 3133208529.886354,\n",
       " 'q15': 3632485279.910738,\n",
       " 'q16': 2993000000.0,\n",
       " 'q17': 3699000000.0,\n",
       " 'q18': 3154000000.0,\n",
       " 'q19': 3682000000.0,\n",
       " 'q20': 3233000000.0,\n",
       " 'q21': 3542000000.0,\n",
       " 'q22': 3131000000.0,\n",
       " 'q23': 3674000000.0,\n",
       " 'q24': 3171000000.0,\n",
       " 'q25': 3770000000.0}"
      ]
     },
     "execution_count": 95,
     "metadata": {},
     "output_type": "execute_result"
    }
   ],
   "source": [
    "VNA_f12_frequencies"
   ]
  },
  {
   "cell_type": "code",
   "execution_count": null,
   "metadata": {},
   "outputs": [],
   "source": [
    "VNA_resonator_frequencies = {'q11': 6934504476.646809, 'q12': 6606609220.428778, 'q13': 6688253960.392702, 'q14': 6331415387.80599, 'q15': 6933714078.35588, 'q16': 6491000000.0, 'q17': 7059000000.0, 'q18': 6712000000.0, 'q19': 6818000000.0, 'q20': 6494000000.0, 'q21': 6751000000.0, 'q22': 6477000000.0, 'q23': 7052000000.0, 'q24': 6583000000.0, 'q25': 6853000000.0}\n",
    "VNA_f01_frequencies = {'q11': 3714558467.3201423, 'q12': 3366895721.7858844, 'q13': 3585346638.5170655, 'q14': 3334069475.311321, 'q15': 3873856199.736202, 'q16': 3189000000.0, 'q17': 3932000000.0, 'q18': 3254000000.0, 'q19': 3921000000.0, 'q20': 3333000000.0, 'q21': 3773000000.0, 'q22': 3326000000.0, 'q23': 3911000000.0, 'q24': 3271000000.0, 'q25': 4009000000.0}\n",
    "VNA_f12_frequencies = {'q11': 3480457993.2735066, 'q12': 3366826390.4494734, 'q13': 3343398596.696546, 'q14': 3133208529.886354, 'q15': 3632485279.910738, 'q16': 2993000000.0, 'q17': 3699000000.0, 'q18': 3154000000.0, 'q19': 3682000000.0, 'q20': 3233000000.0, 'q21': 3542000000.0, 'q22': 3131000000.0, 'q23': 3674000000.0, 'q24': 3171000000.0, 'q25': 3770000000.0}\n"
   ]
  }
 ],
 "metadata": {
  "kernelspec": {
   "display_name": "tac",
   "language": "python",
   "name": "python3"
  },
  "language_info": {
   "codemirror_mode": {
    "name": "ipython",
    "version": 3
   },
   "file_extension": ".py",
   "mimetype": "text/x-python",
   "name": "python",
   "nbconvert_exporter": "python",
   "pygments_lexer": "ipython3",
   "version": "3.9.18"
  },
  "orig_nbformat": 4
 },
 "nbformat": 4,
 "nbformat_minor": 2
}
