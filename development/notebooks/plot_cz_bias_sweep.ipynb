{
 "cells": [
  {
   "cell_type": "code",
   "execution_count": 47,
   "metadata": {},
   "outputs": [],
   "source": [
    "import importlib\n",
    "mod = importlib.import_module(\"notebooks.cz.q17_q22_20240324-145556-275-88dee3-cz_chevron_all_results\")\n",
    "all_results = mod.all_results"
   ]
  },
  {
   "cell_type": "code",
   "execution_count": 41,
   "metadata": {},
   "outputs": [],
   "source": [
    "import importlib\n",
    "mod = importlib.import_module(\"notebooks.cz.q17_q18_20240325-081900-327-78a0c1-cz_chevron_all_results\")\n",
    "all_results = mod.all_results"
   ]
  },
  {
   "cell_type": "code",
   "execution_count": 44,
   "metadata": {},
   "outputs": [],
   "source": [
    "import importlib\n",
    "mod = importlib.import_module(\"notebooks.cz.q16_q21_20240314-002822-693-887d9f-cz_chevron_all_results\")\n",
    "all_results = mod.all_results"
   ]
  },
  {
   "cell_type": "code",
   "execution_count": 48,
   "metadata": {},
   "outputs": [
    {
     "data": {
      "text/plain": [
       "(array([0.0008  , 0.000825, 0.00085 , 0.000875, 0.0009  , 0.000925,\n",
       "        0.00095 , 0.000975, 0.001   , 0.001025, 0.00105 , 0.001075,\n",
       "        0.0011  ]),\n",
       " array([0. , 0.1, 0.2]))"
      ]
     },
     "execution_count": 48,
     "metadata": {},
     "output_type": "execute_result"
    }
   ],
   "source": [
    "import numpy as np\n",
    "currents,amps = np.unique([result['parking_current'] for result in all_results]),np.unique([result['amp'] for result in all_results])\n",
    "currents,amps "
   ]
  },
  {
   "cell_type": "code",
   "execution_count": 46,
   "metadata": {},
   "outputs": [
    {
     "name": "stdout",
     "output_type": "stream",
     "text": [
      "['data_directory/20240314/20240314-002822-693-887d9f-cz_chevron/cz_chevron.png', 'data_directory/20240314/20240314-003252-720-904b92-cz_chevron/cz_chevron.png', 'data_directory/20240314/20240314-003722-780-9856e6-cz_chevron/cz_chevron.png', 'data_directory/20240314/20240314-004152-670-a7fc01-cz_chevron/cz_chevron.png', 'data_directory/20240314/20240314-004622-644-3cd380-cz_chevron/cz_chevron.png']\n",
      "['data_directory/20240314/20240314-005054-505-b74ae2-cz_chevron/cz_chevron.png', 'data_directory/20240314/20240314-005524-425-b35dad-cz_chevron/cz_chevron.png', 'data_directory/20240314/20240314-005954-259-31a794-cz_chevron/cz_chevron.png', 'data_directory/20240314/20240314-010424-182-e246f0-cz_chevron/cz_chevron.png', 'data_directory/20240314/20240314-010854-051-951a1a-cz_chevron/cz_chevron.png']\n",
      "['data_directory/20240314/20240314-011325-969-ed2fd7-cz_chevron/cz_chevron.png', 'data_directory/20240314/20240314-011755-882-586ee5-cz_chevron/cz_chevron.png', 'data_directory/20240314/20240314-012225-890-553b0a-cz_chevron/cz_chevron.png', 'data_directory/20240314/20240314-012655-758-59ac0c-cz_chevron/cz_chevron.png', 'data_directory/20240314/20240314-013125-588-dfcc36-cz_chevron/cz_chevron.png']\n",
      "['data_directory/20240314/20240314-013557-498-e22aae-cz_chevron/cz_chevron.png', 'data_directory/20240314/20240314-014027-238-1f08fa-cz_chevron/cz_chevron.png', 'data_directory/20240314/20240314-014457-097-2c8b3c-cz_chevron/cz_chevron.png', 'data_directory/20240314/20240314-014927-162-741843-cz_chevron/cz_chevron.png', 'data_directory/20240314/20240314-015357-048-d37b15-cz_chevron/cz_chevron.png']\n",
      "['data_directory/20240314/20240314-015828-941-dfaa67-cz_chevron/cz_chevron.png', 'data_directory/20240314/20240314-020258-717-504c90-cz_chevron/cz_chevron.png', 'data_directory/20240314/20240314-020728-521-eda835-cz_chevron/cz_chevron.png', 'data_directory/20240314/20240314-021158-410-f92da9-cz_chevron/cz_chevron.png', 'data_directory/20240314/20240314-021628-242-36b299-cz_chevron/cz_chevron.png']\n",
      "['data_directory/20240314/20240314-022100-255-8d2bec-cz_chevron/cz_chevron.png', 'data_directory/20240314/20240314-022529-949-4fa82d-cz_chevron/cz_chevron.png', 'data_directory/20240314/20240314-022959-798-7a61b9-cz_chevron/cz_chevron.png', 'data_directory/20240314/20240314-023429-689-5f13dc-cz_chevron/cz_chevron.png', 'data_directory/20240314/20240314-023859-555-49a81f-cz_chevron/cz_chevron.png']\n",
      "['data_directory/20240314/20240314-024331-350-4a6d4e-cz_chevron/cz_chevron.png', 'data_directory/20240314/20240314-024801-149-18d600-cz_chevron/cz_chevron.png', 'data_directory/20240314/20240314-025230-778-870a85-cz_chevron/cz_chevron.png', 'data_directory/20240314/20240314-025700-664-c561da-cz_chevron/cz_chevron.png', 'data_directory/20240314/20240314-030130-472-74df6d-cz_chevron/cz_chevron.png']\n",
      "['data_directory/20240314/20240314-030602-381-cd6def-cz_chevron/cz_chevron.png', 'data_directory/20240314/20240314-031032-246-e2108e-cz_chevron/cz_chevron.png', 'data_directory/20240314/20240314-031502-030-b26f29-cz_chevron/cz_chevron.png', 'data_directory/20240314/20240314-031932-009-b3fe5f-cz_chevron/cz_chevron.png', 'data_directory/20240314/20240314-032401-694-12ac09-cz_chevron/cz_chevron.png']\n",
      "['data_directory/20240314/20240314-032833-581-7cdd5c-cz_chevron/cz_chevron.png', 'data_directory/20240314/20240314-033303-340-63b1e1-cz_chevron/cz_chevron.png', 'data_directory/20240314/20240314-033733-135-1d3b0e-cz_chevron/cz_chevron.png', 'data_directory/20240314/20240314-034202-879-335640-cz_chevron/cz_chevron.png', 'data_directory/20240314/20240314-034632-684-462d87-cz_chevron/cz_chevron.png']\n",
      "['data_directory/20240314/20240314-035104-627-e4b927-cz_chevron/cz_chevron.png', 'data_directory/20240314/20240314-035534-558-1d726c-cz_chevron/cz_chevron.png', 'data_directory/20240314/20240314-040004-342-f17a43-cz_chevron/cz_chevron.png', 'data_directory/20240314/20240314-040434-137-9ee77c-cz_chevron/cz_chevron.png', 'data_directory/20240314/20240314-040903-968-f44e04-cz_chevron/cz_chevron.png']\n",
      "['data_directory/20240314/20240314-041335-810-127fc7-cz_chevron/cz_chevron.png', 'data_directory/20240314/20240314-041805-615-4cb715-cz_chevron/cz_chevron.png', 'data_directory/20240314/20240314-042235-438-c379e6-cz_chevron/cz_chevron.png', 'data_directory/20240314/20240314-042705-054-53d661-cz_chevron/cz_chevron.png', 'data_directory/20240314/20240314-043134-855-33936a-cz_chevron/cz_chevron.png']\n",
      "['data_directory/20240314/20240314-043606-694-7eda5e-cz_chevron/cz_chevron.png', 'data_directory/20240314/20240314-044036-548-aba820-cz_chevron/cz_chevron.png', 'data_directory/20240314/20240314-044506-442-ff1406-cz_chevron/cz_chevron.png', 'data_directory/20240314/20240314-044936-341-b5b822-cz_chevron/cz_chevron.png', 'data_directory/20240314/20240314-045406-141-e9f853-cz_chevron/cz_chevron.png']\n",
      "['data_directory/20240314/20240314-045837-954-daa1ab-cz_chevron/cz_chevron.png', 'data_directory/20240314/20240314-050307-655-5c9f3f-cz_chevron/cz_chevron.png', 'data_directory/20240314/20240314-050737-491-ba5ca6-cz_chevron/cz_chevron.png', 'data_directory/20240314/20240314-051207-290-e9ba82-cz_chevron/cz_chevron.png', 'data_directory/20240314/20240314-051637-119-7a9787-cz_chevron/cz_chevron.png']\n",
      "['data_directory/20240314/20240314-002822-693-887d9f-cz_chevron/cz_chevron.png', 'data_directory/20240314/20240314-005054-505-b74ae2-cz_chevron/cz_chevron.png', 'data_directory/20240314/20240314-011325-969-ed2fd7-cz_chevron/cz_chevron.png', 'data_directory/20240314/20240314-013557-498-e22aae-cz_chevron/cz_chevron.png', 'data_directory/20240314/20240314-015828-941-dfaa67-cz_chevron/cz_chevron.png', 'data_directory/20240314/20240314-022100-255-8d2bec-cz_chevron/cz_chevron.png', 'data_directory/20240314/20240314-024331-350-4a6d4e-cz_chevron/cz_chevron.png', 'data_directory/20240314/20240314-030602-381-cd6def-cz_chevron/cz_chevron.png', 'data_directory/20240314/20240314-032833-581-7cdd5c-cz_chevron/cz_chevron.png', 'data_directory/20240314/20240314-035104-627-e4b927-cz_chevron/cz_chevron.png', 'data_directory/20240314/20240314-041335-810-127fc7-cz_chevron/cz_chevron.png', 'data_directory/20240314/20240314-043606-694-7eda5e-cz_chevron/cz_chevron.png', 'data_directory/20240314/20240314-045837-954-daa1ab-cz_chevron/cz_chevron.png']\n",
      "['data_directory/20240314/20240314-003252-720-904b92-cz_chevron/cz_chevron.png', 'data_directory/20240314/20240314-005524-425-b35dad-cz_chevron/cz_chevron.png', 'data_directory/20240314/20240314-011755-882-586ee5-cz_chevron/cz_chevron.png', 'data_directory/20240314/20240314-014027-238-1f08fa-cz_chevron/cz_chevron.png', 'data_directory/20240314/20240314-020258-717-504c90-cz_chevron/cz_chevron.png', 'data_directory/20240314/20240314-022529-949-4fa82d-cz_chevron/cz_chevron.png', 'data_directory/20240314/20240314-024801-149-18d600-cz_chevron/cz_chevron.png', 'data_directory/20240314/20240314-031032-246-e2108e-cz_chevron/cz_chevron.png', 'data_directory/20240314/20240314-033303-340-63b1e1-cz_chevron/cz_chevron.png', 'data_directory/20240314/20240314-035534-558-1d726c-cz_chevron/cz_chevron.png', 'data_directory/20240314/20240314-041805-615-4cb715-cz_chevron/cz_chevron.png', 'data_directory/20240314/20240314-044036-548-aba820-cz_chevron/cz_chevron.png', 'data_directory/20240314/20240314-050307-655-5c9f3f-cz_chevron/cz_chevron.png']\n",
      "['data_directory/20240314/20240314-003722-780-9856e6-cz_chevron/cz_chevron.png', 'data_directory/20240314/20240314-005954-259-31a794-cz_chevron/cz_chevron.png', 'data_directory/20240314/20240314-012225-890-553b0a-cz_chevron/cz_chevron.png', 'data_directory/20240314/20240314-014457-097-2c8b3c-cz_chevron/cz_chevron.png', 'data_directory/20240314/20240314-020728-521-eda835-cz_chevron/cz_chevron.png', 'data_directory/20240314/20240314-022959-798-7a61b9-cz_chevron/cz_chevron.png', 'data_directory/20240314/20240314-025230-778-870a85-cz_chevron/cz_chevron.png', 'data_directory/20240314/20240314-031502-030-b26f29-cz_chevron/cz_chevron.png', 'data_directory/20240314/20240314-033733-135-1d3b0e-cz_chevron/cz_chevron.png', 'data_directory/20240314/20240314-040004-342-f17a43-cz_chevron/cz_chevron.png', 'data_directory/20240314/20240314-042235-438-c379e6-cz_chevron/cz_chevron.png', 'data_directory/20240314/20240314-044506-442-ff1406-cz_chevron/cz_chevron.png', 'data_directory/20240314/20240314-050737-491-ba5ca6-cz_chevron/cz_chevron.png']\n",
      "['data_directory/20240314/20240314-004152-670-a7fc01-cz_chevron/cz_chevron.png', 'data_directory/20240314/20240314-010424-182-e246f0-cz_chevron/cz_chevron.png', 'data_directory/20240314/20240314-012655-758-59ac0c-cz_chevron/cz_chevron.png', 'data_directory/20240314/20240314-014927-162-741843-cz_chevron/cz_chevron.png', 'data_directory/20240314/20240314-021158-410-f92da9-cz_chevron/cz_chevron.png', 'data_directory/20240314/20240314-023429-689-5f13dc-cz_chevron/cz_chevron.png', 'data_directory/20240314/20240314-025700-664-c561da-cz_chevron/cz_chevron.png', 'data_directory/20240314/20240314-031932-009-b3fe5f-cz_chevron/cz_chevron.png', 'data_directory/20240314/20240314-034202-879-335640-cz_chevron/cz_chevron.png', 'data_directory/20240314/20240314-040434-137-9ee77c-cz_chevron/cz_chevron.png', 'data_directory/20240314/20240314-042705-054-53d661-cz_chevron/cz_chevron.png', 'data_directory/20240314/20240314-044936-341-b5b822-cz_chevron/cz_chevron.png', 'data_directory/20240314/20240314-051207-290-e9ba82-cz_chevron/cz_chevron.png']\n",
      "['data_directory/20240314/20240314-004622-644-3cd380-cz_chevron/cz_chevron.png', 'data_directory/20240314/20240314-010854-051-951a1a-cz_chevron/cz_chevron.png', 'data_directory/20240314/20240314-013125-588-dfcc36-cz_chevron/cz_chevron.png', 'data_directory/20240314/20240314-015357-048-d37b15-cz_chevron/cz_chevron.png', 'data_directory/20240314/20240314-021628-242-36b299-cz_chevron/cz_chevron.png', 'data_directory/20240314/20240314-023859-555-49a81f-cz_chevron/cz_chevron.png', 'data_directory/20240314/20240314-030130-472-74df6d-cz_chevron/cz_chevron.png', 'data_directory/20240314/20240314-032401-694-12ac09-cz_chevron/cz_chevron.png', 'data_directory/20240314/20240314-034632-684-462d87-cz_chevron/cz_chevron.png', 'data_directory/20240314/20240314-040903-968-f44e04-cz_chevron/cz_chevron.png', 'data_directory/20240314/20240314-043134-855-33936a-cz_chevron/cz_chevron.png', 'data_directory/20240314/20240314-045406-141-e9f853-cz_chevron/cz_chevron.png', 'data_directory/20240314/20240314-051637-119-7a9787-cz_chevron/cz_chevron.png']\n"
     ]
    }
   ],
   "source": [
    "import os\n",
    "import glob\n",
    "import subprocess\n",
    "from PIL import Image\n",
    "\n",
    "def merge_images(image_paths, output_path):\n",
    "    images = [Image.open(path) for path in image_paths]\n",
    "    widths, heights = zip(*(i.size for i in images))\n",
    "\n",
    "    max_width = max(widths)\n",
    "    total_height = sum(heights)\n",
    "\n",
    "    merged_image = Image.new('RGB', (max_width, total_height))\n",
    "\n",
    "    y_offset = 0\n",
    "    for image in images:\n",
    "        merged_image.paste(image, (0, y_offset))\n",
    "        y_offset += image.size[1]\n",
    "\n",
    "    merged_image.save(output_path)\n",
    "\n",
    "# Change the directory to the folder containing your PNG files\n",
    "\n",
    "# Get a list of all folders in the main folder\n",
    "#print(all_results)\n",
    "\n",
    "numberOfAmps = len(amps)\n",
    "numberOfCurrents = len(currents)\n",
    "\n",
    "ampIter = 0\n",
    "currentIter = 0\n",
    "\n",
    "image_paths_currents = [[] for _ in range(numberOfCurrents)]\n",
    "image_paths_amps = [[] for _ in range(numberOfAmps)]\n",
    "\n",
    "# Loop through each folder\n",
    "for element in all_results:\n",
    "    date = element[\"name\"][0:8]\n",
    "    folder = 'data_directory/'+date+'/'+element[\"name\"]\n",
    "\n",
    "    # print(folder)\n",
    "    manipulateFiles = False\n",
    "    png_file_longName = os.path.join(folder, \"cz_chevron_\" + str(amps[ampIter%numberOfAmps]) + \"_\"+ str(currents[currentIter]) + \".png\")\n",
    "    # print(png_file_longName)\n",
    "    # Get the path to the PNG file in the current folder\n",
    "    if (manipulateFiles):\n",
    "        png_file = os.path.join(folder, \"cz_chevron.png\")\n",
    "        png_file_toDelete = os.path.join(folder, \"cz_chevron_*.png\")\n",
    "        os.system(\"del \" + png_file_toDelete)\n",
    "        os.system(\"copy \" + png_file + \" \" + png_file_longName)\n",
    "    else:\n",
    "        png_file_longName = os.path.join(folder,\"cz_chevron.png\")\n",
    "\n",
    "    # Open the PNG file using the default image viewer\n",
    "    if currentIter == numberOfAmps+1 and False:\n",
    "        # print(png_file_longName)\n",
    "        os.system(\"start \" + png_file_longName)\n",
    "\n",
    "    image_paths_currents[currentIter].append(png_file_longName) \n",
    "    image_paths_amps[ampIter % numberOfAmps].append(png_file_longName) \n",
    "\n",
    "    ampIter = ampIter + 1\n",
    "    if (ampIter % numberOfAmps == 0):\n",
    "        currentIter = currentIter + 1\n",
    "output_folder = 'notebooks/cz/'+list(all_results[0]['result'].keys())[1]+'/'\n",
    "os.makedirs(output_folder, exist_ok=True)\n",
    "for i in range(numberOfCurrents):\n",
    "    output_path = output_folder+\"merged_image_C\" + str(currents[i])  +\".png\"  # Output path for the merged image\n",
    "    print(image_paths_currents[i])\n",
    "    merge_images(image_paths_currents[i], output_path)\n",
    "\n",
    "for i in range(numberOfAmps):\n",
    "    output_path = output_folder+\"merged_image_A\" + str(amps[i])  +\".png\"  # Output path for the merged image\n",
    "    print(image_paths_amps[i])\n",
    "    merge_images(image_paths_amps[i], output_path)\n"
   ]
  },
  {
   "cell_type": "code",
   "execution_count": null,
   "metadata": {},
   "outputs": [],
   "source": []
  }
 ],
 "metadata": {
  "kernelspec": {
   "display_name": "Python 3",
   "language": "python",
   "name": "python3"
  },
  "language_info": {
   "codemirror_mode": {
    "name": "ipython",
    "version": 3
   },
   "file_extension": ".py",
   "mimetype": "text/x-python",
   "name": "python",
   "nbconvert_exporter": "python",
   "pygments_lexer": "ipython3",
   "version": "3.9.18"
  }
 },
 "nbformat": 4,
 "nbformat_minor": 2
}
