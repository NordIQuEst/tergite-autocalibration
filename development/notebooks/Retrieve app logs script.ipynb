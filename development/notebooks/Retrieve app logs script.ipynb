{
 "cells": [
  {
   "cell_type": "code",
   "execution_count": null,
   "id": "e1852994",
   "metadata": {},
   "outputs": [],
   "source": [
    "from qblox_instruments import ConfigurationManager\n",
    "from qblox_instruments import Cluster"
   ]
  },
  {
   "cell_type": "code",
   "execution_count": null,
   "id": "345519ec",
   "metadata": {},
   "outputs": [],
   "source": [
    "!qblox-pnp list"
   ]
  },
  {
   "cell_type": "code",
   "execution_count": null,
   "id": "6910ebc2",
   "metadata": {},
   "outputs": [],
   "source": [
    "ip_address = \"192.0.2.72\" #ip address of cluster"
   ]
  },
  {
   "cell_type": "code",
   "execution_count": null,
   "id": "2fde0863",
   "metadata": {},
   "outputs": [],
   "source": [
    "cluster = Cluster(\"cluster0\",ip_address)"
   ]
  },
  {
   "cell_type": "code",
   "execution_count": null,
   "id": "358d5c01",
   "metadata": {},
   "outputs": [],
   "source": [
    "# Download CMM log\n",
    "\n",
    "# slot_no = 1\n",
    "# module_type = 'qcm/rf'\n",
    "\n",
    "# with ConfigurationManager(f\"{ip_address}\") as cm:\n",
    "#     for source in [\"app\"]:\n",
    "#         with open(f\"slot{slot_no}_{module_type}_{source}.log\", 'w') as f:\n",
    "#             cm.download_log(source=source, fmt='tail', tail=10000, file=f)\n",
    "\n",
    "# Download logs of modules\n",
    "for module in cluster.modules[:20]:\n",
    "    try:\n",
    "        if module.is_qrm_type:\n",
    "            module_type = \"qrm_rf\" \n",
    "        elif module.is_rf_type:\n",
    "            module_type = \"qcm_rf\"\n",
    "        else:\n",
    "            module_type = \"qcm\"\n",
    "        slot_no = module.slot_idx\n",
    "        with ConfigurationManager(f\"{ip_address}/{slot_no}\") as cm:\n",
    "            for source in [\"app\"]:\n",
    "                with open(f\"slot{slot_no}_{module_type}_{source}.log\", 'w') as f:\n",
    "                    cm.download_log(source=source, fmt='tail', tail=10000, file=f)\n",
    "    except KeyError as e:\n",
    "        print(e)"
   ]
  },
  {
   "cell_type": "code",
   "execution_count": 12,
   "id": "e211c50a",
   "metadata": {},
   "outputs": [
    {
     "name": "stdout",
     "output_type": "stream",
     "text": [
      "37.3515625\n",
      "53.382\n",
      "31.9453125\n",
      "72.7890625\n",
      "72.171875\n"
     ]
    }
   ],
   "source": [
    "slot_no = 20\n",
    "print(cluster.get_maximum_afe_temperature(slot_no))\n",
    "print(cluster.get_maximum_fpga_temperature(slot_no))\n",
    "print(cluster.get_maximum_carrier_temperature(slot_no))\n",
    "print(cluster.get_maximum_bp_temperature_1())\n",
    "print(cluster.get_maximum_bp_temperature_2())"
   ]
  },
  {
   "cell_type": "code",
   "execution_count": null,
   "id": "ebd1e1e8",
   "metadata": {},
   "outputs": [],
   "source": []
  }
 ],
 "metadata": {
  "kernelspec": {
   "display_name": "Python 3 (ipykernel)",
   "language": "python",
   "name": "python3"
  },
  "language_info": {
   "codemirror_mode": {
    "name": "ipython",
    "version": 3
   },
   "file_extension": ".py",
   "mimetype": "text/x-python",
   "name": "python",
   "nbconvert_exporter": "python",
   "pygments_lexer": "ipython3",
   "version": "3.9.19"
  }
 },
 "nbformat": 4,
 "nbformat_minor": 5
}
