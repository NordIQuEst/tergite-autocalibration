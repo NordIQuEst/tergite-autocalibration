{
 "cells": [
  {
   "cell_type": "markdown",
   "metadata": {},
   "source": [
    "# Dac manipulation"
   ]
  },
  {
   "cell_type": "markdown",
   "metadata": {},
   "source": [
    "## Check current current values on all dacs if needed"
   ]
  },
  {
   "cell_type": "code",
   "execution_count": 2,
   "metadata": {},
   "outputs": [
    {
     "name": "stdout",
     "output_type": "stream",
     "text": [
      "Connected to: Qblox SPI Rack (serial:None, firmware:{'device': 'v1.6 - May 10 2019 - mt', 'driver': {'version': '0.11.1', 'build': '18/09/2023-09:00:54', 'hash': '977377ad', 'dirty': False}}) in 0.00s\n",
      "['q16_q17', 'q17_q18', 'q18_q19', 'q19_q20', 'q18_q23', 'q17_q22', 'q16_q21', 'q19_q24', 'q20_q25', 'q21_q22', 'q22_q23', 'q23_q24', 'q24_q25', 'q13_q18', 'q15_q20', 'q14_q19']\n",
      "[0.0, 0.0, 0.0, 0.0, 0.0, 0.0, 0.0, 0.0, 0.0, 0.0, 0.0, 0.0, 0.0, 0.0, 0.0, 0.0]\n"
     ]
    }
   ],
   "source": [
    "from tergite_acl.utils.hardware_utils import SpiDAC\n",
    "from tergite_acl.config.coupler_config import coupler_spi_map\n",
    "try:\n",
    "    spi = SpiDAC()\n",
    "except:\n",
    "    pass\n",
    "couplers = list(coupler_spi_map.keys())\n",
    "dacs = [spi.create_spi_dac(coupler) for coupler in couplers]\n",
    "coupler_dac = dict(zip(couplers,dacs))\n",
    "print(couplers)\n",
    "print([dac.current() for dac in dacs])"
   ]
  },
  {
   "cell_type": "markdown",
   "metadata": {},
   "source": [
    "## Set all dacs to zero if needed"
   ]
  },
  {
   "cell_type": "code",
   "execution_count": 3,
   "metadata": {},
   "outputs": [
    {
     "name": "stdout",
     "output_type": "stream",
     "text": [
      "Finished ramping\n",
      " target_current = 0.0\n",
      " dac.current() = 0.0\n",
      "Coupler q16_q17 is parked at 0.0.\n",
      "Finished ramping\n",
      " target_current = 0.0\n",
      " dac.current() = 0.0\n",
      "Coupler q17_q18 is parked at 0.0.\n",
      "Finished ramping\n",
      " target_current = 0.0\n",
      " dac.current() = 0.0\n",
      "Coupler q18_q19 is parked at 0.0.\n",
      "Finished ramping\n",
      " target_current = 0.0\n",
      " dac.current() = 0.0\n",
      "Coupler q19_q20 is parked at 0.0.\n",
      "Finished ramping\n",
      " target_current = 0.0\n",
      " dac.current() = 0.0\n",
      "Coupler q18_q23 is parked at 0.0.\n",
      "Finished ramping\n",
      " target_current = 0.0\n",
      " dac.current() = 0.0\n",
      "Coupler q17_q22 is parked at 0.0.\n",
      "Finished ramping\n",
      " target_current = 0.0\n",
      " dac.current() = 0.0\n",
      "Coupler q16_q21 is parked at 0.0.\n",
      "Finished ramping\n",
      " target_current = 0.0\n",
      " dac.current() = 0.0\n",
      "Coupler q19_q24 is parked at 0.0.\n",
      "Finished ramping\n",
      " target_current = 0.0\n",
      " dac.current() = 0.0\n",
      "Coupler q20_q25 is parked at 0.0.\n",
      "Finished ramping\n",
      " target_current = 0.0\n",
      " dac.current() = 0.0\n",
      "Coupler q21_q22 is parked at 0.0.\n",
      "Finished ramping\n",
      " target_current = 0.0\n",
      " dac.current() = 0.0\n",
      "Coupler q22_q23 is parked at 0.0.\n",
      "Finished ramping\n",
      " target_current = 0.0\n",
      " dac.current() = 0.0\n",
      "Coupler q23_q24 is parked at 0.0.\n",
      "Finished ramping\n",
      " target_current = 0.0\n",
      " dac.current() = 0.0\n",
      "Coupler q24_q25 is parked at 0.0.\n",
      "Finished ramping\n",
      " target_current = 0.0\n",
      " dac.current() = 0.0\n",
      "Coupler q13_q18 is parked at 0.0.\n",
      "Finished ramping\n",
      " target_current = 0.0\n",
      " dac.current() = 0.0\n",
      "Coupler q15_q20 is parked at 0.0.\n",
      "Finished ramping\n",
      " target_current = 0.0\n",
      " dac.current() = 0.0\n",
      "Coupler q14_q19 is parked at 0.0.\n"
     ]
    },
    {
     "name": "stderr",
     "output_type": "stream",
     "text": [
      "/home/loke-c/miniforge3/envs/tac/lib/python3.9/site-packages/qblox_instruments/native/spi_rack_modules/s4g_module.py:407: RuntimeWarning: invalid value encountered in scalar divide\n",
      "  dt = np.abs(val_begin - val) / self._ramp_rate / num_steps\n"
     ]
    }
   ],
   "source": [
    "parking_current = 0e-6\n",
    "for coupler in couplers:\n",
    "# coupler = couplers[0]\n",
    "    dac = coupler_dac[coupler]\n",
    "    spi.set_dac_current(dac, parking_current)\n",
    "    print(f'Coupler {coupler} is parked at {dac.current()}.')"
   ]
  },
  {
   "cell_type": "markdown",
   "metadata": {},
   "source": [
    "## Set the current of the dac corresponding to a certain coupler to a certain value if needed"
   ]
  },
  {
   "cell_type": "code",
   "execution_count": null,
   "metadata": {},
   "outputs": [],
   "source": [
    "coupler = 'q23_q24'\n",
    "parking_current = -750e-6\n",
    "spi.set_dac_current(coupler_dac[coupler], parking_current)\n",
    "print(f'Coupler {coupler} is parked at {coupler_dac[coupler].current()}.')"
   ]
  },
  {
   "cell_type": "markdown",
   "metadata": {},
   "source": [
    "## Get the parking current of a certain coupler in Redis if needed"
   ]
  },
  {
   "cell_type": "code",
   "execution_count": 4,
   "metadata": {},
   "outputs": [
    {
     "name": "stdout",
     "output_type": "stream",
     "text": [
      "Coupler parameters q23_q24:\n"
     ]
    }
   ],
   "source": [
    "import redis\n",
    "redis_connection = redis.Redis(decode_responses=True)\n",
    "couplers = ['q23_q24']\n",
    "for coupler in couplers: \n",
    "    print(f\"Coupler parameters {coupler}:\")\n",
    "    redis_config = redis_connection.hgetall(f\"transmons:{coupler}\")\n",
    "    for key, value in redis_config.items():\n",
    "        print(f\"{key}: {value}\")"
   ]
  },
  {
   "cell_type": "markdown",
   "metadata": {},
   "source": [
    "## Set the parking current of a certain coupler in Redis if needed"
   ]
  },
  {
   "cell_type": "code",
   "execution_count": null,
   "metadata": {},
   "outputs": [],
   "source": [
    "coupler = 'q23_q24'\n",
    "transmon_parameter = 'parking_current'\n",
    "for coupler in couplers: \n",
    "    redis_connection.hset(f\"transmons:{coupler}\", f\"{transmon_parameter}\",parking_current)\n",
    "parking_current = float(redis_connection.hget(f'transmons:{coupler}', 'parking_current'))\n",
    "print(parking_current)"
   ]
  },
  {
   "cell_type": "markdown",
   "metadata": {},
   "source": [
    "# Modulation amplitude calibration"
   ]
  },
  {
   "cell_type": "markdown",
   "metadata": {},
   "source": [
    "## Configure current sweep range and calculate time if needed\n",
    "User needs to esimate time per sweep on their own"
   ]
  },
  {
   "cell_type": "code",
   "execution_count": null,
   "metadata": {},
   "outputs": [],
   "source": [
    "from tergite_acl.scripts.monitor import Monitor\n",
    "import numpy as np\n",
    "import os\n",
    "monitor = Monitor()\n",
    "monitor.node_status('cz_chevron')\n",
    "# monitor.calibrate_node('cz_chevron')\n",
    "current_sweep = np.arange(-1200,-600,-10)*1e-6\n",
    "print(f'{current_sweep = }')\n",
    "time_per_sweep = 0.1\n",
    "time = len(current_sweep)*time_per_sweep\n",
    "print(f'{time = } hours')"
   ]
  },
  {
   "cell_type": "markdown",
   "metadata": {},
   "source": [
    "Establish connection to SPI and print all current dac values"
   ]
  },
  {
   "cell_type": "code",
   "execution_count": null,
   "metadata": {},
   "outputs": [],
   "source": [
    "import numpy as np\n",
    "from tergite_acl.utils.hardware_utils import SpiDAC\n",
    "from tergite_acl.config.coupler_config import coupler_spi_map\n",
    "try:\n",
    "    spi = SpiDAC()\n",
    "except:\n",
    "    pass\n",
    "all_couplers = list(coupler_spi_map.keys())\n",
    "dacs = [spi.create_spi_dac(coupler) for coupler in all_couplers]\n",
    "coupler_dac = dict(zip(all_couplers,dacs))\n",
    "print(f'{all_couplers = }')\n",
    "print([dac.current() for dac in dacs])\n",
    "\n",
    "from tergite_acl.utils.user_input import qubits,couplers\n",
    "print(f'curent = {coupler_dac[couplers[0]].current()}')"
   ]
  },
  {
   "cell_type": "markdown",
   "metadata": {},
   "source": [
    "Sweep bias current and plot (and fit) modeulation amplitude vs modulation frequency of the coupler"
   ]
  },
  {
   "cell_type": "code",
   "execution_count": null,
   "metadata": {},
   "outputs": [],
   "source": [
    "all_results = []\n",
    "amp = 0.5 #optional if you want to additionally run a chevron (gate time vs frequency) node in the following for loop\n",
    "half_cz_time = 120e-9\n",
    "for parking_current in current_sweep:\n",
    "    print('--------------------------------------------')\n",
    "    print(f'{parking_current = }')\n",
    "    print('--------------------------------------------')\n",
    "    spi.set_dac_current(coupler_dac[couplers[0]], parking_current)\n",
    "    monitor.calibrate_node('qubit_01_spectroscopy') # calibrate qubit frequency in case it shifted due to bias current\n",
    "    #monitor.calibrate_node('rabi_oscillations')\n",
    "\n",
    "    print('++++++++++++++++++++++++++++++++++++++++++++')\n",
    "    #optionally run chevron node at this bias \n",
    "    #monitor.calibrate_node('cz_chevron',cz_pulse_amplitude = amp)\n",
    "    #all_results.append({'name':monitor.get_name(),'parking_current':parking_current,'amplitude': amp,'result':monitor.get_results()})\n",
    "    monitor.calibrate_node('cz_chevron_amplitude',cz_pulse_duration = half_cz_time)\n",
    "    all_results.append({'name':monitor.get_name(),'parking_current':parking_current,'duration':half_cz_time,'result':monitor.get_results()})\n",
    "    date = all_results[0]['name'][:8]\n",
    "    path = 'tergite_acl/notebooks/cz/'+date+'/'\n",
    "    try:\n",
    "        os.mkdir(path)\n",
    "    except:\n",
    "        pass\n",
    "    with open(path+couplers[0]+'_'+all_results[0]['name']+'_all_results.py', 'w') as f:\n",
    "        f.write(f\"all_results = {all_results}\\n\")"
   ]
  },
  {
   "cell_type": "markdown",
   "metadata": {},
   "source": [
    "If you found a good bias point, you run a chevron (if you haven't already) to extract the initial guess gate time and frequency\n",
    "\n",
    "This should be run at amp you fit from the optimum current in the previous loop"
   ]
  },
  {
   "cell_type": "code",
   "execution_count": null,
   "metadata": {},
   "outputs": [],
   "source": [
    "all_results = []\n",
    "amp = 0.5 #the amplitude you fit from the best bias point\n",
    "half_cz_time = 120e-9 #optional if you want to run the amplitude vs frequency at this bias point as well\n",
    "optimal_bias = -720e-6\n",
    "print('--------------------------------------------')\n",
    "print(f'{optimal_bias = }')\n",
    "print('--------------------------------------------')\n",
    "spi.set_dac_current(coupler_dac[couplers[0]], optimal_bias)\n",
    "monitor.calibrate_node('qubit_01_spectroscopy') # calibrate qubit frequency in case it shifted due to bias current\n",
    "#monitor.calibrate_node('rabi_oscillations')\n",
    "\n",
    "print('++++++++++++++++++++++++++++++++++++++++++++')\n",
    "monitor.calibrate_node('cz_chevron',cz_pulse_amplitude = amp)\n",
    "all_results.append({'name':monitor.get_name(),'parking_current':parking_current,'amplitude': amp,'result':monitor.get_results()})\n",
    "\n",
    "#optionally run amplitude vs frequency node node at this bias \n",
    "\n",
    "# monitor.calibrate_node('cz_chevron_amplitude',cz_pulse_duration = half_cz_time)\n",
    "# all_results.append({'name':monitor.get_name(),'parking_current':parking_current,'duration':half_cz_time,'result':monitor.get_results()})\n",
    "date = all_results[0]['name'][:8]\n",
    "path = 'tergite_acl/notebooks/cz/'+date+'/'\n",
    "try:\n",
    "    os.mkdir(path)\n",
    "except:\n",
    "    pass\n",
    "with open(path+couplers[0]+'_'+all_results[0]['name']+'_all_results.py', 'w') as f:\n",
    "    f.write(f\"all_results = {all_results}\\n\")"
   ]
  },
  {
   "cell_type": "markdown",
   "metadata": {},
   "source": [
    "## CZ optimization"
   ]
  },
  {
   "cell_type": "markdown",
   "metadata": {},
   "source": [
    "Manually input the CZ gate time and frequency you extract from the previous chevron and set that to redis"
   ]
  },
  {
   "cell_type": "code",
   "execution_count": null,
   "metadata": {},
   "outputs": [],
   "source": [
    "cz = {'q14_q15': {'parking_current': -0.000720,\n",
    "'cz_pulse_frequency': 558000000.0,\n",
    "'cz_pulse_duration':260e-9,\n",
    "'cz_pulse_amplitude': 0.5,\n",
    "'cz_dynamic_target': 0,\n",
    "'cz_dynamic_control': 0,\n",
    "'tqg_fidelity': 0}}\n",
    "\n",
    "from tergite_acl.utils.user_input import qubits,couplers\n",
    "import redis\n",
    "redis_connection = redis.Redis(decode_responses=True)\n",
    "print(cz)\n",
    "for coupler in couplers:\n",
    "    for key, value in cz[coupler].items():\n",
    "        redis_connection.hset(f\"couplers:{coupler}\", key,value)"
   ]
  },
  {
   "cell_type": "markdown",
   "metadata": {},
   "source": [
    "Start the optimizer"
   ]
  },
  {
   "cell_type": "code",
   "execution_count": null,
   "metadata": {},
   "outputs": [],
   "source": [
    "from tergite_acl.scripts.monitor import Monitor, OptimizeNode\n",
    "import numpy as np\n",
    "import os\n",
    "monitor = Monitor()\n",
    "monitor.node_status('cz_calibration_ssro')\n",
    "# monitor.calibrate_node('cz_calibration')\n",
    "#optimize Node can be ran so far on either \"cz_calibration_ssro_node\" or \"tqg_randomized_benchmarking_interleaved_ssro\" node\n",
    "#if you choose to run with \"tqg_randomized_benchmarking_interleaved_ssro\"\n",
    "optimize = OptimizeNode('tqg_randomized_benchmarking_interleaved_ssro',trails = 80)\n",
    "\n",
    "#if you choose to run with \"cz_calibration\"\n",
    "optimize = OptimizeNode('cz_calibration_ssro_node',trails = 80, optimize_swap=False, number_of_cz = 3)\n",
    "\n",
    "optimize_results = optimize.optimize_node()"
   ]
  },
  {
   "cell_type": "markdown",
   "metadata": {},
   "source": [
    "run validate_cz() to run once with the optimized parameters. The optimize_node() automatically runs this but you can run it again anyways"
   ]
  },
  {
   "cell_type": "code",
   "execution_count": null,
   "metadata": {},
   "outputs": [],
   "source": [
    "results = optimize.validate_cz()"
   ]
  },
  {
   "cell_type": "markdown",
   "metadata": {},
   "source": [
    "These are the best parameters. Note that this is just the epsilon over the input CZ values"
   ]
  },
  {
   "cell_type": "code",
   "execution_count": null,
   "metadata": {},
   "outputs": [],
   "source": [
    "optimize_results.best_trial,optimize_results.best_params"
   ]
  },
  {
   "cell_type": "markdown",
   "metadata": {},
   "source": [
    "Visualize the convergence to solution"
   ]
  },
  {
   "cell_type": "code",
   "execution_count": null,
   "metadata": {},
   "outputs": [],
   "source": [
    "import optuna\n",
    "optuna.visualization.plot_optimization_history(optimize_results)"
   ]
  },
  {
   "cell_type": "markdown",
   "metadata": {},
   "source": []
  }
 ],
 "metadata": {
  "kernelspec": {
   "display_name": "autocalib",
   "language": "python",
   "name": "python3"
  },
  "language_info": {
   "codemirror_mode": {
    "name": "ipython",
    "version": 3
   },
   "file_extension": ".py",
   "mimetype": "text/x-python",
   "name": "python",
   "nbconvert_exporter": "python",
   "pygments_lexer": "ipython3",
   "version": "3.9.19"
  }
 },
 "nbformat": 4,
 "nbformat_minor": 2
}
