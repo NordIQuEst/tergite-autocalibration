{
 "cells": [
  {
   "cell_type": "code",
   "execution_count": 2,
   "metadata": {},
   "outputs": [
    {
     "name": "stdout",
     "output_type": "stream",
     "text": [
      " remove_node = 'T1'\n",
      "/home/oarm/repos/tergite-autocalibration-lite/tergite_acl/utils/convert.py:121: UserWarning: 'transmons:q06' is not in mapped parameter list in utilities/standard_redis_storage.py. Please add appropriate parameter atributes in the map\n",
      "  warnings.warn(\n",
      "/home/oarm/repos/tergite-autocalibration-lite/tergite_acl/utils/convert.py:121: UserWarning: 'transmons:q07' is not in mapped parameter list in utilities/standard_redis_storage.py. Please add appropriate parameter atributes in the map\n",
      "  warnings.warn(\n",
      "/home/oarm/repos/tergite-autocalibration-lite/tergite_acl/utils/convert.py:121: UserWarning: 'transmons:q08' is not in mapped parameter list in utilities/standard_redis_storage.py. Please add appropriate parameter atributes in the map\n",
      "  warnings.warn(\n",
      "/home/oarm/repos/tergite-autocalibration-lite/tergite_acl/utils/convert.py:121: UserWarning: 'transmons:q09' is not in mapped parameter list in utilities/standard_redis_storage.py. Please add appropriate parameter atributes in the map\n",
      "  warnings.warn(\n",
      "/home/oarm/repos/tergite-autocalibration-lite/tergite_acl/utils/convert.py:121: UserWarning: 'transmons:q10' is not in mapped parameter list in utilities/standard_redis_storage.py. Please add appropriate parameter atributes in the map\n",
      "  warnings.warn(\n",
      "/home/oarm/repos/tergite-autocalibration-lite/tergite_acl/utils/convert.py:121: UserWarning: 'transmons:q11' is not in mapped parameter list in utilities/standard_redis_storage.py. Please add appropriate parameter atributes in the map\n",
      "  warnings.warn(\n",
      "/home/oarm/repos/tergite-autocalibration-lite/tergite_acl/utils/convert.py:121: UserWarning: 'transmons:q12' is not in mapped parameter list in utilities/standard_redis_storage.py. Please add appropriate parameter atributes in the map\n",
      "  warnings.warn(\n",
      "/home/oarm/repos/tergite-autocalibration-lite/tergite_acl/utils/convert.py:121: UserWarning: 'transmons:q13' is not in mapped parameter list in utilities/standard_redis_storage.py. Please add appropriate parameter atributes in the map\n",
      "  warnings.warn(\n",
      "/home/oarm/repos/tergite-autocalibration-lite/tergite_acl/utils/convert.py:121: UserWarning: 'transmons:q14' is not in mapped parameter list in utilities/standard_redis_storage.py. Please add appropriate parameter atributes in the map\n",
      "  warnings.warn(\n",
      "/home/oarm/repos/tergite-autocalibration-lite/tergite_acl/utils/convert.py:121: UserWarning: 'transmons:q15' is not in mapped parameter list in utilities/standard_redis_storage.py. Please add appropriate parameter atributes in the map\n",
      "  warnings.warn(\n",
      "/home/oarm/repos/tergite-autocalibration-lite/tergite_acl/utils/convert.py:121: UserWarning: 'couplers:q12_q14' is not in mapped parameter list in utilities/standard_redis_storage.py. Please add appropriate parameter atributes in the map\n",
      "  warnings.warn(\n",
      " remove_node = 'T2'\n",
      "/home/oarm/repos/tergite-autocalibration-lite/tergite_acl/utils/convert.py:121: UserWarning: 'transmons:q06' is not in mapped parameter list in utilities/standard_redis_storage.py. Please add appropriate parameter atributes in the map\n",
      "  warnings.warn(\n",
      "/home/oarm/repos/tergite-autocalibration-lite/tergite_acl/utils/convert.py:121: UserWarning: 'transmons:q07' is not in mapped parameter list in utilities/standard_redis_storage.py. Please add appropriate parameter atributes in the map\n",
      "  warnings.warn(\n",
      "/home/oarm/repos/tergite-autocalibration-lite/tergite_acl/utils/convert.py:121: UserWarning: 'transmons:q08' is not in mapped parameter list in utilities/standard_redis_storage.py. Please add appropriate parameter atributes in the map\n",
      "  warnings.warn(\n",
      "/home/oarm/repos/tergite-autocalibration-lite/tergite_acl/utils/convert.py:121: UserWarning: 'transmons:q09' is not in mapped parameter list in utilities/standard_redis_storage.py. Please add appropriate parameter atributes in the map\n",
      "  warnings.warn(\n",
      "/home/oarm/repos/tergite-autocalibration-lite/tergite_acl/utils/convert.py:121: UserWarning: 'transmons:q10' is not in mapped parameter list in utilities/standard_redis_storage.py. Please add appropriate parameter atributes in the map\n",
      "  warnings.warn(\n",
      "/home/oarm/repos/tergite-autocalibration-lite/tergite_acl/utils/convert.py:121: UserWarning: 'transmons:q11' is not in mapped parameter list in utilities/standard_redis_storage.py. Please add appropriate parameter atributes in the map\n",
      "  warnings.warn(\n",
      "/home/oarm/repos/tergite-autocalibration-lite/tergite_acl/utils/convert.py:121: UserWarning: 'transmons:q12' is not in mapped parameter list in utilities/standard_redis_storage.py. Please add appropriate parameter atributes in the map\n",
      "  warnings.warn(\n",
      "/home/oarm/repos/tergite-autocalibration-lite/tergite_acl/utils/convert.py:121: UserWarning: 'transmons:q13' is not in mapped parameter list in utilities/standard_redis_storage.py. Please add appropriate parameter atributes in the map\n",
      "  warnings.warn(\n",
      "/home/oarm/repos/tergite-autocalibration-lite/tergite_acl/utils/convert.py:121: UserWarning: 'transmons:q14' is not in mapped parameter list in utilities/standard_redis_storage.py. Please add appropriate parameter atributes in the map\n",
      "  warnings.warn(\n",
      "/home/oarm/repos/tergite-autocalibration-lite/tergite_acl/utils/convert.py:121: UserWarning: 'transmons:q15' is not in mapped parameter list in utilities/standard_redis_storage.py. Please add appropriate parameter atributes in the map\n",
      "  warnings.warn(\n",
      "/home/oarm/repos/tergite-autocalibration-lite/tergite_acl/utils/convert.py:121: UserWarning: 'couplers:q12_q14' is not in mapped parameter list in utilities/standard_redis_storage.py. Please add appropriate parameter atributes in the map\n",
      "  warnings.warn(\n",
      " remove_node = 'T2_echo'\n",
      "/home/oarm/repos/tergite-autocalibration-lite/tergite_acl/utils/convert.py:121: UserWarning: 'transmons:q06' is not in mapped parameter list in utilities/standard_redis_storage.py. Please add appropriate parameter atributes in the map\n",
      "  warnings.warn(\n",
      "/home/oarm/repos/tergite-autocalibration-lite/tergite_acl/utils/convert.py:121: UserWarning: 'transmons:q07' is not in mapped parameter list in utilities/standard_redis_storage.py. Please add appropriate parameter atributes in the map\n",
      "  warnings.warn(\n",
      "/home/oarm/repos/tergite-autocalibration-lite/tergite_acl/utils/convert.py:121: UserWarning: 'transmons:q08' is not in mapped parameter list in utilities/standard_redis_storage.py. Please add appropriate parameter atributes in the map\n",
      "  warnings.warn(\n",
      "/home/oarm/repos/tergite-autocalibration-lite/tergite_acl/utils/convert.py:121: UserWarning: 'transmons:q09' is not in mapped parameter list in utilities/standard_redis_storage.py. Please add appropriate parameter atributes in the map\n",
      "  warnings.warn(\n",
      "/home/oarm/repos/tergite-autocalibration-lite/tergite_acl/utils/convert.py:121: UserWarning: 'transmons:q10' is not in mapped parameter list in utilities/standard_redis_storage.py. Please add appropriate parameter atributes in the map\n",
      "  warnings.warn(\n",
      "/home/oarm/repos/tergite-autocalibration-lite/tergite_acl/utils/convert.py:121: UserWarning: 'transmons:q11' is not in mapped parameter list in utilities/standard_redis_storage.py. Please add appropriate parameter atributes in the map\n",
      "  warnings.warn(\n",
      "/home/oarm/repos/tergite-autocalibration-lite/tergite_acl/utils/convert.py:121: UserWarning: 'transmons:q12' is not in mapped parameter list in utilities/standard_redis_storage.py. Please add appropriate parameter atributes in the map\n",
      "  warnings.warn(\n",
      "/home/oarm/repos/tergite-autocalibration-lite/tergite_acl/utils/convert.py:121: UserWarning: 'transmons:q13' is not in mapped parameter list in utilities/standard_redis_storage.py. Please add appropriate parameter atributes in the map\n",
      "  warnings.warn(\n",
      "/home/oarm/repos/tergite-autocalibration-lite/tergite_acl/utils/convert.py:121: UserWarning: 'transmons:q14' is not in mapped parameter list in utilities/standard_redis_storage.py. Please add appropriate parameter atributes in the map\n",
      "  warnings.warn(\n",
      "/home/oarm/repos/tergite-autocalibration-lite/tergite_acl/utils/convert.py:121: UserWarning: 'transmons:q15' is not in mapped parameter list in utilities/standard_redis_storage.py. Please add appropriate parameter atributes in the map\n",
      "  warnings.warn(\n",
      "/home/oarm/repos/tergite-autocalibration-lite/tergite_acl/utils/convert.py:121: UserWarning: 'couplers:q12_q14' is not in mapped parameter list in utilities/standard_redis_storage.py. Please add appropriate parameter atributes in the map\n",
      "  warnings.warn(\n"
     ]
    }
   ],
   "source": [
    "for i in \n",
    "!acli node reset -n T1\n",
    "!acli node reset -n T2\n",
    "!acli node reset -n T2_echo\n"
   ]
  },
  {
   "cell_type": "code",
   "execution_count": null,
   "metadata": {},
   "outputs": [],
   "source": []
  }
 ],
 "metadata": {
  "kernelspec": {
   "display_name": "autocalib",
   "language": "python",
   "name": "python3"
  },
  "language_info": {
   "codemirror_mode": {
    "name": "ipython",
    "version": 3
   },
   "file_extension": ".py",
   "mimetype": "text/x-python",
   "name": "python",
   "nbconvert_exporter": "python",
   "pygments_lexer": "ipython3",
   "version": "3.9.19"
  }
 },
 "nbformat": 4,
 "nbformat_minor": 2
}
