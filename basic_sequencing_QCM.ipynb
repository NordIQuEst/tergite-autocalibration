{
 "cells": [
  {
   "cell_type": "markdown",
   "id": "f72fa5d3",
   "metadata": {
    "lines_to_next_cell": 2
   },
   "source": [
    "Basic sequencing\n",
    "================\n",
    "\n",
    ".. Note::\n",
    "        A version of this tutorial suitable for RF modules can be found [here](https://qblox-qblox-instruments.readthedocs-hosted.com/en/master/tutorials/q1asm_tutorials/basic/rf/basic_sequencing.html).\n",
    "\n",
    "In this tutorial we will demonstrate basic sequencer based operations (see [Sequencer Operation](https://qblox-qblox-instruments.readthedocs-hosted.com/en/master/cluster/q1_sequence_processor.html#operation)) for programming a qblox instrument.\n",
    "This includes creating a sequence consisting of waveforms and a simple Q1ASM program,\n",
    "and executing this sequence synchronously on multiple sequencers.\n",
    "\n",
    "The general process for setting up and executing a program on a Q1 sequencer is as follows:\n",
    "\n",
    "1. Connect to instrument\n",
    "2. Prepare a sequence (JSON formatted file) which consists of\n",
    "    - Waveforms for playback\n",
    "    - Weights for weighted integration\n",
    "    - Acquisitions for capture\n",
    "    - Q1ASM program to be executed by the sequencer\n",
    "3. This sequence is then loaded onto a sequencer on the connected instrument using the method `instrument_variable.sequencerX.sequence(\"SequenceFile.json\")`\n",
    "4. The sequencer is then setup over its API as necessary\n",
    "5. Sequencer is then armed and started to commence the experiment\n",
    "6. Stop the sequencer and close down all instruments\n",
    "\n",
    "This tutorial will give a basic introduction on how to work with the waveforms and Q1ASM segments of a sequence.\n",
    "\n",
    "In the Tutorial the sequence is going to consecutively play two waveforms, a gaussian and block with a duration of 20ns each, with an increasing wait period\n",
    "in between them. We will increase the wait period by 20ns repeated 100 times, after which the sequence is stopped. The sequence will also trigger marker\n",
    "output 1 at every interval, so that the sequence can be easily monitored on an oscilloscope.\n",
    "\n",
    "We can perform this tutorial with either a Cluster QCM/QRM . We use the term 'QxM' encompassing both QCM and QRM modules."
   ]
  },
  {
   "cell_type": "markdown",
   "id": "8f82a4cf",
   "metadata": {
    "tags": []
   },
   "source": [
    "Setup\n",
    "-----\n",
    "\n",
    "First, we are going to import the required packages."
   ]
  },
  {
   "cell_type": "code",
   "execution_count": 1,
   "id": "b2011f20",
   "metadata": {
    "execution": {
     "iopub.execute_input": "2024-01-15T14:01:38.311141Z",
     "iopub.status.busy": "2024-01-15T14:01:38.310970Z",
     "iopub.status.idle": "2024-01-15T14:01:38.783770Z",
     "shell.execute_reply": "2024-01-15T14:01:38.783417Z"
    }
   },
   "outputs": [],
   "source": [
    "from __future__ import annotations\n",
    "\n",
    "import contextlib\n",
    "import json\n",
    "from typing import TYPE_CHECKING, Callable\n",
    "\n",
    "import matplotlib.pyplot as plt\n",
    "import numpy as np\n",
    "import scipy.signal\n",
    "\n",
    "from qblox_instruments import Cluster, ClusterType\n",
    "\n",
    "if TYPE_CHECKING:\n",
    "    from qblox_instruments.qcodes_drivers.qcm_qrm import QcmQrm"
   ]
  },
  {
   "cell_type": "markdown",
   "id": "f9489798",
   "metadata": {},
   "source": [
    "### Scan For Clusters\n",
    "\n",
    "We scan for the available devices connected via ethernet using the Plug & Play functionality of the Qblox Instruments package (see [Plug & Play](https://qblox-qblox-instruments.readthedocs-hosted.com/en/master/api_reference/tools.html#api-pnp) for more info)."
   ]
  },
  {
   "cell_type": "code",
   "execution_count": 2,
   "id": "13c88f14",
   "metadata": {
    "execution": {
     "iopub.execute_input": "2024-01-15T14:01:38.785850Z",
     "iopub.status.busy": "2024-01-15T14:01:38.785583Z",
     "iopub.status.idle": "2024-01-15T14:01:40.219271Z",
     "shell.execute_reply": "2024-01-15T14:01:40.218935Z"
    }
   },
   "outputs": [
    {
     "name": "stdout",
     "output_type": "stream",
     "text": [
      "No devices found\n"
     ]
    }
   ],
   "source": [
    "!qblox-pnp list"
   ]
  },
  {
   "cell_type": "code",
   "execution_count": 3,
   "id": "31a69f99",
   "metadata": {
    "execution": {
     "iopub.execute_input": "2024-01-15T14:01:40.221010Z",
     "iopub.status.busy": "2024-01-15T14:01:40.220901Z",
     "iopub.status.idle": "2024-01-15T14:01:40.222830Z",
     "shell.execute_reply": "2024-01-15T14:01:40.222610Z"
    }
   },
   "outputs": [],
   "source": [
    "cluster_ip = \"192.0.2.72\"\n",
    "cluster_name = \"cluster0\""
   ]
  },
  {
   "cell_type": "markdown",
   "id": "363a7162",
   "metadata": {},
   "source": [
    "### Connect to Cluster\n",
    "\n",
    "We now make a connection with the Cluster."
   ]
  },
  {
   "cell_type": "code",
   "execution_count": 5,
   "id": "83b7a259",
   "metadata": {
    "execution": {
     "iopub.execute_input": "2024-01-15T14:01:40.223961Z",
     "iopub.status.busy": "2024-01-15T14:01:40.223881Z",
     "iopub.status.idle": "2024-01-15T14:01:40.723523Z",
     "shell.execute_reply": "2024-01-15T14:01:40.723246Z"
    },
    "lines_to_next_cell": 2
   },
   "outputs": [],
   "source": [
    "# Close the chosen QCodes instrument to prevent name clash\n",
    "with contextlib.suppress(KeyError):\n",
    "    Cluster.find_instrument(cluster_name).close()\n",
    "\n",
    "cluster = Cluster(\n",
    "    name=cluster_name,\n",
    "    identifier=cluster_ip,\n",
    "    dummy_cfg={\n",
    "        2: ClusterType.CLUSTER_QCM,\n",
    "        4: ClusterType.CLUSTER_QRM,\n",
    "        6: ClusterType.CLUSTER_QCM_RF,\n",
    "        8: ClusterType.CLUSTER_QRM_RF,\n",
    "    }\n",
    "    if cluster_ip is None\n",
    "    else None,\n",
    ")"
   ]
  },
  {
   "cell_type": "markdown",
   "id": "17e9bb44",
   "metadata": {
    "lines_to_next_cell": 2
   },
   "source": [
    "#### Get connected modules"
   ]
  },
  {
   "cell_type": "code",
   "execution_count": 6,
   "id": "aa29c526",
   "metadata": {
    "execution": {
     "iopub.execute_input": "2024-01-15T14:01:40.725258Z",
     "iopub.status.busy": "2024-01-15T14:01:40.725160Z",
     "iopub.status.idle": "2024-01-15T14:01:40.727411Z",
     "shell.execute_reply": "2024-01-15T14:01:40.727183Z"
    }
   },
   "outputs": [],
   "source": [
    "def get_connected_modules(cluster: Cluster, filter_fn: Callable | None = None) -> dict[int, QcmQrm]:\n",
    "    def checked_filter_fn(mod: ClusterType) -> bool:\n",
    "        if filter_fn is not None:\n",
    "            return filter_fn(mod)\n",
    "        return True\n",
    "\n",
    "    return {\n",
    "        mod.slot_idx: mod for mod in cluster.modules if mod.present() and checked_filter_fn(mod)\n",
    "    }"
   ]
  },
  {
   "cell_type": "code",
   "execution_count": 8,
   "id": "5f4f376a",
   "metadata": {
    "execution": {
     "iopub.execute_input": "2024-01-15T14:01:40.728541Z",
     "iopub.status.busy": "2024-01-15T14:01:40.728460Z",
     "iopub.status.idle": "2024-01-15T14:01:41.227157Z",
     "shell.execute_reply": "2024-01-15T14:01:41.226932Z"
    }
   },
   "outputs": [
    {
     "data": {
      "text/plain": [
       "{14: <QcmQrm: cluster0_module14 of Cluster: cluster0>}"
      ]
     },
     "execution_count": 8,
     "metadata": {},
     "output_type": "execute_result"
    }
   ],
   "source": [
    "# QRM baseband modules\n",
    "modules = get_connected_modules(cluster, lambda mod: mod.is_qcm_type and not mod.is_rf_type)\n",
    "modules"
   ]
  },
  {
   "cell_type": "code",
   "execution_count": 11,
   "id": "a9b179ed",
   "metadata": {
    "execution": {
     "iopub.execute_input": "2024-01-15T14:01:41.228457Z",
     "iopub.status.busy": "2024-01-15T14:01:41.228373Z",
     "iopub.status.idle": "2024-01-15T14:01:41.229937Z",
     "shell.execute_reply": "2024-01-15T14:01:41.229719Z"
    }
   },
   "outputs": [],
   "source": [
    "module = modules[14]"
   ]
  },
  {
   "cell_type": "markdown",
   "id": "30f2a76a",
   "metadata": {},
   "source": [
    "### Reset the Cluster\n",
    "\n",
    "We reset the Cluster to enter a well-defined state. Note that resetting will clear all stored parameters, so resetting between experiments is usually not desirable."
   ]
  },
  {
   "cell_type": "code",
   "execution_count": 12,
   "id": "216f4f62",
   "metadata": {
    "execution": {
     "iopub.execute_input": "2024-01-15T14:01:41.231017Z",
     "iopub.status.busy": "2024-01-15T14:01:41.230934Z",
     "iopub.status.idle": "2024-01-15T14:01:44.530955Z",
     "shell.execute_reply": "2024-01-15T14:01:44.530661Z"
    }
   },
   "outputs": [
    {
     "name": "stdout",
     "output_type": "stream",
     "text": [
      "Status: OKAY, Flags: NONE, Slot flags: NONE\n"
     ]
    }
   ],
   "source": [
    "cluster.reset()\n",
    "print(cluster.get_system_state())"
   ]
  },
  {
   "cell_type": "markdown",
   "id": "f0b1a77d",
   "metadata": {},
   "source": [
    "Generate waveforms <a id='gen_wf'></a>\n",
    "------------------\n",
    "\n",
    "Next, we need to create the gaussian and block waveforms for the sequence. The waveforms constructed here will be referenced by the Q1ASM program for playback. See section [Sequencer](https://qblox-qblox-instruments.readthedocs-hosted.com/en/master/cluster/q1_sequence_processor.html#sequences) for details on how waveform dictionary is structured."
   ]
  },
  {
   "cell_type": "markdown",
   "id": "1f264f2e",
   "metadata": {},
   "source": [
    "Waveform resolution notes"
   ]
  },
  {
   "cell_type": "code",
   "execution_count": 13,
   "id": "fa1b7107",
   "metadata": {
    "execution": {
     "iopub.execute_input": "2024-01-15T14:01:44.532247Z",
     "iopub.status.busy": "2024-01-15T14:01:44.532161Z",
     "iopub.status.idle": "2024-01-15T14:01:44.534548Z",
     "shell.execute_reply": "2024-01-15T14:01:44.534341Z"
    }
   },
   "outputs": [],
   "source": [
    "# Waveform parameters\n",
    "waveform_length = 22  # nanoseconds\n",
    "\n",
    "# Waveform dictionary (data will hold the samples and index will be used to select the waveforms in the instrument).\n",
    "waveforms = {\n",
    "    \"gaussian\": {\n",
    "        \"data\": scipy.signal.windows.gaussian(waveform_length, std=0.12 * waveform_length).tolist(),\n",
    "        \"index\": 0,\n",
    "    },\n",
    "    \"block\": {\"data\": [1.0 for i in range(0, waveform_length)], \"index\": 1},\n",
    "}"
   ]
  },
  {
   "cell_type": "markdown",
   "id": "9e7400d4",
   "metadata": {},
   "source": [
    "Let's plot the waveforms to see what we have created."
   ]
  },
  {
   "cell_type": "code",
   "execution_count": 38,
   "id": "9ccd6bbc",
   "metadata": {
    "execution": {
     "iopub.execute_input": "2024-01-15T14:01:44.535805Z",
     "iopub.status.busy": "2024-01-15T14:01:44.535656Z",
     "iopub.status.idle": "2024-01-15T14:01:44.624137Z",
     "shell.execute_reply": "2024-01-15T14:01:44.623916Z"
    }
   },
   "outputs": [
    {
     "data": {
      "image/png": "[encoded data removed]",
      "text/plain": [
       "<Figure size 1000x621.118 with 1 Axes>"
      ]
     },
     "metadata": {},
     "output_type": "display_data"
    }
   ],
   "source": [
    "time = np.arange(0, max(map(lambda d: len(d[\"data\"]), waveforms.values())), 1)\n",
    "fig, ax = plt.subplots(1, 1, figsize=(10, 10 / 1.61))\n",
    "\n",
    "for wf, d in waveforms.items():\n",
    "    ax.plot(time[: len(d[\"data\"])], d[\"data\"], \".-\", linewidth=0.5, label=wf)\n",
    "\n",
    "ax.legend(loc=4)\n",
    "ax.grid(alpha=1 / 10)\n",
    "ax.set_ylabel(\"Waveform primitive amplitude\")\n",
    "ax.set_xlabel(\"Time (ns)\")\n",
    "\n",
    "plt.draw()\n",
    "plt.show()"
   ]
  },
  {
   "cell_type": "markdown",
   "id": "f8d3b832",
   "metadata": {},
   "source": [
    "Create Q1ASM program\n",
    "--------------------\n",
    "\n",
    "Now that we have the waveforms for the sequence, we need a Q1ASM program that sequences the waveforms as previously described. The Q1ASM program can address the memory in the sequences waveforms and acquisitions to construct a program for playback. View [Q1 Programming](https://qblox-qblox-instruments.readthedocs-hosted.com/en/master/cluster/q1_sequence_processor.html#instructions) for a break down of available instructions in the Q1ASM language."
   ]
  },
  {
   "cell_type": "code",
   "execution_count": 33,
   "id": "e48a1301",
   "metadata": {
    "execution": {
     "iopub.execute_input": "2024-01-15T14:01:44.625495Z",
     "iopub.status.busy": "2024-01-15T14:01:44.625413Z",
     "iopub.status.idle": "2024-01-15T14:01:44.627264Z",
     "shell.execute_reply": "2024-01-15T14:01:44.627067Z"
    }
   },
   "outputs": [],
   "source": [
    "# Sequence program.\n",
    "seq_prog = \"\"\"\n",
    "       move      1000000,R0   #Loop iterator.\n",
    "       move      20,R1    #Initial wait period in ns.\n",
    "       wait_sync 4        #Wait for sequencers to synchronize and then wait another 4 ns.\n",
    "\n",
    "loop:  set_mrk   1        #Set marker output 1.\n",
    "       play      0,1,4    #Play a gaussian and a block on output path 0 and 1 respectively and wait 4 ns.\n",
    "       set_mrk   0        #Reset marker output 1.\n",
    "       upd_param 18       #Update parameters and wait the remaining 18 ns of the waveforms.\n",
    "\n",
    "       wait      R1       #Wait period.\n",
    "\n",
    "       play      1,0,22   #Play a block and a gaussian on output path 0 and 1 respectively and wait 22 ns.\n",
    "       wait      1000     #Wait a 1us in between iterations.\n",
    "       add       R1,20,R1 #Increase wait period by 20 ns.\n",
    "       loop      R0,@loop #Subtract one from loop iterator.\n",
    "\n",
    "       # stop               #Stop the sequence after the last iteration.\n",
    "\"\"\""
   ]
  },
  {
   "cell_type": "markdown",
   "id": "307d5c6f",
   "metadata": {},
   "source": [
    "Prepare and Upload sequence\n",
    "---------------------------\n",
    "\n",
    "Now that we have the waveforms and Q1ASM program, we can combine them in a sequence stored in a JSON file."
   ]
  },
  {
   "cell_type": "code",
   "execution_count": 34,
   "id": "bbb2b5fb",
   "metadata": {
    "execution": {
     "iopub.execute_input": "2024-01-15T14:01:44.628356Z",
     "iopub.status.busy": "2024-01-15T14:01:44.628276Z",
     "iopub.status.idle": "2024-01-15T14:01:44.630233Z",
     "shell.execute_reply": "2024-01-15T14:01:44.630035Z"
    }
   },
   "outputs": [],
   "source": [
    "# Add sequence to single dictionary and write to JSON file.\n",
    "sequence = {\n",
    "    \"waveforms\": waveforms,\n",
    "    \"weights\": {},\n",
    "    \"acquisitions\": {},\n",
    "    \"program\": seq_prog,\n",
    "}\n",
    "with open(\"sequence.json\", \"w\", encoding=\"utf-8\") as file:\n",
    "    json.dump(sequence, file, indent=4)\n",
    "    file.close()"
   ]
  },
  {
   "cell_type": "markdown",
   "id": "4c7e3572",
   "metadata": {},
   "source": [
    "Let's write the JSON file to the instruments. We will use sequencer 0 and 1, which will drive outputs $\\text{O}^{[1-2]}$ and $\\text{O}^{[3-4]}$ respectively."
   ]
  },
  {
   "cell_type": "code",
   "execution_count": 35,
   "id": "924a5edd",
   "metadata": {
    "execution": {
     "iopub.execute_input": "2024-01-15T14:01:44.631293Z",
     "iopub.status.busy": "2024-01-15T14:01:44.631154Z",
     "iopub.status.idle": "2024-01-15T14:01:44.909815Z",
     "shell.execute_reply": "2024-01-15T14:01:44.909508Z"
    }
   },
   "outputs": [],
   "source": [
    "# Upload sequence.\n",
    "module.sequencer0.sequence(\"sequence.json\")\n",
    "module.sequencer1.sequence(\"sequence.json\")"
   ]
  },
  {
   "cell_type": "markdown",
   "id": "7689c84c",
   "metadata": {},
   "source": [
    "Play sequence\n",
    "-------------\n",
    "\n",
    "The sequence has been uploaded to the instrument. Now we need to configure the sequencers in the instrument to use the `wait_sync` instruction\n",
    "at the start of the Q1ASM program to synchronize."
   ]
  },
  {
   "cell_type": "code",
   "execution_count": 36,
   "id": "e502fd17",
   "metadata": {
    "execution": {
     "iopub.execute_input": "2024-01-15T14:01:44.911593Z",
     "iopub.status.busy": "2024-01-15T14:01:44.911396Z",
     "iopub.status.idle": "2024-01-15T14:01:45.120769Z",
     "shell.execute_reply": "2024-01-15T14:01:45.120448Z"
    }
   },
   "outputs": [],
   "source": [
    "# Configure the sequencers to synchronize.\n",
    "module.sequencer0.sync_en(True)\n",
    "module.sequencer1.sync_en(True)\n",
    "\n",
    "# Map sequencers to specific outputs (but first disable all sequencer connections).\n",
    "module.disconnect_outputs()\n",
    "\n",
    "# If it is a QRM, we only map sequencer 0 to the outputs.\n",
    "module.sequencer0.connect_sequencer(\"out0_1\")\n",
    "if module.is_qcm_type:\n",
    "    module.sequencer1.connect_sequencer(\"out2_3\")"
   ]
  },
  {
   "cell_type": "markdown",
   "id": "972d1b09",
   "metadata": {},
   "source": [
    "Now let's start the sequence. If you want to observe the sequence, this is the time to connect an oscilloscope to marker output 1 and one or more\n",
    "of the four outputs. Configure the oscilloscope to trigger on the marker output 1."
   ]
  },
  {
   "cell_type": "code",
   "execution_count": 37,
   "id": "31ec80d9",
   "metadata": {
    "execution": {
     "iopub.execute_input": "2024-01-15T14:01:45.122401Z",
     "iopub.status.busy": "2024-01-15T14:01:45.122306Z",
     "iopub.status.idle": "2024-01-15T14:01:45.216843Z",
     "shell.execute_reply": "2024-01-15T14:01:45.216510Z"
    }
   },
   "outputs": [
    {
     "name": "stdout",
     "output_type": "stream",
     "text": [
      "Status: RUNNING, Flags: NONE\n",
      "Status: RUNNING, Flags: NONE\n"
     ]
    }
   ],
   "source": [
    "# Arm and start both sequencers.\n",
    "module.arm_sequencer(0)\n",
    "module.arm_sequencer(1)\n",
    "module.start_sequencer()\n",
    "\n",
    "# Print status of both sequencers.\n",
    "print(module.get_sequencer_state(0))\n",
    "print(module.get_sequencer_state(1))"
   ]
  },
  {
   "cell_type": "markdown",
   "id": "f6a2d686",
   "metadata": {},
   "source": [
    "Stop\n",
    "----\n",
    "\n",
    "Finally, let's stop the sequencers if they haven't already and close the instrument connection. One can also display a detailed snapshot containing the instrument parameters before\n",
    "closing the connection by uncommenting the corresponding lines."
   ]
  },
  {
   "cell_type": "code",
   "execution_count": 16,
   "id": "420c99ea",
   "metadata": {
    "execution": {
     "iopub.execute_input": "2024-01-15T14:01:45.218448Z",
     "iopub.status.busy": "2024-01-15T14:01:45.218321Z",
     "iopub.status.idle": "2024-01-15T14:02:10.535605Z",
     "shell.execute_reply": "2024-01-15T14:02:10.535337Z"
    }
   },
   "outputs": [
    {
     "name": "stdout",
     "output_type": "stream",
     "text": [
      "Status: STOPPED, Flags: FORCED_STOP\n",
      "Status: STOPPED, Flags: FORCED_STOP\n",
      "\n",
      "Snapshot:\n"
     ]
    },
    {
     "name": "stdout",
     "output_type": "stream",
     "text": [
      "cluster0_module4:\n",
      "\tparameter                    value\n",
      "--------------------------------------------------------------------------------\n",
      "in0_gain                      :\t-6 (dB)\n",
      "in0_offset                    :\t0 (V)\n",
      "in1_gain                      :\t-6 (dB)\n",
      "in1_offset                    :\t0 (V)\n",
      "marker0_inv_en                :\tFalse \n",
      "marker1_inv_en                :\tFalse \n",
      "marker2_inv_en                :\tFalse \n",
      "marker3_inv_en                :\tFalse \n",
      "out0_offset                   :\t0 (V)\n",
      "out1_offset                   :\t0 (V)\n",
      "present                       :\tTrue \n",
      "scope_acq_avg_mode_en_path0   :\tFalse \n",
      "scope_acq_avg_mode_en_path1   :\tFalse \n",
      "scope_acq_sequencer_select    :\t0 \n",
      "scope_acq_trigger_level_path0 :\t0 \n",
      "scope_acq_trigger_level_path1 :\t0 \n",
      "scope_acq_trigger_mode_path0  :\tsequencer \n",
      "scope_acq_trigger_mode_path1  :\tsequencer \n"
     ]
    },
    {
     "name": "stdout",
     "output_type": "stream",
     "text": [
      "cluster0_module4_sequencer0:\n",
      "\tparameter                       value\n",
      "--------------------------------------------------------------------------------\n",
      "connect_acq_I                    :\tin0 \n",
      "connect_acq_Q                    :\tin1 \n",
      "connect_out0                     :\tI \n",
      "connect_out1                     :\tQ \n",
      "cont_mode_en_awg_path0           :\tFalse \n",
      "cont_mode_en_awg_path1           :\tFalse \n",
      "cont_mode_waveform_idx_awg_path0 :\t0 \n",
      "cont_mode_waveform_idx_awg_path1 :\t0 \n",
      "demod_en_acq                     :\tFalse \n",
      "gain_awg_path0                   :\t1 \n",
      "gain_awg_path1                   :\t1 \n",
      "integration_length_acq           :\t1024 \n",
      "marker_ovr_en                    :\tFalse \n",
      "marker_ovr_value                 :\t0 \n",
      "mixer_corr_gain_ratio            :\t1 \n",
      "mixer_corr_phase_offset_degree   :\t-0 \n",
      "mod_en_awg                       :\tFalse \n",
      "nco_freq                         :\t0 (Hz)\n",
      "nco_phase_offs                   :\t0 (Degrees)\n",
      "nco_prop_delay_comp              :\t0 (ns)\n",
      "nco_prop_delay_comp_en           :\tFalse (ns)\n",
      "offset_awg_path0                 :\t0 \n",
      "offset_awg_path1                 :\t0 \n",
      "sync_en                          :\tTrue \n",
      "thresholded_acq_marker_address   :\t1 \n",
      "thresholded_acq_marker_en        :\tFalse \n",
      "thresholded_acq_marker_invert    :\tFalse \n",
      "thresholded_acq_rotation         :\t0 (Degrees)\n",
      "thresholded_acq_threshold        :\t0 \n",
      "thresholded_acq_trigger_address  :\t1 \n",
      "thresholded_acq_trigger_en       :\tFalse \n",
      "thresholded_acq_trigger_invert   :\tFalse \n",
      "trigger10_count_threshold        :\t1 \n",
      "trigger10_threshold_invert       :\tFalse \n",
      "trigger11_count_threshold        :\t1 \n",
      "trigger11_threshold_invert       :\tFalse \n",
      "trigger12_count_threshold        :\t1 \n",
      "trigger12_threshold_invert       :\tFalse \n",
      "trigger13_count_threshold        :\t1 \n",
      "trigger13_threshold_invert       :\tFalse \n",
      "trigger14_count_threshold        :\t1 \n",
      "trigger14_threshold_invert       :\tFalse \n",
      "trigger15_count_threshold        :\t1 \n",
      "trigger15_threshold_invert       :\tFalse \n",
      "trigger1_count_threshold         :\t1 \n",
      "trigger1_threshold_invert        :\tFalse \n",
      "trigger2_count_threshold         :\t1 \n",
      "trigger2_threshold_invert        :\tFalse \n",
      "trigger3_count_threshold         :\t1 \n",
      "trigger3_threshold_invert        :\tFalse \n",
      "trigger4_count_threshold         :\t1 \n",
      "trigger4_threshold_invert        :\tFalse \n",
      "trigger5_count_threshold         :\t1 \n",
      "trigger5_threshold_invert        :\tFalse \n",
      "trigger6_count_threshold         :\t1 \n",
      "trigger6_threshold_invert        :\tFalse \n",
      "trigger7_count_threshold         :\t1 \n",
      "trigger7_threshold_invert        :\tFalse \n",
      "trigger8_count_threshold         :\t1 \n",
      "trigger8_threshold_invert        :\tFalse \n",
      "trigger9_count_threshold         :\t1 \n",
      "trigger9_threshold_invert        :\tFalse \n",
      "ttl_acq_auto_bin_incr_en         :\tFalse \n",
      "ttl_acq_input_select             :\t0 \n",
      "ttl_acq_threshold                :\t0 \n",
      "upsample_rate_awg_path0          :\t0 \n",
      "upsample_rate_awg_path1          :\t0 \n"
     ]
    },
    {
     "name": "stdout",
     "output_type": "stream",
     "text": [
      "cluster0_module4_sequencer1:\n",
      "\tparameter                       value\n",
      "--------------------------------------------------------------------------------\n",
      "connect_acq_I                    :\tin0 \n",
      "connect_acq_Q                    :\tin1 \n",
      "connect_out0                     :\toff \n",
      "connect_out1                     :\toff \n",
      "cont_mode_en_awg_path0           :\tFalse \n",
      "cont_mode_en_awg_path1           :\tFalse \n",
      "cont_mode_waveform_idx_awg_path0 :\t0 \n",
      "cont_mode_waveform_idx_awg_path1 :\t0 \n",
      "demod_en_acq                     :\tFalse \n",
      "gain_awg_path0                   :\t1 \n",
      "gain_awg_path1                   :\t1 \n",
      "integration_length_acq           :\t1024 \n",
      "marker_ovr_en                    :\tFalse \n",
      "marker_ovr_value                 :\t0 \n",
      "mixer_corr_gain_ratio            :\t1 \n",
      "mixer_corr_phase_offset_degree   :\t-0 \n",
      "mod_en_awg                       :\tFalse \n",
      "nco_freq                         :\t0 (Hz)\n",
      "nco_phase_offs                   :\t0 (Degrees)\n",
      "nco_prop_delay_comp              :\t0 (ns)\n",
      "nco_prop_delay_comp_en           :\tFalse (ns)\n",
      "offset_awg_path0                 :\t0 \n",
      "offset_awg_path1                 :\t0 \n",
      "sync_en                          :\tTrue \n",
      "thresholded_acq_marker_address   :\t1 \n",
      "thresholded_acq_marker_en        :\tFalse \n",
      "thresholded_acq_marker_invert    :\tFalse \n",
      "thresholded_acq_rotation         :\t0 (Degrees)\n",
      "thresholded_acq_threshold        :\t0 \n",
      "thresholded_acq_trigger_address  :\t1 \n",
      "thresholded_acq_trigger_en       :\tFalse \n",
      "thresholded_acq_trigger_invert   :\tFalse \n",
      "trigger10_count_threshold        :\t1 \n",
      "trigger10_threshold_invert       :\tFalse \n",
      "trigger11_count_threshold        :\t1 \n",
      "trigger11_threshold_invert       :\tFalse \n",
      "trigger12_count_threshold        :\t1 \n",
      "trigger12_threshold_invert       :\tFalse \n",
      "trigger13_count_threshold        :\t1 \n",
      "trigger13_threshold_invert       :\tFalse \n",
      "trigger14_count_threshold        :\t1 \n",
      "trigger14_threshold_invert       :\tFalse \n",
      "trigger15_count_threshold        :\t1 \n",
      "trigger15_threshold_invert       :\tFalse \n",
      "trigger1_count_threshold         :\t1 \n",
      "trigger1_threshold_invert        :\tFalse \n",
      "trigger2_count_threshold         :\t1 \n",
      "trigger2_threshold_invert        :\tFalse \n",
      "trigger3_count_threshold         :\t1 \n",
      "trigger3_threshold_invert        :\tFalse \n",
      "trigger4_count_threshold         :\t1 \n",
      "trigger4_threshold_invert        :\tFalse \n",
      "trigger5_count_threshold         :\t1 \n",
      "trigger5_threshold_invert        :\tFalse \n",
      "trigger6_count_threshold         :\t1 \n",
      "trigger6_threshold_invert        :\tFalse \n",
      "trigger7_count_threshold         :\t1 \n",
      "trigger7_threshold_invert        :\tFalse \n",
      "trigger8_count_threshold         :\t1 \n",
      "trigger8_threshold_invert        :\tFalse \n",
      "trigger9_count_threshold         :\t1 \n",
      "trigger9_threshold_invert        :\tFalse \n",
      "ttl_acq_auto_bin_incr_en         :\tFalse \n",
      "ttl_acq_input_select             :\t0 \n",
      "ttl_acq_threshold                :\t0 \n",
      "upsample_rate_awg_path0          :\t0 \n",
      "upsample_rate_awg_path1          :\t0 \n"
     ]
    },
    {
     "name": "stdout",
     "output_type": "stream",
     "text": [
      "cluster0_module4_sequencer2:\n",
      "\tparameter                       value\n",
      "--------------------------------------------------------------------------------\n",
      "connect_acq_I                    :\tin0 \n",
      "connect_acq_Q                    :\tin1 \n",
      "connect_out0                     :\toff \n",
      "connect_out1                     :\toff \n",
      "cont_mode_en_awg_path0           :\tFalse \n",
      "cont_mode_en_awg_path1           :\tFalse \n",
      "cont_mode_waveform_idx_awg_path0 :\t0 \n",
      "cont_mode_waveform_idx_awg_path1 :\t0 \n",
      "demod_en_acq                     :\tFalse \n",
      "gain_awg_path0                   :\t1 \n",
      "gain_awg_path1                   :\t1 \n",
      "integration_length_acq           :\t1024 \n",
      "marker_ovr_en                    :\tFalse \n",
      "marker_ovr_value                 :\t0 \n",
      "mixer_corr_gain_ratio            :\t1 \n",
      "mixer_corr_phase_offset_degree   :\t-0 \n",
      "mod_en_awg                       :\tFalse \n",
      "nco_freq                         :\t0 (Hz)\n",
      "nco_phase_offs                   :\t0 (Degrees)\n",
      "nco_prop_delay_comp              :\t0 (ns)\n",
      "nco_prop_delay_comp_en           :\tFalse (ns)\n",
      "offset_awg_path0                 :\t0 \n",
      "offset_awg_path1                 :\t0 \n",
      "sync_en                          :\tFalse \n",
      "thresholded_acq_marker_address   :\t1 \n",
      "thresholded_acq_marker_en        :\tFalse \n",
      "thresholded_acq_marker_invert    :\tFalse \n",
      "thresholded_acq_rotation         :\t0 (Degrees)\n",
      "thresholded_acq_threshold        :\t0 \n",
      "thresholded_acq_trigger_address  :\t1 \n",
      "thresholded_acq_trigger_en       :\tFalse \n",
      "thresholded_acq_trigger_invert   :\tFalse \n",
      "trigger10_count_threshold        :\t1 \n",
      "trigger10_threshold_invert       :\tFalse \n",
      "trigger11_count_threshold        :\t1 \n",
      "trigger11_threshold_invert       :\tFalse \n",
      "trigger12_count_threshold        :\t1 \n",
      "trigger12_threshold_invert       :\tFalse \n",
      "trigger13_count_threshold        :\t1 \n",
      "trigger13_threshold_invert       :\tFalse \n",
      "trigger14_count_threshold        :\t1 \n",
      "trigger14_threshold_invert       :\tFalse \n",
      "trigger15_count_threshold        :\t1 \n",
      "trigger15_threshold_invert       :\tFalse \n",
      "trigger1_count_threshold         :\t1 \n",
      "trigger1_threshold_invert        :\tFalse \n",
      "trigger2_count_threshold         :\t1 \n",
      "trigger2_threshold_invert        :\tFalse \n",
      "trigger3_count_threshold         :\t1 \n",
      "trigger3_threshold_invert        :\tFalse \n",
      "trigger4_count_threshold         :\t1 \n",
      "trigger4_threshold_invert        :\tFalse \n",
      "trigger5_count_threshold         :\t1 \n",
      "trigger5_threshold_invert        :\tFalse \n",
      "trigger6_count_threshold         :\t1 \n",
      "trigger6_threshold_invert        :\tFalse \n",
      "trigger7_count_threshold         :\t1 \n",
      "trigger7_threshold_invert        :\tFalse \n",
      "trigger8_count_threshold         :\t1 \n",
      "trigger8_threshold_invert        :\tFalse \n",
      "trigger9_count_threshold         :\t1 \n",
      "trigger9_threshold_invert        :\tFalse \n",
      "ttl_acq_auto_bin_incr_en         :\tFalse \n",
      "ttl_acq_input_select             :\t0 \n",
      "ttl_acq_threshold                :\t0 \n",
      "upsample_rate_awg_path0          :\t0 \n",
      "upsample_rate_awg_path1          :\t0 \n"
     ]
    },
    {
     "name": "stdout",
     "output_type": "stream",
     "text": [
      "cluster0_module4_sequencer3:\n",
      "\tparameter                       value\n",
      "--------------------------------------------------------------------------------\n",
      "connect_acq_I                    :\tin0 \n",
      "connect_acq_Q                    :\tin1 \n",
      "connect_out0                     :\toff \n",
      "connect_out1                     :\toff \n",
      "cont_mode_en_awg_path0           :\tFalse \n",
      "cont_mode_en_awg_path1           :\tFalse \n",
      "cont_mode_waveform_idx_awg_path0 :\t0 \n",
      "cont_mode_waveform_idx_awg_path1 :\t0 \n",
      "demod_en_acq                     :\tFalse \n",
      "gain_awg_path0                   :\t1 \n",
      "gain_awg_path1                   :\t1 \n",
      "integration_length_acq           :\t1024 \n",
      "marker_ovr_en                    :\tFalse \n",
      "marker_ovr_value                 :\t0 \n",
      "mixer_corr_gain_ratio            :\t1 \n",
      "mixer_corr_phase_offset_degree   :\t-0 \n",
      "mod_en_awg                       :\tFalse \n",
      "nco_freq                         :\t0 (Hz)\n",
      "nco_phase_offs                   :\t0 (Degrees)\n",
      "nco_prop_delay_comp              :\t0 (ns)\n",
      "nco_prop_delay_comp_en           :\tFalse (ns)\n",
      "offset_awg_path0                 :\t0 \n",
      "offset_awg_path1                 :\t0 \n",
      "sync_en                          :\tFalse \n",
      "thresholded_acq_marker_address   :\t1 \n",
      "thresholded_acq_marker_en        :\tFalse \n",
      "thresholded_acq_marker_invert    :\tFalse \n",
      "thresholded_acq_rotation         :\t0 (Degrees)\n",
      "thresholded_acq_threshold        :\t0 \n",
      "thresholded_acq_trigger_address  :\t1 \n",
      "thresholded_acq_trigger_en       :\tFalse \n",
      "thresholded_acq_trigger_invert   :\tFalse \n",
      "trigger10_count_threshold        :\t1 \n",
      "trigger10_threshold_invert       :\tFalse \n",
      "trigger11_count_threshold        :\t1 \n",
      "trigger11_threshold_invert       :\tFalse \n",
      "trigger12_count_threshold        :\t1 \n",
      "trigger12_threshold_invert       :\tFalse \n",
      "trigger13_count_threshold        :\t1 \n",
      "trigger13_threshold_invert       :\tFalse \n",
      "trigger14_count_threshold        :\t1 \n",
      "trigger14_threshold_invert       :\tFalse \n",
      "trigger15_count_threshold        :\t1 \n",
      "trigger15_threshold_invert       :\tFalse \n",
      "trigger1_count_threshold         :\t1 \n",
      "trigger1_threshold_invert        :\tFalse \n",
      "trigger2_count_threshold         :\t1 \n",
      "trigger2_threshold_invert        :\tFalse \n",
      "trigger3_count_threshold         :\t1 \n",
      "trigger3_threshold_invert        :\tFalse \n",
      "trigger4_count_threshold         :\t1 \n",
      "trigger4_threshold_invert        :\tFalse \n",
      "trigger5_count_threshold         :\t1 \n",
      "trigger5_threshold_invert        :\tFalse \n",
      "trigger6_count_threshold         :\t1 \n",
      "trigger6_threshold_invert        :\tFalse \n",
      "trigger7_count_threshold         :\t1 \n",
      "trigger7_threshold_invert        :\tFalse \n",
      "trigger8_count_threshold         :\t1 \n",
      "trigger8_threshold_invert        :\tFalse \n",
      "trigger9_count_threshold         :\t1 \n",
      "trigger9_threshold_invert        :\tFalse \n",
      "ttl_acq_auto_bin_incr_en         :\tFalse \n",
      "ttl_acq_input_select             :\t0 \n",
      "ttl_acq_threshold                :\t0 \n",
      "upsample_rate_awg_path0          :\t0 \n",
      "upsample_rate_awg_path1          :\t0 \n"
     ]
    },
    {
     "name": "stdout",
     "output_type": "stream",
     "text": [
      "cluster0_module4_sequencer4:\n",
      "\tparameter                       value\n",
      "--------------------------------------------------------------------------------\n",
      "connect_acq_I                    :\tin0 \n",
      "connect_acq_Q                    :\tin1 \n",
      "connect_out0                     :\toff \n",
      "connect_out1                     :\toff \n",
      "cont_mode_en_awg_path0           :\tFalse \n",
      "cont_mode_en_awg_path1           :\tFalse \n",
      "cont_mode_waveform_idx_awg_path0 :\t0 \n",
      "cont_mode_waveform_idx_awg_path1 :\t0 \n",
      "demod_en_acq                     :\tFalse \n",
      "gain_awg_path0                   :\t1 \n",
      "gain_awg_path1                   :\t1 \n",
      "integration_length_acq           :\t1024 \n",
      "marker_ovr_en                    :\tFalse \n",
      "marker_ovr_value                 :\t0 \n",
      "mixer_corr_gain_ratio            :\t1 \n",
      "mixer_corr_phase_offset_degree   :\t-0 \n",
      "mod_en_awg                       :\tFalse \n",
      "nco_freq                         :\t0 (Hz)\n",
      "nco_phase_offs                   :\t0 (Degrees)\n",
      "nco_prop_delay_comp              :\t0 (ns)\n",
      "nco_prop_delay_comp_en           :\tFalse (ns)\n",
      "offset_awg_path0                 :\t0 \n",
      "offset_awg_path1                 :\t0 \n",
      "sync_en                          :\tFalse \n",
      "thresholded_acq_marker_address   :\t1 \n",
      "thresholded_acq_marker_en        :\tFalse \n",
      "thresholded_acq_marker_invert    :\tFalse \n",
      "thresholded_acq_rotation         :\t0 (Degrees)\n",
      "thresholded_acq_threshold        :\t0 \n",
      "thresholded_acq_trigger_address  :\t1 \n",
      "thresholded_acq_trigger_en       :\tFalse \n",
      "thresholded_acq_trigger_invert   :\tFalse \n",
      "trigger10_count_threshold        :\t1 \n",
      "trigger10_threshold_invert       :\tFalse \n",
      "trigger11_count_threshold        :\t1 \n",
      "trigger11_threshold_invert       :\tFalse \n",
      "trigger12_count_threshold        :\t1 \n",
      "trigger12_threshold_invert       :\tFalse \n",
      "trigger13_count_threshold        :\t1 \n",
      "trigger13_threshold_invert       :\tFalse \n",
      "trigger14_count_threshold        :\t1 \n",
      "trigger14_threshold_invert       :\tFalse \n",
      "trigger15_count_threshold        :\t1 \n",
      "trigger15_threshold_invert       :\tFalse \n",
      "trigger1_count_threshold         :\t1 \n",
      "trigger1_threshold_invert        :\tFalse \n",
      "trigger2_count_threshold         :\t1 \n",
      "trigger2_threshold_invert        :\tFalse \n",
      "trigger3_count_threshold         :\t1 \n",
      "trigger3_threshold_invert        :\tFalse \n",
      "trigger4_count_threshold         :\t1 \n",
      "trigger4_threshold_invert        :\tFalse \n",
      "trigger5_count_threshold         :\t1 \n",
      "trigger5_threshold_invert        :\tFalse \n",
      "trigger6_count_threshold         :\t1 \n",
      "trigger6_threshold_invert        :\tFalse \n",
      "trigger7_count_threshold         :\t1 \n",
      "trigger7_threshold_invert        :\tFalse \n",
      "trigger8_count_threshold         :\t1 \n",
      "trigger8_threshold_invert        :\tFalse \n",
      "trigger9_count_threshold         :\t1 \n",
      "trigger9_threshold_invert        :\tFalse \n",
      "ttl_acq_auto_bin_incr_en         :\tFalse \n",
      "ttl_acq_input_select             :\t0 \n",
      "ttl_acq_threshold                :\t0 \n",
      "upsample_rate_awg_path0          :\t0 \n",
      "upsample_rate_awg_path1          :\t0 \n"
     ]
    },
    {
     "name": "stdout",
     "output_type": "stream",
     "text": [
      "cluster0_module4_sequencer5:\n",
      "\tparameter                       value\n",
      "--------------------------------------------------------------------------------\n",
      "connect_acq_I                    :\tin0 \n",
      "connect_acq_Q                    :\tin1 \n",
      "connect_out0                     :\toff \n",
      "connect_out1                     :\toff \n",
      "cont_mode_en_awg_path0           :\tFalse \n",
      "cont_mode_en_awg_path1           :\tFalse \n",
      "cont_mode_waveform_idx_awg_path0 :\t0 \n",
      "cont_mode_waveform_idx_awg_path1 :\t0 \n",
      "demod_en_acq                     :\tFalse \n",
      "gain_awg_path0                   :\t1 \n",
      "gain_awg_path1                   :\t1 \n",
      "integration_length_acq           :\t1024 \n",
      "marker_ovr_en                    :\tFalse \n",
      "marker_ovr_value                 :\t0 \n",
      "mixer_corr_gain_ratio            :\t1 \n",
      "mixer_corr_phase_offset_degree   :\t-0 \n",
      "mod_en_awg                       :\tFalse \n",
      "nco_freq                         :\t0 (Hz)\n",
      "nco_phase_offs                   :\t0 (Degrees)\n",
      "nco_prop_delay_comp              :\t0 (ns)\n",
      "nco_prop_delay_comp_en           :\tFalse (ns)\n",
      "offset_awg_path0                 :\t0 \n",
      "offset_awg_path1                 :\t0 \n",
      "sync_en                          :\tFalse \n",
      "thresholded_acq_marker_address   :\t1 \n",
      "thresholded_acq_marker_en        :\tFalse \n",
      "thresholded_acq_marker_invert    :\tFalse \n",
      "thresholded_acq_rotation         :\t0 (Degrees)\n",
      "thresholded_acq_threshold        :\t0 \n",
      "thresholded_acq_trigger_address  :\t1 \n",
      "thresholded_acq_trigger_en       :\tFalse \n",
      "thresholded_acq_trigger_invert   :\tFalse \n",
      "trigger10_count_threshold        :\t1 \n",
      "trigger10_threshold_invert       :\tFalse \n",
      "trigger11_count_threshold        :\t1 \n",
      "trigger11_threshold_invert       :\tFalse \n",
      "trigger12_count_threshold        :\t1 \n",
      "trigger12_threshold_invert       :\tFalse \n",
      "trigger13_count_threshold        :\t1 \n",
      "trigger13_threshold_invert       :\tFalse \n",
      "trigger14_count_threshold        :\t1 \n",
      "trigger14_threshold_invert       :\tFalse \n",
      "trigger15_count_threshold        :\t1 \n",
      "trigger15_threshold_invert       :\tFalse \n",
      "trigger1_count_threshold         :\t1 \n",
      "trigger1_threshold_invert        :\tFalse \n",
      "trigger2_count_threshold         :\t1 \n",
      "trigger2_threshold_invert        :\tFalse \n",
      "trigger3_count_threshold         :\t1 \n",
      "trigger3_threshold_invert        :\tFalse \n",
      "trigger4_count_threshold         :\t1 \n",
      "trigger4_threshold_invert        :\tFalse \n",
      "trigger5_count_threshold         :\t1 \n",
      "trigger5_threshold_invert        :\tFalse \n",
      "trigger6_count_threshold         :\t1 \n",
      "trigger6_threshold_invert        :\tFalse \n",
      "trigger7_count_threshold         :\t1 \n",
      "trigger7_threshold_invert        :\tFalse \n",
      "trigger8_count_threshold         :\t1 \n",
      "trigger8_threshold_invert        :\tFalse \n",
      "trigger9_count_threshold         :\t1 \n",
      "trigger9_threshold_invert        :\tFalse \n",
      "ttl_acq_auto_bin_incr_en         :\tFalse \n",
      "ttl_acq_input_select             :\t0 \n",
      "ttl_acq_threshold                :\t0 \n",
      "upsample_rate_awg_path0          :\t0 \n",
      "upsample_rate_awg_path1          :\t0 \n"
     ]
    },
    {
     "name": "stdout",
     "output_type": "stream",
     "text": [
      "Status: OKAY, Flags: NONE, Slot flags: NONE\n"
     ]
    }
   ],
   "source": [
    "# Stop both sequencers.\n",
    "module.stop_sequencer()\n",
    "\n",
    "# Print status of both sequencers (should now say it is stopped).\n",
    "print(module.get_sequencer_state(0))\n",
    "print(module.get_sequencer_state(1))\n",
    "print()\n",
    "\n",
    "# Print an overview of the instrument parameters.\n",
    "print(\"Snapshot:\")\n",
    "module.print_readable_snapshot(update=True)\n",
    "\n",
    "# Reset the cluster\n",
    "cluster.reset()\n",
    "print(cluster.get_system_state())"
   ]
  }
 ],
 "metadata": {
  "jupytext": {
   "formats": "ipynb,py:percent"
  },
  "kernelspec": {
   "display_name": "Python 3 (ipykernel)",
   "language": "python",
   "name": "python3"
  },
  "language_info": {
   "codemirror_mode": {
    "name": "ipython",
    "version": 3
   },
   "file_extension": ".py",
   "mimetype": "text/x-python",
   "name": "python",
   "nbconvert_exporter": "python",
   "pygments_lexer": "ipython3",
   "version": "3.9.18"
  }
 },
 "nbformat": 4,
 "nbformat_minor": 5
}
