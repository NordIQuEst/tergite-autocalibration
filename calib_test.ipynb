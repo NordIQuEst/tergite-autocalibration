{
 "cells": [
  {
   "cell_type": "code",
   "execution_count": 134,
   "metadata": {},
   "outputs": [
    {
     "name": "stdout",
     "output_type": "stream",
     "text": [
      " remove_node = 'all'\n"
     ]
    }
   ],
   "source": [
    "!python reset_redis.py all"
   ]
  },
  {
   "cell_type": "code",
   "execution_count": 176,
   "metadata": {},
   "outputs": [
    {
     "name": "stdout",
     "output_type": "stream",
     "text": [
      " remove_node = 'rabi_oscillations'\n",
      " remove_node = 'motzoi_parameter'\n",
      " remove_node = 'n_rabi_oscillations'\n"
     ]
    }
   ],
   "source": [
    "# !python reset_redis.py 'resonator_spectroscopy'\n",
    "# !python reset_redis.py 'qubit_01_spectroscopy_pulsed'\n",
    "!python reset_redis.py 'rabi_oscillations'\n",
    "!python reset_redis.py 'motzoi_parameter'\n",
    "!python reset_redis.py 'n_rabi_oscillations'\n",
    "# !python reset_redis.py 'resonator_spectroscopy_1'\n",
    "# !python reset_redis.py 'qubit_12_spectroscopy_pulsed'\n",
    "# !python reset_redis.py 'rabi_oscillations_12'\n",
    "# !python reset_redis.py 'ramsey_correction_12'\n",
    "# !python reset_redis.py 'resonator_spectroscopy_2'\n",
    "# !python reset_redis.py 'cz_chevron'\n",
    "# !python reset_redis.py 'cz_calibration'"
   ]
  },
  {
   "cell_type": "code",
   "execution_count": 178,
   "metadata": {},
   "outputs": [
    {
     "name": "stdout",
     "output_type": "stream",
     "text": [
      "2023-11-14 01:02:08,777 ◆ measurement_utils.py ◆ Starting coupler spectroscopy\n",
      "2023-11-14 01:02:10,078 ◆ calibration_supervisor.py ◆ Starting System Calibration\n",
      "╔══════════════════════════════════════════════════════════════════╗\n",
      "║ Qubits: 5                                                        ║\n",
      "║↪ resonator_spectroscopy                                          ║\n",
      "║           ↪ qubit_01_spectroscopy_pulsed                         ║\n",
      "║                         ↪ rabi_oscillations                      ║\n",
      "║                                 ↪ motzoi_parameter               ║\n",
      "║                                         ↪ n_rabi_oscillations    ║\n",
      "╚══════════════════════════════════════════════════════════════════╝\n",
      "2023-11-14 01:02:10,139 ◆ calibration_supervisor.py ◆ Inspecting node resonator_spectroscopy\n",
      " ✔ \u001b[32m\u001b[1mNode resonator_spectroscopy in spec\u001b[0m\n",
      "2023-11-14 01:02:10,149 ◆ calibration_supervisor.py ◆ resonator_spectroscopy node is completed\n",
      "2023-11-14 01:02:10,149 ◆ calibration_supervisor.py ◆ Inspecting node qubit_01_spectroscopy_pulsed\n",
      " ✔ \u001b[32m\u001b[1mNode qubit_01_spectroscopy_pulsed in spec\u001b[0m\n",
      "2023-11-14 01:02:10,158 ◆ calibration_supervisor.py ◆ qubit_01_spectroscopy_pulsed node is completed\n",
      "2023-11-14 01:02:10,158 ◆ calibration_supervisor.py ◆ Inspecting node rabi_oscillations\n",
      " ✔ \u001b[32m\u001b[1mNode rabi_oscillations in spec\u001b[0m\n",
      "2023-11-14 01:02:10,167 ◆ calibration_supervisor.py ◆ rabi_oscillations node is completed\n",
      "2023-11-14 01:02:10,167 ◆ calibration_supervisor.py ◆ Inspecting node motzoi_parameter\n",
      " ✔ \u001b[32m\u001b[1mNode motzoi_parameter in spec\u001b[0m\n",
      "2023-11-14 01:02:10,176 ◆ calibration_supervisor.py ◆ motzoi_parameter node is completed\n",
      "2023-11-14 01:02:10,176 ◆ calibration_supervisor.py ◆ Inspecting node n_rabi_oscillations\n",
      "⚑⚑⚑ \u001b[31m\u001b[1mCalibration required for Node n_rabi_oscillations\u001b[0m\n",
      "2023-11-14 01:02:10,185 ◆ calibration_supervisor.py ◆ Calibrating node n_rabi_oscillations\n",
      "clusterA_module13_att:40dB\n",
      "clusterA_module17_att:6dB\n",
      " kwargs = {'coupled_qubits': ['q21', 'q22']}\n",
      "2023-11-14 01:02:10,736 ◆ compilation_worker.py ◆ Starting Compiling\n",
      "2023-11-14 01:02:14,676 ◆ compilation_worker.py ◆ Finished Compiling\n",
      "2023-11-14 01:02:14,680 ◆ measurement_utils.py ◆ Starting measurement\n",
      " schedule_duration = 76.04854784000536\n",
      "mltplx_nrabi: 100%|\u001b[34m███████████████████████████\u001b[0m| 380/380 [01:16<00:00,  4.99it/s]\u001b[0m\n",
      "2023-11-14 01:03:35,295 ◆ measurement_utils.py ◆ Raw dataset acquired\n",
      "2023-11-14 01:03:35,316 ◆ execution_worker.py ◆ Finished measurement\n",
      "2023-11-14 01:03:35,317 ◆ calibration_supervisor.py ◆ measurement completed\n",
      "2023-11-14 01:04:12,264 ◆ calibration_supervisor.py ◆ analysis completed\n",
      "2023-11-14 01:04:12,270 ◆ calibration_supervisor.py ◆ n_rabi_oscillations node is completed\n",
      "\u001b[0m"
     ]
    }
   ],
   "source": [
    "!python workers/calibration_supervisor.py"
   ]
  },
  {
   "cell_type": "code",
   "execution_count": 153,
   "metadata": {},
   "outputs": [],
   "source": [
    "Q = [11403.042211445036,13735.386665691572,9343.78396708656,8700.22876931334,12101.723614382283]"
   ]
  },
  {
   "cell_type": "code",
   "execution_count": 154,
   "metadata": {},
   "outputs": [
    {
     "name": "stdout",
     "output_type": "stream",
     "text": [
      "Qubit parameters q11:\n",
      "Qubit parameters q12:\n",
      "Qubit parameters q13:\n",
      "Qubit parameters q14:\n",
      "Qubit parameters q15:\n"
     ]
    }
   ],
   "source": [
    "import redis\n",
    "redis_connection = redis.Redis(decode_responses=True)\n",
    "qubits = [ 'q11','q12','q13','q14','q15']\n",
    "res = {}\n",
    "for index,qubit in enumerate(qubits): \n",
    "    print(f\"Qubit parameters {qubit}:\")\n",
    "    redis_config = redis_connection.hgetall(f\"transmons:{qubit}\")\n",
    "    # Print the redis config line by line\n",
    "    # for key, value in redis_config.items():\n",
    "    #     print(f\"{key}: {value}\")\n",
    "    res[qubit] = [redis_config['freq_01'],redis_config['freq_12'],redis_config['ro_freq'],redis_config['ro_freq_1'],Q[index],redis_config['t1_time']]"
   ]
  },
  {
   "cell_type": "code",
   "execution_count": 155,
   "metadata": {},
   "outputs": [
    {
     "data": {
      "text/plain": [
       "{'q11': ['3715011395.272988',\n",
       "  '3480219551.7001905',\n",
       "  '6934516975.164495',\n",
       "  '6934426975.164495',\n",
       "  11403.042211445036,\n",
       "  '5.041673046268791e-05'],\n",
       " 'q12': ['3366776737.283394',\n",
       "  '3174525442.741397',\n",
       "  '6606476408.043257',\n",
       "  '6606146408.043257',\n",
       "  13735.386665691572,\n",
       "  '3.6693457856395995e-05'],\n",
       " 'q13': ['3585049401.0760307',\n",
       "  '3336692876.3960423',\n",
       "  '6688230738.410758',\n",
       "  '6687900738.410758',\n",
       "  9343.78396708656,\n",
       "  '3.9827932747593664e-05'],\n",
       " 'q14': ['3333950785.172637',\n",
       "  '3132639498.0560727',\n",
       "  '6331263538.718747',\n",
       "  '6330993538.718747',\n",
       "  8700.22876931334,\n",
       "  '7.090225634098779e-05'],\n",
       " 'q15': ['3872648429.703217',\n",
       "  '3632177894.9530077',\n",
       "  '6933643842.658668',\n",
       "  '6933463842.658668',\n",
       "  12101.723614382283,\n",
       "  '5.560499758816562e-05']}"
      ]
     },
     "execution_count": 155,
     "metadata": {},
     "output_type": "execute_result"
    }
   ],
   "source": [
    "res"
   ]
  },
  {
   "cell_type": "code",
   "execution_count": null,
   "metadata": {},
   "outputs": [],
   "source": [
    "import lmfit\n",
    "from quantify_core.analysis.fitting_models import fft_freq_phase_guess\n",
    "\n",
    "# Cosine function that is fit to Rabi oscillations\n",
    "def cos_func(\n",
    "    drive_amp: float,\n",
    "    frequency: float,\n",
    "    amplitude: float,\n",
    "    offset: float,\n",
    "    phase: float = 0,\n",
    ") -> float:\n",
    "    return amplitude * np.cos(2 * np.pi * frequency * (drive_amp + phase)) + offset\n",
    "\n",
    "class ChevronModel(lmfit.model.Model):\n",
    "    \"\"\"\n",
    "    Generate a cosine model that can be fit to Rabi oscillation data.\n",
    "    \"\"\"\n",
    "    def __init__(self, *args, **kwargs):\n",
    "        # Pass in the defining equation so the user doesn't have to later.\n",
    "        super().__init__(cos_func, *args, **kwargs)\n",
    "\n",
    "        # Enforce oscillation frequency is positive\n",
    "        self.set_param_hint(\"frequency\", min=0)\n",
    "\n",
    "        # Fix the phase at pi so that the ouput is at a minimum when drive_amp=0\n",
    "        self.set_param_hint(\"phase\", min = -0.5, max = 0.5)\n",
    "\n",
    "        # Pi-pulse amplitude can be derived from the oscillation frequency\n",
    "        self.set_param_hint(\"swap\", expr=\"1/(2*frequency)-phase\", vary=False)\n",
    "        self.set_param_hint(\"cz\", expr=\"2/(2*frequency)-phase\", vary=False)\n",
    "\n",
    "\n",
    "    def guess(self, data, **kws) -> lmfit.parameter.Parameters:\n",
    "        drive_amp = kws.get(\"drive_amp\", None)\n",
    "        if drive_amp is None:\n",
    "            return None\n",
    "\n",
    "        amp_guess = abs(max(data) - min(data)) / 2  # amp is positive by convention\n",
    "        offs_guess = np.mean(data)\n",
    "\n",
    "        # Frequency guess is obtained using a fast fourier transform (FFT).\n",
    "        (freq_guess, _) = fft_freq_phase_guess(data, drive_amp)\n",
    "\n",
    "        self.set_param_hint(\"frequency\", value=freq_guess, min=0)\n",
    "        self.set_param_hint(\"amplitude\", value=amp_guess, min=0)\n",
    "        self.set_param_hint(\"offset\", value=offs_guess)\n",
    "\n",
    "        params = self.make_params()\n",
    "        return lmfit.models.update_param_vals(params, self.prefix, **kws)"
   ]
  },
  {
   "cell_type": "code",
   "execution_count": null,
   "metadata": {},
   "outputs": [],
   "source": [
    "import numpy as np\n",
    "import matplotlib.pyplot as plt\n",
    "from xarray import load_dataset\n",
    "from workers.post_processing_worker import Multiplexed_Analysis\n",
    "dp = r\"data_directory/20231106/20231106-155442-755-1ff0de-cz_chevron/dataset.hdf5\"\n",
    "ds = load_dataset(dp)"
   ]
  },
  {
   "cell_type": "code",
   "execution_count": null,
   "metadata": {},
   "outputs": [],
   "source": [
    "from utilities.QPU_connections_visualization import edge_group"
   ]
  },
  {
   "cell_type": "code",
   "execution_count": null,
   "metadata": {},
   "outputs": [
    {
     "data": {
      "text/plain": [
       "array(['q11_q12', 'q11_q16', 'q12_q13', 'q12_q17', 'q13_q14', 'q13_q18',\n",
       "       'q14_q15', 'q16_q17', 'q17_q18'], dtype='<U7')"
      ]
     },
     "execution_count": 69,
     "metadata": {},
     "output_type": "execute_result"
    }
   ],
   "source": [
    "qubits = ['q11', 'q12', 'q13', 'q14', 'q15', 'q16', 'q17', 'q18']\n",
    "# all combinations of qubits\n",
    "edges = []\n",
    "for i in range(len(qubits)):\n",
    "    for j in range(i+1, len(qubits)):\n",
    "        edges.append((qubits[i]+'_'+qubits[j]))\n",
    "edges = np.array(edges)\n",
    "edges_check = np.array([edge in edge_group.keys() for edge in edges])\n",
    "edges = edges[edges_check]\n",
    "edges"
   ]
  },
  {
   "cell_type": "code",
   "execution_count": null,
   "metadata": {},
   "outputs": [],
   "source": [
    "# testing_group = 1\n",
    "# group_check = np.array([edge_group[edge] == testing_group for edge in edges])\n",
    "# edges = edges[group_check]\n",
    "# groups = {key : edge_group.get(key) for key in edges}"
   ]
  },
  {
   "cell_type": "code",
   "execution_count": null,
   "metadata": {},
   "outputs": [],
   "source": [
    "testing_group = 1\n",
    "couplers_list,bus_list = [],[]\n",
    "for coupler in edges:\n",
    "    control,target = coupler.split('_')[0], coupler.split('_')[1]\n",
    "    if testing_group != 0:\n",
    "        check = edge_group[coupler] == testing_group\n",
    "    else:\n",
    "        check = True\n",
    "    if control in qubits and target in qubits and check:\n",
    "        bus_list.append([control,target])\n",
    "        couplers_list.append(coupler)\n"
   ]
  },
  {
   "cell_type": "code",
   "execution_count": null,
   "metadata": {},
   "outputs": [],
   "source": [
    "control_list,target_list = np.transpose(bus_list)"
   ]
  },
  {
   "cell_type": "code",
   "execution_count": null,
   "metadata": {},
   "outputs": [],
   "source": [
    "qubit = 'q14'\n",
    "x = ds[f'cz_pulse_frequencies_sweep{qubit}'].values\n",
    "y = ds[f'cz_pulse_amplitudes{qubit}'].values\n",
    "values = [[np.linalg.norm(u) for u in v] for v in ds[f'y{qubit}_']]"
   ]
  },
  {
   "cell_type": "code",
   "execution_count": null,
   "metadata": {},
   "outputs": [
    {
     "data": {
      "text/plain": [
       "(11, 5000000.0, 0.33830328759313516, 0.15605504748943105)"
      ]
     },
     "execution_count": 12,
     "metadata": {},
     "output_type": "execute_result"
    }
   ],
   "source": [
    "fit_results = []\n",
    "for magnitude in np.transpose(values):\n",
    "    model = ChevronModel()\n",
    "    # magnitude = np.transpose(values)[15]\n",
    "    fit_amplitudes = np.linspace( y[0], y[-1], 400)\n",
    "    guess = model.guess(magnitude, drive_amp=y)\n",
    "    fit_result = model.fit(magnitude, params=guess, drive_amp=y)\n",
    "    fit_y = model.eval(fit_result.params, **{model.independent_vars[0]: fit_amplitudes})\n",
    "    fit_results.append(fit_result)\n",
    "    # plt.plot(y,magnitude,'.r')\n",
    "    # plt.plot(fit_amplitudes,fit_y,'--b')\n",
    "qois = np.transpose([[fit.result.params[p].value for p in ['amplitude','frequency']] for fit in fit_results])\n",
    "qois = np.transpose([(q-np.min(q))/np.max(q) for q in qois])\n",
    "opt_id = np.argmax(np.sum(qois,axis=1))\n",
    "opt_freq = x[opt_id]\n",
    "opt_cz = fit_results[opt_id].result.params['cz'].value\n",
    "opt_swap = fit_results[opt_id].result.params['swap'].value\n",
    "opt_id,opt_freq,opt_cz,opt_swap"
   ]
  },
  {
   "cell_type": "code",
   "execution_count": null,
   "metadata": {},
   "outputs": [
    {
     "data": {
      "image/png": "[encoded data removed]",
      "text/plain": [
       "<Figure size 640x480 with 2 Axes>"
      ]
     },
     "metadata": {},
     "output_type": "display_data"
    }
   ],
   "source": [
    "%matplotlib inline\n",
    "# plot 2d data as a color map\n",
    "plt.figure()\n",
    "plt.pcolormesh(x,y,values,shading='nearest')\n",
    "plt.plot(opt_freq,opt_cz,'xb', label = 'Optimal CZ',markersize=10)\n",
    "plt.plot(opt_freq,opt_swap,'xr',label = 'Optimal SWAP',markersize=10)\n",
    "plt.legend()\n",
    "plt.colorbar()\n",
    "plt.ylabel('Amplitude')\n",
    "plt.xlabel('Frequency')\n",
    "plt.title('CZ Chevron')\n",
    "plt.show()"
   ]
  },
  {
   "cell_type": "code",
   "execution_count": null,
   "metadata": {},
   "outputs": [
    {
     "data": {
      "text/plain": [
       "[<matplotlib.lines.Line2D at 0x7ff5057865e0>]"
      ]
     },
     "execution_count": 160,
     "metadata": {},
     "output_type": "execute_result"
    },
    {
     "data": {
      "image/png": "[encoded data removed]",
      "text/plain": [
       "<Figure size 640x480 with 1 Axes>"
      ]
     },
     "metadata": {},
     "output_type": "display_data"
    }
   ],
   "source": [
    "model = ChevronModel()\n",
    "magnitude = np.transpose(values)[11]\n",
    "fit_amplitudes = np.linspace( y[0], y[-1], 400)\n",
    "guess = model.guess(magnitude, drive_amp=y)\n",
    "fit_result = model.fit(magnitude, params=guess, drive_amp=y)\n",
    "fit_y = model.eval(fit_result.params, **{model.independent_vars[0]: fit_amplitudes})\n",
    "# fit_results.append(fit_result)\n",
    "plt.plot(y,magnitude,'.r')\n",
    "plt.plot(fit_amplitudes,fit_y,'--b')"
   ]
  },
  {
   "cell_type": "code",
   "execution_count": null,
   "metadata": {},
   "outputs": [
    {
     "data": {
      "text/html": [
       "<h2>Fit Result</h2> <p>Model: Model(cos_func)</p> <table class=\"jp-toc-ignore\"><caption class=\"jp-toc-ignore\">Fit Statistics</caption><tr><td style='text-align:left'>fitting method</td><td style='text-align:right'>leastsq</td></tr><tr><td style='text-align:left'># function evals</td><td style='text-align:right'>42</td></tr><tr><td style='text-align:left'># data points</td><td style='text-align:right'>41</td></tr><tr><td style='text-align:left'># variables</td><td style='text-align:right'>4</td></tr><tr><td style='text-align:left'>chi-square</td><td style='text-align:right'> 1.0843e-05</td></tr><tr><td style='text-align:left'>reduced chi-square</td><td style='text-align:right'> 2.9305e-07</td></tr><tr><td style='text-align:left'>Akaike info crit.</td><td style='text-align:right'>-612.968664</td></tr><tr><td style='text-align:left'>Bayesian info crit.</td><td style='text-align:right'>-606.114376</td></tr><tr><td style='text-align:left'>R-squared</td><td style='text-align:right'> 0.91644067</td></tr></table><table class=\"jp-toc-ignore\"><caption>Parameters</caption><tr><th style='text-align:left'>name</th><th style='text-align:left'>value</th><th style='text-align:left'>standard error</th><th style='text-align:left'>relative error</th><th style='text-align:left'>initial value</th><th style='text-align:left'>min</th><th style='text-align:left'>max</th><th style='text-align:left'>vary</th><th style='text-align:right'>expression</th></tr><tr><td style='text-align:left'>frequency</td><td style='text-align:left'> 2.74351072</td><td style='text-align:left'> 0.03111018</td><td style='text-align:left'>(1.13%)</td><td style='text-align:left'>2.4390243902439024</td><td style='text-align:left'> 0.00000000</td><td style='text-align:left'>        inf</td><td style='text-align:left'>True</td><td style='text-align:right'></td></tr><tr><td style='text-align:left'>amplitude</td><td style='text-align:left'> 0.00246186</td><td style='text-align:left'> 1.2238e-04</td><td style='text-align:left'>(4.97%)</td><td style='text-align:left'>0.0026119101048301518</td><td style='text-align:left'> 0.00000000</td><td style='text-align:left'>        inf</td><td style='text-align:left'>True</td><td style='text-align:right'></td></tr><tr><td style='text-align:left'>offset</td><td style='text-align:left'> 0.01539369</td><td style='text-align:left'> 8.5772e-05</td><td style='text-align:left'>(0.56%)</td><td style='text-align:left'>0.015513819850313667</td><td style='text-align:left'>       -inf</td><td style='text-align:left'>        inf</td><td style='text-align:left'>True</td><td style='text-align:right'></td></tr><tr><td style='text-align:left'>phase</td><td style='text-align:left'> 0.02619319</td><td style='text-align:left'> 0.00562514</td><td style='text-align:left'>(21.48%)</td><td style='text-align:left'>0</td><td style='text-align:left'>-0.50000000</td><td style='text-align:left'> 0.50000000</td><td style='text-align:left'>True</td><td style='text-align:right'></td></tr><tr><td style='text-align:left'>swap</td><td style='text-align:left'> 0.15605505</td><td style='text-align:left'> 0.00396538</td><td style='text-align:left'>(2.54%)</td><td style='text-align:left'>0.20500000000000002</td><td style='text-align:left'>       -inf</td><td style='text-align:left'>        inf</td><td style='text-align:left'>False</td><td style='text-align:right'>1/(2*frequency)-phase</td></tr><tr><td style='text-align:left'>cz</td><td style='text-align:left'> 0.33830329</td><td style='text-align:left'> 0.00288930</td><td style='text-align:left'>(0.85%)</td><td style='text-align:left'>0.41000000000000003</td><td style='text-align:left'>       -inf</td><td style='text-align:left'>        inf</td><td style='text-align:left'>False</td><td style='text-align:right'>2/(2*frequency)-phase</td></tr></table><table class=\"jp-toc-ignore\"><caption>Correlations (unreported values are < 0.100)</caption><tr><th style='text-align:left'>Parameter1</th><th style='text-align:left'>Parameter 2</th><th style='text-align:right'>Correlation</th></tr><tr><td style='text-align:left'>frequency</td><td style='text-align:left'>phase</td><td style='text-align:right'>-0.8683</td></tr><tr><td style='text-align:left'>offset</td><td style='text-align:left'>phase</td><td style='text-align:right'>+0.1443</td></tr></table>"
      ],
      "text/plain": [
       "<lmfit.model.ModelResult at 0x7ff5057fd1f0>"
      ]
     },
     "execution_count": 161,
     "metadata": {},
     "output_type": "execute_result"
    }
   ],
   "source": [
    "fit_result"
   ]
  },
  {
   "cell_type": "code",
   "execution_count": null,
   "metadata": {},
   "outputs": [
    {
     "name": "stdout",
     "output_type": "stream",
     "text": [
      "Coupler parameters q11_q12:\n",
      "ro_acq_delay: 2e-07\n",
      "ro_freq: nan\n",
      "ro_freq_1: nan\n",
      "ro_freq_2: nan\n",
      "ro_freq_opt: nan\n",
      "ro_ampl_opt: nan\n",
      "ro_pulse_amp_opt: nan\n",
      "freq_01: nan\n",
      "freq_12: nan\n",
      "anharmonicity: nan\n",
      "mw_amp180: nan\n",
      "mw_motzoi: nan\n",
      "mw_ef_amp180: nan\n",
      "fidelity: nan\n",
      "discriminator: nan\n",
      "t1_time: nan\n",
      "selectivity: nan\n",
      "ro_ampl: nan\n",
      "cz_pulse_frequency: nan\n",
      "cz_pulse_amplitude: nan\n",
      "cz_pulse_duration: nan\n",
      "cz_pulse_width: nan\n",
      "dc_flux: nan\n",
      "dc_flux_offset: nan\n",
      "dc_flux_0: nan\n",
      "ro_pulse_delay: 4e-09\n",
      "ro_pulse_duration: 3e-06\n",
      "ro_acq_integration_time: 2.5e-06\n",
      "mw_pulse_duration: 2e-08\n",
      "init_duration: 0.0003\n",
      "min_calibration_point: 0\n",
      "max_calibration_point: 0\n",
      "spec_pulse_duration: 5e-06\n",
      "spec_amp: 0.0003\n",
      "att: 0\n",
      "artificial_detuning: 3000000.0\n"
     ]
    }
   ],
   "source": [
    "import redis\n",
    "redis_connection = redis.Redis(decode_responses=True)\n",
    "couplers = ['q11_q12']\n",
    "for coupler in couplers: \n",
    "    print(f\"Coupler parameters {coupler}:\")\n",
    "    redis_config = redis_connection.hgetall(f\"couplers:{coupler}\")\n",
    "    # Print the redis config line by line\n",
    "    for key, value in redis_config.items():\n",
    "        print(f\"{key}: {value}\")"
   ]
  },
  {
   "cell_type": "code",
   "execution_count": null,
   "metadata": {},
   "outputs": [
    {
     "name": "stdout",
     "output_type": "stream",
     "text": [
      "Qubit parameters q11:\n",
      "ro_acq_delay: 2e-07\n",
      "ro_freq: 6934489792.840477\n",
      "ro_freq_1: 6934335589.10094\n",
      "ro_freq_2: 6934149227.425686\n",
      "ro_freq_opt: nan\n",
      "ro_ampl_opt: nan\n",
      "ro_pulse_amp_opt: nan\n",
      "freq_01: 3714909311.9558687\n",
      "freq_12: 3480498083.2063527\n",
      "anharmonicity: nan\n",
      "mw_amp180: 0.21904175817715849\n",
      "mw_motzoi: -0.23333333333333334\n",
      "mw_ef_amp180: 0.12059955295547596\n",
      "fidelity: nan\n",
      "discriminator: nan\n",
      "t1_time: nan\n",
      "selectivity: nan\n",
      "ro_ampl: nan\n",
      "ro_pulse_delay: 4e-09\n",
      "ro_pulse_duration: 3e-06\n",
      "ro_acq_integration_time: 2.5e-06\n",
      "mw_pulse_duration: 2e-08\n",
      "init_duration: 0.0003\n",
      "min_calibration_point: 0\n",
      "max_calibration_point: 0\n",
      "spec_pulse_duration: 5e-06\n",
      "spec_amp: 0.0003\n",
      "att: 0\n",
      "ro_pulse_amp: 0.02\n",
      "artificial_detuning: 3000000.0\n",
      "cz_pulse_frequency: nan\n",
      "cz_pulse_amplitude: nan\n",
      "cz_pulse_duration: nan\n",
      "cz_pulse_width: nan\n",
      "dc_flux: nan\n",
      "dc_flux_0: nan\n",
      "dc_flux_offset: nan\n",
      "Qubit parameters q12:\n",
      "ro_acq_delay: 2e-07\n",
      "ro_freq: 6606599823.915397\n",
      "ro_freq_1: 6606218132.222552\n",
      "ro_freq_2: 6606624756.803857\n",
      "ro_freq_opt: nan\n",
      "ro_ampl_opt: nan\n",
      "ro_pulse_amp_opt: nan\n",
      "freq_01: 3366846777.1988955\n",
      "freq_12: 3366863016.292248\n",
      "anharmonicity: nan\n",
      "mw_amp180: 0.15322856409716915\n",
      "mw_motzoi: -0.23333333333333334\n",
      "mw_ef_amp180: 0.15142191084919202\n",
      "fidelity: nan\n",
      "discriminator: nan\n",
      "t1_time: nan\n",
      "selectivity: nan\n",
      "ro_ampl: nan\n",
      "ro_pulse_delay: 4e-09\n",
      "ro_pulse_duration: 3e-06\n",
      "ro_acq_integration_time: 2.5e-06\n",
      "mw_pulse_duration: 2e-08\n",
      "init_duration: 0.0003\n",
      "min_calibration_point: 0\n",
      "max_calibration_point: 0\n",
      "spec_pulse_duration: 5e-06\n",
      "spec_amp: 0.0003\n",
      "att: 0\n",
      "ro_pulse_amp: 0.02\n",
      "artificial_detuning: 3000000.0\n",
      "cz_pulse_frequency: nan\n",
      "cz_pulse_amplitude: nan\n",
      "cz_pulse_duration: nan\n",
      "cz_pulse_width: nan\n",
      "dc_flux: nan\n",
      "dc_flux_0: nan\n",
      "dc_flux_offset: nan\n",
      "Qubit parameters q13:\n",
      "ro_acq_delay: 2e-07\n",
      "ro_freq: 6688140238.477705\n",
      "ro_freq_1: 6688027960.445694\n",
      "ro_freq_2: 6687841809.896754\n",
      "ro_freq_opt: nan\n",
      "ro_ampl_opt: nan\n",
      "ro_pulse_amp_opt: nan\n",
      "freq_01: 3584905871.56629\n",
      "freq_12: 3343410895.406287\n",
      "anharmonicity: nan\n",
      "mw_amp180: 0.15425681212720446\n",
      "mw_motzoi: -0.08333333333333331\n",
      "mw_ef_amp180: 0.16925744280631783\n",
      "fidelity: nan\n",
      "discriminator: nan\n",
      "t1_time: nan\n",
      "selectivity: nan\n",
      "ro_ampl: nan\n",
      "ro_pulse_delay: 4e-09\n",
      "ro_pulse_duration: 3e-06\n",
      "ro_acq_integration_time: 2.5e-06\n",
      "mw_pulse_duration: 2e-08\n",
      "init_duration: 0.0003\n",
      "min_calibration_point: 0\n",
      "max_calibration_point: 0\n",
      "spec_pulse_duration: 5e-06\n",
      "spec_amp: 0.0003\n",
      "att: 0\n",
      "ro_pulse_amp: 0.02\n",
      "artificial_detuning: 3000000.0\n",
      "cz_pulse_frequency: nan\n",
      "cz_pulse_amplitude: nan\n",
      "cz_pulse_duration: nan\n",
      "cz_pulse_width: nan\n",
      "dc_flux: nan\n",
      "dc_flux_0: nan\n",
      "dc_flux_offset: nan\n",
      "Qubit parameters q14:\n",
      "ro_acq_delay: 2e-07\n",
      "ro_freq: 6331303319.389108\n",
      "ro_freq_1: 6331075761.7692585\n",
      "ro_freq_2: 6330924175.900527\n",
      "ro_freq_opt: nan\n",
      "ro_ampl_opt: nan\n",
      "ro_pulse_amp_opt: nan\n",
      "freq_01: 3334079537.5456276\n",
      "freq_12: 3133166997.936529\n",
      "anharmonicity: nan\n",
      "mw_amp180: 0.15297796548083556\n",
      "mw_motzoi: -0.15000000000000002\n",
      "mw_ef_amp180: 0.16991276643651584\n",
      "fidelity: nan\n",
      "discriminator: nan\n",
      "t1_time: nan\n",
      "selectivity: nan\n",
      "ro_ampl: nan\n",
      "ro_pulse_delay: 4e-09\n",
      "ro_pulse_duration: 3e-06\n",
      "ro_acq_integration_time: 2.5e-06\n",
      "mw_pulse_duration: 2e-08\n",
      "init_duration: 0.0003\n",
      "min_calibration_point: 0\n",
      "max_calibration_point: 0\n",
      "spec_pulse_duration: 5e-06\n",
      "spec_amp: 0.0003\n",
      "att: 0\n",
      "ro_pulse_amp: 0.02\n",
      "artificial_detuning: 3000000.0\n",
      "cz_pulse_frequency: nan\n",
      "cz_pulse_amplitude: nan\n",
      "cz_pulse_duration: nan\n",
      "cz_pulse_width: nan\n",
      "dc_flux: nan\n",
      "dc_flux_0: nan\n",
      "dc_flux_offset: nan\n",
      "Qubit parameters q15:\n",
      "ro_acq_delay: 2e-07\n",
      "ro_freq: 6933742655.372197\n",
      "ro_freq_1: 6933484737.034125\n",
      "ro_freq_2: 6933324979.418474\n",
      "ro_freq_opt: nan\n",
      "ro_ampl_opt: nan\n",
      "ro_pulse_amp_opt: nan\n",
      "freq_01: 3872776977.8303227\n",
      "freq_12: 3631713569.8124237\n",
      "anharmonicity: nan\n",
      "mw_amp180: 0.2023318820071396\n",
      "mw_motzoi: -0.3666666666666667\n",
      "mw_ef_amp180: 0.1897581373953161\n",
      "fidelity: nan\n",
      "discriminator: nan\n",
      "t1_time: nan\n",
      "selectivity: nan\n",
      "ro_ampl: nan\n",
      "ro_pulse_delay: 4e-09\n",
      "ro_pulse_duration: 3e-06\n",
      "ro_acq_integration_time: 2.5e-06\n",
      "mw_pulse_duration: 2e-08\n",
      "init_duration: 0.0003\n",
      "min_calibration_point: 0\n",
      "max_calibration_point: 0\n",
      "spec_pulse_duration: 5e-06\n",
      "spec_amp: 0.0003\n",
      "att: 0\n",
      "ro_pulse_amp: 0.01\n",
      "artificial_detuning: 3000000.0\n",
      "cz_pulse_frequency: nan\n",
      "cz_pulse_amplitude: nan\n",
      "cz_pulse_duration: nan\n",
      "cz_pulse_width: nan\n",
      "dc_flux: nan\n",
      "dc_flux_0: nan\n",
      "dc_flux_offset: nan\n"
     ]
    }
   ],
   "source": [
    "import redis\n",
    "redis_connection = redis.Redis(decode_responses=True)\n",
    "qubits = [ 'q11','q12','q13','q14','q15']\n",
    "# qubits = [ 'q15']\n",
    "qubit_freq_01_list,qubit_freq_ro_list = {},{}\n",
    "for qubit in qubits: \n",
    "    print(f\"Qubit parameters {qubit}:\")\n",
    "    redis_config = redis_connection.hgetall(f\"transmons:{qubit}\")\n",
    "    # Print the redis config line by line\n",
    "    for key, value in redis_config.items():\n",
    "        print(f\"{key}: {value}\")\n",
    "    # print(f\"mw_amp180: {redis_config['mw_amp180']}\")"
   ]
  },
  {
   "cell_type": "code",
   "execution_count": null,
   "metadata": {},
   "outputs": [
    {
     "name": "stdout",
     "output_type": "stream",
     "text": [
      "Qubit parameters q11:\n",
      "3714853914.3602576\n",
      "3448909227.620381\n",
      "Qubit parameters q12:\n",
      "3366602683.94394\n",
      "3366889792.3964834\n"
     ]
    }
   ],
   "source": [
    "import redis\n",
    "redis_connection = redis.Redis(decode_responses=True)\n",
    "qubits = [ 'q11','q12']\n",
    "f01,f12 = [],[]\n",
    "for qubit in qubits: \n",
    "    print(f\"Qubit parameters {qubit}:\")\n",
    "    redis_config = redis_connection.hgetall(f\"transmons:{qubit}\")\n",
    "    # Print the redis config line by line\n",
    "    # for key, value in redis_config.items():\n",
    "    #     print(f\"{key}: {value}\")\n",
    "    print(redis_config['freq_01'])\n",
    "    print(redis_config['freq_12'])\n",
    "    f01.append(redis_config['freq_01'])\n",
    "    f12.append(redis_config['freq_12'])\n",
    "f01,f12 = np.array(f01).astype(float),np.array(f12).astype(float)"
   ]
  },
  {
   "cell_type": "code",
   "execution_count": null,
   "metadata": {},
   "outputs": [
    {
     "name": "stdout",
     "output_type": "stream",
     "text": [
      "Qubit parameters q11:\n",
      "6934516975.164495\n",
      "3714911395.272988\n",
      "3480219551.7001905\n",
      "Qubit parameters q12:\n",
      "6606536408.043257\n",
      "3366876737.283394\n",
      "3173925442.741397\n",
      "Qubit parameters q13:\n",
      "6688260738.410758\n",
      "3584949401.0760307\n",
      "3343692876.3960423\n",
      "Qubit parameters q14:\n",
      "6331293538.718747\n",
      "3334050785.172637\n",
      "3133039498.0560727\n",
      "Qubit parameters q15:\n",
      "6933733842.658668\n",
      "3872848429.703217\n",
      "3631777894.9530077\n"
     ]
    }
   ],
   "source": [
    "import redis\n",
    "redis_connection = redis.Redis(decode_responses=True)\n",
    "qubits = [ 'q11','q12','q13','q14','q15']\n",
    "qubit_freq_01_list,qubit_freq_ro_list,qubit_freq_12_list = {},{},{}\n",
    "for qubit in qubits: \n",
    "    print(f\"Qubit parameters {qubit}:\")\n",
    "    redis_config = redis_connection.hgetall(f\"transmons:{qubit}\")\n",
    "    # Print the redis config line by line\n",
    "    # for key, value in redis_config.items():\n",
    "    #     print(f\"{key}: {value}\")\n",
    "    print(redis_config['ro_freq'])\n",
    "    print(redis_config['freq_01'])\n",
    "    print(redis_config['freq_12'])\n",
    "    qubit_freq_ro_list[qubit] = redis_config['ro_freq']\n",
    "    qubit_freq_01_list[qubit] = redis_config['freq_01']\n",
    "    qubit_freq_12_list[qubit] = redis_config['freq_12']"
   ]
  },
  {
   "cell_type": "code",
   "execution_count": null,
   "metadata": {},
   "outputs": [],
   "source": [
    "from config_files.VNA_values import VNA_resonator_frequencies, VNA_f01_frequencies, VNA_f12_frequencies\n",
    "for qubit in qubits:\n",
    "    VNA_resonator_frequencies[qubit] = float(qubit_freq_ro_list[qubit])\n",
    "    VNA_f01_frequencies[qubit] = float(qubit_freq_01_list[qubit])\n",
    "    VNA_f12_frequencies[qubit] = float(qubit_freq_12_list[qubit])\n",
    "# rewrite the VNA_values.py file\n",
    "with open('config_files/VNA_values.py', 'w') as f:\n",
    "    f.write(f\"VNA_resonator_frequencies = {VNA_resonator_frequencies}\\n\")\n",
    "    f.write(f\"VNA_f01_frequencies = {VNA_f01_frequencies}\\n\")\n",
    "    f.write(f\"VNA_f12_frequencies = {VNA_f12_frequencies}\\n\")"
   ]
  },
  {
   "cell_type": "code",
   "execution_count": null,
   "metadata": {},
   "outputs": [
    {
     "data": {
      "text/plain": [
       "{'q11': 6934516975.164495,\n",
       " 'q12': 6606536408.043257,\n",
       " 'q13': 6688260738.410758,\n",
       " 'q14': 6331293538.718747,\n",
       " 'q15': 6933733842.658668,\n",
       " 'q16': 6491000000.0,\n",
       " 'q17': 7059000000.0,\n",
       " 'q18': 6712000000.0,\n",
       " 'q19': 6818000000.0,\n",
       " 'q20': 6494000000.0,\n",
       " 'q21': 6751000000.0,\n",
       " 'q22': 6477000000.0,\n",
       " 'q23': 7052000000.0,\n",
       " 'q24': 6583000000.0,\n",
       " 'q25': 6853000000.0}"
      ]
     },
     "execution_count": 167,
     "metadata": {},
     "output_type": "execute_result"
    }
   ],
   "source": [
    "VNA_resonator_frequencies"
   ]
  },
  {
   "cell_type": "code",
   "execution_count": null,
   "metadata": {},
   "outputs": [
    {
     "data": {
      "text/plain": [
       "{'q11': 3714911395.272988,\n",
       " 'q12': 3366876737.283394,\n",
       " 'q13': 3584949401.0760307,\n",
       " 'q14': 3334050785.172637,\n",
       " 'q15': 3872848429.703217,\n",
       " 'q16': 3189000000.0,\n",
       " 'q17': 3932000000.0,\n",
       " 'q18': 3254000000.0,\n",
       " 'q19': 3921000000.0,\n",
       " 'q20': 3333000000.0,\n",
       " 'q21': 3773000000.0,\n",
       " 'q22': 3326000000.0,\n",
       " 'q23': 3911000000.0,\n",
       " 'q24': 3271000000.0,\n",
       " 'q25': 4009000000.0}"
      ]
     },
     "execution_count": 168,
     "metadata": {},
     "output_type": "execute_result"
    }
   ],
   "source": [
    "VNA_f01_frequencies"
   ]
  },
  {
   "cell_type": "code",
   "execution_count": null,
   "metadata": {},
   "outputs": [
    {
     "data": {
      "text/plain": [
       "{'q11': 3480219551.7001905,\n",
       " 'q12': 3173925442.741397,\n",
       " 'q13': 3343692876.3960423,\n",
       " 'q14': 3133039498.0560727,\n",
       " 'q15': 3631777894.9530077,\n",
       " 'q16': 2993000000.0,\n",
       " 'q17': 3699000000.0,\n",
       " 'q18': 3154000000.0,\n",
       " 'q19': 3682000000.0,\n",
       " 'q20': 3233000000.0,\n",
       " 'q21': 3542000000.0,\n",
       " 'q22': 3131000000.0,\n",
       " 'q23': 3674000000.0,\n",
       " 'q24': 3171000000.0,\n",
       " 'q25': 3770000000.0}"
      ]
     },
     "execution_count": 169,
     "metadata": {},
     "output_type": "execute_result"
    }
   ],
   "source": [
    "VNA_f12_frequencies"
   ]
  },
  {
   "cell_type": "code",
   "execution_count": null,
   "metadata": {},
   "outputs": [
    {
     "data": {
      "text/plain": [
       "array([-234.69184357, -192.95129454, -241.25652468, -201.01128712,\n",
       "       -241.07053475, -196.        , -233.        , -100.        ,\n",
       "       -239.        , -100.        , -231.        , -195.        ,\n",
       "       -237.        , -100.        , -239.        ])"
      ]
     },
     "execution_count": 165,
     "metadata": {},
     "output_type": "execute_result"
    }
   ],
   "source": [
    "# dict values to array\n",
    "(np.array(list(VNA_f12_frequencies.values()))-np.array(list(VNA_f01_frequencies.values()))) / 1e6\n"
   ]
  },
  {
   "cell_type": "code",
   "execution_count": null,
   "metadata": {},
   "outputs": [],
   "source": [
    "VNA_resonator_frequencies = {'q11': 6934516975.164495, 'q12': 6606536408.043257, 'q13': 6688260738.410758, 'q14': 6331293538.718747, 'q15': 6933733842.658668, 'q16': 6491000000.0, 'q17': 7059000000.0, 'q18': 6712000000.0, 'q19': 6818000000.0, 'q20': 6494000000.0, 'q21': 6751000000.0, 'q22': 6477000000.0, 'q23': 7052000000.0, 'q24': 6583000000.0, 'q25': 6853000000.0}\n",
    "VNA_f01_frequencies = {'q11': 3714911395.272988, 'q12': 3366876737.283394, 'q13': 3584949401.0760307, 'q14': 3334050785.172637, 'q15': 3872848429.703217, 'q16': 3189000000.0, 'q17': 3932000000.0, 'q18': 3254000000.0, 'q19': 3921000000.0, 'q20': 3333000000.0, 'q21': 3773000000.0, 'q22': 3326000000.0, 'q23': 3911000000.0, 'q24': 3271000000.0, 'q25': 4009000000.0}\n",
    "VNA_f12_frequencies = {'q11': 3480219551.7001905, 'q12': 3173925442.741397, 'q13': 3343692876.3960423, 'q14': 3133039498.0560727, 'q15': 3631777894.9530077, 'q16': 2993000000.0, 'q17': 3699000000.0, 'q18': 3154000000.0, 'q19': 3682000000.0, 'q20': 3233000000.0, 'q21': 3542000000.0, 'q22': 3131000000.0, 'q23': 3674000000.0, 'q24': 3171000000.0, 'q25': 3770000000.0}\n"
   ]
  }
 ],
 "metadata": {
  "kernelspec": {
   "display_name": "tac",
   "language": "python",
   "name": "python3"
  },
  "language_info": {
   "codemirror_mode": {
    "name": "ipython",
    "version": 3
   },
   "file_extension": ".py",
   "mimetype": "text/x-python",
   "name": "python",
   "nbconvert_exporter": "python",
   "pygments_lexer": "ipython3",
   "version": "3.10.9"
  },
  "orig_nbformat": 4
 },
 "nbformat": 4,
 "nbformat_minor": 2
}
