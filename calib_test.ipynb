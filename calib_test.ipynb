{
 "cells": [
  {
   "cell_type": "code",
   "execution_count": 110,
   "metadata": {},
   "outputs": [],
   "source": [
    "# !python reset_redis.py all"
   ]
  },
  {
   "cell_type": "code",
   "execution_count": 111,
   "metadata": {},
   "outputs": [
    {
     "name": "stdout",
     "output_type": "stream",
     "text": [
      " remove_node = 'resonator_spectroscopy_1'\n",
      " remove_node = 'qubit_12_spectroscopy_pulsed'\n",
      " remove_node = 'rabi_oscillations_12'\n",
      " remove_node = 'ramsey_correction_12'\n"
     ]
    }
   ],
   "source": [
    "# !python reset_redis.py 'resonator_spectroscopy'\n",
    "# !python reset_redis.py 'qubit_01_spectroscopy_pulsed'\n",
    "# !python reset_redis.py 'rabi_oscillations'\n",
    "# !python reset_redis.py 'motzoi_parameter'\n",
    "# !python reset_redis.py 'n_rabi_oscillations'\n",
    "!python reset_redis.py 'resonator_spectroscopy_1'\n",
    "!python reset_redis.py 'qubit_12_spectroscopy_pulsed'\n",
    "!python reset_redis.py 'rabi_oscillations_12'\n",
    "!python reset_redis.py 'ramsey_correction_12'\n",
    "# !python reset_redis.py 'resonator_spectroscopy_2'\n",
    "# !python reset_redis.py 'cz_chevron'\n",
    "# !python reset_redis.py 'cz_calibration'"
   ]
  },
  {
   "cell_type": "code",
   "execution_count": 112,
   "metadata": {},
   "outputs": [
    {
     "name": "stdout",
     "output_type": "stream",
     "text": [
      "2023-12-04 11:17:08,013 ◆ measurement_utils.py ◆ Starting coupler spectroscopy\n",
      "Figure(1000x600)\n",
      "2023-12-04 11:17:09,333 ◆ calibration_supervisor.py ◆ Starting System Calibration\n",
      "╔════════════════════════════════════════════════════════════════════════════════════════════════════════════════════════════════════════════════╗\n",
      "║ Qubits: 5                                                                                                                                      ║\n",
      "║↪ resonator_spectroscopy                                                                                                                        ║\n",
      "║           ↪ qubit_01_spectroscopy_pulsed                                                                                                       ║\n",
      "║                         ↪ rabi_oscillations                                                                                                    ║\n",
      "║                                 ↪ ramsey_correction                                                                                            ║\n",
      "║                                         ↪ motzoi_parameter                                                                                     ║\n",
      "║                                                 ↪ n_rabi_oscillations                                                                          ║\n",
      "║                                                          ↪ resonator_spectroscopy_1                                                            ║\n",
      "║                                                                      ↪ qubit_12_spectroscopy_pulsed                                            ║\n",
      "║                                                                                    ↪ rabi_oscillations_12                                      ║\n",
      "║                                                                                              ↪ ramsey_correction_12                            ║\n",
      "║                                                                                                        ↪ resonator_spectroscopy_2              ║\n",
      "╚════════════════════════════════════════════════════════════════════════════════════════════════════════════════════════════════════════════════╝\n",
      "2023-12-04 11:17:09,368 ◆ calibration_supervisor.py ◆ Inspecting node resonator_spectroscopy\n",
      " ✔ \u001b[32m\u001b[1mNode resonator_spectroscopy in spec\u001b[0m\n",
      "2023-12-04 11:17:09,369 ◆ calibration_supervisor.py ◆ resonator_spectroscopy node is completed\n",
      "2023-12-04 11:17:09,369 ◆ calibration_supervisor.py ◆ Inspecting node qubit_01_spectroscopy_pulsed\n",
      " ✔ \u001b[32m\u001b[1mNode qubit_01_spectroscopy_pulsed in spec\u001b[0m\n",
      "2023-12-04 11:17:09,370 ◆ calibration_supervisor.py ◆ qubit_01_spectroscopy_pulsed node is completed\n",
      "2023-12-04 11:17:09,370 ◆ calibration_supervisor.py ◆ Inspecting node rabi_oscillations\n",
      " ✔ \u001b[32m\u001b[1mNode rabi_oscillations in spec\u001b[0m\n",
      "2023-12-04 11:17:09,371 ◆ calibration_supervisor.py ◆ rabi_oscillations node is completed\n",
      "2023-12-04 11:17:09,371 ◆ calibration_supervisor.py ◆ Inspecting node ramsey_correction\n",
      " ✔ \u001b[32m\u001b[1mNode ramsey_correction in spec\u001b[0m\n",
      "2023-12-04 11:17:09,373 ◆ calibration_supervisor.py ◆ ramsey_correction node is completed\n",
      "2023-12-04 11:17:09,373 ◆ calibration_supervisor.py ◆ Inspecting node motzoi_parameter\n",
      " ✔ \u001b[32m\u001b[1mNode motzoi_parameter in spec\u001b[0m\n",
      "2023-12-04 11:17:09,374 ◆ calibration_supervisor.py ◆ motzoi_parameter node is completed\n",
      "2023-12-04 11:17:09,374 ◆ calibration_supervisor.py ◆ Inspecting node n_rabi_oscillations\n",
      " ✔ \u001b[32m\u001b[1mNode n_rabi_oscillations in spec\u001b[0m\n",
      "2023-12-04 11:17:09,375 ◆ calibration_supervisor.py ◆ n_rabi_oscillations node is completed\n",
      "2023-12-04 11:17:09,375 ◆ calibration_supervisor.py ◆ Inspecting node resonator_spectroscopy_1\n",
      " transmon_configuration[node] = {'all': {'init_duration': 0.0001}}\n",
      "⚑⚑⚑ \u001b[31m\u001b[1mCalibration required for Node resonator_spectroscopy_1\u001b[0m\n",
      "2023-12-04 11:17:09,376 ◆ calibration_supervisor.py ◆ Calibrating node resonator_spectroscopy_1\n",
      "clusterA_module13_att:40dB\n",
      "clusterA_module17_att:6dB\n",
      " kwargs = {'coupled_qubits': ['q21', 'q22']}\n",
      "setting optimal spec ampl\n",
      "setting optimal spec ampl\n",
      "setting optimal spec ampl\n",
      "setting optimal spec ampl\n",
      "setting optimal spec ampl\n",
      "2023-12-04 11:17:09,502 ◆ compilation_worker.py ◆ Starting Compiling\n",
      "2023-12-04 11:17:09,841 ◆ compilation_worker.py ◆ Finished Compiling\n",
      "2023-12-04 11:17:09,842 ◆ measurement_utils.py ◆ Starting measurement\n",
      " schedule_duration = 5.5696670719999934\n",
      "multiplexed_resonator_spectroscopy: 100%|\u001b[34m███████\u001b[0m| 27/27 [00:05<00:00,  4.99it/s]\u001b[0m\n",
      "2023-12-04 11:17:18,492 ◆ measurement_utils.py ◆ Raw dataset acquired\n",
      "2023-12-04 11:17:18,513 ◆ execution_worker.py ◆ Finished measurement\n",
      "2023-12-04 11:17:18,514 ◆ calibration_supervisor.py ◆ measurement completed\n",
      "/home/loke-c/tergite-autocalibration-lite/data_directory/20231204/20231204-111718-513-resonator_spectroscopy_1\n",
      "q11 [6934360343.764855, 10986.251755110243, 6934472975.164495] ['ro_freq_1', 'Ql_1', 'resonator_minimum_1']\n",
      "q12 [6606247911.946981, 7652.427109555214, 6606184408.043257] ['ro_freq_1', 'Ql_1', 'resonator_minimum_1']\n",
      "q13 [6688137318.8128195, 6633.701961472976, 6688104738.410758] ['ro_freq_1', 'Ql_1', 'resonator_minimum_1']\n",
      "q14 [6331099037.34988, 6497.411779109769, 6331053538.718747] ['ro_freq_1', 'Ql_1', 'resonator_minimum_1']\n",
      "q15 [6933486085.411257, 13449.78054942729, 6933493842.658668] ['ro_freq_1', 'Ql_1', 'resonator_minimum_1']\n",
      "2023-12-04 11:17:22,757 ◆ calibration_supervisor.py ◆ analysis completed\n",
      "2023-12-04 11:17:22,757 ◆ calibration_supervisor.py ◆ resonator_spectroscopy_1 node is completed\n",
      "2023-12-04 11:17:22,758 ◆ calibration_supervisor.py ◆ Inspecting node qubit_12_spectroscopy_pulsed\n",
      " transmon_configuration[node] = {'all': {'spec_pulse_duration': 5e-06, 'spec_amp': 0.004}}\n",
      "⚑⚑⚑ \u001b[31m\u001b[1mCalibration required for Node qubit_12_spectroscopy_pulsed\u001b[0m\n",
      "2023-12-04 11:17:22,761 ◆ calibration_supervisor.py ◆ Calibrating node qubit_12_spectroscopy_pulsed\n",
      "clusterA_module13_att:40dB\n",
      "clusterA_module17_att:6dB\n",
      " kwargs = {'coupled_qubits': ['q21', 'q22']}\n",
      "setting optimal spec ampl\n",
      "setting optimal spec ampl\n",
      "setting optimal spec ampl\n",
      "setting optimal spec ampl\n",
      "setting optimal spec ampl\n",
      "2023-12-04 11:17:22,925 ◆ compilation_worker.py ◆ Starting Compiling\n",
      "2023-12-04 11:17:24,101 ◆ compilation_worker.py ◆ Finished Compiling\n",
      "2023-12-04 11:17:24,103 ◆ measurement_utils.py ◆ Starting measurement\n",
      " schedule_duration = 11.379142655999958\n",
      "multiplexed_qubit_spec: 100%|\u001b[34m███████████████████\u001b[0m| 56/56 [00:11<00:00,  4.99it/s]\u001b[0m\n",
      "2023-12-04 11:17:37,504 ◆ measurement_utils.py ◆ Raw dataset acquired\n",
      "2023-12-04 11:17:37,514 ◆ execution_worker.py ◆ Finished measurement\n",
      "2023-12-04 11:17:37,515 ◆ calibration_supervisor.py ◆ measurement completed\n",
      "/home/loke-c/tergite-autocalibration-lite/data_directory/20231204/20231204-111737-514-qubit_12_spectroscopy_pulsed\n",
      "q11 [3480300967.9843354] ['freq_12']\n",
      "q12 [3173700897.4018683] ['freq_12']\n",
      "q13 [3343554811.438793] ['freq_12']\n",
      "q14 [3133413448.742062] ['freq_12']\n",
      "q15 [3631679797.801237] ['freq_12']\n",
      "2023-12-04 11:17:41,709 ◆ calibration_supervisor.py ◆ analysis completed\n",
      "2023-12-04 11:17:41,712 ◆ calibration_supervisor.py ◆ qubit_12_spectroscopy_pulsed node is completed\n",
      "2023-12-04 11:17:41,712 ◆ calibration_supervisor.py ◆ Inspecting node rabi_oscillations_12\n",
      "⚑⚑⚑ \u001b[31m\u001b[1mCalibration required for Node rabi_oscillations_12\u001b[0m\n",
      "2023-12-04 11:17:41,713 ◆ calibration_supervisor.py ◆ Calibrating node rabi_oscillations_12\n",
      "clusterA_module13_att:40dB\n",
      "clusterA_module17_att:6dB\n",
      " kwargs = {'coupled_qubits': ['q21', 'q22']}\n",
      "setting optimal spec ampl\n",
      "setting optimal spec ampl\n",
      "setting optimal spec ampl\n",
      "setting optimal spec ampl\n",
      "setting optimal spec ampl\n",
      "2023-12-04 11:17:41,806 ◆ compilation_worker.py ◆ Starting Compiling\n",
      "2023-12-04 11:17:41,989 ◆ compilation_worker.py ◆ Finished Compiling\n",
      "2023-12-04 11:17:41,989 ◆ measurement_utils.py ◆ Starting measurement\n",
      " schedule_duration = 3.373301759999996\n",
      "multiplexed_rabi_12:  50%|\u001b[34m███████████▌           \u001b[0m| 8/16 [00:01<00:01,  4.99it/s]\u001b[0m^C\n",
      "Traceback (most recent call last):\n",
      "  File \"/home/loke-c/tergite-autocalibration-lite/workers/calibration_supervisor.py\", line 227, in <module>\n",
      "    calibrate_system()\n",
      "  File \"/home/loke-c/tergite-autocalibration-lite/workers/calibration_supervisor.py\", line 151, in calibrate_system\n",
      "    inspect_node(calibration_node)\n",
      "  File \"/home/loke-c/tergite-autocalibration-lite/workers/calibration_supervisor.py\", line 194, in inspect_node\n",
      "    calibrate_node(node)\n",
      "  File \"/home/loke-c/tergite-autocalibration-lite/workers/calibration_supervisor.py\", line 207, in calibrate_node\n",
      "    result_dataset = measure_node(\n",
      "  File \"/home/loke-c/tergite-autocalibration-lite/workers/execution_worker.py\", line 21, in measure_node\n",
      "    result_dataset = measurement.measure(node, compiled_schedule, lab_ic)\n",
      "  File \"/home/loke-c/tergite-autocalibration-lite/workers/measurement_utils.py\", line 63, in measure\n",
      "    raw_dataset = execute_schedule(compiled_schedule, ic)\n",
      "  File \"/home/loke-c/tergite-autocalibration-lite/workers/measurement_utils.py\", line 38, in execute_schedule\n",
      "    thread_lab.join()\n",
      "  File \"/home/loke-c/anaconda3/envs/tac/lib/python3.9/threading.py\", line 1060, in join\n",
      "    self._wait_for_tstate_lock()\n",
      "  File \"/home/loke-c/anaconda3/envs/tac/lib/python3.9/threading.py\", line 1080, in _wait_for_tstate_lock\n",
      "    if lock.acquire(block, timeout):\n",
      "KeyboardInterrupt\n",
      "multiplexed_rabi_12:  62%|\u001b[34m█████████████▊        \u001b[0m| 10/16 [00:02<00:01,  4.99it/s]\u001b[0m"
     ]
    }
   ],
   "source": [
    "!python workers/calibration_supervisor.py"
   ]
  },
  {
   "cell_type": "code",
   "execution_count": 84,
   "metadata": {},
   "outputs": [],
   "source": [
    "import numpy as np\n",
    "import matplotlib.pyplot as plt\n",
    "from xarray import load_dataset\n",
    "from workers.post_processing_worker import Multiplexed_Analysis\n",
    "# dp = r\"data_directory/20231106/20231106-155442-755-1ff0de-cz_chevron/dataset.hdf5\"\n",
    "dp = r'data_directory/20231204/20231204-103444-082-c42866-ramsey_correction_12/dataset.hdf5'\n",
    "ds = load_dataset(dp)"
   ]
  },
  {
   "cell_type": "code",
   "execution_count": 96,
   "metadata": {},
   "outputs": [],
   "source": [
    "ds.attrs['name'] = 'new'"
   ]
  },
  {
   "cell_type": "code",
   "execution_count": 103,
   "metadata": {},
   "outputs": [
    {
     "data": {
      "text/plain": [
       "'new'"
      ]
     },
     "execution_count": 103,
     "metadata": {},
     "output_type": "execute_result"
    }
   ],
   "source": [
    "ds.attrs['name']"
   ]
  },
  {
   "cell_type": "code",
   "execution_count": 82,
   "metadata": {},
   "outputs": [
    {
     "name": "stdout",
     "output_type": "stream",
     "text": [
      "Qubit parameters q11:\n",
      "6934549464.207827\n",
      "3714915903.6318045\n",
      "3480295760.3939333\n",
      "-234620143.23787117\n",
      "Qubit parameters q12:\n",
      "6606623788.079234\n",
      "3366620825.3904705\n",
      "3173657274.4301305\n",
      "-192963550.96034002\n",
      "Qubit parameters q13:\n",
      "6688273187.131241\n",
      "3584973087.6373024\n",
      "3341684358.295266\n",
      "-243288729.34203625\n",
      "Qubit parameters q14:\n",
      "6331337336.993747\n",
      "3334078482.4869795\n",
      "3133335946.2948923\n",
      "-200742536.19208717\n",
      "Qubit parameters q15:\n",
      "6933646229.459053\n",
      "3872830261.1279626\n",
      "3631887508.935382\n",
      "-240942752.1925807\n"
     ]
    }
   ],
   "source": [
    "import redis\n",
    "redis_connection = redis.Redis(decode_responses=True)\n",
    "qubits = [ 'q11','q12','q13','q14','q15']\n",
    "qubit_freq_01_list,qubit_freq_ro_list,qubit_freq_12_list = {},{},{}\n",
    "for qubit in qubits: \n",
    "    print(f\"Qubit parameters {qubit}:\")\n",
    "    redis_config = redis_connection.hgetall(f\"transmons:{qubit}\")\n",
    "    # Print the redis config line by line\n",
    "    # for key, value in redis_config.items():\n",
    "    #     print(f\"{key}: {value}\")\n",
    "    print(redis_config['ro_freq'])\n",
    "    print(redis_config['freq_01'])\n",
    "    print(redis_config['freq_12'])\n",
    "    qubit_freq_ro_list[qubit] = redis_config['ro_freq']\n",
    "    qubit_freq_01_list[qubit] = redis_config['freq_01']\n",
    "    qubit_freq_12_list[qubit] = redis_config['freq_12']\n",
    "    print(float(redis_config['freq_12'])-float(redis_config['freq_01']))"
   ]
  },
  {
   "cell_type": "code",
   "execution_count": null,
   "metadata": {},
   "outputs": [],
   "source": [
    "from config_files.VNA_values import VNA_resonator_frequencies, VNA_qubit_frequencies, VNA_f12_frequencies\n",
    "for qubit in qubits:\n",
    "    VNA_resonator_frequencies[qubit] = float(qubit_freq_ro_list[qubit])\n",
    "    VNA_qubit_frequencies[qubit] = float(qubit_freq_01_list[qubit])\n",
    "    VNA_f12_frequencies[qubit] = float(qubit_freq_12_list[qubit])\n",
    "# rewrite the VNA_values.py file\n",
    "with open('config_files/VNA_values.py', 'w') as f:\n",
    "    f.write(f\"VNA_resonator_frequencies = {VNA_resonator_frequencies}\\n\")\n",
    "    f.write(f\"VNA_f01_frequencies = {VNA_qubit_frequencies}\\n\")\n",
    "    f.write(f\"VNA_f12_frequencies = {VNA_f12_frequencies}\\n\")"
   ]
  },
  {
   "cell_type": "code",
   "execution_count": 79,
   "metadata": {},
   "outputs": [
    {
     "name": "stdout",
     "output_type": "stream",
     "text": [
      "{'q11': 6934549464.207827, 'q12': 6606623788.079234, 'q13': 6688273187.131241, 'q14': 6331337336.993747, 'q15': 6933646229.459053, 'q16': 6491000000.0, 'q17': 7059000000.0, 'q18': 6712000000.0, 'q19': 6818000000.0, 'q20': 6494000000.0, 'q21': 6751000000.0, 'q22': 6477000000.0, 'q23': 7052000000.0, 'q24': 6583000000.0, 'q25': 6853000000.0}\n",
      "{'q11': 3714915903.6318045, 'q12': 3366620825.3904705, 'q13': 3584973087.6373024, 'q14': 3334078482.4869795, 'q15': 3872830261.1279626, 'q16': 3189000000.0, 'q17': 3932000000.0, 'q18': 3254000000.0, 'q19': 3921000000.0, 'q20': 3333000000.0, 'q21': 3773000000.0, 'q22': 3326000000.0, 'q23': 3911000000.0, 'q24': 3271000000.0, 'q25': 4009000000.0}\n",
      "{'q11': 3714925547.1518755, 'q12': 3366214270.0718584, 'q13': 3585207227.3800335, 'q14': 3334248945.025945, 'q15': 3872630397.1224184, 'q16': 2993000000.0, 'q17': 3699000000.0, 'q18': 3154000000.0, 'q19': 3682000000.0, 'q20': 3233000000.0, 'q21': 3542000000.0, 'q22': 3131000000.0, 'q23': 3674000000.0, 'q24': 3171000000.0, 'q25': 3770000000.0}\n",
      "[ 9.64352007e-03 -4.06555319e-01  2.34139743e-01  1.70462539e-01\n",
      " -1.99864006e-01 -1.96000000e+02 -2.33000000e+02 -1.00000000e+02\n",
      " -2.39000000e+02 -1.00000000e+02 -2.31000000e+02 -1.95000000e+02\n",
      " -2.37000000e+02 -1.00000000e+02 -2.39000000e+02]\n"
     ]
    }
   ],
   "source": [
    "import numpy as np\n",
    "print(VNA_resonator_frequencies)\n",
    "print(VNA_qubit_frequencies)\n",
    "print(VNA_f12_frequencies)\n",
    "anahar = (np.array(list(VNA_f12_frequencies.values()))-np.array(list(VNA_qubit_frequencies.values()))) / 1e6\n",
    "print(anahar)"
   ]
  },
  {
   "cell_type": "code",
   "execution_count": null,
   "metadata": {},
   "outputs": [],
   "source": [
    "VNA_resonator_frequencies = {'q11': 6934516975.164495, 'q12': 6606536408.043257, 'q13': 6688260738.410758, 'q14': 6331293538.718747, 'q15': 6933733842.658668, 'q16': 6491000000.0, 'q17': 7059000000.0, 'q18': 6712000000.0, 'q19': 6818000000.0, 'q20': 6494000000.0, 'q21': 6751000000.0, 'q22': 6477000000.0, 'q23': 7052000000.0, 'q24': 6583000000.0, 'q25': 6853000000.0}\n",
    "VNA_qubit_frequencies = {'q11': 3714911395.272988, 'q12': 3366876737.283394, 'q13': 3584949401.0760307, 'q14': 3334050785.172637, 'q15': 3872848429.703217, 'q16': 3189000000.0, 'q17': 3932000000.0, 'q18': 3254000000.0, 'q19': 3921000000.0, 'q20': 3333000000.0, 'q21': 3773000000.0, 'q22': 3326000000.0, 'q23': 3911000000.0, 'q24': 3271000000.0, 'q25': 4009000000.0}\n",
    "VNA_f12_frequencies = {'q11': 3480219551.7001905, 'q12': 3173925442.741397, 'q13': 3343692876.3960423, 'q14': 3133039498.0560727, 'q15': 3631777894.9530077, 'q16': 2993000000.0, 'q17': 3699000000.0, 'q18': 3154000000.0, 'q19': 3682000000.0, 'q20': 3233000000.0, 'q21': 3542000000.0, 'q22': 3131000000.0, 'q23': 3674000000.0, 'q24': 3171000000.0, 'q25': 3770000000.0}\n"
   ]
  }
 ],
 "metadata": {
  "kernelspec": {
   "display_name": "tac",
   "language": "python",
   "name": "python3"
  },
  "language_info": {
   "codemirror_mode": {
    "name": "ipython",
    "version": 3
   },
   "file_extension": ".py",
   "mimetype": "text/x-python",
   "name": "python",
   "nbconvert_exporter": "python",
   "pygments_lexer": "ipython3",
   "version": "3.9.18"
  },
  "orig_nbformat": 4
 },
 "nbformat": 4,
 "nbformat_minor": 2
}
