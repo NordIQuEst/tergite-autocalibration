{
 "cells": [
  {
   "cell_type": "code",
   "execution_count": 7,
   "metadata": {},
   "outputs": [
    {
     "name": "stdout",
     "output_type": "stream",
     "text": [
      " remove_node = 'all'\n"
     ]
    }
   ],
   "source": [
    "!python reset_redis.py all"
   ]
  },
  {
   "cell_type": "code",
   "execution_count": 8,
   "metadata": {},
   "outputs": [],
   "source": [
    "# !python reset_redis.py 'resonator_spectroscopy'\n",
    "# !python reset_redis.py 'qubit_01_spectroscopy_pulsed'\n",
    "# !python reset_redis.py 'rabi_oscillations'\n",
    "# !python reset_redis.py 'motzoi_parameter''\n",
    "# !python reset_redis.py 'n_rabi_oscillations'\n",
    "# !python reset_redis.py 'resonator_spectroscopy_1'\n",
    "# !python reset_redis.py 'qubit_12_spectroscopy_pulsed'\n",
    "# !python reset_redis.py 'rabi_oscillations_12'\n",
    "# !python reset_redis.py 'ramsey_correction_12'\n",
    "# !python reset_redis.py 'resonator_spectroscopy_2'\n",
    "# !python reset_redis.py 'cz_chevron'\n",
    "# !python reset_redis.py 'cz_calibration'"
   ]
  },
  {
   "cell_type": "code",
   "execution_count": 9,
   "metadata": {},
   "outputs": [
    {
     "name": "stdout",
     "output_type": "stream",
     "text": [
      "2023-11-15 13:56:40,353 ◆ measurement_utils.py ◆ Starting coupler spectroscopy\n",
      "2023-11-15 13:56:41,636 ◆ calibration_supervisor.py ◆ Starting System Calibration\n",
      "╔════════════════════════════════════════════════════════════════════════════════════════════════════════════════════════════════════════════════╗\n",
      "║ Qubits: 5                                                                                                                                      ║\n",
      "║↪ resonator_spectroscopy                                                                                                                        ║\n",
      "║           ↪ qubit_01_spectroscopy_pulsed                                                                                                       ║\n",
      "║                         ↪ rabi_oscillations                                                                                                    ║\n",
      "║                                 ↪ ramsey_correction                                                                                            ║\n",
      "║                                         ↪ motzoi_parameter                                                                                     ║\n",
      "║                                                 ↪ n_rabi_oscillations                                                                          ║\n",
      "║                                                          ↪ resonator_spectroscopy_1                                                            ║\n",
      "║                                                                      ↪ qubit_12_spectroscopy_pulsed                                            ║\n",
      "║                                                                                    ↪ rabi_oscillations_12                                      ║\n",
      "║                                                                                              ↪ ramsey_correction_12                            ║\n",
      "║                                                                                                        ↪ resonator_spectroscopy_2              ║\n",
      "╚════════════════════════════════════════════════════════════════════════════════════════════════════════════════════════════════════════════════╝\n",
      "2023-11-15 13:56:41,697 ◆ calibration_supervisor.py ◆ Inspecting node resonator_spectroscopy\n",
      " transmon_configuration[node] = {'all': {'init_duration': 0.0001}}\n",
      "⚑⚑⚑ \u001b[31m\u001b[1mCalibration required for Node resonator_spectroscopy\u001b[0m\n",
      "2023-11-15 13:56:41,706 ◆ calibration_supervisor.py ◆ Calibrating node resonator_spectroscopy\n",
      "clusterA_module13_att:40dB\n",
      "clusterA_module17_att:6dB\n",
      " kwargs = {'coupled_qubits': ['q21', 'q22']}\n",
      "2023-11-15 13:56:41,827 ◆ compilation_worker.py ◆ Starting Compiling\n",
      "2023-11-15 13:56:42,093 ◆ compilation_worker.py ◆ Finished Compiling\n",
      "2023-11-15 13:56:42,094 ◆ measurement_utils.py ◆ Starting measurement\n",
      " schedule_duration = 5.466222591999997\n",
      "multiplexed_resonator_spectroscopy: 100%|\u001b[34m███████\u001b[0m| 27/27 [00:05<00:00,  4.99it/s]\u001b[0m\n",
      "2023-11-15 13:56:49,898 ◆ measurement_utils.py ◆ Raw dataset acquired\n",
      "2023-11-15 13:56:49,917 ◆ execution_worker.py ◆ Finished measurement\n",
      "2023-11-15 13:56:49,917 ◆ calibration_supervisor.py ◆ measurement completed\n",
      "q11 [6934460119.601415] ['ro_freq']\n",
      "q12 [6606611561.275421] ['ro_freq']\n",
      "q13 [6688233033.461482] ['ro_freq']\n",
      "q14 [6331283085.750803] ['ro_freq']\n",
      "q15 [6933699336.994294] ['ro_freq']\n",
      "2023-11-15 13:57:21,732 ◆ calibration_supervisor.py ◆ analysis completed\n",
      "2023-11-15 13:57:21,734 ◆ calibration_supervisor.py ◆ resonator_spectroscopy node is completed\n",
      "2023-11-15 13:57:21,734 ◆ calibration_supervisor.py ◆ Inspecting node qubit_01_spectroscopy_pulsed\n",
      " transmon_configuration[node] = {'all': {'spec_pulse_duration': 5e-06, 'spec_amp': 0.004}}\n",
      "⚑⚑⚑ \u001b[31m\u001b[1mCalibration required for Node qubit_01_spectroscopy_pulsed\u001b[0m\n",
      "2023-11-15 13:57:21,746 ◆ calibration_supervisor.py ◆ Calibrating node qubit_01_spectroscopy_pulsed\n",
      "clusterA_module13_att:40dB\n",
      "clusterA_module17_att:6dB\n",
      " kwargs = {'coupled_qubits': ['q21', 'q22']}\n",
      "2023-11-15 13:57:21,884 ◆ compilation_worker.py ◆ Starting Compiling\n",
      "2023-11-15 13:57:22,816 ◆ compilation_worker.py ◆ Finished Compiling\n",
      "2023-11-15 13:57:22,817 ◆ measurement_utils.py ◆ Starting measurement\n",
      " schedule_duration = 32.16261939200007\n",
      "multiplexed_qubit_spec: 100%|\u001b[34m█████████████████\u001b[0m| 160/160 [00:32<00:00,  4.99it/s]\u001b[0m\n",
      "2023-11-15 13:57:56,890 ◆ measurement_utils.py ◆ Raw dataset acquired\n",
      "2023-11-15 13:57:56,899 ◆ execution_worker.py ◆ Finished measurement\n",
      "2023-11-15 13:57:56,899 ◆ calibration_supervisor.py ◆ measurement completed\n",
      "q11 [3714911395.272988] ['freq_01']\n",
      "q12 [3366676737.283394] ['freq_01']\n",
      "q13 [3584949401.0760307] ['freq_01']\n",
      "q14 [3334050785.172637] ['freq_01']\n",
      "q15 [3872648429.703217] ['freq_01']\n",
      "2023-11-15 13:58:28,521 ◆ calibration_supervisor.py ◆ analysis completed\n",
      "2023-11-15 13:58:28,523 ◆ calibration_supervisor.py ◆ qubit_01_spectroscopy_pulsed node is completed\n",
      "2023-11-15 13:58:28,523 ◆ calibration_supervisor.py ◆ Inspecting node rabi_oscillations\n",
      "⚑⚑⚑ \u001b[31m\u001b[1mCalibration required for Node rabi_oscillations\u001b[0m\n",
      "2023-11-15 13:58:28,534 ◆ calibration_supervisor.py ◆ Calibrating node rabi_oscillations\n",
      "clusterA_module13_att:40dB\n",
      "clusterA_module17_att:6dB\n",
      " kwargs = {'coupled_qubits': ['q21', 'q22']}\n",
      "2023-11-15 13:58:28,634 ◆ compilation_worker.py ◆ Starting Compiling\n",
      "2023-11-15 13:58:28,881 ◆ compilation_worker.py ◆ Finished Compiling\n",
      "2023-11-15 13:58:28,882 ◆ measurement_utils.py ◆ Starting measurement\n",
      " schedule_duration = 16.132116479999986\n",
      "multiplexed_rabi_01: 100%|\u001b[34m██████████████████████\u001b[0m| 80/80 [00:16<00:00,  4.99it/s]\u001b[0m\n",
      "2023-11-15 13:58:46,250 ◆ measurement_utils.py ◆ Raw dataset acquired\n",
      "2023-11-15 13:58:46,260 ◆ execution_worker.py ◆ Finished measurement\n",
      "2023-11-15 13:58:46,261 ◆ calibration_supervisor.py ◆ measurement completed\n",
      "q11 [0.217049909661792] ['mw_amp180']\n",
      "q12 [0.15494739660076834] ['mw_amp180']\n",
      "q13 [0.15532348863335046] ['mw_amp180']\n",
      "q14 [0.15402685962589943] ['mw_amp180']\n",
      "q15 [0.20400093179603326] ['mw_amp180']\n",
      "2023-11-15 13:59:17,805 ◆ calibration_supervisor.py ◆ analysis completed\n",
      "2023-11-15 13:59:17,806 ◆ calibration_supervisor.py ◆ rabi_oscillations node is completed\n",
      "2023-11-15 13:59:17,806 ◆ calibration_supervisor.py ◆ Inspecting node ramsey_correction\n",
      " transmon_configuration[node] = {'all': {'artificial_detuning': 3000000.0}}\n",
      "⚑⚑⚑ \u001b[31m\u001b[1mCalibration required for Node ramsey_correction\u001b[0m\n",
      "2023-11-15 13:59:17,817 ◆ calibration_supervisor.py ◆ Calibrating node ramsey_correction\n",
      "clusterA_module13_att:40dB\n",
      "clusterA_module17_att:6dB\n",
      " kwargs = {'coupled_qubits': ['q21', 'q22']}\n",
      "Traceback (most recent call last):\n",
      "  File \"/home/loke-c/tergite-autocalibration-lite/workers/calibration_supervisor.py\", line 231, in <module>\n",
      "    calibrate_system()\n",
      "  File \"/home/loke-c/tergite-autocalibration-lite/workers/calibration_supervisor.py\", line 134, in calibrate_system\n",
      "    inspect_node(node)\n",
      "  File \"/home/loke-c/tergite-autocalibration-lite/workers/calibration_supervisor.py\", line 189, in inspect_node\n",
      "    calibrate_node(node)\n",
      "  File \"/home/loke-c/tergite-autocalibration-lite/workers/calibration_supervisor.py\", line 210, in calibrate_node\n",
      "    compiled_schedule = precompile(node)\n",
      "  File \"/home/loke-c/tergite-autocalibration-lite/workers/compilation_worker.py\", line 174, in precompile\n",
      "    schedule = schedule_function(**static_parameters, **samplespace)\n",
      "TypeError: schedule_function() got an unexpected keyword argument 'ramsey_correction'\n",
      "\u001b[0m"
     ]
    }
   ],
   "source": [
    "!python workers/calibration_supervisor.py"
   ]
  },
  {
   "cell_type": "code",
   "execution_count": null,
   "metadata": {},
   "outputs": [],
   "source": [
    "from utilities.QPU_connections_visualization import edge_group\n",
    "import numpy as np"
   ]
  },
  {
   "cell_type": "code",
   "execution_count": null,
   "metadata": {},
   "outputs": [
    {
     "ename": "NameError",
     "evalue": "name 'np' is not defined",
     "output_type": "error",
     "traceback": [
      "\u001b[0;31m---------------------------------------------------------------------------\u001b[0m",
      "\u001b[0;31mNameError\u001b[0m                                 Traceback (most recent call last)",
      "\u001b[1;32m/home/loke-c/tergite-autocalibration-lite/calib_test_new.ipynb Cell 5\u001b[0m line \u001b[0;36m7\n\u001b[1;32m      <a href='vscode-notebook-cell://wsl%2Bubuntu/home/loke-c/tergite-autocalibration-lite/calib_test_new.ipynb#W4sdnNjb2RlLXJlbW90ZQ%3D%3D?line=4'>5</a>\u001b[0m     \u001b[39mfor\u001b[39;00m j \u001b[39min\u001b[39;00m \u001b[39mrange\u001b[39m(i\u001b[39m+\u001b[39m\u001b[39m1\u001b[39m, \u001b[39mlen\u001b[39m(qubits)):\n\u001b[1;32m      <a href='vscode-notebook-cell://wsl%2Bubuntu/home/loke-c/tergite-autocalibration-lite/calib_test_new.ipynb#W4sdnNjb2RlLXJlbW90ZQ%3D%3D?line=5'>6</a>\u001b[0m         edges\u001b[39m.\u001b[39mappend((qubits[i]\u001b[39m+\u001b[39m\u001b[39m'\u001b[39m\u001b[39m_\u001b[39m\u001b[39m'\u001b[39m\u001b[39m+\u001b[39mqubits[j]))\n\u001b[0;32m----> <a href='vscode-notebook-cell://wsl%2Bubuntu/home/loke-c/tergite-autocalibration-lite/calib_test_new.ipynb#W4sdnNjb2RlLXJlbW90ZQ%3D%3D?line=6'>7</a>\u001b[0m edges \u001b[39m=\u001b[39m np\u001b[39m.\u001b[39marray(edges)\n\u001b[1;32m      <a href='vscode-notebook-cell://wsl%2Bubuntu/home/loke-c/tergite-autocalibration-lite/calib_test_new.ipynb#W4sdnNjb2RlLXJlbW90ZQ%3D%3D?line=7'>8</a>\u001b[0m edges_check \u001b[39m=\u001b[39m np\u001b[39m.\u001b[39marray([edge \u001b[39min\u001b[39;00m edge_group\u001b[39m.\u001b[39mkeys() \u001b[39mfor\u001b[39;00m edge \u001b[39min\u001b[39;00m edges])\n\u001b[1;32m      <a href='vscode-notebook-cell://wsl%2Bubuntu/home/loke-c/tergite-autocalibration-lite/calib_test_new.ipynb#W4sdnNjb2RlLXJlbW90ZQ%3D%3D?line=8'>9</a>\u001b[0m edges \u001b[39m=\u001b[39m edges[edges_check]\n",
      "\u001b[0;31mNameError\u001b[0m: name 'np' is not defined"
     ]
    }
   ],
   "source": [
    "qubits = ['q11', 'q12', 'q13', 'q14', 'q15', 'q16', 'q17', 'q18']\n",
    "# all combinations of qubits\n",
    "edges = []\n",
    "for i in range(len(qubits)):\n",
    "    for j in range(i+1, len(qubits)):\n",
    "        edges.append((qubits[i]+'_'+qubits[j]))\n",
    "edges = np.array(edges)\n",
    "edges_check = np.array([edge in edge_group.keys() for edge in edges])\n",
    "edges = edges[edges_check]\n",
    "edges"
   ]
  },
  {
   "cell_type": "code",
   "execution_count": null,
   "metadata": {},
   "outputs": [],
   "source": [
    "# testing_group = 1\n",
    "# group_check = np.array([edge_group[edge] == testing_group for edge in edges])\n",
    "# edges = edges[group_check]\n",
    "# groups = {key : edge_group.get(key) for key in edges}"
   ]
  },
  {
   "cell_type": "code",
   "execution_count": null,
   "metadata": {},
   "outputs": [],
   "source": [
    "testing_group = 1\n",
    "couplers_list,bus_list = [],[]\n",
    "for coupler in edges:\n",
    "    control,target = coupler.split('_')[0], coupler.split('_')[1]\n",
    "    if testing_group != 0:\n",
    "        check = edge_group[coupler] == testing_group\n",
    "    else:\n",
    "        check = True\n",
    "    if control in qubits and target in qubits and check:\n",
    "        bus_list.append([control,target])\n",
    "        couplers_list.append(coupler)\n"
   ]
  },
  {
   "cell_type": "code",
   "execution_count": null,
   "metadata": {},
   "outputs": [],
   "source": [
    "control_list,target_list = np.transpose(bus_list)"
   ]
  },
  {
   "cell_type": "code",
   "execution_count": null,
   "metadata": {},
   "outputs": [],
   "source": [
    "import lmfit\n",
    "from quantify_core.analysis.fitting_models import fft_freq_phase_guess\n",
    "\n",
    "# Cosine function that is fit to Rabi oscillations\n",
    "def cos_func(\n",
    "    drive_amp: float,\n",
    "    frequency: float,\n",
    "    amplitude: float,\n",
    "    offset: float,\n",
    "    phase: float = 0,\n",
    ") -> float:\n",
    "    return amplitude * np.cos(2 * np.pi * frequency * (drive_amp + phase)) + offset\n",
    "\n",
    "class ChevronModel(lmfit.model.Model):\n",
    "    \"\"\"\n",
    "    Generate a cosine model that can be fit to Rabi oscillation data.\n",
    "    \"\"\"\n",
    "    def __init__(self, *args, **kwargs):\n",
    "        # Pass in the defining equation so the user doesn't have to later.\n",
    "        super().__init__(cos_func, *args, **kwargs)\n",
    "\n",
    "        # Enforce oscillation frequency is positive\n",
    "        self.set_param_hint(\"frequency\", min=0)\n",
    "\n",
    "        # Fix the phase at pi so that the ouput is at a minimum when drive_amp=0\n",
    "        self.set_param_hint(\"phase\", min = -0.5, max = 0.5)\n",
    "\n",
    "        # Pi-pulse amplitude can be derived from the oscillation frequency\n",
    "        self.set_param_hint(\"swap\", expr=\"1/(2*frequency)-phase\", vary=False)\n",
    "        self.set_param_hint(\"cz\", expr=\"2/(2*frequency)-phase\", vary=False)\n",
    "\n",
    "\n",
    "    def guess(self, data, **kws) -> lmfit.parameter.Parameters:\n",
    "        drive_amp = kws.get(\"drive_amp\", None)\n",
    "        if drive_amp is None:\n",
    "            return None\n",
    "\n",
    "        amp_guess = abs(max(data) - min(data)) / 2  # amp is positive by convention\n",
    "        offs_guess = np.mean(data)\n",
    "\n",
    "        # Frequency guess is obtained using a fast fourier transform (FFT).\n",
    "        (freq_guess, _) = fft_freq_phase_guess(data, drive_amp)\n",
    "\n",
    "        self.set_param_hint(\"frequency\", value=freq_guess, min=0)\n",
    "        self.set_param_hint(\"amplitude\", value=amp_guess, min=0)\n",
    "        self.set_param_hint(\"offset\", value=offs_guess)\n",
    "\n",
    "        params = self.make_params()\n",
    "        return lmfit.models.update_param_vals(params, self.prefix, **kws)"
   ]
  },
  {
   "cell_type": "code",
   "execution_count": null,
   "metadata": {},
   "outputs": [],
   "source": [
    "import numpy as np\n",
    "import matplotlib.pyplot as plt\n",
    "from xarray import load_dataset\n",
    "from workers.post_processing_worker import Multiplexed_Analysis\n",
    "# dp = r\"data_directory/20231106/20231106-155442-755-1ff0de-cz_chevron/dataset.hdf5\"\n",
    "dp = r'data_directory/20231108/20231108-165449-319-ec0bc2-cz_chevron/dataset.hdf5'\n",
    "ds = load_dataset(dp)"
   ]
  },
  {
   "cell_type": "code",
   "execution_count": null,
   "metadata": {},
   "outputs": [],
   "source": [
    "qubit = 'q22'\n",
    "freq = ds[f'cz_pulse_frequencies_sweep{qubit}'].values/1e6\n",
    "amp = ds[f'cz_pulse_amplitudes{qubit}'].values\n",
    "magnitudes = np.array([[np.linalg.norm(u) for u in v] for v in ds[f'y{qubit}']])\n",
    "magnitudes = (magnitudes - np.min(magnitudes))/(np.max(magnitudes)-np.min(magnitudes))"
   ]
  },
  {
   "cell_type": "code",
   "execution_count": null,
   "metadata": {},
   "outputs": [
    {
     "data": {
      "text/plain": [
       "(2, 230.0, 0.04504371456600402, 0.029663359163240737)"
      ]
     },
     "execution_count": 8,
     "metadata": {},
     "output_type": "execute_result"
    }
   ],
   "source": [
    "fit_results = []\n",
    "for magnitude in magnitudes:\n",
    "    model = ChevronModel()\n",
    "    # magnitude = np.transpose(values)[15]\n",
    "    fit_amplitudes = np.linspace( amp[0], amp[-1], 400)\n",
    "    guess = model.guess(magnitude, drive_amp=amp)\n",
    "    fit_result = model.fit(magnitude, params=guess, drive_amp=amp)\n",
    "    fit_y = model.eval(fit_result.params, **{model.independent_vars[0]: fit_amplitudes})\n",
    "    fit_results.append(fit_result)\n",
    "    # plt.plot(y,magnitude,'.r')\n",
    "    # plt.plot(fit_amplitudes,fit_y,'--b')\n",
    "qois = np.transpose([[fit.result.params[p].value for p in ['amplitude','frequency']] for fit in fit_results])\n",
    "qois = np.transpose([(q-np.min(q))/np.max(q) for q in qois])\n",
    "opt_id = np.argmax(np.sum(qois,axis=1))\n",
    "opt_freq = freq[opt_id]\n",
    "opt_cz = fit_results[opt_id].result.params['cz'].value\n",
    "opt_swap = fit_results[opt_id].result.params['swap'].value\n",
    "opt_id,opt_freq,opt_cz,opt_swap"
   ]
  },
  {
   "cell_type": "code",
   "execution_count": null,
   "metadata": {},
   "outputs": [
    {
     "data": {
      "image/png": "[encoded data removed]",
      "text/plain": [
       "<Figure size 640x480 with 2 Axes>"
      ]
     },
     "metadata": {},
     "output_type": "display_data"
    }
   ],
   "source": [
    "import seaborn as sns\n",
    "sns.set_theme(style=\"white\")\n",
    "%matplotlib inline\n",
    "# plt.figure(figsize=(10,6))\n",
    "fig = plt.pcolormesh(amp,freq,magnitudes,shading='nearest',cmap='RdBu_r')\n",
    "plt.scatter(opt_cz,opt_freq,c='r',label = 'CZ Amplitude= {:.2f} V'.format(opt_cz),marker='X',s=200,edgecolors='k', linewidth=1.5,zorder=10)\n",
    "plt.scatter(opt_swap,opt_freq,c='b',label = 'SWAP Amplitude= {:.2f} V'.format(opt_swap),marker='X',s=200,edgecolors='k', linewidth=1.5,zorder=10)\n",
    "plt.hlines(opt_freq,amp[0],amp[-1],label = 'Frequency = {:.2f} MHz'.format(opt_freq),colors='k',linestyles='--',linewidth=1.5)\n",
    "plt.legend(loc = 'lower center', bbox_to_anchor=(-0.15, -0.45, 1.4, .102), mode='expand', ncol=2,\n",
    "            title = 'Optimal Gate Parameters', columnspacing=200,borderpad=1)\n",
    "# plt.legend(loc = 'lower center', bbox_to_anchor=(-0.037, -0.3, 1.2, .102), mode='expand', ncol=3,\n",
    "#                     title = 'Optimal Gate Parameters', columnspacing=100,borderpad=1)\n",
    "cbar = plt.colorbar(fig)\n",
    "cbar.set_label('Qubit Population', labelpad=10)\n",
    "plt.ylim([freq[0],freq[-1]])\n",
    "plt.xlim([amp[0],amp[-1]])\n",
    "plt.xlabel('Amplitude (V)')\n",
    "plt.ylabel('Frequency (MHz)')\n",
    "plt.title(f'CZ Chevron {qubit}')\n",
    "plt.show()"
   ]
  },
  {
   "cell_type": "code",
   "execution_count": null,
   "metadata": {},
   "outputs": [
    {
     "data": {
      "text/plain": [
       "[<matplotlib.lines.Line2D at 0x7ff5057865e0>]"
      ]
     },
     "execution_count": 160,
     "metadata": {},
     "output_type": "execute_result"
    },
    {
     "data": {
      "image/png": "[encoded data removed]",
      "text/plain": [
       "<Figure size 640x480 with 1 Axes>"
      ]
     },
     "metadata": {},
     "output_type": "display_data"
    }
   ],
   "source": [
    "model = ChevronModel()\n",
    "magnitude = np.transpose(values)[11]\n",
    "fit_amplitudes = np.linspace( y[0], y[-1], 400)\n",
    "guess = model.guess(magnitude, drive_amp=y)\n",
    "fit_result = model.fit(magnitude, params=guess, drive_amp=y)\n",
    "fit_y = model.eval(fit_result.params, **{model.independent_vars[0]: fit_amplitudes})\n",
    "# fit_results.append(fit_result)\n",
    "plt.plot(y,magnitude,'.r')\n",
    "plt.plot(fit_amplitudes,fit_y,'--b')"
   ]
  },
  {
   "cell_type": "code",
   "execution_count": null,
   "metadata": {},
   "outputs": [
    {
     "data": {
      "text/html": [
       "<h2>Fit Result</h2> <p>Model: Model(cos_func)</p> <table class=\"jp-toc-ignore\"><caption class=\"jp-toc-ignore\">Fit Statistics</caption><tr><td style='text-align:left'>fitting method</td><td style='text-align:right'>leastsq</td></tr><tr><td style='text-align:left'># function evals</td><td style='text-align:right'>42</td></tr><tr><td style='text-align:left'># data points</td><td style='text-align:right'>41</td></tr><tr><td style='text-align:left'># variables</td><td style='text-align:right'>4</td></tr><tr><td style='text-align:left'>chi-square</td><td style='text-align:right'> 1.0843e-05</td></tr><tr><td style='text-align:left'>reduced chi-square</td><td style='text-align:right'> 2.9305e-07</td></tr><tr><td style='text-align:left'>Akaike info crit.</td><td style='text-align:right'>-612.968664</td></tr><tr><td style='text-align:left'>Bayesian info crit.</td><td style='text-align:right'>-606.114376</td></tr><tr><td style='text-align:left'>R-squared</td><td style='text-align:right'> 0.91644067</td></tr></table><table class=\"jp-toc-ignore\"><caption>Parameters</caption><tr><th style='text-align:left'>name</th><th style='text-align:left'>value</th><th style='text-align:left'>standard error</th><th style='text-align:left'>relative error</th><th style='text-align:left'>initial value</th><th style='text-align:left'>min</th><th style='text-align:left'>max</th><th style='text-align:left'>vary</th><th style='text-align:right'>expression</th></tr><tr><td style='text-align:left'>frequency</td><td style='text-align:left'> 2.74351072</td><td style='text-align:left'> 0.03111018</td><td style='text-align:left'>(1.13%)</td><td style='text-align:left'>2.4390243902439024</td><td style='text-align:left'> 0.00000000</td><td style='text-align:left'>        inf</td><td style='text-align:left'>True</td><td style='text-align:right'></td></tr><tr><td style='text-align:left'>amplitude</td><td style='text-align:left'> 0.00246186</td><td style='text-align:left'> 1.2238e-04</td><td style='text-align:left'>(4.97%)</td><td style='text-align:left'>0.0026119101048301518</td><td style='text-align:left'> 0.00000000</td><td style='text-align:left'>        inf</td><td style='text-align:left'>True</td><td style='text-align:right'></td></tr><tr><td style='text-align:left'>offset</td><td style='text-align:left'> 0.01539369</td><td style='text-align:left'> 8.5772e-05</td><td style='text-align:left'>(0.56%)</td><td style='text-align:left'>0.015513819850313667</td><td style='text-align:left'>       -inf</td><td style='text-align:left'>        inf</td><td style='text-align:left'>True</td><td style='text-align:right'></td></tr><tr><td style='text-align:left'>phase</td><td style='text-align:left'> 0.02619319</td><td style='text-align:left'> 0.00562514</td><td style='text-align:left'>(21.48%)</td><td style='text-align:left'>0</td><td style='text-align:left'>-0.50000000</td><td style='text-align:left'> 0.50000000</td><td style='text-align:left'>True</td><td style='text-align:right'></td></tr><tr><td style='text-align:left'>swap</td><td style='text-align:left'> 0.15605505</td><td style='text-align:left'> 0.00396538</td><td style='text-align:left'>(2.54%)</td><td style='text-align:left'>0.20500000000000002</td><td style='text-align:left'>       -inf</td><td style='text-align:left'>        inf</td><td style='text-align:left'>False</td><td style='text-align:right'>1/(2*frequency)-phase</td></tr><tr><td style='text-align:left'>cz</td><td style='text-align:left'> 0.33830329</td><td style='text-align:left'> 0.00288930</td><td style='text-align:left'>(0.85%)</td><td style='text-align:left'>0.41000000000000003</td><td style='text-align:left'>       -inf</td><td style='text-align:left'>        inf</td><td style='text-align:left'>False</td><td style='text-align:right'>2/(2*frequency)-phase</td></tr></table><table class=\"jp-toc-ignore\"><caption>Correlations (unreported values are < 0.100)</caption><tr><th style='text-align:left'>Parameter1</th><th style='text-align:left'>Parameter 2</th><th style='text-align:right'>Correlation</th></tr><tr><td style='text-align:left'>frequency</td><td style='text-align:left'>phase</td><td style='text-align:right'>-0.8683</td></tr><tr><td style='text-align:left'>offset</td><td style='text-align:left'>phase</td><td style='text-align:right'>+0.1443</td></tr></table>"
      ],
      "text/plain": [
       "<lmfit.model.ModelResult at 0x7ff5057fd1f0>"
      ]
     },
     "execution_count": 161,
     "metadata": {},
     "output_type": "execute_result"
    }
   ],
   "source": [
    "fit_result"
   ]
  },
  {
   "cell_type": "code",
   "execution_count": null,
   "metadata": {},
   "outputs": [
    {
     "name": "stdout",
     "output_type": "stream",
     "text": [
      "Coupler parameters q11_q12:\n",
      "ro_acq_delay: 2e-07\n",
      "ro_freq: nan\n",
      "ro_freq_1: nan\n",
      "ro_freq_2: nan\n",
      "ro_freq_opt: nan\n",
      "ro_ampl_opt: nan\n",
      "ro_pulse_amp_opt: nan\n",
      "freq_01: nan\n",
      "freq_12: nan\n",
      "anharmonicity: nan\n",
      "mw_amp180: nan\n",
      "mw_motzoi: nan\n",
      "mw_ef_amp180: nan\n",
      "fidelity: nan\n",
      "discriminator: nan\n",
      "t1_time: nan\n",
      "selectivity: nan\n",
      "ro_ampl: nan\n",
      "cz_pulse_frequency: nan\n",
      "cz_pulse_amplitude: nan\n",
      "cz_pulse_duration: nan\n",
      "cz_pulse_width: nan\n",
      "dc_flux: nan\n",
      "dc_flux_offset: nan\n",
      "dc_flux_0: nan\n",
      "ro_pulse_delay: 4e-09\n",
      "ro_pulse_duration: 3e-06\n",
      "ro_acq_integration_time: 2.5e-06\n",
      "mw_pulse_duration: 2e-08\n",
      "init_duration: 0.0003\n",
      "min_calibration_point: 0\n",
      "max_calibration_point: 0\n",
      "spec_pulse_duration: 5e-06\n",
      "spec_amp: 0.0003\n",
      "att: 0\n",
      "artificial_detuning: 3000000.0\n"
     ]
    }
   ],
   "source": [
    "import redis\n",
    "redis_connection = redis.Redis(decode_responses=True)\n",
    "couplers = ['q11_q12']\n",
    "for coupler in couplers: \n",
    "    print(f\"Coupler parameters {coupler}:\")\n",
    "    redis_config = redis_connection.hgetall(f\"couplers:{coupler}\")\n",
    "    # Print the redis config line by line\n",
    "    for key, value in redis_config.items():\n",
    "        print(f\"{key}: {value}\")"
   ]
  },
  {
   "cell_type": "code",
   "execution_count": null,
   "metadata": {},
   "outputs": [
    {
     "name": "stdout",
     "output_type": "stream",
     "text": [
      "Qubit parameters q11:\n",
      "ro_acq_delay: 2e-07\n",
      "ro_freq: 6934489792.840477\n",
      "ro_freq_1: 6934335589.10094\n",
      "ro_freq_2: 6934149227.425686\n",
      "ro_freq_opt: nan\n",
      "ro_ampl_opt: nan\n",
      "ro_pulse_amp_opt: nan\n",
      "freq_01: 3714909311.9558687\n",
      "freq_12: 3480498083.2063527\n",
      "anharmonicity: nan\n",
      "mw_amp180: 0.21904175817715849\n",
      "mw_motzoi: -0.23333333333333334\n",
      "mw_ef_amp180: 0.12059955295547596\n",
      "fidelity: nan\n",
      "discriminator: nan\n",
      "t1_time: nan\n",
      "selectivity: nan\n",
      "ro_ampl: nan\n",
      "ro_pulse_delay: 4e-09\n",
      "ro_pulse_duration: 3e-06\n",
      "ro_acq_integration_time: 2.5e-06\n",
      "mw_pulse_duration: 2e-08\n",
      "init_duration: 0.0003\n",
      "min_calibration_point: 0\n",
      "max_calibration_point: 0\n",
      "spec_pulse_duration: 5e-06\n",
      "spec_amp: 0.0003\n",
      "att: 0\n",
      "ro_pulse_amp: 0.02\n",
      "artificial_detuning: 3000000.0\n",
      "cz_pulse_frequency: nan\n",
      "cz_pulse_amplitude: nan\n",
      "cz_pulse_duration: nan\n",
      "cz_pulse_width: nan\n",
      "dc_flux: nan\n",
      "dc_flux_0: nan\n",
      "dc_flux_offset: nan\n",
      "Qubit parameters q12:\n",
      "ro_acq_delay: 2e-07\n",
      "ro_freq: 6606599823.915397\n",
      "ro_freq_1: 6606218132.222552\n",
      "ro_freq_2: 6606624756.803857\n",
      "ro_freq_opt: nan\n",
      "ro_ampl_opt: nan\n",
      "ro_pulse_amp_opt: nan\n",
      "freq_01: 3366846777.1988955\n",
      "freq_12: 3366863016.292248\n",
      "anharmonicity: nan\n",
      "mw_amp180: 0.15322856409716915\n",
      "mw_motzoi: -0.23333333333333334\n",
      "mw_ef_amp180: 0.15142191084919202\n",
      "fidelity: nan\n",
      "discriminator: nan\n",
      "t1_time: nan\n",
      "selectivity: nan\n",
      "ro_ampl: nan\n",
      "ro_pulse_delay: 4e-09\n",
      "ro_pulse_duration: 3e-06\n",
      "ro_acq_integration_time: 2.5e-06\n",
      "mw_pulse_duration: 2e-08\n",
      "init_duration: 0.0003\n",
      "min_calibration_point: 0\n",
      "max_calibration_point: 0\n",
      "spec_pulse_duration: 5e-06\n",
      "spec_amp: 0.0003\n",
      "att: 0\n",
      "ro_pulse_amp: 0.02\n",
      "artificial_detuning: 3000000.0\n",
      "cz_pulse_frequency: nan\n",
      "cz_pulse_amplitude: nan\n",
      "cz_pulse_duration: nan\n",
      "cz_pulse_width: nan\n",
      "dc_flux: nan\n",
      "dc_flux_0: nan\n",
      "dc_flux_offset: nan\n",
      "Qubit parameters q13:\n",
      "ro_acq_delay: 2e-07\n",
      "ro_freq: 6688140238.477705\n",
      "ro_freq_1: 6688027960.445694\n",
      "ro_freq_2: 6687841809.896754\n",
      "ro_freq_opt: nan\n",
      "ro_ampl_opt: nan\n",
      "ro_pulse_amp_opt: nan\n",
      "freq_01: 3584905871.56629\n",
      "freq_12: 3343410895.406287\n",
      "anharmonicity: nan\n",
      "mw_amp180: 0.15425681212720446\n",
      "mw_motzoi: -0.08333333333333331\n",
      "mw_ef_amp180: 0.16925744280631783\n",
      "fidelity: nan\n",
      "discriminator: nan\n",
      "t1_time: nan\n",
      "selectivity: nan\n",
      "ro_ampl: nan\n",
      "ro_pulse_delay: 4e-09\n",
      "ro_pulse_duration: 3e-06\n",
      "ro_acq_integration_time: 2.5e-06\n",
      "mw_pulse_duration: 2e-08\n",
      "init_duration: 0.0003\n",
      "min_calibration_point: 0\n",
      "max_calibration_point: 0\n",
      "spec_pulse_duration: 5e-06\n",
      "spec_amp: 0.0003\n",
      "att: 0\n",
      "ro_pulse_amp: 0.02\n",
      "artificial_detuning: 3000000.0\n",
      "cz_pulse_frequency: nan\n",
      "cz_pulse_amplitude: nan\n",
      "cz_pulse_duration: nan\n",
      "cz_pulse_width: nan\n",
      "dc_flux: nan\n",
      "dc_flux_0: nan\n",
      "dc_flux_offset: nan\n",
      "Qubit parameters q14:\n",
      "ro_acq_delay: 2e-07\n",
      "ro_freq: 6331303319.389108\n",
      "ro_freq_1: 6331075761.7692585\n",
      "ro_freq_2: 6330924175.900527\n",
      "ro_freq_opt: nan\n",
      "ro_ampl_opt: nan\n",
      "ro_pulse_amp_opt: nan\n",
      "freq_01: 3334079537.5456276\n",
      "freq_12: 3133166997.936529\n",
      "anharmonicity: nan\n",
      "mw_amp180: 0.15297796548083556\n",
      "mw_motzoi: -0.15000000000000002\n",
      "mw_ef_amp180: 0.16991276643651584\n",
      "fidelity: nan\n",
      "discriminator: nan\n",
      "t1_time: nan\n",
      "selectivity: nan\n",
      "ro_ampl: nan\n",
      "ro_pulse_delay: 4e-09\n",
      "ro_pulse_duration: 3e-06\n",
      "ro_acq_integration_time: 2.5e-06\n",
      "mw_pulse_duration: 2e-08\n",
      "init_duration: 0.0003\n",
      "min_calibration_point: 0\n",
      "max_calibration_point: 0\n",
      "spec_pulse_duration: 5e-06\n",
      "spec_amp: 0.0003\n",
      "att: 0\n",
      "ro_pulse_amp: 0.02\n",
      "artificial_detuning: 3000000.0\n",
      "cz_pulse_frequency: nan\n",
      "cz_pulse_amplitude: nan\n",
      "cz_pulse_duration: nan\n",
      "cz_pulse_width: nan\n",
      "dc_flux: nan\n",
      "dc_flux_0: nan\n",
      "dc_flux_offset: nan\n",
      "Qubit parameters q15:\n",
      "ro_acq_delay: 2e-07\n",
      "ro_freq: 6933742655.372197\n",
      "ro_freq_1: 6933484737.034125\n",
      "ro_freq_2: 6933324979.418474\n",
      "ro_freq_opt: nan\n",
      "ro_ampl_opt: nan\n",
      "ro_pulse_amp_opt: nan\n",
      "freq_01: 3872776977.8303227\n",
      "freq_12: 3631713569.8124237\n",
      "anharmonicity: nan\n",
      "mw_amp180: 0.2023318820071396\n",
      "mw_motzoi: -0.3666666666666667\n",
      "mw_ef_amp180: 0.1897581373953161\n",
      "fidelity: nan\n",
      "discriminator: nan\n",
      "t1_time: nan\n",
      "selectivity: nan\n",
      "ro_ampl: nan\n",
      "ro_pulse_delay: 4e-09\n",
      "ro_pulse_duration: 3e-06\n",
      "ro_acq_integration_time: 2.5e-06\n",
      "mw_pulse_duration: 2e-08\n",
      "init_duration: 0.0003\n",
      "min_calibration_point: 0\n",
      "max_calibration_point: 0\n",
      "spec_pulse_duration: 5e-06\n",
      "spec_amp: 0.0003\n",
      "att: 0\n",
      "ro_pulse_amp: 0.01\n",
      "artificial_detuning: 3000000.0\n",
      "cz_pulse_frequency: nan\n",
      "cz_pulse_amplitude: nan\n",
      "cz_pulse_duration: nan\n",
      "cz_pulse_width: nan\n",
      "dc_flux: nan\n",
      "dc_flux_0: nan\n",
      "dc_flux_offset: nan\n"
     ]
    }
   ],
   "source": [
    "import redis\n",
    "redis_connection = redis.Redis(decode_responses=True)\n",
    "qubits = [ 'q11','q12','q13','q14','q15']\n",
    "# qubits = [ 'q15']\n",
    "qubit_freq_01_list,qubit_freq_ro_list = {},{}\n",
    "for qubit in qubits: \n",
    "    print(f\"Qubit parameters {qubit}:\")\n",
    "    redis_config = redis_connection.hgetall(f\"transmons:{qubit}\")\n",
    "    # Print the redis config line by line\n",
    "    for key, value in redis_config.items():\n",
    "        print(f\"{key}: {value}\")\n",
    "    # print(f\"mw_amp180: {redis_config['mw_amp180']}\")"
   ]
  },
  {
   "cell_type": "code",
   "execution_count": null,
   "metadata": {},
   "outputs": [
    {
     "name": "stdout",
     "output_type": "stream",
     "text": [
      "Qubit parameters q11:\n",
      "3714853914.3602576\n",
      "3448909227.620381\n",
      "Qubit parameters q12:\n",
      "3366602683.94394\n",
      "3366889792.3964834\n"
     ]
    }
   ],
   "source": [
    "import redis\n",
    "redis_connection = redis.Redis(decode_responses=True)\n",
    "qubits = [ 'q11','q12']\n",
    "f01,f12 = [],[]\n",
    "for qubit in qubits: \n",
    "    print(f\"Qubit parameters {qubit}:\")\n",
    "    redis_config = redis_connection.hgetall(f\"transmons:{qubit}\")\n",
    "    # Print the redis config line by line\n",
    "    # for key, value in redis_config.items():\n",
    "    #     print(f\"{key}: {value}\")\n",
    "    print(redis_config['freq_01'])\n",
    "    print(redis_config['freq_12'])\n",
    "    f01.append(redis_config['freq_01'])\n",
    "    f12.append(redis_config['freq_12'])\n",
    "f01,f12 = np.array(f01).astype(float),np.array(f12).astype(float)"
   ]
  },
  {
   "cell_type": "code",
   "execution_count": null,
   "metadata": {},
   "outputs": [
    {
     "name": "stdout",
     "output_type": "stream",
     "text": [
      "Qubit parameters q11:\n",
      "6934516975.164495\n",
      "3714911395.272988\n",
      "3480219551.7001905\n",
      "Qubit parameters q12:\n",
      "6606536408.043257\n",
      "3366876737.283394\n",
      "3173925442.741397\n",
      "Qubit parameters q13:\n",
      "6688260738.410758\n",
      "3584949401.0760307\n",
      "3343692876.3960423\n",
      "Qubit parameters q14:\n",
      "6331293538.718747\n",
      "3334050785.172637\n",
      "3133039498.0560727\n",
      "Qubit parameters q15:\n",
      "6933733842.658668\n",
      "3872848429.703217\n",
      "3631777894.9530077\n"
     ]
    }
   ],
   "source": [
    "import redis\n",
    "redis_connection = redis.Redis(decode_responses=True)\n",
    "qubits = [ 'q11','q12','q13','q14','q15']\n",
    "qubit_freq_01_list,qubit_freq_ro_list,qubit_freq_12_list = {},{},{}\n",
    "for qubit in qubits: \n",
    "    print(f\"Qubit parameters {qubit}:\")\n",
    "    redis_config = redis_connection.hgetall(f\"transmons:{qubit}\")\n",
    "    # Print the redis config line by line\n",
    "    # for key, value in redis_config.items():\n",
    "    #     print(f\"{key}: {value}\")\n",
    "    print(redis_config['ro_freq'])\n",
    "    print(redis_config['freq_01'])\n",
    "    print(redis_config['freq_12'])\n",
    "    qubit_freq_ro_list[qubit] = redis_config['ro_freq']\n",
    "    qubit_freq_01_list[qubit] = redis_config['freq_01']\n",
    "    qubit_freq_12_list[qubit] = redis_config['freq_12']"
   ]
  },
  {
   "cell_type": "code",
   "execution_count": null,
   "metadata": {},
   "outputs": [],
   "source": [
    "from config_files.VNA_values import VNA_resonator_frequencies, VNA_f01_frequencies, VNA_f12_frequencies\n",
    "for qubit in qubits:\n",
    "    VNA_resonator_frequencies[qubit] = float(qubit_freq_ro_list[qubit])\n",
    "    VNA_f01_frequencies[qubit] = float(qubit_freq_01_list[qubit])\n",
    "    VNA_f12_frequencies[qubit] = float(qubit_freq_12_list[qubit])\n",
    "# rewrite the VNA_values.py file\n",
    "with open('config_files/VNA_values.py', 'w') as f:\n",
    "    f.write(f\"VNA_resonator_frequencies = {VNA_resonator_frequencies}\\n\")\n",
    "    f.write(f\"VNA_f01_frequencies = {VNA_f01_frequencies}\\n\")\n",
    "    f.write(f\"VNA_f12_frequencies = {VNA_f12_frequencies}\\n\")"
   ]
  },
  {
   "cell_type": "code",
   "execution_count": null,
   "metadata": {},
   "outputs": [
    {
     "data": {
      "text/plain": [
       "{'q11': 6934516975.164495,\n",
       " 'q12': 6606536408.043257,\n",
       " 'q13': 6688260738.410758,\n",
       " 'q14': 6331293538.718747,\n",
       " 'q15': 6933733842.658668,\n",
       " 'q16': 6491000000.0,\n",
       " 'q17': 7059000000.0,\n",
       " 'q18': 6712000000.0,\n",
       " 'q19': 6818000000.0,\n",
       " 'q20': 6494000000.0,\n",
       " 'q21': 6751000000.0,\n",
       " 'q22': 6477000000.0,\n",
       " 'q23': 7052000000.0,\n",
       " 'q24': 6583000000.0,\n",
       " 'q25': 6853000000.0}"
      ]
     },
     "execution_count": 167,
     "metadata": {},
     "output_type": "execute_result"
    }
   ],
   "source": [
    "VNA_resonator_frequencies"
   ]
  },
  {
   "cell_type": "code",
   "execution_count": null,
   "metadata": {},
   "outputs": [
    {
     "data": {
      "text/plain": [
       "{'q11': 3714911395.272988,\n",
       " 'q12': 3366876737.283394,\n",
       " 'q13': 3584949401.0760307,\n",
       " 'q14': 3334050785.172637,\n",
       " 'q15': 3872848429.703217,\n",
       " 'q16': 3189000000.0,\n",
       " 'q17': 3932000000.0,\n",
       " 'q18': 3254000000.0,\n",
       " 'q19': 3921000000.0,\n",
       " 'q20': 3333000000.0,\n",
       " 'q21': 3773000000.0,\n",
       " 'q22': 3326000000.0,\n",
       " 'q23': 3911000000.0,\n",
       " 'q24': 3271000000.0,\n",
       " 'q25': 4009000000.0}"
      ]
     },
     "execution_count": 168,
     "metadata": {},
     "output_type": "execute_result"
    }
   ],
   "source": [
    "VNA_f01_frequencies"
   ]
  },
  {
   "cell_type": "code",
   "execution_count": null,
   "metadata": {},
   "outputs": [
    {
     "data": {
      "text/plain": [
       "{'q11': 3480219551.7001905,\n",
       " 'q12': 3173925442.741397,\n",
       " 'q13': 3343692876.3960423,\n",
       " 'q14': 3133039498.0560727,\n",
       " 'q15': 3631777894.9530077,\n",
       " 'q16': 2993000000.0,\n",
       " 'q17': 3699000000.0,\n",
       " 'q18': 3154000000.0,\n",
       " 'q19': 3682000000.0,\n",
       " 'q20': 3233000000.0,\n",
       " 'q21': 3542000000.0,\n",
       " 'q22': 3131000000.0,\n",
       " 'q23': 3674000000.0,\n",
       " 'q24': 3171000000.0,\n",
       " 'q25': 3770000000.0}"
      ]
     },
     "execution_count": 169,
     "metadata": {},
     "output_type": "execute_result"
    }
   ],
   "source": [
    "VNA_f12_frequencies"
   ]
  },
  {
   "cell_type": "code",
   "execution_count": null,
   "metadata": {},
   "outputs": [
    {
     "data": {
      "text/plain": [
       "array([-234.69184357, -192.95129454, -241.25652468, -201.01128712,\n",
       "       -241.07053475, -196.        , -233.        , -100.        ,\n",
       "       -239.        , -100.        , -231.        , -195.        ,\n",
       "       -237.        , -100.        , -239.        ])"
      ]
     },
     "execution_count": 165,
     "metadata": {},
     "output_type": "execute_result"
    }
   ],
   "source": [
    "# dict values to array\n",
    "(np.array(list(VNA_f12_frequencies.values()))-np.array(list(VNA_f01_frequencies.values()))) / 1e6\n"
   ]
  },
  {
   "cell_type": "code",
   "execution_count": null,
   "metadata": {},
   "outputs": [],
   "source": [
    "VNA_resonator_frequencies = {'q11': 6934516975.164495, 'q12': 6606536408.043257, 'q13': 6688260738.410758, 'q14': 6331293538.718747, 'q15': 6933733842.658668, 'q16': 6491000000.0, 'q17': 7059000000.0, 'q18': 6712000000.0, 'q19': 6818000000.0, 'q20': 6494000000.0, 'q21': 6751000000.0, 'q22': 6477000000.0, 'q23': 7052000000.0, 'q24': 6583000000.0, 'q25': 6853000000.0}\n",
    "VNA_f01_frequencies = {'q11': 3714911395.272988, 'q12': 3366876737.283394, 'q13': 3584949401.0760307, 'q14': 3334050785.172637, 'q15': 3872848429.703217, 'q16': 3189000000.0, 'q17': 3932000000.0, 'q18': 3254000000.0, 'q19': 3921000000.0, 'q20': 3333000000.0, 'q21': 3773000000.0, 'q22': 3326000000.0, 'q23': 3911000000.0, 'q24': 3271000000.0, 'q25': 4009000000.0}\n",
    "VNA_f12_frequencies = {'q11': 3480219551.7001905, 'q12': 3173925442.741397, 'q13': 3343692876.3960423, 'q14': 3133039498.0560727, 'q15': 3631777894.9530077, 'q16': 2993000000.0, 'q17': 3699000000.0, 'q18': 3154000000.0, 'q19': 3682000000.0, 'q20': 3233000000.0, 'q21': 3542000000.0, 'q22': 3131000000.0, 'q23': 3674000000.0, 'q24': 3171000000.0, 'q25': 3770000000.0}\n"
   ]
  }
 ],
 "metadata": {
  "kernelspec": {
   "display_name": "tac",
   "language": "python",
   "name": "python3"
  },
  "language_info": {
   "codemirror_mode": {
    "name": "ipython",
    "version": 3
   },
   "file_extension": ".py",
   "mimetype": "text/x-python",
   "name": "python",
   "nbconvert_exporter": "python",
   "pygments_lexer": "ipython3",
   "version": "3.9.18"
  },
  "orig_nbformat": 4
 },
 "nbformat": 4,
 "nbformat_minor": 2
}
