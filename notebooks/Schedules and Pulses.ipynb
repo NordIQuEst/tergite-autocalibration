{
 "cells": [
  {
   "cell_type": "code",
   "execution_count": 6,
   "id": "437d6105",
   "metadata": {},
   "outputs": [
    {
     "data": {
      "application/vnd.plotly.v1+json": {
       "config": {
        "plotlyServerURL": "https://plot.ly"
       },
       "data": [
        {
         "fill": "tozeroy",
         "hoverinfo": "x+y+name",
         "hoverlabel": {
          "namelength": -1
         },
         "legendgroup": "0",
         "line": {
          "color": "#EF553B"
         },
         "mode": "lines",
         "name": "RampPulse, clock: q0.ro",
         "showlegend": true,
         "type": "scatter",
         "x": [
          0,
          1e-9,
          2e-9,
          3.0000000000000004e-9,
          4e-9,
          5e-9,
          6.000000000000001e-9,
          7.000000000000001e-9,
          8e-9,
          9.000000000000001e-9,
          1e-8,
          1.1000000000000001e-8,
          1.2000000000000002e-8,
          1.3e-8,
          1.4000000000000001e-8,
          1.5000000000000002e-8,
          1.6e-8,
          1.7e-8,
          1.8000000000000002e-8,
          1.9e-8
         ],
         "xaxis": "x",
         "y": [
          -0.025,
          -0.02475,
          -0.0245,
          -0.02425,
          -0.024,
          -0.02375,
          -0.0235,
          -0.02325,
          -0.023,
          -0.02275,
          -0.0225,
          -0.02225,
          -0.022,
          -0.021750000000000002,
          -0.021500000000000002,
          -0.02125,
          -0.021,
          -0.02075,
          -0.0205,
          -0.02025
         ],
         "yaxis": "y"
        },
        {
         "fill": "tozeroy",
         "hoverinfo": "x+y+name",
         "hoverlabel": {
          "namelength": -1
         },
         "legendgroup": "1",
         "line": {
          "color": "#00CC96"
         },
         "mode": "lines",
         "name": "RampPulse, clock: q0.ro",
         "showlegend": true,
         "type": "scatter",
         "x": [
          2e-8,
          2.1e-8,
          2.2e-8,
          2.2999999999999998e-8,
          2.3999999999999997e-8,
          2.4999999999999996e-8,
          2.5999999999999995e-8,
          2.6999999999999994e-8,
          2.7999999999999993e-8,
          2.8999999999999992e-8,
          2.999999999999999e-8,
          3.0999999999999986e-8,
          3.199999999999999e-8,
          3.299999999999999e-8,
          3.399999999999999e-8,
          3.499999999999998e-8,
          3.5999999999999985e-8,
          3.699999999999999e-8,
          3.799999999999998e-8,
          3.899999999999998e-8
         ],
         "xaxis": "x",
         "y": [
          -0.025,
          -0.02525,
          -0.025500000000000002,
          -0.025750000000000002,
          -0.026000000000000002,
          -0.026250000000000002,
          -0.026500000000000003,
          -0.026750000000000003,
          -0.027000000000000003,
          -0.027250000000000003,
          -0.027500000000000004,
          -0.027750000000000004,
          -0.028000000000000004,
          -0.02825,
          -0.0285,
          -0.02875,
          -0.029,
          -0.02925,
          -0.029500000000000002,
          -0.029750000000000002
         ],
         "yaxis": "y"
        },
        {
         "fill": "tozeroy",
         "hoverinfo": "x+y+name",
         "hoverlabel": {
          "namelength": -1
         },
         "legendgroup": "2",
         "line": {
          "color": "#AB63FA"
         },
         "mode": "lines",
         "name": "RampPulse, clock: q0.ro",
         "showlegend": true,
         "type": "scatter",
         "x": [
          4e-8,
          4.1e-8,
          4.2000000000000006e-8,
          4.300000000000001e-8,
          4.400000000000001e-8,
          4.500000000000001e-8,
          4.6000000000000015e-8,
          4.700000000000002e-8,
          4.800000000000002e-8,
          4.900000000000002e-8,
          5.0000000000000024e-8,
          5.1000000000000027e-8,
          5.200000000000003e-8,
          5.300000000000003e-8,
          5.4000000000000034e-8,
          5.5000000000000036e-8,
          5.600000000000004e-8,
          5.700000000000004e-8,
          5.800000000000004e-8,
          5.9000000000000045e-8,
          6.000000000000005e-8
         ],
         "xaxis": "x",
         "y": [
          -0.025,
          -0.02380952380952381,
          -0.022619047619047622,
          -0.02142857142857143,
          -0.02023809523809524,
          -0.01904761904761905,
          -0.017857142857142856,
          -0.016666666666666666,
          -0.015476190476190477,
          -0.014285714285714287,
          -0.013095238095238096,
          -0.011904761904761904,
          -0.010714285714285714,
          -0.009523809523809525,
          -0.008333333333333331,
          -0.007142857142857142,
          -0.005952380952380952,
          -0.004761904761904762,
          -0.0035714285714285726,
          -0.0023809523809523794,
          -0.0011904761904761897
         ],
         "yaxis": "y"
        },
        {
         "fill": "tozeroy",
         "hoverinfo": "x+y+name",
         "hoverlabel": {
          "namelength": -1
         },
         "legendgroup": "3",
         "line": {
          "color": "#FFA15A"
         },
         "mode": "lines",
         "name": "RampPulse, clock: q0.ro",
         "showlegend": true,
         "type": "scatter",
         "x": [
          6.000000000000001e-8,
          6.1e-8,
          6.2e-8,
          6.3e-8,
          6.399999999999999e-8,
          6.499999999999999e-8,
          6.599999999999998e-8,
          6.699999999999998e-8,
          6.799999999999997e-8,
          6.899999999999997e-8,
          6.999999999999997e-8,
          7.099999999999996e-8,
          7.199999999999996e-8,
          7.299999999999995e-8,
          7.399999999999995e-8,
          7.499999999999994e-8,
          7.599999999999994e-8,
          7.699999999999994e-8,
          7.799999999999993e-8,
          7.899999999999993e-8
         ],
         "xaxis": "x",
         "y": [
          -0.025,
          -0.025,
          -0.025,
          -0.025,
          -0.025,
          -0.025,
          -0.025,
          -0.025,
          -0.025,
          -0.025,
          -0.025,
          -0.025,
          -0.025,
          -0.025,
          -0.025,
          -0.025,
          -0.025,
          -0.025,
          -0.025,
          -0.025
         ],
         "yaxis": "y"
        },
        {
         "fill": "tozeroy",
         "hoverinfo": "x+y+name",
         "hoverlabel": {
          "namelength": -1
         },
         "legendgroup": "4",
         "line": {
          "color": "#19D3F3"
         },
         "mode": "lines",
         "name": "RampPulse, clock: q0.ro",
         "showlegend": true,
         "type": "scatter",
         "x": [
          8e-8,
          8.1e-8,
          8.199999999999999e-8,
          8.299999999999999e-8,
          8.399999999999998e-8,
          8.499999999999998e-8,
          8.599999999999998e-8,
          8.699999999999997e-8,
          8.799999999999997e-8,
          8.899999999999996e-8,
          8.999999999999996e-8,
          9.099999999999995e-8,
          9.199999999999995e-8,
          9.299999999999995e-8,
          9.399999999999994e-8,
          9.499999999999994e-8,
          9.599999999999993e-8,
          9.699999999999993e-8,
          9.799999999999992e-8,
          9.899999999999992e-8
         ],
         "xaxis": "x",
         "y": [
          0,
          -0.00125,
          -0.0025,
          -0.00375,
          -0.005,
          -0.00625,
          -0.0075,
          -0.00875,
          -0.01,
          -0.01125,
          -0.0125,
          -0.01375,
          -0.015,
          -0.01625,
          -0.0175,
          -0.01875,
          -0.02,
          -0.02125,
          -0.0225,
          -0.02375
         ],
         "yaxis": "y"
        }
       ],
       "layout": {
        "height": 300,
        "showlegend": false,
        "template": {
         "data": {
          "bar": [
           {
            "error_x": {
             "color": "#2a3f5f"
            },
            "error_y": {
             "color": "#2a3f5f"
            },
            "marker": {
             "line": {
              "color": "#E5ECF6",
              "width": 0.5
             },
             "pattern": {
              "fillmode": "overlay",
              "size": 10,
              "solidity": 0.2
             }
            },
            "type": "bar"
           }
          ],
          "barpolar": [
           {
            "marker": {
             "line": {
              "color": "#E5ECF6",
              "width": 0.5
             },
             "pattern": {
              "fillmode": "overlay",
              "size": 10,
              "solidity": 0.2
             }
            },
            "type": "barpolar"
           }
          ],
          "carpet": [
           {
            "aaxis": {
             "endlinecolor": "#2a3f5f",
             "gridcolor": "white",
             "linecolor": "white",
             "minorgridcolor": "white",
             "startlinecolor": "#2a3f5f"
            },
            "baxis": {
             "endlinecolor": "#2a3f5f",
             "gridcolor": "white",
             "linecolor": "white",
             "minorgridcolor": "white",
             "startlinecolor": "#2a3f5f"
            },
            "type": "carpet"
           }
          ],
          "choropleth": [
           {
            "colorbar": {
             "outlinewidth": 0,
             "ticks": ""
            },
            "type": "choropleth"
           }
          ],
          "contour": [
           {
            "colorbar": {
             "outlinewidth": 0,
             "ticks": ""
            },
            "colorscale": [
             [
              0,
              "#0d0887"
             ],
             [
              0.1111111111111111,
              "#46039f"
             ],
             [
              0.2222222222222222,
              "#7201a8"
             ],
             [
              0.3333333333333333,
              "#9c179e"
             ],
             [
              0.4444444444444444,
              "#bd3786"
             ],
             [
              0.5555555555555556,
              "#d8576b"
             ],
             [
              0.6666666666666666,
              "#ed7953"
             ],
             [
              0.7777777777777778,
              "#fb9f3a"
             ],
             [
              0.8888888888888888,
              "#fdca26"
             ],
             [
              1,
              "#f0f921"
             ]
            ],
            "type": "contour"
           }
          ],
          "contourcarpet": [
           {
            "colorbar": {
             "outlinewidth": 0,
             "ticks": ""
            },
            "type": "contourcarpet"
           }
          ],
          "heatmap": [
           {
            "colorbar": {
             "outlinewidth": 0,
             "ticks": ""
            },
            "colorscale": [
             [
              0,
              "#0d0887"
             ],
             [
              0.1111111111111111,
              "#46039f"
             ],
             [
              0.2222222222222222,
              "#7201a8"
             ],
             [
              0.3333333333333333,
              "#9c179e"
             ],
             [
              0.4444444444444444,
              "#bd3786"
             ],
             [
              0.5555555555555556,
              "#d8576b"
             ],
             [
              0.6666666666666666,
              "#ed7953"
             ],
             [
              0.7777777777777778,
              "#fb9f3a"
             ],
             [
              0.8888888888888888,
              "#fdca26"
             ],
             [
              1,
              "#f0f921"
             ]
            ],
            "type": "heatmap"
           }
          ],
          "heatmapgl": [
           {
            "colorbar": {
             "outlinewidth": 0,
             "ticks": ""
            },
            "colorscale": [
             [
              0,
              "#0d0887"
             ],
             [
              0.1111111111111111,
              "#46039f"
             ],
             [
              0.2222222222222222,
              "#7201a8"
             ],
             [
              0.3333333333333333,
              "#9c179e"
             ],
             [
              0.4444444444444444,
              "#bd3786"
             ],
             [
              0.5555555555555556,
              "#d8576b"
             ],
             [
              0.6666666666666666,
              "#ed7953"
             ],
             [
              0.7777777777777778,
              "#fb9f3a"
             ],
             [
              0.8888888888888888,
              "#fdca26"
             ],
             [
              1,
              "#f0f921"
             ]
            ],
            "type": "heatmapgl"
           }
          ],
          "histogram": [
           {
            "marker": {
             "pattern": {
              "fillmode": "overlay",
              "size": 10,
              "solidity": 0.2
             }
            },
            "type": "histogram"
           }
          ],
          "histogram2d": [
           {
            "colorbar": {
             "outlinewidth": 0,
             "ticks": ""
            },
            "colorscale": [
             [
              0,
              "#0d0887"
             ],
             [
              0.1111111111111111,
              "#46039f"
             ],
             [
              0.2222222222222222,
              "#7201a8"
             ],
             [
              0.3333333333333333,
              "#9c179e"
             ],
             [
              0.4444444444444444,
              "#bd3786"
             ],
             [
              0.5555555555555556,
              "#d8576b"
             ],
             [
              0.6666666666666666,
              "#ed7953"
             ],
             [
              0.7777777777777778,
              "#fb9f3a"
             ],
             [
              0.8888888888888888,
              "#fdca26"
             ],
             [
              1,
              "#f0f921"
             ]
            ],
            "type": "histogram2d"
           }
          ],
          "histogram2dcontour": [
           {
            "colorbar": {
             "outlinewidth": 0,
             "ticks": ""
            },
            "colorscale": [
             [
              0,
              "#0d0887"
             ],
             [
              0.1111111111111111,
              "#46039f"
             ],
             [
              0.2222222222222222,
              "#7201a8"
             ],
             [
              0.3333333333333333,
              "#9c179e"
             ],
             [
              0.4444444444444444,
              "#bd3786"
             ],
             [
              0.5555555555555556,
              "#d8576b"
             ],
             [
              0.6666666666666666,
              "#ed7953"
             ],
             [
              0.7777777777777778,
              "#fb9f3a"
             ],
             [
              0.8888888888888888,
              "#fdca26"
             ],
             [
              1,
              "#f0f921"
             ]
            ],
            "type": "histogram2dcontour"
           }
          ],
          "mesh3d": [
           {
            "colorbar": {
             "outlinewidth": 0,
             "ticks": ""
            },
            "type": "mesh3d"
           }
          ],
          "parcoords": [
           {
            "line": {
             "colorbar": {
              "outlinewidth": 0,
              "ticks": ""
             }
            },
            "type": "parcoords"
           }
          ],
          "pie": [
           {
            "automargin": true,
            "type": "pie"
           }
          ],
          "scatter": [
           {
            "fillpattern": {
             "fillmode": "overlay",
             "size": 10,
             "solidity": 0.2
            },
            "type": "scatter"
           }
          ],
          "scatter3d": [
           {
            "line": {
             "colorbar": {
              "outlinewidth": 0,
              "ticks": ""
             }
            },
            "marker": {
             "colorbar": {
              "outlinewidth": 0,
              "ticks": ""
             }
            },
            "type": "scatter3d"
           }
          ],
          "scattercarpet": [
           {
            "marker": {
             "colorbar": {
              "outlinewidth": 0,
              "ticks": ""
             }
            },
            "type": "scattercarpet"
           }
          ],
          "scattergeo": [
           {
            "marker": {
             "colorbar": {
              "outlinewidth": 0,
              "ticks": ""
             }
            },
            "type": "scattergeo"
           }
          ],
          "scattergl": [
           {
            "marker": {
             "colorbar": {
              "outlinewidth": 0,
              "ticks": ""
             }
            },
            "type": "scattergl"
           }
          ],
          "scattermapbox": [
           {
            "marker": {
             "colorbar": {
              "outlinewidth": 0,
              "ticks": ""
             }
            },
            "type": "scattermapbox"
           }
          ],
          "scatterpolar": [
           {
            "marker": {
             "colorbar": {
              "outlinewidth": 0,
              "ticks": ""
             }
            },
            "type": "scatterpolar"
           }
          ],
          "scatterpolargl": [
           {
            "marker": {
             "colorbar": {
              "outlinewidth": 0,
              "ticks": ""
             }
            },
            "type": "scatterpolargl"
           }
          ],
          "scatterternary": [
           {
            "marker": {
             "colorbar": {
              "outlinewidth": 0,
              "ticks": ""
             }
            },
            "type": "scatterternary"
           }
          ],
          "surface": [
           {
            "colorbar": {
             "outlinewidth": 0,
             "ticks": ""
            },
            "colorscale": [
             [
              0,
              "#0d0887"
             ],
             [
              0.1111111111111111,
              "#46039f"
             ],
             [
              0.2222222222222222,
              "#7201a8"
             ],
             [
              0.3333333333333333,
              "#9c179e"
             ],
             [
              0.4444444444444444,
              "#bd3786"
             ],
             [
              0.5555555555555556,
              "#d8576b"
             ],
             [
              0.6666666666666666,
              "#ed7953"
             ],
             [
              0.7777777777777778,
              "#fb9f3a"
             ],
             [
              0.8888888888888888,
              "#fdca26"
             ],
             [
              1,
              "#f0f921"
             ]
            ],
            "type": "surface"
           }
          ],
          "table": [
           {
            "cells": {
             "fill": {
              "color": "#EBF0F8"
             },
             "line": {
              "color": "white"
             }
            },
            "header": {
             "fill": {
              "color": "#C8D4E3"
             },
             "line": {
              "color": "white"
             }
            },
            "type": "table"
           }
          ]
         },
         "layout": {
          "annotationdefaults": {
           "arrowcolor": "#2a3f5f",
           "arrowhead": 0,
           "arrowwidth": 1
          },
          "autotypenumbers": "strict",
          "coloraxis": {
           "colorbar": {
            "outlinewidth": 0,
            "ticks": ""
           }
          },
          "colorscale": {
           "diverging": [
            [
             0,
             "#8e0152"
            ],
            [
             0.1,
             "#c51b7d"
            ],
            [
             0.2,
             "#de77ae"
            ],
            [
             0.3,
             "#f1b6da"
            ],
            [
             0.4,
             "#fde0ef"
            ],
            [
             0.5,
             "#f7f7f7"
            ],
            [
             0.6,
             "#e6f5d0"
            ],
            [
             0.7,
             "#b8e186"
            ],
            [
             0.8,
             "#7fbc41"
            ],
            [
             0.9,
             "#4d9221"
            ],
            [
             1,
             "#276419"
            ]
           ],
           "sequential": [
            [
             0,
             "#0d0887"
            ],
            [
             0.1111111111111111,
             "#46039f"
            ],
            [
             0.2222222222222222,
             "#7201a8"
            ],
            [
             0.3333333333333333,
             "#9c179e"
            ],
            [
             0.4444444444444444,
             "#bd3786"
            ],
            [
             0.5555555555555556,
             "#d8576b"
            ],
            [
             0.6666666666666666,
             "#ed7953"
            ],
            [
             0.7777777777777778,
             "#fb9f3a"
            ],
            [
             0.8888888888888888,
             "#fdca26"
            ],
            [
             1,
             "#f0f921"
            ]
           ],
           "sequentialminus": [
            [
             0,
             "#0d0887"
            ],
            [
             0.1111111111111111,
             "#46039f"
            ],
            [
             0.2222222222222222,
             "#7201a8"
            ],
            [
             0.3333333333333333,
             "#9c179e"
            ],
            [
             0.4444444444444444,
             "#bd3786"
            ],
            [
             0.5555555555555556,
             "#d8576b"
            ],
            [
             0.6666666666666666,
             "#ed7953"
            ],
            [
             0.7777777777777778,
             "#fb9f3a"
            ],
            [
             0.8888888888888888,
             "#fdca26"
            ],
            [
             1,
             "#f0f921"
            ]
           ]
          },
          "colorway": [
           "#636efa",
           "#EF553B",
           "#00cc96",
           "#ab63fa",
           "#FFA15A",
           "#19d3f3",
           "#FF6692",
           "#B6E880",
           "#FF97FF",
           "#FECB52"
          ],
          "font": {
           "color": "#2a3f5f"
          },
          "geo": {
           "bgcolor": "white",
           "lakecolor": "white",
           "landcolor": "#E5ECF6",
           "showlakes": true,
           "showland": true,
           "subunitcolor": "white"
          },
          "hoverlabel": {
           "align": "left"
          },
          "hovermode": "closest",
          "mapbox": {
           "style": "light"
          },
          "paper_bgcolor": "white",
          "plot_bgcolor": "#E5ECF6",
          "polar": {
           "angularaxis": {
            "gridcolor": "white",
            "linecolor": "white",
            "ticks": ""
           },
           "bgcolor": "#E5ECF6",
           "radialaxis": {
            "gridcolor": "white",
            "linecolor": "white",
            "ticks": ""
           }
          },
          "scene": {
           "xaxis": {
            "backgroundcolor": "#E5ECF6",
            "gridcolor": "white",
            "gridwidth": 2,
            "linecolor": "white",
            "showbackground": true,
            "ticks": "",
            "zerolinecolor": "white"
           },
           "yaxis": {
            "backgroundcolor": "#E5ECF6",
            "gridcolor": "white",
            "gridwidth": 2,
            "linecolor": "white",
            "showbackground": true,
            "ticks": "",
            "zerolinecolor": "white"
           },
           "zaxis": {
            "backgroundcolor": "#E5ECF6",
            "gridcolor": "white",
            "gridwidth": 2,
            "linecolor": "white",
            "showbackground": true,
            "ticks": "",
            "zerolinecolor": "white"
           }
          },
          "shapedefaults": {
           "line": {
            "color": "#2a3f5f"
           }
          },
          "ternary": {
           "aaxis": {
            "gridcolor": "white",
            "linecolor": "white",
            "ticks": ""
           },
           "baxis": {
            "gridcolor": "white",
            "linecolor": "white",
            "ticks": ""
           },
           "bgcolor": "#E5ECF6",
           "caxis": {
            "gridcolor": "white",
            "linecolor": "white",
            "ticks": ""
           }
          },
          "title": {
           "x": 0.05
          },
          "xaxis": {
           "automargin": true,
           "gridcolor": "white",
           "linecolor": "white",
           "ticks": "",
           "title": {
            "standoff": 15
           },
           "zerolinecolor": "white",
           "zerolinewidth": 2
          },
          "yaxis": {
           "automargin": true,
           "gridcolor": "white",
           "linecolor": "white",
           "ticks": "",
           "title": {
            "standoff": 15
           },
           "zerolinecolor": "white",
           "zerolinewidth": 2
          }
         }
        },
        "title": {
         "text": "Qubit Reset - All possible pulse shapes"
        },
        "width": 1000,
        "xaxis": {
         "anchor": "y",
         "domain": [
          0,
          1
         ],
         "hoverformat": ".3s",
         "showgrid": true,
         "tickformat": ".2s",
         "tickformatstops": [
          {
           "dtickrange": [
            null,
            1e-9
           ],
           "value": ".10s"
          },
          {
           "dtickrange": [
            1e-9,
            0.000001
           ],
           "value": ".7s"
          },
          {
           "dtickrange": [
            0.000001,
            0.001
           ],
           "value": ".4s"
          }
         ],
         "ticksuffix": "s",
         "title": {
          "text": "Time"
         }
        },
        "yaxis": {
         "anchor": "x",
         "autorange": true,
         "domain": [
          0,
          1
         ],
         "hoverformat": ".3s",
         "tickformat": ".2s",
         "ticksuffix": "V",
         "title": {
          "text": "flux"
         }
        }
       }
      },
      "text/html": [
       "<div>                            <div id=\"3ccad93f-7653-411d-a70a-f649930bd2c5\" class=\"plotly-graph-div\" style=\"height:300px; width:1000px;\"></div>            <script type=\"text/javascript\">                require([\"plotly\"], function(Plotly) {                    window.PLOTLYENV=window.PLOTLYENV || {};                                    if (document.getElementById(\"3ccad93f-7653-411d-a70a-f649930bd2c5\")) {                    Plotly.newPlot(                        \"3ccad93f-7653-411d-a70a-f649930bd2c5\",                        [{\"fill\":\"tozeroy\",\"hoverinfo\":\"x+y+name\",\"hoverlabel\":{\"namelength\":-1},\"legendgroup\":\"0\",\"line\":{\"color\":\"#EF553B\"},\"mode\":\"lines\",\"name\":\"RampPulse, clock: q0.ro\",\"showlegend\":true,\"x\":[0.0,1e-9,2e-9,3.0000000000000004e-9,4e-9,5e-9,6.000000000000001e-9,7.000000000000001e-9,8e-9,9.000000000000001e-9,1e-8,1.1000000000000001e-8,1.2000000000000002e-8,1.3e-8,1.4000000000000001e-8,1.5000000000000002e-8,1.6e-8,1.7e-8,1.8000000000000002e-8,1.9e-8],\"y\":[-0.025,-0.02475,-0.0245,-0.02425,-0.024,-0.02375,-0.0235,-0.02325,-0.023,-0.02275,-0.0225,-0.02225,-0.022,-0.021750000000000002,-0.021500000000000002,-0.02125,-0.021,-0.02075,-0.0205,-0.02025],\"type\":\"scatter\",\"xaxis\":\"x\",\"yaxis\":\"y\"},{\"fill\":\"tozeroy\",\"hoverinfo\":\"x+y+name\",\"hoverlabel\":{\"namelength\":-1},\"legendgroup\":\"1\",\"line\":{\"color\":\"#00CC96\"},\"mode\":\"lines\",\"name\":\"RampPulse, clock: q0.ro\",\"showlegend\":true,\"x\":[2e-8,2.1e-8,2.2e-8,2.2999999999999998e-8,2.3999999999999997e-8,2.4999999999999996e-8,2.5999999999999995e-8,2.6999999999999994e-8,2.7999999999999993e-8,2.8999999999999992e-8,2.999999999999999e-8,3.0999999999999986e-8,3.199999999999999e-8,3.299999999999999e-8,3.399999999999999e-8,3.499999999999998e-8,3.5999999999999985e-8,3.699999999999999e-8,3.799999999999998e-8,3.899999999999998e-8],\"y\":[-0.025,-0.02525,-0.025500000000000002,-0.025750000000000002,-0.026000000000000002,-0.026250000000000002,-0.026500000000000003,-0.026750000000000003,-0.027000000000000003,-0.027250000000000003,-0.027500000000000004,-0.027750000000000004,-0.028000000000000004,-0.02825,-0.0285,-0.02875,-0.029,-0.02925,-0.029500000000000002,-0.029750000000000002],\"type\":\"scatter\",\"xaxis\":\"x\",\"yaxis\":\"y\"},{\"fill\":\"tozeroy\",\"hoverinfo\":\"x+y+name\",\"hoverlabel\":{\"namelength\":-1},\"legendgroup\":\"2\",\"line\":{\"color\":\"#AB63FA\"},\"mode\":\"lines\",\"name\":\"RampPulse, clock: q0.ro\",\"showlegend\":true,\"x\":[4e-8,4.1e-8,4.2000000000000006e-8,4.300000000000001e-8,4.400000000000001e-8,4.500000000000001e-8,4.6000000000000015e-8,4.700000000000002e-8,4.800000000000002e-8,4.900000000000002e-8,5.0000000000000024e-8,5.1000000000000027e-8,5.200000000000003e-8,5.300000000000003e-8,5.4000000000000034e-8,5.5000000000000036e-8,5.600000000000004e-8,5.700000000000004e-8,5.800000000000004e-8,5.9000000000000045e-8,6.000000000000005e-8],\"y\":[-0.025,-0.02380952380952381,-0.022619047619047622,-0.02142857142857143,-0.02023809523809524,-0.01904761904761905,-0.017857142857142856,-0.016666666666666666,-0.015476190476190477,-0.014285714285714287,-0.013095238095238096,-0.011904761904761904,-0.010714285714285714,-0.009523809523809525,-0.008333333333333331,-0.007142857142857142,-0.005952380952380952,-0.004761904761904762,-0.0035714285714285726,-0.0023809523809523794,-0.0011904761904761897],\"type\":\"scatter\",\"xaxis\":\"x\",\"yaxis\":\"y\"},{\"fill\":\"tozeroy\",\"hoverinfo\":\"x+y+name\",\"hoverlabel\":{\"namelength\":-1},\"legendgroup\":\"3\",\"line\":{\"color\":\"#FFA15A\"},\"mode\":\"lines\",\"name\":\"RampPulse, clock: q0.ro\",\"showlegend\":true,\"x\":[6.000000000000001e-8,6.1e-8,6.2e-8,6.3e-8,6.399999999999999e-8,6.499999999999999e-8,6.599999999999998e-8,6.699999999999998e-8,6.799999999999997e-8,6.899999999999997e-8,6.999999999999997e-8,7.099999999999996e-8,7.199999999999996e-8,7.299999999999995e-8,7.399999999999995e-8,7.499999999999994e-8,7.599999999999994e-8,7.699999999999994e-8,7.799999999999993e-8,7.899999999999993e-8],\"y\":[-0.025,-0.025,-0.025,-0.025,-0.025,-0.025,-0.025,-0.025,-0.025,-0.025,-0.025,-0.025,-0.025,-0.025,-0.025,-0.025,-0.025,-0.025,-0.025,-0.025],\"type\":\"scatter\",\"xaxis\":\"x\",\"yaxis\":\"y\"},{\"fill\":\"tozeroy\",\"hoverinfo\":\"x+y+name\",\"hoverlabel\":{\"namelength\":-1},\"legendgroup\":\"4\",\"line\":{\"color\":\"#19D3F3\"},\"mode\":\"lines\",\"name\":\"RampPulse, clock: q0.ro\",\"showlegend\":true,\"x\":[8e-8,8.1e-8,8.199999999999999e-8,8.299999999999999e-8,8.399999999999998e-8,8.499999999999998e-8,8.599999999999998e-8,8.699999999999997e-8,8.799999999999997e-8,8.899999999999996e-8,8.999999999999996e-8,9.099999999999995e-8,9.199999999999995e-8,9.299999999999995e-8,9.399999999999994e-8,9.499999999999994e-8,9.599999999999993e-8,9.699999999999993e-8,9.799999999999992e-8,9.899999999999992e-8],\"y\":[0.0,-0.00125,-0.0025,-0.00375,-0.005,-0.00625,-0.0075,-0.00875,-0.01,-0.01125,-0.0125,-0.01375,-0.015,-0.01625,-0.0175,-0.01875,-0.02,-0.02125,-0.0225,-0.02375],\"type\":\"scatter\",\"xaxis\":\"x\",\"yaxis\":\"y\"}],                        {\"template\":{\"data\":{\"histogram2dcontour\":[{\"type\":\"histogram2dcontour\",\"colorbar\":{\"outlinewidth\":0,\"ticks\":\"\"},\"colorscale\":[[0.0,\"#0d0887\"],[0.1111111111111111,\"#46039f\"],[0.2222222222222222,\"#7201a8\"],[0.3333333333333333,\"#9c179e\"],[0.4444444444444444,\"#bd3786\"],[0.5555555555555556,\"#d8576b\"],[0.6666666666666666,\"#ed7953\"],[0.7777777777777778,\"#fb9f3a\"],[0.8888888888888888,\"#fdca26\"],[1.0,\"#f0f921\"]]}],\"choropleth\":[{\"type\":\"choropleth\",\"colorbar\":{\"outlinewidth\":0,\"ticks\":\"\"}}],\"histogram2d\":[{\"type\":\"histogram2d\",\"colorbar\":{\"outlinewidth\":0,\"ticks\":\"\"},\"colorscale\":[[0.0,\"#0d0887\"],[0.1111111111111111,\"#46039f\"],[0.2222222222222222,\"#7201a8\"],[0.3333333333333333,\"#9c179e\"],[0.4444444444444444,\"#bd3786\"],[0.5555555555555556,\"#d8576b\"],[0.6666666666666666,\"#ed7953\"],[0.7777777777777778,\"#fb9f3a\"],[0.8888888888888888,\"#fdca26\"],[1.0,\"#f0f921\"]]}],\"heatmap\":[{\"type\":\"heatmap\",\"colorbar\":{\"outlinewidth\":0,\"ticks\":\"\"},\"colorscale\":[[0.0,\"#0d0887\"],[0.1111111111111111,\"#46039f\"],[0.2222222222222222,\"#7201a8\"],[0.3333333333333333,\"#9c179e\"],[0.4444444444444444,\"#bd3786\"],[0.5555555555555556,\"#d8576b\"],[0.6666666666666666,\"#ed7953\"],[0.7777777777777778,\"#fb9f3a\"],[0.8888888888888888,\"#fdca26\"],[1.0,\"#f0f921\"]]}],\"heatmapgl\":[{\"type\":\"heatmapgl\",\"colorbar\":{\"outlinewidth\":0,\"ticks\":\"\"},\"colorscale\":[[0.0,\"#0d0887\"],[0.1111111111111111,\"#46039f\"],[0.2222222222222222,\"#7201a8\"],[0.3333333333333333,\"#9c179e\"],[0.4444444444444444,\"#bd3786\"],[0.5555555555555556,\"#d8576b\"],[0.6666666666666666,\"#ed7953\"],[0.7777777777777778,\"#fb9f3a\"],[0.8888888888888888,\"#fdca26\"],[1.0,\"#f0f921\"]]}],\"contourcarpet\":[{\"type\":\"contourcarpet\",\"colorbar\":{\"outlinewidth\":0,\"ticks\":\"\"}}],\"contour\":[{\"type\":\"contour\",\"colorbar\":{\"outlinewidth\":0,\"ticks\":\"\"},\"colorscale\":[[0.0,\"#0d0887\"],[0.1111111111111111,\"#46039f\"],[0.2222222222222222,\"#7201a8\"],[0.3333333333333333,\"#9c179e\"],[0.4444444444444444,\"#bd3786\"],[0.5555555555555556,\"#d8576b\"],[0.6666666666666666,\"#ed7953\"],[0.7777777777777778,\"#fb9f3a\"],[0.8888888888888888,\"#fdca26\"],[1.0,\"#f0f921\"]]}],\"surface\":[{\"type\":\"surface\",\"colorbar\":{\"outlinewidth\":0,\"ticks\":\"\"},\"colorscale\":[[0.0,\"#0d0887\"],[0.1111111111111111,\"#46039f\"],[0.2222222222222222,\"#7201a8\"],[0.3333333333333333,\"#9c179e\"],[0.4444444444444444,\"#bd3786\"],[0.5555555555555556,\"#d8576b\"],[0.6666666666666666,\"#ed7953\"],[0.7777777777777778,\"#fb9f3a\"],[0.8888888888888888,\"#fdca26\"],[1.0,\"#f0f921\"]]}],\"mesh3d\":[{\"type\":\"mesh3d\",\"colorbar\":{\"outlinewidth\":0,\"ticks\":\"\"}}],\"scatter\":[{\"fillpattern\":{\"fillmode\":\"overlay\",\"size\":10,\"solidity\":0.2},\"type\":\"scatter\"}],\"parcoords\":[{\"type\":\"parcoords\",\"line\":{\"colorbar\":{\"outlinewidth\":0,\"ticks\":\"\"}}}],\"scatterpolargl\":[{\"type\":\"scatterpolargl\",\"marker\":{\"colorbar\":{\"outlinewidth\":0,\"ticks\":\"\"}}}],\"bar\":[{\"error_x\":{\"color\":\"#2a3f5f\"},\"error_y\":{\"color\":\"#2a3f5f\"},\"marker\":{\"line\":{\"color\":\"#E5ECF6\",\"width\":0.5},\"pattern\":{\"fillmode\":\"overlay\",\"size\":10,\"solidity\":0.2}},\"type\":\"bar\"}],\"scattergeo\":[{\"type\":\"scattergeo\",\"marker\":{\"colorbar\":{\"outlinewidth\":0,\"ticks\":\"\"}}}],\"scatterpolar\":[{\"type\":\"scatterpolar\",\"marker\":{\"colorbar\":{\"outlinewidth\":0,\"ticks\":\"\"}}}],\"histogram\":[{\"marker\":{\"pattern\":{\"fillmode\":\"overlay\",\"size\":10,\"solidity\":0.2}},\"type\":\"histogram\"}],\"scattergl\":[{\"type\":\"scattergl\",\"marker\":{\"colorbar\":{\"outlinewidth\":0,\"ticks\":\"\"}}}],\"scatter3d\":[{\"type\":\"scatter3d\",\"line\":{\"colorbar\":{\"outlinewidth\":0,\"ticks\":\"\"}},\"marker\":{\"colorbar\":{\"outlinewidth\":0,\"ticks\":\"\"}}}],\"scattermapbox\":[{\"type\":\"scattermapbox\",\"marker\":{\"colorbar\":{\"outlinewidth\":0,\"ticks\":\"\"}}}],\"scatterternary\":[{\"type\":\"scatterternary\",\"marker\":{\"colorbar\":{\"outlinewidth\":0,\"ticks\":\"\"}}}],\"scattercarpet\":[{\"type\":\"scattercarpet\",\"marker\":{\"colorbar\":{\"outlinewidth\":0,\"ticks\":\"\"}}}],\"carpet\":[{\"aaxis\":{\"endlinecolor\":\"#2a3f5f\",\"gridcolor\":\"white\",\"linecolor\":\"white\",\"minorgridcolor\":\"white\",\"startlinecolor\":\"#2a3f5f\"},\"baxis\":{\"endlinecolor\":\"#2a3f5f\",\"gridcolor\":\"white\",\"linecolor\":\"white\",\"minorgridcolor\":\"white\",\"startlinecolor\":\"#2a3f5f\"},\"type\":\"carpet\"}],\"table\":[{\"cells\":{\"fill\":{\"color\":\"#EBF0F8\"},\"line\":{\"color\":\"white\"}},\"header\":{\"fill\":{\"color\":\"#C8D4E3\"},\"line\":{\"color\":\"white\"}},\"type\":\"table\"}],\"barpolar\":[{\"marker\":{\"line\":{\"color\":\"#E5ECF6\",\"width\":0.5},\"pattern\":{\"fillmode\":\"overlay\",\"size\":10,\"solidity\":0.2}},\"type\":\"barpolar\"}],\"pie\":[{\"automargin\":true,\"type\":\"pie\"}]},\"layout\":{\"autotypenumbers\":\"strict\",\"colorway\":[\"#636efa\",\"#EF553B\",\"#00cc96\",\"#ab63fa\",\"#FFA15A\",\"#19d3f3\",\"#FF6692\",\"#B6E880\",\"#FF97FF\",\"#FECB52\"],\"font\":{\"color\":\"#2a3f5f\"},\"hovermode\":\"closest\",\"hoverlabel\":{\"align\":\"left\"},\"paper_bgcolor\":\"white\",\"plot_bgcolor\":\"#E5ECF6\",\"polar\":{\"bgcolor\":\"#E5ECF6\",\"angularaxis\":{\"gridcolor\":\"white\",\"linecolor\":\"white\",\"ticks\":\"\"},\"radialaxis\":{\"gridcolor\":\"white\",\"linecolor\":\"white\",\"ticks\":\"\"}},\"ternary\":{\"bgcolor\":\"#E5ECF6\",\"aaxis\":{\"gridcolor\":\"white\",\"linecolor\":\"white\",\"ticks\":\"\"},\"baxis\":{\"gridcolor\":\"white\",\"linecolor\":\"white\",\"ticks\":\"\"},\"caxis\":{\"gridcolor\":\"white\",\"linecolor\":\"white\",\"ticks\":\"\"}},\"coloraxis\":{\"colorbar\":{\"outlinewidth\":0,\"ticks\":\"\"}},\"colorscale\":{\"sequential\":[[0.0,\"#0d0887\"],[0.1111111111111111,\"#46039f\"],[0.2222222222222222,\"#7201a8\"],[0.3333333333333333,\"#9c179e\"],[0.4444444444444444,\"#bd3786\"],[0.5555555555555556,\"#d8576b\"],[0.6666666666666666,\"#ed7953\"],[0.7777777777777778,\"#fb9f3a\"],[0.8888888888888888,\"#fdca26\"],[1.0,\"#f0f921\"]],\"sequentialminus\":[[0.0,\"#0d0887\"],[0.1111111111111111,\"#46039f\"],[0.2222222222222222,\"#7201a8\"],[0.3333333333333333,\"#9c179e\"],[0.4444444444444444,\"#bd3786\"],[0.5555555555555556,\"#d8576b\"],[0.6666666666666666,\"#ed7953\"],[0.7777777777777778,\"#fb9f3a\"],[0.8888888888888888,\"#fdca26\"],[1.0,\"#f0f921\"]],\"diverging\":[[0,\"#8e0152\"],[0.1,\"#c51b7d\"],[0.2,\"#de77ae\"],[0.3,\"#f1b6da\"],[0.4,\"#fde0ef\"],[0.5,\"#f7f7f7\"],[0.6,\"#e6f5d0\"],[0.7,\"#b8e186\"],[0.8,\"#7fbc41\"],[0.9,\"#4d9221\"],[1,\"#276419\"]]},\"xaxis\":{\"gridcolor\":\"white\",\"linecolor\":\"white\",\"ticks\":\"\",\"title\":{\"standoff\":15},\"zerolinecolor\":\"white\",\"automargin\":true,\"zerolinewidth\":2},\"yaxis\":{\"gridcolor\":\"white\",\"linecolor\":\"white\",\"ticks\":\"\",\"title\":{\"standoff\":15},\"zerolinecolor\":\"white\",\"automargin\":true,\"zerolinewidth\":2},\"scene\":{\"xaxis\":{\"backgroundcolor\":\"#E5ECF6\",\"gridcolor\":\"white\",\"linecolor\":\"white\",\"showbackground\":true,\"ticks\":\"\",\"zerolinecolor\":\"white\",\"gridwidth\":2},\"yaxis\":{\"backgroundcolor\":\"#E5ECF6\",\"gridcolor\":\"white\",\"linecolor\":\"white\",\"showbackground\":true,\"ticks\":\"\",\"zerolinecolor\":\"white\",\"gridwidth\":2},\"zaxis\":{\"backgroundcolor\":\"#E5ECF6\",\"gridcolor\":\"white\",\"linecolor\":\"white\",\"showbackground\":true,\"ticks\":\"\",\"zerolinecolor\":\"white\",\"gridwidth\":2}},\"shapedefaults\":{\"line\":{\"color\":\"#2a3f5f\"}},\"annotationdefaults\":{\"arrowcolor\":\"#2a3f5f\",\"arrowhead\":0,\"arrowwidth\":1},\"geo\":{\"bgcolor\":\"white\",\"landcolor\":\"#E5ECF6\",\"subunitcolor\":\"white\",\"showland\":true,\"showlakes\":true,\"lakecolor\":\"white\"},\"title\":{\"x\":0.05},\"mapbox\":{\"style\":\"light\"}}},\"xaxis\":{\"anchor\":\"y\",\"domain\":[0.0,1.0],\"tickformat\":\".2s\",\"hoverformat\":\".3s\",\"ticksuffix\":\"s\",\"showgrid\":true,\"title\":{\"text\":\"Time\"},\"tickformatstops\":[{\"dtickrange\":[null,1e-9],\"value\":\".10s\"},{\"dtickrange\":[1e-9,1e-6],\"value\":\".7s\"},{\"dtickrange\":[1e-6,0.001],\"value\":\".4s\"}]},\"yaxis\":{\"anchor\":\"x\",\"domain\":[0.0,1.0],\"tickformat\":\".2s\",\"hoverformat\":\".3s\",\"ticksuffix\":\"V\",\"title\":{\"text\":\"flux\"},\"autorange\":true},\"height\":300,\"width\":1000,\"title\":{\"text\":\"Qubit Reset - All possible pulse shapes\"},\"showlegend\":false},                        {\"responsive\": true}                    ).then(function(){\n",
       "                            \n",
       "var gd = document.getElementById('3ccad93f-7653-411d-a70a-f649930bd2c5');\n",
       "var x = new MutationObserver(function (mutations, observer) {{\n",
       "        var display = window.getComputedStyle(gd).display;\n",
       "        if (!display || display === 'none') {{\n",
       "            console.log([gd, 'removed!']);\n",
       "            Plotly.purge(gd);\n",
       "            observer.disconnect();\n",
       "        }}\n",
       "}});\n",
       "\n",
       "// Listen for the removal of the full notebook cells\n",
       "var notebookContainer = gd.closest('#notebook-container');\n",
       "if (notebookContainer) {{\n",
       "    x.observe(notebookContainer, {childList: true});\n",
       "}}\n",
       "\n",
       "// Listen for the clearing of the current output cell\n",
       "var outputEl = gd.closest('.output');\n",
       "if (outputEl) {{\n",
       "    x.observe(outputEl, {childList: true});\n",
       "}}\n",
       "\n",
       "                        })                };                });            </script>        </div>"
      ]
     },
     "metadata": {},
     "output_type": "display_data"
    }
   ],
   "source": [
    "from quantify_scheduler import Schedule\n",
    "from quantify_scheduler.resources import ClockResource\n",
    "from quantify_scheduler.operations import pulse_library\n",
    "from quantify_scheduler.operations.pulse_library import IdlePulse,RampPulse,GaussPulse,NumericalPulse\n",
    "from quantify_scheduler.backends.graph_compilation import SerialCompiler\n",
    "from quantify_scheduler.device_under_test.quantum_device import QuantumDevice\n",
    "from scipy.signal.windows import gaussian\n",
    "\n",
    "import numpy as np\n",
    "\n",
    "try:\n",
    "    quantum_device = QuantumDevice(\"quantum_device\")\n",
    "    device_compiler = SerialCompiler(\"Device compiler\", quantum_device)\n",
    "except:\n",
    "    pass\n",
    "sched = Schedule(\"Qubit Reset - All possible pulse shapes\")\n",
    "\n",
    "readout_clock = ClockResource(name=\"q0.ro\", freq=0e9)\n",
    "sched.add_resource(readout_clock)\n",
    "\n",
    "qc_t = 20e-9\n",
    "qc_amp = -0.025\n",
    "target_duration = 100e-9\n",
    "target_amp = qc_t / target_duration * qc_amp \n",
    "\n",
    "sched.add(\n",
    "    RampPulse(offset=qc_amp, amp=-target_amp, duration=qc_t, port=\"flux\", clock=\"q0.ro\")\n",
    ")\n",
    "sched.add(\n",
    "    RampPulse(offset=qc_amp, amp=target_amp, duration=qc_t, port=\"flux\", clock=\"q0.ro\")\n",
    ")\n",
    "sched.add(\n",
    "    RampPulse(offset=qc_amp, amp=-qc_amp, duration=qc_t, port=\"flux\", clock=\"q0.ro\")\n",
    ")\n",
    "sched.add(\n",
    "    RampPulse(offset=qc_amp, amp=0, duration=qc_t, port=\"flux\", clock=\"q0.ro\")\n",
    ")\n",
    "sched.add(\n",
    "    RampPulse(offset=0, amp=qc_amp, duration=qc_t, port=\"flux\", clock=\"q0.ro\")\n",
    ")\n",
    "\n",
    "comp_sched = device_compiler.compile(sched)\n",
    "comp_sched.plot_pulse_diagram(plot_backend=\"plotly\")\n",
    "\n"
   ]
  },
  {
   "cell_type": "code",
   "execution_count": 27,
   "id": "4487d7ad",
   "metadata": {},
   "outputs": [
    {
     "name": "stdout",
     "output_type": "stream",
     "text": [
      "[ 0.         -0.43188626 -0.46887939 -0.4826699  -0.49086631 -0.49712443\n",
      " -0.50287557 -0.50913369 -0.5173301  -0.53112061]\n"
     ]
    },
    {
     "data": {
      "text/plain": [
       "(0.0, 2e-08)"
      ]
     },
     "execution_count": 27,
     "metadata": {},
     "output_type": "execute_result"
    },
    {
     "data": {
      "image/png": "[encoded data removed]",
      "text/plain": [
       "<Figure size 640x480 with 1 Axes>"
      ]
     },
     "metadata": {},
     "output_type": "display_data"
    }
   ],
   "source": [
    "from scipy.signal.windows import gaussian\n",
    "import matplotlib.pyplot as plt\n",
    "from quantify_scheduler import Schedule\n",
    "from quantify_scheduler.resources import ClockResource\n",
    "from quantify_scheduler.operations import pulse_library\n",
    "from quantify_scheduler.operations.pulse_library import IdlePulse,RampPulse,GaussPulse,NumericalPulse\n",
    "from quantify_scheduler.backends.graph_compilation import SerialCompiler\n",
    "from quantify_scheduler.device_under_test.quantum_device import QuantumDevice\n",
    "from scipy.signal.windows import gaussian\n",
    "import numpy as np\n",
    "\n",
    "duration = 100\n",
    "width = 10\n",
    "space = 4\n",
    "amp = 1\n",
    "t_total = duration+space*width\n",
    "tlist = np.arange(0,t_total,1)\n",
    "\n",
    "# Square pulse of length L and unit amplitude centered at x+L/2\n",
    "A = np.heaviside(tlist - space*width/2, 0) - np.heaviside(tlist - (duration+space*width/2), 0)\n",
    "\n",
    "# Gaussian with mean (x+L/2) and std 1\n",
    "f = np.exp(-pow(tlist-t_total/2,2)/(2*width**2))\n",
    "\n",
    "g = np.convolve(A, f, mode = 'same') * amp  / np.sum(f)\n",
    "\n",
    "# x = np.linspace(-2 * np.pi, 2 * np.pi, 1000)\n",
    "# plt.plot(x, np.tan(x))\n",
    "# plt.ylim(-5, 5)\n",
    "def tan_pulse(int_duration=10,amp=-0.5, int_window=1/50, tail=1):\n",
    "    if amp < 0:\n",
    "        int_window = -int_window\n",
    "    tlist_int = np.arange(0,int_duration,1)\n",
    "    tan = int_window*np.tan((tlist_int/(int_duration+tail)-0.5)*np.pi)+amp\n",
    "    if int_window<0:\n",
    "        tan[tan>0] = 0\n",
    "    else:\n",
    "        tan[tan<0] = 0\n",
    "    return tan\n",
    "\n",
    "# amp = -0.5\n",
    "# int_window = 1/50\n",
    "# if amp < 0:\n",
    "#     int_window = -int_window\n",
    "int_duration = 10\n",
    "# tail = 1.05\n",
    "tlist_int = np.arange(0,int_duration,1)\n",
    "# print(tlist_int)\n",
    "# tan = int_window*np.tan((tlist_int/(int_duration*tail)-0.5)*np.pi)+amp\n",
    "# if int_window<0:\n",
    "#     tan[tan>0] = -0.1\n",
    "# else:\n",
    "#     tan[tan<0] = 0.1\n",
    "tan = tan_pulse(int_duration=len(tlist_int))\n",
    "print(tan)\n",
    "plt.plot(tlist_int*1e-9, tan, 'y')\n",
    "plt.ylim(-1,1)\n",
    "plt.xlim(0,20e-9)"
   ]
  },
  {
   "cell_type": "code",
   "execution_count": 42,
   "id": "3a1199e3",
   "metadata": {},
   "outputs": [
    {
     "data": {
      "application/vnd.plotly.v1+json": {
       "config": {
        "plotlyServerURL": "https://plot.ly"
       },
       "data": [
        {
         "fill": "tozeroy",
         "hoverinfo": "x+y+name",
         "hoverlabel": {
          "namelength": -1
         },
         "legendgroup": "0",
         "line": {
          "color": "#EF553B"
         },
         "mode": "lines",
         "name": "NumericalPulse, clock: q0.ro",
         "showlegend": true,
         "type": "scatter",
         "x": [
          0,
          1e-9,
          2e-9,
          3.0000000000000004e-9,
          4e-9,
          5e-9,
          6.000000000000001e-9,
          7.000000000000001e-9,
          8e-9,
          9.000000000000001e-9,
          1e-8,
          1.1000000000000001e-8,
          1.2000000000000002e-8,
          1.3e-8,
          1.4000000000000001e-8,
          1.5000000000000002e-8,
          1.6e-8,
          1.7e-8,
          1.8000000000000002e-8,
          1.9e-8,
          2e-8,
          2.1000000000000003e-8,
          2.2000000000000002e-8,
          2.3e-8,
          2.4000000000000003e-8,
          2.5000000000000002e-8,
          2.6e-8,
          2.7e-8,
          2.8000000000000003e-8,
          2.9e-8,
          3.0000000000000004e-8,
          3.1e-8,
          3.2e-8,
          3.3000000000000004e-8,
          3.4e-8,
          3.5e-8,
          3.6000000000000005e-8,
          3.7e-8,
          3.8e-8,
          3.9000000000000005e-8,
          4e-8,
          4.1e-8,
          4.2000000000000006e-8,
          4.3e-8,
          4.4000000000000004e-8,
          4.5000000000000006e-8,
          4.6e-8,
          4.7000000000000004e-8,
          4.8000000000000006e-8,
          4.9e-8,
          5.0000000000000004e-8,
          5.1e-8,
          5.2e-8,
          5.3000000000000005e-8,
          5.4e-8,
          5.5e-8,
          5.6000000000000005e-8,
          5.7e-8,
          5.8e-8,
          5.9000000000000006e-8,
          6.000000000000001e-8,
          6.1e-8,
          6.2e-8,
          6.300000000000001e-8,
          6.4e-8,
          6.5e-8,
          6.600000000000001e-8,
          6.7e-8,
          6.8e-8,
          6.900000000000001e-8,
          7e-8,
          7.1e-8,
          7.200000000000001e-8,
          7.3e-8,
          7.4e-8,
          7.500000000000001e-8,
          7.6e-8,
          7.7e-8,
          7.800000000000001e-8,
          7.9e-8,
          8e-8,
          8.100000000000001e-8,
          8.2e-8,
          8.3e-8,
          8.400000000000001e-8,
          8.500000000000001e-8,
          8.6e-8,
          8.700000000000001e-8,
          8.800000000000001e-8,
          8.9e-8,
          9.000000000000001e-8,
          9.100000000000001e-8,
          9.2e-8,
          9.300000000000001e-8,
          9.400000000000001e-8,
          9.5e-8,
          9.600000000000001e-8,
          9.700000000000001e-8,
          9.8e-8
         ],
         "xaxis": "x",
         "y": [
          0,
          -0.06817948404622615,
          -0.08410545515613474,
          -0.08942110500659439,
          -0.09208418491169418,
          -0.09368624848532496,
          -0.09475781641888684,
          -0.09552625717078846,
          -0.09610525714507015,
          -0.09655797742333079,
          -0.09692231646282476,
          -0.09722239314608504,
          -0.0974742883105527,
          -0.09768913634611759,
          -0.09787489182684281,
          -0.09803738949449485,
          -0.09818100675271894,
          -0.09830909234421499,
          -0.09842425214003135,
          -0.09852854468418004,
          -0.09862361807952884,
          -0.09871080776821493,
          -0.0987912076495904,
          -0.0988657226507446,
          -0.09893510815967521,
          -0.099,
          -0.09906093749418252,
          -0.09911838140763682,
          -0.09917272805402753,
          -0.0992243204889504,
          -0.09927345747199465,
          -0.09932040070177547,
          -0.09936538070245586,
          -0.09940860164860053,
          -0.09945024534780723,
          -0.09949047455050558,
          -0.09952943571878775,
          -0.09956726135775258,
          -0.09960407199120229,
          -0.09963997784690425,
          -0.0996750803037671,
          -0.09970947314326808,
          -0.09974324363963227,
          -0.09977647351710285,
          -0.09980923979778143,
          -0.09984161555967547,
          -0.0998736706215539,
          -0.09990547216882073,
          -0.09993708533274635,
          -0.09996857373395665,
          -0.1,
          -0.10003142626604336,
          -0.10006291466725366,
          -0.10009452783117928,
          -0.10012632937844611,
          -0.10015838444032454,
          -0.10019076020221858,
          -0.10022352648289716,
          -0.10025675636036774,
          -0.10029052685673193,
          -0.10032491969623292,
          -0.10036002215309577,
          -0.10039592800879772,
          -0.10043273864224743,
          -0.10047056428121226,
          -0.10050952544949443,
          -0.10054975465219278,
          -0.10059139835139948,
          -0.10063461929754415,
          -0.10067959929822454,
          -0.10072654252800536,
          -0.10077567951104961,
          -0.10082727194597248,
          -0.10088161859236319,
          -0.1009390625058175,
          -0.101,
          -0.1010648918403248,
          -0.10113427734925541,
          -0.10120879235040961,
          -0.10128919223178508,
          -0.10137638192047117,
          -0.10147145531581997,
          -0.10157574785996866,
          -0.10169090765578502,
          -0.10181899324728107,
          -0.10196261050550516,
          -0.1021251081731572,
          -0.10231086365388242,
          -0.10252571168944731,
          -0.10277760685391497,
          -0.10307768353717525,
          -0.10344202257666922,
          -0.10389474285492986,
          -0.10447374282921157,
          -0.10524218358111317,
          -0.10631375151467504,
          -0.10791581508830582,
          -0.11057889499340562,
          -0.11589454484386527
         ],
         "yaxis": "y"
        }
       ],
       "layout": {
        "height": 300,
        "showlegend": false,
        "template": {
         "data": {
          "bar": [
           {
            "error_x": {
             "color": "#2a3f5f"
            },
            "error_y": {
             "color": "#2a3f5f"
            },
            "marker": {
             "line": {
              "color": "#E5ECF6",
              "width": 0.5
             },
             "pattern": {
              "fillmode": "overlay",
              "size": 10,
              "solidity": 0.2
             }
            },
            "type": "bar"
           }
          ],
          "barpolar": [
           {
            "marker": {
             "line": {
              "color": "#E5ECF6",
              "width": 0.5
             },
             "pattern": {
              "fillmode": "overlay",
              "size": 10,
              "solidity": 0.2
             }
            },
            "type": "barpolar"
           }
          ],
          "carpet": [
           {
            "aaxis": {
             "endlinecolor": "#2a3f5f",
             "gridcolor": "white",
             "linecolor": "white",
             "minorgridcolor": "white",
             "startlinecolor": "#2a3f5f"
            },
            "baxis": {
             "endlinecolor": "#2a3f5f",
             "gridcolor": "white",
             "linecolor": "white",
             "minorgridcolor": "white",
             "startlinecolor": "#2a3f5f"
            },
            "type": "carpet"
           }
          ],
          "choropleth": [
           {
            "colorbar": {
             "outlinewidth": 0,
             "ticks": ""
            },
            "type": "choropleth"
           }
          ],
          "contour": [
           {
            "colorbar": {
             "outlinewidth": 0,
             "ticks": ""
            },
            "colorscale": [
             [
              0,
              "#0d0887"
             ],
             [
              0.1111111111111111,
              "#46039f"
             ],
             [
              0.2222222222222222,
              "#7201a8"
             ],
             [
              0.3333333333333333,
              "#9c179e"
             ],
             [
              0.4444444444444444,
              "#bd3786"
             ],
             [
              0.5555555555555556,
              "#d8576b"
             ],
             [
              0.6666666666666666,
              "#ed7953"
             ],
             [
              0.7777777777777778,
              "#fb9f3a"
             ],
             [
              0.8888888888888888,
              "#fdca26"
             ],
             [
              1,
              "#f0f921"
             ]
            ],
            "type": "contour"
           }
          ],
          "contourcarpet": [
           {
            "colorbar": {
             "outlinewidth": 0,
             "ticks": ""
            },
            "type": "contourcarpet"
           }
          ],
          "heatmap": [
           {
            "colorbar": {
             "outlinewidth": 0,
             "ticks": ""
            },
            "colorscale": [
             [
              0,
              "#0d0887"
             ],
             [
              0.1111111111111111,
              "#46039f"
             ],
             [
              0.2222222222222222,
              "#7201a8"
             ],
             [
              0.3333333333333333,
              "#9c179e"
             ],
             [
              0.4444444444444444,
              "#bd3786"
             ],
             [
              0.5555555555555556,
              "#d8576b"
             ],
             [
              0.6666666666666666,
              "#ed7953"
             ],
             [
              0.7777777777777778,
              "#fb9f3a"
             ],
             [
              0.8888888888888888,
              "#fdca26"
             ],
             [
              1,
              "#f0f921"
             ]
            ],
            "type": "heatmap"
           }
          ],
          "heatmapgl": [
           {
            "colorbar": {
             "outlinewidth": 0,
             "ticks": ""
            },
            "colorscale": [
             [
              0,
              "#0d0887"
             ],
             [
              0.1111111111111111,
              "#46039f"
             ],
             [
              0.2222222222222222,
              "#7201a8"
             ],
             [
              0.3333333333333333,
              "#9c179e"
             ],
             [
              0.4444444444444444,
              "#bd3786"
             ],
             [
              0.5555555555555556,
              "#d8576b"
             ],
             [
              0.6666666666666666,
              "#ed7953"
             ],
             [
              0.7777777777777778,
              "#fb9f3a"
             ],
             [
              0.8888888888888888,
              "#fdca26"
             ],
             [
              1,
              "#f0f921"
             ]
            ],
            "type": "heatmapgl"
           }
          ],
          "histogram": [
           {
            "marker": {
             "pattern": {
              "fillmode": "overlay",
              "size": 10,
              "solidity": 0.2
             }
            },
            "type": "histogram"
           }
          ],
          "histogram2d": [
           {
            "colorbar": {
             "outlinewidth": 0,
             "ticks": ""
            },
            "colorscale": [
             [
              0,
              "#0d0887"
             ],
             [
              0.1111111111111111,
              "#46039f"
             ],
             [
              0.2222222222222222,
              "#7201a8"
             ],
             [
              0.3333333333333333,
              "#9c179e"
             ],
             [
              0.4444444444444444,
              "#bd3786"
             ],
             [
              0.5555555555555556,
              "#d8576b"
             ],
             [
              0.6666666666666666,
              "#ed7953"
             ],
             [
              0.7777777777777778,
              "#fb9f3a"
             ],
             [
              0.8888888888888888,
              "#fdca26"
             ],
             [
              1,
              "#f0f921"
             ]
            ],
            "type": "histogram2d"
           }
          ],
          "histogram2dcontour": [
           {
            "colorbar": {
             "outlinewidth": 0,
             "ticks": ""
            },
            "colorscale": [
             [
              0,
              "#0d0887"
             ],
             [
              0.1111111111111111,
              "#46039f"
             ],
             [
              0.2222222222222222,
              "#7201a8"
             ],
             [
              0.3333333333333333,
              "#9c179e"
             ],
             [
              0.4444444444444444,
              "#bd3786"
             ],
             [
              0.5555555555555556,
              "#d8576b"
             ],
             [
              0.6666666666666666,
              "#ed7953"
             ],
             [
              0.7777777777777778,
              "#fb9f3a"
             ],
             [
              0.8888888888888888,
              "#fdca26"
             ],
             [
              1,
              "#f0f921"
             ]
            ],
            "type": "histogram2dcontour"
           }
          ],
          "mesh3d": [
           {
            "colorbar": {
             "outlinewidth": 0,
             "ticks": ""
            },
            "type": "mesh3d"
           }
          ],
          "parcoords": [
           {
            "line": {
             "colorbar": {
              "outlinewidth": 0,
              "ticks": ""
             }
            },
            "type": "parcoords"
           }
          ],
          "pie": [
           {
            "automargin": true,
            "type": "pie"
           }
          ],
          "scatter": [
           {
            "fillpattern": {
             "fillmode": "overlay",
             "size": 10,
             "solidity": 0.2
            },
            "type": "scatter"
           }
          ],
          "scatter3d": [
           {
            "line": {
             "colorbar": {
              "outlinewidth": 0,
              "ticks": ""
             }
            },
            "marker": {
             "colorbar": {
              "outlinewidth": 0,
              "ticks": ""
             }
            },
            "type": "scatter3d"
           }
          ],
          "scattercarpet": [
           {
            "marker": {
             "colorbar": {
              "outlinewidth": 0,
              "ticks": ""
             }
            },
            "type": "scattercarpet"
           }
          ],
          "scattergeo": [
           {
            "marker": {
             "colorbar": {
              "outlinewidth": 0,
              "ticks": ""
             }
            },
            "type": "scattergeo"
           }
          ],
          "scattergl": [
           {
            "marker": {
             "colorbar": {
              "outlinewidth": 0,
              "ticks": ""
             }
            },
            "type": "scattergl"
           }
          ],
          "scattermapbox": [
           {
            "marker": {
             "colorbar": {
              "outlinewidth": 0,
              "ticks": ""
             }
            },
            "type": "scattermapbox"
           }
          ],
          "scatterpolar": [
           {
            "marker": {
             "colorbar": {
              "outlinewidth": 0,
              "ticks": ""
             }
            },
            "type": "scatterpolar"
           }
          ],
          "scatterpolargl": [
           {
            "marker": {
             "colorbar": {
              "outlinewidth": 0,
              "ticks": ""
             }
            },
            "type": "scatterpolargl"
           }
          ],
          "scatterternary": [
           {
            "marker": {
             "colorbar": {
              "outlinewidth": 0,
              "ticks": ""
             }
            },
            "type": "scatterternary"
           }
          ],
          "surface": [
           {
            "colorbar": {
             "outlinewidth": 0,
             "ticks": ""
            },
            "colorscale": [
             [
              0,
              "#0d0887"
             ],
             [
              0.1111111111111111,
              "#46039f"
             ],
             [
              0.2222222222222222,
              "#7201a8"
             ],
             [
              0.3333333333333333,
              "#9c179e"
             ],
             [
              0.4444444444444444,
              "#bd3786"
             ],
             [
              0.5555555555555556,
              "#d8576b"
             ],
             [
              0.6666666666666666,
              "#ed7953"
             ],
             [
              0.7777777777777778,
              "#fb9f3a"
             ],
             [
              0.8888888888888888,
              "#fdca26"
             ],
             [
              1,
              "#f0f921"
             ]
            ],
            "type": "surface"
           }
          ],
          "table": [
           {
            "cells": {
             "fill": {
              "color": "#EBF0F8"
             },
             "line": {
              "color": "white"
             }
            },
            "header": {
             "fill": {
              "color": "#C8D4E3"
             },
             "line": {
              "color": "white"
             }
            },
            "type": "table"
           }
          ]
         },
         "layout": {
          "annotationdefaults": {
           "arrowcolor": "#2a3f5f",
           "arrowhead": 0,
           "arrowwidth": 1
          },
          "autotypenumbers": "strict",
          "coloraxis": {
           "colorbar": {
            "outlinewidth": 0,
            "ticks": ""
           }
          },
          "colorscale": {
           "diverging": [
            [
             0,
             "#8e0152"
            ],
            [
             0.1,
             "#c51b7d"
            ],
            [
             0.2,
             "#de77ae"
            ],
            [
             0.3,
             "#f1b6da"
            ],
            [
             0.4,
             "#fde0ef"
            ],
            [
             0.5,
             "#f7f7f7"
            ],
            [
             0.6,
             "#e6f5d0"
            ],
            [
             0.7,
             "#b8e186"
            ],
            [
             0.8,
             "#7fbc41"
            ],
            [
             0.9,
             "#4d9221"
            ],
            [
             1,
             "#276419"
            ]
           ],
           "sequential": [
            [
             0,
             "#0d0887"
            ],
            [
             0.1111111111111111,
             "#46039f"
            ],
            [
             0.2222222222222222,
             "#7201a8"
            ],
            [
             0.3333333333333333,
             "#9c179e"
            ],
            [
             0.4444444444444444,
             "#bd3786"
            ],
            [
             0.5555555555555556,
             "#d8576b"
            ],
            [
             0.6666666666666666,
             "#ed7953"
            ],
            [
             0.7777777777777778,
             "#fb9f3a"
            ],
            [
             0.8888888888888888,
             "#fdca26"
            ],
            [
             1,
             "#f0f921"
            ]
           ],
           "sequentialminus": [
            [
             0,
             "#0d0887"
            ],
            [
             0.1111111111111111,
             "#46039f"
            ],
            [
             0.2222222222222222,
             "#7201a8"
            ],
            [
             0.3333333333333333,
             "#9c179e"
            ],
            [
             0.4444444444444444,
             "#bd3786"
            ],
            [
             0.5555555555555556,
             "#d8576b"
            ],
            [
             0.6666666666666666,
             "#ed7953"
            ],
            [
             0.7777777777777778,
             "#fb9f3a"
            ],
            [
             0.8888888888888888,
             "#fdca26"
            ],
            [
             1,
             "#f0f921"
            ]
           ]
          },
          "colorway": [
           "#636efa",
           "#EF553B",
           "#00cc96",
           "#ab63fa",
           "#FFA15A",
           "#19d3f3",
           "#FF6692",
           "#B6E880",
           "#FF97FF",
           "#FECB52"
          ],
          "font": {
           "color": "#2a3f5f"
          },
          "geo": {
           "bgcolor": "white",
           "lakecolor": "white",
           "landcolor": "#E5ECF6",
           "showlakes": true,
           "showland": true,
           "subunitcolor": "white"
          },
          "hoverlabel": {
           "align": "left"
          },
          "hovermode": "closest",
          "mapbox": {
           "style": "light"
          },
          "paper_bgcolor": "white",
          "plot_bgcolor": "#E5ECF6",
          "polar": {
           "angularaxis": {
            "gridcolor": "white",
            "linecolor": "white",
            "ticks": ""
           },
           "bgcolor": "#E5ECF6",
           "radialaxis": {
            "gridcolor": "white",
            "linecolor": "white",
            "ticks": ""
           }
          },
          "scene": {
           "xaxis": {
            "backgroundcolor": "#E5ECF6",
            "gridcolor": "white",
            "gridwidth": 2,
            "linecolor": "white",
            "showbackground": true,
            "ticks": "",
            "zerolinecolor": "white"
           },
           "yaxis": {
            "backgroundcolor": "#E5ECF6",
            "gridcolor": "white",
            "gridwidth": 2,
            "linecolor": "white",
            "showbackground": true,
            "ticks": "",
            "zerolinecolor": "white"
           },
           "zaxis": {
            "backgroundcolor": "#E5ECF6",
            "gridcolor": "white",
            "gridwidth": 2,
            "linecolor": "white",
            "showbackground": true,
            "ticks": "",
            "zerolinecolor": "white"
           }
          },
          "shapedefaults": {
           "line": {
            "color": "#2a3f5f"
           }
          },
          "ternary": {
           "aaxis": {
            "gridcolor": "white",
            "linecolor": "white",
            "ticks": ""
           },
           "baxis": {
            "gridcolor": "white",
            "linecolor": "white",
            "ticks": ""
           },
           "bgcolor": "#E5ECF6",
           "caxis": {
            "gridcolor": "white",
            "linecolor": "white",
            "ticks": ""
           }
          },
          "title": {
           "x": 0.05
          },
          "xaxis": {
           "automargin": true,
           "gridcolor": "white",
           "linecolor": "white",
           "ticks": "",
           "title": {
            "standoff": 15
           },
           "zerolinecolor": "white",
           "zerolinewidth": 2
          },
          "yaxis": {
           "automargin": true,
           "gridcolor": "white",
           "linecolor": "white",
           "ticks": "",
           "title": {
            "standoff": 15
           },
           "zerolinecolor": "white",
           "zerolinewidth": 2
          }
         }
        },
        "title": {
         "text": "Qubit Reset - All possible pulse shapes"
        },
        "width": 1000,
        "xaxis": {
         "anchor": "y",
         "domain": [
          0,
          1
         ],
         "hoverformat": ".3s",
         "showgrid": true,
         "tickformat": ".2s",
         "tickformatstops": [
          {
           "dtickrange": [
            null,
            1e-9
           ],
           "value": ".10s"
          },
          {
           "dtickrange": [
            1e-9,
            0.000001
           ],
           "value": ".7s"
          },
          {
           "dtickrange": [
            0.000001,
            0.001
           ],
           "value": ".4s"
          }
         ],
         "ticksuffix": "s",
         "title": {
          "text": "Time"
         }
        },
        "yaxis": {
         "anchor": "x",
         "autorange": true,
         "domain": [
          0,
          1
         ],
         "hoverformat": ".3s",
         "tickformat": ".2s",
         "ticksuffix": "V",
         "title": {
          "text": "flux"
         }
        }
       }
      },
      "text/html": [
       "<div>                            <div id=\"098a1682-787f-45c4-bb20-82fe1011a4d0\" class=\"plotly-graph-div\" style=\"height:300px; width:1000px;\"></div>            <script type=\"text/javascript\">                require([\"plotly\"], function(Plotly) {                    window.PLOTLYENV=window.PLOTLYENV || {};                                    if (document.getElementById(\"098a1682-787f-45c4-bb20-82fe1011a4d0\")) {                    Plotly.newPlot(                        \"098a1682-787f-45c4-bb20-82fe1011a4d0\",                        [{\"fill\":\"tozeroy\",\"hoverinfo\":\"x+y+name\",\"hoverlabel\":{\"namelength\":-1},\"legendgroup\":\"0\",\"line\":{\"color\":\"#EF553B\"},\"mode\":\"lines\",\"name\":\"NumericalPulse, clock: q0.ro\",\"showlegend\":true,\"x\":[0.0,1e-9,2e-9,3.0000000000000004e-9,4e-9,5e-9,6.000000000000001e-9,7.000000000000001e-9,8e-9,9.000000000000001e-9,1e-8,1.1000000000000001e-8,1.2000000000000002e-8,1.3e-8,1.4000000000000001e-8,1.5000000000000002e-8,1.6e-8,1.7e-8,1.8000000000000002e-8,1.9e-8,2e-8,2.1000000000000003e-8,2.2000000000000002e-8,2.3e-8,2.4000000000000003e-8,2.5000000000000002e-8,2.6e-8,2.7e-8,2.8000000000000003e-8,2.9e-8,3.0000000000000004e-8,3.1e-8,3.2e-8,3.3000000000000004e-8,3.4e-8,3.5e-8,3.6000000000000005e-8,3.7e-8,3.8e-8,3.9000000000000005e-8,4e-8,4.1e-8,4.2000000000000006e-8,4.3e-8,4.4000000000000004e-8,4.5000000000000006e-8,4.6e-8,4.7000000000000004e-8,4.8000000000000006e-8,4.9e-8,5.0000000000000004e-8,5.1e-8,5.2e-8,5.3000000000000005e-8,5.4e-8,5.5e-8,5.6000000000000005e-8,5.7e-8,5.8e-8,5.9000000000000006e-8,6.000000000000001e-8,6.1e-8,6.2e-8,6.300000000000001e-8,6.4e-8,6.5e-8,6.600000000000001e-8,6.7e-8,6.8e-8,6.900000000000001e-8,7e-8,7.1e-8,7.200000000000001e-8,7.3e-8,7.4e-8,7.500000000000001e-8,7.6e-8,7.7e-8,7.800000000000001e-8,7.9e-8,8e-8,8.100000000000001e-8,8.2e-8,8.3e-8,8.400000000000001e-8,8.500000000000001e-8,8.6e-8,8.700000000000001e-8,8.800000000000001e-8,8.9e-8,9.000000000000001e-8,9.100000000000001e-8,9.2e-8,9.300000000000001e-8,9.400000000000001e-8,9.5e-8,9.600000000000001e-8,9.700000000000001e-8,9.8e-8],\"y\":[0.0,-0.06817948404622615,-0.08410545515613474,-0.08942110500659439,-0.09208418491169418,-0.09368624848532496,-0.09475781641888684,-0.09552625717078846,-0.09610525714507015,-0.09655797742333079,-0.09692231646282476,-0.09722239314608504,-0.0974742883105527,-0.09768913634611759,-0.09787489182684281,-0.09803738949449485,-0.09818100675271894,-0.09830909234421499,-0.09842425214003135,-0.09852854468418004,-0.09862361807952884,-0.09871080776821493,-0.0987912076495904,-0.0988657226507446,-0.09893510815967521,-0.099,-0.09906093749418252,-0.09911838140763682,-0.09917272805402753,-0.0992243204889504,-0.09927345747199465,-0.09932040070177547,-0.09936538070245586,-0.09940860164860053,-0.09945024534780723,-0.09949047455050558,-0.09952943571878775,-0.09956726135775258,-0.09960407199120229,-0.09963997784690425,-0.0996750803037671,-0.09970947314326808,-0.09974324363963227,-0.09977647351710285,-0.09980923979778143,-0.09984161555967547,-0.0998736706215539,-0.09990547216882073,-0.09993708533274635,-0.09996857373395665,-0.1,-0.10003142626604336,-0.10006291466725366,-0.10009452783117928,-0.10012632937844611,-0.10015838444032454,-0.10019076020221858,-0.10022352648289716,-0.10025675636036774,-0.10029052685673193,-0.10032491969623292,-0.10036002215309577,-0.10039592800879772,-0.10043273864224743,-0.10047056428121226,-0.10050952544949443,-0.10054975465219278,-0.10059139835139948,-0.10063461929754415,-0.10067959929822454,-0.10072654252800536,-0.10077567951104961,-0.10082727194597248,-0.10088161859236319,-0.1009390625058175,-0.101,-0.1010648918403248,-0.10113427734925541,-0.10120879235040961,-0.10128919223178508,-0.10137638192047117,-0.10147145531581997,-0.10157574785996866,-0.10169090765578502,-0.10181899324728107,-0.10196261050550516,-0.1021251081731572,-0.10231086365388242,-0.10252571168944731,-0.10277760685391497,-0.10307768353717525,-0.10344202257666922,-0.10389474285492986,-0.10447374282921157,-0.10524218358111317,-0.10631375151467504,-0.10791581508830582,-0.11057889499340562,-0.11589454484386527],\"type\":\"scatter\",\"xaxis\":\"x\",\"yaxis\":\"y\"}],                        {\"template\":{\"data\":{\"histogram2dcontour\":[{\"type\":\"histogram2dcontour\",\"colorbar\":{\"outlinewidth\":0,\"ticks\":\"\"},\"colorscale\":[[0.0,\"#0d0887\"],[0.1111111111111111,\"#46039f\"],[0.2222222222222222,\"#7201a8\"],[0.3333333333333333,\"#9c179e\"],[0.4444444444444444,\"#bd3786\"],[0.5555555555555556,\"#d8576b\"],[0.6666666666666666,\"#ed7953\"],[0.7777777777777778,\"#fb9f3a\"],[0.8888888888888888,\"#fdca26\"],[1.0,\"#f0f921\"]]}],\"choropleth\":[{\"type\":\"choropleth\",\"colorbar\":{\"outlinewidth\":0,\"ticks\":\"\"}}],\"histogram2d\":[{\"type\":\"histogram2d\",\"colorbar\":{\"outlinewidth\":0,\"ticks\":\"\"},\"colorscale\":[[0.0,\"#0d0887\"],[0.1111111111111111,\"#46039f\"],[0.2222222222222222,\"#7201a8\"],[0.3333333333333333,\"#9c179e\"],[0.4444444444444444,\"#bd3786\"],[0.5555555555555556,\"#d8576b\"],[0.6666666666666666,\"#ed7953\"],[0.7777777777777778,\"#fb9f3a\"],[0.8888888888888888,\"#fdca26\"],[1.0,\"#f0f921\"]]}],\"heatmap\":[{\"type\":\"heatmap\",\"colorbar\":{\"outlinewidth\":0,\"ticks\":\"\"},\"colorscale\":[[0.0,\"#0d0887\"],[0.1111111111111111,\"#46039f\"],[0.2222222222222222,\"#7201a8\"],[0.3333333333333333,\"#9c179e\"],[0.4444444444444444,\"#bd3786\"],[0.5555555555555556,\"#d8576b\"],[0.6666666666666666,\"#ed7953\"],[0.7777777777777778,\"#fb9f3a\"],[0.8888888888888888,\"#fdca26\"],[1.0,\"#f0f921\"]]}],\"heatmapgl\":[{\"type\":\"heatmapgl\",\"colorbar\":{\"outlinewidth\":0,\"ticks\":\"\"},\"colorscale\":[[0.0,\"#0d0887\"],[0.1111111111111111,\"#46039f\"],[0.2222222222222222,\"#7201a8\"],[0.3333333333333333,\"#9c179e\"],[0.4444444444444444,\"#bd3786\"],[0.5555555555555556,\"#d8576b\"],[0.6666666666666666,\"#ed7953\"],[0.7777777777777778,\"#fb9f3a\"],[0.8888888888888888,\"#fdca26\"],[1.0,\"#f0f921\"]]}],\"contourcarpet\":[{\"type\":\"contourcarpet\",\"colorbar\":{\"outlinewidth\":0,\"ticks\":\"\"}}],\"contour\":[{\"type\":\"contour\",\"colorbar\":{\"outlinewidth\":0,\"ticks\":\"\"},\"colorscale\":[[0.0,\"#0d0887\"],[0.1111111111111111,\"#46039f\"],[0.2222222222222222,\"#7201a8\"],[0.3333333333333333,\"#9c179e\"],[0.4444444444444444,\"#bd3786\"],[0.5555555555555556,\"#d8576b\"],[0.6666666666666666,\"#ed7953\"],[0.7777777777777778,\"#fb9f3a\"],[0.8888888888888888,\"#fdca26\"],[1.0,\"#f0f921\"]]}],\"surface\":[{\"type\":\"surface\",\"colorbar\":{\"outlinewidth\":0,\"ticks\":\"\"},\"colorscale\":[[0.0,\"#0d0887\"],[0.1111111111111111,\"#46039f\"],[0.2222222222222222,\"#7201a8\"],[0.3333333333333333,\"#9c179e\"],[0.4444444444444444,\"#bd3786\"],[0.5555555555555556,\"#d8576b\"],[0.6666666666666666,\"#ed7953\"],[0.7777777777777778,\"#fb9f3a\"],[0.8888888888888888,\"#fdca26\"],[1.0,\"#f0f921\"]]}],\"mesh3d\":[{\"type\":\"mesh3d\",\"colorbar\":{\"outlinewidth\":0,\"ticks\":\"\"}}],\"scatter\":[{\"fillpattern\":{\"fillmode\":\"overlay\",\"size\":10,\"solidity\":0.2},\"type\":\"scatter\"}],\"parcoords\":[{\"type\":\"parcoords\",\"line\":{\"colorbar\":{\"outlinewidth\":0,\"ticks\":\"\"}}}],\"scatterpolargl\":[{\"type\":\"scatterpolargl\",\"marker\":{\"colorbar\":{\"outlinewidth\":0,\"ticks\":\"\"}}}],\"bar\":[{\"error_x\":{\"color\":\"#2a3f5f\"},\"error_y\":{\"color\":\"#2a3f5f\"},\"marker\":{\"line\":{\"color\":\"#E5ECF6\",\"width\":0.5},\"pattern\":{\"fillmode\":\"overlay\",\"size\":10,\"solidity\":0.2}},\"type\":\"bar\"}],\"scattergeo\":[{\"type\":\"scattergeo\",\"marker\":{\"colorbar\":{\"outlinewidth\":0,\"ticks\":\"\"}}}],\"scatterpolar\":[{\"type\":\"scatterpolar\",\"marker\":{\"colorbar\":{\"outlinewidth\":0,\"ticks\":\"\"}}}],\"histogram\":[{\"marker\":{\"pattern\":{\"fillmode\":\"overlay\",\"size\":10,\"solidity\":0.2}},\"type\":\"histogram\"}],\"scattergl\":[{\"type\":\"scattergl\",\"marker\":{\"colorbar\":{\"outlinewidth\":0,\"ticks\":\"\"}}}],\"scatter3d\":[{\"type\":\"scatter3d\",\"line\":{\"colorbar\":{\"outlinewidth\":0,\"ticks\":\"\"}},\"marker\":{\"colorbar\":{\"outlinewidth\":0,\"ticks\":\"\"}}}],\"scattermapbox\":[{\"type\":\"scattermapbox\",\"marker\":{\"colorbar\":{\"outlinewidth\":0,\"ticks\":\"\"}}}],\"scatterternary\":[{\"type\":\"scatterternary\",\"marker\":{\"colorbar\":{\"outlinewidth\":0,\"ticks\":\"\"}}}],\"scattercarpet\":[{\"type\":\"scattercarpet\",\"marker\":{\"colorbar\":{\"outlinewidth\":0,\"ticks\":\"\"}}}],\"carpet\":[{\"aaxis\":{\"endlinecolor\":\"#2a3f5f\",\"gridcolor\":\"white\",\"linecolor\":\"white\",\"minorgridcolor\":\"white\",\"startlinecolor\":\"#2a3f5f\"},\"baxis\":{\"endlinecolor\":\"#2a3f5f\",\"gridcolor\":\"white\",\"linecolor\":\"white\",\"minorgridcolor\":\"white\",\"startlinecolor\":\"#2a3f5f\"},\"type\":\"carpet\"}],\"table\":[{\"cells\":{\"fill\":{\"color\":\"#EBF0F8\"},\"line\":{\"color\":\"white\"}},\"header\":{\"fill\":{\"color\":\"#C8D4E3\"},\"line\":{\"color\":\"white\"}},\"type\":\"table\"}],\"barpolar\":[{\"marker\":{\"line\":{\"color\":\"#E5ECF6\",\"width\":0.5},\"pattern\":{\"fillmode\":\"overlay\",\"size\":10,\"solidity\":0.2}},\"type\":\"barpolar\"}],\"pie\":[{\"automargin\":true,\"type\":\"pie\"}]},\"layout\":{\"autotypenumbers\":\"strict\",\"colorway\":[\"#636efa\",\"#EF553B\",\"#00cc96\",\"#ab63fa\",\"#FFA15A\",\"#19d3f3\",\"#FF6692\",\"#B6E880\",\"#FF97FF\",\"#FECB52\"],\"font\":{\"color\":\"#2a3f5f\"},\"hovermode\":\"closest\",\"hoverlabel\":{\"align\":\"left\"},\"paper_bgcolor\":\"white\",\"plot_bgcolor\":\"#E5ECF6\",\"polar\":{\"bgcolor\":\"#E5ECF6\",\"angularaxis\":{\"gridcolor\":\"white\",\"linecolor\":\"white\",\"ticks\":\"\"},\"radialaxis\":{\"gridcolor\":\"white\",\"linecolor\":\"white\",\"ticks\":\"\"}},\"ternary\":{\"bgcolor\":\"#E5ECF6\",\"aaxis\":{\"gridcolor\":\"white\",\"linecolor\":\"white\",\"ticks\":\"\"},\"baxis\":{\"gridcolor\":\"white\",\"linecolor\":\"white\",\"ticks\":\"\"},\"caxis\":{\"gridcolor\":\"white\",\"linecolor\":\"white\",\"ticks\":\"\"}},\"coloraxis\":{\"colorbar\":{\"outlinewidth\":0,\"ticks\":\"\"}},\"colorscale\":{\"sequential\":[[0.0,\"#0d0887\"],[0.1111111111111111,\"#46039f\"],[0.2222222222222222,\"#7201a8\"],[0.3333333333333333,\"#9c179e\"],[0.4444444444444444,\"#bd3786\"],[0.5555555555555556,\"#d8576b\"],[0.6666666666666666,\"#ed7953\"],[0.7777777777777778,\"#fb9f3a\"],[0.8888888888888888,\"#fdca26\"],[1.0,\"#f0f921\"]],\"sequentialminus\":[[0.0,\"#0d0887\"],[0.1111111111111111,\"#46039f\"],[0.2222222222222222,\"#7201a8\"],[0.3333333333333333,\"#9c179e\"],[0.4444444444444444,\"#bd3786\"],[0.5555555555555556,\"#d8576b\"],[0.6666666666666666,\"#ed7953\"],[0.7777777777777778,\"#fb9f3a\"],[0.8888888888888888,\"#fdca26\"],[1.0,\"#f0f921\"]],\"diverging\":[[0,\"#8e0152\"],[0.1,\"#c51b7d\"],[0.2,\"#de77ae\"],[0.3,\"#f1b6da\"],[0.4,\"#fde0ef\"],[0.5,\"#f7f7f7\"],[0.6,\"#e6f5d0\"],[0.7,\"#b8e186\"],[0.8,\"#7fbc41\"],[0.9,\"#4d9221\"],[1,\"#276419\"]]},\"xaxis\":{\"gridcolor\":\"white\",\"linecolor\":\"white\",\"ticks\":\"\",\"title\":{\"standoff\":15},\"zerolinecolor\":\"white\",\"automargin\":true,\"zerolinewidth\":2},\"yaxis\":{\"gridcolor\":\"white\",\"linecolor\":\"white\",\"ticks\":\"\",\"title\":{\"standoff\":15},\"zerolinecolor\":\"white\",\"automargin\":true,\"zerolinewidth\":2},\"scene\":{\"xaxis\":{\"backgroundcolor\":\"#E5ECF6\",\"gridcolor\":\"white\",\"linecolor\":\"white\",\"showbackground\":true,\"ticks\":\"\",\"zerolinecolor\":\"white\",\"gridwidth\":2},\"yaxis\":{\"backgroundcolor\":\"#E5ECF6\",\"gridcolor\":\"white\",\"linecolor\":\"white\",\"showbackground\":true,\"ticks\":\"\",\"zerolinecolor\":\"white\",\"gridwidth\":2},\"zaxis\":{\"backgroundcolor\":\"#E5ECF6\",\"gridcolor\":\"white\",\"linecolor\":\"white\",\"showbackground\":true,\"ticks\":\"\",\"zerolinecolor\":\"white\",\"gridwidth\":2}},\"shapedefaults\":{\"line\":{\"color\":\"#2a3f5f\"}},\"annotationdefaults\":{\"arrowcolor\":\"#2a3f5f\",\"arrowhead\":0,\"arrowwidth\":1},\"geo\":{\"bgcolor\":\"white\",\"landcolor\":\"#E5ECF6\",\"subunitcolor\":\"white\",\"showland\":true,\"showlakes\":true,\"lakecolor\":\"white\"},\"title\":{\"x\":0.05},\"mapbox\":{\"style\":\"light\"}}},\"xaxis\":{\"anchor\":\"y\",\"domain\":[0.0,1.0],\"tickformat\":\".2s\",\"hoverformat\":\".3s\",\"ticksuffix\":\"s\",\"showgrid\":true,\"title\":{\"text\":\"Time\"},\"tickformatstops\":[{\"dtickrange\":[null,1e-9],\"value\":\".10s\"},{\"dtickrange\":[1e-9,1e-6],\"value\":\".7s\"},{\"dtickrange\":[1e-6,0.001],\"value\":\".4s\"}]},\"yaxis\":{\"anchor\":\"x\",\"domain\":[0.0,1.0],\"tickformat\":\".2s\",\"hoverformat\":\".3s\",\"ticksuffix\":\"V\",\"title\":{\"text\":\"flux\"},\"autorange\":true},\"height\":300,\"width\":1000,\"title\":{\"text\":\"Qubit Reset - All possible pulse shapes\"},\"showlegend\":false},                        {\"responsive\": true}                    ).then(function(){\n",
       "                            \n",
       "var gd = document.getElementById('098a1682-787f-45c4-bb20-82fe1011a4d0');\n",
       "var x = new MutationObserver(function (mutations, observer) {{\n",
       "        var display = window.getComputedStyle(gd).display;\n",
       "        if (!display || display === 'none') {{\n",
       "            console.log([gd, 'removed!']);\n",
       "            Plotly.purge(gd);\n",
       "            observer.disconnect();\n",
       "        }}\n",
       "}});\n",
       "\n",
       "// Listen for the removal of the full notebook cells\n",
       "var notebookContainer = gd.closest('#notebook-container');\n",
       "if (notebookContainer) {{\n",
       "    x.observe(notebookContainer, {childList: true});\n",
       "}}\n",
       "\n",
       "// Listen for the clearing of the current output cell\n",
       "var outputEl = gd.closest('.output');\n",
       "if (outputEl) {{\n",
       "    x.observe(outputEl, {childList: true});\n",
       "}}\n",
       "\n",
       "                        })                };                });            </script>        </div>"
      ]
     },
     "metadata": {},
     "output_type": "display_data"
    }
   ],
   "source": [
    "int_duration = 100\n",
    "t = np.arange(0,int_duration,1)\n",
    "\n",
    "try:\n",
    "    quantum_device = QuantumDevice(\"quantum_device\")\n",
    "    device_compiler = SerialCompiler(\"Device compiler\", quantum_device)\n",
    "except:\n",
    "    pass\n",
    "sched = Schedule(\"Qubit Reset - All possible pulse shapes\")\n",
    "\n",
    "readout_clock = ClockResource(name=\"q0.ro\", freq=0e9)\n",
    "sched.add_resource(readout_clock)\n",
    "\n",
    "def tan_pulse(int_duration=10,amp=-0.5, int_window=1/200, tail=1):\n",
    "    if amp < 0:\n",
    "        int_window = -int_window\n",
    "    tlist_int = np.arange(0,int_duration,1)\n",
    "    tan = int_window*np.tan((tlist_int/(int_duration+tail)-0.5)*np.pi)+amp\n",
    "    if int_window<0:\n",
    "        tan[tan>0] = 0\n",
    "    else:\n",
    "        tan[tan<0] = 0\n",
    "    return tan\n",
    "\n",
    "qc = sched.add(\n",
    "    NumericalPulse(\n",
    "        samples=tan_pulse(int_duration=int_duration,amp=-0.1, int_window=1/1000, tail=0),  # Numerical pulses can be complex as well.\n",
    "        t_samples=t*1e-9,\n",
    "        port=\"flux\",\n",
    "        clock=\"q0.ro\",\n",
    "    ),\n",
    "    ref_pt=\"start\",\n",
    "    rel_time=0e-9,\n",
    ")\n",
    "\n",
    "comp_sched = device_compiler.compile(sched)\n",
    "comp_sched.plot_pulse_diagram(plot_backend=\"plotly\")"
   ]
  },
  {
   "cell_type": "code",
   "execution_count": 126,
   "id": "ab31dcb2",
   "metadata": {},
   "outputs": [
    {
     "name": "stdout",
     "output_type": "stream",
     "text": [
      "[0.0e+00 1.0e-09 2.0e-09 3.0e-09 4.0e-09 5.0e-09 6.0e-09 7.0e-09 8.0e-09\n",
      " 9.0e-09 1.0e-08 1.1e-08 1.2e-08 1.3e-08 1.4e-08 1.5e-08 1.6e-08 1.7e-08\n",
      " 1.8e-08 1.9e-08 2.0e-08 2.1e-08 2.2e-08 2.3e-08 2.4e-08 2.5e-08 2.6e-08\n",
      " 2.7e-08 2.8e-08 2.9e-08 3.0e-08 3.1e-08 3.2e-08 3.3e-08 3.4e-08 3.5e-08\n",
      " 3.6e-08 3.7e-08 3.8e-08 3.9e-08 4.0e-08 4.1e-08 4.2e-08 4.3e-08 4.4e-08\n",
      " 4.5e-08 4.6e-08 4.7e-08 4.8e-08]\n"
     ]
    },
    {
     "data": {
      "text/plain": [
       "array([2.41205195e-04, 4.75963727e-04, 9.12430720e-04, 1.69927937e-03,\n",
       "       3.07445762e-03, 5.40394701e-03, 9.22767933e-03, 1.53077989e-02,\n",
       "       2.46701532e-02, 3.86251152e-02, 5.87498241e-02, 8.68124866e-02,\n",
       "       1.24622559e-01, 1.73800081e-01, 2.35473548e-01, 3.09936785e-01,\n",
       "       3.96317237e-01, 4.92324720e-01, 5.94154193e-01, 6.96603307e-01,\n",
       "       7.93433879e-01, 8.77960125e-01, 9.43795028e-01, 9.85642499e-01,\n",
       "       1.00000000e+00, 9.85642499e-01, 9.43795028e-01, 8.77960125e-01,\n",
       "       7.93433879e-01, 6.96603307e-01, 5.94154193e-01, 4.92324720e-01,\n",
       "       3.96317237e-01, 3.09936785e-01, 2.35473548e-01, 1.73800081e-01,\n",
       "       1.24622559e-01, 8.68124866e-02, 5.87498241e-02, 3.86251152e-02,\n",
       "       2.46701532e-02, 1.53077989e-02, 9.22767933e-03, 5.40394701e-03,\n",
       "       3.07445762e-03, 1.69927937e-03, 9.12430720e-04, 4.75963727e-04,\n",
       "       2.41205195e-04])"
      ]
     },
     "execution_count": 126,
     "metadata": {},
     "output_type": "execute_result"
    }
   ],
   "source": [
    "t = np.arange(0, 48.5e-9, 1e-9)\n",
    "print(t)\n",
    "1 * gaussian(len(t), std=0.12 * len(t))"
   ]
  },
  {
   "cell_type": "code",
   "execution_count": 18,
   "id": "25fbbaf4",
   "metadata": {},
   "outputs": [
    {
     "data": {
      "application/vnd.plotly.v1+json": {
       "config": {
        "plotlyServerURL": "https://plot.ly"
       },
       "data": [
        {
         "fill": "tozeroy",
         "hoverinfo": "x+y+name",
         "hoverlabel": {
          "namelength": -1
         },
         "legendgroup": "0",
         "line": {
          "color": "#EF553B"
         },
         "mode": "lines",
         "name": "RampPulse, clock: q0.ro",
         "showlegend": true,
         "type": "scatter",
         "x": [
          0,
          1e-9,
          2e-9,
          3.0000000000000004e-9,
          4e-9,
          5e-9,
          6.000000000000001e-9,
          7.000000000000001e-9,
          8e-9,
          9.000000000000001e-9,
          1e-8,
          1.1000000000000001e-8,
          1.2000000000000002e-8,
          1.3e-8,
          1.4000000000000001e-8,
          1.5000000000000002e-8,
          1.6e-8,
          1.7e-8,
          1.8000000000000002e-8,
          1.9e-8,
          2e-8,
          2.1000000000000003e-8,
          2.2000000000000002e-8,
          2.3e-8,
          2.4000000000000003e-8,
          2.5000000000000002e-8,
          2.6e-8,
          2.7e-8,
          2.8000000000000003e-8,
          2.9e-8,
          3.0000000000000004e-8,
          3.1e-8,
          3.2e-8,
          3.3000000000000004e-8,
          3.4e-8,
          3.5e-8,
          3.6000000000000005e-8,
          3.7e-8,
          3.8e-8,
          3.9000000000000005e-8,
          4e-8,
          4.1e-8,
          4.2000000000000006e-8,
          4.3e-8,
          4.4000000000000004e-8,
          4.5000000000000006e-8,
          4.6e-8,
          4.7000000000000004e-8,
          4.8000000000000006e-8,
          4.9e-8,
          5.0000000000000004e-8,
          5.1e-8,
          5.2e-8,
          5.3000000000000005e-8,
          5.4e-8,
          5.5e-8,
          5.6000000000000005e-8,
          5.7e-8,
          5.8e-8,
          5.9000000000000006e-8,
          6.000000000000001e-8,
          6.1e-8,
          6.2e-8,
          6.300000000000001e-8,
          6.4e-8,
          6.5e-8,
          6.600000000000001e-8,
          6.7e-8,
          6.8e-8,
          6.900000000000001e-8,
          7e-8,
          7.1e-8,
          7.200000000000001e-8,
          7.3e-8,
          7.4e-8,
          7.500000000000001e-8,
          7.6e-8,
          7.7e-8,
          7.800000000000001e-8,
          7.9e-8,
          8e-8,
          8.100000000000001e-8,
          8.2e-8,
          8.3e-8,
          8.400000000000001e-8,
          8.500000000000001e-8,
          8.6e-8,
          8.700000000000001e-8,
          8.800000000000001e-8,
          8.9e-8,
          9.000000000000001e-8,
          9.100000000000001e-8,
          9.2e-8,
          9.300000000000001e-8,
          9.400000000000001e-8,
          9.5e-8,
          9.600000000000001e-8,
          9.700000000000001e-8,
          9.8e-8,
          9.9e-8,
          1.0000000000000001e-7,
          1.01e-7,
          1.02e-7,
          1.0300000000000001e-7,
          1.04e-7,
          1.05e-7,
          1.0600000000000001e-7,
          1.07e-7,
          1.08e-7,
          1.0900000000000001e-7,
          1.1e-7,
          1.11e-7,
          1.1200000000000001e-7,
          1.13e-7,
          1.14e-7,
          1.1500000000000001e-7,
          1.16e-7,
          1.17e-7,
          1.1800000000000001e-7,
          1.1900000000000001e-7,
          1.2000000000000002e-7,
          1.21e-7,
          1.22e-7,
          1.23e-7,
          1.24e-7,
          1.2500000000000002e-7,
          1.2600000000000002e-7,
          1.27e-7,
          1.28e-7,
          1.29e-7,
          1.3e-7,
          1.31e-7,
          1.3200000000000002e-7,
          1.33e-7,
          1.34e-7,
          1.35e-7,
          1.36e-7,
          1.37e-7,
          1.3800000000000002e-7,
          1.3900000000000001e-7,
          1.4e-7,
          1.41e-7,
          1.42e-7,
          1.43e-7,
          1.4400000000000002e-7,
          1.4500000000000001e-7,
          1.46e-7,
          1.47e-7,
          1.48e-7,
          1.49e-7
         ],
         "xaxis": "x",
         "y": [
          0,
          -0.0001666666666666667,
          -0.0003333333333333334,
          -0.0005,
          -0.0006666666666666668,
          -0.0008333333333333335,
          -0.001,
          -0.0011666666666666668,
          -0.0013333333333333335,
          -0.0015000000000000002,
          -0.001666666666666667,
          -0.0018333333333333335,
          -0.002,
          -0.002166666666666667,
          -0.0023333333333333335,
          -0.0025000000000000005,
          -0.002666666666666667,
          -0.0028333333333333335,
          -0.0030000000000000005,
          -0.003166666666666667,
          -0.003333333333333334,
          -0.0035000000000000005,
          -0.003666666666666667,
          -0.003833333333333334,
          -0.004,
          -0.0041666666666666675,
          -0.004333333333333334,
          -0.0045000000000000005,
          -0.004666666666666667,
          -0.004833333333333334,
          -0.005000000000000001,
          -0.0051666666666666675,
          -0.005333333333333334,
          -0.0055000000000000005,
          -0.005666666666666667,
          -0.0058333333333333345,
          -0.006000000000000001,
          -0.0061666666666666675,
          -0.006333333333333334,
          -0.006500000000000001,
          -0.006666666666666668,
          -0.0068333333333333345,
          -0.007000000000000001,
          -0.0071666666666666675,
          -0.007333333333333334,
          -0.007500000000000001,
          -0.007666666666666668,
          -0.007833333333333335,
          -0.008,
          -0.008166666666666668,
          -0.008333333333333335,
          -0.0085,
          -0.008666666666666668,
          -0.008833333333333334,
          -0.009000000000000001,
          -0.009166666666666668,
          -0.009333333333333334,
          -0.009500000000000001,
          -0.009666666666666667,
          -0.009833333333333335,
          -0.010000000000000002,
          -0.010166666666666668,
          -0.010333333333333335,
          -0.0105,
          -0.010666666666666668,
          -0.010833333333333335,
          -0.011000000000000001,
          -0.011166666666666668,
          -0.011333333333333334,
          -0.011500000000000002,
          -0.011666666666666669,
          -0.011833333333333335,
          -0.012000000000000002,
          -0.012166666666666668,
          -0.012333333333333335,
          -0.012500000000000002,
          -0.012666666666666668,
          -0.012833333333333335,
          -0.013000000000000001,
          -0.013166666666666669,
          -0.013333333333333336,
          -0.013500000000000002,
          -0.013666666666666669,
          -0.013833333333333335,
          -0.014000000000000002,
          -0.014166666666666668,
          -0.014333333333333335,
          -0.014500000000000002,
          -0.014666666666666668,
          -0.014833333333333336,
          -0.015000000000000001,
          -0.015166666666666669,
          -0.015333333333333336,
          -0.015500000000000002,
          -0.01566666666666667,
          -0.015833333333333335,
          -0.016,
          -0.01616666666666667,
          -0.016333333333333335,
          -0.0165,
          -0.01666666666666667,
          -0.016833333333333336,
          -0.017,
          -0.01716666666666667,
          -0.017333333333333336,
          -0.0175,
          -0.017666666666666667,
          -0.017833333333333336,
          -0.018000000000000002,
          -0.018166666666666668,
          -0.018333333333333337,
          -0.018500000000000003,
          -0.018666666666666668,
          -0.018833333333333337,
          -0.019000000000000003,
          -0.01916666666666667,
          -0.019333333333333334,
          -0.019500000000000003,
          -0.01966666666666667,
          -0.019833333333333335,
          -0.020000000000000004,
          -0.02016666666666667,
          -0.020333333333333335,
          -0.020500000000000004,
          -0.02066666666666667,
          -0.020833333333333336,
          -0.021,
          -0.02116666666666667,
          -0.021333333333333336,
          -0.021500000000000002,
          -0.02166666666666667,
          -0.021833333333333337,
          -0.022000000000000002,
          -0.022166666666666668,
          -0.022333333333333337,
          -0.022500000000000003,
          -0.02266666666666667,
          -0.022833333333333337,
          -0.023000000000000003,
          -0.02316666666666667,
          -0.023333333333333338,
          -0.023500000000000004,
          -0.02366666666666667,
          -0.023833333333333335,
          -0.024000000000000004,
          -0.02416666666666667,
          -0.024333333333333335,
          -0.024500000000000004,
          -0.02466666666666667,
          -0.024833333333333336
         ],
         "yaxis": "y"
        },
        {
         "fill": "tozeroy",
         "hoverinfo": "x+y+name",
         "hoverlabel": {
          "namelength": -1
         },
         "legendgroup": "1",
         "line": {
          "color": "#00CC96"
         },
         "mode": "lines",
         "name": "RampPulse, clock: q0.ro",
         "showlegend": true,
         "type": "scatter",
         "x": [
          1.5e-7,
          1.51e-7,
          1.5199999999999998e-7,
          1.5299999999999998e-7,
          1.5399999999999998e-7,
          1.5499999999999997e-7,
          1.5599999999999997e-7,
          1.5699999999999996e-7,
          1.5799999999999996e-7,
          1.5899999999999995e-7,
          1.5999999999999995e-7,
          1.6099999999999995e-7,
          1.6199999999999994e-7,
          1.6299999999999994e-7,
          1.6399999999999993e-7,
          1.6499999999999993e-7,
          1.6599999999999992e-7,
          1.6699999999999992e-7,
          1.6799999999999992e-7,
          1.689999999999999e-7,
          1.699999999999999e-7,
          1.709999999999999e-7,
          1.719999999999999e-7,
          1.729999999999999e-7,
          1.739999999999999e-7,
          1.7499999999999989e-7,
          1.7599999999999988e-7,
          1.7699999999999988e-7,
          1.7799999999999987e-7,
          1.7899999999999987e-7,
          1.7999999999999986e-7,
          1.8099999999999986e-7,
          1.8199999999999986e-7,
          1.8299999999999985e-7,
          1.8399999999999985e-7,
          1.8499999999999984e-7,
          1.8599999999999984e-7,
          1.8699999999999983e-7,
          1.8799999999999983e-7,
          1.8899999999999983e-7,
          1.8999999999999982e-7,
          1.9099999999999982e-7,
          1.9199999999999981e-7,
          1.929999999999998e-7,
          1.939999999999998e-7,
          1.949999999999998e-7,
          1.959999999999998e-7,
          1.969999999999998e-7,
          1.979999999999998e-7,
          1.9899999999999978e-7,
          1.9999999999999978e-7,
          2.0099999999999977e-7,
          2.0199999999999977e-7,
          2.0299999999999977e-7,
          2.0399999999999976e-7,
          2.0499999999999976e-7,
          2.0599999999999975e-7,
          2.0699999999999975e-7,
          2.0799999999999974e-7,
          2.0899999999999974e-7,
          2.0999999999999974e-7,
          2.1099999999999973e-7,
          2.1199999999999973e-7,
          2.1299999999999972e-7,
          2.1399999999999972e-7,
          2.1499999999999971e-7,
          2.159999999999997e-7,
          2.169999999999997e-7,
          2.179999999999997e-7,
          2.189999999999997e-7,
          2.199999999999997e-7,
          2.209999999999997e-7,
          2.2199999999999969e-7,
          2.2299999999999968e-7,
          2.2399999999999968e-7,
          2.2499999999999967e-7,
          2.2599999999999967e-7,
          2.2699999999999966e-7,
          2.2799999999999966e-7,
          2.2899999999999966e-7,
          2.2999999999999965e-7,
          2.3099999999999965e-7,
          2.3199999999999964e-7,
          2.3299999999999964e-7,
          2.3399999999999963e-7,
          2.3499999999999963e-7,
          2.3599999999999963e-7,
          2.3699999999999962e-7,
          2.3799999999999962e-7,
          2.3899999999999964e-7,
          2.399999999999996e-7,
          2.409999999999996e-7,
          2.419999999999996e-7,
          2.429999999999996e-7,
          2.439999999999996e-7,
          2.4499999999999956e-7,
          2.459999999999996e-7,
          2.469999999999996e-7,
          2.479999999999996e-7,
          2.4899999999999954e-7,
          2.4999999999999957e-7,
          2.509999999999996e-7,
          2.5199999999999956e-7,
          2.529999999999995e-7,
          2.5399999999999955e-7,
          2.5499999999999957e-7,
          2.5599999999999954e-7,
          2.569999999999995e-7,
          2.5799999999999953e-7,
          2.5899999999999955e-7,
          2.599999999999995e-7,
          2.609999999999995e-7,
          2.619999999999995e-7,
          2.6299999999999954e-7,
          2.639999999999995e-7,
          2.649999999999995e-7,
          2.659999999999995e-7,
          2.669999999999995e-7,
          2.679999999999995e-7,
          2.6899999999999946e-7,
          2.699999999999995e-7,
          2.709999999999995e-7,
          2.7199999999999947e-7,
          2.7299999999999944e-7,
          2.7399999999999946e-7,
          2.749999999999995e-7,
          2.7599999999999945e-7,
          2.769999999999994e-7,
          2.7799999999999945e-7,
          2.7899999999999947e-7,
          2.7999999999999944e-7,
          2.809999999999994e-7,
          2.8199999999999943e-7,
          2.8299999999999945e-7,
          2.839999999999994e-7,
          2.849999999999994e-7,
          2.859999999999994e-7,
          2.8699999999999943e-7,
          2.879999999999994e-7,
          2.8899999999999937e-7,
          2.899999999999994e-7,
          2.909999999999994e-7,
          2.919999999999994e-7,
          2.9299999999999935e-7,
          2.939999999999994e-7,
          2.949999999999994e-7,
          2.9599999999999937e-7,
          2.9699999999999934e-7,
          2.9799999999999936e-7,
          2.989999999999994e-7,
          2.9999999999999935e-7,
          3.009999999999993e-7,
          3.0199999999999934e-7,
          3.0299999999999936e-7,
          3.0399999999999933e-7,
          3.049999999999993e-7,
          3.059999999999993e-7,
          3.0699999999999935e-7,
          3.079999999999993e-7,
          3.089999999999993e-7,
          3.099999999999993e-7,
          3.1099999999999933e-7,
          3.119999999999993e-7,
          3.1299999999999927e-7,
          3.139999999999993e-7,
          3.149999999999993e-7,
          3.159999999999993e-7,
          3.1699999999999925e-7,
          3.179999999999993e-7,
          3.189999999999993e-7,
          3.1999999999999927e-7,
          3.2099999999999923e-7,
          3.2199999999999926e-7,
          3.229999999999993e-7,
          3.2399999999999925e-7,
          3.249999999999992e-7,
          3.2599999999999924e-7,
          3.2699999999999926e-7,
          3.2799999999999923e-7,
          3.289999999999992e-7,
          3.299999999999992e-7,
          3.3099999999999924e-7,
          3.319999999999992e-7,
          3.329999999999992e-7,
          3.339999999999992e-7,
          3.3499999999999923e-7,
          3.359999999999992e-7,
          3.3699999999999917e-7,
          3.379999999999992e-7,
          3.389999999999992e-7,
          3.399999999999992e-7,
          3.4099999999999915e-7,
          3.4199999999999917e-7,
          3.429999999999992e-7,
          3.4399999999999916e-7,
          3.4499999999999913e-7,
          3.4599999999999915e-7,
          3.469999999999992e-7,
          3.4799999999999915e-7,
          3.489999999999991e-7,
          3.4999999999999914e-7,
          3.5099999999999916e-7,
          3.5199999999999913e-7,
          3.529999999999991e-7,
          3.539999999999991e-7,
          3.5499999999999914e-7,
          3.559999999999991e-7,
          3.569999999999991e-7,
          3.579999999999991e-7,
          3.589999999999991e-7,
          3.599999999999991e-7,
          3.6099999999999906e-7,
          3.619999999999991e-7,
          3.629999999999991e-7,
          3.639999999999991e-7,
          3.6499999999999905e-7,
          3.6599999999999907e-7,
          3.669999999999991e-7,
          3.6799999999999906e-7,
          3.6899999999999903e-7,
          3.6999999999999905e-7,
          3.709999999999991e-7,
          3.7199999999999904e-7,
          3.72999999999999e-7,
          3.7399999999999903e-7,
          3.7499999999999906e-7,
          3.75999999999999e-7,
          3.76999999999999e-7,
          3.77999999999999e-7,
          3.7899999999999904e-7,
          3.79999999999999e-7,
          3.80999999999999e-7,
          3.81999999999999e-7,
          3.82999999999999e-7,
          3.83999999999999e-7,
          3.8499999999999896e-7,
          3.85999999999999e-7,
          3.86999999999999e-7,
          3.87999999999999e-7,
          3.88999999999999e-7,
          3.8999999999999897e-7,
          3.9099999999999894e-7,
          3.9199999999999896e-7,
          3.92999999999999e-7,
          3.9399999999999895e-7,
          3.949999999999989e-7,
          3.9599999999999894e-7,
          3.9699999999999896e-7,
          3.9799999999999893e-7,
          3.989999999999989e-7,
          3.999999999999989e-7,
          4.0099999999999895e-7,
          4.019999999999989e-7,
          4.029999999999989e-7,
          4.039999999999989e-7,
          4.0499999999999893e-7,
          4.059999999999989e-7,
          4.0699999999999887e-7,
          4.079999999999989e-7,
          4.089999999999989e-7,
          4.099999999999989e-7,
          4.1099999999999885e-7,
          4.1199999999999887e-7,
          4.129999999999989e-7,
          4.1399999999999886e-7,
          4.1499999999999883e-7,
          4.1599999999999885e-7,
          4.169999999999989e-7,
          4.1799999999999885e-7,
          4.189999999999988e-7,
          4.1999999999999884e-7,
          4.2099999999999886e-7,
          4.2199999999999883e-7,
          4.229999999999988e-7,
          4.239999999999988e-7,
          4.2499999999999884e-7,
          4.259999999999988e-7,
          4.269999999999988e-7,
          4.279999999999988e-7,
          4.289999999999988e-7,
          4.299999999999988e-7,
          4.3099999999999876e-7,
          4.319999999999988e-7,
          4.329999999999988e-7,
          4.339999999999988e-7,
          4.3499999999999875e-7,
          4.3599999999999877e-7,
          4.369999999999988e-7,
          4.3799999999999876e-7,
          4.3899999999999873e-7,
          4.3999999999999875e-7,
          4.409999999999988e-7,
          4.4199999999999874e-7,
          4.429999999999987e-7,
          4.4399999999999873e-7,
          4.4499999999999876e-7,
          4.459999999999987e-7,
          4.469999999999987e-7,
          4.479999999999987e-7,
          4.4899999999999874e-7,
          4.499999999999987e-7,
          4.509999999999987e-7,
          4.519999999999987e-7,
          4.529999999999987e-7,
          4.539999999999987e-7,
          4.5499999999999866e-7,
          4.559999999999987e-7,
          4.569999999999987e-7,
          4.579999999999987e-7,
          4.5899999999999864e-7,
          4.5999999999999867e-7,
          4.609999999999987e-7,
          4.6199999999999866e-7,
          4.6299999999999863e-7,
          4.6399999999999865e-7,
          4.6499999999999867e-7,
          4.6599999999999864e-7,
          4.669999999999986e-7,
          4.6799999999999863e-7,
          4.6899999999999865e-7,
          4.699999999999986e-7,
          4.709999999999986e-7,
          4.719999999999986e-7,
          4.7299999999999864e-7,
          4.739999999999986e-7,
          4.749999999999986e-7,
          4.759999999999986e-7,
          4.769999999999986e-7,
          4.779999999999986e-7,
          4.789999999999985e-7,
          4.799999999999986e-7,
          4.809999999999987e-7,
          4.819999999999985e-7,
          4.829999999999986e-7,
          4.839999999999986e-7,
          4.849999999999985e-7,
          4.859999999999986e-7,
          4.869999999999985e-7,
          4.879999999999985e-7,
          4.889999999999986e-7,
          4.899999999999985e-7,
          4.909999999999986e-7,
          4.919999999999985e-7,
          4.929999999999985e-7,
          4.939999999999986e-7,
          4.949999999999984e-7,
          4.959999999999985e-7,
          4.969999999999986e-7,
          4.979999999999985e-7,
          4.989999999999985e-7,
          4.999999999999985e-7,
          5.009999999999985e-7,
          5.019999999999985e-7,
          5.029999999999984e-7,
          5.039999999999985e-7,
          5.049999999999986e-7,
          5.059999999999984e-7,
          5.069999999999985e-7,
          5.079999999999985e-7,
          5.089999999999984e-7,
          5.099999999999985e-7,
          5.109999999999984e-7,
          5.119999999999984e-7,
          5.129999999999985e-7,
          5.139999999999984e-7,
          5.149999999999985e-7,
          5.159999999999984e-7,
          5.169999999999984e-7,
          5.179999999999985e-7,
          5.189999999999983e-7,
          5.199999999999984e-7,
          5.209999999999985e-7,
          5.219999999999983e-7,
          5.229999999999984e-7,
          5.239999999999984e-7,
          5.249999999999984e-7,
          5.259999999999984e-7,
          5.269999999999983e-7,
          5.279999999999984e-7,
          5.289999999999985e-7,
          5.299999999999983e-7,
          5.309999999999984e-7,
          5.319999999999984e-7,
          5.329999999999983e-7,
          5.339999999999984e-7,
          5.349999999999983e-7,
          5.359999999999983e-7,
          5.369999999999984e-7,
          5.379999999999983e-7,
          5.389999999999984e-7,
          5.399999999999983e-7,
          5.409999999999983e-7,
          5.419999999999984e-7,
          5.429999999999982e-7,
          5.439999999999983e-7,
          5.449999999999984e-7,
          5.459999999999982e-7,
          5.469999999999983e-7,
          5.479999999999983e-7,
          5.489999999999983e-7,
          5.499999999999983e-7,
          5.509999999999982e-7,
          5.519999999999983e-7,
          5.529999999999983e-7,
          5.539999999999982e-7,
          5.549999999999983e-7,
          5.559999999999983e-7,
          5.569999999999982e-7,
          5.579999999999983e-7,
          5.589999999999982e-7,
          5.599999999999982e-7,
          5.609999999999983e-7,
          5.619999999999982e-7,
          5.629999999999983e-7,
          5.639999999999982e-7,
          5.649999999999982e-7,
          5.659999999999983e-7,
          5.669999999999981e-7,
          5.679999999999982e-7,
          5.689999999999983e-7,
          5.699999999999981e-7,
          5.709999999999982e-7,
          5.719999999999982e-7,
          5.729999999999982e-7,
          5.739999999999982e-7,
          5.749999999999981e-7,
          5.759999999999982e-7,
          5.769999999999982e-7,
          5.779999999999981e-7,
          5.789999999999982e-7,
          5.799999999999982e-7,
          5.809999999999981e-7,
          5.819999999999982e-7,
          5.829999999999981e-7,
          5.839999999999981e-7,
          5.849999999999982e-7,
          5.859999999999981e-7,
          5.869999999999981e-7,
          5.879999999999981e-7,
          5.889999999999981e-7,
          5.899999999999982e-7,
          5.90999999999998e-7,
          5.919999999999981e-7,
          5.929999999999982e-7,
          5.93999999999998e-7,
          5.949999999999981e-7,
          5.959999999999981e-7,
          5.969999999999981e-7,
          5.979999999999981e-7,
          5.98999999999998e-7,
          5.999999999999981e-7,
          6.009999999999981e-7,
          6.01999999999998e-7,
          6.029999999999981e-7,
          6.03999999999998e-7,
          6.04999999999998e-7,
          6.059999999999981e-7,
          6.06999999999998e-7,
          6.07999999999998e-7,
          6.089999999999981e-7,
          6.09999999999998e-7,
          6.10999999999998e-7,
          6.11999999999998e-7,
          6.12999999999998e-7,
          6.139999999999981e-7,
          6.149999999999979e-7,
          6.15999999999998e-7,
          6.169999999999981e-7,
          6.179999999999979e-7,
          6.18999999999998e-7,
          6.19999999999998e-7,
          6.20999999999998e-7,
          6.21999999999998e-7,
          6.229999999999979e-7,
          6.23999999999998e-7,
          6.24999999999998e-7,
          6.259999999999979e-7,
          6.26999999999998e-7,
          6.279999999999981e-7,
          6.289999999999979e-7,
          6.29999999999998e-7,
          6.309999999999979e-7,
          6.319999999999979e-7,
          6.32999999999998e-7,
          6.339999999999979e-7,
          6.349999999999979e-7,
          6.35999999999998e-7,
          6.369999999999979e-7,
          6.37999999999998e-7,
          6.389999999999978e-7,
          6.399999999999979e-7,
          6.40999999999998e-7,
          6.419999999999978e-7,
          6.429999999999979e-7,
          6.43999999999998e-7,
          6.449999999999978e-7,
          6.459999999999979e-7,
          6.469999999999978e-7,
          6.479999999999979e-7,
          6.489999999999979e-7,
          6.499999999999978e-7,
          6.509999999999979e-7,
          6.51999999999998e-7,
          6.529999999999978e-7,
          6.539999999999979e-7,
          6.549999999999978e-7,
          6.559999999999978e-7,
          6.569999999999979e-7,
          6.579999999999978e-7,
          6.589999999999978e-7,
          6.599999999999979e-7,
          6.609999999999978e-7,
          6.619999999999979e-7,
          6.629999999999977e-7,
          6.639999999999978e-7,
          6.649999999999979e-7,
          6.659999999999977e-7,
          6.669999999999978e-7,
          6.679999999999979e-7,
          6.689999999999977e-7,
          6.699999999999978e-7,
          6.709999999999977e-7,
          6.719999999999978e-7,
          6.729999999999978e-7,
          6.739999999999977e-7,
          6.749999999999978e-7,
          6.759999999999978e-7,
          6.769999999999977e-7,
          6.779999999999978e-7,
          6.789999999999976e-7,
          6.799999999999977e-7,
          6.809999999999978e-7,
          6.819999999999977e-7,
          6.829999999999977e-7,
          6.839999999999978e-7,
          6.849999999999977e-7,
          6.859999999999978e-7,
          6.869999999999976e-7,
          6.879999999999977e-7,
          6.889999999999978e-7,
          6.899999999999976e-7,
          6.909999999999977e-7,
          6.919999999999978e-7,
          6.929999999999976e-7,
          6.939999999999977e-7,
          6.949999999999976e-7,
          6.959999999999977e-7,
          6.969999999999977e-7,
          6.979999999999976e-7,
          6.989999999999977e-7,
          6.999999999999977e-7,
          7.009999999999976e-7,
          7.019999999999977e-7,
          7.029999999999975e-7,
          7.039999999999976e-7,
          7.049999999999977e-7,
          7.059999999999976e-7,
          7.069999999999976e-7,
          7.079999999999977e-7,
          7.089999999999976e-7,
          7.099999999999976e-7,
          7.109999999999975e-7,
          7.119999999999976e-7,
          7.129999999999977e-7,
          7.139999999999975e-7,
          7.149999999999976e-7,
          7.159999999999977e-7,
          7.169999999999975e-7,
          7.179999999999976e-7,
          7.189999999999975e-7,
          7.199999999999976e-7,
          7.209999999999976e-7,
          7.219999999999975e-7,
          7.229999999999976e-7,
          7.239999999999976e-7,
          7.249999999999975e-7,
          7.259999999999976e-7,
          7.269999999999974e-7,
          7.279999999999975e-7,
          7.289999999999976e-7,
          7.299999999999975e-7,
          7.309999999999975e-7,
          7.319999999999976e-7,
          7.329999999999975e-7,
          7.339999999999975e-7,
          7.349999999999974e-7,
          7.359999999999975e-7,
          7.369999999999976e-7,
          7.379999999999974e-7,
          7.389999999999975e-7,
          7.399999999999976e-7,
          7.409999999999974e-7,
          7.419999999999975e-7,
          7.429999999999974e-7,
          7.439999999999975e-7,
          7.449999999999975e-7,
          7.459999999999974e-7,
          7.469999999999975e-7,
          7.479999999999975e-7,
          7.489999999999974e-7
         ],
         "xaxis": "x",
         "y": [
          0.025,
          0.024989583333333336,
          0.024979166666666667,
          0.02496875,
          0.024958333333333336,
          0.024947916666666667,
          0.0249375,
          0.024927083333333336,
          0.024916666666666667,
          0.02490625,
          0.024895833333333336,
          0.024885416666666667,
          0.024875,
          0.024864583333333336,
          0.024854166666666667,
          0.02484375,
          0.024833333333333336,
          0.024822916666666667,
          0.0248125,
          0.024802083333333336,
          0.024791666666666667,
          0.02478125,
          0.024770833333333336,
          0.024760416666666667,
          0.02475,
          0.024739583333333336,
          0.024729166666666667,
          0.02471875,
          0.024708333333333336,
          0.024697916666666667,
          0.0246875,
          0.024677083333333336,
          0.024666666666666667,
          0.02465625,
          0.024645833333333336,
          0.024635416666666667,
          0.024625,
          0.024614583333333336,
          0.024604166666666667,
          0.02459375,
          0.024583333333333336,
          0.024572916666666667,
          0.0245625,
          0.024552083333333335,
          0.024541666666666666,
          0.02453125,
          0.024520833333333335,
          0.024510416666666666,
          0.0245,
          0.024489583333333335,
          0.02447916666666667,
          0.02446875,
          0.024458333333333335,
          0.024447916666666666,
          0.0244375,
          0.024427083333333335,
          0.02441666666666667,
          0.02440625,
          0.024395833333333335,
          0.02438541666666667,
          0.024375,
          0.024364583333333335,
          0.02435416666666667,
          0.02434375,
          0.024333333333333335,
          0.02432291666666667,
          0.0243125,
          0.024302083333333335,
          0.02429166666666667,
          0.02428125,
          0.024270833333333335,
          0.02426041666666667,
          0.02425,
          0.024239583333333335,
          0.02422916666666667,
          0.02421875,
          0.024208333333333335,
          0.02419791666666667,
          0.0241875,
          0.024177083333333335,
          0.02416666666666667,
          0.02415625,
          0.024145833333333335,
          0.02413541666666667,
          0.024125,
          0.024114583333333335,
          0.02410416666666667,
          0.02409375,
          0.024083333333333335,
          0.02407291666666667,
          0.0240625,
          0.024052083333333335,
          0.02404166666666667,
          0.02403125,
          0.024020833333333335,
          0.02401041666666667,
          0.024,
          0.023989583333333335,
          0.02397916666666667,
          0.02396875,
          0.023958333333333335,
          0.02394791666666667,
          0.0239375,
          0.023927083333333335,
          0.02391666666666667,
          0.02390625,
          0.023895833333333335,
          0.02388541666666667,
          0.023875,
          0.023864583333333335,
          0.02385416666666667,
          0.02384375,
          0.023833333333333335,
          0.02382291666666667,
          0.0238125,
          0.023802083333333335,
          0.02379166666666667,
          0.02378125,
          0.023770833333333335,
          0.02376041666666667,
          0.02375,
          0.023739583333333335,
          0.02372916666666667,
          0.02371875,
          0.023708333333333335,
          0.02369791666666667,
          0.0236875,
          0.023677083333333335,
          0.02366666666666667,
          0.02365625,
          0.023645833333333335,
          0.02363541666666667,
          0.023625,
          0.023614583333333335,
          0.02360416666666667,
          0.02359375,
          0.023583333333333335,
          0.02357291666666667,
          0.0235625,
          0.023552083333333335,
          0.02354166666666667,
          0.02353125,
          0.023520833333333335,
          0.02351041666666667,
          0.0235,
          0.023489583333333335,
          0.02347916666666667,
          0.023468750000000003,
          0.023458333333333335,
          0.02344791666666667,
          0.0234375,
          0.023427083333333334,
          0.02341666666666667,
          0.023406250000000003,
          0.023395833333333334,
          0.02338541666666667,
          0.023375,
          0.023364583333333334,
          0.02335416666666667,
          0.023343750000000003,
          0.023333333333333334,
          0.02332291666666667,
          0.0233125,
          0.023302083333333334,
          0.02329166666666667,
          0.023281250000000003,
          0.023270833333333334,
          0.02326041666666667,
          0.023250000000000003,
          0.023239583333333334,
          0.02322916666666667,
          0.023218750000000003,
          0.023208333333333334,
          0.02319791666666667,
          0.023187500000000003,
          0.023177083333333334,
          0.02316666666666667,
          0.023156250000000003,
          0.023145833333333334,
          0.02313541666666667,
          0.023125000000000003,
          0.023114583333333334,
          0.02310416666666667,
          0.023093750000000003,
          0.023083333333333334,
          0.02307291666666667,
          0.023062500000000003,
          0.023052083333333334,
          0.02304166666666667,
          0.023031250000000003,
          0.023020833333333334,
          0.02301041666666667,
          0.023000000000000003,
          0.022989583333333334,
          0.02297916666666667,
          0.022968750000000003,
          0.022958333333333334,
          0.02294791666666667,
          0.022937500000000003,
          0.022927083333333334,
          0.02291666666666667,
          0.022906250000000003,
          0.022895833333333334,
          0.02288541666666667,
          0.022875000000000003,
          0.022864583333333334,
          0.02285416666666667,
          0.022843750000000003,
          0.022833333333333334,
          0.02282291666666667,
          0.022812500000000003,
          0.022802083333333334,
          0.02279166666666667,
          0.022781250000000003,
          0.022770833333333334,
          0.02276041666666667,
          0.022750000000000003,
          0.022739583333333334,
          0.02272916666666667,
          0.022718750000000003,
          0.022708333333333334,
          0.02269791666666667,
          0.022687500000000003,
          0.022677083333333334,
          0.02266666666666667,
          0.022656250000000003,
          0.022645833333333334,
          0.02263541666666667,
          0.022625000000000003,
          0.022614583333333334,
          0.022604166666666668,
          0.022593750000000003,
          0.022583333333333334,
          0.022572916666666668,
          0.022562500000000003,
          0.022552083333333334,
          0.022541666666666668,
          0.022531250000000003,
          0.022520833333333337,
          0.022510416666666668,
          0.022500000000000003,
          0.022489583333333334,
          0.022479166666666668,
          0.022468750000000003,
          0.022458333333333337,
          0.022447916666666668,
          0.022437500000000003,
          0.022427083333333334,
          0.022416666666666668,
          0.022406250000000003,
          0.022395833333333337,
          0.022385416666666668,
          0.022375000000000003,
          0.022364583333333334,
          0.022354166666666668,
          0.022343750000000002,
          0.022333333333333337,
          0.022322916666666668,
          0.022312500000000002,
          0.022302083333333333,
          0.022291666666666668,
          0.022281250000000002,
          0.022270833333333337,
          0.022260416666666668,
          0.022250000000000002,
          0.022239583333333333,
          0.022229166666666668,
          0.022218750000000002,
          0.022208333333333337,
          0.022197916666666668,
          0.022187500000000002,
          0.022177083333333333,
          0.022166666666666668,
          0.022156250000000002,
          0.022145833333333337,
          0.022135416666666668,
          0.022125000000000002,
          0.022114583333333337,
          0.022104166666666668,
          0.022093750000000002,
          0.022083333333333337,
          0.022072916666666668,
          0.022062500000000002,
          0.022052083333333337,
          0.022041666666666668,
          0.022031250000000002,
          0.022020833333333337,
          0.022010416666666668,
          0.022000000000000002,
          0.021989583333333337,
          0.021979166666666668,
          0.021968750000000002,
          0.021958333333333337,
          0.021947916666666668,
          0.021937500000000002,
          0.021927083333333337,
          0.021916666666666668,
          0.021906250000000002,
          0.021895833333333337,
          0.021885416666666668,
          0.021875000000000002,
          0.021864583333333337,
          0.021854166666666668,
          0.021843750000000002,
          0.021833333333333337,
          0.021822916666666668,
          0.021812500000000002,
          0.021802083333333337,
          0.021791666666666668,
          0.021781250000000002,
          0.021770833333333336,
          0.021760416666666667,
          0.021750000000000002,
          0.021739583333333336,
          0.021729166666666667,
          0.021718750000000002,
          0.021708333333333336,
          0.021697916666666667,
          0.021687500000000002,
          0.021677083333333336,
          0.021666666666666667,
          0.021656250000000002,
          0.021645833333333336,
          0.021635416666666667,
          0.021625000000000002,
          0.021614583333333336,
          0.021604166666666667,
          0.021593750000000002,
          0.021583333333333336,
          0.021572916666666667,
          0.021562500000000002,
          0.021552083333333336,
          0.021541666666666667,
          0.021531250000000002,
          0.021520833333333336,
          0.021510416666666667,
          0.021500000000000002,
          0.021489583333333336,
          0.021479166666666667,
          0.02146875,
          0.021458333333333336,
          0.02144791666666667,
          0.0214375,
          0.021427083333333336,
          0.021416666666666667,
          0.02140625,
          0.021395833333333336,
          0.02138541666666667,
          0.021375,
          0.021364583333333336,
          0.021354166666666667,
          0.02134375,
          0.021333333333333336,
          0.02132291666666667,
          0.0213125,
          0.021302083333333336,
          0.021291666666666667,
          0.02128125,
          0.021270833333333336,
          0.02126041666666667,
          0.02125,
          0.021239583333333336,
          0.021229166666666667,
          0.02121875,
          0.021208333333333336,
          0.02119791666666667,
          0.0211875,
          0.021177083333333336,
          0.021166666666666667,
          0.02115625,
          0.021145833333333336,
          0.02113541666666667,
          0.021125,
          0.021114583333333336,
          0.021104166666666667,
          0.02109375,
          0.021083333333333336,
          0.02107291666666667,
          0.0210625,
          0.021052083333333336,
          0.021041666666666667,
          0.02103125,
          0.021020833333333336,
          0.02101041666666667,
          0.021,
          0.020989583333333336,
          0.020979166666666667,
          0.02096875,
          0.020958333333333336,
          0.02094791666666667,
          0.0209375,
          0.020927083333333336,
          0.020916666666666667,
          0.02090625,
          0.020895833333333336,
          0.02088541666666667,
          0.020875,
          0.020864583333333336,
          0.02085416666666667,
          0.02084375,
          0.020833333333333336,
          0.02082291666666667,
          0.0208125,
          0.020802083333333336,
          0.02079166666666667,
          0.02078125,
          0.020770833333333336,
          0.02076041666666667,
          0.02075,
          0.020739583333333336,
          0.02072916666666667,
          0.02071875,
          0.020708333333333336,
          0.02069791666666667,
          0.0206875,
          0.020677083333333336,
          0.02066666666666667,
          0.02065625,
          0.020645833333333335,
          0.02063541666666667,
          0.020625,
          0.020614583333333335,
          0.02060416666666667,
          0.02059375,
          0.020583333333333335,
          0.02057291666666667,
          0.020562500000000004,
          0.020552083333333335,
          0.02054166666666667,
          0.02053125,
          0.020520833333333335,
          0.02051041666666667,
          0.020500000000000004,
          0.020489583333333335,
          0.02047916666666667,
          0.02046875,
          0.020458333333333335,
          0.02044791666666667,
          0.020437500000000004,
          0.020427083333333335,
          0.02041666666666667,
          0.02040625,
          0.020395833333333335,
          0.02038541666666667,
          0.020375000000000004,
          0.020364583333333335,
          0.02035416666666667,
          0.02034375,
          0.020333333333333335,
          0.02032291666666667,
          0.020312500000000004,
          0.020302083333333335,
          0.02029166666666667,
          0.02028125,
          0.020270833333333335,
          0.02026041666666667,
          0.020250000000000004,
          0.020239583333333335,
          0.02022916666666667,
          0.02021875,
          0.020208333333333335,
          0.02019791666666667,
          0.020187500000000004,
          0.020177083333333335,
          0.02016666666666667,
          0.02015625,
          0.020145833333333335,
          0.02013541666666667,
          0.020125000000000004,
          0.020114583333333335,
          0.02010416666666667,
          0.02009375,
          0.020083333333333335,
          0.02007291666666667,
          0.020062500000000004,
          0.020052083333333335,
          0.02004166666666667,
          0.02003125,
          0.020020833333333335,
          0.02001041666666667,
          0.020000000000000004,
          0.019989583333333335,
          0.01997916666666667,
          0.01996875,
          0.019958333333333335,
          0.01994791666666667,
          0.019937500000000004,
          0.019927083333333335,
          0.01991666666666667,
          0.01990625,
          0.019895833333333335,
          0.01988541666666667,
          0.019875000000000004,
          0.019864583333333335,
          0.01985416666666667,
          0.01984375,
          0.019833333333333335,
          0.01982291666666667,
          0.019812500000000004,
          0.019802083333333335,
          0.01979166666666667,
          0.019781250000000004,
          0.019770833333333335,
          0.01976041666666667,
          0.019750000000000004,
          0.019739583333333335,
          0.01972916666666667,
          0.019718750000000004,
          0.019708333333333335,
          0.01969791666666667,
          0.019687500000000004,
          0.019677083333333335,
          0.01966666666666667,
          0.019656250000000004,
          0.019645833333333335,
          0.01963541666666667,
          0.019625000000000004,
          0.019614583333333335,
          0.01960416666666667,
          0.019593750000000004,
          0.019583333333333335,
          0.01957291666666667,
          0.019562500000000003,
          0.019552083333333335,
          0.01954166666666667,
          0.019531250000000003,
          0.019520833333333334,
          0.01951041666666667,
          0.019500000000000003,
          0.019489583333333338,
          0.01947916666666667,
          0.019468750000000003,
          0.019458333333333334,
          0.01944791666666667,
          0.019437500000000003,
          0.019427083333333338,
          0.01941666666666667,
          0.019406250000000003,
          0.019395833333333334,
          0.01938541666666667,
          0.019375000000000003,
          0.019364583333333338,
          0.01935416666666667,
          0.019343750000000003,
          0.019333333333333334,
          0.01932291666666667,
          0.019312500000000003,
          0.019302083333333338,
          0.01929166666666667,
          0.019281250000000003,
          0.019270833333333334,
          0.01926041666666667,
          0.019250000000000003,
          0.019239583333333338,
          0.01922916666666667,
          0.019218750000000003,
          0.019208333333333334,
          0.01919791666666667,
          0.019187500000000003,
          0.019177083333333338,
          0.01916666666666667,
          0.019156250000000003,
          0.019145833333333334,
          0.01913541666666667,
          0.019125000000000003,
          0.019114583333333338,
          0.01910416666666667,
          0.019093750000000003,
          0.019083333333333334,
          0.01907291666666667,
          0.019062500000000003,
          0.019052083333333338,
          0.01904166666666667,
          0.019031250000000003,
          0.019020833333333334,
          0.01901041666666667,
          0.019000000000000003,
          0.018989583333333337,
          0.01897916666666667,
          0.018968750000000003,
          0.018958333333333334,
          0.01894791666666667,
          0.018937500000000003,
          0.018927083333333337,
          0.01891666666666667,
          0.018906250000000003,
          0.018895833333333334,
          0.01888541666666667,
          0.018875000000000003,
          0.018864583333333337,
          0.01885416666666667,
          0.018843750000000003,
          0.018833333333333334,
          0.01882291666666667,
          0.018812500000000003,
          0.018802083333333337,
          0.01879166666666667,
          0.018781250000000003,
          0.018770833333333334,
          0.01876041666666667
         ],
         "yaxis": "y"
        }
       ],
       "layout": {
        "height": 300,
        "showlegend": false,
        "template": {
         "data": {
          "bar": [
           {
            "error_x": {
             "color": "#2a3f5f"
            },
            "error_y": {
             "color": "#2a3f5f"
            },
            "marker": {
             "line": {
              "color": "#E5ECF6",
              "width": 0.5
             },
             "pattern": {
              "fillmode": "overlay",
              "size": 10,
              "solidity": 0.2
             }
            },
            "type": "bar"
           }
          ],
          "barpolar": [
           {
            "marker": {
             "line": {
              "color": "#E5ECF6",
              "width": 0.5
             },
             "pattern": {
              "fillmode": "overlay",
              "size": 10,
              "solidity": 0.2
             }
            },
            "type": "barpolar"
           }
          ],
          "carpet": [
           {
            "aaxis": {
             "endlinecolor": "#2a3f5f",
             "gridcolor": "white",
             "linecolor": "white",
             "minorgridcolor": "white",
             "startlinecolor": "#2a3f5f"
            },
            "baxis": {
             "endlinecolor": "#2a3f5f",
             "gridcolor": "white",
             "linecolor": "white",
             "minorgridcolor": "white",
             "startlinecolor": "#2a3f5f"
            },
            "type": "carpet"
           }
          ],
          "choropleth": [
           {
            "colorbar": {
             "outlinewidth": 0,
             "ticks": ""
            },
            "type": "choropleth"
           }
          ],
          "contour": [
           {
            "colorbar": {
             "outlinewidth": 0,
             "ticks": ""
            },
            "colorscale": [
             [
              0,
              "#0d0887"
             ],
             [
              0.1111111111111111,
              "#46039f"
             ],
             [
              0.2222222222222222,
              "#7201a8"
             ],
             [
              0.3333333333333333,
              "#9c179e"
             ],
             [
              0.4444444444444444,
              "#bd3786"
             ],
             [
              0.5555555555555556,
              "#d8576b"
             ],
             [
              0.6666666666666666,
              "#ed7953"
             ],
             [
              0.7777777777777778,
              "#fb9f3a"
             ],
             [
              0.8888888888888888,
              "#fdca26"
             ],
             [
              1,
              "#f0f921"
             ]
            ],
            "type": "contour"
           }
          ],
          "contourcarpet": [
           {
            "colorbar": {
             "outlinewidth": 0,
             "ticks": ""
            },
            "type": "contourcarpet"
           }
          ],
          "heatmap": [
           {
            "colorbar": {
             "outlinewidth": 0,
             "ticks": ""
            },
            "colorscale": [
             [
              0,
              "#0d0887"
             ],
             [
              0.1111111111111111,
              "#46039f"
             ],
             [
              0.2222222222222222,
              "#7201a8"
             ],
             [
              0.3333333333333333,
              "#9c179e"
             ],
             [
              0.4444444444444444,
              "#bd3786"
             ],
             [
              0.5555555555555556,
              "#d8576b"
             ],
             [
              0.6666666666666666,
              "#ed7953"
             ],
             [
              0.7777777777777778,
              "#fb9f3a"
             ],
             [
              0.8888888888888888,
              "#fdca26"
             ],
             [
              1,
              "#f0f921"
             ]
            ],
            "type": "heatmap"
           }
          ],
          "heatmapgl": [
           {
            "colorbar": {
             "outlinewidth": 0,
             "ticks": ""
            },
            "colorscale": [
             [
              0,
              "#0d0887"
             ],
             [
              0.1111111111111111,
              "#46039f"
             ],
             [
              0.2222222222222222,
              "#7201a8"
             ],
             [
              0.3333333333333333,
              "#9c179e"
             ],
             [
              0.4444444444444444,
              "#bd3786"
             ],
             [
              0.5555555555555556,
              "#d8576b"
             ],
             [
              0.6666666666666666,
              "#ed7953"
             ],
             [
              0.7777777777777778,
              "#fb9f3a"
             ],
             [
              0.8888888888888888,
              "#fdca26"
             ],
             [
              1,
              "#f0f921"
             ]
            ],
            "type": "heatmapgl"
           }
          ],
          "histogram": [
           {
            "marker": {
             "pattern": {
              "fillmode": "overlay",
              "size": 10,
              "solidity": 0.2
             }
            },
            "type": "histogram"
           }
          ],
          "histogram2d": [
           {
            "colorbar": {
             "outlinewidth": 0,
             "ticks": ""
            },
            "colorscale": [
             [
              0,
              "#0d0887"
             ],
             [
              0.1111111111111111,
              "#46039f"
             ],
             [
              0.2222222222222222,
              "#7201a8"
             ],
             [
              0.3333333333333333,
              "#9c179e"
             ],
             [
              0.4444444444444444,
              "#bd3786"
             ],
             [
              0.5555555555555556,
              "#d8576b"
             ],
             [
              0.6666666666666666,
              "#ed7953"
             ],
             [
              0.7777777777777778,
              "#fb9f3a"
             ],
             [
              0.8888888888888888,
              "#fdca26"
             ],
             [
              1,
              "#f0f921"
             ]
            ],
            "type": "histogram2d"
           }
          ],
          "histogram2dcontour": [
           {
            "colorbar": {
             "outlinewidth": 0,
             "ticks": ""
            },
            "colorscale": [
             [
              0,
              "#0d0887"
             ],
             [
              0.1111111111111111,
              "#46039f"
             ],
             [
              0.2222222222222222,
              "#7201a8"
             ],
             [
              0.3333333333333333,
              "#9c179e"
             ],
             [
              0.4444444444444444,
              "#bd3786"
             ],
             [
              0.5555555555555556,
              "#d8576b"
             ],
             [
              0.6666666666666666,
              "#ed7953"
             ],
             [
              0.7777777777777778,
              "#fb9f3a"
             ],
             [
              0.8888888888888888,
              "#fdca26"
             ],
             [
              1,
              "#f0f921"
             ]
            ],
            "type": "histogram2dcontour"
           }
          ],
          "mesh3d": [
           {
            "colorbar": {
             "outlinewidth": 0,
             "ticks": ""
            },
            "type": "mesh3d"
           }
          ],
          "parcoords": [
           {
            "line": {
             "colorbar": {
              "outlinewidth": 0,
              "ticks": ""
             }
            },
            "type": "parcoords"
           }
          ],
          "pie": [
           {
            "automargin": true,
            "type": "pie"
           }
          ],
          "scatter": [
           {
            "fillpattern": {
             "fillmode": "overlay",
             "size": 10,
             "solidity": 0.2
            },
            "type": "scatter"
           }
          ],
          "scatter3d": [
           {
            "line": {
             "colorbar": {
              "outlinewidth": 0,
              "ticks": ""
             }
            },
            "marker": {
             "colorbar": {
              "outlinewidth": 0,
              "ticks": ""
             }
            },
            "type": "scatter3d"
           }
          ],
          "scattercarpet": [
           {
            "marker": {
             "colorbar": {
              "outlinewidth": 0,
              "ticks": ""
             }
            },
            "type": "scattercarpet"
           }
          ],
          "scattergeo": [
           {
            "marker": {
             "colorbar": {
              "outlinewidth": 0,
              "ticks": ""
             }
            },
            "type": "scattergeo"
           }
          ],
          "scattergl": [
           {
            "marker": {
             "colorbar": {
              "outlinewidth": 0,
              "ticks": ""
             }
            },
            "type": "scattergl"
           }
          ],
          "scattermapbox": [
           {
            "marker": {
             "colorbar": {
              "outlinewidth": 0,
              "ticks": ""
             }
            },
            "type": "scattermapbox"
           }
          ],
          "scatterpolar": [
           {
            "marker": {
             "colorbar": {
              "outlinewidth": 0,
              "ticks": ""
             }
            },
            "type": "scatterpolar"
           }
          ],
          "scatterpolargl": [
           {
            "marker": {
             "colorbar": {
              "outlinewidth": 0,
              "ticks": ""
             }
            },
            "type": "scatterpolargl"
           }
          ],
          "scatterternary": [
           {
            "marker": {
             "colorbar": {
              "outlinewidth": 0,
              "ticks": ""
             }
            },
            "type": "scatterternary"
           }
          ],
          "surface": [
           {
            "colorbar": {
             "outlinewidth": 0,
             "ticks": ""
            },
            "colorscale": [
             [
              0,
              "#0d0887"
             ],
             [
              0.1111111111111111,
              "#46039f"
             ],
             [
              0.2222222222222222,
              "#7201a8"
             ],
             [
              0.3333333333333333,
              "#9c179e"
             ],
             [
              0.4444444444444444,
              "#bd3786"
             ],
             [
              0.5555555555555556,
              "#d8576b"
             ],
             [
              0.6666666666666666,
              "#ed7953"
             ],
             [
              0.7777777777777778,
              "#fb9f3a"
             ],
             [
              0.8888888888888888,
              "#fdca26"
             ],
             [
              1,
              "#f0f921"
             ]
            ],
            "type": "surface"
           }
          ],
          "table": [
           {
            "cells": {
             "fill": {
              "color": "#EBF0F8"
             },
             "line": {
              "color": "white"
             }
            },
            "header": {
             "fill": {
              "color": "#C8D4E3"
             },
             "line": {
              "color": "white"
             }
            },
            "type": "table"
           }
          ]
         },
         "layout": {
          "annotationdefaults": {
           "arrowcolor": "#2a3f5f",
           "arrowhead": 0,
           "arrowwidth": 1
          },
          "autotypenumbers": "strict",
          "coloraxis": {
           "colorbar": {
            "outlinewidth": 0,
            "ticks": ""
           }
          },
          "colorscale": {
           "diverging": [
            [
             0,
             "#8e0152"
            ],
            [
             0.1,
             "#c51b7d"
            ],
            [
             0.2,
             "#de77ae"
            ],
            [
             0.3,
             "#f1b6da"
            ],
            [
             0.4,
             "#fde0ef"
            ],
            [
             0.5,
             "#f7f7f7"
            ],
            [
             0.6,
             "#e6f5d0"
            ],
            [
             0.7,
             "#b8e186"
            ],
            [
             0.8,
             "#7fbc41"
            ],
            [
             0.9,
             "#4d9221"
            ],
            [
             1,
             "#276419"
            ]
           ],
           "sequential": [
            [
             0,
             "#0d0887"
            ],
            [
             0.1111111111111111,
             "#46039f"
            ],
            [
             0.2222222222222222,
             "#7201a8"
            ],
            [
             0.3333333333333333,
             "#9c179e"
            ],
            [
             0.4444444444444444,
             "#bd3786"
            ],
            [
             0.5555555555555556,
             "#d8576b"
            ],
            [
             0.6666666666666666,
             "#ed7953"
            ],
            [
             0.7777777777777778,
             "#fb9f3a"
            ],
            [
             0.8888888888888888,
             "#fdca26"
            ],
            [
             1,
             "#f0f921"
            ]
           ],
           "sequentialminus": [
            [
             0,
             "#0d0887"
            ],
            [
             0.1111111111111111,
             "#46039f"
            ],
            [
             0.2222222222222222,
             "#7201a8"
            ],
            [
             0.3333333333333333,
             "#9c179e"
            ],
            [
             0.4444444444444444,
             "#bd3786"
            ],
            [
             0.5555555555555556,
             "#d8576b"
            ],
            [
             0.6666666666666666,
             "#ed7953"
            ],
            [
             0.7777777777777778,
             "#fb9f3a"
            ],
            [
             0.8888888888888888,
             "#fdca26"
            ],
            [
             1,
             "#f0f921"
            ]
           ]
          },
          "colorway": [
           "#636efa",
           "#EF553B",
           "#00cc96",
           "#ab63fa",
           "#FFA15A",
           "#19d3f3",
           "#FF6692",
           "#B6E880",
           "#FF97FF",
           "#FECB52"
          ],
          "font": {
           "color": "#2a3f5f"
          },
          "geo": {
           "bgcolor": "white",
           "lakecolor": "white",
           "landcolor": "#E5ECF6",
           "showlakes": true,
           "showland": true,
           "subunitcolor": "white"
          },
          "hoverlabel": {
           "align": "left"
          },
          "hovermode": "closest",
          "mapbox": {
           "style": "light"
          },
          "paper_bgcolor": "white",
          "plot_bgcolor": "#E5ECF6",
          "polar": {
           "angularaxis": {
            "gridcolor": "white",
            "linecolor": "white",
            "ticks": ""
           },
           "bgcolor": "#E5ECF6",
           "radialaxis": {
            "gridcolor": "white",
            "linecolor": "white",
            "ticks": ""
           }
          },
          "scene": {
           "xaxis": {
            "backgroundcolor": "#E5ECF6",
            "gridcolor": "white",
            "gridwidth": 2,
            "linecolor": "white",
            "showbackground": true,
            "ticks": "",
            "zerolinecolor": "white"
           },
           "yaxis": {
            "backgroundcolor": "#E5ECF6",
            "gridcolor": "white",
            "gridwidth": 2,
            "linecolor": "white",
            "showbackground": true,
            "ticks": "",
            "zerolinecolor": "white"
           },
           "zaxis": {
            "backgroundcolor": "#E5ECF6",
            "gridcolor": "white",
            "gridwidth": 2,
            "linecolor": "white",
            "showbackground": true,
            "ticks": "",
            "zerolinecolor": "white"
           }
          },
          "shapedefaults": {
           "line": {
            "color": "#2a3f5f"
           }
          },
          "ternary": {
           "aaxis": {
            "gridcolor": "white",
            "linecolor": "white",
            "ticks": ""
           },
           "baxis": {
            "gridcolor": "white",
            "linecolor": "white",
            "ticks": ""
           },
           "bgcolor": "#E5ECF6",
           "caxis": {
            "gridcolor": "white",
            "linecolor": "white",
            "ticks": ""
           }
          },
          "title": {
           "x": 0.05
          },
          "xaxis": {
           "automargin": true,
           "gridcolor": "white",
           "linecolor": "white",
           "ticks": "",
           "title": {
            "standoff": 15
           },
           "zerolinecolor": "white",
           "zerolinewidth": 2
          },
          "yaxis": {
           "automargin": true,
           "gridcolor": "white",
           "linecolor": "white",
           "ticks": "",
           "title": {
            "standoff": 15
           },
           "zerolinecolor": "white",
           "zerolinewidth": 2
          }
         }
        },
        "title": {
         "text": "Qubit Reset - Full Schedule"
        },
        "width": 1000,
        "xaxis": {
         "anchor": "y",
         "domain": [
          0,
          1
         ],
         "hoverformat": ".3s",
         "showgrid": true,
         "tickformat": ".2s",
         "tickformatstops": [
          {
           "dtickrange": [
            null,
            1e-9
           ],
           "value": ".10s"
          },
          {
           "dtickrange": [
            1e-9,
            0.000001
           ],
           "value": ".7s"
          },
          {
           "dtickrange": [
            0.000001,
            0.001
           ],
           "value": ".4s"
          }
         ],
         "ticksuffix": "s",
         "title": {
          "text": "Time"
         }
        },
        "yaxis": {
         "anchor": "x",
         "autorange": true,
         "domain": [
          0,
          1
         ],
         "hoverformat": ".3s",
         "tickformat": ".2s",
         "ticksuffix": "V",
         "title": {
          "text": "flux"
         }
        }
       }
      },
      "text/html": [
       "<div>                            <div id=\"dd16e2e0-b13d-4a0b-a59f-cd7ab6e07616\" class=\"plotly-graph-div\" style=\"height:300px; width:1000px;\"></div>            <script type=\"text/javascript\">                require([\"plotly\"], function(Plotly) {                    window.PLOTLYENV=window.PLOTLYENV || {};                                    if (document.getElementById(\"dd16e2e0-b13d-4a0b-a59f-cd7ab6e07616\")) {                    Plotly.newPlot(                        \"dd16e2e0-b13d-4a0b-a59f-cd7ab6e07616\",                        [{\"fill\":\"tozeroy\",\"hoverinfo\":\"x+y+name\",\"hoverlabel\":{\"namelength\":-1},\"legendgroup\":\"0\",\"line\":{\"color\":\"#EF553B\"},\"mode\":\"lines\",\"name\":\"RampPulse, clock: q0.ro\",\"showlegend\":true,\"x\":[0.0,1e-9,2e-9,3.0000000000000004e-9,4e-9,5e-9,6.000000000000001e-9,7.000000000000001e-9,8e-9,9.000000000000001e-9,1e-8,1.1000000000000001e-8,1.2000000000000002e-8,1.3e-8,1.4000000000000001e-8,1.5000000000000002e-8,1.6e-8,1.7e-8,1.8000000000000002e-8,1.9e-8,2e-8,2.1000000000000003e-8,2.2000000000000002e-8,2.3e-8,2.4000000000000003e-8,2.5000000000000002e-8,2.6e-8,2.7e-8,2.8000000000000003e-8,2.9e-8,3.0000000000000004e-8,3.1e-8,3.2e-8,3.3000000000000004e-8,3.4e-8,3.5e-8,3.6000000000000005e-8,3.7e-8,3.8e-8,3.9000000000000005e-8,4e-8,4.1e-8,4.2000000000000006e-8,4.3e-8,4.4000000000000004e-8,4.5000000000000006e-8,4.6e-8,4.7000000000000004e-8,4.8000000000000006e-8,4.9e-8,5.0000000000000004e-8,5.1e-8,5.2e-8,5.3000000000000005e-8,5.4e-8,5.5e-8,5.6000000000000005e-8,5.7e-8,5.8e-8,5.9000000000000006e-8,6.000000000000001e-8,6.1e-8,6.2e-8,6.300000000000001e-8,6.4e-8,6.5e-8,6.600000000000001e-8,6.7e-8,6.8e-8,6.900000000000001e-8,7e-8,7.1e-8,7.200000000000001e-8,7.3e-8,7.4e-8,7.500000000000001e-8,7.6e-8,7.7e-8,7.800000000000001e-8,7.9e-8,8e-8,8.100000000000001e-8,8.2e-8,8.3e-8,8.400000000000001e-8,8.500000000000001e-8,8.6e-8,8.700000000000001e-8,8.800000000000001e-8,8.9e-8,9.000000000000001e-8,9.100000000000001e-8,9.2e-8,9.300000000000001e-8,9.400000000000001e-8,9.5e-8,9.600000000000001e-8,9.700000000000001e-8,9.8e-8,9.9e-8,1.0000000000000001e-7,1.01e-7,1.02e-7,1.0300000000000001e-7,1.04e-7,1.05e-7,1.0600000000000001e-7,1.07e-7,1.08e-7,1.0900000000000001e-7,1.1e-7,1.11e-7,1.1200000000000001e-7,1.13e-7,1.14e-7,1.1500000000000001e-7,1.16e-7,1.17e-7,1.1800000000000001e-7,1.1900000000000001e-7,1.2000000000000002e-7,1.21e-7,1.22e-7,1.23e-7,1.24e-7,1.2500000000000002e-7,1.2600000000000002e-7,1.27e-7,1.28e-7,1.29e-7,1.3e-7,1.31e-7,1.3200000000000002e-7,1.33e-7,1.34e-7,1.35e-7,1.36e-7,1.37e-7,1.3800000000000002e-7,1.3900000000000001e-7,1.4e-7,1.41e-7,1.42e-7,1.43e-7,1.4400000000000002e-7,1.4500000000000001e-7,1.46e-7,1.47e-7,1.48e-7,1.49e-7],\"y\":[0.0,-0.0001666666666666667,-0.0003333333333333334,-0.0005,-0.0006666666666666668,-0.0008333333333333335,-0.001,-0.0011666666666666668,-0.0013333333333333335,-0.0015000000000000002,-0.001666666666666667,-0.0018333333333333335,-0.002,-0.002166666666666667,-0.0023333333333333335,-0.0025000000000000005,-0.002666666666666667,-0.0028333333333333335,-0.0030000000000000005,-0.003166666666666667,-0.003333333333333334,-0.0035000000000000005,-0.003666666666666667,-0.003833333333333334,-0.004,-0.0041666666666666675,-0.004333333333333334,-0.0045000000000000005,-0.004666666666666667,-0.004833333333333334,-0.005000000000000001,-0.0051666666666666675,-0.005333333333333334,-0.0055000000000000005,-0.005666666666666667,-0.0058333333333333345,-0.006000000000000001,-0.0061666666666666675,-0.006333333333333334,-0.006500000000000001,-0.006666666666666668,-0.0068333333333333345,-0.007000000000000001,-0.0071666666666666675,-0.007333333333333334,-0.007500000000000001,-0.007666666666666668,-0.007833333333333335,-0.008,-0.008166666666666668,-0.008333333333333335,-0.0085,-0.008666666666666668,-0.008833333333333334,-0.009000000000000001,-0.009166666666666668,-0.009333333333333334,-0.009500000000000001,-0.009666666666666667,-0.009833333333333335,-0.010000000000000002,-0.010166666666666668,-0.010333333333333335,-0.0105,-0.010666666666666668,-0.010833333333333335,-0.011000000000000001,-0.011166666666666668,-0.011333333333333334,-0.011500000000000002,-0.011666666666666669,-0.011833333333333335,-0.012000000000000002,-0.012166666666666668,-0.012333333333333335,-0.012500000000000002,-0.012666666666666668,-0.012833333333333335,-0.013000000000000001,-0.013166666666666669,-0.013333333333333336,-0.013500000000000002,-0.013666666666666669,-0.013833333333333335,-0.014000000000000002,-0.014166666666666668,-0.014333333333333335,-0.014500000000000002,-0.014666666666666668,-0.014833333333333336,-0.015000000000000001,-0.015166666666666669,-0.015333333333333336,-0.015500000000000002,-0.01566666666666667,-0.015833333333333335,-0.016,-0.01616666666666667,-0.016333333333333335,-0.0165,-0.01666666666666667,-0.016833333333333336,-0.017,-0.01716666666666667,-0.017333333333333336,-0.0175,-0.017666666666666667,-0.017833333333333336,-0.018000000000000002,-0.018166666666666668,-0.018333333333333337,-0.018500000000000003,-0.018666666666666668,-0.018833333333333337,-0.019000000000000003,-0.01916666666666667,-0.019333333333333334,-0.019500000000000003,-0.01966666666666667,-0.019833333333333335,-0.020000000000000004,-0.02016666666666667,-0.020333333333333335,-0.020500000000000004,-0.02066666666666667,-0.020833333333333336,-0.021,-0.02116666666666667,-0.021333333333333336,-0.021500000000000002,-0.02166666666666667,-0.021833333333333337,-0.022000000000000002,-0.022166666666666668,-0.022333333333333337,-0.022500000000000003,-0.02266666666666667,-0.022833333333333337,-0.023000000000000003,-0.02316666666666667,-0.023333333333333338,-0.023500000000000004,-0.02366666666666667,-0.023833333333333335,-0.024000000000000004,-0.02416666666666667,-0.024333333333333335,-0.024500000000000004,-0.02466666666666667,-0.024833333333333336],\"type\":\"scatter\",\"xaxis\":\"x\",\"yaxis\":\"y\"},{\"fill\":\"tozeroy\",\"hoverinfo\":\"x+y+name\",\"hoverlabel\":{\"namelength\":-1},\"legendgroup\":\"1\",\"line\":{\"color\":\"#00CC96\"},\"mode\":\"lines\",\"name\":\"RampPulse, clock: q0.ro\",\"showlegend\":true,\"x\":[1.5e-7,1.51e-7,1.5199999999999998e-7,1.5299999999999998e-7,1.5399999999999998e-7,1.5499999999999997e-7,1.5599999999999997e-7,1.5699999999999996e-7,1.5799999999999996e-7,1.5899999999999995e-7,1.5999999999999995e-7,1.6099999999999995e-7,1.6199999999999994e-7,1.6299999999999994e-7,1.6399999999999993e-7,1.6499999999999993e-7,1.6599999999999992e-7,1.6699999999999992e-7,1.6799999999999992e-7,1.689999999999999e-7,1.699999999999999e-7,1.709999999999999e-7,1.719999999999999e-7,1.729999999999999e-7,1.739999999999999e-7,1.7499999999999989e-7,1.7599999999999988e-7,1.7699999999999988e-7,1.7799999999999987e-7,1.7899999999999987e-7,1.7999999999999986e-7,1.8099999999999986e-7,1.8199999999999986e-7,1.8299999999999985e-7,1.8399999999999985e-7,1.8499999999999984e-7,1.8599999999999984e-7,1.8699999999999983e-7,1.8799999999999983e-7,1.8899999999999983e-7,1.8999999999999982e-7,1.9099999999999982e-7,1.9199999999999981e-7,1.929999999999998e-7,1.939999999999998e-7,1.949999999999998e-7,1.959999999999998e-7,1.969999999999998e-7,1.979999999999998e-7,1.9899999999999978e-7,1.9999999999999978e-7,2.0099999999999977e-7,2.0199999999999977e-7,2.0299999999999977e-7,2.0399999999999976e-7,2.0499999999999976e-7,2.0599999999999975e-7,2.0699999999999975e-7,2.0799999999999974e-7,2.0899999999999974e-7,2.0999999999999974e-7,2.1099999999999973e-7,2.1199999999999973e-7,2.1299999999999972e-7,2.1399999999999972e-7,2.1499999999999971e-7,2.159999999999997e-7,2.169999999999997e-7,2.179999999999997e-7,2.189999999999997e-7,2.199999999999997e-7,2.209999999999997e-7,2.2199999999999969e-7,2.2299999999999968e-7,2.2399999999999968e-7,2.2499999999999967e-7,2.2599999999999967e-7,2.2699999999999966e-7,2.2799999999999966e-7,2.2899999999999966e-7,2.2999999999999965e-7,2.3099999999999965e-7,2.3199999999999964e-7,2.3299999999999964e-7,2.3399999999999963e-7,2.3499999999999963e-7,2.3599999999999963e-7,2.3699999999999962e-7,2.3799999999999962e-7,2.3899999999999964e-7,2.399999999999996e-7,2.409999999999996e-7,2.419999999999996e-7,2.429999999999996e-7,2.439999999999996e-7,2.4499999999999956e-7,2.459999999999996e-7,2.469999999999996e-7,2.479999999999996e-7,2.4899999999999954e-7,2.4999999999999957e-7,2.509999999999996e-7,2.5199999999999956e-7,2.529999999999995e-7,2.5399999999999955e-7,2.5499999999999957e-7,2.5599999999999954e-7,2.569999999999995e-7,2.5799999999999953e-7,2.5899999999999955e-7,2.599999999999995e-7,2.609999999999995e-7,2.619999999999995e-7,2.6299999999999954e-7,2.639999999999995e-7,2.649999999999995e-7,2.659999999999995e-7,2.669999999999995e-7,2.679999999999995e-7,2.6899999999999946e-7,2.699999999999995e-7,2.709999999999995e-7,2.7199999999999947e-7,2.7299999999999944e-7,2.7399999999999946e-7,2.749999999999995e-7,2.7599999999999945e-7,2.769999999999994e-7,2.7799999999999945e-7,2.7899999999999947e-7,2.7999999999999944e-7,2.809999999999994e-7,2.8199999999999943e-7,2.8299999999999945e-7,2.839999999999994e-7,2.849999999999994e-7,2.859999999999994e-7,2.8699999999999943e-7,2.879999999999994e-7,2.8899999999999937e-7,2.899999999999994e-7,2.909999999999994e-7,2.919999999999994e-7,2.9299999999999935e-7,2.939999999999994e-7,2.949999999999994e-7,2.9599999999999937e-7,2.9699999999999934e-7,2.9799999999999936e-7,2.989999999999994e-7,2.9999999999999935e-7,3.009999999999993e-7,3.0199999999999934e-7,3.0299999999999936e-7,3.0399999999999933e-7,3.049999999999993e-7,3.059999999999993e-7,3.0699999999999935e-7,3.079999999999993e-7,3.089999999999993e-7,3.099999999999993e-7,3.1099999999999933e-7,3.119999999999993e-7,3.1299999999999927e-7,3.139999999999993e-7,3.149999999999993e-7,3.159999999999993e-7,3.1699999999999925e-7,3.179999999999993e-7,3.189999999999993e-7,3.1999999999999927e-7,3.2099999999999923e-7,3.2199999999999926e-7,3.229999999999993e-7,3.2399999999999925e-7,3.249999999999992e-7,3.2599999999999924e-7,3.2699999999999926e-7,3.2799999999999923e-7,3.289999999999992e-7,3.299999999999992e-7,3.3099999999999924e-7,3.319999999999992e-7,3.329999999999992e-7,3.339999999999992e-7,3.3499999999999923e-7,3.359999999999992e-7,3.3699999999999917e-7,3.379999999999992e-7,3.389999999999992e-7,3.399999999999992e-7,3.4099999999999915e-7,3.4199999999999917e-7,3.429999999999992e-7,3.4399999999999916e-7,3.4499999999999913e-7,3.4599999999999915e-7,3.469999999999992e-7,3.4799999999999915e-7,3.489999999999991e-7,3.4999999999999914e-7,3.5099999999999916e-7,3.5199999999999913e-7,3.529999999999991e-7,3.539999999999991e-7,3.5499999999999914e-7,3.559999999999991e-7,3.569999999999991e-7,3.579999999999991e-7,3.589999999999991e-7,3.599999999999991e-7,3.6099999999999906e-7,3.619999999999991e-7,3.629999999999991e-7,3.639999999999991e-7,3.6499999999999905e-7,3.6599999999999907e-7,3.669999999999991e-7,3.6799999999999906e-7,3.6899999999999903e-7,3.6999999999999905e-7,3.709999999999991e-7,3.7199999999999904e-7,3.72999999999999e-7,3.7399999999999903e-7,3.7499999999999906e-7,3.75999999999999e-7,3.76999999999999e-7,3.77999999999999e-7,3.7899999999999904e-7,3.79999999999999e-7,3.80999999999999e-7,3.81999999999999e-7,3.82999999999999e-7,3.83999999999999e-7,3.8499999999999896e-7,3.85999999999999e-7,3.86999999999999e-7,3.87999999999999e-7,3.88999999999999e-7,3.8999999999999897e-7,3.9099999999999894e-7,3.9199999999999896e-7,3.92999999999999e-7,3.9399999999999895e-7,3.949999999999989e-7,3.9599999999999894e-7,3.9699999999999896e-7,3.9799999999999893e-7,3.989999999999989e-7,3.999999999999989e-7,4.0099999999999895e-7,4.019999999999989e-7,4.029999999999989e-7,4.039999999999989e-7,4.0499999999999893e-7,4.059999999999989e-7,4.0699999999999887e-7,4.079999999999989e-7,4.089999999999989e-7,4.099999999999989e-7,4.1099999999999885e-7,4.1199999999999887e-7,4.129999999999989e-7,4.1399999999999886e-7,4.1499999999999883e-7,4.1599999999999885e-7,4.169999999999989e-7,4.1799999999999885e-7,4.189999999999988e-7,4.1999999999999884e-7,4.2099999999999886e-7,4.2199999999999883e-7,4.229999999999988e-7,4.239999999999988e-7,4.2499999999999884e-7,4.259999999999988e-7,4.269999999999988e-7,4.279999999999988e-7,4.289999999999988e-7,4.299999999999988e-7,4.3099999999999876e-7,4.319999999999988e-7,4.329999999999988e-7,4.339999999999988e-7,4.3499999999999875e-7,4.3599999999999877e-7,4.369999999999988e-7,4.3799999999999876e-7,4.3899999999999873e-7,4.3999999999999875e-7,4.409999999999988e-7,4.4199999999999874e-7,4.429999999999987e-7,4.4399999999999873e-7,4.4499999999999876e-7,4.459999999999987e-7,4.469999999999987e-7,4.479999999999987e-7,4.4899999999999874e-7,4.499999999999987e-7,4.509999999999987e-7,4.519999999999987e-7,4.529999999999987e-7,4.539999999999987e-7,4.5499999999999866e-7,4.559999999999987e-7,4.569999999999987e-7,4.579999999999987e-7,4.5899999999999864e-7,4.5999999999999867e-7,4.609999999999987e-7,4.6199999999999866e-7,4.6299999999999863e-7,4.6399999999999865e-7,4.6499999999999867e-7,4.6599999999999864e-7,4.669999999999986e-7,4.6799999999999863e-7,4.6899999999999865e-7,4.699999999999986e-7,4.709999999999986e-7,4.719999999999986e-7,4.7299999999999864e-7,4.739999999999986e-7,4.749999999999986e-7,4.759999999999986e-7,4.769999999999986e-7,4.779999999999986e-7,4.789999999999985e-7,4.799999999999986e-7,4.809999999999987e-7,4.819999999999985e-7,4.829999999999986e-7,4.839999999999986e-7,4.849999999999985e-7,4.859999999999986e-7,4.869999999999985e-7,4.879999999999985e-7,4.889999999999986e-7,4.899999999999985e-7,4.909999999999986e-7,4.919999999999985e-7,4.929999999999985e-7,4.939999999999986e-7,4.949999999999984e-7,4.959999999999985e-7,4.969999999999986e-7,4.979999999999985e-7,4.989999999999985e-7,4.999999999999985e-7,5.009999999999985e-7,5.019999999999985e-7,5.029999999999984e-7,5.039999999999985e-7,5.049999999999986e-7,5.059999999999984e-7,5.069999999999985e-7,5.079999999999985e-7,5.089999999999984e-7,5.099999999999985e-7,5.109999999999984e-7,5.119999999999984e-7,5.129999999999985e-7,5.139999999999984e-7,5.149999999999985e-7,5.159999999999984e-7,5.169999999999984e-7,5.179999999999985e-7,5.189999999999983e-7,5.199999999999984e-7,5.209999999999985e-7,5.219999999999983e-7,5.229999999999984e-7,5.239999999999984e-7,5.249999999999984e-7,5.259999999999984e-7,5.269999999999983e-7,5.279999999999984e-7,5.289999999999985e-7,5.299999999999983e-7,5.309999999999984e-7,5.319999999999984e-7,5.329999999999983e-7,5.339999999999984e-7,5.349999999999983e-7,5.359999999999983e-7,5.369999999999984e-7,5.379999999999983e-7,5.389999999999984e-7,5.399999999999983e-7,5.409999999999983e-7,5.419999999999984e-7,5.429999999999982e-7,5.439999999999983e-7,5.449999999999984e-7,5.459999999999982e-7,5.469999999999983e-7,5.479999999999983e-7,5.489999999999983e-7,5.499999999999983e-7,5.509999999999982e-7,5.519999999999983e-7,5.529999999999983e-7,5.539999999999982e-7,5.549999999999983e-7,5.559999999999983e-7,5.569999999999982e-7,5.579999999999983e-7,5.589999999999982e-7,5.599999999999982e-7,5.609999999999983e-7,5.619999999999982e-7,5.629999999999983e-7,5.639999999999982e-7,5.649999999999982e-7,5.659999999999983e-7,5.669999999999981e-7,5.679999999999982e-7,5.689999999999983e-7,5.699999999999981e-7,5.709999999999982e-7,5.719999999999982e-7,5.729999999999982e-7,5.739999999999982e-7,5.749999999999981e-7,5.759999999999982e-7,5.769999999999982e-7,5.779999999999981e-7,5.789999999999982e-7,5.799999999999982e-7,5.809999999999981e-7,5.819999999999982e-7,5.829999999999981e-7,5.839999999999981e-7,5.849999999999982e-7,5.859999999999981e-7,5.869999999999981e-7,5.879999999999981e-7,5.889999999999981e-7,5.899999999999982e-7,5.90999999999998e-7,5.919999999999981e-7,5.929999999999982e-7,5.93999999999998e-7,5.949999999999981e-7,5.959999999999981e-7,5.969999999999981e-7,5.979999999999981e-7,5.98999999999998e-7,5.999999999999981e-7,6.009999999999981e-7,6.01999999999998e-7,6.029999999999981e-7,6.03999999999998e-7,6.04999999999998e-7,6.059999999999981e-7,6.06999999999998e-7,6.07999999999998e-7,6.089999999999981e-7,6.09999999999998e-7,6.10999999999998e-7,6.11999999999998e-7,6.12999999999998e-7,6.139999999999981e-7,6.149999999999979e-7,6.15999999999998e-7,6.169999999999981e-7,6.179999999999979e-7,6.18999999999998e-7,6.19999999999998e-7,6.20999999999998e-7,6.21999999999998e-7,6.229999999999979e-7,6.23999999999998e-7,6.24999999999998e-7,6.259999999999979e-7,6.26999999999998e-7,6.279999999999981e-7,6.289999999999979e-7,6.29999999999998e-7,6.309999999999979e-7,6.319999999999979e-7,6.32999999999998e-7,6.339999999999979e-7,6.349999999999979e-7,6.35999999999998e-7,6.369999999999979e-7,6.37999999999998e-7,6.389999999999978e-7,6.399999999999979e-7,6.40999999999998e-7,6.419999999999978e-7,6.429999999999979e-7,6.43999999999998e-7,6.449999999999978e-7,6.459999999999979e-7,6.469999999999978e-7,6.479999999999979e-7,6.489999999999979e-7,6.499999999999978e-7,6.509999999999979e-7,6.51999999999998e-7,6.529999999999978e-7,6.539999999999979e-7,6.549999999999978e-7,6.559999999999978e-7,6.569999999999979e-7,6.579999999999978e-7,6.589999999999978e-7,6.599999999999979e-7,6.609999999999978e-7,6.619999999999979e-7,6.629999999999977e-7,6.639999999999978e-7,6.649999999999979e-7,6.659999999999977e-7,6.669999999999978e-7,6.679999999999979e-7,6.689999999999977e-7,6.699999999999978e-7,6.709999999999977e-7,6.719999999999978e-7,6.729999999999978e-7,6.739999999999977e-7,6.749999999999978e-7,6.759999999999978e-7,6.769999999999977e-7,6.779999999999978e-7,6.789999999999976e-7,6.799999999999977e-7,6.809999999999978e-7,6.819999999999977e-7,6.829999999999977e-7,6.839999999999978e-7,6.849999999999977e-7,6.859999999999978e-7,6.869999999999976e-7,6.879999999999977e-7,6.889999999999978e-7,6.899999999999976e-7,6.909999999999977e-7,6.919999999999978e-7,6.929999999999976e-7,6.939999999999977e-7,6.949999999999976e-7,6.959999999999977e-7,6.969999999999977e-7,6.979999999999976e-7,6.989999999999977e-7,6.999999999999977e-7,7.009999999999976e-7,7.019999999999977e-7,7.029999999999975e-7,7.039999999999976e-7,7.049999999999977e-7,7.059999999999976e-7,7.069999999999976e-7,7.079999999999977e-7,7.089999999999976e-7,7.099999999999976e-7,7.109999999999975e-7,7.119999999999976e-7,7.129999999999977e-7,7.139999999999975e-7,7.149999999999976e-7,7.159999999999977e-7,7.169999999999975e-7,7.179999999999976e-7,7.189999999999975e-7,7.199999999999976e-7,7.209999999999976e-7,7.219999999999975e-7,7.229999999999976e-7,7.239999999999976e-7,7.249999999999975e-7,7.259999999999976e-7,7.269999999999974e-7,7.279999999999975e-7,7.289999999999976e-7,7.299999999999975e-7,7.309999999999975e-7,7.319999999999976e-7,7.329999999999975e-7,7.339999999999975e-7,7.349999999999974e-7,7.359999999999975e-7,7.369999999999976e-7,7.379999999999974e-7,7.389999999999975e-7,7.399999999999976e-7,7.409999999999974e-7,7.419999999999975e-7,7.429999999999974e-7,7.439999999999975e-7,7.449999999999975e-7,7.459999999999974e-7,7.469999999999975e-7,7.479999999999975e-7,7.489999999999974e-7],\"y\":[0.025,0.024989583333333336,0.024979166666666667,0.02496875,0.024958333333333336,0.024947916666666667,0.0249375,0.024927083333333336,0.024916666666666667,0.02490625,0.024895833333333336,0.024885416666666667,0.024875,0.024864583333333336,0.024854166666666667,0.02484375,0.024833333333333336,0.024822916666666667,0.0248125,0.024802083333333336,0.024791666666666667,0.02478125,0.024770833333333336,0.024760416666666667,0.02475,0.024739583333333336,0.024729166666666667,0.02471875,0.024708333333333336,0.024697916666666667,0.0246875,0.024677083333333336,0.024666666666666667,0.02465625,0.024645833333333336,0.024635416666666667,0.024625,0.024614583333333336,0.024604166666666667,0.02459375,0.024583333333333336,0.024572916666666667,0.0245625,0.024552083333333335,0.024541666666666666,0.02453125,0.024520833333333335,0.024510416666666666,0.0245,0.024489583333333335,0.02447916666666667,0.02446875,0.024458333333333335,0.024447916666666666,0.0244375,0.024427083333333335,0.02441666666666667,0.02440625,0.024395833333333335,0.02438541666666667,0.024375,0.024364583333333335,0.02435416666666667,0.02434375,0.024333333333333335,0.02432291666666667,0.0243125,0.024302083333333335,0.02429166666666667,0.02428125,0.024270833333333335,0.02426041666666667,0.02425,0.024239583333333335,0.02422916666666667,0.02421875,0.024208333333333335,0.02419791666666667,0.0241875,0.024177083333333335,0.02416666666666667,0.02415625,0.024145833333333335,0.02413541666666667,0.024125,0.024114583333333335,0.02410416666666667,0.02409375,0.024083333333333335,0.02407291666666667,0.0240625,0.024052083333333335,0.02404166666666667,0.02403125,0.024020833333333335,0.02401041666666667,0.024,0.023989583333333335,0.02397916666666667,0.02396875,0.023958333333333335,0.02394791666666667,0.0239375,0.023927083333333335,0.02391666666666667,0.02390625,0.023895833333333335,0.02388541666666667,0.023875,0.023864583333333335,0.02385416666666667,0.02384375,0.023833333333333335,0.02382291666666667,0.0238125,0.023802083333333335,0.02379166666666667,0.02378125,0.023770833333333335,0.02376041666666667,0.02375,0.023739583333333335,0.02372916666666667,0.02371875,0.023708333333333335,0.02369791666666667,0.0236875,0.023677083333333335,0.02366666666666667,0.02365625,0.023645833333333335,0.02363541666666667,0.023625,0.023614583333333335,0.02360416666666667,0.02359375,0.023583333333333335,0.02357291666666667,0.0235625,0.023552083333333335,0.02354166666666667,0.02353125,0.023520833333333335,0.02351041666666667,0.0235,0.023489583333333335,0.02347916666666667,0.023468750000000003,0.023458333333333335,0.02344791666666667,0.0234375,0.023427083333333334,0.02341666666666667,0.023406250000000003,0.023395833333333334,0.02338541666666667,0.023375,0.023364583333333334,0.02335416666666667,0.023343750000000003,0.023333333333333334,0.02332291666666667,0.0233125,0.023302083333333334,0.02329166666666667,0.023281250000000003,0.023270833333333334,0.02326041666666667,0.023250000000000003,0.023239583333333334,0.02322916666666667,0.023218750000000003,0.023208333333333334,0.02319791666666667,0.023187500000000003,0.023177083333333334,0.02316666666666667,0.023156250000000003,0.023145833333333334,0.02313541666666667,0.023125000000000003,0.023114583333333334,0.02310416666666667,0.023093750000000003,0.023083333333333334,0.02307291666666667,0.023062500000000003,0.023052083333333334,0.02304166666666667,0.023031250000000003,0.023020833333333334,0.02301041666666667,0.023000000000000003,0.022989583333333334,0.02297916666666667,0.022968750000000003,0.022958333333333334,0.02294791666666667,0.022937500000000003,0.022927083333333334,0.02291666666666667,0.022906250000000003,0.022895833333333334,0.02288541666666667,0.022875000000000003,0.022864583333333334,0.02285416666666667,0.022843750000000003,0.022833333333333334,0.02282291666666667,0.022812500000000003,0.022802083333333334,0.02279166666666667,0.022781250000000003,0.022770833333333334,0.02276041666666667,0.022750000000000003,0.022739583333333334,0.02272916666666667,0.022718750000000003,0.022708333333333334,0.02269791666666667,0.022687500000000003,0.022677083333333334,0.02266666666666667,0.022656250000000003,0.022645833333333334,0.02263541666666667,0.022625000000000003,0.022614583333333334,0.022604166666666668,0.022593750000000003,0.022583333333333334,0.022572916666666668,0.022562500000000003,0.022552083333333334,0.022541666666666668,0.022531250000000003,0.022520833333333337,0.022510416666666668,0.022500000000000003,0.022489583333333334,0.022479166666666668,0.022468750000000003,0.022458333333333337,0.022447916666666668,0.022437500000000003,0.022427083333333334,0.022416666666666668,0.022406250000000003,0.022395833333333337,0.022385416666666668,0.022375000000000003,0.022364583333333334,0.022354166666666668,0.022343750000000002,0.022333333333333337,0.022322916666666668,0.022312500000000002,0.022302083333333333,0.022291666666666668,0.022281250000000002,0.022270833333333337,0.022260416666666668,0.022250000000000002,0.022239583333333333,0.022229166666666668,0.022218750000000002,0.022208333333333337,0.022197916666666668,0.022187500000000002,0.022177083333333333,0.022166666666666668,0.022156250000000002,0.022145833333333337,0.022135416666666668,0.022125000000000002,0.022114583333333337,0.022104166666666668,0.022093750000000002,0.022083333333333337,0.022072916666666668,0.022062500000000002,0.022052083333333337,0.022041666666666668,0.022031250000000002,0.022020833333333337,0.022010416666666668,0.022000000000000002,0.021989583333333337,0.021979166666666668,0.021968750000000002,0.021958333333333337,0.021947916666666668,0.021937500000000002,0.021927083333333337,0.021916666666666668,0.021906250000000002,0.021895833333333337,0.021885416666666668,0.021875000000000002,0.021864583333333337,0.021854166666666668,0.021843750000000002,0.021833333333333337,0.021822916666666668,0.021812500000000002,0.021802083333333337,0.021791666666666668,0.021781250000000002,0.021770833333333336,0.021760416666666667,0.021750000000000002,0.021739583333333336,0.021729166666666667,0.021718750000000002,0.021708333333333336,0.021697916666666667,0.021687500000000002,0.021677083333333336,0.021666666666666667,0.021656250000000002,0.021645833333333336,0.021635416666666667,0.021625000000000002,0.021614583333333336,0.021604166666666667,0.021593750000000002,0.021583333333333336,0.021572916666666667,0.021562500000000002,0.021552083333333336,0.021541666666666667,0.021531250000000002,0.021520833333333336,0.021510416666666667,0.021500000000000002,0.021489583333333336,0.021479166666666667,0.02146875,0.021458333333333336,0.02144791666666667,0.0214375,0.021427083333333336,0.021416666666666667,0.02140625,0.021395833333333336,0.02138541666666667,0.021375,0.021364583333333336,0.021354166666666667,0.02134375,0.021333333333333336,0.02132291666666667,0.0213125,0.021302083333333336,0.021291666666666667,0.02128125,0.021270833333333336,0.02126041666666667,0.02125,0.021239583333333336,0.021229166666666667,0.02121875,0.021208333333333336,0.02119791666666667,0.0211875,0.021177083333333336,0.021166666666666667,0.02115625,0.021145833333333336,0.02113541666666667,0.021125,0.021114583333333336,0.021104166666666667,0.02109375,0.021083333333333336,0.02107291666666667,0.0210625,0.021052083333333336,0.021041666666666667,0.02103125,0.021020833333333336,0.02101041666666667,0.021,0.020989583333333336,0.020979166666666667,0.02096875,0.020958333333333336,0.02094791666666667,0.0209375,0.020927083333333336,0.020916666666666667,0.02090625,0.020895833333333336,0.02088541666666667,0.020875,0.020864583333333336,0.02085416666666667,0.02084375,0.020833333333333336,0.02082291666666667,0.0208125,0.020802083333333336,0.02079166666666667,0.02078125,0.020770833333333336,0.02076041666666667,0.02075,0.020739583333333336,0.02072916666666667,0.02071875,0.020708333333333336,0.02069791666666667,0.0206875,0.020677083333333336,0.02066666666666667,0.02065625,0.020645833333333335,0.02063541666666667,0.020625,0.020614583333333335,0.02060416666666667,0.02059375,0.020583333333333335,0.02057291666666667,0.020562500000000004,0.020552083333333335,0.02054166666666667,0.02053125,0.020520833333333335,0.02051041666666667,0.020500000000000004,0.020489583333333335,0.02047916666666667,0.02046875,0.020458333333333335,0.02044791666666667,0.020437500000000004,0.020427083333333335,0.02041666666666667,0.02040625,0.020395833333333335,0.02038541666666667,0.020375000000000004,0.020364583333333335,0.02035416666666667,0.02034375,0.020333333333333335,0.02032291666666667,0.020312500000000004,0.020302083333333335,0.02029166666666667,0.02028125,0.020270833333333335,0.02026041666666667,0.020250000000000004,0.020239583333333335,0.02022916666666667,0.02021875,0.020208333333333335,0.02019791666666667,0.020187500000000004,0.020177083333333335,0.02016666666666667,0.02015625,0.020145833333333335,0.02013541666666667,0.020125000000000004,0.020114583333333335,0.02010416666666667,0.02009375,0.020083333333333335,0.02007291666666667,0.020062500000000004,0.020052083333333335,0.02004166666666667,0.02003125,0.020020833333333335,0.02001041666666667,0.020000000000000004,0.019989583333333335,0.01997916666666667,0.01996875,0.019958333333333335,0.01994791666666667,0.019937500000000004,0.019927083333333335,0.01991666666666667,0.01990625,0.019895833333333335,0.01988541666666667,0.019875000000000004,0.019864583333333335,0.01985416666666667,0.01984375,0.019833333333333335,0.01982291666666667,0.019812500000000004,0.019802083333333335,0.01979166666666667,0.019781250000000004,0.019770833333333335,0.01976041666666667,0.019750000000000004,0.019739583333333335,0.01972916666666667,0.019718750000000004,0.019708333333333335,0.01969791666666667,0.019687500000000004,0.019677083333333335,0.01966666666666667,0.019656250000000004,0.019645833333333335,0.01963541666666667,0.019625000000000004,0.019614583333333335,0.01960416666666667,0.019593750000000004,0.019583333333333335,0.01957291666666667,0.019562500000000003,0.019552083333333335,0.01954166666666667,0.019531250000000003,0.019520833333333334,0.01951041666666667,0.019500000000000003,0.019489583333333338,0.01947916666666667,0.019468750000000003,0.019458333333333334,0.01944791666666667,0.019437500000000003,0.019427083333333338,0.01941666666666667,0.019406250000000003,0.019395833333333334,0.01938541666666667,0.019375000000000003,0.019364583333333338,0.01935416666666667,0.019343750000000003,0.019333333333333334,0.01932291666666667,0.019312500000000003,0.019302083333333338,0.01929166666666667,0.019281250000000003,0.019270833333333334,0.01926041666666667,0.019250000000000003,0.019239583333333338,0.01922916666666667,0.019218750000000003,0.019208333333333334,0.01919791666666667,0.019187500000000003,0.019177083333333338,0.01916666666666667,0.019156250000000003,0.019145833333333334,0.01913541666666667,0.019125000000000003,0.019114583333333338,0.01910416666666667,0.019093750000000003,0.019083333333333334,0.01907291666666667,0.019062500000000003,0.019052083333333338,0.01904166666666667,0.019031250000000003,0.019020833333333334,0.01901041666666667,0.019000000000000003,0.018989583333333337,0.01897916666666667,0.018968750000000003,0.018958333333333334,0.01894791666666667,0.018937500000000003,0.018927083333333337,0.01891666666666667,0.018906250000000003,0.018895833333333334,0.01888541666666667,0.018875000000000003,0.018864583333333337,0.01885416666666667,0.018843750000000003,0.018833333333333334,0.01882291666666667,0.018812500000000003,0.018802083333333337,0.01879166666666667,0.018781250000000003,0.018770833333333334,0.01876041666666667],\"type\":\"scatter\",\"xaxis\":\"x\",\"yaxis\":\"y\"}],                        {\"template\":{\"data\":{\"histogram2dcontour\":[{\"type\":\"histogram2dcontour\",\"colorbar\":{\"outlinewidth\":0,\"ticks\":\"\"},\"colorscale\":[[0.0,\"#0d0887\"],[0.1111111111111111,\"#46039f\"],[0.2222222222222222,\"#7201a8\"],[0.3333333333333333,\"#9c179e\"],[0.4444444444444444,\"#bd3786\"],[0.5555555555555556,\"#d8576b\"],[0.6666666666666666,\"#ed7953\"],[0.7777777777777778,\"#fb9f3a\"],[0.8888888888888888,\"#fdca26\"],[1.0,\"#f0f921\"]]}],\"choropleth\":[{\"type\":\"choropleth\",\"colorbar\":{\"outlinewidth\":0,\"ticks\":\"\"}}],\"histogram2d\":[{\"type\":\"histogram2d\",\"colorbar\":{\"outlinewidth\":0,\"ticks\":\"\"},\"colorscale\":[[0.0,\"#0d0887\"],[0.1111111111111111,\"#46039f\"],[0.2222222222222222,\"#7201a8\"],[0.3333333333333333,\"#9c179e\"],[0.4444444444444444,\"#bd3786\"],[0.5555555555555556,\"#d8576b\"],[0.6666666666666666,\"#ed7953\"],[0.7777777777777778,\"#fb9f3a\"],[0.8888888888888888,\"#fdca26\"],[1.0,\"#f0f921\"]]}],\"heatmap\":[{\"type\":\"heatmap\",\"colorbar\":{\"outlinewidth\":0,\"ticks\":\"\"},\"colorscale\":[[0.0,\"#0d0887\"],[0.1111111111111111,\"#46039f\"],[0.2222222222222222,\"#7201a8\"],[0.3333333333333333,\"#9c179e\"],[0.4444444444444444,\"#bd3786\"],[0.5555555555555556,\"#d8576b\"],[0.6666666666666666,\"#ed7953\"],[0.7777777777777778,\"#fb9f3a\"],[0.8888888888888888,\"#fdca26\"],[1.0,\"#f0f921\"]]}],\"heatmapgl\":[{\"type\":\"heatmapgl\",\"colorbar\":{\"outlinewidth\":0,\"ticks\":\"\"},\"colorscale\":[[0.0,\"#0d0887\"],[0.1111111111111111,\"#46039f\"],[0.2222222222222222,\"#7201a8\"],[0.3333333333333333,\"#9c179e\"],[0.4444444444444444,\"#bd3786\"],[0.5555555555555556,\"#d8576b\"],[0.6666666666666666,\"#ed7953\"],[0.7777777777777778,\"#fb9f3a\"],[0.8888888888888888,\"#fdca26\"],[1.0,\"#f0f921\"]]}],\"contourcarpet\":[{\"type\":\"contourcarpet\",\"colorbar\":{\"outlinewidth\":0,\"ticks\":\"\"}}],\"contour\":[{\"type\":\"contour\",\"colorbar\":{\"outlinewidth\":0,\"ticks\":\"\"},\"colorscale\":[[0.0,\"#0d0887\"],[0.1111111111111111,\"#46039f\"],[0.2222222222222222,\"#7201a8\"],[0.3333333333333333,\"#9c179e\"],[0.4444444444444444,\"#bd3786\"],[0.5555555555555556,\"#d8576b\"],[0.6666666666666666,\"#ed7953\"],[0.7777777777777778,\"#fb9f3a\"],[0.8888888888888888,\"#fdca26\"],[1.0,\"#f0f921\"]]}],\"surface\":[{\"type\":\"surface\",\"colorbar\":{\"outlinewidth\":0,\"ticks\":\"\"},\"colorscale\":[[0.0,\"#0d0887\"],[0.1111111111111111,\"#46039f\"],[0.2222222222222222,\"#7201a8\"],[0.3333333333333333,\"#9c179e\"],[0.4444444444444444,\"#bd3786\"],[0.5555555555555556,\"#d8576b\"],[0.6666666666666666,\"#ed7953\"],[0.7777777777777778,\"#fb9f3a\"],[0.8888888888888888,\"#fdca26\"],[1.0,\"#f0f921\"]]}],\"mesh3d\":[{\"type\":\"mesh3d\",\"colorbar\":{\"outlinewidth\":0,\"ticks\":\"\"}}],\"scatter\":[{\"fillpattern\":{\"fillmode\":\"overlay\",\"size\":10,\"solidity\":0.2},\"type\":\"scatter\"}],\"parcoords\":[{\"type\":\"parcoords\",\"line\":{\"colorbar\":{\"outlinewidth\":0,\"ticks\":\"\"}}}],\"scatterpolargl\":[{\"type\":\"scatterpolargl\",\"marker\":{\"colorbar\":{\"outlinewidth\":0,\"ticks\":\"\"}}}],\"bar\":[{\"error_x\":{\"color\":\"#2a3f5f\"},\"error_y\":{\"color\":\"#2a3f5f\"},\"marker\":{\"line\":{\"color\":\"#E5ECF6\",\"width\":0.5},\"pattern\":{\"fillmode\":\"overlay\",\"size\":10,\"solidity\":0.2}},\"type\":\"bar\"}],\"scattergeo\":[{\"type\":\"scattergeo\",\"marker\":{\"colorbar\":{\"outlinewidth\":0,\"ticks\":\"\"}}}],\"scatterpolar\":[{\"type\":\"scatterpolar\",\"marker\":{\"colorbar\":{\"outlinewidth\":0,\"ticks\":\"\"}}}],\"histogram\":[{\"marker\":{\"pattern\":{\"fillmode\":\"overlay\",\"size\":10,\"solidity\":0.2}},\"type\":\"histogram\"}],\"scattergl\":[{\"type\":\"scattergl\",\"marker\":{\"colorbar\":{\"outlinewidth\":0,\"ticks\":\"\"}}}],\"scatter3d\":[{\"type\":\"scatter3d\",\"line\":{\"colorbar\":{\"outlinewidth\":0,\"ticks\":\"\"}},\"marker\":{\"colorbar\":{\"outlinewidth\":0,\"ticks\":\"\"}}}],\"scattermapbox\":[{\"type\":\"scattermapbox\",\"marker\":{\"colorbar\":{\"outlinewidth\":0,\"ticks\":\"\"}}}],\"scatterternary\":[{\"type\":\"scatterternary\",\"marker\":{\"colorbar\":{\"outlinewidth\":0,\"ticks\":\"\"}}}],\"scattercarpet\":[{\"type\":\"scattercarpet\",\"marker\":{\"colorbar\":{\"outlinewidth\":0,\"ticks\":\"\"}}}],\"carpet\":[{\"aaxis\":{\"endlinecolor\":\"#2a3f5f\",\"gridcolor\":\"white\",\"linecolor\":\"white\",\"minorgridcolor\":\"white\",\"startlinecolor\":\"#2a3f5f\"},\"baxis\":{\"endlinecolor\":\"#2a3f5f\",\"gridcolor\":\"white\",\"linecolor\":\"white\",\"minorgridcolor\":\"white\",\"startlinecolor\":\"#2a3f5f\"},\"type\":\"carpet\"}],\"table\":[{\"cells\":{\"fill\":{\"color\":\"#EBF0F8\"},\"line\":{\"color\":\"white\"}},\"header\":{\"fill\":{\"color\":\"#C8D4E3\"},\"line\":{\"color\":\"white\"}},\"type\":\"table\"}],\"barpolar\":[{\"marker\":{\"line\":{\"color\":\"#E5ECF6\",\"width\":0.5},\"pattern\":{\"fillmode\":\"overlay\",\"size\":10,\"solidity\":0.2}},\"type\":\"barpolar\"}],\"pie\":[{\"automargin\":true,\"type\":\"pie\"}]},\"layout\":{\"autotypenumbers\":\"strict\",\"colorway\":[\"#636efa\",\"#EF553B\",\"#00cc96\",\"#ab63fa\",\"#FFA15A\",\"#19d3f3\",\"#FF6692\",\"#B6E880\",\"#FF97FF\",\"#FECB52\"],\"font\":{\"color\":\"#2a3f5f\"},\"hovermode\":\"closest\",\"hoverlabel\":{\"align\":\"left\"},\"paper_bgcolor\":\"white\",\"plot_bgcolor\":\"#E5ECF6\",\"polar\":{\"bgcolor\":\"#E5ECF6\",\"angularaxis\":{\"gridcolor\":\"white\",\"linecolor\":\"white\",\"ticks\":\"\"},\"radialaxis\":{\"gridcolor\":\"white\",\"linecolor\":\"white\",\"ticks\":\"\"}},\"ternary\":{\"bgcolor\":\"#E5ECF6\",\"aaxis\":{\"gridcolor\":\"white\",\"linecolor\":\"white\",\"ticks\":\"\"},\"baxis\":{\"gridcolor\":\"white\",\"linecolor\":\"white\",\"ticks\":\"\"},\"caxis\":{\"gridcolor\":\"white\",\"linecolor\":\"white\",\"ticks\":\"\"}},\"coloraxis\":{\"colorbar\":{\"outlinewidth\":0,\"ticks\":\"\"}},\"colorscale\":{\"sequential\":[[0.0,\"#0d0887\"],[0.1111111111111111,\"#46039f\"],[0.2222222222222222,\"#7201a8\"],[0.3333333333333333,\"#9c179e\"],[0.4444444444444444,\"#bd3786\"],[0.5555555555555556,\"#d8576b\"],[0.6666666666666666,\"#ed7953\"],[0.7777777777777778,\"#fb9f3a\"],[0.8888888888888888,\"#fdca26\"],[1.0,\"#f0f921\"]],\"sequentialminus\":[[0.0,\"#0d0887\"],[0.1111111111111111,\"#46039f\"],[0.2222222222222222,\"#7201a8\"],[0.3333333333333333,\"#9c179e\"],[0.4444444444444444,\"#bd3786\"],[0.5555555555555556,\"#d8576b\"],[0.6666666666666666,\"#ed7953\"],[0.7777777777777778,\"#fb9f3a\"],[0.8888888888888888,\"#fdca26\"],[1.0,\"#f0f921\"]],\"diverging\":[[0,\"#8e0152\"],[0.1,\"#c51b7d\"],[0.2,\"#de77ae\"],[0.3,\"#f1b6da\"],[0.4,\"#fde0ef\"],[0.5,\"#f7f7f7\"],[0.6,\"#e6f5d0\"],[0.7,\"#b8e186\"],[0.8,\"#7fbc41\"],[0.9,\"#4d9221\"],[1,\"#276419\"]]},\"xaxis\":{\"gridcolor\":\"white\",\"linecolor\":\"white\",\"ticks\":\"\",\"title\":{\"standoff\":15},\"zerolinecolor\":\"white\",\"automargin\":true,\"zerolinewidth\":2},\"yaxis\":{\"gridcolor\":\"white\",\"linecolor\":\"white\",\"ticks\":\"\",\"title\":{\"standoff\":15},\"zerolinecolor\":\"white\",\"automargin\":true,\"zerolinewidth\":2},\"scene\":{\"xaxis\":{\"backgroundcolor\":\"#E5ECF6\",\"gridcolor\":\"white\",\"linecolor\":\"white\",\"showbackground\":true,\"ticks\":\"\",\"zerolinecolor\":\"white\",\"gridwidth\":2},\"yaxis\":{\"backgroundcolor\":\"#E5ECF6\",\"gridcolor\":\"white\",\"linecolor\":\"white\",\"showbackground\":true,\"ticks\":\"\",\"zerolinecolor\":\"white\",\"gridwidth\":2},\"zaxis\":{\"backgroundcolor\":\"#E5ECF6\",\"gridcolor\":\"white\",\"linecolor\":\"white\",\"showbackground\":true,\"ticks\":\"\",\"zerolinecolor\":\"white\",\"gridwidth\":2}},\"shapedefaults\":{\"line\":{\"color\":\"#2a3f5f\"}},\"annotationdefaults\":{\"arrowcolor\":\"#2a3f5f\",\"arrowhead\":0,\"arrowwidth\":1},\"geo\":{\"bgcolor\":\"white\",\"landcolor\":\"#E5ECF6\",\"subunitcolor\":\"white\",\"showland\":true,\"showlakes\":true,\"lakecolor\":\"white\"},\"title\":{\"x\":0.05},\"mapbox\":{\"style\":\"light\"}}},\"xaxis\":{\"anchor\":\"y\",\"domain\":[0.0,1.0],\"tickformat\":\".2s\",\"hoverformat\":\".3s\",\"ticksuffix\":\"s\",\"showgrid\":true,\"title\":{\"text\":\"Time\"},\"tickformatstops\":[{\"dtickrange\":[null,1e-9],\"value\":\".10s\"},{\"dtickrange\":[1e-9,1e-6],\"value\":\".7s\"},{\"dtickrange\":[1e-6,0.001],\"value\":\".4s\"}]},\"yaxis\":{\"anchor\":\"x\",\"domain\":[0.0,1.0],\"tickformat\":\".2s\",\"hoverformat\":\".3s\",\"ticksuffix\":\"V\",\"title\":{\"text\":\"flux\"},\"autorange\":true},\"height\":300,\"width\":1000,\"title\":{\"text\":\"Qubit Reset - Full Schedule\"},\"showlegend\":false},                        {\"responsive\": true}                    ).then(function(){\n",
       "                            \n",
       "var gd = document.getElementById('dd16e2e0-b13d-4a0b-a59f-cd7ab6e07616');\n",
       "var x = new MutationObserver(function (mutations, observer) {{\n",
       "        var display = window.getComputedStyle(gd).display;\n",
       "        if (!display || display === 'none') {{\n",
       "            console.log([gd, 'removed!']);\n",
       "            Plotly.purge(gd);\n",
       "            observer.disconnect();\n",
       "        }}\n",
       "}});\n",
       "\n",
       "// Listen for the removal of the full notebook cells\n",
       "var notebookContainer = gd.closest('#notebook-container');\n",
       "if (notebookContainer) {{\n",
       "    x.observe(notebookContainer, {childList: true});\n",
       "}}\n",
       "\n",
       "// Listen for the clearing of the current output cell\n",
       "var outputEl = gd.closest('.output');\n",
       "if (outputEl) {{\n",
       "    x.observe(outputEl, {childList: true});\n",
       "}}\n",
       "\n",
       "                        })                };                });            </script>        </div>"
      ]
     },
     "metadata": {},
     "output_type": "display_data"
    }
   ],
   "source": [
    "sched = Schedule(\"Qubit Reset - Full Schedule\")\n",
    "\n",
    "readout_clock = ClockResource(name=\"q0.ro\", freq=0e9)\n",
    "sched.add_resource(readout_clock)\n",
    "\n",
    "qc_t = 150e-9\n",
    "cr_t = 600e-9\n",
    "qc_amp = -0.025\n",
    "target_duration = 100e-9\n",
    "# target_amp = qc_t / target_duration * qc_amp \n",
    "\n",
    "sched.add(\n",
    "    RampPulse(offset=0, amp=qc_amp, duration=qc_t, port=\"flux\", clock=\"q0.ro\")\n",
    ")\n",
    "sched.add(\n",
    "    RampPulse(offset=-qc_amp, amp=qc_amp/4, duration=cr_t, port=\"flux\", clock=\"q0.ro\")\n",
    ")\n",
    "# sched.add(\n",
    "#     RampPulse(offset=qc_amp, amp=-qc_amp, duration=qc_t, port=\"flux\", clock=\"q0.ro\")\n",
    "# )\n",
    "# sched.add(\n",
    "#     RampPulse(offset=qc_amp, amp=0, duration=qc_t, port=\"flux\", clock=\"q0.ro\")\n",
    "# )\n",
    "# sched.add(\n",
    "#     RampPulse(offset=0, amp=qc_amp, duration=qc_t, port=\"flux\", clock=\"q0.ro\")\n",
    "# )\n",
    "\n",
    "comp_sched = device_compiler.compile(sched)\n",
    "comp_sched.plot_pulse_diagram(plot_backend=\"plotly\")"
   ]
  },
  {
   "cell_type": "code",
   "execution_count": 8,
   "id": "54ce04af",
   "metadata": {},
   "outputs": [
    {
     "data": {
      "application/vnd.plotly.v1+json": {
       "config": {
        "plotlyServerURL": "https://plot.ly"
       },
       "data": [
        {
         "fill": "tozeroy",
         "hoverinfo": "x+y+name",
         "hoverlabel": {
          "namelength": -1
         },
         "legendgroup": "0",
         "line": {
          "color": "#EF553B"
         },
         "mode": "lines",
         "name": "RampPulse, clock: q0.ro",
         "showlegend": true,
         "type": "scatter",
         "x": [
          0,
          1e-9,
          2e-9,
          3.0000000000000004e-9,
          4e-9,
          5e-9,
          6.000000000000001e-9,
          7.000000000000001e-9,
          8e-9,
          9.000000000000001e-9,
          1e-8,
          1.1000000000000001e-8,
          1.2000000000000002e-8,
          1.3e-8,
          1.4000000000000001e-8,
          1.5000000000000002e-8,
          1.6e-8,
          1.7e-8,
          1.8000000000000002e-8,
          1.9e-8,
          2e-8,
          2.1000000000000003e-8,
          2.2000000000000002e-8,
          2.3e-8,
          2.4000000000000003e-8,
          2.5000000000000002e-8,
          2.6e-8,
          2.7e-8,
          2.8000000000000003e-8,
          2.9e-8,
          3.0000000000000004e-8,
          3.1e-8,
          3.2e-8,
          3.3000000000000004e-8,
          3.4e-8,
          3.5e-8,
          3.6000000000000005e-8,
          3.7e-8,
          3.8e-8,
          3.9000000000000005e-8,
          4e-8,
          4.1e-8,
          4.2000000000000006e-8,
          4.3e-8,
          4.4000000000000004e-8,
          4.5000000000000006e-8,
          4.6e-8,
          4.7000000000000004e-8,
          4.8000000000000006e-8,
          4.9e-8,
          5.0000000000000004e-8,
          5.1e-8,
          5.2e-8,
          5.3000000000000005e-8,
          5.4e-8,
          5.5e-8,
          5.6000000000000005e-8,
          5.7e-8,
          5.8e-8,
          5.9000000000000006e-8,
          6.000000000000001e-8,
          6.1e-8,
          6.2e-8,
          6.300000000000001e-8,
          6.4e-8,
          6.5e-8,
          6.600000000000001e-8,
          6.7e-8,
          6.8e-8,
          6.900000000000001e-8,
          7e-8,
          7.1e-8,
          7.200000000000001e-8,
          7.3e-8,
          7.4e-8,
          7.500000000000001e-8,
          7.6e-8,
          7.7e-8,
          7.800000000000001e-8,
          7.9e-8,
          8e-8,
          8.100000000000001e-8,
          8.2e-8,
          8.3e-8,
          8.400000000000001e-8,
          8.500000000000001e-8,
          8.6e-8,
          8.700000000000001e-8,
          8.800000000000001e-8,
          8.9e-8,
          9.000000000000001e-8,
          9.100000000000001e-8,
          9.2e-8,
          9.300000000000001e-8,
          9.400000000000001e-8,
          9.5e-8,
          9.600000000000001e-8,
          9.700000000000001e-8,
          9.8e-8,
          9.9e-8,
          1.0000000000000001e-7,
          1.01e-7,
          1.02e-7,
          1.0300000000000001e-7,
          1.04e-7,
          1.05e-7,
          1.0600000000000001e-7,
          1.07e-7,
          1.08e-7,
          1.0900000000000001e-7,
          1.1e-7,
          1.11e-7,
          1.1200000000000001e-7,
          1.13e-7,
          1.14e-7,
          1.1500000000000001e-7,
          1.16e-7,
          1.17e-7,
          1.1800000000000001e-7,
          1.1900000000000001e-7,
          1.2000000000000002e-7,
          1.21e-7,
          1.22e-7,
          1.23e-7,
          1.24e-7,
          1.2500000000000002e-7,
          1.2600000000000002e-7,
          1.27e-7,
          1.28e-7,
          1.29e-7,
          1.3e-7,
          1.31e-7,
          1.3200000000000002e-7,
          1.33e-7,
          1.34e-7,
          1.35e-7,
          1.36e-7,
          1.37e-7,
          1.3800000000000002e-7,
          1.3900000000000001e-7
         ],
         "xaxis": "x",
         "y": [
          -0.025,
          -0.025071428571428574,
          -0.025142857142857144,
          -0.025214285714285717,
          -0.025285714285714286,
          -0.02535714285714286,
          -0.02542857142857143,
          -0.025500000000000002,
          -0.02557142857142857,
          -0.025642857142857144,
          -0.025714285714285717,
          -0.025785714285714287,
          -0.02585714285714286,
          -0.02592857142857143,
          -0.026000000000000002,
          -0.026071428571428572,
          -0.026142857142857145,
          -0.026214285714285718,
          -0.026285714285714287,
          -0.02635714285714286,
          -0.02642857142857143,
          -0.026500000000000003,
          -0.026571428571428572,
          -0.026642857142857145,
          -0.026714285714285715,
          -0.026785714285714288,
          -0.026857142857142857,
          -0.02692857142857143,
          -0.027000000000000003,
          -0.027071428571428573,
          -0.027142857142857146,
          -0.027214285714285715,
          -0.027285714285714288,
          -0.027357142857142858,
          -0.02742857142857143,
          -0.027500000000000004,
          -0.027571428571428573,
          -0.027642857142857146,
          -0.027714285714285716,
          -0.02778571428571429,
          -0.027857142857142858,
          -0.02792857142857143,
          -0.028000000000000004,
          -0.028071428571428574,
          -0.028142857142857147,
          -0.028214285714285716,
          -0.02828571428571429,
          -0.02835714285714286,
          -0.02842857142857143,
          -0.0285,
          -0.028571428571428574,
          -0.028642857142857144,
          -0.028714285714285716,
          -0.02878571428571429,
          -0.02885714285714286,
          -0.028928571428571432,
          -0.029,
          -0.029071428571428574,
          -0.029142857142857144,
          -0.029214285714285717,
          -0.02928571428571429,
          -0.02935714285714286,
          -0.029428571428571432,
          -0.029500000000000002,
          -0.029571428571428575,
          -0.029642857142857144,
          -0.029714285714285717,
          -0.02978571428571429,
          -0.02985714285714286,
          -0.02992857142857143,
          -0.030000000000000002,
          -0.030071428571428575,
          -0.030142857142857145,
          -0.030214285714285718,
          -0.030285714285714287,
          -0.03035714285714286,
          -0.03042857142857143,
          -0.030500000000000003,
          -0.030571428571428576,
          -0.030642857142857145,
          -0.03071428571428572,
          -0.030785714285714288,
          -0.03085714285714286,
          -0.03092857142857143,
          -0.031000000000000003,
          -0.031071428571428576,
          -0.031142857142857146,
          -0.031214285714285715,
          -0.03128571428571429,
          -0.03135714285714286,
          -0.03142857142857143,
          -0.0315,
          -0.03157142857142858,
          -0.031642857142857146,
          -0.031714285714285716,
          -0.03178571428571429,
          -0.03185714285714286,
          -0.03192857142857143,
          -0.032,
          -0.03207142857142858,
          -0.03214285714285715,
          -0.032214285714285716,
          -0.03228571428571429,
          -0.03235714285714286,
          -0.03242857142857143,
          -0.0325,
          -0.03257142857142858,
          -0.03264285714285715,
          -0.03271428571428572,
          -0.03278571428571429,
          -0.03285714285714286,
          -0.03292857142857143,
          -0.033,
          -0.03307142857142857,
          -0.03314285714285715,
          -0.03321428571428572,
          -0.033285714285714293,
          -0.03335714285714286,
          -0.03342857142857143,
          -0.0335,
          -0.03357142857142857,
          -0.03364285714285715,
          -0.03371428571428572,
          -0.03378571428571429,
          -0.03385714285714286,
          -0.03392857142857143,
          -0.034,
          -0.03407142857142857,
          -0.03414285714285715,
          -0.03421428571428572,
          -0.03428571428571429,
          -0.034357142857142864,
          -0.03442857142857143,
          -0.0345,
          -0.03457142857142857,
          -0.03464285714285715,
          -0.03471428571428572,
          -0.03478571428571429,
          -0.034857142857142864,
          -0.034928571428571434
         ],
         "yaxis": "y"
        }
       ],
       "layout": {
        "height": 300,
        "showlegend": false,
        "template": {
         "data": {
          "bar": [
           {
            "error_x": {
             "color": "#2a3f5f"
            },
            "error_y": {
             "color": "#2a3f5f"
            },
            "marker": {
             "line": {
              "color": "#E5ECF6",
              "width": 0.5
             },
             "pattern": {
              "fillmode": "overlay",
              "size": 10,
              "solidity": 0.2
             }
            },
            "type": "bar"
           }
          ],
          "barpolar": [
           {
            "marker": {
             "line": {
              "color": "#E5ECF6",
              "width": 0.5
             },
             "pattern": {
              "fillmode": "overlay",
              "size": 10,
              "solidity": 0.2
             }
            },
            "type": "barpolar"
           }
          ],
          "carpet": [
           {
            "aaxis": {
             "endlinecolor": "#2a3f5f",
             "gridcolor": "white",
             "linecolor": "white",
             "minorgridcolor": "white",
             "startlinecolor": "#2a3f5f"
            },
            "baxis": {
             "endlinecolor": "#2a3f5f",
             "gridcolor": "white",
             "linecolor": "white",
             "minorgridcolor": "white",
             "startlinecolor": "#2a3f5f"
            },
            "type": "carpet"
           }
          ],
          "choropleth": [
           {
            "colorbar": {
             "outlinewidth": 0,
             "ticks": ""
            },
            "type": "choropleth"
           }
          ],
          "contour": [
           {
            "colorbar": {
             "outlinewidth": 0,
             "ticks": ""
            },
            "colorscale": [
             [
              0,
              "#0d0887"
             ],
             [
              0.1111111111111111,
              "#46039f"
             ],
             [
              0.2222222222222222,
              "#7201a8"
             ],
             [
              0.3333333333333333,
              "#9c179e"
             ],
             [
              0.4444444444444444,
              "#bd3786"
             ],
             [
              0.5555555555555556,
              "#d8576b"
             ],
             [
              0.6666666666666666,
              "#ed7953"
             ],
             [
              0.7777777777777778,
              "#fb9f3a"
             ],
             [
              0.8888888888888888,
              "#fdca26"
             ],
             [
              1,
              "#f0f921"
             ]
            ],
            "type": "contour"
           }
          ],
          "contourcarpet": [
           {
            "colorbar": {
             "outlinewidth": 0,
             "ticks": ""
            },
            "type": "contourcarpet"
           }
          ],
          "heatmap": [
           {
            "colorbar": {
             "outlinewidth": 0,
             "ticks": ""
            },
            "colorscale": [
             [
              0,
              "#0d0887"
             ],
             [
              0.1111111111111111,
              "#46039f"
             ],
             [
              0.2222222222222222,
              "#7201a8"
             ],
             [
              0.3333333333333333,
              "#9c179e"
             ],
             [
              0.4444444444444444,
              "#bd3786"
             ],
             [
              0.5555555555555556,
              "#d8576b"
             ],
             [
              0.6666666666666666,
              "#ed7953"
             ],
             [
              0.7777777777777778,
              "#fb9f3a"
             ],
             [
              0.8888888888888888,
              "#fdca26"
             ],
             [
              1,
              "#f0f921"
             ]
            ],
            "type": "heatmap"
           }
          ],
          "heatmapgl": [
           {
            "colorbar": {
             "outlinewidth": 0,
             "ticks": ""
            },
            "colorscale": [
             [
              0,
              "#0d0887"
             ],
             [
              0.1111111111111111,
              "#46039f"
             ],
             [
              0.2222222222222222,
              "#7201a8"
             ],
             [
              0.3333333333333333,
              "#9c179e"
             ],
             [
              0.4444444444444444,
              "#bd3786"
             ],
             [
              0.5555555555555556,
              "#d8576b"
             ],
             [
              0.6666666666666666,
              "#ed7953"
             ],
             [
              0.7777777777777778,
              "#fb9f3a"
             ],
             [
              0.8888888888888888,
              "#fdca26"
             ],
             [
              1,
              "#f0f921"
             ]
            ],
            "type": "heatmapgl"
           }
          ],
          "histogram": [
           {
            "marker": {
             "pattern": {
              "fillmode": "overlay",
              "size": 10,
              "solidity": 0.2
             }
            },
            "type": "histogram"
           }
          ],
          "histogram2d": [
           {
            "colorbar": {
             "outlinewidth": 0,
             "ticks": ""
            },
            "colorscale": [
             [
              0,
              "#0d0887"
             ],
             [
              0.1111111111111111,
              "#46039f"
             ],
             [
              0.2222222222222222,
              "#7201a8"
             ],
             [
              0.3333333333333333,
              "#9c179e"
             ],
             [
              0.4444444444444444,
              "#bd3786"
             ],
             [
              0.5555555555555556,
              "#d8576b"
             ],
             [
              0.6666666666666666,
              "#ed7953"
             ],
             [
              0.7777777777777778,
              "#fb9f3a"
             ],
             [
              0.8888888888888888,
              "#fdca26"
             ],
             [
              1,
              "#f0f921"
             ]
            ],
            "type": "histogram2d"
           }
          ],
          "histogram2dcontour": [
           {
            "colorbar": {
             "outlinewidth": 0,
             "ticks": ""
            },
            "colorscale": [
             [
              0,
              "#0d0887"
             ],
             [
              0.1111111111111111,
              "#46039f"
             ],
             [
              0.2222222222222222,
              "#7201a8"
             ],
             [
              0.3333333333333333,
              "#9c179e"
             ],
             [
              0.4444444444444444,
              "#bd3786"
             ],
             [
              0.5555555555555556,
              "#d8576b"
             ],
             [
              0.6666666666666666,
              "#ed7953"
             ],
             [
              0.7777777777777778,
              "#fb9f3a"
             ],
             [
              0.8888888888888888,
              "#fdca26"
             ],
             [
              1,
              "#f0f921"
             ]
            ],
            "type": "histogram2dcontour"
           }
          ],
          "mesh3d": [
           {
            "colorbar": {
             "outlinewidth": 0,
             "ticks": ""
            },
            "type": "mesh3d"
           }
          ],
          "parcoords": [
           {
            "line": {
             "colorbar": {
              "outlinewidth": 0,
              "ticks": ""
             }
            },
            "type": "parcoords"
           }
          ],
          "pie": [
           {
            "automargin": true,
            "type": "pie"
           }
          ],
          "scatter": [
           {
            "fillpattern": {
             "fillmode": "overlay",
             "size": 10,
             "solidity": 0.2
            },
            "type": "scatter"
           }
          ],
          "scatter3d": [
           {
            "line": {
             "colorbar": {
              "outlinewidth": 0,
              "ticks": ""
             }
            },
            "marker": {
             "colorbar": {
              "outlinewidth": 0,
              "ticks": ""
             }
            },
            "type": "scatter3d"
           }
          ],
          "scattercarpet": [
           {
            "marker": {
             "colorbar": {
              "outlinewidth": 0,
              "ticks": ""
             }
            },
            "type": "scattercarpet"
           }
          ],
          "scattergeo": [
           {
            "marker": {
             "colorbar": {
              "outlinewidth": 0,
              "ticks": ""
             }
            },
            "type": "scattergeo"
           }
          ],
          "scattergl": [
           {
            "marker": {
             "colorbar": {
              "outlinewidth": 0,
              "ticks": ""
             }
            },
            "type": "scattergl"
           }
          ],
          "scattermapbox": [
           {
            "marker": {
             "colorbar": {
              "outlinewidth": 0,
              "ticks": ""
             }
            },
            "type": "scattermapbox"
           }
          ],
          "scatterpolar": [
           {
            "marker": {
             "colorbar": {
              "outlinewidth": 0,
              "ticks": ""
             }
            },
            "type": "scatterpolar"
           }
          ],
          "scatterpolargl": [
           {
            "marker": {
             "colorbar": {
              "outlinewidth": 0,
              "ticks": ""
             }
            },
            "type": "scatterpolargl"
           }
          ],
          "scatterternary": [
           {
            "marker": {
             "colorbar": {
              "outlinewidth": 0,
              "ticks": ""
             }
            },
            "type": "scatterternary"
           }
          ],
          "surface": [
           {
            "colorbar": {
             "outlinewidth": 0,
             "ticks": ""
            },
            "colorscale": [
             [
              0,
              "#0d0887"
             ],
             [
              0.1111111111111111,
              "#46039f"
             ],
             [
              0.2222222222222222,
              "#7201a8"
             ],
             [
              0.3333333333333333,
              "#9c179e"
             ],
             [
              0.4444444444444444,
              "#bd3786"
             ],
             [
              0.5555555555555556,
              "#d8576b"
             ],
             [
              0.6666666666666666,
              "#ed7953"
             ],
             [
              0.7777777777777778,
              "#fb9f3a"
             ],
             [
              0.8888888888888888,
              "#fdca26"
             ],
             [
              1,
              "#f0f921"
             ]
            ],
            "type": "surface"
           }
          ],
          "table": [
           {
            "cells": {
             "fill": {
              "color": "#EBF0F8"
             },
             "line": {
              "color": "white"
             }
            },
            "header": {
             "fill": {
              "color": "#C8D4E3"
             },
             "line": {
              "color": "white"
             }
            },
            "type": "table"
           }
          ]
         },
         "layout": {
          "annotationdefaults": {
           "arrowcolor": "#2a3f5f",
           "arrowhead": 0,
           "arrowwidth": 1
          },
          "autotypenumbers": "strict",
          "coloraxis": {
           "colorbar": {
            "outlinewidth": 0,
            "ticks": ""
           }
          },
          "colorscale": {
           "diverging": [
            [
             0,
             "#8e0152"
            ],
            [
             0.1,
             "#c51b7d"
            ],
            [
             0.2,
             "#de77ae"
            ],
            [
             0.3,
             "#f1b6da"
            ],
            [
             0.4,
             "#fde0ef"
            ],
            [
             0.5,
             "#f7f7f7"
            ],
            [
             0.6,
             "#e6f5d0"
            ],
            [
             0.7,
             "#b8e186"
            ],
            [
             0.8,
             "#7fbc41"
            ],
            [
             0.9,
             "#4d9221"
            ],
            [
             1,
             "#276419"
            ]
           ],
           "sequential": [
            [
             0,
             "#0d0887"
            ],
            [
             0.1111111111111111,
             "#46039f"
            ],
            [
             0.2222222222222222,
             "#7201a8"
            ],
            [
             0.3333333333333333,
             "#9c179e"
            ],
            [
             0.4444444444444444,
             "#bd3786"
            ],
            [
             0.5555555555555556,
             "#d8576b"
            ],
            [
             0.6666666666666666,
             "#ed7953"
            ],
            [
             0.7777777777777778,
             "#fb9f3a"
            ],
            [
             0.8888888888888888,
             "#fdca26"
            ],
            [
             1,
             "#f0f921"
            ]
           ],
           "sequentialminus": [
            [
             0,
             "#0d0887"
            ],
            [
             0.1111111111111111,
             "#46039f"
            ],
            [
             0.2222222222222222,
             "#7201a8"
            ],
            [
             0.3333333333333333,
             "#9c179e"
            ],
            [
             0.4444444444444444,
             "#bd3786"
            ],
            [
             0.5555555555555556,
             "#d8576b"
            ],
            [
             0.6666666666666666,
             "#ed7953"
            ],
            [
             0.7777777777777778,
             "#fb9f3a"
            ],
            [
             0.8888888888888888,
             "#fdca26"
            ],
            [
             1,
             "#f0f921"
            ]
           ]
          },
          "colorway": [
           "#636efa",
           "#EF553B",
           "#00cc96",
           "#ab63fa",
           "#FFA15A",
           "#19d3f3",
           "#FF6692",
           "#B6E880",
           "#FF97FF",
           "#FECB52"
          ],
          "font": {
           "color": "#2a3f5f"
          },
          "geo": {
           "bgcolor": "white",
           "lakecolor": "white",
           "landcolor": "#E5ECF6",
           "showlakes": true,
           "showland": true,
           "subunitcolor": "white"
          },
          "hoverlabel": {
           "align": "left"
          },
          "hovermode": "closest",
          "mapbox": {
           "style": "light"
          },
          "paper_bgcolor": "white",
          "plot_bgcolor": "#E5ECF6",
          "polar": {
           "angularaxis": {
            "gridcolor": "white",
            "linecolor": "white",
            "ticks": ""
           },
           "bgcolor": "#E5ECF6",
           "radialaxis": {
            "gridcolor": "white",
            "linecolor": "white",
            "ticks": ""
           }
          },
          "scene": {
           "xaxis": {
            "backgroundcolor": "#E5ECF6",
            "gridcolor": "white",
            "gridwidth": 2,
            "linecolor": "white",
            "showbackground": true,
            "ticks": "",
            "zerolinecolor": "white"
           },
           "yaxis": {
            "backgroundcolor": "#E5ECF6",
            "gridcolor": "white",
            "gridwidth": 2,
            "linecolor": "white",
            "showbackground": true,
            "ticks": "",
            "zerolinecolor": "white"
           },
           "zaxis": {
            "backgroundcolor": "#E5ECF6",
            "gridcolor": "white",
            "gridwidth": 2,
            "linecolor": "white",
            "showbackground": true,
            "ticks": "",
            "zerolinecolor": "white"
           }
          },
          "shapedefaults": {
           "line": {
            "color": "#2a3f5f"
           }
          },
          "ternary": {
           "aaxis": {
            "gridcolor": "white",
            "linecolor": "white",
            "ticks": ""
           },
           "baxis": {
            "gridcolor": "white",
            "linecolor": "white",
            "ticks": ""
           },
           "bgcolor": "#E5ECF6",
           "caxis": {
            "gridcolor": "white",
            "linecolor": "white",
            "ticks": ""
           }
          },
          "title": {
           "x": 0.05
          },
          "xaxis": {
           "automargin": true,
           "gridcolor": "white",
           "linecolor": "white",
           "ticks": "",
           "title": {
            "standoff": 15
           },
           "zerolinecolor": "white",
           "zerolinewidth": 2
          },
          "yaxis": {
           "automargin": true,
           "gridcolor": "white",
           "linecolor": "white",
           "ticks": "",
           "title": {
            "standoff": 15
           },
           "zerolinecolor": "white",
           "zerolinewidth": 2
          }
         }
        },
        "title": {
         "text": "Qubit Reset - Step 1 - ge/gf qc"
        },
        "width": 1000,
        "xaxis": {
         "anchor": "y",
         "domain": [
          0,
          1
         ],
         "hoverformat": ".3s",
         "showgrid": true,
         "tickformat": ".2s",
         "tickformatstops": [
          {
           "dtickrange": [
            null,
            1e-9
           ],
           "value": ".10s"
          },
          {
           "dtickrange": [
            1e-9,
            0.000001
           ],
           "value": ".7s"
          },
          {
           "dtickrange": [
            0.000001,
            0.001
           ],
           "value": ".4s"
          }
         ],
         "ticksuffix": "s",
         "title": {
          "text": "Time"
         }
        },
        "yaxis": {
         "anchor": "x",
         "autorange": true,
         "domain": [
          0,
          1
         ],
         "hoverformat": ".3s",
         "tickformat": ".2s",
         "ticksuffix": "V",
         "title": {
          "text": "flux"
         }
        }
       }
      },
      "text/html": [
       "<div>                            <div id=\"8fc47d3a-2494-4f91-b635-72d6541e6020\" class=\"plotly-graph-div\" style=\"height:300px; width:1000px;\"></div>            <script type=\"text/javascript\">                require([\"plotly\"], function(Plotly) {                    window.PLOTLYENV=window.PLOTLYENV || {};                                    if (document.getElementById(\"8fc47d3a-2494-4f91-b635-72d6541e6020\")) {                    Plotly.newPlot(                        \"8fc47d3a-2494-4f91-b635-72d6541e6020\",                        [{\"fill\":\"tozeroy\",\"hoverinfo\":\"x+y+name\",\"hoverlabel\":{\"namelength\":-1},\"legendgroup\":\"0\",\"line\":{\"color\":\"#EF553B\"},\"mode\":\"lines\",\"name\":\"RampPulse, clock: q0.ro\",\"showlegend\":true,\"x\":[0.0,1e-9,2e-9,3.0000000000000004e-9,4e-9,5e-9,6.000000000000001e-9,7.000000000000001e-9,8e-9,9.000000000000001e-9,1e-8,1.1000000000000001e-8,1.2000000000000002e-8,1.3e-8,1.4000000000000001e-8,1.5000000000000002e-8,1.6e-8,1.7e-8,1.8000000000000002e-8,1.9e-8,2e-8,2.1000000000000003e-8,2.2000000000000002e-8,2.3e-8,2.4000000000000003e-8,2.5000000000000002e-8,2.6e-8,2.7e-8,2.8000000000000003e-8,2.9e-8,3.0000000000000004e-8,3.1e-8,3.2e-8,3.3000000000000004e-8,3.4e-8,3.5e-8,3.6000000000000005e-8,3.7e-8,3.8e-8,3.9000000000000005e-8,4e-8,4.1e-8,4.2000000000000006e-8,4.3e-8,4.4000000000000004e-8,4.5000000000000006e-8,4.6e-8,4.7000000000000004e-8,4.8000000000000006e-8,4.9e-8,5.0000000000000004e-8,5.1e-8,5.2e-8,5.3000000000000005e-8,5.4e-8,5.5e-8,5.6000000000000005e-8,5.7e-8,5.8e-8,5.9000000000000006e-8,6.000000000000001e-8,6.1e-8,6.2e-8,6.300000000000001e-8,6.4e-8,6.5e-8,6.600000000000001e-8,6.7e-8,6.8e-8,6.900000000000001e-8,7e-8,7.1e-8,7.200000000000001e-8,7.3e-8,7.4e-8,7.500000000000001e-8,7.6e-8,7.7e-8,7.800000000000001e-8,7.9e-8,8e-8,8.100000000000001e-8,8.2e-8,8.3e-8,8.400000000000001e-8,8.500000000000001e-8,8.6e-8,8.700000000000001e-8,8.800000000000001e-8,8.9e-8,9.000000000000001e-8,9.100000000000001e-8,9.2e-8,9.300000000000001e-8,9.400000000000001e-8,9.5e-8,9.600000000000001e-8,9.700000000000001e-8,9.8e-8,9.9e-8,1.0000000000000001e-7,1.01e-7,1.02e-7,1.0300000000000001e-7,1.04e-7,1.05e-7,1.0600000000000001e-7,1.07e-7,1.08e-7,1.0900000000000001e-7,1.1e-7,1.11e-7,1.1200000000000001e-7,1.13e-7,1.14e-7,1.1500000000000001e-7,1.16e-7,1.17e-7,1.1800000000000001e-7,1.1900000000000001e-7,1.2000000000000002e-7,1.21e-7,1.22e-7,1.23e-7,1.24e-7,1.2500000000000002e-7,1.2600000000000002e-7,1.27e-7,1.28e-7,1.29e-7,1.3e-7,1.31e-7,1.3200000000000002e-7,1.33e-7,1.34e-7,1.35e-7,1.36e-7,1.37e-7,1.3800000000000002e-7,1.3900000000000001e-7],\"y\":[-0.025,-0.025071428571428574,-0.025142857142857144,-0.025214285714285717,-0.025285714285714286,-0.02535714285714286,-0.02542857142857143,-0.025500000000000002,-0.02557142857142857,-0.025642857142857144,-0.025714285714285717,-0.025785714285714287,-0.02585714285714286,-0.02592857142857143,-0.026000000000000002,-0.026071428571428572,-0.026142857142857145,-0.026214285714285718,-0.026285714285714287,-0.02635714285714286,-0.02642857142857143,-0.026500000000000003,-0.026571428571428572,-0.026642857142857145,-0.026714285714285715,-0.026785714285714288,-0.026857142857142857,-0.02692857142857143,-0.027000000000000003,-0.027071428571428573,-0.027142857142857146,-0.027214285714285715,-0.027285714285714288,-0.027357142857142858,-0.02742857142857143,-0.027500000000000004,-0.027571428571428573,-0.027642857142857146,-0.027714285714285716,-0.02778571428571429,-0.027857142857142858,-0.02792857142857143,-0.028000000000000004,-0.028071428571428574,-0.028142857142857147,-0.028214285714285716,-0.02828571428571429,-0.02835714285714286,-0.02842857142857143,-0.0285,-0.028571428571428574,-0.028642857142857144,-0.028714285714285716,-0.02878571428571429,-0.02885714285714286,-0.028928571428571432,-0.029,-0.029071428571428574,-0.029142857142857144,-0.029214285714285717,-0.02928571428571429,-0.02935714285714286,-0.029428571428571432,-0.029500000000000002,-0.029571428571428575,-0.029642857142857144,-0.029714285714285717,-0.02978571428571429,-0.02985714285714286,-0.02992857142857143,-0.030000000000000002,-0.030071428571428575,-0.030142857142857145,-0.030214285714285718,-0.030285714285714287,-0.03035714285714286,-0.03042857142857143,-0.030500000000000003,-0.030571428571428576,-0.030642857142857145,-0.03071428571428572,-0.030785714285714288,-0.03085714285714286,-0.03092857142857143,-0.031000000000000003,-0.031071428571428576,-0.031142857142857146,-0.031214285714285715,-0.03128571428571429,-0.03135714285714286,-0.03142857142857143,-0.0315,-0.03157142857142858,-0.031642857142857146,-0.031714285714285716,-0.03178571428571429,-0.03185714285714286,-0.03192857142857143,-0.032,-0.03207142857142858,-0.03214285714285715,-0.032214285714285716,-0.03228571428571429,-0.03235714285714286,-0.03242857142857143,-0.0325,-0.03257142857142858,-0.03264285714285715,-0.03271428571428572,-0.03278571428571429,-0.03285714285714286,-0.03292857142857143,-0.033,-0.03307142857142857,-0.03314285714285715,-0.03321428571428572,-0.033285714285714293,-0.03335714285714286,-0.03342857142857143,-0.0335,-0.03357142857142857,-0.03364285714285715,-0.03371428571428572,-0.03378571428571429,-0.03385714285714286,-0.03392857142857143,-0.034,-0.03407142857142857,-0.03414285714285715,-0.03421428571428572,-0.03428571428571429,-0.034357142857142864,-0.03442857142857143,-0.0345,-0.03457142857142857,-0.03464285714285715,-0.03471428571428572,-0.03478571428571429,-0.034857142857142864,-0.034928571428571434],\"type\":\"scatter\",\"xaxis\":\"x\",\"yaxis\":\"y\"}],                        {\"template\":{\"data\":{\"histogram2dcontour\":[{\"type\":\"histogram2dcontour\",\"colorbar\":{\"outlinewidth\":0,\"ticks\":\"\"},\"colorscale\":[[0.0,\"#0d0887\"],[0.1111111111111111,\"#46039f\"],[0.2222222222222222,\"#7201a8\"],[0.3333333333333333,\"#9c179e\"],[0.4444444444444444,\"#bd3786\"],[0.5555555555555556,\"#d8576b\"],[0.6666666666666666,\"#ed7953\"],[0.7777777777777778,\"#fb9f3a\"],[0.8888888888888888,\"#fdca26\"],[1.0,\"#f0f921\"]]}],\"choropleth\":[{\"type\":\"choropleth\",\"colorbar\":{\"outlinewidth\":0,\"ticks\":\"\"}}],\"histogram2d\":[{\"type\":\"histogram2d\",\"colorbar\":{\"outlinewidth\":0,\"ticks\":\"\"},\"colorscale\":[[0.0,\"#0d0887\"],[0.1111111111111111,\"#46039f\"],[0.2222222222222222,\"#7201a8\"],[0.3333333333333333,\"#9c179e\"],[0.4444444444444444,\"#bd3786\"],[0.5555555555555556,\"#d8576b\"],[0.6666666666666666,\"#ed7953\"],[0.7777777777777778,\"#fb9f3a\"],[0.8888888888888888,\"#fdca26\"],[1.0,\"#f0f921\"]]}],\"heatmap\":[{\"type\":\"heatmap\",\"colorbar\":{\"outlinewidth\":0,\"ticks\":\"\"},\"colorscale\":[[0.0,\"#0d0887\"],[0.1111111111111111,\"#46039f\"],[0.2222222222222222,\"#7201a8\"],[0.3333333333333333,\"#9c179e\"],[0.4444444444444444,\"#bd3786\"],[0.5555555555555556,\"#d8576b\"],[0.6666666666666666,\"#ed7953\"],[0.7777777777777778,\"#fb9f3a\"],[0.8888888888888888,\"#fdca26\"],[1.0,\"#f0f921\"]]}],\"heatmapgl\":[{\"type\":\"heatmapgl\",\"colorbar\":{\"outlinewidth\":0,\"ticks\":\"\"},\"colorscale\":[[0.0,\"#0d0887\"],[0.1111111111111111,\"#46039f\"],[0.2222222222222222,\"#7201a8\"],[0.3333333333333333,\"#9c179e\"],[0.4444444444444444,\"#bd3786\"],[0.5555555555555556,\"#d8576b\"],[0.6666666666666666,\"#ed7953\"],[0.7777777777777778,\"#fb9f3a\"],[0.8888888888888888,\"#fdca26\"],[1.0,\"#f0f921\"]]}],\"contourcarpet\":[{\"type\":\"contourcarpet\",\"colorbar\":{\"outlinewidth\":0,\"ticks\":\"\"}}],\"contour\":[{\"type\":\"contour\",\"colorbar\":{\"outlinewidth\":0,\"ticks\":\"\"},\"colorscale\":[[0.0,\"#0d0887\"],[0.1111111111111111,\"#46039f\"],[0.2222222222222222,\"#7201a8\"],[0.3333333333333333,\"#9c179e\"],[0.4444444444444444,\"#bd3786\"],[0.5555555555555556,\"#d8576b\"],[0.6666666666666666,\"#ed7953\"],[0.7777777777777778,\"#fb9f3a\"],[0.8888888888888888,\"#fdca26\"],[1.0,\"#f0f921\"]]}],\"surface\":[{\"type\":\"surface\",\"colorbar\":{\"outlinewidth\":0,\"ticks\":\"\"},\"colorscale\":[[0.0,\"#0d0887\"],[0.1111111111111111,\"#46039f\"],[0.2222222222222222,\"#7201a8\"],[0.3333333333333333,\"#9c179e\"],[0.4444444444444444,\"#bd3786\"],[0.5555555555555556,\"#d8576b\"],[0.6666666666666666,\"#ed7953\"],[0.7777777777777778,\"#fb9f3a\"],[0.8888888888888888,\"#fdca26\"],[1.0,\"#f0f921\"]]}],\"mesh3d\":[{\"type\":\"mesh3d\",\"colorbar\":{\"outlinewidth\":0,\"ticks\":\"\"}}],\"scatter\":[{\"fillpattern\":{\"fillmode\":\"overlay\",\"size\":10,\"solidity\":0.2},\"type\":\"scatter\"}],\"parcoords\":[{\"type\":\"parcoords\",\"line\":{\"colorbar\":{\"outlinewidth\":0,\"ticks\":\"\"}}}],\"scatterpolargl\":[{\"type\":\"scatterpolargl\",\"marker\":{\"colorbar\":{\"outlinewidth\":0,\"ticks\":\"\"}}}],\"bar\":[{\"error_x\":{\"color\":\"#2a3f5f\"},\"error_y\":{\"color\":\"#2a3f5f\"},\"marker\":{\"line\":{\"color\":\"#E5ECF6\",\"width\":0.5},\"pattern\":{\"fillmode\":\"overlay\",\"size\":10,\"solidity\":0.2}},\"type\":\"bar\"}],\"scattergeo\":[{\"type\":\"scattergeo\",\"marker\":{\"colorbar\":{\"outlinewidth\":0,\"ticks\":\"\"}}}],\"scatterpolar\":[{\"type\":\"scatterpolar\",\"marker\":{\"colorbar\":{\"outlinewidth\":0,\"ticks\":\"\"}}}],\"histogram\":[{\"marker\":{\"pattern\":{\"fillmode\":\"overlay\",\"size\":10,\"solidity\":0.2}},\"type\":\"histogram\"}],\"scattergl\":[{\"type\":\"scattergl\",\"marker\":{\"colorbar\":{\"outlinewidth\":0,\"ticks\":\"\"}}}],\"scatter3d\":[{\"type\":\"scatter3d\",\"line\":{\"colorbar\":{\"outlinewidth\":0,\"ticks\":\"\"}},\"marker\":{\"colorbar\":{\"outlinewidth\":0,\"ticks\":\"\"}}}],\"scattermapbox\":[{\"type\":\"scattermapbox\",\"marker\":{\"colorbar\":{\"outlinewidth\":0,\"ticks\":\"\"}}}],\"scatterternary\":[{\"type\":\"scatterternary\",\"marker\":{\"colorbar\":{\"outlinewidth\":0,\"ticks\":\"\"}}}],\"scattercarpet\":[{\"type\":\"scattercarpet\",\"marker\":{\"colorbar\":{\"outlinewidth\":0,\"ticks\":\"\"}}}],\"carpet\":[{\"aaxis\":{\"endlinecolor\":\"#2a3f5f\",\"gridcolor\":\"white\",\"linecolor\":\"white\",\"minorgridcolor\":\"white\",\"startlinecolor\":\"#2a3f5f\"},\"baxis\":{\"endlinecolor\":\"#2a3f5f\",\"gridcolor\":\"white\",\"linecolor\":\"white\",\"minorgridcolor\":\"white\",\"startlinecolor\":\"#2a3f5f\"},\"type\":\"carpet\"}],\"table\":[{\"cells\":{\"fill\":{\"color\":\"#EBF0F8\"},\"line\":{\"color\":\"white\"}},\"header\":{\"fill\":{\"color\":\"#C8D4E3\"},\"line\":{\"color\":\"white\"}},\"type\":\"table\"}],\"barpolar\":[{\"marker\":{\"line\":{\"color\":\"#E5ECF6\",\"width\":0.5},\"pattern\":{\"fillmode\":\"overlay\",\"size\":10,\"solidity\":0.2}},\"type\":\"barpolar\"}],\"pie\":[{\"automargin\":true,\"type\":\"pie\"}]},\"layout\":{\"autotypenumbers\":\"strict\",\"colorway\":[\"#636efa\",\"#EF553B\",\"#00cc96\",\"#ab63fa\",\"#FFA15A\",\"#19d3f3\",\"#FF6692\",\"#B6E880\",\"#FF97FF\",\"#FECB52\"],\"font\":{\"color\":\"#2a3f5f\"},\"hovermode\":\"closest\",\"hoverlabel\":{\"align\":\"left\"},\"paper_bgcolor\":\"white\",\"plot_bgcolor\":\"#E5ECF6\",\"polar\":{\"bgcolor\":\"#E5ECF6\",\"angularaxis\":{\"gridcolor\":\"white\",\"linecolor\":\"white\",\"ticks\":\"\"},\"radialaxis\":{\"gridcolor\":\"white\",\"linecolor\":\"white\",\"ticks\":\"\"}},\"ternary\":{\"bgcolor\":\"#E5ECF6\",\"aaxis\":{\"gridcolor\":\"white\",\"linecolor\":\"white\",\"ticks\":\"\"},\"baxis\":{\"gridcolor\":\"white\",\"linecolor\":\"white\",\"ticks\":\"\"},\"caxis\":{\"gridcolor\":\"white\",\"linecolor\":\"white\",\"ticks\":\"\"}},\"coloraxis\":{\"colorbar\":{\"outlinewidth\":0,\"ticks\":\"\"}},\"colorscale\":{\"sequential\":[[0.0,\"#0d0887\"],[0.1111111111111111,\"#46039f\"],[0.2222222222222222,\"#7201a8\"],[0.3333333333333333,\"#9c179e\"],[0.4444444444444444,\"#bd3786\"],[0.5555555555555556,\"#d8576b\"],[0.6666666666666666,\"#ed7953\"],[0.7777777777777778,\"#fb9f3a\"],[0.8888888888888888,\"#fdca26\"],[1.0,\"#f0f921\"]],\"sequentialminus\":[[0.0,\"#0d0887\"],[0.1111111111111111,\"#46039f\"],[0.2222222222222222,\"#7201a8\"],[0.3333333333333333,\"#9c179e\"],[0.4444444444444444,\"#bd3786\"],[0.5555555555555556,\"#d8576b\"],[0.6666666666666666,\"#ed7953\"],[0.7777777777777778,\"#fb9f3a\"],[0.8888888888888888,\"#fdca26\"],[1.0,\"#f0f921\"]],\"diverging\":[[0,\"#8e0152\"],[0.1,\"#c51b7d\"],[0.2,\"#de77ae\"],[0.3,\"#f1b6da\"],[0.4,\"#fde0ef\"],[0.5,\"#f7f7f7\"],[0.6,\"#e6f5d0\"],[0.7,\"#b8e186\"],[0.8,\"#7fbc41\"],[0.9,\"#4d9221\"],[1,\"#276419\"]]},\"xaxis\":{\"gridcolor\":\"white\",\"linecolor\":\"white\",\"ticks\":\"\",\"title\":{\"standoff\":15},\"zerolinecolor\":\"white\",\"automargin\":true,\"zerolinewidth\":2},\"yaxis\":{\"gridcolor\":\"white\",\"linecolor\":\"white\",\"ticks\":\"\",\"title\":{\"standoff\":15},\"zerolinecolor\":\"white\",\"automargin\":true,\"zerolinewidth\":2},\"scene\":{\"xaxis\":{\"backgroundcolor\":\"#E5ECF6\",\"gridcolor\":\"white\",\"linecolor\":\"white\",\"showbackground\":true,\"ticks\":\"\",\"zerolinecolor\":\"white\",\"gridwidth\":2},\"yaxis\":{\"backgroundcolor\":\"#E5ECF6\",\"gridcolor\":\"white\",\"linecolor\":\"white\",\"showbackground\":true,\"ticks\":\"\",\"zerolinecolor\":\"white\",\"gridwidth\":2},\"zaxis\":{\"backgroundcolor\":\"#E5ECF6\",\"gridcolor\":\"white\",\"linecolor\":\"white\",\"showbackground\":true,\"ticks\":\"\",\"zerolinecolor\":\"white\",\"gridwidth\":2}},\"shapedefaults\":{\"line\":{\"color\":\"#2a3f5f\"}},\"annotationdefaults\":{\"arrowcolor\":\"#2a3f5f\",\"arrowhead\":0,\"arrowwidth\":1},\"geo\":{\"bgcolor\":\"white\",\"landcolor\":\"#E5ECF6\",\"subunitcolor\":\"white\",\"showland\":true,\"showlakes\":true,\"lakecolor\":\"white\"},\"title\":{\"x\":0.05},\"mapbox\":{\"style\":\"light\"}}},\"xaxis\":{\"anchor\":\"y\",\"domain\":[0.0,1.0],\"tickformat\":\".2s\",\"hoverformat\":\".3s\",\"ticksuffix\":\"s\",\"showgrid\":true,\"title\":{\"text\":\"Time\"},\"tickformatstops\":[{\"dtickrange\":[null,1e-9],\"value\":\".10s\"},{\"dtickrange\":[1e-9,1e-6],\"value\":\".7s\"},{\"dtickrange\":[1e-6,0.001],\"value\":\".4s\"}]},\"yaxis\":{\"anchor\":\"x\",\"domain\":[0.0,1.0],\"tickformat\":\".2s\",\"hoverformat\":\".3s\",\"ticksuffix\":\"V\",\"title\":{\"text\":\"flux\"},\"autorange\":true},\"height\":300,\"width\":1000,\"title\":{\"text\":\"Qubit Reset - Step 1 - ge\\u002fgf qc\"},\"showlegend\":false},                        {\"responsive\": true}                    ).then(function(){\n",
       "                            \n",
       "var gd = document.getElementById('8fc47d3a-2494-4f91-b635-72d6541e6020');\n",
       "var x = new MutationObserver(function (mutations, observer) {{\n",
       "        var display = window.getComputedStyle(gd).display;\n",
       "        if (!display || display === 'none') {{\n",
       "            console.log([gd, 'removed!']);\n",
       "            Plotly.purge(gd);\n",
       "            observer.disconnect();\n",
       "        }}\n",
       "}});\n",
       "\n",
       "// Listen for the removal of the full notebook cells\n",
       "var notebookContainer = gd.closest('#notebook-container');\n",
       "if (notebookContainer) {{\n",
       "    x.observe(notebookContainer, {childList: true});\n",
       "}}\n",
       "\n",
       "// Listen for the clearing of the current output cell\n",
       "var outputEl = gd.closest('.output');\n",
       "if (outputEl) {{\n",
       "    x.observe(outputEl, {childList: true});\n",
       "}}\n",
       "\n",
       "                        })                };                });            </script>        </div>"
      ]
     },
     "metadata": {},
     "output_type": "display_data"
    }
   ],
   "source": [
    "# step 1 ge/gf reset\n",
    "sched = Schedule(\"Qubit Reset - Step 1 - ge/gf qc\")\n",
    "\n",
    "readout_clock = ClockResource(name=\"q0.ro\", freq=0e9)\n",
    "sched.add_resource(readout_clock)\n",
    "\n",
    "# qc_offset = -10\n",
    "# qc_duration = 0.06e-6\n",
    "# cr_duration = 0.25e-6\n",
    "# amp = duration / target_duration* offset\n",
    "# start = sched.add(IdlePulse(duration=4e-6))\n",
    "\n",
    "qc_t = 0e-9\n",
    "qc_amp = -0.025\n",
    "amp2 = -0.01\n",
    "\n",
    "sched.add(\n",
    "    RampPulse(offset=qc_amp, amp=amp2, duration=qc_t, port=\"flux\", clock=\"q0.ro\")\n",
    ")\n",
    "\n",
    "comp_sched = device_compiler.compile(sched)\n",
    "comp_sched.plot_pulse_diagram(plot_backend=\"plotly\")"
   ]
  },
  {
   "cell_type": "code",
   "execution_count": 264,
   "id": "b93e3a59",
   "metadata": {},
   "outputs": [
    {
     "data": {
      "application/vnd.plotly.v1+json": {
       "config": {
        "plotlyServerURL": "https://plot.ly"
       },
       "data": [
        {
         "fill": "tozeroy",
         "hoverinfo": "x+y+name",
         "hoverlabel": {
          "namelength": -1
         },
         "legendgroup": "1",
         "line": {
          "color": "#EF553B"
         },
         "mode": "lines",
         "name": "RampPulse, clock: q0.ro",
         "showlegend": true,
         "type": "scatter",
         "x": [
          0.000004,
          0.0000040009999999999995,
          0.000004001999999999999,
          0.000004002999999999999,
          0.0000040039999999999984,
          0.000004004999999999998,
          0.000004005999999999998,
          0.000004006999999999997,
          0.000004007999999999997,
          0.000004008999999999997,
          0.000004009999999999996,
          0.000004010999999999996,
          0.000004011999999999996,
          0.000004012999999999995,
          0.000004013999999999995,
          0.000004014999999999995,
          0.000004015999999999994,
          0.000004016999999999994,
          0.0000040179999999999935,
          0.000004018999999999993
         ],
         "xaxis": "x",
         "y": [
          -0.025,
          -0.02375,
          -0.022500000000000003,
          -0.02125,
          -0.02,
          -0.018750000000000003,
          -0.0175,
          -0.01625,
          -0.015000000000000001,
          -0.013750000000000002,
          -0.0125,
          -0.011250000000000001,
          -0.010000000000000002,
          -0.00875,
          -0.0075,
          -0.006250000000000002,
          -0.005000000000000001,
          -0.00375,
          -0.0025000000000000022,
          -0.0012500000000000011
         ],
         "yaxis": "y"
        },
        {
         "fill": "tozeroy",
         "hoverinfo": "x+y+name",
         "hoverlabel": {
          "namelength": -1
         },
         "legendgroup": "2",
         "line": {
          "color": "#00CC96"
         },
         "mode": "lines",
         "name": "RampPulse, clock: q0.ro",
         "showlegend": true,
         "type": "scatter",
         "x": [
          0.00000402,
          0.000004020999999999999,
          0.000004021999999999999,
          0.000004022999999999999,
          0.000004023999999999998,
          0.000004024999999999998,
          0.0000040259999999999975,
          0.000004026999999999997,
          0.000004027999999999997,
          0.0000040289999999999965,
          0.000004029999999999996,
          0.000004030999999999996,
          0.0000040319999999999954,
          0.000004032999999999995,
          0.000004033999999999995,
          0.000004034999999999994,
          0.000004035999999999994,
          0.000004036999999999994,
          0.000004037999999999993,
          0.000004038999999999993
         ],
         "xaxis": "x",
         "y": [
          0,
          -0.00125,
          -0.0025,
          -0.00375,
          -0.005,
          -0.00625,
          -0.0075,
          -0.00875,
          -0.01,
          -0.01125,
          -0.0125,
          -0.01375,
          -0.015,
          -0.01625,
          -0.0175,
          -0.01875,
          -0.02,
          -0.02125,
          -0.0225,
          -0.02375
         ],
         "yaxis": "y"
        }
       ],
       "layout": {
        "height": 300,
        "showlegend": false,
        "template": {
         "data": {
          "bar": [
           {
            "error_x": {
             "color": "#2a3f5f"
            },
            "error_y": {
             "color": "#2a3f5f"
            },
            "marker": {
             "line": {
              "color": "#E5ECF6",
              "width": 0.5
             },
             "pattern": {
              "fillmode": "overlay",
              "size": 10,
              "solidity": 0.2
             }
            },
            "type": "bar"
           }
          ],
          "barpolar": [
           {
            "marker": {
             "line": {
              "color": "#E5ECF6",
              "width": 0.5
             },
             "pattern": {
              "fillmode": "overlay",
              "size": 10,
              "solidity": 0.2
             }
            },
            "type": "barpolar"
           }
          ],
          "carpet": [
           {
            "aaxis": {
             "endlinecolor": "#2a3f5f",
             "gridcolor": "white",
             "linecolor": "white",
             "minorgridcolor": "white",
             "startlinecolor": "#2a3f5f"
            },
            "baxis": {
             "endlinecolor": "#2a3f5f",
             "gridcolor": "white",
             "linecolor": "white",
             "minorgridcolor": "white",
             "startlinecolor": "#2a3f5f"
            },
            "type": "carpet"
           }
          ],
          "choropleth": [
           {
            "colorbar": {
             "outlinewidth": 0,
             "ticks": ""
            },
            "type": "choropleth"
           }
          ],
          "contour": [
           {
            "colorbar": {
             "outlinewidth": 0,
             "ticks": ""
            },
            "colorscale": [
             [
              0,
              "#0d0887"
             ],
             [
              0.1111111111111111,
              "#46039f"
             ],
             [
              0.2222222222222222,
              "#7201a8"
             ],
             [
              0.3333333333333333,
              "#9c179e"
             ],
             [
              0.4444444444444444,
              "#bd3786"
             ],
             [
              0.5555555555555556,
              "#d8576b"
             ],
             [
              0.6666666666666666,
              "#ed7953"
             ],
             [
              0.7777777777777778,
              "#fb9f3a"
             ],
             [
              0.8888888888888888,
              "#fdca26"
             ],
             [
              1,
              "#f0f921"
             ]
            ],
            "type": "contour"
           }
          ],
          "contourcarpet": [
           {
            "colorbar": {
             "outlinewidth": 0,
             "ticks": ""
            },
            "type": "contourcarpet"
           }
          ],
          "heatmap": [
           {
            "colorbar": {
             "outlinewidth": 0,
             "ticks": ""
            },
            "colorscale": [
             [
              0,
              "#0d0887"
             ],
             [
              0.1111111111111111,
              "#46039f"
             ],
             [
              0.2222222222222222,
              "#7201a8"
             ],
             [
              0.3333333333333333,
              "#9c179e"
             ],
             [
              0.4444444444444444,
              "#bd3786"
             ],
             [
              0.5555555555555556,
              "#d8576b"
             ],
             [
              0.6666666666666666,
              "#ed7953"
             ],
             [
              0.7777777777777778,
              "#fb9f3a"
             ],
             [
              0.8888888888888888,
              "#fdca26"
             ],
             [
              1,
              "#f0f921"
             ]
            ],
            "type": "heatmap"
           }
          ],
          "heatmapgl": [
           {
            "colorbar": {
             "outlinewidth": 0,
             "ticks": ""
            },
            "colorscale": [
             [
              0,
              "#0d0887"
             ],
             [
              0.1111111111111111,
              "#46039f"
             ],
             [
              0.2222222222222222,
              "#7201a8"
             ],
             [
              0.3333333333333333,
              "#9c179e"
             ],
             [
              0.4444444444444444,
              "#bd3786"
             ],
             [
              0.5555555555555556,
              "#d8576b"
             ],
             [
              0.6666666666666666,
              "#ed7953"
             ],
             [
              0.7777777777777778,
              "#fb9f3a"
             ],
             [
              0.8888888888888888,
              "#fdca26"
             ],
             [
              1,
              "#f0f921"
             ]
            ],
            "type": "heatmapgl"
           }
          ],
          "histogram": [
           {
            "marker": {
             "pattern": {
              "fillmode": "overlay",
              "size": 10,
              "solidity": 0.2
             }
            },
            "type": "histogram"
           }
          ],
          "histogram2d": [
           {
            "colorbar": {
             "outlinewidth": 0,
             "ticks": ""
            },
            "colorscale": [
             [
              0,
              "#0d0887"
             ],
             [
              0.1111111111111111,
              "#46039f"
             ],
             [
              0.2222222222222222,
              "#7201a8"
             ],
             [
              0.3333333333333333,
              "#9c179e"
             ],
             [
              0.4444444444444444,
              "#bd3786"
             ],
             [
              0.5555555555555556,
              "#d8576b"
             ],
             [
              0.6666666666666666,
              "#ed7953"
             ],
             [
              0.7777777777777778,
              "#fb9f3a"
             ],
             [
              0.8888888888888888,
              "#fdca26"
             ],
             [
              1,
              "#f0f921"
             ]
            ],
            "type": "histogram2d"
           }
          ],
          "histogram2dcontour": [
           {
            "colorbar": {
             "outlinewidth": 0,
             "ticks": ""
            },
            "colorscale": [
             [
              0,
              "#0d0887"
             ],
             [
              0.1111111111111111,
              "#46039f"
             ],
             [
              0.2222222222222222,
              "#7201a8"
             ],
             [
              0.3333333333333333,
              "#9c179e"
             ],
             [
              0.4444444444444444,
              "#bd3786"
             ],
             [
              0.5555555555555556,
              "#d8576b"
             ],
             [
              0.6666666666666666,
              "#ed7953"
             ],
             [
              0.7777777777777778,
              "#fb9f3a"
             ],
             [
              0.8888888888888888,
              "#fdca26"
             ],
             [
              1,
              "#f0f921"
             ]
            ],
            "type": "histogram2dcontour"
           }
          ],
          "mesh3d": [
           {
            "colorbar": {
             "outlinewidth": 0,
             "ticks": ""
            },
            "type": "mesh3d"
           }
          ],
          "parcoords": [
           {
            "line": {
             "colorbar": {
              "outlinewidth": 0,
              "ticks": ""
             }
            },
            "type": "parcoords"
           }
          ],
          "pie": [
           {
            "automargin": true,
            "type": "pie"
           }
          ],
          "scatter": [
           {
            "fillpattern": {
             "fillmode": "overlay",
             "size": 10,
             "solidity": 0.2
            },
            "type": "scatter"
           }
          ],
          "scatter3d": [
           {
            "line": {
             "colorbar": {
              "outlinewidth": 0,
              "ticks": ""
             }
            },
            "marker": {
             "colorbar": {
              "outlinewidth": 0,
              "ticks": ""
             }
            },
            "type": "scatter3d"
           }
          ],
          "scattercarpet": [
           {
            "marker": {
             "colorbar": {
              "outlinewidth": 0,
              "ticks": ""
             }
            },
            "type": "scattercarpet"
           }
          ],
          "scattergeo": [
           {
            "marker": {
             "colorbar": {
              "outlinewidth": 0,
              "ticks": ""
             }
            },
            "type": "scattergeo"
           }
          ],
          "scattergl": [
           {
            "marker": {
             "colorbar": {
              "outlinewidth": 0,
              "ticks": ""
             }
            },
            "type": "scattergl"
           }
          ],
          "scattermapbox": [
           {
            "marker": {
             "colorbar": {
              "outlinewidth": 0,
              "ticks": ""
             }
            },
            "type": "scattermapbox"
           }
          ],
          "scatterpolar": [
           {
            "marker": {
             "colorbar": {
              "outlinewidth": 0,
              "ticks": ""
             }
            },
            "type": "scatterpolar"
           }
          ],
          "scatterpolargl": [
           {
            "marker": {
             "colorbar": {
              "outlinewidth": 0,
              "ticks": ""
             }
            },
            "type": "scatterpolargl"
           }
          ],
          "scatterternary": [
           {
            "marker": {
             "colorbar": {
              "outlinewidth": 0,
              "ticks": ""
             }
            },
            "type": "scatterternary"
           }
          ],
          "surface": [
           {
            "colorbar": {
             "outlinewidth": 0,
             "ticks": ""
            },
            "colorscale": [
             [
              0,
              "#0d0887"
             ],
             [
              0.1111111111111111,
              "#46039f"
             ],
             [
              0.2222222222222222,
              "#7201a8"
             ],
             [
              0.3333333333333333,
              "#9c179e"
             ],
             [
              0.4444444444444444,
              "#bd3786"
             ],
             [
              0.5555555555555556,
              "#d8576b"
             ],
             [
              0.6666666666666666,
              "#ed7953"
             ],
             [
              0.7777777777777778,
              "#fb9f3a"
             ],
             [
              0.8888888888888888,
              "#fdca26"
             ],
             [
              1,
              "#f0f921"
             ]
            ],
            "type": "surface"
           }
          ],
          "table": [
           {
            "cells": {
             "fill": {
              "color": "#EBF0F8"
             },
             "line": {
              "color": "white"
             }
            },
            "header": {
             "fill": {
              "color": "#C8D4E3"
             },
             "line": {
              "color": "white"
             }
            },
            "type": "table"
           }
          ]
         },
         "layout": {
          "annotationdefaults": {
           "arrowcolor": "#2a3f5f",
           "arrowhead": 0,
           "arrowwidth": 1
          },
          "autotypenumbers": "strict",
          "coloraxis": {
           "colorbar": {
            "outlinewidth": 0,
            "ticks": ""
           }
          },
          "colorscale": {
           "diverging": [
            [
             0,
             "#8e0152"
            ],
            [
             0.1,
             "#c51b7d"
            ],
            [
             0.2,
             "#de77ae"
            ],
            [
             0.3,
             "#f1b6da"
            ],
            [
             0.4,
             "#fde0ef"
            ],
            [
             0.5,
             "#f7f7f7"
            ],
            [
             0.6,
             "#e6f5d0"
            ],
            [
             0.7,
             "#b8e186"
            ],
            [
             0.8,
             "#7fbc41"
            ],
            [
             0.9,
             "#4d9221"
            ],
            [
             1,
             "#276419"
            ]
           ],
           "sequential": [
            [
             0,
             "#0d0887"
            ],
            [
             0.1111111111111111,
             "#46039f"
            ],
            [
             0.2222222222222222,
             "#7201a8"
            ],
            [
             0.3333333333333333,
             "#9c179e"
            ],
            [
             0.4444444444444444,
             "#bd3786"
            ],
            [
             0.5555555555555556,
             "#d8576b"
            ],
            [
             0.6666666666666666,
             "#ed7953"
            ],
            [
             0.7777777777777778,
             "#fb9f3a"
            ],
            [
             0.8888888888888888,
             "#fdca26"
            ],
            [
             1,
             "#f0f921"
            ]
           ],
           "sequentialminus": [
            [
             0,
             "#0d0887"
            ],
            [
             0.1111111111111111,
             "#46039f"
            ],
            [
             0.2222222222222222,
             "#7201a8"
            ],
            [
             0.3333333333333333,
             "#9c179e"
            ],
            [
             0.4444444444444444,
             "#bd3786"
            ],
            [
             0.5555555555555556,
             "#d8576b"
            ],
            [
             0.6666666666666666,
             "#ed7953"
            ],
            [
             0.7777777777777778,
             "#fb9f3a"
            ],
            [
             0.8888888888888888,
             "#fdca26"
            ],
            [
             1,
             "#f0f921"
            ]
           ]
          },
          "colorway": [
           "#636efa",
           "#EF553B",
           "#00cc96",
           "#ab63fa",
           "#FFA15A",
           "#19d3f3",
           "#FF6692",
           "#B6E880",
           "#FF97FF",
           "#FECB52"
          ],
          "font": {
           "color": "#2a3f5f"
          },
          "geo": {
           "bgcolor": "white",
           "lakecolor": "white",
           "landcolor": "#E5ECF6",
           "showlakes": true,
           "showland": true,
           "subunitcolor": "white"
          },
          "hoverlabel": {
           "align": "left"
          },
          "hovermode": "closest",
          "mapbox": {
           "style": "light"
          },
          "paper_bgcolor": "white",
          "plot_bgcolor": "#E5ECF6",
          "polar": {
           "angularaxis": {
            "gridcolor": "white",
            "linecolor": "white",
            "ticks": ""
           },
           "bgcolor": "#E5ECF6",
           "radialaxis": {
            "gridcolor": "white",
            "linecolor": "white",
            "ticks": ""
           }
          },
          "scene": {
           "xaxis": {
            "backgroundcolor": "#E5ECF6",
            "gridcolor": "white",
            "gridwidth": 2,
            "linecolor": "white",
            "showbackground": true,
            "ticks": "",
            "zerolinecolor": "white"
           },
           "yaxis": {
            "backgroundcolor": "#E5ECF6",
            "gridcolor": "white",
            "gridwidth": 2,
            "linecolor": "white",
            "showbackground": true,
            "ticks": "",
            "zerolinecolor": "white"
           },
           "zaxis": {
            "backgroundcolor": "#E5ECF6",
            "gridcolor": "white",
            "gridwidth": 2,
            "linecolor": "white",
            "showbackground": true,
            "ticks": "",
            "zerolinecolor": "white"
           }
          },
          "shapedefaults": {
           "line": {
            "color": "#2a3f5f"
           }
          },
          "ternary": {
           "aaxis": {
            "gridcolor": "white",
            "linecolor": "white",
            "ticks": ""
           },
           "baxis": {
            "gridcolor": "white",
            "linecolor": "white",
            "ticks": ""
           },
           "bgcolor": "#E5ECF6",
           "caxis": {
            "gridcolor": "white",
            "linecolor": "white",
            "ticks": ""
           }
          },
          "title": {
           "x": 0.05
          },
          "xaxis": {
           "automargin": true,
           "gridcolor": "white",
           "linecolor": "white",
           "ticks": "",
           "title": {
            "standoff": 15
           },
           "zerolinecolor": "white",
           "zerolinewidth": 2
          },
          "yaxis": {
           "automargin": true,
           "gridcolor": "white",
           "linecolor": "white",
           "ticks": "",
           "title": {
            "standoff": 15
           },
           "zerolinecolor": "white",
           "zerolinewidth": 2
          }
         }
        },
        "title": {
         "text": "Qubit Reset - Step 2 - ge/gf cq"
        },
        "width": 1000,
        "xaxis": {
         "anchor": "y",
         "domain": [
          0,
          1
         ],
         "hoverformat": ".3s",
         "showgrid": true,
         "tickformat": ".2s",
         "tickformatstops": [
          {
           "dtickrange": [
            null,
            1e-9
           ],
           "value": ".10s"
          },
          {
           "dtickrange": [
            1e-9,
            0.000001
           ],
           "value": ".7s"
          },
          {
           "dtickrange": [
            0.000001,
            0.001
           ],
           "value": ".4s"
          }
         ],
         "ticksuffix": "s",
         "title": {
          "text": "Time"
         }
        },
        "yaxis": {
         "anchor": "x",
         "autorange": true,
         "domain": [
          0,
          1
         ],
         "hoverformat": ".3s",
         "tickformat": ".2s",
         "ticksuffix": "V",
         "title": {
          "text": "flux"
         }
        }
       }
      },
      "text/html": [
       "<div>                            <div id=\"8b487dc7-a7f8-423e-8e3f-7280d08187f7\" class=\"plotly-graph-div\" style=\"height:300px; width:1000px;\"></div>            <script type=\"text/javascript\">                require([\"plotly\"], function(Plotly) {                    window.PLOTLYENV=window.PLOTLYENV || {};                                    if (document.getElementById(\"8b487dc7-a7f8-423e-8e3f-7280d08187f7\")) {                    Plotly.newPlot(                        \"8b487dc7-a7f8-423e-8e3f-7280d08187f7\",                        [{\"fill\":\"tozeroy\",\"hoverinfo\":\"x+y+name\",\"hoverlabel\":{\"namelength\":-1},\"legendgroup\":\"1\",\"line\":{\"color\":\"#EF553B\"},\"mode\":\"lines\",\"name\":\"RampPulse, clock: q0.ro\",\"showlegend\":true,\"x\":[4e-6,4.0009999999999995e-6,4.001999999999999e-6,4.002999999999999e-6,4.0039999999999984e-6,4.004999999999998e-6,4.005999999999998e-6,4.006999999999997e-6,4.007999999999997e-6,4.008999999999997e-6,4.009999999999996e-6,4.010999999999996e-6,4.011999999999996e-6,4.012999999999995e-6,4.013999999999995e-6,4.014999999999995e-6,4.015999999999994e-6,4.016999999999994e-6,4.0179999999999935e-6,4.018999999999993e-6],\"y\":[-0.025,-0.02375,-0.022500000000000003,-0.02125,-0.02,-0.018750000000000003,-0.0175,-0.01625,-0.015000000000000001,-0.013750000000000002,-0.0125,-0.011250000000000001,-0.010000000000000002,-0.00875,-0.0075,-0.006250000000000002,-0.005000000000000001,-0.00375,-0.0025000000000000022,-0.0012500000000000011],\"type\":\"scatter\",\"xaxis\":\"x\",\"yaxis\":\"y\"},{\"fill\":\"tozeroy\",\"hoverinfo\":\"x+y+name\",\"hoverlabel\":{\"namelength\":-1},\"legendgroup\":\"2\",\"line\":{\"color\":\"#00CC96\"},\"mode\":\"lines\",\"name\":\"RampPulse, clock: q0.ro\",\"showlegend\":true,\"x\":[4.02e-6,4.020999999999999e-6,4.021999999999999e-6,4.022999999999999e-6,4.023999999999998e-6,4.024999999999998e-6,4.0259999999999975e-6,4.026999999999997e-6,4.027999999999997e-6,4.0289999999999965e-6,4.029999999999996e-6,4.030999999999996e-6,4.0319999999999954e-6,4.032999999999995e-6,4.033999999999995e-6,4.034999999999994e-6,4.035999999999994e-6,4.036999999999994e-6,4.037999999999993e-6,4.038999999999993e-6],\"y\":[0.0,-0.00125,-0.0025,-0.00375,-0.005,-0.00625,-0.0075,-0.00875,-0.01,-0.01125,-0.0125,-0.01375,-0.015,-0.01625,-0.0175,-0.01875,-0.02,-0.02125,-0.0225,-0.02375],\"type\":\"scatter\",\"xaxis\":\"x\",\"yaxis\":\"y\"}],                        {\"template\":{\"data\":{\"histogram2dcontour\":[{\"type\":\"histogram2dcontour\",\"colorbar\":{\"outlinewidth\":0,\"ticks\":\"\"},\"colorscale\":[[0.0,\"#0d0887\"],[0.1111111111111111,\"#46039f\"],[0.2222222222222222,\"#7201a8\"],[0.3333333333333333,\"#9c179e\"],[0.4444444444444444,\"#bd3786\"],[0.5555555555555556,\"#d8576b\"],[0.6666666666666666,\"#ed7953\"],[0.7777777777777778,\"#fb9f3a\"],[0.8888888888888888,\"#fdca26\"],[1.0,\"#f0f921\"]]}],\"choropleth\":[{\"type\":\"choropleth\",\"colorbar\":{\"outlinewidth\":0,\"ticks\":\"\"}}],\"histogram2d\":[{\"type\":\"histogram2d\",\"colorbar\":{\"outlinewidth\":0,\"ticks\":\"\"},\"colorscale\":[[0.0,\"#0d0887\"],[0.1111111111111111,\"#46039f\"],[0.2222222222222222,\"#7201a8\"],[0.3333333333333333,\"#9c179e\"],[0.4444444444444444,\"#bd3786\"],[0.5555555555555556,\"#d8576b\"],[0.6666666666666666,\"#ed7953\"],[0.7777777777777778,\"#fb9f3a\"],[0.8888888888888888,\"#fdca26\"],[1.0,\"#f0f921\"]]}],\"heatmap\":[{\"type\":\"heatmap\",\"colorbar\":{\"outlinewidth\":0,\"ticks\":\"\"},\"colorscale\":[[0.0,\"#0d0887\"],[0.1111111111111111,\"#46039f\"],[0.2222222222222222,\"#7201a8\"],[0.3333333333333333,\"#9c179e\"],[0.4444444444444444,\"#bd3786\"],[0.5555555555555556,\"#d8576b\"],[0.6666666666666666,\"#ed7953\"],[0.7777777777777778,\"#fb9f3a\"],[0.8888888888888888,\"#fdca26\"],[1.0,\"#f0f921\"]]}],\"heatmapgl\":[{\"type\":\"heatmapgl\",\"colorbar\":{\"outlinewidth\":0,\"ticks\":\"\"},\"colorscale\":[[0.0,\"#0d0887\"],[0.1111111111111111,\"#46039f\"],[0.2222222222222222,\"#7201a8\"],[0.3333333333333333,\"#9c179e\"],[0.4444444444444444,\"#bd3786\"],[0.5555555555555556,\"#d8576b\"],[0.6666666666666666,\"#ed7953\"],[0.7777777777777778,\"#fb9f3a\"],[0.8888888888888888,\"#fdca26\"],[1.0,\"#f0f921\"]]}],\"contourcarpet\":[{\"type\":\"contourcarpet\",\"colorbar\":{\"outlinewidth\":0,\"ticks\":\"\"}}],\"contour\":[{\"type\":\"contour\",\"colorbar\":{\"outlinewidth\":0,\"ticks\":\"\"},\"colorscale\":[[0.0,\"#0d0887\"],[0.1111111111111111,\"#46039f\"],[0.2222222222222222,\"#7201a8\"],[0.3333333333333333,\"#9c179e\"],[0.4444444444444444,\"#bd3786\"],[0.5555555555555556,\"#d8576b\"],[0.6666666666666666,\"#ed7953\"],[0.7777777777777778,\"#fb9f3a\"],[0.8888888888888888,\"#fdca26\"],[1.0,\"#f0f921\"]]}],\"surface\":[{\"type\":\"surface\",\"colorbar\":{\"outlinewidth\":0,\"ticks\":\"\"},\"colorscale\":[[0.0,\"#0d0887\"],[0.1111111111111111,\"#46039f\"],[0.2222222222222222,\"#7201a8\"],[0.3333333333333333,\"#9c179e\"],[0.4444444444444444,\"#bd3786\"],[0.5555555555555556,\"#d8576b\"],[0.6666666666666666,\"#ed7953\"],[0.7777777777777778,\"#fb9f3a\"],[0.8888888888888888,\"#fdca26\"],[1.0,\"#f0f921\"]]}],\"mesh3d\":[{\"type\":\"mesh3d\",\"colorbar\":{\"outlinewidth\":0,\"ticks\":\"\"}}],\"scatter\":[{\"fillpattern\":{\"fillmode\":\"overlay\",\"size\":10,\"solidity\":0.2},\"type\":\"scatter\"}],\"parcoords\":[{\"type\":\"parcoords\",\"line\":{\"colorbar\":{\"outlinewidth\":0,\"ticks\":\"\"}}}],\"scatterpolargl\":[{\"type\":\"scatterpolargl\",\"marker\":{\"colorbar\":{\"outlinewidth\":0,\"ticks\":\"\"}}}],\"bar\":[{\"error_x\":{\"color\":\"#2a3f5f\"},\"error_y\":{\"color\":\"#2a3f5f\"},\"marker\":{\"line\":{\"color\":\"#E5ECF6\",\"width\":0.5},\"pattern\":{\"fillmode\":\"overlay\",\"size\":10,\"solidity\":0.2}},\"type\":\"bar\"}],\"scattergeo\":[{\"type\":\"scattergeo\",\"marker\":{\"colorbar\":{\"outlinewidth\":0,\"ticks\":\"\"}}}],\"scatterpolar\":[{\"type\":\"scatterpolar\",\"marker\":{\"colorbar\":{\"outlinewidth\":0,\"ticks\":\"\"}}}],\"histogram\":[{\"marker\":{\"pattern\":{\"fillmode\":\"overlay\",\"size\":10,\"solidity\":0.2}},\"type\":\"histogram\"}],\"scattergl\":[{\"type\":\"scattergl\",\"marker\":{\"colorbar\":{\"outlinewidth\":0,\"ticks\":\"\"}}}],\"scatter3d\":[{\"type\":\"scatter3d\",\"line\":{\"colorbar\":{\"outlinewidth\":0,\"ticks\":\"\"}},\"marker\":{\"colorbar\":{\"outlinewidth\":0,\"ticks\":\"\"}}}],\"scattermapbox\":[{\"type\":\"scattermapbox\",\"marker\":{\"colorbar\":{\"outlinewidth\":0,\"ticks\":\"\"}}}],\"scatterternary\":[{\"type\":\"scatterternary\",\"marker\":{\"colorbar\":{\"outlinewidth\":0,\"ticks\":\"\"}}}],\"scattercarpet\":[{\"type\":\"scattercarpet\",\"marker\":{\"colorbar\":{\"outlinewidth\":0,\"ticks\":\"\"}}}],\"carpet\":[{\"aaxis\":{\"endlinecolor\":\"#2a3f5f\",\"gridcolor\":\"white\",\"linecolor\":\"white\",\"minorgridcolor\":\"white\",\"startlinecolor\":\"#2a3f5f\"},\"baxis\":{\"endlinecolor\":\"#2a3f5f\",\"gridcolor\":\"white\",\"linecolor\":\"white\",\"minorgridcolor\":\"white\",\"startlinecolor\":\"#2a3f5f\"},\"type\":\"carpet\"}],\"table\":[{\"cells\":{\"fill\":{\"color\":\"#EBF0F8\"},\"line\":{\"color\":\"white\"}},\"header\":{\"fill\":{\"color\":\"#C8D4E3\"},\"line\":{\"color\":\"white\"}},\"type\":\"table\"}],\"barpolar\":[{\"marker\":{\"line\":{\"color\":\"#E5ECF6\",\"width\":0.5},\"pattern\":{\"fillmode\":\"overlay\",\"size\":10,\"solidity\":0.2}},\"type\":\"barpolar\"}],\"pie\":[{\"automargin\":true,\"type\":\"pie\"}]},\"layout\":{\"autotypenumbers\":\"strict\",\"colorway\":[\"#636efa\",\"#EF553B\",\"#00cc96\",\"#ab63fa\",\"#FFA15A\",\"#19d3f3\",\"#FF6692\",\"#B6E880\",\"#FF97FF\",\"#FECB52\"],\"font\":{\"color\":\"#2a3f5f\"},\"hovermode\":\"closest\",\"hoverlabel\":{\"align\":\"left\"},\"paper_bgcolor\":\"white\",\"plot_bgcolor\":\"#E5ECF6\",\"polar\":{\"bgcolor\":\"#E5ECF6\",\"angularaxis\":{\"gridcolor\":\"white\",\"linecolor\":\"white\",\"ticks\":\"\"},\"radialaxis\":{\"gridcolor\":\"white\",\"linecolor\":\"white\",\"ticks\":\"\"}},\"ternary\":{\"bgcolor\":\"#E5ECF6\",\"aaxis\":{\"gridcolor\":\"white\",\"linecolor\":\"white\",\"ticks\":\"\"},\"baxis\":{\"gridcolor\":\"white\",\"linecolor\":\"white\",\"ticks\":\"\"},\"caxis\":{\"gridcolor\":\"white\",\"linecolor\":\"white\",\"ticks\":\"\"}},\"coloraxis\":{\"colorbar\":{\"outlinewidth\":0,\"ticks\":\"\"}},\"colorscale\":{\"sequential\":[[0.0,\"#0d0887\"],[0.1111111111111111,\"#46039f\"],[0.2222222222222222,\"#7201a8\"],[0.3333333333333333,\"#9c179e\"],[0.4444444444444444,\"#bd3786\"],[0.5555555555555556,\"#d8576b\"],[0.6666666666666666,\"#ed7953\"],[0.7777777777777778,\"#fb9f3a\"],[0.8888888888888888,\"#fdca26\"],[1.0,\"#f0f921\"]],\"sequentialminus\":[[0.0,\"#0d0887\"],[0.1111111111111111,\"#46039f\"],[0.2222222222222222,\"#7201a8\"],[0.3333333333333333,\"#9c179e\"],[0.4444444444444444,\"#bd3786\"],[0.5555555555555556,\"#d8576b\"],[0.6666666666666666,\"#ed7953\"],[0.7777777777777778,\"#fb9f3a\"],[0.8888888888888888,\"#fdca26\"],[1.0,\"#f0f921\"]],\"diverging\":[[0,\"#8e0152\"],[0.1,\"#c51b7d\"],[0.2,\"#de77ae\"],[0.3,\"#f1b6da\"],[0.4,\"#fde0ef\"],[0.5,\"#f7f7f7\"],[0.6,\"#e6f5d0\"],[0.7,\"#b8e186\"],[0.8,\"#7fbc41\"],[0.9,\"#4d9221\"],[1,\"#276419\"]]},\"xaxis\":{\"gridcolor\":\"white\",\"linecolor\":\"white\",\"ticks\":\"\",\"title\":{\"standoff\":15},\"zerolinecolor\":\"white\",\"automargin\":true,\"zerolinewidth\":2},\"yaxis\":{\"gridcolor\":\"white\",\"linecolor\":\"white\",\"ticks\":\"\",\"title\":{\"standoff\":15},\"zerolinecolor\":\"white\",\"automargin\":true,\"zerolinewidth\":2},\"scene\":{\"xaxis\":{\"backgroundcolor\":\"#E5ECF6\",\"gridcolor\":\"white\",\"linecolor\":\"white\",\"showbackground\":true,\"ticks\":\"\",\"zerolinecolor\":\"white\",\"gridwidth\":2},\"yaxis\":{\"backgroundcolor\":\"#E5ECF6\",\"gridcolor\":\"white\",\"linecolor\":\"white\",\"showbackground\":true,\"ticks\":\"\",\"zerolinecolor\":\"white\",\"gridwidth\":2},\"zaxis\":{\"backgroundcolor\":\"#E5ECF6\",\"gridcolor\":\"white\",\"linecolor\":\"white\",\"showbackground\":true,\"ticks\":\"\",\"zerolinecolor\":\"white\",\"gridwidth\":2}},\"shapedefaults\":{\"line\":{\"color\":\"#2a3f5f\"}},\"annotationdefaults\":{\"arrowcolor\":\"#2a3f5f\",\"arrowhead\":0,\"arrowwidth\":1},\"geo\":{\"bgcolor\":\"white\",\"landcolor\":\"#E5ECF6\",\"subunitcolor\":\"white\",\"showland\":true,\"showlakes\":true,\"lakecolor\":\"white\"},\"title\":{\"x\":0.05},\"mapbox\":{\"style\":\"light\"}}},\"xaxis\":{\"anchor\":\"y\",\"domain\":[0.0,1.0],\"tickformat\":\".2s\",\"hoverformat\":\".3s\",\"ticksuffix\":\"s\",\"showgrid\":true,\"title\":{\"text\":\"Time\"},\"tickformatstops\":[{\"dtickrange\":[null,1e-9],\"value\":\".10s\"},{\"dtickrange\":[1e-9,1e-6],\"value\":\".7s\"},{\"dtickrange\":[1e-6,0.001],\"value\":\".4s\"}]},\"yaxis\":{\"anchor\":\"x\",\"domain\":[0.0,1.0],\"tickformat\":\".2s\",\"hoverformat\":\".3s\",\"ticksuffix\":\"V\",\"title\":{\"text\":\"flux\"},\"autorange\":true},\"height\":300,\"width\":1000,\"title\":{\"text\":\"Qubit Reset - Step 2 - ge\\u002fgf cq\"},\"showlegend\":false},                        {\"responsive\": true}                    ).then(function(){\n",
       "                            \n",
       "var gd = document.getElementById('8b487dc7-a7f8-423e-8e3f-7280d08187f7');\n",
       "var x = new MutationObserver(function (mutations, observer) {{\n",
       "        var display = window.getComputedStyle(gd).display;\n",
       "        if (!display || display === 'none') {{\n",
       "            console.log([gd, 'removed!']);\n",
       "            Plotly.purge(gd);\n",
       "            observer.disconnect();\n",
       "        }}\n",
       "}});\n",
       "\n",
       "// Listen for the removal of the full notebook cells\n",
       "var notebookContainer = gd.closest('#notebook-container');\n",
       "if (notebookContainer) {{\n",
       "    x.observe(notebookContainer, {childList: true});\n",
       "}}\n",
       "\n",
       "// Listen for the clearing of the current output cell\n",
       "var outputEl = gd.closest('.output');\n",
       "if (outputEl) {{\n",
       "    x.observe(outputEl, {childList: true});\n",
       "}}\n",
       "\n",
       "                        })                };                });            </script>        </div>"
      ]
     },
     "metadata": {},
     "output_type": "display_data"
    }
   ],
   "source": [
    "# step 3\n",
    "\n",
    "sched = Schedule(\"Qubit Reset - Step 2 - ge/gf cq\")\n",
    "\n",
    "readout_clock = ClockResource(name=\"q0.ro\", freq=0e9)\n",
    "sched.add_resource(readout_clock)\n",
    "\n",
    "# qc_offset = -10\n",
    "# qc_duration = 0.06e-6\n",
    "# cr_duration = 0.25e-6\n",
    "# amp = duration / target_duration* offset\n",
    "start = sched.add(IdlePulse(duration=4e-6))\n",
    "\n",
    "qc_t = 20e-9\n",
    "qc_amp = -0.025\n",
    "\n",
    "sched.add(\n",
    "    RampPulse(offset=qc_amp, amp=-qc_amp, duration=qc_t, port=\"flux\", clock=\"q0.ro\")\n",
    ")\n",
    "\n",
    "sched.add(\n",
    "    RampPulse(offset=0, amp=qc_amp, duration=qc_t, port=\"flux\", clock=\"q0.ro\")\n",
    ")\n",
    "\n",
    "\n",
    "comp_sched = device_compiler.compile(sched)\n",
    "comp_sched.plot_pulse_diagram(plot_backend=\"plotly\")\n"
   ]
  },
  {
   "cell_type": "code",
   "execution_count": 269,
   "id": "7efbafb5",
   "metadata": {},
   "outputs": [
    {
     "data": {
      "application/vnd.plotly.v1+json": {
       "config": {
        "plotlyServerURL": "https://plot.ly"
       },
       "data": [
        {
         "fill": "tozeroy",
         "hoverinfo": "x+y+name",
         "hoverlabel": {
          "namelength": -1
         },
         "legendgroup": "1",
         "line": {
          "color": "#EF553B"
         },
         "mode": "lines",
         "name": "RampPulse, clock: q0.ro",
         "showlegend": true,
         "type": "scatter",
         "x": [
          0.000004,
          0.0000040009999999999995,
          0.000004001999999999999,
          0.000004002999999999999,
          0.0000040039999999999984,
          0.000004004999999999998,
          0.000004005999999999998,
          0.000004006999999999997,
          0.000004007999999999997,
          0.000004008999999999997,
          0.000004009999999999996,
          0.000004010999999999996,
          0.000004011999999999996,
          0.000004012999999999995,
          0.000004013999999999995,
          0.000004014999999999995,
          0.000004015999999999994,
          0.000004016999999999994,
          0.0000040179999999999935,
          0.000004018999999999993
         ],
         "xaxis": "x",
         "y": [
          -0.025,
          -0.02375,
          -0.022500000000000003,
          -0.02125,
          -0.02,
          -0.018750000000000003,
          -0.0175,
          -0.01625,
          -0.015000000000000001,
          -0.013750000000000002,
          -0.0125,
          -0.011250000000000001,
          -0.010000000000000002,
          -0.00875,
          -0.0075,
          -0.006250000000000002,
          -0.005000000000000001,
          -0.00375,
          -0.0025000000000000022,
          -0.0012500000000000011
         ],
         "yaxis": "y"
        },
        {
         "fill": "tozeroy",
         "hoverinfo": "x+y+name",
         "hoverlabel": {
          "namelength": -1
         },
         "legendgroup": "2",
         "line": {
          "color": "#00CC96"
         },
         "mode": "lines",
         "name": "RampPulse, clock: q0.ro",
         "showlegend": true,
         "type": "scatter",
         "x": [
          0.00000402,
          0.000004020999999999999,
          0.000004021999999999999,
          0.000004022999999999999,
          0.000004023999999999998,
          0.000004024999999999998,
          0.0000040259999999999975,
          0.000004026999999999997,
          0.000004027999999999997,
          0.0000040289999999999965,
          0.000004029999999999996,
          0.000004030999999999996,
          0.0000040319999999999954,
          0.000004032999999999995,
          0.000004033999999999995,
          0.000004034999999999994,
          0.000004035999999999994,
          0.000004036999999999994,
          0.000004037999999999993,
          0.000004038999999999993,
          0.000004039999999999993,
          0.000004040999999999992,
          0.000004041999999999992,
          0.000004042999999999992,
          0.000004043999999999991,
          0.000004044999999999991,
          0.0000040459999999999906,
          0.00000404699999999999,
          0.00000404799999999999,
          0.0000040489999999999895,
          0.000004049999999999989,
          0.000004050999999999989,
          0.0000040519999999999885,
          0.000004052999999999988,
          0.000004053999999999988,
          0.0000040549999999999874,
          0.000004055999999999987,
          0.000004056999999999987,
          0.000004057999999999986,
          0.000004058999999999986,
          0.000004059999999999986,
          0.000004060999999999985,
          0.000004061999999999985,
          0.000004062999999999985,
          0.000004063999999999984,
          0.000004064999999999984,
          0.000004065999999999984,
          0.000004066999999999983,
          0.000004067999999999983,
          0.0000040689999999999826,
          0.000004069999999999982,
          0.000004070999999999982,
          0.0000040719999999999815,
          0.000004072999999999981,
          0.000004073999999999981,
          0.0000040749999999999805,
          0.00000407599999999998,
          0.00000407699999999998,
          0.000004077999999999979,
          0.000004078999999999979,
          0.000004079999999999979,
          0.000004080999999999978,
          0.000004081999999999978,
          0.000004082999999999978,
          0.000004083999999999977,
          0.000004084999999999977,
          0.000004085999999999977,
          0.000004086999999999976,
          0.000004087999999999976,
          0.000004088999999999976,
          0.000004089999999999975,
          0.000004090999999999975,
          0.0000040919999999999745,
          0.000004092999999999974,
          0.000004093999999999974,
          0.0000040949999999999735,
          0.000004095999999999973,
          0.000004096999999999973,
          0.0000040979999999999725,
          0.000004098999999999972,
          0.000004099999999999972,
          0.000004100999999999971,
          0.000004101999999999971,
          0.000004102999999999971,
          0.00000410399999999997,
          0.00000410499999999997,
          0.00000410599999999997,
          0.000004106999999999969,
          0.000004107999999999969,
          0.000004108999999999969,
          0.000004109999999999968,
          0.000004110999999999968,
          0.0000041119999999999676,
          0.000004112999999999967,
          0.000004113999999999967,
          0.0000041149999999999665,
          0.000004115999999999966,
          0.000004116999999999966,
          0.0000041179999999999655,
          0.000004118999999999965,
          0.000004119999999999965,
          0.0000041209999999999644,
          0.000004121999999999964,
          0.000004122999999999964,
          0.000004123999999999963,
          0.000004124999999999963,
          0.000004125999999999963,
          0.000004126999999999962,
          0.000004127999999999962,
          0.000004128999999999962,
          0.000004129999999999961,
          0.000004130999999999961,
          0.000004131999999999961,
          0.00000413299999999996,
          0.00000413399999999996,
          0.0000041349999999999596,
          0.000004135999999999959,
          0.000004136999999999959,
          0.0000041379999999999585,
          0.000004138999999999958,
          0.000004139999999999958,
          0.0000041409999999999575,
          0.000004141999999999957,
          0.000004142999999999957,
          0.0000041439999999999564,
          0.000004144999999999956,
          0.000004145999999999956,
          0.000004146999999999955,
          0.000004147999999999955,
          0.000004148999999999955,
          0.000004149999999999954,
          0.000004150999999999954,
          0.000004151999999999954,
          0.000004152999999999953,
          0.000004153999999999953,
          0.000004154999999999953
         ],
         "xaxis": "x",
         "y": [
          0.05,
          0.05,
          0.05,
          0.05,
          0.05,
          0.05,
          0.05,
          0.05,
          0.05,
          0.05,
          0.05,
          0.05,
          0.05,
          0.05,
          0.05,
          0.05,
          0.05,
          0.05,
          0.05,
          0.05,
          0.05,
          0.05,
          0.05,
          0.05,
          0.05,
          0.05,
          0.05,
          0.05,
          0.05,
          0.05,
          0.05,
          0.05,
          0.05,
          0.05,
          0.05,
          0.05,
          0.05,
          0.05,
          0.05,
          0.05,
          0.05,
          0.05,
          0.05,
          0.05,
          0.05,
          0.05,
          0.05,
          0.05,
          0.05,
          0.05,
          0.05,
          0.05,
          0.05,
          0.05,
          0.05,
          0.05,
          0.05,
          0.05,
          0.05,
          0.05,
          0.05,
          0.05,
          0.05,
          0.05,
          0.05,
          0.05,
          0.05,
          0.05,
          0.05,
          0.05,
          0.05,
          0.05,
          0.05,
          0.05,
          0.05,
          0.05,
          0.05,
          0.05,
          0.05,
          0.05,
          0.05,
          0.05,
          0.05,
          0.05,
          0.05,
          0.05,
          0.05,
          0.05,
          0.05,
          0.05,
          0.05,
          0.05,
          0.05,
          0.05,
          0.05,
          0.05,
          0.05,
          0.05,
          0.05,
          0.05,
          0.05,
          0.05,
          0.05,
          0.05,
          0.05,
          0.05,
          0.05,
          0.05,
          0.05,
          0.05,
          0.05,
          0.05,
          0.05,
          0.05,
          0.05,
          0.05,
          0.05,
          0.05,
          0.05,
          0.05,
          0.05,
          0.05,
          0.05,
          0.05,
          0.05,
          0.05,
          0.05,
          0.05,
          0.05,
          0.05,
          0.05,
          0.05,
          0.05,
          0.05,
          0.05,
          0.05
         ],
         "yaxis": "y"
        },
        {
         "fill": "tozeroy",
         "hoverinfo": "x+y+name",
         "hoverlabel": {
          "namelength": -1
         },
         "legendgroup": "3",
         "line": {
          "color": "#AB63FA"
         },
         "mode": "lines",
         "name": "RampPulse, clock: q0.ro",
         "showlegend": true,
         "type": "scatter",
         "x": [
          0.000004155,
          0.000004156,
          0.000004156999999999999,
          0.000004157999999999999,
          0.000004158999999999999,
          0.000004159999999999998,
          0.000004160999999999998,
          0.000004161999999999998,
          0.000004162999999999997,
          0.000004163999999999997,
          0.0000041649999999999965,
          0.000004165999999999996,
          0.000004166999999999996,
          0.0000041679999999999955,
          0.000004168999999999995,
          0.000004169999999999995,
          0.0000041709999999999945,
          0.000004171999999999994,
          0.000004172999999999994,
          0.000004173999999999993,
          0.000004174999999999993,
          0.000004175999999999993,
          0.000004176999999999992,
          0.000004177999999999992,
          0.000004178999999999992
         ],
         "xaxis": "x",
         "y": [
          0.06,
          0.06,
          0.06,
          0.06,
          0.06,
          0.06,
          0.06,
          0.06,
          0.06,
          0.06,
          0.06,
          0.06,
          0.06,
          0.06,
          0.06,
          0.06,
          0.06,
          0.06,
          0.06,
          0.06,
          0.06,
          0.06,
          0.06,
          0.06,
          0.06
         ],
         "yaxis": "y"
        },
        {
         "fill": "tozeroy",
         "hoverinfo": "x+y+name",
         "hoverlabel": {
          "namelength": -1
         },
         "legendgroup": "4",
         "line": {
          "color": "#FFA15A"
         },
         "mode": "lines",
         "name": "RampPulse, clock: q0.ro",
         "showlegend": true,
         "type": "scatter",
         "x": [
          0.00000418,
          0.0000041809999999999994,
          0.000004181999999999999,
          0.000004182999999999999,
          0.000004183999999999998,
          0.000004184999999999998,
          0.000004185999999999998,
          0.000004186999999999997,
          0.000004187999999999997,
          0.000004188999999999997,
          0.000004189999999999996,
          0.000004190999999999996,
          0.000004191999999999996,
          0.000004192999999999995,
          0.000004193999999999995,
          0.0000041949999999999946,
          0.000004195999999999994,
          0.000004196999999999994,
          0.0000041979999999999935,
          0.000004198999999999993
         ],
         "xaxis": "x",
         "y": [
          0,
          -0.00125,
          -0.0025,
          -0.00375,
          -0.005,
          -0.00625,
          -0.0075,
          -0.00875,
          -0.01,
          -0.01125,
          -0.0125,
          -0.01375,
          -0.015,
          -0.01625,
          -0.0175,
          -0.01875,
          -0.02,
          -0.02125,
          -0.0225,
          -0.02375
         ],
         "yaxis": "y"
        }
       ],
       "layout": {
        "height": 300,
        "showlegend": false,
        "template": {
         "data": {
          "bar": [
           {
            "error_x": {
             "color": "#2a3f5f"
            },
            "error_y": {
             "color": "#2a3f5f"
            },
            "marker": {
             "line": {
              "color": "#E5ECF6",
              "width": 0.5
             },
             "pattern": {
              "fillmode": "overlay",
              "size": 10,
              "solidity": 0.2
             }
            },
            "type": "bar"
           }
          ],
          "barpolar": [
           {
            "marker": {
             "line": {
              "color": "#E5ECF6",
              "width": 0.5
             },
             "pattern": {
              "fillmode": "overlay",
              "size": 10,
              "solidity": 0.2
             }
            },
            "type": "barpolar"
           }
          ],
          "carpet": [
           {
            "aaxis": {
             "endlinecolor": "#2a3f5f",
             "gridcolor": "white",
             "linecolor": "white",
             "minorgridcolor": "white",
             "startlinecolor": "#2a3f5f"
            },
            "baxis": {
             "endlinecolor": "#2a3f5f",
             "gridcolor": "white",
             "linecolor": "white",
             "minorgridcolor": "white",
             "startlinecolor": "#2a3f5f"
            },
            "type": "carpet"
           }
          ],
          "choropleth": [
           {
            "colorbar": {
             "outlinewidth": 0,
             "ticks": ""
            },
            "type": "choropleth"
           }
          ],
          "contour": [
           {
            "colorbar": {
             "outlinewidth": 0,
             "ticks": ""
            },
            "colorscale": [
             [
              0,
              "#0d0887"
             ],
             [
              0.1111111111111111,
              "#46039f"
             ],
             [
              0.2222222222222222,
              "#7201a8"
             ],
             [
              0.3333333333333333,
              "#9c179e"
             ],
             [
              0.4444444444444444,
              "#bd3786"
             ],
             [
              0.5555555555555556,
              "#d8576b"
             ],
             [
              0.6666666666666666,
              "#ed7953"
             ],
             [
              0.7777777777777778,
              "#fb9f3a"
             ],
             [
              0.8888888888888888,
              "#fdca26"
             ],
             [
              1,
              "#f0f921"
             ]
            ],
            "type": "contour"
           }
          ],
          "contourcarpet": [
           {
            "colorbar": {
             "outlinewidth": 0,
             "ticks": ""
            },
            "type": "contourcarpet"
           }
          ],
          "heatmap": [
           {
            "colorbar": {
             "outlinewidth": 0,
             "ticks": ""
            },
            "colorscale": [
             [
              0,
              "#0d0887"
             ],
             [
              0.1111111111111111,
              "#46039f"
             ],
             [
              0.2222222222222222,
              "#7201a8"
             ],
             [
              0.3333333333333333,
              "#9c179e"
             ],
             [
              0.4444444444444444,
              "#bd3786"
             ],
             [
              0.5555555555555556,
              "#d8576b"
             ],
             [
              0.6666666666666666,
              "#ed7953"
             ],
             [
              0.7777777777777778,
              "#fb9f3a"
             ],
             [
              0.8888888888888888,
              "#fdca26"
             ],
             [
              1,
              "#f0f921"
             ]
            ],
            "type": "heatmap"
           }
          ],
          "heatmapgl": [
           {
            "colorbar": {
             "outlinewidth": 0,
             "ticks": ""
            },
            "colorscale": [
             [
              0,
              "#0d0887"
             ],
             [
              0.1111111111111111,
              "#46039f"
             ],
             [
              0.2222222222222222,
              "#7201a8"
             ],
             [
              0.3333333333333333,
              "#9c179e"
             ],
             [
              0.4444444444444444,
              "#bd3786"
             ],
             [
              0.5555555555555556,
              "#d8576b"
             ],
             [
              0.6666666666666666,
              "#ed7953"
             ],
             [
              0.7777777777777778,
              "#fb9f3a"
             ],
             [
              0.8888888888888888,
              "#fdca26"
             ],
             [
              1,
              "#f0f921"
             ]
            ],
            "type": "heatmapgl"
           }
          ],
          "histogram": [
           {
            "marker": {
             "pattern": {
              "fillmode": "overlay",
              "size": 10,
              "solidity": 0.2
             }
            },
            "type": "histogram"
           }
          ],
          "histogram2d": [
           {
            "colorbar": {
             "outlinewidth": 0,
             "ticks": ""
            },
            "colorscale": [
             [
              0,
              "#0d0887"
             ],
             [
              0.1111111111111111,
              "#46039f"
             ],
             [
              0.2222222222222222,
              "#7201a8"
             ],
             [
              0.3333333333333333,
              "#9c179e"
             ],
             [
              0.4444444444444444,
              "#bd3786"
             ],
             [
              0.5555555555555556,
              "#d8576b"
             ],
             [
              0.6666666666666666,
              "#ed7953"
             ],
             [
              0.7777777777777778,
              "#fb9f3a"
             ],
             [
              0.8888888888888888,
              "#fdca26"
             ],
             [
              1,
              "#f0f921"
             ]
            ],
            "type": "histogram2d"
           }
          ],
          "histogram2dcontour": [
           {
            "colorbar": {
             "outlinewidth": 0,
             "ticks": ""
            },
            "colorscale": [
             [
              0,
              "#0d0887"
             ],
             [
              0.1111111111111111,
              "#46039f"
             ],
             [
              0.2222222222222222,
              "#7201a8"
             ],
             [
              0.3333333333333333,
              "#9c179e"
             ],
             [
              0.4444444444444444,
              "#bd3786"
             ],
             [
              0.5555555555555556,
              "#d8576b"
             ],
             [
              0.6666666666666666,
              "#ed7953"
             ],
             [
              0.7777777777777778,
              "#fb9f3a"
             ],
             [
              0.8888888888888888,
              "#fdca26"
             ],
             [
              1,
              "#f0f921"
             ]
            ],
            "type": "histogram2dcontour"
           }
          ],
          "mesh3d": [
           {
            "colorbar": {
             "outlinewidth": 0,
             "ticks": ""
            },
            "type": "mesh3d"
           }
          ],
          "parcoords": [
           {
            "line": {
             "colorbar": {
              "outlinewidth": 0,
              "ticks": ""
             }
            },
            "type": "parcoords"
           }
          ],
          "pie": [
           {
            "automargin": true,
            "type": "pie"
           }
          ],
          "scatter": [
           {
            "fillpattern": {
             "fillmode": "overlay",
             "size": 10,
             "solidity": 0.2
            },
            "type": "scatter"
           }
          ],
          "scatter3d": [
           {
            "line": {
             "colorbar": {
              "outlinewidth": 0,
              "ticks": ""
             }
            },
            "marker": {
             "colorbar": {
              "outlinewidth": 0,
              "ticks": ""
             }
            },
            "type": "scatter3d"
           }
          ],
          "scattercarpet": [
           {
            "marker": {
             "colorbar": {
              "outlinewidth": 0,
              "ticks": ""
             }
            },
            "type": "scattercarpet"
           }
          ],
          "scattergeo": [
           {
            "marker": {
             "colorbar": {
              "outlinewidth": 0,
              "ticks": ""
             }
            },
            "type": "scattergeo"
           }
          ],
          "scattergl": [
           {
            "marker": {
             "colorbar": {
              "outlinewidth": 0,
              "ticks": ""
             }
            },
            "type": "scattergl"
           }
          ],
          "scattermapbox": [
           {
            "marker": {
             "colorbar": {
              "outlinewidth": 0,
              "ticks": ""
             }
            },
            "type": "scattermapbox"
           }
          ],
          "scatterpolar": [
           {
            "marker": {
             "colorbar": {
              "outlinewidth": 0,
              "ticks": ""
             }
            },
            "type": "scatterpolar"
           }
          ],
          "scatterpolargl": [
           {
            "marker": {
             "colorbar": {
              "outlinewidth": 0,
              "ticks": ""
             }
            },
            "type": "scatterpolargl"
           }
          ],
          "scatterternary": [
           {
            "marker": {
             "colorbar": {
              "outlinewidth": 0,
              "ticks": ""
             }
            },
            "type": "scatterternary"
           }
          ],
          "surface": [
           {
            "colorbar": {
             "outlinewidth": 0,
             "ticks": ""
            },
            "colorscale": [
             [
              0,
              "#0d0887"
             ],
             [
              0.1111111111111111,
              "#46039f"
             ],
             [
              0.2222222222222222,
              "#7201a8"
             ],
             [
              0.3333333333333333,
              "#9c179e"
             ],
             [
              0.4444444444444444,
              "#bd3786"
             ],
             [
              0.5555555555555556,
              "#d8576b"
             ],
             [
              0.6666666666666666,
              "#ed7953"
             ],
             [
              0.7777777777777778,
              "#fb9f3a"
             ],
             [
              0.8888888888888888,
              "#fdca26"
             ],
             [
              1,
              "#f0f921"
             ]
            ],
            "type": "surface"
           }
          ],
          "table": [
           {
            "cells": {
             "fill": {
              "color": "#EBF0F8"
             },
             "line": {
              "color": "white"
             }
            },
            "header": {
             "fill": {
              "color": "#C8D4E3"
             },
             "line": {
              "color": "white"
             }
            },
            "type": "table"
           }
          ]
         },
         "layout": {
          "annotationdefaults": {
           "arrowcolor": "#2a3f5f",
           "arrowhead": 0,
           "arrowwidth": 1
          },
          "autotypenumbers": "strict",
          "coloraxis": {
           "colorbar": {
            "outlinewidth": 0,
            "ticks": ""
           }
          },
          "colorscale": {
           "diverging": [
            [
             0,
             "#8e0152"
            ],
            [
             0.1,
             "#c51b7d"
            ],
            [
             0.2,
             "#de77ae"
            ],
            [
             0.3,
             "#f1b6da"
            ],
            [
             0.4,
             "#fde0ef"
            ],
            [
             0.5,
             "#f7f7f7"
            ],
            [
             0.6,
             "#e6f5d0"
            ],
            [
             0.7,
             "#b8e186"
            ],
            [
             0.8,
             "#7fbc41"
            ],
            [
             0.9,
             "#4d9221"
            ],
            [
             1,
             "#276419"
            ]
           ],
           "sequential": [
            [
             0,
             "#0d0887"
            ],
            [
             0.1111111111111111,
             "#46039f"
            ],
            [
             0.2222222222222222,
             "#7201a8"
            ],
            [
             0.3333333333333333,
             "#9c179e"
            ],
            [
             0.4444444444444444,
             "#bd3786"
            ],
            [
             0.5555555555555556,
             "#d8576b"
            ],
            [
             0.6666666666666666,
             "#ed7953"
            ],
            [
             0.7777777777777778,
             "#fb9f3a"
            ],
            [
             0.8888888888888888,
             "#fdca26"
            ],
            [
             1,
             "#f0f921"
            ]
           ],
           "sequentialminus": [
            [
             0,
             "#0d0887"
            ],
            [
             0.1111111111111111,
             "#46039f"
            ],
            [
             0.2222222222222222,
             "#7201a8"
            ],
            [
             0.3333333333333333,
             "#9c179e"
            ],
            [
             0.4444444444444444,
             "#bd3786"
            ],
            [
             0.5555555555555556,
             "#d8576b"
            ],
            [
             0.6666666666666666,
             "#ed7953"
            ],
            [
             0.7777777777777778,
             "#fb9f3a"
            ],
            [
             0.8888888888888888,
             "#fdca26"
            ],
            [
             1,
             "#f0f921"
            ]
           ]
          },
          "colorway": [
           "#636efa",
           "#EF553B",
           "#00cc96",
           "#ab63fa",
           "#FFA15A",
           "#19d3f3",
           "#FF6692",
           "#B6E880",
           "#FF97FF",
           "#FECB52"
          ],
          "font": {
           "color": "#2a3f5f"
          },
          "geo": {
           "bgcolor": "white",
           "lakecolor": "white",
           "landcolor": "#E5ECF6",
           "showlakes": true,
           "showland": true,
           "subunitcolor": "white"
          },
          "hoverlabel": {
           "align": "left"
          },
          "hovermode": "closest",
          "mapbox": {
           "style": "light"
          },
          "paper_bgcolor": "white",
          "plot_bgcolor": "#E5ECF6",
          "polar": {
           "angularaxis": {
            "gridcolor": "white",
            "linecolor": "white",
            "ticks": ""
           },
           "bgcolor": "#E5ECF6",
           "radialaxis": {
            "gridcolor": "white",
            "linecolor": "white",
            "ticks": ""
           }
          },
          "scene": {
           "xaxis": {
            "backgroundcolor": "#E5ECF6",
            "gridcolor": "white",
            "gridwidth": 2,
            "linecolor": "white",
            "showbackground": true,
            "ticks": "",
            "zerolinecolor": "white"
           },
           "yaxis": {
            "backgroundcolor": "#E5ECF6",
            "gridcolor": "white",
            "gridwidth": 2,
            "linecolor": "white",
            "showbackground": true,
            "ticks": "",
            "zerolinecolor": "white"
           },
           "zaxis": {
            "backgroundcolor": "#E5ECF6",
            "gridcolor": "white",
            "gridwidth": 2,
            "linecolor": "white",
            "showbackground": true,
            "ticks": "",
            "zerolinecolor": "white"
           }
          },
          "shapedefaults": {
           "line": {
            "color": "#2a3f5f"
           }
          },
          "ternary": {
           "aaxis": {
            "gridcolor": "white",
            "linecolor": "white",
            "ticks": ""
           },
           "baxis": {
            "gridcolor": "white",
            "linecolor": "white",
            "ticks": ""
           },
           "bgcolor": "#E5ECF6",
           "caxis": {
            "gridcolor": "white",
            "linecolor": "white",
            "ticks": ""
           }
          },
          "title": {
           "x": 0.05
          },
          "xaxis": {
           "automargin": true,
           "gridcolor": "white",
           "linecolor": "white",
           "ticks": "",
           "title": {
            "standoff": 15
           },
           "zerolinecolor": "white",
           "zerolinewidth": 2
          },
          "yaxis": {
           "automargin": true,
           "gridcolor": "white",
           "linecolor": "white",
           "ticks": "",
           "title": {
            "standoff": 15
           },
           "zerolinecolor": "white",
           "zerolinewidth": 2
          }
         }
        },
        "title": {
         "text": "Qubit Reset - Step 3 - ge/gf cr"
        },
        "width": 1000,
        "xaxis": {
         "anchor": "y",
         "domain": [
          0,
          1
         ],
         "hoverformat": ".3s",
         "showgrid": true,
         "tickformat": ".2s",
         "tickformatstops": [
          {
           "dtickrange": [
            null,
            1e-9
           ],
           "value": ".10s"
          },
          {
           "dtickrange": [
            1e-9,
            0.000001
           ],
           "value": ".7s"
          },
          {
           "dtickrange": [
            0.000001,
            0.001
           ],
           "value": ".4s"
          }
         ],
         "ticksuffix": "s",
         "title": {
          "text": "Time"
         }
        },
        "yaxis": {
         "anchor": "x",
         "autorange": true,
         "domain": [
          0,
          1
         ],
         "hoverformat": ".3s",
         "tickformat": ".2s",
         "ticksuffix": "V",
         "title": {
          "text": "flux"
         }
        }
       }
      },
      "text/html": [
       "<div>                            <div id=\"9fb18320-3048-4e59-b745-ca4de85f7e09\" class=\"plotly-graph-div\" style=\"height:300px; width:1000px;\"></div>            <script type=\"text/javascript\">                require([\"plotly\"], function(Plotly) {                    window.PLOTLYENV=window.PLOTLYENV || {};                                    if (document.getElementById(\"9fb18320-3048-4e59-b745-ca4de85f7e09\")) {                    Plotly.newPlot(                        \"9fb18320-3048-4e59-b745-ca4de85f7e09\",                        [{\"fill\":\"tozeroy\",\"hoverinfo\":\"x+y+name\",\"hoverlabel\":{\"namelength\":-1},\"legendgroup\":\"1\",\"line\":{\"color\":\"#EF553B\"},\"mode\":\"lines\",\"name\":\"RampPulse, clock: q0.ro\",\"showlegend\":true,\"x\":[4e-6,4.0009999999999995e-6,4.001999999999999e-6,4.002999999999999e-6,4.0039999999999984e-6,4.004999999999998e-6,4.005999999999998e-6,4.006999999999997e-6,4.007999999999997e-6,4.008999999999997e-6,4.009999999999996e-6,4.010999999999996e-6,4.011999999999996e-6,4.012999999999995e-6,4.013999999999995e-6,4.014999999999995e-6,4.015999999999994e-6,4.016999999999994e-6,4.0179999999999935e-6,4.018999999999993e-6],\"y\":[-0.025,-0.02375,-0.022500000000000003,-0.02125,-0.02,-0.018750000000000003,-0.0175,-0.01625,-0.015000000000000001,-0.013750000000000002,-0.0125,-0.011250000000000001,-0.010000000000000002,-0.00875,-0.0075,-0.006250000000000002,-0.005000000000000001,-0.00375,-0.0025000000000000022,-0.0012500000000000011],\"type\":\"scatter\",\"xaxis\":\"x\",\"yaxis\":\"y\"},{\"fill\":\"tozeroy\",\"hoverinfo\":\"x+y+name\",\"hoverlabel\":{\"namelength\":-1},\"legendgroup\":\"2\",\"line\":{\"color\":\"#00CC96\"},\"mode\":\"lines\",\"name\":\"RampPulse, clock: q0.ro\",\"showlegend\":true,\"x\":[4.02e-6,4.020999999999999e-6,4.021999999999999e-6,4.022999999999999e-6,4.023999999999998e-6,4.024999999999998e-6,4.0259999999999975e-6,4.026999999999997e-6,4.027999999999997e-6,4.0289999999999965e-6,4.029999999999996e-6,4.030999999999996e-6,4.0319999999999954e-6,4.032999999999995e-6,4.033999999999995e-6,4.034999999999994e-6,4.035999999999994e-6,4.036999999999994e-6,4.037999999999993e-6,4.038999999999993e-6,4.039999999999993e-6,4.040999999999992e-6,4.041999999999992e-6,4.042999999999992e-6,4.043999999999991e-6,4.044999999999991e-6,4.0459999999999906e-6,4.04699999999999e-6,4.04799999999999e-6,4.0489999999999895e-6,4.049999999999989e-6,4.050999999999989e-6,4.0519999999999885e-6,4.052999999999988e-6,4.053999999999988e-6,4.0549999999999874e-6,4.055999999999987e-6,4.056999999999987e-6,4.057999999999986e-6,4.058999999999986e-6,4.059999999999986e-6,4.060999999999985e-6,4.061999999999985e-6,4.062999999999985e-6,4.063999999999984e-6,4.064999999999984e-6,4.065999999999984e-6,4.066999999999983e-6,4.067999999999983e-6,4.0689999999999826e-6,4.069999999999982e-6,4.070999999999982e-6,4.0719999999999815e-6,4.072999999999981e-6,4.073999999999981e-6,4.0749999999999805e-6,4.07599999999998e-6,4.07699999999998e-6,4.077999999999979e-6,4.078999999999979e-6,4.079999999999979e-6,4.080999999999978e-6,4.081999999999978e-6,4.082999999999978e-6,4.083999999999977e-6,4.084999999999977e-6,4.085999999999977e-6,4.086999999999976e-6,4.087999999999976e-6,4.088999999999976e-6,4.089999999999975e-6,4.090999999999975e-6,4.0919999999999745e-6,4.092999999999974e-6,4.093999999999974e-6,4.0949999999999735e-6,4.095999999999973e-6,4.096999999999973e-6,4.0979999999999725e-6,4.098999999999972e-6,4.099999999999972e-6,4.100999999999971e-6,4.101999999999971e-6,4.102999999999971e-6,4.10399999999997e-6,4.10499999999997e-6,4.10599999999997e-6,4.106999999999969e-6,4.107999999999969e-6,4.108999999999969e-6,4.109999999999968e-6,4.110999999999968e-6,4.1119999999999676e-6,4.112999999999967e-6,4.113999999999967e-6,4.1149999999999665e-6,4.115999999999966e-6,4.116999999999966e-6,4.1179999999999655e-6,4.118999999999965e-6,4.119999999999965e-6,4.1209999999999644e-6,4.121999999999964e-6,4.122999999999964e-6,4.123999999999963e-6,4.124999999999963e-6,4.125999999999963e-6,4.126999999999962e-6,4.127999999999962e-6,4.128999999999962e-6,4.129999999999961e-6,4.130999999999961e-6,4.131999999999961e-6,4.13299999999996e-6,4.13399999999996e-6,4.1349999999999596e-6,4.135999999999959e-6,4.136999999999959e-6,4.1379999999999585e-6,4.138999999999958e-6,4.139999999999958e-6,4.1409999999999575e-6,4.141999999999957e-6,4.142999999999957e-6,4.1439999999999564e-6,4.144999999999956e-6,4.145999999999956e-6,4.146999999999955e-6,4.147999999999955e-6,4.148999999999955e-6,4.149999999999954e-6,4.150999999999954e-6,4.151999999999954e-6,4.152999999999953e-6,4.153999999999953e-6,4.154999999999953e-6],\"y\":[0.05,0.05,0.05,0.05,0.05,0.05,0.05,0.05,0.05,0.05,0.05,0.05,0.05,0.05,0.05,0.05,0.05,0.05,0.05,0.05,0.05,0.05,0.05,0.05,0.05,0.05,0.05,0.05,0.05,0.05,0.05,0.05,0.05,0.05,0.05,0.05,0.05,0.05,0.05,0.05,0.05,0.05,0.05,0.05,0.05,0.05,0.05,0.05,0.05,0.05,0.05,0.05,0.05,0.05,0.05,0.05,0.05,0.05,0.05,0.05,0.05,0.05,0.05,0.05,0.05,0.05,0.05,0.05,0.05,0.05,0.05,0.05,0.05,0.05,0.05,0.05,0.05,0.05,0.05,0.05,0.05,0.05,0.05,0.05,0.05,0.05,0.05,0.05,0.05,0.05,0.05,0.05,0.05,0.05,0.05,0.05,0.05,0.05,0.05,0.05,0.05,0.05,0.05,0.05,0.05,0.05,0.05,0.05,0.05,0.05,0.05,0.05,0.05,0.05,0.05,0.05,0.05,0.05,0.05,0.05,0.05,0.05,0.05,0.05,0.05,0.05,0.05,0.05,0.05,0.05,0.05,0.05,0.05,0.05,0.05,0.05],\"type\":\"scatter\",\"xaxis\":\"x\",\"yaxis\":\"y\"},{\"fill\":\"tozeroy\",\"hoverinfo\":\"x+y+name\",\"hoverlabel\":{\"namelength\":-1},\"legendgroup\":\"3\",\"line\":{\"color\":\"#AB63FA\"},\"mode\":\"lines\",\"name\":\"RampPulse, clock: q0.ro\",\"showlegend\":true,\"x\":[4.155e-6,4.156e-6,4.156999999999999e-6,4.157999999999999e-6,4.158999999999999e-6,4.159999999999998e-6,4.160999999999998e-6,4.161999999999998e-6,4.162999999999997e-6,4.163999999999997e-6,4.1649999999999965e-6,4.165999999999996e-6,4.166999999999996e-6,4.1679999999999955e-6,4.168999999999995e-6,4.169999999999995e-6,4.1709999999999945e-6,4.171999999999994e-6,4.172999999999994e-6,4.173999999999993e-6,4.174999999999993e-6,4.175999999999993e-6,4.176999999999992e-6,4.177999999999992e-6,4.178999999999992e-6],\"y\":[0.06,0.06,0.06,0.06,0.06,0.06,0.06,0.06,0.06,0.06,0.06,0.06,0.06,0.06,0.06,0.06,0.06,0.06,0.06,0.06,0.06,0.06,0.06,0.06,0.06],\"type\":\"scatter\",\"xaxis\":\"x\",\"yaxis\":\"y\"},{\"fill\":\"tozeroy\",\"hoverinfo\":\"x+y+name\",\"hoverlabel\":{\"namelength\":-1},\"legendgroup\":\"4\",\"line\":{\"color\":\"#FFA15A\"},\"mode\":\"lines\",\"name\":\"RampPulse, clock: q0.ro\",\"showlegend\":true,\"x\":[4.18e-6,4.1809999999999994e-6,4.181999999999999e-6,4.182999999999999e-6,4.183999999999998e-6,4.184999999999998e-6,4.185999999999998e-6,4.186999999999997e-6,4.187999999999997e-6,4.188999999999997e-6,4.189999999999996e-6,4.190999999999996e-6,4.191999999999996e-6,4.192999999999995e-6,4.193999999999995e-6,4.1949999999999946e-6,4.195999999999994e-6,4.196999999999994e-6,4.1979999999999935e-6,4.198999999999993e-6],\"y\":[0.0,-0.00125,-0.0025,-0.00375,-0.005,-0.00625,-0.0075,-0.00875,-0.01,-0.01125,-0.0125,-0.01375,-0.015,-0.01625,-0.0175,-0.01875,-0.02,-0.02125,-0.0225,-0.02375],\"type\":\"scatter\",\"xaxis\":\"x\",\"yaxis\":\"y\"}],                        {\"template\":{\"data\":{\"histogram2dcontour\":[{\"type\":\"histogram2dcontour\",\"colorbar\":{\"outlinewidth\":0,\"ticks\":\"\"},\"colorscale\":[[0.0,\"#0d0887\"],[0.1111111111111111,\"#46039f\"],[0.2222222222222222,\"#7201a8\"],[0.3333333333333333,\"#9c179e\"],[0.4444444444444444,\"#bd3786\"],[0.5555555555555556,\"#d8576b\"],[0.6666666666666666,\"#ed7953\"],[0.7777777777777778,\"#fb9f3a\"],[0.8888888888888888,\"#fdca26\"],[1.0,\"#f0f921\"]]}],\"choropleth\":[{\"type\":\"choropleth\",\"colorbar\":{\"outlinewidth\":0,\"ticks\":\"\"}}],\"histogram2d\":[{\"type\":\"histogram2d\",\"colorbar\":{\"outlinewidth\":0,\"ticks\":\"\"},\"colorscale\":[[0.0,\"#0d0887\"],[0.1111111111111111,\"#46039f\"],[0.2222222222222222,\"#7201a8\"],[0.3333333333333333,\"#9c179e\"],[0.4444444444444444,\"#bd3786\"],[0.5555555555555556,\"#d8576b\"],[0.6666666666666666,\"#ed7953\"],[0.7777777777777778,\"#fb9f3a\"],[0.8888888888888888,\"#fdca26\"],[1.0,\"#f0f921\"]]}],\"heatmap\":[{\"type\":\"heatmap\",\"colorbar\":{\"outlinewidth\":0,\"ticks\":\"\"},\"colorscale\":[[0.0,\"#0d0887\"],[0.1111111111111111,\"#46039f\"],[0.2222222222222222,\"#7201a8\"],[0.3333333333333333,\"#9c179e\"],[0.4444444444444444,\"#bd3786\"],[0.5555555555555556,\"#d8576b\"],[0.6666666666666666,\"#ed7953\"],[0.7777777777777778,\"#fb9f3a\"],[0.8888888888888888,\"#fdca26\"],[1.0,\"#f0f921\"]]}],\"heatmapgl\":[{\"type\":\"heatmapgl\",\"colorbar\":{\"outlinewidth\":0,\"ticks\":\"\"},\"colorscale\":[[0.0,\"#0d0887\"],[0.1111111111111111,\"#46039f\"],[0.2222222222222222,\"#7201a8\"],[0.3333333333333333,\"#9c179e\"],[0.4444444444444444,\"#bd3786\"],[0.5555555555555556,\"#d8576b\"],[0.6666666666666666,\"#ed7953\"],[0.7777777777777778,\"#fb9f3a\"],[0.8888888888888888,\"#fdca26\"],[1.0,\"#f0f921\"]]}],\"contourcarpet\":[{\"type\":\"contourcarpet\",\"colorbar\":{\"outlinewidth\":0,\"ticks\":\"\"}}],\"contour\":[{\"type\":\"contour\",\"colorbar\":{\"outlinewidth\":0,\"ticks\":\"\"},\"colorscale\":[[0.0,\"#0d0887\"],[0.1111111111111111,\"#46039f\"],[0.2222222222222222,\"#7201a8\"],[0.3333333333333333,\"#9c179e\"],[0.4444444444444444,\"#bd3786\"],[0.5555555555555556,\"#d8576b\"],[0.6666666666666666,\"#ed7953\"],[0.7777777777777778,\"#fb9f3a\"],[0.8888888888888888,\"#fdca26\"],[1.0,\"#f0f921\"]]}],\"surface\":[{\"type\":\"surface\",\"colorbar\":{\"outlinewidth\":0,\"ticks\":\"\"},\"colorscale\":[[0.0,\"#0d0887\"],[0.1111111111111111,\"#46039f\"],[0.2222222222222222,\"#7201a8\"],[0.3333333333333333,\"#9c179e\"],[0.4444444444444444,\"#bd3786\"],[0.5555555555555556,\"#d8576b\"],[0.6666666666666666,\"#ed7953\"],[0.7777777777777778,\"#fb9f3a\"],[0.8888888888888888,\"#fdca26\"],[1.0,\"#f0f921\"]]}],\"mesh3d\":[{\"type\":\"mesh3d\",\"colorbar\":{\"outlinewidth\":0,\"ticks\":\"\"}}],\"scatter\":[{\"fillpattern\":{\"fillmode\":\"overlay\",\"size\":10,\"solidity\":0.2},\"type\":\"scatter\"}],\"parcoords\":[{\"type\":\"parcoords\",\"line\":{\"colorbar\":{\"outlinewidth\":0,\"ticks\":\"\"}}}],\"scatterpolargl\":[{\"type\":\"scatterpolargl\",\"marker\":{\"colorbar\":{\"outlinewidth\":0,\"ticks\":\"\"}}}],\"bar\":[{\"error_x\":{\"color\":\"#2a3f5f\"},\"error_y\":{\"color\":\"#2a3f5f\"},\"marker\":{\"line\":{\"color\":\"#E5ECF6\",\"width\":0.5},\"pattern\":{\"fillmode\":\"overlay\",\"size\":10,\"solidity\":0.2}},\"type\":\"bar\"}],\"scattergeo\":[{\"type\":\"scattergeo\",\"marker\":{\"colorbar\":{\"outlinewidth\":0,\"ticks\":\"\"}}}],\"scatterpolar\":[{\"type\":\"scatterpolar\",\"marker\":{\"colorbar\":{\"outlinewidth\":0,\"ticks\":\"\"}}}],\"histogram\":[{\"marker\":{\"pattern\":{\"fillmode\":\"overlay\",\"size\":10,\"solidity\":0.2}},\"type\":\"histogram\"}],\"scattergl\":[{\"type\":\"scattergl\",\"marker\":{\"colorbar\":{\"outlinewidth\":0,\"ticks\":\"\"}}}],\"scatter3d\":[{\"type\":\"scatter3d\",\"line\":{\"colorbar\":{\"outlinewidth\":0,\"ticks\":\"\"}},\"marker\":{\"colorbar\":{\"outlinewidth\":0,\"ticks\":\"\"}}}],\"scattermapbox\":[{\"type\":\"scattermapbox\",\"marker\":{\"colorbar\":{\"outlinewidth\":0,\"ticks\":\"\"}}}],\"scatterternary\":[{\"type\":\"scatterternary\",\"marker\":{\"colorbar\":{\"outlinewidth\":0,\"ticks\":\"\"}}}],\"scattercarpet\":[{\"type\":\"scattercarpet\",\"marker\":{\"colorbar\":{\"outlinewidth\":0,\"ticks\":\"\"}}}],\"carpet\":[{\"aaxis\":{\"endlinecolor\":\"#2a3f5f\",\"gridcolor\":\"white\",\"linecolor\":\"white\",\"minorgridcolor\":\"white\",\"startlinecolor\":\"#2a3f5f\"},\"baxis\":{\"endlinecolor\":\"#2a3f5f\",\"gridcolor\":\"white\",\"linecolor\":\"white\",\"minorgridcolor\":\"white\",\"startlinecolor\":\"#2a3f5f\"},\"type\":\"carpet\"}],\"table\":[{\"cells\":{\"fill\":{\"color\":\"#EBF0F8\"},\"line\":{\"color\":\"white\"}},\"header\":{\"fill\":{\"color\":\"#C8D4E3\"},\"line\":{\"color\":\"white\"}},\"type\":\"table\"}],\"barpolar\":[{\"marker\":{\"line\":{\"color\":\"#E5ECF6\",\"width\":0.5},\"pattern\":{\"fillmode\":\"overlay\",\"size\":10,\"solidity\":0.2}},\"type\":\"barpolar\"}],\"pie\":[{\"automargin\":true,\"type\":\"pie\"}]},\"layout\":{\"autotypenumbers\":\"strict\",\"colorway\":[\"#636efa\",\"#EF553B\",\"#00cc96\",\"#ab63fa\",\"#FFA15A\",\"#19d3f3\",\"#FF6692\",\"#B6E880\",\"#FF97FF\",\"#FECB52\"],\"font\":{\"color\":\"#2a3f5f\"},\"hovermode\":\"closest\",\"hoverlabel\":{\"align\":\"left\"},\"paper_bgcolor\":\"white\",\"plot_bgcolor\":\"#E5ECF6\",\"polar\":{\"bgcolor\":\"#E5ECF6\",\"angularaxis\":{\"gridcolor\":\"white\",\"linecolor\":\"white\",\"ticks\":\"\"},\"radialaxis\":{\"gridcolor\":\"white\",\"linecolor\":\"white\",\"ticks\":\"\"}},\"ternary\":{\"bgcolor\":\"#E5ECF6\",\"aaxis\":{\"gridcolor\":\"white\",\"linecolor\":\"white\",\"ticks\":\"\"},\"baxis\":{\"gridcolor\":\"white\",\"linecolor\":\"white\",\"ticks\":\"\"},\"caxis\":{\"gridcolor\":\"white\",\"linecolor\":\"white\",\"ticks\":\"\"}},\"coloraxis\":{\"colorbar\":{\"outlinewidth\":0,\"ticks\":\"\"}},\"colorscale\":{\"sequential\":[[0.0,\"#0d0887\"],[0.1111111111111111,\"#46039f\"],[0.2222222222222222,\"#7201a8\"],[0.3333333333333333,\"#9c179e\"],[0.4444444444444444,\"#bd3786\"],[0.5555555555555556,\"#d8576b\"],[0.6666666666666666,\"#ed7953\"],[0.7777777777777778,\"#fb9f3a\"],[0.8888888888888888,\"#fdca26\"],[1.0,\"#f0f921\"]],\"sequentialminus\":[[0.0,\"#0d0887\"],[0.1111111111111111,\"#46039f\"],[0.2222222222222222,\"#7201a8\"],[0.3333333333333333,\"#9c179e\"],[0.4444444444444444,\"#bd3786\"],[0.5555555555555556,\"#d8576b\"],[0.6666666666666666,\"#ed7953\"],[0.7777777777777778,\"#fb9f3a\"],[0.8888888888888888,\"#fdca26\"],[1.0,\"#f0f921\"]],\"diverging\":[[0,\"#8e0152\"],[0.1,\"#c51b7d\"],[0.2,\"#de77ae\"],[0.3,\"#f1b6da\"],[0.4,\"#fde0ef\"],[0.5,\"#f7f7f7\"],[0.6,\"#e6f5d0\"],[0.7,\"#b8e186\"],[0.8,\"#7fbc41\"],[0.9,\"#4d9221\"],[1,\"#276419\"]]},\"xaxis\":{\"gridcolor\":\"white\",\"linecolor\":\"white\",\"ticks\":\"\",\"title\":{\"standoff\":15},\"zerolinecolor\":\"white\",\"automargin\":true,\"zerolinewidth\":2},\"yaxis\":{\"gridcolor\":\"white\",\"linecolor\":\"white\",\"ticks\":\"\",\"title\":{\"standoff\":15},\"zerolinecolor\":\"white\",\"automargin\":true,\"zerolinewidth\":2},\"scene\":{\"xaxis\":{\"backgroundcolor\":\"#E5ECF6\",\"gridcolor\":\"white\",\"linecolor\":\"white\",\"showbackground\":true,\"ticks\":\"\",\"zerolinecolor\":\"white\",\"gridwidth\":2},\"yaxis\":{\"backgroundcolor\":\"#E5ECF6\",\"gridcolor\":\"white\",\"linecolor\":\"white\",\"showbackground\":true,\"ticks\":\"\",\"zerolinecolor\":\"white\",\"gridwidth\":2},\"zaxis\":{\"backgroundcolor\":\"#E5ECF6\",\"gridcolor\":\"white\",\"linecolor\":\"white\",\"showbackground\":true,\"ticks\":\"\",\"zerolinecolor\":\"white\",\"gridwidth\":2}},\"shapedefaults\":{\"line\":{\"color\":\"#2a3f5f\"}},\"annotationdefaults\":{\"arrowcolor\":\"#2a3f5f\",\"arrowhead\":0,\"arrowwidth\":1},\"geo\":{\"bgcolor\":\"white\",\"landcolor\":\"#E5ECF6\",\"subunitcolor\":\"white\",\"showland\":true,\"showlakes\":true,\"lakecolor\":\"white\"},\"title\":{\"x\":0.05},\"mapbox\":{\"style\":\"light\"}}},\"xaxis\":{\"anchor\":\"y\",\"domain\":[0.0,1.0],\"tickformat\":\".2s\",\"hoverformat\":\".3s\",\"ticksuffix\":\"s\",\"showgrid\":true,\"title\":{\"text\":\"Time\"},\"tickformatstops\":[{\"dtickrange\":[null,1e-9],\"value\":\".10s\"},{\"dtickrange\":[1e-9,1e-6],\"value\":\".7s\"},{\"dtickrange\":[1e-6,0.001],\"value\":\".4s\"}]},\"yaxis\":{\"anchor\":\"x\",\"domain\":[0.0,1.0],\"tickformat\":\".2s\",\"hoverformat\":\".3s\",\"ticksuffix\":\"V\",\"title\":{\"text\":\"flux\"},\"autorange\":true},\"height\":300,\"width\":1000,\"title\":{\"text\":\"Qubit Reset - Step 3 - ge\\u002fgf cr\"},\"showlegend\":false},                        {\"responsive\": true}                    ).then(function(){\n",
       "                            \n",
       "var gd = document.getElementById('9fb18320-3048-4e59-b745-ca4de85f7e09');\n",
       "var x = new MutationObserver(function (mutations, observer) {{\n",
       "        var display = window.getComputedStyle(gd).display;\n",
       "        if (!display || display === 'none') {{\n",
       "            console.log([gd, 'removed!']);\n",
       "            Plotly.purge(gd);\n",
       "            observer.disconnect();\n",
       "        }}\n",
       "}});\n",
       "\n",
       "// Listen for the removal of the full notebook cells\n",
       "var notebookContainer = gd.closest('#notebook-container');\n",
       "if (notebookContainer) {{\n",
       "    x.observe(notebookContainer, {childList: true});\n",
       "}}\n",
       "\n",
       "// Listen for the clearing of the current output cell\n",
       "var outputEl = gd.closest('.output');\n",
       "if (outputEl) {{\n",
       "    x.observe(outputEl, {childList: true});\n",
       "}}\n",
       "\n",
       "                        })                };                });            </script>        </div>"
      ]
     },
     "metadata": {},
     "output_type": "display_data"
    }
   ],
   "source": [
    "# step 2\n",
    "\n",
    "sched = Schedule(\"Qubit Reset - Step 3 - ge/gf cr\")\n",
    "\n",
    "readout_clock = ClockResource(name=\"q0.ro\", freq=0e9)\n",
    "sched.add_resource(readout_clock)\n",
    "\n",
    "# qc_offset = -10\n",
    "# qc_duration = 0.06e-6\n",
    "# cr_duration = 0.25e-6\n",
    "# amp = duration / target_duration* offset\n",
    "start = sched.add(IdlePulse(duration=4e-6))\n",
    "\n",
    "qc_t = 20e-9\n",
    "qc_amp = -0.025\n",
    "\n",
    "sched.add(\n",
    "    RampPulse(offset=qc_amp, amp=-qc_amp, duration=qc_t, port=\"flux\", clock=\"q0.ro\")\n",
    ")\n",
    "\n",
    "# for e state\n",
    "qc_t = 135e-9\n",
    "qc_amp = 0.05\n",
    "\n",
    "sched.add(\n",
    "    RampPulse(offset=qc_amp, amp=0, duration=qc_t, port=\"flux\", clock=\"q0.ro\")\n",
    ")\n",
    "# for f state\n",
    "qc_t = 25e-9\n",
    "qc_amp = 0.06\n",
    "\n",
    "sched.add(\n",
    "    RampPulse(offset=qc_amp, amp=0, duration=qc_t, port=\"flux\", clock=\"q0.ro\")\n",
    ")\n",
    "\n",
    "qc_t = 20e-9\n",
    "qc_amp = -0.025\n",
    "\n",
    "sched.add(\n",
    "    RampPulse(offset=0, amp=qc_amp, duration=qc_t, port=\"flux\", clock=\"q0.ro\")\n",
    ")\n",
    "\n",
    "comp_sched = device_compiler.compile(sched)\n",
    "comp_sched.plot_pulse_diagram(plot_backend=\"plotly\")\n"
   ]
  },
  {
   "cell_type": "code",
   "execution_count": 255,
   "id": "42db60c2",
   "metadata": {},
   "outputs": [
    {
     "data": {
      "application/vnd.plotly.v1+json": {
       "config": {
        "plotlyServerURL": "https://plot.ly"
       },
       "data": [
        {
         "fill": "tozeroy",
         "hoverinfo": "x+y+name",
         "hoverlabel": {
          "namelength": -1
         },
         "legendgroup": "1",
         "line": {
          "color": "#EF553B"
         },
         "mode": "lines",
         "name": "RampPulse, clock: q0.ro",
         "showlegend": true,
         "type": "scatter",
         "x": [
          0.000004,
          0.0000040009999999999995,
          0.000004001999999999999,
          0.000004002999999999999,
          0.0000040039999999999984,
          0.000004004999999999998,
          0.000004005999999999998,
          0.000004006999999999997,
          0.000004007999999999997,
          0.000004008999999999997,
          0.000004009999999999996,
          0.000004010999999999996,
          0.000004011999999999996,
          0.000004012999999999995,
          0.000004013999999999995,
          0.000004014999999999995,
          0.000004015999999999994,
          0.000004016999999999994,
          0.0000040179999999999935,
          0.000004018999999999993
         ],
         "xaxis": "x",
         "y": [
          -0.025,
          -0.025,
          -0.025,
          -0.025,
          -0.025,
          -0.025,
          -0.025,
          -0.025,
          -0.025,
          -0.025,
          -0.025,
          -0.025,
          -0.025,
          -0.025,
          -0.025,
          -0.025,
          -0.025,
          -0.025,
          -0.025,
          -0.025
         ],
         "yaxis": "y"
        }
       ],
       "layout": {
        "height": 300,
        "showlegend": false,
        "template": {
         "data": {
          "bar": [
           {
            "error_x": {
             "color": "#2a3f5f"
            },
            "error_y": {
             "color": "#2a3f5f"
            },
            "marker": {
             "line": {
              "color": "#E5ECF6",
              "width": 0.5
             },
             "pattern": {
              "fillmode": "overlay",
              "size": 10,
              "solidity": 0.2
             }
            },
            "type": "bar"
           }
          ],
          "barpolar": [
           {
            "marker": {
             "line": {
              "color": "#E5ECF6",
              "width": 0.5
             },
             "pattern": {
              "fillmode": "overlay",
              "size": 10,
              "solidity": 0.2
             }
            },
            "type": "barpolar"
           }
          ],
          "carpet": [
           {
            "aaxis": {
             "endlinecolor": "#2a3f5f",
             "gridcolor": "white",
             "linecolor": "white",
             "minorgridcolor": "white",
             "startlinecolor": "#2a3f5f"
            },
            "baxis": {
             "endlinecolor": "#2a3f5f",
             "gridcolor": "white",
             "linecolor": "white",
             "minorgridcolor": "white",
             "startlinecolor": "#2a3f5f"
            },
            "type": "carpet"
           }
          ],
          "choropleth": [
           {
            "colorbar": {
             "outlinewidth": 0,
             "ticks": ""
            },
            "type": "choropleth"
           }
          ],
          "contour": [
           {
            "colorbar": {
             "outlinewidth": 0,
             "ticks": ""
            },
            "colorscale": [
             [
              0,
              "#0d0887"
             ],
             [
              0.1111111111111111,
              "#46039f"
             ],
             [
              0.2222222222222222,
              "#7201a8"
             ],
             [
              0.3333333333333333,
              "#9c179e"
             ],
             [
              0.4444444444444444,
              "#bd3786"
             ],
             [
              0.5555555555555556,
              "#d8576b"
             ],
             [
              0.6666666666666666,
              "#ed7953"
             ],
             [
              0.7777777777777778,
              "#fb9f3a"
             ],
             [
              0.8888888888888888,
              "#fdca26"
             ],
             [
              1,
              "#f0f921"
             ]
            ],
            "type": "contour"
           }
          ],
          "contourcarpet": [
           {
            "colorbar": {
             "outlinewidth": 0,
             "ticks": ""
            },
            "type": "contourcarpet"
           }
          ],
          "heatmap": [
           {
            "colorbar": {
             "outlinewidth": 0,
             "ticks": ""
            },
            "colorscale": [
             [
              0,
              "#0d0887"
             ],
             [
              0.1111111111111111,
              "#46039f"
             ],
             [
              0.2222222222222222,
              "#7201a8"
             ],
             [
              0.3333333333333333,
              "#9c179e"
             ],
             [
              0.4444444444444444,
              "#bd3786"
             ],
             [
              0.5555555555555556,
              "#d8576b"
             ],
             [
              0.6666666666666666,
              "#ed7953"
             ],
             [
              0.7777777777777778,
              "#fb9f3a"
             ],
             [
              0.8888888888888888,
              "#fdca26"
             ],
             [
              1,
              "#f0f921"
             ]
            ],
            "type": "heatmap"
           }
          ],
          "heatmapgl": [
           {
            "colorbar": {
             "outlinewidth": 0,
             "ticks": ""
            },
            "colorscale": [
             [
              0,
              "#0d0887"
             ],
             [
              0.1111111111111111,
              "#46039f"
             ],
             [
              0.2222222222222222,
              "#7201a8"
             ],
             [
              0.3333333333333333,
              "#9c179e"
             ],
             [
              0.4444444444444444,
              "#bd3786"
             ],
             [
              0.5555555555555556,
              "#d8576b"
             ],
             [
              0.6666666666666666,
              "#ed7953"
             ],
             [
              0.7777777777777778,
              "#fb9f3a"
             ],
             [
              0.8888888888888888,
              "#fdca26"
             ],
             [
              1,
              "#f0f921"
             ]
            ],
            "type": "heatmapgl"
           }
          ],
          "histogram": [
           {
            "marker": {
             "pattern": {
              "fillmode": "overlay",
              "size": 10,
              "solidity": 0.2
             }
            },
            "type": "histogram"
           }
          ],
          "histogram2d": [
           {
            "colorbar": {
             "outlinewidth": 0,
             "ticks": ""
            },
            "colorscale": [
             [
              0,
              "#0d0887"
             ],
             [
              0.1111111111111111,
              "#46039f"
             ],
             [
              0.2222222222222222,
              "#7201a8"
             ],
             [
              0.3333333333333333,
              "#9c179e"
             ],
             [
              0.4444444444444444,
              "#bd3786"
             ],
             [
              0.5555555555555556,
              "#d8576b"
             ],
             [
              0.6666666666666666,
              "#ed7953"
             ],
             [
              0.7777777777777778,
              "#fb9f3a"
             ],
             [
              0.8888888888888888,
              "#fdca26"
             ],
             [
              1,
              "#f0f921"
             ]
            ],
            "type": "histogram2d"
           }
          ],
          "histogram2dcontour": [
           {
            "colorbar": {
             "outlinewidth": 0,
             "ticks": ""
            },
            "colorscale": [
             [
              0,
              "#0d0887"
             ],
             [
              0.1111111111111111,
              "#46039f"
             ],
             [
              0.2222222222222222,
              "#7201a8"
             ],
             [
              0.3333333333333333,
              "#9c179e"
             ],
             [
              0.4444444444444444,
              "#bd3786"
             ],
             [
              0.5555555555555556,
              "#d8576b"
             ],
             [
              0.6666666666666666,
              "#ed7953"
             ],
             [
              0.7777777777777778,
              "#fb9f3a"
             ],
             [
              0.8888888888888888,
              "#fdca26"
             ],
             [
              1,
              "#f0f921"
             ]
            ],
            "type": "histogram2dcontour"
           }
          ],
          "mesh3d": [
           {
            "colorbar": {
             "outlinewidth": 0,
             "ticks": ""
            },
            "type": "mesh3d"
           }
          ],
          "parcoords": [
           {
            "line": {
             "colorbar": {
              "outlinewidth": 0,
              "ticks": ""
             }
            },
            "type": "parcoords"
           }
          ],
          "pie": [
           {
            "automargin": true,
            "type": "pie"
           }
          ],
          "scatter": [
           {
            "fillpattern": {
             "fillmode": "overlay",
             "size": 10,
             "solidity": 0.2
            },
            "type": "scatter"
           }
          ],
          "scatter3d": [
           {
            "line": {
             "colorbar": {
              "outlinewidth": 0,
              "ticks": ""
             }
            },
            "marker": {
             "colorbar": {
              "outlinewidth": 0,
              "ticks": ""
             }
            },
            "type": "scatter3d"
           }
          ],
          "scattercarpet": [
           {
            "marker": {
             "colorbar": {
              "outlinewidth": 0,
              "ticks": ""
             }
            },
            "type": "scattercarpet"
           }
          ],
          "scattergeo": [
           {
            "marker": {
             "colorbar": {
              "outlinewidth": 0,
              "ticks": ""
             }
            },
            "type": "scattergeo"
           }
          ],
          "scattergl": [
           {
            "marker": {
             "colorbar": {
              "outlinewidth": 0,
              "ticks": ""
             }
            },
            "type": "scattergl"
           }
          ],
          "scattermapbox": [
           {
            "marker": {
             "colorbar": {
              "outlinewidth": 0,
              "ticks": ""
             }
            },
            "type": "scattermapbox"
           }
          ],
          "scatterpolar": [
           {
            "marker": {
             "colorbar": {
              "outlinewidth": 0,
              "ticks": ""
             }
            },
            "type": "scatterpolar"
           }
          ],
          "scatterpolargl": [
           {
            "marker": {
             "colorbar": {
              "outlinewidth": 0,
              "ticks": ""
             }
            },
            "type": "scatterpolargl"
           }
          ],
          "scatterternary": [
           {
            "marker": {
             "colorbar": {
              "outlinewidth": 0,
              "ticks": ""
             }
            },
            "type": "scatterternary"
           }
          ],
          "surface": [
           {
            "colorbar": {
             "outlinewidth": 0,
             "ticks": ""
            },
            "colorscale": [
             [
              0,
              "#0d0887"
             ],
             [
              0.1111111111111111,
              "#46039f"
             ],
             [
              0.2222222222222222,
              "#7201a8"
             ],
             [
              0.3333333333333333,
              "#9c179e"
             ],
             [
              0.4444444444444444,
              "#bd3786"
             ],
             [
              0.5555555555555556,
              "#d8576b"
             ],
             [
              0.6666666666666666,
              "#ed7953"
             ],
             [
              0.7777777777777778,
              "#fb9f3a"
             ],
             [
              0.8888888888888888,
              "#fdca26"
             ],
             [
              1,
              "#f0f921"
             ]
            ],
            "type": "surface"
           }
          ],
          "table": [
           {
            "cells": {
             "fill": {
              "color": "#EBF0F8"
             },
             "line": {
              "color": "white"
             }
            },
            "header": {
             "fill": {
              "color": "#C8D4E3"
             },
             "line": {
              "color": "white"
             }
            },
            "type": "table"
           }
          ]
         },
         "layout": {
          "annotationdefaults": {
           "arrowcolor": "#2a3f5f",
           "arrowhead": 0,
           "arrowwidth": 1
          },
          "autotypenumbers": "strict",
          "coloraxis": {
           "colorbar": {
            "outlinewidth": 0,
            "ticks": ""
           }
          },
          "colorscale": {
           "diverging": [
            [
             0,
             "#8e0152"
            ],
            [
             0.1,
             "#c51b7d"
            ],
            [
             0.2,
             "#de77ae"
            ],
            [
             0.3,
             "#f1b6da"
            ],
            [
             0.4,
             "#fde0ef"
            ],
            [
             0.5,
             "#f7f7f7"
            ],
            [
             0.6,
             "#e6f5d0"
            ],
            [
             0.7,
             "#b8e186"
            ],
            [
             0.8,
             "#7fbc41"
            ],
            [
             0.9,
             "#4d9221"
            ],
            [
             1,
             "#276419"
            ]
           ],
           "sequential": [
            [
             0,
             "#0d0887"
            ],
            [
             0.1111111111111111,
             "#46039f"
            ],
            [
             0.2222222222222222,
             "#7201a8"
            ],
            [
             0.3333333333333333,
             "#9c179e"
            ],
            [
             0.4444444444444444,
             "#bd3786"
            ],
            [
             0.5555555555555556,
             "#d8576b"
            ],
            [
             0.6666666666666666,
             "#ed7953"
            ],
            [
             0.7777777777777778,
             "#fb9f3a"
            ],
            [
             0.8888888888888888,
             "#fdca26"
            ],
            [
             1,
             "#f0f921"
            ]
           ],
           "sequentialminus": [
            [
             0,
             "#0d0887"
            ],
            [
             0.1111111111111111,
             "#46039f"
            ],
            [
             0.2222222222222222,
             "#7201a8"
            ],
            [
             0.3333333333333333,
             "#9c179e"
            ],
            [
             0.4444444444444444,
             "#bd3786"
            ],
            [
             0.5555555555555556,
             "#d8576b"
            ],
            [
             0.6666666666666666,
             "#ed7953"
            ],
            [
             0.7777777777777778,
             "#fb9f3a"
            ],
            [
             0.8888888888888888,
             "#fdca26"
            ],
            [
             1,
             "#f0f921"
            ]
           ]
          },
          "colorway": [
           "#636efa",
           "#EF553B",
           "#00cc96",
           "#ab63fa",
           "#FFA15A",
           "#19d3f3",
           "#FF6692",
           "#B6E880",
           "#FF97FF",
           "#FECB52"
          ],
          "font": {
           "color": "#2a3f5f"
          },
          "geo": {
           "bgcolor": "white",
           "lakecolor": "white",
           "landcolor": "#E5ECF6",
           "showlakes": true,
           "showland": true,
           "subunitcolor": "white"
          },
          "hoverlabel": {
           "align": "left"
          },
          "hovermode": "closest",
          "mapbox": {
           "style": "light"
          },
          "paper_bgcolor": "white",
          "plot_bgcolor": "#E5ECF6",
          "polar": {
           "angularaxis": {
            "gridcolor": "white",
            "linecolor": "white",
            "ticks": ""
           },
           "bgcolor": "#E5ECF6",
           "radialaxis": {
            "gridcolor": "white",
            "linecolor": "white",
            "ticks": ""
           }
          },
          "scene": {
           "xaxis": {
            "backgroundcolor": "#E5ECF6",
            "gridcolor": "white",
            "gridwidth": 2,
            "linecolor": "white",
            "showbackground": true,
            "ticks": "",
            "zerolinecolor": "white"
           },
           "yaxis": {
            "backgroundcolor": "#E5ECF6",
            "gridcolor": "white",
            "gridwidth": 2,
            "linecolor": "white",
            "showbackground": true,
            "ticks": "",
            "zerolinecolor": "white"
           },
           "zaxis": {
            "backgroundcolor": "#E5ECF6",
            "gridcolor": "white",
            "gridwidth": 2,
            "linecolor": "white",
            "showbackground": true,
            "ticks": "",
            "zerolinecolor": "white"
           }
          },
          "shapedefaults": {
           "line": {
            "color": "#2a3f5f"
           }
          },
          "ternary": {
           "aaxis": {
            "gridcolor": "white",
            "linecolor": "white",
            "ticks": ""
           },
           "baxis": {
            "gridcolor": "white",
            "linecolor": "white",
            "ticks": ""
           },
           "bgcolor": "#E5ECF6",
           "caxis": {
            "gridcolor": "white",
            "linecolor": "white",
            "ticks": ""
           }
          },
          "title": {
           "x": 0.05
          },
          "xaxis": {
           "automargin": true,
           "gridcolor": "white",
           "linecolor": "white",
           "ticks": "",
           "title": {
            "standoff": 15
           },
           "zerolinecolor": "white",
           "zerolinewidth": 2
          },
          "yaxis": {
           "automargin": true,
           "gridcolor": "white",
           "linecolor": "white",
           "ticks": "",
           "title": {
            "standoff": 15
           },
           "zerolinecolor": "white",
           "zerolinewidth": 2
          }
         }
        },
        "title": {
         "text": "Qubit Reset - Step 3 - fg qc"
        },
        "width": 1000,
        "xaxis": {
         "anchor": "y",
         "domain": [
          0,
          1
         ],
         "hoverformat": ".3s",
         "showgrid": true,
         "tickformat": ".2s",
         "tickformatstops": [
          {
           "dtickrange": [
            null,
            1e-9
           ],
           "value": ".10s"
          },
          {
           "dtickrange": [
            1e-9,
            0.000001
           ],
           "value": ".7s"
          },
          {
           "dtickrange": [
            0.000001,
            0.001
           ],
           "value": ".4s"
          }
         ],
         "ticksuffix": "s",
         "title": {
          "text": "Time"
         }
        },
        "yaxis": {
         "anchor": "x",
         "autorange": true,
         "domain": [
          0,
          1
         ],
         "hoverformat": ".3s",
         "tickformat": ".2s",
         "ticksuffix": "V",
         "title": {
          "text": "flux"
         }
        }
       }
      },
      "text/html": [
       "<div>                            <div id=\"32ebafb8-0d17-479e-9a7a-2d39d0c81ef5\" class=\"plotly-graph-div\" style=\"height:300px; width:1000px;\"></div>            <script type=\"text/javascript\">                require([\"plotly\"], function(Plotly) {                    window.PLOTLYENV=window.PLOTLYENV || {};                                    if (document.getElementById(\"32ebafb8-0d17-479e-9a7a-2d39d0c81ef5\")) {                    Plotly.newPlot(                        \"32ebafb8-0d17-479e-9a7a-2d39d0c81ef5\",                        [{\"fill\":\"tozeroy\",\"hoverinfo\":\"x+y+name\",\"hoverlabel\":{\"namelength\":-1},\"legendgroup\":\"1\",\"line\":{\"color\":\"#EF553B\"},\"mode\":\"lines\",\"name\":\"RampPulse, clock: q0.ro\",\"showlegend\":true,\"x\":[4e-6,4.0009999999999995e-6,4.001999999999999e-6,4.002999999999999e-6,4.0039999999999984e-6,4.004999999999998e-6,4.005999999999998e-6,4.006999999999997e-6,4.007999999999997e-6,4.008999999999997e-6,4.009999999999996e-6,4.010999999999996e-6,4.011999999999996e-6,4.012999999999995e-6,4.013999999999995e-6,4.014999999999995e-6,4.015999999999994e-6,4.016999999999994e-6,4.0179999999999935e-6,4.018999999999993e-6],\"y\":[-0.025,-0.025,-0.025,-0.025,-0.025,-0.025,-0.025,-0.025,-0.025,-0.025,-0.025,-0.025,-0.025,-0.025,-0.025,-0.025,-0.025,-0.025,-0.025,-0.025],\"type\":\"scatter\",\"xaxis\":\"x\",\"yaxis\":\"y\"}],                        {\"template\":{\"data\":{\"histogram2dcontour\":[{\"type\":\"histogram2dcontour\",\"colorbar\":{\"outlinewidth\":0,\"ticks\":\"\"},\"colorscale\":[[0.0,\"#0d0887\"],[0.1111111111111111,\"#46039f\"],[0.2222222222222222,\"#7201a8\"],[0.3333333333333333,\"#9c179e\"],[0.4444444444444444,\"#bd3786\"],[0.5555555555555556,\"#d8576b\"],[0.6666666666666666,\"#ed7953\"],[0.7777777777777778,\"#fb9f3a\"],[0.8888888888888888,\"#fdca26\"],[1.0,\"#f0f921\"]]}],\"choropleth\":[{\"type\":\"choropleth\",\"colorbar\":{\"outlinewidth\":0,\"ticks\":\"\"}}],\"histogram2d\":[{\"type\":\"histogram2d\",\"colorbar\":{\"outlinewidth\":0,\"ticks\":\"\"},\"colorscale\":[[0.0,\"#0d0887\"],[0.1111111111111111,\"#46039f\"],[0.2222222222222222,\"#7201a8\"],[0.3333333333333333,\"#9c179e\"],[0.4444444444444444,\"#bd3786\"],[0.5555555555555556,\"#d8576b\"],[0.6666666666666666,\"#ed7953\"],[0.7777777777777778,\"#fb9f3a\"],[0.8888888888888888,\"#fdca26\"],[1.0,\"#f0f921\"]]}],\"heatmap\":[{\"type\":\"heatmap\",\"colorbar\":{\"outlinewidth\":0,\"ticks\":\"\"},\"colorscale\":[[0.0,\"#0d0887\"],[0.1111111111111111,\"#46039f\"],[0.2222222222222222,\"#7201a8\"],[0.3333333333333333,\"#9c179e\"],[0.4444444444444444,\"#bd3786\"],[0.5555555555555556,\"#d8576b\"],[0.6666666666666666,\"#ed7953\"],[0.7777777777777778,\"#fb9f3a\"],[0.8888888888888888,\"#fdca26\"],[1.0,\"#f0f921\"]]}],\"heatmapgl\":[{\"type\":\"heatmapgl\",\"colorbar\":{\"outlinewidth\":0,\"ticks\":\"\"},\"colorscale\":[[0.0,\"#0d0887\"],[0.1111111111111111,\"#46039f\"],[0.2222222222222222,\"#7201a8\"],[0.3333333333333333,\"#9c179e\"],[0.4444444444444444,\"#bd3786\"],[0.5555555555555556,\"#d8576b\"],[0.6666666666666666,\"#ed7953\"],[0.7777777777777778,\"#fb9f3a\"],[0.8888888888888888,\"#fdca26\"],[1.0,\"#f0f921\"]]}],\"contourcarpet\":[{\"type\":\"contourcarpet\",\"colorbar\":{\"outlinewidth\":0,\"ticks\":\"\"}}],\"contour\":[{\"type\":\"contour\",\"colorbar\":{\"outlinewidth\":0,\"ticks\":\"\"},\"colorscale\":[[0.0,\"#0d0887\"],[0.1111111111111111,\"#46039f\"],[0.2222222222222222,\"#7201a8\"],[0.3333333333333333,\"#9c179e\"],[0.4444444444444444,\"#bd3786\"],[0.5555555555555556,\"#d8576b\"],[0.6666666666666666,\"#ed7953\"],[0.7777777777777778,\"#fb9f3a\"],[0.8888888888888888,\"#fdca26\"],[1.0,\"#f0f921\"]]}],\"surface\":[{\"type\":\"surface\",\"colorbar\":{\"outlinewidth\":0,\"ticks\":\"\"},\"colorscale\":[[0.0,\"#0d0887\"],[0.1111111111111111,\"#46039f\"],[0.2222222222222222,\"#7201a8\"],[0.3333333333333333,\"#9c179e\"],[0.4444444444444444,\"#bd3786\"],[0.5555555555555556,\"#d8576b\"],[0.6666666666666666,\"#ed7953\"],[0.7777777777777778,\"#fb9f3a\"],[0.8888888888888888,\"#fdca26\"],[1.0,\"#f0f921\"]]}],\"mesh3d\":[{\"type\":\"mesh3d\",\"colorbar\":{\"outlinewidth\":0,\"ticks\":\"\"}}],\"scatter\":[{\"fillpattern\":{\"fillmode\":\"overlay\",\"size\":10,\"solidity\":0.2},\"type\":\"scatter\"}],\"parcoords\":[{\"type\":\"parcoords\",\"line\":{\"colorbar\":{\"outlinewidth\":0,\"ticks\":\"\"}}}],\"scatterpolargl\":[{\"type\":\"scatterpolargl\",\"marker\":{\"colorbar\":{\"outlinewidth\":0,\"ticks\":\"\"}}}],\"bar\":[{\"error_x\":{\"color\":\"#2a3f5f\"},\"error_y\":{\"color\":\"#2a3f5f\"},\"marker\":{\"line\":{\"color\":\"#E5ECF6\",\"width\":0.5},\"pattern\":{\"fillmode\":\"overlay\",\"size\":10,\"solidity\":0.2}},\"type\":\"bar\"}],\"scattergeo\":[{\"type\":\"scattergeo\",\"marker\":{\"colorbar\":{\"outlinewidth\":0,\"ticks\":\"\"}}}],\"scatterpolar\":[{\"type\":\"scatterpolar\",\"marker\":{\"colorbar\":{\"outlinewidth\":0,\"ticks\":\"\"}}}],\"histogram\":[{\"marker\":{\"pattern\":{\"fillmode\":\"overlay\",\"size\":10,\"solidity\":0.2}},\"type\":\"histogram\"}],\"scattergl\":[{\"type\":\"scattergl\",\"marker\":{\"colorbar\":{\"outlinewidth\":0,\"ticks\":\"\"}}}],\"scatter3d\":[{\"type\":\"scatter3d\",\"line\":{\"colorbar\":{\"outlinewidth\":0,\"ticks\":\"\"}},\"marker\":{\"colorbar\":{\"outlinewidth\":0,\"ticks\":\"\"}}}],\"scattermapbox\":[{\"type\":\"scattermapbox\",\"marker\":{\"colorbar\":{\"outlinewidth\":0,\"ticks\":\"\"}}}],\"scatterternary\":[{\"type\":\"scatterternary\",\"marker\":{\"colorbar\":{\"outlinewidth\":0,\"ticks\":\"\"}}}],\"scattercarpet\":[{\"type\":\"scattercarpet\",\"marker\":{\"colorbar\":{\"outlinewidth\":0,\"ticks\":\"\"}}}],\"carpet\":[{\"aaxis\":{\"endlinecolor\":\"#2a3f5f\",\"gridcolor\":\"white\",\"linecolor\":\"white\",\"minorgridcolor\":\"white\",\"startlinecolor\":\"#2a3f5f\"},\"baxis\":{\"endlinecolor\":\"#2a3f5f\",\"gridcolor\":\"white\",\"linecolor\":\"white\",\"minorgridcolor\":\"white\",\"startlinecolor\":\"#2a3f5f\"},\"type\":\"carpet\"}],\"table\":[{\"cells\":{\"fill\":{\"color\":\"#EBF0F8\"},\"line\":{\"color\":\"white\"}},\"header\":{\"fill\":{\"color\":\"#C8D4E3\"},\"line\":{\"color\":\"white\"}},\"type\":\"table\"}],\"barpolar\":[{\"marker\":{\"line\":{\"color\":\"#E5ECF6\",\"width\":0.5},\"pattern\":{\"fillmode\":\"overlay\",\"size\":10,\"solidity\":0.2}},\"type\":\"barpolar\"}],\"pie\":[{\"automargin\":true,\"type\":\"pie\"}]},\"layout\":{\"autotypenumbers\":\"strict\",\"colorway\":[\"#636efa\",\"#EF553B\",\"#00cc96\",\"#ab63fa\",\"#FFA15A\",\"#19d3f3\",\"#FF6692\",\"#B6E880\",\"#FF97FF\",\"#FECB52\"],\"font\":{\"color\":\"#2a3f5f\"},\"hovermode\":\"closest\",\"hoverlabel\":{\"align\":\"left\"},\"paper_bgcolor\":\"white\",\"plot_bgcolor\":\"#E5ECF6\",\"polar\":{\"bgcolor\":\"#E5ECF6\",\"angularaxis\":{\"gridcolor\":\"white\",\"linecolor\":\"white\",\"ticks\":\"\"},\"radialaxis\":{\"gridcolor\":\"white\",\"linecolor\":\"white\",\"ticks\":\"\"}},\"ternary\":{\"bgcolor\":\"#E5ECF6\",\"aaxis\":{\"gridcolor\":\"white\",\"linecolor\":\"white\",\"ticks\":\"\"},\"baxis\":{\"gridcolor\":\"white\",\"linecolor\":\"white\",\"ticks\":\"\"},\"caxis\":{\"gridcolor\":\"white\",\"linecolor\":\"white\",\"ticks\":\"\"}},\"coloraxis\":{\"colorbar\":{\"outlinewidth\":0,\"ticks\":\"\"}},\"colorscale\":{\"sequential\":[[0.0,\"#0d0887\"],[0.1111111111111111,\"#46039f\"],[0.2222222222222222,\"#7201a8\"],[0.3333333333333333,\"#9c179e\"],[0.4444444444444444,\"#bd3786\"],[0.5555555555555556,\"#d8576b\"],[0.6666666666666666,\"#ed7953\"],[0.7777777777777778,\"#fb9f3a\"],[0.8888888888888888,\"#fdca26\"],[1.0,\"#f0f921\"]],\"sequentialminus\":[[0.0,\"#0d0887\"],[0.1111111111111111,\"#46039f\"],[0.2222222222222222,\"#7201a8\"],[0.3333333333333333,\"#9c179e\"],[0.4444444444444444,\"#bd3786\"],[0.5555555555555556,\"#d8576b\"],[0.6666666666666666,\"#ed7953\"],[0.7777777777777778,\"#fb9f3a\"],[0.8888888888888888,\"#fdca26\"],[1.0,\"#f0f921\"]],\"diverging\":[[0,\"#8e0152\"],[0.1,\"#c51b7d\"],[0.2,\"#de77ae\"],[0.3,\"#f1b6da\"],[0.4,\"#fde0ef\"],[0.5,\"#f7f7f7\"],[0.6,\"#e6f5d0\"],[0.7,\"#b8e186\"],[0.8,\"#7fbc41\"],[0.9,\"#4d9221\"],[1,\"#276419\"]]},\"xaxis\":{\"gridcolor\":\"white\",\"linecolor\":\"white\",\"ticks\":\"\",\"title\":{\"standoff\":15},\"zerolinecolor\":\"white\",\"automargin\":true,\"zerolinewidth\":2},\"yaxis\":{\"gridcolor\":\"white\",\"linecolor\":\"white\",\"ticks\":\"\",\"title\":{\"standoff\":15},\"zerolinecolor\":\"white\",\"automargin\":true,\"zerolinewidth\":2},\"scene\":{\"xaxis\":{\"backgroundcolor\":\"#E5ECF6\",\"gridcolor\":\"white\",\"linecolor\":\"white\",\"showbackground\":true,\"ticks\":\"\",\"zerolinecolor\":\"white\",\"gridwidth\":2},\"yaxis\":{\"backgroundcolor\":\"#E5ECF6\",\"gridcolor\":\"white\",\"linecolor\":\"white\",\"showbackground\":true,\"ticks\":\"\",\"zerolinecolor\":\"white\",\"gridwidth\":2},\"zaxis\":{\"backgroundcolor\":\"#E5ECF6\",\"gridcolor\":\"white\",\"linecolor\":\"white\",\"showbackground\":true,\"ticks\":\"\",\"zerolinecolor\":\"white\",\"gridwidth\":2}},\"shapedefaults\":{\"line\":{\"color\":\"#2a3f5f\"}},\"annotationdefaults\":{\"arrowcolor\":\"#2a3f5f\",\"arrowhead\":0,\"arrowwidth\":1},\"geo\":{\"bgcolor\":\"white\",\"landcolor\":\"#E5ECF6\",\"subunitcolor\":\"white\",\"showland\":true,\"showlakes\":true,\"lakecolor\":\"white\"},\"title\":{\"x\":0.05},\"mapbox\":{\"style\":\"light\"}}},\"xaxis\":{\"anchor\":\"y\",\"domain\":[0.0,1.0],\"tickformat\":\".2s\",\"hoverformat\":\".3s\",\"ticksuffix\":\"s\",\"showgrid\":true,\"title\":{\"text\":\"Time\"},\"tickformatstops\":[{\"dtickrange\":[null,1e-9],\"value\":\".10s\"},{\"dtickrange\":[1e-9,1e-6],\"value\":\".7s\"},{\"dtickrange\":[1e-6,0.001],\"value\":\".4s\"}]},\"yaxis\":{\"anchor\":\"x\",\"domain\":[0.0,1.0],\"tickformat\":\".2s\",\"hoverformat\":\".3s\",\"ticksuffix\":\"V\",\"title\":{\"text\":\"flux\"},\"autorange\":true},\"height\":300,\"width\":1000,\"title\":{\"text\":\"Qubit Reset - Step 3 - fg qc\"},\"showlegend\":false},                        {\"responsive\": true}                    ).then(function(){\n",
       "                            \n",
       "var gd = document.getElementById('32ebafb8-0d17-479e-9a7a-2d39d0c81ef5');\n",
       "var x = new MutationObserver(function (mutations, observer) {{\n",
       "        var display = window.getComputedStyle(gd).display;\n",
       "        if (!display || display === 'none') {{\n",
       "            console.log([gd, 'removed!']);\n",
       "            Plotly.purge(gd);\n",
       "            observer.disconnect();\n",
       "        }}\n",
       "}});\n",
       "\n",
       "// Listen for the removal of the full notebook cells\n",
       "var notebookContainer = gd.closest('#notebook-container');\n",
       "if (notebookContainer) {{\n",
       "    x.observe(notebookContainer, {childList: true});\n",
       "}}\n",
       "\n",
       "// Listen for the clearing of the current output cell\n",
       "var outputEl = gd.closest('.output');\n",
       "if (outputEl) {{\n",
       "    x.observe(outputEl, {childList: true});\n",
       "}}\n",
       "\n",
       "                        })                };                });            </script>        </div>"
      ]
     },
     "metadata": {},
     "output_type": "display_data"
    }
   ],
   "source": [
    "# step 3\n",
    "\n",
    "sched = Schedule(\"Qubit Reset - Step 3 - fg qc\")\n",
    "\n",
    "readout_clock = ClockResource(name=\"q0.ro\", freq=0e9)\n",
    "sched.add_resource(readout_clock)\n",
    "\n",
    "# qc_offset = -10\n",
    "# qc_duration = 0.06e-6\n",
    "# cr_duration = 0.25e-6\n",
    "# amp = duration / target_duration* offset\n",
    "start = sched.add(IdlePulse(duration=4e-6))\n",
    "\n",
    "qc_t = 20e-9\n",
    "qc_amp = -0.025\n",
    "\n",
    "sched.add(\n",
    "    RampPulse(offset=qc_amp, amp=0, duration=qc_t, port=\"flux\", clock=\"q0.ro\")\n",
    ")\n",
    "\n",
    "\n",
    "comp_sched = device_compiler.compile(sched)\n",
    "comp_sched.plot_pulse_diagram(plot_backend=\"plotly\")"
   ]
  },
  {
   "cell_type": "code",
   "execution_count": 271,
   "id": "83c0c3c2",
   "metadata": {},
   "outputs": [
    {
     "data": {
      "application/vnd.plotly.v1+json": {
       "config": {
        "plotlyServerURL": "https://plot.ly"
       },
       "data": [
        {
         "fill": "tozeroy",
         "hoverinfo": "x+y+name",
         "hoverlabel": {
          "namelength": -1
         },
         "legendgroup": "1",
         "line": {
          "color": "#EF553B"
         },
         "mode": "lines",
         "name": "RampPulse, clock: q0.ro",
         "showlegend": true,
         "type": "scatter",
         "x": [
          0.000004,
          0.0000040009999999999995,
          0.000004001999999999999,
          0.000004002999999999999,
          0.0000040039999999999984,
          0.000004004999999999998,
          0.000004005999999999998,
          0.000004006999999999997,
          0.000004007999999999997,
          0.000004008999999999997,
          0.000004009999999999996,
          0.000004010999999999996,
          0.000004011999999999996,
          0.000004012999999999995,
          0.000004013999999999995,
          0.000004014999999999995,
          0.000004015999999999994,
          0.000004016999999999994,
          0.0000040179999999999935,
          0.000004018999999999993
         ],
         "xaxis": "x",
         "y": [
          -0.025,
          -0.025,
          -0.025,
          -0.025,
          -0.025,
          -0.025,
          -0.025,
          -0.025,
          -0.025,
          -0.025,
          -0.025,
          -0.025,
          -0.025,
          -0.025,
          -0.025,
          -0.025,
          -0.025,
          -0.025,
          -0.025,
          -0.025
         ],
         "yaxis": "y"
        },
        {
         "fill": "tozeroy",
         "hoverinfo": "x+y+name",
         "hoverlabel": {
          "namelength": -1
         },
         "legendgroup": "2",
         "line": {
          "color": "#00CC96"
         },
         "mode": "lines",
         "name": "RampPulse, clock: q0.ro",
         "showlegend": true,
         "type": "scatter",
         "x": [
          0.00000402,
          0.000004020999999999999,
          0.000004021999999999999,
          0.000004022999999999999,
          0.000004023999999999998,
          0.000004024999999999998,
          0.0000040259999999999975,
          0.000004026999999999997,
          0.000004027999999999997,
          0.0000040289999999999965,
          0.000004029999999999996,
          0.000004030999999999996,
          0.0000040319999999999954,
          0.000004032999999999995,
          0.000004033999999999995,
          0.000004034999999999994,
          0.000004035999999999994,
          0.000004036999999999994,
          0.000004037999999999993,
          0.000004038999999999993,
          0.000004039999999999993,
          0.000004040999999999992,
          0.000004041999999999992,
          0.000004042999999999992,
          0.000004043999999999991,
          0.000004044999999999991,
          0.0000040459999999999906,
          0.00000404699999999999,
          0.00000404799999999999,
          0.0000040489999999999895,
          0.000004049999999999989,
          0.000004050999999999989,
          0.0000040519999999999885,
          0.000004052999999999988,
          0.000004053999999999988,
          0.0000040549999999999874,
          0.000004055999999999987,
          0.000004056999999999987,
          0.000004057999999999986,
          0.000004058999999999986,
          0.000004059999999999986,
          0.000004060999999999985,
          0.000004061999999999985,
          0.000004062999999999985,
          0.000004063999999999984,
          0.000004064999999999984,
          0.000004065999999999984,
          0.000004066999999999983,
          0.000004067999999999983,
          0.0000040689999999999826,
          0.000004069999999999982,
          0.000004070999999999982,
          0.0000040719999999999815,
          0.000004072999999999981,
          0.000004073999999999981,
          0.0000040749999999999805,
          0.00000407599999999998,
          0.00000407699999999998,
          0.000004077999999999979,
          0.000004078999999999979,
          0.000004079999999999979,
          0.000004080999999999978,
          0.000004081999999999978,
          0.000004082999999999978,
          0.000004083999999999977,
          0.000004084999999999977,
          0.000004085999999999977,
          0.000004086999999999976,
          0.000004087999999999976,
          0.000004088999999999976,
          0.000004089999999999975,
          0.000004090999999999975,
          0.0000040919999999999745,
          0.000004092999999999974,
          0.000004093999999999974,
          0.0000040949999999999735,
          0.000004095999999999973,
          0.000004096999999999973,
          0.0000040979999999999725,
          0.000004098999999999972,
          0.000004099999999999972,
          0.000004100999999999971,
          0.000004101999999999971,
          0.000004102999999999971,
          0.00000410399999999997,
          0.00000410499999999997,
          0.00000410599999999997,
          0.000004106999999999969,
          0.000004107999999999969,
          0.000004108999999999969,
          0.000004109999999999968,
          0.000004110999999999968,
          0.0000041119999999999676,
          0.000004112999999999967,
          0.000004113999999999967,
          0.0000041149999999999665,
          0.000004115999999999966,
          0.000004116999999999966,
          0.0000041179999999999655,
          0.000004118999999999965,
          0.000004119999999999965,
          0.0000041209999999999644,
          0.000004121999999999964,
          0.000004122999999999964,
          0.000004123999999999963,
          0.000004124999999999963,
          0.000004125999999999963,
          0.000004126999999999962,
          0.000004127999999999962,
          0.000004128999999999962,
          0.000004129999999999961,
          0.000004130999999999961,
          0.000004131999999999961,
          0.00000413299999999996,
          0.00000413399999999996,
          0.0000041349999999999596,
          0.000004135999999999959,
          0.000004136999999999959,
          0.0000041379999999999585,
          0.000004138999999999958,
          0.000004139999999999958,
          0.0000041409999999999575,
          0.000004141999999999957,
          0.000004142999999999957,
          0.0000041439999999999564,
          0.000004144999999999956,
          0.000004145999999999956,
          0.000004146999999999955,
          0.000004147999999999955,
          0.000004148999999999955,
          0.000004149999999999954,
          0.000004150999999999954,
          0.000004151999999999954,
          0.000004152999999999953,
          0.000004153999999999953,
          0.000004154999999999953
         ],
         "xaxis": "x",
         "y": [
          0.06,
          0.06,
          0.06,
          0.06,
          0.06,
          0.06,
          0.06,
          0.06,
          0.06,
          0.06,
          0.06,
          0.06,
          0.06,
          0.06,
          0.06,
          0.06,
          0.06,
          0.06,
          0.06,
          0.06,
          0.06,
          0.06,
          0.06,
          0.06,
          0.06,
          0.06,
          0.06,
          0.06,
          0.06,
          0.06,
          0.06,
          0.06,
          0.06,
          0.06,
          0.06,
          0.06,
          0.06,
          0.06,
          0.06,
          0.06,
          0.06,
          0.06,
          0.06,
          0.06,
          0.06,
          0.06,
          0.06,
          0.06,
          0.06,
          0.06,
          0.06,
          0.06,
          0.06,
          0.06,
          0.06,
          0.06,
          0.06,
          0.06,
          0.06,
          0.06,
          0.06,
          0.06,
          0.06,
          0.06,
          0.06,
          0.06,
          0.06,
          0.06,
          0.06,
          0.06,
          0.06,
          0.06,
          0.06,
          0.06,
          0.06,
          0.06,
          0.06,
          0.06,
          0.06,
          0.06,
          0.06,
          0.06,
          0.06,
          0.06,
          0.06,
          0.06,
          0.06,
          0.06,
          0.06,
          0.06,
          0.06,
          0.06,
          0.06,
          0.06,
          0.06,
          0.06,
          0.06,
          0.06,
          0.06,
          0.06,
          0.06,
          0.06,
          0.06,
          0.06,
          0.06,
          0.06,
          0.06,
          0.06,
          0.06,
          0.06,
          0.06,
          0.06,
          0.06,
          0.06,
          0.06,
          0.06,
          0.06,
          0.06,
          0.06,
          0.06,
          0.06,
          0.06,
          0.06,
          0.06,
          0.06,
          0.06,
          0.06,
          0.06,
          0.06,
          0.06,
          0.06,
          0.06,
          0.06,
          0.06,
          0.06,
          0.06
         ],
         "yaxis": "y"
        },
        {
         "fill": "tozeroy",
         "hoverinfo": "x+y+name",
         "hoverlabel": {
          "namelength": -1
         },
         "legendgroup": "3",
         "line": {
          "color": "#AB63FA"
         },
         "mode": "lines",
         "name": "RampPulse, clock: q0.ro",
         "showlegend": true,
         "type": "scatter",
         "x": [
          0.000004155,
          0.000004156,
          0.000004156999999999999,
          0.000004157999999999999,
          0.000004158999999999999,
          0.000004159999999999998,
          0.000004160999999999998,
          0.000004161999999999998,
          0.000004162999999999997,
          0.000004163999999999997,
          0.0000041649999999999965,
          0.000004165999999999996,
          0.000004166999999999996,
          0.0000041679999999999955,
          0.000004168999999999995,
          0.000004169999999999995,
          0.0000041709999999999945,
          0.000004171999999999994,
          0.000004172999999999994,
          0.000004173999999999993,
          0.000004174999999999993,
          0.000004175999999999993,
          0.000004176999999999992,
          0.000004177999999999992,
          0.000004178999999999992
         ],
         "xaxis": "x",
         "y": [
          0.06,
          0.06,
          0.06,
          0.06,
          0.06,
          0.06,
          0.06,
          0.06,
          0.06,
          0.06,
          0.06,
          0.06,
          0.06,
          0.06,
          0.06,
          0.06,
          0.06,
          0.06,
          0.06,
          0.06,
          0.06,
          0.06,
          0.06,
          0.06,
          0.06
         ],
         "yaxis": "y"
        },
        {
         "fill": "tozeroy",
         "hoverinfo": "x+y+name",
         "hoverlabel": {
          "namelength": -1
         },
         "legendgroup": "4",
         "line": {
          "color": "#FFA15A"
         },
         "mode": "lines",
         "name": "RampPulse, clock: q0.ro",
         "showlegend": true,
         "type": "scatter",
         "x": [
          0.00000418,
          0.0000041809999999999994,
          0.000004181999999999999,
          0.000004182999999999999,
          0.000004183999999999998,
          0.000004184999999999998,
          0.000004185999999999998,
          0.000004186999999999997,
          0.000004187999999999997,
          0.000004188999999999997,
          0.000004189999999999996,
          0.000004190999999999996,
          0.000004191999999999996,
          0.000004192999999999995,
          0.000004193999999999995,
          0.0000041949999999999946,
          0.000004195999999999994,
          0.000004196999999999994,
          0.0000041979999999999935,
          0.000004198999999999993
         ],
         "xaxis": "x",
         "y": [
          -0.025,
          -0.025,
          -0.025,
          -0.025,
          -0.025,
          -0.025,
          -0.025,
          -0.025,
          -0.025,
          -0.025,
          -0.025,
          -0.025,
          -0.025,
          -0.025,
          -0.025,
          -0.025,
          -0.025,
          -0.025,
          -0.025,
          -0.025
         ],
         "yaxis": "y"
        }
       ],
       "layout": {
        "height": 300,
        "showlegend": false,
        "template": {
         "data": {
          "bar": [
           {
            "error_x": {
             "color": "#2a3f5f"
            },
            "error_y": {
             "color": "#2a3f5f"
            },
            "marker": {
             "line": {
              "color": "#E5ECF6",
              "width": 0.5
             },
             "pattern": {
              "fillmode": "overlay",
              "size": 10,
              "solidity": 0.2
             }
            },
            "type": "bar"
           }
          ],
          "barpolar": [
           {
            "marker": {
             "line": {
              "color": "#E5ECF6",
              "width": 0.5
             },
             "pattern": {
              "fillmode": "overlay",
              "size": 10,
              "solidity": 0.2
             }
            },
            "type": "barpolar"
           }
          ],
          "carpet": [
           {
            "aaxis": {
             "endlinecolor": "#2a3f5f",
             "gridcolor": "white",
             "linecolor": "white",
             "minorgridcolor": "white",
             "startlinecolor": "#2a3f5f"
            },
            "baxis": {
             "endlinecolor": "#2a3f5f",
             "gridcolor": "white",
             "linecolor": "white",
             "minorgridcolor": "white",
             "startlinecolor": "#2a3f5f"
            },
            "type": "carpet"
           }
          ],
          "choropleth": [
           {
            "colorbar": {
             "outlinewidth": 0,
             "ticks": ""
            },
            "type": "choropleth"
           }
          ],
          "contour": [
           {
            "colorbar": {
             "outlinewidth": 0,
             "ticks": ""
            },
            "colorscale": [
             [
              0,
              "#0d0887"
             ],
             [
              0.1111111111111111,
              "#46039f"
             ],
             [
              0.2222222222222222,
              "#7201a8"
             ],
             [
              0.3333333333333333,
              "#9c179e"
             ],
             [
              0.4444444444444444,
              "#bd3786"
             ],
             [
              0.5555555555555556,
              "#d8576b"
             ],
             [
              0.6666666666666666,
              "#ed7953"
             ],
             [
              0.7777777777777778,
              "#fb9f3a"
             ],
             [
              0.8888888888888888,
              "#fdca26"
             ],
             [
              1,
              "#f0f921"
             ]
            ],
            "type": "contour"
           }
          ],
          "contourcarpet": [
           {
            "colorbar": {
             "outlinewidth": 0,
             "ticks": ""
            },
            "type": "contourcarpet"
           }
          ],
          "heatmap": [
           {
            "colorbar": {
             "outlinewidth": 0,
             "ticks": ""
            },
            "colorscale": [
             [
              0,
              "#0d0887"
             ],
             [
              0.1111111111111111,
              "#46039f"
             ],
             [
              0.2222222222222222,
              "#7201a8"
             ],
             [
              0.3333333333333333,
              "#9c179e"
             ],
             [
              0.4444444444444444,
              "#bd3786"
             ],
             [
              0.5555555555555556,
              "#d8576b"
             ],
             [
              0.6666666666666666,
              "#ed7953"
             ],
             [
              0.7777777777777778,
              "#fb9f3a"
             ],
             [
              0.8888888888888888,
              "#fdca26"
             ],
             [
              1,
              "#f0f921"
             ]
            ],
            "type": "heatmap"
           }
          ],
          "heatmapgl": [
           {
            "colorbar": {
             "outlinewidth": 0,
             "ticks": ""
            },
            "colorscale": [
             [
              0,
              "#0d0887"
             ],
             [
              0.1111111111111111,
              "#46039f"
             ],
             [
              0.2222222222222222,
              "#7201a8"
             ],
             [
              0.3333333333333333,
              "#9c179e"
             ],
             [
              0.4444444444444444,
              "#bd3786"
             ],
             [
              0.5555555555555556,
              "#d8576b"
             ],
             [
              0.6666666666666666,
              "#ed7953"
             ],
             [
              0.7777777777777778,
              "#fb9f3a"
             ],
             [
              0.8888888888888888,
              "#fdca26"
             ],
             [
              1,
              "#f0f921"
             ]
            ],
            "type": "heatmapgl"
           }
          ],
          "histogram": [
           {
            "marker": {
             "pattern": {
              "fillmode": "overlay",
              "size": 10,
              "solidity": 0.2
             }
            },
            "type": "histogram"
           }
          ],
          "histogram2d": [
           {
            "colorbar": {
             "outlinewidth": 0,
             "ticks": ""
            },
            "colorscale": [
             [
              0,
              "#0d0887"
             ],
             [
              0.1111111111111111,
              "#46039f"
             ],
             [
              0.2222222222222222,
              "#7201a8"
             ],
             [
              0.3333333333333333,
              "#9c179e"
             ],
             [
              0.4444444444444444,
              "#bd3786"
             ],
             [
              0.5555555555555556,
              "#d8576b"
             ],
             [
              0.6666666666666666,
              "#ed7953"
             ],
             [
              0.7777777777777778,
              "#fb9f3a"
             ],
             [
              0.8888888888888888,
              "#fdca26"
             ],
             [
              1,
              "#f0f921"
             ]
            ],
            "type": "histogram2d"
           }
          ],
          "histogram2dcontour": [
           {
            "colorbar": {
             "outlinewidth": 0,
             "ticks": ""
            },
            "colorscale": [
             [
              0,
              "#0d0887"
             ],
             [
              0.1111111111111111,
              "#46039f"
             ],
             [
              0.2222222222222222,
              "#7201a8"
             ],
             [
              0.3333333333333333,
              "#9c179e"
             ],
             [
              0.4444444444444444,
              "#bd3786"
             ],
             [
              0.5555555555555556,
              "#d8576b"
             ],
             [
              0.6666666666666666,
              "#ed7953"
             ],
             [
              0.7777777777777778,
              "#fb9f3a"
             ],
             [
              0.8888888888888888,
              "#fdca26"
             ],
             [
              1,
              "#f0f921"
             ]
            ],
            "type": "histogram2dcontour"
           }
          ],
          "mesh3d": [
           {
            "colorbar": {
             "outlinewidth": 0,
             "ticks": ""
            },
            "type": "mesh3d"
           }
          ],
          "parcoords": [
           {
            "line": {
             "colorbar": {
              "outlinewidth": 0,
              "ticks": ""
             }
            },
            "type": "parcoords"
           }
          ],
          "pie": [
           {
            "automargin": true,
            "type": "pie"
           }
          ],
          "scatter": [
           {
            "fillpattern": {
             "fillmode": "overlay",
             "size": 10,
             "solidity": 0.2
            },
            "type": "scatter"
           }
          ],
          "scatter3d": [
           {
            "line": {
             "colorbar": {
              "outlinewidth": 0,
              "ticks": ""
             }
            },
            "marker": {
             "colorbar": {
              "outlinewidth": 0,
              "ticks": ""
             }
            },
            "type": "scatter3d"
           }
          ],
          "scattercarpet": [
           {
            "marker": {
             "colorbar": {
              "outlinewidth": 0,
              "ticks": ""
             }
            },
            "type": "scattercarpet"
           }
          ],
          "scattergeo": [
           {
            "marker": {
             "colorbar": {
              "outlinewidth": 0,
              "ticks": ""
             }
            },
            "type": "scattergeo"
           }
          ],
          "scattergl": [
           {
            "marker": {
             "colorbar": {
              "outlinewidth": 0,
              "ticks": ""
             }
            },
            "type": "scattergl"
           }
          ],
          "scattermapbox": [
           {
            "marker": {
             "colorbar": {
              "outlinewidth": 0,
              "ticks": ""
             }
            },
            "type": "scattermapbox"
           }
          ],
          "scatterpolar": [
           {
            "marker": {
             "colorbar": {
              "outlinewidth": 0,
              "ticks": ""
             }
            },
            "type": "scatterpolar"
           }
          ],
          "scatterpolargl": [
           {
            "marker": {
             "colorbar": {
              "outlinewidth": 0,
              "ticks": ""
             }
            },
            "type": "scatterpolargl"
           }
          ],
          "scatterternary": [
           {
            "marker": {
             "colorbar": {
              "outlinewidth": 0,
              "ticks": ""
             }
            },
            "type": "scatterternary"
           }
          ],
          "surface": [
           {
            "colorbar": {
             "outlinewidth": 0,
             "ticks": ""
            },
            "colorscale": [
             [
              0,
              "#0d0887"
             ],
             [
              0.1111111111111111,
              "#46039f"
             ],
             [
              0.2222222222222222,
              "#7201a8"
             ],
             [
              0.3333333333333333,
              "#9c179e"
             ],
             [
              0.4444444444444444,
              "#bd3786"
             ],
             [
              0.5555555555555556,
              "#d8576b"
             ],
             [
              0.6666666666666666,
              "#ed7953"
             ],
             [
              0.7777777777777778,
              "#fb9f3a"
             ],
             [
              0.8888888888888888,
              "#fdca26"
             ],
             [
              1,
              "#f0f921"
             ]
            ],
            "type": "surface"
           }
          ],
          "table": [
           {
            "cells": {
             "fill": {
              "color": "#EBF0F8"
             },
             "line": {
              "color": "white"
             }
            },
            "header": {
             "fill": {
              "color": "#C8D4E3"
             },
             "line": {
              "color": "white"
             }
            },
            "type": "table"
           }
          ]
         },
         "layout": {
          "annotationdefaults": {
           "arrowcolor": "#2a3f5f",
           "arrowhead": 0,
           "arrowwidth": 1
          },
          "autotypenumbers": "strict",
          "coloraxis": {
           "colorbar": {
            "outlinewidth": 0,
            "ticks": ""
           }
          },
          "colorscale": {
           "diverging": [
            [
             0,
             "#8e0152"
            ],
            [
             0.1,
             "#c51b7d"
            ],
            [
             0.2,
             "#de77ae"
            ],
            [
             0.3,
             "#f1b6da"
            ],
            [
             0.4,
             "#fde0ef"
            ],
            [
             0.5,
             "#f7f7f7"
            ],
            [
             0.6,
             "#e6f5d0"
            ],
            [
             0.7,
             "#b8e186"
            ],
            [
             0.8,
             "#7fbc41"
            ],
            [
             0.9,
             "#4d9221"
            ],
            [
             1,
             "#276419"
            ]
           ],
           "sequential": [
            [
             0,
             "#0d0887"
            ],
            [
             0.1111111111111111,
             "#46039f"
            ],
            [
             0.2222222222222222,
             "#7201a8"
            ],
            [
             0.3333333333333333,
             "#9c179e"
            ],
            [
             0.4444444444444444,
             "#bd3786"
            ],
            [
             0.5555555555555556,
             "#d8576b"
            ],
            [
             0.6666666666666666,
             "#ed7953"
            ],
            [
             0.7777777777777778,
             "#fb9f3a"
            ],
            [
             0.8888888888888888,
             "#fdca26"
            ],
            [
             1,
             "#f0f921"
            ]
           ],
           "sequentialminus": [
            [
             0,
             "#0d0887"
            ],
            [
             0.1111111111111111,
             "#46039f"
            ],
            [
             0.2222222222222222,
             "#7201a8"
            ],
            [
             0.3333333333333333,
             "#9c179e"
            ],
            [
             0.4444444444444444,
             "#bd3786"
            ],
            [
             0.5555555555555556,
             "#d8576b"
            ],
            [
             0.6666666666666666,
             "#ed7953"
            ],
            [
             0.7777777777777778,
             "#fb9f3a"
            ],
            [
             0.8888888888888888,
             "#fdca26"
            ],
            [
             1,
             "#f0f921"
            ]
           ]
          },
          "colorway": [
           "#636efa",
           "#EF553B",
           "#00cc96",
           "#ab63fa",
           "#FFA15A",
           "#19d3f3",
           "#FF6692",
           "#B6E880",
           "#FF97FF",
           "#FECB52"
          ],
          "font": {
           "color": "#2a3f5f"
          },
          "geo": {
           "bgcolor": "white",
           "lakecolor": "white",
           "landcolor": "#E5ECF6",
           "showlakes": true,
           "showland": true,
           "subunitcolor": "white"
          },
          "hoverlabel": {
           "align": "left"
          },
          "hovermode": "closest",
          "mapbox": {
           "style": "light"
          },
          "paper_bgcolor": "white",
          "plot_bgcolor": "#E5ECF6",
          "polar": {
           "angularaxis": {
            "gridcolor": "white",
            "linecolor": "white",
            "ticks": ""
           },
           "bgcolor": "#E5ECF6",
           "radialaxis": {
            "gridcolor": "white",
            "linecolor": "white",
            "ticks": ""
           }
          },
          "scene": {
           "xaxis": {
            "backgroundcolor": "#E5ECF6",
            "gridcolor": "white",
            "gridwidth": 2,
            "linecolor": "white",
            "showbackground": true,
            "ticks": "",
            "zerolinecolor": "white"
           },
           "yaxis": {
            "backgroundcolor": "#E5ECF6",
            "gridcolor": "white",
            "gridwidth": 2,
            "linecolor": "white",
            "showbackground": true,
            "ticks": "",
            "zerolinecolor": "white"
           },
           "zaxis": {
            "backgroundcolor": "#E5ECF6",
            "gridcolor": "white",
            "gridwidth": 2,
            "linecolor": "white",
            "showbackground": true,
            "ticks": "",
            "zerolinecolor": "white"
           }
          },
          "shapedefaults": {
           "line": {
            "color": "#2a3f5f"
           }
          },
          "ternary": {
           "aaxis": {
            "gridcolor": "white",
            "linecolor": "white",
            "ticks": ""
           },
           "baxis": {
            "gridcolor": "white",
            "linecolor": "white",
            "ticks": ""
           },
           "bgcolor": "#E5ECF6",
           "caxis": {
            "gridcolor": "white",
            "linecolor": "white",
            "ticks": ""
           }
          },
          "title": {
           "x": 0.05
          },
          "xaxis": {
           "automargin": true,
           "gridcolor": "white",
           "linecolor": "white",
           "ticks": "",
           "title": {
            "standoff": 15
           },
           "zerolinecolor": "white",
           "zerolinewidth": 2
          },
          "yaxis": {
           "automargin": true,
           "gridcolor": "white",
           "linecolor": "white",
           "ticks": "",
           "title": {
            "standoff": 15
           },
           "zerolinecolor": "white",
           "zerolinewidth": 2
          }
         }
        },
        "title": {
         "text": "Qubit Reset - Step 4 - fg qc check"
        },
        "width": 1000,
        "xaxis": {
         "anchor": "y",
         "domain": [
          0,
          1
         ],
         "hoverformat": ".3s",
         "showgrid": true,
         "tickformat": ".2s",
         "tickformatstops": [
          {
           "dtickrange": [
            null,
            1e-9
           ],
           "value": ".10s"
          },
          {
           "dtickrange": [
            1e-9,
            0.000001
           ],
           "value": ".7s"
          },
          {
           "dtickrange": [
            0.000001,
            0.001
           ],
           "value": ".4s"
          }
         ],
         "ticksuffix": "s",
         "title": {
          "text": "Time"
         }
        },
        "yaxis": {
         "anchor": "x",
         "autorange": true,
         "domain": [
          0,
          1
         ],
         "hoverformat": ".3s",
         "tickformat": ".2s",
         "ticksuffix": "V",
         "title": {
          "text": "flux"
         }
        }
       }
      },
      "text/html": [
       "<div>                            <div id=\"e991d858-a409-4bdf-95d9-c5a2c1350cc2\" class=\"plotly-graph-div\" style=\"height:300px; width:1000px;\"></div>            <script type=\"text/javascript\">                require([\"plotly\"], function(Plotly) {                    window.PLOTLYENV=window.PLOTLYENV || {};                                    if (document.getElementById(\"e991d858-a409-4bdf-95d9-c5a2c1350cc2\")) {                    Plotly.newPlot(                        \"e991d858-a409-4bdf-95d9-c5a2c1350cc2\",                        [{\"fill\":\"tozeroy\",\"hoverinfo\":\"x+y+name\",\"hoverlabel\":{\"namelength\":-1},\"legendgroup\":\"1\",\"line\":{\"color\":\"#EF553B\"},\"mode\":\"lines\",\"name\":\"RampPulse, clock: q0.ro\",\"showlegend\":true,\"x\":[4e-6,4.0009999999999995e-6,4.001999999999999e-6,4.002999999999999e-6,4.0039999999999984e-6,4.004999999999998e-6,4.005999999999998e-6,4.006999999999997e-6,4.007999999999997e-6,4.008999999999997e-6,4.009999999999996e-6,4.010999999999996e-6,4.011999999999996e-6,4.012999999999995e-6,4.013999999999995e-6,4.014999999999995e-6,4.015999999999994e-6,4.016999999999994e-6,4.0179999999999935e-6,4.018999999999993e-6],\"y\":[-0.025,-0.025,-0.025,-0.025,-0.025,-0.025,-0.025,-0.025,-0.025,-0.025,-0.025,-0.025,-0.025,-0.025,-0.025,-0.025,-0.025,-0.025,-0.025,-0.025],\"type\":\"scatter\",\"xaxis\":\"x\",\"yaxis\":\"y\"},{\"fill\":\"tozeroy\",\"hoverinfo\":\"x+y+name\",\"hoverlabel\":{\"namelength\":-1},\"legendgroup\":\"2\",\"line\":{\"color\":\"#00CC96\"},\"mode\":\"lines\",\"name\":\"RampPulse, clock: q0.ro\",\"showlegend\":true,\"x\":[4.02e-6,4.020999999999999e-6,4.021999999999999e-6,4.022999999999999e-6,4.023999999999998e-6,4.024999999999998e-6,4.0259999999999975e-6,4.026999999999997e-6,4.027999999999997e-6,4.0289999999999965e-6,4.029999999999996e-6,4.030999999999996e-6,4.0319999999999954e-6,4.032999999999995e-6,4.033999999999995e-6,4.034999999999994e-6,4.035999999999994e-6,4.036999999999994e-6,4.037999999999993e-6,4.038999999999993e-6,4.039999999999993e-6,4.040999999999992e-6,4.041999999999992e-6,4.042999999999992e-6,4.043999999999991e-6,4.044999999999991e-6,4.0459999999999906e-6,4.04699999999999e-6,4.04799999999999e-6,4.0489999999999895e-6,4.049999999999989e-6,4.050999999999989e-6,4.0519999999999885e-6,4.052999999999988e-6,4.053999999999988e-6,4.0549999999999874e-6,4.055999999999987e-6,4.056999999999987e-6,4.057999999999986e-6,4.058999999999986e-6,4.059999999999986e-6,4.060999999999985e-6,4.061999999999985e-6,4.062999999999985e-6,4.063999999999984e-6,4.064999999999984e-6,4.065999999999984e-6,4.066999999999983e-6,4.067999999999983e-6,4.0689999999999826e-6,4.069999999999982e-6,4.070999999999982e-6,4.0719999999999815e-6,4.072999999999981e-6,4.073999999999981e-6,4.0749999999999805e-6,4.07599999999998e-6,4.07699999999998e-6,4.077999999999979e-6,4.078999999999979e-6,4.079999999999979e-6,4.080999999999978e-6,4.081999999999978e-6,4.082999999999978e-6,4.083999999999977e-6,4.084999999999977e-6,4.085999999999977e-6,4.086999999999976e-6,4.087999999999976e-6,4.088999999999976e-6,4.089999999999975e-6,4.090999999999975e-6,4.0919999999999745e-6,4.092999999999974e-6,4.093999999999974e-6,4.0949999999999735e-6,4.095999999999973e-6,4.096999999999973e-6,4.0979999999999725e-6,4.098999999999972e-6,4.099999999999972e-6,4.100999999999971e-6,4.101999999999971e-6,4.102999999999971e-6,4.10399999999997e-6,4.10499999999997e-6,4.10599999999997e-6,4.106999999999969e-6,4.107999999999969e-6,4.108999999999969e-6,4.109999999999968e-6,4.110999999999968e-6,4.1119999999999676e-6,4.112999999999967e-6,4.113999999999967e-6,4.1149999999999665e-6,4.115999999999966e-6,4.116999999999966e-6,4.1179999999999655e-6,4.118999999999965e-6,4.119999999999965e-6,4.1209999999999644e-6,4.121999999999964e-6,4.122999999999964e-6,4.123999999999963e-6,4.124999999999963e-6,4.125999999999963e-6,4.126999999999962e-6,4.127999999999962e-6,4.128999999999962e-6,4.129999999999961e-6,4.130999999999961e-6,4.131999999999961e-6,4.13299999999996e-6,4.13399999999996e-6,4.1349999999999596e-6,4.135999999999959e-6,4.136999999999959e-6,4.1379999999999585e-6,4.138999999999958e-6,4.139999999999958e-6,4.1409999999999575e-6,4.141999999999957e-6,4.142999999999957e-6,4.1439999999999564e-6,4.144999999999956e-6,4.145999999999956e-6,4.146999999999955e-6,4.147999999999955e-6,4.148999999999955e-6,4.149999999999954e-6,4.150999999999954e-6,4.151999999999954e-6,4.152999999999953e-6,4.153999999999953e-6,4.154999999999953e-6],\"y\":[0.06,0.06,0.06,0.06,0.06,0.06,0.06,0.06,0.06,0.06,0.06,0.06,0.06,0.06,0.06,0.06,0.06,0.06,0.06,0.06,0.06,0.06,0.06,0.06,0.06,0.06,0.06,0.06,0.06,0.06,0.06,0.06,0.06,0.06,0.06,0.06,0.06,0.06,0.06,0.06,0.06,0.06,0.06,0.06,0.06,0.06,0.06,0.06,0.06,0.06,0.06,0.06,0.06,0.06,0.06,0.06,0.06,0.06,0.06,0.06,0.06,0.06,0.06,0.06,0.06,0.06,0.06,0.06,0.06,0.06,0.06,0.06,0.06,0.06,0.06,0.06,0.06,0.06,0.06,0.06,0.06,0.06,0.06,0.06,0.06,0.06,0.06,0.06,0.06,0.06,0.06,0.06,0.06,0.06,0.06,0.06,0.06,0.06,0.06,0.06,0.06,0.06,0.06,0.06,0.06,0.06,0.06,0.06,0.06,0.06,0.06,0.06,0.06,0.06,0.06,0.06,0.06,0.06,0.06,0.06,0.06,0.06,0.06,0.06,0.06,0.06,0.06,0.06,0.06,0.06,0.06,0.06,0.06,0.06,0.06,0.06],\"type\":\"scatter\",\"xaxis\":\"x\",\"yaxis\":\"y\"},{\"fill\":\"tozeroy\",\"hoverinfo\":\"x+y+name\",\"hoverlabel\":{\"namelength\":-1},\"legendgroup\":\"3\",\"line\":{\"color\":\"#AB63FA\"},\"mode\":\"lines\",\"name\":\"RampPulse, clock: q0.ro\",\"showlegend\":true,\"x\":[4.155e-6,4.156e-6,4.156999999999999e-6,4.157999999999999e-6,4.158999999999999e-6,4.159999999999998e-6,4.160999999999998e-6,4.161999999999998e-6,4.162999999999997e-6,4.163999999999997e-6,4.1649999999999965e-6,4.165999999999996e-6,4.166999999999996e-6,4.1679999999999955e-6,4.168999999999995e-6,4.169999999999995e-6,4.1709999999999945e-6,4.171999999999994e-6,4.172999999999994e-6,4.173999999999993e-6,4.174999999999993e-6,4.175999999999993e-6,4.176999999999992e-6,4.177999999999992e-6,4.178999999999992e-6],\"y\":[0.06,0.06,0.06,0.06,0.06,0.06,0.06,0.06,0.06,0.06,0.06,0.06,0.06,0.06,0.06,0.06,0.06,0.06,0.06,0.06,0.06,0.06,0.06,0.06,0.06],\"type\":\"scatter\",\"xaxis\":\"x\",\"yaxis\":\"y\"},{\"fill\":\"tozeroy\",\"hoverinfo\":\"x+y+name\",\"hoverlabel\":{\"namelength\":-1},\"legendgroup\":\"4\",\"line\":{\"color\":\"#FFA15A\"},\"mode\":\"lines\",\"name\":\"RampPulse, clock: q0.ro\",\"showlegend\":true,\"x\":[4.18e-6,4.1809999999999994e-6,4.181999999999999e-6,4.182999999999999e-6,4.183999999999998e-6,4.184999999999998e-6,4.185999999999998e-6,4.186999999999997e-6,4.187999999999997e-6,4.188999999999997e-6,4.189999999999996e-6,4.190999999999996e-6,4.191999999999996e-6,4.192999999999995e-6,4.193999999999995e-6,4.1949999999999946e-6,4.195999999999994e-6,4.196999999999994e-6,4.1979999999999935e-6,4.198999999999993e-6],\"y\":[-0.025,-0.025,-0.025,-0.025,-0.025,-0.025,-0.025,-0.025,-0.025,-0.025,-0.025,-0.025,-0.025,-0.025,-0.025,-0.025,-0.025,-0.025,-0.025,-0.025],\"type\":\"scatter\",\"xaxis\":\"x\",\"yaxis\":\"y\"}],                        {\"template\":{\"data\":{\"histogram2dcontour\":[{\"type\":\"histogram2dcontour\",\"colorbar\":{\"outlinewidth\":0,\"ticks\":\"\"},\"colorscale\":[[0.0,\"#0d0887\"],[0.1111111111111111,\"#46039f\"],[0.2222222222222222,\"#7201a8\"],[0.3333333333333333,\"#9c179e\"],[0.4444444444444444,\"#bd3786\"],[0.5555555555555556,\"#d8576b\"],[0.6666666666666666,\"#ed7953\"],[0.7777777777777778,\"#fb9f3a\"],[0.8888888888888888,\"#fdca26\"],[1.0,\"#f0f921\"]]}],\"choropleth\":[{\"type\":\"choropleth\",\"colorbar\":{\"outlinewidth\":0,\"ticks\":\"\"}}],\"histogram2d\":[{\"type\":\"histogram2d\",\"colorbar\":{\"outlinewidth\":0,\"ticks\":\"\"},\"colorscale\":[[0.0,\"#0d0887\"],[0.1111111111111111,\"#46039f\"],[0.2222222222222222,\"#7201a8\"],[0.3333333333333333,\"#9c179e\"],[0.4444444444444444,\"#bd3786\"],[0.5555555555555556,\"#d8576b\"],[0.6666666666666666,\"#ed7953\"],[0.7777777777777778,\"#fb9f3a\"],[0.8888888888888888,\"#fdca26\"],[1.0,\"#f0f921\"]]}],\"heatmap\":[{\"type\":\"heatmap\",\"colorbar\":{\"outlinewidth\":0,\"ticks\":\"\"},\"colorscale\":[[0.0,\"#0d0887\"],[0.1111111111111111,\"#46039f\"],[0.2222222222222222,\"#7201a8\"],[0.3333333333333333,\"#9c179e\"],[0.4444444444444444,\"#bd3786\"],[0.5555555555555556,\"#d8576b\"],[0.6666666666666666,\"#ed7953\"],[0.7777777777777778,\"#fb9f3a\"],[0.8888888888888888,\"#fdca26\"],[1.0,\"#f0f921\"]]}],\"heatmapgl\":[{\"type\":\"heatmapgl\",\"colorbar\":{\"outlinewidth\":0,\"ticks\":\"\"},\"colorscale\":[[0.0,\"#0d0887\"],[0.1111111111111111,\"#46039f\"],[0.2222222222222222,\"#7201a8\"],[0.3333333333333333,\"#9c179e\"],[0.4444444444444444,\"#bd3786\"],[0.5555555555555556,\"#d8576b\"],[0.6666666666666666,\"#ed7953\"],[0.7777777777777778,\"#fb9f3a\"],[0.8888888888888888,\"#fdca26\"],[1.0,\"#f0f921\"]]}],\"contourcarpet\":[{\"type\":\"contourcarpet\",\"colorbar\":{\"outlinewidth\":0,\"ticks\":\"\"}}],\"contour\":[{\"type\":\"contour\",\"colorbar\":{\"outlinewidth\":0,\"ticks\":\"\"},\"colorscale\":[[0.0,\"#0d0887\"],[0.1111111111111111,\"#46039f\"],[0.2222222222222222,\"#7201a8\"],[0.3333333333333333,\"#9c179e\"],[0.4444444444444444,\"#bd3786\"],[0.5555555555555556,\"#d8576b\"],[0.6666666666666666,\"#ed7953\"],[0.7777777777777778,\"#fb9f3a\"],[0.8888888888888888,\"#fdca26\"],[1.0,\"#f0f921\"]]}],\"surface\":[{\"type\":\"surface\",\"colorbar\":{\"outlinewidth\":0,\"ticks\":\"\"},\"colorscale\":[[0.0,\"#0d0887\"],[0.1111111111111111,\"#46039f\"],[0.2222222222222222,\"#7201a8\"],[0.3333333333333333,\"#9c179e\"],[0.4444444444444444,\"#bd3786\"],[0.5555555555555556,\"#d8576b\"],[0.6666666666666666,\"#ed7953\"],[0.7777777777777778,\"#fb9f3a\"],[0.8888888888888888,\"#fdca26\"],[1.0,\"#f0f921\"]]}],\"mesh3d\":[{\"type\":\"mesh3d\",\"colorbar\":{\"outlinewidth\":0,\"ticks\":\"\"}}],\"scatter\":[{\"fillpattern\":{\"fillmode\":\"overlay\",\"size\":10,\"solidity\":0.2},\"type\":\"scatter\"}],\"parcoords\":[{\"type\":\"parcoords\",\"line\":{\"colorbar\":{\"outlinewidth\":0,\"ticks\":\"\"}}}],\"scatterpolargl\":[{\"type\":\"scatterpolargl\",\"marker\":{\"colorbar\":{\"outlinewidth\":0,\"ticks\":\"\"}}}],\"bar\":[{\"error_x\":{\"color\":\"#2a3f5f\"},\"error_y\":{\"color\":\"#2a3f5f\"},\"marker\":{\"line\":{\"color\":\"#E5ECF6\",\"width\":0.5},\"pattern\":{\"fillmode\":\"overlay\",\"size\":10,\"solidity\":0.2}},\"type\":\"bar\"}],\"scattergeo\":[{\"type\":\"scattergeo\",\"marker\":{\"colorbar\":{\"outlinewidth\":0,\"ticks\":\"\"}}}],\"scatterpolar\":[{\"type\":\"scatterpolar\",\"marker\":{\"colorbar\":{\"outlinewidth\":0,\"ticks\":\"\"}}}],\"histogram\":[{\"marker\":{\"pattern\":{\"fillmode\":\"overlay\",\"size\":10,\"solidity\":0.2}},\"type\":\"histogram\"}],\"scattergl\":[{\"type\":\"scattergl\",\"marker\":{\"colorbar\":{\"outlinewidth\":0,\"ticks\":\"\"}}}],\"scatter3d\":[{\"type\":\"scatter3d\",\"line\":{\"colorbar\":{\"outlinewidth\":0,\"ticks\":\"\"}},\"marker\":{\"colorbar\":{\"outlinewidth\":0,\"ticks\":\"\"}}}],\"scattermapbox\":[{\"type\":\"scattermapbox\",\"marker\":{\"colorbar\":{\"outlinewidth\":0,\"ticks\":\"\"}}}],\"scatterternary\":[{\"type\":\"scatterternary\",\"marker\":{\"colorbar\":{\"outlinewidth\":0,\"ticks\":\"\"}}}],\"scattercarpet\":[{\"type\":\"scattercarpet\",\"marker\":{\"colorbar\":{\"outlinewidth\":0,\"ticks\":\"\"}}}],\"carpet\":[{\"aaxis\":{\"endlinecolor\":\"#2a3f5f\",\"gridcolor\":\"white\",\"linecolor\":\"white\",\"minorgridcolor\":\"white\",\"startlinecolor\":\"#2a3f5f\"},\"baxis\":{\"endlinecolor\":\"#2a3f5f\",\"gridcolor\":\"white\",\"linecolor\":\"white\",\"minorgridcolor\":\"white\",\"startlinecolor\":\"#2a3f5f\"},\"type\":\"carpet\"}],\"table\":[{\"cells\":{\"fill\":{\"color\":\"#EBF0F8\"},\"line\":{\"color\":\"white\"}},\"header\":{\"fill\":{\"color\":\"#C8D4E3\"},\"line\":{\"color\":\"white\"}},\"type\":\"table\"}],\"barpolar\":[{\"marker\":{\"line\":{\"color\":\"#E5ECF6\",\"width\":0.5},\"pattern\":{\"fillmode\":\"overlay\",\"size\":10,\"solidity\":0.2}},\"type\":\"barpolar\"}],\"pie\":[{\"automargin\":true,\"type\":\"pie\"}]},\"layout\":{\"autotypenumbers\":\"strict\",\"colorway\":[\"#636efa\",\"#EF553B\",\"#00cc96\",\"#ab63fa\",\"#FFA15A\",\"#19d3f3\",\"#FF6692\",\"#B6E880\",\"#FF97FF\",\"#FECB52\"],\"font\":{\"color\":\"#2a3f5f\"},\"hovermode\":\"closest\",\"hoverlabel\":{\"align\":\"left\"},\"paper_bgcolor\":\"white\",\"plot_bgcolor\":\"#E5ECF6\",\"polar\":{\"bgcolor\":\"#E5ECF6\",\"angularaxis\":{\"gridcolor\":\"white\",\"linecolor\":\"white\",\"ticks\":\"\"},\"radialaxis\":{\"gridcolor\":\"white\",\"linecolor\":\"white\",\"ticks\":\"\"}},\"ternary\":{\"bgcolor\":\"#E5ECF6\",\"aaxis\":{\"gridcolor\":\"white\",\"linecolor\":\"white\",\"ticks\":\"\"},\"baxis\":{\"gridcolor\":\"white\",\"linecolor\":\"white\",\"ticks\":\"\"},\"caxis\":{\"gridcolor\":\"white\",\"linecolor\":\"white\",\"ticks\":\"\"}},\"coloraxis\":{\"colorbar\":{\"outlinewidth\":0,\"ticks\":\"\"}},\"colorscale\":{\"sequential\":[[0.0,\"#0d0887\"],[0.1111111111111111,\"#46039f\"],[0.2222222222222222,\"#7201a8\"],[0.3333333333333333,\"#9c179e\"],[0.4444444444444444,\"#bd3786\"],[0.5555555555555556,\"#d8576b\"],[0.6666666666666666,\"#ed7953\"],[0.7777777777777778,\"#fb9f3a\"],[0.8888888888888888,\"#fdca26\"],[1.0,\"#f0f921\"]],\"sequentialminus\":[[0.0,\"#0d0887\"],[0.1111111111111111,\"#46039f\"],[0.2222222222222222,\"#7201a8\"],[0.3333333333333333,\"#9c179e\"],[0.4444444444444444,\"#bd3786\"],[0.5555555555555556,\"#d8576b\"],[0.6666666666666666,\"#ed7953\"],[0.7777777777777778,\"#fb9f3a\"],[0.8888888888888888,\"#fdca26\"],[1.0,\"#f0f921\"]],\"diverging\":[[0,\"#8e0152\"],[0.1,\"#c51b7d\"],[0.2,\"#de77ae\"],[0.3,\"#f1b6da\"],[0.4,\"#fde0ef\"],[0.5,\"#f7f7f7\"],[0.6,\"#e6f5d0\"],[0.7,\"#b8e186\"],[0.8,\"#7fbc41\"],[0.9,\"#4d9221\"],[1,\"#276419\"]]},\"xaxis\":{\"gridcolor\":\"white\",\"linecolor\":\"white\",\"ticks\":\"\",\"title\":{\"standoff\":15},\"zerolinecolor\":\"white\",\"automargin\":true,\"zerolinewidth\":2},\"yaxis\":{\"gridcolor\":\"white\",\"linecolor\":\"white\",\"ticks\":\"\",\"title\":{\"standoff\":15},\"zerolinecolor\":\"white\",\"automargin\":true,\"zerolinewidth\":2},\"scene\":{\"xaxis\":{\"backgroundcolor\":\"#E5ECF6\",\"gridcolor\":\"white\",\"linecolor\":\"white\",\"showbackground\":true,\"ticks\":\"\",\"zerolinecolor\":\"white\",\"gridwidth\":2},\"yaxis\":{\"backgroundcolor\":\"#E5ECF6\",\"gridcolor\":\"white\",\"linecolor\":\"white\",\"showbackground\":true,\"ticks\":\"\",\"zerolinecolor\":\"white\",\"gridwidth\":2},\"zaxis\":{\"backgroundcolor\":\"#E5ECF6\",\"gridcolor\":\"white\",\"linecolor\":\"white\",\"showbackground\":true,\"ticks\":\"\",\"zerolinecolor\":\"white\",\"gridwidth\":2}},\"shapedefaults\":{\"line\":{\"color\":\"#2a3f5f\"}},\"annotationdefaults\":{\"arrowcolor\":\"#2a3f5f\",\"arrowhead\":0,\"arrowwidth\":1},\"geo\":{\"bgcolor\":\"white\",\"landcolor\":\"#E5ECF6\",\"subunitcolor\":\"white\",\"showland\":true,\"showlakes\":true,\"lakecolor\":\"white\"},\"title\":{\"x\":0.05},\"mapbox\":{\"style\":\"light\"}}},\"xaxis\":{\"anchor\":\"y\",\"domain\":[0.0,1.0],\"tickformat\":\".2s\",\"hoverformat\":\".3s\",\"ticksuffix\":\"s\",\"showgrid\":true,\"title\":{\"text\":\"Time\"},\"tickformatstops\":[{\"dtickrange\":[null,1e-9],\"value\":\".10s\"},{\"dtickrange\":[1e-9,1e-6],\"value\":\".7s\"},{\"dtickrange\":[1e-6,0.001],\"value\":\".4s\"}]},\"yaxis\":{\"anchor\":\"x\",\"domain\":[0.0,1.0],\"tickformat\":\".2s\",\"hoverformat\":\".3s\",\"ticksuffix\":\"V\",\"title\":{\"text\":\"flux\"},\"autorange\":true},\"height\":300,\"width\":1000,\"title\":{\"text\":\"Qubit Reset - Step 4 - fg qc check\"},\"showlegend\":false},                        {\"responsive\": true}                    ).then(function(){\n",
       "                            \n",
       "var gd = document.getElementById('e991d858-a409-4bdf-95d9-c5a2c1350cc2');\n",
       "var x = new MutationObserver(function (mutations, observer) {{\n",
       "        var display = window.getComputedStyle(gd).display;\n",
       "        if (!display || display === 'none') {{\n",
       "            console.log([gd, 'removed!']);\n",
       "            Plotly.purge(gd);\n",
       "            observer.disconnect();\n",
       "        }}\n",
       "}});\n",
       "\n",
       "// Listen for the removal of the full notebook cells\n",
       "var notebookContainer = gd.closest('#notebook-container');\n",
       "if (notebookContainer) {{\n",
       "    x.observe(notebookContainer, {childList: true});\n",
       "}}\n",
       "\n",
       "// Listen for the clearing of the current output cell\n",
       "var outputEl = gd.closest('.output');\n",
       "if (outputEl) {{\n",
       "    x.observe(outputEl, {childList: true});\n",
       "}}\n",
       "\n",
       "                        })                };                });            </script>        </div>"
      ]
     },
     "metadata": {},
     "output_type": "display_data"
    }
   ],
   "source": [
    "# step 4\n",
    "\n",
    "sched = Schedule(\"Qubit Reset - Step 4 - fg qc check\")\n",
    "\n",
    "readout_clock = ClockResource(name=\"q0.ro\", freq=0e9)\n",
    "sched.add_resource(readout_clock)\n",
    "\n",
    "# qc_offset = -10\n",
    "# qc_duration = 0.06e-6\n",
    "# cr_duration = 0.25e-6\n",
    "# amp = duration / target_duration* offset\n",
    "start = sched.add(IdlePulse(duration=4e-6))\n",
    "\n",
    "qc_t = 20e-9\n",
    "qc_amp = -0.025\n",
    "\n",
    "sched.add(\n",
    "    RampPulse(offset=qc_amp, amp=0, duration=qc_t, port=\"flux\", clock=\"q0.ro\")\n",
    ")\n",
    "\n",
    "# for f state\n",
    "qc_t = 135e-9\n",
    "qc_amp = 0.06\n",
    "\n",
    "sched.add(\n",
    "    RampPulse(offset=qc_amp, amp=0, duration=qc_t, port=\"flux\", clock=\"q0.ro\")\n",
    ")\n",
    "\n",
    "# for f state\n",
    "qc_t = 25e-9\n",
    "qc_amp = 0.06\n",
    "\n",
    "sched.add(\n",
    "    RampPulse(offset=qc_amp, amp=0, duration=qc_t, port=\"flux\", clock=\"q0.ro\")\n",
    ")\n",
    "\n",
    "qc_t = 20e-9\n",
    "qc_amp = -0.025\n",
    "\n",
    "sched.add(\n",
    "    RampPulse(offset=qc_amp, amp=0, duration=qc_t, port=\"flux\", clock=\"q0.ro\")\n",
    ")\n",
    "\n",
    "comp_sched = device_compiler.compile(sched)\n",
    "comp_sched.plot_pulse_diagram(plot_backend=\"plotly\")"
   ]
  },
  {
   "cell_type": "code",
   "execution_count": 262,
   "id": "7ac0df3b",
   "metadata": {},
   "outputs": [
    {
     "data": {
      "application/vnd.plotly.v1+json": {
       "config": {
        "plotlyServerURL": "https://plot.ly"
       },
       "data": [
        {
         "fill": "tozeroy",
         "hoverinfo": "x+y+name",
         "hoverlabel": {
          "namelength": -1
         },
         "legendgroup": "1",
         "line": {
          "color": "#EF553B"
         },
         "mode": "lines",
         "name": "RampPulse, clock: q0.ro",
         "showlegend": true,
         "type": "scatter",
         "x": [
          0.000004,
          0.0000040009999999999995,
          0.000004001999999999999,
          0.000004002999999999999,
          0.0000040039999999999984,
          0.000004004999999999998,
          0.000004005999999999998,
          0.000004006999999999997,
          0.000004007999999999997,
          0.000004008999999999997,
          0.000004009999999999996,
          0.000004010999999999996,
          0.000004011999999999996,
          0.000004012999999999995,
          0.000004013999999999995,
          0.000004014999999999995,
          0.000004015999999999994,
          0.000004016999999999994,
          0.0000040179999999999935,
          0.000004018999999999993
         ],
         "xaxis": "x",
         "y": [
          -0.025,
          -0.025,
          -0.025,
          -0.025,
          -0.025,
          -0.025,
          -0.025,
          -0.025,
          -0.025,
          -0.025,
          -0.025,
          -0.025,
          -0.025,
          -0.025,
          -0.025,
          -0.025,
          -0.025,
          -0.025,
          -0.025,
          -0.025
         ],
         "yaxis": "y"
        },
        {
         "fill": "tozeroy",
         "hoverinfo": "x+y+name",
         "hoverlabel": {
          "namelength": -1
         },
         "legendgroup": "2",
         "line": {
          "color": "#00CC96"
         },
         "mode": "lines",
         "name": "RampPulse, clock: q0.ro",
         "showlegend": true,
         "type": "scatter",
         "x": [
          0.00000402,
          0.000004020999999999999,
          0.000004021999999999999,
          0.000004022999999999999,
          0.000004023999999999998,
          0.000004024999999999998,
          0.0000040259999999999975,
          0.000004026999999999997,
          0.000004027999999999997,
          0.0000040289999999999965,
          0.000004029999999999996,
          0.000004030999999999996,
          0.0000040319999999999954,
          0.000004032999999999995,
          0.000004033999999999995,
          0.000004034999999999994,
          0.000004035999999999994,
          0.000004036999999999994,
          0.000004037999999999993,
          0.000004038999999999993,
          0.000004039999999999993,
          0.000004040999999999992,
          0.000004041999999999992,
          0.000004042999999999992,
          0.000004043999999999991,
          0.000004044999999999991,
          0.0000040459999999999906,
          0.00000404699999999999,
          0.00000404799999999999,
          0.0000040489999999999895,
          0.000004049999999999989,
          0.000004050999999999989,
          0.0000040519999999999885,
          0.000004052999999999988,
          0.000004053999999999988,
          0.0000040549999999999874,
          0.000004055999999999987,
          0.000004056999999999987,
          0.000004057999999999986,
          0.000004058999999999986,
          0.000004059999999999986,
          0.000004060999999999985,
          0.000004061999999999985,
          0.000004062999999999985,
          0.000004063999999999984,
          0.000004064999999999984,
          0.000004065999999999984,
          0.000004066999999999983,
          0.000004067999999999983,
          0.0000040689999999999826,
          0.000004069999999999982,
          0.000004070999999999982,
          0.0000040719999999999815,
          0.000004072999999999981,
          0.000004073999999999981,
          0.0000040749999999999805,
          0.00000407599999999998,
          0.00000407699999999998,
          0.000004077999999999979,
          0.000004078999999999979,
          0.000004079999999999979,
          0.000004080999999999978,
          0.000004081999999999978,
          0.000004082999999999978,
          0.000004083999999999977,
          0.000004084999999999977,
          0.000004085999999999977,
          0.000004086999999999976,
          0.000004087999999999976,
          0.000004088999999999976,
          0.000004089999999999975,
          0.000004090999999999975,
          0.0000040919999999999745,
          0.000004092999999999974,
          0.000004093999999999974,
          0.0000040949999999999735,
          0.000004095999999999973,
          0.000004096999999999973,
          0.0000040979999999999725,
          0.000004098999999999972,
          0.000004099999999999972,
          0.000004100999999999971,
          0.000004101999999999971,
          0.000004102999999999971,
          0.00000410399999999997,
          0.00000410499999999997,
          0.00000410599999999997,
          0.000004106999999999969,
          0.000004107999999999969,
          0.000004108999999999969,
          0.000004109999999999968,
          0.000004110999999999968,
          0.0000041119999999999676,
          0.000004112999999999967,
          0.000004113999999999967,
          0.0000041149999999999665,
          0.000004115999999999966,
          0.000004116999999999966,
          0.0000041179999999999655,
          0.000004118999999999965,
          0.000004119999999999965,
          0.0000041209999999999644,
          0.000004121999999999964,
          0.000004122999999999964,
          0.000004123999999999963,
          0.000004124999999999963,
          0.000004125999999999963,
          0.000004126999999999962,
          0.000004127999999999962,
          0.000004128999999999962,
          0.000004129999999999961,
          0.000004130999999999961,
          0.000004131999999999961,
          0.00000413299999999996,
          0.00000413399999999996,
          0.0000041349999999999596,
          0.000004135999999999959,
          0.000004136999999999959,
          0.0000041379999999999585,
          0.000004138999999999958,
          0.000004139999999999958,
          0.0000041409999999999575,
          0.000004141999999999957,
          0.000004142999999999957,
          0.0000041439999999999564,
          0.000004144999999999956,
          0.000004145999999999956,
          0.000004146999999999955,
          0.000004147999999999955,
          0.000004148999999999955,
          0.000004149999999999954,
          0.000004150999999999954,
          0.000004151999999999954,
          0.000004152999999999953,
          0.000004153999999999953,
          0.000004154999999999953,
          0.000004155999999999952,
          0.000004156999999999952,
          0.0000041579999999999516,
          0.000004158999999999951,
          0.000004159999999999951,
          0.0000041609999999999505,
          0.00000416199999999995,
          0.00000416299999999995,
          0.0000041639999999999495,
          0.000004164999999999949,
          0.000004165999999999949,
          0.000004166999999999948,
          0.000004167999999999948,
          0.000004168999999999948,
          0.000004169999999999947,
          0.000004170999999999947,
          0.000004171999999999947,
          0.000004172999999999946,
          0.000004173999999999946,
          0.000004174999999999946,
          0.000004175999999999945,
          0.000004176999999999945,
          0.000004177999999999945,
          0.000004178999999999944,
          0.000004179999999999944,
          0.0000041809999999999435,
          0.000004181999999999943,
          0.000004182999999999943,
          0.0000041839999999999425,
          0.000004184999999999942,
          0.000004185999999999942,
          0.0000041869999999999414,
          0.000004187999999999941,
          0.000004188999999999941,
          0.00000418999999999994,
          0.00000419099999999994,
          0.00000419199999999994,
          0.000004192999999999939,
          0.000004193999999999939,
          0.000004194999999999939,
          0.000004195999999999938,
          0.000004196999999999938,
          0.000004197999999999938,
          0.000004198999999999937,
          0.000004199999999999937,
          0.0000042009999999999366,
          0.000004201999999999936,
          0.000004202999999999936,
          0.0000042039999999999355,
          0.000004204999999999935,
          0.000004205999999999935,
          0.0000042069999999999345,
          0.000004207999999999934,
          0.000004208999999999934,
          0.0000042099999999999334,
          0.000004210999999999933,
          0.000004211999999999933,
          0.000004212999999999932,
          0.000004213999999999932,
          0.000004214999999999932,
          0.000004215999999999931,
          0.000004216999999999931,
          0.000004217999999999931,
          0.00000421899999999993,
          0.00000421999999999993,
          0.00000422099999999993,
          0.000004221999999999929,
          0.000004222999999999929,
          0.0000042239999999999286,
          0.000004224999999999928,
          0.000004225999999999928,
          0.0000042269999999999275,
          0.000004227999999999927,
          0.000004228999999999927,
          0.0000042299999999999265,
          0.000004230999999999926,
          0.000004231999999999926,
          0.000004232999999999925,
          0.000004233999999999925,
          0.000004234999999999925,
          0.000004235999999999924,
          0.000004236999999999924,
          0.000004237999999999924,
          0.000004238999999999923,
          0.000004239999999999923,
          0.000004240999999999923,
          0.000004241999999999922,
          0.000004242999999999922,
          0.000004243999999999922,
          0.000004244999999999921,
          0.000004245999999999921,
          0.0000042469999999999205,
          0.00000424799999999992,
          0.00000424899999999992,
          0.0000042499999999999195,
          0.000004250999999999919,
          0.000004251999999999919,
          0.0000042529999999999185,
          0.000004253999999999918,
          0.000004254999999999918,
          0.000004255999999999917,
          0.000004256999999999917,
          0.000004257999999999917,
          0.000004258999999999916,
          0.000004259999999999916,
          0.000004260999999999916,
          0.000004261999999999915,
          0.000004262999999999915,
          0.000004263999999999915,
          0.000004264999999999914,
          0.000004265999999999914,
          0.0000042669999999999136,
          0.000004267999999999913,
          0.000004268999999999913,
          0.0000042699999999999125
         ],
         "xaxis": "x",
         "y": [
          0.06,
          0.06,
          0.06,
          0.06,
          0.06,
          0.06,
          0.06,
          0.06,
          0.06,
          0.06,
          0.06,
          0.06,
          0.06,
          0.06,
          0.06,
          0.06,
          0.06,
          0.06,
          0.06,
          0.06,
          0.06,
          0.06,
          0.06,
          0.06,
          0.06,
          0.06,
          0.06,
          0.06,
          0.06,
          0.06,
          0.06,
          0.06,
          0.06,
          0.06,
          0.06,
          0.06,
          0.06,
          0.06,
          0.06,
          0.06,
          0.06,
          0.06,
          0.06,
          0.06,
          0.06,
          0.06,
          0.06,
          0.06,
          0.06,
          0.06,
          0.06,
          0.06,
          0.06,
          0.06,
          0.06,
          0.06,
          0.06,
          0.06,
          0.06,
          0.06,
          0.06,
          0.06,
          0.06,
          0.06,
          0.06,
          0.06,
          0.06,
          0.06,
          0.06,
          0.06,
          0.06,
          0.06,
          0.06,
          0.06,
          0.06,
          0.06,
          0.06,
          0.06,
          0.06,
          0.06,
          0.06,
          0.06,
          0.06,
          0.06,
          0.06,
          0.06,
          0.06,
          0.06,
          0.06,
          0.06,
          0.06,
          0.06,
          0.06,
          0.06,
          0.06,
          0.06,
          0.06,
          0.06,
          0.06,
          0.06,
          0.06,
          0.06,
          0.06,
          0.06,
          0.06,
          0.06,
          0.06,
          0.06,
          0.06,
          0.06,
          0.06,
          0.06,
          0.06,
          0.06,
          0.06,
          0.06,
          0.06,
          0.06,
          0.06,
          0.06,
          0.06,
          0.06,
          0.06,
          0.06,
          0.06,
          0.06,
          0.06,
          0.06,
          0.06,
          0.06,
          0.06,
          0.06,
          0.06,
          0.06,
          0.06,
          0.06,
          0.06,
          0.06,
          0.06,
          0.06,
          0.06,
          0.06,
          0.06,
          0.06,
          0.06,
          0.06,
          0.06,
          0.06,
          0.06,
          0.06,
          0.06,
          0.06,
          0.06,
          0.06,
          0.06,
          0.06,
          0.06,
          0.06,
          0.06,
          0.06,
          0.06,
          0.06,
          0.06,
          0.06,
          0.06,
          0.06,
          0.06,
          0.06,
          0.06,
          0.06,
          0.06,
          0.06,
          0.06,
          0.06,
          0.06,
          0.06,
          0.06,
          0.06,
          0.06,
          0.06,
          0.06,
          0.06,
          0.06,
          0.06,
          0.06,
          0.06,
          0.06,
          0.06,
          0.06,
          0.06,
          0.06,
          0.06,
          0.06,
          0.06,
          0.06,
          0.06,
          0.06,
          0.06,
          0.06,
          0.06,
          0.06,
          0.06,
          0.06,
          0.06,
          0.06,
          0.06,
          0.06,
          0.06,
          0.06,
          0.06,
          0.06,
          0.06,
          0.06,
          0.06,
          0.06,
          0.06,
          0.06,
          0.06,
          0.06,
          0.06,
          0.06,
          0.06,
          0.06,
          0.06,
          0.06,
          0.06,
          0.06,
          0.06,
          0.06,
          0.06,
          0.06,
          0.06,
          0.06,
          0.06,
          0.06,
          0.06,
          0.06,
          0.06,
          0.06,
          0.06,
          0.06,
          0.06,
          0.06,
          0.06,
          0.06,
          0.06,
          0.06,
          0.06,
          0.06,
          0.06,
          0.06
         ],
         "yaxis": "y"
        },
        {
         "fill": "tozeroy",
         "hoverinfo": "x+y+name",
         "hoverlabel": {
          "namelength": -1
         },
         "legendgroup": "3",
         "line": {
          "color": "#AB63FA"
         },
         "mode": "lines",
         "name": "RampPulse, clock: q0.ro",
         "showlegend": true,
         "type": "scatter",
         "x": [
          0.00000427,
          0.0000042709999999999994,
          0.000004271999999999999,
          0.000004272999999999999,
          0.000004273999999999998,
          0.000004274999999999998,
          0.000004275999999999998,
          0.000004276999999999997,
          0.000004277999999999997,
          0.000004278999999999997,
          0.000004279999999999996,
          0.000004280999999999996,
          0.000004281999999999996,
          0.000004282999999999995,
          0.000004283999999999995,
          0.0000042849999999999945,
          0.000004285999999999994,
          0.000004286999999999994,
          0.0000042879999999999935,
          0.000004288999999999993
         ],
         "xaxis": "x",
         "y": [
          -0.025,
          -0.02375,
          -0.022500000000000003,
          -0.02125,
          -0.02,
          -0.018750000000000003,
          -0.0175,
          -0.01625,
          -0.015000000000000001,
          -0.013750000000000002,
          -0.0125,
          -0.011250000000000001,
          -0.010000000000000002,
          -0.00875,
          -0.0075,
          -0.006250000000000002,
          -0.005000000000000001,
          -0.00375,
          -0.0025000000000000022,
          -0.0012500000000000011
         ],
         "yaxis": "y"
        },
        {
         "fill": "tozeroy",
         "hoverinfo": "x+y+name",
         "hoverlabel": {
          "namelength": -1
         },
         "legendgroup": "4",
         "line": {
          "color": "#FFA15A"
         },
         "mode": "lines",
         "name": "RampPulse, clock: q0.ro",
         "showlegend": true,
         "type": "scatter",
         "x": [
          0.00000429,
          0.000004290999999999999,
          0.000004291999999999999,
          0.0000042929999999999985,
          0.000004293999999999998,
          0.000004294999999999998,
          0.0000042959999999999975,
          0.000004296999999999997,
          0.000004297999999999997,
          0.0000042989999999999964,
          0.000004299999999999996,
          0.000004300999999999996,
          0.000004301999999999995,
          0.000004302999999999995,
          0.000004303999999999995,
          0.000004304999999999994,
          0.000004305999999999994,
          0.000004306999999999994,
          0.000004307999999999993,
          0.000004308999999999993,
          0.000004309999999999993,
          0.000004310999999999992,
          0.000004311999999999992,
          0.0000043129999999999916,
          0.000004313999999999991,
          0.000004314999999999991,
          0.0000043159999999999905,
          0.00000431699999999999,
          0.00000431799999999999,
          0.0000043189999999999895,
          0.000004319999999999989,
          0.000004320999999999989,
          0.0000043219999999999884,
          0.000004322999999999988,
          0.000004323999999999988,
          0.000004324999999999987,
          0.000004325999999999987,
          0.000004326999999999987,
          0.000004327999999999986,
          0.000004328999999999986,
          0.000004329999999999986,
          0.000004330999999999985,
          0.000004331999999999985,
          0.000004332999999999985,
          0.000004333999999999984,
          0.000004334999999999984,
          0.0000043359999999999836,
          0.000004336999999999983,
          0.000004337999999999983,
          0.0000043389999999999825,
          0.000004339999999999982,
          0.000004340999999999982,
          0.0000043419999999999815,
          0.000004342999999999981,
          0.000004343999999999981,
          0.00000434499999999998,
          0.00000434599999999998,
          0.00000434699999999998,
          0.000004347999999999979,
          0.000004348999999999979,
          0.000004349999999999979,
          0.000004350999999999978,
          0.000004351999999999978,
          0.000004352999999999978,
          0.000004353999999999977,
          0.000004354999999999977,
          0.000004355999999999977,
          0.000004356999999999976,
          0.000004357999999999976,
          0.0000043589999999999755,
          0.000004359999999999975,
          0.000004360999999999975,
          0.0000043619999999999745,
          0.000004362999999999974,
          0.000004363999999999974,
          0.0000043649999999999735,
          0.000004365999999999973,
          0.000004366999999999973,
          0.000004367999999999972,
          0.000004368999999999972,
          0.000004369999999999972,
          0.000004370999999999971,
          0.000004371999999999971,
          0.000004372999999999971,
          0.00000437399999999997,
          0.00000437499999999997,
          0.00000437599999999997,
          0.000004376999999999969,
          0.000004377999999999969,
          0.000004378999999999969,
          0.000004379999999999968,
          0.000004380999999999968,
          0.0000043819999999999675,
          0.000004382999999999967,
          0.000004383999999999967,
          0.0000043849999999999665,
          0.000004385999999999966,
          0.000004386999999999966,
          0.0000043879999999999654,
          0.000004388999999999965,
          0.000004389999999999965,
          0.000004390999999999964,
          0.000004391999999999964,
          0.000004392999999999964,
          0.000004393999999999963,
          0.000004394999999999963,
          0.000004395999999999963,
          0.000004396999999999962,
          0.000004397999999999962,
          0.000004398999999999962,
          0.000004399999999999961,
          0.000004400999999999961,
          0.0000044019999999999606,
          0.00000440299999999996,
          0.00000440399999999996,
          0.0000044049999999999595,
          0.000004405999999999959,
          0.000004406999999999959,
          0.0000044079999999999585,
          0.000004408999999999958,
          0.000004409999999999958,
          0.0000044109999999999574,
          0.000004411999999999957,
          0.000004412999999999957,
          0.000004413999999999956,
          0.000004414999999999956,
          0.000004415999999999956,
          0.000004416999999999955,
          0.000004417999999999955,
          0.000004418999999999955,
          0.000004419999999999954,
          0.000004420999999999954,
          0.000004421999999999954,
          0.000004422999999999953,
          0.000004423999999999953,
          0.0000044249999999999526,
          0.000004425999999999952,
          0.000004426999999999952,
          0.0000044279999999999515,
          0.000004428999999999951,
          0.000004429999999999951,
          0.0000044309999999999505,
          0.00000443199999999995,
          0.00000443299999999995,
          0.000004433999999999949,
          0.000004434999999999949,
          0.000004435999999999949,
          0.000004436999999999948,
          0.000004437999999999948,
          0.000004438999999999948,
          0.000004439999999999947,
          0.000004440999999999947,
          0.000004441999999999947,
          0.000004442999999999946,
          0.000004443999999999946,
          0.000004444999999999946,
          0.000004445999999999945,
          0.000004446999999999945,
          0.0000044479999999999445,
          0.000004448999999999944,
          0.000004449999999999944,
          0.0000044509999999999435,
          0.000004451999999999943,
          0.000004452999999999943,
          0.0000044539999999999424,
          0.000004454999999999942,
          0.000004455999999999942,
          0.000004456999999999941,
          0.000004457999999999941,
          0.000004458999999999941,
          0.00000445999999999994,
          0.00000446099999999994,
          0.00000446199999999994,
          0.000004462999999999939,
          0.000004463999999999939,
          0.000004464999999999939,
          0.000004465999999999938,
          0.000004466999999999938,
          0.0000044679999999999376,
          0.000004468999999999937,
          0.000004469999999999937,
          0.0000044709999999999365,
          0.000004471999999999936,
          0.000004472999999999936,
          0.0000044739999999999355,
          0.000004474999999999935,
          0.000004475999999999935,
          0.0000044769999999999344,
          0.000004477999999999934,
          0.000004478999999999934,
          0.000004479999999999933,
          0.000004480999999999933,
          0.000004481999999999933,
          0.000004482999999999932,
          0.000004483999999999932,
          0.000004484999999999932,
          0.000004485999999999931,
          0.000004486999999999931,
          0.000004487999999999931,
          0.00000448899999999993
         ],
         "xaxis": "x",
         "y": [
          0.05,
          0.05,
          0.05,
          0.05,
          0.05,
          0.05,
          0.05,
          0.05,
          0.05,
          0.05,
          0.05,
          0.05,
          0.05,
          0.05,
          0.05,
          0.05,
          0.05,
          0.05,
          0.05,
          0.05,
          0.05,
          0.05,
          0.05,
          0.05,
          0.05,
          0.05,
          0.05,
          0.05,
          0.05,
          0.05,
          0.05,
          0.05,
          0.05,
          0.05,
          0.05,
          0.05,
          0.05,
          0.05,
          0.05,
          0.05,
          0.05,
          0.05,
          0.05,
          0.05,
          0.05,
          0.05,
          0.05,
          0.05,
          0.05,
          0.05,
          0.05,
          0.05,
          0.05,
          0.05,
          0.05,
          0.05,
          0.05,
          0.05,
          0.05,
          0.05,
          0.05,
          0.05,
          0.05,
          0.05,
          0.05,
          0.05,
          0.05,
          0.05,
          0.05,
          0.05,
          0.05,
          0.05,
          0.05,
          0.05,
          0.05,
          0.05,
          0.05,
          0.05,
          0.05,
          0.05,
          0.05,
          0.05,
          0.05,
          0.05,
          0.05,
          0.05,
          0.05,
          0.05,
          0.05,
          0.05,
          0.05,
          0.05,
          0.05,
          0.05,
          0.05,
          0.05,
          0.05,
          0.05,
          0.05,
          0.05,
          0.05,
          0.05,
          0.05,
          0.05,
          0.05,
          0.05,
          0.05,
          0.05,
          0.05,
          0.05,
          0.05,
          0.05,
          0.05,
          0.05,
          0.05,
          0.05,
          0.05,
          0.05,
          0.05,
          0.05,
          0.05,
          0.05,
          0.05,
          0.05,
          0.05,
          0.05,
          0.05,
          0.05,
          0.05,
          0.05,
          0.05,
          0.05,
          0.05,
          0.05,
          0.05,
          0.05,
          0.05,
          0.05,
          0.05,
          0.05,
          0.05,
          0.05,
          0.05,
          0.05,
          0.05,
          0.05,
          0.05,
          0.05,
          0.05,
          0.05,
          0.05,
          0.05,
          0.05,
          0.05,
          0.05,
          0.05,
          0.05,
          0.05,
          0.05,
          0.05,
          0.05,
          0.05,
          0.05,
          0.05,
          0.05,
          0.05,
          0.05,
          0.05,
          0.05,
          0.05,
          0.05,
          0.05,
          0.05,
          0.05,
          0.05,
          0.05,
          0.05,
          0.05,
          0.05,
          0.05,
          0.05,
          0.05,
          0.05,
          0.05,
          0.05,
          0.05,
          0.05,
          0.05,
          0.05,
          0.05,
          0.05,
          0.05,
          0.05,
          0.05,
          0.05,
          0.05,
          0.05,
          0.05,
          0.05,
          0.05
         ],
         "yaxis": "y"
        },
        {
         "fill": "tozeroy",
         "hoverinfo": "x+y+name",
         "hoverlabel": {
          "namelength": -1
         },
         "legendgroup": "5",
         "line": {
          "color": "#19D3F3"
         },
         "mode": "lines",
         "name": "RampPulse, clock: q0.ro",
         "showlegend": true,
         "type": "scatter",
         "x": [
          0.000004489999999999999,
          0.000004490999999999999,
          0.000004491999999999999,
          0.000004492999999999998,
          0.000004493999999999998,
          0.000004494999999999998,
          0.000004495999999999997,
          0.000004496999999999997,
          0.0000044979999999999966,
          0.000004498999999999996,
          0.000004499999999999996,
          0.0000045009999999999955,
          0.000004501999999999995,
          0.000004502999999999995,
          0.0000045039999999999945,
          0.000004504999999999994,
          0.000004505999999999994,
          0.0000045069999999999934,
          0.000004507999999999993,
          0.000004508999999999993,
          0.000004509999999999992,
          0.000004510999999999992,
          0.000004511999999999992,
          0.000004512999999999991,
          0.000004513999999999991,
          0.000004514999999999991,
          0.00000451599999999999,
          0.00000451699999999999,
          0.00000451799999999999,
          0.000004518999999999989,
          0.000004519999999999989,
          0.0000045209999999999886,
          0.000004521999999999988,
          0.000004522999999999988,
          0.0000045239999999999875,
          0.000004524999999999987,
          0.000004525999999999987,
          0.0000045269999999999865,
          0.000004527999999999986,
          0.000004528999999999986,
          0.0000045299999999999854,
          0.000004530999999999985,
          0.000004531999999999985,
          0.000004532999999999984,
          0.000004533999999999984,
          0.000004534999999999984,
          0.000004535999999999983,
          0.000004536999999999983,
          0.000004537999999999983,
          0.000004538999999999982,
          0.000004539999999999982,
          0.000004540999999999982,
          0.000004541999999999981,
          0.000004542999999999981,
          0.0000045439999999999805,
          0.00000454499999999998,
          0.00000454599999999998,
          0.0000045469999999999795,
          0.000004547999999999979,
          0.000004548999999999979,
          0.0000045499999999999785,
          0.000004550999999999978,
          0.000004551999999999978,
          0.000004552999999999977,
          0.000004553999999999977,
          0.000004554999999999977,
          0.000004555999999999976,
          0.000004556999999999976,
          0.000004557999999999976,
          0.000004558999999999975,
          0.000004559999999999975,
          0.000004560999999999975,
          0.000004561999999999974,
          0.000004562999999999974,
          0.000004563999999999974,
          0.000004564999999999973,
          0.000004565999999999973,
          0.0000045669999999999725,
          0.000004567999999999972,
          0.000004568999999999972,
          0.0000045699999999999715,
          0.000004570999999999971,
          0.000004571999999999971,
          0.0000045729999999999704,
          0.00000457399999999997,
          0.00000457499999999997,
          0.000004575999999999969,
          0.000004576999999999969,
          0.000004577999999999969,
          0.000004578999999999968,
          0.000004579999999999968,
          0.000004580999999999968,
          0.000004581999999999967,
          0.000004582999999999967,
          0.000004583999999999967,
          0.000004584999999999966,
          0.000004585999999999966,
          0.0000045869999999999656,
          0.000004587999999999965,
          0.000004588999999999965,
          0.0000045899999999999645,
          0.000004590999999999964,
          0.000004591999999999964,
          0.0000045929999999999635,
          0.000004593999999999963,
          0.000004594999999999963,
          0.0000045959999999999624,
          0.000004596999999999962,
          0.000004597999999999962,
          0.000004598999999999961,
          0.000004599999999999961,
          0.000004600999999999961,
          0.00000460199999999996,
          0.00000460299999999996,
          0.00000460399999999996,
          0.000004604999999999959,
          0.000004605999999999959,
          0.000004606999999999959,
          0.000004607999999999958,
          0.000004608999999999958,
          0.0000046099999999999576,
          0.000004610999999999957,
          0.000004611999999999957,
          0.0000046129999999999565,
          0.000004613999999999956,
          0.000004614999999999956,
          0.0000046159999999999555,
          0.000004616999999999955,
          0.000004617999999999955,
          0.000004618999999999954,
          0.000004619999999999954,
          0.000004620999999999954,
          0.000004621999999999953,
          0.000004622999999999953,
          0.000004623999999999953,
          0.000004624999999999952,
          0.000004625999999999952,
          0.000004626999999999952,
          0.000004627999999999951,
          0.000004628999999999951,
          0.000004629999999999951,
          0.00000463099999999995,
          0.00000463199999999995,
          0.0000046329999999999495,
          0.000004633999999999949,
          0.000004634999999999949,
          0.0000046359999999999485,
          0.000004636999999999948,
          0.000004637999999999948,
          0.0000046389999999999475,
          0.000004639999999999947,
          0.000004640999999999947,
          0.000004641999999999946,
          0.000004642999999999946,
          0.000004643999999999946,
          0.000004644999999999945,
          0.000004645999999999945,
          0.000004646999999999945,
          0.000004647999999999944,
          0.000004648999999999944,
          0.000004649999999999944,
          0.000004650999999999943,
          0.000004651999999999943,
          0.0000046529999999999426,
          0.000004653999999999942,
          0.000004654999999999942,
          0.0000046559999999999415,
          0.000004656999999999941,
          0.000004657999999999941,
          0.0000046589999999999405,
          0.00000465999999999994,
          0.00000466099999999994,
          0.0000046619999999999394,
          0.000004662999999999939,
          0.000004663999999999939,
          0.000004664999999999938,
          0.000004665999999999938,
          0.000004666999999999938,
          0.000004667999999999937,
          0.000004668999999999937,
          0.000004669999999999937,
          0.000004670999999999936,
          0.000004671999999999936,
          0.000004672999999999936,
          0.000004673999999999935,
          0.000004674999999999935,
          0.0000046759999999999346,
          0.000004676999999999934,
          0.000004677999999999934,
          0.0000046789999999999335,
          0.000004679999999999933,
          0.000004680999999999933,
          0.0000046819999999999325,
          0.000004682999999999932,
          0.000004683999999999932,
          0.0000046849999999999314,
          0.000004685999999999931,
          0.000004686999999999931,
          0.00000468799999999993,
          0.00000468899999999993,
          0.00000468999999999993,
          0.000004690999999999929,
          0.000004691999999999929,
          0.000004692999999999929,
          0.000004693999999999928,
          0.000004694999999999928,
          0.000004695999999999928,
          0.000004696999999999927,
          0.000004697999999999927,
          0.0000046989999999999265,
          0.000004699999999999926,
          0.000004700999999999926,
          0.0000047019999999999255,
          0.000004702999999999925,
          0.000004703999999999925,
          0.0000047049999999999245,
          0.000004705999999999924,
          0.000004706999999999924,
          0.000004707999999999923,
          0.000004708999999999923,
          0.000004709999999999923,
          0.000004710999999999922,
          0.000004711999999999922,
          0.000004712999999999922,
          0.000004713999999999921,
          0.000004714999999999921,
          0.000004715999999999921,
          0.00000471699999999992,
          0.00000471799999999992,
          0.00000471899999999992,
          0.000004719999999999919,
          0.000004720999999999919,
          0.0000047219999999999185,
          0.000004722999999999918,
          0.000004723999999999918,
          0.0000047249999999999175,
          0.000004725999999999917,
          0.000004726999999999917,
          0.0000047279999999999164,
          0.000004728999999999916,
          0.000004729999999999916,
          0.000004730999999999915,
          0.000004731999999999915,
          0.000004732999999999915,
          0.000004733999999999914,
          0.000004734999999999914,
          0.000004735999999999914,
          0.000004736999999999913,
          0.000004737999999999913,
          0.000004738999999999913,
          0.000004739999999999912
         ],
         "xaxis": "x",
         "y": [
          0.06,
          0.06,
          0.06,
          0.06,
          0.06,
          0.06,
          0.06,
          0.06,
          0.06,
          0.06,
          0.06,
          0.06,
          0.06,
          0.06,
          0.06,
          0.06,
          0.06,
          0.06,
          0.06,
          0.06,
          0.06,
          0.06,
          0.06,
          0.06,
          0.06,
          0.06,
          0.06,
          0.06,
          0.06,
          0.06,
          0.06,
          0.06,
          0.06,
          0.06,
          0.06,
          0.06,
          0.06,
          0.06,
          0.06,
          0.06,
          0.06,
          0.06,
          0.06,
          0.06,
          0.06,
          0.06,
          0.06,
          0.06,
          0.06,
          0.06,
          0.06,
          0.06,
          0.06,
          0.06,
          0.06,
          0.06,
          0.06,
          0.06,
          0.06,
          0.06,
          0.06,
          0.06,
          0.06,
          0.06,
          0.06,
          0.06,
          0.06,
          0.06,
          0.06,
          0.06,
          0.06,
          0.06,
          0.06,
          0.06,
          0.06,
          0.06,
          0.06,
          0.06,
          0.06,
          0.06,
          0.06,
          0.06,
          0.06,
          0.06,
          0.06,
          0.06,
          0.06,
          0.06,
          0.06,
          0.06,
          0.06,
          0.06,
          0.06,
          0.06,
          0.06,
          0.06,
          0.06,
          0.06,
          0.06,
          0.06,
          0.06,
          0.06,
          0.06,
          0.06,
          0.06,
          0.06,
          0.06,
          0.06,
          0.06,
          0.06,
          0.06,
          0.06,
          0.06,
          0.06,
          0.06,
          0.06,
          0.06,
          0.06,
          0.06,
          0.06,
          0.06,
          0.06,
          0.06,
          0.06,
          0.06,
          0.06,
          0.06,
          0.06,
          0.06,
          0.06,
          0.06,
          0.06,
          0.06,
          0.06,
          0.06,
          0.06,
          0.06,
          0.06,
          0.06,
          0.06,
          0.06,
          0.06,
          0.06,
          0.06,
          0.06,
          0.06,
          0.06,
          0.06,
          0.06,
          0.06,
          0.06,
          0.06,
          0.06,
          0.06,
          0.06,
          0.06,
          0.06,
          0.06,
          0.06,
          0.06,
          0.06,
          0.06,
          0.06,
          0.06,
          0.06,
          0.06,
          0.06,
          0.06,
          0.06,
          0.06,
          0.06,
          0.06,
          0.06,
          0.06,
          0.06,
          0.06,
          0.06,
          0.06,
          0.06,
          0.06,
          0.06,
          0.06,
          0.06,
          0.06,
          0.06,
          0.06,
          0.06,
          0.06,
          0.06,
          0.06,
          0.06,
          0.06,
          0.06,
          0.06,
          0.06,
          0.06,
          0.06,
          0.06,
          0.06,
          0.06,
          0.06,
          0.06,
          0.06,
          0.06,
          0.06,
          0.06,
          0.06,
          0.06,
          0.06,
          0.06,
          0.06,
          0.06,
          0.06,
          0.06,
          0.06,
          0.06,
          0.06,
          0.06,
          0.06,
          0.06,
          0.06,
          0.06,
          0.06,
          0.06,
          0.06,
          0.06,
          0.06,
          0.06,
          0.06,
          0.06,
          0.06,
          0.06,
          0.06,
          0.06,
          0.06,
          0.06,
          0.06,
          0.06,
          0.06,
          0.06,
          0.06,
          0.06,
          0.06,
          0.06,
          0.06,
          0.06,
          0.06,
          0.06,
          0.06,
          0.06,
          0.06
         ],
         "yaxis": "y"
        }
       ],
       "layout": {
        "height": 300,
        "showlegend": false,
        "template": {
         "data": {
          "bar": [
           {
            "error_x": {
             "color": "#2a3f5f"
            },
            "error_y": {
             "color": "#2a3f5f"
            },
            "marker": {
             "line": {
              "color": "#E5ECF6",
              "width": 0.5
             },
             "pattern": {
              "fillmode": "overlay",
              "size": 10,
              "solidity": 0.2
             }
            },
            "type": "bar"
           }
          ],
          "barpolar": [
           {
            "marker": {
             "line": {
              "color": "#E5ECF6",
              "width": 0.5
             },
             "pattern": {
              "fillmode": "overlay",
              "size": 10,
              "solidity": 0.2
             }
            },
            "type": "barpolar"
           }
          ],
          "carpet": [
           {
            "aaxis": {
             "endlinecolor": "#2a3f5f",
             "gridcolor": "white",
             "linecolor": "white",
             "minorgridcolor": "white",
             "startlinecolor": "#2a3f5f"
            },
            "baxis": {
             "endlinecolor": "#2a3f5f",
             "gridcolor": "white",
             "linecolor": "white",
             "minorgridcolor": "white",
             "startlinecolor": "#2a3f5f"
            },
            "type": "carpet"
           }
          ],
          "choropleth": [
           {
            "colorbar": {
             "outlinewidth": 0,
             "ticks": ""
            },
            "type": "choropleth"
           }
          ],
          "contour": [
           {
            "colorbar": {
             "outlinewidth": 0,
             "ticks": ""
            },
            "colorscale": [
             [
              0,
              "#0d0887"
             ],
             [
              0.1111111111111111,
              "#46039f"
             ],
             [
              0.2222222222222222,
              "#7201a8"
             ],
             [
              0.3333333333333333,
              "#9c179e"
             ],
             [
              0.4444444444444444,
              "#bd3786"
             ],
             [
              0.5555555555555556,
              "#d8576b"
             ],
             [
              0.6666666666666666,
              "#ed7953"
             ],
             [
              0.7777777777777778,
              "#fb9f3a"
             ],
             [
              0.8888888888888888,
              "#fdca26"
             ],
             [
              1,
              "#f0f921"
             ]
            ],
            "type": "contour"
           }
          ],
          "contourcarpet": [
           {
            "colorbar": {
             "outlinewidth": 0,
             "ticks": ""
            },
            "type": "contourcarpet"
           }
          ],
          "heatmap": [
           {
            "colorbar": {
             "outlinewidth": 0,
             "ticks": ""
            },
            "colorscale": [
             [
              0,
              "#0d0887"
             ],
             [
              0.1111111111111111,
              "#46039f"
             ],
             [
              0.2222222222222222,
              "#7201a8"
             ],
             [
              0.3333333333333333,
              "#9c179e"
             ],
             [
              0.4444444444444444,
              "#bd3786"
             ],
             [
              0.5555555555555556,
              "#d8576b"
             ],
             [
              0.6666666666666666,
              "#ed7953"
             ],
             [
              0.7777777777777778,
              "#fb9f3a"
             ],
             [
              0.8888888888888888,
              "#fdca26"
             ],
             [
              1,
              "#f0f921"
             ]
            ],
            "type": "heatmap"
           }
          ],
          "heatmapgl": [
           {
            "colorbar": {
             "outlinewidth": 0,
             "ticks": ""
            },
            "colorscale": [
             [
              0,
              "#0d0887"
             ],
             [
              0.1111111111111111,
              "#46039f"
             ],
             [
              0.2222222222222222,
              "#7201a8"
             ],
             [
              0.3333333333333333,
              "#9c179e"
             ],
             [
              0.4444444444444444,
              "#bd3786"
             ],
             [
              0.5555555555555556,
              "#d8576b"
             ],
             [
              0.6666666666666666,
              "#ed7953"
             ],
             [
              0.7777777777777778,
              "#fb9f3a"
             ],
             [
              0.8888888888888888,
              "#fdca26"
             ],
             [
              1,
              "#f0f921"
             ]
            ],
            "type": "heatmapgl"
           }
          ],
          "histogram": [
           {
            "marker": {
             "pattern": {
              "fillmode": "overlay",
              "size": 10,
              "solidity": 0.2
             }
            },
            "type": "histogram"
           }
          ],
          "histogram2d": [
           {
            "colorbar": {
             "outlinewidth": 0,
             "ticks": ""
            },
            "colorscale": [
             [
              0,
              "#0d0887"
             ],
             [
              0.1111111111111111,
              "#46039f"
             ],
             [
              0.2222222222222222,
              "#7201a8"
             ],
             [
              0.3333333333333333,
              "#9c179e"
             ],
             [
              0.4444444444444444,
              "#bd3786"
             ],
             [
              0.5555555555555556,
              "#d8576b"
             ],
             [
              0.6666666666666666,
              "#ed7953"
             ],
             [
              0.7777777777777778,
              "#fb9f3a"
             ],
             [
              0.8888888888888888,
              "#fdca26"
             ],
             [
              1,
              "#f0f921"
             ]
            ],
            "type": "histogram2d"
           }
          ],
          "histogram2dcontour": [
           {
            "colorbar": {
             "outlinewidth": 0,
             "ticks": ""
            },
            "colorscale": [
             [
              0,
              "#0d0887"
             ],
             [
              0.1111111111111111,
              "#46039f"
             ],
             [
              0.2222222222222222,
              "#7201a8"
             ],
             [
              0.3333333333333333,
              "#9c179e"
             ],
             [
              0.4444444444444444,
              "#bd3786"
             ],
             [
              0.5555555555555556,
              "#d8576b"
             ],
             [
              0.6666666666666666,
              "#ed7953"
             ],
             [
              0.7777777777777778,
              "#fb9f3a"
             ],
             [
              0.8888888888888888,
              "#fdca26"
             ],
             [
              1,
              "#f0f921"
             ]
            ],
            "type": "histogram2dcontour"
           }
          ],
          "mesh3d": [
           {
            "colorbar": {
             "outlinewidth": 0,
             "ticks": ""
            },
            "type": "mesh3d"
           }
          ],
          "parcoords": [
           {
            "line": {
             "colorbar": {
              "outlinewidth": 0,
              "ticks": ""
             }
            },
            "type": "parcoords"
           }
          ],
          "pie": [
           {
            "automargin": true,
            "type": "pie"
           }
          ],
          "scatter": [
           {
            "fillpattern": {
             "fillmode": "overlay",
             "size": 10,
             "solidity": 0.2
            },
            "type": "scatter"
           }
          ],
          "scatter3d": [
           {
            "line": {
             "colorbar": {
              "outlinewidth": 0,
              "ticks": ""
             }
            },
            "marker": {
             "colorbar": {
              "outlinewidth": 0,
              "ticks": ""
             }
            },
            "type": "scatter3d"
           }
          ],
          "scattercarpet": [
           {
            "marker": {
             "colorbar": {
              "outlinewidth": 0,
              "ticks": ""
             }
            },
            "type": "scattercarpet"
           }
          ],
          "scattergeo": [
           {
            "marker": {
             "colorbar": {
              "outlinewidth": 0,
              "ticks": ""
             }
            },
            "type": "scattergeo"
           }
          ],
          "scattergl": [
           {
            "marker": {
             "colorbar": {
              "outlinewidth": 0,
              "ticks": ""
             }
            },
            "type": "scattergl"
           }
          ],
          "scattermapbox": [
           {
            "marker": {
             "colorbar": {
              "outlinewidth": 0,
              "ticks": ""
             }
            },
            "type": "scattermapbox"
           }
          ],
          "scatterpolar": [
           {
            "marker": {
             "colorbar": {
              "outlinewidth": 0,
              "ticks": ""
             }
            },
            "type": "scatterpolar"
           }
          ],
          "scatterpolargl": [
           {
            "marker": {
             "colorbar": {
              "outlinewidth": 0,
              "ticks": ""
             }
            },
            "type": "scatterpolargl"
           }
          ],
          "scatterternary": [
           {
            "marker": {
             "colorbar": {
              "outlinewidth": 0,
              "ticks": ""
             }
            },
            "type": "scatterternary"
           }
          ],
          "surface": [
           {
            "colorbar": {
             "outlinewidth": 0,
             "ticks": ""
            },
            "colorscale": [
             [
              0,
              "#0d0887"
             ],
             [
              0.1111111111111111,
              "#46039f"
             ],
             [
              0.2222222222222222,
              "#7201a8"
             ],
             [
              0.3333333333333333,
              "#9c179e"
             ],
             [
              0.4444444444444444,
              "#bd3786"
             ],
             [
              0.5555555555555556,
              "#d8576b"
             ],
             [
              0.6666666666666666,
              "#ed7953"
             ],
             [
              0.7777777777777778,
              "#fb9f3a"
             ],
             [
              0.8888888888888888,
              "#fdca26"
             ],
             [
              1,
              "#f0f921"
             ]
            ],
            "type": "surface"
           }
          ],
          "table": [
           {
            "cells": {
             "fill": {
              "color": "#EBF0F8"
             },
             "line": {
              "color": "white"
             }
            },
            "header": {
             "fill": {
              "color": "#C8D4E3"
             },
             "line": {
              "color": "white"
             }
            },
            "type": "table"
           }
          ]
         },
         "layout": {
          "annotationdefaults": {
           "arrowcolor": "#2a3f5f",
           "arrowhead": 0,
           "arrowwidth": 1
          },
          "autotypenumbers": "strict",
          "coloraxis": {
           "colorbar": {
            "outlinewidth": 0,
            "ticks": ""
           }
          },
          "colorscale": {
           "diverging": [
            [
             0,
             "#8e0152"
            ],
            [
             0.1,
             "#c51b7d"
            ],
            [
             0.2,
             "#de77ae"
            ],
            [
             0.3,
             "#f1b6da"
            ],
            [
             0.4,
             "#fde0ef"
            ],
            [
             0.5,
             "#f7f7f7"
            ],
            [
             0.6,
             "#e6f5d0"
            ],
            [
             0.7,
             "#b8e186"
            ],
            [
             0.8,
             "#7fbc41"
            ],
            [
             0.9,
             "#4d9221"
            ],
            [
             1,
             "#276419"
            ]
           ],
           "sequential": [
            [
             0,
             "#0d0887"
            ],
            [
             0.1111111111111111,
             "#46039f"
            ],
            [
             0.2222222222222222,
             "#7201a8"
            ],
            [
             0.3333333333333333,
             "#9c179e"
            ],
            [
             0.4444444444444444,
             "#bd3786"
            ],
            [
             0.5555555555555556,
             "#d8576b"
            ],
            [
             0.6666666666666666,
             "#ed7953"
            ],
            [
             0.7777777777777778,
             "#fb9f3a"
            ],
            [
             0.8888888888888888,
             "#fdca26"
            ],
            [
             1,
             "#f0f921"
            ]
           ],
           "sequentialminus": [
            [
             0,
             "#0d0887"
            ],
            [
             0.1111111111111111,
             "#46039f"
            ],
            [
             0.2222222222222222,
             "#7201a8"
            ],
            [
             0.3333333333333333,
             "#9c179e"
            ],
            [
             0.4444444444444444,
             "#bd3786"
            ],
            [
             0.5555555555555556,
             "#d8576b"
            ],
            [
             0.6666666666666666,
             "#ed7953"
            ],
            [
             0.7777777777777778,
             "#fb9f3a"
            ],
            [
             0.8888888888888888,
             "#fdca26"
            ],
            [
             1,
             "#f0f921"
            ]
           ]
          },
          "colorway": [
           "#636efa",
           "#EF553B",
           "#00cc96",
           "#ab63fa",
           "#FFA15A",
           "#19d3f3",
           "#FF6692",
           "#B6E880",
           "#FF97FF",
           "#FECB52"
          ],
          "font": {
           "color": "#2a3f5f"
          },
          "geo": {
           "bgcolor": "white",
           "lakecolor": "white",
           "landcolor": "#E5ECF6",
           "showlakes": true,
           "showland": true,
           "subunitcolor": "white"
          },
          "hoverlabel": {
           "align": "left"
          },
          "hovermode": "closest",
          "mapbox": {
           "style": "light"
          },
          "paper_bgcolor": "white",
          "plot_bgcolor": "#E5ECF6",
          "polar": {
           "angularaxis": {
            "gridcolor": "white",
            "linecolor": "white",
            "ticks": ""
           },
           "bgcolor": "#E5ECF6",
           "radialaxis": {
            "gridcolor": "white",
            "linecolor": "white",
            "ticks": ""
           }
          },
          "scene": {
           "xaxis": {
            "backgroundcolor": "#E5ECF6",
            "gridcolor": "white",
            "gridwidth": 2,
            "linecolor": "white",
            "showbackground": true,
            "ticks": "",
            "zerolinecolor": "white"
           },
           "yaxis": {
            "backgroundcolor": "#E5ECF6",
            "gridcolor": "white",
            "gridwidth": 2,
            "linecolor": "white",
            "showbackground": true,
            "ticks": "",
            "zerolinecolor": "white"
           },
           "zaxis": {
            "backgroundcolor": "#E5ECF6",
            "gridcolor": "white",
            "gridwidth": 2,
            "linecolor": "white",
            "showbackground": true,
            "ticks": "",
            "zerolinecolor": "white"
           }
          },
          "shapedefaults": {
           "line": {
            "color": "#2a3f5f"
           }
          },
          "ternary": {
           "aaxis": {
            "gridcolor": "white",
            "linecolor": "white",
            "ticks": ""
           },
           "baxis": {
            "gridcolor": "white",
            "linecolor": "white",
            "ticks": ""
           },
           "bgcolor": "#E5ECF6",
           "caxis": {
            "gridcolor": "white",
            "linecolor": "white",
            "ticks": ""
           }
          },
          "title": {
           "x": 0.05
          },
          "xaxis": {
           "automargin": true,
           "gridcolor": "white",
           "linecolor": "white",
           "ticks": "",
           "title": {
            "standoff": 15
           },
           "zerolinecolor": "white",
           "zerolinewidth": 2
          },
          "yaxis": {
           "automargin": true,
           "gridcolor": "white",
           "linecolor": "white",
           "ticks": "",
           "title": {
            "standoff": 15
           },
           "zerolinecolor": "white",
           "zerolinewidth": 2
          }
         }
        },
        "title": {
         "text": "Qubit Reset - Step 5 - full"
        },
        "width": 1000,
        "xaxis": {
         "anchor": "y",
         "domain": [
          0,
          1
         ],
         "hoverformat": ".3s",
         "showgrid": true,
         "tickformat": ".2s",
         "tickformatstops": [
          {
           "dtickrange": [
            null,
            1e-9
           ],
           "value": ".10s"
          },
          {
           "dtickrange": [
            1e-9,
            0.000001
           ],
           "value": ".7s"
          },
          {
           "dtickrange": [
            0.000001,
            0.001
           ],
           "value": ".4s"
          }
         ],
         "ticksuffix": "s",
         "title": {
          "text": "Time"
         }
        },
        "yaxis": {
         "anchor": "x",
         "autorange": true,
         "domain": [
          0,
          1
         ],
         "hoverformat": ".3s",
         "tickformat": ".2s",
         "ticksuffix": "V",
         "title": {
          "text": "flux"
         }
        }
       }
      },
      "text/html": [
       "<div>                            <div id=\"0a7f0194-52ab-4e0d-9b1e-473bfad7c5ec\" class=\"plotly-graph-div\" style=\"height:300px; width:1000px;\"></div>            <script type=\"text/javascript\">                require([\"plotly\"], function(Plotly) {                    window.PLOTLYENV=window.PLOTLYENV || {};                                    if (document.getElementById(\"0a7f0194-52ab-4e0d-9b1e-473bfad7c5ec\")) {                    Plotly.newPlot(                        \"0a7f0194-52ab-4e0d-9b1e-473bfad7c5ec\",                        [{\"fill\":\"tozeroy\",\"hoverinfo\":\"x+y+name\",\"hoverlabel\":{\"namelength\":-1},\"legendgroup\":\"1\",\"line\":{\"color\":\"#EF553B\"},\"mode\":\"lines\",\"name\":\"RampPulse, clock: q0.ro\",\"showlegend\":true,\"x\":[4e-6,4.0009999999999995e-6,4.001999999999999e-6,4.002999999999999e-6,4.0039999999999984e-6,4.004999999999998e-6,4.005999999999998e-6,4.006999999999997e-6,4.007999999999997e-6,4.008999999999997e-6,4.009999999999996e-6,4.010999999999996e-6,4.011999999999996e-6,4.012999999999995e-6,4.013999999999995e-6,4.014999999999995e-6,4.015999999999994e-6,4.016999999999994e-6,4.0179999999999935e-6,4.018999999999993e-6],\"y\":[-0.025,-0.025,-0.025,-0.025,-0.025,-0.025,-0.025,-0.025,-0.025,-0.025,-0.025,-0.025,-0.025,-0.025,-0.025,-0.025,-0.025,-0.025,-0.025,-0.025],\"type\":\"scatter\",\"xaxis\":\"x\",\"yaxis\":\"y\"},{\"fill\":\"tozeroy\",\"hoverinfo\":\"x+y+name\",\"hoverlabel\":{\"namelength\":-1},\"legendgroup\":\"2\",\"line\":{\"color\":\"#00CC96\"},\"mode\":\"lines\",\"name\":\"RampPulse, clock: q0.ro\",\"showlegend\":true,\"x\":[4.02e-6,4.020999999999999e-6,4.021999999999999e-6,4.022999999999999e-6,4.023999999999998e-6,4.024999999999998e-6,4.0259999999999975e-6,4.026999999999997e-6,4.027999999999997e-6,4.0289999999999965e-6,4.029999999999996e-6,4.030999999999996e-6,4.0319999999999954e-6,4.032999999999995e-6,4.033999999999995e-6,4.034999999999994e-6,4.035999999999994e-6,4.036999999999994e-6,4.037999999999993e-6,4.038999999999993e-6,4.039999999999993e-6,4.040999999999992e-6,4.041999999999992e-6,4.042999999999992e-6,4.043999999999991e-6,4.044999999999991e-6,4.0459999999999906e-6,4.04699999999999e-6,4.04799999999999e-6,4.0489999999999895e-6,4.049999999999989e-6,4.050999999999989e-6,4.0519999999999885e-6,4.052999999999988e-6,4.053999999999988e-6,4.0549999999999874e-6,4.055999999999987e-6,4.056999999999987e-6,4.057999999999986e-6,4.058999999999986e-6,4.059999999999986e-6,4.060999999999985e-6,4.061999999999985e-6,4.062999999999985e-6,4.063999999999984e-6,4.064999999999984e-6,4.065999999999984e-6,4.066999999999983e-6,4.067999999999983e-6,4.0689999999999826e-6,4.069999999999982e-6,4.070999999999982e-6,4.0719999999999815e-6,4.072999999999981e-6,4.073999999999981e-6,4.0749999999999805e-6,4.07599999999998e-6,4.07699999999998e-6,4.077999999999979e-6,4.078999999999979e-6,4.079999999999979e-6,4.080999999999978e-6,4.081999999999978e-6,4.082999999999978e-6,4.083999999999977e-6,4.084999999999977e-6,4.085999999999977e-6,4.086999999999976e-6,4.087999999999976e-6,4.088999999999976e-6,4.089999999999975e-6,4.090999999999975e-6,4.0919999999999745e-6,4.092999999999974e-6,4.093999999999974e-6,4.0949999999999735e-6,4.095999999999973e-6,4.096999999999973e-6,4.0979999999999725e-6,4.098999999999972e-6,4.099999999999972e-6,4.100999999999971e-6,4.101999999999971e-6,4.102999999999971e-6,4.10399999999997e-6,4.10499999999997e-6,4.10599999999997e-6,4.106999999999969e-6,4.107999999999969e-6,4.108999999999969e-6,4.109999999999968e-6,4.110999999999968e-6,4.1119999999999676e-6,4.112999999999967e-6,4.113999999999967e-6,4.1149999999999665e-6,4.115999999999966e-6,4.116999999999966e-6,4.1179999999999655e-6,4.118999999999965e-6,4.119999999999965e-6,4.1209999999999644e-6,4.121999999999964e-6,4.122999999999964e-6,4.123999999999963e-6,4.124999999999963e-6,4.125999999999963e-6,4.126999999999962e-6,4.127999999999962e-6,4.128999999999962e-6,4.129999999999961e-6,4.130999999999961e-6,4.131999999999961e-6,4.13299999999996e-6,4.13399999999996e-6,4.1349999999999596e-6,4.135999999999959e-6,4.136999999999959e-6,4.1379999999999585e-6,4.138999999999958e-6,4.139999999999958e-6,4.1409999999999575e-6,4.141999999999957e-6,4.142999999999957e-6,4.1439999999999564e-6,4.144999999999956e-6,4.145999999999956e-6,4.146999999999955e-6,4.147999999999955e-6,4.148999999999955e-6,4.149999999999954e-6,4.150999999999954e-6,4.151999999999954e-6,4.152999999999953e-6,4.153999999999953e-6,4.154999999999953e-6,4.155999999999952e-6,4.156999999999952e-6,4.1579999999999516e-6,4.158999999999951e-6,4.159999999999951e-6,4.1609999999999505e-6,4.16199999999995e-6,4.16299999999995e-6,4.1639999999999495e-6,4.164999999999949e-6,4.165999999999949e-6,4.166999999999948e-6,4.167999999999948e-6,4.168999999999948e-6,4.169999999999947e-6,4.170999999999947e-6,4.171999999999947e-6,4.172999999999946e-6,4.173999999999946e-6,4.174999999999946e-6,4.175999999999945e-6,4.176999999999945e-6,4.177999999999945e-6,4.178999999999944e-6,4.179999999999944e-6,4.1809999999999435e-6,4.181999999999943e-6,4.182999999999943e-6,4.1839999999999425e-6,4.184999999999942e-6,4.185999999999942e-6,4.1869999999999414e-6,4.187999999999941e-6,4.188999999999941e-6,4.18999999999994e-6,4.19099999999994e-6,4.19199999999994e-6,4.192999999999939e-6,4.193999999999939e-6,4.194999999999939e-6,4.195999999999938e-6,4.196999999999938e-6,4.197999999999938e-6,4.198999999999937e-6,4.199999999999937e-6,4.2009999999999366e-6,4.201999999999936e-6,4.202999999999936e-6,4.2039999999999355e-6,4.204999999999935e-6,4.205999999999935e-6,4.2069999999999345e-6,4.207999999999934e-6,4.208999999999934e-6,4.2099999999999334e-6,4.210999999999933e-6,4.211999999999933e-6,4.212999999999932e-6,4.213999999999932e-6,4.214999999999932e-6,4.215999999999931e-6,4.216999999999931e-6,4.217999999999931e-6,4.21899999999993e-6,4.21999999999993e-6,4.22099999999993e-6,4.221999999999929e-6,4.222999999999929e-6,4.2239999999999286e-6,4.224999999999928e-6,4.225999999999928e-6,4.2269999999999275e-6,4.227999999999927e-6,4.228999999999927e-6,4.2299999999999265e-6,4.230999999999926e-6,4.231999999999926e-6,4.232999999999925e-6,4.233999999999925e-6,4.234999999999925e-6,4.235999999999924e-6,4.236999999999924e-6,4.237999999999924e-6,4.238999999999923e-6,4.239999999999923e-6,4.240999999999923e-6,4.241999999999922e-6,4.242999999999922e-6,4.243999999999922e-6,4.244999999999921e-6,4.245999999999921e-6,4.2469999999999205e-6,4.24799999999992e-6,4.24899999999992e-6,4.2499999999999195e-6,4.250999999999919e-6,4.251999999999919e-6,4.2529999999999185e-6,4.253999999999918e-6,4.254999999999918e-6,4.255999999999917e-6,4.256999999999917e-6,4.257999999999917e-6,4.258999999999916e-6,4.259999999999916e-6,4.260999999999916e-6,4.261999999999915e-6,4.262999999999915e-6,4.263999999999915e-6,4.264999999999914e-6,4.265999999999914e-6,4.2669999999999136e-6,4.267999999999913e-6,4.268999999999913e-6,4.2699999999999125e-6],\"y\":[0.06,0.06,0.06,0.06,0.06,0.06,0.06,0.06,0.06,0.06,0.06,0.06,0.06,0.06,0.06,0.06,0.06,0.06,0.06,0.06,0.06,0.06,0.06,0.06,0.06,0.06,0.06,0.06,0.06,0.06,0.06,0.06,0.06,0.06,0.06,0.06,0.06,0.06,0.06,0.06,0.06,0.06,0.06,0.06,0.06,0.06,0.06,0.06,0.06,0.06,0.06,0.06,0.06,0.06,0.06,0.06,0.06,0.06,0.06,0.06,0.06,0.06,0.06,0.06,0.06,0.06,0.06,0.06,0.06,0.06,0.06,0.06,0.06,0.06,0.06,0.06,0.06,0.06,0.06,0.06,0.06,0.06,0.06,0.06,0.06,0.06,0.06,0.06,0.06,0.06,0.06,0.06,0.06,0.06,0.06,0.06,0.06,0.06,0.06,0.06,0.06,0.06,0.06,0.06,0.06,0.06,0.06,0.06,0.06,0.06,0.06,0.06,0.06,0.06,0.06,0.06,0.06,0.06,0.06,0.06,0.06,0.06,0.06,0.06,0.06,0.06,0.06,0.06,0.06,0.06,0.06,0.06,0.06,0.06,0.06,0.06,0.06,0.06,0.06,0.06,0.06,0.06,0.06,0.06,0.06,0.06,0.06,0.06,0.06,0.06,0.06,0.06,0.06,0.06,0.06,0.06,0.06,0.06,0.06,0.06,0.06,0.06,0.06,0.06,0.06,0.06,0.06,0.06,0.06,0.06,0.06,0.06,0.06,0.06,0.06,0.06,0.06,0.06,0.06,0.06,0.06,0.06,0.06,0.06,0.06,0.06,0.06,0.06,0.06,0.06,0.06,0.06,0.06,0.06,0.06,0.06,0.06,0.06,0.06,0.06,0.06,0.06,0.06,0.06,0.06,0.06,0.06,0.06,0.06,0.06,0.06,0.06,0.06,0.06,0.06,0.06,0.06,0.06,0.06,0.06,0.06,0.06,0.06,0.06,0.06,0.06,0.06,0.06,0.06,0.06,0.06,0.06,0.06,0.06,0.06,0.06,0.06,0.06,0.06,0.06,0.06,0.06,0.06,0.06,0.06,0.06,0.06,0.06,0.06,0.06,0.06],\"type\":\"scatter\",\"xaxis\":\"x\",\"yaxis\":\"y\"},{\"fill\":\"tozeroy\",\"hoverinfo\":\"x+y+name\",\"hoverlabel\":{\"namelength\":-1},\"legendgroup\":\"3\",\"line\":{\"color\":\"#AB63FA\"},\"mode\":\"lines\",\"name\":\"RampPulse, clock: q0.ro\",\"showlegend\":true,\"x\":[4.27e-6,4.2709999999999994e-6,4.271999999999999e-6,4.272999999999999e-6,4.273999999999998e-6,4.274999999999998e-6,4.275999999999998e-6,4.276999999999997e-6,4.277999999999997e-6,4.278999999999997e-6,4.279999999999996e-6,4.280999999999996e-6,4.281999999999996e-6,4.282999999999995e-6,4.283999999999995e-6,4.2849999999999945e-6,4.285999999999994e-6,4.286999999999994e-6,4.2879999999999935e-6,4.288999999999993e-6],\"y\":[-0.025,-0.02375,-0.022500000000000003,-0.02125,-0.02,-0.018750000000000003,-0.0175,-0.01625,-0.015000000000000001,-0.013750000000000002,-0.0125,-0.011250000000000001,-0.010000000000000002,-0.00875,-0.0075,-0.006250000000000002,-0.005000000000000001,-0.00375,-0.0025000000000000022,-0.0012500000000000011],\"type\":\"scatter\",\"xaxis\":\"x\",\"yaxis\":\"y\"},{\"fill\":\"tozeroy\",\"hoverinfo\":\"x+y+name\",\"hoverlabel\":{\"namelength\":-1},\"legendgroup\":\"4\",\"line\":{\"color\":\"#FFA15A\"},\"mode\":\"lines\",\"name\":\"RampPulse, clock: q0.ro\",\"showlegend\":true,\"x\":[4.29e-6,4.290999999999999e-6,4.291999999999999e-6,4.2929999999999985e-6,4.293999999999998e-6,4.294999999999998e-6,4.2959999999999975e-6,4.296999999999997e-6,4.297999999999997e-6,4.2989999999999964e-6,4.299999999999996e-6,4.300999999999996e-6,4.301999999999995e-6,4.302999999999995e-6,4.303999999999995e-6,4.304999999999994e-6,4.305999999999994e-6,4.306999999999994e-6,4.307999999999993e-6,4.308999999999993e-6,4.309999999999993e-6,4.310999999999992e-6,4.311999999999992e-6,4.3129999999999916e-6,4.313999999999991e-6,4.314999999999991e-6,4.3159999999999905e-6,4.31699999999999e-6,4.31799999999999e-6,4.3189999999999895e-6,4.319999999999989e-6,4.320999999999989e-6,4.3219999999999884e-6,4.322999999999988e-6,4.323999999999988e-6,4.324999999999987e-6,4.325999999999987e-6,4.326999999999987e-6,4.327999999999986e-6,4.328999999999986e-6,4.329999999999986e-6,4.330999999999985e-6,4.331999999999985e-6,4.332999999999985e-6,4.333999999999984e-6,4.334999999999984e-6,4.3359999999999836e-6,4.336999999999983e-6,4.337999999999983e-6,4.3389999999999825e-6,4.339999999999982e-6,4.340999999999982e-6,4.3419999999999815e-6,4.342999999999981e-6,4.343999999999981e-6,4.34499999999998e-6,4.34599999999998e-6,4.34699999999998e-6,4.347999999999979e-6,4.348999999999979e-6,4.349999999999979e-6,4.350999999999978e-6,4.351999999999978e-6,4.352999999999978e-6,4.353999999999977e-6,4.354999999999977e-6,4.355999999999977e-6,4.356999999999976e-6,4.357999999999976e-6,4.3589999999999755e-6,4.359999999999975e-6,4.360999999999975e-6,4.3619999999999745e-6,4.362999999999974e-6,4.363999999999974e-6,4.3649999999999735e-6,4.365999999999973e-6,4.366999999999973e-6,4.367999999999972e-6,4.368999999999972e-6,4.369999999999972e-6,4.370999999999971e-6,4.371999999999971e-6,4.372999999999971e-6,4.37399999999997e-6,4.37499999999997e-6,4.37599999999997e-6,4.376999999999969e-6,4.377999999999969e-6,4.378999999999969e-6,4.379999999999968e-6,4.380999999999968e-6,4.3819999999999675e-6,4.382999999999967e-6,4.383999999999967e-6,4.3849999999999665e-6,4.385999999999966e-6,4.386999999999966e-6,4.3879999999999654e-6,4.388999999999965e-6,4.389999999999965e-6,4.390999999999964e-6,4.391999999999964e-6,4.392999999999964e-6,4.393999999999963e-6,4.394999999999963e-6,4.395999999999963e-6,4.396999999999962e-6,4.397999999999962e-6,4.398999999999962e-6,4.399999999999961e-6,4.400999999999961e-6,4.4019999999999606e-6,4.40299999999996e-6,4.40399999999996e-6,4.4049999999999595e-6,4.405999999999959e-6,4.406999999999959e-6,4.4079999999999585e-6,4.408999999999958e-6,4.409999999999958e-6,4.4109999999999574e-6,4.411999999999957e-6,4.412999999999957e-6,4.413999999999956e-6,4.414999999999956e-6,4.415999999999956e-6,4.416999999999955e-6,4.417999999999955e-6,4.418999999999955e-6,4.419999999999954e-6,4.420999999999954e-6,4.421999999999954e-6,4.422999999999953e-6,4.423999999999953e-6,4.4249999999999526e-6,4.425999999999952e-6,4.426999999999952e-6,4.4279999999999515e-6,4.428999999999951e-6,4.429999999999951e-6,4.4309999999999505e-6,4.43199999999995e-6,4.43299999999995e-6,4.433999999999949e-6,4.434999999999949e-6,4.435999999999949e-6,4.436999999999948e-6,4.437999999999948e-6,4.438999999999948e-6,4.439999999999947e-6,4.440999999999947e-6,4.441999999999947e-6,4.442999999999946e-6,4.443999999999946e-6,4.444999999999946e-6,4.445999999999945e-6,4.446999999999945e-6,4.4479999999999445e-6,4.448999999999944e-6,4.449999999999944e-6,4.4509999999999435e-6,4.451999999999943e-6,4.452999999999943e-6,4.4539999999999424e-6,4.454999999999942e-6,4.455999999999942e-6,4.456999999999941e-6,4.457999999999941e-6,4.458999999999941e-6,4.45999999999994e-6,4.46099999999994e-6,4.46199999999994e-6,4.462999999999939e-6,4.463999999999939e-6,4.464999999999939e-6,4.465999999999938e-6,4.466999999999938e-6,4.4679999999999376e-6,4.468999999999937e-6,4.469999999999937e-6,4.4709999999999365e-6,4.471999999999936e-6,4.472999999999936e-6,4.4739999999999355e-6,4.474999999999935e-6,4.475999999999935e-6,4.4769999999999344e-6,4.477999999999934e-6,4.478999999999934e-6,4.479999999999933e-6,4.480999999999933e-6,4.481999999999933e-6,4.482999999999932e-6,4.483999999999932e-6,4.484999999999932e-6,4.485999999999931e-6,4.486999999999931e-6,4.487999999999931e-6,4.48899999999993e-6],\"y\":[0.05,0.05,0.05,0.05,0.05,0.05,0.05,0.05,0.05,0.05,0.05,0.05,0.05,0.05,0.05,0.05,0.05,0.05,0.05,0.05,0.05,0.05,0.05,0.05,0.05,0.05,0.05,0.05,0.05,0.05,0.05,0.05,0.05,0.05,0.05,0.05,0.05,0.05,0.05,0.05,0.05,0.05,0.05,0.05,0.05,0.05,0.05,0.05,0.05,0.05,0.05,0.05,0.05,0.05,0.05,0.05,0.05,0.05,0.05,0.05,0.05,0.05,0.05,0.05,0.05,0.05,0.05,0.05,0.05,0.05,0.05,0.05,0.05,0.05,0.05,0.05,0.05,0.05,0.05,0.05,0.05,0.05,0.05,0.05,0.05,0.05,0.05,0.05,0.05,0.05,0.05,0.05,0.05,0.05,0.05,0.05,0.05,0.05,0.05,0.05,0.05,0.05,0.05,0.05,0.05,0.05,0.05,0.05,0.05,0.05,0.05,0.05,0.05,0.05,0.05,0.05,0.05,0.05,0.05,0.05,0.05,0.05,0.05,0.05,0.05,0.05,0.05,0.05,0.05,0.05,0.05,0.05,0.05,0.05,0.05,0.05,0.05,0.05,0.05,0.05,0.05,0.05,0.05,0.05,0.05,0.05,0.05,0.05,0.05,0.05,0.05,0.05,0.05,0.05,0.05,0.05,0.05,0.05,0.05,0.05,0.05,0.05,0.05,0.05,0.05,0.05,0.05,0.05,0.05,0.05,0.05,0.05,0.05,0.05,0.05,0.05,0.05,0.05,0.05,0.05,0.05,0.05,0.05,0.05,0.05,0.05,0.05,0.05,0.05,0.05,0.05,0.05,0.05,0.05,0.05,0.05,0.05,0.05,0.05,0.05],\"type\":\"scatter\",\"xaxis\":\"x\",\"yaxis\":\"y\"},{\"fill\":\"tozeroy\",\"hoverinfo\":\"x+y+name\",\"hoverlabel\":{\"namelength\":-1},\"legendgroup\":\"5\",\"line\":{\"color\":\"#19D3F3\"},\"mode\":\"lines\",\"name\":\"RampPulse, clock: q0.ro\",\"showlegend\":true,\"x\":[4.489999999999999e-6,4.490999999999999e-6,4.491999999999999e-6,4.492999999999998e-6,4.493999999999998e-6,4.494999999999998e-6,4.495999999999997e-6,4.496999999999997e-6,4.4979999999999966e-6,4.498999999999996e-6,4.499999999999996e-6,4.5009999999999955e-6,4.501999999999995e-6,4.502999999999995e-6,4.5039999999999945e-6,4.504999999999994e-6,4.505999999999994e-6,4.5069999999999934e-6,4.507999999999993e-6,4.508999999999993e-6,4.509999999999992e-6,4.510999999999992e-6,4.511999999999992e-6,4.512999999999991e-6,4.513999999999991e-6,4.514999999999991e-6,4.51599999999999e-6,4.51699999999999e-6,4.51799999999999e-6,4.518999999999989e-6,4.519999999999989e-6,4.5209999999999886e-6,4.521999999999988e-6,4.522999999999988e-6,4.5239999999999875e-6,4.524999999999987e-6,4.525999999999987e-6,4.5269999999999865e-6,4.527999999999986e-6,4.528999999999986e-6,4.5299999999999854e-6,4.530999999999985e-6,4.531999999999985e-6,4.532999999999984e-6,4.533999999999984e-6,4.534999999999984e-6,4.535999999999983e-6,4.536999999999983e-6,4.537999999999983e-6,4.538999999999982e-6,4.539999999999982e-6,4.540999999999982e-6,4.541999999999981e-6,4.542999999999981e-6,4.5439999999999805e-6,4.54499999999998e-6,4.54599999999998e-6,4.5469999999999795e-6,4.547999999999979e-6,4.548999999999979e-6,4.5499999999999785e-6,4.550999999999978e-6,4.551999999999978e-6,4.552999999999977e-6,4.553999999999977e-6,4.554999999999977e-6,4.555999999999976e-6,4.556999999999976e-6,4.557999999999976e-6,4.558999999999975e-6,4.559999999999975e-6,4.560999999999975e-6,4.561999999999974e-6,4.562999999999974e-6,4.563999999999974e-6,4.564999999999973e-6,4.565999999999973e-6,4.5669999999999725e-6,4.567999999999972e-6,4.568999999999972e-6,4.5699999999999715e-6,4.570999999999971e-6,4.571999999999971e-6,4.5729999999999704e-6,4.57399999999997e-6,4.57499999999997e-6,4.575999999999969e-6,4.576999999999969e-6,4.577999999999969e-6,4.578999999999968e-6,4.579999999999968e-6,4.580999999999968e-6,4.581999999999967e-6,4.582999999999967e-6,4.583999999999967e-6,4.584999999999966e-6,4.585999999999966e-6,4.5869999999999656e-6,4.587999999999965e-6,4.588999999999965e-6,4.5899999999999645e-6,4.590999999999964e-6,4.591999999999964e-6,4.5929999999999635e-6,4.593999999999963e-6,4.594999999999963e-6,4.5959999999999624e-6,4.596999999999962e-6,4.597999999999962e-6,4.598999999999961e-6,4.599999999999961e-6,4.600999999999961e-6,4.60199999999996e-6,4.60299999999996e-6,4.60399999999996e-6,4.604999999999959e-6,4.605999999999959e-6,4.606999999999959e-6,4.607999999999958e-6,4.608999999999958e-6,4.6099999999999576e-6,4.610999999999957e-6,4.611999999999957e-6,4.6129999999999565e-6,4.613999999999956e-6,4.614999999999956e-6,4.6159999999999555e-6,4.616999999999955e-6,4.617999999999955e-6,4.618999999999954e-6,4.619999999999954e-6,4.620999999999954e-6,4.621999999999953e-6,4.622999999999953e-6,4.623999999999953e-6,4.624999999999952e-6,4.625999999999952e-6,4.626999999999952e-6,4.627999999999951e-6,4.628999999999951e-6,4.629999999999951e-6,4.63099999999995e-6,4.63199999999995e-6,4.6329999999999495e-6,4.633999999999949e-6,4.634999999999949e-6,4.6359999999999485e-6,4.636999999999948e-6,4.637999999999948e-6,4.6389999999999475e-6,4.639999999999947e-6,4.640999999999947e-6,4.641999999999946e-6,4.642999999999946e-6,4.643999999999946e-6,4.644999999999945e-6,4.645999999999945e-6,4.646999999999945e-6,4.647999999999944e-6,4.648999999999944e-6,4.649999999999944e-6,4.650999999999943e-6,4.651999999999943e-6,4.6529999999999426e-6,4.653999999999942e-6,4.654999999999942e-6,4.6559999999999415e-6,4.656999999999941e-6,4.657999999999941e-6,4.6589999999999405e-6,4.65999999999994e-6,4.66099999999994e-6,4.6619999999999394e-6,4.662999999999939e-6,4.663999999999939e-6,4.664999999999938e-6,4.665999999999938e-6,4.666999999999938e-6,4.667999999999937e-6,4.668999999999937e-6,4.669999999999937e-6,4.670999999999936e-6,4.671999999999936e-6,4.672999999999936e-6,4.673999999999935e-6,4.674999999999935e-6,4.6759999999999346e-6,4.676999999999934e-6,4.677999999999934e-6,4.6789999999999335e-6,4.679999999999933e-6,4.680999999999933e-6,4.6819999999999325e-6,4.682999999999932e-6,4.683999999999932e-6,4.6849999999999314e-6,4.685999999999931e-6,4.686999999999931e-6,4.68799999999993e-6,4.68899999999993e-6,4.68999999999993e-6,4.690999999999929e-6,4.691999999999929e-6,4.692999999999929e-6,4.693999999999928e-6,4.694999999999928e-6,4.695999999999928e-6,4.696999999999927e-6,4.697999999999927e-6,4.6989999999999265e-6,4.699999999999926e-6,4.700999999999926e-6,4.7019999999999255e-6,4.702999999999925e-6,4.703999999999925e-6,4.7049999999999245e-6,4.705999999999924e-6,4.706999999999924e-6,4.707999999999923e-6,4.708999999999923e-6,4.709999999999923e-6,4.710999999999922e-6,4.711999999999922e-6,4.712999999999922e-6,4.713999999999921e-6,4.714999999999921e-6,4.715999999999921e-6,4.71699999999992e-6,4.71799999999992e-6,4.71899999999992e-6,4.719999999999919e-6,4.720999999999919e-6,4.7219999999999185e-6,4.722999999999918e-6,4.723999999999918e-6,4.7249999999999175e-6,4.725999999999917e-6,4.726999999999917e-6,4.7279999999999164e-6,4.728999999999916e-6,4.729999999999916e-6,4.730999999999915e-6,4.731999999999915e-6,4.732999999999915e-6,4.733999999999914e-6,4.734999999999914e-6,4.735999999999914e-6,4.736999999999913e-6,4.737999999999913e-6,4.738999999999913e-6,4.739999999999912e-6],\"y\":[0.06,0.06,0.06,0.06,0.06,0.06,0.06,0.06,0.06,0.06,0.06,0.06,0.06,0.06,0.06,0.06,0.06,0.06,0.06,0.06,0.06,0.06,0.06,0.06,0.06,0.06,0.06,0.06,0.06,0.06,0.06,0.06,0.06,0.06,0.06,0.06,0.06,0.06,0.06,0.06,0.06,0.06,0.06,0.06,0.06,0.06,0.06,0.06,0.06,0.06,0.06,0.06,0.06,0.06,0.06,0.06,0.06,0.06,0.06,0.06,0.06,0.06,0.06,0.06,0.06,0.06,0.06,0.06,0.06,0.06,0.06,0.06,0.06,0.06,0.06,0.06,0.06,0.06,0.06,0.06,0.06,0.06,0.06,0.06,0.06,0.06,0.06,0.06,0.06,0.06,0.06,0.06,0.06,0.06,0.06,0.06,0.06,0.06,0.06,0.06,0.06,0.06,0.06,0.06,0.06,0.06,0.06,0.06,0.06,0.06,0.06,0.06,0.06,0.06,0.06,0.06,0.06,0.06,0.06,0.06,0.06,0.06,0.06,0.06,0.06,0.06,0.06,0.06,0.06,0.06,0.06,0.06,0.06,0.06,0.06,0.06,0.06,0.06,0.06,0.06,0.06,0.06,0.06,0.06,0.06,0.06,0.06,0.06,0.06,0.06,0.06,0.06,0.06,0.06,0.06,0.06,0.06,0.06,0.06,0.06,0.06,0.06,0.06,0.06,0.06,0.06,0.06,0.06,0.06,0.06,0.06,0.06,0.06,0.06,0.06,0.06,0.06,0.06,0.06,0.06,0.06,0.06,0.06,0.06,0.06,0.06,0.06,0.06,0.06,0.06,0.06,0.06,0.06,0.06,0.06,0.06,0.06,0.06,0.06,0.06,0.06,0.06,0.06,0.06,0.06,0.06,0.06,0.06,0.06,0.06,0.06,0.06,0.06,0.06,0.06,0.06,0.06,0.06,0.06,0.06,0.06,0.06,0.06,0.06,0.06,0.06,0.06,0.06,0.06,0.06,0.06,0.06,0.06,0.06,0.06,0.06,0.06,0.06,0.06,0.06,0.06,0.06,0.06,0.06,0.06,0.06,0.06,0.06,0.06,0.06,0.06],\"type\":\"scatter\",\"xaxis\":\"x\",\"yaxis\":\"y\"}],                        {\"template\":{\"data\":{\"histogram2dcontour\":[{\"type\":\"histogram2dcontour\",\"colorbar\":{\"outlinewidth\":0,\"ticks\":\"\"},\"colorscale\":[[0.0,\"#0d0887\"],[0.1111111111111111,\"#46039f\"],[0.2222222222222222,\"#7201a8\"],[0.3333333333333333,\"#9c179e\"],[0.4444444444444444,\"#bd3786\"],[0.5555555555555556,\"#d8576b\"],[0.6666666666666666,\"#ed7953\"],[0.7777777777777778,\"#fb9f3a\"],[0.8888888888888888,\"#fdca26\"],[1.0,\"#f0f921\"]]}],\"choropleth\":[{\"type\":\"choropleth\",\"colorbar\":{\"outlinewidth\":0,\"ticks\":\"\"}}],\"histogram2d\":[{\"type\":\"histogram2d\",\"colorbar\":{\"outlinewidth\":0,\"ticks\":\"\"},\"colorscale\":[[0.0,\"#0d0887\"],[0.1111111111111111,\"#46039f\"],[0.2222222222222222,\"#7201a8\"],[0.3333333333333333,\"#9c179e\"],[0.4444444444444444,\"#bd3786\"],[0.5555555555555556,\"#d8576b\"],[0.6666666666666666,\"#ed7953\"],[0.7777777777777778,\"#fb9f3a\"],[0.8888888888888888,\"#fdca26\"],[1.0,\"#f0f921\"]]}],\"heatmap\":[{\"type\":\"heatmap\",\"colorbar\":{\"outlinewidth\":0,\"ticks\":\"\"},\"colorscale\":[[0.0,\"#0d0887\"],[0.1111111111111111,\"#46039f\"],[0.2222222222222222,\"#7201a8\"],[0.3333333333333333,\"#9c179e\"],[0.4444444444444444,\"#bd3786\"],[0.5555555555555556,\"#d8576b\"],[0.6666666666666666,\"#ed7953\"],[0.7777777777777778,\"#fb9f3a\"],[0.8888888888888888,\"#fdca26\"],[1.0,\"#f0f921\"]]}],\"heatmapgl\":[{\"type\":\"heatmapgl\",\"colorbar\":{\"outlinewidth\":0,\"ticks\":\"\"},\"colorscale\":[[0.0,\"#0d0887\"],[0.1111111111111111,\"#46039f\"],[0.2222222222222222,\"#7201a8\"],[0.3333333333333333,\"#9c179e\"],[0.4444444444444444,\"#bd3786\"],[0.5555555555555556,\"#d8576b\"],[0.6666666666666666,\"#ed7953\"],[0.7777777777777778,\"#fb9f3a\"],[0.8888888888888888,\"#fdca26\"],[1.0,\"#f0f921\"]]}],\"contourcarpet\":[{\"type\":\"contourcarpet\",\"colorbar\":{\"outlinewidth\":0,\"ticks\":\"\"}}],\"contour\":[{\"type\":\"contour\",\"colorbar\":{\"outlinewidth\":0,\"ticks\":\"\"},\"colorscale\":[[0.0,\"#0d0887\"],[0.1111111111111111,\"#46039f\"],[0.2222222222222222,\"#7201a8\"],[0.3333333333333333,\"#9c179e\"],[0.4444444444444444,\"#bd3786\"],[0.5555555555555556,\"#d8576b\"],[0.6666666666666666,\"#ed7953\"],[0.7777777777777778,\"#fb9f3a\"],[0.8888888888888888,\"#fdca26\"],[1.0,\"#f0f921\"]]}],\"surface\":[{\"type\":\"surface\",\"colorbar\":{\"outlinewidth\":0,\"ticks\":\"\"},\"colorscale\":[[0.0,\"#0d0887\"],[0.1111111111111111,\"#46039f\"],[0.2222222222222222,\"#7201a8\"],[0.3333333333333333,\"#9c179e\"],[0.4444444444444444,\"#bd3786\"],[0.5555555555555556,\"#d8576b\"],[0.6666666666666666,\"#ed7953\"],[0.7777777777777778,\"#fb9f3a\"],[0.8888888888888888,\"#fdca26\"],[1.0,\"#f0f921\"]]}],\"mesh3d\":[{\"type\":\"mesh3d\",\"colorbar\":{\"outlinewidth\":0,\"ticks\":\"\"}}],\"scatter\":[{\"fillpattern\":{\"fillmode\":\"overlay\",\"size\":10,\"solidity\":0.2},\"type\":\"scatter\"}],\"parcoords\":[{\"type\":\"parcoords\",\"line\":{\"colorbar\":{\"outlinewidth\":0,\"ticks\":\"\"}}}],\"scatterpolargl\":[{\"type\":\"scatterpolargl\",\"marker\":{\"colorbar\":{\"outlinewidth\":0,\"ticks\":\"\"}}}],\"bar\":[{\"error_x\":{\"color\":\"#2a3f5f\"},\"error_y\":{\"color\":\"#2a3f5f\"},\"marker\":{\"line\":{\"color\":\"#E5ECF6\",\"width\":0.5},\"pattern\":{\"fillmode\":\"overlay\",\"size\":10,\"solidity\":0.2}},\"type\":\"bar\"}],\"scattergeo\":[{\"type\":\"scattergeo\",\"marker\":{\"colorbar\":{\"outlinewidth\":0,\"ticks\":\"\"}}}],\"scatterpolar\":[{\"type\":\"scatterpolar\",\"marker\":{\"colorbar\":{\"outlinewidth\":0,\"ticks\":\"\"}}}],\"histogram\":[{\"marker\":{\"pattern\":{\"fillmode\":\"overlay\",\"size\":10,\"solidity\":0.2}},\"type\":\"histogram\"}],\"scattergl\":[{\"type\":\"scattergl\",\"marker\":{\"colorbar\":{\"outlinewidth\":0,\"ticks\":\"\"}}}],\"scatter3d\":[{\"type\":\"scatter3d\",\"line\":{\"colorbar\":{\"outlinewidth\":0,\"ticks\":\"\"}},\"marker\":{\"colorbar\":{\"outlinewidth\":0,\"ticks\":\"\"}}}],\"scattermapbox\":[{\"type\":\"scattermapbox\",\"marker\":{\"colorbar\":{\"outlinewidth\":0,\"ticks\":\"\"}}}],\"scatterternary\":[{\"type\":\"scatterternary\",\"marker\":{\"colorbar\":{\"outlinewidth\":0,\"ticks\":\"\"}}}],\"scattercarpet\":[{\"type\":\"scattercarpet\",\"marker\":{\"colorbar\":{\"outlinewidth\":0,\"ticks\":\"\"}}}],\"carpet\":[{\"aaxis\":{\"endlinecolor\":\"#2a3f5f\",\"gridcolor\":\"white\",\"linecolor\":\"white\",\"minorgridcolor\":\"white\",\"startlinecolor\":\"#2a3f5f\"},\"baxis\":{\"endlinecolor\":\"#2a3f5f\",\"gridcolor\":\"white\",\"linecolor\":\"white\",\"minorgridcolor\":\"white\",\"startlinecolor\":\"#2a3f5f\"},\"type\":\"carpet\"}],\"table\":[{\"cells\":{\"fill\":{\"color\":\"#EBF0F8\"},\"line\":{\"color\":\"white\"}},\"header\":{\"fill\":{\"color\":\"#C8D4E3\"},\"line\":{\"color\":\"white\"}},\"type\":\"table\"}],\"barpolar\":[{\"marker\":{\"line\":{\"color\":\"#E5ECF6\",\"width\":0.5},\"pattern\":{\"fillmode\":\"overlay\",\"size\":10,\"solidity\":0.2}},\"type\":\"barpolar\"}],\"pie\":[{\"automargin\":true,\"type\":\"pie\"}]},\"layout\":{\"autotypenumbers\":\"strict\",\"colorway\":[\"#636efa\",\"#EF553B\",\"#00cc96\",\"#ab63fa\",\"#FFA15A\",\"#19d3f3\",\"#FF6692\",\"#B6E880\",\"#FF97FF\",\"#FECB52\"],\"font\":{\"color\":\"#2a3f5f\"},\"hovermode\":\"closest\",\"hoverlabel\":{\"align\":\"left\"},\"paper_bgcolor\":\"white\",\"plot_bgcolor\":\"#E5ECF6\",\"polar\":{\"bgcolor\":\"#E5ECF6\",\"angularaxis\":{\"gridcolor\":\"white\",\"linecolor\":\"white\",\"ticks\":\"\"},\"radialaxis\":{\"gridcolor\":\"white\",\"linecolor\":\"white\",\"ticks\":\"\"}},\"ternary\":{\"bgcolor\":\"#E5ECF6\",\"aaxis\":{\"gridcolor\":\"white\",\"linecolor\":\"white\",\"ticks\":\"\"},\"baxis\":{\"gridcolor\":\"white\",\"linecolor\":\"white\",\"ticks\":\"\"},\"caxis\":{\"gridcolor\":\"white\",\"linecolor\":\"white\",\"ticks\":\"\"}},\"coloraxis\":{\"colorbar\":{\"outlinewidth\":0,\"ticks\":\"\"}},\"colorscale\":{\"sequential\":[[0.0,\"#0d0887\"],[0.1111111111111111,\"#46039f\"],[0.2222222222222222,\"#7201a8\"],[0.3333333333333333,\"#9c179e\"],[0.4444444444444444,\"#bd3786\"],[0.5555555555555556,\"#d8576b\"],[0.6666666666666666,\"#ed7953\"],[0.7777777777777778,\"#fb9f3a\"],[0.8888888888888888,\"#fdca26\"],[1.0,\"#f0f921\"]],\"sequentialminus\":[[0.0,\"#0d0887\"],[0.1111111111111111,\"#46039f\"],[0.2222222222222222,\"#7201a8\"],[0.3333333333333333,\"#9c179e\"],[0.4444444444444444,\"#bd3786\"],[0.5555555555555556,\"#d8576b\"],[0.6666666666666666,\"#ed7953\"],[0.7777777777777778,\"#fb9f3a\"],[0.8888888888888888,\"#fdca26\"],[1.0,\"#f0f921\"]],\"diverging\":[[0,\"#8e0152\"],[0.1,\"#c51b7d\"],[0.2,\"#de77ae\"],[0.3,\"#f1b6da\"],[0.4,\"#fde0ef\"],[0.5,\"#f7f7f7\"],[0.6,\"#e6f5d0\"],[0.7,\"#b8e186\"],[0.8,\"#7fbc41\"],[0.9,\"#4d9221\"],[1,\"#276419\"]]},\"xaxis\":{\"gridcolor\":\"white\",\"linecolor\":\"white\",\"ticks\":\"\",\"title\":{\"standoff\":15},\"zerolinecolor\":\"white\",\"automargin\":true,\"zerolinewidth\":2},\"yaxis\":{\"gridcolor\":\"white\",\"linecolor\":\"white\",\"ticks\":\"\",\"title\":{\"standoff\":15},\"zerolinecolor\":\"white\",\"automargin\":true,\"zerolinewidth\":2},\"scene\":{\"xaxis\":{\"backgroundcolor\":\"#E5ECF6\",\"gridcolor\":\"white\",\"linecolor\":\"white\",\"showbackground\":true,\"ticks\":\"\",\"zerolinecolor\":\"white\",\"gridwidth\":2},\"yaxis\":{\"backgroundcolor\":\"#E5ECF6\",\"gridcolor\":\"white\",\"linecolor\":\"white\",\"showbackground\":true,\"ticks\":\"\",\"zerolinecolor\":\"white\",\"gridwidth\":2},\"zaxis\":{\"backgroundcolor\":\"#E5ECF6\",\"gridcolor\":\"white\",\"linecolor\":\"white\",\"showbackground\":true,\"ticks\":\"\",\"zerolinecolor\":\"white\",\"gridwidth\":2}},\"shapedefaults\":{\"line\":{\"color\":\"#2a3f5f\"}},\"annotationdefaults\":{\"arrowcolor\":\"#2a3f5f\",\"arrowhead\":0,\"arrowwidth\":1},\"geo\":{\"bgcolor\":\"white\",\"landcolor\":\"#E5ECF6\",\"subunitcolor\":\"white\",\"showland\":true,\"showlakes\":true,\"lakecolor\":\"white\"},\"title\":{\"x\":0.05},\"mapbox\":{\"style\":\"light\"}}},\"xaxis\":{\"anchor\":\"y\",\"domain\":[0.0,1.0],\"tickformat\":\".2s\",\"hoverformat\":\".3s\",\"ticksuffix\":\"s\",\"showgrid\":true,\"title\":{\"text\":\"Time\"},\"tickformatstops\":[{\"dtickrange\":[null,1e-9],\"value\":\".10s\"},{\"dtickrange\":[1e-9,1e-6],\"value\":\".7s\"},{\"dtickrange\":[1e-6,0.001],\"value\":\".4s\"}]},\"yaxis\":{\"anchor\":\"x\",\"domain\":[0.0,1.0],\"tickformat\":\".2s\",\"hoverformat\":\".3s\",\"ticksuffix\":\"V\",\"title\":{\"text\":\"flux\"},\"autorange\":true},\"height\":300,\"width\":1000,\"title\":{\"text\":\"Qubit Reset - Step 5 - full\"},\"showlegend\":false},                        {\"responsive\": true}                    ).then(function(){\n",
       "                            \n",
       "var gd = document.getElementById('0a7f0194-52ab-4e0d-9b1e-473bfad7c5ec');\n",
       "var x = new MutationObserver(function (mutations, observer) {{\n",
       "        var display = window.getComputedStyle(gd).display;\n",
       "        if (!display || display === 'none') {{\n",
       "            console.log([gd, 'removed!']);\n",
       "            Plotly.purge(gd);\n",
       "            observer.disconnect();\n",
       "        }}\n",
       "}});\n",
       "\n",
       "// Listen for the removal of the full notebook cells\n",
       "var notebookContainer = gd.closest('#notebook-container');\n",
       "if (notebookContainer) {{\n",
       "    x.observe(notebookContainer, {childList: true});\n",
       "}}\n",
       "\n",
       "// Listen for the clearing of the current output cell\n",
       "var outputEl = gd.closest('.output');\n",
       "if (outputEl) {{\n",
       "    x.observe(outputEl, {childList: true});\n",
       "}}\n",
       "\n",
       "                        })                };                });            </script>        </div>"
      ]
     },
     "metadata": {},
     "output_type": "display_data"
    }
   ],
   "source": [
    "# step 5\n",
    "\n",
    "sched = Schedule(\"Qubit Reset - Step 5 - full\")\n",
    "\n",
    "readout_clock = ClockResource(name=\"q0.ro\", freq=0e9)\n",
    "sched.add_resource(readout_clock)\n",
    "\n",
    "# qc_offset = -10\n",
    "# qc_duration = 0.06e-6\n",
    "# cr_duration = 0.25e-6\n",
    "# amp = duration / target_duration* offset\n",
    "start = sched.add(IdlePulse(duration=4e-6))\n",
    "\n",
    "\n",
    "qc_t = 20e-9\n",
    "qc_amp = -0.025\n",
    "\n",
    "sched.add(\n",
    "    RampPulse(offset=qc_amp, amp=0, duration=qc_t, port=\"flux\", clock=\"q0.ro\")\n",
    ")\n",
    "\n",
    "qc_t = 250e-9\n",
    "qc_amp = 0.06\n",
    "\n",
    "sched.add(\n",
    "    RampPulse(offset=qc_amp, amp=0, duration=qc_t, port=\"flux\", clock=\"q0.ro\")\n",
    ")\n",
    "\n",
    "qc_t = 20e-9\n",
    "qc_amp = -0.025\n",
    "\n",
    "sched.add(\n",
    "    RampPulse(offset=qc_amp, amp=-qc_amp, duration=qc_t, port=\"flux\", clock=\"q0.ro\")\n",
    ")\n",
    "\n",
    "# for e state\n",
    "qc_t = 200e-9\n",
    "qc_amp = 0.05\n",
    "\n",
    "sched.add(\n",
    "    RampPulse(offset=qc_amp, amp=0, duration=qc_t, port=\"flux\", clock=\"q0.ro\")\n",
    ")\n",
    "# for f state\n",
    "qc_t = 250e-9\n",
    "qc_amp = 0.06\n",
    "\n",
    "sched.add(\n",
    "    RampPulse(offset=qc_amp, amp=0, duration=qc_t, port=\"flux\", clock=\"q0.ro\")\n",
    ")\n",
    "\n",
    "\n",
    "\n",
    "comp_sched = device_compiler.compile(sched)\n",
    "comp_sched.plot_pulse_diagram(plot_backend=\"plotly\")"
   ]
  },
  {
   "cell_type": "code",
   "execution_count": null,
   "id": "db45399c",
   "metadata": {},
   "outputs": [],
   "source": [
    "duration = 100\n",
    "width = 10\n",
    "space = 4\n",
    "amp = 1\n",
    "t_total = duration+space*width\n",
    "tlist = np.arange(0,t_total,1)\n",
    "\n",
    "# Square pulse of length L and unit amplitude centered at x+L/2\n",
    "A = np.heaviside(tlist - space*width/2, 0) - np.heaviside(tlist - (duration+space*width/2), 0)\n",
    "\n",
    "# Gaussian with mean (x+L/2) and std 1\n",
    "f = np.exp(-pow(tlist-t_total/2,2)/(2*width**2))\n",
    "\n",
    "g = np.convolve(A, f, mode = 'same') * amp  / np.sum(f)\n",
    "plt.plot(tlist*1e-9, A, 'r')\n",
    "plt.plot(tlist*1e-9, f, 'b')\n",
    "plt.plot(tlist*1e-9, g, 'g')\n",
    "\n",
    "# t = np.arange(0, 48.5e-9, 1e-9)\n",
    "\n",
    "\n",
    "# gaussian_pulse = sched.add(\n",
    "#     NumericalPulse(\n",
    "#         samples=0.2 * gaussian(len(t), std=0.12 * len(t)),  # Numerical pulses can be complex as well.\n",
    "#         t_samples=t,\n",
    "#         port=\"flux\",\n",
    "#         clock=\"q0.ro\",\n",
    "#     ),\n",
    "#     ref_pt=\"start\",\n",
    "#     rel_time=0e-9,\n",
    "# )"
   ]
  },
  {
   "cell_type": "code",
   "execution_count": 229,
   "id": "4c75f29b",
   "metadata": {},
   "outputs": [
    {
     "data": {
      "text/plain": [
       "[<matplotlib.lines.Line2D at 0x7f962f339280>]"
      ]
     },
     "execution_count": 229,
     "metadata": {},
     "output_type": "execute_result"
    },
    {
     "data": {
      "image/png": "[encoded data removed]",
      "text/plain": [
       "<Figure size 640x480 with 1 Axes>"
      ]
     },
     "metadata": {},
     "output_type": "display_data"
    }
   ],
   "source": [
    "duration = 100\n",
    "width = 10\n",
    "space = 4\n",
    "amp = 1\n",
    "t_total = duration+space*width\n",
    "tlist = np.arange(0,t_total,1)\n",
    "\n",
    "# Square pulse of length L and unit amplitude centered at x+L/2\n",
    "A = np.heaviside(tlist - space*width/2, 0) - np.heaviside(tlist - (duration+space*width/2), 0)\n",
    "\n",
    "# Gaussian with mean (x+L/2) and std 1\n",
    "f = np.exp(-pow(tlist-t_total/2,2)/(2*width**2))\n",
    "\n",
    "g = np.convolve(A, f, mode = 'same') * amp  / np.sum(f)\n",
    "plt.plot(tlist*1e-9, A, 'r')\n",
    "plt.plot(tlist*1e-9, f, 'b')\n",
    "plt.plot(tlist*1e-9, g, 'g')\n"
   ]
  },
  {
   "cell_type": "code",
   "execution_count": 228,
   "id": "c5d620ba",
   "metadata": {},
   "outputs": [
    {
     "ename": "NameError",
     "evalue": "name 'dt' is not defined",
     "output_type": "error",
     "traceback": [
      "\u001b[0;31m---------------------------------------------------------------------------\u001b[0m",
      "\u001b[0;31mNameError\u001b[0m                                 Traceback (most recent call last)",
      "Cell \u001b[0;32mIn[228], line 6\u001b[0m\n\u001b[1;32m      4\u001b[0m gauss \u001b[38;5;241m=\u001b[39m gaussian(w, std\u001b[38;5;241m=\u001b[39m \u001b[38;5;241m0.12\u001b[39m\u001b[38;5;241m*\u001b[39mw)\n\u001b[1;32m      5\u001b[0m square \u001b[38;5;241m=\u001b[39m [\u001b[38;5;241m0\u001b[39m]\u001b[38;5;241m*\u001b[39mw\u001b[38;5;241m+\u001b[39m[amp]\u001b[38;5;241m*\u001b[39m\u001b[38;5;28mint\u001b[39m(t)\u001b[38;5;241m+\u001b[39m[\u001b[38;5;241m0\u001b[39m]\u001b[38;5;241m*\u001b[39mw\n\u001b[0;32m----> 6\u001b[0m gauss_square \u001b[38;5;241m=\u001b[39m np\u001b[38;5;241m.\u001b[39mconvolve(gauss, square,mode \u001b[38;5;241m=\u001b[39m \u001b[38;5;124m'\u001b[39m\u001b[38;5;124msame\u001b[39m\u001b[38;5;124m'\u001b[39m) \u001b[38;5;241m*\u001b[39m \u001b[43mdt\u001b[49m \u001b[38;5;241m/\u001b[39m np\u001b[38;5;241m.\u001b[39msum(f)\n\u001b[1;32m      7\u001b[0m plt\u001b[38;5;241m.\u001b[39mplot(square)\n\u001b[1;32m      8\u001b[0m plt\u001b[38;5;241m.\u001b[39mplot(gauss_square)\n",
      "\u001b[0;31mNameError\u001b[0m: name 'dt' is not defined"
     ]
    }
   ],
   "source": [
    "t = 100\n",
    "w =20\n",
    "amp = 0.5\n",
    "gauss = gaussian(w, std= 0.12*w)\n",
    "square = [0]*w+[amp]*int(t)+[0]*w\n",
    "gauss_square = np.convolve(gauss, square,mode = 'same') * dt / np.sum(f)\n",
    "plt.plot(square)\n",
    "plt.plot(gauss_square)"
   ]
  },
  {
   "cell_type": "code",
   "execution_count": 85,
   "id": "238f38a2",
   "metadata": {},
   "outputs": [
    {
     "data": {
      "text/plain": [
       "[<matplotlib.lines.Line2D at 0x7f963e99e160>]"
      ]
     },
     "execution_count": 85,
     "metadata": {},
     "output_type": "execute_result"
    },
    {
     "data": {
      "image/png": "[encoded data removed]",
      "text/plain": [
       "<Figure size 640x480 with 1 Axes>"
      ]
     },
     "metadata": {},
     "output_type": "display_data"
    }
   ],
   "source": []
  },
  {
   "cell_type": "code",
   "execution_count": null,
   "id": "a0ec62b5",
   "metadata": {},
   "outputs": [],
   "source": []
  }
 ],
 "metadata": {
  "file_format": "mystnb",
  "kernelspec": {
   "display_name": "python3",
   "name": "python3"
  },
  "language_info": {
   "codemirror_mode": {
    "name": "ipython",
    "version": 3
   },
   "file_extension": ".py",
   "mimetype": "text/x-python",
   "name": "python",
   "nbconvert_exporter": "python",
   "pygments_lexer": "ipython3",
   "version": "3.9.18"
  },
  "source_map": [
   6,
   21,
   30,
   38,
   49,
   53,
   63,
   67,
   77,
   83,
   87,
   93,
   105,
   111,
   126,
   137,
   173
  ]
 },
 "nbformat": 4,
 "nbformat_minor": 5
}
