{
 "cells": [
  {
   "cell_type": "code",
   "execution_count": 1835,
   "metadata": {},
   "outputs": [
    {
     "data": {
      "text/html": [
       "<style>.container { width:100% !important; }</style>"
      ],
      "text/plain": [
       "<IPython.core.display.HTML object>"
      ]
     },
     "metadata": {},
     "output_type": "display_data"
    },
    {
     "name": "stdout",
     "output_type": "stream",
     "text": [
      "loki_cluster connected at 192.0.2.72\n"
     ]
    }
   ],
   "source": [
    "# Import ipython widgets\n",
    "import json\n",
    "import math\n",
    "import os\n",
    "\n",
    "import ipywidgets as widgets\n",
    "import matplotlib.pyplot\n",
    "import numpy as np\n",
    "import rich\n",
    "import pandas as pd\n",
    "\n",
    "# Set up the environment.\n",
    "import scipy.signal\n",
    "from IPython.display import display\n",
    "from ipywidgets import fixed, interact, interact_manual, interactive\n",
    "\n",
    "from qblox_instruments import Cluster, PlugAndPlay, Pulsar\n",
    "from IPython.display import display, HTML\n",
    "display(HTML(\"<style>.container { width:100% !important; }</style>\"))\n",
    "\n",
    "# close all previous connections to the cluster\n",
    "Cluster.close_all()\n",
    "\n",
    "#device_name = \"pingu_cluster\"\n",
    "device_name = \"loki_cluster\"\n",
    "ip_address = '192.0.2.72'\n",
    "# connect to the cluster and reset\n",
    "cluster = Cluster(device_name, ip_address)\n",
    "cluster.reset()\n",
    "print(f\"{device_name} connected at {ip_address}\")"
   ]
  },
  {
   "cell_type": "code",
   "execution_count": 1749,
   "metadata": {},
   "outputs": [],
   "source": [
    "# Cluster.close_all()\n",
    "\n",
    "# cluster.reset()"
   ]
  },
  {
   "cell_type": "code",
   "execution_count": 1750,
   "metadata": {},
   "outputs": [],
   "source": [
    "cluster.reboot()"
   ]
  },
  {
   "cell_type": "code",
   "execution_count": 1836,
   "metadata": {},
   "outputs": [
    {
     "name": "stdout",
     "output_type": "stream",
     "text": [
      "Cannot open serial port: /dev/ttyACM0\n"
     ]
    },
    {
     "ename": "SerialException",
     "evalue": "[Errno 2] could not open port /dev/ttyACM0: [Errno 2] No such file or directory: '/dev/ttyACM0'",
     "output_type": "error",
     "traceback": [
      "\u001b[0;31m---------------------------------------------------------------------------\u001b[0m",
      "\u001b[0;31mFileNotFoundError\u001b[0m                         Traceback (most recent call last)",
      "File \u001b[0;32m~/anaconda3/envs/tac/lib/python3.9/site-packages/serial/serialposix.py:322\u001b[0m, in \u001b[0;36mSerial.open\u001b[0;34m(self)\u001b[0m\n\u001b[1;32m    321\u001b[0m \u001b[39mtry\u001b[39;00m:\n\u001b[0;32m--> 322\u001b[0m     \u001b[39mself\u001b[39m\u001b[39m.\u001b[39mfd \u001b[39m=\u001b[39m os\u001b[39m.\u001b[39;49mopen(\u001b[39mself\u001b[39;49m\u001b[39m.\u001b[39;49mportstr, os\u001b[39m.\u001b[39;49mO_RDWR \u001b[39m|\u001b[39;49m os\u001b[39m.\u001b[39;49mO_NOCTTY \u001b[39m|\u001b[39;49m os\u001b[39m.\u001b[39;49mO_NONBLOCK)\n\u001b[1;32m    323\u001b[0m \u001b[39mexcept\u001b[39;00m \u001b[39mOSError\u001b[39;00m \u001b[39mas\u001b[39;00m msg:\n",
      "\u001b[0;31mFileNotFoundError\u001b[0m: [Errno 2] No such file or directory: '/dev/ttyACM0'",
      "\nDuring handling of the above exception, another exception occurred:\n",
      "\u001b[0;31mSerialException\u001b[0m                           Traceback (most recent call last)",
      "\u001b[1;32m/home/loke-c/tergite-autocalibration-lite/calib_test.ipynb Cell 4\u001b[0m line \u001b[0;36m2\n\u001b[1;32m      <a href='vscode-notebook-cell://wsl%2Bubuntu/home/loke-c/tergite-autocalibration-lite/calib_test.ipynb#Y316sdnNjb2RlLXJlbW90ZQ%3D%3D?line=0'>1</a>\u001b[0m \u001b[39mfrom\u001b[39;00m \u001b[39mworkers\u001b[39;00m\u001b[39m.\u001b[39;00m\u001b[39mhardware_utils\u001b[39;00m \u001b[39mimport\u001b[39;00m SpiDAC\n\u001b[0;32m----> <a href='vscode-notebook-cell://wsl%2Bubuntu/home/loke-c/tergite-autocalibration-lite/calib_test.ipynb#Y316sdnNjb2RlLXJlbW90ZQ%3D%3D?line=1'>2</a>\u001b[0m spi \u001b[39m=\u001b[39m SpiDAC()\n\u001b[1;32m      <a href='vscode-notebook-cell://wsl%2Bubuntu/home/loke-c/tergite-autocalibration-lite/calib_test.ipynb#Y316sdnNjb2RlLXJlbW90ZQ%3D%3D?line=2'>3</a>\u001b[0m dac \u001b[39m=\u001b[39m spi\u001b[39m.\u001b[39mcreate_spi_dac(\u001b[39m'\u001b[39m\u001b[39mq13_q14\u001b[39m\u001b[39m'\u001b[39m)\n",
      "File \u001b[0;32m~/tergite-autocalibration-lite/workers/hardware_utils.py:12\u001b[0m, in \u001b[0;36mSpiDAC.__init__\u001b[0;34m(self)\u001b[0m\n\u001b[1;32m     11\u001b[0m \u001b[39mdef\u001b[39;00m \u001b[39m__init__\u001b[39m(\u001b[39mself\u001b[39m) \u001b[39m-\u001b[39m\u001b[39m>\u001b[39m \u001b[39mNone\u001b[39;00m:\n\u001b[0;32m---> 12\u001b[0m     \u001b[39mself\u001b[39m\u001b[39m.\u001b[39mspi \u001b[39m=\u001b[39m SpiRack(\u001b[39m'\u001b[39;49m\u001b[39mloki_rack\u001b[39;49m\u001b[39m'\u001b[39;49m, \u001b[39m'\u001b[39;49m\u001b[39m/dev/ttyACM0\u001b[39;49m\u001b[39m'\u001b[39;49m)\n",
      "File \u001b[0;32m~/anaconda3/envs/tac/lib/python3.9/site-packages/qcodes/instrument/instrument_meta.py:36\u001b[0m, in \u001b[0;36mInstrumentMeta.__call__\u001b[0;34m(cls, *args, **kwargs)\u001b[0m\n\u001b[1;32m     31\u001b[0m \u001b[39mdef\u001b[39;00m \u001b[39m__call__\u001b[39m(\u001b[39mcls\u001b[39m, \u001b[39m*\u001b[39margs: Any, \u001b[39m*\u001b[39m\u001b[39m*\u001b[39mkwargs: Any) \u001b[39m-\u001b[39m\u001b[39m>\u001b[39m Any:\n\u001b[1;32m     32\u001b[0m \u001b[39m    \u001b[39m\u001b[39m\"\"\"\u001b[39;00m\n\u001b[1;32m     33\u001b[0m \u001b[39m    Overloads `type.__call__` to add code that runs only if __init__ completes\u001b[39;00m\n\u001b[1;32m     34\u001b[0m \u001b[39m    successfully.\u001b[39;00m\n\u001b[1;32m     35\u001b[0m \u001b[39m    \"\"\"\u001b[39;00m\n\u001b[0;32m---> 36\u001b[0m     new_inst \u001b[39m=\u001b[39m \u001b[39msuper\u001b[39;49m()\u001b[39m.\u001b[39;49m\u001b[39m__call__\u001b[39;49m(\u001b[39m*\u001b[39;49margs, \u001b[39m*\u001b[39;49m\u001b[39m*\u001b[39;49mkwargs)\n\u001b[1;32m     37\u001b[0m     is_abstract \u001b[39m=\u001b[39m new_inst\u001b[39m.\u001b[39m_is_abstract()\n\u001b[1;32m     38\u001b[0m     \u001b[39mif\u001b[39;00m is_abstract:\n",
      "File \u001b[0;32m~/anaconda3/envs/tac/lib/python3.9/site-packages/qblox_instruments/qcodes_drivers/spi_rack.py:68\u001b[0m, in \u001b[0;36mSpiRack.__init__\u001b[0;34m(self, name, address, baud_rate, timeout, is_dummy)\u001b[0m\n\u001b[1;32m     47\u001b[0m \u001b[39m\u001b[39m\u001b[39m\"\"\"\u001b[39;00m\n\u001b[1;32m     48\u001b[0m \u001b[39mInstantiates the driver object.\u001b[39;00m\n\u001b[1;32m     49\u001b[0m \n\u001b[0;32m   (...)\u001b[0m\n\u001b[1;32m     65\u001b[0m \u001b[39m----------\u001b[39;00m\n\u001b[1;32m     66\u001b[0m \u001b[39m\"\"\"\u001b[39;00m\n\u001b[1;32m     67\u001b[0m t0 \u001b[39m=\u001b[39m time()\n\u001b[0;32m---> 68\u001b[0m \u001b[39msuper\u001b[39;49m()\u001b[39m.\u001b[39;49m\u001b[39m__init__\u001b[39;49m(address, baud_rate, timeout, is_dummy)\n\u001b[1;32m     69\u001b[0m Instrument\u001b[39m.\u001b[39m\u001b[39m__init__\u001b[39m(\u001b[39mself\u001b[39m, name)\n\u001b[1;32m     71\u001b[0m \u001b[39m# If drivers are created for different modules they should be added\u001b[39;00m\n\u001b[1;32m     72\u001b[0m \u001b[39m# here\u001b[39;00m\n",
      "File \u001b[0;32m~/anaconda3/envs/tac/lib/python3.9/site-packages/qblox_instruments/native/spi_rack.py:158\u001b[0m, in \u001b[0;36mSpiRack.__init__\u001b[0;34m(self, address, baud_rate, timeout, is_dummy)\u001b[0m\n\u001b[1;32m    138\u001b[0m \u001b[39m\u001b[39m\u001b[39m\"\"\"\u001b[39;00m\n\u001b[1;32m    139\u001b[0m \u001b[39mInstantiates the driver object.\u001b[39;00m\n\u001b[1;32m    140\u001b[0m \n\u001b[0;32m   (...)\u001b[0m\n\u001b[1;32m    154\u001b[0m \u001b[39m----------\u001b[39;00m\n\u001b[1;32m    155\u001b[0m \u001b[39m\"\"\"\u001b[39;00m\n\u001b[1;32m    157\u001b[0m api \u001b[39m=\u001b[39m DummySpiApi \u001b[39mif\u001b[39;00m is_dummy \u001b[39melse\u001b[39;00m QbloxSpiApi\n\u001b[0;32m--> 158\u001b[0m \u001b[39mself\u001b[39m\u001b[39m.\u001b[39mspi_rack \u001b[39m=\u001b[39m api(address, baud_rate, timeout\u001b[39m=\u001b[39;49mtimeout)\n\u001b[1;32m    160\u001b[0m \u001b[39mself\u001b[39m\u001b[39m.\u001b[39mspi_rack\u001b[39m.\u001b[39munlock()\n\u001b[1;32m    162\u001b[0m \u001b[39mself\u001b[39m\u001b[39m.\u001b[39m_modules \u001b[39m=\u001b[39m {}\n",
      "File \u001b[0;32m~/anaconda3/envs/tac/lib/python3.9/site-packages/spirack/spi_rack.py:54\u001b[0m, in \u001b[0;36mSPI_rack.__init__\u001b[0;34m(self, port, baud, timeout, use_locks)\u001b[0m\n\u001b[1;32m     38\u001b[0m \u001b[39m\u001b[39m\u001b[39m\"\"\"Inits SPI_rack class\u001b[39;00m\n\u001b[1;32m     39\u001b[0m \n\u001b[1;32m     40\u001b[0m \u001b[39mArgs:\u001b[39;00m\n\u001b[0;32m   (...)\u001b[0m\n\u001b[1;32m     51\u001b[0m \u001b[39m    SPI_Rack_1 = SPI_rack(\"COM1\", 1000000, 1)\u001b[39;00m\n\u001b[1;32m     52\u001b[0m \u001b[39m\"\"\"\u001b[39;00m\n\u001b[1;32m     53\u001b[0m \u001b[39mtry\u001b[39;00m:\n\u001b[0;32m---> 54\u001b[0m     \u001b[39msuper\u001b[39;49m(SPI_rack, \u001b[39mself\u001b[39;49m)\u001b[39m.\u001b[39;49m\u001b[39m__init__\u001b[39;49m(port, baud, timeout\u001b[39m=\u001b[39;49mtimeout, write_timeout \u001b[39m=\u001b[39;49m \u001b[39m0\u001b[39;49m)\n\u001b[1;32m     55\u001b[0m \u001b[39mexcept\u001b[39;00m \u001b[39mValueError\u001b[39;00m:\n\u001b[1;32m     56\u001b[0m     \u001b[39mprint\u001b[39m(\u001b[39m\"\u001b[39m\u001b[39mTimout value out of bound.\u001b[39m\u001b[39m\"\u001b[39m)\n",
      "File \u001b[0;32m~/anaconda3/envs/tac/lib/python3.9/site-packages/serial/serialutil.py:244\u001b[0m, in \u001b[0;36mSerialBase.__init__\u001b[0;34m(self, port, baudrate, bytesize, parity, stopbits, timeout, xonxoff, rtscts, write_timeout, dsrdtr, inter_byte_timeout, exclusive, **kwargs)\u001b[0m\n\u001b[1;32m    241\u001b[0m     \u001b[39mraise\u001b[39;00m \u001b[39mValueError\u001b[39;00m(\u001b[39m'\u001b[39m\u001b[39munexpected keyword arguments: \u001b[39m\u001b[39m{!r}\u001b[39;00m\u001b[39m'\u001b[39m\u001b[39m.\u001b[39mformat(kwargs))\n\u001b[1;32m    243\u001b[0m \u001b[39mif\u001b[39;00m port \u001b[39mis\u001b[39;00m \u001b[39mnot\u001b[39;00m \u001b[39mNone\u001b[39;00m:\n\u001b[0;32m--> 244\u001b[0m     \u001b[39mself\u001b[39;49m\u001b[39m.\u001b[39;49mopen()\n",
      "File \u001b[0;32m~/anaconda3/envs/tac/lib/python3.9/site-packages/serial/serialposix.py:325\u001b[0m, in \u001b[0;36mSerial.open\u001b[0;34m(self)\u001b[0m\n\u001b[1;32m    323\u001b[0m \u001b[39mexcept\u001b[39;00m \u001b[39mOSError\u001b[39;00m \u001b[39mas\u001b[39;00m msg:\n\u001b[1;32m    324\u001b[0m     \u001b[39mself\u001b[39m\u001b[39m.\u001b[39mfd \u001b[39m=\u001b[39m \u001b[39mNone\u001b[39;00m\n\u001b[0;32m--> 325\u001b[0m     \u001b[39mraise\u001b[39;00m SerialException(msg\u001b[39m.\u001b[39merrno, \u001b[39m\"\u001b[39m\u001b[39mcould not open port \u001b[39m\u001b[39m{}\u001b[39;00m\u001b[39m: \u001b[39m\u001b[39m{}\u001b[39;00m\u001b[39m\"\u001b[39m\u001b[39m.\u001b[39mformat(\u001b[39mself\u001b[39m\u001b[39m.\u001b[39m_port, msg))\n\u001b[1;32m    326\u001b[0m \u001b[39m#~ fcntl.fcntl(self.fd, fcntl.F_SETFL, 0)  # set blocking\u001b[39;00m\n\u001b[1;32m    328\u001b[0m \u001b[39mself\u001b[39m\u001b[39m.\u001b[39mpipe_abort_read_r, \u001b[39mself\u001b[39m\u001b[39m.\u001b[39mpipe_abort_read_w \u001b[39m=\u001b[39m \u001b[39mNone\u001b[39;00m, \u001b[39mNone\u001b[39;00m\n",
      "\u001b[0;31mSerialException\u001b[0m: [Errno 2] could not open port /dev/ttyACM0: [Errno 2] No such file or directory: '/dev/ttyACM0'"
     ]
    }
   ],
   "source": [
    "from workers.hardware_utils import SpiDAC\n",
    "spi = SpiDAC()\n",
    "dac = spi.create_spi_dac('q13_q14')"
   ]
  },
  {
   "cell_type": "code",
   "execution_count": 1548,
   "metadata": {},
   "outputs": [
    {
     "name": "stdout",
     "output_type": "stream",
     "text": [
      "Coupler parameters q13_q14:\n",
      "parking_current: -0.00075\n"
     ]
    }
   ],
   "source": [
    "import redis\n",
    "redis_connection = redis.Redis(decode_responses=True)\n",
    "couplers = [ 'q13_q14']\n",
    "for coupler in couplers: \n",
    "    print(f\"Coupler parameters {coupler}:\")\n",
    "    redis_config = redis_connection.hgetall(f\"transmons:{coupler}\")\n",
    "    # Print the redis config line by line\n",
    "    for key, value in redis_config.items():\n",
    "        print(f\"{key}: {value}\")"
   ]
  },
  {
   "cell_type": "code",
   "execution_count": 1832,
   "metadata": {},
   "outputs": [
    {
     "data": {
      "text/plain": [
       "-0.000775"
      ]
     },
     "execution_count": 1832,
     "metadata": {},
     "output_type": "execute_result"
    }
   ],
   "source": [
    "coupler = 'q13_q14'\n",
    "transmon_parameter = 'parking_current'\n",
    "for coupler in couplers: \n",
    "    redis_connection.hset(f\"transmons:{coupler}\", f\"{transmon_parameter}\", -775e-6)\n",
    "parking_current = float(redis_connection.hget(f'transmons:{coupler}', 'parking_current'))\n",
    "parking_current"
   ]
  },
  {
   "cell_type": "code",
   "execution_count": 1833,
   "metadata": {},
   "outputs": [],
   "source": [
    "# spi.set_dacs_zero()"
   ]
  },
  {
   "cell_type": "code",
   "execution_count": 1834,
   "metadata": {},
   "outputs": [
    {
     "ename": "PortNotOpenError",
     "evalue": "('Attempting to use a port that is not open', 'setting loki_rack_module1_dac2_current to -0.000775')",
     "output_type": "error",
     "traceback": [
      "\u001b[0;31m---------------------------------------------------------------------------\u001b[0m",
      "\u001b[0;31mPortNotOpenError\u001b[0m                          Traceback (most recent call last)",
      "\u001b[1;32m/home/loke-c/tergite-autocalibration-lite/calib_test.ipynb Cell 8\u001b[0m line \u001b[0;36m1\n\u001b[0;32m----> <a href='vscode-notebook-cell://wsl%2Bubuntu/home/loke-c/tergite-autocalibration-lite/calib_test.ipynb#W6sdnNjb2RlLXJlbW90ZQ%3D%3D?line=0'>1</a>\u001b[0m spi\u001b[39m.\u001b[39;49mset_dac_current(dac, parking_current)\n",
      "File \u001b[0;32m~/tergite-autocalibration-lite/workers/hardware_utils.py:74\u001b[0m, in \u001b[0;36mSpiDAC.set_dac_current\u001b[0;34m(self, dac, parking_current)\u001b[0m\n\u001b[1;32m     73\u001b[0m \u001b[39mdef\u001b[39;00m \u001b[39mset_dac_current\u001b[39m(\u001b[39mself\u001b[39m, dac, parking_current) \u001b[39m-\u001b[39m\u001b[39m>\u001b[39m \u001b[39mNone\u001b[39;00m:\n\u001b[0;32m---> 74\u001b[0m     dac\u001b[39m.\u001b[39;49mcurrent(parking_current)\n\u001b[1;32m     75\u001b[0m     \u001b[39mwhile\u001b[39;00m dac\u001b[39m.\u001b[39mis_ramping():\n\u001b[1;32m     76\u001b[0m         \u001b[39mprint\u001b[39m(\u001b[39mf\u001b[39m\u001b[39m'\u001b[39m\u001b[39mramping \u001b[39m\u001b[39m{\u001b[39;00mdac\u001b[39m.\u001b[39mcurrent()\u001b[39m}\u001b[39;00m\u001b[39m'\u001b[39m)\n",
      "File \u001b[0;32m~/anaconda3/envs/tac/lib/python3.9/site-packages/qcodes/parameters/parameter_base.py:375\u001b[0m, in \u001b[0;36mParameterBase.__call__\u001b[0;34m(self, *args, **kwargs)\u001b[0m\n\u001b[1;32m    373\u001b[0m \u001b[39melse\u001b[39;00m:\n\u001b[1;32m    374\u001b[0m     \u001b[39mif\u001b[39;00m \u001b[39mself\u001b[39m\u001b[39m.\u001b[39msettable:\n\u001b[0;32m--> 375\u001b[0m         \u001b[39mself\u001b[39;49m\u001b[39m.\u001b[39;49mset(\u001b[39m*\u001b[39;49margs, \u001b[39m*\u001b[39;49m\u001b[39m*\u001b[39;49mkwargs)\n\u001b[1;32m    376\u001b[0m         \u001b[39mreturn\u001b[39;00m \u001b[39mNone\u001b[39;00m\n\u001b[1;32m    377\u001b[0m     \u001b[39melse\u001b[39;00m:\n",
      "File \u001b[0;32m~/anaconda3/envs/tac/lib/python3.9/site-packages/qcodes/parameters/parameter_base.py:638\u001b[0m, in \u001b[0;36mParameterBase._wrap_set.<locals>.set_wrapper\u001b[0;34m(value, **kwargs)\u001b[0m\n\u001b[1;32m    636\u001b[0m \u001b[39mexcept\u001b[39;00m \u001b[39mException\u001b[39;00m \u001b[39mas\u001b[39;00m e:\n\u001b[1;32m    637\u001b[0m     e\u001b[39m.\u001b[39margs \u001b[39m=\u001b[39m e\u001b[39m.\u001b[39margs \u001b[39m+\u001b[39m (\u001b[39mf\u001b[39m\u001b[39m\"\u001b[39m\u001b[39msetting \u001b[39m\u001b[39m{\u001b[39;00m\u001b[39mself\u001b[39m\u001b[39m}\u001b[39;00m\u001b[39m to \u001b[39m\u001b[39m{\u001b[39;00mvalue\u001b[39m}\u001b[39;00m\u001b[39m\"\u001b[39m,)\n\u001b[0;32m--> 638\u001b[0m     \u001b[39mraise\u001b[39;00m e\n",
      "File \u001b[0;32m~/anaconda3/envs/tac/lib/python3.9/site-packages/qcodes/parameters/parameter_base.py:623\u001b[0m, in \u001b[0;36mParameterBase._wrap_set.<locals>.set_wrapper\u001b[0;34m(value, **kwargs)\u001b[0m\n\u001b[1;32m    620\u001b[0m \u001b[39m# Start timer to measure execution time of set_function\u001b[39;00m\n\u001b[1;32m    621\u001b[0m t0 \u001b[39m=\u001b[39m time\u001b[39m.\u001b[39mperf_counter()\n\u001b[0;32m--> 623\u001b[0m set_function(raw_val_step, \u001b[39m*\u001b[39;49m\u001b[39m*\u001b[39;49mkwargs)\n\u001b[1;32m    625\u001b[0m \u001b[39m# Update last set time (used for calculating delays)\u001b[39;00m\n\u001b[1;32m    626\u001b[0m \u001b[39mself\u001b[39m\u001b[39m.\u001b[39m_t_last_set \u001b[39m=\u001b[39m time\u001b[39m.\u001b[39mperf_counter()\n",
      "File \u001b[0;32m~/anaconda3/envs/tac/lib/python3.9/site-packages/qcodes/parameters/command.py:209\u001b[0m, in \u001b[0;36mCommand.__call__\u001b[0;34m(self, *args)\u001b[0m\n\u001b[1;32m    207\u001b[0m \u001b[39mif\u001b[39;00m \u001b[39mlen\u001b[39m(args) \u001b[39m!=\u001b[39m \u001b[39mself\u001b[39m\u001b[39m.\u001b[39marg_count:\n\u001b[1;32m    208\u001b[0m     \u001b[39mraise\u001b[39;00m \u001b[39mTypeError\u001b[39;00m(\u001b[39mf\u001b[39m\u001b[39m\"\u001b[39m\u001b[39mcommand takes exactly \u001b[39m\u001b[39m{\u001b[39;00m\u001b[39mself\u001b[39m\u001b[39m.\u001b[39marg_count\u001b[39m}\u001b[39;00m\u001b[39m args\u001b[39m\u001b[39m\"\u001b[39m)\n\u001b[0;32m--> 209\u001b[0m \u001b[39mreturn\u001b[39;00m \u001b[39mself\u001b[39;49m\u001b[39m.\u001b[39;49mexec_function(\u001b[39m*\u001b[39;49margs)\n",
      "File \u001b[0;32m~/anaconda3/envs/tac/lib/python3.9/site-packages/qblox_instruments/native/spi_rack_modules/s4g_module.py:350\u001b[0m, in \u001b[0;36mS4gDacChannel._set_current\u001b[0;34m(self, dac, val)\u001b[0m\n\u001b[1;32m    336\u001b[0m \u001b[39m\u001b[39m\u001b[39m\"\"\"\u001b[39;00m\n\u001b[1;32m    337\u001b[0m \u001b[39mSets the current either through ramping or instantly.\u001b[39;00m\n\u001b[1;32m    338\u001b[0m \n\u001b[0;32m   (...)\u001b[0m\n\u001b[1;32m    347\u001b[0m \u001b[39m----------\u001b[39;00m\n\u001b[1;32m    348\u001b[0m \u001b[39m\"\"\"\u001b[39;00m\n\u001b[1;32m    349\u001b[0m \u001b[39mif\u001b[39;00m \u001b[39mself\u001b[39m\u001b[39m.\u001b[39m_ramping_enabled:\n\u001b[0;32m--> 350\u001b[0m     \u001b[39mself\u001b[39;49m\u001b[39m.\u001b[39;49m_set_current_ramp(dac, val)\n\u001b[1;32m    351\u001b[0m \u001b[39melse\u001b[39;00m:\n\u001b[1;32m    352\u001b[0m     \u001b[39mself\u001b[39m\u001b[39m.\u001b[39mset_current_instant(dac, val)\n",
      "File \u001b[0;32m~/anaconda3/envs/tac/lib/python3.9/site-packages/qblox_instruments/native/spi_rack_modules/s4g_module.py:404\u001b[0m, in \u001b[0;36mS4gDacChannel._set_current_ramp\u001b[0;34m(self, dac, val)\u001b[0m\n\u001b[1;32m    400\u001b[0m     \u001b[39mself\u001b[39m\u001b[39m.\u001b[39m_ramp_thread\u001b[39m.\u001b[39mexit()\n\u001b[1;32m    402\u001b[0m \u001b[39mself\u001b[39m\u001b[39m.\u001b[39m_is_ramping \u001b[39m=\u001b[39m \u001b[39mTrue\u001b[39;00m\n\u001b[0;32m--> 404\u001b[0m val_begin \u001b[39m=\u001b[39m \u001b[39mself\u001b[39;49m\u001b[39m.\u001b[39;49m_get_current(dac)\n\u001b[1;32m    405\u001b[0m num_steps \u001b[39m=\u001b[39m \u001b[39mint\u001b[39m(np\u001b[39m.\u001b[39mceil(np\u001b[39m.\u001b[39mabs(val_begin \u001b[39m-\u001b[39m val) \u001b[39m/\u001b[39m \u001b[39mself\u001b[39m\u001b[39m.\u001b[39m_ramp_max_step))\n\u001b[1;32m    406\u001b[0m vals \u001b[39m=\u001b[39m np\u001b[39m.\u001b[39mlinspace(val_begin, val, num_steps)\n",
      "File \u001b[0;32m~/anaconda3/envs/tac/lib/python3.9/site-packages/qblox_instruments/native/spi_rack_modules/s4g_module.py:332\u001b[0m, in \u001b[0;36mS4gDacChannel._get_current\u001b[0;34m(self, dac)\u001b[0m\n\u001b[1;32m    318\u001b[0m \u001b[39mdef\u001b[39;00m \u001b[39m_get_current\u001b[39m(\u001b[39mself\u001b[39m, dac: \u001b[39mint\u001b[39m) \u001b[39m-\u001b[39m\u001b[39m>\u001b[39m \u001b[39mfloat\u001b[39m:\n\u001b[1;32m    319\u001b[0m \u001b[39m    \u001b[39m\u001b[39m\"\"\"\u001b[39;00m\n\u001b[1;32m    320\u001b[0m \u001b[39m    Gets the current set by the module.\u001b[39;00m\n\u001b[1;32m    321\u001b[0m \n\u001b[0;32m   (...)\u001b[0m\n\u001b[1;32m    330\u001b[0m \u001b[39m        The output current reported by the hardware\u001b[39;00m\n\u001b[1;32m    331\u001b[0m \u001b[39m    \"\"\"\u001b[39;00m\n\u001b[0;32m--> 332\u001b[0m     current, _ \u001b[39m=\u001b[39m \u001b[39mself\u001b[39;49m\u001b[39m.\u001b[39;49m_api\u001b[39m.\u001b[39;49mget_settings(dac)\n\u001b[1;32m    333\u001b[0m     \u001b[39mreturn\u001b[39;00m current\n",
      "File \u001b[0;32m~/anaconda3/envs/tac/lib/python3.9/site-packages/spirack/S4g_module.py:295\u001b[0m, in \u001b[0;36mS4g_module.get_settings\u001b[0;34m(self, vDAC)\u001b[0m\n\u001b[1;32m    292\u001b[0m command \u001b[39m=\u001b[39m \u001b[39m0b1101\u001b[39m\n\u001b[1;32m    293\u001b[0m data \u001b[39m=\u001b[39m \u001b[39mbytearray\u001b[39m([(command\u001b[39m<<\u001b[39m\u001b[39m4\u001b[39m) \u001b[39m|\u001b[39m address, \u001b[39m0\u001b[39m, \u001b[39m0\u001b[39m, \u001b[39m0\u001b[39m])\n\u001b[0;32m--> 295\u001b[0m code_data \u001b[39m=\u001b[39m \u001b[39mself\u001b[39;49m\u001b[39m.\u001b[39;49mspi_rack\u001b[39m.\u001b[39;49mread_data(\u001b[39mself\u001b[39;49m\u001b[39m.\u001b[39;49mmodule, DAC_ic, LTC2758_MODE, LTC2758_RD_SPEED, data)\n\u001b[1;32m    296\u001b[0m code \u001b[39m=\u001b[39m (code_data[\u001b[39m1\u001b[39m]\u001b[39m<<\u001b[39m\u001b[39m10\u001b[39m) \u001b[39m|\u001b[39m (code_data[\u001b[39m2\u001b[39m]\u001b[39m<<\u001b[39m\u001b[39m2\u001b[39m) \u001b[39m|\u001b[39m (code_data[\u001b[39m3\u001b[39m]\u001b[39m>>\u001b[39m\u001b[39m6\u001b[39m)\n\u001b[1;32m    298\u001b[0m \u001b[39m# Read span command\u001b[39;00m\n",
      "File \u001b[0;32m~/anaconda3/envs/tac/lib/python3.9/site-packages/qblox_instruments/native/spi_rack.py:21\u001b[0m, in \u001b[0;36mQbloxSpiApi.read_data\u001b[0;34m(self, module, chip, SPI_mode, SPI_speed, data)\u001b[0m\n\u001b[1;32m     20\u001b[0m \u001b[39mdef\u001b[39;00m \u001b[39mread_data\u001b[39m(\u001b[39mself\u001b[39m, module, chip, SPI_mode, SPI_speed, data):\n\u001b[0;32m---> 21\u001b[0m     \u001b[39mself\u001b[39;49m\u001b[39m.\u001b[39;49munlock()\n\u001b[1;32m     22\u001b[0m     \u001b[39mreturn\u001b[39;00m \u001b[39msuper\u001b[39m()\u001b[39m.\u001b[39mread_data(module, chip, SPI_mode, SPI_speed, data)\n",
      "File \u001b[0;32m~/anaconda3/envs/tac/lib/python3.9/site-packages/spirack/spi_rack.py:338\u001b[0m, in \u001b[0;36mSPI_rack.unlock\u001b[0;34m(self)\u001b[0m\n\u001b[1;32m    336\u001b[0m \u001b[39mwith\u001b[39;00m \u001b[39mself\u001b[39m\u001b[39m.\u001b[39m_tlock:\n\u001b[1;32m    337\u001b[0m     s_data \u001b[39m=\u001b[39m \u001b[39mbytearray\u001b[39m([\u001b[39mord\u001b[39m(\u001b[39m'\u001b[39m\u001b[39mu\u001b[39m\u001b[39m'\u001b[39m)])\n\u001b[0;32m--> 338\u001b[0m     \u001b[39mself\u001b[39;49m\u001b[39m.\u001b[39;49mwrite(s_data)\n",
      "File \u001b[0;32m~/anaconda3/envs/tac/lib/python3.9/site-packages/serial/serialposix.py:615\u001b[0m, in \u001b[0;36mSerial.write\u001b[0;34m(self, data)\u001b[0m\n\u001b[1;32m    613\u001b[0m \u001b[39m\u001b[39m\u001b[39m\"\"\"Output the given byte string over the serial port.\"\"\"\u001b[39;00m\n\u001b[1;32m    614\u001b[0m \u001b[39mif\u001b[39;00m \u001b[39mnot\u001b[39;00m \u001b[39mself\u001b[39m\u001b[39m.\u001b[39mis_open:\n\u001b[0;32m--> 615\u001b[0m     \u001b[39mraise\u001b[39;00m PortNotOpenError()\n\u001b[1;32m    616\u001b[0m d \u001b[39m=\u001b[39m to_bytes(data)\n\u001b[1;32m    617\u001b[0m tx_len \u001b[39m=\u001b[39m length \u001b[39m=\u001b[39m \u001b[39mlen\u001b[39m(d)\n",
      "\u001b[0;31mPortNotOpenError\u001b[0m: ('Attempting to use a port that is not open', 'setting loki_rack_module1_dac2_current to -0.000775')"
     ]
    }
   ],
   "source": [
    "spi.set_dac_current(dac, parking_current)"
   ]
  },
  {
   "cell_type": "code",
   "execution_count": 1825,
   "metadata": {},
   "outputs": [
    {
     "name": "stdout",
     "output_type": "stream",
     "text": [
      " remove_node = 'all'\n"
     ]
    }
   ],
   "source": [
    "!python reset_redis.py all"
   ]
  },
  {
   "cell_type": "code",
   "execution_count": 1826,
   "metadata": {},
   "outputs": [],
   "source": [
    "# !python reset_redis.py 'resonator_spectroscopy'\n",
    "# !python reset_redis.py 'qubit_01_spectroscopy_multidim'\n",
    "# !python reset_redis.py 'rabi_oscillations'\n",
    "# !python reset_redis.py 'ramsey_correction'\n",
    "# !python reset_redis.py 'motzoi_parameter'\n",
    "# !python reset_redis.py 'n_rabi_oscillations'\n",
    "# !python reset_redis.py 'resonator_spectroscopy_1'\n",
    "# !python reset_redis.py 'qubit_12_spectroscopy_multidim'\n",
    "# !python reset_redis.py 'rabi_oscillations_12'\n",
    "# !python reset_redis.py 'ramsey_correction_12'\n",
    "# !python reset_redis.py 'resonator_spectroscopy_2'\n",
    "# !python reset_redis.py 'coupler_spectroscopy'\n",
    "# !python reset_redis.py 'cz_chevron'\n",
    "# !python reset_redis.py 'cz_calibration'\n",
    "# !python reset_redis.py 'cz_calibration_ssro'\n",
    "# !python reset_redis.py 'ro_frequency_optimization_gef'\n",
    "# !python reset_redis.py 'ro_amplitude_optimization_gef'"
   ]
  },
  {
   "cell_type": "code",
   "execution_count": 1831,
   "metadata": {},
   "outputs": [
    {
     "name": "stdout",
     "output_type": "stream",
     "text": [
      "clusterA_module13_att:40dB\n",
      "clusterA_module17_att:16dB\n",
      "2023-12-31 14:17:52,762 ◆ calibration_supervisor.py ◆ Starting System Calibration\n",
      "╔═════════════════════════════════════════════════════════════════════════════════════════════════════════════════════════════════════════════════════════════════════════════════════════════════════════════╗\n",
      "║ Qubits: 2                                                                                                                                                                                                   ║\n",
      "║↪ resonator_spectroscopy                                                                                                                                                                                     ║\n",
      "║           ↪ qubit_01_spectroscopy_multidim                                                                                                                                                                  ║\n",
      "║                          ↪ rabi_oscillations                                                                                                                                                                ║\n",
      "║                                  ↪ ramsey_correction                                                                                                                                                        ║\n",
      "║                                          ↪ motzoi_parameter                                                                                                                                                 ║\n",
      "║                                                  ↪ n_rabi_oscillations                                                                                                                                      ║\n",
      "║                                                           ↪ resonator_spectroscopy_1                                                                                                                        ║\n",
      "║                                                                       ↪ qubit_12_spectroscopy_multidim                                                                                                      ║\n",
      "║                                                                                      ↪ rabi_oscillations_12                                                                                                 ║\n",
      "║                                                                                                ↪ ramsey_correction_12                                                                                       ║\n",
      "║                                                                                                          ↪ resonator_spectroscopy_2                                                                         ║\n",
      "║                                                                                                                      ↪ ro_frequency_optimization_gef                                                        ║\n",
      "║                                                                                                                                    ↪ ro_amplitude_optimization_gef                                          ║\n",
      "║                                                                                                                                                  ↪ cz_chevron                                               ║\n",
      "║                                                                                                                                                       ↪ cz_calibration                                      ║\n",
      "║                                                                                                                                                              ↪ cz_calibration_ssro                          ║\n",
      "╚═════════════════════════════════════════════════════════════════════════════════════════════════════════════════════════════════════════════════════════════════════════════════════════════════════════════╝\n",
      "2023-12-31 14:17:52,775 ◆ calibration_supervisor.py ◆ Inspecting node resonator_spectroscopy\n",
      " ✔  \u001b[32m\u001b[1mNode resonator_spectroscopy in spec\u001b[0m\n",
      "2023-12-31 14:17:52,776 ◆ calibration_supervisor.py ◆ resonator_spectroscopy node is completed\n",
      "2023-12-31 14:17:52,776 ◆ calibration_supervisor.py ◆ Inspecting node qubit_01_spectroscopy_multidim\n",
      " ✔  \u001b[32m\u001b[1mNode qubit_01_spectroscopy_multidim in spec\u001b[0m\n",
      "2023-12-31 14:17:52,776 ◆ calibration_supervisor.py ◆ qubit_01_spectroscopy_multidim node is completed\n",
      "2023-12-31 14:17:52,776 ◆ calibration_supervisor.py ◆ Inspecting node rabi_oscillations\n",
      " ✔  \u001b[32m\u001b[1mNode rabi_oscillations in spec\u001b[0m\n",
      "2023-12-31 14:17:52,777 ◆ calibration_supervisor.py ◆ rabi_oscillations node is completed\n",
      "2023-12-31 14:17:52,777 ◆ calibration_supervisor.py ◆ Inspecting node ramsey_correction\n",
      " ✔  \u001b[32m\u001b[1mNode ramsey_correction in spec\u001b[0m\n",
      "2023-12-31 14:17:52,777 ◆ calibration_supervisor.py ◆ ramsey_correction node is completed\n",
      "2023-12-31 14:17:52,777 ◆ calibration_supervisor.py ◆ Inspecting node motzoi_parameter\n",
      " ✔  \u001b[32m\u001b[1mNode motzoi_parameter in spec\u001b[0m\n",
      "2023-12-31 14:17:52,778 ◆ calibration_supervisor.py ◆ motzoi_parameter node is completed\n",
      "2023-12-31 14:17:52,778 ◆ calibration_supervisor.py ◆ Inspecting node n_rabi_oscillations\n",
      " ✔  \u001b[32m\u001b[1mNode n_rabi_oscillations in spec\u001b[0m\n",
      "2023-12-31 14:17:52,778 ◆ calibration_supervisor.py ◆ n_rabi_oscillations node is completed\n",
      "2023-12-31 14:17:52,778 ◆ calibration_supervisor.py ◆ Inspecting node resonator_spectroscopy_1\n",
      " ✔  \u001b[32m\u001b[1mNode resonator_spectroscopy_1 in spec\u001b[0m\n",
      "2023-12-31 14:17:52,779 ◆ calibration_supervisor.py ◆ resonator_spectroscopy_1 node is completed\n",
      "2023-12-31 14:17:52,779 ◆ calibration_supervisor.py ◆ Inspecting node qubit_12_spectroscopy_multidim\n",
      " ✔  \u001b[32m\u001b[1mNode qubit_12_spectroscopy_multidim in spec\u001b[0m\n",
      "2023-12-31 14:17:52,779 ◆ calibration_supervisor.py ◆ qubit_12_spectroscopy_multidim node is completed\n",
      "2023-12-31 14:17:52,779 ◆ calibration_supervisor.py ◆ Inspecting node rabi_oscillations_12\n",
      " ✔  \u001b[32m\u001b[1mNode rabi_oscillations_12 in spec\u001b[0m\n",
      "2023-12-31 14:17:52,779 ◆ calibration_supervisor.py ◆ rabi_oscillations_12 node is completed\n",
      "2023-12-31 14:17:52,779 ◆ calibration_supervisor.py ◆ Inspecting node ramsey_correction_12\n",
      " ✔  \u001b[32m\u001b[1mNode ramsey_correction_12 in spec\u001b[0m\n",
      "2023-12-31 14:17:52,780 ◆ calibration_supervisor.py ◆ ramsey_correction_12 node is completed\n",
      "2023-12-31 14:17:52,780 ◆ calibration_supervisor.py ◆ Inspecting node resonator_spectroscopy_2\n",
      " ✔  \u001b[32m\u001b[1mNode resonator_spectroscopy_2 in spec\u001b[0m\n",
      "2023-12-31 14:17:52,780 ◆ calibration_supervisor.py ◆ resonator_spectroscopy_2 node is completed\n",
      "2023-12-31 14:17:52,780 ◆ calibration_supervisor.py ◆ Inspecting node ro_frequency_optimization_gef\n",
      " ✔  \u001b[32m\u001b[1mNode ro_frequency_optimization_gef in spec\u001b[0m\n",
      "2023-12-31 14:17:52,781 ◆ calibration_supervisor.py ◆ ro_frequency_optimization_gef node is completed\n",
      "2023-12-31 14:17:52,781 ◆ calibration_supervisor.py ◆ Inspecting node ro_amplitude_optimization_gef\n",
      " ✔  \u001b[32m\u001b[1mNode ro_amplitude_optimization_gef in spec\u001b[0m\n",
      "2023-12-31 14:17:52,781 ◆ calibration_supervisor.py ◆ ro_amplitude_optimization_gef node is completed\n",
      "2023-12-31 14:17:52,781 ◆ calibration_supervisor.py ◆ Inspecting node cz_chevron\n",
      "⚑⚑⚑ \u001b[31m\u001b[1mCalibration required for Node cz_chevron\u001b[0m\n",
      "2023-12-31 14:17:52,782 ◆ calibration_supervisor.py ◆ Calibrating node cz_chevron\n",
      " kwargs = {'couplers': ['q13_q14']}\n",
      "[10390938.699531555, 450470989.93416786]\n",
      " ac_freq/1e6 = 450.47 MHz\n",
      " self.coupled_qubits = ['q13', 'q14']\n",
      "2023-12-31 14:17:52,847 ◆ compilation_worker.py ◆ Starting Compiling\n",
      "2023-12-31 14:17:53,175 ◆ compilation_worker.py ◆ Finished Compiling\n",
      "2023-12-31 14:17:53,176 ◆ measurement_utils.py ◆ Starting measurement\n",
      " schedule_duration = 166.77778636799928\n",
      "CZ_chevron: 100%|\u001b[34m█████████████████████████████\u001b[0m| 833/833 [02:46<00:00,  4.99it/s]\u001b[0m\n",
      "2023-12-31 14:20:42,781 ◆ measurement_utils.py ◆ Raw dataset acquired\n",
      "2023-12-31 14:20:42,797 ◆ execution_worker.py ◆ Finished measurement\n",
      "2023-12-31 14:20:42,797 ◆ calibration_supervisor.py ◆ measurement completed\n",
      "448.87909090909096 244.96452142221645\n",
      "449.1821212121212 238.97945607901795\n",
      "2023-12-31 14:20:55,157 ◆ calibration_supervisor.py ◆ analysis completed\n",
      "2023-12-31 14:20:55,157 ◆ calibration_supervisor.py ◆ cz_chevron node is completed\n",
      "2023-12-31 14:20:55,157 ◆ calibration_supervisor.py ◆ Inspecting node cz_calibration\n",
      "⚑⚑⚑ \u001b[31m\u001b[1mCalibration required for Node cz_calibration\u001b[0m\n",
      "2023-12-31 14:20:55,158 ◆ calibration_supervisor.py ◆ Calibrating node cz_calibration\n",
      " kwargs = {'couplers': ['q13_q14']}\n",
      "['q13_q14']\n",
      "['q13', 'q14']\n",
      "qubits = [['q13', 'q14']]\n",
      "target = array(['q13'], dtype='<U3')\n",
      "control = array(['q14'], dtype='<U3')\n",
      "cz_pulse_frequency = {'q13_q14': 448879090.90909094}\n",
      "cz_pulse_duration = {'q13_q14': 2.48e-07}\n",
      "2023-12-31 14:20:55,181 ◆ compilation_worker.py ◆ Starting Compiling\n",
      "2023-12-31 14:20:55,239 ◆ compilation_worker.py ◆ Finished Compiling\n",
      "2023-12-31 14:20:55,240 ◆ measurement_utils.py ◆ Starting measurement\n",
      " schedule_duration = 38.30154854400015\n",
      "CZ_calibration: 100%|\u001b[34m█████████████████████████\u001b[0m| 191/191 [00:38<00:00,  4.99it/s]\u001b[0m\n",
      "2023-12-31 14:21:34,617 ◆ measurement_utils.py ◆ Raw dataset acquired\n",
      "2023-12-31 14:21:34,624 ◆ execution_worker.py ◆ Finished measurement\n",
      "2023-12-31 14:21:34,624 ◆ calibration_supervisor.py ◆ measurement completed\n",
      "[[[373.714 284.132]]\n",
      "\n",
      " [[ 60.235   2.215]]]\n",
      "2023-12-31 14:21:46,867 ◆ calibration_supervisor.py ◆ analysis completed\n",
      "2023-12-31 14:21:46,867 ◆ calibration_supervisor.py ◆ cz_calibration node is completed\n",
      "2023-12-31 14:21:46,867 ◆ calibration_supervisor.py ◆ Inspecting node cz_calibration_ssro\n",
      "⚑⚑⚑ \u001b[31m\u001b[1mCalibration required for Node cz_calibration_ssro\u001b[0m\n",
      "2023-12-31 14:21:46,868 ◆ calibration_supervisor.py ◆ Calibrating node cz_calibration_ssro\n",
      " kwargs = {'couplers': ['q13_q14']}\n",
      "['q13_q14']\n",
      "['q13', 'q14']\n",
      "target = array(['q13'], dtype='<U3')\n",
      "control = array(['q14'], dtype='<U3')\n",
      "cz_pulse_frequency = {'q13_q14': 448879090.90909094}\n",
      "cz_pulse_duration = {'q13_q14': 2.48e-07}\n",
      "2023-12-31 14:21:46,899 ◆ compilation_worker.py ◆ Starting Compiling\n",
      "2023-12-31 14:21:46,974 ◆ compilation_worker.py ◆ Finished Compiling\n",
      "2023-12-31 14:21:46,975 ◆ measurement_utils.py ◆ Starting measurement\n",
      " schedule_duration = 0.03860422400000007\n",
      "CZ_calibration_ssro: 0it [00:00, ?it/s]\n",
      "/home/loke-c/anaconda3/envs/tac/lib/python3.9/site-packages/quantify_scheduler/instrument_coordinator/components/qblox.py:1209: FutureWarning: The format of acquisition data of looped measurements in APPEND mode will change in quantify-scheduler>=0.18.0\n",
      "  warnings.warn(\n",
      "2023-12-31 14:22:28,479 ◆ measurement_utils.py ◆ Raw dataset acquired\n",
      "2023-12-31 14:22:28,491 ◆ execution_worker.py ◆ Finished measurement\n",
      "2023-12-31 14:22:28,491 ◆ calibration_supervisor.py ◆ measurement completed\n",
      "2023-12-31 14:22:41,032 ◆ calibration_supervisor.py ◆ analysis completed\n",
      "2023-12-31 14:22:41,032 ◆ calibration_supervisor.py ◆ cz_calibration_ssro node is completed\n",
      "2023-12-31 14:22:41,032 ◆ calibration_supervisor.py ◆ calibration completed, closing cluster\n",
      "\u001b[0m"
     ]
    }
   ],
   "source": [
    "!python workers/calibration_supervisor.py"
   ]
  },
  {
   "cell_type": "markdown",
   "metadata": {},
   "source": [
    "# CZ_calibration Data Broswing"
   ]
  },
  {
   "cell_type": "code",
   "execution_count": 1828,
   "metadata": {},
   "outputs": [
    {
     "name": "stdout",
     "output_type": "stream",
     "text": [
      "20231231-121410-941-404eaf-cz_calibration_ssro\n"
     ]
    }
   ],
   "source": [
    "import numpy as np\n",
    "import matplotlib.pyplot as plt\n",
    "from xarray import load_dataset\n",
    "from workers.post_processing_worker import Multiplexed_Analysis\n",
    "# dp = r\"data_directory/20231106/20231106-155442-755-1ff0de-cz_chevron/dataset.hdf5\"\n",
    "# name = '20231226-175522-736-99b290-cz_calibration_ssro'\n",
    "\n",
    "from os import listdir\n",
    "date = '20231231'\n",
    "path = f'data_directory/{date}'\n",
    "names = np.sort(listdir(path))\n",
    "name = names[-1]\n",
    "name = '20231231-121410-941-404eaf-cz_calibration_ssro'\n",
    "print(name)\n",
    "dp = f'data_directory/{date}/{name}/dataset.hdf5'\n",
    "ds = load_dataset(dp)"
   ]
  },
  {
   "cell_type": "code",
   "execution_count": 1829,
   "metadata": {},
   "outputs": [
    {
     "name": "stdout",
     "output_type": "stream",
     "text": [
      "assignment = 0.6695963541666666\n",
      "assignment = 0.6549479166666666\n"
     ]
    },
    {
     "data": {
      "image/png": "[encoded data removed]",
      "text/plain": [
       "<Figure size 640x480 with 1 Axes>"
      ]
     },
     "metadata": {},
     "output_type": "display_data"
    },
    {
     "name": "stdout",
     "output_type": "stream",
     "text": [
      "assignment = 0.6761067708333334\n",
      "assignment = 0.6494140625\n"
     ]
    },
    {
     "data": {
      "image/png": "[encoded data removed]",
      "text/plain": [
       "<Figure size 640x480 with 1 Axes>"
      ]
     },
     "metadata": {},
     "output_type": "display_data"
    }
   ],
   "source": [
    "import numpy as np\n",
    "import redis\n",
    "import xarray as xr\n",
    "from sklearn.discriminant_analysis import LinearDiscriminantAnalysis\n",
    "from sklearn.metrics import confusion_matrix,ConfusionMatrixDisplay\n",
    "import matplotlib.pyplot as plt\n",
    "from scipy.linalg import norm\n",
    "from scipy.optimize import minimize\n",
    "from numpy.linalg import inv\n",
    "\n",
    "def mitigate(v,cm_inv):\n",
    "    u = np.dot(v,cm_inv)\n",
    "    # print(u,np.sum(u))\n",
    "    def m(t):\n",
    "        return norm(u-np.array(t))\n",
    "    def con(t):\n",
    "        return t[0]+t[1]+t[2]-1\n",
    "    cons = ({'type': 'eq', 'fun': con},\n",
    "            {'type': 'ineq', 'fun': lambda t: t[0]},\n",
    "            {'type': 'ineq', 'fun': lambda t: t[1]},\n",
    "            {'type': 'ineq', 'fun': lambda t: t[2]})\n",
    "    result = minimize(m, v, method='SLSQP', constraints=cons)\n",
    "    w = np.abs(np.round(result.x,10))\n",
    "    # print(w)\n",
    "    return w\n",
    "\n",
    "dataset = ds\n",
    "for qubit in ['q13','q14']:\n",
    "# qubit = 'q13'\n",
    "    data_var = f'y{qubit}'\n",
    "\n",
    "    for coord in dataset.coords:\n",
    "        if f'control_ons{qubit}' in str(coord):\n",
    "            sweep_coord = coord\n",
    "        elif f'ramsey_phases{qubit}' in str(coord):\n",
    "            state_coord = coord\n",
    "        elif 'shot' in str(coord):\n",
    "            shot_coord = coord\n",
    "\n",
    "    independents = dataset[state_coord].values[:-3]\n",
    "    calibs = dataset[state_coord].values[-3:]\n",
    "    sweeps = dataset.coords[sweep_coord]\n",
    "    shots = len(dataset[shot_coord].values)\n",
    "    magnitudes = []\n",
    "    for indx, _ in enumerate(sweeps):\n",
    "        # indx = 0\n",
    "        # print(f'{indx = }')\n",
    "        # print(f'{ro_amplitude.values = }')\n",
    "        y = np.repeat(calibs,shots)\n",
    "        IQ_complex = np.array([])\n",
    "        for state, _ in enumerate(calibs):\n",
    "            IQ_complex_0 = dataset[data_var].isel({sweep_coord:indx,state_coord:-3+state})\n",
    "            IQ_complex = np.append(IQ_complex,IQ_complex_0)\n",
    "        # IQ = np.array([I,Q]).T\n",
    "        IQ = IQ_complex.reshape(-1,2)\n",
    "        lda = LinearDiscriminantAnalysis(solver = \"svd\", store_covariance=True)\n",
    "        # breakpoint()\n",
    "        # print(IQ)\n",
    "        cla = lda.fit(IQ,y)\n",
    "        y_pred = cla.predict(IQ)\n",
    "\n",
    "        cm = confusion_matrix(y,y_pred)\n",
    "        cm_norm = confusion_matrix(y,y_pred,normalize='true')\n",
    "        cm_inv = inv(cm_norm)\n",
    "        assignment = np.trace(cm_norm)/len(calibs)\n",
    "        print(f'{assignment = }')\n",
    "\n",
    "        # disp = ConfusionMatrixDisplay(confusion_matrix=cm_norm)\n",
    "        # disp.plot()\n",
    "        # plt.show()\n",
    "\n",
    "        raw_data = dataset[data_var].isel({sweep_coord:indx}).values\n",
    "        raw_shape = raw_data.shape\n",
    "        data_y_pred = cla.predict(raw_data.reshape(-1,2))\n",
    "        data_y_pred = np.transpose(data_y_pred.reshape(raw_shape[:-1]))\n",
    "        # print(data_y_pred.shape)\n",
    "        # print(data_y_pred)\n",
    "        data_res_shape = list(data_y_pred.shape[:-1])\n",
    "        data_res_shape.append(len(calibs))\n",
    "\n",
    "        data_res = np.array([])\n",
    "        for index_2, sweep_2 in enumerate(data_y_pred):\n",
    "            uniques, counts = np.unique(sweep_2, return_counts=True)\n",
    "            raw_prob = counts/len(sweep_2)\n",
    "            # print(raw_prob)\n",
    "            mitigate_prob = mitigate(raw_prob,cm_inv)\n",
    "            data_res = np.append(data_res,mitigate_prob)\n",
    "            # print(mitigate_prob)\n",
    "        data_res = data_res.reshape(data_res_shape)\n",
    "        magnitudes.append(data_res)\n",
    "    magnitudes = np.array(magnitudes)\n",
    "    marker = ['-','--']\n",
    "    legend = ['off','on']\n",
    "    x = range(4)\n",
    "    # colors = plt.get_cmap('RdBu_r')(np.linspace(0.2, 0.8, len(x)))\n",
    "    # colors = plt.get_cmap('RdYlGn')(np.linspace(0.2, 0.8, 2))\n",
    "    colors = plt.get_cmap('tab20c')\n",
    "    for index,magnitude in enumerate(magnitudes):\n",
    "        plt.plot(independents,magnitude[:-3,0],f'{marker[index]}',c=colors(1),label=f'0_{legend[index]}')\n",
    "        plt.plot(independents,magnitude[:-3,1],f'{marker[index]}',c=colors(1+4),label=f'1_{legend[index]}')\n",
    "        plt.plot(independents,magnitude[:-3,2],f'{marker[index]}',c=colors(1+4*2),label=f'2_{legend[index]}')\n",
    "        plt.ylim(-0.01,1.01)\n",
    "        plt.legend(loc = 'upper right')\n",
    "        # plt.xlim(np.min(independents),np.max(independents))\n",
    "    plt.title(f'cz_calibration_ssro_{qubit}')\n",
    "    plt.savefig(f'{path}/{name}/cz_calibration_ssro_{qubit}.png')\n",
    "    plt.show()"
   ]
  },
  {
   "cell_type": "code",
   "execution_count": 1830,
   "metadata": {},
   "outputs": [
    {
     "name": "stdout",
     "output_type": "stream",
     "text": [
      "[0.4        0.74117647 0.38823529 1.        ]\n"
     ]
    }
   ],
   "source": [
    "colors = plt.get_cmap('RdYlGn')(np.linspace(0.2, 0.8, 2))\n",
    "print(colors[1])"
   ]
  },
  {
   "cell_type": "code",
   "execution_count": 1780,
   "metadata": {},
   "outputs": [
    {
     "name": "stdout",
     "output_type": "stream",
     "text": [
      "<matplotlib.colors.ListedColormap object at 0x7f35694fba60>\n"
     ]
    }
   ],
   "source": [
    "print(colors)"
   ]
  },
  {
   "cell_type": "code",
   "execution_count": 1770,
   "metadata": {},
   "outputs": [
    {
     "data": {
      "text/plain": [
       "array([[0.95328687, 1.        , 0.97489076, 0.98119963, 0.95625897,\n",
       "        0.97826324, 0.97291053, 0.99195332, 0.96982418, 1.        ,\n",
       "        0.95966036, 0.95933393, 0.95112348, 0.99720885, 0.9554089 ,\n",
       "        0.98439055, 0.93278169, 0.99826859, 1.        , 0.98239483,\n",
       "        0.96128176, 0.93895345, 0.96381981, 0.98376218, 0.91227093,\n",
       "        0.95988543, 0.95262008, 0.96938914, 0.97041375, 0.9554089 ,\n",
       "        0.9835155 ],\n",
       "       [0.57196983, 0.62658829, 0.55304507, 0.57090802, 0.56681152,\n",
       "        0.57872153, 0.57781171, 0.55342449, 0.55171574, 0.56521868,\n",
       "        0.57140295, 0.55482668, 0.53874458, 0.57462524, 0.63326385,\n",
       "        0.51777045, 0.58888649, 0.56366518, 0.59009961, 0.56085663,\n",
       "        0.57303289, 0.56764709, 0.57985954, 0.55793859, 0.61847084,\n",
       "        0.53434505, 0.56776091, 0.55990903, 0.54272767, 0.61843364,\n",
       "        0.58206046]])"
      ]
     },
     "execution_count": 1770,
     "metadata": {},
     "output_type": "execute_result"
    }
   ],
   "source": [
    "magnitudes[:,:-3,0]"
   ]
  },
  {
   "cell_type": "code",
   "execution_count": null,
   "metadata": {},
   "outputs": [],
   "source": [
    "# %matplotlib inline\n",
    "# qubit = 'q13'\n",
    "# ds0 = ds[f'y{qubit}']\n",
    "# ds0 = (ds0.values).reshape(1024*34*2,2)\n",
    "# # print(ds0)\n",
    "# plt.plot(ds0[:,0],ds0[:,1],'.r')\n",
    "# plt.show()\n",
    "\n",
    "# qubit = 'q14'\n",
    "# ds0 = ds[f'y{qubit}']\n",
    "# ds0 = (ds0.values).reshape(1024*34*2,2)\n",
    "# # print(ds0)\n",
    "# plt.plot(ds0[:,0],ds0[:,1],'.b')\n",
    "# plt.show()"
   ]
  },
  {
   "cell_type": "code",
   "execution_count": null,
   "metadata": {},
   "outputs": [],
   "source": [
    "# %matplotlib inline\n",
    "# qubit = 'q13'\n",
    "\n",
    "# ds0 = ds[f'y{qubit}'].sel(ramsey_phasesq13='c0',control_onsq13=False )\n",
    "# ds1 = ds[f'y{qubit}'].sel(ramsey_phasesq13='c1',control_onsq13=False )\n",
    "# ds2 = ds[f'y{qubit}'].sel(ramsey_phasesq13='c2',control_onsq13=False )\n",
    "\n",
    "# plt.plot(ds0[:,0].values,ds0[:,1].values,'.r')\n",
    "# plt.plot(ds1[:,0].values,ds1[:,1].values,'.b')\n",
    "# plt.plot(ds2[:,0].values,ds2[:,1].values,'.g')\n",
    "# plt.show()\n",
    "\n",
    "# %matplotlib inline\n",
    "# qubit = 'q14'\n",
    "\n",
    "# ds0 = ds[f'y{qubit}'].sel(ramsey_phasesq14='c0',control_onsq14=False )\n",
    "# ds1 = ds[f'y{qubit}'].sel(ramsey_phasesq14='c1',control_onsq14=False )\n",
    "# ds2 = ds[f'y{qubit}'].sel(ramsey_phasesq14='c2',control_onsq14=False )\n",
    "\n",
    "# plt.plot(ds0[:,0].values,ds0[:,1].values,'.r')\n",
    "# plt.plot(ds1[:,0].values,ds1[:,1].values,'.b')\n",
    "# plt.plot(ds2[:,0].values,ds2[:,1].values,'.g')\n",
    "# plt.show()"
   ]
  },
  {
   "cell_type": "code",
   "execution_count": null,
   "metadata": {},
   "outputs": [],
   "source": [
    "# nested join using join()\n",
    "my_string = \",\".join(str(element) for element in list(cm_inv.flatten()))\n",
    "print(my_string)"
   ]
  },
  {
   "cell_type": "code",
   "execution_count": null,
   "metadata": {},
   "outputs": [
    {
     "name": "stdout",
     "output_type": "stream",
     "text": [
      "[[ 1.36277471 -0.15911288 -0.20366183]\n",
      " [-0.29625934  1.42344841 -0.12718907]\n",
      " [-0.14756231 -0.02953404  1.17709634]]\n"
     ]
    }
   ],
   "source": [
    "my_list = my_string.split(\",\")\n",
    "size = int(len(my_list)**0.5)\n",
    "my_list = np.array([float(i) for i in my_list]).reshape(size,size)\n",
    "\n",
    "print(my_list)"
   ]
  },
  {
   "cell_type": "markdown",
   "metadata": {},
   "source": [
    "# ro_amplitude_optimization_gef Data Broswing"
   ]
  },
  {
   "cell_type": "code",
   "execution_count": null,
   "metadata": {},
   "outputs": [],
   "source": [
    "import numpy as np\n",
    "import matplotlib.pyplot as plt\n",
    "from xarray import load_dataset\n",
    "from workers.post_processing_worker import Multiplexed_Analysis\n",
    "# dp = r\"data_directory/20231106/20231106-155442-755-1ff0de-cz_chevron/dataset.hdf5\"\n",
    "name = '20231225-165135-093-09e0cd-cz_calibration_ssro'\n",
    "dp = f'data_directory/{name[:8]}/{name}/dataset.hdf5'"
   ]
  },
  {
   "cell_type": "code",
   "execution_count": null,
   "metadata": {},
   "outputs": [
    {
     "data": {
      "text/html": [
       "<div><svg style=\"position: absolute; width: 0; height: 0; overflow: hidden\">\n",
       "<defs>\n",
       "<symbol id=\"icon-database\" viewBox=\"0 0 32 32\">\n",
       "<path d=\"M16 0c-8.837 0-16 2.239-16 5v4c0 2.761 7.163 5 16 5s16-2.239 16-5v-4c0-2.761-7.163-5-16-5z\"></path>\n",
       "<path d=\"M16 17c-8.837 0-16-2.239-16-5v6c0 2.761 7.163 5 16 5s16-2.239 16-5v-6c0 2.761-7.163 5-16 5z\"></path>\n",
       "<path d=\"M16 26c-8.837 0-16-2.239-16-5v6c0 2.761 7.163 5 16 5s16-2.239 16-5v-6c0 2.761-7.163 5-16 5z\"></path>\n",
       "</symbol>\n",
       "<symbol id=\"icon-file-text2\" viewBox=\"0 0 32 32\">\n",
       "<path d=\"M28.681 7.159c-0.694-0.947-1.662-2.053-2.724-3.116s-2.169-2.030-3.116-2.724c-1.612-1.182-2.393-1.319-2.841-1.319h-15.5c-1.378 0-2.5 1.121-2.5 2.5v27c0 1.378 1.122 2.5 2.5 2.5h23c1.378 0 2.5-1.122 2.5-2.5v-19.5c0-0.448-0.137-1.23-1.319-2.841zM24.543 5.457c0.959 0.959 1.712 1.825 2.268 2.543h-4.811v-4.811c0.718 0.556 1.584 1.309 2.543 2.268zM28 29.5c0 0.271-0.229 0.5-0.5 0.5h-23c-0.271 0-0.5-0.229-0.5-0.5v-27c0-0.271 0.229-0.5 0.5-0.5 0 0 15.499-0 15.5 0v7c0 0.552 0.448 1 1 1h7v19.5z\"></path>\n",
       "<path d=\"M23 26h-14c-0.552 0-1-0.448-1-1s0.448-1 1-1h14c0.552 0 1 0.448 1 1s-0.448 1-1 1z\"></path>\n",
       "<path d=\"M23 22h-14c-0.552 0-1-0.448-1-1s0.448-1 1-1h14c0.552 0 1 0.448 1 1s-0.448 1-1 1z\"></path>\n",
       "<path d=\"M23 18h-14c-0.552 0-1-0.448-1-1s0.448-1 1-1h14c0.552 0 1 0.448 1 1s-0.448 1-1 1z\"></path>\n",
       "</symbol>\n",
       "</defs>\n",
       "</svg>\n",
       "<style>/* CSS stylesheet for displaying xarray objects in jupyterlab.\n",
       " *\n",
       " */\n",
       "\n",
       ":root {\n",
       "  --xr-font-color0: var(--jp-content-font-color0, rgba(0, 0, 0, 1));\n",
       "  --xr-font-color2: var(--jp-content-font-color2, rgba(0, 0, 0, 0.54));\n",
       "  --xr-font-color3: var(--jp-content-font-color3, rgba(0, 0, 0, 0.38));\n",
       "  --xr-border-color: var(--jp-border-color2, #e0e0e0);\n",
       "  --xr-disabled-color: var(--jp-layout-color3, #bdbdbd);\n",
       "  --xr-background-color: var(--jp-layout-color0, white);\n",
       "  --xr-background-color-row-even: var(--jp-layout-color1, white);\n",
       "  --xr-background-color-row-odd: var(--jp-layout-color2, #eeeeee);\n",
       "}\n",
       "\n",
       "html[theme=dark],\n",
       "body[data-theme=dark],\n",
       "body.vscode-dark {\n",
       "  --xr-font-color0: rgba(255, 255, 255, 1);\n",
       "  --xr-font-color2: rgba(255, 255, 255, 0.54);\n",
       "  --xr-font-color3: rgba(255, 255, 255, 0.38);\n",
       "  --xr-border-color: #1F1F1F;\n",
       "  --xr-disabled-color: #515151;\n",
       "  --xr-background-color: #111111;\n",
       "  --xr-background-color-row-even: #111111;\n",
       "  --xr-background-color-row-odd: #313131;\n",
       "}\n",
       "\n",
       ".xr-wrap {\n",
       "  display: block !important;\n",
       "  min-width: 300px;\n",
       "  max-width: 700px;\n",
       "}\n",
       "\n",
       ".xr-text-repr-fallback {\n",
       "  /* fallback to plain text repr when CSS is not injected (untrusted notebook) */\n",
       "  display: none;\n",
       "}\n",
       "\n",
       ".xr-header {\n",
       "  padding-top: 6px;\n",
       "  padding-bottom: 6px;\n",
       "  margin-bottom: 4px;\n",
       "  border-bottom: solid 1px var(--xr-border-color);\n",
       "}\n",
       "\n",
       ".xr-header > div,\n",
       ".xr-header > ul {\n",
       "  display: inline;\n",
       "  margin-top: 0;\n",
       "  margin-bottom: 0;\n",
       "}\n",
       "\n",
       ".xr-obj-type,\n",
       ".xr-array-name {\n",
       "  margin-left: 2px;\n",
       "  margin-right: 10px;\n",
       "}\n",
       "\n",
       ".xr-obj-type {\n",
       "  color: var(--xr-font-color2);\n",
       "}\n",
       "\n",
       ".xr-sections {\n",
       "  padding-left: 0 !important;\n",
       "  display: grid;\n",
       "  grid-template-columns: 150px auto auto 1fr 20px 20px;\n",
       "}\n",
       "\n",
       ".xr-section-item {\n",
       "  display: contents;\n",
       "}\n",
       "\n",
       ".xr-section-item input {\n",
       "  display: none;\n",
       "}\n",
       "\n",
       ".xr-section-item input + label {\n",
       "  color: var(--xr-disabled-color);\n",
       "}\n",
       "\n",
       ".xr-section-item input:enabled + label {\n",
       "  cursor: pointer;\n",
       "  color: var(--xr-font-color2);\n",
       "}\n",
       "\n",
       ".xr-section-item input:enabled + label:hover {\n",
       "  color: var(--xr-font-color0);\n",
       "}\n",
       "\n",
       ".xr-section-summary {\n",
       "  grid-column: 1;\n",
       "  color: var(--xr-font-color2);\n",
       "  font-weight: 500;\n",
       "}\n",
       "\n",
       ".xr-section-summary > span {\n",
       "  display: inline-block;\n",
       "  padding-left: 0.5em;\n",
       "}\n",
       "\n",
       ".xr-section-summary-in:disabled + label {\n",
       "  color: var(--xr-font-color2);\n",
       "}\n",
       "\n",
       ".xr-section-summary-in + label:before {\n",
       "  display: inline-block;\n",
       "  content: '►';\n",
       "  font-size: 11px;\n",
       "  width: 15px;\n",
       "  text-align: center;\n",
       "}\n",
       "\n",
       ".xr-section-summary-in:disabled + label:before {\n",
       "  color: var(--xr-disabled-color);\n",
       "}\n",
       "\n",
       ".xr-section-summary-in:checked + label:before {\n",
       "  content: '▼';\n",
       "}\n",
       "\n",
       ".xr-section-summary-in:checked + label > span {\n",
       "  display: none;\n",
       "}\n",
       "\n",
       ".xr-section-summary,\n",
       ".xr-section-inline-details {\n",
       "  padding-top: 4px;\n",
       "  padding-bottom: 4px;\n",
       "}\n",
       "\n",
       ".xr-section-inline-details {\n",
       "  grid-column: 2 / -1;\n",
       "}\n",
       "\n",
       ".xr-section-details {\n",
       "  display: none;\n",
       "  grid-column: 1 / -1;\n",
       "  margin-bottom: 5px;\n",
       "}\n",
       "\n",
       ".xr-section-summary-in:checked ~ .xr-section-details {\n",
       "  display: contents;\n",
       "}\n",
       "\n",
       ".xr-array-wrap {\n",
       "  grid-column: 1 / -1;\n",
       "  display: grid;\n",
       "  grid-template-columns: 20px auto;\n",
       "}\n",
       "\n",
       ".xr-array-wrap > label {\n",
       "  grid-column: 1;\n",
       "  vertical-align: top;\n",
       "}\n",
       "\n",
       ".xr-preview {\n",
       "  color: var(--xr-font-color3);\n",
       "}\n",
       "\n",
       ".xr-array-preview,\n",
       ".xr-array-data {\n",
       "  padding: 0 5px !important;\n",
       "  grid-column: 2;\n",
       "}\n",
       "\n",
       ".xr-array-data,\n",
       ".xr-array-in:checked ~ .xr-array-preview {\n",
       "  display: none;\n",
       "}\n",
       "\n",
       ".xr-array-in:checked ~ .xr-array-data,\n",
       ".xr-array-preview {\n",
       "  display: inline-block;\n",
       "}\n",
       "\n",
       ".xr-dim-list {\n",
       "  display: inline-block !important;\n",
       "  list-style: none;\n",
       "  padding: 0 !important;\n",
       "  margin: 0;\n",
       "}\n",
       "\n",
       ".xr-dim-list li {\n",
       "  display: inline-block;\n",
       "  padding: 0;\n",
       "  margin: 0;\n",
       "}\n",
       "\n",
       ".xr-dim-list:before {\n",
       "  content: '(';\n",
       "}\n",
       "\n",
       ".xr-dim-list:after {\n",
       "  content: ')';\n",
       "}\n",
       "\n",
       ".xr-dim-list li:not(:last-child):after {\n",
       "  content: ',';\n",
       "  padding-right: 5px;\n",
       "}\n",
       "\n",
       ".xr-has-index {\n",
       "  font-weight: bold;\n",
       "}\n",
       "\n",
       ".xr-var-list,\n",
       ".xr-var-item {\n",
       "  display: contents;\n",
       "}\n",
       "\n",
       ".xr-var-item > div,\n",
       ".xr-var-item label,\n",
       ".xr-var-item > .xr-var-name span {\n",
       "  background-color: var(--xr-background-color-row-even);\n",
       "  margin-bottom: 0;\n",
       "}\n",
       "\n",
       ".xr-var-item > .xr-var-name:hover span {\n",
       "  padding-right: 5px;\n",
       "}\n",
       "\n",
       ".xr-var-list > li:nth-child(odd) > div,\n",
       ".xr-var-list > li:nth-child(odd) > label,\n",
       ".xr-var-list > li:nth-child(odd) > .xr-var-name span {\n",
       "  background-color: var(--xr-background-color-row-odd);\n",
       "}\n",
       "\n",
       ".xr-var-name {\n",
       "  grid-column: 1;\n",
       "}\n",
       "\n",
       ".xr-var-dims {\n",
       "  grid-column: 2;\n",
       "}\n",
       "\n",
       ".xr-var-dtype {\n",
       "  grid-column: 3;\n",
       "  text-align: right;\n",
       "  color: var(--xr-font-color2);\n",
       "}\n",
       "\n",
       ".xr-var-preview {\n",
       "  grid-column: 4;\n",
       "}\n",
       "\n",
       ".xr-index-preview {\n",
       "  grid-column: 2 / 5;\n",
       "  color: var(--xr-font-color2);\n",
       "}\n",
       "\n",
       ".xr-var-name,\n",
       ".xr-var-dims,\n",
       ".xr-var-dtype,\n",
       ".xr-preview,\n",
       ".xr-attrs dt {\n",
       "  white-space: nowrap;\n",
       "  overflow: hidden;\n",
       "  text-overflow: ellipsis;\n",
       "  padding-right: 10px;\n",
       "}\n",
       "\n",
       ".xr-var-name:hover,\n",
       ".xr-var-dims:hover,\n",
       ".xr-var-dtype:hover,\n",
       ".xr-attrs dt:hover {\n",
       "  overflow: visible;\n",
       "  width: auto;\n",
       "  z-index: 1;\n",
       "}\n",
       "\n",
       ".xr-var-attrs,\n",
       ".xr-var-data,\n",
       ".xr-index-data {\n",
       "  display: none;\n",
       "  background-color: var(--xr-background-color) !important;\n",
       "  padding-bottom: 5px !important;\n",
       "}\n",
       "\n",
       ".xr-var-attrs-in:checked ~ .xr-var-attrs,\n",
       ".xr-var-data-in:checked ~ .xr-var-data,\n",
       ".xr-index-data-in:checked ~ .xr-index-data {\n",
       "  display: block;\n",
       "}\n",
       "\n",
       ".xr-var-data > table {\n",
       "  float: right;\n",
       "}\n",
       "\n",
       ".xr-var-name span,\n",
       ".xr-var-data,\n",
       ".xr-index-name div,\n",
       ".xr-index-data,\n",
       ".xr-attrs {\n",
       "  padding-left: 25px !important;\n",
       "}\n",
       "\n",
       ".xr-attrs,\n",
       ".xr-var-attrs,\n",
       ".xr-var-data,\n",
       ".xr-index-data {\n",
       "  grid-column: 1 / -1;\n",
       "}\n",
       "\n",
       "dl.xr-attrs {\n",
       "  padding: 0;\n",
       "  margin: 0;\n",
       "  display: grid;\n",
       "  grid-template-columns: 125px auto;\n",
       "}\n",
       "\n",
       ".xr-attrs dt,\n",
       ".xr-attrs dd {\n",
       "  padding: 0;\n",
       "  margin: 0;\n",
       "  float: left;\n",
       "  padding-right: 10px;\n",
       "  width: auto;\n",
       "}\n",
       "\n",
       ".xr-attrs dt {\n",
       "  font-weight: normal;\n",
       "  grid-column: 1;\n",
       "}\n",
       "\n",
       ".xr-attrs dt:hover span {\n",
       "  display: inline-block;\n",
       "  background: var(--xr-background-color);\n",
       "  padding-right: 10px;\n",
       "}\n",
       "\n",
       ".xr-attrs dd {\n",
       "  grid-column: 2;\n",
       "  white-space: pre-wrap;\n",
       "  word-break: break-all;\n",
       "}\n",
       "\n",
       ".xr-icon-database,\n",
       ".xr-icon-file-text2,\n",
       ".xr-no-icon {\n",
       "  display: inline-block;\n",
       "  vertical-align: middle;\n",
       "  width: 1em;\n",
       "  height: 1.5em !important;\n",
       "  stroke-width: 0;\n",
       "  stroke: currentColor;\n",
       "  fill: currentColor;\n",
       "}\n",
       "</style><pre class='xr-text-repr-fallback'>&lt;xarray.Dataset&gt;\n",
       "Dimensions:           (shot: 1024, ramsey_phasesq14: 34, control_onsq14: 2,\n",
       "                       ReIm: 2, ramsey_phasesq13: 34, control_onsq13: 2)\n",
       "Coordinates:\n",
       "  * shot              (shot) int32 0 1 2 3 4 5 ... 1018 1019 1020 1021 1022 1023\n",
       "  * ramsey_phasesq14  (ramsey_phasesq14) object &#x27;0.0&#x27; &#x27;24.0&#x27; &#x27;48.0&#x27; ... &#x27;e&#x27; &#x27;f&#x27;\n",
       "  * ramsey_phasesq13  (ramsey_phasesq13) object &#x27;0.0&#x27; &#x27;24.0&#x27; &#x27;48.0&#x27; ... &#x27;e&#x27; &#x27;f&#x27;\n",
       "  * control_onsq14    (control_onsq14) bool False True\n",
       "  * control_onsq13    (control_onsq13) bool False True\n",
       "Dimensions without coordinates: ReIm\n",
       "Data variables:\n",
       "    yq14              (shot, ramsey_phasesq14, control_onsq14, ReIm) float64 ...\n",
       "    yq13              (shot, ramsey_phasesq13, control_onsq13, ReIm) float64 ...\n",
       "Attributes:\n",
       "    name:     cz_calibration_ssro\n",
       "    tuid:     20231225-165135-093</pre><div class='xr-wrap' style='display:none'><div class='xr-header'><div class='xr-obj-type'>xarray.Dataset</div></div><ul class='xr-sections'><li class='xr-section-item'><input id='section-6f782309-2c63-4ef5-ab79-8bca8a7ac934' class='xr-section-summary-in' type='checkbox' disabled ><label for='section-6f782309-2c63-4ef5-ab79-8bca8a7ac934' class='xr-section-summary'  title='Expand/collapse section'>Dimensions:</label><div class='xr-section-inline-details'><ul class='xr-dim-list'><li><span class='xr-has-index'>shot</span>: 1024</li><li><span class='xr-has-index'>ramsey_phasesq14</span>: 34</li><li><span class='xr-has-index'>control_onsq14</span>: 2</li><li><span>ReIm</span>: 2</li><li><span class='xr-has-index'>ramsey_phasesq13</span>: 34</li><li><span class='xr-has-index'>control_onsq13</span>: 2</li></ul></div><div class='xr-section-details'></div></li><li class='xr-section-item'><input id='section-d95ea4ad-b033-4c42-842c-8b5a2c99dd6f' class='xr-section-summary-in' type='checkbox'  checked><label for='section-d95ea4ad-b033-4c42-842c-8b5a2c99dd6f' class='xr-section-summary' >Coordinates: <span>(5)</span></label><div class='xr-section-inline-details'></div><div class='xr-section-details'><ul class='xr-var-list'><li class='xr-var-item'><div class='xr-var-name'><span class='xr-has-index'>shot</span></div><div class='xr-var-dims'>(shot)</div><div class='xr-var-dtype'>int32</div><div class='xr-var-preview xr-preview'>0 1 2 3 4 ... 1020 1021 1022 1023</div><input id='attrs-79b877f8-8bd4-47d5-9e90-c744db1cf12b' class='xr-var-attrs-in' type='checkbox' ><label for='attrs-79b877f8-8bd4-47d5-9e90-c744db1cf12b' title='Show/Hide attributes'><svg class='icon xr-icon-file-text2'><use xlink:href='#icon-file-text2'></use></svg></label><input id='data-076cf85f-a2f8-4bd3-b5f8-6223cdc3ee3d' class='xr-var-data-in' type='checkbox'><label for='data-076cf85f-a2f8-4bd3-b5f8-6223cdc3ee3d' title='Show/Hide data repr'><svg class='icon xr-icon-database'><use xlink:href='#icon-database'></use></svg></label><div class='xr-var-attrs'><dl class='xr-attrs'><dt><span>qubit :</span></dt><dd>q14</dd><dt><span>long_name :</span></dt><dd>shot</dd><dt><span>units :</span></dt><dd>NA</dd></dl></div><div class='xr-var-data'><pre>array([   0,    1,    2, ..., 1021, 1022, 1023], dtype=int32)</pre></div></li><li class='xr-var-item'><div class='xr-var-name'><span class='xr-has-index'>ramsey_phasesq14</span></div><div class='xr-var-dims'>(ramsey_phasesq14)</div><div class='xr-var-dtype'>object</div><div class='xr-var-preview xr-preview'>&#x27;0.0&#x27; &#x27;24.0&#x27; &#x27;48.0&#x27; ... &#x27;g&#x27; &#x27;e&#x27; &#x27;f&#x27;</div><input id='attrs-4ea6214e-b88a-44cb-b146-8a78707a1665' class='xr-var-attrs-in' type='checkbox' ><label for='attrs-4ea6214e-b88a-44cb-b146-8a78707a1665' title='Show/Hide attributes'><svg class='icon xr-icon-file-text2'><use xlink:href='#icon-file-text2'></use></svg></label><input id='data-f1e68ad3-331b-4575-ac30-56aa0b697dc2' class='xr-var-data-in' type='checkbox'><label for='data-f1e68ad3-331b-4575-ac30-56aa0b697dc2' title='Show/Hide data repr'><svg class='icon xr-icon-database'><use xlink:href='#icon-database'></use></svg></label><div class='xr-var-attrs'><dl class='xr-attrs'><dt><span>qubit :</span></dt><dd>q14</dd><dt><span>long_name :</span></dt><dd>ramsey_phasesq14</dd><dt><span>units :</span></dt><dd>NA</dd></dl></div><div class='xr-var-data'><pre>array([&#x27;0.0&#x27;, &#x27;24.0&#x27;, &#x27;48.0&#x27;, &#x27;72.0&#x27;, &#x27;96.0&#x27;, &#x27;120.0&#x27;, &#x27;144.0&#x27;, &#x27;168.0&#x27;,\n",
       "       &#x27;192.0&#x27;, &#x27;216.0&#x27;, &#x27;240.0&#x27;, &#x27;264.0&#x27;, &#x27;288.0&#x27;, &#x27;312.0&#x27;, &#x27;336.0&#x27;, &#x27;360.0&#x27;,\n",
       "       &#x27;384.0&#x27;, &#x27;408.0&#x27;, &#x27;432.0&#x27;, &#x27;456.0&#x27;, &#x27;480.0&#x27;, &#x27;504.0&#x27;, &#x27;528.0&#x27;, &#x27;552.0&#x27;,\n",
       "       &#x27;576.0&#x27;, &#x27;600.0&#x27;, &#x27;624.0&#x27;, &#x27;648.0&#x27;, &#x27;672.0&#x27;, &#x27;696.0&#x27;, &#x27;720.0&#x27;, &#x27;g&#x27;, &#x27;e&#x27;,\n",
       "       &#x27;f&#x27;], dtype=object)</pre></div></li><li class='xr-var-item'><div class='xr-var-name'><span class='xr-has-index'>ramsey_phasesq13</span></div><div class='xr-var-dims'>(ramsey_phasesq13)</div><div class='xr-var-dtype'>object</div><div class='xr-var-preview xr-preview'>&#x27;0.0&#x27; &#x27;24.0&#x27; &#x27;48.0&#x27; ... &#x27;g&#x27; &#x27;e&#x27; &#x27;f&#x27;</div><input id='attrs-d82b6a47-884f-490d-a9dc-97fd3c932edb' class='xr-var-attrs-in' type='checkbox' ><label for='attrs-d82b6a47-884f-490d-a9dc-97fd3c932edb' title='Show/Hide attributes'><svg class='icon xr-icon-file-text2'><use xlink:href='#icon-file-text2'></use></svg></label><input id='data-b21b37a5-2d73-47d7-b450-2cfa73a55ca8' class='xr-var-data-in' type='checkbox'><label for='data-b21b37a5-2d73-47d7-b450-2cfa73a55ca8' title='Show/Hide data repr'><svg class='icon xr-icon-database'><use xlink:href='#icon-database'></use></svg></label><div class='xr-var-attrs'><dl class='xr-attrs'><dt><span>qubit :</span></dt><dd>q13</dd><dt><span>long_name :</span></dt><dd>ramsey_phasesq13</dd><dt><span>units :</span></dt><dd>NA</dd></dl></div><div class='xr-var-data'><pre>array([&#x27;0.0&#x27;, &#x27;24.0&#x27;, &#x27;48.0&#x27;, &#x27;72.0&#x27;, &#x27;96.0&#x27;, &#x27;120.0&#x27;, &#x27;144.0&#x27;, &#x27;168.0&#x27;,\n",
       "       &#x27;192.0&#x27;, &#x27;216.0&#x27;, &#x27;240.0&#x27;, &#x27;264.0&#x27;, &#x27;288.0&#x27;, &#x27;312.0&#x27;, &#x27;336.0&#x27;, &#x27;360.0&#x27;,\n",
       "       &#x27;384.0&#x27;, &#x27;408.0&#x27;, &#x27;432.0&#x27;, &#x27;456.0&#x27;, &#x27;480.0&#x27;, &#x27;504.0&#x27;, &#x27;528.0&#x27;, &#x27;552.0&#x27;,\n",
       "       &#x27;576.0&#x27;, &#x27;600.0&#x27;, &#x27;624.0&#x27;, &#x27;648.0&#x27;, &#x27;672.0&#x27;, &#x27;696.0&#x27;, &#x27;720.0&#x27;, &#x27;g&#x27;, &#x27;e&#x27;,\n",
       "       &#x27;f&#x27;], dtype=object)</pre></div></li><li class='xr-var-item'><div class='xr-var-name'><span class='xr-has-index'>control_onsq14</span></div><div class='xr-var-dims'>(control_onsq14)</div><div class='xr-var-dtype'>bool</div><div class='xr-var-preview xr-preview'>False True</div><input id='attrs-f8212acd-4607-46b0-89f3-60dc56661da5' class='xr-var-attrs-in' type='checkbox' ><label for='attrs-f8212acd-4607-46b0-89f3-60dc56661da5' title='Show/Hide attributes'><svg class='icon xr-icon-file-text2'><use xlink:href='#icon-file-text2'></use></svg></label><input id='data-cd2d8ab9-bbaa-4187-b0af-42cbaff34103' class='xr-var-data-in' type='checkbox'><label for='data-cd2d8ab9-bbaa-4187-b0af-42cbaff34103' title='Show/Hide data repr'><svg class='icon xr-icon-database'><use xlink:href='#icon-database'></use></svg></label><div class='xr-var-attrs'><dl class='xr-attrs'><dt><span>qubit :</span></dt><dd>q14</dd><dt><span>long_name :</span></dt><dd>control_onsq14</dd><dt><span>units :</span></dt><dd>NA</dd></dl></div><div class='xr-var-data'><pre>array([False,  True])</pre></div></li><li class='xr-var-item'><div class='xr-var-name'><span class='xr-has-index'>control_onsq13</span></div><div class='xr-var-dims'>(control_onsq13)</div><div class='xr-var-dtype'>bool</div><div class='xr-var-preview xr-preview'>False True</div><input id='attrs-f2736eff-5729-4fa3-a1d7-6463494f08d0' class='xr-var-attrs-in' type='checkbox' ><label for='attrs-f2736eff-5729-4fa3-a1d7-6463494f08d0' title='Show/Hide attributes'><svg class='icon xr-icon-file-text2'><use xlink:href='#icon-file-text2'></use></svg></label><input id='data-b82641ee-b1f3-4dbf-b22c-0f660f7f2b08' class='xr-var-data-in' type='checkbox'><label for='data-b82641ee-b1f3-4dbf-b22c-0f660f7f2b08' title='Show/Hide data repr'><svg class='icon xr-icon-database'><use xlink:href='#icon-database'></use></svg></label><div class='xr-var-attrs'><dl class='xr-attrs'><dt><span>qubit :</span></dt><dd>q13</dd><dt><span>long_name :</span></dt><dd>control_onsq13</dd><dt><span>units :</span></dt><dd>NA</dd></dl></div><div class='xr-var-data'><pre>array([False,  True])</pre></div></li></ul></div></li><li class='xr-section-item'><input id='section-9be36b5b-bf7e-4548-95d7-ab13dd12d838' class='xr-section-summary-in' type='checkbox'  checked><label for='section-9be36b5b-bf7e-4548-95d7-ab13dd12d838' class='xr-section-summary' >Data variables: <span>(2)</span></label><div class='xr-section-inline-details'></div><div class='xr-section-details'><ul class='xr-var-list'><li class='xr-var-item'><div class='xr-var-name'><span>yq14</span></div><div class='xr-var-dims'>(shot, ramsey_phasesq14, control_onsq14, ReIm)</div><div class='xr-var-dtype'>float64</div><div class='xr-var-preview xr-preview'>0.008901 0.001136 ... 0.001367</div><input id='attrs-9000728d-d8a6-4348-bb35-60200f2ed241' class='xr-var-attrs-in' type='checkbox' ><label for='attrs-9000728d-d8a6-4348-bb35-60200f2ed241' title='Show/Hide attributes'><svg class='icon xr-icon-file-text2'><use xlink:href='#icon-file-text2'></use></svg></label><input id='data-961d0855-547e-4f56-9cf3-b1b08964da6d' class='xr-var-data-in' type='checkbox'><label for='data-961d0855-547e-4f56-9cf3-b1b08964da6d' title='Show/Hide data repr'><svg class='icon xr-icon-database'><use xlink:href='#icon-database'></use></svg></label><div class='xr-var-attrs'><dl class='xr-attrs'><dt><span>qubit :</span></dt><dd>q14</dd><dt><span>long_name :</span></dt><dd>yq14</dd><dt><span>units :</span></dt><dd>NA</dd></dl></div><div class='xr-var-data'><pre>array([[[[0.00890064, 0.00113571],\n",
       "         [0.00819306, 0.00049731]],\n",
       "\n",
       "        [[0.00911597, 0.00183937],\n",
       "         [0.0087703 , 0.00138994]],\n",
       "\n",
       "        [[0.00794724, 0.00159062],\n",
       "         [0.00828999, 0.00154509]],\n",
       "\n",
       "        ...,\n",
       "\n",
       "        [[0.00817196, 0.00151383],\n",
       "         [0.00888422, 0.00214577]],\n",
       "\n",
       "        [[0.00819424, 0.00184016],\n",
       "         [0.00827181, 0.00207093]],\n",
       "\n",
       "        [[0.00836268, 0.00166957],\n",
       "         [0.00869155, 0.00177723]]],\n",
       "\n",
       "...\n",
       "\n",
       "       [[[0.00840899, 0.00205882],\n",
       "         [0.00883322, 0.00117088]],\n",
       "\n",
       "        [[0.00836365, 0.00175828],\n",
       "         [0.00878085, 0.00255281]],\n",
       "\n",
       "        [[0.00886917, 0.00302394],\n",
       "         [0.00904211, 0.00230249]],\n",
       "\n",
       "        ...,\n",
       "\n",
       "        [[0.00803791, 0.00119941],\n",
       "         [0.00882814, 0.00141593]],\n",
       "\n",
       "        [[0.00881466, 0.00198222],\n",
       "         [0.00875564, 0.00101534]],\n",
       "\n",
       "        [[0.00899384, 0.00187513],\n",
       "         [0.00788999, 0.00136727]]]])</pre></div></li><li class='xr-var-item'><div class='xr-var-name'><span>yq13</span></div><div class='xr-var-dims'>(shot, ramsey_phasesq13, control_onsq13, ReIm)</div><div class='xr-var-dtype'>float64</div><div class='xr-var-preview xr-preview'>0.008901 0.001136 ... 0.001367</div><input id='attrs-b295209d-56d0-4583-ac6e-0fcf26f08964' class='xr-var-attrs-in' type='checkbox' ><label for='attrs-b295209d-56d0-4583-ac6e-0fcf26f08964' title='Show/Hide attributes'><svg class='icon xr-icon-file-text2'><use xlink:href='#icon-file-text2'></use></svg></label><input id='data-7adf84d1-1a2c-440d-ac86-4f0cbee7dc8d' class='xr-var-data-in' type='checkbox'><label for='data-7adf84d1-1a2c-440d-ac86-4f0cbee7dc8d' title='Show/Hide data repr'><svg class='icon xr-icon-database'><use xlink:href='#icon-database'></use></svg></label><div class='xr-var-attrs'><dl class='xr-attrs'><dt><span>qubit :</span></dt><dd>q13</dd><dt><span>long_name :</span></dt><dd>yq13</dd><dt><span>units :</span></dt><dd>NA</dd></dl></div><div class='xr-var-data'><pre>array([[[[0.00890064, 0.00113571],\n",
       "         [0.00819306, 0.00049731]],\n",
       "\n",
       "        [[0.00911597, 0.00183937],\n",
       "         [0.0087703 , 0.00138994]],\n",
       "\n",
       "        [[0.00794724, 0.00159062],\n",
       "         [0.00828999, 0.00154509]],\n",
       "\n",
       "        ...,\n",
       "\n",
       "        [[0.00817196, 0.00151383],\n",
       "         [0.00888422, 0.00214577]],\n",
       "\n",
       "        [[0.00819424, 0.00184016],\n",
       "         [0.00827181, 0.00207093]],\n",
       "\n",
       "        [[0.00836268, 0.00166957],\n",
       "         [0.00869155, 0.00177723]]],\n",
       "\n",
       "...\n",
       "\n",
       "       [[[0.00840899, 0.00205882],\n",
       "         [0.00883322, 0.00117088]],\n",
       "\n",
       "        [[0.00836365, 0.00175828],\n",
       "         [0.00878085, 0.00255281]],\n",
       "\n",
       "        [[0.00886917, 0.00302394],\n",
       "         [0.00904211, 0.00230249]],\n",
       "\n",
       "        ...,\n",
       "\n",
       "        [[0.00803791, 0.00119941],\n",
       "         [0.00882814, 0.00141593]],\n",
       "\n",
       "        [[0.00881466, 0.00198222],\n",
       "         [0.00875564, 0.00101534]],\n",
       "\n",
       "        [[0.00899384, 0.00187513],\n",
       "         [0.00788999, 0.00136727]]]])</pre></div></li></ul></div></li><li class='xr-section-item'><input id='section-1571bbb4-14bc-496e-b9c6-a4d0d8808fcf' class='xr-section-summary-in' type='checkbox'  ><label for='section-1571bbb4-14bc-496e-b9c6-a4d0d8808fcf' class='xr-section-summary' >Indexes: <span>(5)</span></label><div class='xr-section-inline-details'></div><div class='xr-section-details'><ul class='xr-var-list'><li class='xr-var-item'><div class='xr-index-name'><div>shot</div></div><div class='xr-index-preview'>PandasIndex</div><div></div><input id='index-a69e7bc2-ad19-4de3-a8df-de5c60dc283c' class='xr-index-data-in' type='checkbox'/><label for='index-a69e7bc2-ad19-4de3-a8df-de5c60dc283c' title='Show/Hide index repr'><svg class='icon xr-icon-database'><use xlink:href='#icon-database'></use></svg></label><div class='xr-index-data'><pre>PandasIndex(Index([   0,    1,    2,    3,    4,    5,    6,    7,    8,    9,\n",
       "       ...\n",
       "       1014, 1015, 1016, 1017, 1018, 1019, 1020, 1021, 1022, 1023],\n",
       "      dtype=&#x27;int32&#x27;, name=&#x27;shot&#x27;, length=1024))</pre></div></li><li class='xr-var-item'><div class='xr-index-name'><div>ramsey_phasesq14</div></div><div class='xr-index-preview'>PandasIndex</div><div></div><input id='index-9d72b968-0af7-4903-8540-8a1dfa4e73e5' class='xr-index-data-in' type='checkbox'/><label for='index-9d72b968-0af7-4903-8540-8a1dfa4e73e5' title='Show/Hide index repr'><svg class='icon xr-icon-database'><use xlink:href='#icon-database'></use></svg></label><div class='xr-index-data'><pre>PandasIndex(Index([&#x27;0.0&#x27;, &#x27;24.0&#x27;, &#x27;48.0&#x27;, &#x27;72.0&#x27;, &#x27;96.0&#x27;, &#x27;120.0&#x27;, &#x27;144.0&#x27;, &#x27;168.0&#x27;,\n",
       "       &#x27;192.0&#x27;, &#x27;216.0&#x27;, &#x27;240.0&#x27;, &#x27;264.0&#x27;, &#x27;288.0&#x27;, &#x27;312.0&#x27;, &#x27;336.0&#x27;, &#x27;360.0&#x27;,\n",
       "       &#x27;384.0&#x27;, &#x27;408.0&#x27;, &#x27;432.0&#x27;, &#x27;456.0&#x27;, &#x27;480.0&#x27;, &#x27;504.0&#x27;, &#x27;528.0&#x27;, &#x27;552.0&#x27;,\n",
       "       &#x27;576.0&#x27;, &#x27;600.0&#x27;, &#x27;624.0&#x27;, &#x27;648.0&#x27;, &#x27;672.0&#x27;, &#x27;696.0&#x27;, &#x27;720.0&#x27;, &#x27;g&#x27;, &#x27;e&#x27;,\n",
       "       &#x27;f&#x27;],\n",
       "      dtype=&#x27;object&#x27;, name=&#x27;ramsey_phasesq14&#x27;))</pre></div></li><li class='xr-var-item'><div class='xr-index-name'><div>ramsey_phasesq13</div></div><div class='xr-index-preview'>PandasIndex</div><div></div><input id='index-f59d9009-32af-4a27-b5f8-68f8920fb571' class='xr-index-data-in' type='checkbox'/><label for='index-f59d9009-32af-4a27-b5f8-68f8920fb571' title='Show/Hide index repr'><svg class='icon xr-icon-database'><use xlink:href='#icon-database'></use></svg></label><div class='xr-index-data'><pre>PandasIndex(Index([&#x27;0.0&#x27;, &#x27;24.0&#x27;, &#x27;48.0&#x27;, &#x27;72.0&#x27;, &#x27;96.0&#x27;, &#x27;120.0&#x27;, &#x27;144.0&#x27;, &#x27;168.0&#x27;,\n",
       "       &#x27;192.0&#x27;, &#x27;216.0&#x27;, &#x27;240.0&#x27;, &#x27;264.0&#x27;, &#x27;288.0&#x27;, &#x27;312.0&#x27;, &#x27;336.0&#x27;, &#x27;360.0&#x27;,\n",
       "       &#x27;384.0&#x27;, &#x27;408.0&#x27;, &#x27;432.0&#x27;, &#x27;456.0&#x27;, &#x27;480.0&#x27;, &#x27;504.0&#x27;, &#x27;528.0&#x27;, &#x27;552.0&#x27;,\n",
       "       &#x27;576.0&#x27;, &#x27;600.0&#x27;, &#x27;624.0&#x27;, &#x27;648.0&#x27;, &#x27;672.0&#x27;, &#x27;696.0&#x27;, &#x27;720.0&#x27;, &#x27;g&#x27;, &#x27;e&#x27;,\n",
       "       &#x27;f&#x27;],\n",
       "      dtype=&#x27;object&#x27;, name=&#x27;ramsey_phasesq13&#x27;))</pre></div></li><li class='xr-var-item'><div class='xr-index-name'><div>control_onsq14</div></div><div class='xr-index-preview'>PandasIndex</div><div></div><input id='index-e716f99c-e949-4163-a429-46dfc20f26f7' class='xr-index-data-in' type='checkbox'/><label for='index-e716f99c-e949-4163-a429-46dfc20f26f7' title='Show/Hide index repr'><svg class='icon xr-icon-database'><use xlink:href='#icon-database'></use></svg></label><div class='xr-index-data'><pre>PandasIndex(Index([False, True], dtype=&#x27;bool&#x27;, name=&#x27;control_onsq14&#x27;))</pre></div></li><li class='xr-var-item'><div class='xr-index-name'><div>control_onsq13</div></div><div class='xr-index-preview'>PandasIndex</div><div></div><input id='index-b045219b-f840-43d0-8daf-d5301a59d1ec' class='xr-index-data-in' type='checkbox'/><label for='index-b045219b-f840-43d0-8daf-d5301a59d1ec' title='Show/Hide index repr'><svg class='icon xr-icon-database'><use xlink:href='#icon-database'></use></svg></label><div class='xr-index-data'><pre>PandasIndex(Index([False, True], dtype=&#x27;bool&#x27;, name=&#x27;control_onsq13&#x27;))</pre></div></li></ul></div></li><li class='xr-section-item'><input id='section-bd29f957-ffea-4427-8056-88eb01f0e32a' class='xr-section-summary-in' type='checkbox'  checked><label for='section-bd29f957-ffea-4427-8056-88eb01f0e32a' class='xr-section-summary' >Attributes: <span>(2)</span></label><div class='xr-section-inline-details'></div><div class='xr-section-details'><dl class='xr-attrs'><dt><span>name :</span></dt><dd>cz_calibration_ssro</dd><dt><span>tuid :</span></dt><dd>20231225-165135-093</dd></dl></div></li></ul></div></div>"
      ],
      "text/plain": [
       "<xarray.Dataset>\n",
       "Dimensions:           (shot: 1024, ramsey_phasesq14: 34, control_onsq14: 2,\n",
       "                       ReIm: 2, ramsey_phasesq13: 34, control_onsq13: 2)\n",
       "Coordinates:\n",
       "  * shot              (shot) int32 0 1 2 3 4 5 ... 1018 1019 1020 1021 1022 1023\n",
       "  * ramsey_phasesq14  (ramsey_phasesq14) object '0.0' '24.0' '48.0' ... 'e' 'f'\n",
       "  * ramsey_phasesq13  (ramsey_phasesq13) object '0.0' '24.0' '48.0' ... 'e' 'f'\n",
       "  * control_onsq14    (control_onsq14) bool False True\n",
       "  * control_onsq13    (control_onsq13) bool False True\n",
       "Dimensions without coordinates: ReIm\n",
       "Data variables:\n",
       "    yq14              (shot, ramsey_phasesq14, control_onsq14, ReIm) float64 ...\n",
       "    yq13              (shot, ramsey_phasesq13, control_onsq13, ReIm) float64 ...\n",
       "Attributes:\n",
       "    name:     cz_calibration_ssro\n",
       "    tuid:     20231225-165135-093"
      ]
     },
     "execution_count": 159,
     "metadata": {},
     "output_type": "execute_result"
    }
   ],
   "source": [
    "ds = load_dataset(dp)\n",
    "ds"
   ]
  },
  {
   "cell_type": "code",
   "execution_count": null,
   "metadata": {},
   "outputs": [
    {
     "name": "stdout",
     "output_type": "stream",
     "text": [
      "0.091\n"
     ]
    },
    {
     "data": {
      "image/png": "[encoded data removed]",
      "text/plain": [
       "<Figure size 640x480 with 1 Axes>"
      ]
     },
     "metadata": {},
     "output_type": "display_data"
    }
   ],
   "source": [
    "%matplotlib inline\n",
    "# select the data with ro_amplitudesq12 = 0.051\n",
    "amp = ds.ro_amplitudesq12.values[5]\n",
    "# for amp in ds.ro_amplitudesq12.values:\n",
    "print(amp)\n",
    "qubit = 'q130'\n",
    "ds0 = ds[f'y{qubit}'].sel(ro_amplitudesq13=amp ,state = 0 )\n",
    "ds1 = ds[f'y{qubit}'].sel(ro_amplitudesq13=amp ,state = 1 )\n",
    "ds2 = ds[f'y{qubit}'].sel(ro_amplitudesq13=amp ,state = 2 )\n",
    "# ds0 = (ds0.values).reshape(4096*3,2)\n",
    "# ds1 = (ds1.values).reshape(4096*3,2)\n",
    "# ds2 = (ds2.values).reshape(4096*3,2)\n",
    "\n",
    "cut0 = 0\n",
    "cut1 = 15\n",
    "plt.plot(ds0[:,0].values,ds0[:,1].values,'.r')\n",
    "# plt.plot(ds1[:,0].values,ds1[:,1].values,'.b')\n",
    "# plt.plot(ds1[cut0::cut1,0].values,ds1[cut0::cut1,1].values,'*')\n",
    "# plt.plot(ds2[:,0].values,ds2[:,1].values,'.g')\n",
    "plt.show()"
   ]
  },
  {
   "cell_type": "code",
   "execution_count": null,
   "metadata": {},
   "outputs": [
    {
     "name": "stdout",
     "output_type": "stream",
     "text": [
      "assignment = 0.8388671875\n"
     ]
    },
    {
     "data": {
      "image/png": "[encoded data removed]",
      "text/plain": [
       "<Figure size 640x480 with 2 Axes>"
      ]
     },
     "metadata": {},
     "output_type": "display_data"
    }
   ],
   "source": [
    "import numpy as np\n",
    "import redis\n",
    "import xarray as xr\n",
    "from sklearn.discriminant_analysis import LinearDiscriminantAnalysis\n",
    "from sklearn.metrics import confusion_matrix,ConfusionMatrixDisplay\n",
    "import matplotlib.pyplot as plt\n",
    "\n",
    "dataset = ds\n",
    "qubit = 'q12'\n",
    "data_var = f'y{qubit}0'\n",
    "\n",
    "for coord in dataset.coords:\n",
    "    if f'amplitudes{qubit}' in str(coord):\n",
    "        amplitude_coord = coord\n",
    "    elif 'state' in str(coord):\n",
    "        state_coord = coord\n",
    "    elif 'shot' in str(coord):\n",
    "        shot_coord = coord\n",
    "\n",
    "independents = dataset[state_coord].values\n",
    "amplitudes = dataset.coords[amplitude_coord]\n",
    "shots = len(dataset[shot_coord].values)\n",
    "fit_results = {}\n",
    "# for indx, ro_amplitude in enumerate(amplitudes):\n",
    "indx = 3\n",
    "# print(f'{indx = }')\n",
    "# print(f'{ro_amplitude.values = }')\n",
    "y = np.repeat(independents,shots)\n",
    "IQ_complex = np.array([])\n",
    "for state in independents:\n",
    "    IQ_complex_0 = dataset[data_var].isel({amplitude_coord:[indx],state_coord:state})\n",
    "    IQ_complex = np.append(IQ_complex,IQ_complex_0)\n",
    "# I = IQ_complex.real.flatten()\n",
    "# Q = IQ_complex.imag.flatten()\n",
    "# IQ = np.array([I,Q]).T\n",
    "IQ = IQ_complex.reshape(-1,2)\n",
    "lda = LinearDiscriminantAnalysis(solver = \"svd\", store_covariance=True)\n",
    "# breakpoint()\n",
    "# print(IQ)\n",
    "y_pred = lda.fit(IQ,y).predict(IQ)\n",
    "\n",
    "cm = confusion_matrix(y,y_pred)\n",
    "cm_norm = confusion_matrix(y,y_pred,normalize='true')\n",
    "# assignment = 1 - 1/2 * (err_wr_0 + err_wr_1)\n",
    "assignment = np.trace(cm_norm)/len(independents)\n",
    "print(f'{assignment = }')\n",
    "\n",
    "disp = ConfusionMatrixDisplay(confusion_matrix=cm_norm)\n",
    "disp.plot()\n",
    "plt.show()"
   ]
  },
  {
   "cell_type": "code",
   "execution_count": null,
   "metadata": {},
   "outputs": [
    {
     "name": "stdout",
     "output_type": "stream",
     "text": [
      "[[0.86425781 0.11132812 0.02441406]\n",
      " [0.12890625 0.83496094 0.03613281]\n",
      " [0.12011719 0.0625     0.81738281]]\n",
      "[[ 1.18425448 -0.1557683  -0.02848618]\n",
      " [-0.17588313  1.22477137 -0.04888825]\n",
      " [-0.16058158 -0.0707597   1.23134128]]\n",
      "[[ 1.00000000e+00 -4.40186082e-17 -8.83285957e-18]\n",
      " [ 3.78725371e-17  1.00000000e+00  8.53131584e-18]\n",
      " [ 2.47198095e-17  0.00000000e+00  1.00000000e+00]]\n"
     ]
    }
   ],
   "source": [
    "from numpy.linalg import inv\n",
    "print(cm_norm)\n",
    "cm_inv = inv(cm_norm)\n",
    "print(cm_inv)\n",
    "print(np.dot(cm_inv,cm_norm))"
   ]
  },
  {
   "cell_type": "code",
   "execution_count": null,
   "metadata": {},
   "outputs": [
    {
     "name": "stdout",
     "output_type": "stream",
     "text": [
      "[0.87, 0.11, 0.020000000000000004]\n"
     ]
    }
   ],
   "source": [
    "v = [0.87,0.11,1-0.87-0.11]\n",
    "print(v)"
   ]
  },
  {
   "cell_type": "code",
   "execution_count": null,
   "metadata": {},
   "outputs": [
    {
     "ename": "TypeError",
     "evalue": "mitigated() missing 2 required positional arguments: 'a0' and 'a1'",
     "output_type": "error",
     "traceback": [
      "\u001b[0;31m---------------------------------------------------------------------------\u001b[0m",
      "\u001b[0;31mTypeError\u001b[0m                                 Traceback (most recent call last)",
      "\u001b[1;32m/home/loke-c/tergite-autocalibration-lite/calib_test.ipynb Cell 17\u001b[0m line \u001b[0;36m4\n\u001b[1;32m      <a href='vscode-notebook-cell://wsl%2Bubuntu/home/loke-c/tergite-autocalibration-lite/calib_test.ipynb#X50sdnNjb2RlLXJlbW90ZQ%3D%3D?line=1'>2</a>\u001b[0m \u001b[39mdef\u001b[39;00m \u001b[39mmitigated\u001b[39m(v,a0,a1):\n\u001b[1;32m      <a href='vscode-notebook-cell://wsl%2Bubuntu/home/loke-c/tergite-autocalibration-lite/calib_test.ipynb#X50sdnNjb2RlLXJlbW90ZQ%3D%3D?line=2'>3</a>\u001b[0m     \u001b[39mreturn\u001b[39;00m np\u001b[39m.\u001b[39mdot(cm_inv,v)\u001b[39m-\u001b[39m[a0,a1,\u001b[39m1\u001b[39m\u001b[39m-\u001b[39ma0\u001b[39m-\u001b[39ma1]\n\u001b[0;32m----> <a href='vscode-notebook-cell://wsl%2Bubuntu/home/loke-c/tergite-autocalibration-lite/calib_test.ipynb#X50sdnNjb2RlLXJlbW90ZQ%3D%3D?line=3'>4</a>\u001b[0m res \u001b[39m=\u001b[39m least_squares(mitigated, v)\n",
      "File \u001b[0;32m~/anaconda3/envs/tac/lib/python3.9/site-packages/scipy/optimize/_lsq/least_squares.py:830\u001b[0m, in \u001b[0;36mleast_squares\u001b[0;34m(fun, x0, jac, bounds, method, ftol, xtol, gtol, x_scale, loss, f_scale, diff_step, tr_solver, tr_options, jac_sparsity, max_nfev, verbose, args, kwargs)\u001b[0m\n\u001b[1;32m    827\u001b[0m \u001b[39mdef\u001b[39;00m \u001b[39mfun_wrapped\u001b[39m(x):\n\u001b[1;32m    828\u001b[0m     \u001b[39mreturn\u001b[39;00m np\u001b[39m.\u001b[39matleast_1d(fun(x, \u001b[39m*\u001b[39margs, \u001b[39m*\u001b[39m\u001b[39m*\u001b[39mkwargs))\n\u001b[0;32m--> 830\u001b[0m f0 \u001b[39m=\u001b[39m fun_wrapped(x0)\n\u001b[1;32m    832\u001b[0m \u001b[39mif\u001b[39;00m f0\u001b[39m.\u001b[39mndim \u001b[39m!=\u001b[39m \u001b[39m1\u001b[39m:\n\u001b[1;32m    833\u001b[0m     \u001b[39mraise\u001b[39;00m \u001b[39mValueError\u001b[39;00m(\u001b[39m\"\u001b[39m\u001b[39m`fun` must return at most 1-d array_like. \u001b[39m\u001b[39m\"\u001b[39m\n\u001b[1;32m    834\u001b[0m                      \u001b[39m\"\u001b[39m\u001b[39mf0.shape: \u001b[39m\u001b[39m{}\u001b[39;00m\u001b[39m\"\u001b[39m\u001b[39m.\u001b[39mformat(f0\u001b[39m.\u001b[39mshape))\n",
      "File \u001b[0;32m~/anaconda3/envs/tac/lib/python3.9/site-packages/scipy/optimize/_lsq/least_squares.py:828\u001b[0m, in \u001b[0;36mleast_squares.<locals>.fun_wrapped\u001b[0;34m(x)\u001b[0m\n\u001b[1;32m    827\u001b[0m \u001b[39mdef\u001b[39;00m \u001b[39mfun_wrapped\u001b[39m(x):\n\u001b[0;32m--> 828\u001b[0m     \u001b[39mreturn\u001b[39;00m np\u001b[39m.\u001b[39matleast_1d(fun(x, \u001b[39m*\u001b[39;49margs, \u001b[39m*\u001b[39;49m\u001b[39m*\u001b[39;49mkwargs))\n",
      "\u001b[0;31mTypeError\u001b[0m: mitigated() missing 2 required positional arguments: 'a0' and 'a1'"
     ]
    }
   ],
   "source": [
    "def mitigated(v,a0,a1):\n",
    "    return np.dot(cm_inv,v)-[a0,a1,1-a0-a1]\n",
    "res = minimize(mitigated, v)\n"
   ]
  },
  {
   "cell_type": "code",
   "execution_count": null,
   "metadata": {},
   "outputs": [
    {
     "name": "stdout",
     "output_type": "stream",
     "text": [
      "[0.8, 0.05, 0.14999999999999997] [ 0.93534224 -0.08680117  0.05269794] 0.9012390169552309\n"
     ]
    }
   ],
   "source": [
    "a,b = 0.8,0.1\n",
    "v = [a,b,1-a-b]\n",
    "u = np.dot(cm_inv,v)\n",
    "print(v,u,np.sum(u))"
   ]
  },
  {
   "cell_type": "code",
   "execution_count": null,
   "metadata": {},
   "outputs": [],
   "source": [
    "# Define the function to be minimized\n",
    "from scipy.linalg import norm\n",
    "def m(t):\n",
    "    return norm(u-np.array(t))"
   ]
  },
  {
   "cell_type": "code",
   "execution_count": null,
   "metadata": {},
   "outputs": [],
   "source": [
    "# Define the constraints\n",
    "def con(t):\n",
    "   return t[0]+t[1]+t[2]-1\n",
    "# Define the constraints in the form required by the minimize function\n",
    "cons = ({'type': 'eq', 'fun': con},\n",
    "        {'type': 'ineq', 'fun': lambda t: t[0]},\n",
    "        {'type': 'ineq', 'fun': lambda t: t[1]},\n",
    "        {'type': 'ineq', 'fun': lambda t: t[2]})"
   ]
  },
  {
   "cell_type": "code",
   "execution_count": null,
   "metadata": {},
   "outputs": [
    {
     "name": "stdout",
     "output_type": "stream",
     "text": [
      "[0.94132282 0.         0.05867718]\n"
     ]
    }
   ],
   "source": [
    "from scipy.optimize import minimize\n",
    "result = minimize(m, v, method='SLSQP', constraints=cons)\n",
    "print(np.abs(np.round(result.x,10)))"
   ]
  },
  {
   "cell_type": "code",
   "execution_count": null,
   "metadata": {},
   "outputs": [
    {
     "data": {
      "text/plain": [
       "array([[ 1.18425448, -0.1557683 , -0.02848618],\n",
       "       [-0.17588313,  1.22477137, -0.04888825],\n",
       "       [-0.16058158, -0.0707597 ,  1.23134128]])"
      ]
     },
     "execution_count": 211,
     "metadata": {},
     "output_type": "execute_result"
    }
   ],
   "source": [
    "cm_inv"
   ]
  },
  {
   "cell_type": "code",
   "execution_count": null,
   "metadata": {},
   "outputs": [
    {
     "name": "stdout",
     "output_type": "stream",
     "text": [
      "1.1842544812150915,-0.15576829843331808,-0.028486182781773627,-0.1758831264569345,1.2247713733537886,-0.04888824689685401,-0.1605815783706242,-0.07075969795381643,1.2313412763244407\n"
     ]
    }
   ],
   "source": [
    "# nested join using join()\n",
    "my_string = \",\".join(str(element) for element in list(cm_inv.flatten()))\n",
    "print(my_string)"
   ]
  },
  {
   "cell_type": "code",
   "execution_count": null,
   "metadata": {},
   "outputs": [
    {
     "name": "stdout",
     "output_type": "stream",
     "text": [
      "[[ 1.18425448 -0.1557683  -0.02848618]\n",
      " [-0.17588313  1.22477137 -0.04888825]\n",
      " [-0.16058158 -0.0707597   1.23134128]]\n"
     ]
    }
   ],
   "source": [
    "my_list = my_string.split(\",\")\n",
    "size = int(len(my_list)**0.5)\n",
    "my_list = np.array([float(i) for i in my_list]).reshape(size,size)\n",
    "\n",
    "print(my_list)"
   ]
  },
  {
   "cell_type": "markdown",
   "metadata": {},
   "source": [
    "# Redis Parameters"
   ]
  },
  {
   "cell_type": "code",
   "execution_count": 1529,
   "metadata": {},
   "outputs": [
    {
     "name": "stdout",
     "output_type": "stream",
     "text": [
      "Qubit parameters q13:\n",
      "tof: not_calibrated\n",
      "resonator_spectroscopy: calibrated\n",
      "resonator_spectroscopy_1: calibrated\n",
      "resonator_spectroscopy_2: calibrated\n",
      "ro_frequency_optimization: not_calibrated\n",
      "ro_amplitude_optimization: not_calibrated\n",
      "SSRO: not_calibrated\n",
      "qubit_01_spectroscopy_pulsed: not_calibrated\n",
      "ramsey_correction: calibrated\n",
      "qubit_12_spectroscopy_pulsed: not_calibrated\n",
      "ramsey_correction_12: calibrated\n",
      "rabi_oscillations: calibrated\n",
      "n_rabi_oscillations: calibrated\n",
      "motzoi_parameter: calibrated\n",
      "rabi_oscillations_12: calibrated\n",
      "randomized_benchmarking: not_calibrated\n",
      "state_discrimination: not_calibrated\n",
      "T1: not_calibrated\n",
      "XY_crosstalk: not_calibrated\n",
      "punchout: not_calibrated\n",
      "cz_chevron: calibrated\n",
      "cz_calibration: calibrated\n",
      "qubit_01_spectroscopy_multidim: calibrated\n",
      "coupler_spectroscopy: not_calibrated\n",
      "coupler_resonator_spectroscopy: not_calibrated\n",
      "ro_frequency_optimization_gef: calibrated\n",
      "two_tone_multidim: not_calibrated\n",
      "qubit_12_spectroscopy_multidim: calibrated\n",
      "ro_amplitude_optimization_gef: calibrated\n",
      "cz_calibration_ssro: not_calibrated\n"
     ]
    }
   ],
   "source": [
    "import redis\n",
    "redis_connection = redis.Redis(decode_responses=True)\n",
    "node = 'cz_chevron'\n",
    "qubits = ['q13']\n",
    "for qubit in qubits: \n",
    "    print(f\"Qubit parameters {qubit}:\")\n",
    "    redis_config = redis_connection.hgetall(f\"cs:{qubit}\")\n",
    "    # Print the redis config line by line\n",
    "    for key, value in redis_config.items():\n",
    "        print(f\"{key}: {value}\")"
   ]
  },
  {
   "cell_type": "code",
   "execution_count": 1520,
   "metadata": {},
   "outputs": [
    {
     "name": "stdout",
     "output_type": "stream",
     "text": [
      "Qubit parameters q13:\n",
      "mw_pulse_duration: 2e-08\n",
      "dc_flux: nan\n",
      "spec_ampl_optimal: 0.0006\n",
      "ro_acq_delay: 2.2e-07\n",
      "spec_ampl_default: 0.0003\n",
      "spec_pulse_duration: 5e-06\n",
      "inv_cm_opt: 1.1059881797266866,-0.12305806892178624,0.01706988919509955,-0.14686323764927772,1.4690205594712584,-0.32215732182198054,-0.08026648456616994,-0.3166048825695681,1.396871367135738\n",
      "Ql: 10973.772061927006\n",
      "ro_acq_integration_time: 2.5e-06\n",
      "Ql_1: 9577.569636001048\n",
      "cz_pulse_amplitude: nan\n",
      "parking_current: nan\n",
      "spec_ampl_12_optimal: 0.0006\n",
      "discriminator: nan\n",
      "ro_pulse_duration: 3e-06\n",
      "spec_amp: nan\n",
      "ro_freq_opt: 6688049321.558435\n",
      "ro_ampl: nan\n",
      "ro_pulse_amp: 0.02\n",
      "selectivity: nan\n",
      "ro_ampl_opt: 0.031000000000000003\n",
      "resonator_minimum_1: 6688049321.558435\n",
      "resonator_minimum: 6688301321.558435\n",
      "att: 0\n",
      "edge_group: nan\n",
      "cz_pulse_duration: 2e-07\n",
      "freq_12: 3344368945.30437\n",
      "cz_phase: 162.73823195740903\n",
      "artificial_detuning: 3000000.0\n",
      "dc_flux_0: nan\n",
      "init_duration: 0.0006\n",
      "fidelity: nan\n",
      "mw_ef_amp180: 0.16987174153378343\n",
      "ro_freq_1: 6688079059.037674\n",
      "mw_amp180: 0.15515129027891586\n",
      "max_calibration_point: 0\n",
      "ro_freq_2: 6687820239.475757\n",
      "dc_flux_offset: nan\n",
      "min_calibration_point: 0\n",
      "t1_time: nan\n",
      "ro_pulse_amp_opt: nan\n",
      "anharmonicity: nan\n",
      "cz_pulse_frequency: nan\n",
      "ro_freq: 6688306343.373361\n",
      "cz_pulse_width: nan\n",
      "ro_pulse_delay: 4e-09\n",
      "resonator_flux_quantum: nan\n",
      "mw_motzoi: -0.08333333333333331\n",
      "freq_01: 3583522813.133026\n",
      "Qubit parameters q14:\n",
      "mw_pulse_duration: 2e-08\n",
      "dc_flux: nan\n",
      "spec_ampl_optimal: 0.0006\n",
      "ro_acq_delay: 2.2e-07\n",
      "spec_ampl_default: 0.0003\n",
      "spec_pulse_duration: 5e-06\n",
      "inv_cm_opt: 1.3974283059651553,-0.3827115918795704,-0.01471671408558513,-0.5029486383308541,1.658160145963615,-0.15521150763276093,-0.06421051111335768,-0.14115913981600495,1.2053696509293625\n",
      "Ql: 10129.81697562068\n",
      "ro_acq_integration_time: 2.5e-06\n",
      "Ql_1: 8850.435107987269\n",
      "cz_pulse_amplitude: nan\n",
      "parking_current: nan\n",
      "spec_ampl_12_optimal: 0.0006\n",
      "discriminator: nan\n",
      "ro_pulse_duration: 3e-06\n",
      "spec_amp: nan\n",
      "ro_freq_opt: 6331159280.923618\n",
      "ro_ampl: nan\n",
      "ro_pulse_amp: 0.02\n",
      "selectivity: nan\n",
      "ro_ampl_opt: 0.03766666666666667\n",
      "resonator_minimum_1: 6331159280.923618\n",
      "resonator_minimum: 6331411280.923618\n",
      "att: 0\n",
      "edge_group: nan\n",
      "cz_pulse_duration: 2e-07\n",
      "freq_12: 3133016667.7178993\n",
      "cz_phase: 0\n",
      "artificial_detuning: 3000000.0\n",
      "dc_flux_0: nan\n",
      "init_duration: 0.0006\n",
      "fidelity: nan\n",
      "mw_ef_amp180: 0.1690096911144792\n",
      "ro_freq_1: 6331157657.565002\n",
      "mw_amp180: 0.15257974506400293\n",
      "max_calibration_point: 0\n",
      "ro_freq_2: 6330884665.825105\n",
      "dc_flux_offset: nan\n",
      "min_calibration_point: 0\n",
      "t1_time: nan\n",
      "ro_pulse_amp_opt: nan\n",
      "anharmonicity: nan\n",
      "cz_pulse_frequency: nan\n",
      "ro_freq: 6331388460.976092\n",
      "cz_pulse_width: nan\n",
      "ro_pulse_delay: 4e-09\n",
      "resonator_flux_quantum: nan\n",
      "mw_motzoi: -0.15000000000000002\n",
      "freq_01: 3333259692.4498005\n"
     ]
    }
   ],
   "source": [
    "import redis\n",
    "redis_connection = redis.Redis(decode_responses=True)\n",
    "qubits = ['q13','q14']\n",
    "for qubit in qubits: \n",
    "    print(f\"Qubit parameters {qubit}:\")\n",
    "    redis_config = redis_connection.hgetall(f\"transmons:{qubit}\")\n",
    "    # Print the redis config line by line\n",
    "    for key, value in redis_config.items():\n",
    "        print(f\"{key}: {value}\")\n",
    "    # print(redis_config['cz_pulse_frequency'])\n",
    "    # print(redis_config['cz_pulse_duration'])"
   ]
  },
  {
   "cell_type": "code",
   "execution_count": 1526,
   "metadata": {},
   "outputs": [
    {
     "name": "stdout",
     "output_type": "stream",
     "text": [
      "Qubit parameters q13:\n",
      "448900000.0\n",
      "nan\n",
      "Qubit parameters q14:\n",
      "448900000.0\n",
      "nan\n"
     ]
    }
   ],
   "source": [
    "import redis\n",
    "redis_connection = redis.Redis(decode_responses=True)\n",
    "qubits = [ 'q13','q14']\n",
    "for qubit in qubits: \n",
    "    print(f\"Qubit parameters {qubit}:\")\n",
    "    redis_config = redis_connection.hgetall(f\"transmons:{qubit}\")\n",
    "    # Print the redis config line by line\n",
    "    # for key, value in redis_config.items():\n",
    "        # print(f\"{key}: {value}\")\n",
    "    print(redis_config['cz_pulse_frequency'])\n",
    "    print(redis_config['cz_pulse_amplitude'])"
   ]
  },
  {
   "cell_type": "code",
   "execution_count": null,
   "metadata": {},
   "outputs": [
    {
     "name": "stdout",
     "output_type": "stream",
     "text": [
      "Qubit parameters q12:\n",
      "3366985350.8172603\n",
      "3173745577.505435\n",
      "Qubit parameters q13:\n",
      "3583392807.127604\n",
      "3344617330.110173\n",
      "Qubit parameters q14:\n",
      "3333262125.7570114\n",
      "3133075732.4790416\n",
      "Qubit parameters q15:\n",
      "3872762251.21086\n",
      "3631663526.956842\n"
     ]
    }
   ],
   "source": [
    "import redis\n",
    "redis_connection = redis.Redis(decode_responses=True)\n",
    "qubits = [ 'q12','q13','q14','q15']\n",
    "for qubit in qubits: \n",
    "    print(f\"Qubit parameters {qubit}:\")\n",
    "    redis_config = redis_connection.hgetall(f\"transmons:{qubit}\")\n",
    "    # Print the redis config line by line\n",
    "    print(redis_config['freq_01'])\n",
    "    print(redis_config['freq_12'])\n",
    "    # for key, value in redis_config.items():\n",
    "    #     print(f\"{key}: {value}\")"
   ]
  },
  {
   "cell_type": "markdown",
   "metadata": {},
   "source": [
    "# Save VNA values"
   ]
  },
  {
   "cell_type": "code",
   "execution_count": null,
   "metadata": {},
   "outputs": [
    {
     "name": "stdout",
     "output_type": "stream",
     "text": [
      "Qubit parameters q12:\n",
      "6606921525.748695\n",
      "3367033969.74316\n",
      "3174143769.9106717\n",
      "Qubit parameters q13:\n",
      "6688305934.245103\n",
      "3584439595.342654\n",
      "3343546801.86418\n",
      "Qubit parameters q14:\n",
      "6331389462.314763\n",
      "3333635940.6319256\n",
      "3133115800.4734387\n",
      "Qubit parameters q15:\n",
      "6933732844.833205\n",
      "3872743173.062422\n",
      "3631686732.52316\n"
     ]
    }
   ],
   "source": [
    "import redis\n",
    "redis_connection = redis.Redis(decode_responses=True)\n",
    "qubits = [ 'q12','q13','q14','q15']\n",
    "qubit_freq_01_list,qubit_freq_ro_list,qubit_freq_12_list = {},{},{}\n",
    "for qubit in qubits: \n",
    "    print(f\"Qubit parameters {qubit}:\")\n",
    "    redis_config = redis_connection.hgetall(f\"transmons:{qubit}\")\n",
    "    # Print the redis config line by line\n",
    "    # for key, value in redis_config.items():\n",
    "    #     print(f\"{key}: {value}\")\n",
    "    print(redis_config['ro_freq'])\n",
    "    print(redis_config['freq_01'])\n",
    "    print(redis_config['freq_12'])\n",
    "    qubit_freq_ro_list[qubit] = redis_config['ro_freq']\n",
    "    qubit_freq_01_list[qubit] = redis_config['freq_01']\n",
    "    qubit_freq_12_list[qubit] = redis_config['freq_12']"
   ]
  },
  {
   "cell_type": "code",
   "execution_count": null,
   "metadata": {},
   "outputs": [
    {
     "name": "stdout",
     "output_type": "stream",
     "text": [
      "65.74378609486389\n",
      "-239.6804629617319\n",
      "-135.36227879060078\n",
      "-570.6970607523765\n"
     ]
    }
   ],
   "source": [
    "for qubit in qubits:\n",
    "    d = float(qubit_freq_ro_list[qubit]) - (float(qubit_freq_01_list[qubit])+float(qubit_freq_12_list[qubit]))\n",
    "    print(d/1e6)"
   ]
  },
  {
   "cell_type": "code",
   "execution_count": null,
   "metadata": {},
   "outputs": [
    {
     "name": "stdout",
     "output_type": "stream",
     "text": [
      "Qubit parameters q11:\n",
      "6933046236.676112\n",
      "Qubit parameters q12:\n",
      "6605630877.985153\n",
      "Qubit parameters q13:\n",
      "6687608483.810531\n",
      "Qubit parameters q14:\n",
      "6330507281.392011\n",
      "Qubit parameters q15:\n",
      "6933000688.562917\n"
     ]
    }
   ],
   "source": [
    "import redis\n",
    "redis_connection = redis.Redis(decode_responses=True)\n",
    "qubits = [ 'q11','q12','q13','q14','q15']\n",
    "qubit_freq_01_list,qubit_freq_ro_list,qubit_freq_12_list = {},{},{}\n",
    "for qubit in qubits: \n",
    "    print(f\"Qubit parameters {qubit}:\")\n",
    "    redis_config = redis_connection.hgetall(f\"transmons:{qubit}\")\n",
    "    # Print the redis config line by line\n",
    "    # for key, value in redis_config.items():\n",
    "    #     print(f\"{key}: {value}\")\n",
    "    print(redis_config['ro_freq'])\n",
    "    # print(redis_config['freq_01'])\n",
    "    # print(redis_config['freq_12'])\n",
    "    qubit_freq_ro_list[qubit] = redis_config['ro_freq']\n",
    "    # qubit_freq_01_list[qubit] = redis_config['freq_01']\n",
    "    # qubit_freq_12_list[qubit] = redis_config['freq_12']\n",
    "    # print(float(redis_config['freq_12'])-float(redis_config['freq_01']))"
   ]
  },
  {
   "cell_type": "code",
   "execution_count": null,
   "metadata": {},
   "outputs": [],
   "source": [
    "from config_files.VNA_values import VNA_resonator_frequencies, VNA_qubit_frequencies, VNA_f12_frequencies\n",
    "for qubit in qubits:\n",
    "    VNA_resonator_frequencies[qubit] = float(qubit_freq_ro_list[qubit])\n",
    "    VNA_qubit_frequencies[qubit] = float(qubit_freq_01_list[qubit])\n",
    "    VNA_f12_frequencies[qubit] = float(qubit_freq_12_list[qubit])\n",
    "# rewrite the VNA_values.py file\n",
    "with open('config_files/VNA_values.py', 'w') as f:\n",
    "    f.write(f\"VNA_resonator_frequencies = {VNA_resonator_frequencies}\\n\")\n",
    "    f.write(f\"VNA_qubit_frequencies = {VNA_qubit_frequencies}\\n\")\n",
    "    f.write(f\"VNA_f12_frequencies = {VNA_f12_frequencies}\\n\")"
   ]
  },
  {
   "cell_type": "code",
   "execution_count": null,
   "metadata": {},
   "outputs": [
    {
     "name": "stdout",
     "output_type": "stream",
     "text": [
      "{'q11': 6934572785.610347, 'q12': 6606753684.764918, 'q13': 6688313321.558435, 'q14': 6331351280.923618, 'q15': 6933698139.447023, 'q16': 6491000000.0, 'q17': 7059000000.0, 'q18': 6712000000.0, 'q19': 6818000000.0, 'q20': 6494000000.0, 'q21': 6751000000.0, 'q22': 6477000000.0, 'q23': 7052000000.0, 'q24': 6583000000.0, 'q25': 6853000000.0}\n",
      "{'q11': 3714895945.38633, 'q12': 3366961177.836733, 'q13': 3585016857.038436, 'q14': 3334060710.6204877, 'q15': 3872936707.280074, 'q16': 3189000000.0, 'q17': 3932000000.0, 'q18': 3254000000.0, 'q19': 3921000000.0, 'q20': 3333000000.0, 'q21': 3773000000.0, 'q22': 3326000000.0, 'q23': 3911000000.0, 'q24': 3271000000.0, 'q25': 4009000000.0}\n",
      "{'q11': 3480306890.6912713, 'q12': 3174059567.052809, 'q13': 3343386697.937837, 'q14': 3133224381.376709, 'q15': 3631763299.7146664, 'q16': 2993000000.0, 'q17': 3699000000.0, 'q18': 3154000000.0, 'q19': 3682000000.0, 'q20': 3233000000.0, 'q21': 3542000000.0, 'q22': 3131000000.0, 'q23': 3674000000.0, 'q24': 3171000000.0, 'q25': 3770000000.0}\n",
      "[-234.5890547  -192.90161078 -241.6301591  -200.83632924 -241.17340757\n",
      " -196.         -233.         -100.         -239.         -100.\n",
      " -231.         -195.         -237.         -100.         -239.        ]\n"
     ]
    }
   ],
   "source": [
    "import numpy as np\n",
    "print(VNA_resonator_frequencies)\n",
    "print(VNA_qubit_frequencies)\n",
    "print(VNA_f12_frequencies)\n",
    "anahar = (np.array(list(VNA_f12_frequencies.values()))-np.array(list(VNA_qubit_frequencies.values()))) / 1e6\n",
    "print(anahar)"
   ]
  },
  {
   "cell_type": "code",
   "execution_count": null,
   "metadata": {},
   "outputs": [
    {
     "data": {
      "text/plain": [
       "-9.325987"
      ]
     },
     "execution_count": 172,
     "metadata": {},
     "output_type": "execute_result"
    }
   ],
   "source": [
    "(3585016857+3334060710-(3585016857+3343386697))/1e6"
   ]
  },
  {
   "cell_type": "code",
   "execution_count": null,
   "metadata": {},
   "outputs": [
    {
     "data": {
      "text/plain": [
       "451.792476"
      ]
     },
     "execution_count": 173,
     "metadata": {},
     "output_type": "execute_result"
    }
   ],
   "source": [
    "(3585016857+3334060710-(3133224381+3334060710))/1e6"
   ]
  },
  {
   "cell_type": "code",
   "execution_count": null,
   "metadata": {},
   "outputs": [],
   "source": [
    "VNA_resonator_frequencies = {'q11': 6934572785.610347, 'q12': 6606753684.764918, 'q13': 6688313321.558435, 'q14': 6331351280.923618, 'q15': 6933698139.447023, 'q16': 6491000000.0, 'q17': 7059000000.0, 'q18': 6712000000.0, 'q19': 6818000000.0, 'q20': 6494000000.0, 'q21': 6751000000.0, 'q22': 6477000000.0, 'q23': 7052000000.0, 'q24': 6583000000.0, 'q25': 6853000000.0}\n",
    "VNA_qubit_frequencies = {'q11': 3714895945.38633, 'q12': 3366961177.836733, 'q13': 3585016857.038436, 'q14': 3334060710.6204877, 'q15': 3872936707.280074, 'q16': 3189000000.0, 'q17': 3932000000.0, 'q18': 3254000000.0, 'q19': 3921000000.0, 'q20': 3333000000.0, 'q21': 3773000000.0, 'q22': 3326000000.0, 'q23': 3911000000.0, 'q24': 3271000000.0, 'q25': 4009000000.0}\n",
    "VNA_f12_frequencies = {'q11': 3480306890.6912713, 'q12': 3174059567.052809, 'q13': 3343386697.937837, 'q14': 3133224381.376709, 'q15': 3631763299.7146664, 'q16': 2993000000.0, 'q17': 3699000000.0, 'q18': 3154000000.0, 'q19': 3682000000.0, 'q20': 3233000000.0, 'q21': 3542000000.0, 'q22': 3131000000.0, 'q23': 3674000000.0, 'q24': 3171000000.0, 'q25': 3770000000.0}\n"
   ]
  }
 ],
 "metadata": {
  "kernelspec": {
   "display_name": "tac",
   "language": "python",
   "name": "python3"
  },
  "language_info": {
   "codemirror_mode": {
    "name": "ipython",
    "version": 3
   },
   "file_extension": ".py",
   "mimetype": "text/x-python",
   "name": "python",
   "nbconvert_exporter": "python",
   "pygments_lexer": "ipython3",
   "version": "3.9.18"
  },
  "orig_nbformat": 4
 },
 "nbformat": 4,
 "nbformat_minor": 2
}
