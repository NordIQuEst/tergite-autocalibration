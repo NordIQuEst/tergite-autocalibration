{
 "cells": [
  {
   "cell_type": "markdown",
   "id": "c03a5157",
   "metadata": {},
   "source": [
    "Advanced sequencing\n",
    "================\n",
    "\n",
    "In this tutorial we will demonstrate advanced sequencer based operations, where we focus on waveform parametrization (see [Sequencer Operation](https://qblox-qblox-instruments.readthedocs-hosted.com/en/master/cluster/q1_sequence_processor.html#operation)). We will demonstrate this by creating a sequence that will show various sequencer features,\n",
    "including complex looping constructs, dynamic gain control, hardware-based modulation and marker output control.\n",
    "\n",
    "The sequence itself will use four waveform envelopes with a duration of 1μs each; a gaussian, a sine, a sawtooth and a block. We will have several nested loops\n",
    "in the sequence. The first loop will increase the wait period between the start of the iteration and playback of the waveform envelope and also increase the gain of\n",
    "the waveform envelope on every iteration. At the end of this loop a second loop will do the inverse operations. A third loop will loop over the first and\n",
    "second loops to iterate over the four waveform envelopes. And finally a fourth loop will function as an infinite loop over the third loop.\n",
    "At the same time, the sequence will also control marker output 1 and create a trigger point at the start of each iteration of the first and second loops as well an\n",
    "\"enable\" during playback. Finally, each waveform envelope will be modulated at 10MHz.\n",
    "\n",
    "The result of this sequence, when observed on an oscilloscope, will be iterating waveform envelopes that will be sliding over the modulation frequency with varying gain,\n",
    "encapsulated by an \"enable\" on the marker output. We highly recommend that you take a look at it, to get an impression of what is possible with the sequencers.\n",
    "\n",
    "We can perform this tutorial with a Cluster QCM/QRM . We use the term 'module' encompassing both QCM and QRM modules."
   ]
  },
  {
   "cell_type": "markdown",
   "id": "1c5e0a1e",
   "metadata": {
    "tags": []
   },
   "source": [
    "Setup\n",
    "-----\n",
    "\n",
    "First, we are going to import the required packages."
   ]
  },
  {
   "cell_type": "code",
   "execution_count": 1,
   "id": "f124fe4d",
   "metadata": {
    "execution": {
     "iopub.execute_input": "2024-01-15T14:18:21.763183Z",
     "iopub.status.busy": "2024-01-15T14:18:21.763014Z",
     "iopub.status.idle": "2024-01-15T14:18:22.272311Z",
     "shell.execute_reply": "2024-01-15T14:18:22.271872Z"
    }
   },
   "outputs": [],
   "source": [
    "\n",
    "from __future__ import annotations\n",
    "\n",
    "import contextlib\n",
    "import json\n",
    "import math\n",
    "from typing import TYPE_CHECKING, Callable\n",
    "\n",
    "import matplotlib.pyplot as plt\n",
    "import numpy as np\n",
    "import scipy.signal\n",
    "\n",
    "from qblox_instruments import Cluster, ClusterType\n",
    "\n",
    "if TYPE_CHECKING:\n",
    "    from qblox_instruments.qcodes_drivers.qcm_qrm import QcmQrm"
   ]
  },
  {
   "cell_type": "markdown",
   "id": "32ac70be",
   "metadata": {},
   "source": [
    "### Scan For Clusters\n",
    "\n",
    "We scan for the available devices connected via ethernet using the Plug & Play functionality of the Qblox Instruments package (see [Plug & Play](https://qblox-qblox-instruments.readthedocs-hosted.com/en/master/api_reference/tools.html#api-pnp) for more info)."
   ]
  },
  {
   "cell_type": "code",
   "execution_count": 2,
   "id": "139535b0",
   "metadata": {
    "execution": {
     "iopub.execute_input": "2024-01-15T14:18:22.273991Z",
     "iopub.status.busy": "2024-01-15T14:18:22.273895Z",
     "iopub.status.idle": "2024-01-15T14:18:23.723424Z",
     "shell.execute_reply": "2024-01-15T14:18:23.722874Z"
    }
   },
   "outputs": [
    {
     "name": "stdout",
     "output_type": "stream",
     "text": [
      "No devices found\r\n"
     ]
    }
   ],
   "source": [
    "!qblox-pnp list"
   ]
  },
  {
   "cell_type": "code",
   "execution_count": 2,
   "id": "2d3970b5",
   "metadata": {
    "execution": {
     "iopub.execute_input": "2024-01-15T14:18:23.725594Z",
     "iopub.status.busy": "2024-01-15T14:18:23.725221Z",
     "iopub.status.idle": "2024-01-15T14:18:23.727557Z",
     "shell.execute_reply": "2024-01-15T14:18:23.727208Z"
    }
   },
   "outputs": [],
   "source": [
    "cluster_ip = \"192.0.2.72\"\n",
    "cluster_name = \"cluster0\""
   ]
  },
  {
   "cell_type": "markdown",
   "id": "b91e510a",
   "metadata": {},
   "source": [
    "### Connect to Cluster\n",
    "\n",
    "We now make a connection with the Cluster."
   ]
  },
  {
   "cell_type": "code",
   "execution_count": 3,
   "id": "a006ca58",
   "metadata": {
    "execution": {
     "iopub.execute_input": "2024-01-15T14:18:23.728897Z",
     "iopub.status.busy": "2024-01-15T14:18:23.728810Z",
     "iopub.status.idle": "2024-01-15T14:18:27.414705Z",
     "shell.execute_reply": "2024-01-15T14:18:27.414354Z"
    },
    "lines_to_next_cell": 2
   },
   "outputs": [],
   "source": [
    "\n",
    "# Close the chosen QCodes instrument to prevent name clash\n",
    "with contextlib.suppress(KeyError):\n",
    "    Cluster.find_instrument(cluster_name).close()\n",
    "\n",
    "cluster = Cluster(\n",
    "    name=cluster_name,\n",
    "    identifier=cluster_ip,\n",
    "    dummy_cfg={\n",
    "        2: ClusterType.CLUSTER_QCM,\n",
    "        4: ClusterType.CLUSTER_QRM,\n",
    "        6: ClusterType.CLUSTER_QCM_RF,\n",
    "        8: ClusterType.CLUSTER_QRM_RF,\n",
    "    }\n",
    "    if cluster_ip is None\n",
    "    else None,\n",
    ")"
   ]
  },
  {
   "cell_type": "markdown",
   "id": "b82eeb31",
   "metadata": {
    "lines_to_next_cell": 2
   },
   "source": [
    "#### Get connected modules"
   ]
  },
  {
   "cell_type": "code",
   "execution_count": 4,
   "id": "15b24ba6",
   "metadata": {
    "execution": {
     "iopub.execute_input": "2024-01-15T14:18:27.416489Z",
     "iopub.status.busy": "2024-01-15T14:18:27.416385Z",
     "iopub.status.idle": "2024-01-15T14:18:27.418849Z",
     "shell.execute_reply": "2024-01-15T14:18:27.418588Z"
    }
   },
   "outputs": [],
   "source": [
    "def get_connected_modules(cluster: Cluster, filter_fn: Callable | None = None) -> dict[int, QcmQrm]:\n",
    "    def checked_filter_fn(mod: ClusterType) -> bool:\n",
    "        if filter_fn is not None:\n",
    "            return filter_fn(mod)\n",
    "        return True\n",
    "\n",
    "    return {\n",
    "        mod.slot_idx: mod for mod in cluster.modules if mod.present() and checked_filter_fn(mod)\n",
    "    }"
   ]
  },
  {
   "cell_type": "code",
   "execution_count": 6,
   "id": "0de7bee6",
   "metadata": {
    "execution": {
     "iopub.execute_input": "2024-01-15T14:18:27.420115Z",
     "iopub.status.busy": "2024-01-15T14:18:27.419963Z",
     "iopub.status.idle": "2024-01-15T14:18:36.361128Z",
     "shell.execute_reply": "2024-01-15T14:18:36.360875Z"
    }
   },
   "outputs": [
    {
     "data": {
      "text/plain": [
       "{14: <QcmQrm: cluster0_module14 of Cluster: cluster0>}"
      ]
     },
     "execution_count": 6,
     "metadata": {},
     "output_type": "execute_result"
    }
   ],
   "source": [
    "# QRM modules\n",
    "modules = get_connected_modules(cluster, lambda mod: mod.is_qcm_type and not mod.is_rf_type)\n",
    "modules"
   ]
  },
  {
   "cell_type": "code",
   "execution_count": 7,
   "id": "6f610ae7",
   "metadata": {
    "execution": {
     "iopub.execute_input": "2024-01-15T14:18:36.362863Z",
     "iopub.status.busy": "2024-01-15T14:18:36.362661Z",
     "iopub.status.idle": "2024-01-15T14:18:36.364659Z",
     "shell.execute_reply": "2024-01-15T14:18:36.364305Z"
    },
    "lines_to_next_cell": 0
   },
   "outputs": [],
   "source": [
    "module = modules[14]"
   ]
  },
  {
   "cell_type": "markdown",
   "id": "ab7af594",
   "metadata": {},
   "source": [
    "### Reset the Cluster\n",
    "\n",
    "We reset the Cluster to enter a well-defined state. Note that resetting will clear all stored parameters, so resetting between experiments is usually not desirable."
   ]
  },
  {
   "cell_type": "code",
   "execution_count": 8,
   "id": "f36efeb4",
   "metadata": {
    "execution": {
     "iopub.execute_input": "2024-01-15T14:18:36.366376Z",
     "iopub.status.busy": "2024-01-15T14:18:36.366168Z",
     "iopub.status.idle": "2024-01-15T14:18:39.641238Z",
     "shell.execute_reply": "2024-01-15T14:18:39.640983Z"
    }
   },
   "outputs": [
    {
     "name": "stdout",
     "output_type": "stream",
     "text": [
      "Status: OKAY, Flags: NONE, Slot flags: NONE\n"
     ]
    }
   ],
   "source": [
    "cluster.reset()\n",
    "print(cluster.get_system_state())"
   ]
  },
  {
   "cell_type": "markdown",
   "id": "135d350a",
   "metadata": {},
   "source": [
    "Generate waveforms <a id='gen_wf'></a>\n",
    "------------------\n",
    "\n",
    "Next, we need to create the gaussian, sine, sawtooth and block waveform envelopes for the sequence."
   ]
  },
  {
   "cell_type": "code",
   "execution_count": 9,
   "id": "c354c02f",
   "metadata": {
    "execution": {
     "iopub.execute_input": "2024-01-15T14:18:39.642504Z",
     "iopub.status.busy": "2024-01-15T14:18:39.642407Z",
     "iopub.status.idle": "2024-01-15T14:18:39.645566Z",
     "shell.execute_reply": "2024-01-15T14:18:39.645344Z"
    }
   },
   "outputs": [],
   "source": [
    "# Waveform parameters\n",
    "waveform_length = 1000  # nanoseconds\n",
    "\n",
    "# Waveform dictionary (data will hold the samples and index will be used to select the waveforms in the instrument).\n",
    "waveforms = {\n",
    "    \"gaussian\": {\n",
    "        \"data\": scipy.signal.windows.gaussian(waveform_length, std=0.12 * waveform_length).tolist(),\n",
    "        \"index\": 0,\n",
    "    },\n",
    "    \"sine\": {\n",
    "        \"data\": [math.sin((2 * math.pi / waveform_length) * i) for i in range(0, waveform_length)],\n",
    "        \"index\": 1,\n",
    "    },\n",
    "    \"sawtooth\": {\n",
    "        \"data\": [(1.0 / (waveform_length)) * i for i in range(0, waveform_length)],\n",
    "        \"index\": 2,\n",
    "    },\n",
    "    \"block\": {\"data\": [1.0 for i in range(0, waveform_length)], \"index\": 3},\n",
    "}"
   ]
  },
  {
   "cell_type": "markdown",
   "id": "a54ac6b0",
   "metadata": {},
   "source": [
    "Let's plot the waveforms to see what we have created."
   ]
  },
  {
   "cell_type": "code",
   "execution_count": 10,
   "id": "e3bfe7a6",
   "metadata": {
    "execution": {
     "iopub.execute_input": "2024-01-15T14:18:39.646743Z",
     "iopub.status.busy": "2024-01-15T14:18:39.646596Z",
     "iopub.status.idle": "2024-01-15T14:18:39.758025Z",
     "shell.execute_reply": "2024-01-15T14:18:39.757788Z"
    }
   },
   "outputs": [
    {
     "data": {
      "image/png": "[encoded data removed]",
      "text/plain": [
       "<Figure size 1000x621.118 with 1 Axes>"
      ]
     },
     "metadata": {},
     "output_type": "display_data"
    }
   ],
   "source": [
    "time = np.arange(0, max(map(lambda d: len(d[\"data\"]), waveforms.values())), 1)\n",
    "fig, ax = plt.subplots(1, 1, figsize=(10, 10 / 1.61))\n",
    "\n",
    "for wf, d in waveforms.items():\n",
    "    ax.plot(time[: len(d[\"data\"])], d[\"data\"], \".-\", linewidth=0.5, label=wf)\n",
    "\n",
    "ax.legend(loc=4)\n",
    "ax.grid(alpha=1 / 10)\n",
    "ax.set_ylabel(\"Waveform primitive amplitude\")\n",
    "ax.set_xlabel(\"Time (ns)\")\n",
    "\n",
    "plt.draw()\n",
    "plt.show()"
   ]
  },
  {
   "cell_type": "markdown",
   "id": "852b294a",
   "metadata": {},
   "source": [
    "Create Q1ASM program\n",
    "--------------------\n",
    "\n",
    "Now that we have the waveforms for the sequence, we need a Q1ASM program that sequences the waveforms as previously described."
   ]
  },
  {
   "cell_type": "code",
   "execution_count": 54,
   "id": "3d5a6e2b",
   "metadata": {
    "execution": {
     "iopub.execute_input": "2024-01-15T14:18:39.759539Z",
     "iopub.status.busy": "2024-01-15T14:18:39.759423Z",
     "iopub.status.idle": "2024-01-15T14:18:39.762090Z",
     "shell.execute_reply": "2024-01-15T14:18:39.761854Z"
    }
   },
   "outputs": [],
   "source": [
    "# Sequence program.\n",
    "seq_prog = \"\"\"\n",
    "                  wait_sync    4                    #Wait for synchronization\n",
    "                  reset_ph                          #Reset absolute phase\n",
    "                  upd_param    4                    #Update all parameters and wait 4ns\n",
    "start:            move         4,R0                 #Init number of waveforms\n",
    "                  move         2,R1                 #Init waveform index\n",
    "\n",
    "mult_wave_loop:   move         166,R2               #Init number of single wave loops (increasing wait)\n",
    "                  move         166,R3               #Init number of single wave loops (decreasing wait)\n",
    "                  move         24,R4                #Init number of dynamic wait time (total of 4us)\n",
    "                  move         3976,R5              #Init number of dynamic wait time remainder\n",
    "                  move         32768,R6             #Init gain (Maximum gain)\n",
    "\n",
    "sngl_wave_loop_0: move         800,R7               #Init number of long wait loops (total of 40ms)\n",
    "                  set_mrk      15                   #Set marker to 0xF\n",
    "                  upd_param    4                    #Update all parameters and wait 4ns\n",
    "                  set_mrk      0                    #Set marker to 0\n",
    "                  upd_param    96                   #Update all parameters and wait 96ns\n",
    "\n",
    "                  wait         R4                   #Dynamic wait\n",
    "                  add          R4,24,R4             #Increase wait\n",
    "\n",
    "                  set_mrk      1                    #Set marker to 1\n",
    "                  play         R1,R1,996            #Play waveform and wait 996ns\n",
    "                  set_mrk      0                    #Set marker to 0\n",
    "                  upd_param    4                    #Update all parameters and wait for 4ns\n",
    "\n",
    "                  wait         R5                   #Compensate previous dynamic wait\n",
    "                  sub          R5,24,R5             #Decrease wait\n",
    "\n",
    "                  # sub          R6,98,R6             #Decrease gain\n",
    "                  nop\n",
    "                  # set_awg_gain R6,R6                #Set gain\n",
    "\n",
    "long_wait_loop_0: wait         50000                #Wait 50 us\n",
    "                  loop         R7,@long_wait_loop_0 #Wait total of 40ms\n",
    "                  loop         R2,@sngl_wave_loop_0 #Repeat single wave loop\n",
    "\n",
    "sngl_wave_loop_1: move         800,R7               #Init number of long wait loops (total of 40ms)\n",
    "                  set_mrk      15                   #Set marker to 0xF\n",
    "                  upd_param    8                    #Update all parameters and wait 8ns\n",
    "                  set_mrk      0                    #Set marker to 0\n",
    "                  upd_param    92                   #Update all parameters and wait 92ns\n",
    "\n",
    "                  wait         R4                   #Dynamic wait\n",
    "                  sub          R4,24,R4             #Decrease wait\n",
    "\n",
    "                  set_mrk      1                    #Set marker to 1\n",
    "                  play         R1,R1,996            #Play waveform and wait 996ns\n",
    "                  set_mrk      0                    #Set marker to 0\n",
    "                  upd_param    4                    #Update all parameters and wait 4ns\n",
    "\n",
    "                  wait         R5                   #Compensate previous dynamic wait\n",
    "                  add          R5,24,R5             #Increase wait\n",
    "\n",
    "                  # sub          R6,98,R6             #Decrease gain\n",
    "                  nop\n",
    "                  # set_awg_gain R6,R6                #Set gain\n",
    "\n",
    "long_wait_loop_1: wait         50000                #Wait for 50 us\n",
    "                  loop         R7,@long_wait_loop_1 #Wait total of 40ms\n",
    "                  loop         R3,@sngl_wave_loop_1 #Repeat single wave loop\n",
    "\n",
    "                #   add          R1,1,R1              #Adjust waveform index\n",
    "                #   loop         R0,@mult_wave_loop   #Repeat with next waveform envelope\n",
    "                  jmp          @start               #Repeat entire sequence\n",
    "\"\"\""
   ]
  },
  {
   "cell_type": "markdown",
   "id": "14286889",
   "metadata": {},
   "source": [
    "Upload sequence\n",
    "---------------\n",
    "\n",
    "Now that we have the waveforms and Q1ASM program, we can combine them in a sequence stored in a JSON file."
   ]
  },
  {
   "cell_type": "code",
   "execution_count": 55,
   "id": "a770719e",
   "metadata": {
    "execution": {
     "iopub.execute_input": "2024-01-15T14:18:39.763251Z",
     "iopub.status.busy": "2024-01-15T14:18:39.763059Z",
     "iopub.status.idle": "2024-01-15T14:18:39.767624Z",
     "shell.execute_reply": "2024-01-15T14:18:39.767412Z"
    }
   },
   "outputs": [],
   "source": [
    "# Add sequence to single dictionary and write to JSON file.\n",
    "sequence = {\n",
    "    \"waveforms\": waveforms,\n",
    "    \"weights\": {},\n",
    "    \"acquisitions\": {},\n",
    "    \"program\": seq_prog,\n",
    "}\n",
    "with open(\"sequence.json\", \"w\", encoding=\"utf-8\") as file:\n",
    "    json.dump(sequence, file, indent=4)\n",
    "    file.close()"
   ]
  },
  {
   "cell_type": "markdown",
   "id": "6b812a70",
   "metadata": {},
   "source": [
    "Let's write the JSON file to the instruments. We will use sequencer 0 and 1, which will drive outputs $\\text{O}^{[1-2]}$ and $\\text{O}^{[3-4]}$ respectively."
   ]
  },
  {
   "cell_type": "code",
   "execution_count": 56,
   "id": "d301436b",
   "metadata": {
    "execution": {
     "iopub.execute_input": "2024-01-15T14:18:39.769016Z",
     "iopub.status.busy": "2024-01-15T14:18:39.768938Z",
     "iopub.status.idle": "2024-01-15T14:18:41.640815Z",
     "shell.execute_reply": "2024-01-15T14:18:41.640483Z"
    }
   },
   "outputs": [],
   "source": [
    "# Upload sequence.\n",
    "module.sequencer0.sequence(\"sequence.json\")\n",
    "module.sequencer1.sequence(\"sequence.json\")"
   ]
  },
  {
   "cell_type": "markdown",
   "id": "0df141ab",
   "metadata": {},
   "source": [
    "Play sequence\n",
    "-------------\n",
    "\n",
    "The sequence has been uploaded to the instrument. Now we need to configure the sequencers in the instrument to use the `wait_sync` instruction\n",
    "at the start of the Q1ASM program to synchronize and to enable the hardware-based modulation at 10MHz."
   ]
  },
  {
   "cell_type": "code",
   "execution_count": 57,
   "id": "c9dbb103",
   "metadata": {
    "execution": {
     "iopub.execute_input": "2024-01-15T14:18:41.642903Z",
     "iopub.status.busy": "2024-01-15T14:18:41.642678Z",
     "iopub.status.idle": "2024-01-15T14:18:45.718718Z",
     "shell.execute_reply": "2024-01-15T14:18:45.718442Z"
    }
   },
   "outputs": [],
   "source": [
    "# Configure the sequencers to synchronize and enable modulation at 10MHz.\n",
    "module.sequencer0.sync_en(True)\n",
    "module.sequencer0.mod_en_awg(True)\n",
    "module.sequencer0.nco_freq(0e6)\n",
    "module.sequencer1.sync_en(True)\n",
    "module.sequencer1.mod_en_awg(True)\n",
    "module.sequencer1.nco_freq(0e6)\n",
    "\n",
    "# Map sequencers to specific outputs (but first disable all sequencer connections).\n",
    "module.disconnect_outputs()\n",
    "\n",
    "# If it is a QRM, we only map sequencer 0 to the outputs.\n",
    "module.sequencer0.connect_sequencer(\"out0_1\")\n",
    "if module.is_qcm_type:\n",
    "    module.sequencer0.connect_sequencer(\"out2_3\")"
   ]
  },
  {
   "cell_type": "markdown",
   "id": "5f20f0c6",
   "metadata": {},
   "source": [
    "Now let's start the sequence. If you want to observe the sequence, this is the time to connect an oscilloscope to marker output 1 and one or more\n",
    "of the four outputs. Configure the oscilloscope to trigger on marker output 1."
   ]
  },
  {
   "cell_type": "code",
   "execution_count": 58,
   "id": "0e7d23d3",
   "metadata": {
    "execution": {
     "iopub.execute_input": "2024-01-15T14:18:45.720469Z",
     "iopub.status.busy": "2024-01-15T14:18:45.720360Z",
     "iopub.status.idle": "2024-01-15T14:18:46.697546Z",
     "shell.execute_reply": "2024-01-15T14:18:46.697286Z"
    }
   },
   "outputs": [
    {
     "name": "stdout",
     "output_type": "stream",
     "text": [
      "Status: RUNNING, Flags: NONE\n",
      "Status: RUNNING, Flags: NONE\n"
     ]
    }
   ],
   "source": [
    "# Arm and start sequencers.\n",
    "module.arm_sequencer(0)\n",
    "module.arm_sequencer(1)\n",
    "module.start_sequencer()\n",
    "\n",
    "# Print status of sequencers.\n",
    "print(module.get_sequencer_state(0))\n",
    "print(module.get_sequencer_state(1))"
   ]
  },
  {
   "cell_type": "markdown",
   "id": "e8786396",
   "metadata": {},
   "source": [
    "Before we continue, have you looked at the oscilloscope? Pretty nifty right? This is just an example. Imagine what else you can do with the power of\n",
    "the sequencers to control and/or speed up your experiments."
   ]
  },
  {
   "cell_type": "markdown",
   "id": "db65a715",
   "metadata": {
    "tags": []
   },
   "source": [
    "Stop\n",
    "----\n",
    "\n",
    "Finally, let's stop the sequencers if they haven't already and close the instrument connection. One can also display a detailed snapshot containing the instrument parameters before\n",
    "closing the connection by uncommenting the corresponding lines."
   ]
  },
  {
   "cell_type": "code",
   "execution_count": 31,
   "id": "a8058a90",
   "metadata": {
    "execution": {
     "iopub.execute_input": "2024-01-15T14:18:46.699155Z",
     "iopub.status.busy": "2024-01-15T14:18:46.698937Z",
     "iopub.status.idle": "2024-01-15T14:20:22.593135Z",
     "shell.execute_reply": "2024-01-15T14:20:22.592875Z"
    }
   },
   "outputs": [
    {
     "name": "stdout",
     "output_type": "stream",
     "text": [
      "Status: STOPPED, Flags: FORCED_STOP\n",
      "Status: STOPPED, Flags: FORCED_STOP\n",
      "\n",
      "Snapshot:\n",
      "cluster0_module14:\n",
      "\tparameter     value\n",
      "--------------------------------------------------------------------------------\n",
      "marker0_inv_en :\tFalse \n",
      "marker1_inv_en :\tFalse \n",
      "marker2_inv_en :\tFalse \n",
      "marker3_inv_en :\tFalse \n",
      "out0_offset    :\t0 (V)\n",
      "out1_offset    :\t0 (V)\n",
      "out2_offset    :\t0 (V)\n",
      "out3_offset    :\t0 (V)\n",
      "present        :\tTrue \n",
      "cluster0_module14_sequencer0:\n",
      "\tparameter                       value\n",
      "--------------------------------------------------------------------------------\n",
      "connect_out0                     :\tI \n",
      "connect_out1                     :\tQ \n",
      "connect_out2                     :\tI \n",
      "connect_out3                     :\tQ \n",
      "cont_mode_en_awg_path0           :\tFalse \n",
      "cont_mode_en_awg_path1           :\tFalse \n",
      "cont_mode_waveform_idx_awg_path0 :\t0 \n",
      "cont_mode_waveform_idx_awg_path1 :\t0 \n",
      "gain_awg_path0                   :\t1 \n",
      "gain_awg_path1                   :\t1 \n",
      "marker_ovr_en                    :\tFalse \n",
      "marker_ovr_value                 :\t0 \n",
      "mixer_corr_gain_ratio            :\t1 \n",
      "mixer_corr_phase_offset_degree   :\t-0 \n",
      "mod_en_awg                       :\tTrue \n",
      "nco_freq                         :\t1e+07 (Hz)\n",
      "nco_phase_offs                   :\t0 (Degrees)\n",
      "nco_prop_delay_comp              :\t0 (ns)\n",
      "nco_prop_delay_comp_en           :\tFalse (ns)\n",
      "offset_awg_path0                 :\t0 \n",
      "offset_awg_path1                 :\t0 \n",
      "sync_en                          :\tTrue \n",
      "trigger10_count_threshold        :\t1 \n",
      "trigger10_threshold_invert       :\tFalse \n",
      "trigger11_count_threshold        :\t1 \n",
      "trigger11_threshold_invert       :\tFalse \n",
      "trigger12_count_threshold        :\t1 \n",
      "trigger12_threshold_invert       :\tFalse \n",
      "trigger13_count_threshold        :\t1 \n",
      "trigger13_threshold_invert       :\tFalse \n",
      "trigger14_count_threshold        :\t1 \n",
      "trigger14_threshold_invert       :\tFalse \n",
      "trigger15_count_threshold        :\t1 \n",
      "trigger15_threshold_invert       :\tFalse \n",
      "trigger1_count_threshold         :\t1 \n",
      "trigger1_threshold_invert        :\tFalse \n",
      "trigger2_count_threshold         :\t1 \n",
      "trigger2_threshold_invert        :\tFalse \n",
      "trigger3_count_threshold         :\t1 \n",
      "trigger3_threshold_invert        :\tFalse \n",
      "trigger4_count_threshold         :\t1 \n",
      "trigger4_threshold_invert        :\tFalse \n",
      "trigger5_count_threshold         :\t1 \n",
      "trigger5_threshold_invert        :\tFalse \n",
      "trigger6_count_threshold         :\t1 \n",
      "trigger6_threshold_invert        :\tFalse \n",
      "trigger7_count_threshold         :\t1 \n",
      "trigger7_threshold_invert        :\tFalse \n",
      "trigger8_count_threshold         :\t1 \n",
      "trigger8_threshold_invert        :\tFalse \n",
      "trigger9_count_threshold         :\t1 \n",
      "trigger9_threshold_invert        :\tFalse \n",
      "upsample_rate_awg_path0          :\t0 \n",
      "upsample_rate_awg_path1          :\t0 \n",
      "cluster0_module14_sequencer1:\n",
      "\tparameter                       value\n",
      "--------------------------------------------------------------------------------\n",
      "connect_out0                     :\toff \n",
      "connect_out1                     :\toff \n",
      "connect_out2                     :\toff \n",
      "connect_out3                     :\toff \n",
      "cont_mode_en_awg_path0           :\tFalse \n",
      "cont_mode_en_awg_path1           :\tFalse \n",
      "cont_mode_waveform_idx_awg_path0 :\t0 \n",
      "cont_mode_waveform_idx_awg_path1 :\t0 \n",
      "gain_awg_path0                   :\t1 \n",
      "gain_awg_path1                   :\t1 \n",
      "marker_ovr_en                    :\tFalse \n",
      "marker_ovr_value                 :\t0 \n",
      "mixer_corr_gain_ratio            :\t1 \n",
      "mixer_corr_phase_offset_degree   :\t-0 \n",
      "mod_en_awg                       :\tTrue \n",
      "nco_freq                         :\t1e+07 (Hz)\n",
      "nco_phase_offs                   :\t0 (Degrees)\n",
      "nco_prop_delay_comp              :\t0 (ns)\n",
      "nco_prop_delay_comp_en           :\tFalse (ns)\n",
      "offset_awg_path0                 :\t0 \n",
      "offset_awg_path1                 :\t0 \n",
      "sync_en                          :\tTrue \n",
      "trigger10_count_threshold        :\t1 \n",
      "trigger10_threshold_invert       :\tFalse \n",
      "trigger11_count_threshold        :\t1 \n",
      "trigger11_threshold_invert       :\tFalse \n",
      "trigger12_count_threshold        :\t1 \n",
      "trigger12_threshold_invert       :\tFalse \n",
      "trigger13_count_threshold        :\t1 \n",
      "trigger13_threshold_invert       :\tFalse \n",
      "trigger14_count_threshold        :\t1 \n",
      "trigger14_threshold_invert       :\tFalse \n",
      "trigger15_count_threshold        :\t1 \n",
      "trigger15_threshold_invert       :\tFalse \n",
      "trigger1_count_threshold         :\t1 \n",
      "trigger1_threshold_invert        :\tFalse \n",
      "trigger2_count_threshold         :\t1 \n",
      "trigger2_threshold_invert        :\tFalse \n",
      "trigger3_count_threshold         :\t1 \n",
      "trigger3_threshold_invert        :\tFalse \n",
      "trigger4_count_threshold         :\t1 \n",
      "trigger4_threshold_invert        :\tFalse \n",
      "trigger5_count_threshold         :\t1 \n",
      "trigger5_threshold_invert        :\tFalse \n",
      "trigger6_count_threshold         :\t1 \n",
      "trigger6_threshold_invert        :\tFalse \n",
      "trigger7_count_threshold         :\t1 \n",
      "trigger7_threshold_invert        :\tFalse \n",
      "trigger8_count_threshold         :\t1 \n",
      "trigger8_threshold_invert        :\tFalse \n",
      "trigger9_count_threshold         :\t1 \n",
      "trigger9_threshold_invert        :\tFalse \n",
      "upsample_rate_awg_path0          :\t0 \n",
      "upsample_rate_awg_path1          :\t0 \n",
      "cluster0_module14_sequencer2:\n",
      "\tparameter                       value\n",
      "--------------------------------------------------------------------------------\n",
      "connect_out0                     :\toff \n",
      "connect_out1                     :\toff \n",
      "connect_out2                     :\toff \n",
      "connect_out3                     :\toff \n",
      "cont_mode_en_awg_path0           :\tFalse \n",
      "cont_mode_en_awg_path1           :\tFalse \n",
      "cont_mode_waveform_idx_awg_path0 :\t0 \n",
      "cont_mode_waveform_idx_awg_path1 :\t0 \n",
      "gain_awg_path0                   :\t1 \n",
      "gain_awg_path1                   :\t1 \n",
      "marker_ovr_en                    :\tFalse \n",
      "marker_ovr_value                 :\t0 \n",
      "mixer_corr_gain_ratio            :\t1 \n",
      "mixer_corr_phase_offset_degree   :\t-0 \n",
      "mod_en_awg                       :\tFalse \n",
      "nco_freq                         :\t0 (Hz)\n",
      "nco_phase_offs                   :\t0 (Degrees)\n",
      "nco_prop_delay_comp              :\t0 (ns)\n",
      "nco_prop_delay_comp_en           :\tFalse (ns)\n",
      "offset_awg_path0                 :\t0 \n",
      "offset_awg_path1                 :\t0 \n",
      "sync_en                          :\tFalse \n",
      "trigger10_count_threshold        :\t1 \n",
      "trigger10_threshold_invert       :\tFalse \n",
      "trigger11_count_threshold        :\t1 \n",
      "trigger11_threshold_invert       :\tFalse \n",
      "trigger12_count_threshold        :\t1 \n",
      "trigger12_threshold_invert       :\tFalse \n",
      "trigger13_count_threshold        :\t1 \n",
      "trigger13_threshold_invert       :\tFalse \n",
      "trigger14_count_threshold        :\t1 \n",
      "trigger14_threshold_invert       :\tFalse \n",
      "trigger15_count_threshold        :\t1 \n",
      "trigger15_threshold_invert       :\tFalse \n",
      "trigger1_count_threshold         :\t1 \n",
      "trigger1_threshold_invert        :\tFalse \n",
      "trigger2_count_threshold         :\t1 \n",
      "trigger2_threshold_invert        :\tFalse \n",
      "trigger3_count_threshold         :\t1 \n",
      "trigger3_threshold_invert        :\tFalse \n",
      "trigger4_count_threshold         :\t1 \n",
      "trigger4_threshold_invert        :\tFalse \n",
      "trigger5_count_threshold         :\t1 \n",
      "trigger5_threshold_invert        :\tFalse \n",
      "trigger6_count_threshold         :\t1 \n",
      "trigger6_threshold_invert        :\tFalse \n",
      "trigger7_count_threshold         :\t1 \n",
      "trigger7_threshold_invert        :\tFalse \n",
      "trigger8_count_threshold         :\t1 \n",
      "trigger8_threshold_invert        :\tFalse \n",
      "trigger9_count_threshold         :\t1 \n",
      "trigger9_threshold_invert        :\tFalse \n",
      "upsample_rate_awg_path0          :\t0 \n",
      "upsample_rate_awg_path1          :\t0 \n",
      "cluster0_module14_sequencer3:\n",
      "\tparameter                       value\n",
      "--------------------------------------------------------------------------------\n",
      "connect_out0                     :\toff \n",
      "connect_out1                     :\toff \n",
      "connect_out2                     :\toff \n",
      "connect_out3                     :\toff \n",
      "cont_mode_en_awg_path0           :\tFalse \n",
      "cont_mode_en_awg_path1           :\tFalse \n",
      "cont_mode_waveform_idx_awg_path0 :\t0 \n",
      "cont_mode_waveform_idx_awg_path1 :\t0 \n",
      "gain_awg_path0                   :\t1 \n",
      "gain_awg_path1                   :\t1 \n",
      "marker_ovr_en                    :\tFalse \n",
      "marker_ovr_value                 :\t0 \n",
      "mixer_corr_gain_ratio            :\t1 \n",
      "mixer_corr_phase_offset_degree   :\t-0 \n",
      "mod_en_awg                       :\tFalse \n",
      "nco_freq                         :\t0 (Hz)\n",
      "nco_phase_offs                   :\t0 (Degrees)\n",
      "nco_prop_delay_comp              :\t0 (ns)\n",
      "nco_prop_delay_comp_en           :\tFalse (ns)\n",
      "offset_awg_path0                 :\t0 \n",
      "offset_awg_path1                 :\t0 \n",
      "sync_en                          :\tFalse \n",
      "trigger10_count_threshold        :\t1 \n",
      "trigger10_threshold_invert       :\tFalse \n",
      "trigger11_count_threshold        :\t1 \n",
      "trigger11_threshold_invert       :\tFalse \n",
      "trigger12_count_threshold        :\t1 \n",
      "trigger12_threshold_invert       :\tFalse \n",
      "trigger13_count_threshold        :\t1 \n",
      "trigger13_threshold_invert       :\tFalse \n",
      "trigger14_count_threshold        :\t1 \n",
      "trigger14_threshold_invert       :\tFalse \n",
      "trigger15_count_threshold        :\t1 \n",
      "trigger15_threshold_invert       :\tFalse \n",
      "trigger1_count_threshold         :\t1 \n",
      "trigger1_threshold_invert        :\tFalse \n",
      "trigger2_count_threshold         :\t1 \n",
      "trigger2_threshold_invert        :\tFalse \n",
      "trigger3_count_threshold         :\t1 \n",
      "trigger3_threshold_invert        :\tFalse \n",
      "trigger4_count_threshold         :\t1 \n",
      "trigger4_threshold_invert        :\tFalse \n",
      "trigger5_count_threshold         :\t1 \n",
      "trigger5_threshold_invert        :\tFalse \n",
      "trigger6_count_threshold         :\t1 \n",
      "trigger6_threshold_invert        :\tFalse \n",
      "trigger7_count_threshold         :\t1 \n",
      "trigger7_threshold_invert        :\tFalse \n",
      "trigger8_count_threshold         :\t1 \n",
      "trigger8_threshold_invert        :\tFalse \n",
      "trigger9_count_threshold         :\t1 \n",
      "trigger9_threshold_invert        :\tFalse \n",
      "upsample_rate_awg_path0          :\t0 \n",
      "upsample_rate_awg_path1          :\t0 \n",
      "cluster0_module14_sequencer4:\n",
      "\tparameter                       value\n",
      "--------------------------------------------------------------------------------\n",
      "connect_out0                     :\toff \n",
      "connect_out1                     :\toff \n",
      "connect_out2                     :\toff \n",
      "connect_out3                     :\toff \n",
      "cont_mode_en_awg_path0           :\tFalse \n",
      "cont_mode_en_awg_path1           :\tFalse \n",
      "cont_mode_waveform_idx_awg_path0 :\t0 \n",
      "cont_mode_waveform_idx_awg_path1 :\t0 \n",
      "gain_awg_path0                   :\t1 \n",
      "gain_awg_path1                   :\t1 \n",
      "marker_ovr_en                    :\tFalse \n",
      "marker_ovr_value                 :\t0 \n",
      "mixer_corr_gain_ratio            :\t1 \n",
      "mixer_corr_phase_offset_degree   :\t-0 \n",
      "mod_en_awg                       :\tFalse \n",
      "nco_freq                         :\t0 (Hz)\n",
      "nco_phase_offs                   :\t0 (Degrees)\n",
      "nco_prop_delay_comp              :\t0 (ns)\n",
      "nco_prop_delay_comp_en           :\tFalse (ns)\n",
      "offset_awg_path0                 :\t0 \n",
      "offset_awg_path1                 :\t0 \n",
      "sync_en                          :\tFalse \n",
      "trigger10_count_threshold        :\t1 \n",
      "trigger10_threshold_invert       :\tFalse \n",
      "trigger11_count_threshold        :\t1 \n",
      "trigger11_threshold_invert       :\tFalse \n",
      "trigger12_count_threshold        :\t1 \n",
      "trigger12_threshold_invert       :\tFalse \n",
      "trigger13_count_threshold        :\t1 \n",
      "trigger13_threshold_invert       :\tFalse \n",
      "trigger14_count_threshold        :\t1 \n",
      "trigger14_threshold_invert       :\tFalse \n",
      "trigger15_count_threshold        :\t1 \n",
      "trigger15_threshold_invert       :\tFalse \n",
      "trigger1_count_threshold         :\t1 \n",
      "trigger1_threshold_invert        :\tFalse \n",
      "trigger2_count_threshold         :\t1 \n",
      "trigger2_threshold_invert        :\tFalse \n",
      "trigger3_count_threshold         :\t1 \n",
      "trigger3_threshold_invert        :\tFalse \n",
      "trigger4_count_threshold         :\t1 \n",
      "trigger4_threshold_invert        :\tFalse \n",
      "trigger5_count_threshold         :\t1 \n",
      "trigger5_threshold_invert        :\tFalse \n",
      "trigger6_count_threshold         :\t1 \n",
      "trigger6_threshold_invert        :\tFalse \n",
      "trigger7_count_threshold         :\t1 \n",
      "trigger7_threshold_invert        :\tFalse \n",
      "trigger8_count_threshold         :\t1 \n",
      "trigger8_threshold_invert        :\tFalse \n",
      "trigger9_count_threshold         :\t1 \n",
      "trigger9_threshold_invert        :\tFalse \n",
      "upsample_rate_awg_path0          :\t0 \n",
      "upsample_rate_awg_path1          :\t0 \n",
      "cluster0_module14_sequencer5:\n",
      "\tparameter                       value\n",
      "--------------------------------------------------------------------------------\n",
      "connect_out0                     :\toff \n",
      "connect_out1                     :\toff \n",
      "connect_out2                     :\toff \n",
      "connect_out3                     :\toff \n",
      "cont_mode_en_awg_path0           :\tFalse \n",
      "cont_mode_en_awg_path1           :\tFalse \n",
      "cont_mode_waveform_idx_awg_path0 :\t0 \n",
      "cont_mode_waveform_idx_awg_path1 :\t0 \n",
      "gain_awg_path0                   :\t1 \n",
      "gain_awg_path1                   :\t1 \n",
      "marker_ovr_en                    :\tFalse \n",
      "marker_ovr_value                 :\t0 \n",
      "mixer_corr_gain_ratio            :\t1 \n",
      "mixer_corr_phase_offset_degree   :\t-0 \n",
      "mod_en_awg                       :\tFalse \n",
      "nco_freq                         :\t0 (Hz)\n",
      "nco_phase_offs                   :\t0 (Degrees)\n",
      "nco_prop_delay_comp              :\t0 (ns)\n",
      "nco_prop_delay_comp_en           :\tFalse (ns)\n",
      "offset_awg_path0                 :\t0 \n",
      "offset_awg_path1                 :\t0 \n",
      "sync_en                          :\tFalse \n",
      "trigger10_count_threshold        :\t1 \n",
      "trigger10_threshold_invert       :\tFalse \n",
      "trigger11_count_threshold        :\t1 \n",
      "trigger11_threshold_invert       :\tFalse \n",
      "trigger12_count_threshold        :\t1 \n",
      "trigger12_threshold_invert       :\tFalse \n",
      "trigger13_count_threshold        :\t1 \n",
      "trigger13_threshold_invert       :\tFalse \n",
      "trigger14_count_threshold        :\t1 \n",
      "trigger14_threshold_invert       :\tFalse \n",
      "trigger15_count_threshold        :\t1 \n",
      "trigger15_threshold_invert       :\tFalse \n",
      "trigger1_count_threshold         :\t1 \n",
      "trigger1_threshold_invert        :\tFalse \n",
      "trigger2_count_threshold         :\t1 \n",
      "trigger2_threshold_invert        :\tFalse \n",
      "trigger3_count_threshold         :\t1 \n",
      "trigger3_threshold_invert        :\tFalse \n",
      "trigger4_count_threshold         :\t1 \n",
      "trigger4_threshold_invert        :\tFalse \n",
      "trigger5_count_threshold         :\t1 \n",
      "trigger5_threshold_invert        :\tFalse \n",
      "trigger6_count_threshold         :\t1 \n",
      "trigger6_threshold_invert        :\tFalse \n",
      "trigger7_count_threshold         :\t1 \n",
      "trigger7_threshold_invert        :\tFalse \n",
      "trigger8_count_threshold         :\t1 \n",
      "trigger8_threshold_invert        :\tFalse \n",
      "trigger9_count_threshold         :\t1 \n",
      "trigger9_threshold_invert        :\tFalse \n",
      "upsample_rate_awg_path0          :\t0 \n",
      "upsample_rate_awg_path1          :\t0 \n",
      "Status: OKAY, Flags: NONE, Slot flags: NONE\n"
     ]
    }
   ],
   "source": [
    "# Stop both sequencers.\n",
    "module.stop_sequencer()\n",
    "\n",
    "# Print status of both sequencers (should now say it is stopped).\n",
    "print(module.get_sequencer_state(0))\n",
    "print(module.get_sequencer_state(1))\n",
    "print()\n",
    "\n",
    "print(\"Snapshot:\")\n",
    "module.print_readable_snapshot(update=True)\n",
    "\n",
    "# Reset the cluster\n",
    "cluster.reset()\n",
    "print(cluster.get_system_state())"
   ]
  },
  {
   "cell_type": "code",
   "execution_count": null,
   "id": "19043e74",
   "metadata": {},
   "outputs": [],
   "source": []
  }
 ],
 "metadata": {
  "jupytext": {
   "formats": "ipynb,py:percent"
  },
  "kernelspec": {
   "display_name": "Python 3 (ipykernel)",
   "language": "python",
   "name": "python3"
  },
  "language_info": {
   "codemirror_mode": {
    "name": "ipython",
    "version": 3
   },
   "file_extension": ".py",
   "mimetype": "text/x-python",
   "name": "python",
   "nbconvert_exporter": "python",
   "pygments_lexer": "ipython3",
   "version": "3.9.18"
  }
 },
 "nbformat": 4,
 "nbformat_minor": 5
}
