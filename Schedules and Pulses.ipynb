{
 "cells": [
  {
   "cell_type": "code",
   "execution_count": 2,
   "id": "827e5749",
   "metadata": {},
   "outputs": [],
   "source": [
    "quantum_device = QuantumDevice(\"quantum_device\")\n",
    "device_compiler = SerialCompiler(\"Device compiler\", quantum_device)"
   ]
  },
  {
   "cell_type": "code",
   "execution_count": 239,
   "id": "437d6105",
   "metadata": {},
   "outputs": [
    {
     "data": {
      "application/vnd.plotly.v1+json": {
       "config": {
        "plotlyServerURL": "https://plot.ly"
       },
       "data": [
        {
         "fill": "tozeroy",
         "hoverinfo": "x+y+name",
         "hoverlabel": {
          "namelength": -1
         },
         "legendgroup": "1",
         "line": {
          "color": "#EF553B"
         },
         "mode": "lines",
         "name": "RampPulse, clock: q0.ro",
         "showlegend": true,
         "type": "scatter",
         "x": [
          0.000004,
          0.0000040009999999999995,
          0.000004001999999999999,
          0.000004002999999999999,
          0.0000040039999999999984,
          0.000004004999999999998,
          0.000004005999999999998,
          0.000004006999999999997,
          0.000004007999999999997,
          0.000004008999999999997,
          0.000004009999999999996,
          0.000004010999999999996,
          0.000004011999999999996,
          0.000004012999999999995,
          0.000004013999999999995,
          0.000004014999999999995,
          0.000004015999999999994,
          0.000004016999999999994,
          0.0000040179999999999935,
          0.000004018999999999993
         ],
         "xaxis": "x",
         "y": [
          -0.025,
          -0.02475,
          -0.0245,
          -0.02425,
          -0.024,
          -0.02375,
          -0.0235,
          -0.02325,
          -0.023,
          -0.02275,
          -0.0225,
          -0.02225,
          -0.022,
          -0.021750000000000002,
          -0.021500000000000002,
          -0.02125,
          -0.021,
          -0.02075,
          -0.0205,
          -0.02025
         ],
         "yaxis": "y"
        },
        {
         "fill": "tozeroy",
         "hoverinfo": "x+y+name",
         "hoverlabel": {
          "namelength": -1
         },
         "legendgroup": "2",
         "line": {
          "color": "#00CC96"
         },
         "mode": "lines",
         "name": "RampPulse, clock: q0.ro",
         "showlegend": true,
         "type": "scatter",
         "x": [
          0.00000402,
          0.000004020999999999999,
          0.000004021999999999999,
          0.000004022999999999999,
          0.000004023999999999998,
          0.000004024999999999998,
          0.0000040259999999999975,
          0.000004026999999999997,
          0.000004027999999999997,
          0.0000040289999999999965,
          0.000004029999999999996,
          0.000004030999999999996,
          0.0000040319999999999954,
          0.000004032999999999995,
          0.000004033999999999995,
          0.000004034999999999994,
          0.000004035999999999994,
          0.000004036999999999994,
          0.000004037999999999993,
          0.000004038999999999993
         ],
         "xaxis": "x",
         "y": [
          -0.025,
          -0.02375,
          -0.022500000000000003,
          -0.02125,
          -0.02,
          -0.018750000000000003,
          -0.0175,
          -0.01625,
          -0.015000000000000001,
          -0.013750000000000002,
          -0.0125,
          -0.011250000000000001,
          -0.010000000000000002,
          -0.00875,
          -0.0075,
          -0.006250000000000002,
          -0.005000000000000001,
          -0.00375,
          -0.0025000000000000022,
          -0.0012500000000000011
         ],
         "yaxis": "y"
        },
        {
         "fill": "tozeroy",
         "hoverinfo": "x+y+name",
         "hoverlabel": {
          "namelength": -1
         },
         "legendgroup": "3",
         "line": {
          "color": "#AB63FA"
         },
         "mode": "lines",
         "name": "RampPulse, clock: q0.ro",
         "showlegend": true,
         "type": "scatter",
         "x": [
          0.0000040399999999999994,
          0.000004040999999999999,
          0.000004041999999999999,
          0.000004042999999999998,
          0.000004043999999999998,
          0.000004044999999999998,
          0.000004045999999999997,
          0.000004046999999999997,
          0.000004047999999999997,
          0.000004048999999999996,
          0.000004049999999999996,
          0.000004050999999999996,
          0.000004051999999999995,
          0.000004052999999999995,
          0.0000040539999999999946,
          0.000004054999999999994,
          0.000004055999999999994,
          0.0000040569999999999935,
          0.000004057999999999993,
          0.000004058999999999993
         ],
         "xaxis": "x",
         "y": [
          -0.025,
          -0.025,
          -0.025,
          -0.025,
          -0.025,
          -0.025,
          -0.025,
          -0.025,
          -0.025,
          -0.025,
          -0.025,
          -0.025,
          -0.025,
          -0.025,
          -0.025,
          -0.025,
          -0.025,
          -0.025,
          -0.025,
          -0.025
         ],
         "yaxis": "y"
        },
        {
         "fill": "tozeroy",
         "hoverinfo": "x+y+name",
         "hoverlabel": {
          "namelength": -1
         },
         "legendgroup": "4",
         "line": {
          "color": "#FFA15A"
         },
         "mode": "lines",
         "name": "RampPulse, clock: q0.ro",
         "showlegend": true,
         "type": "scatter",
         "x": [
          0.000004059999999999999,
          0.000004060999999999999,
          0.0000040619999999999985,
          0.000004062999999999998,
          0.000004063999999999998,
          0.0000040649999999999975,
          0.000004065999999999997,
          0.000004066999999999997,
          0.0000040679999999999965,
          0.000004068999999999996,
          0.000004069999999999996,
          0.000004070999999999995,
          0.000004071999999999995,
          0.000004072999999999995,
          0.000004073999999999994,
          0.000004074999999999994,
          0.000004075999999999994,
          0.000004076999999999993,
          0.000004077999999999993,
          0.000004078999999999993
         ],
         "xaxis": "x",
         "y": [
          0,
          -0.00125,
          -0.0025,
          -0.00375,
          -0.005,
          -0.00625,
          -0.0075,
          -0.00875,
          -0.01,
          -0.01125,
          -0.0125,
          -0.01375,
          -0.015,
          -0.01625,
          -0.0175,
          -0.01875,
          -0.02,
          -0.02125,
          -0.0225,
          -0.02375
         ],
         "yaxis": "y"
        }
       ],
       "layout": {
        "height": 300,
        "showlegend": false,
        "template": {
         "data": {
          "bar": [
           {
            "error_x": {
             "color": "#2a3f5f"
            },
            "error_y": {
             "color": "#2a3f5f"
            },
            "marker": {
             "line": {
              "color": "#E5ECF6",
              "width": 0.5
             },
             "pattern": {
              "fillmode": "overlay",
              "size": 10,
              "solidity": 0.2
             }
            },
            "type": "bar"
           }
          ],
          "barpolar": [
           {
            "marker": {
             "line": {
              "color": "#E5ECF6",
              "width": 0.5
             },
             "pattern": {
              "fillmode": "overlay",
              "size": 10,
              "solidity": 0.2
             }
            },
            "type": "barpolar"
           }
          ],
          "carpet": [
           {
            "aaxis": {
             "endlinecolor": "#2a3f5f",
             "gridcolor": "white",
             "linecolor": "white",
             "minorgridcolor": "white",
             "startlinecolor": "#2a3f5f"
            },
            "baxis": {
             "endlinecolor": "#2a3f5f",
             "gridcolor": "white",
             "linecolor": "white",
             "minorgridcolor": "white",
             "startlinecolor": "#2a3f5f"
            },
            "type": "carpet"
           }
          ],
          "choropleth": [
           {
            "colorbar": {
             "outlinewidth": 0,
             "ticks": ""
            },
            "type": "choropleth"
           }
          ],
          "contour": [
           {
            "colorbar": {
             "outlinewidth": 0,
             "ticks": ""
            },
            "colorscale": [
             [
              0,
              "#0d0887"
             ],
             [
              0.1111111111111111,
              "#46039f"
             ],
             [
              0.2222222222222222,
              "#7201a8"
             ],
             [
              0.3333333333333333,
              "#9c179e"
             ],
             [
              0.4444444444444444,
              "#bd3786"
             ],
             [
              0.5555555555555556,
              "#d8576b"
             ],
             [
              0.6666666666666666,
              "#ed7953"
             ],
             [
              0.7777777777777778,
              "#fb9f3a"
             ],
             [
              0.8888888888888888,
              "#fdca26"
             ],
             [
              1,
              "#f0f921"
             ]
            ],
            "type": "contour"
           }
          ],
          "contourcarpet": [
           {
            "colorbar": {
             "outlinewidth": 0,
             "ticks": ""
            },
            "type": "contourcarpet"
           }
          ],
          "heatmap": [
           {
            "colorbar": {
             "outlinewidth": 0,
             "ticks": ""
            },
            "colorscale": [
             [
              0,
              "#0d0887"
             ],
             [
              0.1111111111111111,
              "#46039f"
             ],
             [
              0.2222222222222222,
              "#7201a8"
             ],
             [
              0.3333333333333333,
              "#9c179e"
             ],
             [
              0.4444444444444444,
              "#bd3786"
             ],
             [
              0.5555555555555556,
              "#d8576b"
             ],
             [
              0.6666666666666666,
              "#ed7953"
             ],
             [
              0.7777777777777778,
              "#fb9f3a"
             ],
             [
              0.8888888888888888,
              "#fdca26"
             ],
             [
              1,
              "#f0f921"
             ]
            ],
            "type": "heatmap"
           }
          ],
          "heatmapgl": [
           {
            "colorbar": {
             "outlinewidth": 0,
             "ticks": ""
            },
            "colorscale": [
             [
              0,
              "#0d0887"
             ],
             [
              0.1111111111111111,
              "#46039f"
             ],
             [
              0.2222222222222222,
              "#7201a8"
             ],
             [
              0.3333333333333333,
              "#9c179e"
             ],
             [
              0.4444444444444444,
              "#bd3786"
             ],
             [
              0.5555555555555556,
              "#d8576b"
             ],
             [
              0.6666666666666666,
              "#ed7953"
             ],
             [
              0.7777777777777778,
              "#fb9f3a"
             ],
             [
              0.8888888888888888,
              "#fdca26"
             ],
             [
              1,
              "#f0f921"
             ]
            ],
            "type": "heatmapgl"
           }
          ],
          "histogram": [
           {
            "marker": {
             "pattern": {
              "fillmode": "overlay",
              "size": 10,
              "solidity": 0.2
             }
            },
            "type": "histogram"
           }
          ],
          "histogram2d": [
           {
            "colorbar": {
             "outlinewidth": 0,
             "ticks": ""
            },
            "colorscale": [
             [
              0,
              "#0d0887"
             ],
             [
              0.1111111111111111,
              "#46039f"
             ],
             [
              0.2222222222222222,
              "#7201a8"
             ],
             [
              0.3333333333333333,
              "#9c179e"
             ],
             [
              0.4444444444444444,
              "#bd3786"
             ],
             [
              0.5555555555555556,
              "#d8576b"
             ],
             [
              0.6666666666666666,
              "#ed7953"
             ],
             [
              0.7777777777777778,
              "#fb9f3a"
             ],
             [
              0.8888888888888888,
              "#fdca26"
             ],
             [
              1,
              "#f0f921"
             ]
            ],
            "type": "histogram2d"
           }
          ],
          "histogram2dcontour": [
           {
            "colorbar": {
             "outlinewidth": 0,
             "ticks": ""
            },
            "colorscale": [
             [
              0,
              "#0d0887"
             ],
             [
              0.1111111111111111,
              "#46039f"
             ],
             [
              0.2222222222222222,
              "#7201a8"
             ],
             [
              0.3333333333333333,
              "#9c179e"
             ],
             [
              0.4444444444444444,
              "#bd3786"
             ],
             [
              0.5555555555555556,
              "#d8576b"
             ],
             [
              0.6666666666666666,
              "#ed7953"
             ],
             [
              0.7777777777777778,
              "#fb9f3a"
             ],
             [
              0.8888888888888888,
              "#fdca26"
             ],
             [
              1,
              "#f0f921"
             ]
            ],
            "type": "histogram2dcontour"
           }
          ],
          "mesh3d": [
           {
            "colorbar": {
             "outlinewidth": 0,
             "ticks": ""
            },
            "type": "mesh3d"
           }
          ],
          "parcoords": [
           {
            "line": {
             "colorbar": {
              "outlinewidth": 0,
              "ticks": ""
             }
            },
            "type": "parcoords"
           }
          ],
          "pie": [
           {
            "automargin": true,
            "type": "pie"
           }
          ],
          "scatter": [
           {
            "fillpattern": {
             "fillmode": "overlay",
             "size": 10,
             "solidity": 0.2
            },
            "type": "scatter"
           }
          ],
          "scatter3d": [
           {
            "line": {
             "colorbar": {
              "outlinewidth": 0,
              "ticks": ""
             }
            },
            "marker": {
             "colorbar": {
              "outlinewidth": 0,
              "ticks": ""
             }
            },
            "type": "scatter3d"
           }
          ],
          "scattercarpet": [
           {
            "marker": {
             "colorbar": {
              "outlinewidth": 0,
              "ticks": ""
             }
            },
            "type": "scattercarpet"
           }
          ],
          "scattergeo": [
           {
            "marker": {
             "colorbar": {
              "outlinewidth": 0,
              "ticks": ""
             }
            },
            "type": "scattergeo"
           }
          ],
          "scattergl": [
           {
            "marker": {
             "colorbar": {
              "outlinewidth": 0,
              "ticks": ""
             }
            },
            "type": "scattergl"
           }
          ],
          "scattermapbox": [
           {
            "marker": {
             "colorbar": {
              "outlinewidth": 0,
              "ticks": ""
             }
            },
            "type": "scattermapbox"
           }
          ],
          "scatterpolar": [
           {
            "marker": {
             "colorbar": {
              "outlinewidth": 0,
              "ticks": ""
             }
            },
            "type": "scatterpolar"
           }
          ],
          "scatterpolargl": [
           {
            "marker": {
             "colorbar": {
              "outlinewidth": 0,
              "ticks": ""
             }
            },
            "type": "scatterpolargl"
           }
          ],
          "scatterternary": [
           {
            "marker": {
             "colorbar": {
              "outlinewidth": 0,
              "ticks": ""
             }
            },
            "type": "scatterternary"
           }
          ],
          "surface": [
           {
            "colorbar": {
             "outlinewidth": 0,
             "ticks": ""
            },
            "colorscale": [
             [
              0,
              "#0d0887"
             ],
             [
              0.1111111111111111,
              "#46039f"
             ],
             [
              0.2222222222222222,
              "#7201a8"
             ],
             [
              0.3333333333333333,
              "#9c179e"
             ],
             [
              0.4444444444444444,
              "#bd3786"
             ],
             [
              0.5555555555555556,
              "#d8576b"
             ],
             [
              0.6666666666666666,
              "#ed7953"
             ],
             [
              0.7777777777777778,
              "#fb9f3a"
             ],
             [
              0.8888888888888888,
              "#fdca26"
             ],
             [
              1,
              "#f0f921"
             ]
            ],
            "type": "surface"
           }
          ],
          "table": [
           {
            "cells": {
             "fill": {
              "color": "#EBF0F8"
             },
             "line": {
              "color": "white"
             }
            },
            "header": {
             "fill": {
              "color": "#C8D4E3"
             },
             "line": {
              "color": "white"
             }
            },
            "type": "table"
           }
          ]
         },
         "layout": {
          "annotationdefaults": {
           "arrowcolor": "#2a3f5f",
           "arrowhead": 0,
           "arrowwidth": 1
          },
          "autotypenumbers": "strict",
          "coloraxis": {
           "colorbar": {
            "outlinewidth": 0,
            "ticks": ""
           }
          },
          "colorscale": {
           "diverging": [
            [
             0,
             "#8e0152"
            ],
            [
             0.1,
             "#c51b7d"
            ],
            [
             0.2,
             "#de77ae"
            ],
            [
             0.3,
             "#f1b6da"
            ],
            [
             0.4,
             "#fde0ef"
            ],
            [
             0.5,
             "#f7f7f7"
            ],
            [
             0.6,
             "#e6f5d0"
            ],
            [
             0.7,
             "#b8e186"
            ],
            [
             0.8,
             "#7fbc41"
            ],
            [
             0.9,
             "#4d9221"
            ],
            [
             1,
             "#276419"
            ]
           ],
           "sequential": [
            [
             0,
             "#0d0887"
            ],
            [
             0.1111111111111111,
             "#46039f"
            ],
            [
             0.2222222222222222,
             "#7201a8"
            ],
            [
             0.3333333333333333,
             "#9c179e"
            ],
            [
             0.4444444444444444,
             "#bd3786"
            ],
            [
             0.5555555555555556,
             "#d8576b"
            ],
            [
             0.6666666666666666,
             "#ed7953"
            ],
            [
             0.7777777777777778,
             "#fb9f3a"
            ],
            [
             0.8888888888888888,
             "#fdca26"
            ],
            [
             1,
             "#f0f921"
            ]
           ],
           "sequentialminus": [
            [
             0,
             "#0d0887"
            ],
            [
             0.1111111111111111,
             "#46039f"
            ],
            [
             0.2222222222222222,
             "#7201a8"
            ],
            [
             0.3333333333333333,
             "#9c179e"
            ],
            [
             0.4444444444444444,
             "#bd3786"
            ],
            [
             0.5555555555555556,
             "#d8576b"
            ],
            [
             0.6666666666666666,
             "#ed7953"
            ],
            [
             0.7777777777777778,
             "#fb9f3a"
            ],
            [
             0.8888888888888888,
             "#fdca26"
            ],
            [
             1,
             "#f0f921"
            ]
           ]
          },
          "colorway": [
           "#636efa",
           "#EF553B",
           "#00cc96",
           "#ab63fa",
           "#FFA15A",
           "#19d3f3",
           "#FF6692",
           "#B6E880",
           "#FF97FF",
           "#FECB52"
          ],
          "font": {
           "color": "#2a3f5f"
          },
          "geo": {
           "bgcolor": "white",
           "lakecolor": "white",
           "landcolor": "#E5ECF6",
           "showlakes": true,
           "showland": true,
           "subunitcolor": "white"
          },
          "hoverlabel": {
           "align": "left"
          },
          "hovermode": "closest",
          "mapbox": {
           "style": "light"
          },
          "paper_bgcolor": "white",
          "plot_bgcolor": "#E5ECF6",
          "polar": {
           "angularaxis": {
            "gridcolor": "white",
            "linecolor": "white",
            "ticks": ""
           },
           "bgcolor": "#E5ECF6",
           "radialaxis": {
            "gridcolor": "white",
            "linecolor": "white",
            "ticks": ""
           }
          },
          "scene": {
           "xaxis": {
            "backgroundcolor": "#E5ECF6",
            "gridcolor": "white",
            "gridwidth": 2,
            "linecolor": "white",
            "showbackground": true,
            "ticks": "",
            "zerolinecolor": "white"
           },
           "yaxis": {
            "backgroundcolor": "#E5ECF6",
            "gridcolor": "white",
            "gridwidth": 2,
            "linecolor": "white",
            "showbackground": true,
            "ticks": "",
            "zerolinecolor": "white"
           },
           "zaxis": {
            "backgroundcolor": "#E5ECF6",
            "gridcolor": "white",
            "gridwidth": 2,
            "linecolor": "white",
            "showbackground": true,
            "ticks": "",
            "zerolinecolor": "white"
           }
          },
          "shapedefaults": {
           "line": {
            "color": "#2a3f5f"
           }
          },
          "ternary": {
           "aaxis": {
            "gridcolor": "white",
            "linecolor": "white",
            "ticks": ""
           },
           "baxis": {
            "gridcolor": "white",
            "linecolor": "white",
            "ticks": ""
           },
           "bgcolor": "#E5ECF6",
           "caxis": {
            "gridcolor": "white",
            "linecolor": "white",
            "ticks": ""
           }
          },
          "title": {
           "x": 0.05
          },
          "xaxis": {
           "automargin": true,
           "gridcolor": "white",
           "linecolor": "white",
           "ticks": "",
           "title": {
            "standoff": 15
           },
           "zerolinecolor": "white",
           "zerolinewidth": 2
          },
          "yaxis": {
           "automargin": true,
           "gridcolor": "white",
           "linecolor": "white",
           "ticks": "",
           "title": {
            "standoff": 15
           },
           "zerolinecolor": "white",
           "zerolinewidth": 2
          }
         }
        },
        "title": {
         "text": "Qubit Reset"
        },
        "width": 1000,
        "xaxis": {
         "anchor": "y",
         "domain": [
          0,
          1
         ],
         "hoverformat": ".3s",
         "showgrid": true,
         "tickformat": ".2s",
         "tickformatstops": [
          {
           "dtickrange": [
            null,
            1e-9
           ],
           "value": ".10s"
          },
          {
           "dtickrange": [
            1e-9,
            0.000001
           ],
           "value": ".7s"
          },
          {
           "dtickrange": [
            0.000001,
            0.001
           ],
           "value": ".4s"
          }
         ],
         "ticksuffix": "s",
         "title": {
          "text": "Time"
         }
        },
        "yaxis": {
         "anchor": "x",
         "autorange": true,
         "domain": [
          0,
          1
         ],
         "hoverformat": ".3s",
         "tickformat": ".2s",
         "ticksuffix": "V",
         "title": {
          "text": "flux"
         }
        }
       }
      },
      "text/html": [
       "<div>                            <div id=\"a77c541b-ceac-4a6c-9f51-9c43539f311d\" class=\"plotly-graph-div\" style=\"height:300px; width:1000px;\"></div>            <script type=\"text/javascript\">                require([\"plotly\"], function(Plotly) {                    window.PLOTLYENV=window.PLOTLYENV || {};                                    if (document.getElementById(\"a77c541b-ceac-4a6c-9f51-9c43539f311d\")) {                    Plotly.newPlot(                        \"a77c541b-ceac-4a6c-9f51-9c43539f311d\",                        [{\"fill\":\"tozeroy\",\"hoverinfo\":\"x+y+name\",\"hoverlabel\":{\"namelength\":-1},\"legendgroup\":\"1\",\"line\":{\"color\":\"#EF553B\"},\"mode\":\"lines\",\"name\":\"RampPulse, clock: q0.ro\",\"showlegend\":true,\"x\":[4e-6,4.0009999999999995e-6,4.001999999999999e-6,4.002999999999999e-6,4.0039999999999984e-6,4.004999999999998e-6,4.005999999999998e-6,4.006999999999997e-6,4.007999999999997e-6,4.008999999999997e-6,4.009999999999996e-6,4.010999999999996e-6,4.011999999999996e-6,4.012999999999995e-6,4.013999999999995e-6,4.014999999999995e-6,4.015999999999994e-6,4.016999999999994e-6,4.0179999999999935e-6,4.018999999999993e-6],\"y\":[-0.025,-0.02475,-0.0245,-0.02425,-0.024,-0.02375,-0.0235,-0.02325,-0.023,-0.02275,-0.0225,-0.02225,-0.022,-0.021750000000000002,-0.021500000000000002,-0.02125,-0.021,-0.02075,-0.0205,-0.02025],\"type\":\"scatter\",\"xaxis\":\"x\",\"yaxis\":\"y\"},{\"fill\":\"tozeroy\",\"hoverinfo\":\"x+y+name\",\"hoverlabel\":{\"namelength\":-1},\"legendgroup\":\"2\",\"line\":{\"color\":\"#00CC96\"},\"mode\":\"lines\",\"name\":\"RampPulse, clock: q0.ro\",\"showlegend\":true,\"x\":[4.02e-6,4.020999999999999e-6,4.021999999999999e-6,4.022999999999999e-6,4.023999999999998e-6,4.024999999999998e-6,4.0259999999999975e-6,4.026999999999997e-6,4.027999999999997e-6,4.0289999999999965e-6,4.029999999999996e-6,4.030999999999996e-6,4.0319999999999954e-6,4.032999999999995e-6,4.033999999999995e-6,4.034999999999994e-6,4.035999999999994e-6,4.036999999999994e-6,4.037999999999993e-6,4.038999999999993e-6],\"y\":[-0.025,-0.02375,-0.022500000000000003,-0.02125,-0.02,-0.018750000000000003,-0.0175,-0.01625,-0.015000000000000001,-0.013750000000000002,-0.0125,-0.011250000000000001,-0.010000000000000002,-0.00875,-0.0075,-0.006250000000000002,-0.005000000000000001,-0.00375,-0.0025000000000000022,-0.0012500000000000011],\"type\":\"scatter\",\"xaxis\":\"x\",\"yaxis\":\"y\"},{\"fill\":\"tozeroy\",\"hoverinfo\":\"x+y+name\",\"hoverlabel\":{\"namelength\":-1},\"legendgroup\":\"3\",\"line\":{\"color\":\"#AB63FA\"},\"mode\":\"lines\",\"name\":\"RampPulse, clock: q0.ro\",\"showlegend\":true,\"x\":[4.0399999999999994e-6,4.040999999999999e-6,4.041999999999999e-6,4.042999999999998e-6,4.043999999999998e-6,4.044999999999998e-6,4.045999999999997e-6,4.046999999999997e-6,4.047999999999997e-6,4.048999999999996e-6,4.049999999999996e-6,4.050999999999996e-6,4.051999999999995e-6,4.052999999999995e-6,4.0539999999999946e-6,4.054999999999994e-6,4.055999999999994e-6,4.0569999999999935e-6,4.057999999999993e-6,4.058999999999993e-6],\"y\":[-0.025,-0.025,-0.025,-0.025,-0.025,-0.025,-0.025,-0.025,-0.025,-0.025,-0.025,-0.025,-0.025,-0.025,-0.025,-0.025,-0.025,-0.025,-0.025,-0.025],\"type\":\"scatter\",\"xaxis\":\"x\",\"yaxis\":\"y\"},{\"fill\":\"tozeroy\",\"hoverinfo\":\"x+y+name\",\"hoverlabel\":{\"namelength\":-1},\"legendgroup\":\"4\",\"line\":{\"color\":\"#FFA15A\"},\"mode\":\"lines\",\"name\":\"RampPulse, clock: q0.ro\",\"showlegend\":true,\"x\":[4.059999999999999e-6,4.060999999999999e-6,4.0619999999999985e-6,4.062999999999998e-6,4.063999999999998e-6,4.0649999999999975e-6,4.065999999999997e-6,4.066999999999997e-6,4.0679999999999965e-6,4.068999999999996e-6,4.069999999999996e-6,4.070999999999995e-6,4.071999999999995e-6,4.072999999999995e-6,4.073999999999994e-6,4.074999999999994e-6,4.075999999999994e-6,4.076999999999993e-6,4.077999999999993e-6,4.078999999999993e-6],\"y\":[0.0,-0.00125,-0.0025,-0.00375,-0.005,-0.00625,-0.0075,-0.00875,-0.01,-0.01125,-0.0125,-0.01375,-0.015,-0.01625,-0.0175,-0.01875,-0.02,-0.02125,-0.0225,-0.02375],\"type\":\"scatter\",\"xaxis\":\"x\",\"yaxis\":\"y\"}],                        {\"template\":{\"data\":{\"histogram2dcontour\":[{\"type\":\"histogram2dcontour\",\"colorbar\":{\"outlinewidth\":0,\"ticks\":\"\"},\"colorscale\":[[0.0,\"#0d0887\"],[0.1111111111111111,\"#46039f\"],[0.2222222222222222,\"#7201a8\"],[0.3333333333333333,\"#9c179e\"],[0.4444444444444444,\"#bd3786\"],[0.5555555555555556,\"#d8576b\"],[0.6666666666666666,\"#ed7953\"],[0.7777777777777778,\"#fb9f3a\"],[0.8888888888888888,\"#fdca26\"],[1.0,\"#f0f921\"]]}],\"choropleth\":[{\"type\":\"choropleth\",\"colorbar\":{\"outlinewidth\":0,\"ticks\":\"\"}}],\"histogram2d\":[{\"type\":\"histogram2d\",\"colorbar\":{\"outlinewidth\":0,\"ticks\":\"\"},\"colorscale\":[[0.0,\"#0d0887\"],[0.1111111111111111,\"#46039f\"],[0.2222222222222222,\"#7201a8\"],[0.3333333333333333,\"#9c179e\"],[0.4444444444444444,\"#bd3786\"],[0.5555555555555556,\"#d8576b\"],[0.6666666666666666,\"#ed7953\"],[0.7777777777777778,\"#fb9f3a\"],[0.8888888888888888,\"#fdca26\"],[1.0,\"#f0f921\"]]}],\"heatmap\":[{\"type\":\"heatmap\",\"colorbar\":{\"outlinewidth\":0,\"ticks\":\"\"},\"colorscale\":[[0.0,\"#0d0887\"],[0.1111111111111111,\"#46039f\"],[0.2222222222222222,\"#7201a8\"],[0.3333333333333333,\"#9c179e\"],[0.4444444444444444,\"#bd3786\"],[0.5555555555555556,\"#d8576b\"],[0.6666666666666666,\"#ed7953\"],[0.7777777777777778,\"#fb9f3a\"],[0.8888888888888888,\"#fdca26\"],[1.0,\"#f0f921\"]]}],\"heatmapgl\":[{\"type\":\"heatmapgl\",\"colorbar\":{\"outlinewidth\":0,\"ticks\":\"\"},\"colorscale\":[[0.0,\"#0d0887\"],[0.1111111111111111,\"#46039f\"],[0.2222222222222222,\"#7201a8\"],[0.3333333333333333,\"#9c179e\"],[0.4444444444444444,\"#bd3786\"],[0.5555555555555556,\"#d8576b\"],[0.6666666666666666,\"#ed7953\"],[0.7777777777777778,\"#fb9f3a\"],[0.8888888888888888,\"#fdca26\"],[1.0,\"#f0f921\"]]}],\"contourcarpet\":[{\"type\":\"contourcarpet\",\"colorbar\":{\"outlinewidth\":0,\"ticks\":\"\"}}],\"contour\":[{\"type\":\"contour\",\"colorbar\":{\"outlinewidth\":0,\"ticks\":\"\"},\"colorscale\":[[0.0,\"#0d0887\"],[0.1111111111111111,\"#46039f\"],[0.2222222222222222,\"#7201a8\"],[0.3333333333333333,\"#9c179e\"],[0.4444444444444444,\"#bd3786\"],[0.5555555555555556,\"#d8576b\"],[0.6666666666666666,\"#ed7953\"],[0.7777777777777778,\"#fb9f3a\"],[0.8888888888888888,\"#fdca26\"],[1.0,\"#f0f921\"]]}],\"surface\":[{\"type\":\"surface\",\"colorbar\":{\"outlinewidth\":0,\"ticks\":\"\"},\"colorscale\":[[0.0,\"#0d0887\"],[0.1111111111111111,\"#46039f\"],[0.2222222222222222,\"#7201a8\"],[0.3333333333333333,\"#9c179e\"],[0.4444444444444444,\"#bd3786\"],[0.5555555555555556,\"#d8576b\"],[0.6666666666666666,\"#ed7953\"],[0.7777777777777778,\"#fb9f3a\"],[0.8888888888888888,\"#fdca26\"],[1.0,\"#f0f921\"]]}],\"mesh3d\":[{\"type\":\"mesh3d\",\"colorbar\":{\"outlinewidth\":0,\"ticks\":\"\"}}],\"scatter\":[{\"fillpattern\":{\"fillmode\":\"overlay\",\"size\":10,\"solidity\":0.2},\"type\":\"scatter\"}],\"parcoords\":[{\"type\":\"parcoords\",\"line\":{\"colorbar\":{\"outlinewidth\":0,\"ticks\":\"\"}}}],\"scatterpolargl\":[{\"type\":\"scatterpolargl\",\"marker\":{\"colorbar\":{\"outlinewidth\":0,\"ticks\":\"\"}}}],\"bar\":[{\"error_x\":{\"color\":\"#2a3f5f\"},\"error_y\":{\"color\":\"#2a3f5f\"},\"marker\":{\"line\":{\"color\":\"#E5ECF6\",\"width\":0.5},\"pattern\":{\"fillmode\":\"overlay\",\"size\":10,\"solidity\":0.2}},\"type\":\"bar\"}],\"scattergeo\":[{\"type\":\"scattergeo\",\"marker\":{\"colorbar\":{\"outlinewidth\":0,\"ticks\":\"\"}}}],\"scatterpolar\":[{\"type\":\"scatterpolar\",\"marker\":{\"colorbar\":{\"outlinewidth\":0,\"ticks\":\"\"}}}],\"histogram\":[{\"marker\":{\"pattern\":{\"fillmode\":\"overlay\",\"size\":10,\"solidity\":0.2}},\"type\":\"histogram\"}],\"scattergl\":[{\"type\":\"scattergl\",\"marker\":{\"colorbar\":{\"outlinewidth\":0,\"ticks\":\"\"}}}],\"scatter3d\":[{\"type\":\"scatter3d\",\"line\":{\"colorbar\":{\"outlinewidth\":0,\"ticks\":\"\"}},\"marker\":{\"colorbar\":{\"outlinewidth\":0,\"ticks\":\"\"}}}],\"scattermapbox\":[{\"type\":\"scattermapbox\",\"marker\":{\"colorbar\":{\"outlinewidth\":0,\"ticks\":\"\"}}}],\"scatterternary\":[{\"type\":\"scatterternary\",\"marker\":{\"colorbar\":{\"outlinewidth\":0,\"ticks\":\"\"}}}],\"scattercarpet\":[{\"type\":\"scattercarpet\",\"marker\":{\"colorbar\":{\"outlinewidth\":0,\"ticks\":\"\"}}}],\"carpet\":[{\"aaxis\":{\"endlinecolor\":\"#2a3f5f\",\"gridcolor\":\"white\",\"linecolor\":\"white\",\"minorgridcolor\":\"white\",\"startlinecolor\":\"#2a3f5f\"},\"baxis\":{\"endlinecolor\":\"#2a3f5f\",\"gridcolor\":\"white\",\"linecolor\":\"white\",\"minorgridcolor\":\"white\",\"startlinecolor\":\"#2a3f5f\"},\"type\":\"carpet\"}],\"table\":[{\"cells\":{\"fill\":{\"color\":\"#EBF0F8\"},\"line\":{\"color\":\"white\"}},\"header\":{\"fill\":{\"color\":\"#C8D4E3\"},\"line\":{\"color\":\"white\"}},\"type\":\"table\"}],\"barpolar\":[{\"marker\":{\"line\":{\"color\":\"#E5ECF6\",\"width\":0.5},\"pattern\":{\"fillmode\":\"overlay\",\"size\":10,\"solidity\":0.2}},\"type\":\"barpolar\"}],\"pie\":[{\"automargin\":true,\"type\":\"pie\"}]},\"layout\":{\"autotypenumbers\":\"strict\",\"colorway\":[\"#636efa\",\"#EF553B\",\"#00cc96\",\"#ab63fa\",\"#FFA15A\",\"#19d3f3\",\"#FF6692\",\"#B6E880\",\"#FF97FF\",\"#FECB52\"],\"font\":{\"color\":\"#2a3f5f\"},\"hovermode\":\"closest\",\"hoverlabel\":{\"align\":\"left\"},\"paper_bgcolor\":\"white\",\"plot_bgcolor\":\"#E5ECF6\",\"polar\":{\"bgcolor\":\"#E5ECF6\",\"angularaxis\":{\"gridcolor\":\"white\",\"linecolor\":\"white\",\"ticks\":\"\"},\"radialaxis\":{\"gridcolor\":\"white\",\"linecolor\":\"white\",\"ticks\":\"\"}},\"ternary\":{\"bgcolor\":\"#E5ECF6\",\"aaxis\":{\"gridcolor\":\"white\",\"linecolor\":\"white\",\"ticks\":\"\"},\"baxis\":{\"gridcolor\":\"white\",\"linecolor\":\"white\",\"ticks\":\"\"},\"caxis\":{\"gridcolor\":\"white\",\"linecolor\":\"white\",\"ticks\":\"\"}},\"coloraxis\":{\"colorbar\":{\"outlinewidth\":0,\"ticks\":\"\"}},\"colorscale\":{\"sequential\":[[0.0,\"#0d0887\"],[0.1111111111111111,\"#46039f\"],[0.2222222222222222,\"#7201a8\"],[0.3333333333333333,\"#9c179e\"],[0.4444444444444444,\"#bd3786\"],[0.5555555555555556,\"#d8576b\"],[0.6666666666666666,\"#ed7953\"],[0.7777777777777778,\"#fb9f3a\"],[0.8888888888888888,\"#fdca26\"],[1.0,\"#f0f921\"]],\"sequentialminus\":[[0.0,\"#0d0887\"],[0.1111111111111111,\"#46039f\"],[0.2222222222222222,\"#7201a8\"],[0.3333333333333333,\"#9c179e\"],[0.4444444444444444,\"#bd3786\"],[0.5555555555555556,\"#d8576b\"],[0.6666666666666666,\"#ed7953\"],[0.7777777777777778,\"#fb9f3a\"],[0.8888888888888888,\"#fdca26\"],[1.0,\"#f0f921\"]],\"diverging\":[[0,\"#8e0152\"],[0.1,\"#c51b7d\"],[0.2,\"#de77ae\"],[0.3,\"#f1b6da\"],[0.4,\"#fde0ef\"],[0.5,\"#f7f7f7\"],[0.6,\"#e6f5d0\"],[0.7,\"#b8e186\"],[0.8,\"#7fbc41\"],[0.9,\"#4d9221\"],[1,\"#276419\"]]},\"xaxis\":{\"gridcolor\":\"white\",\"linecolor\":\"white\",\"ticks\":\"\",\"title\":{\"standoff\":15},\"zerolinecolor\":\"white\",\"automargin\":true,\"zerolinewidth\":2},\"yaxis\":{\"gridcolor\":\"white\",\"linecolor\":\"white\",\"ticks\":\"\",\"title\":{\"standoff\":15},\"zerolinecolor\":\"white\",\"automargin\":true,\"zerolinewidth\":2},\"scene\":{\"xaxis\":{\"backgroundcolor\":\"#E5ECF6\",\"gridcolor\":\"white\",\"linecolor\":\"white\",\"showbackground\":true,\"ticks\":\"\",\"zerolinecolor\":\"white\",\"gridwidth\":2},\"yaxis\":{\"backgroundcolor\":\"#E5ECF6\",\"gridcolor\":\"white\",\"linecolor\":\"white\",\"showbackground\":true,\"ticks\":\"\",\"zerolinecolor\":\"white\",\"gridwidth\":2},\"zaxis\":{\"backgroundcolor\":\"#E5ECF6\",\"gridcolor\":\"white\",\"linecolor\":\"white\",\"showbackground\":true,\"ticks\":\"\",\"zerolinecolor\":\"white\",\"gridwidth\":2}},\"shapedefaults\":{\"line\":{\"color\":\"#2a3f5f\"}},\"annotationdefaults\":{\"arrowcolor\":\"#2a3f5f\",\"arrowhead\":0,\"arrowwidth\":1},\"geo\":{\"bgcolor\":\"white\",\"landcolor\":\"#E5ECF6\",\"subunitcolor\":\"white\",\"showland\":true,\"showlakes\":true,\"lakecolor\":\"white\"},\"title\":{\"x\":0.05},\"mapbox\":{\"style\":\"light\"}}},\"xaxis\":{\"anchor\":\"y\",\"domain\":[0.0,1.0],\"tickformat\":\".2s\",\"hoverformat\":\".3s\",\"ticksuffix\":\"s\",\"showgrid\":true,\"title\":{\"text\":\"Time\"},\"tickformatstops\":[{\"dtickrange\":[null,1e-9],\"value\":\".10s\"},{\"dtickrange\":[1e-9,1e-6],\"value\":\".7s\"},{\"dtickrange\":[1e-6,0.001],\"value\":\".4s\"}]},\"yaxis\":{\"anchor\":\"x\",\"domain\":[0.0,1.0],\"tickformat\":\".2s\",\"hoverformat\":\".3s\",\"ticksuffix\":\"V\",\"title\":{\"text\":\"flux\"},\"autorange\":true},\"height\":300,\"width\":1000,\"title\":{\"text\":\"Qubit Reset\"},\"showlegend\":false},                        {\"responsive\": true}                    ).then(function(){\n",
       "                            \n",
       "var gd = document.getElementById('a77c541b-ceac-4a6c-9f51-9c43539f311d');\n",
       "var x = new MutationObserver(function (mutations, observer) {{\n",
       "        var display = window.getComputedStyle(gd).display;\n",
       "        if (!display || display === 'none') {{\n",
       "            console.log([gd, 'removed!']);\n",
       "            Plotly.purge(gd);\n",
       "            observer.disconnect();\n",
       "        }}\n",
       "}});\n",
       "\n",
       "// Listen for the removal of the full notebook cells\n",
       "var notebookContainer = gd.closest('#notebook-container');\n",
       "if (notebookContainer) {{\n",
       "    x.observe(notebookContainer, {childList: true});\n",
       "}}\n",
       "\n",
       "// Listen for the clearing of the current output cell\n",
       "var outputEl = gd.closest('.output');\n",
       "if (outputEl) {{\n",
       "    x.observe(outputEl, {childList: true});\n",
       "}}\n",
       "\n",
       "                        })                };                });            </script>        </div>"
      ]
     },
     "metadata": {},
     "output_type": "display_data"
    }
   ],
   "source": [
    "from quantify_scheduler import Schedule\n",
    "from quantify_scheduler.resources import ClockResource\n",
    "from quantify_scheduler.operations import pulse_library\n",
    "from quantify_scheduler.operations.pulse_library import IdlePulse,RampPulse,GaussPulse,NumericalPulse\n",
    "from quantify_scheduler.backends.graph_compilation import SerialCompiler\n",
    "from quantify_scheduler.device_under_test.quantum_device import QuantumDevice\n",
    "from scipy.signal.windows import gaussian\n",
    "\n",
    "import numpy as np\n",
    "\n",
    "sched = Schedule(\"Qubit Reset\")\n",
    "\n",
    "readout_clock = ClockResource(name=\"q0.ro\", freq=0e9)\n",
    "sched.add_resource(readout_clock)\n",
    "\n",
    "# qc_offset = -10\n",
    "# qc_duration = 0.06e-6\n",
    "# cr_duration = 0.25e-6\n",
    "# amp = duration / target_duration* offset\n",
    "start = sched.add(IdlePulse(duration=4e-6))\n",
    "\n",
    "# square_pulse = sched.add(\n",
    "#     RampPulse(offset=qc_offset, amp=-qc_offset, duration=duration, port=\"flux\", clock=\"q0.ro\")\n",
    "# )\n",
    "\n",
    "# # sched.add(IdlePulse(duration=4e-9),ref_op = start,ref_pt=\"end\",rel_time=0.05e-6)\n",
    "\n",
    "# cr_offset = 10\n",
    "# square_pulse = sched.add(\n",
    "#     RampPulse(offset=cr_offset, amp=0, duration=cr_duration, port=\"flux\", clock=\"q0.ro\")\n",
    "# )\n",
    "\n",
    "\n",
    "# qfc_offset = -1\n",
    "# qfc_duration = 200e-9\n",
    "# square_pulse = sched.add(\n",
    "#     RampPulse(offset=qfc_offset, amp=0, duration=qfc_duration, port=\"flux\", clock=\"q0.ro\")\n",
    "# )\n",
    "\n",
    "# target_duration = 100e-9\n",
    "# target_amp = -qfc_duration / target_duration * qfc_offset\n",
    "\n",
    "# square_pulse = sched.add(\n",
    "#     RampPulse(offset=qfc_offset, amp=target_amp, duration=qfc_duration, port=\"flux\", clock=\"q0.ro\")\n",
    "# )\n",
    "\n",
    "# # sched.add(IdlePulse(duration=4e-9),ref_op = start,ref_pt=\"end\",rel_time=0.05e-6)\n",
    "\n",
    "# square_pulse = sched.add(\n",
    "#     RampPulse(offset=cr_offset, amp=0, duration=cr_duration, port=\"flux\", clock=\"q0.ro\")\n",
    "# )\n",
    "\n",
    "# qc_duration = 0.01e-6\n",
    "# square_pulse = sched.add(\n",
    "#     RampPulse(offset=qc_offset, amp=0, duration=duration, port=\"flux\", clock=\"q0.ro\")\n",
    "# )\n",
    "\n",
    "# gaussian\n",
    "\n",
    "# qcf_t = 14e-9\n",
    "# qcf_amp = -0.076\n",
    "# sched.add(\n",
    "#     RampPulse(offset=qcf_amp, amp=0, duration=qcf_t, port=\"flux\", clock=\"q0.ro\")\n",
    "# )\n",
    "\n",
    "# crf_t = 360e-9\n",
    "# crf_amp = 0.061\n",
    "\n",
    "# sched.add(\n",
    "#     RampPulse(offset=crf_amp, amp=0, duration=crf_t, port=\"flux\", clock=\"q0.ro\")\n",
    "# )\n",
    "\n",
    "# qcf_t = 25e-9\n",
    "# qcf_amp = -0.044\n",
    "# sched.add(\n",
    "#     GaussPulse(duration = qcf_t, G_amp = qcf_amp, phase = 0, port = \"flux\", clock = \"q0.ro\",)\n",
    "# )\n",
    "\n",
    "\n",
    "# sched.add(\n",
    "#     RampPulse(offset=crf_amp, amp=0, duration=crf_t, port=\"flux\", clock=\"q0.ro\")\n",
    "# )\n",
    "\n",
    "# qc_t = 20e-9\n",
    "# qc_amp = -0.025\n",
    "# sched.add(\n",
    "#     GaussPulse(duration = qc_t,G_amp = qc_amp,phase = 0,port = \"flux\",clock = \"q0.ro\",)\n",
    "# )\n",
    "\n",
    "# cr_t = 190e-9\n",
    "# cr_amp = 0.055\n",
    "# sched.add(\n",
    "#     RampPulse(offset=cr_amp, amp=0, duration=cr_t, port=\"flux\", clock=\"q0.ro\")\n",
    "# )\n",
    "\n",
    "# qc_t = 20e-9\n",
    "# qc_amp = -0.025\n",
    "# sched.add(\n",
    "#     GaussPulse(duration = qc_t,G_amp = qc_amp,phase = 0,port = \"flux\",clock = \"q0.ro\",)\n",
    "# )\n",
    "\n",
    "qc_t = 20e-9\n",
    "qc_amp = -0.025\n",
    "target_duration = 100e-9\n",
    "target_amp = qc_t / target_duration * qc_amp \n",
    "\n",
    "sched.add(\n",
    "    RampPulse(offset=qc_amp, amp=-target_amp, duration=qc_t, port=\"flux\", clock=\"q0.ro\")\n",
    ")\n",
    "sched.add(\n",
    "    RampPulse(offset=qc_amp, amp=-qc_amp, duration=qc_t, port=\"flux\", clock=\"q0.ro\")\n",
    ")\n",
    "sched.add(\n",
    "    RampPulse(offset=qc_amp, amp=0, duration=qc_t, port=\"flux\", clock=\"q0.ro\")\n",
    ")\n",
    "sched.add(\n",
    "    RampPulse(offset=0, amp=qc_amp, duration=qc_t, port=\"flux\", clock=\"q0.ro\")\n",
    ")\n",
    "\n",
    "comp_sched = device_compiler.compile(sched)\n",
    "comp_sched.plot_pulse_diagram(plot_backend=\"plotly\")\n",
    "\n"
   ]
  },
  {
   "cell_type": "code",
   "execution_count": 251,
   "id": "54ce04af",
   "metadata": {},
   "outputs": [
    {
     "data": {
      "application/vnd.plotly.v1+json": {
       "config": {
        "plotlyServerURL": "https://plot.ly"
       },
       "data": [
        {
         "fill": "tozeroy",
         "hoverinfo": "x+y+name",
         "hoverlabel": {
          "namelength": -1
         },
         "legendgroup": "1",
         "line": {
          "color": "#EF553B"
         },
         "mode": "lines",
         "name": "RampPulse, clock: q0.ro",
         "showlegend": true,
         "type": "scatter",
         "x": [
          0.000004,
          0.0000040009999999999995,
          0.000004001999999999999,
          0.000004002999999999999,
          0.0000040039999999999984,
          0.000004004999999999998,
          0.000004005999999999998,
          0.000004006999999999997,
          0.000004007999999999997,
          0.000004008999999999997,
          0.000004009999999999996,
          0.000004010999999999996,
          0.000004011999999999996,
          0.000004012999999999995,
          0.000004013999999999995,
          0.000004014999999999995,
          0.000004015999999999994,
          0.000004016999999999994,
          0.0000040179999999999935,
          0.000004018999999999993
         ],
         "xaxis": "x",
         "y": [
          -0.025,
          -0.02375,
          -0.022500000000000003,
          -0.02125,
          -0.02,
          -0.018750000000000003,
          -0.0175,
          -0.01625,
          -0.015000000000000001,
          -0.013750000000000002,
          -0.0125,
          -0.011250000000000001,
          -0.010000000000000002,
          -0.00875,
          -0.0075,
          -0.006250000000000002,
          -0.005000000000000001,
          -0.00375,
          -0.0025000000000000022,
          -0.0012500000000000011
         ],
         "yaxis": "y"
        }
       ],
       "layout": {
        "height": 300,
        "showlegend": false,
        "template": {
         "data": {
          "bar": [
           {
            "error_x": {
             "color": "#2a3f5f"
            },
            "error_y": {
             "color": "#2a3f5f"
            },
            "marker": {
             "line": {
              "color": "#E5ECF6",
              "width": 0.5
             },
             "pattern": {
              "fillmode": "overlay",
              "size": 10,
              "solidity": 0.2
             }
            },
            "type": "bar"
           }
          ],
          "barpolar": [
           {
            "marker": {
             "line": {
              "color": "#E5ECF6",
              "width": 0.5
             },
             "pattern": {
              "fillmode": "overlay",
              "size": 10,
              "solidity": 0.2
             }
            },
            "type": "barpolar"
           }
          ],
          "carpet": [
           {
            "aaxis": {
             "endlinecolor": "#2a3f5f",
             "gridcolor": "white",
             "linecolor": "white",
             "minorgridcolor": "white",
             "startlinecolor": "#2a3f5f"
            },
            "baxis": {
             "endlinecolor": "#2a3f5f",
             "gridcolor": "white",
             "linecolor": "white",
             "minorgridcolor": "white",
             "startlinecolor": "#2a3f5f"
            },
            "type": "carpet"
           }
          ],
          "choropleth": [
           {
            "colorbar": {
             "outlinewidth": 0,
             "ticks": ""
            },
            "type": "choropleth"
           }
          ],
          "contour": [
           {
            "colorbar": {
             "outlinewidth": 0,
             "ticks": ""
            },
            "colorscale": [
             [
              0,
              "#0d0887"
             ],
             [
              0.1111111111111111,
              "#46039f"
             ],
             [
              0.2222222222222222,
              "#7201a8"
             ],
             [
              0.3333333333333333,
              "#9c179e"
             ],
             [
              0.4444444444444444,
              "#bd3786"
             ],
             [
              0.5555555555555556,
              "#d8576b"
             ],
             [
              0.6666666666666666,
              "#ed7953"
             ],
             [
              0.7777777777777778,
              "#fb9f3a"
             ],
             [
              0.8888888888888888,
              "#fdca26"
             ],
             [
              1,
              "#f0f921"
             ]
            ],
            "type": "contour"
           }
          ],
          "contourcarpet": [
           {
            "colorbar": {
             "outlinewidth": 0,
             "ticks": ""
            },
            "type": "contourcarpet"
           }
          ],
          "heatmap": [
           {
            "colorbar": {
             "outlinewidth": 0,
             "ticks": ""
            },
            "colorscale": [
             [
              0,
              "#0d0887"
             ],
             [
              0.1111111111111111,
              "#46039f"
             ],
             [
              0.2222222222222222,
              "#7201a8"
             ],
             [
              0.3333333333333333,
              "#9c179e"
             ],
             [
              0.4444444444444444,
              "#bd3786"
             ],
             [
              0.5555555555555556,
              "#d8576b"
             ],
             [
              0.6666666666666666,
              "#ed7953"
             ],
             [
              0.7777777777777778,
              "#fb9f3a"
             ],
             [
              0.8888888888888888,
              "#fdca26"
             ],
             [
              1,
              "#f0f921"
             ]
            ],
            "type": "heatmap"
           }
          ],
          "heatmapgl": [
           {
            "colorbar": {
             "outlinewidth": 0,
             "ticks": ""
            },
            "colorscale": [
             [
              0,
              "#0d0887"
             ],
             [
              0.1111111111111111,
              "#46039f"
             ],
             [
              0.2222222222222222,
              "#7201a8"
             ],
             [
              0.3333333333333333,
              "#9c179e"
             ],
             [
              0.4444444444444444,
              "#bd3786"
             ],
             [
              0.5555555555555556,
              "#d8576b"
             ],
             [
              0.6666666666666666,
              "#ed7953"
             ],
             [
              0.7777777777777778,
              "#fb9f3a"
             ],
             [
              0.8888888888888888,
              "#fdca26"
             ],
             [
              1,
              "#f0f921"
             ]
            ],
            "type": "heatmapgl"
           }
          ],
          "histogram": [
           {
            "marker": {
             "pattern": {
              "fillmode": "overlay",
              "size": 10,
              "solidity": 0.2
             }
            },
            "type": "histogram"
           }
          ],
          "histogram2d": [
           {
            "colorbar": {
             "outlinewidth": 0,
             "ticks": ""
            },
            "colorscale": [
             [
              0,
              "#0d0887"
             ],
             [
              0.1111111111111111,
              "#46039f"
             ],
             [
              0.2222222222222222,
              "#7201a8"
             ],
             [
              0.3333333333333333,
              "#9c179e"
             ],
             [
              0.4444444444444444,
              "#bd3786"
             ],
             [
              0.5555555555555556,
              "#d8576b"
             ],
             [
              0.6666666666666666,
              "#ed7953"
             ],
             [
              0.7777777777777778,
              "#fb9f3a"
             ],
             [
              0.8888888888888888,
              "#fdca26"
             ],
             [
              1,
              "#f0f921"
             ]
            ],
            "type": "histogram2d"
           }
          ],
          "histogram2dcontour": [
           {
            "colorbar": {
             "outlinewidth": 0,
             "ticks": ""
            },
            "colorscale": [
             [
              0,
              "#0d0887"
             ],
             [
              0.1111111111111111,
              "#46039f"
             ],
             [
              0.2222222222222222,
              "#7201a8"
             ],
             [
              0.3333333333333333,
              "#9c179e"
             ],
             [
              0.4444444444444444,
              "#bd3786"
             ],
             [
              0.5555555555555556,
              "#d8576b"
             ],
             [
              0.6666666666666666,
              "#ed7953"
             ],
             [
              0.7777777777777778,
              "#fb9f3a"
             ],
             [
              0.8888888888888888,
              "#fdca26"
             ],
             [
              1,
              "#f0f921"
             ]
            ],
            "type": "histogram2dcontour"
           }
          ],
          "mesh3d": [
           {
            "colorbar": {
             "outlinewidth": 0,
             "ticks": ""
            },
            "type": "mesh3d"
           }
          ],
          "parcoords": [
           {
            "line": {
             "colorbar": {
              "outlinewidth": 0,
              "ticks": ""
             }
            },
            "type": "parcoords"
           }
          ],
          "pie": [
           {
            "automargin": true,
            "type": "pie"
           }
          ],
          "scatter": [
           {
            "fillpattern": {
             "fillmode": "overlay",
             "size": 10,
             "solidity": 0.2
            },
            "type": "scatter"
           }
          ],
          "scatter3d": [
           {
            "line": {
             "colorbar": {
              "outlinewidth": 0,
              "ticks": ""
             }
            },
            "marker": {
             "colorbar": {
              "outlinewidth": 0,
              "ticks": ""
             }
            },
            "type": "scatter3d"
           }
          ],
          "scattercarpet": [
           {
            "marker": {
             "colorbar": {
              "outlinewidth": 0,
              "ticks": ""
             }
            },
            "type": "scattercarpet"
           }
          ],
          "scattergeo": [
           {
            "marker": {
             "colorbar": {
              "outlinewidth": 0,
              "ticks": ""
             }
            },
            "type": "scattergeo"
           }
          ],
          "scattergl": [
           {
            "marker": {
             "colorbar": {
              "outlinewidth": 0,
              "ticks": ""
             }
            },
            "type": "scattergl"
           }
          ],
          "scattermapbox": [
           {
            "marker": {
             "colorbar": {
              "outlinewidth": 0,
              "ticks": ""
             }
            },
            "type": "scattermapbox"
           }
          ],
          "scatterpolar": [
           {
            "marker": {
             "colorbar": {
              "outlinewidth": 0,
              "ticks": ""
             }
            },
            "type": "scatterpolar"
           }
          ],
          "scatterpolargl": [
           {
            "marker": {
             "colorbar": {
              "outlinewidth": 0,
              "ticks": ""
             }
            },
            "type": "scatterpolargl"
           }
          ],
          "scatterternary": [
           {
            "marker": {
             "colorbar": {
              "outlinewidth": 0,
              "ticks": ""
             }
            },
            "type": "scatterternary"
           }
          ],
          "surface": [
           {
            "colorbar": {
             "outlinewidth": 0,
             "ticks": ""
            },
            "colorscale": [
             [
              0,
              "#0d0887"
             ],
             [
              0.1111111111111111,
              "#46039f"
             ],
             [
              0.2222222222222222,
              "#7201a8"
             ],
             [
              0.3333333333333333,
              "#9c179e"
             ],
             [
              0.4444444444444444,
              "#bd3786"
             ],
             [
              0.5555555555555556,
              "#d8576b"
             ],
             [
              0.6666666666666666,
              "#ed7953"
             ],
             [
              0.7777777777777778,
              "#fb9f3a"
             ],
             [
              0.8888888888888888,
              "#fdca26"
             ],
             [
              1,
              "#f0f921"
             ]
            ],
            "type": "surface"
           }
          ],
          "table": [
           {
            "cells": {
             "fill": {
              "color": "#EBF0F8"
             },
             "line": {
              "color": "white"
             }
            },
            "header": {
             "fill": {
              "color": "#C8D4E3"
             },
             "line": {
              "color": "white"
             }
            },
            "type": "table"
           }
          ]
         },
         "layout": {
          "annotationdefaults": {
           "arrowcolor": "#2a3f5f",
           "arrowhead": 0,
           "arrowwidth": 1
          },
          "autotypenumbers": "strict",
          "coloraxis": {
           "colorbar": {
            "outlinewidth": 0,
            "ticks": ""
           }
          },
          "colorscale": {
           "diverging": [
            [
             0,
             "#8e0152"
            ],
            [
             0.1,
             "#c51b7d"
            ],
            [
             0.2,
             "#de77ae"
            ],
            [
             0.3,
             "#f1b6da"
            ],
            [
             0.4,
             "#fde0ef"
            ],
            [
             0.5,
             "#f7f7f7"
            ],
            [
             0.6,
             "#e6f5d0"
            ],
            [
             0.7,
             "#b8e186"
            ],
            [
             0.8,
             "#7fbc41"
            ],
            [
             0.9,
             "#4d9221"
            ],
            [
             1,
             "#276419"
            ]
           ],
           "sequential": [
            [
             0,
             "#0d0887"
            ],
            [
             0.1111111111111111,
             "#46039f"
            ],
            [
             0.2222222222222222,
             "#7201a8"
            ],
            [
             0.3333333333333333,
             "#9c179e"
            ],
            [
             0.4444444444444444,
             "#bd3786"
            ],
            [
             0.5555555555555556,
             "#d8576b"
            ],
            [
             0.6666666666666666,
             "#ed7953"
            ],
            [
             0.7777777777777778,
             "#fb9f3a"
            ],
            [
             0.8888888888888888,
             "#fdca26"
            ],
            [
             1,
             "#f0f921"
            ]
           ],
           "sequentialminus": [
            [
             0,
             "#0d0887"
            ],
            [
             0.1111111111111111,
             "#46039f"
            ],
            [
             0.2222222222222222,
             "#7201a8"
            ],
            [
             0.3333333333333333,
             "#9c179e"
            ],
            [
             0.4444444444444444,
             "#bd3786"
            ],
            [
             0.5555555555555556,
             "#d8576b"
            ],
            [
             0.6666666666666666,
             "#ed7953"
            ],
            [
             0.7777777777777778,
             "#fb9f3a"
            ],
            [
             0.8888888888888888,
             "#fdca26"
            ],
            [
             1,
             "#f0f921"
            ]
           ]
          },
          "colorway": [
           "#636efa",
           "#EF553B",
           "#00cc96",
           "#ab63fa",
           "#FFA15A",
           "#19d3f3",
           "#FF6692",
           "#B6E880",
           "#FF97FF",
           "#FECB52"
          ],
          "font": {
           "color": "#2a3f5f"
          },
          "geo": {
           "bgcolor": "white",
           "lakecolor": "white",
           "landcolor": "#E5ECF6",
           "showlakes": true,
           "showland": true,
           "subunitcolor": "white"
          },
          "hoverlabel": {
           "align": "left"
          },
          "hovermode": "closest",
          "mapbox": {
           "style": "light"
          },
          "paper_bgcolor": "white",
          "plot_bgcolor": "#E5ECF6",
          "polar": {
           "angularaxis": {
            "gridcolor": "white",
            "linecolor": "white",
            "ticks": ""
           },
           "bgcolor": "#E5ECF6",
           "radialaxis": {
            "gridcolor": "white",
            "linecolor": "white",
            "ticks": ""
           }
          },
          "scene": {
           "xaxis": {
            "backgroundcolor": "#E5ECF6",
            "gridcolor": "white",
            "gridwidth": 2,
            "linecolor": "white",
            "showbackground": true,
            "ticks": "",
            "zerolinecolor": "white"
           },
           "yaxis": {
            "backgroundcolor": "#E5ECF6",
            "gridcolor": "white",
            "gridwidth": 2,
            "linecolor": "white",
            "showbackground": true,
            "ticks": "",
            "zerolinecolor": "white"
           },
           "zaxis": {
            "backgroundcolor": "#E5ECF6",
            "gridcolor": "white",
            "gridwidth": 2,
            "linecolor": "white",
            "showbackground": true,
            "ticks": "",
            "zerolinecolor": "white"
           }
          },
          "shapedefaults": {
           "line": {
            "color": "#2a3f5f"
           }
          },
          "ternary": {
           "aaxis": {
            "gridcolor": "white",
            "linecolor": "white",
            "ticks": ""
           },
           "baxis": {
            "gridcolor": "white",
            "linecolor": "white",
            "ticks": ""
           },
           "bgcolor": "#E5ECF6",
           "caxis": {
            "gridcolor": "white",
            "linecolor": "white",
            "ticks": ""
           }
          },
          "title": {
           "x": 0.05
          },
          "xaxis": {
           "automargin": true,
           "gridcolor": "white",
           "linecolor": "white",
           "ticks": "",
           "title": {
            "standoff": 15
           },
           "zerolinecolor": "white",
           "zerolinewidth": 2
          },
          "yaxis": {
           "automargin": true,
           "gridcolor": "white",
           "linecolor": "white",
           "ticks": "",
           "title": {
            "standoff": 15
           },
           "zerolinecolor": "white",
           "zerolinewidth": 2
          }
         }
        },
        "title": {
         "text": "Qubit Reset - Step 1 - ge/gf qc"
        },
        "width": 1000,
        "xaxis": {
         "anchor": "y",
         "domain": [
          0,
          1
         ],
         "hoverformat": ".3s",
         "showgrid": true,
         "tickformat": ".2s",
         "tickformatstops": [
          {
           "dtickrange": [
            null,
            1e-9
           ],
           "value": ".10s"
          },
          {
           "dtickrange": [
            1e-9,
            0.000001
           ],
           "value": ".7s"
          },
          {
           "dtickrange": [
            0.000001,
            0.001
           ],
           "value": ".4s"
          }
         ],
         "ticksuffix": "s",
         "title": {
          "text": "Time"
         }
        },
        "yaxis": {
         "anchor": "x",
         "autorange": true,
         "domain": [
          0,
          1
         ],
         "hoverformat": ".3s",
         "tickformat": ".2s",
         "ticksuffix": "V",
         "title": {
          "text": "flux"
         }
        }
       }
      },
      "text/html": [
       "<div>                            <div id=\"e3be9fdd-9594-4553-ae7d-88b33d937bc5\" class=\"plotly-graph-div\" style=\"height:300px; width:1000px;\"></div>            <script type=\"text/javascript\">                require([\"plotly\"], function(Plotly) {                    window.PLOTLYENV=window.PLOTLYENV || {};                                    if (document.getElementById(\"e3be9fdd-9594-4553-ae7d-88b33d937bc5\")) {                    Plotly.newPlot(                        \"e3be9fdd-9594-4553-ae7d-88b33d937bc5\",                        [{\"fill\":\"tozeroy\",\"hoverinfo\":\"x+y+name\",\"hoverlabel\":{\"namelength\":-1},\"legendgroup\":\"1\",\"line\":{\"color\":\"#EF553B\"},\"mode\":\"lines\",\"name\":\"RampPulse, clock: q0.ro\",\"showlegend\":true,\"x\":[4e-6,4.0009999999999995e-6,4.001999999999999e-6,4.002999999999999e-6,4.0039999999999984e-6,4.004999999999998e-6,4.005999999999998e-6,4.006999999999997e-6,4.007999999999997e-6,4.008999999999997e-6,4.009999999999996e-6,4.010999999999996e-6,4.011999999999996e-6,4.012999999999995e-6,4.013999999999995e-6,4.014999999999995e-6,4.015999999999994e-6,4.016999999999994e-6,4.0179999999999935e-6,4.018999999999993e-6],\"y\":[-0.025,-0.02375,-0.022500000000000003,-0.02125,-0.02,-0.018750000000000003,-0.0175,-0.01625,-0.015000000000000001,-0.013750000000000002,-0.0125,-0.011250000000000001,-0.010000000000000002,-0.00875,-0.0075,-0.006250000000000002,-0.005000000000000001,-0.00375,-0.0025000000000000022,-0.0012500000000000011],\"type\":\"scatter\",\"xaxis\":\"x\",\"yaxis\":\"y\"}],                        {\"template\":{\"data\":{\"histogram2dcontour\":[{\"type\":\"histogram2dcontour\",\"colorbar\":{\"outlinewidth\":0,\"ticks\":\"\"},\"colorscale\":[[0.0,\"#0d0887\"],[0.1111111111111111,\"#46039f\"],[0.2222222222222222,\"#7201a8\"],[0.3333333333333333,\"#9c179e\"],[0.4444444444444444,\"#bd3786\"],[0.5555555555555556,\"#d8576b\"],[0.6666666666666666,\"#ed7953\"],[0.7777777777777778,\"#fb9f3a\"],[0.8888888888888888,\"#fdca26\"],[1.0,\"#f0f921\"]]}],\"choropleth\":[{\"type\":\"choropleth\",\"colorbar\":{\"outlinewidth\":0,\"ticks\":\"\"}}],\"histogram2d\":[{\"type\":\"histogram2d\",\"colorbar\":{\"outlinewidth\":0,\"ticks\":\"\"},\"colorscale\":[[0.0,\"#0d0887\"],[0.1111111111111111,\"#46039f\"],[0.2222222222222222,\"#7201a8\"],[0.3333333333333333,\"#9c179e\"],[0.4444444444444444,\"#bd3786\"],[0.5555555555555556,\"#d8576b\"],[0.6666666666666666,\"#ed7953\"],[0.7777777777777778,\"#fb9f3a\"],[0.8888888888888888,\"#fdca26\"],[1.0,\"#f0f921\"]]}],\"heatmap\":[{\"type\":\"heatmap\",\"colorbar\":{\"outlinewidth\":0,\"ticks\":\"\"},\"colorscale\":[[0.0,\"#0d0887\"],[0.1111111111111111,\"#46039f\"],[0.2222222222222222,\"#7201a8\"],[0.3333333333333333,\"#9c179e\"],[0.4444444444444444,\"#bd3786\"],[0.5555555555555556,\"#d8576b\"],[0.6666666666666666,\"#ed7953\"],[0.7777777777777778,\"#fb9f3a\"],[0.8888888888888888,\"#fdca26\"],[1.0,\"#f0f921\"]]}],\"heatmapgl\":[{\"type\":\"heatmapgl\",\"colorbar\":{\"outlinewidth\":0,\"ticks\":\"\"},\"colorscale\":[[0.0,\"#0d0887\"],[0.1111111111111111,\"#46039f\"],[0.2222222222222222,\"#7201a8\"],[0.3333333333333333,\"#9c179e\"],[0.4444444444444444,\"#bd3786\"],[0.5555555555555556,\"#d8576b\"],[0.6666666666666666,\"#ed7953\"],[0.7777777777777778,\"#fb9f3a\"],[0.8888888888888888,\"#fdca26\"],[1.0,\"#f0f921\"]]}],\"contourcarpet\":[{\"type\":\"contourcarpet\",\"colorbar\":{\"outlinewidth\":0,\"ticks\":\"\"}}],\"contour\":[{\"type\":\"contour\",\"colorbar\":{\"outlinewidth\":0,\"ticks\":\"\"},\"colorscale\":[[0.0,\"#0d0887\"],[0.1111111111111111,\"#46039f\"],[0.2222222222222222,\"#7201a8\"],[0.3333333333333333,\"#9c179e\"],[0.4444444444444444,\"#bd3786\"],[0.5555555555555556,\"#d8576b\"],[0.6666666666666666,\"#ed7953\"],[0.7777777777777778,\"#fb9f3a\"],[0.8888888888888888,\"#fdca26\"],[1.0,\"#f0f921\"]]}],\"surface\":[{\"type\":\"surface\",\"colorbar\":{\"outlinewidth\":0,\"ticks\":\"\"},\"colorscale\":[[0.0,\"#0d0887\"],[0.1111111111111111,\"#46039f\"],[0.2222222222222222,\"#7201a8\"],[0.3333333333333333,\"#9c179e\"],[0.4444444444444444,\"#bd3786\"],[0.5555555555555556,\"#d8576b\"],[0.6666666666666666,\"#ed7953\"],[0.7777777777777778,\"#fb9f3a\"],[0.8888888888888888,\"#fdca26\"],[1.0,\"#f0f921\"]]}],\"mesh3d\":[{\"type\":\"mesh3d\",\"colorbar\":{\"outlinewidth\":0,\"ticks\":\"\"}}],\"scatter\":[{\"fillpattern\":{\"fillmode\":\"overlay\",\"size\":10,\"solidity\":0.2},\"type\":\"scatter\"}],\"parcoords\":[{\"type\":\"parcoords\",\"line\":{\"colorbar\":{\"outlinewidth\":0,\"ticks\":\"\"}}}],\"scatterpolargl\":[{\"type\":\"scatterpolargl\",\"marker\":{\"colorbar\":{\"outlinewidth\":0,\"ticks\":\"\"}}}],\"bar\":[{\"error_x\":{\"color\":\"#2a3f5f\"},\"error_y\":{\"color\":\"#2a3f5f\"},\"marker\":{\"line\":{\"color\":\"#E5ECF6\",\"width\":0.5},\"pattern\":{\"fillmode\":\"overlay\",\"size\":10,\"solidity\":0.2}},\"type\":\"bar\"}],\"scattergeo\":[{\"type\":\"scattergeo\",\"marker\":{\"colorbar\":{\"outlinewidth\":0,\"ticks\":\"\"}}}],\"scatterpolar\":[{\"type\":\"scatterpolar\",\"marker\":{\"colorbar\":{\"outlinewidth\":0,\"ticks\":\"\"}}}],\"histogram\":[{\"marker\":{\"pattern\":{\"fillmode\":\"overlay\",\"size\":10,\"solidity\":0.2}},\"type\":\"histogram\"}],\"scattergl\":[{\"type\":\"scattergl\",\"marker\":{\"colorbar\":{\"outlinewidth\":0,\"ticks\":\"\"}}}],\"scatter3d\":[{\"type\":\"scatter3d\",\"line\":{\"colorbar\":{\"outlinewidth\":0,\"ticks\":\"\"}},\"marker\":{\"colorbar\":{\"outlinewidth\":0,\"ticks\":\"\"}}}],\"scattermapbox\":[{\"type\":\"scattermapbox\",\"marker\":{\"colorbar\":{\"outlinewidth\":0,\"ticks\":\"\"}}}],\"scatterternary\":[{\"type\":\"scatterternary\",\"marker\":{\"colorbar\":{\"outlinewidth\":0,\"ticks\":\"\"}}}],\"scattercarpet\":[{\"type\":\"scattercarpet\",\"marker\":{\"colorbar\":{\"outlinewidth\":0,\"ticks\":\"\"}}}],\"carpet\":[{\"aaxis\":{\"endlinecolor\":\"#2a3f5f\",\"gridcolor\":\"white\",\"linecolor\":\"white\",\"minorgridcolor\":\"white\",\"startlinecolor\":\"#2a3f5f\"},\"baxis\":{\"endlinecolor\":\"#2a3f5f\",\"gridcolor\":\"white\",\"linecolor\":\"white\",\"minorgridcolor\":\"white\",\"startlinecolor\":\"#2a3f5f\"},\"type\":\"carpet\"}],\"table\":[{\"cells\":{\"fill\":{\"color\":\"#EBF0F8\"},\"line\":{\"color\":\"white\"}},\"header\":{\"fill\":{\"color\":\"#C8D4E3\"},\"line\":{\"color\":\"white\"}},\"type\":\"table\"}],\"barpolar\":[{\"marker\":{\"line\":{\"color\":\"#E5ECF6\",\"width\":0.5},\"pattern\":{\"fillmode\":\"overlay\",\"size\":10,\"solidity\":0.2}},\"type\":\"barpolar\"}],\"pie\":[{\"automargin\":true,\"type\":\"pie\"}]},\"layout\":{\"autotypenumbers\":\"strict\",\"colorway\":[\"#636efa\",\"#EF553B\",\"#00cc96\",\"#ab63fa\",\"#FFA15A\",\"#19d3f3\",\"#FF6692\",\"#B6E880\",\"#FF97FF\",\"#FECB52\"],\"font\":{\"color\":\"#2a3f5f\"},\"hovermode\":\"closest\",\"hoverlabel\":{\"align\":\"left\"},\"paper_bgcolor\":\"white\",\"plot_bgcolor\":\"#E5ECF6\",\"polar\":{\"bgcolor\":\"#E5ECF6\",\"angularaxis\":{\"gridcolor\":\"white\",\"linecolor\":\"white\",\"ticks\":\"\"},\"radialaxis\":{\"gridcolor\":\"white\",\"linecolor\":\"white\",\"ticks\":\"\"}},\"ternary\":{\"bgcolor\":\"#E5ECF6\",\"aaxis\":{\"gridcolor\":\"white\",\"linecolor\":\"white\",\"ticks\":\"\"},\"baxis\":{\"gridcolor\":\"white\",\"linecolor\":\"white\",\"ticks\":\"\"},\"caxis\":{\"gridcolor\":\"white\",\"linecolor\":\"white\",\"ticks\":\"\"}},\"coloraxis\":{\"colorbar\":{\"outlinewidth\":0,\"ticks\":\"\"}},\"colorscale\":{\"sequential\":[[0.0,\"#0d0887\"],[0.1111111111111111,\"#46039f\"],[0.2222222222222222,\"#7201a8\"],[0.3333333333333333,\"#9c179e\"],[0.4444444444444444,\"#bd3786\"],[0.5555555555555556,\"#d8576b\"],[0.6666666666666666,\"#ed7953\"],[0.7777777777777778,\"#fb9f3a\"],[0.8888888888888888,\"#fdca26\"],[1.0,\"#f0f921\"]],\"sequentialminus\":[[0.0,\"#0d0887\"],[0.1111111111111111,\"#46039f\"],[0.2222222222222222,\"#7201a8\"],[0.3333333333333333,\"#9c179e\"],[0.4444444444444444,\"#bd3786\"],[0.5555555555555556,\"#d8576b\"],[0.6666666666666666,\"#ed7953\"],[0.7777777777777778,\"#fb9f3a\"],[0.8888888888888888,\"#fdca26\"],[1.0,\"#f0f921\"]],\"diverging\":[[0,\"#8e0152\"],[0.1,\"#c51b7d\"],[0.2,\"#de77ae\"],[0.3,\"#f1b6da\"],[0.4,\"#fde0ef\"],[0.5,\"#f7f7f7\"],[0.6,\"#e6f5d0\"],[0.7,\"#b8e186\"],[0.8,\"#7fbc41\"],[0.9,\"#4d9221\"],[1,\"#276419\"]]},\"xaxis\":{\"gridcolor\":\"white\",\"linecolor\":\"white\",\"ticks\":\"\",\"title\":{\"standoff\":15},\"zerolinecolor\":\"white\",\"automargin\":true,\"zerolinewidth\":2},\"yaxis\":{\"gridcolor\":\"white\",\"linecolor\":\"white\",\"ticks\":\"\",\"title\":{\"standoff\":15},\"zerolinecolor\":\"white\",\"automargin\":true,\"zerolinewidth\":2},\"scene\":{\"xaxis\":{\"backgroundcolor\":\"#E5ECF6\",\"gridcolor\":\"white\",\"linecolor\":\"white\",\"showbackground\":true,\"ticks\":\"\",\"zerolinecolor\":\"white\",\"gridwidth\":2},\"yaxis\":{\"backgroundcolor\":\"#E5ECF6\",\"gridcolor\":\"white\",\"linecolor\":\"white\",\"showbackground\":true,\"ticks\":\"\",\"zerolinecolor\":\"white\",\"gridwidth\":2},\"zaxis\":{\"backgroundcolor\":\"#E5ECF6\",\"gridcolor\":\"white\",\"linecolor\":\"white\",\"showbackground\":true,\"ticks\":\"\",\"zerolinecolor\":\"white\",\"gridwidth\":2}},\"shapedefaults\":{\"line\":{\"color\":\"#2a3f5f\"}},\"annotationdefaults\":{\"arrowcolor\":\"#2a3f5f\",\"arrowhead\":0,\"arrowwidth\":1},\"geo\":{\"bgcolor\":\"white\",\"landcolor\":\"#E5ECF6\",\"subunitcolor\":\"white\",\"showland\":true,\"showlakes\":true,\"lakecolor\":\"white\"},\"title\":{\"x\":0.05},\"mapbox\":{\"style\":\"light\"}}},\"xaxis\":{\"anchor\":\"y\",\"domain\":[0.0,1.0],\"tickformat\":\".2s\",\"hoverformat\":\".3s\",\"ticksuffix\":\"s\",\"showgrid\":true,\"title\":{\"text\":\"Time\"},\"tickformatstops\":[{\"dtickrange\":[null,1e-9],\"value\":\".10s\"},{\"dtickrange\":[1e-9,1e-6],\"value\":\".7s\"},{\"dtickrange\":[1e-6,0.001],\"value\":\".4s\"}]},\"yaxis\":{\"anchor\":\"x\",\"domain\":[0.0,1.0],\"tickformat\":\".2s\",\"hoverformat\":\".3s\",\"ticksuffix\":\"V\",\"title\":{\"text\":\"flux\"},\"autorange\":true},\"height\":300,\"width\":1000,\"title\":{\"text\":\"Qubit Reset - Step 1 - ge\\u002fgf qc\"},\"showlegend\":false},                        {\"responsive\": true}                    ).then(function(){\n",
       "                            \n",
       "var gd = document.getElementById('e3be9fdd-9594-4553-ae7d-88b33d937bc5');\n",
       "var x = new MutationObserver(function (mutations, observer) {{\n",
       "        var display = window.getComputedStyle(gd).display;\n",
       "        if (!display || display === 'none') {{\n",
       "            console.log([gd, 'removed!']);\n",
       "            Plotly.purge(gd);\n",
       "            observer.disconnect();\n",
       "        }}\n",
       "}});\n",
       "\n",
       "// Listen for the removal of the full notebook cells\n",
       "var notebookContainer = gd.closest('#notebook-container');\n",
       "if (notebookContainer) {{\n",
       "    x.observe(notebookContainer, {childList: true});\n",
       "}}\n",
       "\n",
       "// Listen for the clearing of the current output cell\n",
       "var outputEl = gd.closest('.output');\n",
       "if (outputEl) {{\n",
       "    x.observe(outputEl, {childList: true});\n",
       "}}\n",
       "\n",
       "                        })                };                });            </script>        </div>"
      ]
     },
     "metadata": {},
     "output_type": "display_data"
    }
   ],
   "source": [
    "# step 1 ge/gf reset\n",
    "sched = Schedule(\"Qubit Reset - Step 1 - ge/gf qc\")\n",
    "\n",
    "readout_clock = ClockResource(name=\"q0.ro\", freq=0e9)\n",
    "sched.add_resource(readout_clock)\n",
    "\n",
    "# qc_offset = -10\n",
    "# qc_duration = 0.06e-6\n",
    "# cr_duration = 0.25e-6\n",
    "# amp = duration / target_duration* offset\n",
    "start = sched.add(IdlePulse(duration=4e-6))\n",
    "\n",
    "qc_t = 20e-9\n",
    "qc_amp = -0.025\n",
    "\n",
    "sched.add(\n",
    "    RampPulse(offset=qc_amp, amp=-qc_amp, duration=qc_t, port=\"flux\", clock=\"q0.ro\")\n",
    ")\n",
    "\n",
    "comp_sched = device_compiler.compile(sched)\n",
    "comp_sched.plot_pulse_diagram(plot_backend=\"plotly\")"
   ]
  },
  {
   "cell_type": "code",
   "execution_count": 252,
   "id": "7efbafb5",
   "metadata": {},
   "outputs": [
    {
     "data": {
      "application/vnd.plotly.v1+json": {
       "config": {
        "plotlyServerURL": "https://plot.ly"
       },
       "data": [
        {
         "fill": "tozeroy",
         "hoverinfo": "x+y+name",
         "hoverlabel": {
          "namelength": -1
         },
         "legendgroup": "1",
         "line": {
          "color": "#EF553B"
         },
         "mode": "lines",
         "name": "RampPulse, clock: q0.ro",
         "showlegend": true,
         "type": "scatter",
         "x": [
          0.000004,
          0.0000040009999999999995,
          0.000004001999999999999,
          0.000004002999999999999,
          0.0000040039999999999984,
          0.000004004999999999998,
          0.000004005999999999998,
          0.000004006999999999997,
          0.000004007999999999997,
          0.000004008999999999997,
          0.000004009999999999996,
          0.000004010999999999996,
          0.000004011999999999996,
          0.000004012999999999995,
          0.000004013999999999995,
          0.000004014999999999995,
          0.000004015999999999994,
          0.000004016999999999994,
          0.0000040179999999999935,
          0.000004018999999999993
         ],
         "xaxis": "x",
         "y": [
          -0.025,
          -0.02375,
          -0.022500000000000003,
          -0.02125,
          -0.02,
          -0.018750000000000003,
          -0.0175,
          -0.01625,
          -0.015000000000000001,
          -0.013750000000000002,
          -0.0125,
          -0.011250000000000001,
          -0.010000000000000002,
          -0.00875,
          -0.0075,
          -0.006250000000000002,
          -0.005000000000000001,
          -0.00375,
          -0.0025000000000000022,
          -0.0012500000000000011
         ],
         "yaxis": "y"
        },
        {
         "fill": "tozeroy",
         "hoverinfo": "x+y+name",
         "hoverlabel": {
          "namelength": -1
         },
         "legendgroup": "2",
         "line": {
          "color": "#00CC96"
         },
         "mode": "lines",
         "name": "RampPulse, clock: q0.ro",
         "showlegend": true,
         "type": "scatter",
         "x": [
          0.00000402,
          0.000004020999999999999,
          0.000004021999999999999,
          0.000004022999999999999,
          0.000004023999999999998,
          0.000004024999999999998,
          0.0000040259999999999975,
          0.000004026999999999997,
          0.000004027999999999997,
          0.0000040289999999999965,
          0.000004029999999999996,
          0.000004030999999999996,
          0.0000040319999999999954,
          0.000004032999999999995,
          0.000004033999999999995,
          0.000004034999999999994,
          0.000004035999999999994,
          0.000004036999999999994,
          0.000004037999999999993,
          0.000004038999999999993,
          0.000004039999999999993,
          0.000004040999999999992,
          0.000004041999999999992,
          0.000004042999999999992,
          0.000004043999999999991,
          0.000004044999999999991,
          0.0000040459999999999906,
          0.00000404699999999999,
          0.00000404799999999999,
          0.0000040489999999999895,
          0.000004049999999999989,
          0.000004050999999999989,
          0.0000040519999999999885,
          0.000004052999999999988,
          0.000004053999999999988,
          0.0000040549999999999874,
          0.000004055999999999987,
          0.000004056999999999987,
          0.000004057999999999986,
          0.000004058999999999986,
          0.000004059999999999986,
          0.000004060999999999985,
          0.000004061999999999985,
          0.000004062999999999985,
          0.000004063999999999984,
          0.000004064999999999984,
          0.000004065999999999984,
          0.000004066999999999983,
          0.000004067999999999983,
          0.0000040689999999999826,
          0.000004069999999999982,
          0.000004070999999999982,
          0.0000040719999999999815,
          0.000004072999999999981,
          0.000004073999999999981,
          0.0000040749999999999805,
          0.00000407599999999998,
          0.00000407699999999998,
          0.000004077999999999979,
          0.000004078999999999979,
          0.000004079999999999979,
          0.000004080999999999978,
          0.000004081999999999978,
          0.000004082999999999978,
          0.000004083999999999977,
          0.000004084999999999977,
          0.000004085999999999977,
          0.000004086999999999976,
          0.000004087999999999976,
          0.000004088999999999976,
          0.000004089999999999975,
          0.000004090999999999975,
          0.0000040919999999999745,
          0.000004092999999999974,
          0.000004093999999999974,
          0.0000040949999999999735,
          0.000004095999999999973,
          0.000004096999999999973,
          0.0000040979999999999725,
          0.000004098999999999972,
          0.000004099999999999972,
          0.000004100999999999971,
          0.000004101999999999971,
          0.000004102999999999971,
          0.00000410399999999997,
          0.00000410499999999997,
          0.00000410599999999997,
          0.000004106999999999969,
          0.000004107999999999969,
          0.000004108999999999969,
          0.000004109999999999968,
          0.000004110999999999968,
          0.0000041119999999999676,
          0.000004112999999999967,
          0.000004113999999999967,
          0.0000041149999999999665,
          0.000004115999999999966,
          0.000004116999999999966,
          0.0000041179999999999655,
          0.000004118999999999965,
          0.000004119999999999965,
          0.0000041209999999999644,
          0.000004121999999999964,
          0.000004122999999999964,
          0.000004123999999999963,
          0.000004124999999999963,
          0.000004125999999999963,
          0.000004126999999999962,
          0.000004127999999999962,
          0.000004128999999999962,
          0.000004129999999999961,
          0.000004130999999999961,
          0.000004131999999999961,
          0.00000413299999999996,
          0.00000413399999999996,
          0.0000041349999999999596,
          0.000004135999999999959,
          0.000004136999999999959,
          0.0000041379999999999585,
          0.000004138999999999958,
          0.000004139999999999958,
          0.0000041409999999999575,
          0.000004141999999999957,
          0.000004142999999999957,
          0.0000041439999999999564,
          0.000004144999999999956,
          0.000004145999999999956,
          0.000004146999999999955,
          0.000004147999999999955,
          0.000004148999999999955,
          0.000004149999999999954,
          0.000004150999999999954,
          0.000004151999999999954,
          0.000004152999999999953,
          0.000004153999999999953,
          0.000004154999999999953,
          0.000004155999999999952,
          0.000004156999999999952,
          0.0000041579999999999516,
          0.000004158999999999951,
          0.000004159999999999951,
          0.0000041609999999999505,
          0.00000416199999999995,
          0.00000416299999999995,
          0.0000041639999999999495,
          0.000004164999999999949,
          0.000004165999999999949,
          0.000004166999999999948,
          0.000004167999999999948,
          0.000004168999999999948,
          0.000004169999999999947,
          0.000004170999999999947,
          0.000004171999999999947,
          0.000004172999999999946,
          0.000004173999999999946,
          0.000004174999999999946,
          0.000004175999999999945,
          0.000004176999999999945,
          0.000004177999999999945,
          0.000004178999999999944,
          0.000004179999999999944,
          0.0000041809999999999435,
          0.000004181999999999943,
          0.000004182999999999943,
          0.0000041839999999999425,
          0.000004184999999999942,
          0.000004185999999999942,
          0.0000041869999999999414,
          0.000004187999999999941,
          0.000004188999999999941,
          0.00000418999999999994,
          0.00000419099999999994,
          0.00000419199999999994,
          0.000004192999999999939,
          0.000004193999999999939,
          0.000004194999999999939,
          0.000004195999999999938,
          0.000004196999999999938,
          0.000004197999999999938,
          0.000004198999999999937,
          0.000004199999999999937,
          0.0000042009999999999366,
          0.000004201999999999936,
          0.000004202999999999936,
          0.0000042039999999999355,
          0.000004204999999999935,
          0.000004205999999999935,
          0.0000042069999999999345,
          0.000004207999999999934,
          0.000004208999999999934,
          0.0000042099999999999334,
          0.000004210999999999933,
          0.000004211999999999933,
          0.000004212999999999932,
          0.000004213999999999932,
          0.000004214999999999932,
          0.000004215999999999931,
          0.000004216999999999931,
          0.000004217999999999931,
          0.00000421899999999993
         ],
         "xaxis": "x",
         "y": [
          0.05,
          0.05,
          0.05,
          0.05,
          0.05,
          0.05,
          0.05,
          0.05,
          0.05,
          0.05,
          0.05,
          0.05,
          0.05,
          0.05,
          0.05,
          0.05,
          0.05,
          0.05,
          0.05,
          0.05,
          0.05,
          0.05,
          0.05,
          0.05,
          0.05,
          0.05,
          0.05,
          0.05,
          0.05,
          0.05,
          0.05,
          0.05,
          0.05,
          0.05,
          0.05,
          0.05,
          0.05,
          0.05,
          0.05,
          0.05,
          0.05,
          0.05,
          0.05,
          0.05,
          0.05,
          0.05,
          0.05,
          0.05,
          0.05,
          0.05,
          0.05,
          0.05,
          0.05,
          0.05,
          0.05,
          0.05,
          0.05,
          0.05,
          0.05,
          0.05,
          0.05,
          0.05,
          0.05,
          0.05,
          0.05,
          0.05,
          0.05,
          0.05,
          0.05,
          0.05,
          0.05,
          0.05,
          0.05,
          0.05,
          0.05,
          0.05,
          0.05,
          0.05,
          0.05,
          0.05,
          0.05,
          0.05,
          0.05,
          0.05,
          0.05,
          0.05,
          0.05,
          0.05,
          0.05,
          0.05,
          0.05,
          0.05,
          0.05,
          0.05,
          0.05,
          0.05,
          0.05,
          0.05,
          0.05,
          0.05,
          0.05,
          0.05,
          0.05,
          0.05,
          0.05,
          0.05,
          0.05,
          0.05,
          0.05,
          0.05,
          0.05,
          0.05,
          0.05,
          0.05,
          0.05,
          0.05,
          0.05,
          0.05,
          0.05,
          0.05,
          0.05,
          0.05,
          0.05,
          0.05,
          0.05,
          0.05,
          0.05,
          0.05,
          0.05,
          0.05,
          0.05,
          0.05,
          0.05,
          0.05,
          0.05,
          0.05,
          0.05,
          0.05,
          0.05,
          0.05,
          0.05,
          0.05,
          0.05,
          0.05,
          0.05,
          0.05,
          0.05,
          0.05,
          0.05,
          0.05,
          0.05,
          0.05,
          0.05,
          0.05,
          0.05,
          0.05,
          0.05,
          0.05,
          0.05,
          0.05,
          0.05,
          0.05,
          0.05,
          0.05,
          0.05,
          0.05,
          0.05,
          0.05,
          0.05,
          0.05,
          0.05,
          0.05,
          0.05,
          0.05,
          0.05,
          0.05,
          0.05,
          0.05,
          0.05,
          0.05,
          0.05,
          0.05,
          0.05,
          0.05,
          0.05,
          0.05,
          0.05,
          0.05,
          0.05,
          0.05,
          0.05,
          0.05,
          0.05,
          0.05,
          0.05,
          0.05,
          0.05,
          0.05,
          0.05,
          0.05
         ],
         "yaxis": "y"
        },
        {
         "fill": "tozeroy",
         "hoverinfo": "x+y+name",
         "hoverlabel": {
          "namelength": -1
         },
         "legendgroup": "3",
         "line": {
          "color": "#AB63FA"
         },
         "mode": "lines",
         "name": "RampPulse, clock: q0.ro",
         "showlegend": true,
         "type": "scatter",
         "x": [
          0.000004219999999999999,
          0.000004220999999999999,
          0.000004221999999999999,
          0.000004222999999999998,
          0.000004223999999999998,
          0.000004224999999999998,
          0.000004225999999999997,
          0.000004226999999999997,
          0.000004227999999999997,
          0.000004228999999999996,
          0.000004229999999999996,
          0.0000042309999999999956,
          0.000004231999999999995,
          0.000004232999999999995,
          0.0000042339999999999945,
          0.000004234999999999994,
          0.000004235999999999994,
          0.0000042369999999999935,
          0.000004237999999999993,
          0.000004238999999999993,
          0.0000042399999999999924,
          0.000004240999999999992,
          0.000004241999999999992,
          0.000004242999999999991,
          0.000004243999999999991,
          0.000004244999999999991,
          0.00000424599999999999,
          0.00000424699999999999,
          0.00000424799999999999,
          0.000004248999999999989,
          0.000004249999999999989,
          0.000004250999999999989,
          0.000004251999999999988,
          0.000004252999999999988,
          0.0000042539999999999876,
          0.000004254999999999987,
          0.000004255999999999987,
          0.0000042569999999999865,
          0.000004257999999999986,
          0.000004258999999999986,
          0.0000042599999999999855,
          0.000004260999999999985,
          0.000004261999999999985,
          0.0000042629999999999844,
          0.000004263999999999984,
          0.000004264999999999984,
          0.000004265999999999983,
          0.000004266999999999983,
          0.000004267999999999983,
          0.000004268999999999982,
          0.000004269999999999982,
          0.000004270999999999982,
          0.000004271999999999981,
          0.000004272999999999981,
          0.000004273999999999981,
          0.00000427499999999998,
          0.00000427599999999998,
          0.0000042769999999999795,
          0.000004277999999999979,
          0.000004278999999999979,
          0.0000042799999999999785,
          0.000004280999999999978,
          0.000004281999999999978,
          0.0000042829999999999775,
          0.000004283999999999977,
          0.000004284999999999977,
          0.000004285999999999976,
          0.000004286999999999976,
          0.000004287999999999976,
          0.000004288999999999975,
          0.000004289999999999975,
          0.000004290999999999975,
          0.000004291999999999974,
          0.000004292999999999974,
          0.000004293999999999974,
          0.000004294999999999973,
          0.000004295999999999973,
          0.000004296999999999973,
          0.000004297999999999972,
          0.000004298999999999972,
          0.0000042999999999999715,
          0.000004300999999999971,
          0.000004301999999999971,
          0.0000043029999999999705,
          0.00000430399999999997,
          0.00000430499999999997,
          0.0000043059999999999694,
          0.000004306999999999969,
          0.000004307999999999969,
          0.000004308999999999968,
          0.000004309999999999968,
          0.000004310999999999968,
          0.000004311999999999967,
          0.000004312999999999967,
          0.000004313999999999967,
          0.000004314999999999966,
          0.000004315999999999966,
          0.000004316999999999966,
          0.000004317999999999965,
          0.000004318999999999965,
          0.0000043199999999999646,
          0.000004320999999999964,
          0.000004321999999999964,
          0.0000043229999999999635,
          0.000004323999999999963,
          0.000004324999999999963,
          0.0000043259999999999625,
          0.000004326999999999962,
          0.000004327999999999962,
          0.0000043289999999999614,
          0.000004329999999999961,
          0.000004330999999999961,
          0.00000433199999999996,
          0.00000433299999999996,
          0.00000433399999999996,
          0.000004334999999999959,
          0.000004335999999999959,
          0.000004336999999999959,
          0.000004337999999999958,
          0.000004338999999999958,
          0.000004339999999999958,
          0.000004340999999999957,
          0.000004341999999999957,
          0.0000043429999999999566,
          0.000004343999999999956,
          0.000004344999999999956,
          0.0000043459999999999555,
          0.000004346999999999955,
          0.000004347999999999955,
          0.0000043489999999999545,
          0.000004349999999999954,
          0.000004350999999999954,
          0.000004351999999999953,
          0.000004352999999999953,
          0.000004353999999999953,
          0.000004354999999999952,
          0.000004355999999999952,
          0.000004356999999999952,
          0.000004357999999999951,
          0.000004358999999999951,
          0.000004359999999999951,
          0.00000436099999999995,
          0.00000436199999999995,
          0.00000436299999999995,
          0.000004363999999999949,
          0.000004364999999999949,
          0.0000043659999999999485,
          0.000004366999999999948,
          0.000004367999999999948,
          0.0000043689999999999475,
          0.000004369999999999947,
          0.000004370999999999947,
          0.0000043719999999999465,
          0.000004372999999999946,
          0.000004373999999999946,
          0.000004374999999999945,
          0.000004375999999999945,
          0.000004376999999999945,
          0.000004377999999999944,
          0.000004378999999999944,
          0.000004379999999999944,
          0.000004380999999999943,
          0.000004381999999999943,
          0.000004382999999999943,
          0.000004383999999999942,
          0.000004384999999999942,
          0.0000043859999999999416,
          0.000004386999999999941,
          0.000004387999999999941,
          0.0000043889999999999405,
          0.00000438999999999994,
          0.00000439099999999994,
          0.0000043919999999999395,
          0.000004392999999999939,
          0.000004393999999999939,
          0.0000043949999999999384,
          0.000004395999999999938,
          0.000004396999999999938,
          0.000004397999999999937,
          0.000004398999999999937,
          0.000004399999999999937,
          0.000004400999999999936,
          0.000004401999999999936,
          0.000004402999999999936,
          0.000004403999999999935,
          0.000004404999999999935,
          0.000004405999999999935,
          0.000004406999999999934,
          0.000004407999999999934,
          0.0000044089999999999336,
          0.000004409999999999933,
          0.000004410999999999933,
          0.0000044119999999999325,
          0.000004412999999999932,
          0.000004413999999999932,
          0.0000044149999999999315,
          0.000004415999999999931,
          0.000004416999999999931,
          0.0000044179999999999304,
          0.00000441899999999993,
          0.00000441999999999993,
          0.000004420999999999929,
          0.000004421999999999929,
          0.000004422999999999929,
          0.000004423999999999928,
          0.000004424999999999928,
          0.000004425999999999928,
          0.000004426999999999927,
          0.000004427999999999927,
          0.000004428999999999927,
          0.000004429999999999926,
          0.000004430999999999926,
          0.0000044319999999999255,
          0.000004432999999999925,
          0.000004433999999999925,
          0.0000044349999999999245,
          0.000004435999999999924,
          0.000004436999999999924,
          0.0000044379999999999235,
          0.000004438999999999923,
          0.000004439999999999923,
          0.000004440999999999922,
          0.000004441999999999922,
          0.000004442999999999922,
          0.000004443999999999921,
          0.000004444999999999921,
          0.000004445999999999921,
          0.00000444699999999992,
          0.00000444799999999992,
          0.00000444899999999992,
          0.000004449999999999919,
          0.000004450999999999919,
          0.000004451999999999919,
          0.000004452999999999918,
          0.000004453999999999918,
          0.0000044549999999999175,
          0.000004455999999999917,
          0.000004456999999999917,
          0.0000044579999999999165,
          0.000004458999999999916,
          0.000004459999999999916,
          0.0000044609999999999154,
          0.000004461999999999915,
          0.000004462999999999915,
          0.000004463999999999914,
          0.000004464999999999914,
          0.000004465999999999914,
          0.000004466999999999913,
          0.000004467999999999913,
          0.000004468999999999913,
          0.000004469999999999912
         ],
         "xaxis": "x",
         "y": [
          0.06,
          0.06,
          0.06,
          0.06,
          0.06,
          0.06,
          0.06,
          0.06,
          0.06,
          0.06,
          0.06,
          0.06,
          0.06,
          0.06,
          0.06,
          0.06,
          0.06,
          0.06,
          0.06,
          0.06,
          0.06,
          0.06,
          0.06,
          0.06,
          0.06,
          0.06,
          0.06,
          0.06,
          0.06,
          0.06,
          0.06,
          0.06,
          0.06,
          0.06,
          0.06,
          0.06,
          0.06,
          0.06,
          0.06,
          0.06,
          0.06,
          0.06,
          0.06,
          0.06,
          0.06,
          0.06,
          0.06,
          0.06,
          0.06,
          0.06,
          0.06,
          0.06,
          0.06,
          0.06,
          0.06,
          0.06,
          0.06,
          0.06,
          0.06,
          0.06,
          0.06,
          0.06,
          0.06,
          0.06,
          0.06,
          0.06,
          0.06,
          0.06,
          0.06,
          0.06,
          0.06,
          0.06,
          0.06,
          0.06,
          0.06,
          0.06,
          0.06,
          0.06,
          0.06,
          0.06,
          0.06,
          0.06,
          0.06,
          0.06,
          0.06,
          0.06,
          0.06,
          0.06,
          0.06,
          0.06,
          0.06,
          0.06,
          0.06,
          0.06,
          0.06,
          0.06,
          0.06,
          0.06,
          0.06,
          0.06,
          0.06,
          0.06,
          0.06,
          0.06,
          0.06,
          0.06,
          0.06,
          0.06,
          0.06,
          0.06,
          0.06,
          0.06,
          0.06,
          0.06,
          0.06,
          0.06,
          0.06,
          0.06,
          0.06,
          0.06,
          0.06,
          0.06,
          0.06,
          0.06,
          0.06,
          0.06,
          0.06,
          0.06,
          0.06,
          0.06,
          0.06,
          0.06,
          0.06,
          0.06,
          0.06,
          0.06,
          0.06,
          0.06,
          0.06,
          0.06,
          0.06,
          0.06,
          0.06,
          0.06,
          0.06,
          0.06,
          0.06,
          0.06,
          0.06,
          0.06,
          0.06,
          0.06,
          0.06,
          0.06,
          0.06,
          0.06,
          0.06,
          0.06,
          0.06,
          0.06,
          0.06,
          0.06,
          0.06,
          0.06,
          0.06,
          0.06,
          0.06,
          0.06,
          0.06,
          0.06,
          0.06,
          0.06,
          0.06,
          0.06,
          0.06,
          0.06,
          0.06,
          0.06,
          0.06,
          0.06,
          0.06,
          0.06,
          0.06,
          0.06,
          0.06,
          0.06,
          0.06,
          0.06,
          0.06,
          0.06,
          0.06,
          0.06,
          0.06,
          0.06,
          0.06,
          0.06,
          0.06,
          0.06,
          0.06,
          0.06,
          0.06,
          0.06,
          0.06,
          0.06,
          0.06,
          0.06,
          0.06,
          0.06,
          0.06,
          0.06,
          0.06,
          0.06,
          0.06,
          0.06,
          0.06,
          0.06,
          0.06,
          0.06,
          0.06,
          0.06,
          0.06,
          0.06,
          0.06,
          0.06,
          0.06,
          0.06,
          0.06,
          0.06,
          0.06,
          0.06,
          0.06,
          0.06,
          0.06,
          0.06,
          0.06,
          0.06,
          0.06,
          0.06,
          0.06,
          0.06,
          0.06,
          0.06,
          0.06,
          0.06,
          0.06,
          0.06,
          0.06,
          0.06,
          0.06,
          0.06,
          0.06
         ],
         "yaxis": "y"
        },
        {
         "fill": "tozeroy",
         "hoverinfo": "x+y+name",
         "hoverlabel": {
          "namelength": -1
         },
         "legendgroup": "4",
         "line": {
          "color": "#FFA15A"
         },
         "mode": "lines",
         "name": "RampPulse, clock: q0.ro",
         "showlegend": true,
         "type": "scatter",
         "x": [
          0.0000044699999999999996,
          0.000004470999999999999,
          0.000004471999999999999,
          0.0000044729999999999985,
          0.000004473999999999998,
          0.000004474999999999998,
          0.0000044759999999999975,
          0.000004476999999999997,
          0.000004477999999999997,
          0.000004478999999999996,
          0.000004479999999999996,
          0.000004480999999999996,
          0.000004481999999999995,
          0.000004482999999999995,
          0.000004483999999999995,
          0.000004484999999999994,
          0.000004485999999999994,
          0.000004486999999999994,
          0.000004487999999999993,
          0.000004488999999999993
         ],
         "xaxis": "x",
         "y": [
          -0.025,
          -0.02375,
          -0.022500000000000003,
          -0.02125,
          -0.02,
          -0.018750000000000003,
          -0.0175,
          -0.01625,
          -0.015000000000000001,
          -0.013750000000000002,
          -0.0125,
          -0.011250000000000001,
          -0.010000000000000002,
          -0.00875,
          -0.0075,
          -0.006250000000000002,
          -0.005000000000000001,
          -0.00375,
          -0.0025000000000000022,
          -0.0012500000000000011
         ],
         "yaxis": "y"
        }
       ],
       "layout": {
        "height": 300,
        "showlegend": false,
        "template": {
         "data": {
          "bar": [
           {
            "error_x": {
             "color": "#2a3f5f"
            },
            "error_y": {
             "color": "#2a3f5f"
            },
            "marker": {
             "line": {
              "color": "#E5ECF6",
              "width": 0.5
             },
             "pattern": {
              "fillmode": "overlay",
              "size": 10,
              "solidity": 0.2
             }
            },
            "type": "bar"
           }
          ],
          "barpolar": [
           {
            "marker": {
             "line": {
              "color": "#E5ECF6",
              "width": 0.5
             },
             "pattern": {
              "fillmode": "overlay",
              "size": 10,
              "solidity": 0.2
             }
            },
            "type": "barpolar"
           }
          ],
          "carpet": [
           {
            "aaxis": {
             "endlinecolor": "#2a3f5f",
             "gridcolor": "white",
             "linecolor": "white",
             "minorgridcolor": "white",
             "startlinecolor": "#2a3f5f"
            },
            "baxis": {
             "endlinecolor": "#2a3f5f",
             "gridcolor": "white",
             "linecolor": "white",
             "minorgridcolor": "white",
             "startlinecolor": "#2a3f5f"
            },
            "type": "carpet"
           }
          ],
          "choropleth": [
           {
            "colorbar": {
             "outlinewidth": 0,
             "ticks": ""
            },
            "type": "choropleth"
           }
          ],
          "contour": [
           {
            "colorbar": {
             "outlinewidth": 0,
             "ticks": ""
            },
            "colorscale": [
             [
              0,
              "#0d0887"
             ],
             [
              0.1111111111111111,
              "#46039f"
             ],
             [
              0.2222222222222222,
              "#7201a8"
             ],
             [
              0.3333333333333333,
              "#9c179e"
             ],
             [
              0.4444444444444444,
              "#bd3786"
             ],
             [
              0.5555555555555556,
              "#d8576b"
             ],
             [
              0.6666666666666666,
              "#ed7953"
             ],
             [
              0.7777777777777778,
              "#fb9f3a"
             ],
             [
              0.8888888888888888,
              "#fdca26"
             ],
             [
              1,
              "#f0f921"
             ]
            ],
            "type": "contour"
           }
          ],
          "contourcarpet": [
           {
            "colorbar": {
             "outlinewidth": 0,
             "ticks": ""
            },
            "type": "contourcarpet"
           }
          ],
          "heatmap": [
           {
            "colorbar": {
             "outlinewidth": 0,
             "ticks": ""
            },
            "colorscale": [
             [
              0,
              "#0d0887"
             ],
             [
              0.1111111111111111,
              "#46039f"
             ],
             [
              0.2222222222222222,
              "#7201a8"
             ],
             [
              0.3333333333333333,
              "#9c179e"
             ],
             [
              0.4444444444444444,
              "#bd3786"
             ],
             [
              0.5555555555555556,
              "#d8576b"
             ],
             [
              0.6666666666666666,
              "#ed7953"
             ],
             [
              0.7777777777777778,
              "#fb9f3a"
             ],
             [
              0.8888888888888888,
              "#fdca26"
             ],
             [
              1,
              "#f0f921"
             ]
            ],
            "type": "heatmap"
           }
          ],
          "heatmapgl": [
           {
            "colorbar": {
             "outlinewidth": 0,
             "ticks": ""
            },
            "colorscale": [
             [
              0,
              "#0d0887"
             ],
             [
              0.1111111111111111,
              "#46039f"
             ],
             [
              0.2222222222222222,
              "#7201a8"
             ],
             [
              0.3333333333333333,
              "#9c179e"
             ],
             [
              0.4444444444444444,
              "#bd3786"
             ],
             [
              0.5555555555555556,
              "#d8576b"
             ],
             [
              0.6666666666666666,
              "#ed7953"
             ],
             [
              0.7777777777777778,
              "#fb9f3a"
             ],
             [
              0.8888888888888888,
              "#fdca26"
             ],
             [
              1,
              "#f0f921"
             ]
            ],
            "type": "heatmapgl"
           }
          ],
          "histogram": [
           {
            "marker": {
             "pattern": {
              "fillmode": "overlay",
              "size": 10,
              "solidity": 0.2
             }
            },
            "type": "histogram"
           }
          ],
          "histogram2d": [
           {
            "colorbar": {
             "outlinewidth": 0,
             "ticks": ""
            },
            "colorscale": [
             [
              0,
              "#0d0887"
             ],
             [
              0.1111111111111111,
              "#46039f"
             ],
             [
              0.2222222222222222,
              "#7201a8"
             ],
             [
              0.3333333333333333,
              "#9c179e"
             ],
             [
              0.4444444444444444,
              "#bd3786"
             ],
             [
              0.5555555555555556,
              "#d8576b"
             ],
             [
              0.6666666666666666,
              "#ed7953"
             ],
             [
              0.7777777777777778,
              "#fb9f3a"
             ],
             [
              0.8888888888888888,
              "#fdca26"
             ],
             [
              1,
              "#f0f921"
             ]
            ],
            "type": "histogram2d"
           }
          ],
          "histogram2dcontour": [
           {
            "colorbar": {
             "outlinewidth": 0,
             "ticks": ""
            },
            "colorscale": [
             [
              0,
              "#0d0887"
             ],
             [
              0.1111111111111111,
              "#46039f"
             ],
             [
              0.2222222222222222,
              "#7201a8"
             ],
             [
              0.3333333333333333,
              "#9c179e"
             ],
             [
              0.4444444444444444,
              "#bd3786"
             ],
             [
              0.5555555555555556,
              "#d8576b"
             ],
             [
              0.6666666666666666,
              "#ed7953"
             ],
             [
              0.7777777777777778,
              "#fb9f3a"
             ],
             [
              0.8888888888888888,
              "#fdca26"
             ],
             [
              1,
              "#f0f921"
             ]
            ],
            "type": "histogram2dcontour"
           }
          ],
          "mesh3d": [
           {
            "colorbar": {
             "outlinewidth": 0,
             "ticks": ""
            },
            "type": "mesh3d"
           }
          ],
          "parcoords": [
           {
            "line": {
             "colorbar": {
              "outlinewidth": 0,
              "ticks": ""
             }
            },
            "type": "parcoords"
           }
          ],
          "pie": [
           {
            "automargin": true,
            "type": "pie"
           }
          ],
          "scatter": [
           {
            "fillpattern": {
             "fillmode": "overlay",
             "size": 10,
             "solidity": 0.2
            },
            "type": "scatter"
           }
          ],
          "scatter3d": [
           {
            "line": {
             "colorbar": {
              "outlinewidth": 0,
              "ticks": ""
             }
            },
            "marker": {
             "colorbar": {
              "outlinewidth": 0,
              "ticks": ""
             }
            },
            "type": "scatter3d"
           }
          ],
          "scattercarpet": [
           {
            "marker": {
             "colorbar": {
              "outlinewidth": 0,
              "ticks": ""
             }
            },
            "type": "scattercarpet"
           }
          ],
          "scattergeo": [
           {
            "marker": {
             "colorbar": {
              "outlinewidth": 0,
              "ticks": ""
             }
            },
            "type": "scattergeo"
           }
          ],
          "scattergl": [
           {
            "marker": {
             "colorbar": {
              "outlinewidth": 0,
              "ticks": ""
             }
            },
            "type": "scattergl"
           }
          ],
          "scattermapbox": [
           {
            "marker": {
             "colorbar": {
              "outlinewidth": 0,
              "ticks": ""
             }
            },
            "type": "scattermapbox"
           }
          ],
          "scatterpolar": [
           {
            "marker": {
             "colorbar": {
              "outlinewidth": 0,
              "ticks": ""
             }
            },
            "type": "scatterpolar"
           }
          ],
          "scatterpolargl": [
           {
            "marker": {
             "colorbar": {
              "outlinewidth": 0,
              "ticks": ""
             }
            },
            "type": "scatterpolargl"
           }
          ],
          "scatterternary": [
           {
            "marker": {
             "colorbar": {
              "outlinewidth": 0,
              "ticks": ""
             }
            },
            "type": "scatterternary"
           }
          ],
          "surface": [
           {
            "colorbar": {
             "outlinewidth": 0,
             "ticks": ""
            },
            "colorscale": [
             [
              0,
              "#0d0887"
             ],
             [
              0.1111111111111111,
              "#46039f"
             ],
             [
              0.2222222222222222,
              "#7201a8"
             ],
             [
              0.3333333333333333,
              "#9c179e"
             ],
             [
              0.4444444444444444,
              "#bd3786"
             ],
             [
              0.5555555555555556,
              "#d8576b"
             ],
             [
              0.6666666666666666,
              "#ed7953"
             ],
             [
              0.7777777777777778,
              "#fb9f3a"
             ],
             [
              0.8888888888888888,
              "#fdca26"
             ],
             [
              1,
              "#f0f921"
             ]
            ],
            "type": "surface"
           }
          ],
          "table": [
           {
            "cells": {
             "fill": {
              "color": "#EBF0F8"
             },
             "line": {
              "color": "white"
             }
            },
            "header": {
             "fill": {
              "color": "#C8D4E3"
             },
             "line": {
              "color": "white"
             }
            },
            "type": "table"
           }
          ]
         },
         "layout": {
          "annotationdefaults": {
           "arrowcolor": "#2a3f5f",
           "arrowhead": 0,
           "arrowwidth": 1
          },
          "autotypenumbers": "strict",
          "coloraxis": {
           "colorbar": {
            "outlinewidth": 0,
            "ticks": ""
           }
          },
          "colorscale": {
           "diverging": [
            [
             0,
             "#8e0152"
            ],
            [
             0.1,
             "#c51b7d"
            ],
            [
             0.2,
             "#de77ae"
            ],
            [
             0.3,
             "#f1b6da"
            ],
            [
             0.4,
             "#fde0ef"
            ],
            [
             0.5,
             "#f7f7f7"
            ],
            [
             0.6,
             "#e6f5d0"
            ],
            [
             0.7,
             "#b8e186"
            ],
            [
             0.8,
             "#7fbc41"
            ],
            [
             0.9,
             "#4d9221"
            ],
            [
             1,
             "#276419"
            ]
           ],
           "sequential": [
            [
             0,
             "#0d0887"
            ],
            [
             0.1111111111111111,
             "#46039f"
            ],
            [
             0.2222222222222222,
             "#7201a8"
            ],
            [
             0.3333333333333333,
             "#9c179e"
            ],
            [
             0.4444444444444444,
             "#bd3786"
            ],
            [
             0.5555555555555556,
             "#d8576b"
            ],
            [
             0.6666666666666666,
             "#ed7953"
            ],
            [
             0.7777777777777778,
             "#fb9f3a"
            ],
            [
             0.8888888888888888,
             "#fdca26"
            ],
            [
             1,
             "#f0f921"
            ]
           ],
           "sequentialminus": [
            [
             0,
             "#0d0887"
            ],
            [
             0.1111111111111111,
             "#46039f"
            ],
            [
             0.2222222222222222,
             "#7201a8"
            ],
            [
             0.3333333333333333,
             "#9c179e"
            ],
            [
             0.4444444444444444,
             "#bd3786"
            ],
            [
             0.5555555555555556,
             "#d8576b"
            ],
            [
             0.6666666666666666,
             "#ed7953"
            ],
            [
             0.7777777777777778,
             "#fb9f3a"
            ],
            [
             0.8888888888888888,
             "#fdca26"
            ],
            [
             1,
             "#f0f921"
            ]
           ]
          },
          "colorway": [
           "#636efa",
           "#EF553B",
           "#00cc96",
           "#ab63fa",
           "#FFA15A",
           "#19d3f3",
           "#FF6692",
           "#B6E880",
           "#FF97FF",
           "#FECB52"
          ],
          "font": {
           "color": "#2a3f5f"
          },
          "geo": {
           "bgcolor": "white",
           "lakecolor": "white",
           "landcolor": "#E5ECF6",
           "showlakes": true,
           "showland": true,
           "subunitcolor": "white"
          },
          "hoverlabel": {
           "align": "left"
          },
          "hovermode": "closest",
          "mapbox": {
           "style": "light"
          },
          "paper_bgcolor": "white",
          "plot_bgcolor": "#E5ECF6",
          "polar": {
           "angularaxis": {
            "gridcolor": "white",
            "linecolor": "white",
            "ticks": ""
           },
           "bgcolor": "#E5ECF6",
           "radialaxis": {
            "gridcolor": "white",
            "linecolor": "white",
            "ticks": ""
           }
          },
          "scene": {
           "xaxis": {
            "backgroundcolor": "#E5ECF6",
            "gridcolor": "white",
            "gridwidth": 2,
            "linecolor": "white",
            "showbackground": true,
            "ticks": "",
            "zerolinecolor": "white"
           },
           "yaxis": {
            "backgroundcolor": "#E5ECF6",
            "gridcolor": "white",
            "gridwidth": 2,
            "linecolor": "white",
            "showbackground": true,
            "ticks": "",
            "zerolinecolor": "white"
           },
           "zaxis": {
            "backgroundcolor": "#E5ECF6",
            "gridcolor": "white",
            "gridwidth": 2,
            "linecolor": "white",
            "showbackground": true,
            "ticks": "",
            "zerolinecolor": "white"
           }
          },
          "shapedefaults": {
           "line": {
            "color": "#2a3f5f"
           }
          },
          "ternary": {
           "aaxis": {
            "gridcolor": "white",
            "linecolor": "white",
            "ticks": ""
           },
           "baxis": {
            "gridcolor": "white",
            "linecolor": "white",
            "ticks": ""
           },
           "bgcolor": "#E5ECF6",
           "caxis": {
            "gridcolor": "white",
            "linecolor": "white",
            "ticks": ""
           }
          },
          "title": {
           "x": 0.05
          },
          "xaxis": {
           "automargin": true,
           "gridcolor": "white",
           "linecolor": "white",
           "ticks": "",
           "title": {
            "standoff": 15
           },
           "zerolinecolor": "white",
           "zerolinewidth": 2
          },
          "yaxis": {
           "automargin": true,
           "gridcolor": "white",
           "linecolor": "white",
           "ticks": "",
           "title": {
            "standoff": 15
           },
           "zerolinecolor": "white",
           "zerolinewidth": 2
          }
         }
        },
        "title": {
         "text": "Qubit Reset - Step 2 - ge/gf cr"
        },
        "width": 1000,
        "xaxis": {
         "anchor": "y",
         "domain": [
          0,
          1
         ],
         "hoverformat": ".3s",
         "showgrid": true,
         "tickformat": ".2s",
         "tickformatstops": [
          {
           "dtickrange": [
            null,
            1e-9
           ],
           "value": ".10s"
          },
          {
           "dtickrange": [
            1e-9,
            0.000001
           ],
           "value": ".7s"
          },
          {
           "dtickrange": [
            0.000001,
            0.001
           ],
           "value": ".4s"
          }
         ],
         "ticksuffix": "s",
         "title": {
          "text": "Time"
         }
        },
        "yaxis": {
         "anchor": "x",
         "autorange": true,
         "domain": [
          0,
          1
         ],
         "hoverformat": ".3s",
         "tickformat": ".2s",
         "ticksuffix": "V",
         "title": {
          "text": "flux"
         }
        }
       }
      },
      "text/html": [
       "<div>                            <div id=\"46466147-ac98-435b-9463-79c770ba87d9\" class=\"plotly-graph-div\" style=\"height:300px; width:1000px;\"></div>            <script type=\"text/javascript\">                require([\"plotly\"], function(Plotly) {                    window.PLOTLYENV=window.PLOTLYENV || {};                                    if (document.getElementById(\"46466147-ac98-435b-9463-79c770ba87d9\")) {                    Plotly.newPlot(                        \"46466147-ac98-435b-9463-79c770ba87d9\",                        [{\"fill\":\"tozeroy\",\"hoverinfo\":\"x+y+name\",\"hoverlabel\":{\"namelength\":-1},\"legendgroup\":\"1\",\"line\":{\"color\":\"#EF553B\"},\"mode\":\"lines\",\"name\":\"RampPulse, clock: q0.ro\",\"showlegend\":true,\"x\":[4e-6,4.0009999999999995e-6,4.001999999999999e-6,4.002999999999999e-6,4.0039999999999984e-6,4.004999999999998e-6,4.005999999999998e-6,4.006999999999997e-6,4.007999999999997e-6,4.008999999999997e-6,4.009999999999996e-6,4.010999999999996e-6,4.011999999999996e-6,4.012999999999995e-6,4.013999999999995e-6,4.014999999999995e-6,4.015999999999994e-6,4.016999999999994e-6,4.0179999999999935e-6,4.018999999999993e-6],\"y\":[-0.025,-0.02375,-0.022500000000000003,-0.02125,-0.02,-0.018750000000000003,-0.0175,-0.01625,-0.015000000000000001,-0.013750000000000002,-0.0125,-0.011250000000000001,-0.010000000000000002,-0.00875,-0.0075,-0.006250000000000002,-0.005000000000000001,-0.00375,-0.0025000000000000022,-0.0012500000000000011],\"type\":\"scatter\",\"xaxis\":\"x\",\"yaxis\":\"y\"},{\"fill\":\"tozeroy\",\"hoverinfo\":\"x+y+name\",\"hoverlabel\":{\"namelength\":-1},\"legendgroup\":\"2\",\"line\":{\"color\":\"#00CC96\"},\"mode\":\"lines\",\"name\":\"RampPulse, clock: q0.ro\",\"showlegend\":true,\"x\":[4.02e-6,4.020999999999999e-6,4.021999999999999e-6,4.022999999999999e-6,4.023999999999998e-6,4.024999999999998e-6,4.0259999999999975e-6,4.026999999999997e-6,4.027999999999997e-6,4.0289999999999965e-6,4.029999999999996e-6,4.030999999999996e-6,4.0319999999999954e-6,4.032999999999995e-6,4.033999999999995e-6,4.034999999999994e-6,4.035999999999994e-6,4.036999999999994e-6,4.037999999999993e-6,4.038999999999993e-6,4.039999999999993e-6,4.040999999999992e-6,4.041999999999992e-6,4.042999999999992e-6,4.043999999999991e-6,4.044999999999991e-6,4.0459999999999906e-6,4.04699999999999e-6,4.04799999999999e-6,4.0489999999999895e-6,4.049999999999989e-6,4.050999999999989e-6,4.0519999999999885e-6,4.052999999999988e-6,4.053999999999988e-6,4.0549999999999874e-6,4.055999999999987e-6,4.056999999999987e-6,4.057999999999986e-6,4.058999999999986e-6,4.059999999999986e-6,4.060999999999985e-6,4.061999999999985e-6,4.062999999999985e-6,4.063999999999984e-6,4.064999999999984e-6,4.065999999999984e-6,4.066999999999983e-6,4.067999999999983e-6,4.0689999999999826e-6,4.069999999999982e-6,4.070999999999982e-6,4.0719999999999815e-6,4.072999999999981e-6,4.073999999999981e-6,4.0749999999999805e-6,4.07599999999998e-6,4.07699999999998e-6,4.077999999999979e-6,4.078999999999979e-6,4.079999999999979e-6,4.080999999999978e-6,4.081999999999978e-6,4.082999999999978e-6,4.083999999999977e-6,4.084999999999977e-6,4.085999999999977e-6,4.086999999999976e-6,4.087999999999976e-6,4.088999999999976e-6,4.089999999999975e-6,4.090999999999975e-6,4.0919999999999745e-6,4.092999999999974e-6,4.093999999999974e-6,4.0949999999999735e-6,4.095999999999973e-6,4.096999999999973e-6,4.0979999999999725e-6,4.098999999999972e-6,4.099999999999972e-6,4.100999999999971e-6,4.101999999999971e-6,4.102999999999971e-6,4.10399999999997e-6,4.10499999999997e-6,4.10599999999997e-6,4.106999999999969e-6,4.107999999999969e-6,4.108999999999969e-6,4.109999999999968e-6,4.110999999999968e-6,4.1119999999999676e-6,4.112999999999967e-6,4.113999999999967e-6,4.1149999999999665e-6,4.115999999999966e-6,4.116999999999966e-6,4.1179999999999655e-6,4.118999999999965e-6,4.119999999999965e-6,4.1209999999999644e-6,4.121999999999964e-6,4.122999999999964e-6,4.123999999999963e-6,4.124999999999963e-6,4.125999999999963e-6,4.126999999999962e-6,4.127999999999962e-6,4.128999999999962e-6,4.129999999999961e-6,4.130999999999961e-6,4.131999999999961e-6,4.13299999999996e-6,4.13399999999996e-6,4.1349999999999596e-6,4.135999999999959e-6,4.136999999999959e-6,4.1379999999999585e-6,4.138999999999958e-6,4.139999999999958e-6,4.1409999999999575e-6,4.141999999999957e-6,4.142999999999957e-6,4.1439999999999564e-6,4.144999999999956e-6,4.145999999999956e-6,4.146999999999955e-6,4.147999999999955e-6,4.148999999999955e-6,4.149999999999954e-6,4.150999999999954e-6,4.151999999999954e-6,4.152999999999953e-6,4.153999999999953e-6,4.154999999999953e-6,4.155999999999952e-6,4.156999999999952e-6,4.1579999999999516e-6,4.158999999999951e-6,4.159999999999951e-6,4.1609999999999505e-6,4.16199999999995e-6,4.16299999999995e-6,4.1639999999999495e-6,4.164999999999949e-6,4.165999999999949e-6,4.166999999999948e-6,4.167999999999948e-6,4.168999999999948e-6,4.169999999999947e-6,4.170999999999947e-6,4.171999999999947e-6,4.172999999999946e-6,4.173999999999946e-6,4.174999999999946e-6,4.175999999999945e-6,4.176999999999945e-6,4.177999999999945e-6,4.178999999999944e-6,4.179999999999944e-6,4.1809999999999435e-6,4.181999999999943e-6,4.182999999999943e-6,4.1839999999999425e-6,4.184999999999942e-6,4.185999999999942e-6,4.1869999999999414e-6,4.187999999999941e-6,4.188999999999941e-6,4.18999999999994e-6,4.19099999999994e-6,4.19199999999994e-6,4.192999999999939e-6,4.193999999999939e-6,4.194999999999939e-6,4.195999999999938e-6,4.196999999999938e-6,4.197999999999938e-6,4.198999999999937e-6,4.199999999999937e-6,4.2009999999999366e-6,4.201999999999936e-6,4.202999999999936e-6,4.2039999999999355e-6,4.204999999999935e-6,4.205999999999935e-6,4.2069999999999345e-6,4.207999999999934e-6,4.208999999999934e-6,4.2099999999999334e-6,4.210999999999933e-6,4.211999999999933e-6,4.212999999999932e-6,4.213999999999932e-6,4.214999999999932e-6,4.215999999999931e-6,4.216999999999931e-6,4.217999999999931e-6,4.21899999999993e-6],\"y\":[0.05,0.05,0.05,0.05,0.05,0.05,0.05,0.05,0.05,0.05,0.05,0.05,0.05,0.05,0.05,0.05,0.05,0.05,0.05,0.05,0.05,0.05,0.05,0.05,0.05,0.05,0.05,0.05,0.05,0.05,0.05,0.05,0.05,0.05,0.05,0.05,0.05,0.05,0.05,0.05,0.05,0.05,0.05,0.05,0.05,0.05,0.05,0.05,0.05,0.05,0.05,0.05,0.05,0.05,0.05,0.05,0.05,0.05,0.05,0.05,0.05,0.05,0.05,0.05,0.05,0.05,0.05,0.05,0.05,0.05,0.05,0.05,0.05,0.05,0.05,0.05,0.05,0.05,0.05,0.05,0.05,0.05,0.05,0.05,0.05,0.05,0.05,0.05,0.05,0.05,0.05,0.05,0.05,0.05,0.05,0.05,0.05,0.05,0.05,0.05,0.05,0.05,0.05,0.05,0.05,0.05,0.05,0.05,0.05,0.05,0.05,0.05,0.05,0.05,0.05,0.05,0.05,0.05,0.05,0.05,0.05,0.05,0.05,0.05,0.05,0.05,0.05,0.05,0.05,0.05,0.05,0.05,0.05,0.05,0.05,0.05,0.05,0.05,0.05,0.05,0.05,0.05,0.05,0.05,0.05,0.05,0.05,0.05,0.05,0.05,0.05,0.05,0.05,0.05,0.05,0.05,0.05,0.05,0.05,0.05,0.05,0.05,0.05,0.05,0.05,0.05,0.05,0.05,0.05,0.05,0.05,0.05,0.05,0.05,0.05,0.05,0.05,0.05,0.05,0.05,0.05,0.05,0.05,0.05,0.05,0.05,0.05,0.05,0.05,0.05,0.05,0.05,0.05,0.05,0.05,0.05,0.05,0.05,0.05,0.05],\"type\":\"scatter\",\"xaxis\":\"x\",\"yaxis\":\"y\"},{\"fill\":\"tozeroy\",\"hoverinfo\":\"x+y+name\",\"hoverlabel\":{\"namelength\":-1},\"legendgroup\":\"3\",\"line\":{\"color\":\"#AB63FA\"},\"mode\":\"lines\",\"name\":\"RampPulse, clock: q0.ro\",\"showlegend\":true,\"x\":[4.219999999999999e-6,4.220999999999999e-6,4.221999999999999e-6,4.222999999999998e-6,4.223999999999998e-6,4.224999999999998e-6,4.225999999999997e-6,4.226999999999997e-6,4.227999999999997e-6,4.228999999999996e-6,4.229999999999996e-6,4.2309999999999956e-6,4.231999999999995e-6,4.232999999999995e-6,4.2339999999999945e-6,4.234999999999994e-6,4.235999999999994e-6,4.2369999999999935e-6,4.237999999999993e-6,4.238999999999993e-6,4.2399999999999924e-6,4.240999999999992e-6,4.241999999999992e-6,4.242999999999991e-6,4.243999999999991e-6,4.244999999999991e-6,4.24599999999999e-6,4.24699999999999e-6,4.24799999999999e-6,4.248999999999989e-6,4.249999999999989e-6,4.250999999999989e-6,4.251999999999988e-6,4.252999999999988e-6,4.2539999999999876e-6,4.254999999999987e-6,4.255999999999987e-6,4.2569999999999865e-6,4.257999999999986e-6,4.258999999999986e-6,4.2599999999999855e-6,4.260999999999985e-6,4.261999999999985e-6,4.2629999999999844e-6,4.263999999999984e-6,4.264999999999984e-6,4.265999999999983e-6,4.266999999999983e-6,4.267999999999983e-6,4.268999999999982e-6,4.269999999999982e-6,4.270999999999982e-6,4.271999999999981e-6,4.272999999999981e-6,4.273999999999981e-6,4.27499999999998e-6,4.27599999999998e-6,4.2769999999999795e-6,4.277999999999979e-6,4.278999999999979e-6,4.2799999999999785e-6,4.280999999999978e-6,4.281999999999978e-6,4.2829999999999775e-6,4.283999999999977e-6,4.284999999999977e-6,4.285999999999976e-6,4.286999999999976e-6,4.287999999999976e-6,4.288999999999975e-6,4.289999999999975e-6,4.290999999999975e-6,4.291999999999974e-6,4.292999999999974e-6,4.293999999999974e-6,4.294999999999973e-6,4.295999999999973e-6,4.296999999999973e-6,4.297999999999972e-6,4.298999999999972e-6,4.2999999999999715e-6,4.300999999999971e-6,4.301999999999971e-6,4.3029999999999705e-6,4.30399999999997e-6,4.30499999999997e-6,4.3059999999999694e-6,4.306999999999969e-6,4.307999999999969e-6,4.308999999999968e-6,4.309999999999968e-6,4.310999999999968e-6,4.311999999999967e-6,4.312999999999967e-6,4.313999999999967e-6,4.314999999999966e-6,4.315999999999966e-6,4.316999999999966e-6,4.317999999999965e-6,4.318999999999965e-6,4.3199999999999646e-6,4.320999999999964e-6,4.321999999999964e-6,4.3229999999999635e-6,4.323999999999963e-6,4.324999999999963e-6,4.3259999999999625e-6,4.326999999999962e-6,4.327999999999962e-6,4.3289999999999614e-6,4.329999999999961e-6,4.330999999999961e-6,4.33199999999996e-6,4.33299999999996e-6,4.33399999999996e-6,4.334999999999959e-6,4.335999999999959e-6,4.336999999999959e-6,4.337999999999958e-6,4.338999999999958e-6,4.339999999999958e-6,4.340999999999957e-6,4.341999999999957e-6,4.3429999999999566e-6,4.343999999999956e-6,4.344999999999956e-6,4.3459999999999555e-6,4.346999999999955e-6,4.347999999999955e-6,4.3489999999999545e-6,4.349999999999954e-6,4.350999999999954e-6,4.351999999999953e-6,4.352999999999953e-6,4.353999999999953e-6,4.354999999999952e-6,4.355999999999952e-6,4.356999999999952e-6,4.357999999999951e-6,4.358999999999951e-6,4.359999999999951e-6,4.36099999999995e-6,4.36199999999995e-6,4.36299999999995e-6,4.363999999999949e-6,4.364999999999949e-6,4.3659999999999485e-6,4.366999999999948e-6,4.367999999999948e-6,4.3689999999999475e-6,4.369999999999947e-6,4.370999999999947e-6,4.3719999999999465e-6,4.372999999999946e-6,4.373999999999946e-6,4.374999999999945e-6,4.375999999999945e-6,4.376999999999945e-6,4.377999999999944e-6,4.378999999999944e-6,4.379999999999944e-6,4.380999999999943e-6,4.381999999999943e-6,4.382999999999943e-6,4.383999999999942e-6,4.384999999999942e-6,4.3859999999999416e-6,4.386999999999941e-6,4.387999999999941e-6,4.3889999999999405e-6,4.38999999999994e-6,4.39099999999994e-6,4.3919999999999395e-6,4.392999999999939e-6,4.393999999999939e-6,4.3949999999999384e-6,4.395999999999938e-6,4.396999999999938e-6,4.397999999999937e-6,4.398999999999937e-6,4.399999999999937e-6,4.400999999999936e-6,4.401999999999936e-6,4.402999999999936e-6,4.403999999999935e-6,4.404999999999935e-6,4.405999999999935e-6,4.406999999999934e-6,4.407999999999934e-6,4.4089999999999336e-6,4.409999999999933e-6,4.410999999999933e-6,4.4119999999999325e-6,4.412999999999932e-6,4.413999999999932e-6,4.4149999999999315e-6,4.415999999999931e-6,4.416999999999931e-6,4.4179999999999304e-6,4.41899999999993e-6,4.41999999999993e-6,4.420999999999929e-6,4.421999999999929e-6,4.422999999999929e-6,4.423999999999928e-6,4.424999999999928e-6,4.425999999999928e-6,4.426999999999927e-6,4.427999999999927e-6,4.428999999999927e-6,4.429999999999926e-6,4.430999999999926e-6,4.4319999999999255e-6,4.432999999999925e-6,4.433999999999925e-6,4.4349999999999245e-6,4.435999999999924e-6,4.436999999999924e-6,4.4379999999999235e-6,4.438999999999923e-6,4.439999999999923e-6,4.440999999999922e-6,4.441999999999922e-6,4.442999999999922e-6,4.443999999999921e-6,4.444999999999921e-6,4.445999999999921e-6,4.44699999999992e-6,4.44799999999992e-6,4.44899999999992e-6,4.449999999999919e-6,4.450999999999919e-6,4.451999999999919e-6,4.452999999999918e-6,4.453999999999918e-6,4.4549999999999175e-6,4.455999999999917e-6,4.456999999999917e-6,4.4579999999999165e-6,4.458999999999916e-6,4.459999999999916e-6,4.4609999999999154e-6,4.461999999999915e-6,4.462999999999915e-6,4.463999999999914e-6,4.464999999999914e-6,4.465999999999914e-6,4.466999999999913e-6,4.467999999999913e-6,4.468999999999913e-6,4.469999999999912e-6],\"y\":[0.06,0.06,0.06,0.06,0.06,0.06,0.06,0.06,0.06,0.06,0.06,0.06,0.06,0.06,0.06,0.06,0.06,0.06,0.06,0.06,0.06,0.06,0.06,0.06,0.06,0.06,0.06,0.06,0.06,0.06,0.06,0.06,0.06,0.06,0.06,0.06,0.06,0.06,0.06,0.06,0.06,0.06,0.06,0.06,0.06,0.06,0.06,0.06,0.06,0.06,0.06,0.06,0.06,0.06,0.06,0.06,0.06,0.06,0.06,0.06,0.06,0.06,0.06,0.06,0.06,0.06,0.06,0.06,0.06,0.06,0.06,0.06,0.06,0.06,0.06,0.06,0.06,0.06,0.06,0.06,0.06,0.06,0.06,0.06,0.06,0.06,0.06,0.06,0.06,0.06,0.06,0.06,0.06,0.06,0.06,0.06,0.06,0.06,0.06,0.06,0.06,0.06,0.06,0.06,0.06,0.06,0.06,0.06,0.06,0.06,0.06,0.06,0.06,0.06,0.06,0.06,0.06,0.06,0.06,0.06,0.06,0.06,0.06,0.06,0.06,0.06,0.06,0.06,0.06,0.06,0.06,0.06,0.06,0.06,0.06,0.06,0.06,0.06,0.06,0.06,0.06,0.06,0.06,0.06,0.06,0.06,0.06,0.06,0.06,0.06,0.06,0.06,0.06,0.06,0.06,0.06,0.06,0.06,0.06,0.06,0.06,0.06,0.06,0.06,0.06,0.06,0.06,0.06,0.06,0.06,0.06,0.06,0.06,0.06,0.06,0.06,0.06,0.06,0.06,0.06,0.06,0.06,0.06,0.06,0.06,0.06,0.06,0.06,0.06,0.06,0.06,0.06,0.06,0.06,0.06,0.06,0.06,0.06,0.06,0.06,0.06,0.06,0.06,0.06,0.06,0.06,0.06,0.06,0.06,0.06,0.06,0.06,0.06,0.06,0.06,0.06,0.06,0.06,0.06,0.06,0.06,0.06,0.06,0.06,0.06,0.06,0.06,0.06,0.06,0.06,0.06,0.06,0.06,0.06,0.06,0.06,0.06,0.06,0.06,0.06,0.06,0.06,0.06,0.06,0.06,0.06,0.06,0.06,0.06,0.06,0.06],\"type\":\"scatter\",\"xaxis\":\"x\",\"yaxis\":\"y\"},{\"fill\":\"tozeroy\",\"hoverinfo\":\"x+y+name\",\"hoverlabel\":{\"namelength\":-1},\"legendgroup\":\"4\",\"line\":{\"color\":\"#FFA15A\"},\"mode\":\"lines\",\"name\":\"RampPulse, clock: q0.ro\",\"showlegend\":true,\"x\":[4.4699999999999996e-6,4.470999999999999e-6,4.471999999999999e-6,4.4729999999999985e-6,4.473999999999998e-6,4.474999999999998e-6,4.4759999999999975e-6,4.476999999999997e-6,4.477999999999997e-6,4.478999999999996e-6,4.479999999999996e-6,4.480999999999996e-6,4.481999999999995e-6,4.482999999999995e-6,4.483999999999995e-6,4.484999999999994e-6,4.485999999999994e-6,4.486999999999994e-6,4.487999999999993e-6,4.488999999999993e-6],\"y\":[-0.025,-0.02375,-0.022500000000000003,-0.02125,-0.02,-0.018750000000000003,-0.0175,-0.01625,-0.015000000000000001,-0.013750000000000002,-0.0125,-0.011250000000000001,-0.010000000000000002,-0.00875,-0.0075,-0.006250000000000002,-0.005000000000000001,-0.00375,-0.0025000000000000022,-0.0012500000000000011],\"type\":\"scatter\",\"xaxis\":\"x\",\"yaxis\":\"y\"}],                        {\"template\":{\"data\":{\"histogram2dcontour\":[{\"type\":\"histogram2dcontour\",\"colorbar\":{\"outlinewidth\":0,\"ticks\":\"\"},\"colorscale\":[[0.0,\"#0d0887\"],[0.1111111111111111,\"#46039f\"],[0.2222222222222222,\"#7201a8\"],[0.3333333333333333,\"#9c179e\"],[0.4444444444444444,\"#bd3786\"],[0.5555555555555556,\"#d8576b\"],[0.6666666666666666,\"#ed7953\"],[0.7777777777777778,\"#fb9f3a\"],[0.8888888888888888,\"#fdca26\"],[1.0,\"#f0f921\"]]}],\"choropleth\":[{\"type\":\"choropleth\",\"colorbar\":{\"outlinewidth\":0,\"ticks\":\"\"}}],\"histogram2d\":[{\"type\":\"histogram2d\",\"colorbar\":{\"outlinewidth\":0,\"ticks\":\"\"},\"colorscale\":[[0.0,\"#0d0887\"],[0.1111111111111111,\"#46039f\"],[0.2222222222222222,\"#7201a8\"],[0.3333333333333333,\"#9c179e\"],[0.4444444444444444,\"#bd3786\"],[0.5555555555555556,\"#d8576b\"],[0.6666666666666666,\"#ed7953\"],[0.7777777777777778,\"#fb9f3a\"],[0.8888888888888888,\"#fdca26\"],[1.0,\"#f0f921\"]]}],\"heatmap\":[{\"type\":\"heatmap\",\"colorbar\":{\"outlinewidth\":0,\"ticks\":\"\"},\"colorscale\":[[0.0,\"#0d0887\"],[0.1111111111111111,\"#46039f\"],[0.2222222222222222,\"#7201a8\"],[0.3333333333333333,\"#9c179e\"],[0.4444444444444444,\"#bd3786\"],[0.5555555555555556,\"#d8576b\"],[0.6666666666666666,\"#ed7953\"],[0.7777777777777778,\"#fb9f3a\"],[0.8888888888888888,\"#fdca26\"],[1.0,\"#f0f921\"]]}],\"heatmapgl\":[{\"type\":\"heatmapgl\",\"colorbar\":{\"outlinewidth\":0,\"ticks\":\"\"},\"colorscale\":[[0.0,\"#0d0887\"],[0.1111111111111111,\"#46039f\"],[0.2222222222222222,\"#7201a8\"],[0.3333333333333333,\"#9c179e\"],[0.4444444444444444,\"#bd3786\"],[0.5555555555555556,\"#d8576b\"],[0.6666666666666666,\"#ed7953\"],[0.7777777777777778,\"#fb9f3a\"],[0.8888888888888888,\"#fdca26\"],[1.0,\"#f0f921\"]]}],\"contourcarpet\":[{\"type\":\"contourcarpet\",\"colorbar\":{\"outlinewidth\":0,\"ticks\":\"\"}}],\"contour\":[{\"type\":\"contour\",\"colorbar\":{\"outlinewidth\":0,\"ticks\":\"\"},\"colorscale\":[[0.0,\"#0d0887\"],[0.1111111111111111,\"#46039f\"],[0.2222222222222222,\"#7201a8\"],[0.3333333333333333,\"#9c179e\"],[0.4444444444444444,\"#bd3786\"],[0.5555555555555556,\"#d8576b\"],[0.6666666666666666,\"#ed7953\"],[0.7777777777777778,\"#fb9f3a\"],[0.8888888888888888,\"#fdca26\"],[1.0,\"#f0f921\"]]}],\"surface\":[{\"type\":\"surface\",\"colorbar\":{\"outlinewidth\":0,\"ticks\":\"\"},\"colorscale\":[[0.0,\"#0d0887\"],[0.1111111111111111,\"#46039f\"],[0.2222222222222222,\"#7201a8\"],[0.3333333333333333,\"#9c179e\"],[0.4444444444444444,\"#bd3786\"],[0.5555555555555556,\"#d8576b\"],[0.6666666666666666,\"#ed7953\"],[0.7777777777777778,\"#fb9f3a\"],[0.8888888888888888,\"#fdca26\"],[1.0,\"#f0f921\"]]}],\"mesh3d\":[{\"type\":\"mesh3d\",\"colorbar\":{\"outlinewidth\":0,\"ticks\":\"\"}}],\"scatter\":[{\"fillpattern\":{\"fillmode\":\"overlay\",\"size\":10,\"solidity\":0.2},\"type\":\"scatter\"}],\"parcoords\":[{\"type\":\"parcoords\",\"line\":{\"colorbar\":{\"outlinewidth\":0,\"ticks\":\"\"}}}],\"scatterpolargl\":[{\"type\":\"scatterpolargl\",\"marker\":{\"colorbar\":{\"outlinewidth\":0,\"ticks\":\"\"}}}],\"bar\":[{\"error_x\":{\"color\":\"#2a3f5f\"},\"error_y\":{\"color\":\"#2a3f5f\"},\"marker\":{\"line\":{\"color\":\"#E5ECF6\",\"width\":0.5},\"pattern\":{\"fillmode\":\"overlay\",\"size\":10,\"solidity\":0.2}},\"type\":\"bar\"}],\"scattergeo\":[{\"type\":\"scattergeo\",\"marker\":{\"colorbar\":{\"outlinewidth\":0,\"ticks\":\"\"}}}],\"scatterpolar\":[{\"type\":\"scatterpolar\",\"marker\":{\"colorbar\":{\"outlinewidth\":0,\"ticks\":\"\"}}}],\"histogram\":[{\"marker\":{\"pattern\":{\"fillmode\":\"overlay\",\"size\":10,\"solidity\":0.2}},\"type\":\"histogram\"}],\"scattergl\":[{\"type\":\"scattergl\",\"marker\":{\"colorbar\":{\"outlinewidth\":0,\"ticks\":\"\"}}}],\"scatter3d\":[{\"type\":\"scatter3d\",\"line\":{\"colorbar\":{\"outlinewidth\":0,\"ticks\":\"\"}},\"marker\":{\"colorbar\":{\"outlinewidth\":0,\"ticks\":\"\"}}}],\"scattermapbox\":[{\"type\":\"scattermapbox\",\"marker\":{\"colorbar\":{\"outlinewidth\":0,\"ticks\":\"\"}}}],\"scatterternary\":[{\"type\":\"scatterternary\",\"marker\":{\"colorbar\":{\"outlinewidth\":0,\"ticks\":\"\"}}}],\"scattercarpet\":[{\"type\":\"scattercarpet\",\"marker\":{\"colorbar\":{\"outlinewidth\":0,\"ticks\":\"\"}}}],\"carpet\":[{\"aaxis\":{\"endlinecolor\":\"#2a3f5f\",\"gridcolor\":\"white\",\"linecolor\":\"white\",\"minorgridcolor\":\"white\",\"startlinecolor\":\"#2a3f5f\"},\"baxis\":{\"endlinecolor\":\"#2a3f5f\",\"gridcolor\":\"white\",\"linecolor\":\"white\",\"minorgridcolor\":\"white\",\"startlinecolor\":\"#2a3f5f\"},\"type\":\"carpet\"}],\"table\":[{\"cells\":{\"fill\":{\"color\":\"#EBF0F8\"},\"line\":{\"color\":\"white\"}},\"header\":{\"fill\":{\"color\":\"#C8D4E3\"},\"line\":{\"color\":\"white\"}},\"type\":\"table\"}],\"barpolar\":[{\"marker\":{\"line\":{\"color\":\"#E5ECF6\",\"width\":0.5},\"pattern\":{\"fillmode\":\"overlay\",\"size\":10,\"solidity\":0.2}},\"type\":\"barpolar\"}],\"pie\":[{\"automargin\":true,\"type\":\"pie\"}]},\"layout\":{\"autotypenumbers\":\"strict\",\"colorway\":[\"#636efa\",\"#EF553B\",\"#00cc96\",\"#ab63fa\",\"#FFA15A\",\"#19d3f3\",\"#FF6692\",\"#B6E880\",\"#FF97FF\",\"#FECB52\"],\"font\":{\"color\":\"#2a3f5f\"},\"hovermode\":\"closest\",\"hoverlabel\":{\"align\":\"left\"},\"paper_bgcolor\":\"white\",\"plot_bgcolor\":\"#E5ECF6\",\"polar\":{\"bgcolor\":\"#E5ECF6\",\"angularaxis\":{\"gridcolor\":\"white\",\"linecolor\":\"white\",\"ticks\":\"\"},\"radialaxis\":{\"gridcolor\":\"white\",\"linecolor\":\"white\",\"ticks\":\"\"}},\"ternary\":{\"bgcolor\":\"#E5ECF6\",\"aaxis\":{\"gridcolor\":\"white\",\"linecolor\":\"white\",\"ticks\":\"\"},\"baxis\":{\"gridcolor\":\"white\",\"linecolor\":\"white\",\"ticks\":\"\"},\"caxis\":{\"gridcolor\":\"white\",\"linecolor\":\"white\",\"ticks\":\"\"}},\"coloraxis\":{\"colorbar\":{\"outlinewidth\":0,\"ticks\":\"\"}},\"colorscale\":{\"sequential\":[[0.0,\"#0d0887\"],[0.1111111111111111,\"#46039f\"],[0.2222222222222222,\"#7201a8\"],[0.3333333333333333,\"#9c179e\"],[0.4444444444444444,\"#bd3786\"],[0.5555555555555556,\"#d8576b\"],[0.6666666666666666,\"#ed7953\"],[0.7777777777777778,\"#fb9f3a\"],[0.8888888888888888,\"#fdca26\"],[1.0,\"#f0f921\"]],\"sequentialminus\":[[0.0,\"#0d0887\"],[0.1111111111111111,\"#46039f\"],[0.2222222222222222,\"#7201a8\"],[0.3333333333333333,\"#9c179e\"],[0.4444444444444444,\"#bd3786\"],[0.5555555555555556,\"#d8576b\"],[0.6666666666666666,\"#ed7953\"],[0.7777777777777778,\"#fb9f3a\"],[0.8888888888888888,\"#fdca26\"],[1.0,\"#f0f921\"]],\"diverging\":[[0,\"#8e0152\"],[0.1,\"#c51b7d\"],[0.2,\"#de77ae\"],[0.3,\"#f1b6da\"],[0.4,\"#fde0ef\"],[0.5,\"#f7f7f7\"],[0.6,\"#e6f5d0\"],[0.7,\"#b8e186\"],[0.8,\"#7fbc41\"],[0.9,\"#4d9221\"],[1,\"#276419\"]]},\"xaxis\":{\"gridcolor\":\"white\",\"linecolor\":\"white\",\"ticks\":\"\",\"title\":{\"standoff\":15},\"zerolinecolor\":\"white\",\"automargin\":true,\"zerolinewidth\":2},\"yaxis\":{\"gridcolor\":\"white\",\"linecolor\":\"white\",\"ticks\":\"\",\"title\":{\"standoff\":15},\"zerolinecolor\":\"white\",\"automargin\":true,\"zerolinewidth\":2},\"scene\":{\"xaxis\":{\"backgroundcolor\":\"#E5ECF6\",\"gridcolor\":\"white\",\"linecolor\":\"white\",\"showbackground\":true,\"ticks\":\"\",\"zerolinecolor\":\"white\",\"gridwidth\":2},\"yaxis\":{\"backgroundcolor\":\"#E5ECF6\",\"gridcolor\":\"white\",\"linecolor\":\"white\",\"showbackground\":true,\"ticks\":\"\",\"zerolinecolor\":\"white\",\"gridwidth\":2},\"zaxis\":{\"backgroundcolor\":\"#E5ECF6\",\"gridcolor\":\"white\",\"linecolor\":\"white\",\"showbackground\":true,\"ticks\":\"\",\"zerolinecolor\":\"white\",\"gridwidth\":2}},\"shapedefaults\":{\"line\":{\"color\":\"#2a3f5f\"}},\"annotationdefaults\":{\"arrowcolor\":\"#2a3f5f\",\"arrowhead\":0,\"arrowwidth\":1},\"geo\":{\"bgcolor\":\"white\",\"landcolor\":\"#E5ECF6\",\"subunitcolor\":\"white\",\"showland\":true,\"showlakes\":true,\"lakecolor\":\"white\"},\"title\":{\"x\":0.05},\"mapbox\":{\"style\":\"light\"}}},\"xaxis\":{\"anchor\":\"y\",\"domain\":[0.0,1.0],\"tickformat\":\".2s\",\"hoverformat\":\".3s\",\"ticksuffix\":\"s\",\"showgrid\":true,\"title\":{\"text\":\"Time\"},\"tickformatstops\":[{\"dtickrange\":[null,1e-9],\"value\":\".10s\"},{\"dtickrange\":[1e-9,1e-6],\"value\":\".7s\"},{\"dtickrange\":[1e-6,0.001],\"value\":\".4s\"}]},\"yaxis\":{\"anchor\":\"x\",\"domain\":[0.0,1.0],\"tickformat\":\".2s\",\"hoverformat\":\".3s\",\"ticksuffix\":\"V\",\"title\":{\"text\":\"flux\"},\"autorange\":true},\"height\":300,\"width\":1000,\"title\":{\"text\":\"Qubit Reset - Step 2 - ge\\u002fgf cr\"},\"showlegend\":false},                        {\"responsive\": true}                    ).then(function(){\n",
       "                            \n",
       "var gd = document.getElementById('46466147-ac98-435b-9463-79c770ba87d9');\n",
       "var x = new MutationObserver(function (mutations, observer) {{\n",
       "        var display = window.getComputedStyle(gd).display;\n",
       "        if (!display || display === 'none') {{\n",
       "            console.log([gd, 'removed!']);\n",
       "            Plotly.purge(gd);\n",
       "            observer.disconnect();\n",
       "        }}\n",
       "}});\n",
       "\n",
       "// Listen for the removal of the full notebook cells\n",
       "var notebookContainer = gd.closest('#notebook-container');\n",
       "if (notebookContainer) {{\n",
       "    x.observe(notebookContainer, {childList: true});\n",
       "}}\n",
       "\n",
       "// Listen for the clearing of the current output cell\n",
       "var outputEl = gd.closest('.output');\n",
       "if (outputEl) {{\n",
       "    x.observe(outputEl, {childList: true});\n",
       "}}\n",
       "\n",
       "                        })                };                });            </script>        </div>"
      ]
     },
     "metadata": {},
     "output_type": "display_data"
    }
   ],
   "source": [
    "# step 2\n",
    "\n",
    "sched = Schedule(\"Qubit Reset - Step 2 - ge/gf cr\")\n",
    "\n",
    "readout_clock = ClockResource(name=\"q0.ro\", freq=0e9)\n",
    "sched.add_resource(readout_clock)\n",
    "\n",
    "# qc_offset = -10\n",
    "# qc_duration = 0.06e-6\n",
    "# cr_duration = 0.25e-6\n",
    "# amp = duration / target_duration* offset\n",
    "start = sched.add(IdlePulse(duration=4e-6))\n",
    "\n",
    "qc_t = 20e-9\n",
    "qc_amp = -0.025\n",
    "\n",
    "sched.add(\n",
    "    RampPulse(offset=qc_amp, amp=-qc_amp, duration=qc_t, port=\"flux\", clock=\"q0.ro\")\n",
    ")\n",
    "\n",
    "# for e state\n",
    "qc_t = 200e-9\n",
    "qc_amp = 0.05\n",
    "\n",
    "sched.add(\n",
    "    RampPulse(offset=qc_amp, amp=0, duration=qc_t, port=\"flux\", clock=\"q0.ro\")\n",
    ")\n",
    "# for f state\n",
    "qc_t = 250e-9\n",
    "qc_amp = 0.06\n",
    "\n",
    "sched.add(\n",
    "    RampPulse(offset=qc_amp, amp=0, duration=qc_t, port=\"flux\", clock=\"q0.ro\")\n",
    ")\n",
    "\n",
    "qc_t = 20e-9\n",
    "qc_amp = -0.025\n",
    "\n",
    "sched.add(\n",
    "    RampPulse(offset=qc_amp, amp=-qc_amp, duration=qc_t, port=\"flux\", clock=\"q0.ro\")\n",
    ")\n",
    "\n",
    "comp_sched = device_compiler.compile(sched)\n",
    "comp_sched.plot_pulse_diagram(plot_backend=\"plotly\")\n"
   ]
  },
  {
   "cell_type": "code",
   "execution_count": 255,
   "id": "42db60c2",
   "metadata": {},
   "outputs": [
    {
     "data": {
      "application/vnd.plotly.v1+json": {
       "config": {
        "plotlyServerURL": "https://plot.ly"
       },
       "data": [
        {
         "fill": "tozeroy",
         "hoverinfo": "x+y+name",
         "hoverlabel": {
          "namelength": -1
         },
         "legendgroup": "1",
         "line": {
          "color": "#EF553B"
         },
         "mode": "lines",
         "name": "RampPulse, clock: q0.ro",
         "showlegend": true,
         "type": "scatter",
         "x": [
          0.000004,
          0.0000040009999999999995,
          0.000004001999999999999,
          0.000004002999999999999,
          0.0000040039999999999984,
          0.000004004999999999998,
          0.000004005999999999998,
          0.000004006999999999997,
          0.000004007999999999997,
          0.000004008999999999997,
          0.000004009999999999996,
          0.000004010999999999996,
          0.000004011999999999996,
          0.000004012999999999995,
          0.000004013999999999995,
          0.000004014999999999995,
          0.000004015999999999994,
          0.000004016999999999994,
          0.0000040179999999999935,
          0.000004018999999999993
         ],
         "xaxis": "x",
         "y": [
          -0.025,
          -0.025,
          -0.025,
          -0.025,
          -0.025,
          -0.025,
          -0.025,
          -0.025,
          -0.025,
          -0.025,
          -0.025,
          -0.025,
          -0.025,
          -0.025,
          -0.025,
          -0.025,
          -0.025,
          -0.025,
          -0.025,
          -0.025
         ],
         "yaxis": "y"
        }
       ],
       "layout": {
        "height": 300,
        "showlegend": false,
        "template": {
         "data": {
          "bar": [
           {
            "error_x": {
             "color": "#2a3f5f"
            },
            "error_y": {
             "color": "#2a3f5f"
            },
            "marker": {
             "line": {
              "color": "#E5ECF6",
              "width": 0.5
             },
             "pattern": {
              "fillmode": "overlay",
              "size": 10,
              "solidity": 0.2
             }
            },
            "type": "bar"
           }
          ],
          "barpolar": [
           {
            "marker": {
             "line": {
              "color": "#E5ECF6",
              "width": 0.5
             },
             "pattern": {
              "fillmode": "overlay",
              "size": 10,
              "solidity": 0.2
             }
            },
            "type": "barpolar"
           }
          ],
          "carpet": [
           {
            "aaxis": {
             "endlinecolor": "#2a3f5f",
             "gridcolor": "white",
             "linecolor": "white",
             "minorgridcolor": "white",
             "startlinecolor": "#2a3f5f"
            },
            "baxis": {
             "endlinecolor": "#2a3f5f",
             "gridcolor": "white",
             "linecolor": "white",
             "minorgridcolor": "white",
             "startlinecolor": "#2a3f5f"
            },
            "type": "carpet"
           }
          ],
          "choropleth": [
           {
            "colorbar": {
             "outlinewidth": 0,
             "ticks": ""
            },
            "type": "choropleth"
           }
          ],
          "contour": [
           {
            "colorbar": {
             "outlinewidth": 0,
             "ticks": ""
            },
            "colorscale": [
             [
              0,
              "#0d0887"
             ],
             [
              0.1111111111111111,
              "#46039f"
             ],
             [
              0.2222222222222222,
              "#7201a8"
             ],
             [
              0.3333333333333333,
              "#9c179e"
             ],
             [
              0.4444444444444444,
              "#bd3786"
             ],
             [
              0.5555555555555556,
              "#d8576b"
             ],
             [
              0.6666666666666666,
              "#ed7953"
             ],
             [
              0.7777777777777778,
              "#fb9f3a"
             ],
             [
              0.8888888888888888,
              "#fdca26"
             ],
             [
              1,
              "#f0f921"
             ]
            ],
            "type": "contour"
           }
          ],
          "contourcarpet": [
           {
            "colorbar": {
             "outlinewidth": 0,
             "ticks": ""
            },
            "type": "contourcarpet"
           }
          ],
          "heatmap": [
           {
            "colorbar": {
             "outlinewidth": 0,
             "ticks": ""
            },
            "colorscale": [
             [
              0,
              "#0d0887"
             ],
             [
              0.1111111111111111,
              "#46039f"
             ],
             [
              0.2222222222222222,
              "#7201a8"
             ],
             [
              0.3333333333333333,
              "#9c179e"
             ],
             [
              0.4444444444444444,
              "#bd3786"
             ],
             [
              0.5555555555555556,
              "#d8576b"
             ],
             [
              0.6666666666666666,
              "#ed7953"
             ],
             [
              0.7777777777777778,
              "#fb9f3a"
             ],
             [
              0.8888888888888888,
              "#fdca26"
             ],
             [
              1,
              "#f0f921"
             ]
            ],
            "type": "heatmap"
           }
          ],
          "heatmapgl": [
           {
            "colorbar": {
             "outlinewidth": 0,
             "ticks": ""
            },
            "colorscale": [
             [
              0,
              "#0d0887"
             ],
             [
              0.1111111111111111,
              "#46039f"
             ],
             [
              0.2222222222222222,
              "#7201a8"
             ],
             [
              0.3333333333333333,
              "#9c179e"
             ],
             [
              0.4444444444444444,
              "#bd3786"
             ],
             [
              0.5555555555555556,
              "#d8576b"
             ],
             [
              0.6666666666666666,
              "#ed7953"
             ],
             [
              0.7777777777777778,
              "#fb9f3a"
             ],
             [
              0.8888888888888888,
              "#fdca26"
             ],
             [
              1,
              "#f0f921"
             ]
            ],
            "type": "heatmapgl"
           }
          ],
          "histogram": [
           {
            "marker": {
             "pattern": {
              "fillmode": "overlay",
              "size": 10,
              "solidity": 0.2
             }
            },
            "type": "histogram"
           }
          ],
          "histogram2d": [
           {
            "colorbar": {
             "outlinewidth": 0,
             "ticks": ""
            },
            "colorscale": [
             [
              0,
              "#0d0887"
             ],
             [
              0.1111111111111111,
              "#46039f"
             ],
             [
              0.2222222222222222,
              "#7201a8"
             ],
             [
              0.3333333333333333,
              "#9c179e"
             ],
             [
              0.4444444444444444,
              "#bd3786"
             ],
             [
              0.5555555555555556,
              "#d8576b"
             ],
             [
              0.6666666666666666,
              "#ed7953"
             ],
             [
              0.7777777777777778,
              "#fb9f3a"
             ],
             [
              0.8888888888888888,
              "#fdca26"
             ],
             [
              1,
              "#f0f921"
             ]
            ],
            "type": "histogram2d"
           }
          ],
          "histogram2dcontour": [
           {
            "colorbar": {
             "outlinewidth": 0,
             "ticks": ""
            },
            "colorscale": [
             [
              0,
              "#0d0887"
             ],
             [
              0.1111111111111111,
              "#46039f"
             ],
             [
              0.2222222222222222,
              "#7201a8"
             ],
             [
              0.3333333333333333,
              "#9c179e"
             ],
             [
              0.4444444444444444,
              "#bd3786"
             ],
             [
              0.5555555555555556,
              "#d8576b"
             ],
             [
              0.6666666666666666,
              "#ed7953"
             ],
             [
              0.7777777777777778,
              "#fb9f3a"
             ],
             [
              0.8888888888888888,
              "#fdca26"
             ],
             [
              1,
              "#f0f921"
             ]
            ],
            "type": "histogram2dcontour"
           }
          ],
          "mesh3d": [
           {
            "colorbar": {
             "outlinewidth": 0,
             "ticks": ""
            },
            "type": "mesh3d"
           }
          ],
          "parcoords": [
           {
            "line": {
             "colorbar": {
              "outlinewidth": 0,
              "ticks": ""
             }
            },
            "type": "parcoords"
           }
          ],
          "pie": [
           {
            "automargin": true,
            "type": "pie"
           }
          ],
          "scatter": [
           {
            "fillpattern": {
             "fillmode": "overlay",
             "size": 10,
             "solidity": 0.2
            },
            "type": "scatter"
           }
          ],
          "scatter3d": [
           {
            "line": {
             "colorbar": {
              "outlinewidth": 0,
              "ticks": ""
             }
            },
            "marker": {
             "colorbar": {
              "outlinewidth": 0,
              "ticks": ""
             }
            },
            "type": "scatter3d"
           }
          ],
          "scattercarpet": [
           {
            "marker": {
             "colorbar": {
              "outlinewidth": 0,
              "ticks": ""
             }
            },
            "type": "scattercarpet"
           }
          ],
          "scattergeo": [
           {
            "marker": {
             "colorbar": {
              "outlinewidth": 0,
              "ticks": ""
             }
            },
            "type": "scattergeo"
           }
          ],
          "scattergl": [
           {
            "marker": {
             "colorbar": {
              "outlinewidth": 0,
              "ticks": ""
             }
            },
            "type": "scattergl"
           }
          ],
          "scattermapbox": [
           {
            "marker": {
             "colorbar": {
              "outlinewidth": 0,
              "ticks": ""
             }
            },
            "type": "scattermapbox"
           }
          ],
          "scatterpolar": [
           {
            "marker": {
             "colorbar": {
              "outlinewidth": 0,
              "ticks": ""
             }
            },
            "type": "scatterpolar"
           }
          ],
          "scatterpolargl": [
           {
            "marker": {
             "colorbar": {
              "outlinewidth": 0,
              "ticks": ""
             }
            },
            "type": "scatterpolargl"
           }
          ],
          "scatterternary": [
           {
            "marker": {
             "colorbar": {
              "outlinewidth": 0,
              "ticks": ""
             }
            },
            "type": "scatterternary"
           }
          ],
          "surface": [
           {
            "colorbar": {
             "outlinewidth": 0,
             "ticks": ""
            },
            "colorscale": [
             [
              0,
              "#0d0887"
             ],
             [
              0.1111111111111111,
              "#46039f"
             ],
             [
              0.2222222222222222,
              "#7201a8"
             ],
             [
              0.3333333333333333,
              "#9c179e"
             ],
             [
              0.4444444444444444,
              "#bd3786"
             ],
             [
              0.5555555555555556,
              "#d8576b"
             ],
             [
              0.6666666666666666,
              "#ed7953"
             ],
             [
              0.7777777777777778,
              "#fb9f3a"
             ],
             [
              0.8888888888888888,
              "#fdca26"
             ],
             [
              1,
              "#f0f921"
             ]
            ],
            "type": "surface"
           }
          ],
          "table": [
           {
            "cells": {
             "fill": {
              "color": "#EBF0F8"
             },
             "line": {
              "color": "white"
             }
            },
            "header": {
             "fill": {
              "color": "#C8D4E3"
             },
             "line": {
              "color": "white"
             }
            },
            "type": "table"
           }
          ]
         },
         "layout": {
          "annotationdefaults": {
           "arrowcolor": "#2a3f5f",
           "arrowhead": 0,
           "arrowwidth": 1
          },
          "autotypenumbers": "strict",
          "coloraxis": {
           "colorbar": {
            "outlinewidth": 0,
            "ticks": ""
           }
          },
          "colorscale": {
           "diverging": [
            [
             0,
             "#8e0152"
            ],
            [
             0.1,
             "#c51b7d"
            ],
            [
             0.2,
             "#de77ae"
            ],
            [
             0.3,
             "#f1b6da"
            ],
            [
             0.4,
             "#fde0ef"
            ],
            [
             0.5,
             "#f7f7f7"
            ],
            [
             0.6,
             "#e6f5d0"
            ],
            [
             0.7,
             "#b8e186"
            ],
            [
             0.8,
             "#7fbc41"
            ],
            [
             0.9,
             "#4d9221"
            ],
            [
             1,
             "#276419"
            ]
           ],
           "sequential": [
            [
             0,
             "#0d0887"
            ],
            [
             0.1111111111111111,
             "#46039f"
            ],
            [
             0.2222222222222222,
             "#7201a8"
            ],
            [
             0.3333333333333333,
             "#9c179e"
            ],
            [
             0.4444444444444444,
             "#bd3786"
            ],
            [
             0.5555555555555556,
             "#d8576b"
            ],
            [
             0.6666666666666666,
             "#ed7953"
            ],
            [
             0.7777777777777778,
             "#fb9f3a"
            ],
            [
             0.8888888888888888,
             "#fdca26"
            ],
            [
             1,
             "#f0f921"
            ]
           ],
           "sequentialminus": [
            [
             0,
             "#0d0887"
            ],
            [
             0.1111111111111111,
             "#46039f"
            ],
            [
             0.2222222222222222,
             "#7201a8"
            ],
            [
             0.3333333333333333,
             "#9c179e"
            ],
            [
             0.4444444444444444,
             "#bd3786"
            ],
            [
             0.5555555555555556,
             "#d8576b"
            ],
            [
             0.6666666666666666,
             "#ed7953"
            ],
            [
             0.7777777777777778,
             "#fb9f3a"
            ],
            [
             0.8888888888888888,
             "#fdca26"
            ],
            [
             1,
             "#f0f921"
            ]
           ]
          },
          "colorway": [
           "#636efa",
           "#EF553B",
           "#00cc96",
           "#ab63fa",
           "#FFA15A",
           "#19d3f3",
           "#FF6692",
           "#B6E880",
           "#FF97FF",
           "#FECB52"
          ],
          "font": {
           "color": "#2a3f5f"
          },
          "geo": {
           "bgcolor": "white",
           "lakecolor": "white",
           "landcolor": "#E5ECF6",
           "showlakes": true,
           "showland": true,
           "subunitcolor": "white"
          },
          "hoverlabel": {
           "align": "left"
          },
          "hovermode": "closest",
          "mapbox": {
           "style": "light"
          },
          "paper_bgcolor": "white",
          "plot_bgcolor": "#E5ECF6",
          "polar": {
           "angularaxis": {
            "gridcolor": "white",
            "linecolor": "white",
            "ticks": ""
           },
           "bgcolor": "#E5ECF6",
           "radialaxis": {
            "gridcolor": "white",
            "linecolor": "white",
            "ticks": ""
           }
          },
          "scene": {
           "xaxis": {
            "backgroundcolor": "#E5ECF6",
            "gridcolor": "white",
            "gridwidth": 2,
            "linecolor": "white",
            "showbackground": true,
            "ticks": "",
            "zerolinecolor": "white"
           },
           "yaxis": {
            "backgroundcolor": "#E5ECF6",
            "gridcolor": "white",
            "gridwidth": 2,
            "linecolor": "white",
            "showbackground": true,
            "ticks": "",
            "zerolinecolor": "white"
           },
           "zaxis": {
            "backgroundcolor": "#E5ECF6",
            "gridcolor": "white",
            "gridwidth": 2,
            "linecolor": "white",
            "showbackground": true,
            "ticks": "",
            "zerolinecolor": "white"
           }
          },
          "shapedefaults": {
           "line": {
            "color": "#2a3f5f"
           }
          },
          "ternary": {
           "aaxis": {
            "gridcolor": "white",
            "linecolor": "white",
            "ticks": ""
           },
           "baxis": {
            "gridcolor": "white",
            "linecolor": "white",
            "ticks": ""
           },
           "bgcolor": "#E5ECF6",
           "caxis": {
            "gridcolor": "white",
            "linecolor": "white",
            "ticks": ""
           }
          },
          "title": {
           "x": 0.05
          },
          "xaxis": {
           "automargin": true,
           "gridcolor": "white",
           "linecolor": "white",
           "ticks": "",
           "title": {
            "standoff": 15
           },
           "zerolinecolor": "white",
           "zerolinewidth": 2
          },
          "yaxis": {
           "automargin": true,
           "gridcolor": "white",
           "linecolor": "white",
           "ticks": "",
           "title": {
            "standoff": 15
           },
           "zerolinecolor": "white",
           "zerolinewidth": 2
          }
         }
        },
        "title": {
         "text": "Qubit Reset - Step 3 - fg qc"
        },
        "width": 1000,
        "xaxis": {
         "anchor": "y",
         "domain": [
          0,
          1
         ],
         "hoverformat": ".3s",
         "showgrid": true,
         "tickformat": ".2s",
         "tickformatstops": [
          {
           "dtickrange": [
            null,
            1e-9
           ],
           "value": ".10s"
          },
          {
           "dtickrange": [
            1e-9,
            0.000001
           ],
           "value": ".7s"
          },
          {
           "dtickrange": [
            0.000001,
            0.001
           ],
           "value": ".4s"
          }
         ],
         "ticksuffix": "s",
         "title": {
          "text": "Time"
         }
        },
        "yaxis": {
         "anchor": "x",
         "autorange": true,
         "domain": [
          0,
          1
         ],
         "hoverformat": ".3s",
         "tickformat": ".2s",
         "ticksuffix": "V",
         "title": {
          "text": "flux"
         }
        }
       }
      },
      "text/html": [
       "<div>                            <div id=\"32ebafb8-0d17-479e-9a7a-2d39d0c81ef5\" class=\"plotly-graph-div\" style=\"height:300px; width:1000px;\"></div>            <script type=\"text/javascript\">                require([\"plotly\"], function(Plotly) {                    window.PLOTLYENV=window.PLOTLYENV || {};                                    if (document.getElementById(\"32ebafb8-0d17-479e-9a7a-2d39d0c81ef5\")) {                    Plotly.newPlot(                        \"32ebafb8-0d17-479e-9a7a-2d39d0c81ef5\",                        [{\"fill\":\"tozeroy\",\"hoverinfo\":\"x+y+name\",\"hoverlabel\":{\"namelength\":-1},\"legendgroup\":\"1\",\"line\":{\"color\":\"#EF553B\"},\"mode\":\"lines\",\"name\":\"RampPulse, clock: q0.ro\",\"showlegend\":true,\"x\":[4e-6,4.0009999999999995e-6,4.001999999999999e-6,4.002999999999999e-6,4.0039999999999984e-6,4.004999999999998e-6,4.005999999999998e-6,4.006999999999997e-6,4.007999999999997e-6,4.008999999999997e-6,4.009999999999996e-6,4.010999999999996e-6,4.011999999999996e-6,4.012999999999995e-6,4.013999999999995e-6,4.014999999999995e-6,4.015999999999994e-6,4.016999999999994e-6,4.0179999999999935e-6,4.018999999999993e-6],\"y\":[-0.025,-0.025,-0.025,-0.025,-0.025,-0.025,-0.025,-0.025,-0.025,-0.025,-0.025,-0.025,-0.025,-0.025,-0.025,-0.025,-0.025,-0.025,-0.025,-0.025],\"type\":\"scatter\",\"xaxis\":\"x\",\"yaxis\":\"y\"}],                        {\"template\":{\"data\":{\"histogram2dcontour\":[{\"type\":\"histogram2dcontour\",\"colorbar\":{\"outlinewidth\":0,\"ticks\":\"\"},\"colorscale\":[[0.0,\"#0d0887\"],[0.1111111111111111,\"#46039f\"],[0.2222222222222222,\"#7201a8\"],[0.3333333333333333,\"#9c179e\"],[0.4444444444444444,\"#bd3786\"],[0.5555555555555556,\"#d8576b\"],[0.6666666666666666,\"#ed7953\"],[0.7777777777777778,\"#fb9f3a\"],[0.8888888888888888,\"#fdca26\"],[1.0,\"#f0f921\"]]}],\"choropleth\":[{\"type\":\"choropleth\",\"colorbar\":{\"outlinewidth\":0,\"ticks\":\"\"}}],\"histogram2d\":[{\"type\":\"histogram2d\",\"colorbar\":{\"outlinewidth\":0,\"ticks\":\"\"},\"colorscale\":[[0.0,\"#0d0887\"],[0.1111111111111111,\"#46039f\"],[0.2222222222222222,\"#7201a8\"],[0.3333333333333333,\"#9c179e\"],[0.4444444444444444,\"#bd3786\"],[0.5555555555555556,\"#d8576b\"],[0.6666666666666666,\"#ed7953\"],[0.7777777777777778,\"#fb9f3a\"],[0.8888888888888888,\"#fdca26\"],[1.0,\"#f0f921\"]]}],\"heatmap\":[{\"type\":\"heatmap\",\"colorbar\":{\"outlinewidth\":0,\"ticks\":\"\"},\"colorscale\":[[0.0,\"#0d0887\"],[0.1111111111111111,\"#46039f\"],[0.2222222222222222,\"#7201a8\"],[0.3333333333333333,\"#9c179e\"],[0.4444444444444444,\"#bd3786\"],[0.5555555555555556,\"#d8576b\"],[0.6666666666666666,\"#ed7953\"],[0.7777777777777778,\"#fb9f3a\"],[0.8888888888888888,\"#fdca26\"],[1.0,\"#f0f921\"]]}],\"heatmapgl\":[{\"type\":\"heatmapgl\",\"colorbar\":{\"outlinewidth\":0,\"ticks\":\"\"},\"colorscale\":[[0.0,\"#0d0887\"],[0.1111111111111111,\"#46039f\"],[0.2222222222222222,\"#7201a8\"],[0.3333333333333333,\"#9c179e\"],[0.4444444444444444,\"#bd3786\"],[0.5555555555555556,\"#d8576b\"],[0.6666666666666666,\"#ed7953\"],[0.7777777777777778,\"#fb9f3a\"],[0.8888888888888888,\"#fdca26\"],[1.0,\"#f0f921\"]]}],\"contourcarpet\":[{\"type\":\"contourcarpet\",\"colorbar\":{\"outlinewidth\":0,\"ticks\":\"\"}}],\"contour\":[{\"type\":\"contour\",\"colorbar\":{\"outlinewidth\":0,\"ticks\":\"\"},\"colorscale\":[[0.0,\"#0d0887\"],[0.1111111111111111,\"#46039f\"],[0.2222222222222222,\"#7201a8\"],[0.3333333333333333,\"#9c179e\"],[0.4444444444444444,\"#bd3786\"],[0.5555555555555556,\"#d8576b\"],[0.6666666666666666,\"#ed7953\"],[0.7777777777777778,\"#fb9f3a\"],[0.8888888888888888,\"#fdca26\"],[1.0,\"#f0f921\"]]}],\"surface\":[{\"type\":\"surface\",\"colorbar\":{\"outlinewidth\":0,\"ticks\":\"\"},\"colorscale\":[[0.0,\"#0d0887\"],[0.1111111111111111,\"#46039f\"],[0.2222222222222222,\"#7201a8\"],[0.3333333333333333,\"#9c179e\"],[0.4444444444444444,\"#bd3786\"],[0.5555555555555556,\"#d8576b\"],[0.6666666666666666,\"#ed7953\"],[0.7777777777777778,\"#fb9f3a\"],[0.8888888888888888,\"#fdca26\"],[1.0,\"#f0f921\"]]}],\"mesh3d\":[{\"type\":\"mesh3d\",\"colorbar\":{\"outlinewidth\":0,\"ticks\":\"\"}}],\"scatter\":[{\"fillpattern\":{\"fillmode\":\"overlay\",\"size\":10,\"solidity\":0.2},\"type\":\"scatter\"}],\"parcoords\":[{\"type\":\"parcoords\",\"line\":{\"colorbar\":{\"outlinewidth\":0,\"ticks\":\"\"}}}],\"scatterpolargl\":[{\"type\":\"scatterpolargl\",\"marker\":{\"colorbar\":{\"outlinewidth\":0,\"ticks\":\"\"}}}],\"bar\":[{\"error_x\":{\"color\":\"#2a3f5f\"},\"error_y\":{\"color\":\"#2a3f5f\"},\"marker\":{\"line\":{\"color\":\"#E5ECF6\",\"width\":0.5},\"pattern\":{\"fillmode\":\"overlay\",\"size\":10,\"solidity\":0.2}},\"type\":\"bar\"}],\"scattergeo\":[{\"type\":\"scattergeo\",\"marker\":{\"colorbar\":{\"outlinewidth\":0,\"ticks\":\"\"}}}],\"scatterpolar\":[{\"type\":\"scatterpolar\",\"marker\":{\"colorbar\":{\"outlinewidth\":0,\"ticks\":\"\"}}}],\"histogram\":[{\"marker\":{\"pattern\":{\"fillmode\":\"overlay\",\"size\":10,\"solidity\":0.2}},\"type\":\"histogram\"}],\"scattergl\":[{\"type\":\"scattergl\",\"marker\":{\"colorbar\":{\"outlinewidth\":0,\"ticks\":\"\"}}}],\"scatter3d\":[{\"type\":\"scatter3d\",\"line\":{\"colorbar\":{\"outlinewidth\":0,\"ticks\":\"\"}},\"marker\":{\"colorbar\":{\"outlinewidth\":0,\"ticks\":\"\"}}}],\"scattermapbox\":[{\"type\":\"scattermapbox\",\"marker\":{\"colorbar\":{\"outlinewidth\":0,\"ticks\":\"\"}}}],\"scatterternary\":[{\"type\":\"scatterternary\",\"marker\":{\"colorbar\":{\"outlinewidth\":0,\"ticks\":\"\"}}}],\"scattercarpet\":[{\"type\":\"scattercarpet\",\"marker\":{\"colorbar\":{\"outlinewidth\":0,\"ticks\":\"\"}}}],\"carpet\":[{\"aaxis\":{\"endlinecolor\":\"#2a3f5f\",\"gridcolor\":\"white\",\"linecolor\":\"white\",\"minorgridcolor\":\"white\",\"startlinecolor\":\"#2a3f5f\"},\"baxis\":{\"endlinecolor\":\"#2a3f5f\",\"gridcolor\":\"white\",\"linecolor\":\"white\",\"minorgridcolor\":\"white\",\"startlinecolor\":\"#2a3f5f\"},\"type\":\"carpet\"}],\"table\":[{\"cells\":{\"fill\":{\"color\":\"#EBF0F8\"},\"line\":{\"color\":\"white\"}},\"header\":{\"fill\":{\"color\":\"#C8D4E3\"},\"line\":{\"color\":\"white\"}},\"type\":\"table\"}],\"barpolar\":[{\"marker\":{\"line\":{\"color\":\"#E5ECF6\",\"width\":0.5},\"pattern\":{\"fillmode\":\"overlay\",\"size\":10,\"solidity\":0.2}},\"type\":\"barpolar\"}],\"pie\":[{\"automargin\":true,\"type\":\"pie\"}]},\"layout\":{\"autotypenumbers\":\"strict\",\"colorway\":[\"#636efa\",\"#EF553B\",\"#00cc96\",\"#ab63fa\",\"#FFA15A\",\"#19d3f3\",\"#FF6692\",\"#B6E880\",\"#FF97FF\",\"#FECB52\"],\"font\":{\"color\":\"#2a3f5f\"},\"hovermode\":\"closest\",\"hoverlabel\":{\"align\":\"left\"},\"paper_bgcolor\":\"white\",\"plot_bgcolor\":\"#E5ECF6\",\"polar\":{\"bgcolor\":\"#E5ECF6\",\"angularaxis\":{\"gridcolor\":\"white\",\"linecolor\":\"white\",\"ticks\":\"\"},\"radialaxis\":{\"gridcolor\":\"white\",\"linecolor\":\"white\",\"ticks\":\"\"}},\"ternary\":{\"bgcolor\":\"#E5ECF6\",\"aaxis\":{\"gridcolor\":\"white\",\"linecolor\":\"white\",\"ticks\":\"\"},\"baxis\":{\"gridcolor\":\"white\",\"linecolor\":\"white\",\"ticks\":\"\"},\"caxis\":{\"gridcolor\":\"white\",\"linecolor\":\"white\",\"ticks\":\"\"}},\"coloraxis\":{\"colorbar\":{\"outlinewidth\":0,\"ticks\":\"\"}},\"colorscale\":{\"sequential\":[[0.0,\"#0d0887\"],[0.1111111111111111,\"#46039f\"],[0.2222222222222222,\"#7201a8\"],[0.3333333333333333,\"#9c179e\"],[0.4444444444444444,\"#bd3786\"],[0.5555555555555556,\"#d8576b\"],[0.6666666666666666,\"#ed7953\"],[0.7777777777777778,\"#fb9f3a\"],[0.8888888888888888,\"#fdca26\"],[1.0,\"#f0f921\"]],\"sequentialminus\":[[0.0,\"#0d0887\"],[0.1111111111111111,\"#46039f\"],[0.2222222222222222,\"#7201a8\"],[0.3333333333333333,\"#9c179e\"],[0.4444444444444444,\"#bd3786\"],[0.5555555555555556,\"#d8576b\"],[0.6666666666666666,\"#ed7953\"],[0.7777777777777778,\"#fb9f3a\"],[0.8888888888888888,\"#fdca26\"],[1.0,\"#f0f921\"]],\"diverging\":[[0,\"#8e0152\"],[0.1,\"#c51b7d\"],[0.2,\"#de77ae\"],[0.3,\"#f1b6da\"],[0.4,\"#fde0ef\"],[0.5,\"#f7f7f7\"],[0.6,\"#e6f5d0\"],[0.7,\"#b8e186\"],[0.8,\"#7fbc41\"],[0.9,\"#4d9221\"],[1,\"#276419\"]]},\"xaxis\":{\"gridcolor\":\"white\",\"linecolor\":\"white\",\"ticks\":\"\",\"title\":{\"standoff\":15},\"zerolinecolor\":\"white\",\"automargin\":true,\"zerolinewidth\":2},\"yaxis\":{\"gridcolor\":\"white\",\"linecolor\":\"white\",\"ticks\":\"\",\"title\":{\"standoff\":15},\"zerolinecolor\":\"white\",\"automargin\":true,\"zerolinewidth\":2},\"scene\":{\"xaxis\":{\"backgroundcolor\":\"#E5ECF6\",\"gridcolor\":\"white\",\"linecolor\":\"white\",\"showbackground\":true,\"ticks\":\"\",\"zerolinecolor\":\"white\",\"gridwidth\":2},\"yaxis\":{\"backgroundcolor\":\"#E5ECF6\",\"gridcolor\":\"white\",\"linecolor\":\"white\",\"showbackground\":true,\"ticks\":\"\",\"zerolinecolor\":\"white\",\"gridwidth\":2},\"zaxis\":{\"backgroundcolor\":\"#E5ECF6\",\"gridcolor\":\"white\",\"linecolor\":\"white\",\"showbackground\":true,\"ticks\":\"\",\"zerolinecolor\":\"white\",\"gridwidth\":2}},\"shapedefaults\":{\"line\":{\"color\":\"#2a3f5f\"}},\"annotationdefaults\":{\"arrowcolor\":\"#2a3f5f\",\"arrowhead\":0,\"arrowwidth\":1},\"geo\":{\"bgcolor\":\"white\",\"landcolor\":\"#E5ECF6\",\"subunitcolor\":\"white\",\"showland\":true,\"showlakes\":true,\"lakecolor\":\"white\"},\"title\":{\"x\":0.05},\"mapbox\":{\"style\":\"light\"}}},\"xaxis\":{\"anchor\":\"y\",\"domain\":[0.0,1.0],\"tickformat\":\".2s\",\"hoverformat\":\".3s\",\"ticksuffix\":\"s\",\"showgrid\":true,\"title\":{\"text\":\"Time\"},\"tickformatstops\":[{\"dtickrange\":[null,1e-9],\"value\":\".10s\"},{\"dtickrange\":[1e-9,1e-6],\"value\":\".7s\"},{\"dtickrange\":[1e-6,0.001],\"value\":\".4s\"}]},\"yaxis\":{\"anchor\":\"x\",\"domain\":[0.0,1.0],\"tickformat\":\".2s\",\"hoverformat\":\".3s\",\"ticksuffix\":\"V\",\"title\":{\"text\":\"flux\"},\"autorange\":true},\"height\":300,\"width\":1000,\"title\":{\"text\":\"Qubit Reset - Step 3 - fg qc\"},\"showlegend\":false},                        {\"responsive\": true}                    ).then(function(){\n",
       "                            \n",
       "var gd = document.getElementById('32ebafb8-0d17-479e-9a7a-2d39d0c81ef5');\n",
       "var x = new MutationObserver(function (mutations, observer) {{\n",
       "        var display = window.getComputedStyle(gd).display;\n",
       "        if (!display || display === 'none') {{\n",
       "            console.log([gd, 'removed!']);\n",
       "            Plotly.purge(gd);\n",
       "            observer.disconnect();\n",
       "        }}\n",
       "}});\n",
       "\n",
       "// Listen for the removal of the full notebook cells\n",
       "var notebookContainer = gd.closest('#notebook-container');\n",
       "if (notebookContainer) {{\n",
       "    x.observe(notebookContainer, {childList: true});\n",
       "}}\n",
       "\n",
       "// Listen for the clearing of the current output cell\n",
       "var outputEl = gd.closest('.output');\n",
       "if (outputEl) {{\n",
       "    x.observe(outputEl, {childList: true});\n",
       "}}\n",
       "\n",
       "                        })                };                });            </script>        </div>"
      ]
     },
     "metadata": {},
     "output_type": "display_data"
    }
   ],
   "source": [
    "# step 3\n",
    "\n",
    "sched = Schedule(\"Qubit Reset - Step 3 - fg qc\")\n",
    "\n",
    "readout_clock = ClockResource(name=\"q0.ro\", freq=0e9)\n",
    "sched.add_resource(readout_clock)\n",
    "\n",
    "# qc_offset = -10\n",
    "# qc_duration = 0.06e-6\n",
    "# cr_duration = 0.25e-6\n",
    "# amp = duration / target_duration* offset\n",
    "start = sched.add(IdlePulse(duration=4e-6))\n",
    "\n",
    "qc_t = 20e-9\n",
    "qc_amp = -0.025\n",
    "\n",
    "sched.add(\n",
    "    RampPulse(offset=qc_amp, amp=0, duration=qc_t, port=\"flux\", clock=\"q0.ro\")\n",
    ")\n",
    "\n",
    "\n",
    "comp_sched = device_compiler.compile(sched)\n",
    "comp_sched.plot_pulse_diagram(plot_backend=\"plotly\")"
   ]
  },
  {
   "cell_type": "code",
   "execution_count": 257,
   "id": "83c0c3c2",
   "metadata": {},
   "outputs": [
    {
     "data": {
      "application/vnd.plotly.v1+json": {
       "config": {
        "plotlyServerURL": "https://plot.ly"
       },
       "data": [
        {
         "fill": "tozeroy",
         "hoverinfo": "x+y+name",
         "hoverlabel": {
          "namelength": -1
         },
         "legendgroup": "1",
         "line": {
          "color": "#EF553B"
         },
         "mode": "lines",
         "name": "RampPulse, clock: q0.ro",
         "showlegend": true,
         "type": "scatter",
         "x": [
          0.000004,
          0.0000040009999999999995,
          0.000004001999999999999,
          0.000004002999999999999,
          0.0000040039999999999984,
          0.000004004999999999998,
          0.000004005999999999998,
          0.000004006999999999997,
          0.000004007999999999997,
          0.000004008999999999997,
          0.000004009999999999996,
          0.000004010999999999996,
          0.000004011999999999996,
          0.000004012999999999995,
          0.000004013999999999995,
          0.000004014999999999995,
          0.000004015999999999994,
          0.000004016999999999994,
          0.0000040179999999999935,
          0.000004018999999999993
         ],
         "xaxis": "x",
         "y": [
          -0.025,
          -0.025,
          -0.025,
          -0.025,
          -0.025,
          -0.025,
          -0.025,
          -0.025,
          -0.025,
          -0.025,
          -0.025,
          -0.025,
          -0.025,
          -0.025,
          -0.025,
          -0.025,
          -0.025,
          -0.025,
          -0.025,
          -0.025
         ],
         "yaxis": "y"
        },
        {
         "fill": "tozeroy",
         "hoverinfo": "x+y+name",
         "hoverlabel": {
          "namelength": -1
         },
         "legendgroup": "2",
         "line": {
          "color": "#00CC96"
         },
         "mode": "lines",
         "name": "RampPulse, clock: q0.ro",
         "showlegend": true,
         "type": "scatter",
         "x": [
          0.00000402,
          0.000004020999999999999,
          0.000004021999999999999,
          0.000004022999999999999,
          0.000004023999999999998,
          0.000004024999999999998,
          0.0000040259999999999975,
          0.000004026999999999997,
          0.000004027999999999997,
          0.0000040289999999999965,
          0.000004029999999999996,
          0.000004030999999999996,
          0.0000040319999999999954,
          0.000004032999999999995,
          0.000004033999999999995,
          0.000004034999999999994,
          0.000004035999999999994,
          0.000004036999999999994,
          0.000004037999999999993,
          0.000004038999999999993,
          0.000004039999999999993,
          0.000004040999999999992,
          0.000004041999999999992,
          0.000004042999999999992,
          0.000004043999999999991,
          0.000004044999999999991,
          0.0000040459999999999906,
          0.00000404699999999999,
          0.00000404799999999999,
          0.0000040489999999999895,
          0.000004049999999999989,
          0.000004050999999999989,
          0.0000040519999999999885,
          0.000004052999999999988,
          0.000004053999999999988,
          0.0000040549999999999874,
          0.000004055999999999987,
          0.000004056999999999987,
          0.000004057999999999986,
          0.000004058999999999986,
          0.000004059999999999986,
          0.000004060999999999985,
          0.000004061999999999985,
          0.000004062999999999985,
          0.000004063999999999984,
          0.000004064999999999984,
          0.000004065999999999984,
          0.000004066999999999983,
          0.000004067999999999983,
          0.0000040689999999999826,
          0.000004069999999999982,
          0.000004070999999999982,
          0.0000040719999999999815,
          0.000004072999999999981,
          0.000004073999999999981,
          0.0000040749999999999805,
          0.00000407599999999998,
          0.00000407699999999998,
          0.000004077999999999979,
          0.000004078999999999979,
          0.000004079999999999979,
          0.000004080999999999978,
          0.000004081999999999978,
          0.000004082999999999978,
          0.000004083999999999977,
          0.000004084999999999977,
          0.000004085999999999977,
          0.000004086999999999976,
          0.000004087999999999976,
          0.000004088999999999976,
          0.000004089999999999975,
          0.000004090999999999975,
          0.0000040919999999999745,
          0.000004092999999999974,
          0.000004093999999999974,
          0.0000040949999999999735,
          0.000004095999999999973,
          0.000004096999999999973,
          0.0000040979999999999725,
          0.000004098999999999972,
          0.000004099999999999972,
          0.000004100999999999971,
          0.000004101999999999971,
          0.000004102999999999971,
          0.00000410399999999997,
          0.00000410499999999997,
          0.00000410599999999997,
          0.000004106999999999969,
          0.000004107999999999969,
          0.000004108999999999969,
          0.000004109999999999968,
          0.000004110999999999968,
          0.0000041119999999999676,
          0.000004112999999999967,
          0.000004113999999999967,
          0.0000041149999999999665,
          0.000004115999999999966,
          0.000004116999999999966,
          0.0000041179999999999655,
          0.000004118999999999965,
          0.000004119999999999965,
          0.0000041209999999999644,
          0.000004121999999999964,
          0.000004122999999999964,
          0.000004123999999999963,
          0.000004124999999999963,
          0.000004125999999999963,
          0.000004126999999999962,
          0.000004127999999999962,
          0.000004128999999999962,
          0.000004129999999999961,
          0.000004130999999999961,
          0.000004131999999999961,
          0.00000413299999999996,
          0.00000413399999999996,
          0.0000041349999999999596,
          0.000004135999999999959,
          0.000004136999999999959,
          0.0000041379999999999585,
          0.000004138999999999958,
          0.000004139999999999958,
          0.0000041409999999999575,
          0.000004141999999999957,
          0.000004142999999999957,
          0.0000041439999999999564,
          0.000004144999999999956,
          0.000004145999999999956,
          0.000004146999999999955,
          0.000004147999999999955,
          0.000004148999999999955,
          0.000004149999999999954,
          0.000004150999999999954,
          0.000004151999999999954,
          0.000004152999999999953,
          0.000004153999999999953,
          0.000004154999999999953,
          0.000004155999999999952,
          0.000004156999999999952,
          0.0000041579999999999516,
          0.000004158999999999951,
          0.000004159999999999951,
          0.0000041609999999999505,
          0.00000416199999999995,
          0.00000416299999999995,
          0.0000041639999999999495,
          0.000004164999999999949,
          0.000004165999999999949,
          0.000004166999999999948,
          0.000004167999999999948,
          0.000004168999999999948,
          0.000004169999999999947,
          0.000004170999999999947,
          0.000004171999999999947,
          0.000004172999999999946,
          0.000004173999999999946,
          0.000004174999999999946,
          0.000004175999999999945,
          0.000004176999999999945,
          0.000004177999999999945,
          0.000004178999999999944,
          0.000004179999999999944,
          0.0000041809999999999435,
          0.000004181999999999943,
          0.000004182999999999943,
          0.0000041839999999999425,
          0.000004184999999999942,
          0.000004185999999999942,
          0.0000041869999999999414,
          0.000004187999999999941,
          0.000004188999999999941,
          0.00000418999999999994,
          0.00000419099999999994,
          0.00000419199999999994,
          0.000004192999999999939,
          0.000004193999999999939,
          0.000004194999999999939,
          0.000004195999999999938,
          0.000004196999999999938,
          0.000004197999999999938,
          0.000004198999999999937,
          0.000004199999999999937,
          0.0000042009999999999366,
          0.000004201999999999936,
          0.000004202999999999936,
          0.0000042039999999999355,
          0.000004204999999999935,
          0.000004205999999999935,
          0.0000042069999999999345,
          0.000004207999999999934,
          0.000004208999999999934,
          0.0000042099999999999334,
          0.000004210999999999933,
          0.000004211999999999933,
          0.000004212999999999932,
          0.000004213999999999932,
          0.000004214999999999932,
          0.000004215999999999931,
          0.000004216999999999931,
          0.000004217999999999931,
          0.00000421899999999993,
          0.00000421999999999993,
          0.00000422099999999993,
          0.000004221999999999929,
          0.000004222999999999929,
          0.0000042239999999999286,
          0.000004224999999999928,
          0.000004225999999999928,
          0.0000042269999999999275,
          0.000004227999999999927,
          0.000004228999999999927,
          0.0000042299999999999265,
          0.000004230999999999926,
          0.000004231999999999926,
          0.000004232999999999925,
          0.000004233999999999925,
          0.000004234999999999925,
          0.000004235999999999924,
          0.000004236999999999924,
          0.000004237999999999924,
          0.000004238999999999923,
          0.000004239999999999923,
          0.000004240999999999923,
          0.000004241999999999922,
          0.000004242999999999922,
          0.000004243999999999922,
          0.000004244999999999921,
          0.000004245999999999921,
          0.0000042469999999999205,
          0.00000424799999999992,
          0.00000424899999999992,
          0.0000042499999999999195,
          0.000004250999999999919,
          0.000004251999999999919,
          0.0000042529999999999185,
          0.000004253999999999918,
          0.000004254999999999918,
          0.000004255999999999917,
          0.000004256999999999917,
          0.000004257999999999917,
          0.000004258999999999916,
          0.000004259999999999916,
          0.000004260999999999916,
          0.000004261999999999915,
          0.000004262999999999915,
          0.000004263999999999915,
          0.000004264999999999914,
          0.000004265999999999914,
          0.0000042669999999999136,
          0.000004267999999999913,
          0.000004268999999999913,
          0.0000042699999999999125
         ],
         "xaxis": "x",
         "y": [
          0.06,
          0.06,
          0.06,
          0.06,
          0.06,
          0.06,
          0.06,
          0.06,
          0.06,
          0.06,
          0.06,
          0.06,
          0.06,
          0.06,
          0.06,
          0.06,
          0.06,
          0.06,
          0.06,
          0.06,
          0.06,
          0.06,
          0.06,
          0.06,
          0.06,
          0.06,
          0.06,
          0.06,
          0.06,
          0.06,
          0.06,
          0.06,
          0.06,
          0.06,
          0.06,
          0.06,
          0.06,
          0.06,
          0.06,
          0.06,
          0.06,
          0.06,
          0.06,
          0.06,
          0.06,
          0.06,
          0.06,
          0.06,
          0.06,
          0.06,
          0.06,
          0.06,
          0.06,
          0.06,
          0.06,
          0.06,
          0.06,
          0.06,
          0.06,
          0.06,
          0.06,
          0.06,
          0.06,
          0.06,
          0.06,
          0.06,
          0.06,
          0.06,
          0.06,
          0.06,
          0.06,
          0.06,
          0.06,
          0.06,
          0.06,
          0.06,
          0.06,
          0.06,
          0.06,
          0.06,
          0.06,
          0.06,
          0.06,
          0.06,
          0.06,
          0.06,
          0.06,
          0.06,
          0.06,
          0.06,
          0.06,
          0.06,
          0.06,
          0.06,
          0.06,
          0.06,
          0.06,
          0.06,
          0.06,
          0.06,
          0.06,
          0.06,
          0.06,
          0.06,
          0.06,
          0.06,
          0.06,
          0.06,
          0.06,
          0.06,
          0.06,
          0.06,
          0.06,
          0.06,
          0.06,
          0.06,
          0.06,
          0.06,
          0.06,
          0.06,
          0.06,
          0.06,
          0.06,
          0.06,
          0.06,
          0.06,
          0.06,
          0.06,
          0.06,
          0.06,
          0.06,
          0.06,
          0.06,
          0.06,
          0.06,
          0.06,
          0.06,
          0.06,
          0.06,
          0.06,
          0.06,
          0.06,
          0.06,
          0.06,
          0.06,
          0.06,
          0.06,
          0.06,
          0.06,
          0.06,
          0.06,
          0.06,
          0.06,
          0.06,
          0.06,
          0.06,
          0.06,
          0.06,
          0.06,
          0.06,
          0.06,
          0.06,
          0.06,
          0.06,
          0.06,
          0.06,
          0.06,
          0.06,
          0.06,
          0.06,
          0.06,
          0.06,
          0.06,
          0.06,
          0.06,
          0.06,
          0.06,
          0.06,
          0.06,
          0.06,
          0.06,
          0.06,
          0.06,
          0.06,
          0.06,
          0.06,
          0.06,
          0.06,
          0.06,
          0.06,
          0.06,
          0.06,
          0.06,
          0.06,
          0.06,
          0.06,
          0.06,
          0.06,
          0.06,
          0.06,
          0.06,
          0.06,
          0.06,
          0.06,
          0.06,
          0.06,
          0.06,
          0.06,
          0.06,
          0.06,
          0.06,
          0.06,
          0.06,
          0.06,
          0.06,
          0.06,
          0.06,
          0.06,
          0.06,
          0.06,
          0.06,
          0.06,
          0.06,
          0.06,
          0.06,
          0.06,
          0.06,
          0.06,
          0.06,
          0.06,
          0.06,
          0.06,
          0.06,
          0.06,
          0.06,
          0.06,
          0.06,
          0.06,
          0.06,
          0.06,
          0.06,
          0.06,
          0.06,
          0.06,
          0.06,
          0.06,
          0.06,
          0.06,
          0.06,
          0.06,
          0.06
         ],
         "yaxis": "y"
        },
        {
         "fill": "tozeroy",
         "hoverinfo": "x+y+name",
         "hoverlabel": {
          "namelength": -1
         },
         "legendgroup": "3",
         "line": {
          "color": "#AB63FA"
         },
         "mode": "lines",
         "name": "RampPulse, clock: q0.ro",
         "showlegend": true,
         "type": "scatter",
         "x": [
          0.00000427,
          0.0000042709999999999994,
          0.000004271999999999999,
          0.000004272999999999999,
          0.000004273999999999998,
          0.000004274999999999998,
          0.000004275999999999998,
          0.000004276999999999997,
          0.000004277999999999997,
          0.000004278999999999997,
          0.000004279999999999996,
          0.000004280999999999996,
          0.000004281999999999996,
          0.000004282999999999995,
          0.000004283999999999995,
          0.0000042849999999999945,
          0.000004285999999999994,
          0.000004286999999999994,
          0.0000042879999999999935,
          0.000004288999999999993
         ],
         "xaxis": "x",
         "y": [
          -0.025,
          -0.025,
          -0.025,
          -0.025,
          -0.025,
          -0.025,
          -0.025,
          -0.025,
          -0.025,
          -0.025,
          -0.025,
          -0.025,
          -0.025,
          -0.025,
          -0.025,
          -0.025,
          -0.025,
          -0.025,
          -0.025,
          -0.025
         ],
         "yaxis": "y"
        }
       ],
       "layout": {
        "height": 300,
        "showlegend": false,
        "template": {
         "data": {
          "bar": [
           {
            "error_x": {
             "color": "#2a3f5f"
            },
            "error_y": {
             "color": "#2a3f5f"
            },
            "marker": {
             "line": {
              "color": "#E5ECF6",
              "width": 0.5
             },
             "pattern": {
              "fillmode": "overlay",
              "size": 10,
              "solidity": 0.2
             }
            },
            "type": "bar"
           }
          ],
          "barpolar": [
           {
            "marker": {
             "line": {
              "color": "#E5ECF6",
              "width": 0.5
             },
             "pattern": {
              "fillmode": "overlay",
              "size": 10,
              "solidity": 0.2
             }
            },
            "type": "barpolar"
           }
          ],
          "carpet": [
           {
            "aaxis": {
             "endlinecolor": "#2a3f5f",
             "gridcolor": "white",
             "linecolor": "white",
             "minorgridcolor": "white",
             "startlinecolor": "#2a3f5f"
            },
            "baxis": {
             "endlinecolor": "#2a3f5f",
             "gridcolor": "white",
             "linecolor": "white",
             "minorgridcolor": "white",
             "startlinecolor": "#2a3f5f"
            },
            "type": "carpet"
           }
          ],
          "choropleth": [
           {
            "colorbar": {
             "outlinewidth": 0,
             "ticks": ""
            },
            "type": "choropleth"
           }
          ],
          "contour": [
           {
            "colorbar": {
             "outlinewidth": 0,
             "ticks": ""
            },
            "colorscale": [
             [
              0,
              "#0d0887"
             ],
             [
              0.1111111111111111,
              "#46039f"
             ],
             [
              0.2222222222222222,
              "#7201a8"
             ],
             [
              0.3333333333333333,
              "#9c179e"
             ],
             [
              0.4444444444444444,
              "#bd3786"
             ],
             [
              0.5555555555555556,
              "#d8576b"
             ],
             [
              0.6666666666666666,
              "#ed7953"
             ],
             [
              0.7777777777777778,
              "#fb9f3a"
             ],
             [
              0.8888888888888888,
              "#fdca26"
             ],
             [
              1,
              "#f0f921"
             ]
            ],
            "type": "contour"
           }
          ],
          "contourcarpet": [
           {
            "colorbar": {
             "outlinewidth": 0,
             "ticks": ""
            },
            "type": "contourcarpet"
           }
          ],
          "heatmap": [
           {
            "colorbar": {
             "outlinewidth": 0,
             "ticks": ""
            },
            "colorscale": [
             [
              0,
              "#0d0887"
             ],
             [
              0.1111111111111111,
              "#46039f"
             ],
             [
              0.2222222222222222,
              "#7201a8"
             ],
             [
              0.3333333333333333,
              "#9c179e"
             ],
             [
              0.4444444444444444,
              "#bd3786"
             ],
             [
              0.5555555555555556,
              "#d8576b"
             ],
             [
              0.6666666666666666,
              "#ed7953"
             ],
             [
              0.7777777777777778,
              "#fb9f3a"
             ],
             [
              0.8888888888888888,
              "#fdca26"
             ],
             [
              1,
              "#f0f921"
             ]
            ],
            "type": "heatmap"
           }
          ],
          "heatmapgl": [
           {
            "colorbar": {
             "outlinewidth": 0,
             "ticks": ""
            },
            "colorscale": [
             [
              0,
              "#0d0887"
             ],
             [
              0.1111111111111111,
              "#46039f"
             ],
             [
              0.2222222222222222,
              "#7201a8"
             ],
             [
              0.3333333333333333,
              "#9c179e"
             ],
             [
              0.4444444444444444,
              "#bd3786"
             ],
             [
              0.5555555555555556,
              "#d8576b"
             ],
             [
              0.6666666666666666,
              "#ed7953"
             ],
             [
              0.7777777777777778,
              "#fb9f3a"
             ],
             [
              0.8888888888888888,
              "#fdca26"
             ],
             [
              1,
              "#f0f921"
             ]
            ],
            "type": "heatmapgl"
           }
          ],
          "histogram": [
           {
            "marker": {
             "pattern": {
              "fillmode": "overlay",
              "size": 10,
              "solidity": 0.2
             }
            },
            "type": "histogram"
           }
          ],
          "histogram2d": [
           {
            "colorbar": {
             "outlinewidth": 0,
             "ticks": ""
            },
            "colorscale": [
             [
              0,
              "#0d0887"
             ],
             [
              0.1111111111111111,
              "#46039f"
             ],
             [
              0.2222222222222222,
              "#7201a8"
             ],
             [
              0.3333333333333333,
              "#9c179e"
             ],
             [
              0.4444444444444444,
              "#bd3786"
             ],
             [
              0.5555555555555556,
              "#d8576b"
             ],
             [
              0.6666666666666666,
              "#ed7953"
             ],
             [
              0.7777777777777778,
              "#fb9f3a"
             ],
             [
              0.8888888888888888,
              "#fdca26"
             ],
             [
              1,
              "#f0f921"
             ]
            ],
            "type": "histogram2d"
           }
          ],
          "histogram2dcontour": [
           {
            "colorbar": {
             "outlinewidth": 0,
             "ticks": ""
            },
            "colorscale": [
             [
              0,
              "#0d0887"
             ],
             [
              0.1111111111111111,
              "#46039f"
             ],
             [
              0.2222222222222222,
              "#7201a8"
             ],
             [
              0.3333333333333333,
              "#9c179e"
             ],
             [
              0.4444444444444444,
              "#bd3786"
             ],
             [
              0.5555555555555556,
              "#d8576b"
             ],
             [
              0.6666666666666666,
              "#ed7953"
             ],
             [
              0.7777777777777778,
              "#fb9f3a"
             ],
             [
              0.8888888888888888,
              "#fdca26"
             ],
             [
              1,
              "#f0f921"
             ]
            ],
            "type": "histogram2dcontour"
           }
          ],
          "mesh3d": [
           {
            "colorbar": {
             "outlinewidth": 0,
             "ticks": ""
            },
            "type": "mesh3d"
           }
          ],
          "parcoords": [
           {
            "line": {
             "colorbar": {
              "outlinewidth": 0,
              "ticks": ""
             }
            },
            "type": "parcoords"
           }
          ],
          "pie": [
           {
            "automargin": true,
            "type": "pie"
           }
          ],
          "scatter": [
           {
            "fillpattern": {
             "fillmode": "overlay",
             "size": 10,
             "solidity": 0.2
            },
            "type": "scatter"
           }
          ],
          "scatter3d": [
           {
            "line": {
             "colorbar": {
              "outlinewidth": 0,
              "ticks": ""
             }
            },
            "marker": {
             "colorbar": {
              "outlinewidth": 0,
              "ticks": ""
             }
            },
            "type": "scatter3d"
           }
          ],
          "scattercarpet": [
           {
            "marker": {
             "colorbar": {
              "outlinewidth": 0,
              "ticks": ""
             }
            },
            "type": "scattercarpet"
           }
          ],
          "scattergeo": [
           {
            "marker": {
             "colorbar": {
              "outlinewidth": 0,
              "ticks": ""
             }
            },
            "type": "scattergeo"
           }
          ],
          "scattergl": [
           {
            "marker": {
             "colorbar": {
              "outlinewidth": 0,
              "ticks": ""
             }
            },
            "type": "scattergl"
           }
          ],
          "scattermapbox": [
           {
            "marker": {
             "colorbar": {
              "outlinewidth": 0,
              "ticks": ""
             }
            },
            "type": "scattermapbox"
           }
          ],
          "scatterpolar": [
           {
            "marker": {
             "colorbar": {
              "outlinewidth": 0,
              "ticks": ""
             }
            },
            "type": "scatterpolar"
           }
          ],
          "scatterpolargl": [
           {
            "marker": {
             "colorbar": {
              "outlinewidth": 0,
              "ticks": ""
             }
            },
            "type": "scatterpolargl"
           }
          ],
          "scatterternary": [
           {
            "marker": {
             "colorbar": {
              "outlinewidth": 0,
              "ticks": ""
             }
            },
            "type": "scatterternary"
           }
          ],
          "surface": [
           {
            "colorbar": {
             "outlinewidth": 0,
             "ticks": ""
            },
            "colorscale": [
             [
              0,
              "#0d0887"
             ],
             [
              0.1111111111111111,
              "#46039f"
             ],
             [
              0.2222222222222222,
              "#7201a8"
             ],
             [
              0.3333333333333333,
              "#9c179e"
             ],
             [
              0.4444444444444444,
              "#bd3786"
             ],
             [
              0.5555555555555556,
              "#d8576b"
             ],
             [
              0.6666666666666666,
              "#ed7953"
             ],
             [
              0.7777777777777778,
              "#fb9f3a"
             ],
             [
              0.8888888888888888,
              "#fdca26"
             ],
             [
              1,
              "#f0f921"
             ]
            ],
            "type": "surface"
           }
          ],
          "table": [
           {
            "cells": {
             "fill": {
              "color": "#EBF0F8"
             },
             "line": {
              "color": "white"
             }
            },
            "header": {
             "fill": {
              "color": "#C8D4E3"
             },
             "line": {
              "color": "white"
             }
            },
            "type": "table"
           }
          ]
         },
         "layout": {
          "annotationdefaults": {
           "arrowcolor": "#2a3f5f",
           "arrowhead": 0,
           "arrowwidth": 1
          },
          "autotypenumbers": "strict",
          "coloraxis": {
           "colorbar": {
            "outlinewidth": 0,
            "ticks": ""
           }
          },
          "colorscale": {
           "diverging": [
            [
             0,
             "#8e0152"
            ],
            [
             0.1,
             "#c51b7d"
            ],
            [
             0.2,
             "#de77ae"
            ],
            [
             0.3,
             "#f1b6da"
            ],
            [
             0.4,
             "#fde0ef"
            ],
            [
             0.5,
             "#f7f7f7"
            ],
            [
             0.6,
             "#e6f5d0"
            ],
            [
             0.7,
             "#b8e186"
            ],
            [
             0.8,
             "#7fbc41"
            ],
            [
             0.9,
             "#4d9221"
            ],
            [
             1,
             "#276419"
            ]
           ],
           "sequential": [
            [
             0,
             "#0d0887"
            ],
            [
             0.1111111111111111,
             "#46039f"
            ],
            [
             0.2222222222222222,
             "#7201a8"
            ],
            [
             0.3333333333333333,
             "#9c179e"
            ],
            [
             0.4444444444444444,
             "#bd3786"
            ],
            [
             0.5555555555555556,
             "#d8576b"
            ],
            [
             0.6666666666666666,
             "#ed7953"
            ],
            [
             0.7777777777777778,
             "#fb9f3a"
            ],
            [
             0.8888888888888888,
             "#fdca26"
            ],
            [
             1,
             "#f0f921"
            ]
           ],
           "sequentialminus": [
            [
             0,
             "#0d0887"
            ],
            [
             0.1111111111111111,
             "#46039f"
            ],
            [
             0.2222222222222222,
             "#7201a8"
            ],
            [
             0.3333333333333333,
             "#9c179e"
            ],
            [
             0.4444444444444444,
             "#bd3786"
            ],
            [
             0.5555555555555556,
             "#d8576b"
            ],
            [
             0.6666666666666666,
             "#ed7953"
            ],
            [
             0.7777777777777778,
             "#fb9f3a"
            ],
            [
             0.8888888888888888,
             "#fdca26"
            ],
            [
             1,
             "#f0f921"
            ]
           ]
          },
          "colorway": [
           "#636efa",
           "#EF553B",
           "#00cc96",
           "#ab63fa",
           "#FFA15A",
           "#19d3f3",
           "#FF6692",
           "#B6E880",
           "#FF97FF",
           "#FECB52"
          ],
          "font": {
           "color": "#2a3f5f"
          },
          "geo": {
           "bgcolor": "white",
           "lakecolor": "white",
           "landcolor": "#E5ECF6",
           "showlakes": true,
           "showland": true,
           "subunitcolor": "white"
          },
          "hoverlabel": {
           "align": "left"
          },
          "hovermode": "closest",
          "mapbox": {
           "style": "light"
          },
          "paper_bgcolor": "white",
          "plot_bgcolor": "#E5ECF6",
          "polar": {
           "angularaxis": {
            "gridcolor": "white",
            "linecolor": "white",
            "ticks": ""
           },
           "bgcolor": "#E5ECF6",
           "radialaxis": {
            "gridcolor": "white",
            "linecolor": "white",
            "ticks": ""
           }
          },
          "scene": {
           "xaxis": {
            "backgroundcolor": "#E5ECF6",
            "gridcolor": "white",
            "gridwidth": 2,
            "linecolor": "white",
            "showbackground": true,
            "ticks": "",
            "zerolinecolor": "white"
           },
           "yaxis": {
            "backgroundcolor": "#E5ECF6",
            "gridcolor": "white",
            "gridwidth": 2,
            "linecolor": "white",
            "showbackground": true,
            "ticks": "",
            "zerolinecolor": "white"
           },
           "zaxis": {
            "backgroundcolor": "#E5ECF6",
            "gridcolor": "white",
            "gridwidth": 2,
            "linecolor": "white",
            "showbackground": true,
            "ticks": "",
            "zerolinecolor": "white"
           }
          },
          "shapedefaults": {
           "line": {
            "color": "#2a3f5f"
           }
          },
          "ternary": {
           "aaxis": {
            "gridcolor": "white",
            "linecolor": "white",
            "ticks": ""
           },
           "baxis": {
            "gridcolor": "white",
            "linecolor": "white",
            "ticks": ""
           },
           "bgcolor": "#E5ECF6",
           "caxis": {
            "gridcolor": "white",
            "linecolor": "white",
            "ticks": ""
           }
          },
          "title": {
           "x": 0.05
          },
          "xaxis": {
           "automargin": true,
           "gridcolor": "white",
           "linecolor": "white",
           "ticks": "",
           "title": {
            "standoff": 15
           },
           "zerolinecolor": "white",
           "zerolinewidth": 2
          },
          "yaxis": {
           "automargin": true,
           "gridcolor": "white",
           "linecolor": "white",
           "ticks": "",
           "title": {
            "standoff": 15
           },
           "zerolinecolor": "white",
           "zerolinewidth": 2
          }
         }
        },
        "title": {
         "text": "Qubit Reset - Step 4 - fg qc check"
        },
        "width": 1000,
        "xaxis": {
         "anchor": "y",
         "domain": [
          0,
          1
         ],
         "hoverformat": ".3s",
         "showgrid": true,
         "tickformat": ".2s",
         "tickformatstops": [
          {
           "dtickrange": [
            null,
            1e-9
           ],
           "value": ".10s"
          },
          {
           "dtickrange": [
            1e-9,
            0.000001
           ],
           "value": ".7s"
          },
          {
           "dtickrange": [
            0.000001,
            0.001
           ],
           "value": ".4s"
          }
         ],
         "ticksuffix": "s",
         "title": {
          "text": "Time"
         }
        },
        "yaxis": {
         "anchor": "x",
         "autorange": true,
         "domain": [
          0,
          1
         ],
         "hoverformat": ".3s",
         "tickformat": ".2s",
         "ticksuffix": "V",
         "title": {
          "text": "flux"
         }
        }
       }
      },
      "text/html": [
       "<div>                            <div id=\"6c0ba284-a42e-4bf2-a244-783c5f64fc87\" class=\"plotly-graph-div\" style=\"height:300px; width:1000px;\"></div>            <script type=\"text/javascript\">                require([\"plotly\"], function(Plotly) {                    window.PLOTLYENV=window.PLOTLYENV || {};                                    if (document.getElementById(\"6c0ba284-a42e-4bf2-a244-783c5f64fc87\")) {                    Plotly.newPlot(                        \"6c0ba284-a42e-4bf2-a244-783c5f64fc87\",                        [{\"fill\":\"tozeroy\",\"hoverinfo\":\"x+y+name\",\"hoverlabel\":{\"namelength\":-1},\"legendgroup\":\"1\",\"line\":{\"color\":\"#EF553B\"},\"mode\":\"lines\",\"name\":\"RampPulse, clock: q0.ro\",\"showlegend\":true,\"x\":[4e-6,4.0009999999999995e-6,4.001999999999999e-6,4.002999999999999e-6,4.0039999999999984e-6,4.004999999999998e-6,4.005999999999998e-6,4.006999999999997e-6,4.007999999999997e-6,4.008999999999997e-6,4.009999999999996e-6,4.010999999999996e-6,4.011999999999996e-6,4.012999999999995e-6,4.013999999999995e-6,4.014999999999995e-6,4.015999999999994e-6,4.016999999999994e-6,4.0179999999999935e-6,4.018999999999993e-6],\"y\":[-0.025,-0.025,-0.025,-0.025,-0.025,-0.025,-0.025,-0.025,-0.025,-0.025,-0.025,-0.025,-0.025,-0.025,-0.025,-0.025,-0.025,-0.025,-0.025,-0.025],\"type\":\"scatter\",\"xaxis\":\"x\",\"yaxis\":\"y\"},{\"fill\":\"tozeroy\",\"hoverinfo\":\"x+y+name\",\"hoverlabel\":{\"namelength\":-1},\"legendgroup\":\"2\",\"line\":{\"color\":\"#00CC96\"},\"mode\":\"lines\",\"name\":\"RampPulse, clock: q0.ro\",\"showlegend\":true,\"x\":[4.02e-6,4.020999999999999e-6,4.021999999999999e-6,4.022999999999999e-6,4.023999999999998e-6,4.024999999999998e-6,4.0259999999999975e-6,4.026999999999997e-6,4.027999999999997e-6,4.0289999999999965e-6,4.029999999999996e-6,4.030999999999996e-6,4.0319999999999954e-6,4.032999999999995e-6,4.033999999999995e-6,4.034999999999994e-6,4.035999999999994e-6,4.036999999999994e-6,4.037999999999993e-6,4.038999999999993e-6,4.039999999999993e-6,4.040999999999992e-6,4.041999999999992e-6,4.042999999999992e-6,4.043999999999991e-6,4.044999999999991e-6,4.0459999999999906e-6,4.04699999999999e-6,4.04799999999999e-6,4.0489999999999895e-6,4.049999999999989e-6,4.050999999999989e-6,4.0519999999999885e-6,4.052999999999988e-6,4.053999999999988e-6,4.0549999999999874e-6,4.055999999999987e-6,4.056999999999987e-6,4.057999999999986e-6,4.058999999999986e-6,4.059999999999986e-6,4.060999999999985e-6,4.061999999999985e-6,4.062999999999985e-6,4.063999999999984e-6,4.064999999999984e-6,4.065999999999984e-6,4.066999999999983e-6,4.067999999999983e-6,4.0689999999999826e-6,4.069999999999982e-6,4.070999999999982e-6,4.0719999999999815e-6,4.072999999999981e-6,4.073999999999981e-6,4.0749999999999805e-6,4.07599999999998e-6,4.07699999999998e-6,4.077999999999979e-6,4.078999999999979e-6,4.079999999999979e-6,4.080999999999978e-6,4.081999999999978e-6,4.082999999999978e-6,4.083999999999977e-6,4.084999999999977e-6,4.085999999999977e-6,4.086999999999976e-6,4.087999999999976e-6,4.088999999999976e-6,4.089999999999975e-6,4.090999999999975e-6,4.0919999999999745e-6,4.092999999999974e-6,4.093999999999974e-6,4.0949999999999735e-6,4.095999999999973e-6,4.096999999999973e-6,4.0979999999999725e-6,4.098999999999972e-6,4.099999999999972e-6,4.100999999999971e-6,4.101999999999971e-6,4.102999999999971e-6,4.10399999999997e-6,4.10499999999997e-6,4.10599999999997e-6,4.106999999999969e-6,4.107999999999969e-6,4.108999999999969e-6,4.109999999999968e-6,4.110999999999968e-6,4.1119999999999676e-6,4.112999999999967e-6,4.113999999999967e-6,4.1149999999999665e-6,4.115999999999966e-6,4.116999999999966e-6,4.1179999999999655e-6,4.118999999999965e-6,4.119999999999965e-6,4.1209999999999644e-6,4.121999999999964e-6,4.122999999999964e-6,4.123999999999963e-6,4.124999999999963e-6,4.125999999999963e-6,4.126999999999962e-6,4.127999999999962e-6,4.128999999999962e-6,4.129999999999961e-6,4.130999999999961e-6,4.131999999999961e-6,4.13299999999996e-6,4.13399999999996e-6,4.1349999999999596e-6,4.135999999999959e-6,4.136999999999959e-6,4.1379999999999585e-6,4.138999999999958e-6,4.139999999999958e-6,4.1409999999999575e-6,4.141999999999957e-6,4.142999999999957e-6,4.1439999999999564e-6,4.144999999999956e-6,4.145999999999956e-6,4.146999999999955e-6,4.147999999999955e-6,4.148999999999955e-6,4.149999999999954e-6,4.150999999999954e-6,4.151999999999954e-6,4.152999999999953e-6,4.153999999999953e-6,4.154999999999953e-6,4.155999999999952e-6,4.156999999999952e-6,4.1579999999999516e-6,4.158999999999951e-6,4.159999999999951e-6,4.1609999999999505e-6,4.16199999999995e-6,4.16299999999995e-6,4.1639999999999495e-6,4.164999999999949e-6,4.165999999999949e-6,4.166999999999948e-6,4.167999999999948e-6,4.168999999999948e-6,4.169999999999947e-6,4.170999999999947e-6,4.171999999999947e-6,4.172999999999946e-6,4.173999999999946e-6,4.174999999999946e-6,4.175999999999945e-6,4.176999999999945e-6,4.177999999999945e-6,4.178999999999944e-6,4.179999999999944e-6,4.1809999999999435e-6,4.181999999999943e-6,4.182999999999943e-6,4.1839999999999425e-6,4.184999999999942e-6,4.185999999999942e-6,4.1869999999999414e-6,4.187999999999941e-6,4.188999999999941e-6,4.18999999999994e-6,4.19099999999994e-6,4.19199999999994e-6,4.192999999999939e-6,4.193999999999939e-6,4.194999999999939e-6,4.195999999999938e-6,4.196999999999938e-6,4.197999999999938e-6,4.198999999999937e-6,4.199999999999937e-6,4.2009999999999366e-6,4.201999999999936e-6,4.202999999999936e-6,4.2039999999999355e-6,4.204999999999935e-6,4.205999999999935e-6,4.2069999999999345e-6,4.207999999999934e-6,4.208999999999934e-6,4.2099999999999334e-6,4.210999999999933e-6,4.211999999999933e-6,4.212999999999932e-6,4.213999999999932e-6,4.214999999999932e-6,4.215999999999931e-6,4.216999999999931e-6,4.217999999999931e-6,4.21899999999993e-6,4.21999999999993e-6,4.22099999999993e-6,4.221999999999929e-6,4.222999999999929e-6,4.2239999999999286e-6,4.224999999999928e-6,4.225999999999928e-6,4.2269999999999275e-6,4.227999999999927e-6,4.228999999999927e-6,4.2299999999999265e-6,4.230999999999926e-6,4.231999999999926e-6,4.232999999999925e-6,4.233999999999925e-6,4.234999999999925e-6,4.235999999999924e-6,4.236999999999924e-6,4.237999999999924e-6,4.238999999999923e-6,4.239999999999923e-6,4.240999999999923e-6,4.241999999999922e-6,4.242999999999922e-6,4.243999999999922e-6,4.244999999999921e-6,4.245999999999921e-6,4.2469999999999205e-6,4.24799999999992e-6,4.24899999999992e-6,4.2499999999999195e-6,4.250999999999919e-6,4.251999999999919e-6,4.2529999999999185e-6,4.253999999999918e-6,4.254999999999918e-6,4.255999999999917e-6,4.256999999999917e-6,4.257999999999917e-6,4.258999999999916e-6,4.259999999999916e-6,4.260999999999916e-6,4.261999999999915e-6,4.262999999999915e-6,4.263999999999915e-6,4.264999999999914e-6,4.265999999999914e-6,4.2669999999999136e-6,4.267999999999913e-6,4.268999999999913e-6,4.2699999999999125e-6],\"y\":[0.06,0.06,0.06,0.06,0.06,0.06,0.06,0.06,0.06,0.06,0.06,0.06,0.06,0.06,0.06,0.06,0.06,0.06,0.06,0.06,0.06,0.06,0.06,0.06,0.06,0.06,0.06,0.06,0.06,0.06,0.06,0.06,0.06,0.06,0.06,0.06,0.06,0.06,0.06,0.06,0.06,0.06,0.06,0.06,0.06,0.06,0.06,0.06,0.06,0.06,0.06,0.06,0.06,0.06,0.06,0.06,0.06,0.06,0.06,0.06,0.06,0.06,0.06,0.06,0.06,0.06,0.06,0.06,0.06,0.06,0.06,0.06,0.06,0.06,0.06,0.06,0.06,0.06,0.06,0.06,0.06,0.06,0.06,0.06,0.06,0.06,0.06,0.06,0.06,0.06,0.06,0.06,0.06,0.06,0.06,0.06,0.06,0.06,0.06,0.06,0.06,0.06,0.06,0.06,0.06,0.06,0.06,0.06,0.06,0.06,0.06,0.06,0.06,0.06,0.06,0.06,0.06,0.06,0.06,0.06,0.06,0.06,0.06,0.06,0.06,0.06,0.06,0.06,0.06,0.06,0.06,0.06,0.06,0.06,0.06,0.06,0.06,0.06,0.06,0.06,0.06,0.06,0.06,0.06,0.06,0.06,0.06,0.06,0.06,0.06,0.06,0.06,0.06,0.06,0.06,0.06,0.06,0.06,0.06,0.06,0.06,0.06,0.06,0.06,0.06,0.06,0.06,0.06,0.06,0.06,0.06,0.06,0.06,0.06,0.06,0.06,0.06,0.06,0.06,0.06,0.06,0.06,0.06,0.06,0.06,0.06,0.06,0.06,0.06,0.06,0.06,0.06,0.06,0.06,0.06,0.06,0.06,0.06,0.06,0.06,0.06,0.06,0.06,0.06,0.06,0.06,0.06,0.06,0.06,0.06,0.06,0.06,0.06,0.06,0.06,0.06,0.06,0.06,0.06,0.06,0.06,0.06,0.06,0.06,0.06,0.06,0.06,0.06,0.06,0.06,0.06,0.06,0.06,0.06,0.06,0.06,0.06,0.06,0.06,0.06,0.06,0.06,0.06,0.06,0.06,0.06,0.06,0.06,0.06,0.06,0.06],\"type\":\"scatter\",\"xaxis\":\"x\",\"yaxis\":\"y\"},{\"fill\":\"tozeroy\",\"hoverinfo\":\"x+y+name\",\"hoverlabel\":{\"namelength\":-1},\"legendgroup\":\"3\",\"line\":{\"color\":\"#AB63FA\"},\"mode\":\"lines\",\"name\":\"RampPulse, clock: q0.ro\",\"showlegend\":true,\"x\":[4.27e-6,4.2709999999999994e-6,4.271999999999999e-6,4.272999999999999e-6,4.273999999999998e-6,4.274999999999998e-6,4.275999999999998e-6,4.276999999999997e-6,4.277999999999997e-6,4.278999999999997e-6,4.279999999999996e-6,4.280999999999996e-6,4.281999999999996e-6,4.282999999999995e-6,4.283999999999995e-6,4.2849999999999945e-6,4.285999999999994e-6,4.286999999999994e-6,4.2879999999999935e-6,4.288999999999993e-6],\"y\":[-0.025,-0.025,-0.025,-0.025,-0.025,-0.025,-0.025,-0.025,-0.025,-0.025,-0.025,-0.025,-0.025,-0.025,-0.025,-0.025,-0.025,-0.025,-0.025,-0.025],\"type\":\"scatter\",\"xaxis\":\"x\",\"yaxis\":\"y\"}],                        {\"template\":{\"data\":{\"histogram2dcontour\":[{\"type\":\"histogram2dcontour\",\"colorbar\":{\"outlinewidth\":0,\"ticks\":\"\"},\"colorscale\":[[0.0,\"#0d0887\"],[0.1111111111111111,\"#46039f\"],[0.2222222222222222,\"#7201a8\"],[0.3333333333333333,\"#9c179e\"],[0.4444444444444444,\"#bd3786\"],[0.5555555555555556,\"#d8576b\"],[0.6666666666666666,\"#ed7953\"],[0.7777777777777778,\"#fb9f3a\"],[0.8888888888888888,\"#fdca26\"],[1.0,\"#f0f921\"]]}],\"choropleth\":[{\"type\":\"choropleth\",\"colorbar\":{\"outlinewidth\":0,\"ticks\":\"\"}}],\"histogram2d\":[{\"type\":\"histogram2d\",\"colorbar\":{\"outlinewidth\":0,\"ticks\":\"\"},\"colorscale\":[[0.0,\"#0d0887\"],[0.1111111111111111,\"#46039f\"],[0.2222222222222222,\"#7201a8\"],[0.3333333333333333,\"#9c179e\"],[0.4444444444444444,\"#bd3786\"],[0.5555555555555556,\"#d8576b\"],[0.6666666666666666,\"#ed7953\"],[0.7777777777777778,\"#fb9f3a\"],[0.8888888888888888,\"#fdca26\"],[1.0,\"#f0f921\"]]}],\"heatmap\":[{\"type\":\"heatmap\",\"colorbar\":{\"outlinewidth\":0,\"ticks\":\"\"},\"colorscale\":[[0.0,\"#0d0887\"],[0.1111111111111111,\"#46039f\"],[0.2222222222222222,\"#7201a8\"],[0.3333333333333333,\"#9c179e\"],[0.4444444444444444,\"#bd3786\"],[0.5555555555555556,\"#d8576b\"],[0.6666666666666666,\"#ed7953\"],[0.7777777777777778,\"#fb9f3a\"],[0.8888888888888888,\"#fdca26\"],[1.0,\"#f0f921\"]]}],\"heatmapgl\":[{\"type\":\"heatmapgl\",\"colorbar\":{\"outlinewidth\":0,\"ticks\":\"\"},\"colorscale\":[[0.0,\"#0d0887\"],[0.1111111111111111,\"#46039f\"],[0.2222222222222222,\"#7201a8\"],[0.3333333333333333,\"#9c179e\"],[0.4444444444444444,\"#bd3786\"],[0.5555555555555556,\"#d8576b\"],[0.6666666666666666,\"#ed7953\"],[0.7777777777777778,\"#fb9f3a\"],[0.8888888888888888,\"#fdca26\"],[1.0,\"#f0f921\"]]}],\"contourcarpet\":[{\"type\":\"contourcarpet\",\"colorbar\":{\"outlinewidth\":0,\"ticks\":\"\"}}],\"contour\":[{\"type\":\"contour\",\"colorbar\":{\"outlinewidth\":0,\"ticks\":\"\"},\"colorscale\":[[0.0,\"#0d0887\"],[0.1111111111111111,\"#46039f\"],[0.2222222222222222,\"#7201a8\"],[0.3333333333333333,\"#9c179e\"],[0.4444444444444444,\"#bd3786\"],[0.5555555555555556,\"#d8576b\"],[0.6666666666666666,\"#ed7953\"],[0.7777777777777778,\"#fb9f3a\"],[0.8888888888888888,\"#fdca26\"],[1.0,\"#f0f921\"]]}],\"surface\":[{\"type\":\"surface\",\"colorbar\":{\"outlinewidth\":0,\"ticks\":\"\"},\"colorscale\":[[0.0,\"#0d0887\"],[0.1111111111111111,\"#46039f\"],[0.2222222222222222,\"#7201a8\"],[0.3333333333333333,\"#9c179e\"],[0.4444444444444444,\"#bd3786\"],[0.5555555555555556,\"#d8576b\"],[0.6666666666666666,\"#ed7953\"],[0.7777777777777778,\"#fb9f3a\"],[0.8888888888888888,\"#fdca26\"],[1.0,\"#f0f921\"]]}],\"mesh3d\":[{\"type\":\"mesh3d\",\"colorbar\":{\"outlinewidth\":0,\"ticks\":\"\"}}],\"scatter\":[{\"fillpattern\":{\"fillmode\":\"overlay\",\"size\":10,\"solidity\":0.2},\"type\":\"scatter\"}],\"parcoords\":[{\"type\":\"parcoords\",\"line\":{\"colorbar\":{\"outlinewidth\":0,\"ticks\":\"\"}}}],\"scatterpolargl\":[{\"type\":\"scatterpolargl\",\"marker\":{\"colorbar\":{\"outlinewidth\":0,\"ticks\":\"\"}}}],\"bar\":[{\"error_x\":{\"color\":\"#2a3f5f\"},\"error_y\":{\"color\":\"#2a3f5f\"},\"marker\":{\"line\":{\"color\":\"#E5ECF6\",\"width\":0.5},\"pattern\":{\"fillmode\":\"overlay\",\"size\":10,\"solidity\":0.2}},\"type\":\"bar\"}],\"scattergeo\":[{\"type\":\"scattergeo\",\"marker\":{\"colorbar\":{\"outlinewidth\":0,\"ticks\":\"\"}}}],\"scatterpolar\":[{\"type\":\"scatterpolar\",\"marker\":{\"colorbar\":{\"outlinewidth\":0,\"ticks\":\"\"}}}],\"histogram\":[{\"marker\":{\"pattern\":{\"fillmode\":\"overlay\",\"size\":10,\"solidity\":0.2}},\"type\":\"histogram\"}],\"scattergl\":[{\"type\":\"scattergl\",\"marker\":{\"colorbar\":{\"outlinewidth\":0,\"ticks\":\"\"}}}],\"scatter3d\":[{\"type\":\"scatter3d\",\"line\":{\"colorbar\":{\"outlinewidth\":0,\"ticks\":\"\"}},\"marker\":{\"colorbar\":{\"outlinewidth\":0,\"ticks\":\"\"}}}],\"scattermapbox\":[{\"type\":\"scattermapbox\",\"marker\":{\"colorbar\":{\"outlinewidth\":0,\"ticks\":\"\"}}}],\"scatterternary\":[{\"type\":\"scatterternary\",\"marker\":{\"colorbar\":{\"outlinewidth\":0,\"ticks\":\"\"}}}],\"scattercarpet\":[{\"type\":\"scattercarpet\",\"marker\":{\"colorbar\":{\"outlinewidth\":0,\"ticks\":\"\"}}}],\"carpet\":[{\"aaxis\":{\"endlinecolor\":\"#2a3f5f\",\"gridcolor\":\"white\",\"linecolor\":\"white\",\"minorgridcolor\":\"white\",\"startlinecolor\":\"#2a3f5f\"},\"baxis\":{\"endlinecolor\":\"#2a3f5f\",\"gridcolor\":\"white\",\"linecolor\":\"white\",\"minorgridcolor\":\"white\",\"startlinecolor\":\"#2a3f5f\"},\"type\":\"carpet\"}],\"table\":[{\"cells\":{\"fill\":{\"color\":\"#EBF0F8\"},\"line\":{\"color\":\"white\"}},\"header\":{\"fill\":{\"color\":\"#C8D4E3\"},\"line\":{\"color\":\"white\"}},\"type\":\"table\"}],\"barpolar\":[{\"marker\":{\"line\":{\"color\":\"#E5ECF6\",\"width\":0.5},\"pattern\":{\"fillmode\":\"overlay\",\"size\":10,\"solidity\":0.2}},\"type\":\"barpolar\"}],\"pie\":[{\"automargin\":true,\"type\":\"pie\"}]},\"layout\":{\"autotypenumbers\":\"strict\",\"colorway\":[\"#636efa\",\"#EF553B\",\"#00cc96\",\"#ab63fa\",\"#FFA15A\",\"#19d3f3\",\"#FF6692\",\"#B6E880\",\"#FF97FF\",\"#FECB52\"],\"font\":{\"color\":\"#2a3f5f\"},\"hovermode\":\"closest\",\"hoverlabel\":{\"align\":\"left\"},\"paper_bgcolor\":\"white\",\"plot_bgcolor\":\"#E5ECF6\",\"polar\":{\"bgcolor\":\"#E5ECF6\",\"angularaxis\":{\"gridcolor\":\"white\",\"linecolor\":\"white\",\"ticks\":\"\"},\"radialaxis\":{\"gridcolor\":\"white\",\"linecolor\":\"white\",\"ticks\":\"\"}},\"ternary\":{\"bgcolor\":\"#E5ECF6\",\"aaxis\":{\"gridcolor\":\"white\",\"linecolor\":\"white\",\"ticks\":\"\"},\"baxis\":{\"gridcolor\":\"white\",\"linecolor\":\"white\",\"ticks\":\"\"},\"caxis\":{\"gridcolor\":\"white\",\"linecolor\":\"white\",\"ticks\":\"\"}},\"coloraxis\":{\"colorbar\":{\"outlinewidth\":0,\"ticks\":\"\"}},\"colorscale\":{\"sequential\":[[0.0,\"#0d0887\"],[0.1111111111111111,\"#46039f\"],[0.2222222222222222,\"#7201a8\"],[0.3333333333333333,\"#9c179e\"],[0.4444444444444444,\"#bd3786\"],[0.5555555555555556,\"#d8576b\"],[0.6666666666666666,\"#ed7953\"],[0.7777777777777778,\"#fb9f3a\"],[0.8888888888888888,\"#fdca26\"],[1.0,\"#f0f921\"]],\"sequentialminus\":[[0.0,\"#0d0887\"],[0.1111111111111111,\"#46039f\"],[0.2222222222222222,\"#7201a8\"],[0.3333333333333333,\"#9c179e\"],[0.4444444444444444,\"#bd3786\"],[0.5555555555555556,\"#d8576b\"],[0.6666666666666666,\"#ed7953\"],[0.7777777777777778,\"#fb9f3a\"],[0.8888888888888888,\"#fdca26\"],[1.0,\"#f0f921\"]],\"diverging\":[[0,\"#8e0152\"],[0.1,\"#c51b7d\"],[0.2,\"#de77ae\"],[0.3,\"#f1b6da\"],[0.4,\"#fde0ef\"],[0.5,\"#f7f7f7\"],[0.6,\"#e6f5d0\"],[0.7,\"#b8e186\"],[0.8,\"#7fbc41\"],[0.9,\"#4d9221\"],[1,\"#276419\"]]},\"xaxis\":{\"gridcolor\":\"white\",\"linecolor\":\"white\",\"ticks\":\"\",\"title\":{\"standoff\":15},\"zerolinecolor\":\"white\",\"automargin\":true,\"zerolinewidth\":2},\"yaxis\":{\"gridcolor\":\"white\",\"linecolor\":\"white\",\"ticks\":\"\",\"title\":{\"standoff\":15},\"zerolinecolor\":\"white\",\"automargin\":true,\"zerolinewidth\":2},\"scene\":{\"xaxis\":{\"backgroundcolor\":\"#E5ECF6\",\"gridcolor\":\"white\",\"linecolor\":\"white\",\"showbackground\":true,\"ticks\":\"\",\"zerolinecolor\":\"white\",\"gridwidth\":2},\"yaxis\":{\"backgroundcolor\":\"#E5ECF6\",\"gridcolor\":\"white\",\"linecolor\":\"white\",\"showbackground\":true,\"ticks\":\"\",\"zerolinecolor\":\"white\",\"gridwidth\":2},\"zaxis\":{\"backgroundcolor\":\"#E5ECF6\",\"gridcolor\":\"white\",\"linecolor\":\"white\",\"showbackground\":true,\"ticks\":\"\",\"zerolinecolor\":\"white\",\"gridwidth\":2}},\"shapedefaults\":{\"line\":{\"color\":\"#2a3f5f\"}},\"annotationdefaults\":{\"arrowcolor\":\"#2a3f5f\",\"arrowhead\":0,\"arrowwidth\":1},\"geo\":{\"bgcolor\":\"white\",\"landcolor\":\"#E5ECF6\",\"subunitcolor\":\"white\",\"showland\":true,\"showlakes\":true,\"lakecolor\":\"white\"},\"title\":{\"x\":0.05},\"mapbox\":{\"style\":\"light\"}}},\"xaxis\":{\"anchor\":\"y\",\"domain\":[0.0,1.0],\"tickformat\":\".2s\",\"hoverformat\":\".3s\",\"ticksuffix\":\"s\",\"showgrid\":true,\"title\":{\"text\":\"Time\"},\"tickformatstops\":[{\"dtickrange\":[null,1e-9],\"value\":\".10s\"},{\"dtickrange\":[1e-9,1e-6],\"value\":\".7s\"},{\"dtickrange\":[1e-6,0.001],\"value\":\".4s\"}]},\"yaxis\":{\"anchor\":\"x\",\"domain\":[0.0,1.0],\"tickformat\":\".2s\",\"hoverformat\":\".3s\",\"ticksuffix\":\"V\",\"title\":{\"text\":\"flux\"},\"autorange\":true},\"height\":300,\"width\":1000,\"title\":{\"text\":\"Qubit Reset - Step 4 - fg qc check\"},\"showlegend\":false},                        {\"responsive\": true}                    ).then(function(){\n",
       "                            \n",
       "var gd = document.getElementById('6c0ba284-a42e-4bf2-a244-783c5f64fc87');\n",
       "var x = new MutationObserver(function (mutations, observer) {{\n",
       "        var display = window.getComputedStyle(gd).display;\n",
       "        if (!display || display === 'none') {{\n",
       "            console.log([gd, 'removed!']);\n",
       "            Plotly.purge(gd);\n",
       "            observer.disconnect();\n",
       "        }}\n",
       "}});\n",
       "\n",
       "// Listen for the removal of the full notebook cells\n",
       "var notebookContainer = gd.closest('#notebook-container');\n",
       "if (notebookContainer) {{\n",
       "    x.observe(notebookContainer, {childList: true});\n",
       "}}\n",
       "\n",
       "// Listen for the clearing of the current output cell\n",
       "var outputEl = gd.closest('.output');\n",
       "if (outputEl) {{\n",
       "    x.observe(outputEl, {childList: true});\n",
       "}}\n",
       "\n",
       "                        })                };                });            </script>        </div>"
      ]
     },
     "metadata": {},
     "output_type": "display_data"
    }
   ],
   "source": [
    "# step 4\n",
    "\n",
    "sched = Schedule(\"Qubit Reset - Step 4 - fg qc check\")\n",
    "\n",
    "readout_clock = ClockResource(name=\"q0.ro\", freq=0e9)\n",
    "sched.add_resource(readout_clock)\n",
    "\n",
    "# qc_offset = -10\n",
    "# qc_duration = 0.06e-6\n",
    "# cr_duration = 0.25e-6\n",
    "# amp = duration / target_duration* offset\n",
    "start = sched.add(IdlePulse(duration=4e-6))\n",
    "\n",
    "qc_t = 20e-9\n",
    "qc_amp = -0.025\n",
    "\n",
    "sched.add(\n",
    "    RampPulse(offset=qc_amp, amp=0, duration=qc_t, port=\"flux\", clock=\"q0.ro\")\n",
    ")\n",
    "\n",
    "# for f state\n",
    "qc_t = 250e-9\n",
    "qc_amp = 0.06\n",
    "\n",
    "sched.add(\n",
    "    RampPulse(offset=qc_amp, amp=0, duration=qc_t, port=\"flux\", clock=\"q0.ro\")\n",
    ")\n",
    "\n",
    "qc_t = 20e-9\n",
    "qc_amp = -0.025\n",
    "\n",
    "sched.add(\n",
    "    RampPulse(offset=qc_amp, amp=0, duration=qc_t, port=\"flux\", clock=\"q0.ro\")\n",
    ")\n",
    "\n",
    "comp_sched = device_compiler.compile(sched)\n",
    "comp_sched.plot_pulse_diagram(plot_backend=\"plotly\")"
   ]
  },
  {
   "cell_type": "code",
   "execution_count": 262,
   "id": "7ac0df3b",
   "metadata": {},
   "outputs": [
    {
     "data": {
      "application/vnd.plotly.v1+json": {
       "config": {
        "plotlyServerURL": "https://plot.ly"
       },
       "data": [
        {
         "fill": "tozeroy",
         "hoverinfo": "x+y+name",
         "hoverlabel": {
          "namelength": -1
         },
         "legendgroup": "1",
         "line": {
          "color": "#EF553B"
         },
         "mode": "lines",
         "name": "RampPulse, clock: q0.ro",
         "showlegend": true,
         "type": "scatter",
         "x": [
          0.000004,
          0.0000040009999999999995,
          0.000004001999999999999,
          0.000004002999999999999,
          0.0000040039999999999984,
          0.000004004999999999998,
          0.000004005999999999998,
          0.000004006999999999997,
          0.000004007999999999997,
          0.000004008999999999997,
          0.000004009999999999996,
          0.000004010999999999996,
          0.000004011999999999996,
          0.000004012999999999995,
          0.000004013999999999995,
          0.000004014999999999995,
          0.000004015999999999994,
          0.000004016999999999994,
          0.0000040179999999999935,
          0.000004018999999999993
         ],
         "xaxis": "x",
         "y": [
          -0.025,
          -0.025,
          -0.025,
          -0.025,
          -0.025,
          -0.025,
          -0.025,
          -0.025,
          -0.025,
          -0.025,
          -0.025,
          -0.025,
          -0.025,
          -0.025,
          -0.025,
          -0.025,
          -0.025,
          -0.025,
          -0.025,
          -0.025
         ],
         "yaxis": "y"
        },
        {
         "fill": "tozeroy",
         "hoverinfo": "x+y+name",
         "hoverlabel": {
          "namelength": -1
         },
         "legendgroup": "2",
         "line": {
          "color": "#00CC96"
         },
         "mode": "lines",
         "name": "RampPulse, clock: q0.ro",
         "showlegend": true,
         "type": "scatter",
         "x": [
          0.00000402,
          0.000004020999999999999,
          0.000004021999999999999,
          0.000004022999999999999,
          0.000004023999999999998,
          0.000004024999999999998,
          0.0000040259999999999975,
          0.000004026999999999997,
          0.000004027999999999997,
          0.0000040289999999999965,
          0.000004029999999999996,
          0.000004030999999999996,
          0.0000040319999999999954,
          0.000004032999999999995,
          0.000004033999999999995,
          0.000004034999999999994,
          0.000004035999999999994,
          0.000004036999999999994,
          0.000004037999999999993,
          0.000004038999999999993,
          0.000004039999999999993,
          0.000004040999999999992,
          0.000004041999999999992,
          0.000004042999999999992,
          0.000004043999999999991,
          0.000004044999999999991,
          0.0000040459999999999906,
          0.00000404699999999999,
          0.00000404799999999999,
          0.0000040489999999999895,
          0.000004049999999999989,
          0.000004050999999999989,
          0.0000040519999999999885,
          0.000004052999999999988,
          0.000004053999999999988,
          0.0000040549999999999874,
          0.000004055999999999987,
          0.000004056999999999987,
          0.000004057999999999986,
          0.000004058999999999986,
          0.000004059999999999986,
          0.000004060999999999985,
          0.000004061999999999985,
          0.000004062999999999985,
          0.000004063999999999984,
          0.000004064999999999984,
          0.000004065999999999984,
          0.000004066999999999983,
          0.000004067999999999983,
          0.0000040689999999999826,
          0.000004069999999999982,
          0.000004070999999999982,
          0.0000040719999999999815,
          0.000004072999999999981,
          0.000004073999999999981,
          0.0000040749999999999805,
          0.00000407599999999998,
          0.00000407699999999998,
          0.000004077999999999979,
          0.000004078999999999979,
          0.000004079999999999979,
          0.000004080999999999978,
          0.000004081999999999978,
          0.000004082999999999978,
          0.000004083999999999977,
          0.000004084999999999977,
          0.000004085999999999977,
          0.000004086999999999976,
          0.000004087999999999976,
          0.000004088999999999976,
          0.000004089999999999975,
          0.000004090999999999975,
          0.0000040919999999999745,
          0.000004092999999999974,
          0.000004093999999999974,
          0.0000040949999999999735,
          0.000004095999999999973,
          0.000004096999999999973,
          0.0000040979999999999725,
          0.000004098999999999972,
          0.000004099999999999972,
          0.000004100999999999971,
          0.000004101999999999971,
          0.000004102999999999971,
          0.00000410399999999997,
          0.00000410499999999997,
          0.00000410599999999997,
          0.000004106999999999969,
          0.000004107999999999969,
          0.000004108999999999969,
          0.000004109999999999968,
          0.000004110999999999968,
          0.0000041119999999999676,
          0.000004112999999999967,
          0.000004113999999999967,
          0.0000041149999999999665,
          0.000004115999999999966,
          0.000004116999999999966,
          0.0000041179999999999655,
          0.000004118999999999965,
          0.000004119999999999965,
          0.0000041209999999999644,
          0.000004121999999999964,
          0.000004122999999999964,
          0.000004123999999999963,
          0.000004124999999999963,
          0.000004125999999999963,
          0.000004126999999999962,
          0.000004127999999999962,
          0.000004128999999999962,
          0.000004129999999999961,
          0.000004130999999999961,
          0.000004131999999999961,
          0.00000413299999999996,
          0.00000413399999999996,
          0.0000041349999999999596,
          0.000004135999999999959,
          0.000004136999999999959,
          0.0000041379999999999585,
          0.000004138999999999958,
          0.000004139999999999958,
          0.0000041409999999999575,
          0.000004141999999999957,
          0.000004142999999999957,
          0.0000041439999999999564,
          0.000004144999999999956,
          0.000004145999999999956,
          0.000004146999999999955,
          0.000004147999999999955,
          0.000004148999999999955,
          0.000004149999999999954,
          0.000004150999999999954,
          0.000004151999999999954,
          0.000004152999999999953,
          0.000004153999999999953,
          0.000004154999999999953,
          0.000004155999999999952,
          0.000004156999999999952,
          0.0000041579999999999516,
          0.000004158999999999951,
          0.000004159999999999951,
          0.0000041609999999999505,
          0.00000416199999999995,
          0.00000416299999999995,
          0.0000041639999999999495,
          0.000004164999999999949,
          0.000004165999999999949,
          0.000004166999999999948,
          0.000004167999999999948,
          0.000004168999999999948,
          0.000004169999999999947,
          0.000004170999999999947,
          0.000004171999999999947,
          0.000004172999999999946,
          0.000004173999999999946,
          0.000004174999999999946,
          0.000004175999999999945,
          0.000004176999999999945,
          0.000004177999999999945,
          0.000004178999999999944,
          0.000004179999999999944,
          0.0000041809999999999435,
          0.000004181999999999943,
          0.000004182999999999943,
          0.0000041839999999999425,
          0.000004184999999999942,
          0.000004185999999999942,
          0.0000041869999999999414,
          0.000004187999999999941,
          0.000004188999999999941,
          0.00000418999999999994,
          0.00000419099999999994,
          0.00000419199999999994,
          0.000004192999999999939,
          0.000004193999999999939,
          0.000004194999999999939,
          0.000004195999999999938,
          0.000004196999999999938,
          0.000004197999999999938,
          0.000004198999999999937,
          0.000004199999999999937,
          0.0000042009999999999366,
          0.000004201999999999936,
          0.000004202999999999936,
          0.0000042039999999999355,
          0.000004204999999999935,
          0.000004205999999999935,
          0.0000042069999999999345,
          0.000004207999999999934,
          0.000004208999999999934,
          0.0000042099999999999334,
          0.000004210999999999933,
          0.000004211999999999933,
          0.000004212999999999932,
          0.000004213999999999932,
          0.000004214999999999932,
          0.000004215999999999931,
          0.000004216999999999931,
          0.000004217999999999931,
          0.00000421899999999993,
          0.00000421999999999993,
          0.00000422099999999993,
          0.000004221999999999929,
          0.000004222999999999929,
          0.0000042239999999999286,
          0.000004224999999999928,
          0.000004225999999999928,
          0.0000042269999999999275,
          0.000004227999999999927,
          0.000004228999999999927,
          0.0000042299999999999265,
          0.000004230999999999926,
          0.000004231999999999926,
          0.000004232999999999925,
          0.000004233999999999925,
          0.000004234999999999925,
          0.000004235999999999924,
          0.000004236999999999924,
          0.000004237999999999924,
          0.000004238999999999923,
          0.000004239999999999923,
          0.000004240999999999923,
          0.000004241999999999922,
          0.000004242999999999922,
          0.000004243999999999922,
          0.000004244999999999921,
          0.000004245999999999921,
          0.0000042469999999999205,
          0.00000424799999999992,
          0.00000424899999999992,
          0.0000042499999999999195,
          0.000004250999999999919,
          0.000004251999999999919,
          0.0000042529999999999185,
          0.000004253999999999918,
          0.000004254999999999918,
          0.000004255999999999917,
          0.000004256999999999917,
          0.000004257999999999917,
          0.000004258999999999916,
          0.000004259999999999916,
          0.000004260999999999916,
          0.000004261999999999915,
          0.000004262999999999915,
          0.000004263999999999915,
          0.000004264999999999914,
          0.000004265999999999914,
          0.0000042669999999999136,
          0.000004267999999999913,
          0.000004268999999999913,
          0.0000042699999999999125
         ],
         "xaxis": "x",
         "y": [
          0.06,
          0.06,
          0.06,
          0.06,
          0.06,
          0.06,
          0.06,
          0.06,
          0.06,
          0.06,
          0.06,
          0.06,
          0.06,
          0.06,
          0.06,
          0.06,
          0.06,
          0.06,
          0.06,
          0.06,
          0.06,
          0.06,
          0.06,
          0.06,
          0.06,
          0.06,
          0.06,
          0.06,
          0.06,
          0.06,
          0.06,
          0.06,
          0.06,
          0.06,
          0.06,
          0.06,
          0.06,
          0.06,
          0.06,
          0.06,
          0.06,
          0.06,
          0.06,
          0.06,
          0.06,
          0.06,
          0.06,
          0.06,
          0.06,
          0.06,
          0.06,
          0.06,
          0.06,
          0.06,
          0.06,
          0.06,
          0.06,
          0.06,
          0.06,
          0.06,
          0.06,
          0.06,
          0.06,
          0.06,
          0.06,
          0.06,
          0.06,
          0.06,
          0.06,
          0.06,
          0.06,
          0.06,
          0.06,
          0.06,
          0.06,
          0.06,
          0.06,
          0.06,
          0.06,
          0.06,
          0.06,
          0.06,
          0.06,
          0.06,
          0.06,
          0.06,
          0.06,
          0.06,
          0.06,
          0.06,
          0.06,
          0.06,
          0.06,
          0.06,
          0.06,
          0.06,
          0.06,
          0.06,
          0.06,
          0.06,
          0.06,
          0.06,
          0.06,
          0.06,
          0.06,
          0.06,
          0.06,
          0.06,
          0.06,
          0.06,
          0.06,
          0.06,
          0.06,
          0.06,
          0.06,
          0.06,
          0.06,
          0.06,
          0.06,
          0.06,
          0.06,
          0.06,
          0.06,
          0.06,
          0.06,
          0.06,
          0.06,
          0.06,
          0.06,
          0.06,
          0.06,
          0.06,
          0.06,
          0.06,
          0.06,
          0.06,
          0.06,
          0.06,
          0.06,
          0.06,
          0.06,
          0.06,
          0.06,
          0.06,
          0.06,
          0.06,
          0.06,
          0.06,
          0.06,
          0.06,
          0.06,
          0.06,
          0.06,
          0.06,
          0.06,
          0.06,
          0.06,
          0.06,
          0.06,
          0.06,
          0.06,
          0.06,
          0.06,
          0.06,
          0.06,
          0.06,
          0.06,
          0.06,
          0.06,
          0.06,
          0.06,
          0.06,
          0.06,
          0.06,
          0.06,
          0.06,
          0.06,
          0.06,
          0.06,
          0.06,
          0.06,
          0.06,
          0.06,
          0.06,
          0.06,
          0.06,
          0.06,
          0.06,
          0.06,
          0.06,
          0.06,
          0.06,
          0.06,
          0.06,
          0.06,
          0.06,
          0.06,
          0.06,
          0.06,
          0.06,
          0.06,
          0.06,
          0.06,
          0.06,
          0.06,
          0.06,
          0.06,
          0.06,
          0.06,
          0.06,
          0.06,
          0.06,
          0.06,
          0.06,
          0.06,
          0.06,
          0.06,
          0.06,
          0.06,
          0.06,
          0.06,
          0.06,
          0.06,
          0.06,
          0.06,
          0.06,
          0.06,
          0.06,
          0.06,
          0.06,
          0.06,
          0.06,
          0.06,
          0.06,
          0.06,
          0.06,
          0.06,
          0.06,
          0.06,
          0.06,
          0.06,
          0.06,
          0.06,
          0.06,
          0.06,
          0.06,
          0.06,
          0.06,
          0.06,
          0.06,
          0.06
         ],
         "yaxis": "y"
        },
        {
         "fill": "tozeroy",
         "hoverinfo": "x+y+name",
         "hoverlabel": {
          "namelength": -1
         },
         "legendgroup": "3",
         "line": {
          "color": "#AB63FA"
         },
         "mode": "lines",
         "name": "RampPulse, clock: q0.ro",
         "showlegend": true,
         "type": "scatter",
         "x": [
          0.00000427,
          0.0000042709999999999994,
          0.000004271999999999999,
          0.000004272999999999999,
          0.000004273999999999998,
          0.000004274999999999998,
          0.000004275999999999998,
          0.000004276999999999997,
          0.000004277999999999997,
          0.000004278999999999997,
          0.000004279999999999996,
          0.000004280999999999996,
          0.000004281999999999996,
          0.000004282999999999995,
          0.000004283999999999995,
          0.0000042849999999999945,
          0.000004285999999999994,
          0.000004286999999999994,
          0.0000042879999999999935,
          0.000004288999999999993
         ],
         "xaxis": "x",
         "y": [
          -0.025,
          -0.02375,
          -0.022500000000000003,
          -0.02125,
          -0.02,
          -0.018750000000000003,
          -0.0175,
          -0.01625,
          -0.015000000000000001,
          -0.013750000000000002,
          -0.0125,
          -0.011250000000000001,
          -0.010000000000000002,
          -0.00875,
          -0.0075,
          -0.006250000000000002,
          -0.005000000000000001,
          -0.00375,
          -0.0025000000000000022,
          -0.0012500000000000011
         ],
         "yaxis": "y"
        },
        {
         "fill": "tozeroy",
         "hoverinfo": "x+y+name",
         "hoverlabel": {
          "namelength": -1
         },
         "legendgroup": "4",
         "line": {
          "color": "#FFA15A"
         },
         "mode": "lines",
         "name": "RampPulse, clock: q0.ro",
         "showlegend": true,
         "type": "scatter",
         "x": [
          0.00000429,
          0.000004290999999999999,
          0.000004291999999999999,
          0.0000042929999999999985,
          0.000004293999999999998,
          0.000004294999999999998,
          0.0000042959999999999975,
          0.000004296999999999997,
          0.000004297999999999997,
          0.0000042989999999999964,
          0.000004299999999999996,
          0.000004300999999999996,
          0.000004301999999999995,
          0.000004302999999999995,
          0.000004303999999999995,
          0.000004304999999999994,
          0.000004305999999999994,
          0.000004306999999999994,
          0.000004307999999999993,
          0.000004308999999999993,
          0.000004309999999999993,
          0.000004310999999999992,
          0.000004311999999999992,
          0.0000043129999999999916,
          0.000004313999999999991,
          0.000004314999999999991,
          0.0000043159999999999905,
          0.00000431699999999999,
          0.00000431799999999999,
          0.0000043189999999999895,
          0.000004319999999999989,
          0.000004320999999999989,
          0.0000043219999999999884,
          0.000004322999999999988,
          0.000004323999999999988,
          0.000004324999999999987,
          0.000004325999999999987,
          0.000004326999999999987,
          0.000004327999999999986,
          0.000004328999999999986,
          0.000004329999999999986,
          0.000004330999999999985,
          0.000004331999999999985,
          0.000004332999999999985,
          0.000004333999999999984,
          0.000004334999999999984,
          0.0000043359999999999836,
          0.000004336999999999983,
          0.000004337999999999983,
          0.0000043389999999999825,
          0.000004339999999999982,
          0.000004340999999999982,
          0.0000043419999999999815,
          0.000004342999999999981,
          0.000004343999999999981,
          0.00000434499999999998,
          0.00000434599999999998,
          0.00000434699999999998,
          0.000004347999999999979,
          0.000004348999999999979,
          0.000004349999999999979,
          0.000004350999999999978,
          0.000004351999999999978,
          0.000004352999999999978,
          0.000004353999999999977,
          0.000004354999999999977,
          0.000004355999999999977,
          0.000004356999999999976,
          0.000004357999999999976,
          0.0000043589999999999755,
          0.000004359999999999975,
          0.000004360999999999975,
          0.0000043619999999999745,
          0.000004362999999999974,
          0.000004363999999999974,
          0.0000043649999999999735,
          0.000004365999999999973,
          0.000004366999999999973,
          0.000004367999999999972,
          0.000004368999999999972,
          0.000004369999999999972,
          0.000004370999999999971,
          0.000004371999999999971,
          0.000004372999999999971,
          0.00000437399999999997,
          0.00000437499999999997,
          0.00000437599999999997,
          0.000004376999999999969,
          0.000004377999999999969,
          0.000004378999999999969,
          0.000004379999999999968,
          0.000004380999999999968,
          0.0000043819999999999675,
          0.000004382999999999967,
          0.000004383999999999967,
          0.0000043849999999999665,
          0.000004385999999999966,
          0.000004386999999999966,
          0.0000043879999999999654,
          0.000004388999999999965,
          0.000004389999999999965,
          0.000004390999999999964,
          0.000004391999999999964,
          0.000004392999999999964,
          0.000004393999999999963,
          0.000004394999999999963,
          0.000004395999999999963,
          0.000004396999999999962,
          0.000004397999999999962,
          0.000004398999999999962,
          0.000004399999999999961,
          0.000004400999999999961,
          0.0000044019999999999606,
          0.00000440299999999996,
          0.00000440399999999996,
          0.0000044049999999999595,
          0.000004405999999999959,
          0.000004406999999999959,
          0.0000044079999999999585,
          0.000004408999999999958,
          0.000004409999999999958,
          0.0000044109999999999574,
          0.000004411999999999957,
          0.000004412999999999957,
          0.000004413999999999956,
          0.000004414999999999956,
          0.000004415999999999956,
          0.000004416999999999955,
          0.000004417999999999955,
          0.000004418999999999955,
          0.000004419999999999954,
          0.000004420999999999954,
          0.000004421999999999954,
          0.000004422999999999953,
          0.000004423999999999953,
          0.0000044249999999999526,
          0.000004425999999999952,
          0.000004426999999999952,
          0.0000044279999999999515,
          0.000004428999999999951,
          0.000004429999999999951,
          0.0000044309999999999505,
          0.00000443199999999995,
          0.00000443299999999995,
          0.000004433999999999949,
          0.000004434999999999949,
          0.000004435999999999949,
          0.000004436999999999948,
          0.000004437999999999948,
          0.000004438999999999948,
          0.000004439999999999947,
          0.000004440999999999947,
          0.000004441999999999947,
          0.000004442999999999946,
          0.000004443999999999946,
          0.000004444999999999946,
          0.000004445999999999945,
          0.000004446999999999945,
          0.0000044479999999999445,
          0.000004448999999999944,
          0.000004449999999999944,
          0.0000044509999999999435,
          0.000004451999999999943,
          0.000004452999999999943,
          0.0000044539999999999424,
          0.000004454999999999942,
          0.000004455999999999942,
          0.000004456999999999941,
          0.000004457999999999941,
          0.000004458999999999941,
          0.00000445999999999994,
          0.00000446099999999994,
          0.00000446199999999994,
          0.000004462999999999939,
          0.000004463999999999939,
          0.000004464999999999939,
          0.000004465999999999938,
          0.000004466999999999938,
          0.0000044679999999999376,
          0.000004468999999999937,
          0.000004469999999999937,
          0.0000044709999999999365,
          0.000004471999999999936,
          0.000004472999999999936,
          0.0000044739999999999355,
          0.000004474999999999935,
          0.000004475999999999935,
          0.0000044769999999999344,
          0.000004477999999999934,
          0.000004478999999999934,
          0.000004479999999999933,
          0.000004480999999999933,
          0.000004481999999999933,
          0.000004482999999999932,
          0.000004483999999999932,
          0.000004484999999999932,
          0.000004485999999999931,
          0.000004486999999999931,
          0.000004487999999999931,
          0.00000448899999999993
         ],
         "xaxis": "x",
         "y": [
          0.05,
          0.05,
          0.05,
          0.05,
          0.05,
          0.05,
          0.05,
          0.05,
          0.05,
          0.05,
          0.05,
          0.05,
          0.05,
          0.05,
          0.05,
          0.05,
          0.05,
          0.05,
          0.05,
          0.05,
          0.05,
          0.05,
          0.05,
          0.05,
          0.05,
          0.05,
          0.05,
          0.05,
          0.05,
          0.05,
          0.05,
          0.05,
          0.05,
          0.05,
          0.05,
          0.05,
          0.05,
          0.05,
          0.05,
          0.05,
          0.05,
          0.05,
          0.05,
          0.05,
          0.05,
          0.05,
          0.05,
          0.05,
          0.05,
          0.05,
          0.05,
          0.05,
          0.05,
          0.05,
          0.05,
          0.05,
          0.05,
          0.05,
          0.05,
          0.05,
          0.05,
          0.05,
          0.05,
          0.05,
          0.05,
          0.05,
          0.05,
          0.05,
          0.05,
          0.05,
          0.05,
          0.05,
          0.05,
          0.05,
          0.05,
          0.05,
          0.05,
          0.05,
          0.05,
          0.05,
          0.05,
          0.05,
          0.05,
          0.05,
          0.05,
          0.05,
          0.05,
          0.05,
          0.05,
          0.05,
          0.05,
          0.05,
          0.05,
          0.05,
          0.05,
          0.05,
          0.05,
          0.05,
          0.05,
          0.05,
          0.05,
          0.05,
          0.05,
          0.05,
          0.05,
          0.05,
          0.05,
          0.05,
          0.05,
          0.05,
          0.05,
          0.05,
          0.05,
          0.05,
          0.05,
          0.05,
          0.05,
          0.05,
          0.05,
          0.05,
          0.05,
          0.05,
          0.05,
          0.05,
          0.05,
          0.05,
          0.05,
          0.05,
          0.05,
          0.05,
          0.05,
          0.05,
          0.05,
          0.05,
          0.05,
          0.05,
          0.05,
          0.05,
          0.05,
          0.05,
          0.05,
          0.05,
          0.05,
          0.05,
          0.05,
          0.05,
          0.05,
          0.05,
          0.05,
          0.05,
          0.05,
          0.05,
          0.05,
          0.05,
          0.05,
          0.05,
          0.05,
          0.05,
          0.05,
          0.05,
          0.05,
          0.05,
          0.05,
          0.05,
          0.05,
          0.05,
          0.05,
          0.05,
          0.05,
          0.05,
          0.05,
          0.05,
          0.05,
          0.05,
          0.05,
          0.05,
          0.05,
          0.05,
          0.05,
          0.05,
          0.05,
          0.05,
          0.05,
          0.05,
          0.05,
          0.05,
          0.05,
          0.05,
          0.05,
          0.05,
          0.05,
          0.05,
          0.05,
          0.05,
          0.05,
          0.05,
          0.05,
          0.05,
          0.05,
          0.05
         ],
         "yaxis": "y"
        },
        {
         "fill": "tozeroy",
         "hoverinfo": "x+y+name",
         "hoverlabel": {
          "namelength": -1
         },
         "legendgroup": "5",
         "line": {
          "color": "#19D3F3"
         },
         "mode": "lines",
         "name": "RampPulse, clock: q0.ro",
         "showlegend": true,
         "type": "scatter",
         "x": [
          0.000004489999999999999,
          0.000004490999999999999,
          0.000004491999999999999,
          0.000004492999999999998,
          0.000004493999999999998,
          0.000004494999999999998,
          0.000004495999999999997,
          0.000004496999999999997,
          0.0000044979999999999966,
          0.000004498999999999996,
          0.000004499999999999996,
          0.0000045009999999999955,
          0.000004501999999999995,
          0.000004502999999999995,
          0.0000045039999999999945,
          0.000004504999999999994,
          0.000004505999999999994,
          0.0000045069999999999934,
          0.000004507999999999993,
          0.000004508999999999993,
          0.000004509999999999992,
          0.000004510999999999992,
          0.000004511999999999992,
          0.000004512999999999991,
          0.000004513999999999991,
          0.000004514999999999991,
          0.00000451599999999999,
          0.00000451699999999999,
          0.00000451799999999999,
          0.000004518999999999989,
          0.000004519999999999989,
          0.0000045209999999999886,
          0.000004521999999999988,
          0.000004522999999999988,
          0.0000045239999999999875,
          0.000004524999999999987,
          0.000004525999999999987,
          0.0000045269999999999865,
          0.000004527999999999986,
          0.000004528999999999986,
          0.0000045299999999999854,
          0.000004530999999999985,
          0.000004531999999999985,
          0.000004532999999999984,
          0.000004533999999999984,
          0.000004534999999999984,
          0.000004535999999999983,
          0.000004536999999999983,
          0.000004537999999999983,
          0.000004538999999999982,
          0.000004539999999999982,
          0.000004540999999999982,
          0.000004541999999999981,
          0.000004542999999999981,
          0.0000045439999999999805,
          0.00000454499999999998,
          0.00000454599999999998,
          0.0000045469999999999795,
          0.000004547999999999979,
          0.000004548999999999979,
          0.0000045499999999999785,
          0.000004550999999999978,
          0.000004551999999999978,
          0.000004552999999999977,
          0.000004553999999999977,
          0.000004554999999999977,
          0.000004555999999999976,
          0.000004556999999999976,
          0.000004557999999999976,
          0.000004558999999999975,
          0.000004559999999999975,
          0.000004560999999999975,
          0.000004561999999999974,
          0.000004562999999999974,
          0.000004563999999999974,
          0.000004564999999999973,
          0.000004565999999999973,
          0.0000045669999999999725,
          0.000004567999999999972,
          0.000004568999999999972,
          0.0000045699999999999715,
          0.000004570999999999971,
          0.000004571999999999971,
          0.0000045729999999999704,
          0.00000457399999999997,
          0.00000457499999999997,
          0.000004575999999999969,
          0.000004576999999999969,
          0.000004577999999999969,
          0.000004578999999999968,
          0.000004579999999999968,
          0.000004580999999999968,
          0.000004581999999999967,
          0.000004582999999999967,
          0.000004583999999999967,
          0.000004584999999999966,
          0.000004585999999999966,
          0.0000045869999999999656,
          0.000004587999999999965,
          0.000004588999999999965,
          0.0000045899999999999645,
          0.000004590999999999964,
          0.000004591999999999964,
          0.0000045929999999999635,
          0.000004593999999999963,
          0.000004594999999999963,
          0.0000045959999999999624,
          0.000004596999999999962,
          0.000004597999999999962,
          0.000004598999999999961,
          0.000004599999999999961,
          0.000004600999999999961,
          0.00000460199999999996,
          0.00000460299999999996,
          0.00000460399999999996,
          0.000004604999999999959,
          0.000004605999999999959,
          0.000004606999999999959,
          0.000004607999999999958,
          0.000004608999999999958,
          0.0000046099999999999576,
          0.000004610999999999957,
          0.000004611999999999957,
          0.0000046129999999999565,
          0.000004613999999999956,
          0.000004614999999999956,
          0.0000046159999999999555,
          0.000004616999999999955,
          0.000004617999999999955,
          0.000004618999999999954,
          0.000004619999999999954,
          0.000004620999999999954,
          0.000004621999999999953,
          0.000004622999999999953,
          0.000004623999999999953,
          0.000004624999999999952,
          0.000004625999999999952,
          0.000004626999999999952,
          0.000004627999999999951,
          0.000004628999999999951,
          0.000004629999999999951,
          0.00000463099999999995,
          0.00000463199999999995,
          0.0000046329999999999495,
          0.000004633999999999949,
          0.000004634999999999949,
          0.0000046359999999999485,
          0.000004636999999999948,
          0.000004637999999999948,
          0.0000046389999999999475,
          0.000004639999999999947,
          0.000004640999999999947,
          0.000004641999999999946,
          0.000004642999999999946,
          0.000004643999999999946,
          0.000004644999999999945,
          0.000004645999999999945,
          0.000004646999999999945,
          0.000004647999999999944,
          0.000004648999999999944,
          0.000004649999999999944,
          0.000004650999999999943,
          0.000004651999999999943,
          0.0000046529999999999426,
          0.000004653999999999942,
          0.000004654999999999942,
          0.0000046559999999999415,
          0.000004656999999999941,
          0.000004657999999999941,
          0.0000046589999999999405,
          0.00000465999999999994,
          0.00000466099999999994,
          0.0000046619999999999394,
          0.000004662999999999939,
          0.000004663999999999939,
          0.000004664999999999938,
          0.000004665999999999938,
          0.000004666999999999938,
          0.000004667999999999937,
          0.000004668999999999937,
          0.000004669999999999937,
          0.000004670999999999936,
          0.000004671999999999936,
          0.000004672999999999936,
          0.000004673999999999935,
          0.000004674999999999935,
          0.0000046759999999999346,
          0.000004676999999999934,
          0.000004677999999999934,
          0.0000046789999999999335,
          0.000004679999999999933,
          0.000004680999999999933,
          0.0000046819999999999325,
          0.000004682999999999932,
          0.000004683999999999932,
          0.0000046849999999999314,
          0.000004685999999999931,
          0.000004686999999999931,
          0.00000468799999999993,
          0.00000468899999999993,
          0.00000468999999999993,
          0.000004690999999999929,
          0.000004691999999999929,
          0.000004692999999999929,
          0.000004693999999999928,
          0.000004694999999999928,
          0.000004695999999999928,
          0.000004696999999999927,
          0.000004697999999999927,
          0.0000046989999999999265,
          0.000004699999999999926,
          0.000004700999999999926,
          0.0000047019999999999255,
          0.000004702999999999925,
          0.000004703999999999925,
          0.0000047049999999999245,
          0.000004705999999999924,
          0.000004706999999999924,
          0.000004707999999999923,
          0.000004708999999999923,
          0.000004709999999999923,
          0.000004710999999999922,
          0.000004711999999999922,
          0.000004712999999999922,
          0.000004713999999999921,
          0.000004714999999999921,
          0.000004715999999999921,
          0.00000471699999999992,
          0.00000471799999999992,
          0.00000471899999999992,
          0.000004719999999999919,
          0.000004720999999999919,
          0.0000047219999999999185,
          0.000004722999999999918,
          0.000004723999999999918,
          0.0000047249999999999175,
          0.000004725999999999917,
          0.000004726999999999917,
          0.0000047279999999999164,
          0.000004728999999999916,
          0.000004729999999999916,
          0.000004730999999999915,
          0.000004731999999999915,
          0.000004732999999999915,
          0.000004733999999999914,
          0.000004734999999999914,
          0.000004735999999999914,
          0.000004736999999999913,
          0.000004737999999999913,
          0.000004738999999999913,
          0.000004739999999999912
         ],
         "xaxis": "x",
         "y": [
          0.06,
          0.06,
          0.06,
          0.06,
          0.06,
          0.06,
          0.06,
          0.06,
          0.06,
          0.06,
          0.06,
          0.06,
          0.06,
          0.06,
          0.06,
          0.06,
          0.06,
          0.06,
          0.06,
          0.06,
          0.06,
          0.06,
          0.06,
          0.06,
          0.06,
          0.06,
          0.06,
          0.06,
          0.06,
          0.06,
          0.06,
          0.06,
          0.06,
          0.06,
          0.06,
          0.06,
          0.06,
          0.06,
          0.06,
          0.06,
          0.06,
          0.06,
          0.06,
          0.06,
          0.06,
          0.06,
          0.06,
          0.06,
          0.06,
          0.06,
          0.06,
          0.06,
          0.06,
          0.06,
          0.06,
          0.06,
          0.06,
          0.06,
          0.06,
          0.06,
          0.06,
          0.06,
          0.06,
          0.06,
          0.06,
          0.06,
          0.06,
          0.06,
          0.06,
          0.06,
          0.06,
          0.06,
          0.06,
          0.06,
          0.06,
          0.06,
          0.06,
          0.06,
          0.06,
          0.06,
          0.06,
          0.06,
          0.06,
          0.06,
          0.06,
          0.06,
          0.06,
          0.06,
          0.06,
          0.06,
          0.06,
          0.06,
          0.06,
          0.06,
          0.06,
          0.06,
          0.06,
          0.06,
          0.06,
          0.06,
          0.06,
          0.06,
          0.06,
          0.06,
          0.06,
          0.06,
          0.06,
          0.06,
          0.06,
          0.06,
          0.06,
          0.06,
          0.06,
          0.06,
          0.06,
          0.06,
          0.06,
          0.06,
          0.06,
          0.06,
          0.06,
          0.06,
          0.06,
          0.06,
          0.06,
          0.06,
          0.06,
          0.06,
          0.06,
          0.06,
          0.06,
          0.06,
          0.06,
          0.06,
          0.06,
          0.06,
          0.06,
          0.06,
          0.06,
          0.06,
          0.06,
          0.06,
          0.06,
          0.06,
          0.06,
          0.06,
          0.06,
          0.06,
          0.06,
          0.06,
          0.06,
          0.06,
          0.06,
          0.06,
          0.06,
          0.06,
          0.06,
          0.06,
          0.06,
          0.06,
          0.06,
          0.06,
          0.06,
          0.06,
          0.06,
          0.06,
          0.06,
          0.06,
          0.06,
          0.06,
          0.06,
          0.06,
          0.06,
          0.06,
          0.06,
          0.06,
          0.06,
          0.06,
          0.06,
          0.06,
          0.06,
          0.06,
          0.06,
          0.06,
          0.06,
          0.06,
          0.06,
          0.06,
          0.06,
          0.06,
          0.06,
          0.06,
          0.06,
          0.06,
          0.06,
          0.06,
          0.06,
          0.06,
          0.06,
          0.06,
          0.06,
          0.06,
          0.06,
          0.06,
          0.06,
          0.06,
          0.06,
          0.06,
          0.06,
          0.06,
          0.06,
          0.06,
          0.06,
          0.06,
          0.06,
          0.06,
          0.06,
          0.06,
          0.06,
          0.06,
          0.06,
          0.06,
          0.06,
          0.06,
          0.06,
          0.06,
          0.06,
          0.06,
          0.06,
          0.06,
          0.06,
          0.06,
          0.06,
          0.06,
          0.06,
          0.06,
          0.06,
          0.06,
          0.06,
          0.06,
          0.06,
          0.06,
          0.06,
          0.06,
          0.06,
          0.06,
          0.06,
          0.06,
          0.06,
          0.06,
          0.06
         ],
         "yaxis": "y"
        }
       ],
       "layout": {
        "height": 300,
        "showlegend": false,
        "template": {
         "data": {
          "bar": [
           {
            "error_x": {
             "color": "#2a3f5f"
            },
            "error_y": {
             "color": "#2a3f5f"
            },
            "marker": {
             "line": {
              "color": "#E5ECF6",
              "width": 0.5
             },
             "pattern": {
              "fillmode": "overlay",
              "size": 10,
              "solidity": 0.2
             }
            },
            "type": "bar"
           }
          ],
          "barpolar": [
           {
            "marker": {
             "line": {
              "color": "#E5ECF6",
              "width": 0.5
             },
             "pattern": {
              "fillmode": "overlay",
              "size": 10,
              "solidity": 0.2
             }
            },
            "type": "barpolar"
           }
          ],
          "carpet": [
           {
            "aaxis": {
             "endlinecolor": "#2a3f5f",
             "gridcolor": "white",
             "linecolor": "white",
             "minorgridcolor": "white",
             "startlinecolor": "#2a3f5f"
            },
            "baxis": {
             "endlinecolor": "#2a3f5f",
             "gridcolor": "white",
             "linecolor": "white",
             "minorgridcolor": "white",
             "startlinecolor": "#2a3f5f"
            },
            "type": "carpet"
           }
          ],
          "choropleth": [
           {
            "colorbar": {
             "outlinewidth": 0,
             "ticks": ""
            },
            "type": "choropleth"
           }
          ],
          "contour": [
           {
            "colorbar": {
             "outlinewidth": 0,
             "ticks": ""
            },
            "colorscale": [
             [
              0,
              "#0d0887"
             ],
             [
              0.1111111111111111,
              "#46039f"
             ],
             [
              0.2222222222222222,
              "#7201a8"
             ],
             [
              0.3333333333333333,
              "#9c179e"
             ],
             [
              0.4444444444444444,
              "#bd3786"
             ],
             [
              0.5555555555555556,
              "#d8576b"
             ],
             [
              0.6666666666666666,
              "#ed7953"
             ],
             [
              0.7777777777777778,
              "#fb9f3a"
             ],
             [
              0.8888888888888888,
              "#fdca26"
             ],
             [
              1,
              "#f0f921"
             ]
            ],
            "type": "contour"
           }
          ],
          "contourcarpet": [
           {
            "colorbar": {
             "outlinewidth": 0,
             "ticks": ""
            },
            "type": "contourcarpet"
           }
          ],
          "heatmap": [
           {
            "colorbar": {
             "outlinewidth": 0,
             "ticks": ""
            },
            "colorscale": [
             [
              0,
              "#0d0887"
             ],
             [
              0.1111111111111111,
              "#46039f"
             ],
             [
              0.2222222222222222,
              "#7201a8"
             ],
             [
              0.3333333333333333,
              "#9c179e"
             ],
             [
              0.4444444444444444,
              "#bd3786"
             ],
             [
              0.5555555555555556,
              "#d8576b"
             ],
             [
              0.6666666666666666,
              "#ed7953"
             ],
             [
              0.7777777777777778,
              "#fb9f3a"
             ],
             [
              0.8888888888888888,
              "#fdca26"
             ],
             [
              1,
              "#f0f921"
             ]
            ],
            "type": "heatmap"
           }
          ],
          "heatmapgl": [
           {
            "colorbar": {
             "outlinewidth": 0,
             "ticks": ""
            },
            "colorscale": [
             [
              0,
              "#0d0887"
             ],
             [
              0.1111111111111111,
              "#46039f"
             ],
             [
              0.2222222222222222,
              "#7201a8"
             ],
             [
              0.3333333333333333,
              "#9c179e"
             ],
             [
              0.4444444444444444,
              "#bd3786"
             ],
             [
              0.5555555555555556,
              "#d8576b"
             ],
             [
              0.6666666666666666,
              "#ed7953"
             ],
             [
              0.7777777777777778,
              "#fb9f3a"
             ],
             [
              0.8888888888888888,
              "#fdca26"
             ],
             [
              1,
              "#f0f921"
             ]
            ],
            "type": "heatmapgl"
           }
          ],
          "histogram": [
           {
            "marker": {
             "pattern": {
              "fillmode": "overlay",
              "size": 10,
              "solidity": 0.2
             }
            },
            "type": "histogram"
           }
          ],
          "histogram2d": [
           {
            "colorbar": {
             "outlinewidth": 0,
             "ticks": ""
            },
            "colorscale": [
             [
              0,
              "#0d0887"
             ],
             [
              0.1111111111111111,
              "#46039f"
             ],
             [
              0.2222222222222222,
              "#7201a8"
             ],
             [
              0.3333333333333333,
              "#9c179e"
             ],
             [
              0.4444444444444444,
              "#bd3786"
             ],
             [
              0.5555555555555556,
              "#d8576b"
             ],
             [
              0.6666666666666666,
              "#ed7953"
             ],
             [
              0.7777777777777778,
              "#fb9f3a"
             ],
             [
              0.8888888888888888,
              "#fdca26"
             ],
             [
              1,
              "#f0f921"
             ]
            ],
            "type": "histogram2d"
           }
          ],
          "histogram2dcontour": [
           {
            "colorbar": {
             "outlinewidth": 0,
             "ticks": ""
            },
            "colorscale": [
             [
              0,
              "#0d0887"
             ],
             [
              0.1111111111111111,
              "#46039f"
             ],
             [
              0.2222222222222222,
              "#7201a8"
             ],
             [
              0.3333333333333333,
              "#9c179e"
             ],
             [
              0.4444444444444444,
              "#bd3786"
             ],
             [
              0.5555555555555556,
              "#d8576b"
             ],
             [
              0.6666666666666666,
              "#ed7953"
             ],
             [
              0.7777777777777778,
              "#fb9f3a"
             ],
             [
              0.8888888888888888,
              "#fdca26"
             ],
             [
              1,
              "#f0f921"
             ]
            ],
            "type": "histogram2dcontour"
           }
          ],
          "mesh3d": [
           {
            "colorbar": {
             "outlinewidth": 0,
             "ticks": ""
            },
            "type": "mesh3d"
           }
          ],
          "parcoords": [
           {
            "line": {
             "colorbar": {
              "outlinewidth": 0,
              "ticks": ""
             }
            },
            "type": "parcoords"
           }
          ],
          "pie": [
           {
            "automargin": true,
            "type": "pie"
           }
          ],
          "scatter": [
           {
            "fillpattern": {
             "fillmode": "overlay",
             "size": 10,
             "solidity": 0.2
            },
            "type": "scatter"
           }
          ],
          "scatter3d": [
           {
            "line": {
             "colorbar": {
              "outlinewidth": 0,
              "ticks": ""
             }
            },
            "marker": {
             "colorbar": {
              "outlinewidth": 0,
              "ticks": ""
             }
            },
            "type": "scatter3d"
           }
          ],
          "scattercarpet": [
           {
            "marker": {
             "colorbar": {
              "outlinewidth": 0,
              "ticks": ""
             }
            },
            "type": "scattercarpet"
           }
          ],
          "scattergeo": [
           {
            "marker": {
             "colorbar": {
              "outlinewidth": 0,
              "ticks": ""
             }
            },
            "type": "scattergeo"
           }
          ],
          "scattergl": [
           {
            "marker": {
             "colorbar": {
              "outlinewidth": 0,
              "ticks": ""
             }
            },
            "type": "scattergl"
           }
          ],
          "scattermapbox": [
           {
            "marker": {
             "colorbar": {
              "outlinewidth": 0,
              "ticks": ""
             }
            },
            "type": "scattermapbox"
           }
          ],
          "scatterpolar": [
           {
            "marker": {
             "colorbar": {
              "outlinewidth": 0,
              "ticks": ""
             }
            },
            "type": "scatterpolar"
           }
          ],
          "scatterpolargl": [
           {
            "marker": {
             "colorbar": {
              "outlinewidth": 0,
              "ticks": ""
             }
            },
            "type": "scatterpolargl"
           }
          ],
          "scatterternary": [
           {
            "marker": {
             "colorbar": {
              "outlinewidth": 0,
              "ticks": ""
             }
            },
            "type": "scatterternary"
           }
          ],
          "surface": [
           {
            "colorbar": {
             "outlinewidth": 0,
             "ticks": ""
            },
            "colorscale": [
             [
              0,
              "#0d0887"
             ],
             [
              0.1111111111111111,
              "#46039f"
             ],
             [
              0.2222222222222222,
              "#7201a8"
             ],
             [
              0.3333333333333333,
              "#9c179e"
             ],
             [
              0.4444444444444444,
              "#bd3786"
             ],
             [
              0.5555555555555556,
              "#d8576b"
             ],
             [
              0.6666666666666666,
              "#ed7953"
             ],
             [
              0.7777777777777778,
              "#fb9f3a"
             ],
             [
              0.8888888888888888,
              "#fdca26"
             ],
             [
              1,
              "#f0f921"
             ]
            ],
            "type": "surface"
           }
          ],
          "table": [
           {
            "cells": {
             "fill": {
              "color": "#EBF0F8"
             },
             "line": {
              "color": "white"
             }
            },
            "header": {
             "fill": {
              "color": "#C8D4E3"
             },
             "line": {
              "color": "white"
             }
            },
            "type": "table"
           }
          ]
         },
         "layout": {
          "annotationdefaults": {
           "arrowcolor": "#2a3f5f",
           "arrowhead": 0,
           "arrowwidth": 1
          },
          "autotypenumbers": "strict",
          "coloraxis": {
           "colorbar": {
            "outlinewidth": 0,
            "ticks": ""
           }
          },
          "colorscale": {
           "diverging": [
            [
             0,
             "#8e0152"
            ],
            [
             0.1,
             "#c51b7d"
            ],
            [
             0.2,
             "#de77ae"
            ],
            [
             0.3,
             "#f1b6da"
            ],
            [
             0.4,
             "#fde0ef"
            ],
            [
             0.5,
             "#f7f7f7"
            ],
            [
             0.6,
             "#e6f5d0"
            ],
            [
             0.7,
             "#b8e186"
            ],
            [
             0.8,
             "#7fbc41"
            ],
            [
             0.9,
             "#4d9221"
            ],
            [
             1,
             "#276419"
            ]
           ],
           "sequential": [
            [
             0,
             "#0d0887"
            ],
            [
             0.1111111111111111,
             "#46039f"
            ],
            [
             0.2222222222222222,
             "#7201a8"
            ],
            [
             0.3333333333333333,
             "#9c179e"
            ],
            [
             0.4444444444444444,
             "#bd3786"
            ],
            [
             0.5555555555555556,
             "#d8576b"
            ],
            [
             0.6666666666666666,
             "#ed7953"
            ],
            [
             0.7777777777777778,
             "#fb9f3a"
            ],
            [
             0.8888888888888888,
             "#fdca26"
            ],
            [
             1,
             "#f0f921"
            ]
           ],
           "sequentialminus": [
            [
             0,
             "#0d0887"
            ],
            [
             0.1111111111111111,
             "#46039f"
            ],
            [
             0.2222222222222222,
             "#7201a8"
            ],
            [
             0.3333333333333333,
             "#9c179e"
            ],
            [
             0.4444444444444444,
             "#bd3786"
            ],
            [
             0.5555555555555556,
             "#d8576b"
            ],
            [
             0.6666666666666666,
             "#ed7953"
            ],
            [
             0.7777777777777778,
             "#fb9f3a"
            ],
            [
             0.8888888888888888,
             "#fdca26"
            ],
            [
             1,
             "#f0f921"
            ]
           ]
          },
          "colorway": [
           "#636efa",
           "#EF553B",
           "#00cc96",
           "#ab63fa",
           "#FFA15A",
           "#19d3f3",
           "#FF6692",
           "#B6E880",
           "#FF97FF",
           "#FECB52"
          ],
          "font": {
           "color": "#2a3f5f"
          },
          "geo": {
           "bgcolor": "white",
           "lakecolor": "white",
           "landcolor": "#E5ECF6",
           "showlakes": true,
           "showland": true,
           "subunitcolor": "white"
          },
          "hoverlabel": {
           "align": "left"
          },
          "hovermode": "closest",
          "mapbox": {
           "style": "light"
          },
          "paper_bgcolor": "white",
          "plot_bgcolor": "#E5ECF6",
          "polar": {
           "angularaxis": {
            "gridcolor": "white",
            "linecolor": "white",
            "ticks": ""
           },
           "bgcolor": "#E5ECF6",
           "radialaxis": {
            "gridcolor": "white",
            "linecolor": "white",
            "ticks": ""
           }
          },
          "scene": {
           "xaxis": {
            "backgroundcolor": "#E5ECF6",
            "gridcolor": "white",
            "gridwidth": 2,
            "linecolor": "white",
            "showbackground": true,
            "ticks": "",
            "zerolinecolor": "white"
           },
           "yaxis": {
            "backgroundcolor": "#E5ECF6",
            "gridcolor": "white",
            "gridwidth": 2,
            "linecolor": "white",
            "showbackground": true,
            "ticks": "",
            "zerolinecolor": "white"
           },
           "zaxis": {
            "backgroundcolor": "#E5ECF6",
            "gridcolor": "white",
            "gridwidth": 2,
            "linecolor": "white",
            "showbackground": true,
            "ticks": "",
            "zerolinecolor": "white"
           }
          },
          "shapedefaults": {
           "line": {
            "color": "#2a3f5f"
           }
          },
          "ternary": {
           "aaxis": {
            "gridcolor": "white",
            "linecolor": "white",
            "ticks": ""
           },
           "baxis": {
            "gridcolor": "white",
            "linecolor": "white",
            "ticks": ""
           },
           "bgcolor": "#E5ECF6",
           "caxis": {
            "gridcolor": "white",
            "linecolor": "white",
            "ticks": ""
           }
          },
          "title": {
           "x": 0.05
          },
          "xaxis": {
           "automargin": true,
           "gridcolor": "white",
           "linecolor": "white",
           "ticks": "",
           "title": {
            "standoff": 15
           },
           "zerolinecolor": "white",
           "zerolinewidth": 2
          },
          "yaxis": {
           "automargin": true,
           "gridcolor": "white",
           "linecolor": "white",
           "ticks": "",
           "title": {
            "standoff": 15
           },
           "zerolinecolor": "white",
           "zerolinewidth": 2
          }
         }
        },
        "title": {
         "text": "Qubit Reset - Step 5 - full"
        },
        "width": 1000,
        "xaxis": {
         "anchor": "y",
         "domain": [
          0,
          1
         ],
         "hoverformat": ".3s",
         "showgrid": true,
         "tickformat": ".2s",
         "tickformatstops": [
          {
           "dtickrange": [
            null,
            1e-9
           ],
           "value": ".10s"
          },
          {
           "dtickrange": [
            1e-9,
            0.000001
           ],
           "value": ".7s"
          },
          {
           "dtickrange": [
            0.000001,
            0.001
           ],
           "value": ".4s"
          }
         ],
         "ticksuffix": "s",
         "title": {
          "text": "Time"
         }
        },
        "yaxis": {
         "anchor": "x",
         "autorange": true,
         "domain": [
          0,
          1
         ],
         "hoverformat": ".3s",
         "tickformat": ".2s",
         "ticksuffix": "V",
         "title": {
          "text": "flux"
         }
        }
       }
      },
      "text/html": [
       "<div>                            <div id=\"0a7f0194-52ab-4e0d-9b1e-473bfad7c5ec\" class=\"plotly-graph-div\" style=\"height:300px; width:1000px;\"></div>            <script type=\"text/javascript\">                require([\"plotly\"], function(Plotly) {                    window.PLOTLYENV=window.PLOTLYENV || {};                                    if (document.getElementById(\"0a7f0194-52ab-4e0d-9b1e-473bfad7c5ec\")) {                    Plotly.newPlot(                        \"0a7f0194-52ab-4e0d-9b1e-473bfad7c5ec\",                        [{\"fill\":\"tozeroy\",\"hoverinfo\":\"x+y+name\",\"hoverlabel\":{\"namelength\":-1},\"legendgroup\":\"1\",\"line\":{\"color\":\"#EF553B\"},\"mode\":\"lines\",\"name\":\"RampPulse, clock: q0.ro\",\"showlegend\":true,\"x\":[4e-6,4.0009999999999995e-6,4.001999999999999e-6,4.002999999999999e-6,4.0039999999999984e-6,4.004999999999998e-6,4.005999999999998e-6,4.006999999999997e-6,4.007999999999997e-6,4.008999999999997e-6,4.009999999999996e-6,4.010999999999996e-6,4.011999999999996e-6,4.012999999999995e-6,4.013999999999995e-6,4.014999999999995e-6,4.015999999999994e-6,4.016999999999994e-6,4.0179999999999935e-6,4.018999999999993e-6],\"y\":[-0.025,-0.025,-0.025,-0.025,-0.025,-0.025,-0.025,-0.025,-0.025,-0.025,-0.025,-0.025,-0.025,-0.025,-0.025,-0.025,-0.025,-0.025,-0.025,-0.025],\"type\":\"scatter\",\"xaxis\":\"x\",\"yaxis\":\"y\"},{\"fill\":\"tozeroy\",\"hoverinfo\":\"x+y+name\",\"hoverlabel\":{\"namelength\":-1},\"legendgroup\":\"2\",\"line\":{\"color\":\"#00CC96\"},\"mode\":\"lines\",\"name\":\"RampPulse, clock: q0.ro\",\"showlegend\":true,\"x\":[4.02e-6,4.020999999999999e-6,4.021999999999999e-6,4.022999999999999e-6,4.023999999999998e-6,4.024999999999998e-6,4.0259999999999975e-6,4.026999999999997e-6,4.027999999999997e-6,4.0289999999999965e-6,4.029999999999996e-6,4.030999999999996e-6,4.0319999999999954e-6,4.032999999999995e-6,4.033999999999995e-6,4.034999999999994e-6,4.035999999999994e-6,4.036999999999994e-6,4.037999999999993e-6,4.038999999999993e-6,4.039999999999993e-6,4.040999999999992e-6,4.041999999999992e-6,4.042999999999992e-6,4.043999999999991e-6,4.044999999999991e-6,4.0459999999999906e-6,4.04699999999999e-6,4.04799999999999e-6,4.0489999999999895e-6,4.049999999999989e-6,4.050999999999989e-6,4.0519999999999885e-6,4.052999999999988e-6,4.053999999999988e-6,4.0549999999999874e-6,4.055999999999987e-6,4.056999999999987e-6,4.057999999999986e-6,4.058999999999986e-6,4.059999999999986e-6,4.060999999999985e-6,4.061999999999985e-6,4.062999999999985e-6,4.063999999999984e-6,4.064999999999984e-6,4.065999999999984e-6,4.066999999999983e-6,4.067999999999983e-6,4.0689999999999826e-6,4.069999999999982e-6,4.070999999999982e-6,4.0719999999999815e-6,4.072999999999981e-6,4.073999999999981e-6,4.0749999999999805e-6,4.07599999999998e-6,4.07699999999998e-6,4.077999999999979e-6,4.078999999999979e-6,4.079999999999979e-6,4.080999999999978e-6,4.081999999999978e-6,4.082999999999978e-6,4.083999999999977e-6,4.084999999999977e-6,4.085999999999977e-6,4.086999999999976e-6,4.087999999999976e-6,4.088999999999976e-6,4.089999999999975e-6,4.090999999999975e-6,4.0919999999999745e-6,4.092999999999974e-6,4.093999999999974e-6,4.0949999999999735e-6,4.095999999999973e-6,4.096999999999973e-6,4.0979999999999725e-6,4.098999999999972e-6,4.099999999999972e-6,4.100999999999971e-6,4.101999999999971e-6,4.102999999999971e-6,4.10399999999997e-6,4.10499999999997e-6,4.10599999999997e-6,4.106999999999969e-6,4.107999999999969e-6,4.108999999999969e-6,4.109999999999968e-6,4.110999999999968e-6,4.1119999999999676e-6,4.112999999999967e-6,4.113999999999967e-6,4.1149999999999665e-6,4.115999999999966e-6,4.116999999999966e-6,4.1179999999999655e-6,4.118999999999965e-6,4.119999999999965e-6,4.1209999999999644e-6,4.121999999999964e-6,4.122999999999964e-6,4.123999999999963e-6,4.124999999999963e-6,4.125999999999963e-6,4.126999999999962e-6,4.127999999999962e-6,4.128999999999962e-6,4.129999999999961e-6,4.130999999999961e-6,4.131999999999961e-6,4.13299999999996e-6,4.13399999999996e-6,4.1349999999999596e-6,4.135999999999959e-6,4.136999999999959e-6,4.1379999999999585e-6,4.138999999999958e-6,4.139999999999958e-6,4.1409999999999575e-6,4.141999999999957e-6,4.142999999999957e-6,4.1439999999999564e-6,4.144999999999956e-6,4.145999999999956e-6,4.146999999999955e-6,4.147999999999955e-6,4.148999999999955e-6,4.149999999999954e-6,4.150999999999954e-6,4.151999999999954e-6,4.152999999999953e-6,4.153999999999953e-6,4.154999999999953e-6,4.155999999999952e-6,4.156999999999952e-6,4.1579999999999516e-6,4.158999999999951e-6,4.159999999999951e-6,4.1609999999999505e-6,4.16199999999995e-6,4.16299999999995e-6,4.1639999999999495e-6,4.164999999999949e-6,4.165999999999949e-6,4.166999999999948e-6,4.167999999999948e-6,4.168999999999948e-6,4.169999999999947e-6,4.170999999999947e-6,4.171999999999947e-6,4.172999999999946e-6,4.173999999999946e-6,4.174999999999946e-6,4.175999999999945e-6,4.176999999999945e-6,4.177999999999945e-6,4.178999999999944e-6,4.179999999999944e-6,4.1809999999999435e-6,4.181999999999943e-6,4.182999999999943e-6,4.1839999999999425e-6,4.184999999999942e-6,4.185999999999942e-6,4.1869999999999414e-6,4.187999999999941e-6,4.188999999999941e-6,4.18999999999994e-6,4.19099999999994e-6,4.19199999999994e-6,4.192999999999939e-6,4.193999999999939e-6,4.194999999999939e-6,4.195999999999938e-6,4.196999999999938e-6,4.197999999999938e-6,4.198999999999937e-6,4.199999999999937e-6,4.2009999999999366e-6,4.201999999999936e-6,4.202999999999936e-6,4.2039999999999355e-6,4.204999999999935e-6,4.205999999999935e-6,4.2069999999999345e-6,4.207999999999934e-6,4.208999999999934e-6,4.2099999999999334e-6,4.210999999999933e-6,4.211999999999933e-6,4.212999999999932e-6,4.213999999999932e-6,4.214999999999932e-6,4.215999999999931e-6,4.216999999999931e-6,4.217999999999931e-6,4.21899999999993e-6,4.21999999999993e-6,4.22099999999993e-6,4.221999999999929e-6,4.222999999999929e-6,4.2239999999999286e-6,4.224999999999928e-6,4.225999999999928e-6,4.2269999999999275e-6,4.227999999999927e-6,4.228999999999927e-6,4.2299999999999265e-6,4.230999999999926e-6,4.231999999999926e-6,4.232999999999925e-6,4.233999999999925e-6,4.234999999999925e-6,4.235999999999924e-6,4.236999999999924e-6,4.237999999999924e-6,4.238999999999923e-6,4.239999999999923e-6,4.240999999999923e-6,4.241999999999922e-6,4.242999999999922e-6,4.243999999999922e-6,4.244999999999921e-6,4.245999999999921e-6,4.2469999999999205e-6,4.24799999999992e-6,4.24899999999992e-6,4.2499999999999195e-6,4.250999999999919e-6,4.251999999999919e-6,4.2529999999999185e-6,4.253999999999918e-6,4.254999999999918e-6,4.255999999999917e-6,4.256999999999917e-6,4.257999999999917e-6,4.258999999999916e-6,4.259999999999916e-6,4.260999999999916e-6,4.261999999999915e-6,4.262999999999915e-6,4.263999999999915e-6,4.264999999999914e-6,4.265999999999914e-6,4.2669999999999136e-6,4.267999999999913e-6,4.268999999999913e-6,4.2699999999999125e-6],\"y\":[0.06,0.06,0.06,0.06,0.06,0.06,0.06,0.06,0.06,0.06,0.06,0.06,0.06,0.06,0.06,0.06,0.06,0.06,0.06,0.06,0.06,0.06,0.06,0.06,0.06,0.06,0.06,0.06,0.06,0.06,0.06,0.06,0.06,0.06,0.06,0.06,0.06,0.06,0.06,0.06,0.06,0.06,0.06,0.06,0.06,0.06,0.06,0.06,0.06,0.06,0.06,0.06,0.06,0.06,0.06,0.06,0.06,0.06,0.06,0.06,0.06,0.06,0.06,0.06,0.06,0.06,0.06,0.06,0.06,0.06,0.06,0.06,0.06,0.06,0.06,0.06,0.06,0.06,0.06,0.06,0.06,0.06,0.06,0.06,0.06,0.06,0.06,0.06,0.06,0.06,0.06,0.06,0.06,0.06,0.06,0.06,0.06,0.06,0.06,0.06,0.06,0.06,0.06,0.06,0.06,0.06,0.06,0.06,0.06,0.06,0.06,0.06,0.06,0.06,0.06,0.06,0.06,0.06,0.06,0.06,0.06,0.06,0.06,0.06,0.06,0.06,0.06,0.06,0.06,0.06,0.06,0.06,0.06,0.06,0.06,0.06,0.06,0.06,0.06,0.06,0.06,0.06,0.06,0.06,0.06,0.06,0.06,0.06,0.06,0.06,0.06,0.06,0.06,0.06,0.06,0.06,0.06,0.06,0.06,0.06,0.06,0.06,0.06,0.06,0.06,0.06,0.06,0.06,0.06,0.06,0.06,0.06,0.06,0.06,0.06,0.06,0.06,0.06,0.06,0.06,0.06,0.06,0.06,0.06,0.06,0.06,0.06,0.06,0.06,0.06,0.06,0.06,0.06,0.06,0.06,0.06,0.06,0.06,0.06,0.06,0.06,0.06,0.06,0.06,0.06,0.06,0.06,0.06,0.06,0.06,0.06,0.06,0.06,0.06,0.06,0.06,0.06,0.06,0.06,0.06,0.06,0.06,0.06,0.06,0.06,0.06,0.06,0.06,0.06,0.06,0.06,0.06,0.06,0.06,0.06,0.06,0.06,0.06,0.06,0.06,0.06,0.06,0.06,0.06,0.06,0.06,0.06,0.06,0.06,0.06,0.06],\"type\":\"scatter\",\"xaxis\":\"x\",\"yaxis\":\"y\"},{\"fill\":\"tozeroy\",\"hoverinfo\":\"x+y+name\",\"hoverlabel\":{\"namelength\":-1},\"legendgroup\":\"3\",\"line\":{\"color\":\"#AB63FA\"},\"mode\":\"lines\",\"name\":\"RampPulse, clock: q0.ro\",\"showlegend\":true,\"x\":[4.27e-6,4.2709999999999994e-6,4.271999999999999e-6,4.272999999999999e-6,4.273999999999998e-6,4.274999999999998e-6,4.275999999999998e-6,4.276999999999997e-6,4.277999999999997e-6,4.278999999999997e-6,4.279999999999996e-6,4.280999999999996e-6,4.281999999999996e-6,4.282999999999995e-6,4.283999999999995e-6,4.2849999999999945e-6,4.285999999999994e-6,4.286999999999994e-6,4.2879999999999935e-6,4.288999999999993e-6],\"y\":[-0.025,-0.02375,-0.022500000000000003,-0.02125,-0.02,-0.018750000000000003,-0.0175,-0.01625,-0.015000000000000001,-0.013750000000000002,-0.0125,-0.011250000000000001,-0.010000000000000002,-0.00875,-0.0075,-0.006250000000000002,-0.005000000000000001,-0.00375,-0.0025000000000000022,-0.0012500000000000011],\"type\":\"scatter\",\"xaxis\":\"x\",\"yaxis\":\"y\"},{\"fill\":\"tozeroy\",\"hoverinfo\":\"x+y+name\",\"hoverlabel\":{\"namelength\":-1},\"legendgroup\":\"4\",\"line\":{\"color\":\"#FFA15A\"},\"mode\":\"lines\",\"name\":\"RampPulse, clock: q0.ro\",\"showlegend\":true,\"x\":[4.29e-6,4.290999999999999e-6,4.291999999999999e-6,4.2929999999999985e-6,4.293999999999998e-6,4.294999999999998e-6,4.2959999999999975e-6,4.296999999999997e-6,4.297999999999997e-6,4.2989999999999964e-6,4.299999999999996e-6,4.300999999999996e-6,4.301999999999995e-6,4.302999999999995e-6,4.303999999999995e-6,4.304999999999994e-6,4.305999999999994e-6,4.306999999999994e-6,4.307999999999993e-6,4.308999999999993e-6,4.309999999999993e-6,4.310999999999992e-6,4.311999999999992e-6,4.3129999999999916e-6,4.313999999999991e-6,4.314999999999991e-6,4.3159999999999905e-6,4.31699999999999e-6,4.31799999999999e-6,4.3189999999999895e-6,4.319999999999989e-6,4.320999999999989e-6,4.3219999999999884e-6,4.322999999999988e-6,4.323999999999988e-6,4.324999999999987e-6,4.325999999999987e-6,4.326999999999987e-6,4.327999999999986e-6,4.328999999999986e-6,4.329999999999986e-6,4.330999999999985e-6,4.331999999999985e-6,4.332999999999985e-6,4.333999999999984e-6,4.334999999999984e-6,4.3359999999999836e-6,4.336999999999983e-6,4.337999999999983e-6,4.3389999999999825e-6,4.339999999999982e-6,4.340999999999982e-6,4.3419999999999815e-6,4.342999999999981e-6,4.343999999999981e-6,4.34499999999998e-6,4.34599999999998e-6,4.34699999999998e-6,4.347999999999979e-6,4.348999999999979e-6,4.349999999999979e-6,4.350999999999978e-6,4.351999999999978e-6,4.352999999999978e-6,4.353999999999977e-6,4.354999999999977e-6,4.355999999999977e-6,4.356999999999976e-6,4.357999999999976e-6,4.3589999999999755e-6,4.359999999999975e-6,4.360999999999975e-6,4.3619999999999745e-6,4.362999999999974e-6,4.363999999999974e-6,4.3649999999999735e-6,4.365999999999973e-6,4.366999999999973e-6,4.367999999999972e-6,4.368999999999972e-6,4.369999999999972e-6,4.370999999999971e-6,4.371999999999971e-6,4.372999999999971e-6,4.37399999999997e-6,4.37499999999997e-6,4.37599999999997e-6,4.376999999999969e-6,4.377999999999969e-6,4.378999999999969e-6,4.379999999999968e-6,4.380999999999968e-6,4.3819999999999675e-6,4.382999999999967e-6,4.383999999999967e-6,4.3849999999999665e-6,4.385999999999966e-6,4.386999999999966e-6,4.3879999999999654e-6,4.388999999999965e-6,4.389999999999965e-6,4.390999999999964e-6,4.391999999999964e-6,4.392999999999964e-6,4.393999999999963e-6,4.394999999999963e-6,4.395999999999963e-6,4.396999999999962e-6,4.397999999999962e-6,4.398999999999962e-6,4.399999999999961e-6,4.400999999999961e-6,4.4019999999999606e-6,4.40299999999996e-6,4.40399999999996e-6,4.4049999999999595e-6,4.405999999999959e-6,4.406999999999959e-6,4.4079999999999585e-6,4.408999999999958e-6,4.409999999999958e-6,4.4109999999999574e-6,4.411999999999957e-6,4.412999999999957e-6,4.413999999999956e-6,4.414999999999956e-6,4.415999999999956e-6,4.416999999999955e-6,4.417999999999955e-6,4.418999999999955e-6,4.419999999999954e-6,4.420999999999954e-6,4.421999999999954e-6,4.422999999999953e-6,4.423999999999953e-6,4.4249999999999526e-6,4.425999999999952e-6,4.426999999999952e-6,4.4279999999999515e-6,4.428999999999951e-6,4.429999999999951e-6,4.4309999999999505e-6,4.43199999999995e-6,4.43299999999995e-6,4.433999999999949e-6,4.434999999999949e-6,4.435999999999949e-6,4.436999999999948e-6,4.437999999999948e-6,4.438999999999948e-6,4.439999999999947e-6,4.440999999999947e-6,4.441999999999947e-6,4.442999999999946e-6,4.443999999999946e-6,4.444999999999946e-6,4.445999999999945e-6,4.446999999999945e-6,4.4479999999999445e-6,4.448999999999944e-6,4.449999999999944e-6,4.4509999999999435e-6,4.451999999999943e-6,4.452999999999943e-6,4.4539999999999424e-6,4.454999999999942e-6,4.455999999999942e-6,4.456999999999941e-6,4.457999999999941e-6,4.458999999999941e-6,4.45999999999994e-6,4.46099999999994e-6,4.46199999999994e-6,4.462999999999939e-6,4.463999999999939e-6,4.464999999999939e-6,4.465999999999938e-6,4.466999999999938e-6,4.4679999999999376e-6,4.468999999999937e-6,4.469999999999937e-6,4.4709999999999365e-6,4.471999999999936e-6,4.472999999999936e-6,4.4739999999999355e-6,4.474999999999935e-6,4.475999999999935e-6,4.4769999999999344e-6,4.477999999999934e-6,4.478999999999934e-6,4.479999999999933e-6,4.480999999999933e-6,4.481999999999933e-6,4.482999999999932e-6,4.483999999999932e-6,4.484999999999932e-6,4.485999999999931e-6,4.486999999999931e-6,4.487999999999931e-6,4.48899999999993e-6],\"y\":[0.05,0.05,0.05,0.05,0.05,0.05,0.05,0.05,0.05,0.05,0.05,0.05,0.05,0.05,0.05,0.05,0.05,0.05,0.05,0.05,0.05,0.05,0.05,0.05,0.05,0.05,0.05,0.05,0.05,0.05,0.05,0.05,0.05,0.05,0.05,0.05,0.05,0.05,0.05,0.05,0.05,0.05,0.05,0.05,0.05,0.05,0.05,0.05,0.05,0.05,0.05,0.05,0.05,0.05,0.05,0.05,0.05,0.05,0.05,0.05,0.05,0.05,0.05,0.05,0.05,0.05,0.05,0.05,0.05,0.05,0.05,0.05,0.05,0.05,0.05,0.05,0.05,0.05,0.05,0.05,0.05,0.05,0.05,0.05,0.05,0.05,0.05,0.05,0.05,0.05,0.05,0.05,0.05,0.05,0.05,0.05,0.05,0.05,0.05,0.05,0.05,0.05,0.05,0.05,0.05,0.05,0.05,0.05,0.05,0.05,0.05,0.05,0.05,0.05,0.05,0.05,0.05,0.05,0.05,0.05,0.05,0.05,0.05,0.05,0.05,0.05,0.05,0.05,0.05,0.05,0.05,0.05,0.05,0.05,0.05,0.05,0.05,0.05,0.05,0.05,0.05,0.05,0.05,0.05,0.05,0.05,0.05,0.05,0.05,0.05,0.05,0.05,0.05,0.05,0.05,0.05,0.05,0.05,0.05,0.05,0.05,0.05,0.05,0.05,0.05,0.05,0.05,0.05,0.05,0.05,0.05,0.05,0.05,0.05,0.05,0.05,0.05,0.05,0.05,0.05,0.05,0.05,0.05,0.05,0.05,0.05,0.05,0.05,0.05,0.05,0.05,0.05,0.05,0.05,0.05,0.05,0.05,0.05,0.05,0.05],\"type\":\"scatter\",\"xaxis\":\"x\",\"yaxis\":\"y\"},{\"fill\":\"tozeroy\",\"hoverinfo\":\"x+y+name\",\"hoverlabel\":{\"namelength\":-1},\"legendgroup\":\"5\",\"line\":{\"color\":\"#19D3F3\"},\"mode\":\"lines\",\"name\":\"RampPulse, clock: q0.ro\",\"showlegend\":true,\"x\":[4.489999999999999e-6,4.490999999999999e-6,4.491999999999999e-6,4.492999999999998e-6,4.493999999999998e-6,4.494999999999998e-6,4.495999999999997e-6,4.496999999999997e-6,4.4979999999999966e-6,4.498999999999996e-6,4.499999999999996e-6,4.5009999999999955e-6,4.501999999999995e-6,4.502999999999995e-6,4.5039999999999945e-6,4.504999999999994e-6,4.505999999999994e-6,4.5069999999999934e-6,4.507999999999993e-6,4.508999999999993e-6,4.509999999999992e-6,4.510999999999992e-6,4.511999999999992e-6,4.512999999999991e-6,4.513999999999991e-6,4.514999999999991e-6,4.51599999999999e-6,4.51699999999999e-6,4.51799999999999e-6,4.518999999999989e-6,4.519999999999989e-6,4.5209999999999886e-6,4.521999999999988e-6,4.522999999999988e-6,4.5239999999999875e-6,4.524999999999987e-6,4.525999999999987e-6,4.5269999999999865e-6,4.527999999999986e-6,4.528999999999986e-6,4.5299999999999854e-6,4.530999999999985e-6,4.531999999999985e-6,4.532999999999984e-6,4.533999999999984e-6,4.534999999999984e-6,4.535999999999983e-6,4.536999999999983e-6,4.537999999999983e-6,4.538999999999982e-6,4.539999999999982e-6,4.540999999999982e-6,4.541999999999981e-6,4.542999999999981e-6,4.5439999999999805e-6,4.54499999999998e-6,4.54599999999998e-6,4.5469999999999795e-6,4.547999999999979e-6,4.548999999999979e-6,4.5499999999999785e-6,4.550999999999978e-6,4.551999999999978e-6,4.552999999999977e-6,4.553999999999977e-6,4.554999999999977e-6,4.555999999999976e-6,4.556999999999976e-6,4.557999999999976e-6,4.558999999999975e-6,4.559999999999975e-6,4.560999999999975e-6,4.561999999999974e-6,4.562999999999974e-6,4.563999999999974e-6,4.564999999999973e-6,4.565999999999973e-6,4.5669999999999725e-6,4.567999999999972e-6,4.568999999999972e-6,4.5699999999999715e-6,4.570999999999971e-6,4.571999999999971e-6,4.5729999999999704e-6,4.57399999999997e-6,4.57499999999997e-6,4.575999999999969e-6,4.576999999999969e-6,4.577999999999969e-6,4.578999999999968e-6,4.579999999999968e-6,4.580999999999968e-6,4.581999999999967e-6,4.582999999999967e-6,4.583999999999967e-6,4.584999999999966e-6,4.585999999999966e-6,4.5869999999999656e-6,4.587999999999965e-6,4.588999999999965e-6,4.5899999999999645e-6,4.590999999999964e-6,4.591999999999964e-6,4.5929999999999635e-6,4.593999999999963e-6,4.594999999999963e-6,4.5959999999999624e-6,4.596999999999962e-6,4.597999999999962e-6,4.598999999999961e-6,4.599999999999961e-6,4.600999999999961e-6,4.60199999999996e-6,4.60299999999996e-6,4.60399999999996e-6,4.604999999999959e-6,4.605999999999959e-6,4.606999999999959e-6,4.607999999999958e-6,4.608999999999958e-6,4.6099999999999576e-6,4.610999999999957e-6,4.611999999999957e-6,4.6129999999999565e-6,4.613999999999956e-6,4.614999999999956e-6,4.6159999999999555e-6,4.616999999999955e-6,4.617999999999955e-6,4.618999999999954e-6,4.619999999999954e-6,4.620999999999954e-6,4.621999999999953e-6,4.622999999999953e-6,4.623999999999953e-6,4.624999999999952e-6,4.625999999999952e-6,4.626999999999952e-6,4.627999999999951e-6,4.628999999999951e-6,4.629999999999951e-6,4.63099999999995e-6,4.63199999999995e-6,4.6329999999999495e-6,4.633999999999949e-6,4.634999999999949e-6,4.6359999999999485e-6,4.636999999999948e-6,4.637999999999948e-6,4.6389999999999475e-6,4.639999999999947e-6,4.640999999999947e-6,4.641999999999946e-6,4.642999999999946e-6,4.643999999999946e-6,4.644999999999945e-6,4.645999999999945e-6,4.646999999999945e-6,4.647999999999944e-6,4.648999999999944e-6,4.649999999999944e-6,4.650999999999943e-6,4.651999999999943e-6,4.6529999999999426e-6,4.653999999999942e-6,4.654999999999942e-6,4.6559999999999415e-6,4.656999999999941e-6,4.657999999999941e-6,4.6589999999999405e-6,4.65999999999994e-6,4.66099999999994e-6,4.6619999999999394e-6,4.662999999999939e-6,4.663999999999939e-6,4.664999999999938e-6,4.665999999999938e-6,4.666999999999938e-6,4.667999999999937e-6,4.668999999999937e-6,4.669999999999937e-6,4.670999999999936e-6,4.671999999999936e-6,4.672999999999936e-6,4.673999999999935e-6,4.674999999999935e-6,4.6759999999999346e-6,4.676999999999934e-6,4.677999999999934e-6,4.6789999999999335e-6,4.679999999999933e-6,4.680999999999933e-6,4.6819999999999325e-6,4.682999999999932e-6,4.683999999999932e-6,4.6849999999999314e-6,4.685999999999931e-6,4.686999999999931e-6,4.68799999999993e-6,4.68899999999993e-6,4.68999999999993e-6,4.690999999999929e-6,4.691999999999929e-6,4.692999999999929e-6,4.693999999999928e-6,4.694999999999928e-6,4.695999999999928e-6,4.696999999999927e-6,4.697999999999927e-6,4.6989999999999265e-6,4.699999999999926e-6,4.700999999999926e-6,4.7019999999999255e-6,4.702999999999925e-6,4.703999999999925e-6,4.7049999999999245e-6,4.705999999999924e-6,4.706999999999924e-6,4.707999999999923e-6,4.708999999999923e-6,4.709999999999923e-6,4.710999999999922e-6,4.711999999999922e-6,4.712999999999922e-6,4.713999999999921e-6,4.714999999999921e-6,4.715999999999921e-6,4.71699999999992e-6,4.71799999999992e-6,4.71899999999992e-6,4.719999999999919e-6,4.720999999999919e-6,4.7219999999999185e-6,4.722999999999918e-6,4.723999999999918e-6,4.7249999999999175e-6,4.725999999999917e-6,4.726999999999917e-6,4.7279999999999164e-6,4.728999999999916e-6,4.729999999999916e-6,4.730999999999915e-6,4.731999999999915e-6,4.732999999999915e-6,4.733999999999914e-6,4.734999999999914e-6,4.735999999999914e-6,4.736999999999913e-6,4.737999999999913e-6,4.738999999999913e-6,4.739999999999912e-6],\"y\":[0.06,0.06,0.06,0.06,0.06,0.06,0.06,0.06,0.06,0.06,0.06,0.06,0.06,0.06,0.06,0.06,0.06,0.06,0.06,0.06,0.06,0.06,0.06,0.06,0.06,0.06,0.06,0.06,0.06,0.06,0.06,0.06,0.06,0.06,0.06,0.06,0.06,0.06,0.06,0.06,0.06,0.06,0.06,0.06,0.06,0.06,0.06,0.06,0.06,0.06,0.06,0.06,0.06,0.06,0.06,0.06,0.06,0.06,0.06,0.06,0.06,0.06,0.06,0.06,0.06,0.06,0.06,0.06,0.06,0.06,0.06,0.06,0.06,0.06,0.06,0.06,0.06,0.06,0.06,0.06,0.06,0.06,0.06,0.06,0.06,0.06,0.06,0.06,0.06,0.06,0.06,0.06,0.06,0.06,0.06,0.06,0.06,0.06,0.06,0.06,0.06,0.06,0.06,0.06,0.06,0.06,0.06,0.06,0.06,0.06,0.06,0.06,0.06,0.06,0.06,0.06,0.06,0.06,0.06,0.06,0.06,0.06,0.06,0.06,0.06,0.06,0.06,0.06,0.06,0.06,0.06,0.06,0.06,0.06,0.06,0.06,0.06,0.06,0.06,0.06,0.06,0.06,0.06,0.06,0.06,0.06,0.06,0.06,0.06,0.06,0.06,0.06,0.06,0.06,0.06,0.06,0.06,0.06,0.06,0.06,0.06,0.06,0.06,0.06,0.06,0.06,0.06,0.06,0.06,0.06,0.06,0.06,0.06,0.06,0.06,0.06,0.06,0.06,0.06,0.06,0.06,0.06,0.06,0.06,0.06,0.06,0.06,0.06,0.06,0.06,0.06,0.06,0.06,0.06,0.06,0.06,0.06,0.06,0.06,0.06,0.06,0.06,0.06,0.06,0.06,0.06,0.06,0.06,0.06,0.06,0.06,0.06,0.06,0.06,0.06,0.06,0.06,0.06,0.06,0.06,0.06,0.06,0.06,0.06,0.06,0.06,0.06,0.06,0.06,0.06,0.06,0.06,0.06,0.06,0.06,0.06,0.06,0.06,0.06,0.06,0.06,0.06,0.06,0.06,0.06,0.06,0.06,0.06,0.06,0.06,0.06],\"type\":\"scatter\",\"xaxis\":\"x\",\"yaxis\":\"y\"}],                        {\"template\":{\"data\":{\"histogram2dcontour\":[{\"type\":\"histogram2dcontour\",\"colorbar\":{\"outlinewidth\":0,\"ticks\":\"\"},\"colorscale\":[[0.0,\"#0d0887\"],[0.1111111111111111,\"#46039f\"],[0.2222222222222222,\"#7201a8\"],[0.3333333333333333,\"#9c179e\"],[0.4444444444444444,\"#bd3786\"],[0.5555555555555556,\"#d8576b\"],[0.6666666666666666,\"#ed7953\"],[0.7777777777777778,\"#fb9f3a\"],[0.8888888888888888,\"#fdca26\"],[1.0,\"#f0f921\"]]}],\"choropleth\":[{\"type\":\"choropleth\",\"colorbar\":{\"outlinewidth\":0,\"ticks\":\"\"}}],\"histogram2d\":[{\"type\":\"histogram2d\",\"colorbar\":{\"outlinewidth\":0,\"ticks\":\"\"},\"colorscale\":[[0.0,\"#0d0887\"],[0.1111111111111111,\"#46039f\"],[0.2222222222222222,\"#7201a8\"],[0.3333333333333333,\"#9c179e\"],[0.4444444444444444,\"#bd3786\"],[0.5555555555555556,\"#d8576b\"],[0.6666666666666666,\"#ed7953\"],[0.7777777777777778,\"#fb9f3a\"],[0.8888888888888888,\"#fdca26\"],[1.0,\"#f0f921\"]]}],\"heatmap\":[{\"type\":\"heatmap\",\"colorbar\":{\"outlinewidth\":0,\"ticks\":\"\"},\"colorscale\":[[0.0,\"#0d0887\"],[0.1111111111111111,\"#46039f\"],[0.2222222222222222,\"#7201a8\"],[0.3333333333333333,\"#9c179e\"],[0.4444444444444444,\"#bd3786\"],[0.5555555555555556,\"#d8576b\"],[0.6666666666666666,\"#ed7953\"],[0.7777777777777778,\"#fb9f3a\"],[0.8888888888888888,\"#fdca26\"],[1.0,\"#f0f921\"]]}],\"heatmapgl\":[{\"type\":\"heatmapgl\",\"colorbar\":{\"outlinewidth\":0,\"ticks\":\"\"},\"colorscale\":[[0.0,\"#0d0887\"],[0.1111111111111111,\"#46039f\"],[0.2222222222222222,\"#7201a8\"],[0.3333333333333333,\"#9c179e\"],[0.4444444444444444,\"#bd3786\"],[0.5555555555555556,\"#d8576b\"],[0.6666666666666666,\"#ed7953\"],[0.7777777777777778,\"#fb9f3a\"],[0.8888888888888888,\"#fdca26\"],[1.0,\"#f0f921\"]]}],\"contourcarpet\":[{\"type\":\"contourcarpet\",\"colorbar\":{\"outlinewidth\":0,\"ticks\":\"\"}}],\"contour\":[{\"type\":\"contour\",\"colorbar\":{\"outlinewidth\":0,\"ticks\":\"\"},\"colorscale\":[[0.0,\"#0d0887\"],[0.1111111111111111,\"#46039f\"],[0.2222222222222222,\"#7201a8\"],[0.3333333333333333,\"#9c179e\"],[0.4444444444444444,\"#bd3786\"],[0.5555555555555556,\"#d8576b\"],[0.6666666666666666,\"#ed7953\"],[0.7777777777777778,\"#fb9f3a\"],[0.8888888888888888,\"#fdca26\"],[1.0,\"#f0f921\"]]}],\"surface\":[{\"type\":\"surface\",\"colorbar\":{\"outlinewidth\":0,\"ticks\":\"\"},\"colorscale\":[[0.0,\"#0d0887\"],[0.1111111111111111,\"#46039f\"],[0.2222222222222222,\"#7201a8\"],[0.3333333333333333,\"#9c179e\"],[0.4444444444444444,\"#bd3786\"],[0.5555555555555556,\"#d8576b\"],[0.6666666666666666,\"#ed7953\"],[0.7777777777777778,\"#fb9f3a\"],[0.8888888888888888,\"#fdca26\"],[1.0,\"#f0f921\"]]}],\"mesh3d\":[{\"type\":\"mesh3d\",\"colorbar\":{\"outlinewidth\":0,\"ticks\":\"\"}}],\"scatter\":[{\"fillpattern\":{\"fillmode\":\"overlay\",\"size\":10,\"solidity\":0.2},\"type\":\"scatter\"}],\"parcoords\":[{\"type\":\"parcoords\",\"line\":{\"colorbar\":{\"outlinewidth\":0,\"ticks\":\"\"}}}],\"scatterpolargl\":[{\"type\":\"scatterpolargl\",\"marker\":{\"colorbar\":{\"outlinewidth\":0,\"ticks\":\"\"}}}],\"bar\":[{\"error_x\":{\"color\":\"#2a3f5f\"},\"error_y\":{\"color\":\"#2a3f5f\"},\"marker\":{\"line\":{\"color\":\"#E5ECF6\",\"width\":0.5},\"pattern\":{\"fillmode\":\"overlay\",\"size\":10,\"solidity\":0.2}},\"type\":\"bar\"}],\"scattergeo\":[{\"type\":\"scattergeo\",\"marker\":{\"colorbar\":{\"outlinewidth\":0,\"ticks\":\"\"}}}],\"scatterpolar\":[{\"type\":\"scatterpolar\",\"marker\":{\"colorbar\":{\"outlinewidth\":0,\"ticks\":\"\"}}}],\"histogram\":[{\"marker\":{\"pattern\":{\"fillmode\":\"overlay\",\"size\":10,\"solidity\":0.2}},\"type\":\"histogram\"}],\"scattergl\":[{\"type\":\"scattergl\",\"marker\":{\"colorbar\":{\"outlinewidth\":0,\"ticks\":\"\"}}}],\"scatter3d\":[{\"type\":\"scatter3d\",\"line\":{\"colorbar\":{\"outlinewidth\":0,\"ticks\":\"\"}},\"marker\":{\"colorbar\":{\"outlinewidth\":0,\"ticks\":\"\"}}}],\"scattermapbox\":[{\"type\":\"scattermapbox\",\"marker\":{\"colorbar\":{\"outlinewidth\":0,\"ticks\":\"\"}}}],\"scatterternary\":[{\"type\":\"scatterternary\",\"marker\":{\"colorbar\":{\"outlinewidth\":0,\"ticks\":\"\"}}}],\"scattercarpet\":[{\"type\":\"scattercarpet\",\"marker\":{\"colorbar\":{\"outlinewidth\":0,\"ticks\":\"\"}}}],\"carpet\":[{\"aaxis\":{\"endlinecolor\":\"#2a3f5f\",\"gridcolor\":\"white\",\"linecolor\":\"white\",\"minorgridcolor\":\"white\",\"startlinecolor\":\"#2a3f5f\"},\"baxis\":{\"endlinecolor\":\"#2a3f5f\",\"gridcolor\":\"white\",\"linecolor\":\"white\",\"minorgridcolor\":\"white\",\"startlinecolor\":\"#2a3f5f\"},\"type\":\"carpet\"}],\"table\":[{\"cells\":{\"fill\":{\"color\":\"#EBF0F8\"},\"line\":{\"color\":\"white\"}},\"header\":{\"fill\":{\"color\":\"#C8D4E3\"},\"line\":{\"color\":\"white\"}},\"type\":\"table\"}],\"barpolar\":[{\"marker\":{\"line\":{\"color\":\"#E5ECF6\",\"width\":0.5},\"pattern\":{\"fillmode\":\"overlay\",\"size\":10,\"solidity\":0.2}},\"type\":\"barpolar\"}],\"pie\":[{\"automargin\":true,\"type\":\"pie\"}]},\"layout\":{\"autotypenumbers\":\"strict\",\"colorway\":[\"#636efa\",\"#EF553B\",\"#00cc96\",\"#ab63fa\",\"#FFA15A\",\"#19d3f3\",\"#FF6692\",\"#B6E880\",\"#FF97FF\",\"#FECB52\"],\"font\":{\"color\":\"#2a3f5f\"},\"hovermode\":\"closest\",\"hoverlabel\":{\"align\":\"left\"},\"paper_bgcolor\":\"white\",\"plot_bgcolor\":\"#E5ECF6\",\"polar\":{\"bgcolor\":\"#E5ECF6\",\"angularaxis\":{\"gridcolor\":\"white\",\"linecolor\":\"white\",\"ticks\":\"\"},\"radialaxis\":{\"gridcolor\":\"white\",\"linecolor\":\"white\",\"ticks\":\"\"}},\"ternary\":{\"bgcolor\":\"#E5ECF6\",\"aaxis\":{\"gridcolor\":\"white\",\"linecolor\":\"white\",\"ticks\":\"\"},\"baxis\":{\"gridcolor\":\"white\",\"linecolor\":\"white\",\"ticks\":\"\"},\"caxis\":{\"gridcolor\":\"white\",\"linecolor\":\"white\",\"ticks\":\"\"}},\"coloraxis\":{\"colorbar\":{\"outlinewidth\":0,\"ticks\":\"\"}},\"colorscale\":{\"sequential\":[[0.0,\"#0d0887\"],[0.1111111111111111,\"#46039f\"],[0.2222222222222222,\"#7201a8\"],[0.3333333333333333,\"#9c179e\"],[0.4444444444444444,\"#bd3786\"],[0.5555555555555556,\"#d8576b\"],[0.6666666666666666,\"#ed7953\"],[0.7777777777777778,\"#fb9f3a\"],[0.8888888888888888,\"#fdca26\"],[1.0,\"#f0f921\"]],\"sequentialminus\":[[0.0,\"#0d0887\"],[0.1111111111111111,\"#46039f\"],[0.2222222222222222,\"#7201a8\"],[0.3333333333333333,\"#9c179e\"],[0.4444444444444444,\"#bd3786\"],[0.5555555555555556,\"#d8576b\"],[0.6666666666666666,\"#ed7953\"],[0.7777777777777778,\"#fb9f3a\"],[0.8888888888888888,\"#fdca26\"],[1.0,\"#f0f921\"]],\"diverging\":[[0,\"#8e0152\"],[0.1,\"#c51b7d\"],[0.2,\"#de77ae\"],[0.3,\"#f1b6da\"],[0.4,\"#fde0ef\"],[0.5,\"#f7f7f7\"],[0.6,\"#e6f5d0\"],[0.7,\"#b8e186\"],[0.8,\"#7fbc41\"],[0.9,\"#4d9221\"],[1,\"#276419\"]]},\"xaxis\":{\"gridcolor\":\"white\",\"linecolor\":\"white\",\"ticks\":\"\",\"title\":{\"standoff\":15},\"zerolinecolor\":\"white\",\"automargin\":true,\"zerolinewidth\":2},\"yaxis\":{\"gridcolor\":\"white\",\"linecolor\":\"white\",\"ticks\":\"\",\"title\":{\"standoff\":15},\"zerolinecolor\":\"white\",\"automargin\":true,\"zerolinewidth\":2},\"scene\":{\"xaxis\":{\"backgroundcolor\":\"#E5ECF6\",\"gridcolor\":\"white\",\"linecolor\":\"white\",\"showbackground\":true,\"ticks\":\"\",\"zerolinecolor\":\"white\",\"gridwidth\":2},\"yaxis\":{\"backgroundcolor\":\"#E5ECF6\",\"gridcolor\":\"white\",\"linecolor\":\"white\",\"showbackground\":true,\"ticks\":\"\",\"zerolinecolor\":\"white\",\"gridwidth\":2},\"zaxis\":{\"backgroundcolor\":\"#E5ECF6\",\"gridcolor\":\"white\",\"linecolor\":\"white\",\"showbackground\":true,\"ticks\":\"\",\"zerolinecolor\":\"white\",\"gridwidth\":2}},\"shapedefaults\":{\"line\":{\"color\":\"#2a3f5f\"}},\"annotationdefaults\":{\"arrowcolor\":\"#2a3f5f\",\"arrowhead\":0,\"arrowwidth\":1},\"geo\":{\"bgcolor\":\"white\",\"landcolor\":\"#E5ECF6\",\"subunitcolor\":\"white\",\"showland\":true,\"showlakes\":true,\"lakecolor\":\"white\"},\"title\":{\"x\":0.05},\"mapbox\":{\"style\":\"light\"}}},\"xaxis\":{\"anchor\":\"y\",\"domain\":[0.0,1.0],\"tickformat\":\".2s\",\"hoverformat\":\".3s\",\"ticksuffix\":\"s\",\"showgrid\":true,\"title\":{\"text\":\"Time\"},\"tickformatstops\":[{\"dtickrange\":[null,1e-9],\"value\":\".10s\"},{\"dtickrange\":[1e-9,1e-6],\"value\":\".7s\"},{\"dtickrange\":[1e-6,0.001],\"value\":\".4s\"}]},\"yaxis\":{\"anchor\":\"x\",\"domain\":[0.0,1.0],\"tickformat\":\".2s\",\"hoverformat\":\".3s\",\"ticksuffix\":\"V\",\"title\":{\"text\":\"flux\"},\"autorange\":true},\"height\":300,\"width\":1000,\"title\":{\"text\":\"Qubit Reset - Step 5 - full\"},\"showlegend\":false},                        {\"responsive\": true}                    ).then(function(){\n",
       "                            \n",
       "var gd = document.getElementById('0a7f0194-52ab-4e0d-9b1e-473bfad7c5ec');\n",
       "var x = new MutationObserver(function (mutations, observer) {{\n",
       "        var display = window.getComputedStyle(gd).display;\n",
       "        if (!display || display === 'none') {{\n",
       "            console.log([gd, 'removed!']);\n",
       "            Plotly.purge(gd);\n",
       "            observer.disconnect();\n",
       "        }}\n",
       "}});\n",
       "\n",
       "// Listen for the removal of the full notebook cells\n",
       "var notebookContainer = gd.closest('#notebook-container');\n",
       "if (notebookContainer) {{\n",
       "    x.observe(notebookContainer, {childList: true});\n",
       "}}\n",
       "\n",
       "// Listen for the clearing of the current output cell\n",
       "var outputEl = gd.closest('.output');\n",
       "if (outputEl) {{\n",
       "    x.observe(outputEl, {childList: true});\n",
       "}}\n",
       "\n",
       "                        })                };                });            </script>        </div>"
      ]
     },
     "metadata": {},
     "output_type": "display_data"
    }
   ],
   "source": [
    "# step 5\n",
    "\n",
    "sched = Schedule(\"Qubit Reset - Step 5 - full\")\n",
    "\n",
    "readout_clock = ClockResource(name=\"q0.ro\", freq=0e9)\n",
    "sched.add_resource(readout_clock)\n",
    "\n",
    "# qc_offset = -10\n",
    "# qc_duration = 0.06e-6\n",
    "# cr_duration = 0.25e-6\n",
    "# amp = duration / target_duration* offset\n",
    "start = sched.add(IdlePulse(duration=4e-6))\n",
    "\n",
    "\n",
    "qc_t = 20e-9\n",
    "qc_amp = -0.025\n",
    "\n",
    "sched.add(\n",
    "    RampPulse(offset=qc_amp, amp=0, duration=qc_t, port=\"flux\", clock=\"q0.ro\")\n",
    ")\n",
    "\n",
    "qc_t = 250e-9\n",
    "qc_amp = 0.06\n",
    "\n",
    "sched.add(\n",
    "    RampPulse(offset=qc_amp, amp=0, duration=qc_t, port=\"flux\", clock=\"q0.ro\")\n",
    ")\n",
    "\n",
    "qc_t = 20e-9\n",
    "qc_amp = -0.025\n",
    "\n",
    "sched.add(\n",
    "    RampPulse(offset=qc_amp, amp=-qc_amp, duration=qc_t, port=\"flux\", clock=\"q0.ro\")\n",
    ")\n",
    "\n",
    "# for e state\n",
    "qc_t = 200e-9\n",
    "qc_amp = 0.05\n",
    "\n",
    "sched.add(\n",
    "    RampPulse(offset=qc_amp, amp=0, duration=qc_t, port=\"flux\", clock=\"q0.ro\")\n",
    ")\n",
    "# for f state\n",
    "qc_t = 250e-9\n",
    "qc_amp = 0.06\n",
    "\n",
    "sched.add(\n",
    "    RampPulse(offset=qc_amp, amp=0, duration=qc_t, port=\"flux\", clock=\"q0.ro\")\n",
    ")\n",
    "\n",
    "\n",
    "\n",
    "comp_sched = device_compiler.compile(sched)\n",
    "comp_sched.plot_pulse_diagram(plot_backend=\"plotly\")"
   ]
  },
  {
   "cell_type": "code",
   "execution_count": null,
   "id": "db45399c",
   "metadata": {},
   "outputs": [],
   "source": [
    "\n",
    "# t = np.arange(0, 48.5e-9, 1e-9)\n",
    "\n",
    "\n",
    "# gaussian_pulse = sched.add(\n",
    "#     NumericalPulse(\n",
    "#         samples=0.2 * gaussian(len(t), std=0.12 * len(t)),  # Numerical pulses can be complex as well.\n",
    "#         t_samples=t,\n",
    "#         port=\"flux\",\n",
    "#         clock=\"q0.ro\",\n",
    "#     ),\n",
    "#     ref_pt=\"start\",\n",
    "#     rel_time=0e-9,\n",
    "# )"
   ]
  },
  {
   "cell_type": "code",
   "execution_count": 229,
   "id": "4c75f29b",
   "metadata": {},
   "outputs": [
    {
     "data": {
      "text/plain": [
       "[<matplotlib.lines.Line2D at 0x7f962f339280>]"
      ]
     },
     "execution_count": 229,
     "metadata": {},
     "output_type": "execute_result"
    },
    {
     "data": {
      "image/png": "[encoded data removed]",
      "text/plain": [
       "<Figure size 640x480 with 1 Axes>"
      ]
     },
     "metadata": {},
     "output_type": "display_data"
    }
   ],
   "source": [
    "duration = 100\n",
    "width = 10\n",
    "space = 4\n",
    "amp = 1\n",
    "t_total = duration+space*width\n",
    "tlist = np.arange(0,t_total,1)\n",
    "\n",
    "# Square pulse of length L and unit amplitude centered at x+L/2\n",
    "A = np.heaviside(tlist - space*width/2, 0) - np.heaviside(tlist - (duration+space*width/2), 0)\n",
    "\n",
    "# Gaussian with mean (x+L/2) and std 1\n",
    "f = np.exp(-pow(tlist-t_total/2,2)/(2*width**2))\n",
    "\n",
    "g = np.convolve(A, f, mode = 'same') * amp  / np.sum(f)\n",
    "plt.plot(tlist*1e-9, A, 'r')\n",
    "plt.plot(tlist*1e-9, f, 'b')\n",
    "plt.plot(tlist*1e-9, g, 'g')\n"
   ]
  },
  {
   "cell_type": "code",
   "execution_count": 228,
   "id": "c5d620ba",
   "metadata": {},
   "outputs": [
    {
     "ename": "NameError",
     "evalue": "name 'dt' is not defined",
     "output_type": "error",
     "traceback": [
      "\u001b[0;31m---------------------------------------------------------------------------\u001b[0m",
      "\u001b[0;31mNameError\u001b[0m                                 Traceback (most recent call last)",
      "Cell \u001b[0;32mIn[228], line 6\u001b[0m\n\u001b[1;32m      4\u001b[0m gauss \u001b[38;5;241m=\u001b[39m gaussian(w, std\u001b[38;5;241m=\u001b[39m \u001b[38;5;241m0.12\u001b[39m\u001b[38;5;241m*\u001b[39mw)\n\u001b[1;32m      5\u001b[0m square \u001b[38;5;241m=\u001b[39m [\u001b[38;5;241m0\u001b[39m]\u001b[38;5;241m*\u001b[39mw\u001b[38;5;241m+\u001b[39m[amp]\u001b[38;5;241m*\u001b[39m\u001b[38;5;28mint\u001b[39m(t)\u001b[38;5;241m+\u001b[39m[\u001b[38;5;241m0\u001b[39m]\u001b[38;5;241m*\u001b[39mw\n\u001b[0;32m----> 6\u001b[0m gauss_square \u001b[38;5;241m=\u001b[39m np\u001b[38;5;241m.\u001b[39mconvolve(gauss, square,mode \u001b[38;5;241m=\u001b[39m \u001b[38;5;124m'\u001b[39m\u001b[38;5;124msame\u001b[39m\u001b[38;5;124m'\u001b[39m) \u001b[38;5;241m*\u001b[39m \u001b[43mdt\u001b[49m \u001b[38;5;241m/\u001b[39m np\u001b[38;5;241m.\u001b[39msum(f)\n\u001b[1;32m      7\u001b[0m plt\u001b[38;5;241m.\u001b[39mplot(square)\n\u001b[1;32m      8\u001b[0m plt\u001b[38;5;241m.\u001b[39mplot(gauss_square)\n",
      "\u001b[0;31mNameError\u001b[0m: name 'dt' is not defined"
     ]
    }
   ],
   "source": [
    "t = 100\n",
    "w =20\n",
    "amp = 0.5\n",
    "gauss = gaussian(w, std= 0.12*w)\n",
    "square = [0]*w+[amp]*int(t)+[0]*w\n",
    "gauss_square = np.convolve(gauss, square,mode = 'same') * dt / np.sum(f)\n",
    "plt.plot(square)\n",
    "plt.plot(gauss_square)"
   ]
  },
  {
   "cell_type": "code",
   "execution_count": 85,
   "id": "238f38a2",
   "metadata": {},
   "outputs": [
    {
     "data": {
      "text/plain": [
       "[<matplotlib.lines.Line2D at 0x7f963e99e160>]"
      ]
     },
     "execution_count": 85,
     "metadata": {},
     "output_type": "execute_result"
    },
    {
     "data": {
      "image/png": "[encoded data removed]",
      "text/plain": [
       "<Figure size 640x480 with 1 Axes>"
      ]
     },
     "metadata": {},
     "output_type": "display_data"
    }
   ],
   "source": []
  },
  {
   "cell_type": "code",
   "execution_count": null,
   "id": "a0ec62b5",
   "metadata": {},
   "outputs": [],
   "source": []
  }
 ],
 "metadata": {
  "file_format": "mystnb",
  "kernelspec": {
   "display_name": "python3",
   "name": "python3"
  },
  "language_info": {
   "codemirror_mode": {
    "name": "ipython",
    "version": 3
   },
   "file_extension": ".py",
   "mimetype": "text/x-python",
   "name": "python",
   "nbconvert_exporter": "python",
   "pygments_lexer": "ipython3",
   "version": "3.9.18"
  },
  "source_map": [
   6,
   21,
   30,
   38,
   49,
   53,
   63,
   67,
   77,
   83,
   87,
   93,
   105,
   111,
   126,
   137,
   173
  ]
 },
 "nbformat": 4,
 "nbformat_minor": 5
}
